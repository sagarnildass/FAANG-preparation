{
 "cells": [
  {
   "cell_type": "code",
   "execution_count": 10,
   "id": "6e685743",
   "metadata": {},
   "outputs": [],
   "source": [
    "class Node:\n",
    "    def __init__(self, val: int):\n",
    "        self.left = None\n",
    "        self.right = None\n",
    "        self.val = val\n",
    "\n",
    "    def __repr__(self):\n",
    "        return str(self.val)\n",
    "\n",
    "    def insert_node(self, val):\n",
    "        if self.val is not None:\n",
    "            if val < self.val:\n",
    "                if self.left is None:\n",
    "                    self.left = Node(val)\n",
    "                else:\n",
    "                    self.left.insert_node(val)\n",
    "            elif val > self.val:\n",
    "                if self.right is None:\n",
    "                    self.right = Node(val)\n",
    "                else:\n",
    "                    self.right.insert_node(val)\n",
    "\n",
    "    @staticmethod\n",
    "    def insert_nodes(vals: list, root):\n",
    "        for i in vals:\n",
    "            root.insert_node(i)\n",
    "\n",
    "    def bfs(self, root=None):\n",
    "        if root is None:\n",
    "            return\n",
    "        result = []\n",
    "        queue = [root]\n",
    "\n",
    "        while len(queue) > 0:\n",
    "            cur_node = queue.pop(0)\n",
    "            result.append(cur_node.val)\n",
    "            if cur_node.left is not None:\n",
    "                queue.append(cur_node.left)\n",
    "\n",
    "            if cur_node.right is not None:\n",
    "                queue.append(cur_node.right)\n",
    "\n",
    "            #print(queue)\n",
    "        return result\n",
    "    \n",
    "    def DFSInorder(self, root=None):\n",
    "        return self.traverseInOrder(root, [])\n",
    "    \n",
    "    def DFSPostOrder(self, root=None):\n",
    "        return self.traversePostOrder(root, [])\n",
    "    \n",
    "    def DFSPreOrder(self, root=None):\n",
    "        return self.traversePreOrder(root, [])\n",
    "    \n",
    "    def traverseInOrder(self, node, data):\n",
    "        if node.left is not None:\n",
    "            node.traverseInOrder(node.left, data)\n",
    "        data.append(node.val)\n",
    "        \n",
    "        if node.right is not None:\n",
    "            node.traverseInOrder(node.right, data)\n",
    "        #print(data)\n",
    "        return data\n",
    "    \n",
    "    def traversePostOrder(self, node, data):\n",
    "        \n",
    "        if node.left is not None:\n",
    "            node.traversePostOrder(node.left, data)\n",
    "              \n",
    "        if node.right is not None:\n",
    "            node.traversePostOrder(node.right, data)\n",
    "        #print(data)\n",
    "        data.append(node.val)\n",
    "        return data\n",
    "    \n",
    "    def traversePreOrder(self, node, data):\n",
    "        data.append(node.val)\n",
    "        if node.left is not None:\n",
    "            node.traversePreOrder(node.left, data)\n",
    "        \n",
    "        \n",
    "        if node.right is not None:\n",
    "            node.traversePreOrder(node.right, data)\n",
    "        #print(data)\n",
    "        return data\n",
    "    \n",
    "#       9\n",
    "#    4     20\n",
    "#  1  6  15   170\n",
    "\n",
    "def run():\n",
    "    root = Node(9)\n",
    "    root.insert_nodes([4,6,20,170,15,1], root)\n",
    "    bfs_result = root.bfs(root=root)\n",
    "    dfs_inorder = root.DFSInorder(root)\n",
    "    dfs_preorder = root.DFSPreOrder(root)\n",
    "    dfs_postorder = root.DFSPostOrder(root)\n",
    "    return root, bfs_result, dfs_inorder, dfs_preorder, dfs_postorder\n",
    "\n",
    "root, bfs_result, dfs_inorder, dfs_preorder, dfs_postorder = run()"
   ]
  },
  {
   "cell_type": "markdown",
   "id": "fb8a64c5",
   "metadata": {},
   "source": [
    "## 52. Closest Binary Tree Search Value"
   ]
  },
  {
   "cell_type": "code",
   "execution_count": 4,
   "id": "adb43434",
   "metadata": {},
   "outputs": [],
   "source": [
    "# Trick : key=lambda x:(abs(target - x), x)\n",
    "def closestValue(root, target):\n",
    "    closest = root.val\n",
    "    \n",
    "    while root:\n",
    "        closest = min(closest, root.val, key=lambda x:(abs(target - x), x))\n",
    "        root = root.left if root.val > target else root.right\n",
    "    return closest"
   ]
  },
  {
   "cell_type": "code",
   "execution_count": 5,
   "id": "0495624c",
   "metadata": {},
   "outputs": [
    {
     "data": {
      "text/plain": [
       "4"
      ]
     },
     "execution_count": 5,
     "metadata": {},
     "output_type": "execute_result"
    }
   ],
   "source": [
    "closestValue(root, 5)"
   ]
  },
  {
   "cell_type": "markdown",
   "id": "12185800",
   "metadata": {},
   "source": [
    "## 53. Random Pick Index"
   ]
  },
  {
   "cell_type": "code",
   "execution_count": 10,
   "id": "ea1a1cf4",
   "metadata": {},
   "outputs": [],
   "source": [
    "import random\n",
    "# Trick: Reservoir Sampling\n",
    "class Solution:\n",
    "    def __init__(self, nums):\n",
    "        self.nums = nums\n",
    "    def pick(self, target):\n",
    "        count = 0\n",
    "        result = -1\n",
    "        \n",
    "        for i in range(len(self.nums)):\n",
    "            if self.nums[i] == target:\n",
    "                count += 1\n",
    "                \n",
    "                if random.randint(1, count) == 1:\n",
    "                    result = i\n",
    "        return result"
   ]
  },
  {
   "cell_type": "code",
   "execution_count": 11,
   "id": "3b0db4f7",
   "metadata": {},
   "outputs": [
    {
     "name": "stdout",
     "output_type": "stream",
     "text": [
      "3\n",
      "0\n",
      "2\n",
      "1\n"
     ]
    }
   ],
   "source": [
    "solution = Solution([1, 2, 3, 3, 3])\n",
    "print(solution.pick(3))\n",
    "print(solution.pick(1))\n",
    "print(solution.pick(3))\n",
    "print(solution.pick(2))\n"
   ]
  },
  {
   "cell_type": "markdown",
   "id": "ff0d3c9f",
   "metadata": {},
   "source": [
    "## 54. Merge Strings alternatively"
   ]
  },
  {
   "cell_type": "code",
   "execution_count": 13,
   "id": "b60056ef",
   "metadata": {},
   "outputs": [],
   "source": [
    "def mergeAlternately(word1, word2):\n",
    "    result = []\n",
    "    \n",
    "    p1 = 0\n",
    "    p2 = 0\n",
    "    \n",
    "    while p1 < len(word1) or p2 < len(word2):\n",
    "        if p1 < len(word1):\n",
    "            result.append(word1[p1])\n",
    "            p1 += 1\n",
    "        if p2 < len(word2):\n",
    "            result.append(word2[p2])\n",
    "            p2 += 1\n",
    "    return \"\".join(result)"
   ]
  },
  {
   "cell_type": "code",
   "execution_count": 14,
   "id": "19b956c8",
   "metadata": {},
   "outputs": [
    {
     "data": {
      "text/plain": [
       "'apbqcd'"
      ]
     },
     "execution_count": 14,
     "metadata": {},
     "output_type": "execute_result"
    }
   ],
   "source": [
    "word1 = \"abcd\"\n",
    "word2 = \"pq\"\n",
    "mergeAlternately(word1, word2)"
   ]
  },
  {
   "cell_type": "markdown",
   "id": "eaffa032",
   "metadata": {},
   "source": [
    "## 55. Valid Parenthesis"
   ]
  },
  {
   "cell_type": "code",
   "execution_count": 21,
   "id": "11cfeaeb",
   "metadata": {},
   "outputs": [],
   "source": [
    "# Trick: return not stack\n",
    "def isValid(s):\n",
    "    parens = {\n",
    "        '(': ')',\n",
    "        '{': '}',\n",
    "        '[': ']'\n",
    "    }\n",
    "    \n",
    "    stack = []\n",
    "    \n",
    "    for i in range(len(s)):\n",
    "        if s[i] in parens:\n",
    "            stack.append(s[i])\n",
    "        else:\n",
    "            if len(stack) == 0:\n",
    "                return False\n",
    "            else:\n",
    "                left_bracket = stack.pop()\n",
    "            correct_bracket = parens[left_bracket]\n",
    "            if s[i] != correct_bracket:\n",
    "                return False\n",
    "    return not stack\n",
    "                "
   ]
  },
  {
   "cell_type": "code",
   "execution_count": 22,
   "id": "b55175eb",
   "metadata": {},
   "outputs": [
    {
     "data": {
      "text/plain": [
       "True"
      ]
     },
     "execution_count": 22,
     "metadata": {},
     "output_type": "execute_result"
    }
   ],
   "source": [
    "s = \"()[]{}\"\n",
    "isValid(s)"
   ]
  },
  {
   "cell_type": "code",
   "execution_count": 23,
   "id": "87722e20",
   "metadata": {},
   "outputs": [
    {
     "data": {
      "text/plain": [
       "False"
      ]
     },
     "execution_count": 23,
     "metadata": {},
     "output_type": "execute_result"
    }
   ],
   "source": [
    "s = \"(]\"\n",
    "isValid(s)"
   ]
  },
  {
   "cell_type": "markdown",
   "id": "6576b93c",
   "metadata": {},
   "source": [
    "## 56. Missing Ranges"
   ]
  },
  {
   "cell_type": "code",
   "execution_count": 28,
   "id": "5acb9cc9",
   "metadata": {},
   "outputs": [],
   "source": [
    "def findMissingRanges(nums, lower, upper):\n",
    "    prev = lower - 1\n",
    "    nums.append(upper + 1)\n",
    "    \n",
    "    result = []\n",
    "    \n",
    "    for num in nums:\n",
    "        if num - prev > 1:\n",
    "            result.append([prev + 1, num - 1])\n",
    "        prev = num\n",
    "    return result"
   ]
  },
  {
   "cell_type": "code",
   "execution_count": 35,
   "id": "1d71e34e",
   "metadata": {},
   "outputs": [
    {
     "data": {
      "text/plain": [
       "[[2, 2], [4, 49], [51, 74], [76, 99]]"
      ]
     },
     "execution_count": 35,
     "metadata": {},
     "output_type": "execute_result"
    }
   ],
   "source": [
    "nums = [0,1,3,50,75] \n",
    "lower = 0\n",
    "upper = 99\n",
    "\n",
    "findMissingRanges(nums, lower, upper)"
   ]
  },
  {
   "cell_type": "markdown",
   "id": "f8b32bd6",
   "metadata": {},
   "source": [
    "## 57. Toeplitz Matrix"
   ]
  },
  {
   "cell_type": "code",
   "execution_count": 36,
   "id": "045908c9",
   "metadata": {},
   "outputs": [],
   "source": [
    "from collections import defaultdict\n",
    "\n",
    "def isToeplitzMatrix(matrix):\n",
    "    hash_map = defaultdict(set)\n",
    "    \n",
    "    for row in range(len(matrix)):\n",
    "        for col in range(len(matrix[0])):\n",
    "            hash_map[row - col].add(matrix[row][col])\n",
    "    \n",
    "    for key in hash_map.keys():\n",
    "        if len(hash_map[key]) > 1:\n",
    "            return False\n",
    "    return True"
   ]
  },
  {
   "cell_type": "code",
   "execution_count": 37,
   "id": "cd1d0289",
   "metadata": {},
   "outputs": [
    {
     "data": {
      "text/plain": [
       "True"
      ]
     },
     "execution_count": 37,
     "metadata": {},
     "output_type": "execute_result"
    }
   ],
   "source": [
    "matrix = [[1,2,3,4],[5,1,2,3],[9,5,1,2]]\n",
    "isToeplitzMatrix(matrix)"
   ]
  },
  {
   "cell_type": "markdown",
   "id": "e2575fe8",
   "metadata": {},
   "source": [
    "## 58. Continuous Subarray sum"
   ]
  },
  {
   "cell_type": "code",
   "execution_count": 38,
   "id": "617e73ad",
   "metadata": {},
   "outputs": [],
   "source": [
    "def checkSubarraySum(nums, k):\n",
    "    mod_map = {0: -1}\n",
    "    prefix_sum = 0\n",
    "    \n",
    "    for i in range(len(nums)):\n",
    "        prefix_sum += nums[i]\n",
    "        \n",
    "        remainder = prefix_sum % k if k != 0 else prefix_sum\n",
    "        \n",
    "        if remainder in mod_map:\n",
    "            if i - mod_map[remainder] >= 2:\n",
    "                return True\n",
    "        else:\n",
    "            mod_map[remainder] = i\n",
    "    return False"
   ]
  },
  {
   "cell_type": "code",
   "execution_count": 41,
   "id": "7f86d5ea",
   "metadata": {},
   "outputs": [
    {
     "data": {
      "text/plain": [
       "True"
      ]
     },
     "execution_count": 41,
     "metadata": {},
     "output_type": "execute_result"
    }
   ],
   "source": [
    "# {0: -1, 5: 0, 1: 1, 5: 2}\n",
    "nums = [23, 2, 4, 6, 7]\n",
    "k = 6\n",
    "checkSubarraySum(nums, k)"
   ]
  },
  {
   "cell_type": "markdown",
   "id": "3aa38b86",
   "metadata": {},
   "source": [
    "## 59. Group Shifted Strings"
   ]
  },
  {
   "cell_type": "code",
   "execution_count": 42,
   "id": "910b120b",
   "metadata": {},
   "outputs": [],
   "source": [
    "def groupStrings(strings):\n",
    "    def get_pattern(s):\n",
    "        return tuple((ord(s[i]) - ord(s[i - 1])) % 26 for i in range(1, len(s)))\n",
    "    \n",
    "    pattern_map = defaultdict(list)\n",
    "    \n",
    "    for string in strings:\n",
    "        pattern = get_pattern(string)\n",
    "        pattern_map[pattern].append(string)\n",
    "    return list(pattern_map.values())"
   ]
  },
  {
   "cell_type": "code",
   "execution_count": 43,
   "id": "d3293a5e",
   "metadata": {},
   "outputs": [
    {
     "data": {
      "text/plain": [
       "[['abc', 'bcd', 'xyz'], ['acef'], ['az', 'ba'], ['a', 'z']]"
      ]
     },
     "execution_count": 43,
     "metadata": {},
     "output_type": "execute_result"
    }
   ],
   "source": [
    "strings = [\"abc\",\"bcd\",\"acef\",\"xyz\",\"az\",\"ba\",\"a\",\"z\"]\n",
    "\n",
    "groupStrings(strings)"
   ]
  },
  {
   "cell_type": "markdown",
   "id": "27079323",
   "metadata": {},
   "source": [
    "## 60. Palindrome Number"
   ]
  },
  {
   "cell_type": "code",
   "execution_count": 44,
   "id": "ae64ad63",
   "metadata": {},
   "outputs": [],
   "source": [
    "def isPalindrome(x):\n",
    "    if x < 0 or (x % 10 == 0 and x != 0):\n",
    "        return False\n",
    "    \n",
    "    reversed_half = 0\n",
    "    \n",
    "    while x > reversed_half:\n",
    "        reversed_half = reversed_half * 10 + x % 10\n",
    "        x = x // 10\n",
    "    \n",
    "    return x == reversed_half or x == reversed_half // 10"
   ]
  },
  {
   "cell_type": "code",
   "execution_count": 47,
   "id": "18c928e4",
   "metadata": {},
   "outputs": [
    {
     "data": {
      "text/plain": [
       "True"
      ]
     },
     "execution_count": 47,
     "metadata": {},
     "output_type": "execute_result"
    }
   ],
   "source": [
    "x = 1221\n",
    "isPalindrome(x)"
   ]
  },
  {
   "cell_type": "markdown",
   "id": "23d4a386",
   "metadata": {},
   "source": [
    "## 61. Course Schedule"
   ]
  },
  {
   "cell_type": "code",
   "execution_count": 48,
   "id": "715ce1df",
   "metadata": {},
   "outputs": [],
   "source": [
    "def canFinishTopological(numCourses, prerequisites):\n",
    "    adj_list = [[] for _ in range(numCourses)]\n",
    "    \n",
    "    inDegrees = [0] * numCourses\n",
    "    \n",
    "    for i in range(len(prerequisites)):\n",
    "        pair = prerequisites[i]\n",
    "        adj_list[pair[1]].append(pair[0])\n",
    "        inDegrees[pair[0]] += 1\n",
    "        \n",
    "    count = 0\n",
    "    queue = []\n",
    "    \n",
    "    for i in range(len(inDegrees)):\n",
    "        if inDegrees[i] == 0:\n",
    "            queue.append(i)\n",
    "            \n",
    "    while queue:\n",
    "        curr_node = queue.pop(0)\n",
    "        \n",
    "        count += 1\n",
    "        \n",
    "        adjacent = adj_list[curr_node]\n",
    "        \n",
    "        for i in range(len(adjacent)):\n",
    "            next_node = adjacent[i]\n",
    "            inDegrees[next_node] -= 1\n",
    "            \n",
    "            if inDegrees[next_node] == 0:\n",
    "                queue.append(next_node)\n",
    "    return count == numCourses"
   ]
  },
  {
   "cell_type": "code",
   "execution_count": 49,
   "id": "f07a6c83",
   "metadata": {},
   "outputs": [
    {
     "data": {
      "text/plain": [
       "True"
      ]
     },
     "execution_count": 49,
     "metadata": {},
     "output_type": "execute_result"
    }
   ],
   "source": [
    "numCourses = 6\n",
    "prerequisites = [[1,0], [2,1], [2,5], [0,3], [4,3], [3,5], [4,5]]\n",
    "canFinishTopological(numCourses, prerequisites)"
   ]
  },
  {
   "cell_type": "code",
   "execution_count": 50,
   "id": "59273053",
   "metadata": {},
   "outputs": [
    {
     "data": {
      "text/plain": [
       "False"
      ]
     },
     "execution_count": 50,
     "metadata": {},
     "output_type": "execute_result"
    }
   ],
   "source": [
    "numCourses = 2\n",
    "prerequisites = [[1,0],[0,1]]\n",
    "canFinishTopological(numCourses, prerequisites)"
   ]
  },
  {
   "cell_type": "markdown",
   "id": "3b810999",
   "metadata": {},
   "source": [
    "## 62. Remove all adjacent duplicates in a string"
   ]
  },
  {
   "cell_type": "code",
   "execution_count": 51,
   "id": "aa0fc9e6",
   "metadata": {},
   "outputs": [],
   "source": [
    "def removeDuplicates(s):\n",
    "    stack = []\n",
    "    \n",
    "    for ch in s:\n",
    "        if stack and ch == stack[-1]:\n",
    "            stack.pop()\n",
    "        else:\n",
    "            stack.append(ch)\n",
    "    return \"\".join(stack)"
   ]
  },
  {
   "cell_type": "code",
   "execution_count": 52,
   "id": "697ab5fe",
   "metadata": {},
   "outputs": [
    {
     "data": {
      "text/plain": [
       "'ca'"
      ]
     },
     "execution_count": 52,
     "metadata": {},
     "output_type": "execute_result"
    }
   ],
   "source": [
    "s = \"abbaca\"\n",
    "removeDuplicates(s)"
   ]
  },
  {
   "cell_type": "markdown",
   "id": "63a6dac6",
   "metadata": {},
   "source": [
    "## 63. Letter Combinations of a phone number"
   ]
  },
  {
   "cell_type": "code",
   "execution_count": 55,
   "id": "e93e6fbc",
   "metadata": {},
   "outputs": [],
   "source": [
    "from collections import deque\n",
    "def letterCombinations(digits: str):\n",
    "    if digits == \"\":\n",
    "        return []\n",
    "\n",
    "    d = {1: '', 2: 'abc',3: 'def',4: 'ghi',5: 'jkl',6: 'mno',7: 'pqrs',8: 'tuv',9: 'wxyz'}\n",
    "    \n",
    "    queue = deque(d[int(digits[0])])\n",
    "    \n",
    "    for i in range(1, len(digits)):\n",
    "        s = len(queue)\n",
    "        \n",
    "        while s:\n",
    "            curr_digit = queue.popleft()\n",
    "            \n",
    "            for j in d[int(digits[i])]:\n",
    "                queue.append(curr_digit + j)\n",
    "            s -= 1\n",
    "    return list(queue)"
   ]
  },
  {
   "cell_type": "code",
   "execution_count": 56,
   "id": "74fcc6c9",
   "metadata": {},
   "outputs": [
    {
     "data": {
      "text/plain": [
       "['ad', 'ae', 'af', 'bd', 'be', 'bf', 'cd', 'ce', 'cf']"
      ]
     },
     "execution_count": 56,
     "metadata": {},
     "output_type": "execute_result"
    }
   ],
   "source": [
    "digits = \"23\"\n",
    "letterCombinations(digits)"
   ]
  },
  {
   "cell_type": "markdown",
   "id": "c9dfd1f8",
   "metadata": {},
   "source": [
    "## 64. Check Completeness of a binary tree"
   ]
  },
  {
   "cell_type": "code",
   "execution_count": 57,
   "id": "45e3cf17",
   "metadata": {},
   "outputs": [],
   "source": [
    "def isCompleteTree(root):\n",
    "    if not root:\n",
    "        return True\n",
    "    \n",
    "    queue = [root]\n",
    "    null_node_found = False\n",
    "    \n",
    "    while queue:\n",
    "        curr_node = queue.pop(0)\n",
    "        \n",
    "        if not curr_node:\n",
    "            null_node_found = True\n",
    "        else:\n",
    "            if null_node_found:\n",
    "                return False\n",
    "            queue.append(curr_node.left)\n",
    "            queue.append(curr_node.right)\n",
    "    return True"
   ]
  },
  {
   "cell_type": "code",
   "execution_count": 58,
   "id": "387a5658",
   "metadata": {},
   "outputs": [
    {
     "data": {
      "text/plain": [
       "True"
      ]
     },
     "execution_count": 58,
     "metadata": {},
     "output_type": "execute_result"
    }
   ],
   "source": [
    "isCompleteTree(root)"
   ]
  },
  {
   "cell_type": "markdown",
   "id": "15f93e1a",
   "metadata": {},
   "source": [
    "## 65. Goat Latin"
   ]
  },
  {
   "cell_type": "code",
   "execution_count": 59,
   "id": "d7f0afd1",
   "metadata": {},
   "outputs": [],
   "source": [
    "def toGoatLatin(sentence):\n",
    "    vowels = set('aeiouAEIOU')\n",
    "    goat_latin_words = []\n",
    "    words = sentence.split()\n",
    "    \n",
    "    for idx, word in enumerate(words):\n",
    "        if word[0] in vowels:\n",
    "            goat_word = word + 'ma'\n",
    "        else:\n",
    "            goat_word = word[1:] + word[0] + 'ma'\n",
    "        \n",
    "        goat_word += 'a' * (idx + 1)\n",
    "        \n",
    "        goat_latin_words.append(goat_word)\n",
    "    return \" \".join(goat_latin_words)"
   ]
  },
  {
   "cell_type": "code",
   "execution_count": 60,
   "id": "f2caa45a",
   "metadata": {},
   "outputs": [
    {
     "data": {
      "text/plain": [
       "'Imaa peaksmaaa oatGmaaaa atinLmaaaaa'"
      ]
     },
     "execution_count": 60,
     "metadata": {},
     "output_type": "execute_result"
    }
   ],
   "source": [
    "sentence = \"I speak Goat Latin\"\n",
    "toGoatLatin(sentence)"
   ]
  },
  {
   "cell_type": "markdown",
   "id": "68bc5f08",
   "metadata": {},
   "source": [
    "## 66. Majority Element"
   ]
  },
  {
   "cell_type": "code",
   "execution_count": 72,
   "id": "af022d86",
   "metadata": {},
   "outputs": [],
   "source": [
    "## Trick: Boyer Moore Voting Algorithm\n",
    "def majorityElement(nums):\n",
    "    count = 0\n",
    "    candidate = None\n",
    "    \n",
    "    for num in nums:\n",
    "        if count == 0:\n",
    "            candidate = num\n",
    "            \n",
    "        count += 1 if num == candidate else -1\n",
    "    return candidate"
   ]
  },
  {
   "cell_type": "code",
   "execution_count": 62,
   "id": "e23c2cd0",
   "metadata": {},
   "outputs": [
    {
     "data": {
      "text/plain": [
       "3"
      ]
     },
     "execution_count": 62,
     "metadata": {},
     "output_type": "execute_result"
    }
   ],
   "source": [
    "nums = [3,2,3]\n",
    "majorityElement(nums)"
   ]
  },
  {
   "cell_type": "markdown",
   "id": "3a2ed87b",
   "metadata": {},
   "source": [
    "## 67. Longest Substring without repeating characters"
   ]
  },
  {
   "cell_type": "code",
   "execution_count": 67,
   "id": "46d335d3",
   "metadata": {},
   "outputs": [],
   "source": [
    "def lengthOfLongestSubstring(s):\n",
    "    if len(s) <= 1:\n",
    "        return len(s)\n",
    "    \n",
    "    seen_chars = {}\n",
    "    left = 0\n",
    "    longest = 0\n",
    "    \n",
    "    for right in range(len(s)):\n",
    "        current_char = s[right]\n",
    "        prev_seen_char = -1\n",
    "        \n",
    "        if current_char in seen_chars:\n",
    "            prev_seen_char = seen_chars[current_char]\n",
    "        \n",
    "        if prev_seen_char >= left:\n",
    "            left = prev_seen_char + 1\n",
    "        \n",
    "        seen_chars[current_char] = right\n",
    "        \n",
    "        longest = max(longest, right - left + 1)\n",
    "        \n",
    "    return longest"
   ]
  },
  {
   "cell_type": "code",
   "execution_count": 68,
   "id": "be327d47",
   "metadata": {},
   "outputs": [
    {
     "data": {
      "text/plain": [
       "3"
      ]
     },
     "execution_count": 68,
     "metadata": {},
     "output_type": "execute_result"
    }
   ],
   "source": [
    "s = \"abcabcbb\"\n",
    "lengthOfLongestSubstring(s)"
   ]
  },
  {
   "cell_type": "markdown",
   "id": "a3729ab7",
   "metadata": {},
   "source": [
    "## 68. String to Integer"
   ]
  },
  {
   "cell_type": "code",
   "execution_count": 70,
   "id": "2b75a1a4",
   "metadata": {},
   "outputs": [],
   "source": [
    "def myAtoi(s):\n",
    "    n = len(s) - 1\n",
    "    result = 0\n",
    "    index = 0\n",
    "    sign = 1\n",
    "    \n",
    "    INT_MAX = 2**31 - 1\n",
    "    INT_MIN = -2**31\n",
    "    \n",
    "    while index <= n and s[index] == \" \":\n",
    "        index += 1\n",
    "        \n",
    "    if index <= n and s[index] == \"+\":\n",
    "        index += 1\n",
    "        sign = 1\n",
    "    elif index <= n and s[index] == '-':\n",
    "        index += 1\n",
    "        sign = -1\n",
    "        \n",
    "    while index <= n and s[index].isdigit():\n",
    "        digit = int(s[index])\n",
    "        \n",
    "        if (result > INT_MAX // 10) or (result == INT_MAX // 10 and digit > INT_MAX % 10):\n",
    "            return INT_MAX if sign == 1 else INT_MIN\n",
    "        \n",
    "        result = result * 10 + digit\n",
    "        index += 1\n",
    "    return result * sign\n",
    "        "
   ]
  },
  {
   "cell_type": "code",
   "execution_count": 71,
   "id": "125aec33",
   "metadata": {},
   "outputs": [
    {
     "data": {
      "text/plain": [
       "-42"
      ]
     },
     "execution_count": 71,
     "metadata": {},
     "output_type": "execute_result"
    }
   ],
   "source": [
    "s = \" -042\"\n",
    "myAtoi(s)"
   ]
  },
  {
   "cell_type": "markdown",
   "id": "69d96192",
   "metadata": {},
   "source": [
    "## 69. Palindromic Substrings"
   ]
  },
  {
   "cell_type": "code",
   "execution_count": 73,
   "id": "4a770e1c",
   "metadata": {},
   "outputs": [],
   "source": [
    "## Trick: Expand around the center\n",
    "\n",
    "def countSubstrings(s):\n",
    "    def findPalindromeAroundCenter(ss, low, high):\n",
    "        count = 0\n",
    "        \n",
    "        while low >= 0 and high < len(ss):\n",
    "            if s[low] != s[high]:\n",
    "                break\n",
    "            low -= 1\n",
    "            high += 1\n",
    "            count += 1\n",
    "        return count\n",
    "    \n",
    "    ans = 0\n",
    "    \n",
    "    for i in range(len(s)):\n",
    "        ans += findPalindromeAroundCenter(s, i, i)\n",
    "        ans += findPalindromeAroundCenter(s, i, i + 1)\n",
    "    return ans"
   ]
  },
  {
   "cell_type": "code",
   "execution_count": 74,
   "id": "921d2dce",
   "metadata": {},
   "outputs": [
    {
     "data": {
      "text/plain": [
       "3"
      ]
     },
     "execution_count": 74,
     "metadata": {},
     "output_type": "execute_result"
    }
   ],
   "source": [
    "s = \"abc\"\n",
    "countSubstrings(s)"
   ]
  },
  {
   "cell_type": "markdown",
   "id": "20a45b0b",
   "metadata": {},
   "source": [
    "## 70. Trapping rain water"
   ]
  },
  {
   "cell_type": "code",
   "execution_count": 81,
   "id": "77b10154",
   "metadata": {},
   "outputs": [],
   "source": [
    "def trap(height):\n",
    "    left = 0 \n",
    "    right = len(height) - 1\n",
    "    max_left = 0\n",
    "    max_right = 0\n",
    "    total_water = 0\n",
    "    \n",
    "    while left < right:\n",
    "        if height[left] < height[right]:\n",
    "            if height[left] < max_left:\n",
    "                total_water += max_left - height[left]\n",
    "            else:\n",
    "                max_left = height[left]\n",
    "            left += 1\n",
    "        else:\n",
    "            if height[right] < max_right:\n",
    "                total_water += max_right - height[right]\n",
    "            else:\n",
    "                max_right = height[right]\n",
    "            right -= 1\n",
    "    return total_water"
   ]
  },
  {
   "cell_type": "code",
   "execution_count": 82,
   "id": "0c94782b",
   "metadata": {},
   "outputs": [
    {
     "data": {
      "text/plain": [
       "6"
      ]
     },
     "execution_count": 82,
     "metadata": {},
     "output_type": "execute_result"
    }
   ],
   "source": [
    "height = [0,1,0,2,1,0,1,3,2,1,2,1]\n",
    "trap(height)"
   ]
  },
  {
   "cell_type": "code",
   "execution_count": 83,
   "id": "aea275c4",
   "metadata": {},
   "outputs": [],
   "source": [
    "## Brute force\n",
    "def trap(height):\n",
    "    total_water = 0\n",
    "    \n",
    "    for p in range(len(height)):\n",
    "        left = p\n",
    "        right = p\n",
    "        max_left = 0\n",
    "        max_right = 0\n",
    "        \n",
    "        while left >= 0:\n",
    "            max_left = max(max_left, height[left])\n",
    "            left -= 1\n",
    "        \n",
    "        while right <= len(height) - 1:\n",
    "            max_right = max(max_right, height[right])\n",
    "            right += 1\n",
    "        \n",
    "        current_water = min(max_left, max_right) - height[p]\n",
    "        \n",
    "        if current_water > 0:\n",
    "            total_water += current_water\n",
    "        \n",
    "    return total_water"
   ]
  },
  {
   "cell_type": "markdown",
   "id": "b167bc9c",
   "metadata": {},
   "source": [
    "## 71. Binary Tree max path sum"
   ]
  },
  {
   "cell_type": "code",
   "execution_count": 84,
   "id": "bf710ee4",
   "metadata": {},
   "outputs": [],
   "source": [
    "def maxPathSum(root):\n",
    "    max_path = float('-inf')\n",
    "    \n",
    "    def gain_from_subtree(node):\n",
    "        if not node:\n",
    "            return 0\n",
    "        \n",
    "        nonlocal max_path\n",
    "        \n",
    "        gain_from_left = max(gain_from_subtree(node.left), 0)\n",
    "        gain_from_right = max(gain_from_subtree(node.right), 0)\n",
    "        \n",
    "        max_path = max(max_path, gain_from_left + gain_from_right + node.val)\n",
    "        return max(gain_from_left + node.val, gain_from_right + node.val)\n",
    "    \n",
    "    gain_from_subtree(root)\n",
    "    return max_path\n",
    "        "
   ]
  },
  {
   "cell_type": "markdown",
   "id": "0cdbe935",
   "metadata": {},
   "source": [
    "## 72. Rotate image"
   ]
  },
  {
   "cell_type": "code",
   "execution_count": 87,
   "id": "b24ab99d",
   "metadata": {},
   "outputs": [],
   "source": [
    "def rotate(matrix):\n",
    "    transpose(matrix)\n",
    "    reflect(matrix)\n",
    "    \n",
    "def transpose(matrix):\n",
    "    for i in range(len(matrix)):\n",
    "        for j in range(i + 1, len(matrix)):\n",
    "            matrix[i][j], matrix[j][i] = matrix[j][i], matrix[i][j]\n",
    "\n",
    "def reflect(matrix):\n",
    "    for i in range(len(matrix)):\n",
    "        for j in range(len(matrix) // 2):\n",
    "            matrix[i][j], matrix[i][-j - 1] = matrix[i][-j - 1], matrix[i][j]"
   ]
  },
  {
   "cell_type": "code",
   "execution_count": 88,
   "id": "15bd3d6f",
   "metadata": {},
   "outputs": [
    {
     "name": "stdout",
     "output_type": "stream",
     "text": [
      "[[7, 4, 1], [8, 5, 2], [9, 6, 3]]\n"
     ]
    }
   ],
   "source": [
    "matrix = [[1,2,3],[4,5,6],[7,8,9]]\n",
    "rotate(matrix)\n",
    "print(matrix)"
   ]
  },
  {
   "cell_type": "markdown",
   "id": "9222314c",
   "metadata": {},
   "source": [
    "## 73. Contains duplicate"
   ]
  },
  {
   "cell_type": "code",
   "execution_count": 89,
   "id": "e5b43e60",
   "metadata": {},
   "outputs": [],
   "source": [
    "def containsNearbyDuplicate(nums, k):\n",
    "    hash_map = {}\n",
    "    \n",
    "    for idx, val in enumerate(nums):\n",
    "        if val in hash_map and idx - hash_map[val] <= k:\n",
    "            return True\n",
    "        hash_map[val] = idx\n",
    "    return False"
   ]
  },
  {
   "cell_type": "code",
   "execution_count": 90,
   "id": "da3cbc41",
   "metadata": {},
   "outputs": [
    {
     "data": {
      "text/plain": [
       "True"
      ]
     },
     "execution_count": 90,
     "metadata": {},
     "output_type": "execute_result"
    }
   ],
   "source": [
    "nums = [1,2,3,1]\n",
    "k = 3\n",
    "containsNearbyDuplicate(nums, k)"
   ]
  },
  {
   "cell_type": "markdown",
   "id": "0eedfd01",
   "metadata": {},
   "source": [
    "## 74. Meeting rooms"
   ]
  },
  {
   "cell_type": "code",
   "execution_count": 93,
   "id": "26fa9afb",
   "metadata": {},
   "outputs": [],
   "source": [
    "import heapq\n",
    "\n",
    "def minMeetingRooms(intervals):\n",
    "    if not intervals:\n",
    "        return 0\n",
    "    \n",
    "    free_rooms = []\n",
    "    \n",
    "    intervals.sort(key = lambda x:x[0])\n",
    "    \n",
    "    heapq.heappush(free_rooms, intervals[0][1])\n",
    "    \n",
    "    for i in intervals[1:]:\n",
    "        if i[0] >= free_rooms[0]:\n",
    "            heapq.heappop(free_rooms)\n",
    "        heapq.heappush(free_rooms, i[1])\n",
    "    \n",
    "    return len(free_rooms)"
   ]
  },
  {
   "cell_type": "code",
   "execution_count": 94,
   "id": "72ae7b38",
   "metadata": {},
   "outputs": [
    {
     "data": {
      "text/plain": [
       "2"
      ]
     },
     "execution_count": 94,
     "metadata": {},
     "output_type": "execute_result"
    }
   ],
   "source": [
    "intervals = [[0,30],[5,10],[15,20]]\n",
    "minMeetingRooms(intervals)"
   ]
  },
  {
   "cell_type": "markdown",
   "id": "bcca3cb4",
   "metadata": {},
   "source": [
    "## 75. Generate Parenthesis"
   ]
  },
  {
   "cell_type": "code",
   "execution_count": 98,
   "id": "28796999",
   "metadata": {},
   "outputs": [],
   "source": [
    "def generateParenthesis(n):\n",
    "    res = []\n",
    "    \n",
    "    def dfs(left, right, s):\n",
    "        if len(s) == n * 2:\n",
    "            res.append(s)\n",
    "            return\n",
    "        \n",
    "        if left < n:\n",
    "            dfs(left + 1, right, s + '(')\n",
    "        \n",
    "        if right < left:\n",
    "            dfs(left, right + 1, s + ')')\n",
    "    \n",
    "    dfs(0, 0, '')\n",
    "    return res"
   ]
  },
  {
   "cell_type": "code",
   "execution_count": 99,
   "id": "06a0ece2",
   "metadata": {},
   "outputs": [
    {
     "data": {
      "text/plain": [
       "['((()))', '(()())', '(())()', '()(())', '()()()']"
      ]
     },
     "execution_count": 99,
     "metadata": {},
     "output_type": "execute_result"
    }
   ],
   "source": [
    "n = 3\n",
    "generateParenthesis(n)"
   ]
  },
  {
   "cell_type": "markdown",
   "id": "d3064651",
   "metadata": {},
   "source": [
    "## 76. Remove duplicates from sorted array"
   ]
  },
  {
   "cell_type": "code",
   "execution_count": 102,
   "id": "2aea1286",
   "metadata": {},
   "outputs": [],
   "source": [
    "def removeDuplicates(nums):\n",
    "    insert_index = 1\n",
    "    \n",
    "    for i in range(1, len(nums)):\n",
    "        if nums[i] != nums[i - 1]:\n",
    "            nums[insert_index] = nums[i]\n",
    "            insert_index += 1\n",
    "    return insert_index"
   ]
  },
  {
   "cell_type": "code",
   "execution_count": 103,
   "id": "05a34f2e",
   "metadata": {},
   "outputs": [
    {
     "data": {
      "text/plain": [
       "2"
      ]
     },
     "execution_count": 103,
     "metadata": {},
     "output_type": "execute_result"
    }
   ],
   "source": [
    "nums = [1,1,2]\n",
    "removeDuplicates(nums)"
   ]
  },
  {
   "cell_type": "markdown",
   "id": "0ae6c8d1",
   "metadata": {},
   "source": [
    "## 77. Insert Delete Get Random O(1)"
   ]
  },
  {
   "cell_type": "code",
   "execution_count": 109,
   "id": "a15fd554",
   "metadata": {},
   "outputs": [],
   "source": [
    "from random import choice\n",
    "# [1, 2, 3]\n",
    "# {1: 0, 2: 1, 3: 2}\n",
    "# val = 2\n",
    "# last_element = 3, idx = 1\n",
    "# self.list[idx] = last_element ==> [1, 3, 3] ==> self.list.pop() ==> [1, 3]\n",
    "# self.dict[last_element] = idx ==> {1:0, 2:1, 3:1} ==> del self.dict[val] ==> {1:0, 3:1}\n",
    "\n",
    "class RandomizedSet():\n",
    "    def __init__(self):\n",
    "        self.dict = {}\n",
    "        self.list = []\n",
    "        \n",
    "    def insert(self, val):\n",
    "        if val in self.dict:\n",
    "            return False\n",
    "        \n",
    "        self.dict[val] = len(self.list)\n",
    "        self.list.append(val)\n",
    "        return True\n",
    "    \n",
    "    def remove(self, val):\n",
    "        if val in self.dict:\n",
    "            last_element, idx = self.list[-1], self.dict[val]\n",
    "            self.list[idx] = last_element\n",
    "            self.dict[last_element] = idx\n",
    "            self.list.pop()\n",
    "            del self.dict[val]\n",
    "            return True\n",
    "        return False\n",
    "    \n",
    "    def getRandom(self):\n",
    "        return choice(self.list)"
   ]
  },
  {
   "cell_type": "code",
   "execution_count": 110,
   "id": "ee473038",
   "metadata": {},
   "outputs": [
    {
     "name": "stdout",
     "output_type": "stream",
     "text": [
      "True\n",
      "False\n",
      "True\n",
      "2\n"
     ]
    }
   ],
   "source": [
    "randomizedSet = RandomizedSet()\n",
    "print(randomizedSet.insert(1))\n",
    "print(randomizedSet.remove(2))\n",
    "print(randomizedSet.insert(2))\n",
    "print(randomizedSet.getRandom())"
   ]
  },
  {
   "cell_type": "markdown",
   "id": "ac6a87e3",
   "metadata": {},
   "source": [
    "## 78. Product of array except self"
   ]
  },
  {
   "cell_type": "code",
   "execution_count": 111,
   "id": "980bfb0e",
   "metadata": {},
   "outputs": [],
   "source": [
    "def productExceptSelf(nums):\n",
    "    n = len(nums)\n",
    "    \n",
    "    left, right, ans = [0] * n, [0] * n, [0] * n\n",
    "    \n",
    "    left[0] = 1\n",
    "    \n",
    "    for i in range(1, n):\n",
    "        left[i] = left[i - 1] * nums[i - 1]\n",
    "    \n",
    "    right[n - 1] = 1\n",
    "    \n",
    "    for i in reversed(range(n - 1)):\n",
    "        right[i] = right[i + 1] * nums[i + 1]\n",
    "        \n",
    "    for i in range(len(nums)):\n",
    "        ans[i] = left[i] * right[i]\n",
    "        \n",
    "    return ans"
   ]
  },
  {
   "cell_type": "code",
   "execution_count": 112,
   "id": "2347f912",
   "metadata": {},
   "outputs": [
    {
     "data": {
      "text/plain": [
       "[24, 12, 8, 6]"
      ]
     },
     "execution_count": 112,
     "metadata": {},
     "output_type": "execute_result"
    }
   ],
   "source": [
    "nums = [1,2,3,4]\n",
    "productExceptSelf(nums)"
   ]
  },
  {
   "cell_type": "markdown",
   "id": "9a21db0b",
   "metadata": {},
   "source": [
    "## 79. Koko eating bananas"
   ]
  },
  {
   "cell_type": "code",
   "execution_count": 113,
   "id": "93c1837d",
   "metadata": {},
   "outputs": [],
   "source": [
    "import math\n",
    "def minEatingSpeed(piles, h):\n",
    "    left = 1\n",
    "    right = max(piles)\n",
    "    \n",
    "    while left < right:\n",
    "        mid = (left + right) // 2\n",
    "        \n",
    "        time_taken = 0\n",
    "        \n",
    "        for pile in piles:\n",
    "            time_taken += math.ceil(pile / mid)\n",
    "        \n",
    "        if time_taken <= h:\n",
    "            right = mid\n",
    "        else:\n",
    "            left = mid + 1\n",
    "    return left\n",
    "        "
   ]
  },
  {
   "cell_type": "code",
   "execution_count": 114,
   "id": "a61d87ed",
   "metadata": {},
   "outputs": [
    {
     "data": {
      "text/plain": [
       "4"
      ]
     },
     "execution_count": 114,
     "metadata": {},
     "output_type": "execute_result"
    }
   ],
   "source": [
    "piles = [3,6,7,11]\n",
    "h = 8\n",
    "minEatingSpeed(piles, h)"
   ]
  },
  {
   "cell_type": "markdown",
   "id": "510e573f",
   "metadata": {},
   "source": [
    "## 80. Diagonal Traverse II"
   ]
  },
  {
   "cell_type": "code",
   "execution_count": 116,
   "id": "c4622098",
   "metadata": {},
   "outputs": [],
   "source": [
    "from collections import defaultdict\n",
    "def findDiagonalOrder(nums):\n",
    "\n",
    "    diagonal_map = defaultdict(list)\n",
    "    \n",
    "    for row in range(len(nums) - 1, -1, -1):\n",
    "        for col in range(len(nums[row])):\n",
    "            diagonal_map[row + col].append(nums[row][col])\n",
    "            \n",
    "    result = []\n",
    "    \n",
    "    curr = 0\n",
    "    \n",
    "    while curr in diagonal_map:\n",
    "        result.extend(diagonal_map[curr])\n",
    "        curr += 1\n",
    "    return result"
   ]
  },
  {
   "cell_type": "code",
   "execution_count": 117,
   "id": "b9147d84",
   "metadata": {},
   "outputs": [
    {
     "data": {
      "text/plain": [
       "[1, 4, 2, 7, 5, 3, 8, 6, 9]"
      ]
     },
     "execution_count": 117,
     "metadata": {},
     "output_type": "execute_result"
    }
   ],
   "source": [
    "nums = [[1,2,3],[4,5,6],[7,8,9]]\n",
    "findDiagonalOrder(nums)"
   ]
  },
  {
   "cell_type": "markdown",
   "id": "450de7fc",
   "metadata": {},
   "source": [
    "## 81. Merge two sorted Linked Lists"
   ]
  },
  {
   "cell_type": "code",
   "execution_count": 118,
   "id": "d331a9ed",
   "metadata": {},
   "outputs": [],
   "source": [
    "def mergeTwoLists(list1, list2):\n",
    "    dummy = ListNode(0)\n",
    "    prev = dummy\n",
    "    \n",
    "    while list1 and list2:\n",
    "        if list1.val <= list2.val:\n",
    "            prev.next = list1\n",
    "            list1 = list1.next\n",
    "        else:\n",
    "            prev.next = list2\n",
    "            list2 = list2.next\n",
    "        prev = prev.next\n",
    "    \n",
    "    prev.next = list1 if list1 else list2\n",
    "    return dummy.next"
   ]
  },
  {
   "cell_type": "markdown",
   "id": "bf0caa8e",
   "metadata": {},
   "source": [
    "## 82. Longest consecutive sequence"
   ]
  },
  {
   "cell_type": "code",
   "execution_count": 119,
   "id": "b5d5cce9",
   "metadata": {},
   "outputs": [],
   "source": [
    "def longestConsecutive(nums):\n",
    "    nums_set = set(nums)\n",
    "    longest_streak = 0\n",
    "    \n",
    "    for num in nums_set:\n",
    "        if num - 1 not in nums_set:\n",
    "            current_num = num\n",
    "            current_streak = 1\n",
    "            \n",
    "        while current_num + 1 in nums_set:\n",
    "            current_streak += 1\n",
    "            current_num += 1\n",
    "        longest_streak = max(longest_streak, current_streak)\n",
    "    return longest_streak"
   ]
  },
  {
   "cell_type": "code",
   "execution_count": 120,
   "id": "9209b858",
   "metadata": {},
   "outputs": [
    {
     "data": {
      "text/plain": [
       "4"
      ]
     },
     "execution_count": 120,
     "metadata": {},
     "output_type": "execute_result"
    }
   ],
   "source": [
    "nums = [100,4,200,1,3,2]\n",
    "longestConsecutive(nums)"
   ]
  },
  {
   "cell_type": "markdown",
   "id": "f94a409a",
   "metadata": {},
   "source": [
    "## 83. Reverse Integer"
   ]
  },
  {
   "cell_type": "code",
   "execution_count": 121,
   "id": "1b8ca532",
   "metadata": {},
   "outputs": [],
   "source": [
    "def reverse(x):\n",
    "    sign = 1 if x > 0 else -1\n",
    "    rev = 0\n",
    "    x = abs(x)\n",
    "    \n",
    "    while x > 0:\n",
    "        last_digit = x % 10\n",
    "        rev = rev * 10 + last_digit\n",
    "        x = x // 10\n",
    "        \n",
    "        if rev > 2**31 - 1:\n",
    "            return 0\n",
    "    return rev * sign"
   ]
  },
  {
   "cell_type": "code",
   "execution_count": 122,
   "id": "29f50213",
   "metadata": {},
   "outputs": [
    {
     "data": {
      "text/plain": [
       "-321"
      ]
     },
     "execution_count": 122,
     "metadata": {},
     "output_type": "execute_result"
    }
   ],
   "source": [
    "x = -123\n",
    "reverse(x)"
   ]
  },
  {
   "cell_type": "markdown",
   "id": "9a0f400b",
   "metadata": {},
   "source": [
    "## 84. Roman to Integer"
   ]
  },
  {
   "cell_type": "code",
   "execution_count": 125,
   "id": "38018b8a",
   "metadata": {},
   "outputs": [],
   "source": [
    "def romanToInt(s):\n",
    "    values = {\n",
    "        \"I\": 1,\n",
    "        \"V\": 5,\n",
    "        \"X\": 10,\n",
    "        \"L\": 50,\n",
    "        \"C\": 100,\n",
    "        \"D\": 500,\n",
    "        \"M\": 1000,\n",
    "    }\n",
    "    \n",
    "    left = 0\n",
    "    total = 0\n",
    "    \n",
    "    while left < len(s):\n",
    "        if left + 1 < len(s) and values[s[left]] < values[s[left + 1]]:\n",
    "            total += values[s[left + 1]] - values[s[left]]\n",
    "            left += 2\n",
    "            \n",
    "        else:\n",
    "            total += values[s[left]]\n",
    "            left += 1\n",
    "    return total"
   ]
  },
  {
   "cell_type": "code",
   "execution_count": 126,
   "id": "404e870f",
   "metadata": {},
   "outputs": [
    {
     "data": {
      "text/plain": [
       "1994"
      ]
     },
     "execution_count": 126,
     "metadata": {},
     "output_type": "execute_result"
    }
   ],
   "source": [
    "s = \"MCMXCIV\"\n",
    "romanToInt(s)"
   ]
  },
  {
   "cell_type": "markdown",
   "id": "beb307d1",
   "metadata": {},
   "source": [
    "## 85. Three sum closest"
   ]
  },
  {
   "cell_type": "code",
   "execution_count": 1,
   "id": "a158dbc0",
   "metadata": {},
   "outputs": [],
   "source": [
    "def threeSumClosest(nums, target):\n",
    "    diff = float('inf')\n",
    "    nums.sort()\n",
    "    \n",
    "    for i in range(len(nums)):\n",
    "        left = i + 1\n",
    "        right = len(nums) - 1\n",
    "        \n",
    "        while left < right:\n",
    "            total = nums[i] + nums[left] + nums[right]\n",
    "            \n",
    "            if abs(target - total) < abs(diff):\n",
    "                diff = target - total\n",
    "            \n",
    "            if total < target:\n",
    "                left += 1\n",
    "            else:\n",
    "                right -= 1\n",
    "            \n",
    "        if diff == 0:\n",
    "            break\n",
    "    return target - diff"
   ]
  },
  {
   "cell_type": "code",
   "execution_count": 2,
   "id": "aefe2623",
   "metadata": {},
   "outputs": [
    {
     "data": {
      "text/plain": [
       "2"
      ]
     },
     "execution_count": 2,
     "metadata": {},
     "output_type": "execute_result"
    }
   ],
   "source": [
    "nums = [-1,2,1,-4]\n",
    "target = 1\n",
    "threeSumClosest(nums, target)"
   ]
  },
  {
   "cell_type": "markdown",
   "id": "baa1cf76",
   "metadata": {},
   "source": [
    "## 86. Maximum Subarray sum"
   ]
  },
  {
   "cell_type": "code",
   "execution_count": 7,
   "id": "8234eda7",
   "metadata": {},
   "outputs": [],
   "source": [
    "def maxSubArray(nums):\n",
    "    curr_subarray = nums[0]\n",
    "    max_subarray = nums[0]\n",
    "    \n",
    "    for i in range(1, len(nums)):\n",
    "        curr_subarray = max(nums[i], curr_subarray + nums[i])\n",
    "        max_subarray = max(curr_subarray, max_subarray)\n",
    "    return max_subarray"
   ]
  },
  {
   "cell_type": "code",
   "execution_count": 8,
   "id": "403fd8e7",
   "metadata": {},
   "outputs": [
    {
     "data": {
      "text/plain": [
       "6"
      ]
     },
     "execution_count": 8,
     "metadata": {},
     "output_type": "execute_result"
    }
   ],
   "source": [
    "nums = [-2,1,-3,4,-1,2,1,-5,4]\n",
    "maxSubArray(nums)"
   ]
  },
  {
   "cell_type": "markdown",
   "id": "e579eb42",
   "metadata": {},
   "source": [
    "## 87. Boundary of a Binary Tree"
   ]
  },
  {
   "cell_type": "code",
   "execution_count": 14,
   "id": "eadbf942",
   "metadata": {},
   "outputs": [],
   "source": [
    "def boundaryOfBinaryTree(root):\n",
    "    if not root:\n",
    "        return []\n",
    "    \n",
    "    boundary = [root.val]\n",
    "    \n",
    "    def dfs_leftmost(node):\n",
    "        if not node.left and not node.right:\n",
    "            return\n",
    "        \n",
    "        boundary.append(node.val)\n",
    "        \n",
    "        if node.left:\n",
    "            dfs_leftmost(node.left)\n",
    "        else:\n",
    "            dfs_leftmost(node.right)\n",
    "    \n",
    "    def dfs_leaves(node):\n",
    "        if not node.left and not node.right:\n",
    "            boundary.append(node.val)\n",
    "            \n",
    "        if node.left:\n",
    "            dfs_leaves(node.left)\n",
    "        if node.right:\n",
    "            dfs_leaves(node.right)\n",
    "            \n",
    "    def dfs_rightmost(node):\n",
    "        if not node.left and not node.right:\n",
    "            return\n",
    "        \n",
    "        if node.right:\n",
    "            dfs_rightmost(node.right)\n",
    "        else:\n",
    "            dfs_rightmost(node.left)\n",
    "            \n",
    "        boundary.append(node.val)\n",
    "        \n",
    "    if root.left:\n",
    "        dfs_leftmost(root.left)\n",
    "        dfs_leaves(root.left)\n",
    "    if root.right:\n",
    "        dfs_leaves(root.right)\n",
    "        dfs_rightmost(root.right)\n",
    "    return boundary"
   ]
  },
  {
   "cell_type": "code",
   "execution_count": 15,
   "id": "44aa6a0c",
   "metadata": {},
   "outputs": [
    {
     "data": {
      "text/plain": [
       "[9, 4, 1, 6, 15, 170, 20]"
      ]
     },
     "execution_count": 15,
     "metadata": {},
     "output_type": "execute_result"
    }
   ],
   "source": [
    "#       9\n",
    "#    4     20\n",
    "#  1  6  15   170\n",
    "boundaryOfBinaryTree(root)"
   ]
  },
  {
   "cell_type": "markdown",
   "id": "baa29b93",
   "metadata": {},
   "source": [
    "## 88. Maximum average subarray"
   ]
  },
  {
   "cell_type": "code",
   "execution_count": 17,
   "id": "c4ae616a",
   "metadata": {},
   "outputs": [],
   "source": [
    "def findMaxAverage(nums, k):\n",
    "    current_sum = sum(nums[:k])\n",
    "    max_sum = current_sum\n",
    "    \n",
    "    for i in range(k, len(nums)):\n",
    "        current_sum += nums[i] - nums[i - k]\n",
    "        max_sum = max(current_sum, max_sum)\n",
    "    return max_sum / k"
   ]
  },
  {
   "cell_type": "code",
   "execution_count": 18,
   "id": "1bf8baf0",
   "metadata": {},
   "outputs": [
    {
     "data": {
      "text/plain": [
       "12.75"
      ]
     },
     "execution_count": 18,
     "metadata": {},
     "output_type": "execute_result"
    }
   ],
   "source": [
    "nums = [1,12,-5,-6,50,3]\n",
    "k = 4\n",
    "findMaxAverage(nums, k)"
   ]
  },
  {
   "cell_type": "markdown",
   "id": "6f522cb8",
   "metadata": {},
   "source": [
    "## 89. Search in a rotated sorted array"
   ]
  },
  {
   "cell_type": "code",
   "execution_count": 23,
   "id": "18df982c",
   "metadata": {},
   "outputs": [],
   "source": [
    "def search(nums, target):\n",
    "    left = 0\n",
    "    right = len(nums) - 1\n",
    "    \n",
    "    while left <= right:\n",
    "        mid = (left + right) // 2\n",
    "        \n",
    "        if nums[mid] > nums[-1]:\n",
    "            left = mid + 1\n",
    "        else:\n",
    "            right = mid - 1\n",
    "            \n",
    "    def binary_search(left, right, target):\n",
    "        while left <= right:\n",
    "            mid = (left + right) // 2\n",
    "            \n",
    "            if nums[mid] == target:\n",
    "                return mid\n",
    "            elif nums[mid] < target:\n",
    "                left = mid + 1\n",
    "            else:\n",
    "                right = mid - 1\n",
    "        return -1\n",
    "    \n",
    "    answer = binary_search(0, left - 1, target)\n",
    "    \n",
    "    if answer != -1:\n",
    "        return answer\n",
    "    else:\n",
    "        return binary_search(left, len(nums) - 1, target)"
   ]
  },
  {
   "cell_type": "code",
   "execution_count": 24,
   "id": "9fa94c35",
   "metadata": {},
   "outputs": [
    {
     "data": {
      "text/plain": [
       "4"
      ]
     },
     "execution_count": 24,
     "metadata": {},
     "output_type": "execute_result"
    }
   ],
   "source": [
    "nums = [4,5,6,7,0,1,2]\n",
    "target = 0\n",
    "\n",
    "search(nums, target)"
   ]
  },
  {
   "cell_type": "markdown",
   "id": "c7f4d8cb",
   "metadata": {},
   "source": [
    "## 90. Count and say"
   ]
  },
  {
   "cell_type": "code",
   "execution_count": 35,
   "id": "17ff49f6",
   "metadata": {},
   "outputs": [],
   "source": [
    "def countAndSay(n):\n",
    "    if n == 1:\n",
    "        return \"1\"\n",
    "    \n",
    "    prev_seq = countAndSay(n - 1)  # Get the (n-1)th sequence\n",
    "    result = []\n",
    "    count = 1\n",
    "\n",
    "    for i in range(1, len(prev_seq)):\n",
    "        if prev_seq[i] == prev_seq[i - 1]:  # Count consecutive same digits\n",
    "            count += 1\n",
    "        else:\n",
    "            result.append(str(count) + prev_seq[i - 1])  # Append count and digit\n",
    "            count = 1  # Reset count\n",
    "\n",
    "    result.append(str(count) + prev_seq[-1])  # Append last group\n",
    "    return \"\".join(result)\n"
   ]
  },
  {
   "cell_type": "code",
   "execution_count": 36,
   "id": "6b0671f8",
   "metadata": {},
   "outputs": [
    {
     "data": {
      "text/plain": [
       "'1211'"
      ]
     },
     "execution_count": 36,
     "metadata": {},
     "output_type": "execute_result"
    }
   ],
   "source": [
    "countAndSay(4)"
   ]
  },
  {
   "cell_type": "markdown",
   "id": "5a162ca1",
   "metadata": {},
   "source": [
    "## 91. Group Anagrams"
   ]
  },
  {
   "cell_type": "code",
   "execution_count": 43,
   "id": "fc9a163b",
   "metadata": {},
   "outputs": [],
   "source": [
    "from collections import defaultdict\n",
    "\n",
    "def groupAnagrams(strs):\n",
    "    ans = defaultdict(list)\n",
    "    \n",
    "    for s in strs:\n",
    "        count = [0] * 26\n",
    "        for c in s:\n",
    "            count[ord(c) - ord('a')] += 1\n",
    "        ans[tuple(count)].append(s)\n",
    "    return list(ans.values())"
   ]
  },
  {
   "cell_type": "code",
   "execution_count": 44,
   "id": "654727cb",
   "metadata": {},
   "outputs": [
    {
     "data": {
      "text/plain": [
       "[['eat', 'tea', 'ate'], ['tan', 'nat'], ['bat']]"
      ]
     },
     "execution_count": 44,
     "metadata": {},
     "output_type": "execute_result"
    }
   ],
   "source": [
    "strs = [\"eat\",\"tea\",\"tan\",\"ate\",\"nat\",\"bat\"]\n",
    "\n",
    "groupAnagrams(strs)"
   ]
  },
  {
   "cell_type": "markdown",
   "id": "d9f45e8a",
   "metadata": {},
   "source": [
    "## 92. Sort colors"
   ]
  },
  {
   "cell_type": "code",
   "execution_count": 47,
   "id": "57c08506",
   "metadata": {},
   "outputs": [],
   "source": [
    "def sortColors(nums):\n",
    "    left = 0\n",
    "    curr = 0\n",
    "    right = len(nums) - 1\n",
    "    \n",
    "    while curr <= right:\n",
    "        if nums[curr] == 0:\n",
    "            nums[left], nums[curr] = nums[curr], nums[left]\n",
    "            left += 1\n",
    "            curr += 1\n",
    "        elif nums[curr] == 2:\n",
    "            nums[right], nums[curr] = nums[curr], nums[right]\n",
    "            right -= 1\n",
    "        else:\n",
    "            curr += 1\n",
    "    "
   ]
  },
  {
   "cell_type": "code",
   "execution_count": 48,
   "id": "27994cb5",
   "metadata": {},
   "outputs": [
    {
     "name": "stdout",
     "output_type": "stream",
     "text": [
      "[0, 0, 1, 1, 2, 2]\n"
     ]
    }
   ],
   "source": [
    "nums = [2,0,2,1,1,0]\n",
    "sortColors(nums)\n",
    "print(nums)"
   ]
  },
  {
   "cell_type": "markdown",
   "id": "89e9bef4",
   "metadata": {},
   "source": [
    "## 93. Search in a rotated sorted array II"
   ]
  },
  {
   "cell_type": "code",
   "execution_count": 49,
   "id": "170b289d",
   "metadata": {},
   "outputs": [],
   "source": [
    "def search(nums, target):\n",
    "    left = 0\n",
    "    right = len(nums) - 1\n",
    "\n",
    "    while left <= right:\n",
    "        mid = (left + right) // 2\n",
    "\n",
    "        if nums[mid] == target:\n",
    "            return True\n",
    "\n",
    "        if nums[left] == nums[mid] == nums[right]:\n",
    "            left += 1\n",
    "            right -= 1\n",
    "        elif nums[left] <= nums[mid]:\n",
    "            if nums[left] <= target < nums[mid]:\n",
    "                right = mid - 1\n",
    "            else:\n",
    "                left = mid + 1\n",
    "        else:\n",
    "            if nums[mid] < target <= nums[right]:\n",
    "                left = mid + 1\n",
    "            else:\n",
    "                right = mid - 1\n",
    "\n",
    "    return False"
   ]
  },
  {
   "cell_type": "code",
   "execution_count": 50,
   "id": "a06d252c",
   "metadata": {},
   "outputs": [
    {
     "data": {
      "text/plain": [
       "True"
      ]
     },
     "execution_count": 50,
     "metadata": {},
     "output_type": "execute_result"
    }
   ],
   "source": [
    "nums = [2,5,6,0,0,1,2]\n",
    "target = 0\n",
    "search(nums, target)"
   ]
  },
  {
   "cell_type": "markdown",
   "id": "a9e9d175",
   "metadata": {},
   "source": [
    "## 94. Can place flowers"
   ]
  },
  {
   "cell_type": "code",
   "execution_count": 52,
   "id": "4263fadd",
   "metadata": {},
   "outputs": [],
   "source": [
    "def canPlaceFlowers(flowerbed, n):\n",
    "    count = 0\n",
    "    \n",
    "    for i in range(len(flowerbed)):\n",
    "        empty_left_plot = (i == 0) or (flowerbed[i - 1] == 0)\n",
    "        empty_right_plot = (i == len(flowerbed) - 1) or (flowerbed[i + 1] == 0)\n",
    "        \n",
    "        if empty_left_plot and empty_right_plot:\n",
    "            count += 1\n",
    "    return count >= n"
   ]
  },
  {
   "cell_type": "code",
   "execution_count": 53,
   "id": "be5d2c4e",
   "metadata": {},
   "outputs": [
    {
     "data": {
      "text/plain": [
       "True"
      ]
     },
     "execution_count": 53,
     "metadata": {},
     "output_type": "execute_result"
    }
   ],
   "source": [
    "flowerbed = [1,0,0,0,1]\n",
    "n = 1\n",
    "canPlaceFlowers(flowerbed, n)"
   ]
  },
  {
   "cell_type": "markdown",
   "id": "03c9af8d",
   "metadata": {},
   "source": [
    "## 95. Max area of island"
   ]
  },
  {
   "cell_type": "code",
   "execution_count": 54,
   "id": "adcb441e",
   "metadata": {},
   "outputs": [],
   "source": [
    "def maxAreaOfIsland(grid):\n",
    "    if not grid or len(grid) == 0:\n",
    "        return 0\n",
    "    \n",
    "    max_area = 0\n",
    "    directions = [[-1, 0], [0, 1], [1, 0], [0, -1]]\n",
    "    \n",
    "    for row in range(len(grid)):\n",
    "        for col in range(len(grid[0])):\n",
    "            if grid[row][col] == 1:\n",
    "                grid[row][col] = 0\n",
    "                \n",
    "                current_area = 0\n",
    "                \n",
    "                queue = [[row, col]]\n",
    "                \n",
    "                while queue:\n",
    "                    curr_row, curr_col = queue.pop(0)\n",
    "                    \n",
    "                    current_area += 1\n",
    "                    \n",
    "                    for i in range(len(directions)):\n",
    "                        direction = directions[i]\n",
    "                        \n",
    "                        next_row, next_col = curr_row + direction[0], curr_col + direction[1]\n",
    "                        \n",
    "                        if next_row < 0 or next_col < 0 or next_row >= len(grid) or next_row >= len(grid[0]):\n",
    "                            continue\n",
    "                            \n",
    "                        if grid[next_row][next_col] == 1:\n",
    "                            grid[next_row][next_col] = 0\n",
    "                            queue.append([next_row, next_col])\n",
    "                max_area = max(max_area, current_area)\n",
    "    return max_area    "
   ]
  },
  {
   "cell_type": "code",
   "execution_count": 55,
   "id": "56844f6f",
   "metadata": {},
   "outputs": [
    {
     "data": {
      "text/plain": [
       "6"
      ]
     },
     "execution_count": 55,
     "metadata": {},
     "output_type": "execute_result"
    }
   ],
   "source": [
    "grid = [[0,0,1,0,0,0,0,1,0,0,0,0,0],[0,0,0,0,0,0,0,1,1,1,0,0,0],[0,1,1,0,1,0,0,0,0,0,0,0,0],[0,1,0,0,1,1,0,0,1,0,1,0,0],[0,1,0,0,1,1,0,0,1,1,1,0,0],[0,0,0,0,0,0,0,0,0,0,1,0,0],[0,0,0,0,0,0,0,1,1,1,0,0,0],[0,0,0,0,0,0,0,1,1,0,0,0,0]]\n",
    "maxAreaOfIsland(grid)"
   ]
  },
  {
   "cell_type": "markdown",
   "id": "231a2532",
   "metadata": {},
   "source": [
    "## 96. Asteroid Collision"
   ]
  },
  {
   "cell_type": "code",
   "execution_count": 58,
   "id": "a851173f",
   "metadata": {},
   "outputs": [],
   "source": [
    "def asteroidCollision(asteroids):\n",
    "    stack = []\n",
    "    \n",
    "    for asteroid in asteroids:\n",
    "        while stack and asteroid < 0 and stack[-1] > 0:\n",
    "            if abs(asteroid) > stack[-1]:\n",
    "                stack.pop()\n",
    "                continue\n",
    "            elif abs(asteroid) == stack[-1]:\n",
    "                stack.pop()\n",
    "            break\n",
    "        else:\n",
    "            stack.append(asteroid)\n",
    "    return stack"
   ]
  },
  {
   "cell_type": "code",
   "execution_count": 59,
   "id": "4508d7dd",
   "metadata": {},
   "outputs": [
    {
     "data": {
      "text/plain": [
       "[5, 10]"
      ]
     },
     "execution_count": 59,
     "metadata": {},
     "output_type": "execute_result"
    }
   ],
   "source": [
    "asteroids = [5,10,-5]\n",
    "asteroidCollision(asteroids)"
   ]
  },
  {
   "cell_type": "markdown",
   "id": "a9bf0c4e",
   "metadata": {},
   "source": [
    "## 97. Squares of sorted array"
   ]
  },
  {
   "cell_type": "code",
   "execution_count": 60,
   "id": "0ab2b118",
   "metadata": {},
   "outputs": [],
   "source": [
    "def sortedSquares(nums):\n",
    "    n = len(nums)\n",
    "    left = 0\n",
    "    right = n - 1\n",
    "    result = [0] * n\n",
    "    \n",
    "    for i in range(n - 1, -1, -1):\n",
    "        if abs(nums[left]) < abs(nums[right]):\n",
    "            square = nums[right]\n",
    "            right -= 1\n",
    "        else:\n",
    "            square = nums[left]\n",
    "            left += 1\n",
    "        result[i] = square * square\n",
    "    return result"
   ]
  },
  {
   "cell_type": "code",
   "execution_count": 61,
   "id": "259c5485",
   "metadata": {},
   "outputs": [
    {
     "data": {
      "text/plain": [
       "[0, 1, 9, 16, 100]"
      ]
     },
     "execution_count": 61,
     "metadata": {},
     "output_type": "execute_result"
    }
   ],
   "source": [
    "nums = [-4,-1,0,3,10]\n",
    "sortedSquares(nums)"
   ]
  },
  {
   "cell_type": "markdown",
   "id": "5f4f7f13",
   "metadata": {},
   "source": [
    "## 98. Plus One"
   ]
  },
  {
   "cell_type": "code",
   "execution_count": 62,
   "id": "bb20f623",
   "metadata": {},
   "outputs": [],
   "source": [
    "def plusOne(digits):\n",
    "    n = len(digits)\n",
    "    \n",
    "    for i in range(n - 1, -1, -1):\n",
    "        if digits[i] + 1 != 10:\n",
    "            digits[i] += 1\n",
    "            return digits\n",
    "        \n",
    "        digits[i] = 0\n",
    "        \n",
    "        if i == 0:\n",
    "            return [1] + digits"
   ]
  },
  {
   "cell_type": "code",
   "execution_count": 63,
   "id": "2e64e106",
   "metadata": {},
   "outputs": [
    {
     "data": {
      "text/plain": [
       "[1, 0, 0]"
      ]
     },
     "execution_count": 63,
     "metadata": {},
     "output_type": "execute_result"
    }
   ],
   "source": [
    "digits = [9,9]\n",
    "plusOne(digits)"
   ]
  },
  {
   "cell_type": "markdown",
   "id": "dc88a553",
   "metadata": {},
   "source": [
    "## 99. Reverse Linked List"
   ]
  },
  {
   "cell_type": "code",
   "execution_count": 64,
   "id": "05deff2c",
   "metadata": {},
   "outputs": [],
   "source": [
    "def reverseList(head):\n",
    "    current = head\n",
    "    list_so_far = None\n",
    "    \n",
    "    while current:\n",
    "        next_temp = current.next\n",
    "        current.next = list_so_far\n",
    "        list_so_far = current\n",
    "        current = next_temp\n",
    "    return list_so_far"
   ]
  },
  {
   "cell_type": "markdown",
   "id": "567f1fb6",
   "metadata": {},
   "source": [
    "## 100. Add strings"
   ]
  },
  {
   "cell_type": "code",
   "execution_count": 66,
   "id": "8da0ae43",
   "metadata": {},
   "outputs": [],
   "source": [
    "def addStrings(num1, num2):\n",
    "    p1 = len(num1) -1\n",
    "    p2 = len(num2) - 1\n",
    "    \n",
    "    result = []\n",
    "    carry = 0\n",
    "    \n",
    "    while p1 >= 0 or p2 >= 0:\n",
    "        x1 = ord(num1[p1]) - ord('0') if p1 >= 0 else 0\n",
    "        x2 = ord(num2[p2]) - ord('0') if p2 >= 0 else 0\n",
    "        \n",
    "        column_sum = (x1 + x2 + carry) % 10\n",
    "        carry = (x1 + x2 + carry) // 10\n",
    "        \n",
    "        result.append(column_sum)\n",
    "        \n",
    "        p1 -= 1\n",
    "        p2 -= 1\n",
    "    \n",
    "    if carry:\n",
    "        result.append(carry)\n",
    "    return \"\".join(str(x) for x in result[::-1])"
   ]
  },
  {
   "cell_type": "code",
   "execution_count": 67,
   "id": "ff5f16b9",
   "metadata": {},
   "outputs": [
    {
     "data": {
      "text/plain": [
       "'134'"
      ]
     },
     "execution_count": 67,
     "metadata": {},
     "output_type": "execute_result"
    }
   ],
   "source": [
    "num1 = \"11\"\n",
    "num2 = \"123\"\n",
    "\n",
    "addStrings(num1, num2)"
   ]
  },
  {
   "cell_type": "code",
   "execution_count": null,
   "id": "0fd2702d",
   "metadata": {},
   "outputs": [],
   "source": []
  }
 ],
 "metadata": {
  "kernelspec": {
   "display_name": "Python 3 (ipykernel)",
   "language": "python",
   "name": "python3"
  },
  "language_info": {
   "codemirror_mode": {
    "name": "ipython",
    "version": 3
   },
   "file_extension": ".py",
   "mimetype": "text/x-python",
   "name": "python",
   "nbconvert_exporter": "python",
   "pygments_lexer": "ipython3",
   "version": "3.11.4"
  }
 },
 "nbformat": 4,
 "nbformat_minor": 5
}
