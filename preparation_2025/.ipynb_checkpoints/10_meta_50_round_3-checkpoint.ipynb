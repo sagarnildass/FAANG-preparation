{
 "cells": [
  {
   "cell_type": "markdown",
   "id": "adf37b7d",
   "metadata": {},
   "source": [
    "## 1. Minimum remove to make valid parenthesis"
   ]
  },
  {
   "cell_type": "code",
   "execution_count": 1,
   "id": "7c345d46",
   "metadata": {},
   "outputs": [],
   "source": [
    "def minRemoveToMakeValid(s):\n",
    "    stack = []\n",
    "    indices_to_remove = set()\n",
    "    \n",
    "    for idx, char in enumerate(s):\n",
    "        if char not in '()':\n",
    "            continue\n",
    "        elif char == '(':\n",
    "            stack.append(idx)\n",
    "        elif not stack:\n",
    "            indices_to_remove.add(idx)\n",
    "        else:\n",
    "            stack.pop()\n",
    "    \n",
    "    indices_to_remove = indices_to_remove.union(set(stack))\n",
    "    \n",
    "    string_builder = []\n",
    "    \n",
    "    for i in range(len(s)):\n",
    "        if i not in indices_to_remove:\n",
    "            string_builder.append(s[i])\n",
    "    \n",
    "    return \"\".join(string_builder)"
   ]
  },
  {
   "cell_type": "code",
   "execution_count": 2,
   "id": "385d6677",
   "metadata": {},
   "outputs": [
    {
     "data": {
      "text/plain": [
       "'lee(t(c)o)de'"
      ]
     },
     "execution_count": 2,
     "metadata": {},
     "output_type": "execute_result"
    }
   ],
   "source": [
    "s = \"lee(t(c)o)de)\"\n",
    "minRemoveToMakeValid(s)"
   ]
  },
  {
   "cell_type": "markdown",
   "id": "3d870b52",
   "metadata": {},
   "source": [
    "## 2. Valid word abbreviation"
   ]
  },
  {
   "cell_type": "code",
   "execution_count": 11,
   "id": "878a1e92",
   "metadata": {},
   "outputs": [],
   "source": [
    "def validWordAbbreviation(word, abbr):\n",
    "    word_ptr = 0\n",
    "    abbr_ptr = 0\n",
    "    \n",
    "    while word_ptr < len(word) and abbr_ptr < len(abbr):\n",
    "        if abbr[abbr_ptr].isdigit():\n",
    "            if abbr[abbr_ptr] == '0':\n",
    "                return False\n",
    "            \n",
    "            num = 0\n",
    "            \n",
    "            while abbr[abbr_ptr].isdigit() and abbr_ptr < len(abbr):\n",
    "                num = num * 10 + int(abbr[abbr_ptr])\n",
    "                abbr_ptr += 1\n",
    "            \n",
    "            word_ptr += num\n",
    "            \n",
    "        else:\n",
    "            if word_ptr >= len(word) or word[word_ptr] != abbr[abbr_ptr]:\n",
    "                return False\n",
    "            \n",
    "            word_ptr += 1\n",
    "            abbr_ptr += 1\n",
    "        \n",
    "    return word_ptr == len(word) and abbr_ptr == len(abbr)"
   ]
  },
  {
   "cell_type": "code",
   "execution_count": 12,
   "id": "ce816d47",
   "metadata": {},
   "outputs": [
    {
     "data": {
      "text/plain": [
       "True"
      ]
     },
     "execution_count": 12,
     "metadata": {},
     "output_type": "execute_result"
    }
   ],
   "source": [
    "word = \"internationalization\"\n",
    "abbr = \"i12iz4n\"\n",
    "validWordAbbreviation(word, abbr)"
   ]
  },
  {
   "cell_type": "markdown",
   "id": "6a9b2439",
   "metadata": {},
   "source": [
    "## 3. Valid Palindrome II\n"
   ]
  },
  {
   "cell_type": "code",
   "execution_count": 13,
   "id": "a3b19526",
   "metadata": {},
   "outputs": [],
   "source": [
    "def validPalindrome(s):\n",
    "    if len(s) <= 2:\n",
    "        return True\n",
    "    \n",
    "    def check_palindrome(s, left, right):\n",
    "        while left <= right:\n",
    "            if s[left] != s[right]:\n",
    "                return False\n",
    "            left += 1\n",
    "            right -= 1\n",
    "        return True\n",
    "    \n",
    "    left = 0\n",
    "    right = len(s) - 1\n",
    "    \n",
    "    while left <= right:\n",
    "        if s[left] != s[right]:\n",
    "            return check_palindrome(s, left + 1, right) or check_palindrome(s, left, right - 1)\n",
    "        left += 1\n",
    "        right -= 1\n",
    "    return True"
   ]
  },
  {
   "cell_type": "code",
   "execution_count": 14,
   "id": "99483265",
   "metadata": {},
   "outputs": [
    {
     "data": {
      "text/plain": [
       "True"
      ]
     },
     "execution_count": 14,
     "metadata": {},
     "output_type": "execute_result"
    }
   ],
   "source": [
    "s = \"abac\"\n",
    "validPalindrome(s)"
   ]
  },
  {
   "cell_type": "code",
   "execution_count": 19,
   "id": "c8860c81",
   "metadata": {},
   "outputs": [],
   "source": [
    "class Node:\n",
    "    def __init__(self, val: int):\n",
    "        self.left = None\n",
    "        self.right = None\n",
    "        self.val = val\n",
    "\n",
    "    def __repr__(self):\n",
    "        return str(self.val)\n",
    "\n",
    "    def insert_node(self, val):\n",
    "        if self.val is not None:\n",
    "            if val < self.val:\n",
    "                if self.left is None:\n",
    "                    self.left = Node(val)\n",
    "                else:\n",
    "                    self.left.insert_node(val)\n",
    "            elif val > self.val:\n",
    "                if self.right is None:\n",
    "                    self.right = Node(val)\n",
    "                else:\n",
    "                    self.right.insert_node(val)\n",
    "\n",
    "    @staticmethod\n",
    "    def insert_nodes(vals: list, root):\n",
    "        for i in vals:\n",
    "            root.insert_node(i)\n",
    "\n",
    "    def bfs(self, root=None):\n",
    "        if root is None:\n",
    "            return\n",
    "        result = []\n",
    "        queue = [root]\n",
    "\n",
    "        while len(queue) > 0:\n",
    "            cur_node = queue.pop(0)\n",
    "            result.append(cur_node.val)\n",
    "            if cur_node.left is not None:\n",
    "                queue.append(cur_node.left)\n",
    "\n",
    "            if cur_node.right is not None:\n",
    "                queue.append(cur_node.right)\n",
    "\n",
    "            #print(queue)\n",
    "        return result\n",
    "    \n",
    "    def DFSInorder(self, root=None):\n",
    "        return self.traverseInOrder(root, [])\n",
    "    \n",
    "    def DFSPostOrder(self, root=None):\n",
    "        return self.traversePostOrder(root, [])\n",
    "    \n",
    "    def DFSPreOrder(self, root=None):\n",
    "        return self.traversePreOrder(root, [])\n",
    "    \n",
    "    def traverseInOrder(self, node, data):\n",
    "        if node.left is not None:\n",
    "            node.traverseInOrder(node.left, data)\n",
    "        data.append(node.val)\n",
    "        \n",
    "        if node.right is not None:\n",
    "            node.traverseInOrder(node.right, data)\n",
    "        #print(data)\n",
    "        return data\n",
    "    \n",
    "    def traversePostOrder(self, node, data):\n",
    "        \n",
    "        if node.left is not None:\n",
    "            node.traversePostOrder(node.left, data)\n",
    "              \n",
    "        if node.right is not None:\n",
    "            node.traversePostOrder(node.right, data)\n",
    "        #print(data)\n",
    "        data.append(node.val)\n",
    "        return data\n",
    "    \n",
    "    def traversePreOrder(self, node, data):\n",
    "        data.append(node.val)\n",
    "        if node.left is not None:\n",
    "            node.traversePreOrder(node.left, data)\n",
    "        \n",
    "        \n",
    "        if node.right is not None:\n",
    "            node.traversePreOrder(node.right, data)\n",
    "        #print(data)\n",
    "        return data\n",
    "    \n",
    "    \n",
    "#       9\n",
    "#    4     20\n",
    "#  1  6  15   170\n",
    "\n",
    "def run():\n",
    "    root = Node(9)\n",
    "    root.insert_nodes([4,6,20,170,15,1], root)\n",
    "    bfs_result = root.bfs(root=root)\n",
    "    dfs_inorder = root.DFSInorder(root)\n",
    "    dfs_preorder = root.DFSPreOrder(root)\n",
    "    dfs_postorder = root.DFSPostOrder(root)\n",
    "    return root, bfs_result, dfs_inorder, dfs_preorder, dfs_postorder\n",
    "\n",
    "root, bfs_result, dfs_inorder, dfs_preorder, dfs_postorder = run()"
   ]
  },
  {
   "cell_type": "markdown",
   "id": "abe95c1f",
   "metadata": {},
   "source": [
    "## 4. Binary Tree Vertical order traversal"
   ]
  },
  {
   "cell_type": "code",
   "execution_count": 18,
   "id": "90a51544",
   "metadata": {},
   "outputs": [],
   "source": [
    "from collections import defaultdict\n",
    "\n",
    "def verticalOrder(root):\n",
    "    if not root:\n",
    "        return []\n",
    "    \n",
    "    column_table = defaultdict(list)\n",
    "    \n",
    "    queue = [[root, 0]]\n",
    "    \n",
    "    while queue:\n",
    "        curr_node, curr_col = queue.pop(0)\n",
    "        \n",
    "        column_table[curr_col].append(curr_node.val)\n",
    "        \n",
    "        if curr_node.left:\n",
    "            queue.append([curr_node.left, curr_col - 1])\n",
    "            \n",
    "        if curr_node.right:\n",
    "            queue.append([curr_node.right, curr_col + 1])\n",
    "            \n",
    "    return [column_table[x] for x in sorted(column_table.keys())]"
   ]
  },
  {
   "cell_type": "code",
   "execution_count": 19,
   "id": "a7a5424e",
   "metadata": {},
   "outputs": [
    {
     "data": {
      "text/plain": [
       "[[1], [4], [9, 6, 15], [20], [170]]"
      ]
     },
     "execution_count": 19,
     "metadata": {},
     "output_type": "execute_result"
    }
   ],
   "source": [
    "verticalOrder(root)"
   ]
  },
  {
   "cell_type": "code",
   "execution_count": 20,
   "id": "81ce76b6",
   "metadata": {},
   "outputs": [],
   "source": [
    "def verticalOrder(root):\n",
    "    if not root:\n",
    "        return []\n",
    "    \n",
    "    column_table = defaultdict(list)\n",
    "    min_col = 0\n",
    "    max_col = 0\n",
    "    \n",
    "    queue = [[root, 0]]\n",
    "    \n",
    "    while queue:\n",
    "        curr_node, curr_col = queue.pop(0)\n",
    "        \n",
    "        column_table[curr_col].append(curr_node.val)\n",
    "        \n",
    "        min_col = min(min_col, curr_col)\n",
    "        max_col = max(max_col, curr_col)\n",
    "        \n",
    "        if curr_node.left:\n",
    "            queue.append([curr_node.left, curr_col - 1])\n",
    "        \n",
    "        if curr_node.right:\n",
    "            queue.append([curr_node.right, curr_col + 1])\n",
    "        \n",
    "    return [column_table[x] for x in range(min_col, max_col + 1)]"
   ]
  },
  {
   "cell_type": "code",
   "execution_count": 21,
   "id": "5cc0f0a6",
   "metadata": {},
   "outputs": [
    {
     "data": {
      "text/plain": [
       "[[1], [4], [9, 6, 15], [20], [170]]"
      ]
     },
     "execution_count": 21,
     "metadata": {},
     "output_type": "execute_result"
    }
   ],
   "source": [
    "verticalOrder(root)"
   ]
  },
  {
   "cell_type": "markdown",
   "id": "1bbe4efa",
   "metadata": {},
   "source": [
    "## 5. Kth Largest element in an array"
   ]
  },
  {
   "cell_type": "code",
   "execution_count": 22,
   "id": "cb98ecd6",
   "metadata": {},
   "outputs": [],
   "source": [
    "def kth_largest(nums, k):\n",
    "    index_to_find = len(nums) - k\n",
    "    return quick_select(nums, 0, len(nums) - 1, index_to_find)\n",
    "\n",
    "def quick_select(nums, left, right, index_to_find):\n",
    "    if left == right:\n",
    "        return nums[left]\n",
    "    \n",
    "    if left < right:\n",
    "        partition_index = partition(nums, left, right)\n",
    "        \n",
    "        if partition_index == index_to_find:\n",
    "            return nums[partition_index]\n",
    "        elif partition_index < index_to_find:\n",
    "            return quick_select(nums, partition_index + 1, right, index_to_find)\n",
    "        else:\n",
    "            return quick_select(nums, left, partition_index - 1, index_to_find)\n",
    "\n",
    "def partition(nums, left, right):\n",
    "    partition_index = left\n",
    "    pivot_element = nums[right]\n",
    "    \n",
    "    for j in range(left, right):\n",
    "        if nums[j] <= pivot_element:\n",
    "            nums[j], nums[partition_index] = nums[partition_index], nums[j]\n",
    "            partition_index += 1\n",
    "    nums[right], nums[partition_index] = nums[partition_index], nums[right]\n",
    "    return partition_index"
   ]
  },
  {
   "cell_type": "code",
   "execution_count": 24,
   "id": "16464670",
   "metadata": {},
   "outputs": [
    {
     "data": {
      "text/plain": [
       "5"
      ]
     },
     "execution_count": 24,
     "metadata": {},
     "output_type": "execute_result"
    }
   ],
   "source": [
    "kth_largest([5,6,1,4,8,3],3)"
   ]
  },
  {
   "cell_type": "markdown",
   "id": "ceb0d5b2",
   "metadata": {},
   "source": [
    "## 6. Basic Calculator"
   ]
  },
  {
   "cell_type": "code",
   "execution_count": 33,
   "id": "a6780c18",
   "metadata": {},
   "outputs": [],
   "source": [
    "def calculate(s):\n",
    "    if len(s) == 0:\n",
    "        return 0\n",
    "    \n",
    "    current_number = 0\n",
    "    last_number = 0\n",
    "    result = 0\n",
    "    sign = '+'\n",
    "    \n",
    "    for i in range(len(s)):\n",
    "        current_char = s[i]\n",
    "        \n",
    "        if current_char.isdigit():\n",
    "            current_number = current_number * 10 + int(current_char)\n",
    "            \n",
    "        if (not current_char.isdigit() and not current_char.isspace()) or i == len(s) - 1:\n",
    "            if sign == '+' or sign == '-':\n",
    "                result += last_number\n",
    "                last_number = current_number if sign == '+' else -current_number\n",
    "            elif sign == '*':\n",
    "                last_number *= current_number\n",
    "            elif sign == '/':\n",
    "                last_number = int(last_number / current_number)\n",
    "            \n",
    "            sign = current_char\n",
    "            current_number = 0\n",
    "    result += last_number\n",
    "    return result"
   ]
  },
  {
   "cell_type": "code",
   "execution_count": 34,
   "id": "fba33da4",
   "metadata": {},
   "outputs": [
    {
     "data": {
      "text/plain": [
       "7"
      ]
     },
     "execution_count": 34,
     "metadata": {},
     "output_type": "execute_result"
    }
   ],
   "source": [
    "s = \"  3 + 2 * 2\"\n",
    "calculate(s)"
   ]
  },
  {
   "cell_type": "markdown",
   "id": "ca1a48fe",
   "metadata": {},
   "source": [
    "## 7. Lowest Common ancestor of Binary tree III"
   ]
  },
  {
   "cell_type": "code",
   "execution_count": 35,
   "id": "556ab6eb",
   "metadata": {},
   "outputs": [],
   "source": [
    "def lca(p, q):\n",
    "    p1 = p\n",
    "    p2 = q\n",
    "    \n",
    "    while p1 != p2:\n",
    "        p1 = p1.parent if p1.parent else q\n",
    "        p2 = p2.parent if p2.parent else p\n",
    "        \n",
    "    return p1"
   ]
  },
  {
   "cell_type": "markdown",
   "id": "ada387ee",
   "metadata": {},
   "source": [
    "## 8. Lowest Common ancestor of Binary tree"
   ]
  },
  {
   "cell_type": "code",
   "execution_count": 36,
   "id": "125e9f63",
   "metadata": {},
   "outputs": [],
   "source": [
    "def lowestCommonAncestor(root, p, q):\n",
    "    if not root:\n",
    "        return None\n",
    "    \n",
    "    left_res = lowestCommonAncestor(root.left, p, q)\n",
    "    right_res = lowestCommonAncestor(root.right, p, q)\n",
    "    \n",
    "    if (left_res and right_res) or (root in [p, q]):\n",
    "        return root\n",
    "    \n",
    "    return left_res or right_res"
   ]
  },
  {
   "cell_type": "code",
   "execution_count": 38,
   "id": "268cc5fe",
   "metadata": {},
   "outputs": [
    {
     "data": {
      "text/plain": [
       "9"
      ]
     },
     "execution_count": 38,
     "metadata": {},
     "output_type": "execute_result"
    }
   ],
   "source": [
    "#       9\n",
    "#    4     20\n",
    "#  1  6  15   170\n",
    "p = root.left.right  # Node with value 6\n",
    "q = root.right.left  # Node with value 15\n",
    "lowestCommonAncestor(root, p, q)"
   ]
  },
  {
   "cell_type": "markdown",
   "id": "4bc4b296",
   "metadata": {},
   "source": [
    "## 9. Pow (x, n)"
   ]
  },
  {
   "cell_type": "code",
   "execution_count": 39,
   "id": "2ee52971",
   "metadata": {},
   "outputs": [],
   "source": [
    "def myPow(x, n):\n",
    "    if n == 0:\n",
    "        return 1\n",
    "    \n",
    "    if n < 0:\n",
    "        return 1/myPow(x, -n)\n",
    "    \n",
    "    half = myPow(x, n // 2)\n",
    "    \n",
    "    if n % 2 == 0:\n",
    "        return half * half\n",
    "    else:\n",
    "        return half * half * x"
   ]
  },
  {
   "cell_type": "code",
   "execution_count": 41,
   "id": "2b3d2256",
   "metadata": {},
   "outputs": [
    {
     "data": {
      "text/plain": [
       "512.0"
      ]
     },
     "execution_count": 41,
     "metadata": {},
     "output_type": "execute_result"
    }
   ],
   "source": [
    "x = 2.00000\n",
    "n = 9\n",
    "\n",
    "myPow(x, n)"
   ]
  },
  {
   "cell_type": "markdown",
   "id": "b1adbffa",
   "metadata": {},
   "source": [
    "## 10. Simplify path"
   ]
  },
  {
   "cell_type": "code",
   "execution_count": 44,
   "id": "59d9a3a6",
   "metadata": {},
   "outputs": [],
   "source": [
    "def simplifyPath(path):\n",
    "    stack = []\n",
    "    \n",
    "    for portion in path.split('/'):\n",
    "        if portion == '.' or not portion:\n",
    "            continue\n",
    "        elif portion == '..':\n",
    "            if stack:\n",
    "                stack.pop()\n",
    "        else:\n",
    "            stack.append(portion)\n",
    "            \n",
    "    return \"/\" + \"/\".join(stack)"
   ]
  },
  {
   "cell_type": "code",
   "execution_count": 45,
   "id": "f7d10840",
   "metadata": {},
   "outputs": [
    {
     "data": {
      "text/plain": [
       "'/home/user/Pictures'"
      ]
     },
     "execution_count": 45,
     "metadata": {},
     "output_type": "execute_result"
    }
   ],
   "source": [
    "path = \"/home/user/Documents/../Pictures\"\n",
    "simplifyPath(path)"
   ]
  },
  {
   "cell_type": "markdown",
   "id": "0aa62983",
   "metadata": {},
   "source": [
    "## 11. Shortest Path in binary matrix"
   ]
  },
  {
   "cell_type": "code",
   "execution_count": 50,
   "id": "2d85e489",
   "metadata": {},
   "outputs": [],
   "source": [
    "def shortestPathBinaryMatrix(grid):\n",
    "    if len(grid) == 0 or grid[0][0] != 0 or grid[-1][-1] != 0:\n",
    "        return -1\n",
    "    \n",
    "    queue = [[0, 0, 1]]\n",
    "    \n",
    "    grid[0][0] = 1\n",
    "    directions = [[-1, 0], [-1, 1], [0, 1], [1, 1], [1, 0], [1, -1], [0, -1], [-1, -1]]\n",
    "    \n",
    "    while queue:\n",
    "        curr_row, curr_col, path_length = queue.pop(0)\n",
    "        \n",
    "        if curr_row == len(grid) - 1 and curr_col == len(grid[0]) - 1:\n",
    "            return path_length\n",
    "        \n",
    "        for i in range(len(directions)):\n",
    "            direction = directions[i]\n",
    "            next_row, next_col = curr_row + direction[0], curr_col + direction[1]\n",
    "            \n",
    "            if next_row < 0  or next_col < 0 or next_row >= len(grid) or next_col >= len(grid[0]) or grid[next_row][next_col] == 1:\n",
    "                continue\n",
    "            \n",
    "            if grid[next_row][next_col] == 0:\n",
    "                grid[next_row][next_col] = 1\n",
    "                queue.append([next_row, next_col, path_length + 1])\n",
    "    return -1"
   ]
  },
  {
   "cell_type": "code",
   "execution_count": 51,
   "id": "034da8fb",
   "metadata": {},
   "outputs": [
    {
     "data": {
      "text/plain": [
       "4"
      ]
     },
     "execution_count": 51,
     "metadata": {},
     "output_type": "execute_result"
    }
   ],
   "source": [
    "grid = [[0,0,0],[1,1,0],[1,1,0]]\n",
    "shortestPathBinaryMatrix(grid)"
   ]
  },
  {
   "cell_type": "markdown",
   "id": "66f2605b",
   "metadata": {},
   "source": [
    "## 12. Dot product of two sparse vectors"
   ]
  },
  {
   "cell_type": "code",
   "execution_count": 52,
   "id": "94be01ed",
   "metadata": {},
   "outputs": [],
   "source": [
    "class SparseVector:\n",
    "    def __init__(self, nums):\n",
    "        self.array = nums\n",
    "    def dotProduct(self, vec):\n",
    "        result = 0\n",
    "        for num1, num2 in zip(self.array, vec.array):\n",
    "            result += num1 * num2\n",
    "        return result"
   ]
  },
  {
   "cell_type": "code",
   "execution_count": 53,
   "id": "2d3a4f2e",
   "metadata": {},
   "outputs": [
    {
     "data": {
      "text/plain": [
       "8"
      ]
     },
     "execution_count": 53,
     "metadata": {},
     "output_type": "execute_result"
    }
   ],
   "source": [
    "nums1 = [1,0,0,2,3]\n",
    "nums2 = [0,3,0,4,0]\n",
    "\n",
    "v1 = SparseVector(nums1)\n",
    "v2 = SparseVector(nums2)\n",
    "\n",
    "v1.dotProduct(v2)"
   ]
  },
  {
   "cell_type": "code",
   "execution_count": 54,
   "id": "a64cac75",
   "metadata": {},
   "outputs": [],
   "source": [
    "class SparseVector:\n",
    "    def __init__(self, nums):\n",
    "        self.pairs = []\n",
    "        \n",
    "        for idx, val in enumerate(nums):\n",
    "            self.pairs.append([idx, val])\n",
    "    \n",
    "    def dotProduct(self, vec):\n",
    "        p1 = 0\n",
    "        p2 = 0\n",
    "        result = 0\n",
    "        \n",
    "        while p1 < len(self.pairs) and p2 < len(vec.pairs):\n",
    "            if self.pairs[p1][0] == vec.pairs[p2][0]:\n",
    "                result += self.pairs[p1][1] * vec.pairs[p2][1]\n",
    "                p1 += 1\n",
    "                p2 += 1\n",
    "            elif self.pairs[p1][0] < vec.pairs[p2][0]:\n",
    "                p1 += 1\n",
    "            else:\n",
    "                p2 += 1\n",
    "        return result"
   ]
  },
  {
   "cell_type": "code",
   "execution_count": 55,
   "id": "74bac4a8",
   "metadata": {},
   "outputs": [
    {
     "data": {
      "text/plain": [
       "8"
      ]
     },
     "execution_count": 55,
     "metadata": {},
     "output_type": "execute_result"
    }
   ],
   "source": [
    "nums1 = [1,0,0,2,3]\n",
    "nums2 = [0,3,0,4,0]\n",
    "\n",
    "v1 = SparseVector(nums1)\n",
    "v2 = SparseVector(nums2)\n",
    "\n",
    "v1.dotProduct(v2)"
   ]
  },
  {
   "cell_type": "markdown",
   "id": "d9a6fabf",
   "metadata": {},
   "source": [
    "## 14. Range Sum of BST"
   ]
  },
  {
   "cell_type": "code",
   "execution_count": 56,
   "id": "fd5122ed",
   "metadata": {},
   "outputs": [],
   "source": [
    "def rangeSumBST(root, low, high):\n",
    "    if not root:\n",
    "        return 0\n",
    "    \n",
    "    queue = [root]\n",
    "    total = 0\n",
    "    \n",
    "    while queue:\n",
    "        curr_node = queue.pop(0)\n",
    "        if curr_node:\n",
    "            if low <= curr_node.val <= high:\n",
    "                total += curr_node.val\n",
    "            if low < curr_node.val:\n",
    "                queue.append(curr_node.left)\n",
    "            if curr_node.val < high:\n",
    "                queue.append(curr_node.right)\n",
    "    return total"
   ]
  },
  {
   "cell_type": "code",
   "execution_count": 57,
   "id": "71334975",
   "metadata": {},
   "outputs": [
    {
     "data": {
      "text/plain": [
       "35"
      ]
     },
     "execution_count": 57,
     "metadata": {},
     "output_type": "execute_result"
    }
   ],
   "source": [
    "#       9\n",
    "#    4     20\n",
    "#  1  6  15   170\n",
    "\n",
    "rangeSumBST(root, 10, 30)"
   ]
  },
  {
   "cell_type": "markdown",
   "id": "e8424656",
   "metadata": {},
   "source": [
    "## 15. Valid Palindrome"
   ]
  },
  {
   "cell_type": "code",
   "execution_count": 58,
   "id": "95cb7dcc",
   "metadata": {},
   "outputs": [],
   "source": [
    "def isPalindrome(s):\n",
    "    if len(s) <= 1:\n",
    "        return True\n",
    "    \n",
    "    left = 0\n",
    "    right = len(s) - 1\n",
    "    \n",
    "    while left < right:\n",
    "        while left < right and not s[left].isalnum():\n",
    "            left += 1\n",
    "        while left < right and not s[right].isalnum():\n",
    "            right -= 1\n",
    "        \n",
    "        if s[left].lower() != s[right].lower():\n",
    "            return False\n",
    "        left += 1\n",
    "        right -= 1\n",
    "    return True"
   ]
  },
  {
   "cell_type": "code",
   "execution_count": 59,
   "id": "0e9953ec",
   "metadata": {},
   "outputs": [
    {
     "data": {
      "text/plain": [
       "True"
      ]
     },
     "execution_count": 59,
     "metadata": {},
     "output_type": "execute_result"
    }
   ],
   "source": [
    "s = \"A man, a plan, a canal: Panama\"\n",
    "isPalindrome(s)"
   ]
  },
  {
   "cell_type": "markdown",
   "id": "fb72cd93",
   "metadata": {},
   "source": [
    "## 16. Diameter of Binary tree"
   ]
  },
  {
   "cell_type": "code",
   "execution_count": 60,
   "id": "d8f1904a",
   "metadata": {},
   "outputs": [],
   "source": [
    "def diameterOfBinaryTree(root):\n",
    "    diameter = 0\n",
    "    \n",
    "    def get_longest_path(node):\n",
    "        if not node:\n",
    "            return 0\n",
    "        nonlocal diameter\n",
    "        \n",
    "        left_path = get_longest_path(node.left)\n",
    "        right_path = get_longest_path(node.right)\n",
    "        \n",
    "        diameter = max(diameter, left_path + right_path)\n",
    "        return max(left_path, right_path) + 1\n",
    "    \n",
    "    get_longest_path(root)\n",
    "    return diameter"
   ]
  },
  {
   "cell_type": "code",
   "execution_count": 61,
   "id": "b1586d56",
   "metadata": {},
   "outputs": [
    {
     "data": {
      "text/plain": [
       "4"
      ]
     },
     "execution_count": 61,
     "metadata": {},
     "output_type": "execute_result"
    }
   ],
   "source": [
    "diameterOfBinaryTree(root)"
   ]
  },
  {
   "cell_type": "markdown",
   "id": "5c727f4f",
   "metadata": {},
   "source": [
    "## 17. Subarray sum equals K"
   ]
  },
  {
   "cell_type": "code",
   "execution_count": 64,
   "id": "368d26a7",
   "metadata": {},
   "outputs": [],
   "source": [
    "from collections import defaultdict\n",
    "def subarraySum(nums, k):\n",
    "    count = 0\n",
    "    cumulative_sum = 0\n",
    "    prefix_sums = defaultdict(int)\n",
    "    prefix_sums[0] = 1\n",
    "    \n",
    "    for num in nums:\n",
    "        cumulative_sum += num\n",
    "        \n",
    "        if cumulative_sum - k in prefix_sums:\n",
    "            count += prefix_sums[cumulative_sum - k]\n",
    "        \n",
    "        prefix_sums[cumulative_sum] += 1\n",
    "    return count"
   ]
  },
  {
   "cell_type": "code",
   "execution_count": 65,
   "id": "2f90b003",
   "metadata": {},
   "outputs": [
    {
     "data": {
      "text/plain": [
       "2"
      ]
     },
     "execution_count": 65,
     "metadata": {},
     "output_type": "execute_result"
    }
   ],
   "source": [
    "nums = [1, 1, -1, 1, 2, 5]\n",
    "subarraySum(nums, 7)"
   ]
  },
  {
   "cell_type": "markdown",
   "id": "b1e2c2d7",
   "metadata": {},
   "source": [
    "## 18. Binary Tree right side view"
   ]
  },
  {
   "cell_type": "code",
   "execution_count": 69,
   "id": "2701b1db",
   "metadata": {},
   "outputs": [],
   "source": [
    "def rightSideView(root):\n",
    "    if not root:\n",
    "        return []\n",
    "    \n",
    "    result = []\n",
    "    \n",
    "    queue = [root]\n",
    "    \n",
    "    while queue:\n",
    "        queue_length = len(queue)\n",
    "        counter = 0\n",
    "        \n",
    "        while counter < queue_length:\n",
    "            curr_node = queue.pop(0)\n",
    "            \n",
    "            if curr_node.left:\n",
    "                queue.append(curr_node.left)\n",
    "            \n",
    "            if curr_node.right:\n",
    "                queue.append(curr_node.right)\n",
    "            \n",
    "            counter += 1\n",
    "        result.append(curr_node.val)\n",
    "    return result"
   ]
  },
  {
   "cell_type": "code",
   "execution_count": 70,
   "id": "ed3de955",
   "metadata": {},
   "outputs": [
    {
     "data": {
      "text/plain": [
       "[9, 20, 170]"
      ]
     },
     "execution_count": 70,
     "metadata": {},
     "output_type": "execute_result"
    }
   ],
   "source": [
    "rightSideView(root)"
   ]
  },
  {
   "cell_type": "markdown",
   "id": "60192186",
   "metadata": {},
   "source": [
    "## 19. Merged Intervals"
   ]
  },
  {
   "cell_type": "code",
   "execution_count": 107,
   "id": "f5860ce7",
   "metadata": {},
   "outputs": [],
   "source": [
    "def merge(intervals):\n",
    "    if not intervals:\n",
    "        return []\n",
    "    \n",
    "    intervals.sort(key=lambda x:x[0])\n",
    "    \n",
    "    merged_intervals = [intervals[0]]\n",
    "    \n",
    "    for current in intervals[1:]:\n",
    "        last = merged_intervals[-1]\n",
    "        \n",
    "        if current[0] <= last[1]:\n",
    "            last[1] = max(current[1], last[1])\n",
    "        else:\n",
    "            merged_intervals.append(current)\n",
    "    return merged_intervals"
   ]
  },
  {
   "cell_type": "code",
   "execution_count": 108,
   "id": "64de2968",
   "metadata": {},
   "outputs": [
    {
     "data": {
      "text/plain": [
       "[[1, 6], [8, 10], [15, 18]]"
      ]
     },
     "execution_count": 108,
     "metadata": {},
     "output_type": "execute_result"
    }
   ],
   "source": [
    "intervals = [[1,3],[2,6],[8,10],[15,18]]\n",
    "merge(intervals)"
   ]
  },
  {
   "cell_type": "markdown",
   "id": "23c655dc",
   "metadata": {},
   "source": [
    "## 20. Two Sum"
   ]
  },
  {
   "cell_type": "code",
   "execution_count": 78,
   "id": "f9e8f9e9",
   "metadata": {},
   "outputs": [],
   "source": [
    "def twoSum(nums, target):\n",
    "    hash_map = {}\n",
    "    \n",
    "    for i in range(len(nums)):\n",
    "        if nums[i] not in hash_map:\n",
    "            ntf = target - nums[i]\n",
    "            hash_map[ntf] = i\n",
    "        else:\n",
    "            return [hash_map[nums[i]], i]\n",
    "    return -1"
   ]
  },
  {
   "cell_type": "code",
   "execution_count": 80,
   "id": "4272371d",
   "metadata": {},
   "outputs": [
    {
     "data": {
      "text/plain": [
       "[1, 2]"
      ]
     },
     "execution_count": 80,
     "metadata": {},
     "output_type": "execute_result"
    }
   ],
   "source": [
    "nums = [2,7,11,15]\n",
    "target = 18\n",
    "twoSum(nums, target)"
   ]
  },
  {
   "cell_type": "markdown",
   "id": "3dc3fe59",
   "metadata": {},
   "source": [
    "## 21. LRU Cache"
   ]
  },
  {
   "cell_type": "code",
   "execution_count": 85,
   "id": "feb6dfbe",
   "metadata": {},
   "outputs": [],
   "source": [
    "class LRUCache:\n",
    "    def __init__(self, capacity):\n",
    "        self.odict = {}\n",
    "        self.capacity = capacity\n",
    "    def get(self, key):\n",
    "        if not self.odict.get(key, None):\n",
    "            return -1\n",
    "        \n",
    "        self.odict[key] = self.odict.pop(key)\n",
    "        return self.odict[key]\n",
    "    \n",
    "    def put(self, key, val):\n",
    "        self.odict.pop(key, None)\n",
    "        self.odict[key] = val\n",
    "        \n",
    "        if len(self.odict) > self.capacity:\n",
    "            self.odict.pop(next(iter(self.odict)))"
   ]
  },
  {
   "cell_type": "code",
   "execution_count": 86,
   "id": "51b674ac",
   "metadata": {},
   "outputs": [
    {
     "name": "stdout",
     "output_type": "stream",
     "text": [
      "1\n",
      "-1\n",
      "-1\n",
      "3\n",
      "4\n"
     ]
    }
   ],
   "source": [
    "capacity = 2\n",
    "lRUCache = LRUCache(capacity)\n",
    "lRUCache.put(1, 1)\n",
    "lRUCache.put(2, 2)\n",
    "print(lRUCache.get(1))\n",
    "\n",
    "lRUCache.put(3, 3)\n",
    "print(lRUCache.get(2))\n",
    "\n",
    "lRUCache.put(4, 4)\n",
    "print(lRUCache.get(1))\n",
    "\n",
    "print(lRUCache.get(3))\n",
    "print(lRUCache.get(4))"
   ]
  },
  {
   "cell_type": "markdown",
   "id": "224060c8",
   "metadata": {},
   "source": [
    "## 22. Top K frequent elements"
   ]
  },
  {
   "cell_type": "code",
   "execution_count": 91,
   "id": "0cb27eca",
   "metadata": {},
   "outputs": [],
   "source": [
    "from collections import Counter\n",
    "import heapq\n",
    "def topKFrequent(nums, k):\n",
    "    if k == len(nums):\n",
    "        return nums\n",
    "    counts = Counter(nums)\n",
    "    return heapq.nlargest(k, counts.keys(), key=counts.get)"
   ]
  },
  {
   "cell_type": "code",
   "execution_count": 92,
   "id": "4c8ba88d",
   "metadata": {},
   "outputs": [
    {
     "data": {
      "text/plain": [
       "[1, 2]"
      ]
     },
     "execution_count": 92,
     "metadata": {},
     "output_type": "execute_result"
    }
   ],
   "source": [
    "nums = [1,1,1,2,2,3]\n",
    "k = 2\n",
    "topKFrequent(nums, k)"
   ]
  },
  {
   "cell_type": "code",
   "execution_count": 95,
   "id": "807616aa",
   "metadata": {},
   "outputs": [],
   "source": [
    "def topKFrequent(nums, k):\n",
    "    if k ==len(nums):\n",
    "        return nums\n",
    "    \n",
    "    freq_map = Counter(nums)\n",
    "    freq_list = list(freq_map.items())\n",
    "    \n",
    "    n = len(freq_list)\n",
    "    left = 0\n",
    "    right = n - 1\n",
    "    k_largest_position = n - k\n",
    "    \n",
    "    quick_select(freq_list, left, right, k_largest_position)\n",
    "    return [freq_list[i][0] for i in range(n-k, n)]\n",
    "\n",
    "def quick_select(freq_list, left, right, k_largest_position):\n",
    "    if left == right:\n",
    "        return\n",
    "    \n",
    "    if left < right:\n",
    "        partition_index = partition(freq_list, left, right)\n",
    "        \n",
    "        if partition_index == k_largest_position:\n",
    "            return\n",
    "        elif partition_index < k_largest_position:\n",
    "            return quick_select(freq_list, partition_index + 1, right, k_largest_position)\n",
    "        else:\n",
    "            return quick_select(freq_list, left, partition_index - 1, k_largest_position)\n",
    "        \n",
    "def partition(freq_list, left, right):\n",
    "    partition_index = left\n",
    "    pivot_element = freq_list[right][1]\n",
    "    \n",
    "    for j in range(left, right):\n",
    "        if freq_list[j][1] <= pivot_element:\n",
    "            freq_list[j], freq_list[partition_index] = freq_list[partition_index], freq_list[j]\n",
    "            partition_index += 1\n",
    "    freq_list[right], freq_list[partition_index] = freq_list[partition_index], freq_list[right]\n",
    "    return partition_index"
   ]
  },
  {
   "cell_type": "code",
   "execution_count": 96,
   "id": "d04dfe23",
   "metadata": {},
   "outputs": [
    {
     "data": {
      "text/plain": [
       "[2, 1]"
      ]
     },
     "execution_count": 96,
     "metadata": {},
     "output_type": "execute_result"
    }
   ],
   "source": [
    "nums = [1,1,1,2,2,3]\n",
    "k = 2\n",
    "topKFrequent(nums, k)"
   ]
  },
  {
   "cell_type": "markdown",
   "id": "495e79ca",
   "metadata": {},
   "source": [
    "## 23. K closest point to the origin"
   ]
  },
  {
   "cell_type": "code",
   "execution_count": 97,
   "id": "83d8d4e9",
   "metadata": {},
   "outputs": [],
   "source": [
    "def kClosest(points, k):\n",
    "    points.sort(key=lambda x:x[0]**2 + x[1]**2)\n",
    "    return points[:k]"
   ]
  },
  {
   "cell_type": "code",
   "execution_count": 98,
   "id": "b6af798b",
   "metadata": {},
   "outputs": [
    {
     "name": "stdout",
     "output_type": "stream",
     "text": [
      "[[3, 3], [-2, 4]]\n"
     ]
    }
   ],
   "source": [
    "points = [[3, 3], [5, -1], [-2, 4]]\n",
    "k = 2\n",
    "print(kClosest(points, k))  # Output: [[3, 3], [-2, 4]]"
   ]
  },
  {
   "cell_type": "code",
   "execution_count": 99,
   "id": "8469ad20",
   "metadata": {},
   "outputs": [],
   "source": [
    "def kClosest(points, k):\n",
    "    distances = [x**2 + y**2 for x, y in points]\n",
    "    quick_select(points, distances, 0, len(distances) - 1, k - 1)\n",
    "    return points[:k]\n",
    "\n",
    "def quick_select(points, distances, left, right, index_to_find):\n",
    "    if left == right:\n",
    "        return\n",
    "    \n",
    "    if left < right:\n",
    "        partition_index = partition(points, distances, left, right)\n",
    "        \n",
    "        if partition_index == index_to_find:\n",
    "            return\n",
    "        elif partition_index < index_to_find:\n",
    "            return quick_select(points, distances, partition_index + 1, right, index_to_find)\n",
    "        else:\n",
    "            return quick_select(points, distances, left, partition_index - 1, index_to_find)\n",
    "\n",
    "def partition(points, distances, left, right):\n",
    "    partition_index = left\n",
    "    pivot_element = distances[right]\n",
    "    \n",
    "    for j in range(left, right):\n",
    "        if distances[j] <= pivot_element:\n",
    "            distances[j], distances[partition_index] = distances[partition_index], distances[j]\n",
    "            points[j], points[partition_index] = points[partition_index], points[j]\n",
    "            partition_index += 1\n",
    "    distances[right], distances[partition_index] = distances[partition_index], distances[right]\n",
    "    points[right], points[partition_index] = points[partition_index], points[right]\n",
    "    return partition_index"
   ]
  },
  {
   "cell_type": "code",
   "execution_count": 100,
   "id": "6b01b813",
   "metadata": {},
   "outputs": [
    {
     "name": "stdout",
     "output_type": "stream",
     "text": [
      "[[3, 3], [-2, 4]]\n"
     ]
    }
   ],
   "source": [
    "points = [[3, 3], [5, -1], [-2, 4]]\n",
    "k = 2\n",
    "print(kClosest(points, k))  # Output: [[3, 3], [-2, 4]]"
   ]
  },
  {
   "cell_type": "markdown",
   "id": "7b3338a2",
   "metadata": {},
   "source": [
    "## 24. Building with an Ocean View"
   ]
  },
  {
   "cell_type": "code",
   "execution_count": 101,
   "id": "2db807be",
   "metadata": {},
   "outputs": [],
   "source": [
    "def findBuildings(heights):\n",
    "    max_height = -1\n",
    "    result = []\n",
    "    \n",
    "    for i in reversed(range(len(heights))):\n",
    "        if heights[i] > max_height:\n",
    "            max_height = heights[i]\n",
    "            result.append(i)\n",
    "    result.reverse()\n",
    "    return result\n",
    "            "
   ]
  },
  {
   "cell_type": "code",
   "execution_count": 102,
   "id": "c300a872",
   "metadata": {},
   "outputs": [
    {
     "data": {
      "text/plain": [
       "[0, 2, 3]"
      ]
     },
     "execution_count": 102,
     "metadata": {},
     "output_type": "execute_result"
    }
   ],
   "source": [
    "heights = [4,2,3,1]\n",
    "findBuildings(heights)"
   ]
  },
  {
   "cell_type": "markdown",
   "id": "d6316de5",
   "metadata": {},
   "source": [
    "## 25. Interval List Intersections"
   ]
  },
  {
   "cell_type": "code",
   "execution_count": 111,
   "id": "a4c7e2b8",
   "metadata": {},
   "outputs": [],
   "source": [
    "def intervalIntersection(firstList, secondList):\n",
    "    answer = []\n",
    "    p1 = 0\n",
    "    p2 = 0\n",
    "    \n",
    "    while p1 < len(firstList) and p2 < len(secondList):\n",
    "        low_val = max(firstList[p1][0], secondList[p2][0])\n",
    "        high_val = min(firstList[p1][1], secondList[p2][1])\n",
    "        \n",
    "        if low_val <= high_val:\n",
    "            answer.append([low_val, high_val])\n",
    "        \n",
    "        if firstList[p1][1] <= secondList[p2][1]:\n",
    "            p1 += 1\n",
    "        else:\n",
    "            p2 += 1\n",
    "    return answer"
   ]
  },
  {
   "cell_type": "code",
   "execution_count": 112,
   "id": "4530bb9a",
   "metadata": {},
   "outputs": [
    {
     "data": {
      "text/plain": [
       "[[1, 2], [5, 5], [8, 10], [15, 23], [25, 26]]"
      ]
     },
     "execution_count": 112,
     "metadata": {},
     "output_type": "execute_result"
    }
   ],
   "source": [
    "firstList = [[0,2],[5,10],[13,23],[25,26]]\n",
    "secondList = [[1,5],[8,12],[15,24],[25,27]]\n",
    "\n",
    "intervalIntersection(firstList, secondList)"
   ]
  },
  {
   "cell_type": "markdown",
   "id": "4bddc471",
   "metadata": {},
   "source": [
    "## 26. Copy List with random pointer"
   ]
  },
  {
   "cell_type": "code",
   "execution_count": 113,
   "id": "a16523db",
   "metadata": {},
   "outputs": [],
   "source": [
    "class Solution:\n",
    "    def __init__(self):\n",
    "        # Dictionary which holds old nodes as keys and new nodes as its values.\n",
    "        self.visitedHash = {}\n",
    "        \n",
    "    def copyRandomList(self, head):\n",
    "        if not head:\n",
    "            return None\n",
    "        \n",
    "        if head in self.visitedHash:\n",
    "            return self.visitedHash[head]\n",
    "        \n",
    "        node = NewNode(head.val, None, None)\n",
    "        \n",
    "        self.visitedHash[head] = node\n",
    "        \n",
    "        node.next = self.copyRandomList(head.next)\n",
    "        node.random = self.copyRandomList(head.random)\n",
    "        return node"
   ]
  },
  {
   "cell_type": "code",
   "execution_count": 118,
   "id": "ceec2f43",
   "metadata": {},
   "outputs": [
    {
     "name": "stdout",
     "output_type": "stream",
     "text": [
      "List 1:\n",
      "1 -> 4 -> 5 -> None\n",
      "\n",
      "List 2:\n",
      "1 -> 3 -> 4 -> None\n",
      "\n",
      "List 3:\n",
      "2 -> 6 -> None\n"
     ]
    }
   ],
   "source": [
    "from functools import reduce\n",
    "\n",
    "# Template to create node list\n",
    "class ListNode:\n",
    "    def __init__(self, val, next=None):\n",
    "        self.val = val\n",
    "        self.next = next\n",
    "\n",
    "# Function to print the linked list\n",
    "def printList(head):\n",
    "    if not head:\n",
    "        return\n",
    "    while head:\n",
    "        print(head.val, end=\" -> \")\n",
    "        head = head.next\n",
    "    print(\"None\")\n",
    "\n",
    "# Function to create a linked list from a list of values\n",
    "def createLinkedList(values):\n",
    "    return reduce(lambda acc, val: ListNode(val, acc), reversed(values), None)\n",
    "\n",
    "# Create multiple linked lists\n",
    "list1 = createLinkedList([1, 4, 5])\n",
    "list2 = createLinkedList([1, 3, 4])\n",
    "list3 = createLinkedList([2, 6])\n",
    "\n",
    "# Print the linked lists\n",
    "print(\"List 1:\")\n",
    "printList(list1)\n",
    "\n",
    "print(\"\\nList 2:\")\n",
    "printList(list2)\n",
    "\n",
    "print(\"\\nList 3:\")\n",
    "printList(list3)"
   ]
  },
  {
   "cell_type": "markdown",
   "id": "ec55fd79",
   "metadata": {},
   "source": [
    "## 27. Merge K sorted List"
   ]
  },
  {
   "cell_type": "code",
   "execution_count": 115,
   "id": "e03d4902",
   "metadata": {},
   "outputs": [],
   "source": [
    "def mergeKLists(lists):\n",
    "    nodes = []\n",
    "    \n",
    "    dummy = ListNode(0)\n",
    "    current = dummy\n",
    "    \n",
    "    for l in lists:\n",
    "        while l:\n",
    "            nodes.append(l.val)\n",
    "            l = l.next\n",
    "    \n",
    "    for x in sorted(nodes):\n",
    "        current.next = ListNode(x)\n",
    "        current = current.next\n",
    "    return dummy.next"
   ]
  },
  {
   "cell_type": "code",
   "execution_count": 116,
   "id": "a3f4f5e6",
   "metadata": {},
   "outputs": [
    {
     "name": "stdout",
     "output_type": "stream",
     "text": [
      "\n",
      "Merged List:\n",
      "1 -> 1 -> 2 -> 3 -> 4 -> 4 -> 5 -> 6 -> None\n"
     ]
    }
   ],
   "source": [
    "mergedList = mergeKLists([list1, list2, list3])\n",
    "print(\"\\nMerged List:\")\n",
    "printList(mergedList)"
   ]
  },
  {
   "cell_type": "code",
   "execution_count": 117,
   "id": "8599aea8",
   "metadata": {},
   "outputs": [],
   "source": [
    "import heapq\n",
    "\n",
    "def mergeKLists(lists):\n",
    "    if not lists or len(lists) == 0:\n",
    "        return None\n",
    "    \n",
    "    min_heap = []\n",
    "    \n",
    "    dummy = ListNode(0)\n",
    "    current = dummy\n",
    "    \n",
    "    for i, l in enumerate(lists):\n",
    "        if l:\n",
    "            heapq.heappush(min_heap, (l.val, i, l))\n",
    "    \n",
    "    while min_heap:\n",
    "        val, i, node = heapq.heappop(min_heap)\n",
    "        \n",
    "        current.next = node\n",
    "        current = current.next\n",
    "        \n",
    "        if node.next:\n",
    "            heapq.heappush(min_heap, (node.next.val, i, node.next))\n",
    "    return dummy.next"
   ]
  },
  {
   "cell_type": "code",
   "execution_count": 120,
   "id": "e045756a",
   "metadata": {},
   "outputs": [
    {
     "name": "stdout",
     "output_type": "stream",
     "text": [
      "\n",
      "Merged List:\n",
      "1 -> 1 -> 2 -> 3 -> 4 -> 4 -> 5 -> 6 -> None\n"
     ]
    }
   ],
   "source": [
    "mergedList = mergeKLists([list1, list2, list3])\n",
    "print(\"\\nMerged List:\")\n",
    "printList(mergedList)"
   ]
  },
  {
   "cell_type": "markdown",
   "id": "0deabaea",
   "metadata": {},
   "source": [
    "## 28. Min adds to make parenthesis valid"
   ]
  },
  {
   "cell_type": "code",
   "execution_count": 121,
   "id": "87e22b50",
   "metadata": {},
   "outputs": [],
   "source": [
    "def minAddToMakeValid(s):\n",
    "    open_brackets = 0\n",
    "    min_adds_required = 0\n",
    "    \n",
    "    for c in s:\n",
    "        if c == '(':\n",
    "            open_brackets += 1\n",
    "        else:\n",
    "            if open_brackets > 0:\n",
    "                open_brackets -= 1\n",
    "            else:\n",
    "                min_adds_required += 1\n",
    "    return open_brackets + min_adds_required"
   ]
  },
  {
   "cell_type": "code",
   "execution_count": 122,
   "id": "1c02e167",
   "metadata": {},
   "outputs": [
    {
     "data": {
      "text/plain": [
       "3"
      ]
     },
     "execution_count": 122,
     "metadata": {},
     "output_type": "execute_result"
    }
   ],
   "source": [
    "s = \"(((\"\n",
    "minAddToMakeValid(s)"
   ]
  },
  {
   "cell_type": "markdown",
   "id": "f286bebe",
   "metadata": {},
   "source": [
    "## 29. Next Permutation"
   ]
  },
  {
   "cell_type": "code",
   "execution_count": 125,
   "id": "12363a9c",
   "metadata": {},
   "outputs": [],
   "source": [
    "def nextPermutation(nums):\n",
    "    n = len(nums)\n",
    "    \n",
    "    i = n - 2\n",
    "    \n",
    "    while i >= 0 and nums[i] >= nums[i + 1]:\n",
    "        i -= 1\n",
    "        \n",
    "    if i >= 0:\n",
    "        j = n - 1\n",
    "        \n",
    "        if nums[j] <= nums[i]:\n",
    "            j -= 1\n",
    "        nums[i], nums[j] = nums[j], nums[i]\n",
    "        \n",
    "    left = i + 1\n",
    "    right = n - 1\n",
    "    \n",
    "    while left < right:\n",
    "        nums[left], nums[right] = nums[right], nums[left]\n",
    "        left += 1\n",
    "        right -= 1\n",
    "        "
   ]
  },
  {
   "cell_type": "code",
   "execution_count": 126,
   "id": "982c76aa",
   "metadata": {},
   "outputs": [
    {
     "name": "stdout",
     "output_type": "stream",
     "text": [
      "[1, 4, 1, 3, 5, 6]\n"
     ]
    }
   ],
   "source": [
    "nums = [1, 3, 6, 5, 4, 1]\n",
    "nextPermutation(nums)\n",
    "print(nums)"
   ]
  },
  {
   "cell_type": "markdown",
   "id": "3d9a1900",
   "metadata": {},
   "source": [
    "## 30. Sum root to leaf numbers"
   ]
  },
  {
   "cell_type": "code",
   "execution_count": 127,
   "id": "c17c06a5",
   "metadata": {},
   "outputs": [],
   "source": [
    "def run():\n",
    "    root = Node(5)\n",
    "    root.insert_nodes([3, 7, 2, 4, 6, 8], root)\n",
    "    bfs_result = root.bfs(root=root)\n",
    "    dfs_inorder = root.DFSInorder(root)\n",
    "    dfs_preorder = root.DFSPreOrder(root)\n",
    "    dfs_postorder = root.DFSPostOrder(root)\n",
    "    return root, bfs_result, dfs_inorder, dfs_preorder, dfs_postorder\n",
    "\n",
    "root_2, bfs_result, dfs_inorder, dfs_preorder, dfs_postorder = run()"
   ]
  },
  {
   "cell_type": "code",
   "execution_count": 130,
   "id": "2ba47f28",
   "metadata": {},
   "outputs": [],
   "source": [
    "def sumNumbers(root):\n",
    "    if not root:\n",
    "        return 0\n",
    "    \n",
    "    result = 0\n",
    "    \n",
    "    queue = [[root, root.val]]\n",
    "    \n",
    "    while queue:\n",
    "        curr_node, path_sum = queue.pop(0)\n",
    "        \n",
    "        if not curr_node.left and not curr_node.right:\n",
    "            result += path_sum\n",
    "            \n",
    "        if curr_node.left:\n",
    "            queue.append([curr_node.left, path_sum * 10 + curr_node.left.val])\n",
    "            \n",
    "        if curr_node.right:\n",
    "            queue.append([curr_node.right, path_sum * 10 + curr_node.right.val])\n",
    "    return result"
   ]
  },
  {
   "cell_type": "code",
   "execution_count": 131,
   "id": "c858fa4a",
   "metadata": {},
   "outputs": [
    {
     "data": {
      "text/plain": [
       "2220"
      ]
     },
     "execution_count": 131,
     "metadata": {},
     "output_type": "execute_result"
    }
   ],
   "source": [
    "sumNumbers(root_2)"
   ]
  },
  {
   "cell_type": "markdown",
   "id": "0504998a",
   "metadata": {},
   "source": [
    "## 31. Moving averages from data stream"
   ]
  },
  {
   "cell_type": "code",
   "execution_count": 1,
   "id": "60be1d39",
   "metadata": {},
   "outputs": [],
   "source": [
    "from collections import deque\n",
    "class MovingAverage:\n",
    "    def __init__(self, size):\n",
    "        self.size = size\n",
    "        self.count = 0\n",
    "        self.window_sum = 0\n",
    "        self.queue = deque()\n",
    "    \n",
    "    def next(self, val):\n",
    "        self.count += 1\n",
    "        self.queue.append(val)\n",
    "        \n",
    "        tail = self.queue.popleft() if self.count > self.size else 0\n",
    "        self.window_sum = self.window_sum + val - tail\n",
    "        return self.window_sum / min(self.count, self.size)"
   ]
  },
  {
   "cell_type": "code",
   "execution_count": 2,
   "id": "7ced1165",
   "metadata": {},
   "outputs": [
    {
     "name": "stdout",
     "output_type": "stream",
     "text": [
      "1.0\n",
      "5.5\n",
      "4.666666666666667\n",
      "6.0\n"
     ]
    }
   ],
   "source": [
    "movingAverage = MovingAverage(3)\n",
    "print(movingAverage.next(1))\n",
    "print(movingAverage.next(10))\n",
    "print(movingAverage.next(3))\n",
    "print(movingAverage.next(5))"
   ]
  },
  {
   "cell_type": "markdown",
   "id": "8732936a",
   "metadata": {},
   "source": [
    "## 32. Custom sort string"
   ]
  },
  {
   "cell_type": "code",
   "execution_count": 3,
   "id": "68901d20",
   "metadata": {},
   "outputs": [],
   "source": [
    "from collections import Counter\n",
    "def customSortString(order, s):\n",
    "    counts = Counter(s)\n",
    "    \n",
    "    result = []\n",
    "    \n",
    "    for char in order:\n",
    "        if char in counts:\n",
    "            result.append(counts[char] * char)\n",
    "            del counts[char]\n",
    "    \n",
    "    for letter, count in counts.items():\n",
    "        result.append(letter * count)\n",
    "        \n",
    "    return \"\".join(result)"
   ]
  },
  {
   "cell_type": "code",
   "execution_count": 4,
   "id": "e26ac136",
   "metadata": {},
   "outputs": [
    {
     "data": {
      "text/plain": [
       "'cbaeed'"
      ]
     },
     "execution_count": 4,
     "metadata": {},
     "output_type": "execute_result"
    }
   ],
   "source": [
    "order = \"cba\"\n",
    "s = \"abceed\"\n",
    "\n",
    "customSortString(order, s)"
   ]
  },
  {
   "cell_type": "markdown",
   "id": "3c61c6a9",
   "metadata": {},
   "source": [
    "## 33. Convert Binary Tree into sorted doubly Linked List"
   ]
  },
  {
   "cell_type": "code",
   "execution_count": 8,
   "id": "2280ec97",
   "metadata": {},
   "outputs": [],
   "source": [
    "def treeToDoublyList(root):\n",
    "    if not root:\n",
    "        return None\n",
    "    \n",
    "    first, last = None, None\n",
    "    \n",
    "    def inorder(node):\n",
    "        nonlocal first, last\n",
    "        \n",
    "        if node:\n",
    "            inorder(node.left)\n",
    "            \n",
    "            if last:\n",
    "                last.right = node\n",
    "                node.left = last\n",
    "            else:\n",
    "                first = node\n",
    "            \n",
    "            last = node\n",
    "            \n",
    "            inorder(node.right)\n",
    "    \n",
    "    inorder(root)\n",
    "    \n",
    "    last.right = first\n",
    "    first.left = last\n",
    "    \n",
    "    return first"
   ]
  },
  {
   "cell_type": "markdown",
   "id": "bfb548f9",
   "metadata": {},
   "source": [
    "## 34. Maximum Consecutive ones"
   ]
  },
  {
   "cell_type": "code",
   "execution_count": 10,
   "id": "bd0548cc",
   "metadata": {},
   "outputs": [],
   "source": [
    "def longestOnes(nums, k):\n",
    "    left = 0\n",
    "    \n",
    "    for right in range(len(nums)):\n",
    "        if nums[right] == 0:\n",
    "            k -= 1\n",
    "        \n",
    "        if k < 0:\n",
    "            if nums[left] == 0:\n",
    "                k += 1\n",
    "            left += 1\n",
    "    return right - left + 1"
   ]
  },
  {
   "cell_type": "code",
   "execution_count": 11,
   "id": "5a14e686",
   "metadata": {},
   "outputs": [
    {
     "data": {
      "text/plain": [
       "6"
      ]
     },
     "execution_count": 11,
     "metadata": {},
     "output_type": "execute_result"
    }
   ],
   "source": [
    "nums = [1,1,1,0,0,0,1,1,1,1,0]\n",
    "k = 2\n",
    "\n",
    "longestOnes(nums, k)"
   ]
  },
  {
   "cell_type": "markdown",
   "id": "490467c6",
   "metadata": {},
   "source": [
    "## 35. Maximum swap"
   ]
  },
  {
   "cell_type": "code",
   "execution_count": 15,
   "id": "a7cf7233",
   "metadata": {},
   "outputs": [],
   "source": [
    "def maximumSwap(num):\n",
    "    digits = list(str(num))\n",
    "    right_most = {int(d):i for i, d in enumerate(digits)}\n",
    "    \n",
    "    for i, d in enumerate(digits):\n",
    "        for larger in range(9, int(d), -1):\n",
    "            if right_most.get(larger, -1) > i:\n",
    "                digits[i], digits[right_most[larger]] = digits[right_most[larger]], digits[i]\n",
    "                return int(\"\".join(digits))"
   ]
  },
  {
   "cell_type": "code",
   "execution_count": 16,
   "id": "e9613656",
   "metadata": {},
   "outputs": [
    {
     "data": {
      "text/plain": [
       "7726"
      ]
     },
     "execution_count": 16,
     "metadata": {},
     "output_type": "execute_result"
    }
   ],
   "source": [
    "num = 2776\n",
    "maximumSwap(num)    "
   ]
  },
  {
   "cell_type": "markdown",
   "id": "fbdb4063",
   "metadata": {},
   "source": [
    "## 36. Vertical Order Traversal of a binary tree II"
   ]
  },
  {
   "cell_type": "code",
   "execution_count": 25,
   "id": "e50210f8",
   "metadata": {},
   "outputs": [],
   "source": [
    "from collections import defaultdict\n",
    "def verticalTraversal(root):\n",
    "    if not root:\n",
    "        return []\n",
    "    \n",
    "    column_table = defaultdict(list)\n",
    "    min_col = 0\n",
    "    max_col = 0\n",
    "    queue = [[root, 0, 0]]\n",
    "    \n",
    "    while queue:\n",
    "        curr_node, curr_row, curr_col = queue.pop(0)\n",
    "        \n",
    "        if curr_node:\n",
    "            column_table[curr_col].append([curr_row, curr_node.val])\n",
    "            min_col = min(min_col, curr_col)\n",
    "            max_col = max(max_col, curr_col)\n",
    "\n",
    "            queue.append([curr_node.left, curr_row + 1, curr_col - 1])\n",
    "            queue.append([curr_node.right, curr_row + 1, curr_col + 1])\n",
    "            \n",
    "    sorted_result = []\n",
    "    \n",
    "    for col in range(min_col, max_col + 1):\n",
    "        sorted_column = sorted(column_table[col], key=lambda x:(x[0], x[1]))\n",
    "        print(sorted_column)\n",
    "        sorted_result.append([val for _, val in sorted_column])\n",
    "    return sorted_result"
   ]
  },
  {
   "cell_type": "code",
   "execution_count": 26,
   "id": "8d4ff92a",
   "metadata": {},
   "outputs": [
    {
     "name": "stdout",
     "output_type": "stream",
     "text": [
      "[[2, 1]]\n",
      "[[1, 4]]\n",
      "[[0, 9], [2, 6], [2, 15]]\n",
      "[[1, 20]]\n",
      "[[2, 170]]\n"
     ]
    },
    {
     "data": {
      "text/plain": [
       "[[1], [4], [9, 6, 15], [20], [170]]"
      ]
     },
     "execution_count": 26,
     "metadata": {},
     "output_type": "execute_result"
    }
   ],
   "source": [
    "#       9\n",
    "#    4     20\n",
    "#  1  6  15   170\n",
    "\n",
    "verticalTraversal(root)"
   ]
  },
  {
   "cell_type": "markdown",
   "id": "7046d936",
   "metadata": {},
   "source": [
    "## 37. Kth missing positive number"
   ]
  },
  {
   "cell_type": "code",
   "execution_count": 27,
   "id": "48437500",
   "metadata": {},
   "outputs": [],
   "source": [
    "def findKthPositive(nums, k):\n",
    "    for num in nums:\n",
    "        if num <= k:\n",
    "            k += 1\n",
    "        else:\n",
    "            break\n",
    "    return k"
   ]
  },
  {
   "cell_type": "code",
   "execution_count": 28,
   "id": "ca2bb9b0",
   "metadata": {},
   "outputs": [
    {
     "data": {
      "text/plain": [
       "9"
      ]
     },
     "execution_count": 28,
     "metadata": {},
     "output_type": "execute_result"
    }
   ],
   "source": [
    "arr = [2,3,4,7,11]\n",
    "k = 5\n",
    "findKthPositive(arr, k)"
   ]
  },
  {
   "cell_type": "code",
   "execution_count": 29,
   "id": "80026302",
   "metadata": {},
   "outputs": [],
   "source": [
    "def findKthPositive(nums, k):\n",
    "    left = 0\n",
    "    right = len(nums) - 1\n",
    "    \n",
    "    while left <= right:\n",
    "        mid = (left + right) // 2\n",
    "        \n",
    "        if arr[mid] - mid - 1 < k:\n",
    "            left = mid + 1\n",
    "        else:\n",
    "            right = mid - 1\n",
    "            \n",
    "    return left + k"
   ]
  },
  {
   "cell_type": "code",
   "execution_count": 30,
   "id": "4198460b",
   "metadata": {},
   "outputs": [
    {
     "data": {
      "text/plain": [
       "9"
      ]
     },
     "execution_count": 30,
     "metadata": {},
     "output_type": "execute_result"
    }
   ],
   "source": [
    "arr = [2,3,4,7,11]\n",
    "k = 5\n",
    "findKthPositive(arr, k)"
   ]
  },
  {
   "cell_type": "markdown",
   "id": "bfec0d24",
   "metadata": {},
   "source": [
    "## 38. Clone Graph"
   ]
  },
  {
   "cell_type": "code",
   "execution_count": 31,
   "id": "cb8b7822",
   "metadata": {},
   "outputs": [],
   "source": [
    "def cloneGraph(node):\n",
    "    if not node:\n",
    "        return None\n",
    "    \n",
    "    visited = {}\n",
    "    \n",
    "    def dfs(curr_node):\n",
    "        if curr_node in visited:\n",
    "            return visited[curr_node]\n",
    "        \n",
    "        clone = Node(curr_node.val)\n",
    "        \n",
    "        visited[curr_node] = clone\n",
    "        \n",
    "        for neighbor in curr_node.neighbors:\n",
    "            clone.neighbors.append(dfs(neighbor))\n",
    "        \n",
    "        return clone\n",
    "            \n",
    "    return dfs(node)\n",
    "    "
   ]
  },
  {
   "cell_type": "markdown",
   "id": "9c54baa0",
   "metadata": {},
   "source": [
    "## 39. First and Last position of an element in a sorted array"
   ]
  },
  {
   "cell_type": "code",
   "execution_count": 32,
   "id": "8f67188b",
   "metadata": {},
   "outputs": [],
   "source": [
    "def searchRange(nums, target):\n",
    "    if len(nums) == 0:\n",
    "        return [-1, -1]\n",
    "    \n",
    "    first_position = binary_search(nums, 0, len(nums)- 1, target)\n",
    "    \n",
    "    if first_position == -1:\n",
    "        return [-1, -1]\n",
    "    \n",
    "    start_position = first_position\n",
    "    end_position = first_position\n",
    "    tempL = 0\n",
    "    tempR = 0\n",
    "    \n",
    "    while start_position != -1:\n",
    "        tempL = start_position\n",
    "        start_position = binary_search(nums, 0, start_position - 1, target)\n",
    "    start_position = tempL\n",
    "    \n",
    "    while end_position != -1:\n",
    "        tempR = end_position\n",
    "        end_position = binary_search(nums, end_position + 1, len(nums) - 1, target)\n",
    "    end_position = tempR\n",
    "    \n",
    "    return [start_position, end_position]\n",
    "\n",
    "def binary_search(nums, left, right, target):\n",
    "    while left <= right:\n",
    "        mid = (left + right) // 2\n",
    "        \n",
    "        if nums[mid] == target:\n",
    "            return mid\n",
    "        elif nums[mid] < target:\n",
    "            left = mid + 1\n",
    "        else:\n",
    "            right = mid - 1\n",
    "    return -1"
   ]
  },
  {
   "cell_type": "code",
   "execution_count": 33,
   "id": "2029ef23",
   "metadata": {},
   "outputs": [
    {
     "data": {
      "text/plain": [
       "[3, 4]"
      ]
     },
     "execution_count": 33,
     "metadata": {},
     "output_type": "execute_result"
    }
   ],
   "source": [
    "nums = [5,7,7,8,8,10]\n",
    "target = 8\n",
    "\n",
    "searchRange(nums, target)"
   ]
  },
  {
   "cell_type": "markdown",
   "id": "906388c3",
   "metadata": {},
   "source": [
    "## 40. Best Time to buy and sell stocks"
   ]
  },
  {
   "cell_type": "code",
   "execution_count": 34,
   "id": "0dcedc08",
   "metadata": {},
   "outputs": [],
   "source": [
    "def maxProfit(prices):\n",
    "    min_price = float('inf')\n",
    "    max_profit = 0\n",
    "    \n",
    "    for price in prices:\n",
    "        if price < min_price:\n",
    "            min_price = price\n",
    "        \n",
    "        if price - min_price > max_profit:\n",
    "            max_profit = price - min_price\n",
    "    return max_profit"
   ]
  },
  {
   "cell_type": "code",
   "execution_count": 35,
   "id": "e681b499",
   "metadata": {},
   "outputs": [
    {
     "data": {
      "text/plain": [
       "5"
      ]
     },
     "execution_count": 35,
     "metadata": {},
     "output_type": "execute_result"
    }
   ],
   "source": [
    "prices = [7,1,5,3,6,4]\n",
    "maxProfit(prices)"
   ]
  },
  {
   "cell_type": "markdown",
   "id": "19aa519d",
   "metadata": {},
   "source": [
    "## 41. Three sum to zero"
   ]
  },
  {
   "cell_type": "code",
   "execution_count": 36,
   "id": "a96ced01",
   "metadata": {},
   "outputs": [],
   "source": [
    "def threeSum(nums):\n",
    "    res = []\n",
    "    nums.sort()\n",
    "    \n",
    "    for i in range(len(nums)):\n",
    "        if nums[i] > 0:\n",
    "            break\n",
    "        if i == 0 or nums[i] != nums[i - 1]:\n",
    "            twoSum(nums, i, res)\n",
    "    return res\n",
    "\n",
    "def twoSum(nums, i, res):\n",
    "    left = i + 1\n",
    "    right = len(nums) - 1\n",
    "    \n",
    "    while left < right:\n",
    "        total = nums[i] + nums[left] + nums[right]\n",
    "        \n",
    "        if total < 0:\n",
    "            left += 1\n",
    "        elif total > 0:\n",
    "            right -= 1\n",
    "        else:\n",
    "            res.append([nums[i], nums[left], nums[right]])\n",
    "            \n",
    "            left += 1\n",
    "            right -= 1\n",
    "            \n",
    "            while left < right and nums[left] == nums[left - 1]:\n",
    "                left += 1\n",
    "                "
   ]
  },
  {
   "cell_type": "code",
   "execution_count": 37,
   "id": "1662334d",
   "metadata": {},
   "outputs": [
    {
     "data": {
      "text/plain": [
       "[[-1, -1, 2], [-1, 0, 1]]"
      ]
     },
     "execution_count": 37,
     "metadata": {},
     "output_type": "execute_result"
    }
   ],
   "source": [
    "nums = [-1,0,1,2,-1,-4]\n",
    "threeSum(nums)"
   ]
  },
  {
   "cell_type": "markdown",
   "id": "9f409d73",
   "metadata": {},
   "source": [
    "## 42. Move zeros"
   ]
  },
  {
   "cell_type": "code",
   "execution_count": 38,
   "id": "116c66aa",
   "metadata": {},
   "outputs": [],
   "source": [
    "def moveZeroes(nums):\n",
    "    # pos tracks the position where the next non-zero element should be placed\n",
    "    pos = 0\n",
    "    \n",
    "    for i in range(len(nums)):\n",
    "        if nums[i] != 0:\n",
    "            if pos != i:\n",
    "                nums[i], nums[pos] = nums[pos], nums[i]\n",
    "            pos += 1"
   ]
  },
  {
   "cell_type": "code",
   "execution_count": 39,
   "id": "050e2b65",
   "metadata": {},
   "outputs": [
    {
     "name": "stdout",
     "output_type": "stream",
     "text": [
      "[1, 3, 12, 0, 0]\n"
     ]
    }
   ],
   "source": [
    "nums = [0,1,0,3,12]\n",
    "moveZeroes(nums)\n",
    "print(nums)"
   ]
  },
  {
   "cell_type": "markdown",
   "id": "eb98576f",
   "metadata": {},
   "source": [
    "## 43. Add Two Linked Lists"
   ]
  },
  {
   "cell_type": "code",
   "execution_count": 40,
   "id": "ec215fa2",
   "metadata": {},
   "outputs": [],
   "source": [
    "def addTwoNumbers(l1, l2):\n",
    "    dummy = ListNode(0)\n",
    "    curr = dummy\n",
    "    carry = 0\n",
    "    \n",
    "    while l1 or l2 or carry != 0:\n",
    "        l1val = l1.val if l1 else 0\n",
    "        l2val = l2.val if l2 else 0\n",
    "        \n",
    "        column_sum = (l1val + l2val + carry) % 10\n",
    "        carry = (l1val + l2val + carry) // 10\n",
    "        \n",
    "        curr.next = ListNode(column_sum)\n",
    "        curr = curr.next\n",
    "        \n",
    "        l1 = l1.next if l1 else None\n",
    "        l2 = l2.next if l2 else None\n",
    "        \n",
    "    return dummy.next"
   ]
  },
  {
   "cell_type": "markdown",
   "id": "80b79195",
   "metadata": {},
   "source": [
    "## 44. Longest Common Prefix"
   ]
  },
  {
   "cell_type": "code",
   "execution_count": 41,
   "id": "18224f51",
   "metadata": {},
   "outputs": [],
   "source": [
    "def longestCommonPrefix(strs):\n",
    "    result = []\n",
    "    \n",
    "    for x in zip(*strs):\n",
    "        if len(set(x)) == 1:\n",
    "            result.append(x[0])\n",
    "        else:\n",
    "            break\n",
    "    return \"\".join(result)"
   ]
  },
  {
   "cell_type": "code",
   "execution_count": 42,
   "id": "c0b4f424",
   "metadata": {},
   "outputs": [
    {
     "data": {
      "text/plain": [
       "'fl'"
      ]
     },
     "execution_count": 42,
     "metadata": {},
     "output_type": "execute_result"
    }
   ],
   "source": [
    "strs = [\"flower\",\"flow\",\"flight\"]\n",
    "longestCommonPrefix(strs)"
   ]
  },
  {
   "cell_type": "markdown",
   "id": "bfcb1892",
   "metadata": {},
   "source": [
    "## 45. Insert into a sorted circular linked list"
   ]
  },
  {
   "cell_type": "code",
   "execution_count": 44,
   "id": "0d00ba98",
   "metadata": {},
   "outputs": [],
   "source": [
    "def insert(head, insertVal):\n",
    "    if not head:\n",
    "        new_node = ListNode(insertVal, None)\n",
    "        new_node.next = new_node\n",
    "        return new_node\n",
    "    \n",
    "    prev = head\n",
    "    curr = head.next\n",
    "    \n",
    "    to_insert = False\n",
    "    \n",
    "    while True:\n",
    "        if prev.val <= insertVal <= curr.val:\n",
    "            to_insert = True\n",
    "        elif prev.val > curr.val:\n",
    "            if insertVal >= prev.val or insertVal <= curr.val:\n",
    "                to_insert = True\n",
    "        \n",
    "        if to_insert:\n",
    "            prev.next = ListNode(insertVal, curr)\n",
    "            return head\n",
    "        \n",
    "        prev, curr = curr, curr.next\n",
    "        \n",
    "        if prev == head:\n",
    "            break\n",
    "    \n",
    "    prev.next = ListNode(insertVal, curr)\n",
    "    return head            "
   ]
  },
  {
   "cell_type": "markdown",
   "id": "6df26b1f",
   "metadata": {},
   "source": [
    "## 46. Number of islands"
   ]
  },
  {
   "cell_type": "code",
   "execution_count": 45,
   "id": "49e1716c",
   "metadata": {},
   "outputs": [],
   "source": [
    "def numIslands(grid):\n",
    "    if len(grid) == 0:\n",
    "        return 0\n",
    "    \n",
    "    island_count = 0\n",
    "    directions = [[-1, 0], [0, 1], [1, 0], [0, -1]]\n",
    "    \n",
    "    for row in range(len(grid)):\n",
    "        for col in range(len(grid[0])):\n",
    "            if grid[row][col] == '1':\n",
    "                island_count += 1\n",
    "                grid[row][col] = '0'\n",
    "                \n",
    "                queue = [[row, col]]\n",
    "                \n",
    "                while queue:\n",
    "                    curr_row, curr_col = queue.pop(0)\n",
    "                    \n",
    "                    for i in range(len(directions)):\n",
    "                        direction = directions[i]\n",
    "                        \n",
    "                        next_row, next_col = curr_row + direction[0], curr_col + direction[1]\n",
    "                        \n",
    "                        if next_row < 0 or next_col < 0 or next_row >= len(grid) or next_col >= len(grid[0]):\n",
    "                            continue\n",
    "                        \n",
    "                        if grid[next_row][next_col] == '1':\n",
    "                            grid[next_row][next_col] = '0'\n",
    "                            queue.append([next_row, next_col])\n",
    "    return island_count"
   ]
  },
  {
   "cell_type": "code",
   "execution_count": 46,
   "id": "43e87058",
   "metadata": {},
   "outputs": [
    {
     "data": {
      "text/plain": [
       "3"
      ]
     },
     "execution_count": 46,
     "metadata": {},
     "output_type": "execute_result"
    }
   ],
   "source": [
    "grid = [\n",
    "  [\"1\",\"1\",\"0\",\"0\",\"0\"],\n",
    "  [\"1\",\"1\",\"0\",\"0\",\"0\"],\n",
    "  [\"0\",\"0\",\"1\",\"0\",\"0\"],\n",
    "  [\"0\",\"0\",\"0\",\"1\",\"1\"]\n",
    "]\n",
    "\n",
    "numIslands(grid)"
   ]
  },
  {
   "cell_type": "markdown",
   "id": "b6ca8761",
   "metadata": {},
   "source": [
    "## 47. Add strings"
   ]
  },
  {
   "cell_type": "code",
   "execution_count": 51,
   "id": "59ca74cb",
   "metadata": {},
   "outputs": [],
   "source": [
    "def addStrings(num1, num2):\n",
    "    result = []\n",
    "    carry = 0\n",
    "    \n",
    "    p1 = len(num1) - 1\n",
    "    p2 = len(num2) - 1\n",
    "    \n",
    "    while p1 >= 0 or p2 >= 0:\n",
    "        x1 = ord(num1[p1]) - ord('0') if p1 >= 0 else 0\n",
    "        x2 = ord(num2[p2]) - ord('0') if p2 >= 0 else 0\n",
    "        \n",
    "        column_sum = (x1 + x2 + carry) % 10\n",
    "        carry = (x1 + x2 + carry) // 10\n",
    "        \n",
    "        result.append(column_sum)\n",
    "        \n",
    "        p1 -= 1\n",
    "        p2 -= 1\n",
    "        \n",
    "    if carry:\n",
    "        result.append(carry)\n",
    "    \n",
    "    return \"\".join(str(x) for x in result[::-1])"
   ]
  },
  {
   "cell_type": "code",
   "execution_count": 52,
   "id": "977a7dc0",
   "metadata": {},
   "outputs": [
    {
     "data": {
      "text/plain": [
       "'533'"
      ]
     },
     "execution_count": 52,
     "metadata": {},
     "output_type": "execute_result"
    }
   ],
   "source": [
    "num1 = \"456\"\n",
    "num2 = \"77\"\n",
    "\n",
    "addStrings(num1, num2)"
   ]
  },
  {
   "cell_type": "markdown",
   "id": "d1ad7453",
   "metadata": {},
   "source": [
    "## 48. Account Merge"
   ]
  },
  {
   "cell_type": "code",
   "execution_count": 59,
   "id": "3ab52a00",
   "metadata": {},
   "outputs": [],
   "source": [
    "def accountsMerge(accounts):\n",
    "    visited = [False] * len(accounts)\n",
    "    email_accounts_map = defaultdict(list)\n",
    "    result = []\n",
    "    \n",
    "    for idx, account in enumerate(accounts):\n",
    "        for j in range(1, len(account)):\n",
    "            email_accounts_map[account[j]].append(idx)\n",
    "            \n",
    "    def dfs(i, emails):\n",
    "        if visited[i]:\n",
    "            return\n",
    "        \n",
    "        visited[i] = True\n",
    "        \n",
    "        for j in range(1, len(accounts[i])):\n",
    "            email = accounts[i][j]\n",
    "            emails.add(email)\n",
    "            \n",
    "            for neighbors in email_accounts_map[email]:\n",
    "                dfs(neighbors, emails)\n",
    "    \n",
    "    for idx, account in enumerate(accounts):\n",
    "        if visited[idx]:\n",
    "            continue\n",
    "        \n",
    "        name, emails = account[0], set()\n",
    "        dfs(idx, emails)\n",
    "        result.append([name] + sorted(emails))\n",
    "    return result"
   ]
  },
  {
   "cell_type": "code",
   "execution_count": 60,
   "id": "625efcc3",
   "metadata": {},
   "outputs": [
    {
     "data": {
      "text/plain": [
       "[['John', 'john00@mail.com', 'john_newyork@mail.com', 'johnsmith@mail.com'],\n",
       " ['Mary', 'mary@mail.com'],\n",
       " ['John', 'johnnybravo@mail.com']]"
      ]
     },
     "execution_count": 60,
     "metadata": {},
     "output_type": "execute_result"
    }
   ],
   "source": [
    "accounts = [[\"John\",\"johnsmith@mail.com\",\"john_newyork@mail.com\"],[\"John\",\"johnsmith@mail.com\",\"john00@mail.com\"],\n",
    "            [\"Mary\",\"mary@mail.com\"],[\"John\",\"johnnybravo@mail.com\"]]\n",
    "\n",
    "accountsMerge(accounts)"
   ]
  },
  {
   "cell_type": "markdown",
   "id": "a39f8b33",
   "metadata": {},
   "source": [
    "## 49. Diagonal Traverse"
   ]
  },
  {
   "cell_type": "code",
   "execution_count": 62,
   "id": "adfe3fff",
   "metadata": {},
   "outputs": [],
   "source": [
    "def findDiagonalOrder(mat):\n",
    "    hash_map = defaultdict(list)\n",
    "    \n",
    "    for row in range(len(mat)):\n",
    "        for col in range(len(mat[0])):\n",
    "            hash_map[row + col].append(mat[row][col])\n",
    "            \n",
    "    result = []\n",
    "    \n",
    "    for item in hash_map.items():\n",
    "        if item[0] % 2 == 0:\n",
    "            [result.append(x) for x in item[1][::-1]]\n",
    "        else:\n",
    "            [result.append(x) for x in item[1]]\n",
    "    return result"
   ]
  },
  {
   "cell_type": "code",
   "execution_count": 63,
   "id": "a7736b40",
   "metadata": {},
   "outputs": [
    {
     "data": {
      "text/plain": [
       "[1, 2, 4, 7, 5, 3, 6, 8, 9]"
      ]
     },
     "execution_count": 63,
     "metadata": {},
     "output_type": "execute_result"
    }
   ],
   "source": [
    "mat = [[1,2,3],[4,5,6],[7,8,9]]\n",
    "findDiagonalOrder(mat)"
   ]
  },
  {
   "cell_type": "markdown",
   "id": "f9a521b6",
   "metadata": {},
   "source": [
    "## 50. All Nodes distance K in a binary tree"
   ]
  },
  {
   "cell_type": "code",
   "execution_count": 64,
   "id": "393aacf1",
   "metadata": {},
   "outputs": [],
   "source": [
    "def distanceK(root, target, k):\n",
    "    def add_parent(node, parent):\n",
    "        if node:\n",
    "            node.parent = parent\n",
    "            add_parent(node.left, node)\n",
    "            add_parent(node.right, node)\n",
    "            \n",
    "    add_parent(root, None)\n",
    "    \n",
    "    ans = []\n",
    "    \n",
    "    visited = set()\n",
    "    \n",
    "    def dfs(curr, distance):\n",
    "        if not curr or curr in visited:\n",
    "            return\n",
    "        \n",
    "        visited.add(curr)\n",
    "        \n",
    "        if distance == 0:\n",
    "            ans.append(curr.val)\n",
    "            return\n",
    "        \n",
    "        dfs(curr.parent, distance - 1)\n",
    "        dfs(curr.left, distance - 1)\n",
    "        dfs(curr.right, distance - 1)\n",
    "    \n",
    "    dfs(target, k)\n",
    "    return ans"
   ]
  },
  {
   "cell_type": "markdown",
   "id": "27ba3c39",
   "metadata": {},
   "source": [
    "## 51. Remove nth node from end of linked list"
   ]
  },
  {
   "cell_type": "code",
   "execution_count": 65,
   "id": "cc20404f",
   "metadata": {},
   "outputs": [],
   "source": [
    "def removeNthFromEnd(head, n):\n",
    "    dummy = ListNode(0)\n",
    "    dummy.next = head\n",
    "    first = dummy\n",
    "    second = dummy\n",
    "    \n",
    "    for i in range(n + 1):\n",
    "        first = first.next\n",
    "        \n",
    "    while first != None:\n",
    "        first = first.next\n",
    "        second = second.next\n",
    "        \n",
    "    second.next = second.next.next\n",
    "    return dummy.next"
   ]
  },
  {
   "cell_type": "code",
   "execution_count": null,
   "id": "fa52f5da",
   "metadata": {},
   "outputs": [],
   "source": []
  }
 ],
 "metadata": {
  "kernelspec": {
   "display_name": "Python 3 (ipykernel)",
   "language": "python",
   "name": "python3"
  },
  "language_info": {
   "codemirror_mode": {
    "name": "ipython",
    "version": 3
   },
   "file_extension": ".py",
   "mimetype": "text/x-python",
   "name": "python",
   "nbconvert_exporter": "python",
   "pygments_lexer": "ipython3",
   "version": "3.11.4"
  }
 },
 "nbformat": 4,
 "nbformat_minor": 5
}
