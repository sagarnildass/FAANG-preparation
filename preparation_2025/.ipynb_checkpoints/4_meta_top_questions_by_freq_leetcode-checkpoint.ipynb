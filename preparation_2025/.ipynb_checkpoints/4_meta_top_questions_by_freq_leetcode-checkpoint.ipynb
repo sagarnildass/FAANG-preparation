{
 "cells": [
  {
   "cell_type": "markdown",
   "id": "7ba6437e",
   "metadata": {},
   "source": [
    "## 1. Almost Valid Palindrome"
   ]
  },
  {
   "cell_type": "markdown",
   "id": "e728e29e",
   "metadata": {},
   "source": [
    "### Step-by-Step Approach for Valid Palindrome with At Most One Deletion\n",
    "\n",
    "#### 1. Clarify the Problem\n",
    "- The goal is to determine whether a given string `s` can be a palindrome by removing at most one character.\n",
    "- A **palindrome** reads the same forwards and backwards.\n",
    "- Ask clarifying questions:\n",
    "  - What is the expected return type? (Boolean: True or False)\n",
    "  - Is the input string guaranteed to contain only lowercase letters?\n",
    "  - What should we return for an empty string or a single-character string?\n",
    "\n",
    "---\n",
    "\n",
    "#### 2. Plan the Approach\n",
    "We use a two-pointer technique to check for palindrome validity with at most one deletion:\n",
    "\n",
    "1. **Initial Check**:\n",
    "   - If the length of `s` is less than or equal to 2, the result is always `True` because such strings can be palindromes with no or one deletion.\n",
    "\n",
    "2. **Two-Pointer Approach**:\n",
    "   - Use two pointers, `left` and `right`, starting at the beginning and end of the string, respectively.\n",
    "   - While `left` is less than `right`:\n",
    "     - If `s[left]` equals `s[right]`, move the pointers inward.\n",
    "     - If `s[left]` does not equal `s[right]`, check if removing either `s[left]` or `s[right]` results in a valid palindrome.\n",
    "\n",
    "3. **Helper Function**:\n",
    "   - Implement a `checkPalindrome` helper function that verifies if a substring is a palindrome, using a similar two-pointer approach.\n",
    "\n",
    "4. **Return Result**:\n",
    "   - If all checks pass, return `True`. Otherwise, return `False`.\n",
    "\n",
    "---\n",
    "\n",
    "#### 3. Complexity Analysis\n",
    "- **Time Complexity**:\n",
    "  - The main loop runs at most O(n), where `n` is the length of the string.\n",
    "  - The `checkPalindrome` helper function also runs at most O(n) in the worst case.\n",
    "  - Total time complexity: O(n).\n",
    "- **Space Complexity**:\n",
    "  - No additional data structures are used, so the space complexity is O(1).\n",
    "\n",
    "---\n",
    "\n",
    "#### 4. Example Walkthrough\n",
    "**Example 1**:\n",
    "- Input: `s = \"abca\"`\n",
    "- Steps:\n",
    "  1. Initial pointers: `left = 0`, `right = 3`.\n",
    "     - `s[left] = 'a'` matches `s[right] = 'a'`.\n",
    "     - Move pointers inward: `left = 1`, `right = 2`.\n",
    "  2. `s[left] = 'b'` does not match `s[right] = 'c'`.\n",
    "     - Check removing one character:\n",
    "       - Check substring `\"bca\"` by removing `s[right]` (`checkPalindrome(s, left + 1, right)`). Result: `False`.\n",
    "       - Check substring `\"abc\"` by removing `s[left]` (`checkPalindrome(s, left, right - 1)`). Result: `True`.\n",
    "  3. Return `True`.\n",
    "\n",
    "**Output**: `True`\n",
    "\n",
    "---\n",
    "\n",
    "**Example 2**:\n",
    "- Input: `s = \"racecar\"`\n",
    "- Steps:\n",
    "  1. Initial pointers: `left = 0`, `right = 6`.\n",
    "     - All characters match as the pointers move inward.\n",
    "  2. The string is already a palindrome.\n",
    "\n",
    "**Output**: `True`\n",
    "\n",
    "---\n",
    "\n",
    "#### 5. Edge Cases\n",
    "1. **Empty String**:\n",
    "   - Input: `s = \"\"`\n",
    "   - Output: `True` (An empty string is trivially a palindrome).\n",
    "2. **Single Character**:\n",
    "   - Input: `s = \"a\"`\n",
    "   - Output: `True` (Single-character strings are always palindromes).\n",
    "3. **Two Characters**:\n",
    "   - Input: `s = \"ab\"`\n",
    "   - Output: `True` (By removing one character, it becomes a palindrome).\n",
    "\n",
    "---\n",
    "\n",
    "#### 6. Wrap-Up\n",
    "- Restate the approach:\n",
    "  - Use a two-pointer technique to verify palindrome validity, with the option to skip one character when encountering a mismatch.\n",
    "- Complexity Recap:\n",
    "  - Time complexity is O(n), and space complexity is O(1).\n",
    "- Ask for feedback or edge cases:\n",
    "  - \"Does this solution handle the requirements? Are there additional scenarios you'd like me to test?\"\n"
   ]
  },
  {
   "cell_type": "code",
   "execution_count": 1,
   "id": "c428bfe3",
   "metadata": {},
   "outputs": [],
   "source": [
    "def almostValid(s):\n",
    "    if len(s) <= 2:\n",
    "        return True\n",
    "    \n",
    "    def checkPalindrome(s, left, right):\n",
    "        while left < right:\n",
    "            if s[left] != s[right]:\n",
    "                return False\n",
    "            left += 1\n",
    "            right -= 1\n",
    "        return True\n",
    "    \n",
    "    left = 0\n",
    "    right = len(s) - 1\n",
    "    \n",
    "    while left < right:\n",
    "        if s[left] != s[right]:\n",
    "            return checkPalindrome(s, left + 1, right) or checkPalindrome(s, left, right - 1)\n",
    "        left += 1\n",
    "        right -= 1\n",
    "    return True"
   ]
  },
  {
   "cell_type": "code",
   "execution_count": 5,
   "id": "556a63c1",
   "metadata": {},
   "outputs": [
    {
     "data": {
      "text/plain": [
       "True"
      ]
     },
     "execution_count": 5,
     "metadata": {},
     "output_type": "execute_result"
    }
   ],
   "source": [
    "almostValid(\"abac\")"
   ]
  },
  {
   "cell_type": "markdown",
   "id": "72889441",
   "metadata": {},
   "source": [
    "## 2. Kth Largest Element"
   ]
  },
  {
   "cell_type": "code",
   "execution_count": 12,
   "id": "02ada7ff",
   "metadata": {},
   "outputs": [],
   "source": [
    "def findKthLargestQuickSort(nums, k):\n",
    "    quickSort(nums, 0, len(nums) - 1)\n",
    "    return nums[-k]\n",
    "\n",
    "def quickSort(nums, left, right):\n",
    "    if left < right:\n",
    "        partitionIndex = partition(nums, left, right)\n",
    "        quickSort(nums, left, partitionIndex - 1)\n",
    "        quickSort(nums, partitionIndex + 1, right)\n",
    "        \n",
    "def partition(nums, left, right):\n",
    "    partitionIndex = left\n",
    "    pivotElement = nums[right]\n",
    "    \n",
    "    for j in range(left, right):\n",
    "        if nums[j] <= pivotElement:\n",
    "            nums[j], nums[partitionIndex] = nums[partitionIndex], nums[j]\n",
    "            partitionIndex += 1\n",
    "    nums[right], nums[partitionIndex] = nums[partitionIndex], nums[right]\n",
    "    return partitionIndex"
   ]
  },
  {
   "cell_type": "code",
   "execution_count": 13,
   "id": "50eb9588",
   "metadata": {},
   "outputs": [
    {
     "data": {
      "text/plain": [
       "6"
      ]
     },
     "execution_count": 13,
     "metadata": {},
     "output_type": "execute_result"
    }
   ],
   "source": [
    "findKthLargestQuickSort([5,6,1,4,8,3],2)"
   ]
  },
  {
   "cell_type": "markdown",
   "id": "cce2e03b",
   "metadata": {},
   "source": [
    "### Step-by-Step Approach for Finding the K-th Largest Element Using QuickSelect\n",
    "\n",
    "#### 1. Clarify the Problem\n",
    "- The goal is to find the K-th largest element in an unsorted array.\n",
    "- Ask clarifying questions:\n",
    "  - Does the input contain only integers?\n",
    "  - How should we handle duplicate values?\n",
    "  - Should the function return the K-th largest element or its index?\n",
    "\n",
    "---\n",
    "\n",
    "#### 2. Plan the Approach\n",
    "We will use the **QuickSelect** algorithm, which is a variation of the QuickSort algorithm, to solve this problem efficiently. \n",
    "\n",
    "1. **Key Idea**:\n",
    "   - QuickSelect works by partitioning the array around a pivot element and then determining whether the desired index lies in the left or right partition.\n",
    "   - This avoids fully sorting the array, making the algorithm faster for this specific task.\n",
    "\n",
    "2. **Steps**:\n",
    "   - **Convert K to a Zero-Based Index**:\n",
    "     - The K-th largest element corresponds to the `(len(nums) - k)`-th smallest element in zero-based indexing.\n",
    "   - **QuickSelect**:\n",
    "     - Use a recursive function to partition the array.\n",
    "     - If the pivot’s position matches the target index, return the pivot.\n",
    "     - Otherwise, recurse into the left or right partition depending on the target index.\n",
    "   - **Partition Function**:\n",
    "     - Rearrange the elements such that all elements smaller than the pivot are on the left and larger ones are on the right.\n",
    "     - Return the pivot's final position.\n",
    "\n",
    "3. **Complexity**:\n",
    "   - **Time Complexity**:\n",
    "     - Best/Average Case: O(n), because each partition reduces the problem size by approximately half.\n",
    "     - Worst Case: O(n^2), when the array is already sorted or all elements are equal.\n",
    "   - **Space Complexity**:\n",
    "     - O(1), as QuickSelect operates in-place.\n",
    "\n",
    "---\n"
   ]
  },
  {
   "cell_type": "code",
   "execution_count": 113,
   "id": "2a3765ab",
   "metadata": {},
   "outputs": [],
   "source": [
    "# T --> O(n), worst case O(n^2) in case of [8, 6, 5, 4, 3, 1]\n",
    "# S --> O(1), because of quickselect\n",
    "\n",
    "def findKthLargestQuickSelect(nums, k):\n",
    "    indexToFind = len(nums) - k\n",
    "    return quickSelect(nums, 0, len(nums) - 1, indexToFind)\n",
    "\n",
    "def quickSelect(nums, left, right, indexToFind):\n",
    "    if left == right:\n",
    "        return nums[left]\n",
    "    \n",
    "    if left < right:\n",
    "        partitionIndex = partition(nums, left, right)\n",
    "        if partitionIndex == indexToFind:\n",
    "            return nums[partitionIndex]\n",
    "        elif partitionIndex < indexToFind:\n",
    "            return quickSelect(nums, partitionIndex + 1, right, indexToFind)\n",
    "        else:\n",
    "            return quickSelect(nums, left, partitionIndex - 1, indexToFind)\n",
    "\n",
    "def partition(nums, left, right):\n",
    "    partitionIndex = left\n",
    "    pivotElement = nums[right]\n",
    "    \n",
    "    for j in range(left, right):\n",
    "        if nums[j] <= pivotElement:\n",
    "            nums[j], nums[partitionIndex] = nums[partitionIndex], nums[j]\n",
    "            partitionIndex += 1\n",
    "    nums[right], nums[partitionIndex] = nums[partitionIndex], nums[right]\n",
    "    return partitionIndex"
   ]
  },
  {
   "cell_type": "code",
   "execution_count": 114,
   "id": "8f9fcec4",
   "metadata": {},
   "outputs": [
    {
     "data": {
      "text/plain": [
       "5"
      ]
     },
     "execution_count": 114,
     "metadata": {},
     "output_type": "execute_result"
    }
   ],
   "source": [
    "findKthLargestQuickSelect([5,6,1,4,8,3],3)"
   ]
  },
  {
   "cell_type": "markdown",
   "id": "641fe0b9",
   "metadata": {},
   "source": [
    "**First Round**\n",
    "\n",
    "[5, 6, 1, 4, 8, 3]\n",
    "\n",
    "[1, 6, 5, 4, 8, 3]\n",
    "\n",
    "[1, 3, 5, 4, 8, 6]\n",
    "\n",
    "indexToFind = 3, partitionIndex = 1, left = 0, right = 5\n",
    "\n",
    "**Second Round**\n",
    "indexToFind = 3, partitionIndex = 2, left = 2, right = 5\n",
    "\n",
    "[1, 3, 5, 4, 8, 6]\n",
    "\n",
    "[1, 3, 5, 4, 6, 8]\n",
    "\n",
    "indexToFind = 3, partitionIndex = 4\n",
    "\n",
    "**Third Round**\n",
    "\n",
    "indexToFind = 3, partitionIndex = 3, left = 2, right = 3\n",
    "\n",
    "[1, 3, 5, 4, 6, 8]\n",
    "\n",
    "\n",
    "[1, 3, 4, 5, 6, 8]"
   ]
  },
  {
   "cell_type": "markdown",
   "id": "04b7346a",
   "metadata": {},
   "source": [
    "## 3. Valid Word Abbreviation\n",
    "\n"
   ]
  },
  {
   "cell_type": "code",
   "execution_count": 44,
   "id": "fe76061b",
   "metadata": {},
   "outputs": [],
   "source": [
    "# Time --> O(n)\n",
    "# Space --> O(1)\n",
    "\n",
    "def validWordAbbreviation(word, abbr):\n",
    "    word_ptr = 0\n",
    "    abbr_ptr = 0\n",
    "    \n",
    "    while word_ptr < len(word) and abbr_ptr < len(abbr):\n",
    "        if abbr[abbr_ptr].isdigit():\n",
    "            if abbr[abbr_ptr] == '0':\n",
    "                return False\n",
    "            \n",
    "            num = 0\n",
    "            \n",
    "            while abbr_ptr < len(abbr) and abbr[abbr_ptr].isdigit():\n",
    "                num = num * 10 + int(abbr[abbr_ptr])\n",
    "                abbr_ptr += 1\n",
    "            \n",
    "            word_ptr += num\n",
    "        \n",
    "        else:\n",
    "            if word_ptr >= len(word) or word[word_ptr] != abbr[abbr_ptr]:\n",
    "                return False\n",
    "            \n",
    "            word_ptr += 1\n",
    "            abbr_ptr += 1\n",
    "        \n",
    "    return word_ptr == len(word) and abbr_ptr == len(abbr)\n",
    "            "
   ]
  },
  {
   "cell_type": "code",
   "execution_count": 45,
   "id": "424c4572",
   "metadata": {},
   "outputs": [
    {
     "data": {
      "text/plain": [
       "True"
      ]
     },
     "execution_count": 45,
     "metadata": {},
     "output_type": "execute_result"
    }
   ],
   "source": [
    "validWordAbbreviation(\"substitution\", \"s10n\")"
   ]
  },
  {
   "cell_type": "code",
   "execution_count": 46,
   "id": "9fd61cde",
   "metadata": {},
   "outputs": [
    {
     "data": {
      "text/plain": [
       "True"
      ]
     },
     "execution_count": 46,
     "metadata": {},
     "output_type": "execute_result"
    }
   ],
   "source": [
    "validWordAbbreviation(\"substitution\", \"sub4u4\")"
   ]
  },
  {
   "cell_type": "code",
   "execution_count": 47,
   "id": "f967e651",
   "metadata": {},
   "outputs": [
    {
     "data": {
      "text/plain": [
       "False"
      ]
     },
     "execution_count": 47,
     "metadata": {},
     "output_type": "execute_result"
    }
   ],
   "source": [
    "validWordAbbreviation(\"substitution\", \"s010n\")"
   ]
  },
  {
   "cell_type": "markdown",
   "id": "17c2307a",
   "metadata": {},
   "source": [
    "## 4. Minimum remove to make valid parenthesis"
   ]
  },
  {
   "cell_type": "code",
   "execution_count": 52,
   "id": "e657c637",
   "metadata": {},
   "outputs": [],
   "source": [
    "# time --> O(n)\n",
    "# space --> O(n)\n",
    "\n",
    "def minRemoveToMakeValid(s):\n",
    "    indicesToRemove = set\n",
    "    stack = []\n",
    "    \n",
    "    for idx, char in enumerate(s):\n",
    "        if char not in '()':\n",
    "            continue\n",
    "        elif char == '(':\n",
    "            stack.append(idx)\n",
    "        elif not stack:\n",
    "            indicesToRemove.add(idx)\n",
    "        else:\n",
    "            stack.pop()\n",
    "            \n",
    "    indicesToRemove = indicesToRemove.union(set(stack))\n",
    "    stringBuilder = []\n",
    "    \n",
    "    for i in range(len(s)):\n",
    "        if i not in indicesToRemove:\n",
    "            stringBuilder.append(s[i])\n",
    "    return \"\".join(stringBuilder)"
   ]
  },
  {
   "cell_type": "code",
   "execution_count": 53,
   "id": "a2b1f6ce",
   "metadata": {},
   "outputs": [
    {
     "data": {
      "text/plain": [
       "'ab(c)d'"
      ]
     },
     "execution_count": 53,
     "metadata": {},
     "output_type": "execute_result"
    }
   ],
   "source": [
    "minRemoveToMakeValid('(ab(c)d')"
   ]
  },
  {
   "cell_type": "markdown",
   "id": "8fe6fbc6",
   "metadata": {},
   "source": [
    "## 5. Merge Sorted array"
   ]
  },
  {
   "cell_type": "code",
   "execution_count": 62,
   "id": "67ff2a35",
   "metadata": {},
   "outputs": [],
   "source": [
    "nums1 = [1,2,3,0,0,0]\n",
    "m = 3\n",
    "nums2 = [2,5,6]\n",
    "n = 3\n",
    "\n",
    "# time --> O((m + n)log(m + n))\n",
    "# space --> O(n) (for sorting)\n",
    "\n",
    "def mergeSortedArrayBrute(nums1, m, nums2, n):\n",
    "    \n",
    "    for i in range(n):\n",
    "        nums1[i + m] = nums2[i]\n",
    "    \n",
    "    nums1.sort()"
   ]
  },
  {
   "cell_type": "code",
   "execution_count": 63,
   "id": "a9f7198d",
   "metadata": {},
   "outputs": [
    {
     "data": {
      "text/plain": [
       "[1, 2, 2, 3, 5, 6]"
      ]
     },
     "execution_count": 63,
     "metadata": {},
     "output_type": "execute_result"
    }
   ],
   "source": [
    "mergeSortedArray(nums1, m, nums2, n)\n",
    "nums1"
   ]
  },
  {
   "cell_type": "code",
   "execution_count": 66,
   "id": "bffee86f",
   "metadata": {},
   "outputs": [],
   "source": [
    "# time --> O(m + n)\n",
    "# space --> O(m) (for copy)\n",
    "\n",
    "def mergeSortedArrayBetter(nums1, m, nums2, n):\n",
    "    nums1_copy = nums1[:m]\n",
    "    \n",
    "    p1 = 0\n",
    "    p2 = 0\n",
    "    \n",
    "    for p in range(m + n):\n",
    "        if p2 >= n or (p1 < m and nums1_copy[p1] <= nums2[p2]):\n",
    "            nums1[p] = nums1_copy[p1]\n",
    "            p1 += 1\n",
    "        else:\n",
    "            nums1[p] = nums2[p2]\n",
    "            p2 += 1"
   ]
  },
  {
   "cell_type": "code",
   "execution_count": 67,
   "id": "6d749b82",
   "metadata": {},
   "outputs": [
    {
     "data": {
      "text/plain": [
       "[1, 2, 2, 3, 5, 6]"
      ]
     },
     "execution_count": 67,
     "metadata": {},
     "output_type": "execute_result"
    }
   ],
   "source": [
    "nums1 = [1,2,3,0,0,0]\n",
    "m = 3\n",
    "nums2 = [2,5,6]\n",
    "n = 3\n",
    "\n",
    "mergeSortedArrayBetter(nums1, m, nums2, n)\n",
    "nums1"
   ]
  },
  {
   "cell_type": "code",
   "execution_count": 68,
   "id": "e2a7db59",
   "metadata": {},
   "outputs": [],
   "source": [
    "# time --> O(m + n)\n",
    "# space --> O(1)\n",
    "def mergeSortedArrayBest(nums1, m, nums2, n):\n",
    "    p1 = m - 1\n",
    "    p2 = n - 1\n",
    "    \n",
    "    for p in range(m + n - 1, -1, -1):\n",
    "        if p2 < 0:\n",
    "            break\n",
    "        if p1 >= 0 and nums1[p1] >= nums2[p2]:\n",
    "            nums1[p] = nums1[p1]\n",
    "            p1 -= 1\n",
    "        else:\n",
    "            nums1[p] = nums2[p2]\n",
    "            p2 -= 1\n",
    "            "
   ]
  },
  {
   "cell_type": "code",
   "execution_count": 69,
   "id": "9d748d60",
   "metadata": {},
   "outputs": [
    {
     "data": {
      "text/plain": [
       "[1, 2, 2, 3, 5, 6]"
      ]
     },
     "execution_count": 69,
     "metadata": {},
     "output_type": "execute_result"
    }
   ],
   "source": [
    "nums1 = [1,2,3,0,0,0]\n",
    "m = 3\n",
    "nums2 = [2,5,6]\n",
    "n = 3\n",
    "\n",
    "mergeSortedArrayBest(nums1, m, nums2, n)\n",
    "nums1"
   ]
  },
  {
   "cell_type": "markdown",
   "id": "61fe1579",
   "metadata": {},
   "source": [
    "## 6. Binary tree vertical order traversal"
   ]
  },
  {
   "cell_type": "code",
   "execution_count": 70,
   "id": "ca142e6e",
   "metadata": {},
   "outputs": [],
   "source": [
    "class Node:\n",
    "    def __init__(self, val: int):\n",
    "        self.left = None\n",
    "        self.right = None\n",
    "        self.val = val\n",
    "\n",
    "    def __repr__(self):\n",
    "        return str(self.val)\n",
    "\n",
    "    def insert_node(self, val):\n",
    "        if self.val is not None:\n",
    "            if val < self.val:\n",
    "                if self.left is None:\n",
    "                    self.left = Node(val)\n",
    "                else:\n",
    "                    self.left.insert_node(val)\n",
    "            elif val > self.val:\n",
    "                if self.right is None:\n",
    "                    self.right = Node(val)\n",
    "                else:\n",
    "                    self.right.insert_node(val)\n",
    "\n",
    "    @staticmethod\n",
    "    def insert_nodes(vals: list, root):\n",
    "        for i in vals:\n",
    "            root.insert_node(i)\n",
    "\n",
    "    def bfs(self, root=None):\n",
    "        if root is None:\n",
    "            return\n",
    "        result = []\n",
    "        queue = [root]\n",
    "\n",
    "        while len(queue) > 0:\n",
    "            cur_node = queue.pop(0)\n",
    "            result.append(cur_node.val)\n",
    "            if cur_node.left is not None:\n",
    "                queue.append(cur_node.left)\n",
    "\n",
    "            if cur_node.right is not None:\n",
    "                queue.append(cur_node.right)\n",
    "\n",
    "            #print(queue)\n",
    "        return result\n",
    "    \n",
    "    def DFSInorder(self, root=None):\n",
    "        return self.traverseInOrder(root, [])\n",
    "    \n",
    "    def DFSPostOrder(self, root=None):\n",
    "        return self.traversePostOrder(root, [])\n",
    "    \n",
    "    def DFSPreOrder(self, root=None):\n",
    "        return self.traversePreOrder(root, [])\n",
    "    \n",
    "    def traverseInOrder(self, node, data):\n",
    "        if node.left is not None:\n",
    "            node.traverseInOrder(node.left, data)\n",
    "        data.append(node.val)\n",
    "        \n",
    "        if node.right is not None:\n",
    "            node.traverseInOrder(node.right, data)\n",
    "        #print(data)\n",
    "        return data\n",
    "    \n",
    "    def traversePostOrder(self, node, data):\n",
    "        \n",
    "        if node.left is not None:\n",
    "            node.traversePostOrder(node.left, data)\n",
    "              \n",
    "        if node.right is not None:\n",
    "            node.traversePostOrder(node.right, data)\n",
    "        #print(data)\n",
    "        data.append(node.val)\n",
    "        return data\n",
    "    \n",
    "    def traversePreOrder(self, node, data):\n",
    "        data.append(node.val)\n",
    "        if node.left is not None:\n",
    "            node.traversePreOrder(node.left, data)\n",
    "        \n",
    "        \n",
    "        if node.right is not None:\n",
    "            node.traversePreOrder(node.right, data)\n",
    "        #print(data)\n",
    "        return data\n",
    "    "
   ]
  },
  {
   "cell_type": "code",
   "execution_count": 71,
   "id": "95f7106a",
   "metadata": {},
   "outputs": [],
   "source": [
    "#       9\n",
    "#    4     20\n",
    "#  1  6  15   170\n",
    "\n",
    "def run():\n",
    "    root = Node(9)\n",
    "    root.insert_nodes([4,6,20,170,15,1], root)\n",
    "    bfs_result = root.bfs(root=root)\n",
    "    dfs_inorder = root.DFSInorder(root)\n",
    "    dfs_preorder = root.DFSPreOrder(root)\n",
    "    dfs_postorder = root.DFSPostOrder(root)\n",
    "    return root, bfs_result, dfs_inorder, dfs_preorder, dfs_postorder"
   ]
  },
  {
   "cell_type": "code",
   "execution_count": 72,
   "id": "0a8db05b",
   "metadata": {},
   "outputs": [],
   "source": [
    "root, bfs_result, dfs_inorder, dfs_preorder, dfs_postorder = run()"
   ]
  },
  {
   "cell_type": "code",
   "execution_count": 85,
   "id": "acab15aa",
   "metadata": {},
   "outputs": [],
   "source": [
    "from collections import defaultdict, deque\n",
    "\n",
    "# time --> O(nlogn) (because of sorting)\n",
    "# space --> O(n)\n",
    "def verticalOrder(root):\n",
    "    if not root:\n",
    "        return []\n",
    "    \n",
    "    columnTable = defaultdict(list)\n",
    "    queue = [[root, 0]]\n",
    "    \n",
    "    while queue:\n",
    "        currNode, currCol = queue.pop(0)\n",
    "        \n",
    "        if currNode:\n",
    "            columnTable[currCol].append(currNode.val)\n",
    "            queue.append([currNode.left, currCol - 1])\n",
    "            queue.append([currNode.right, currCol + 1])\n",
    "    \n",
    "    return [columnTable[x] for x in sorted(columnTable.keys())]\n",
    "    "
   ]
  },
  {
   "cell_type": "code",
   "execution_count": 86,
   "id": "42d78724",
   "metadata": {},
   "outputs": [
    {
     "data": {
      "text/plain": [
       "[[1], [4], [9, 6, 15], [20], [170]]"
      ]
     },
     "execution_count": 86,
     "metadata": {},
     "output_type": "execute_result"
    }
   ],
   "source": [
    "verticalOrder(root)"
   ]
  },
  {
   "cell_type": "code",
   "execution_count": 88,
   "id": "f3c0549f",
   "metadata": {},
   "outputs": [],
   "source": [
    "# time --> O(n) (sorting removed)\n",
    "# space --> O(n)\n",
    "def verticalOrderBetter(root):\n",
    "    if not root:\n",
    "        return []\n",
    "    \n",
    "    columnTable = defaultdict(list)\n",
    "    queue = [[root, 0]]\n",
    "    minCol = 0\n",
    "    maxCol = 0\n",
    "    \n",
    "    while queue:\n",
    "        currNode, currCol = queue.pop(0)\n",
    "        \n",
    "        if currNode:\n",
    "            columnTable[currCol].append(currNode.val)\n",
    "            minCol = min(minCol, currCol)\n",
    "            maxCol = max(maxCol, currCol)\n",
    "            queue.append([currNode.left, currCol - 1])\n",
    "            queue.append([currNode.right, currCol + 1])\n",
    "    \n",
    "    return [columnTable[x] for x in range(minCol, maxCol + 1)]"
   ]
  },
  {
   "cell_type": "code",
   "execution_count": 89,
   "id": "11241b9a",
   "metadata": {},
   "outputs": [
    {
     "data": {
      "text/plain": [
       "[[1], [4], [9, 6, 15], [20], [170]]"
      ]
     },
     "execution_count": 89,
     "metadata": {},
     "output_type": "execute_result"
    }
   ],
   "source": [
    "verticalOrderBetter(root)"
   ]
  },
  {
   "cell_type": "markdown",
   "id": "e68e971b",
   "metadata": {},
   "source": [
    "## 7. Random Pick with weight"
   ]
  },
  {
   "cell_type": "code",
   "execution_count": 107,
   "id": "d30be098",
   "metadata": {},
   "outputs": [],
   "source": [
    "import random\n",
    "from typing import List\n",
    "\n",
    "class Solution:\n",
    "    # T --> O(n)\n",
    "    # S --> O(n)\n",
    "    def __init__(self, w: List[int]):\n",
    "        self.prefix_sums = []\n",
    "        prefix_sum = 0\n",
    "        \n",
    "        for weight in w:\n",
    "            prefix_sum += weight\n",
    "            self.prefix_sums.append(prefix_sum)\n",
    "        self.total_sum = prefix_sum\n",
    "        print(self.prefix_sums)\n",
    "    \n",
    "    # T --> O(n)\n",
    "    # S --> O(1)\n",
    "    def pickIndex(self):\n",
    "        target = self.total_sum * random.random()\n",
    "        \n",
    "        for idx, prefix_sum in enumerate(self.prefix_sums):\n",
    "            if target < prefix_sum:\n",
    "                return idx"
   ]
  },
  {
   "cell_type": "code",
   "execution_count": 108,
   "id": "6c6dc50b",
   "metadata": {},
   "outputs": [
    {
     "name": "stdout",
     "output_type": "stream",
     "text": [
      "[1, 4, 9, 15, 22, 30]\n",
      "5\n",
      "1\n",
      "5\n",
      "2\n",
      "2\n",
      "4\n"
     ]
    }
   ],
   "source": [
    "# \n",
    "solution = Solution([1, 3, 5, 6, 7, 8]);\n",
    "print(solution.pickIndex())\n",
    "print(solution.pickIndex())\n",
    "print(solution.pickIndex())\n",
    "print(solution.pickIndex())\n",
    "print(solution.pickIndex())\n",
    "print(solution.pickIndex())\n"
   ]
  },
  {
   "cell_type": "markdown",
   "id": "f660668d",
   "metadata": {},
   "source": [
    "### With Binary search"
   ]
  },
  {
   "cell_type": "code",
   "execution_count": 105,
   "id": "028a4361",
   "metadata": {},
   "outputs": [],
   "source": [
    "class Solution:\n",
    "    def __init__(self, w):\n",
    "        # T --> O(n)\n",
    "        # S --> O(n)\n",
    "        # Precompute the prefix sums\n",
    "        self.prefix_sums = []\n",
    "        self.total_sum = 0\n",
    "\n",
    "        for weight in w:\n",
    "            self.total_sum += weight\n",
    "            self.prefix_sums.append(self.total_sum)\n",
    "    \n",
    "    # T --> O(logn)\n",
    "    # S --> O(1)\n",
    "    def pickIndex(self):\n",
    "        # Generate a random number in the range [0, total_sum)\n",
    "        target = self.total_sum * random.random()\n",
    "        left = 0\n",
    "        right = len(self.prefix_sums) - 1\n",
    "\n",
    "        # Perform binary search\n",
    "        while left < right:\n",
    "            mid = (left + right) // 2\n",
    "            if target > self.prefix_sums[mid]:\n",
    "                left = mid + 1\n",
    "            else:\n",
    "                right = mid\n",
    "\n",
    "        return left"
   ]
  },
  {
   "cell_type": "code",
   "execution_count": 106,
   "id": "848f6a34",
   "metadata": {},
   "outputs": [
    {
     "name": "stdout",
     "output_type": "stream",
     "text": [
      "4\n",
      "4\n",
      "3\n",
      "4\n",
      "4\n",
      "4\n"
     ]
    }
   ],
   "source": [
    "# \n",
    "solution = Solution([1, 3, 5, 6, 7, 8]);\n",
    "print(solution.pickIndex())\n",
    "print(solution.pickIndex())\n",
    "print(solution.pickIndex())\n",
    "print(solution.pickIndex())\n",
    "print(solution.pickIndex())\n",
    "print(solution.pickIndex())\n"
   ]
  },
  {
   "attachments": {
    "image.png": {
     "image/png": "[encoded data removed]"
    }
   },
   "cell_type": "markdown",
   "id": "a6d7d888",
   "metadata": {},
   "source": [
    "## 8. Lowest Common Ancestor\n",
    "\n",
    "### Step-by-Step Approach for Lowest Common Ancestor (LCA)\n",
    "\n",
    "#### 1. Clarify the Problem\n",
    "- Restate the problem to ensure understanding:\n",
    "  - We need to find the lowest common ancestor (LCA) of two nodes, `p` and `q`, in a binary tree.\n",
    "  - The LCA is the lowest node in the tree that has both `p` and `q` as descendants.\n",
    "- Ask clarifying questions:\n",
    "  - Can `p` or `q` be the same as the root node?\n",
    "  - Are both `p` and `q` guaranteed to be present in the tree?\n",
    "  - Is the tree a binary search tree (BST), or is it a general binary tree?\n",
    "\n",
    "#### 2. Plan the Approach\n",
    "- We will use a recursive function to traverse the tree and determine the LCA based on the following logic:\n",
    "  1. **Base Case**:\n",
    "     - If the current node is `None`, return `None` because we have reached the end of a branch.\n",
    "     - If the current node matches `p` or `q`, return the current node since it is a potential LCA.\n",
    "  2. **Recursive Case**:\n",
    "     - Recursively search the left and right subtrees for `p` and `q`.\n",
    "  3. **Combine Results**:\n",
    "     - If both left and right subtrees return non-`None` values, it means `p` and `q` are in different subtrees, and the current node is their LCA.\n",
    "     - If only one subtree returns a non-`None` value, propagate that result upward as the LCA.\n",
    "\n",
    "#### 3. Complexity Analysis\n",
    "- Time complexity: O(n), where n is the number of nodes in the tree, because each node is visited once.\n",
    "- Space complexity: O(h), where h is the height of the tree, due to the recursive call stack.\n",
    "\n",
    "\n",
    "**Tree**:\n",
    "\n",
    "![image.png](attachment:image.png)\n",
    "\n",
    "\n",
    "**Input**:\n",
    "- Nodes `p = 7` and `q = 4`\n",
    "\n",
    "**Steps**:\n",
    "1. Start at the root node (3). Recurse into the left subtree (5) and right subtree (1).\n",
    "2. At node 5:\n",
    "   - Recurse into the left subtree (6). Return `None`.\n",
    "   - Recurse into the right subtree (2). \n",
    "     - Recurse into the left subtree (7). Return 7.\n",
    "     - Recurse into the right subtree (4). Return 4.\n",
    "     - Since both left and right subtrees return non-`None`, return 2 as the LCA.\n",
    "   - Return 2 to the root.\n",
    "3. At node 1:\n",
    "   - Recurse into both subtrees (0 and 8). Both return `None`.\n",
    "   - Return `None` to the root.\n",
    "4. Back at node 3:\n",
    "   - Since the left subtree returns 2 and the right subtree returns `None`, propagate 2 upward as the LCA.\n",
    "\n",
    "**Output**:\n",
    "- The LCA is node 2.\n",
    "\n",
    "#### 6. Wrap-Up\n",
    "- Restate the approach:\n",
    "  - By traversing the tree recursively and combining results from subtrees, we efficiently find the lowest common ancestor.\n",
    "- Complexity Recap:\n",
    "  - Time complexity is O(n), and space complexity is O(h).\n",
    "- Ask for feedback or edge cases:\n",
    "  - Does this implementation handle the requirements, or are there additional scenarios to consider?\n",
    "\n"
   ]
  },
  {
   "cell_type": "code",
   "execution_count": 109,
   "id": "2ceed341",
   "metadata": {},
   "outputs": [],
   "source": [
    "def lowestCommonAncestor(root, p, q):\n",
    "    if not root:\n",
    "        return None\n",
    "    \n",
    "    left_res = lowestCommonAncestor(root.left, p, q)\n",
    "    right_res = lowestCommonAncestor(root.right, p, q)\n",
    "    \n",
    "    if (left_res and right_res) or (root in [p, q]):\n",
    "        return root\n",
    "    else:\n",
    "        return left_res or right_res"
   ]
  },
  {
   "cell_type": "code",
   "execution_count": 112,
   "id": "67b6b53e",
   "metadata": {},
   "outputs": [
    {
     "data": {
      "text/plain": [
       "9"
      ]
     },
     "execution_count": 112,
     "metadata": {},
     "output_type": "execute_result"
    }
   ],
   "source": [
    "#       9\n",
    "#    4     20\n",
    "#  1  6  15   170\n",
    "\n",
    "p = root.left.right  # Node with value 6\n",
    "q = root.right.left  # Node with value 15\n",
    "\n",
    "lowestCommonAncestor(root, p, q)"
   ]
  },
  {
   "cell_type": "markdown",
   "id": "2f36edbe",
   "metadata": {},
   "source": [
    "## 9. Basic Calculator"
   ]
  },
  {
   "cell_type": "code",
   "execution_count": 115,
   "id": "6e0bb578",
   "metadata": {},
   "outputs": [],
   "source": [
    "# Time --> O(n)\n",
    "# Space --> O(1)\n",
    "def calculator(s):\n",
    "    if len(s) == 0:\n",
    "        return 0\n",
    "    \n",
    "    current_number = 0\n",
    "    last_number = 0\n",
    "    result = 0\n",
    "    sign = '+'\n",
    "    \n",
    "    for i in range(len(s)):\n",
    "        current_char = s[i]\n",
    "        \n",
    "        if current_char.isdigit():\n",
    "            current_number = current_number * 10 + int(current_char)\n",
    "            \n",
    "        if (not current_char.isdigit() and not current_char.isspace()) or i == len(s) - 1:\n",
    "            if sign == '+' or sign == '-':\n",
    "                result += last_number\n",
    "                last_number = current_number if sign == '+' else -current_number\n",
    "            elif sign == '*':\n",
    "                last_number *= current_number\n",
    "            elif sign == '/':\n",
    "                last_number = int(last_number/current_number)\n",
    "            \n",
    "            sign = current_char\n",
    "            current_number = 0\n",
    "    result += last_number\n",
    "    return result"
   ]
  },
  {
   "cell_type": "code",
   "execution_count": 116,
   "id": "e0c81693",
   "metadata": {},
   "outputs": [
    {
     "data": {
      "text/plain": [
       "7"
      ]
     },
     "execution_count": 116,
     "metadata": {},
     "output_type": "execute_result"
    }
   ],
   "source": [
    "s = \"3+2*2\"\n",
    "calculator(s)"
   ]
  },
  {
   "cell_type": "code",
   "execution_count": null,
   "id": "b8ddf2ca",
   "metadata": {},
   "outputs": [],
   "source": []
  }
 ],
 "metadata": {
  "kernelspec": {
   "display_name": "Python 3 (ipykernel)",
   "language": "python",
   "name": "python3"
  },
  "language_info": {
   "codemirror_mode": {
    "name": "ipython",
    "version": 3
   },
   "file_extension": ".py",
   "mimetype": "text/x-python",
   "name": "python",
   "nbconvert_exporter": "python",
   "pygments_lexer": "ipython3",
   "version": "3.11.4"
  }
 },
 "nbformat": 4,
 "nbformat_minor": 5
}
