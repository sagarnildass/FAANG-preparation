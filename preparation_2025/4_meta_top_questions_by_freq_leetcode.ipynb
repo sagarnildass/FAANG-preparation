{
 "cells": [
  {
   "cell_type": "markdown",
   "id": "7ba6437e",
   "metadata": {},
   "source": [
    "## 1. Almost Valid Palindrome"
   ]
  },
  {
   "cell_type": "markdown",
   "id": "e728e29e",
   "metadata": {},
   "source": [
    "### Step-by-Step Approach for Valid Palindrome with At Most One Deletion\n",
    "\n",
    "#### 1. Clarify the Problem\n",
    "- The goal is to determine whether a given string `s` can be a palindrome by removing at most one character.\n",
    "- A **palindrome** reads the same forwards and backwards.\n",
    "- Ask clarifying questions:\n",
    "  - What is the expected return type? (Boolean: True or False)\n",
    "  - Is the input string guaranteed to contain only lowercase letters?\n",
    "  - What should we return for an empty string or a single-character string?\n",
    "\n",
    "---\n",
    "\n",
    "#### 2. Plan the Approach\n",
    "We use a two-pointer technique to check for palindrome validity with at most one deletion:\n",
    "\n",
    "1. **Initial Check**:\n",
    "   - If the length of `s` is less than or equal to 2, the result is always `True` because such strings can be palindromes with no or one deletion.\n",
    "\n",
    "2. **Two-Pointer Approach**:\n",
    "   - Use two pointers, `left` and `right`, starting at the beginning and end of the string, respectively.\n",
    "   - While `left` is less than `right`:\n",
    "     - If `s[left]` equals `s[right]`, move the pointers inward.\n",
    "     - If `s[left]` does not equal `s[right]`, check if removing either `s[left]` or `s[right]` results in a valid palindrome.\n",
    "\n",
    "3. **Helper Function**:\n",
    "   - Implement a `checkPalindrome` helper function that verifies if a substring is a palindrome, using a similar two-pointer approach.\n",
    "\n",
    "4. **Return Result**:\n",
    "   - If all checks pass, return `True`. Otherwise, return `False`.\n",
    "\n",
    "---\n",
    "\n",
    "#### 3. Complexity Analysis\n",
    "- **Time Complexity**:\n",
    "  - The main loop runs at most O(n), where `n` is the length of the string.\n",
    "  - The `checkPalindrome` helper function also runs at most O(n) in the worst case.\n",
    "  - Total time complexity: O(n).\n",
    "- **Space Complexity**:\n",
    "  - No additional data structures are used, so the space complexity is O(1).\n",
    "\n",
    "---\n",
    "\n",
    "#### 4. Example Walkthrough\n",
    "**Example 1**:\n",
    "- Input: `s = \"abca\"`\n",
    "- Steps:\n",
    "  1. Initial pointers: `left = 0`, `right = 3`.\n",
    "     - `s[left] = 'a'` matches `s[right] = 'a'`.\n",
    "     - Move pointers inward: `left = 1`, `right = 2`.\n",
    "  2. `s[left] = 'b'` does not match `s[right] = 'c'`.\n",
    "     - Check removing one character:\n",
    "       - Check substring `\"bca\"` by removing `s[right]` (`checkPalindrome(s, left + 1, right)`). Result: `False`.\n",
    "       - Check substring `\"abc\"` by removing `s[left]` (`checkPalindrome(s, left, right - 1)`). Result: `True`.\n",
    "  3. Return `True`.\n",
    "\n",
    "**Output**: `True`\n",
    "\n",
    "---\n",
    "\n",
    "**Example 2**:\n",
    "- Input: `s = \"racecar\"`\n",
    "- Steps:\n",
    "  1. Initial pointers: `left = 0`, `right = 6`.\n",
    "     - All characters match as the pointers move inward.\n",
    "  2. The string is already a palindrome.\n",
    "\n",
    "**Output**: `True`\n",
    "\n",
    "---\n",
    "\n",
    "#### 5. Edge Cases\n",
    "1. **Empty String**:\n",
    "   - Input: `s = \"\"`\n",
    "   - Output: `True` (An empty string is trivially a palindrome).\n",
    "2. **Single Character**:\n",
    "   - Input: `s = \"a\"`\n",
    "   - Output: `True` (Single-character strings are always palindromes).\n",
    "3. **Two Characters**:\n",
    "   - Input: `s = \"ab\"`\n",
    "   - Output: `True` (By removing one character, it becomes a palindrome).\n",
    "\n",
    "---\n",
    "\n",
    "#### 6. Wrap-Up\n",
    "- Restate the approach:\n",
    "  - Use a two-pointer technique to verify palindrome validity, with the option to skip one character when encountering a mismatch.\n",
    "- Complexity Recap:\n",
    "  - Time complexity is O(n), and space complexity is O(1).\n",
    "- Ask for feedback or edge cases:\n",
    "  - \"Does this solution handle the requirements? Are there additional scenarios you'd like me to test?\"\n"
   ]
  },
  {
   "cell_type": "code",
   "execution_count": 1,
   "id": "c428bfe3",
   "metadata": {},
   "outputs": [],
   "source": [
    "def almostValid(s):\n",
    "    if len(s) <= 2:\n",
    "        return True\n",
    "    \n",
    "    def checkPalindrome(s, left, right):\n",
    "        while left < right:\n",
    "            if s[left] != s[right]:\n",
    "                return False\n",
    "            left += 1\n",
    "            right -= 1\n",
    "        return True\n",
    "    \n",
    "    left = 0\n",
    "    right = len(s) - 1\n",
    "    \n",
    "    while left < right:\n",
    "        if s[left] != s[right]:\n",
    "            return checkPalindrome(s, left + 1, right) or checkPalindrome(s, left, right - 1)\n",
    "        left += 1\n",
    "        right -= 1\n",
    "    return True"
   ]
  },
  {
   "cell_type": "code",
   "execution_count": 2,
   "id": "556a63c1",
   "metadata": {},
   "outputs": [
    {
     "data": {
      "text/plain": [
       "True"
      ]
     },
     "execution_count": 2,
     "metadata": {},
     "output_type": "execute_result"
    }
   ],
   "source": [
    "almostValid(\"abac\")"
   ]
  },
  {
   "cell_type": "markdown",
   "id": "72889441",
   "metadata": {},
   "source": [
    "## 2. Kth Largest Element"
   ]
  },
  {
   "cell_type": "code",
   "execution_count": 3,
   "id": "02ada7ff",
   "metadata": {},
   "outputs": [],
   "source": [
    "def findKthLargestQuickSort(nums, k):\n",
    "    quickSort(nums, 0, len(nums) - 1)\n",
    "    return nums[-k]\n",
    "\n",
    "def quickSort(nums, left, right):\n",
    "    if left < right:\n",
    "        partitionIndex = partition(nums, left, right)\n",
    "        quickSort(nums, left, partitionIndex - 1)\n",
    "        quickSort(nums, partitionIndex + 1, right)\n",
    "        \n",
    "def partition(nums, left, right):\n",
    "    partitionIndex = left\n",
    "    pivotElement = nums[right]\n",
    "    \n",
    "    for j in range(left, right):\n",
    "        if nums[j] <= pivotElement:\n",
    "            nums[j], nums[partitionIndex] = nums[partitionIndex], nums[j]\n",
    "            partitionIndex += 1\n",
    "    nums[right], nums[partitionIndex] = nums[partitionIndex], nums[right]\n",
    "    return partitionIndex"
   ]
  },
  {
   "cell_type": "code",
   "execution_count": 4,
   "id": "50eb9588",
   "metadata": {},
   "outputs": [
    {
     "data": {
      "text/plain": [
       "6"
      ]
     },
     "execution_count": 4,
     "metadata": {},
     "output_type": "execute_result"
    }
   ],
   "source": [
    "findKthLargestQuickSort([5,6,1,4,8,3],2)"
   ]
  },
  {
   "cell_type": "markdown",
   "id": "cce2e03b",
   "metadata": {},
   "source": [
    "### Step-by-Step Approach for Finding the K-th Largest Element Using QuickSelect\n",
    "\n",
    "#### 1. Clarify the Problem\n",
    "- The goal is to find the K-th largest element in an unsorted array.\n",
    "- Ask clarifying questions:\n",
    "  - Does the input contain only integers?\n",
    "  - How should we handle duplicate values?\n",
    "  - Should the function return the K-th largest element or its index?\n",
    "\n",
    "---\n",
    "\n",
    "#### 2. Plan the Approach\n",
    "We will use the **QuickSelect** algorithm, which is a variation of the QuickSort algorithm, to solve this problem efficiently. \n",
    "\n",
    "1. **Key Idea**:\n",
    "   - QuickSelect works by partitioning the array around a pivot element and then determining whether the desired index lies in the left or right partition.\n",
    "   - This avoids fully sorting the array, making the algorithm faster for this specific task.\n",
    "\n",
    "2. **Steps**:\n",
    "   - **Convert K to a Zero-Based Index**:\n",
    "     - The K-th largest element corresponds to the `(len(nums) - k)`-th smallest element in zero-based indexing.\n",
    "   - **QuickSelect**:\n",
    "     - Use a recursive function to partition the array.\n",
    "     - If the pivot’s position matches the target index, return the pivot.\n",
    "     - Otherwise, recurse into the left or right partition depending on the target index.\n",
    "   - **Partition Function**:\n",
    "     - Rearrange the elements such that all elements smaller than the pivot are on the left and larger ones are on the right.\n",
    "     - Return the pivot's final position.\n",
    "\n",
    "3. **Complexity**:\n",
    "   - **Time Complexity**:\n",
    "     - Best/Average Case: O(n), because each partition reduces the problem size by approximately half.\n",
    "     - Worst Case: O(n^2), when the array is already sorted or all elements are equal.\n",
    "   - **Space Complexity**:\n",
    "     - O(1), as QuickSelect operates in-place.\n",
    "\n",
    "---\n"
   ]
  },
  {
   "cell_type": "code",
   "execution_count": 5,
   "id": "2a3765ab",
   "metadata": {},
   "outputs": [],
   "source": [
    "# T --> O(n), worst case O(n^2) in case of [8, 6, 5, 4, 3, 1]\n",
    "# S --> O(1), because of quickselect\n",
    "\n",
    "def findKthLargestQuickSelect(nums, k):\n",
    "    indexToFind = len(nums) - k\n",
    "    return quickSelect(nums, 0, len(nums) - 1, indexToFind)\n",
    "\n",
    "def quickSelect(nums, left, right, indexToFind):\n",
    "    if left == right:\n",
    "        return nums[left]\n",
    "    \n",
    "    if left < right:\n",
    "        partitionIndex = partition(nums, left, right)\n",
    "        if partitionIndex == indexToFind:\n",
    "            return nums[partitionIndex]\n",
    "        elif partitionIndex < indexToFind:\n",
    "            return quickSelect(nums, partitionIndex + 1, right, indexToFind)\n",
    "        else:\n",
    "            return quickSelect(nums, left, partitionIndex - 1, indexToFind)\n",
    "\n",
    "def partition(nums, left, right):\n",
    "    partitionIndex = left\n",
    "    pivotElement = nums[right]\n",
    "    \n",
    "    for j in range(left, right):\n",
    "        if nums[j] <= pivotElement:\n",
    "            nums[j], nums[partitionIndex] = nums[partitionIndex], nums[j]\n",
    "            partitionIndex += 1\n",
    "    nums[right], nums[partitionIndex] = nums[partitionIndex], nums[right]\n",
    "    return partitionIndex"
   ]
  },
  {
   "cell_type": "code",
   "execution_count": 6,
   "id": "8f9fcec4",
   "metadata": {},
   "outputs": [
    {
     "data": {
      "text/plain": [
       "5"
      ]
     },
     "execution_count": 6,
     "metadata": {},
     "output_type": "execute_result"
    }
   ],
   "source": [
    "findKthLargestQuickSelect([5,6,1,4,8,3],3)"
   ]
  },
  {
   "cell_type": "markdown",
   "id": "641fe0b9",
   "metadata": {},
   "source": [
    "**First Round**\n",
    "\n",
    "[5, 6, 1, 4, 8, 3]\n",
    "\n",
    "[1, 6, 5, 4, 8, 3]\n",
    "\n",
    "[1, 3, 5, 4, 8, 6]\n",
    "\n",
    "indexToFind = 3, partitionIndex = 1, left = 0, right = 5\n",
    "\n",
    "**Second Round**\n",
    "indexToFind = 3, partitionIndex = 2, left = 2, right = 5\n",
    "\n",
    "[1, 3, 5, 4, 8, 6]\n",
    "\n",
    "[1, 3, 5, 4, 6, 8]\n",
    "\n",
    "indexToFind = 3, partitionIndex = 4\n",
    "\n",
    "**Third Round**\n",
    "\n",
    "indexToFind = 3, partitionIndex = 3, left = 2, right = 3\n",
    "\n",
    "[1, 3, 5, 4, 6, 8]\n",
    "\n",
    "\n",
    "[1, 3, 4, 5, 6, 8]"
   ]
  },
  {
   "cell_type": "markdown",
   "id": "04b7346a",
   "metadata": {},
   "source": [
    "## 3. Valid Word Abbreviation\n",
    "\n",
    "### Step-by-Step Approach for Valid Word Abbreviation\n",
    "\n",
    "#### 1. Clarify the Problem\n",
    "- The goal is to determine whether a given word matches its abbreviation.\n",
    "- Rules for valid abbreviations:\n",
    "  - Numbers in the abbreviation indicate how many characters in the word are skipped.\n",
    "  - Numbers must not have leading zeros.\n",
    "  - Characters in the abbreviation must match the corresponding characters in the word.\n",
    "- Ask clarifying questions:\n",
    "  - What should we return for empty strings for either `word` or `abbr`? (Typically, an empty abbreviation is invalid unless the word is also empty.)\n",
    "  - Are all inputs guaranteed to be lowercase and valid?\n",
    "\n",
    "---\n",
    "\n",
    "#### 2. Plan the Approach\n",
    "We use two pointers to traverse the `word` and the `abbr` simultaneously:\n",
    "1. **Handle Numbers in the Abbreviation**:\n",
    "   - If the current character in `abbr` is a digit, calculate the number it represents (taking care to handle multiple digits).\n",
    "   - Move the `word` pointer forward by the calculated number of characters.\n",
    "   - Return `False` if the digit is `0` (invalid leading zero) or if the pointer goes out of bounds.\n",
    "\n",
    "2. **Match Non-Digit Characters**:\n",
    "   - If the current character in `abbr` is not a digit, ensure it matches the current character in `word`.\n",
    "   - If it doesn't match, return `False`.\n",
    "\n",
    "3. **End Check**:\n",
    "   - At the end of both strings, the pointers must align perfectly; otherwise, return `False`.\n",
    "\n",
    "---\n",
    "\n",
    "#### 3. Complexity Analysis\n",
    "- **Time Complexity**:\n",
    "  - Each character in `word` and `abbr` is processed exactly once, resulting in \\(O(n)\\) time.\n",
    "- **Space Complexity**:\n",
    "  - No additional data structures are used, so the space complexity is \\(O(1)\\).\n",
    "\n",
    "---\n",
    "\n",
    "#### 4. Example Walkthrough\n",
    "\n",
    "**Example 1**:\n",
    "- Input: `word = \"internationalization\"`, `abbr = \"i12iz4n\"`\n",
    "- Steps:\n",
    "  1. `abbr_ptr = 0`, `word_ptr = 0`: `abbr[abbr_ptr] = 'i'` matches `word[word_ptr] = 'i'`. Move both pointers.\n",
    "  2. `abbr_ptr = 1`: `abbr[abbr_ptr] = '1'` (start of number). Parse `12`.\n",
    "     - Move `word_ptr` forward by `12`.\n",
    "  3. `abbr_ptr = 3`, `word_ptr = 13`: `abbr[abbr_ptr] = 'i'` matches `word[word_ptr] = 'i'`. Move both pointers.\n",
    "  4. `abbr_ptr = 4`: `abbr[abbr_ptr] = 'z'` matches `word[word_ptr] = 'z'`. Move both pointers.\n",
    "  5. `abbr_ptr = 5`: Parse `4` and move `word_ptr` forward by `4`.\n",
    "  6. `abbr_ptr = 7`, `word_ptr = 18`: `abbr[abbr_ptr] = 'n'` matches `word[word_ptr] = 'n'`.\n",
    "  7. Both pointers reach the end. Return `True`.\n",
    "\n",
    "**Output**: `True`\n",
    "\n",
    "---\n",
    "\n",
    "**Example 2**:\n",
    "- Input: `word = \"apple\"`, `abbr = \"a2e\"`\n",
    "- Steps:\n",
    "  1. `abbr_ptr = 0`, `word_ptr = 0`: `abbr[abbr_ptr] = 'a'` matches `word[word_ptr] = 'a'`. Move both pointers.\n",
    "  2. `abbr_ptr = 1`: Parse `2` and move `word_ptr` forward by `2`.\n",
    "  3. `abbr_ptr = 2`, `word_ptr = 3`: `abbr[abbr_ptr] = 'e'` matches `word[word_ptr] = 'e'`.\n",
    "  4. Both pointers reach the end. Return `True`.\n",
    "\n",
    "**Output**: `True`\n",
    "\n",
    "---\n",
    "\n",
    "**Example 3**:\n",
    "- Input: `word = \"word\"`, `abbr = \"w02d\"`\n",
    "- Steps:\n",
    "  1. `abbr_ptr = 0`, `word_ptr = 0`: `abbr[abbr_ptr] = 'w'` matches `word[word_ptr] = 'w'`. Move both pointers.\n",
    "  2. `abbr_ptr = 1`: `abbr[abbr_ptr] = '0'`. Invalid leading zero. Return `False`.\n",
    "\n",
    "**Output**: `False`\n",
    "\n",
    "---\n",
    "\n",
    "#### 5. Edge Cases\n",
    "1. **Empty Strings**:\n",
    "   - Input: `word = \"\"`, `abbr = \"\"`\n",
    "   - Output: `True`\n",
    "2. **Leading Zero in Abbreviation**:\n",
    "   - Input: `word = \"hello\"`, `abbr = \"h0llo\"`\n",
    "   - Output: `False`\n",
    "3. **Mismatch in Length**:\n",
    "   - Input: `word = \"cat\"`, `abbr = \"c4\"`\n",
    "   - Output: `False`\n",
    "\n",
    "---\n",
    "\n",
    "#### 6. Wrap-Up\n",
    "- Restate the approach:\n",
    "  - Use two pointers to traverse `word` and `abbr`, handling numbers and character matches appropriately.\n",
    "- Complexity Recap:\n",
    "  - Time complexity is \\(O(n)\\), and space complexity is \\(O(1)\\).\n",
    "- Ask for feedback or edge cases:\n",
    "  - \"Does this handle all requirements? Are there additional edge cases you'd like me to test?\"\n"
   ]
  },
  {
   "cell_type": "code",
   "execution_count": 7,
   "id": "fe76061b",
   "metadata": {},
   "outputs": [],
   "source": [
    "# Time --> O(n)\n",
    "# Space --> O(1)\n",
    "\n",
    "def validWordAbbreviation(word, abbr):\n",
    "    word_ptr = 0\n",
    "    abbr_ptr = 0\n",
    "    \n",
    "    while word_ptr < len(word) and abbr_ptr < len(abbr):\n",
    "        if abbr[abbr_ptr].isdigit():\n",
    "            if abbr[abbr_ptr] == '0':\n",
    "                return False\n",
    "            \n",
    "            num = 0\n",
    "            \n",
    "            while abbr_ptr < len(abbr) and abbr[abbr_ptr].isdigit():\n",
    "                num = num * 10 + int(abbr[abbr_ptr])\n",
    "                abbr_ptr += 1\n",
    "            \n",
    "            word_ptr += num\n",
    "        \n",
    "        else:\n",
    "            if word_ptr >= len(word) or word[word_ptr] != abbr[abbr_ptr]:\n",
    "                return False\n",
    "            \n",
    "            word_ptr += 1\n",
    "            abbr_ptr += 1\n",
    "        \n",
    "    return word_ptr == len(word) and abbr_ptr == len(abbr)\n",
    "            "
   ]
  },
  {
   "cell_type": "code",
   "execution_count": 8,
   "id": "424c4572",
   "metadata": {},
   "outputs": [
    {
     "data": {
      "text/plain": [
       "True"
      ]
     },
     "execution_count": 8,
     "metadata": {},
     "output_type": "execute_result"
    }
   ],
   "source": [
    "validWordAbbreviation(\"substitution\", \"s10n\")"
   ]
  },
  {
   "cell_type": "code",
   "execution_count": 9,
   "id": "9fd61cde",
   "metadata": {},
   "outputs": [
    {
     "data": {
      "text/plain": [
       "True"
      ]
     },
     "execution_count": 9,
     "metadata": {},
     "output_type": "execute_result"
    }
   ],
   "source": [
    "validWordAbbreviation(\"substitution\", \"sub4u4\")"
   ]
  },
  {
   "cell_type": "code",
   "execution_count": 10,
   "id": "f967e651",
   "metadata": {},
   "outputs": [
    {
     "data": {
      "text/plain": [
       "False"
      ]
     },
     "execution_count": 10,
     "metadata": {},
     "output_type": "execute_result"
    }
   ],
   "source": [
    "validWordAbbreviation(\"substitution\", \"s010n\")"
   ]
  },
  {
   "cell_type": "markdown",
   "id": "17c2307a",
   "metadata": {},
   "source": [
    "## 4. Minimum remove to make valid parenthesis\n",
    "\n",
    "### Step-by-Step Approach for Removing Minimum Parentheses to Make a String Valid\n",
    "\n",
    "#### 1. Clarify the Problem\n",
    "- The goal is to remove the **minimum number of parentheses** from the string `s` to make it valid.\n",
    "- A string is valid if:\n",
    "  - Every opening parenthesis `'('` has a corresponding closing parenthesis `')'`.\n",
    "  - Parentheses are properly nested.\n",
    "- Ask clarifying questions:\n",
    "  - Can the string contain characters other than parentheses? (Yes, they should remain unchanged.)\n",
    "  - Are empty strings valid? (Yes.)\n",
    "\n",
    "---\n",
    "\n",
    "#### 2. Plan the Approach\n",
    "We solve the problem in two phases:\n",
    "1. **Identify Indices to Remove**:\n",
    "   - Use a **stack** to keep track of unmatched opening parentheses `'('`.\n",
    "   - Use a **set** to track indices of unmatched closing parentheses `')'` and any leftover `'('` indices in the stack.\n",
    "\n",
    "2. **Reconstruct the Valid String**:\n",
    "   - Iterate through the original string, appending only characters whose indices are **not in the set of invalid indices**.\n",
    "\n",
    "---\n",
    "\n",
    "#### 3. Complexity Analysis\n",
    "- **Time Complexity**:\n",
    "  - \\(O(n)\\) for a single pass through the string to determine indices to remove.\n",
    "  - \\(O(n)\\) for reconstructing the valid string.\n",
    "  - Total: \\(O(n)\\).\n",
    "- **Space Complexity**:\n",
    "  - \\(O(n)\\) for the stack and set to track invalid indices.\n",
    "\n",
    "---\n",
    "\n",
    "#### 4. Example Walkthrough\n",
    "\n",
    "**Example 1**:\n",
    "- Input: `s = \"lee(t(c)o)de)\"`\n",
    "- Steps:\n",
    "  1. **Phase 1: Identify Indices to Remove**:\n",
    "     - Traverse the string:\n",
    "       - `'l', 'e', 'e'`: Ignore non-parentheses.\n",
    "       - `'('`: Add index `3` to the stack → `stack = [3]`.\n",
    "       - `'t'`: Ignore.\n",
    "       - `'('`: Add index `5` to the stack → `stack = [3, 5]`.\n",
    "       - `')'`: Match with `5` → Pop `5` from stack → `stack = [3]`.\n",
    "       - `'c', 'o'`: Ignore.\n",
    "       - `')'`: Match with `3` → Pop `3` from stack → `stack = []`.\n",
    "       - `'d'`: Ignore.\n",
    "       - `')'`: Unmatched closing parenthesis → Add index `10` to `indicesToRemove = {10}`.\n",
    "     - Any remaining indices in the stack are unmatched `'('`: `indicesToRemove = {10}`.\n",
    "  2. **Phase 2: Reconstruct Valid String**:\n",
    "     - Iterate through the string, skipping indices in `indicesToRemove = {10}`.\n",
    "     - Result: `\"lee(t(c)o)de\"`.\n",
    "\n",
    "**Output**: `\"lee(t(c)o)de\"`\n",
    "\n",
    "---\n",
    "\n",
    "**Example 2**:\n",
    "- Input: `s = \"a)b(c)d\"`\n",
    "- Steps:\n",
    "  1. **Phase 1**:\n",
    "     - `'a'`: Ignore.\n",
    "     - `')'`: Unmatched closing parenthesis → `indicesToRemove = {1}`.\n",
    "     - `'b'`: Ignore.\n",
    "     - `'('`: Add index `3` to stack → `stack = [3]`.\n",
    "     - `'c'`: Ignore.\n",
    "     - `')'`: Match with `3` → Pop `3` from stack → `stack = []`.\n",
    "     - `'d'`: Ignore.\n",
    "     - `indicesToRemove = {1}`.\n",
    "  2. **Phase 2**:\n",
    "     - Skip index `1`, reconstruct `\"ab(c)d\"`.\n",
    "\n",
    "**Output**: `\"ab(c)d\"`\n",
    "\n",
    "---\n",
    "\n",
    "#### 5. Edge Cases\n",
    "1. **Empty String**:\n",
    "   - Input: `s = \"\"`\n",
    "   - Output: `\"\"`\n",
    "2. **No Parentheses**:\n",
    "   - Input: `s = \"abc\"`\n",
    "   - Output: `\"abc\"`\n",
    "3. **All Parentheses Invalid**:\n",
    "   - Input: `s = \"((((\"`\n",
    "   - Output: `\"\"`\n",
    "   - Input: `s = \"))))\"`\n",
    "   - Output: `\"\"`\n",
    "4. **Already Valid**:\n",
    "   - Input: `s = \"(abc)\"`\n",
    "   - Output: `\"(abc)\"`\n",
    "\n",
    "---\n",
    "\n",
    "#### 6. Wrap-Up\n",
    "- Restate the approach:\n",
    "  - Use a stack to match opening and closing parentheses.\n",
    "  - Track unmatched parentheses and remove them during reconstruction.\n",
    "- Complexity Recap:\n",
    "  - Time complexity is \\(O(n)\\), and space complexity is \\(O(n)\\).\n",
    "- Ask for feedback or edge cases:\n",
    "  - \"Does this handle all the requirements? Are there additional scenarios you'd like me to test?\"\n"
   ]
  },
  {
   "cell_type": "code",
   "execution_count": 36,
   "id": "e657c637",
   "metadata": {},
   "outputs": [],
   "source": [
    "# time --> O(n)\n",
    "# space --> O(n)\n",
    "\n",
    "def minRemoveToMakeValid(s):\n",
    "    indicesToRemove = set()\n",
    "    stack = []\n",
    "    \n",
    "    for idx, char in enumerate(s):\n",
    "        if char not in '()':\n",
    "            continue\n",
    "        elif char == '(':\n",
    "            stack.append(idx)\n",
    "        elif not stack:\n",
    "            indicesToRemove.add(idx)\n",
    "        else:\n",
    "            stack.pop()\n",
    "            \n",
    "    indicesToRemove = indicesToRemove.union(set(stack))\n",
    "    stringBuilder = []\n",
    "    \n",
    "    for i in range(len(s)):\n",
    "        if i not in indicesToRemove:\n",
    "            stringBuilder.append(s[i])\n",
    "    return \"\".join(stringBuilder)"
   ]
  },
  {
   "cell_type": "code",
   "execution_count": 38,
   "id": "a2b1f6ce",
   "metadata": {},
   "outputs": [
    {
     "data": {
      "text/plain": [
       "'ab(c)d'"
      ]
     },
     "execution_count": 38,
     "metadata": {},
     "output_type": "execute_result"
    }
   ],
   "source": [
    "minRemoveToMakeValid('(ab(c)d')"
   ]
  },
  {
   "cell_type": "markdown",
   "id": "8fe6fbc6",
   "metadata": {},
   "source": [
    "## 5. Merge Sorted array"
   ]
  },
  {
   "cell_type": "code",
   "execution_count": 13,
   "id": "67ff2a35",
   "metadata": {},
   "outputs": [],
   "source": [
    "nums1 = [1,2,3,0,0,0]\n",
    "m = 3\n",
    "nums2 = [2,5,6]\n",
    "n = 3\n",
    "\n",
    "# time --> O((m + n)log(m + n))\n",
    "# space --> O(n) (for sorting)\n",
    "\n",
    "def mergeSortedArrayBrute(nums1, m, nums2, n):\n",
    "    \n",
    "    for i in range(n):\n",
    "        nums1[i + m] = nums2[i]\n",
    "    \n",
    "    nums1.sort()"
   ]
  },
  {
   "cell_type": "code",
   "execution_count": 14,
   "id": "a9f7198d",
   "metadata": {},
   "outputs": [
    {
     "data": {
      "text/plain": [
       "[1, 2, 2, 3, 5, 6]"
      ]
     },
     "execution_count": 14,
     "metadata": {},
     "output_type": "execute_result"
    }
   ],
   "source": [
    "mergeSortedArrayBrute(nums1, m, nums2, n)\n",
    "nums1"
   ]
  },
  {
   "cell_type": "code",
   "execution_count": 15,
   "id": "bffee86f",
   "metadata": {},
   "outputs": [],
   "source": [
    "# time --> O(m + n)\n",
    "# space --> O(m) (for copy)\n",
    "\n",
    "def mergeSortedArrayBetter(nums1, m, nums2, n):\n",
    "    nums1_copy = nums1[:m]\n",
    "    \n",
    "    p1 = 0\n",
    "    p2 = 0\n",
    "    \n",
    "    for p in range(m + n):\n",
    "        if p2 >= n or (p1 < m and nums1_copy[p1] <= nums2[p2]):\n",
    "            nums1[p] = nums1_copy[p1]\n",
    "            p1 += 1\n",
    "        else:\n",
    "            nums1[p] = nums2[p2]\n",
    "            p2 += 1"
   ]
  },
  {
   "cell_type": "code",
   "execution_count": 16,
   "id": "6d749b82",
   "metadata": {},
   "outputs": [
    {
     "data": {
      "text/plain": [
       "[1, 2, 2, 3, 5, 6]"
      ]
     },
     "execution_count": 16,
     "metadata": {},
     "output_type": "execute_result"
    }
   ],
   "source": [
    "nums1 = [1,2,3,0,0,0]\n",
    "m = 3\n",
    "nums2 = [2,5,6]\n",
    "n = 3\n",
    "\n",
    "mergeSortedArrayBetter(nums1, m, nums2, n)\n",
    "nums1"
   ]
  },
  {
   "cell_type": "code",
   "execution_count": 17,
   "id": "e2a7db59",
   "metadata": {},
   "outputs": [],
   "source": [
    "# time --> O(m + n)\n",
    "# space --> O(1)\n",
    "def mergeSortedArrayBest(nums1, m, nums2, n):\n",
    "    p1 = m - 1\n",
    "    p2 = n - 1\n",
    "    \n",
    "    for p in range(m + n - 1, -1, -1):\n",
    "        if p2 < 0:\n",
    "            break\n",
    "        if p1 >= 0 and nums1[p1] >= nums2[p2]:\n",
    "            nums1[p] = nums1[p1]\n",
    "            p1 -= 1\n",
    "        else:\n",
    "            nums1[p] = nums2[p2]\n",
    "            p2 -= 1\n",
    "            "
   ]
  },
  {
   "cell_type": "code",
   "execution_count": 18,
   "id": "9d748d60",
   "metadata": {},
   "outputs": [
    {
     "data": {
      "text/plain": [
       "[1, 2, 2, 3, 5, 6]"
      ]
     },
     "execution_count": 18,
     "metadata": {},
     "output_type": "execute_result"
    }
   ],
   "source": [
    "nums1 = [1,2,3,0,0,0]\n",
    "m = 3\n",
    "nums2 = [2,5,6]\n",
    "n = 3\n",
    "\n",
    "mergeSortedArrayBest(nums1, m, nums2, n)\n",
    "nums1"
   ]
  },
  {
   "cell_type": "markdown",
   "id": "61fe1579",
   "metadata": {},
   "source": [
    "## 6. Binary tree vertical order traversal"
   ]
  },
  {
   "cell_type": "code",
   "execution_count": 4,
   "id": "ca142e6e",
   "metadata": {},
   "outputs": [],
   "source": [
    "class Node:\n",
    "    def __init__(self, val: int):\n",
    "        self.left = None\n",
    "        self.right = None\n",
    "        self.val = val\n",
    "\n",
    "    def __repr__(self):\n",
    "        return str(self.val)\n",
    "\n",
    "    def insert_node(self, val):\n",
    "        if self.val is not None:\n",
    "            if val < self.val:\n",
    "                if self.left is None:\n",
    "                    self.left = Node(val)\n",
    "                else:\n",
    "                    self.left.insert_node(val)\n",
    "            elif val > self.val:\n",
    "                if self.right is None:\n",
    "                    self.right = Node(val)\n",
    "                else:\n",
    "                    self.right.insert_node(val)\n",
    "\n",
    "    @staticmethod\n",
    "    def insert_nodes(vals: list, root):\n",
    "        for i in vals:\n",
    "            root.insert_node(i)\n",
    "\n",
    "    def bfs(self, root=None):\n",
    "        if root is None:\n",
    "            return\n",
    "        result = []\n",
    "        queue = [root]\n",
    "\n",
    "        while len(queue) > 0:\n",
    "            cur_node = queue.pop(0)\n",
    "            result.append(cur_node.val)\n",
    "            if cur_node.left is not None:\n",
    "                queue.append(cur_node.left)\n",
    "\n",
    "            if cur_node.right is not None:\n",
    "                queue.append(cur_node.right)\n",
    "\n",
    "            #print(queue)\n",
    "        return result\n",
    "    \n",
    "    def DFSInorder(self, root=None):\n",
    "        return self.traverseInOrder(root, [])\n",
    "    \n",
    "    def DFSPostOrder(self, root=None):\n",
    "        return self.traversePostOrder(root, [])\n",
    "    \n",
    "    def DFSPreOrder(self, root=None):\n",
    "        return self.traversePreOrder(root, [])\n",
    "    \n",
    "    def traverseInOrder(self, node, data):\n",
    "        if node.left is not None:\n",
    "            node.traverseInOrder(node.left, data)\n",
    "        data.append(node.val)\n",
    "        \n",
    "        if node.right is not None:\n",
    "            node.traverseInOrder(node.right, data)\n",
    "        #print(data)\n",
    "        return data\n",
    "    \n",
    "    def traversePostOrder(self, node, data):\n",
    "        \n",
    "        if node.left is not None:\n",
    "            node.traversePostOrder(node.left, data)\n",
    "              \n",
    "        if node.right is not None:\n",
    "            node.traversePostOrder(node.right, data)\n",
    "        #print(data)\n",
    "        data.append(node.val)\n",
    "        return data\n",
    "    \n",
    "    def traversePreOrder(self, node, data):\n",
    "        data.append(node.val)\n",
    "        if node.left is not None:\n",
    "            node.traversePreOrder(node.left, data)\n",
    "        \n",
    "        \n",
    "        if node.right is not None:\n",
    "            node.traversePreOrder(node.right, data)\n",
    "        #print(data)\n",
    "        return data\n",
    "    "
   ]
  },
  {
   "cell_type": "code",
   "execution_count": 5,
   "id": "95f7106a",
   "metadata": {},
   "outputs": [],
   "source": [
    "#       9\n",
    "#    4     20\n",
    "#  1  6  15   170\n",
    "\n",
    "def run():\n",
    "    root = Node(9)\n",
    "    root.insert_nodes([4,6,20,170,15,1], root)\n",
    "    bfs_result = root.bfs(root=root)\n",
    "    dfs_inorder = root.DFSInorder(root)\n",
    "    dfs_preorder = root.DFSPreOrder(root)\n",
    "    dfs_postorder = root.DFSPostOrder(root)\n",
    "    return root, bfs_result, dfs_inorder, dfs_preorder, dfs_postorder"
   ]
  },
  {
   "cell_type": "code",
   "execution_count": 6,
   "id": "0a8db05b",
   "metadata": {},
   "outputs": [],
   "source": [
    "root, bfs_result, dfs_inorder, dfs_preorder, dfs_postorder = run()"
   ]
  },
  {
   "cell_type": "code",
   "execution_count": 22,
   "id": "acab15aa",
   "metadata": {},
   "outputs": [],
   "source": [
    "from collections import defaultdict, deque\n",
    "\n",
    "# time --> O(nlogn) (because of sorting)\n",
    "# space --> O(n)\n",
    "def verticalOrder(root):\n",
    "    if not root:\n",
    "        return []\n",
    "    \n",
    "    columnTable = defaultdict(list)\n",
    "    queue = [[root, 0]]\n",
    "    \n",
    "    while queue:\n",
    "        currNode, currCol = queue.pop(0)\n",
    "        \n",
    "        if currNode:\n",
    "            columnTable[currCol].append(currNode.val)\n",
    "            queue.append([currNode.left, currCol - 1])\n",
    "            queue.append([currNode.right, currCol + 1])\n",
    "    \n",
    "    return [columnTable[x] for x in sorted(columnTable.keys())]\n",
    "    "
   ]
  },
  {
   "cell_type": "code",
   "execution_count": 23,
   "id": "42d78724",
   "metadata": {},
   "outputs": [
    {
     "data": {
      "text/plain": [
       "[[1], [4], [9, 6, 15], [20], [170]]"
      ]
     },
     "execution_count": 23,
     "metadata": {},
     "output_type": "execute_result"
    }
   ],
   "source": [
    "verticalOrder(root)"
   ]
  },
  {
   "cell_type": "code",
   "execution_count": 24,
   "id": "f3c0549f",
   "metadata": {},
   "outputs": [],
   "source": [
    "# time --> O(n) (sorting removed)\n",
    "# space --> O(n)\n",
    "def verticalOrderBetter(root):\n",
    "    if not root:\n",
    "        return []\n",
    "    \n",
    "    columnTable = defaultdict(list)\n",
    "    queue = [[root, 0]]\n",
    "    minCol = 0\n",
    "    maxCol = 0\n",
    "    \n",
    "    while queue:\n",
    "        currNode, currCol = queue.pop(0)\n",
    "        \n",
    "        if currNode:\n",
    "            columnTable[currCol].append(currNode.val)\n",
    "            minCol = min(minCol, currCol)\n",
    "            maxCol = max(maxCol, currCol)\n",
    "            queue.append([currNode.left, currCol - 1])\n",
    "            queue.append([currNode.right, currCol + 1])\n",
    "    \n",
    "    return [columnTable[x] for x in range(minCol, maxCol + 1)]"
   ]
  },
  {
   "cell_type": "code",
   "execution_count": 25,
   "id": "11241b9a",
   "metadata": {},
   "outputs": [
    {
     "data": {
      "text/plain": [
       "[[1], [4], [9, 6, 15], [20], [170]]"
      ]
     },
     "execution_count": 25,
     "metadata": {},
     "output_type": "execute_result"
    }
   ],
   "source": [
    "verticalOrderBetter(root)"
   ]
  },
  {
   "cell_type": "markdown",
   "id": "e68e971b",
   "metadata": {},
   "source": [
    "## 7. Random Pick with weight"
   ]
  },
  {
   "cell_type": "code",
   "execution_count": 26,
   "id": "d30be098",
   "metadata": {},
   "outputs": [],
   "source": [
    "import random\n",
    "from typing import List\n",
    "\n",
    "class Solution:\n",
    "    # T --> O(n)\n",
    "    # S --> O(n)\n",
    "    def __init__(self, w: List[int]):\n",
    "        self.prefix_sums = []\n",
    "        prefix_sum = 0\n",
    "        \n",
    "        for weight in w:\n",
    "            prefix_sum += weight\n",
    "            self.prefix_sums.append(prefix_sum)\n",
    "        self.total_sum = prefix_sum\n",
    "        print(self.prefix_sums)\n",
    "    \n",
    "    # T --> O(n)\n",
    "    # S --> O(1)\n",
    "    def pickIndex(self):\n",
    "        target = self.total_sum * random.random()\n",
    "        \n",
    "        for idx, prefix_sum in enumerate(self.prefix_sums):\n",
    "            if target < prefix_sum:\n",
    "                return idx"
   ]
  },
  {
   "cell_type": "code",
   "execution_count": 27,
   "id": "6c6dc50b",
   "metadata": {},
   "outputs": [
    {
     "name": "stdout",
     "output_type": "stream",
     "text": [
      "[1, 4, 9, 15, 22, 30]\n",
      "4\n",
      "4\n",
      "3\n",
      "3\n",
      "1\n",
      "2\n"
     ]
    }
   ],
   "source": [
    "# \n",
    "solution = Solution([1, 3, 5, 6, 7, 8]);\n",
    "print(solution.pickIndex())\n",
    "print(solution.pickIndex())\n",
    "print(solution.pickIndex())\n",
    "print(solution.pickIndex())\n",
    "print(solution.pickIndex())\n",
    "print(solution.pickIndex())\n"
   ]
  },
  {
   "cell_type": "markdown",
   "id": "f660668d",
   "metadata": {},
   "source": [
    "### With Binary search"
   ]
  },
  {
   "cell_type": "code",
   "execution_count": 28,
   "id": "028a4361",
   "metadata": {},
   "outputs": [],
   "source": [
    "class Solution:\n",
    "    def __init__(self, w):\n",
    "        # T --> O(n)\n",
    "        # S --> O(n)\n",
    "        # Precompute the prefix sums\n",
    "        self.prefix_sums = []\n",
    "        self.total_sum = 0\n",
    "\n",
    "        for weight in w:\n",
    "            self.total_sum += weight\n",
    "            self.prefix_sums.append(self.total_sum)\n",
    "    \n",
    "    # T --> O(logn)\n",
    "    # S --> O(1)\n",
    "    def pickIndex(self):\n",
    "        # Generate a random number in the range [0, total_sum)\n",
    "        target = self.total_sum * random.random()\n",
    "        left = 0\n",
    "        right = len(self.prefix_sums) - 1\n",
    "\n",
    "        # Perform binary search\n",
    "        while left < right:\n",
    "            mid = (left + right) // 2\n",
    "            if target > self.prefix_sums[mid]:\n",
    "                left = mid + 1\n",
    "            else:\n",
    "                right = mid\n",
    "\n",
    "        return left"
   ]
  },
  {
   "cell_type": "code",
   "execution_count": 29,
   "id": "848f6a34",
   "metadata": {},
   "outputs": [
    {
     "name": "stdout",
     "output_type": "stream",
     "text": [
      "3\n",
      "2\n",
      "5\n",
      "4\n",
      "4\n",
      "1\n"
     ]
    }
   ],
   "source": [
    "# \n",
    "solution = Solution([1, 3, 5, 6, 7, 8]);\n",
    "print(solution.pickIndex())\n",
    "print(solution.pickIndex())\n",
    "print(solution.pickIndex())\n",
    "print(solution.pickIndex())\n",
    "print(solution.pickIndex())\n",
    "print(solution.pickIndex())\n"
   ]
  },
  {
   "attachments": {
    "image.png": {
     "image/png": "[encoded data removed]"
    }
   },
   "cell_type": "markdown",
   "id": "a6d7d888",
   "metadata": {},
   "source": [
    "## 8. Lowest Common Ancestor\n",
    "\n",
    "### Step-by-Step Approach for Lowest Common Ancestor (LCA)\n",
    "\n",
    "#### 1. Clarify the Problem\n",
    "- Restate the problem to ensure understanding:\n",
    "  - We need to find the lowest common ancestor (LCA) of two nodes, `p` and `q`, in a binary tree.\n",
    "  - The LCA is the lowest node in the tree that has both `p` and `q` as descendants.\n",
    "- Ask clarifying questions:\n",
    "  - Can `p` or `q` be the same as the root node?\n",
    "  - Are both `p` and `q` guaranteed to be present in the tree?\n",
    "  - Is the tree a binary search tree (BST), or is it a general binary tree?\n",
    "\n",
    "#### 2. Plan the Approach\n",
    "- We will use a recursive function to traverse the tree and determine the LCA based on the following logic:\n",
    "  1. **Base Case**:\n",
    "     - If the current node is `None`, return `None` because we have reached the end of a branch.\n",
    "     - If the current node matches `p` or `q`, return the current node since it is a potential LCA.\n",
    "  2. **Recursive Case**:\n",
    "     - Recursively search the left and right subtrees for `p` and `q`.\n",
    "  3. **Combine Results**:\n",
    "     - If both left and right subtrees return non-`None` values, it means `p` and `q` are in different subtrees, and the current node is their LCA.\n",
    "     - If only one subtree returns a non-`None` value, propagate that result upward as the LCA.\n",
    "\n",
    "#### 3. Complexity Analysis\n",
    "- Time complexity: O(n), where n is the number of nodes in the tree, because each node is visited once.\n",
    "- Space complexity: O(h), where h is the height of the tree, due to the recursive call stack.\n",
    "\n",
    "\n",
    "**Tree**:\n",
    "\n",
    "![image.png](attachment:image.png)\n",
    "\n",
    "\n",
    "**Input**:\n",
    "- Nodes `p = 7` and `q = 4`\n",
    "\n",
    "**Steps**:\n",
    "1. Start at the root node (3). Recurse into the left subtree (5) and right subtree (1).\n",
    "2. At node 5:\n",
    "   - Recurse into the left subtree (6). Return `None`.\n",
    "   - Recurse into the right subtree (2). \n",
    "     - Recurse into the left subtree (7). Return 7.\n",
    "     - Recurse into the right subtree (4). Return 4.\n",
    "     - Since both left and right subtrees return non-`None`, return 2 as the LCA.\n",
    "   - Return 2 to the root.\n",
    "3. At node 1:\n",
    "   - Recurse into both subtrees (0 and 8). Both return `None`.\n",
    "   - Return `None` to the root.\n",
    "4. Back at node 3:\n",
    "   - Since the left subtree returns 2 and the right subtree returns `None`, propagate 2 upward as the LCA.\n",
    "\n",
    "**Output**:\n",
    "- The LCA is node 2.\n",
    "\n",
    "#### 6. Wrap-Up\n",
    "- Restate the approach:\n",
    "  - By traversing the tree recursively and combining results from subtrees, we efficiently find the lowest common ancestor.\n",
    "- Complexity Recap:\n",
    "  - Time complexity is O(n), and space complexity is O(h).\n",
    "- Ask for feedback or edge cases:\n",
    "  - Does this implementation handle the requirements, or are there additional scenarios to consider?\n",
    "\n"
   ]
  },
  {
   "cell_type": "code",
   "execution_count": 30,
   "id": "2ceed341",
   "metadata": {},
   "outputs": [],
   "source": [
    "def lowestCommonAncestor(root, p, q):\n",
    "    if not root:\n",
    "        return None\n",
    "    \n",
    "    left_res = lowestCommonAncestor(root.left, p, q)\n",
    "    right_res = lowestCommonAncestor(root.right, p, q)\n",
    "    \n",
    "    if (left_res and right_res) or (root in [p, q]):\n",
    "        return root\n",
    "    else:\n",
    "        return left_res or right_res"
   ]
  },
  {
   "cell_type": "code",
   "execution_count": 31,
   "id": "67b6b53e",
   "metadata": {},
   "outputs": [
    {
     "data": {
      "text/plain": [
       "9"
      ]
     },
     "execution_count": 31,
     "metadata": {},
     "output_type": "execute_result"
    }
   ],
   "source": [
    "#       9\n",
    "#    4     20\n",
    "#  1  6  15   170\n",
    "\n",
    "p = root.left.right  # Node with value 6\n",
    "q = root.right.left  # Node with value 15\n",
    "\n",
    "lowestCommonAncestor(root, p, q)"
   ]
  },
  {
   "cell_type": "markdown",
   "id": "2f36edbe",
   "metadata": {},
   "source": [
    "## 9. Basic Calculator"
   ]
  },
  {
   "cell_type": "code",
   "execution_count": 32,
   "id": "6e0bb578",
   "metadata": {},
   "outputs": [],
   "source": [
    "# Time --> O(n)\n",
    "# Space --> O(1)\n",
    "# Note --> Sign is changing in one lag, hence the correct calculation gets done. So when we encounter *, \n",
    "# the sign is still +\n",
    "def calculator(s):\n",
    "    if len(s) == 0:\n",
    "        return 0\n",
    "    \n",
    "    current_number = 0\n",
    "    last_number = 0\n",
    "    result = 0\n",
    "    sign = '+'\n",
    "    \n",
    "    for i in range(len(s)):\n",
    "        current_char = s[i]\n",
    "        \n",
    "        if current_char.isdigit():\n",
    "            current_number = current_number * 10 + int(current_char)\n",
    "            \n",
    "        if (not current_char.isdigit() and not current_char.isspace()) or i == len(s) - 1:\n",
    "            if sign == '+' or sign == '-':\n",
    "                result += last_number\n",
    "                last_number = current_number if sign == '+' else -current_number\n",
    "            elif sign == '*':\n",
    "                last_number *= current_number\n",
    "            elif sign == '/':\n",
    "                last_number = int(last_number/current_number)\n",
    "            \n",
    "            sign = current_char\n",
    "            current_number = 0\n",
    "    result += last_number\n",
    "    return result"
   ]
  },
  {
   "cell_type": "code",
   "execution_count": 33,
   "id": "e0c81693",
   "metadata": {},
   "outputs": [
    {
     "data": {
      "text/plain": [
       "7"
      ]
     },
     "execution_count": 33,
     "metadata": {},
     "output_type": "execute_result"
    }
   ],
   "source": [
    "s = \"3+2*2\"\n",
    "calculator(s)"
   ]
  },
  {
   "cell_type": "markdown",
   "id": "a99516fd",
   "metadata": {},
   "source": [
    "## 10. Simplify path"
   ]
  },
  {
   "cell_type": "code",
   "execution_count": 34,
   "id": "269532f5",
   "metadata": {},
   "outputs": [],
   "source": [
    "# time --> O(n)\n",
    "# space --> O(n)\n",
    "def simplifyPath(path):\n",
    "    stack = []\n",
    "    \n",
    "    for portion in path.split(\"/\"):\n",
    "        if portion == \"..\":\n",
    "            if stack:\n",
    "                stack.pop()\n",
    "        elif portion == \".\" or not portion:\n",
    "            continue\n",
    "        else:\n",
    "            stack.append(portion)\n",
    "    print(stack)\n",
    "    final_str = \"/\" + \"/\".join(stack)\n",
    "    return final_str"
   ]
  },
  {
   "cell_type": "code",
   "execution_count": 35,
   "id": "3146adaf",
   "metadata": {},
   "outputs": [
    {
     "name": "stdout",
     "output_type": "stream",
     "text": [
      "['home', 'foo']\n"
     ]
    },
    {
     "data": {
      "text/plain": [
       "'/home/foo'"
      ]
     },
     "execution_count": 35,
     "metadata": {},
     "output_type": "execute_result"
    }
   ],
   "source": [
    "path = \"/home//foo/\"\n",
    "\n",
    "simplifyPath(path)"
   ]
  },
  {
   "cell_type": "code",
   "execution_count": 36,
   "id": "cc612bb2",
   "metadata": {},
   "outputs": [
    {
     "data": {
      "text/plain": [
       "['', 'home', '', 'foo', '']"
      ]
     },
     "execution_count": 36,
     "metadata": {},
     "output_type": "execute_result"
    }
   ],
   "source": [
    "path.split(\"/\")"
   ]
  },
  {
   "cell_type": "code",
   "execution_count": 37,
   "id": "8b5c4867",
   "metadata": {},
   "outputs": [
    {
     "name": "stdout",
     "output_type": "stream",
     "text": [
      "['home', 'user', 'Pictures']\n"
     ]
    },
    {
     "data": {
      "text/plain": [
       "'/home/user/Pictures'"
      ]
     },
     "execution_count": 37,
     "metadata": {},
     "output_type": "execute_result"
    }
   ],
   "source": [
    "path = \"/home/user/Documents/../Pictures\"\n",
    "\n",
    "simplifyPath(path)"
   ]
  },
  {
   "cell_type": "code",
   "execution_count": 38,
   "id": "cb06d7fb",
   "metadata": {},
   "outputs": [
    {
     "data": {
      "text/plain": [
       "['', 'home', 'user', 'Documents', '..', 'Pictures']"
      ]
     },
     "execution_count": 38,
     "metadata": {},
     "output_type": "execute_result"
    }
   ],
   "source": [
    "path.split(\"/\")"
   ]
  },
  {
   "cell_type": "markdown",
   "id": "caf25551",
   "metadata": {},
   "source": [
    "## 11. Shortest path binary matrix"
   ]
  },
  {
   "cell_type": "code",
   "execution_count": 39,
   "id": "7bd76cc5",
   "metadata": {},
   "outputs": [],
   "source": [
    "from collections import deque\n",
    "\n",
    "directions = [[-1, 0], [-1, 1], [0, 1], [1, 1], [1, 0], [1, -1], [0, -1], [-1, -1]]\n",
    "\n",
    "# time --> O(N)\n",
    "# space --> O(N) where N is the number of cells in the grid.\n",
    "def shortestPathBinaryMatrix(grid):\n",
    "    if len(grid) == 0 or grid[0][0] != 0 or grid[-1][-1] != 0:\n",
    "        return -1\n",
    "    \n",
    "    \n",
    "    \n",
    "    queue = [[0, 0, 1]]\n",
    "    grid[0][0] = 1\n",
    "    \n",
    "    while queue:\n",
    "        curr_row, curr_col, path_length = queue.pop(0)\n",
    "        if curr_row == len(grid) - 1 and curr_col == len(grid[0]) - 1:\n",
    "            return path_length\n",
    "        \n",
    "        for i in range(len(directions)):\n",
    "            direction = directions[i]\n",
    "            next_row = curr_row + direction[0]\n",
    "            next_col = curr_col + direction[1]\n",
    "            \n",
    "            if next_row < 0 or next_col < 0 or next_row >= len(grid) or next_col >= len(grid[0]):\n",
    "                continue\n",
    "            \n",
    "            if grid[next_row][next_col] == 0:\n",
    "                queue.append([next_row, next_col, path_length + 1])\n",
    "                grid[next_row][next_col] = 1\n",
    "    return -1"
   ]
  },
  {
   "cell_type": "code",
   "execution_count": 40,
   "id": "2443cf28",
   "metadata": {},
   "outputs": [
    {
     "data": {
      "text/plain": [
       "4"
      ]
     },
     "execution_count": 40,
     "metadata": {},
     "output_type": "execute_result"
    }
   ],
   "source": [
    "grid = [[0,0,0],[1,1,0],[1,1,0]]\n",
    "\n",
    "shortestPathBinaryMatrix(grid)"
   ]
  },
  {
   "cell_type": "code",
   "execution_count": 41,
   "id": "443f2d8a",
   "metadata": {},
   "outputs": [
    {
     "data": {
      "text/plain": [
       "2"
      ]
     },
     "execution_count": 41,
     "metadata": {},
     "output_type": "execute_result"
    }
   ],
   "source": [
    "grid = [[0,1],[1,0]]\n",
    "shortestPathBinaryMatrix(grid)"
   ]
  },
  {
   "cell_type": "code",
   "execution_count": 42,
   "id": "38d21104",
   "metadata": {},
   "outputs": [
    {
     "data": {
      "text/plain": [
       "-1"
      ]
     },
     "execution_count": 42,
     "metadata": {},
     "output_type": "execute_result"
    }
   ],
   "source": [
    "grid = [[1,1],[1,0]]\n",
    "shortestPathBinaryMatrix(grid)"
   ]
  },
  {
   "cell_type": "markdown",
   "id": "910558b4",
   "metadata": {},
   "source": [
    "## 12. Nested List Weighted Sum"
   ]
  },
  {
   "cell_type": "code",
   "execution_count": 43,
   "id": "6728a34e",
   "metadata": {},
   "outputs": [],
   "source": [
    "# t --> O(n)\n",
    "# s --> O(n)\n",
    "def depthSum(nestedList):\n",
    "    queue = nestedList\n",
    "    \n",
    "    depth = 1\n",
    "    total = 0\n",
    "    \n",
    "    while queue:\n",
    "        for i in range(len(queue)):\n",
    "            nested = queue.pop(0)\n",
    "            if nested.isInteger():\n",
    "                total += nested.getInteger() * depth\n",
    "            else:\n",
    "                queue.extend(nested.getList())\n",
    "        depth += 1\n",
    "    return total"
   ]
  },
  {
   "cell_type": "markdown",
   "id": "cb7b333c",
   "metadata": {},
   "source": [
    "## 14. Dot product of sparse vectors"
   ]
  },
  {
   "cell_type": "code",
   "execution_count": 44,
   "id": "1c03053e",
   "metadata": {},
   "outputs": [],
   "source": [
    "# List method\n",
    "# Time --> O(n) for both\n",
    "# space --> O(1) for both\n",
    "class SparseVector:\n",
    "    def __init__(self, nums):\n",
    "        self.array = nums\n",
    "    \n",
    "    def dotProduct(self, vec):\n",
    "        result = 0\n",
    "        \n",
    "        for num1, num2 in zip(self.array, vec.array):\n",
    "            result += num1 * num2\n",
    "        return result"
   ]
  },
  {
   "cell_type": "code",
   "execution_count": 45,
   "id": "f9ddcc4b",
   "metadata": {},
   "outputs": [
    {
     "data": {
      "text/plain": [
       "8"
      ]
     },
     "execution_count": 45,
     "metadata": {},
     "output_type": "execute_result"
    }
   ],
   "source": [
    "nums1 = [1,0,0,2,3]\n",
    "nums2 = [0,3,0,4,0]\n",
    "\n",
    "v1 = SparseVector(nums1)\n",
    "v2 = SparseVector(nums2)\n",
    "v1.dotProduct(v2)"
   ]
  },
  {
   "cell_type": "code",
   "execution_count": 46,
   "id": "17eec6ac",
   "metadata": {},
   "outputs": [],
   "source": [
    "# Hash method\n",
    "# Time --> O(n) for creating hashmap and O(L) for the dot product\n",
    "# Space --> O(L) for hashmap, O(1) for dot product (n: len of array, L: no of non zero elements)\n",
    "# IMPORTANT - META does not accept it\n",
    "# Hashing/lookups, while on surface look efficient, for large sparse vectors, \n",
    "# hashing function takes up bulk of the computation\n",
    "class SparseVector:\n",
    "    def __init__(self, nums):\n",
    "        self.nonzeros = {}\n",
    "        for idx, num in enumerate(nums):\n",
    "            if num != 0:\n",
    "                self.nonzeros[idx] = num\n",
    "    \n",
    "    def dotProduct(self, vec):\n",
    "        result = 0\n",
    "        for idx, num in self.nonzeros.items():\n",
    "            if idx in vec.nonzeros:\n",
    "                result += num * vec.nonzeros[idx]\n",
    "        return result"
   ]
  },
  {
   "cell_type": "code",
   "execution_count": 47,
   "id": "bbbce94b",
   "metadata": {},
   "outputs": [
    {
     "data": {
      "text/plain": [
       "8"
      ]
     },
     "execution_count": 47,
     "metadata": {},
     "output_type": "execute_result"
    }
   ],
   "source": [
    "nums1 = [1,0,0,2,3]\n",
    "nums2 = [0,3,0,4,0]\n",
    "\n",
    "v1 = SparseVector(nums1)\n",
    "v2 = SparseVector(nums2)\n",
    "v1.dotProduct(v2)"
   ]
  },
  {
   "cell_type": "code",
   "execution_count": 48,
   "id": "a6abb9ad",
   "metadata": {},
   "outputs": [],
   "source": [
    "# Two pointer method\n",
    "\n",
    "class SparseVector:\n",
    "    def __init__(self, nums):\n",
    "        self.pairs = []\n",
    "        \n",
    "        for idx, num in enumerate(nums):\n",
    "            if num != 0:\n",
    "                self.pairs.append([idx, num])\n",
    "    \n",
    "    def dotProduct(self, vec):\n",
    "        result = 0\n",
    "        first = 0\n",
    "        second = 0\n",
    "        \n",
    "        while first < len(self.pairs) and second < len(vec.pairs):\n",
    "            if self.pairs[first][0] == vec.pairs[second][0]:\n",
    "                result += self.pairs[first][1] * vec.pairs[second][1]\n",
    "                first += 1\n",
    "                second += 1\n",
    "            elif self.pairs[first][0] < vec.pairs[second][0]:\n",
    "                first += 1\n",
    "            else:\n",
    "                second += 1\n",
    "        return result"
   ]
  },
  {
   "cell_type": "code",
   "execution_count": 49,
   "id": "3e8793c5",
   "metadata": {},
   "outputs": [
    {
     "data": {
      "text/plain": [
       "8"
      ]
     },
     "execution_count": 49,
     "metadata": {},
     "output_type": "execute_result"
    }
   ],
   "source": [
    "nums1 = [1,0,0,2,3]\n",
    "nums2 = [0,3,0,4,0]\n",
    "\n",
    "v1 = SparseVector(nums1)\n",
    "v2 = SparseVector(nums2)\n",
    "v1.dotProduct(v2)"
   ]
  },
  {
   "cell_type": "markdown",
   "id": "187fb450",
   "metadata": {},
   "source": [
    "## 15. Minimum add to make parenthesis valid"
   ]
  },
  {
   "cell_type": "code",
   "execution_count": 50,
   "id": "3524a8df",
   "metadata": {},
   "outputs": [],
   "source": [
    "# time --> O(n)\n",
    "# space --> O(1)\n",
    "\n",
    "def minAddToMakeValid(s):\n",
    "    open_brackets = 0\n",
    "    min_adds_required = 0\n",
    "    \n",
    "    for c in s:\n",
    "        if c == '(':\n",
    "            open_brackets += 1\n",
    "        else:\n",
    "            if open_brackets > 0:\n",
    "                open_brackets -= 1\n",
    "            else:\n",
    "                min_adds_required += 1\n",
    "    return min_adds_required + open_brackets"
   ]
  },
  {
   "cell_type": "code",
   "execution_count": 51,
   "id": "ccdd69fd",
   "metadata": {},
   "outputs": [
    {
     "data": {
      "text/plain": [
       "3"
      ]
     },
     "execution_count": 51,
     "metadata": {},
     "output_type": "execute_result"
    }
   ],
   "source": [
    "s = \"(((\"\n",
    "minAddToMakeValid(s)"
   ]
  },
  {
   "cell_type": "code",
   "execution_count": 52,
   "id": "48b3cbc9",
   "metadata": {},
   "outputs": [
    {
     "data": {
      "text/plain": [
       "1"
      ]
     },
     "execution_count": 52,
     "metadata": {},
     "output_type": "execute_result"
    }
   ],
   "source": [
    "s = \"())\"\n",
    "minAddToMakeValid(s)"
   ]
  },
  {
   "cell_type": "code",
   "execution_count": 53,
   "id": "e4e50681",
   "metadata": {},
   "outputs": [
    {
     "data": {
      "text/plain": [
       "0"
      ]
     },
     "execution_count": 53,
     "metadata": {},
     "output_type": "execute_result"
    }
   ],
   "source": [
    "s = \"()\"\n",
    "minAddToMakeValid(s)"
   ]
  },
  {
   "cell_type": "markdown",
   "id": "c5b5357b",
   "metadata": {},
   "source": [
    "## 16. Pow (x, n)"
   ]
  },
  {
   "cell_type": "code",
   "execution_count": 54,
   "id": "9e01f976",
   "metadata": {},
   "outputs": [],
   "source": [
    "# Time --> O(logN) (at each recursive call, we reduce n by half)\n",
    "# space --> O(logN)\n",
    "\n",
    "def myPow(x, n):\n",
    "    if n == 0:\n",
    "        return 1\n",
    "    \n",
    "    if n < 0:\n",
    "        return 1/myPow(x, -n)\n",
    "    \n",
    "    half = myPow(x, n // 2)\n",
    "    \n",
    "    if n % 2 == 0:\n",
    "        return half * half\n",
    "    else:\n",
    "        return half * half * x"
   ]
  },
  {
   "cell_type": "code",
   "execution_count": 55,
   "id": "3daad0eb",
   "metadata": {},
   "outputs": [
    {
     "data": {
      "text/plain": [
       "1024.0"
      ]
     },
     "execution_count": 55,
     "metadata": {},
     "output_type": "execute_result"
    }
   ],
   "source": [
    "x = 2.0000\n",
    "n = 10\n",
    "myPow(x, n)"
   ]
  },
  {
   "cell_type": "code",
   "execution_count": 56,
   "id": "5a56bdad",
   "metadata": {},
   "outputs": [
    {
     "data": {
      "text/plain": [
       "0.25"
      ]
     },
     "execution_count": 56,
     "metadata": {},
     "output_type": "execute_result"
    }
   ],
   "source": [
    "x = 2.00000\n",
    "n = -2\n",
    "\n",
    "myPow(x, n)"
   ]
  },
  {
   "cell_type": "markdown",
   "id": "56bb8309",
   "metadata": {},
   "source": [
    "## 17. Valid Palindrome"
   ]
  },
  {
   "cell_type": "code",
   "execution_count": 57,
   "id": "676caeb1",
   "metadata": {},
   "outputs": [],
   "source": [
    "def isPalindrome(s):\n",
    "    if len(s) <= 1:\n",
    "        return True\n",
    "    \n",
    "    left = 0\n",
    "    right = len(s) - 1\n",
    "    \n",
    "    while left < right:\n",
    "        while left < right and not s[left].isalnum():\n",
    "            left += 1\n",
    "        while left < right and not s[right].isalnum():\n",
    "            right -= 1\n",
    "        \n",
    "        if s[left].lower() != s[right].lower():\n",
    "            return False\n",
    "        \n",
    "        left += 1\n",
    "        right -= 1\n",
    "        \n",
    "    return True"
   ]
  },
  {
   "cell_type": "code",
   "execution_count": 58,
   "id": "6655c948",
   "metadata": {},
   "outputs": [
    {
     "data": {
      "text/plain": [
       "True"
      ]
     },
     "execution_count": 58,
     "metadata": {},
     "output_type": "execute_result"
    }
   ],
   "source": [
    "s = \"A man, a plan, a canal: Panama\"\n",
    "isPalindrome(s)"
   ]
  },
  {
   "cell_type": "code",
   "execution_count": 59,
   "id": "dd15a2d6",
   "metadata": {},
   "outputs": [
    {
     "data": {
      "text/plain": [
       "[(1, 4), (2, 3), (3, 5), (4, 1)]"
      ]
     },
     "execution_count": 59,
     "metadata": {},
     "output_type": "execute_result"
    }
   ],
   "source": [
    "x = {1:4, 2:3, 3:5, 4:1}\n",
    "\n",
    "sorted(x.items())"
   ]
  },
  {
   "cell_type": "markdown",
   "id": "09fe0391",
   "metadata": {},
   "source": [
    "## 18. Top K frequent elements"
   ]
  },
  {
   "cell_type": "code",
   "execution_count": 60,
   "id": "a14f4974",
   "metadata": {},
   "outputs": [],
   "source": [
    "# brute force with heap\n",
    "# time --> O(Nlogk)\n",
    "# space --> O(N + k) (N for hashmap, k for heap)\n",
    "from collections import Counter\n",
    "import heapq\n",
    "\n",
    "def topKFrequent(nums, k):\n",
    "    if k == len(nums):\n",
    "        return nums\n",
    "    \n",
    "    counter = Counter(nums)\n",
    "    \n",
    "    return heapq.nlargest(k, counter.keys(), key=counter.get)"
   ]
  },
  {
   "cell_type": "code",
   "execution_count": 61,
   "id": "2cd0639a",
   "metadata": {},
   "outputs": [
    {
     "data": {
      "text/plain": [
       "[1, 2]"
      ]
     },
     "execution_count": 61,
     "metadata": {},
     "output_type": "execute_result"
    }
   ],
   "source": [
    "nums = [1,1,1,2,2,3]\n",
    "k = 2    \n",
    "\n",
    "topKFrequent(nums, k)"
   ]
  },
  {
   "cell_type": "code",
   "execution_count": 2,
   "id": "2a10a544",
   "metadata": {},
   "outputs": [
    {
     "name": "stdout",
     "output_type": "stream",
     "text": [
      "[2, 1]\n"
     ]
    }
   ],
   "source": [
    "from collections import Counter\n",
    "# time --> O(n)\n",
    "# space --> O(n)\n",
    "def topKFrequent(nums, k):\n",
    "    # Step 1: Build the frequency map\n",
    "    freq_map = Counter(nums)  # O(n)\n",
    "    \n",
    "    # Step 2: Convert the frequency map into a list of (element, frequency) tuples\n",
    "    freq_list = list(freq_map.items())  # [(num, freq), ...]\n",
    "\n",
    "    # Step 3: Define QuickSelect\n",
    "    def quickSelect(left, right, k_smallest):\n",
    "        if left == right:\n",
    "            return\n",
    "        \n",
    "        # Partition the array\n",
    "        partitionIndex = partition(left, right)\n",
    "        \n",
    "        # Check if the pivot is at the correct position\n",
    "        if partitionIndex == k_smallest:\n",
    "            return\n",
    "        elif partitionIndex < k_smallest:\n",
    "            quickSelect(partitionIndex + 1, right, k_smallest)\n",
    "        else:\n",
    "            quickSelect(left, partitionIndex - 1, k_smallest)\n",
    "    \n",
    "    def partition(left, right):\n",
    "        pivot_frequency = freq_list[right][1]\n",
    "        partition_index = left\n",
    "        for j in range(left, right):\n",
    "            if freq_list[j][1] < pivot_frequency:  # Ascending order for frequencies\n",
    "                freq_list[j], freq_list[partition_index] = freq_list[partition_index], freq_list[j]\n",
    "                partition_index += 1\n",
    "        freq_list[right], freq_list[partition_index] = freq_list[partition_index], freq_list[right]\n",
    "        return partition_index\n",
    "    \n",
    "    # Step 4: Perform QuickSelect to partition the array\n",
    "    n = len(freq_list)\n",
    "    quickSelect(0, n - 1, n - k)\n",
    "    \n",
    "    # Step 5: Return the top k elements\n",
    "    return [freq_list[i][0] for i in range(n - k, n)]\n",
    "\n",
    "# Example usage\n",
    "nums = [1, 1, 1, 2, 2, 3]\n",
    "k = 2\n",
    "print(topKFrequent(nums, k))  # Output: [1, 2]\n"
   ]
  },
  {
   "cell_type": "markdown",
   "id": "6835fd7b",
   "metadata": {},
   "source": [
    "## 19. Diameter of binary tree"
   ]
  },
  {
   "cell_type": "code",
   "execution_count": 9,
   "id": "9297d7e1",
   "metadata": {},
   "outputs": [],
   "source": [
    "#       9\n",
    "#    4     20\n",
    "#  1  6  15   170\n",
    "\n",
    "# time --> O(n)\n",
    "# space --> O(n)\n",
    "def diameterOfBinaryTree(root):\n",
    "    \n",
    "    diameter = 0\n",
    "    \n",
    "    def longest_path(node):\n",
    "        if not node:\n",
    "            return 0\n",
    "        nonlocal diameter\n",
    "        left_path = longest_path(node.left)\n",
    "        right_path = longest_path(node.right)\n",
    "        diameter = max(diameter, left_path + right_path)\n",
    "        return max(left_path, right_path) + 1\n",
    "    \n",
    "    longest_path(root)\n",
    "    return diameter"
   ]
  },
  {
   "cell_type": "code",
   "execution_count": 10,
   "id": "4dcf1c24",
   "metadata": {},
   "outputs": [
    {
     "data": {
      "text/plain": [
       "4"
      ]
     },
     "execution_count": 10,
     "metadata": {},
     "output_type": "execute_result"
    }
   ],
   "source": [
    "diameterOfBinaryTree(root)"
   ]
  },
  {
   "cell_type": "markdown",
   "id": "71f40c6f",
   "metadata": {},
   "source": [
    "## 20. Lowest Common Ancestor of a binary tree - III\n",
    "\n",
    "### Step-by-Step Approach for Finding the Lowest Common Ancestor (LCA) in a Binary Tree with Parent Pointers\n",
    "\n",
    "#### 1. Clarify the Problem\n",
    "- The goal is to find the **lowest common ancestor (LCA)** of two nodes \\(p\\) and \\(q\\) in a binary tree.\n",
    "- The tree nodes have a pointer to their parent, so we can traverse upward from each node.\n",
    "- Clarify edge cases:\n",
    "  - Can \\(p\\) and \\(q\\) be the same node?\n",
    "  - Is it guaranteed that both \\(p\\) and \\(q\\) exist in the tree?\n",
    "  - What should the function return if either \\(p\\) or \\(q\\) is `None`?\n",
    "\n",
    "---\n",
    "\n",
    "#### 2. Plan the Approach\n",
    "We use a two-pointer technique to find the LCA efficiently:\n",
    "\n",
    "1. **Key Idea**:\n",
    "   - Start with two pointers, `p1` and `p2`, at nodes \\(p\\) and \\(q\\), respectively.\n",
    "   - Move each pointer upward to its parent until the pointers meet. The node where they meet is the LCA.\n",
    "\n",
    "2. **Handle Different Heights**:\n",
    "   - If the tree is unbalanced and the paths to \\(p\\) and \\(q\\) differ in length, this approach ensures both pointers traverse the same number of steps:\n",
    "     - When a pointer reaches the root, it is redirected to the other node (\\(q\\) or \\(p\\)).\n",
    "\n",
    "3. **Why This Works**:\n",
    "   - By switching paths, the two pointers eventually align on the same node, which is the LCA.\n",
    "   - If \\(p\\) and \\(q\\) are on the same path, the first common node is the LCA.\n",
    "\n",
    "---\n",
    "\n",
    "#### 3. Complexity Analysis\n",
    "- **Time Complexity**:\n",
    "  - \\(O(h)\\), where \\(h\\) is the height of the tree, because each pointer traverses at most \\(2h\\) steps (one traversal to the root and one traversal back down).\n",
    "- **Space Complexity**:\n",
    "  - \\(O(1)\\), as no additional data structures are used.\n",
    "\n",
    "---\n",
    "\n",
    "#### 4. Example Walkthrough\n",
    "**Example 1**:\n",
    "- Input: \n",
    "  - \\(p = 5\\), \\(q = 1\\)\n",
    "  - Tree:\n",
    "    ```\n",
    "           3\n",
    "          / \\\n",
    "         5   1\n",
    "        / \\\n",
    "       6   2\n",
    "    ```\n",
    "- Steps:\n",
    "  1. Start with `p1 = 5` and `p2 = 1`.\n",
    "  2. Move `p1` and `p2` upward:\n",
    "     - `p1` → `3` (parent of \\(5\\)).\n",
    "     - `p2` → `3` (parent of \\(1\\)).\n",
    "  3. `p1` and `p2` meet at `3`.\n",
    "- **Output**: `3`\n",
    "\n",
    "---\n",
    "\n",
    "**Example 2**:\n",
    "- Input: \n",
    "  - \\(p = 6\\), \\(q = 2\\)\n",
    "  - Tree:\n",
    "    ```\n",
    "           3\n",
    "          / \\\n",
    "         5   1\n",
    "        / \\\n",
    "       6   2\n",
    "    ```\n",
    "- Steps:\n",
    "  1. Start with `p1 = 6` and `p2 = 2`.\n",
    "  2. Move `p1` and `p2` upward:\n",
    "     - `p1` → `5` (parent of \\(6\\)).\n",
    "     - `p2` → `5` (parent of \\(2\\)).\n",
    "  3. `p1` and `p2` meet at `5`.\n",
    "- **Output**: `5`\n",
    "\n",
    "---\n",
    "\n",
    "#### 5. Edge Cases\n",
    "1. **Nodes Are the Same**:\n",
    "   - Input: \\(p = q = 5\\).\n",
    "   - Output: \\(5\\) (A node is its own ancestor).\n",
    "\n",
    "2. **Root as LCA**:\n",
    "   - Input: \\(p = 6\\), \\(q = 1\\).\n",
    "   - Output: \\(3\\) (The root is the LCA for nodes on different subtrees).\n",
    "\n",
    "3. **One Node is the Ancestor of the Other**:\n",
    "   - Input: \\(p = 5\\), \\(q = 6\\).\n",
    "   - Output: \\(5\\) (A node is the LCA of itself and its descendant).\n",
    "\n",
    "---\n",
    "\n",
    "#### 6. Wrap-Up\n",
    "- Restate the approach:\n",
    "  - Use two pointers that traverse upward to the root, switching paths when reaching the end of their respective paths.\n",
    "- Complexity Recap:\n",
    "  - Time complexity is \\(O(h)\\), and space complexity is \\(O(1)\\).\n",
    "- Ask for feedback or additional edge cases:\n",
    "  - \"Does this implementation handle all edge cases? Are there additional scenarios to consider?\"\n"
   ]
  },
  {
   "cell_type": "code",
   "execution_count": 65,
   "id": "6fb9444d",
   "metadata": {},
   "outputs": [],
   "source": [
    "# time --> O(h)\n",
    "# space --> O(1)\n",
    "def lowestCommonAncestor(p, q):\n",
    "    p1 = p\n",
    "    p2 = q\n",
    "    \n",
    "    while p1 != p2:\n",
    "        p1 = p1.parent if p1.parent else q\n",
    "        p2 = p2.parent if p2.parent else p\n",
    "    return p1 # can return p2 too"
   ]
  },
  {
   "cell_type": "markdown",
   "id": "5f1554c4",
   "metadata": {},
   "source": [
    "## 21. Building with an ocean view\n",
    "\n",
    "There are n buildings in a line. You are given an integer array heights of size n that represents the heights of the buildings in the line.\n",
    "\n",
    "The ocean is to the right of the buildings. A building has an ocean view if the building can see the ocean without obstructions. Formally, a building has an ocean view if all the buildings to its right have a smaller height.\n",
    "\n",
    "Return a list of indices (0-indexed) of buildings that have an ocean view, sorted in increasing order."
   ]
  },
  {
   "cell_type": "code",
   "execution_count": 66,
   "id": "8f3a2e41",
   "metadata": {},
   "outputs": [],
   "source": [
    "## Brute force\n",
    "# Take every building and compare every building on its right. O(n^2)\n",
    "\n",
    "## Linear Iteration\n",
    "# time --> O(n)\n",
    "# space --> O(n)\n",
    "def findBuildings(heights):\n",
    "    answer = []\n",
    "    \n",
    "    for i in range(len(heights)):\n",
    "        print(f\"i:{i}\")\n",
    "        print(f\"Before: {answer}\")\n",
    "        # If the current building is taller, \n",
    "        # it will block the shorter building's ocean view to its left.\n",
    "        # So we pop all the shorter buildings that have been added before.\n",
    "        while answer and heights[answer[-1]] <= heights[i]:\n",
    "            answer.pop()\n",
    "        answer.append(i)\n",
    "        print(f\"After: {answer}\")\n",
    "    return answer"
   ]
  },
  {
   "cell_type": "code",
   "execution_count": 67,
   "id": "31ad5203",
   "metadata": {},
   "outputs": [
    {
     "name": "stdout",
     "output_type": "stream",
     "text": [
      "i:0\n",
      "Before: []\n",
      "After: [0]\n",
      "i:1\n",
      "Before: [0]\n",
      "After: [0, 1]\n",
      "i:2\n",
      "Before: [0, 1]\n",
      "After: [0, 2]\n",
      "i:3\n",
      "Before: [0, 2]\n",
      "After: [0, 2, 3]\n"
     ]
    },
    {
     "data": {
      "text/plain": [
       "[0, 2, 3]"
      ]
     },
     "execution_count": 67,
     "metadata": {},
     "output_type": "execute_result"
    }
   ],
   "source": [
    "heights = [4,2,3,1]\n",
    "findBuildings(heights)"
   ]
  },
  {
   "cell_type": "code",
   "execution_count": 68,
   "id": "cd399c60",
   "metadata": {},
   "outputs": [],
   "source": [
    "## Answer with space optimization\n",
    "# time --> O(n)\n",
    "# space --> O(1)\n",
    "def findBuildings(heights):\n",
    "    answer = []\n",
    "    max_height = -1\n",
    "    \n",
    "    for current in reversed(range(len(heights))):\n",
    "        if max_height < heights[current]:\n",
    "            answer.append(current)\n",
    "            max_height = heights[current]\n",
    "    answer.reverse()\n",
    "    return answer"
   ]
  },
  {
   "cell_type": "code",
   "execution_count": 69,
   "id": "8b11a833",
   "metadata": {},
   "outputs": [
    {
     "data": {
      "text/plain": [
       "[0, 2, 3]"
      ]
     },
     "execution_count": 69,
     "metadata": {},
     "output_type": "execute_result"
    }
   ],
   "source": [
    "heights = [4,2,3,1]\n",
    "findBuildings(heights)"
   ]
  },
  {
   "cell_type": "markdown",
   "id": "31f56ada",
   "metadata": {},
   "source": [
    "## 22. LRU Cache\n",
    "\n",
    "Design a data structure that follows the constraints of a Least Recently Used (LRU) cache.\n",
    "\n",
    "Implement the LRUCache class:\n",
    "\n",
    "* LRUCache(int capacity) Initialize the LRU cache with positive size capacity.\n",
    "* int get(int key) Return the value of the key if the key exists, otherwise return -1.\n",
    "* void put(int key, int value) Update the value of the key if the key exists. Otherwise, add the key-value pair to the cache. If the number of keys exceeds the capacity from this operation, evict the least recently used key.\n",
    "\n",
    "The functions get and put must each run in O(1) average time complexity.\n",
    "\n",
    "### Note\n",
    "\n",
    "Python 3.7+ dictionary is ordered dictionary already, but without move to end or other extra methods.\n",
    "\n",
    "Keys are in the order in which they are added.\n",
    "So least recently used element should be forced to be added \"now\" so its at the bottom.\n",
    "i.e delete and then add if already exists or just add. Latest at bottom\n",
    "\n",
    "To pop the oldest, i.e at the top, just use the first key. Do not use list(dict.keys())[0] as it becomes O(n), instead use next(iter(dict)) so you only get the first key!"
   ]
  },
  {
   "cell_type": "code",
   "execution_count": 70,
   "id": "cae4eeb6",
   "metadata": {},
   "outputs": [],
   "source": [
    "class LRUCache:\n",
    "    def __init__(self, capacity):\n",
    "        self.odict = {}\n",
    "        self.capacity = capacity\n",
    "        \n",
    "    def get(self, key):\n",
    "        if key not in self.odict:\n",
    "            return - 1\n",
    "        \n",
    "        self.odict[key] = self.odict.pop(key)\n",
    "        return self.odict[key]\n",
    "    \n",
    "    def put(self, key, value):\n",
    "        self.odict.pop(key, None)\n",
    "        self.odict[key] = value\n",
    "        \n",
    "        if len(self.odict) > self.capacity:\n",
    "            self.odict.pop(next(iter(self.odict)))"
   ]
  },
  {
   "cell_type": "code",
   "execution_count": 71,
   "id": "fcbcb1c2",
   "metadata": {},
   "outputs": [
    {
     "name": "stdout",
     "output_type": "stream",
     "text": [
      "1\n",
      "-1\n",
      "-1\n",
      "3\n",
      "4\n"
     ]
    }
   ],
   "source": [
    "# Your LRUCache object will be instantiated and called as such:\n",
    "capacity = 2\n",
    "lRUCache = LRUCache(capacity)\n",
    "lRUCache.put(1, 1)\n",
    "lRUCache.put(2, 2)\n",
    "print(lRUCache.get(1))\n",
    "\n",
    "lRUCache.put(3, 3)\n",
    "print(lRUCache.get(2))\n",
    "\n",
    "lRUCache.put(4, 4)\n",
    "print(lRUCache.get(1))\n",
    "\n",
    "print(lRUCache.get(3))\n",
    "print(lRUCache.get(4))"
   ]
  },
  {
   "cell_type": "markdown",
   "id": "29e6b3d1",
   "metadata": {},
   "source": [
    "## 23. Find Peak Element"
   ]
  },
  {
   "cell_type": "code",
   "execution_count": 13,
   "id": "33b601cb",
   "metadata": {},
   "outputs": [],
   "source": [
    "def findPeakElement(nums):\n",
    "    left = 0\n",
    "    right = len(nums) - 1\n",
    "    \n",
    "    while left < right:\n",
    "        mid = (left + right) // 2\n",
    "        \n",
    "        if nums[mid] > nums[mid + 1]:\n",
    "            right = mid\n",
    "        else:\n",
    "            left = mid + 1\n",
    "    return left"
   ]
  },
  {
   "cell_type": "code",
   "execution_count": 14,
   "id": "8036fa21",
   "metadata": {},
   "outputs": [
    {
     "data": {
      "text/plain": [
       "5"
      ]
     },
     "execution_count": 14,
     "metadata": {},
     "output_type": "execute_result"
    }
   ],
   "source": [
    "nums = [1,2,1,3,5,6,4]\n",
    "findPeakElement(nums)"
   ]
  },
  {
   "cell_type": "code",
   "execution_count": 74,
   "id": "b7e891bf",
   "metadata": {},
   "outputs": [],
   "source": [
    "# left = 0, right = 6\n",
    "# left = 4, right = 6\n",
    "# left = 4, right = 4"
   ]
  },
  {
   "cell_type": "markdown",
   "id": "4f69b5ab",
   "metadata": {},
   "source": [
    "## 24. Range Sum of BST"
   ]
  },
  {
   "cell_type": "code",
   "execution_count": 75,
   "id": "cef23788",
   "metadata": {},
   "outputs": [],
   "source": [
    "def rangeSumBST(root, low, high):\n",
    "    if not root:\n",
    "        return 0\n",
    "    \n",
    "    result = 0\n",
    "    \n",
    "    queue = [root]\n",
    "    \n",
    "    while queue:\n",
    "        currNode = queue.pop(0)\n",
    "        if currNode:\n",
    "            if low <= currNode.val <= high:\n",
    "                result += currNode.val\n",
    "            if low < currNode.val:\n",
    "                queue.append(currNode.left)\n",
    "            if currNode.val < high:\n",
    "                queue.append(currNode.right)\n",
    "    return result\n",
    "                "
   ]
  },
  {
   "cell_type": "code",
   "execution_count": 76,
   "id": "62a3b08e",
   "metadata": {},
   "outputs": [
    {
     "data": {
      "text/plain": [
       "35"
      ]
     },
     "execution_count": 76,
     "metadata": {},
     "output_type": "execute_result"
    }
   ],
   "source": [
    "#       9\n",
    "#    4     20\n",
    "#  1  6  15   170\n",
    "\n",
    "rangeSumBST(root, 10, 30)"
   ]
  },
  {
   "cell_type": "markdown",
   "id": "d60cf1b0",
   "metadata": {},
   "source": [
    "## 25. Interval List Intersections"
   ]
  },
  {
   "cell_type": "code",
   "execution_count": 83,
   "id": "88257bd6",
   "metadata": {},
   "outputs": [],
   "source": [
    "# Time --> O(M + N)\n",
    "# Space --> O(M + N)\n",
    "def intervalIntersection(firstList, secondList):\n",
    "    answer = []\n",
    "    first = 0\n",
    "    second = 0\n",
    "    \n",
    "    while first < len(firstList) and second < len(secondList):\n",
    "        low = max(firstList[first][0], secondList[second][0])\n",
    "        hi = min(firstList[first][1], secondList[second][1])\n",
    "        \n",
    "        if low <= hi:\n",
    "            answer.append([low, hi])\n",
    "            \n",
    "        if firstList[first][1] < secondList[second][1]:\n",
    "            first += 1\n",
    "        else:\n",
    "            second += 1\n",
    "    return answer"
   ]
  },
  {
   "cell_type": "code",
   "execution_count": 84,
   "id": "74f18612",
   "metadata": {},
   "outputs": [
    {
     "data": {
      "text/plain": [
       "[[1, 2], [5, 5], [8, 10], [15, 23], [24, 24], [25, 25]]"
      ]
     },
     "execution_count": 84,
     "metadata": {},
     "output_type": "execute_result"
    }
   ],
   "source": [
    "firstList = [[0,2],[5,10],[13,23],[24,25]]\n",
    "secondList = [[1,5],[8,12],[15,24],[25,26]]\n",
    "\n",
    "intervalIntersection(firstList, secondList)"
   ]
  },
  {
   "cell_type": "markdown",
   "id": "92c29738",
   "metadata": {},
   "source": [
    "## 26. Find first and last position of element in a sorted array"
   ]
  },
  {
   "cell_type": "code",
   "execution_count": 85,
   "id": "dd58dac9",
   "metadata": {},
   "outputs": [],
   "source": [
    "# time --> O(logN)\n",
    "# space --> O(1) (because of tail recursion)\n",
    "def binarySearch(nums, left, right, target):\n",
    "    mid = (left + right) // 2\n",
    "    \n",
    "    if left <= right:\n",
    "        if nums[mid] == target:\n",
    "            return mid\n",
    "        elif nums[mid] < target:\n",
    "            left = mid + 1\n",
    "            return binarySearch(nums, left, right, target)\n",
    "        else:\n",
    "            right = mid - 1\n",
    "            return binarySearch(nums, left, right, target)\n",
    "        \n",
    "    return -1\n",
    "\n",
    "def searchRange(nums, target):\n",
    "    if len(nums) == 0:\n",
    "        return [-1, -1]\n",
    "    \n",
    "    firstPosition = binarySearch(nums, 0, len(nums) - 1, target)\n",
    "    \n",
    "    if firstPosition == -1:\n",
    "        return [-1, -1]\n",
    "    \n",
    "    startPosition = firstPosition\n",
    "    endPosition = firstPosition\n",
    "    tempL = 0\n",
    "    tempR = 0\n",
    "    \n",
    "    while startPosition != -1:\n",
    "        tempL = startPosition\n",
    "        startPosition = binarySearch(nums, 0, startPosition - 1, target)\n",
    "    startPosition = tempL\n",
    "    \n",
    "    while endPosition != -1:\n",
    "        tempR = endPosition\n",
    "        endPosition = binarySearch(nums, endPosition + 1, len(nums) - 1, target)\n",
    "    endPosition = tempR\n",
    "    \n",
    "    return [startPosition, endPosition]"
   ]
  },
  {
   "cell_type": "code",
   "execution_count": 86,
   "id": "ebbf4e0b",
   "metadata": {},
   "outputs": [
    {
     "data": {
      "text/plain": [
       "[3, 4]"
      ]
     },
     "execution_count": 86,
     "metadata": {},
     "output_type": "execute_result"
    }
   ],
   "source": [
    "nums = [5,7,7,8,8,10]\n",
    "target = 8\n",
    "\n",
    "searchRange(nums, target)"
   ]
  },
  {
   "cell_type": "markdown",
   "id": "0b6d139b",
   "metadata": {},
   "source": [
    "## 27. Merge Intervals"
   ]
  },
  {
   "cell_type": "code",
   "execution_count": 95,
   "id": "4c2b97c3",
   "metadata": {},
   "outputs": [],
   "source": [
    "# When we change last, we are modifying merged_intervals in place\n",
    "# time --> O(nlogn)\n",
    "# space -> O(logn)\n",
    "# Different form: \"Assume an array of video watch times, where each segment represents the times a user \n",
    "# started and stopped a video, calculate the total number of unique minutes watched\"\n",
    "def merge(intervals):\n",
    "    if not intervals:\n",
    "        return []\n",
    "    \n",
    "    intervals.sort(key=lambda x:x[0])\n",
    "    \n",
    "    merged_intervals = [intervals[0]]\n",
    "    \n",
    "    for current in intervals[1:]:\n",
    "        last = merged_intervals[-1]\n",
    "        \n",
    "        if current[0] <= last[1]:\n",
    "            last[1] = max(last[1], current[1])\n",
    "        else:\n",
    "            merged_intervals.append(current)\n",
    "    return merged_intervals"
   ]
  },
  {
   "cell_type": "code",
   "execution_count": 96,
   "id": "5e495413",
   "metadata": {},
   "outputs": [
    {
     "data": {
      "text/plain": [
       "[[1, 6], [8, 10], [15, 18]]"
      ]
     },
     "execution_count": 96,
     "metadata": {},
     "output_type": "execute_result"
    }
   ],
   "source": [
    "intervals = [[1,3],[2,6],[8,10],[15,18]]\n",
    "merge(intervals)"
   ]
  },
  {
   "cell_type": "markdown",
   "id": "e6861f8e",
   "metadata": {},
   "source": [
    "## 28. Sum root to leaf numbers\n",
    "\n",
    "You are given the root of a binary tree containing digits from 0 to 9 only.\n",
    "\n",
    "Each root-to-leaf path in the tree represents a number.\n",
    "\n",
    "For example, the root-to-leaf path 1 -> 2 -> 3 represents the number 123.\n",
    "\n",
    "Return the total sum of all root-to-leaf numbers. Test cases are generated so that the answer will fit in a 32-bit integer."
   ]
  },
  {
   "cell_type": "code",
   "execution_count": 99,
   "id": "694308e1",
   "metadata": {},
   "outputs": [],
   "source": [
    "def run():\n",
    "    root = Node(5)\n",
    "    root.insert_nodes([3, 7, 2, 4, 6, 8], root)\n",
    "    bfs_result = root.bfs(root=root)\n",
    "    dfs_inorder = root.DFSInorder(root)\n",
    "    dfs_preorder = root.DFSPreOrder(root)\n",
    "    dfs_postorder = root.DFSPostOrder(root)\n",
    "    return root, bfs_result, dfs_inorder, dfs_preorder, dfs_postorder\n",
    "\n",
    "root_2, bfs_result, dfs_inorder, dfs_preorder, dfs_postorder = run()"
   ]
  },
  {
   "cell_type": "code",
   "execution_count": 100,
   "id": "7b198a4b",
   "metadata": {},
   "outputs": [],
   "source": [
    "#       5\n",
    "#    3     7\n",
    "#  2  4  6   8\n",
    "\n",
    "# time --> O(N)\n",
    "# space --> O(H)\n",
    "\n",
    "def sumNumbers(root):\n",
    "    if not root:\n",
    "        return 0\n",
    "    \n",
    "    queue = [[root, root.val]]\n",
    "    \n",
    "    total = 0\n",
    "    \n",
    "    while queue:\n",
    "        curr_node, path_sum = queue.pop(0)\n",
    "        \n",
    "        if not curr_node.left and not curr_node.right:\n",
    "            total += path_sum\n",
    "            \n",
    "        if curr_node.left:\n",
    "            queue.append([curr_node.left, path_sum * 10 + curr_node.left.val])\n",
    "            \n",
    "        if curr_node.right:\n",
    "            queue.append([curr_node.right, path_sum * 10 + curr_node.right.val])\n",
    "            \n",
    "    return total"
   ]
  },
  {
   "cell_type": "code",
   "execution_count": 102,
   "id": "e5369efe",
   "metadata": {},
   "outputs": [
    {
     "data": {
      "text/plain": [
       "2220"
      ]
     },
     "execution_count": 102,
     "metadata": {},
     "output_type": "execute_result"
    }
   ],
   "source": [
    "sumNumbers(root_2)"
   ]
  },
  {
   "cell_type": "code",
   "execution_count": 103,
   "id": "55de4413",
   "metadata": {},
   "outputs": [
    {
     "data": {
      "text/plain": [
       "2220"
      ]
     },
     "execution_count": 103,
     "metadata": {},
     "output_type": "execute_result"
    }
   ],
   "source": [
    "532 + 534 + 576 + 578"
   ]
  },
  {
   "cell_type": "code",
   "execution_count": 105,
   "id": "e13fddaa",
   "metadata": {},
   "outputs": [],
   "source": [
    "# Morris algorithm \n",
    "\n",
    "# time --> O(N)\n",
    "# space --> O(1)\n",
    "\n",
    "def sumNumbers(root) -> int:\n",
    "    root_to_leaf = curr_number = 0\n",
    "\n",
    "    while root:\n",
    "        # If there is a left child,\n",
    "        # then compute the predecessor.\n",
    "        # If there is no link predecessor.right = root --> set it.\n",
    "        # If there is a link predecessor.right = root --> break it.\n",
    "        if root.left:\n",
    "            # Predecessor node is one step to the left\n",
    "            # and then to the right till you can.\n",
    "            predecessor = root.left\n",
    "            steps = 1\n",
    "            while predecessor.right and predecessor.right is not root:\n",
    "                predecessor = predecessor.right\n",
    "                steps += 1\n",
    "\n",
    "            # Set link predecessor.right = root\n",
    "            # and go to explore the left subtree\n",
    "            if predecessor.right is None:\n",
    "                curr_number = curr_number * 10 + root.val\n",
    "                predecessor.right = root\n",
    "                root = root.left\n",
    "            # Break the link predecessor.right = root\n",
    "            # Once the link is broken,\n",
    "            # it's time to change subtree and go to the right\n",
    "            else:\n",
    "                # If you're on the leaf, update the sum\n",
    "                if predecessor.left is None:\n",
    "                    root_to_leaf += curr_number\n",
    "                # This part of tree is explored, backtrack\n",
    "                for _ in range(steps):\n",
    "                    curr_number //= 10\n",
    "                predecessor.right = None\n",
    "                root = root.right\n",
    "\n",
    "        # If there is no left child\n",
    "        # then just go right.\n",
    "        else:\n",
    "            curr_number = curr_number * 10 + root.val\n",
    "            # if you're on the leaf, update the sum\n",
    "            if root.right is None:\n",
    "                root_to_leaf += curr_number\n",
    "            root = root.right\n",
    "\n",
    "    return root_to_leaf"
   ]
  },
  {
   "cell_type": "code",
   "execution_count": 106,
   "id": "ae5f6238",
   "metadata": {},
   "outputs": [
    {
     "data": {
      "text/plain": [
       "2220"
      ]
     },
     "execution_count": 106,
     "metadata": {},
     "output_type": "execute_result"
    }
   ],
   "source": [
    "sumNumbers(root_2)"
   ]
  },
  {
   "cell_type": "code",
   "execution_count": 130,
   "id": "14b8f282",
   "metadata": {},
   "outputs": [
    {
     "name": "stdout",
     "output_type": "stream",
     "text": [
      "List 1:\n",
      "1 -> 4 -> 5 -> None\n",
      "\n",
      "List 2:\n",
      "1 -> 3 -> 4 -> None\n",
      "\n",
      "List 3:\n",
      "2 -> 6 -> None\n"
     ]
    }
   ],
   "source": [
    "from functools import reduce\n",
    "\n",
    "# Template to create node list\n",
    "class ListNode:\n",
    "    def __init__(self, val, next=None):\n",
    "        self.val = val\n",
    "        self.next = next\n",
    "\n",
    "# Function to print the linked list\n",
    "def printList(head):\n",
    "    if not head:\n",
    "        return\n",
    "    while head:\n",
    "        print(head.val, end=\" -> \")\n",
    "        head = head.next\n",
    "    print(\"None\")\n",
    "\n",
    "# Function to create a linked list from a list of values\n",
    "def createLinkedList(values):\n",
    "    return reduce(lambda acc, val: ListNode(val, acc), reversed(values), None)\n",
    "\n",
    "# Create multiple linked lists\n",
    "list1 = createLinkedList([1, 4, 5])\n",
    "list2 = createLinkedList([1, 3, 4])\n",
    "list3 = createLinkedList([2, 6])\n",
    "\n",
    "# Print the linked lists\n",
    "print(\"List 1:\")\n",
    "printList(list1)\n",
    "\n",
    "print(\"\\nList 2:\")\n",
    "printList(list2)\n",
    "\n",
    "print(\"\\nList 3:\")\n",
    "printList(list3)"
   ]
  },
  {
   "cell_type": "markdown",
   "id": "5c2935cc",
   "metadata": {},
   "source": [
    "## 29. Merge K-sorted Lists (Hard)\n",
    "\n",
    "You are given an array of k linked-lists lists, each linked-list is sorted in ascending order.\n",
    "\n",
    "Merge all the linked-lists into one sorted linked-list and return it."
   ]
  },
  {
   "cell_type": "code",
   "execution_count": 111,
   "id": "6d51ef27",
   "metadata": {},
   "outputs": [],
   "source": [
    "# Brute force\n",
    "# Time --> O(nLogn)\n",
    "# Space --> O(n)\n",
    "def mergeKLists(lists):\n",
    "    nodes = []\n",
    "    head = point = ListNode(0)\n",
    "    \n",
    "    for l in lists:\n",
    "        while l:\n",
    "            nodes.append(l.val)\n",
    "            l = l.next\n",
    "    print(nodes)\n",
    "            \n",
    "    for x in sorted(nodes):\n",
    "        point.next = ListNode(x)\n",
    "        point = point.next\n",
    "    return head.next"
   ]
  },
  {
   "cell_type": "code",
   "execution_count": 112,
   "id": "23c70caa",
   "metadata": {},
   "outputs": [
    {
     "name": "stdout",
     "output_type": "stream",
     "text": [
      "[1, 4, 5, 1, 3, 4, 2, 6]\n",
      "\n",
      "Merged List:\n",
      "1 -> 1 -> 2 -> 3 -> 4 -> 4 -> 5 -> 6 -> None\n"
     ]
    }
   ],
   "source": [
    "mergedList = mergeKLists([list1, list2, list3])\n",
    "print(\"\\nMerged List:\")\n",
    "printList(mergedList)"
   ]
  },
  {
   "cell_type": "code",
   "execution_count": 131,
   "id": "4f812117",
   "metadata": {},
   "outputs": [],
   "source": [
    "# Min heap / Priority queue\n",
    "# Time --> O(NLogK) (N is the total number of elements across all lists and K is the number of lists.)\n",
    "# space --> O(K) (heap)\n",
    "import heapq\n",
    "\n",
    "def mergeKLists(lists):\n",
    "    if not lists or len(lists) == 0:\n",
    "        return None\n",
    "\n",
    "    min_heap = []\n",
    "    \n",
    "    # Step 1: Push the head of each list into the heap\n",
    "    for i, l in enumerate(lists):\n",
    "        if l:  # Only push non-null nodes\n",
    "            heapq.heappush(min_heap, (l.val, i, l))  # (value, list_index, node)\n",
    "    \n",
    "    # Step 2: Merge the lists\n",
    "    dummy = ListNode(0)\n",
    "    current = dummy\n",
    "    \n",
    "    while min_heap:\n",
    "        # Pop the smallest element from the heap\n",
    "        val, i, node = heapq.heappop(min_heap)\n",
    "        \n",
    "        # Add the smallest node to the merged list\n",
    "        current.next = node\n",
    "        current = current.next\n",
    "        \n",
    "        # If there's a next node in the same list, push it into the heap\n",
    "        if node.next:\n",
    "            heapq.heappush(min_heap, (node.next.val, i, node.next))\n",
    "    \n",
    "    return dummy.next"
   ]
  },
  {
   "cell_type": "code",
   "execution_count": 132,
   "id": "e8f3b6dc",
   "metadata": {},
   "outputs": [
    {
     "name": "stdout",
     "output_type": "stream",
     "text": [
      "\n",
      "Merged List:\n",
      "1 -> 1 -> 2 -> 3 -> 4 -> 4 -> 5 -> 6 -> None\n"
     ]
    }
   ],
   "source": [
    "mergedList = mergeKLists([list1, list2, list3])\n",
    "print(\"\\nMerged List:\")\n",
    "printList(mergedList)"
   ]
  },
  {
   "cell_type": "markdown",
   "id": "4bdea61c",
   "metadata": {},
   "source": [
    "## 30. Custom Sort String\n",
    "\n",
    "You are given two strings order and s. All the characters of order are unique and were sorted in some custom order previously.\n",
    "\n",
    "Permute the characters of s so that they match the order that order was sorted. More specifically, if a character x occurs before a character y in order, then x should occur before y in the permuted string.\n",
    "\n",
    "Return any permutation of s that satisfies this property."
   ]
  },
  {
   "cell_type": "code",
   "execution_count": 16,
   "id": "9c4ecaf0",
   "metadata": {},
   "outputs": [],
   "source": [
    "from collections import Counter\n",
    "\n",
    "# time --> O(N)\n",
    "# space --> O(N)\n",
    "\n",
    "def customSortString(order, s):\n",
    "    freq = Counter(s)\n",
    "    \n",
    "    result = []\n",
    "    \n",
    "    for letter in order:\n",
    "        if letter in freq:\n",
    "            result.append(letter * freq[letter])\n",
    "            del freq[letter]\n",
    "            \n",
    "    for letter, count in freq.items():\n",
    "        result.append(letter * count)\n",
    "        \n",
    "    return \"\".join(result)"
   ]
  },
  {
   "cell_type": "code",
   "execution_count": 17,
   "id": "898850fb",
   "metadata": {},
   "outputs": [
    {
     "data": {
      "text/plain": [
       "'bbcad'"
      ]
     },
     "execution_count": 17,
     "metadata": {},
     "output_type": "execute_result"
    }
   ],
   "source": [
    "order = \"bcafg\"\n",
    "s = \"abbcd\"\n",
    "\n",
    "customSortString(order, s)"
   ]
  },
  {
   "cell_type": "markdown",
   "id": "e00825ba",
   "metadata": {},
   "source": [
    "## 31. Moving average from data stream"
   ]
  },
  {
   "cell_type": "code",
   "execution_count": 136,
   "id": "f33bd096",
   "metadata": {},
   "outputs": [],
   "source": [
    "from collections import deque\n",
    "\n",
    "# Time --> O(1)\n",
    "# Space --> O(N) (N is size of the window)\n",
    "\n",
    "class MovingAverage:\n",
    "    def __init__(self, size):\n",
    "        self.size = size\n",
    "        self.count = 0\n",
    "        self.queue = deque()\n",
    "        self.window_sum = 0\n",
    "        \n",
    "    def next(self, val):\n",
    "        self.count += 1\n",
    "        \n",
    "        self.queue.append(val)\n",
    "        \n",
    "        tail = self.queue.popleft() if self.count > self.size else 0\n",
    "        \n",
    "        self.window_sum = self.window_sum - tail + val\n",
    "        \n",
    "        return (self.window_sum)/(min(self.count, self.size))"
   ]
  },
  {
   "cell_type": "code",
   "execution_count": 137,
   "id": "597890a0",
   "metadata": {},
   "outputs": [
    {
     "name": "stdout",
     "output_type": "stream",
     "text": [
      "1.0\n",
      "5.5\n",
      "4.666666666666667\n",
      "6.0\n"
     ]
    }
   ],
   "source": [
    "movingAverage = MovingAverage(3)\n",
    "print(movingAverage.next(1))\n",
    "print(movingAverage.next(10))\n",
    "print(movingAverage.next(3))\n",
    "print(movingAverage.next(5))"
   ]
  },
  {
   "cell_type": "markdown",
   "id": "bd5b3d8c",
   "metadata": {},
   "source": [
    "## 32. K Closest points to origin"
   ]
  },
  {
   "cell_type": "code",
   "execution_count": 138,
   "id": "641815a1",
   "metadata": {},
   "outputs": [],
   "source": [
    "## Brute force \n",
    "\n",
    "# Time --> O(nLogn)\n",
    "# Space --> O(logn)\n",
    "\n",
    "def kClosest(points, k):\n",
    "    def squared_distance(point):\n",
    "        return point[0]**2 + point[1]**2\n",
    "    \n",
    "    points.sort(key=squared_distance)\n",
    "    return points[:k]"
   ]
  },
  {
   "cell_type": "code",
   "execution_count": 139,
   "id": "2cadfa13",
   "metadata": {},
   "outputs": [
    {
     "data": {
      "text/plain": [
       "[[3, 3], [-2, 4]]"
      ]
     },
     "execution_count": 139,
     "metadata": {},
     "output_type": "execute_result"
    }
   ],
   "source": [
    "points = [[3,3],[5,-1],[-2,4]]\n",
    "k = 2\n",
    "kClosest(points, k)"
   ]
  },
  {
   "cell_type": "code",
   "execution_count": 150,
   "id": "b2f286d5",
   "metadata": {},
   "outputs": [],
   "source": [
    "# quickselect\n",
    "# Time --> O(n), worst case O(n^2)\n",
    "# space --> O(1)\n",
    "def kClosest(points, k):\n",
    "    distances = [x**2 + y**2 for x, y in points]\n",
    "    quickSelect(points, distances, 0, len(points) - 1, k - 1)\n",
    "    return points[:k]\n",
    "\n",
    "def quickSelect(nums, distances, left, right, k_smallest):\n",
    "    if left == right:\n",
    "        return\n",
    "    \n",
    "    partitionIndex = partition(nums, distances, left, right)\n",
    "    \n",
    "    if partitionIndex == k_smallest:\n",
    "        return\n",
    "    elif partitionIndex < k_smallest:\n",
    "        return quickSelect(nums, distances, partitionIndex + 1, right, k_smallest)\n",
    "    else:\n",
    "        return quickSelect(nums, distances, left, partitionIndex - 1, k_smallest)\n",
    "    \n",
    "def partition(nums, distances, left, right):\n",
    "    partitionIndex = left\n",
    "    pivotElement = distances[right]\n",
    "    \n",
    "    for j in range(left, right):\n",
    "        if distances[j] <= pivotElement:\n",
    "            distances[j], distances[partitionIndex] = distances[partitionIndex], distances[j]\n",
    "            nums[j], nums[partitionIndex] = nums[partitionIndex], nums[j]\n",
    "            partitionIndex += 1\n",
    "    distances[right], distances[partitionIndex] = distances[partitionIndex], distances[right]\n",
    "    nums[right], nums[partitionIndex] = nums[partitionIndex], nums[right]\n",
    "    return partitionIndex"
   ]
  },
  {
   "cell_type": "code",
   "execution_count": 151,
   "id": "1662c470",
   "metadata": {},
   "outputs": [
    {
     "name": "stdout",
     "output_type": "stream",
     "text": [
      "[[3, 3], [-2, 4]]\n"
     ]
    }
   ],
   "source": [
    "points = [[3, 3], [5, -1], [-2, 4]]\n",
    "k = 2\n",
    "print(kClosest(points, k))  # Output: [[3, 3], [-2, 4]]"
   ]
  },
  {
   "cell_type": "markdown",
   "id": "59d9781b",
   "metadata": {},
   "source": [
    "## 33. Next Permutation\n",
    "\n",
    "A permutation of an array of integers is an arrangement of its members into a sequence or linear order.\n",
    "\n",
    "For example, for arr = [1,2,3], the following are all the permutations of arr: [1,2,3], [1,3,2], [2, 1, 3], [2, 3, 1], [3,1,2], [3,2,1].\n",
    "The next permutation of an array of integers is the next lexicographically greater permutation of its integer. More formally, if all the permutations of the array are sorted in one container according to their lexicographical order, then the next permutation of that array is the permutation that follows it in the sorted container. If such arrangement is not possible, the array must be rearranged as the lowest possible order (i.e., sorted in ascending order).\n",
    "\n",
    "* For example, the next permutation of arr = [1,2,3] is [1,3,2].\n",
    "* Similarly, the next permutation of arr = [2,3,1] is [3,1,2].\n",
    "* While the next permutation of arr = [3,2,1] is [1,2,3] because [3,2,1] does not have a lexicographical larger rearrangement."
   ]
  },
  {
   "cell_type": "code",
   "execution_count": 154,
   "id": "b6da56c4",
   "metadata": {},
   "outputs": [],
   "source": [
    "# time --> O(n)\n",
    "# space --> O(1)\n",
    "\n",
    "def nextPermutation(nums):\n",
    "    n = len(nums)\n",
    "    if n <= 1:\n",
    "        return\n",
    "    \n",
    "    # Step 1: Find the first decreasing element\n",
    "    i = n - 2\n",
    "    while i >= 0 and nums[i] >= nums[i + 1]:\n",
    "        i -= 1\n",
    "\n",
    "    if i >= 0:  # Step 2: Find the smallest element greater than nums[i]\n",
    "        j = n - 1\n",
    "        while nums[j] <= nums[i]:\n",
    "            j -= 1\n",
    "        # Step 3: Swap nums[i] and nums[j]\n",
    "        nums[i], nums[j] = nums[j], nums[i]\n",
    "    \n",
    "    # Step 4: Reverse the subarray nums[i+1:]\n",
    "    left, right = i + 1, n - 1\n",
    "    while left < right:\n",
    "        nums[left], nums[right] = nums[right], nums[left]\n",
    "        left += 1\n",
    "        right -= 1"
   ]
  },
  {
   "cell_type": "code",
   "execution_count": 155,
   "id": "ec1d75dc",
   "metadata": {},
   "outputs": [
    {
     "data": {
      "text/plain": [
       "[2, 4, 1, 3, 5, 6]"
      ]
     },
     "execution_count": 155,
     "metadata": {},
     "output_type": "execute_result"
    }
   ],
   "source": [
    "nums = [2, 3, 6, 5, 4, 1]\n",
    "nextPermutation(nums)\n",
    "nums"
   ]
  },
  {
   "cell_type": "markdown",
   "id": "835f069c",
   "metadata": {},
   "source": [
    "## 34. Trapping rain water (Hard)"
   ]
  },
  {
   "cell_type": "code",
   "execution_count": 156,
   "id": "e7ff1990",
   "metadata": {},
   "outputs": [],
   "source": [
    "# Brute force\n",
    "# time --> O(n^2)\n",
    "# space --> O(1)\n",
    "def rain_water_brute_force(heights):\n",
    "    total_water = 0\n",
    "    \n",
    "    for p in range(len(heights)):\n",
    "        leftP = p\n",
    "        rightP = p\n",
    "        maxLeft = 0\n",
    "        maxRight = 0\n",
    "        \n",
    "        while leftP >= 0:\n",
    "            maxLeft = max(maxLeft, heights[leftP])\n",
    "            leftP -= 1\n",
    "        \n",
    "        while rightP < len(heights):\n",
    "            maxRight = max(maxRight, heights[rightP])\n",
    "            rightP += 1\n",
    "            \n",
    "        currentWater = min(maxLeft, maxRight) - heights[p]\n",
    "        \n",
    "        if currentWater > 0:\n",
    "            total_water += currentWater\n",
    "    return total_water"
   ]
  },
  {
   "cell_type": "code",
   "execution_count": 157,
   "id": "b6c62cdf",
   "metadata": {},
   "outputs": [
    {
     "data": {
      "text/plain": [
       "8"
      ]
     },
     "execution_count": 157,
     "metadata": {},
     "output_type": "execute_result"
    }
   ],
   "source": [
    "elevationArray = [0,1,0,2,1,0,3,1,0,1,2]\n",
    "rain_water_brute_force(elevationArray)"
   ]
  },
  {
   "cell_type": "code",
   "execution_count": 164,
   "id": "e44d1786",
   "metadata": {},
   "outputs": [],
   "source": [
    "# time --> O(n)\n",
    "# space --> O(1)\n",
    "def rain_water_better(heights):\n",
    "    leftP = 0\n",
    "    rightP = len(heights) - 1\n",
    "    maxLeft = 0\n",
    "    maxRight = 0\n",
    "    totalWater = 0\n",
    "    \n",
    "    while leftP < rightP:\n",
    "        if heights[leftP] < heights[rightP]:\n",
    "            if heights[leftP] < maxLeft:\n",
    "                totalWater += maxLeft - heights[leftP]\n",
    "            else:\n",
    "                maxLeft = heights[leftP]\n",
    "            leftP += 1\n",
    "        else:\n",
    "            if heights[rightP] < maxRight:\n",
    "                totalWater += maxRight - heights[rightP]\n",
    "            else:\n",
    "                maxRight = heights[rightP]\n",
    "            rightP -= 1\n",
    "    return totalWater"
   ]
  },
  {
   "cell_type": "code",
   "execution_count": 165,
   "id": "0ae0aed5",
   "metadata": {},
   "outputs": [
    {
     "data": {
      "text/plain": [
       "8"
      ]
     },
     "execution_count": 165,
     "metadata": {},
     "output_type": "execute_result"
    }
   ],
   "source": [
    "elevationArray = [0,1,0,2,1,0,3,1,0,1,2]\n",
    "rain_water_better(elevationArray)"
   ]
  },
  {
   "cell_type": "markdown",
   "id": "6ffd7e1a",
   "metadata": {},
   "source": [
    "## 35. Clone Graph\n",
    "\n",
    "Given a reference of a node in a connected undirected graph.\n",
    "\n",
    "Return a deep copy (clone) of the graph.\n",
    "\n",
    "Each node in the graph contains a value (int) and a list (List[Node]) of its neighbors.\n",
    "\n",
    "\n",
    "Test case format:\n",
    "\n",
    "For simplicity, each node's value is the same as the node's index (1-indexed). For example, the first node with val == 1, the second node with val == 2, and so on. The graph is represented in the test case using an adjacency list.\n",
    "\n",
    "An adjacency list is a collection of unordered lists used to represent a finite graph. Each list describes the set of neighbors of a node in the graph.\n",
    "\n",
    "The given node will always be the first node with val = 1. You must return the copy of the given node as a reference to the cloned graph."
   ]
  },
  {
   "cell_type": "code",
   "execution_count": 166,
   "id": "30d7a3b0",
   "metadata": {},
   "outputs": [],
   "source": [
    "# time --> O(V+E) (V: number of nodes, E: number of edges)\n",
    "# space --> O(N)\n",
    "\n",
    "def cloneGraph(node):\n",
    "    if not node:\n",
    "        return None\n",
    "\n",
    "    visited = {}\n",
    "\n",
    "    def dfs(currNode):\n",
    "        if currNode in visited:\n",
    "            return visited[currNode]\n",
    "\n",
    "        clone = Node(currNode.val)\n",
    "        visited[currNode] = clone\n",
    "\n",
    "        for neighbor in currNode.neighbors:\n",
    "            clone.neighbors.append(dfs(neighbor))\n",
    "\n",
    "        return clone\n",
    "\n",
    "    return dfs(node)"
   ]
  },
  {
   "cell_type": "markdown",
   "id": "19ae543c",
   "metadata": {},
   "source": [
    "## 36. Two Sum\n",
    "\n"
   ]
  },
  {
   "cell_type": "code",
   "execution_count": 170,
   "id": "1d4c5e39",
   "metadata": {},
   "outputs": [],
   "source": [
    "def twoSum(nums, target):\n",
    "    if len(nums) <= 1:\n",
    "        return None\n",
    "    \n",
    "    hashMap = {}\n",
    "    \n",
    "    for i in range(len(nums)):\n",
    "        if nums[i] not in hashMap.keys():\n",
    "            ntf = target - nums[i]\n",
    "            hashMap[ntf] = i\n",
    "        else:\n",
    "            return [hashMap[nums[i]], i]\n",
    "    return -1   "
   ]
  },
  {
   "cell_type": "code",
   "execution_count": 182,
   "id": "ca9e331c",
   "metadata": {},
   "outputs": [
    {
     "data": {
      "text/plain": [
       "[0, 1]"
      ]
     },
     "execution_count": 182,
     "metadata": {},
     "output_type": "execute_result"
    }
   ],
   "source": [
    "nums = [2,7,11,15]\n",
    "target = 9\n",
    "twoSum(nums, target)"
   ]
  },
  {
   "cell_type": "markdown",
   "id": "630a4644",
   "metadata": {},
   "source": [
    "## 37. Palindrome number"
   ]
  },
  {
   "cell_type": "code",
   "execution_count": 18,
   "id": "5d0a63dc",
   "metadata": {},
   "outputs": [],
   "source": [
    "# time --> O(d) (d: number of digits)\n",
    "# space --> O(d) (str representation holds a space of d)\n",
    "def isPalindrome(x):\n",
    "    return str(x) == str(x)[::-1]"
   ]
  },
  {
   "cell_type": "code",
   "execution_count": 19,
   "id": "f6f38e2c",
   "metadata": {},
   "outputs": [
    {
     "data": {
      "text/plain": [
       "True"
      ]
     },
     "execution_count": 19,
     "metadata": {},
     "output_type": "execute_result"
    }
   ],
   "source": [
    "isPalindrome(121)"
   ]
  },
  {
   "cell_type": "code",
   "execution_count": 183,
   "id": "97b75b64",
   "metadata": {},
   "outputs": [],
   "source": [
    "# time --> O(logn)\n",
    "# space --> O(1)\n",
    "\n",
    "def isPalindrome(x: int) -> bool:\n",
    "    # Negative numbers and numbers ending in 0 (except 0 itself) are not palindromes\n",
    "    if x < 0 or (x % 10 == 0 and x != 0):\n",
    "        return False\n",
    "\n",
    "    reversed_half = 0\n",
    "    while x > reversed_half:\n",
    "        # Extract the last digit and append it to reversed_half\n",
    "        reversed_half = reversed_half * 10 + x % 10\n",
    "        # Remove the last digit from x\n",
    "        x //= 10\n",
    "\n",
    "    # Check if the number is a palindrome\n",
    "    # For odd-length numbers, discard the middle digit using reversed_half // 10\n",
    "    return x == reversed_half or x == reversed_half // 10"
   ]
  },
  {
   "cell_type": "code",
   "execution_count": 184,
   "id": "0a339fbe",
   "metadata": {},
   "outputs": [
    {
     "data": {
      "text/plain": [
       "True"
      ]
     },
     "execution_count": 184,
     "metadata": {},
     "output_type": "execute_result"
    }
   ],
   "source": [
    "isPalindrome(121)"
   ]
  },
  {
   "cell_type": "markdown",
   "id": "76b31dae",
   "metadata": {},
   "source": [
    "## 38. Generate Parenthesis"
   ]
  },
  {
   "cell_type": "code",
   "execution_count": 194,
   "id": "748bbf8a",
   "metadata": {},
   "outputs": [],
   "source": [
    "# time --> O(2^n)\n",
    "# space --> O(n)\n",
    "\n",
    "def generateParenthesis(n):\n",
    "    def dfs(left, right, s):\n",
    "        if len(s) == 2 * n:\n",
    "            res.append(s)\n",
    "            return\n",
    "    \n",
    "        if left < n:\n",
    "            dfs(left + 1, right, s + '(')\n",
    "            \n",
    "        if right < left:\n",
    "            dfs(left, right + 1, s + ')')\n",
    "            \n",
    "    res = []\n",
    "    dfs(0, 0, '')\n",
    "    return res"
   ]
  },
  {
   "cell_type": "code",
   "execution_count": 195,
   "id": "d3c3ef32",
   "metadata": {},
   "outputs": [
    {
     "data": {
      "text/plain": [
       "['((()))', '(()())', '(())()', '()(())', '()()()']"
      ]
     },
     "execution_count": 195,
     "metadata": {},
     "output_type": "execute_result"
    }
   ],
   "source": [
    "n = 3\n",
    "generateParenthesis(n)"
   ]
  },
  {
   "cell_type": "markdown",
   "id": "84d2c5cd",
   "metadata": {},
   "source": [
    "## 39. Subarray sum equals K"
   ]
  },
  {
   "cell_type": "code",
   "execution_count": 200,
   "id": "957f6e0e",
   "metadata": {},
   "outputs": [],
   "source": [
    "# time --> O(n)\n",
    "# space --> O(n)\n",
    "def subarraySum(nums, k):\n",
    "    count = 0\n",
    "    cumulative_sum = 0\n",
    "    prefix_sums = defaultdict(int)\n",
    "    prefix_sums[0] = 1  # Initialize with sum 0 having one occurrence\n",
    "\n",
    "    for num in nums:\n",
    "        cumulative_sum += num\n",
    "\n",
    "        # Check if (cumulative_sum - k) exists in prefix_sums\n",
    "        if cumulative_sum - k in prefix_sums:\n",
    "            count += prefix_sums[cumulative_sum - k]\n",
    "\n",
    "        # Update the prefix_sums dictionary\n",
    "        prefix_sums[cumulative_sum] += 1\n",
    "\n",
    "    return count"
   ]
  },
  {
   "cell_type": "code",
   "execution_count": 201,
   "id": "9dce0a63",
   "metadata": {},
   "outputs": [
    {
     "data": {
      "text/plain": [
       "2"
      ]
     },
     "execution_count": 201,
     "metadata": {},
     "output_type": "execute_result"
    }
   ],
   "source": [
    "nums = [1,2,3]\n",
    "k = 3\n",
    "\n",
    "subarraySum(nums, k)"
   ]
  },
  {
   "cell_type": "markdown",
   "id": "9708cf3a",
   "metadata": {},
   "source": [
    "## 40. Kth missing positive number\n",
    "\n",
    "Given an array arr of positive integers sorted in a strictly increasing order, and an integer k.\n",
    "\n",
    "Return the kth positive integer that is missing from this array."
   ]
  },
  {
   "cell_type": "code",
   "execution_count": 210,
   "id": "878e0362",
   "metadata": {},
   "outputs": [],
   "source": [
    "# Brute force\n",
    "# time --> O(n)\n",
    "# space --> O(1)\n",
    "def findKthPositive(arr, k):\n",
    "    for num in arr:\n",
    "        #print(num)\n",
    "        if num <= k:\n",
    "            k += 1\n",
    "        elif num > k:\n",
    "            break\n",
    "    return k"
   ]
  },
  {
   "cell_type": "code",
   "execution_count": 211,
   "id": "90860b9d",
   "metadata": {},
   "outputs": [
    {
     "data": {
      "text/plain": [
       "9"
      ]
     },
     "execution_count": 211,
     "metadata": {},
     "output_type": "execute_result"
    }
   ],
   "source": [
    "arr = [2,3,4,7,11]\n",
    "k = 5\n",
    "findKthPositive(arr, k)"
   ]
  },
  {
   "cell_type": "markdown",
   "id": "a7e7b128",
   "metadata": {},
   "source": [
    "We need a way to check on how many positive integers are missing before the given array element to use binary search. \n",
    "\n",
    "To do that, let's compare the input array\n",
    "[2, 3, 4, 7, 11] with an array with no missing integers: [1, 2, 3, 4, 5]. \n",
    "\n",
    "The number of missing integers is a simple difference between the corresponding elements of these two arrays:\n",
    "\n",
    "* Before 2, there is 2 - 1 = 1 missing integer.\n",
    "\n",
    "* Before 3, there is 3 - 2 = 1 missing integer.\n",
    "\n",
    "* Before 4, there is 4 - 3 = 1 missing integer.\n",
    "\n",
    "* Before 7, there are 7 - 4 = 3 missing integers.\n",
    "\n",
    "* Before 11, there are 11 - 5 = 6 missing integers.\n",
    "\n",
    "The number of positive integers which are missing before the arr[idx] is equal to **arr[idx] - idx - 1**.\n",
    "\n"
   ]
  },
  {
   "cell_type": "code",
   "execution_count": 212,
   "id": "46c8fc76",
   "metadata": {},
   "outputs": [],
   "source": [
    "# time --> O(logn)\n",
    "# space \n",
    "def findKthPositive(arr, k):\n",
    "    left = 0\n",
    "    right = len(arr) - 1\n",
    "    \n",
    "    while left <= right:\n",
    "        mid = (left + right) // 2\n",
    "        # If number of positive integers\n",
    "        # which are missing before arr[pivot]\n",
    "        # is less than k -->\n",
    "        # continue to search on the right.\n",
    "        if arr[mid] - mid - 1 < k:\n",
    "            left = mid + 1\n",
    "        else:\n",
    "            right = mid - 1\n",
    "    # At the end of the loop, left = right + 1,\n",
    "    # and the kth missing is in-between arr[right] and arr[left].\n",
    "    # The number of integers missing before arr[right] is\n",
    "    # arr[right] - right - 1 -->\n",
    "    # the number to return is\n",
    "    # arr[right] + k - (arr[right] - right - 1) = k + left\n",
    "    return left + k"
   ]
  },
  {
   "cell_type": "code",
   "execution_count": 213,
   "id": "7a6e301a",
   "metadata": {},
   "outputs": [
    {
     "data": {
      "text/plain": [
       "9"
      ]
     },
     "execution_count": 213,
     "metadata": {},
     "output_type": "execute_result"
    }
   ],
   "source": [
    "arr = [2,3,4,7,11]\n",
    "k = 5\n",
    "findKthPositive(arr, k)"
   ]
  },
  {
   "cell_type": "markdown",
   "id": "417e7d58",
   "metadata": {},
   "source": [
    "## 41. Binary tree right side view"
   ]
  },
  {
   "cell_type": "code",
   "execution_count": 214,
   "id": "701996ac",
   "metadata": {},
   "outputs": [],
   "source": [
    "# time --> O(n)\n",
    "# space --> O(h)\n",
    "\n",
    "# For BFS, a full and complete tree gives the worst Big O. For DFS, a highly left skewed tree gives the worst\n",
    "# Big O. So if it is skewed, it's better to use BFS and if it is a full and complete tree, it's better to use DFS.\n",
    "# In BFS, the worst O space is O(w), where w is the fattest width of the tree and for DFS, the worst O space is \n",
    "# O(H) where H is the height of the tree\n",
    "\n",
    "\n",
    "def rightSideView(root):\n",
    "    if not root:\n",
    "        return []\n",
    "    \n",
    "    result = []\n",
    "    queue = [root]\n",
    "    \n",
    "    while queue:\n",
    "        queueLength = len(queue)\n",
    "        counter = 0\n",
    "        \n",
    "        while counter < queueLength:\n",
    "            currNode = queue.pop(0)\n",
    "            \n",
    "            if currNode.left:\n",
    "                queue.append(currNode.left)\n",
    "            \n",
    "            if currNode.right:\n",
    "                queue.append(currNode.right)\n",
    "                \n",
    "            counter += 1\n",
    "        \n",
    "        result.append(currNode.val)\n",
    "    return result"
   ]
  },
  {
   "cell_type": "code",
   "execution_count": 215,
   "id": "dee63cba",
   "metadata": {},
   "outputs": [
    {
     "data": {
      "text/plain": [
       "[9, 20, 170]"
      ]
     },
     "execution_count": 215,
     "metadata": {},
     "output_type": "execute_result"
    }
   ],
   "source": [
    "rightSideView(root)"
   ]
  },
  {
   "cell_type": "markdown",
   "id": "223acd13",
   "metadata": {},
   "source": [
    "## 42. Closest Binary search tree value\n",
    "\n",
    "Given the root of a binary search tree and a target value, return the value in the BST that is closest to the target. If there are multiple answers, print the smallest.\n",
    "\n"
   ]
  },
  {
   "cell_type": "code",
   "execution_count": 221,
   "id": "e7093b64",
   "metadata": {},
   "outputs": [],
   "source": [
    "#       9\n",
    "#    4     20\n",
    "#  1  6  15   170\n",
    "\n",
    "# time --> O(N)\n",
    "# space --> O(N)\n",
    "def closestValue(root, target):\n",
    "    if not root:\n",
    "        return None\n",
    "    \n",
    "    result = float('inf')\n",
    "    \n",
    "    queue = [root]\n",
    "    \n",
    "    while queue:\n",
    "        currNode = queue.pop(0)\n",
    "                \n",
    "        if (\n",
    "            abs(currNode.val - target) < abs(result - target) or\n",
    "            (abs(currNode.val - target) == abs(result - target) and currNode.val < result)\n",
    "            ):\n",
    "            result = currNode.val\n",
    "            \n",
    "        if currNode.left:\n",
    "            queue.append(currNode.left)\n",
    "            \n",
    "        if currNode.right:\n",
    "            queue.append(currNode.right)\n",
    "            \n",
    "    return result"
   ]
  },
  {
   "cell_type": "code",
   "execution_count": 222,
   "id": "ad3e8c07",
   "metadata": {},
   "outputs": [
    {
     "data": {
      "text/plain": [
       "20"
      ]
     },
     "execution_count": 222,
     "metadata": {},
     "output_type": "execute_result"
    }
   ],
   "source": [
    "closestValue(root, 18)"
   ]
  },
  {
   "cell_type": "code",
   "execution_count": 223,
   "id": "39e910ee",
   "metadata": {},
   "outputs": [],
   "source": [
    "# Binary search\n",
    "# time --> O(H)\n",
    "# space --> O(1)\n",
    "def closestValue(root, target):\n",
    "    closest = root.val\n",
    "    \n",
    "    while root:\n",
    "        closest = min(closest, root.val, key = lambda x: (abs(target - x), x))\n",
    "        root = root.left if target < root.val else root.right\n",
    "    return closest"
   ]
  },
  {
   "cell_type": "code",
   "execution_count": 224,
   "id": "f259ebc6",
   "metadata": {},
   "outputs": [
    {
     "data": {
      "text/plain": [
       "20"
      ]
     },
     "execution_count": 224,
     "metadata": {},
     "output_type": "execute_result"
    }
   ],
   "source": [
    "closestValue(root, 18)"
   ]
  },
  {
   "cell_type": "markdown",
   "id": "460e6a4d",
   "metadata": {},
   "source": [
    "## 43. Longest common prefix"
   ]
  },
  {
   "cell_type": "code",
   "execution_count": 229,
   "id": "8382667b",
   "metadata": {},
   "outputs": [],
   "source": [
    "# time --> O(S) (S = m.n where m is the number of strings and n is the length of the shortest string)\n",
    "# space --> O(m + n) (prefix stores n and set stores m. zip is o(1) as it does lazily)\n",
    "\n",
    "def longestCommonPrefix(strs):\n",
    "    prefix = []\n",
    "    \n",
    "    for x in zip(*strs):\n",
    "        if len(set(x)) == 1:\n",
    "            prefix.append(x[0])\n",
    "        else:\n",
    "            break\n",
    "    return \"\".join(prefix)"
   ]
  },
  {
   "cell_type": "code",
   "execution_count": 230,
   "id": "c8b92705",
   "metadata": {},
   "outputs": [
    {
     "data": {
      "text/plain": [
       "'fl'"
      ]
     },
     "execution_count": 230,
     "metadata": {},
     "output_type": "execute_result"
    }
   ],
   "source": [
    "strs = [\"flower\",\"flow\",\"flight\"]\n",
    "\n",
    "longestCommonPrefix(strs)"
   ]
  },
  {
   "cell_type": "markdown",
   "id": "4d467c38",
   "metadata": {},
   "source": [
    "## 44. Valid Number"
   ]
  },
  {
   "cell_type": "code",
   "execution_count": 234,
   "id": "9ea02b78",
   "metadata": {},
   "outputs": [],
   "source": [
    "# DFA method\n",
    "# time --> O(n)\n",
    "# space --> O(1)\n",
    "def isNumber(s: str) -> bool:\n",
    "        # Define the states and valid transitions\n",
    "        dfa = {\n",
    "            0: {\"sign\": 1, \"digit\": 2, \"dot\": 3},      # Start\n",
    "            1: {\"digit\": 2, \"dot\": 3},                 # Sign\n",
    "            2: {\"digit\": 2, \"dot\": 4, \"exp\": 5},       # Integer\n",
    "            3: {\"digit\": 4},                           # Decimal without leading digits\n",
    "            4: {\"digit\": 4, \"exp\": 5},                 # Decimal with digits\n",
    "            5: {\"sign\": 6, \"digit\": 7},                # Exponent\n",
    "            6: {\"digit\": 7},                           # Exponent Sign\n",
    "            7: {\"digit\": 7},                           # Exponent Digits\n",
    "        }\n",
    "        \n",
    "        # Initial state\n",
    "        state = 0\n",
    "\n",
    "        # Character type mapping\n",
    "        def char_type(ch):\n",
    "            if ch in \"+-\":\n",
    "                return \"sign\"\n",
    "            if ch.isdigit():\n",
    "                return \"digit\"\n",
    "            if ch == \".\":\n",
    "                return \"dot\"\n",
    "            if ch in \"eE\":\n",
    "                return \"exp\"\n",
    "            return None\n",
    "\n",
    "        # Process the input string\n",
    "        for char in s.strip():\n",
    "            char_class = char_type(char)\n",
    "            if char_class not in dfa[state]:\n",
    "                return False\n",
    "            state = dfa[state][char_class]\n",
    "\n",
    "        # Valid end states\n",
    "        return state in {2, 4, 7}\n",
    "        "
   ]
  },
  {
   "cell_type": "code",
   "execution_count": 239,
   "id": "a4fb9a8b",
   "metadata": {},
   "outputs": [
    {
     "data": {
      "text/plain": [
       "True"
      ]
     },
     "execution_count": 239,
     "metadata": {},
     "output_type": "execute_result"
    }
   ],
   "source": [
    "isNumber(\"3.14e+10\")"
   ]
  },
  {
   "cell_type": "code",
   "execution_count": 237,
   "id": "6ae8a7f0",
   "metadata": {},
   "outputs": [],
   "source": [
    "# regex\n",
    "# time --> O(n)\n",
    "# space --> O(1)\n",
    "\n",
    "import re\n",
    "\n",
    "def isNumber(s: str) -> bool:\n",
    "    # Regular expression to validate the number\n",
    "    pattern = re.compile(r\"\"\"\n",
    "        ^                   # Start of string\n",
    "        [+-]?               # Optional sign\n",
    "        (                   # Start of main number\n",
    "            (\\d+\\.\\d*) |    # Case 1: Digits followed by a dot and optional digits\n",
    "            (\\.\\d+) |       # Case 2: Dot followed by digits\n",
    "            (\\d+)           # Case 3: Only digits\n",
    "        )                   # End of main number\n",
    "        (                   # Optional exponent\n",
    "            [eE][+-]?\\d+    # Exponent with optional sign and digits\n",
    "        )?                  # Exponent is optional\n",
    "        $                   # End of string\n",
    "    \"\"\", re.VERBOSE)\n",
    "\n",
    "    return bool(pattern.match(s))\n"
   ]
  },
  {
   "cell_type": "code",
   "execution_count": 241,
   "id": "a6e2b14f",
   "metadata": {},
   "outputs": [
    {
     "data": {
      "text/plain": [
       "True"
      ]
     },
     "execution_count": 241,
     "metadata": {},
     "output_type": "execute_result"
    }
   ],
   "source": [
    "isNumber(\"3.14e+10\")"
   ]
  },
  {
   "cell_type": "markdown",
   "id": "b44f9220",
   "metadata": {},
   "source": [
    "## 45. Best time to buy and sell stocks"
   ]
  },
  {
   "cell_type": "code",
   "execution_count": 242,
   "id": "04d3e6d0",
   "metadata": {},
   "outputs": [],
   "source": [
    "## Brute force\n",
    "# time --> O(n^2)\n",
    "# space --> O(n)\n",
    "def maxProfit(prices):\n",
    "    max_profit = 0\n",
    "    \n",
    "    for i in range(len(prices) - 1):\n",
    "        for j in range(i, len(prices)):\n",
    "            profit = prices[j] - prices[i]\n",
    "            max_profit = max(profit, max_profit)\n",
    "    return max_profit\n"
   ]
  },
  {
   "cell_type": "code",
   "execution_count": 243,
   "id": "11e3957d",
   "metadata": {},
   "outputs": [
    {
     "data": {
      "text/plain": [
       "5"
      ]
     },
     "execution_count": 243,
     "metadata": {},
     "output_type": "execute_result"
    }
   ],
   "source": [
    "prices = [7,1,5,3,6,4]\n",
    "maxProfit(prices)"
   ]
  },
  {
   "cell_type": "code",
   "execution_count": 244,
   "id": "5b9be571",
   "metadata": {},
   "outputs": [
    {
     "data": {
      "text/plain": [
       "0"
      ]
     },
     "execution_count": 244,
     "metadata": {},
     "output_type": "execute_result"
    }
   ],
   "source": [
    "prices = [7,6,4,3,1]\n",
    "maxProfit(prices)"
   ]
  },
  {
   "cell_type": "code",
   "execution_count": 245,
   "id": "7c51976e",
   "metadata": {},
   "outputs": [],
   "source": [
    "# time --> O(n)\n",
    "# space --> O(1)\n",
    "def maxProfit(prices):\n",
    "    minPrice = float(\"inf\")\n",
    "    maxProfit = 0\n",
    "    \n",
    "    for i in range(len(prices)):\n",
    "        if prices[i] < minPrice:\n",
    "            minPrice = prices[i]\n",
    "        \n",
    "        if prices[i] - minPrice > maxProfit:\n",
    "            maxProfit = prices[i] - minPrice\n",
    "    return maxProfit"
   ]
  },
  {
   "cell_type": "code",
   "execution_count": 246,
   "id": "55320801",
   "metadata": {},
   "outputs": [
    {
     "data": {
      "text/plain": [
       "5"
      ]
     },
     "execution_count": 246,
     "metadata": {},
     "output_type": "execute_result"
    }
   ],
   "source": [
    "prices = [7,1,5,3,6,4]\n",
    "maxProfit(prices)"
   ]
  },
  {
   "cell_type": "markdown",
   "id": "ec7e967f",
   "metadata": {},
   "source": [
    "## 46. Copy list with random pointers"
   ]
  },
  {
   "cell_type": "code",
   "execution_count": 247,
   "id": "5ba6bf08",
   "metadata": {},
   "outputs": [],
   "source": [
    "# time --> O(n)\n",
    "# space --> O(n)\n",
    "\n",
    "class Solution:\n",
    "    def __init__(self):\n",
    "        self.visitedHash = {}\n",
    "    def copyRandomList(self, head):\n",
    "        if not head:\n",
    "            return None\n",
    "        \n",
    "        if head in self.visitedHash:\n",
    "            return self.visitedHash[head]\n",
    "        \n",
    "        node = Node(head.val, 0, 0)\n",
    "        \n",
    "        self.visitedHash[head] = node\n",
    "        \n",
    "        node.next = self.copyRandomList(head.next)\n",
    "        node.random = self.copyRandomList(head.random)\n",
    "        \n",
    "        return node"
   ]
  },
  {
   "cell_type": "markdown",
   "id": "485d2a52",
   "metadata": {},
   "source": [
    "## 47. Maximum Swap\n",
    "\n",
    "You are given an integer num. You can swap two digits at most once to get the maximum valued number.\n",
    "\n",
    "Return the maximum valued number you can get.\n",
    "\n",
    " \n",
    "\n",
    "Example 1:\n",
    "\n",
    "Input: num = 2736\n",
    "Output: 7236\n",
    "Explanation: Swap the number 2 and the number 7.\n"
   ]
  },
  {
   "cell_type": "code",
   "execution_count": 258,
   "id": "bd5d391b",
   "metadata": {},
   "outputs": [],
   "source": [
    "# Time --> O(n)\n",
    "# space --> O(n)\n",
    "\n",
    "def maximumSwap(num:int):\n",
    "    digits = list(str(num))\n",
    "    \n",
    "    rightmost = {int(d): i for i, d in enumerate(digits)}\n",
    "    \n",
    "    for i, d in enumerate(digits):\n",
    "        for larger_digit in range(9, int(d), -1):\n",
    "            if rightmost.get(larger_digit, -1) > i:\n",
    "                digits[i], digits[rightmost[larger_digit]] = digits[rightmost[larger_digit]], digits[i]\n",
    "                return int(\"\".join(digits))\n",
    "    \n",
    "    # if no digit could be swapped\n",
    "    return num"
   ]
  },
  {
   "cell_type": "code",
   "execution_count": 260,
   "id": "4b3c8505",
   "metadata": {},
   "outputs": [
    {
     "data": {
      "text/plain": [
       "9732"
      ]
     },
     "execution_count": 260,
     "metadata": {},
     "output_type": "execute_result"
    }
   ],
   "source": [
    "num = 2739\n",
    "maximumSwap(num)"
   ]
  },
  {
   "cell_type": "markdown",
   "id": "edc1e215",
   "metadata": {},
   "source": [
    "## 48. Accounts merge"
   ]
  },
  {
   "cell_type": "code",
   "execution_count": 24,
   "id": "c5a287be",
   "metadata": {},
   "outputs": [],
   "source": [
    "from collections import defaultdict\n",
    "# time --> O(NKlogNK) (N: Number of accounts, K: maximum length of an account)\n",
    "# space --> O(NK)\n",
    "def accountsMerge(accounts):\n",
    "    visited = [False] * len(accounts)\n",
    "    email_accounts_map = defaultdict(list)\n",
    "    result = []\n",
    "    \n",
    "    for i, account in enumerate(accounts):\n",
    "        for j in range(1, len(account)):\n",
    "            email = account[j]\n",
    "            email_accounts_map[email].append(i)\n",
    "            \n",
    "    def dfs(i, emails):\n",
    "        if visited[i]:\n",
    "            return\n",
    "        \n",
    "        visited[i] = True\n",
    "        \n",
    "        for j in range(1, len(accounts[i])):\n",
    "            email = accounts[i][j]\n",
    "            emails.add(email)\n",
    "            for neighbors in email_accounts_map[email]:\n",
    "                dfs(neighbors, emails)\n",
    "    \n",
    "    for i, account in enumerate(accounts):\n",
    "        if visited[i]:\n",
    "            continue\n",
    "        name, emails = account[0], set()\n",
    "        dfs(i, emails)\n",
    "        result.append([name] + sorted(emails))\n",
    "    return result"
   ]
  },
  {
   "cell_type": "code",
   "execution_count": 25,
   "id": "829ccfea",
   "metadata": {},
   "outputs": [
    {
     "data": {
      "text/plain": [
       "[['John', 'john00@mail.com', 'john_newyork@mail.com', 'johnsmith@mail.com'],\n",
       " ['Mary', 'mary@mail.com'],\n",
       " ['John', 'johnnybravo@mail.com']]"
      ]
     },
     "execution_count": 25,
     "metadata": {},
     "output_type": "execute_result"
    }
   ],
   "source": [
    "accounts = [[\"John\",\"johnsmith@mail.com\",\"john_newyork@mail.com\"],[\"John\",\"johnsmith@mail.com\",\"john00@mail.com\"],\n",
    "            [\"Mary\",\"mary@mail.com\"],[\"John\",\"johnnybravo@mail.com\"]]\n",
    "\n",
    "accountsMerge(accounts)"
   ]
  },
  {
   "cell_type": "markdown",
   "id": "eae2b7cf",
   "metadata": {},
   "source": [
    "## 49. Insert into a sorted circular Linked List\n",
    "\n",
    "Now, the tricky part of this problem is to sort out different cases that our algorithm should deal with within the loop, and then design a concise logic to handle them sound and properly. Here we break it down into three general cases.\n",
    "\n",
    "* Case 1). The value of new node sits between the minimal and maximal values of the current list. As a result, it should be inserted within the list.\n",
    "\n",
    "* Case 2). The value of new node goes beyond the minimal and maximal values of the current list, either less than the minimal value or greater than the maximal value. In either case, the new node should be added right after the tail node (i.e. the node with the maximal value of the list).\n",
    "\n",
    "* Case 3). Finally, there is one case that does not fall into any of the above two cases. This is the case where the list contains uniform values."
   ]
  },
  {
   "cell_type": "code",
   "execution_count": 27,
   "id": "d7770e8c",
   "metadata": {},
   "outputs": [],
   "source": [
    "# time --> O(n)\n",
    "# space --> O(1)\n",
    "\n",
    "def insert(head, insertVal):\n",
    "\n",
    "    if head == None:\n",
    "        newNode = Node(insertVal, None)\n",
    "        newNode.next = newNode\n",
    "        return newNode\n",
    "\n",
    "    prev, curr = head, head.next\n",
    "    toInsert = False\n",
    "\n",
    "    while True:\n",
    "\n",
    "        if prev.val <= insertVal <= curr.val:\n",
    "            # Case #1.\n",
    "            toInsert = True\n",
    "        elif prev.val > curr.val:\n",
    "            # Case #2. where we locate the tail element\n",
    "            # 'prev' points to the tail, i.e. the largest element!\n",
    "            if insertVal >= prev.val or insertVal <= curr.val:\n",
    "                toInsert = True\n",
    "\n",
    "        if toInsert:\n",
    "            prev.next = Node(insertVal, curr)\n",
    "            # mission accomplished\n",
    "            return head\n",
    "\n",
    "        prev, curr = curr, curr.next\n",
    "        # loop condition\n",
    "        if prev == head:\n",
    "            break\n",
    "    # Case #3.\n",
    "    # did not insert the node in the loop\n",
    "    prev.next = Node(insertVal, curr)\n",
    "    return head"
   ]
  },
  {
   "cell_type": "markdown",
   "id": "ef0abb52",
   "metadata": {},
   "source": [
    "## 50. Minimum Number of Operations to Move All Balls to Each Box"
   ]
  },
  {
   "cell_type": "code",
   "execution_count": 34,
   "id": "97b57420",
   "metadata": {},
   "outputs": [],
   "source": [
    "# time --> O(n)\n",
    "# space --> O(n)\n",
    "def minOperations(boxes):\n",
    "    n = len(boxes)\n",
    "    answer = [0]*n\n",
    "    \n",
    "    operations = 0\n",
    "    balls = 0\n",
    "    \n",
    "    for i in range(n):\n",
    "        answer[i] += operations\n",
    "        balls += int(boxes[i])\n",
    "        operations += balls\n",
    "    \n",
    "    operations = 0\n",
    "    balls = 0\n",
    "    for i in range(n-1, -1, -1):\n",
    "        answer[i] += operations\n",
    "        balls += int(boxes[i])\n",
    "        operations += balls\n",
    "        \n",
    "    return answer"
   ]
  },
  {
   "cell_type": "code",
   "execution_count": 35,
   "id": "e1aee0aa",
   "metadata": {},
   "outputs": [
    {
     "data": {
      "text/plain": [
       "[11, 8, 5, 4, 3, 4]"
      ]
     },
     "execution_count": 35,
     "metadata": {},
     "output_type": "execute_result"
    }
   ],
   "source": [
    "boxes = \"001011\"\n",
    "minOperations(boxes)"
   ]
  },
  {
   "cell_type": "markdown",
   "id": "c7083ba0",
   "metadata": {},
   "source": [
    "## 51. Add Strings\n",
    "\n",
    "Facebook interviewers like this question and propose it in four main variations. The choice of algorithm should be based on the input format:\n",
    "\n",
    "1. Strings (the current problem).\n",
    "\n",
    "Use schoolbook digit-by-digit addition. Note, that to fit into constant space is not possible for languages with immutable strings, for example, for Java and Python. Here are two examples:\n",
    "\n",
    "  * Add Binary: sum two binary strings. (https://leetcode.com/articles/add-binary/)\n",
    "\n",
    "  * Add Strings: sum two non-negative numbers in a string representation without converting them to integers directly. (https://leetcode.com/problems/add-strings/)\n",
    "\n",
    "2. Integers.\n",
    "\n",
    "Usually, the interviewer would ask you to implement a sum without using + and - operators. Use the bit manipulation approach. Here is an example:\n",
    "\n",
    "  * Sum of Two Integers: Sum two integers without using + and - operators. (https://leetcode.com/articles/sum-of-two-integers/)\n",
    "  \n",
    "3. Arrays.\n",
    "The same textbook addition. Here is an example:\n",
    "\n",
    "  * Add to Array Form of Integer. (https://leetcode.com/articles/add-to-array-form-of-integer/)\n",
    "\n",
    "4. Linked Lists.\n",
    "Sentinel Head + Textbook Addition. Here are some examples:\n",
    "\n",
    "  * Plus One. (https://leetcode.com/articles/plus-one/)\n",
    "\n",
    "  * Add Two Numbers. (https://leetcode.com/articles/add-two-numbers/)\n",
    "\n",
    "  * Add Two Numbers II. (https://leetcode.com/problems/add-two-numbers-ii/)"
   ]
  },
  {
   "cell_type": "code",
   "execution_count": 43,
   "id": "3a6be415",
   "metadata": {},
   "outputs": [],
   "source": [
    "def addStrings(num1, num2):\n",
    "    result = []\n",
    "    carry = 0\n",
    "    \n",
    "    p1 = len(num1) - 1\n",
    "    p2 = len(num2) - 1\n",
    "    \n",
    "    while p1 >= 0 or p2 >= 0:\n",
    "        x1 = ord(num1[p1]) - ord('0') if p1 >= 0 else 0\n",
    "        x2 = ord(num2[p2]) - ord('0') if p2 >= 0 else 0\n",
    "        \n",
    "        value = (x1 + x2 + carry) % 10\n",
    "        carry = (x1 + x2 + carry) // 10\n",
    "        \n",
    "        result.append(value)\n",
    "        \n",
    "        p1 -= 1\n",
    "        p2 -= 1\n",
    "        \n",
    "    if carry:\n",
    "        result.append(carry)\n",
    "        \n",
    "    return ''.join(str(x) for x in result[::-1])"
   ]
  },
  {
   "cell_type": "code",
   "execution_count": 44,
   "id": "9917073b",
   "metadata": {},
   "outputs": [
    {
     "data": {
      "text/plain": [
       "'134'"
      ]
     },
     "execution_count": 44,
     "metadata": {},
     "output_type": "execute_result"
    }
   ],
   "source": [
    "num1 = \"11\"\n",
    "num2 = \"123\"\n",
    "\n",
    "addStrings(num1, num2)"
   ]
  },
  {
   "cell_type": "markdown",
   "id": "48f94087",
   "metadata": {},
   "source": [
    "## 52. Vertical Order traversal of a binary tree\n",
    "\n",
    "The difference between this and Question 6 is that in question 6, we could have unsorted arrays in the sub arrays themselves. But here, those also needs to be sorted"
   ]
  },
  {
   "cell_type": "code",
   "execution_count": 45,
   "id": "4abc0ff1",
   "metadata": {},
   "outputs": [],
   "source": [
    "from collections import defaultdict\n",
    "\n",
    "# time --> O(n + mklogk) (n: number of nodes in the tree, k: number of nodes in the column, m is the number of columns)\n",
    "# space --> O(n)\n",
    "def verticalTraversal(root):\n",
    "    if not root:\n",
    "        return []\n",
    "    \n",
    "    columnTable = defaultdict(list)\n",
    "    queue = [[root, 0, 0]]\n",
    "    minCol = 0\n",
    "    maxCol = 0\n",
    "    \n",
    "    while queue:\n",
    "        currNode, currCol, currRow = queue.pop(0)\n",
    "        \n",
    "        if currNode:\n",
    "            columnTable[currCol].append((currRow, currNode.val))\n",
    "            minCol = min(minCol, currCol)\n",
    "            maxCol = max(maxCol, currCol)\n",
    "            \n",
    "            queue.append((currNode.left, currCol - 1, currRow + 1))\n",
    "            queue.append((currNode.right, currCol + 1, currRow + 1))\n",
    "            \n",
    "    \n",
    "    sortedResult = []\n",
    "    \n",
    "    for col in range(minCol, maxCol + 1):\n",
    "        sortedColumn = sorted(columnTable[col], key=lambda x: (x[0], x[1]))\n",
    "        sortedResult.append([val for _, val in sortedColumn])\n",
    "        \n",
    "    return sortedResult"
   ]
  },
  {
   "cell_type": "code",
   "execution_count": 46,
   "id": "c81385e5",
   "metadata": {},
   "outputs": [
    {
     "data": {
      "text/plain": [
       "[[1], [4], [9, 6, 15], [20], [170]]"
      ]
     },
     "execution_count": 46,
     "metadata": {},
     "output_type": "execute_result"
    }
   ],
   "source": [
    "verticalTraversal(root)"
   ]
  },
  {
   "cell_type": "markdown",
   "id": "22dcc6d7",
   "metadata": {},
   "source": [
    "## 53. Continuous Subarray sum\n",
    "\n",
    "Given an integer array nums and an integer k, return true if nums has a good subarray or false otherwise.\n",
    "\n",
    "A good subarray is a subarray where:\n",
    "\n",
    "* its length is at least two, and\n",
    "* the sum of the elements of the subarray is a multiple of k.\n",
    "\n",
    "Note that:\n",
    "\n",
    "* A subarray is a contiguous part of the array.\n",
    "* An integer x is a multiple of k if there exists an integer n such that x = n * k. 0 is always a multiple of k.\n",
    "\n",
    "Example 1:\n",
    "\n",
    "Input: nums = [23,2,4,6,7], k = 6\n",
    "Output: true\n",
    "Explanation: [2, 4] is a continuous subarray of size 2 whose elements sum up to 6.\n",
    "\n",
    "\n",
    "Example 2:\n",
    "\n",
    "Input: nums = [23,2,6,4,7], k = 6\n",
    "Output: true\n",
    "Explanation: [23, 2, 6, 4, 7] is an continuous subarray of size 5 whose elements sum up to 42.\n",
    "42 is a multiple of 6 because 42 = 7 * 6 and 7 is an integer.\n",
    "\n",
    "### Explanations\n",
    "\n",
    "### Step-by-Step Approach for Checking Subarray Sum Divisible by \\(k\\)\n",
    "\n",
    "#### 1. Clarify the Problem\n",
    "- The goal is to determine whether the input array `nums` contains a **contiguous subarray** of length at least 2 whose sum is divisible by \\(k\\).\n",
    "- Key points:\n",
    "  - The subarray sum is divisible by \\(k\\) if:\n",
    "    \\[\n",
    "    \\text{(prefix sum)} \\% k = 0\n",
    "    \\]\n",
    "  - A remainder seen earlier indicates that a subarray with the required property exists between the previous occurrence and the current index.\n",
    "- Ask clarifying questions:\n",
    "  - What should be returned if \\(k = 0\\)? (Usually undefined, but it can be clarified.)\n",
    "  - Can the array contain negative numbers? (Yes, modulo works for negatives in Python.)\n",
    "\n",
    "---\n",
    "\n",
    "#### 2. Plan the Approach\n",
    "\n",
    "We solve this using a **prefix sum modulo** approach:\n",
    "1. **Prefix Sum with Modulo**:\n",
    "   - Compute the cumulative sum (`prefix_mod`) modulo \\(k\\) at each index. If the same modulo is seen twice, it indicates a subarray sum divisible by \\(k\\) exists between those indices.\n",
    "\n",
    "2. **Hash Map for Efficient Lookup**:\n",
    "   - Use a dictionary `mod_seen` to store the first index where each remainder (modulo \\(k\\)) was seen.\n",
    "   - Initialize `mod_seen` with `{0: -1}` to handle cases where a valid subarray starts at index 0.\n",
    "\n",
    "3. **Check Subarray Length**:\n",
    "   - When the current remainder is found in `mod_seen`, ensure that the subarray length is at least 2.\n",
    "\n",
    "---\n",
    "\n",
    "#### 3. Complexity Analysis\n",
    "\n",
    "- **Time Complexity**:\n",
    "  - \\(O(n)\\): Each element is processed once, and dictionary operations are \\(O(1)\\) on average.\n",
    "- **Space Complexity**:\n",
    "  - \\(O(n)\\): Space is required to store the `mod_seen` dictionary.\n",
    "\n",
    "---\n",
    "\n"
   ]
  },
  {
   "cell_type": "code",
   "execution_count": 15,
   "id": "c58efd22",
   "metadata": {},
   "outputs": [],
   "source": [
    "# time --> O(n)\n",
    "# space --> O(n)\n",
    "\n",
    "def checkSubarraySum(nums, k):\n",
    "    prefix_mod = 0\n",
    "    mod_seen = {0:-1}\n",
    "    \n",
    "    for i in range(len(nums)):\n",
    "        prefix_mod = (prefix_mod + nums[i]) % k\n",
    "        #print(prefix_mod, mod_seen)\n",
    "        if prefix_mod in mod_seen:\n",
    "            if (i - mod_seen[prefix_mod]) > 1:\n",
    "                return True\n",
    "        else:\n",
    "            mod_seen[prefix_mod] = i\n",
    "    return False"
   ]
  },
  {
   "cell_type": "code",
   "execution_count": 16,
   "id": "33bff92f",
   "metadata": {},
   "outputs": [
    {
     "data": {
      "text/plain": [
       "True"
      ]
     },
     "execution_count": 16,
     "metadata": {},
     "output_type": "execute_result"
    }
   ],
   "source": [
    "#prefix_mod = 0, mod_seen = {0:-1}\n",
    "#prefix_mod = 5, mod_seen = {0:-1, 5:0, }\n",
    "#prefix_mod = 1, mod_seen = {0:-1, 5:0, 1:1}\n",
    "#prefix_mod = 5, it is in mod_seen. i = 2 and mod_seen[prefix_mod] = 0. So i - mod_seen[prefix_mod] = 2 (>1)\n",
    "#So, True\n",
    "nums = [23,2,4,6,7]\n",
    "k = 6\n",
    "\n",
    "checkSubarraySum(nums, k)"
   ]
  },
  {
   "cell_type": "code",
   "execution_count": 17,
   "id": "325559fb",
   "metadata": {},
   "outputs": [
    {
     "data": {
      "text/plain": [
       "False"
      ]
     },
     "execution_count": 17,
     "metadata": {},
     "output_type": "execute_result"
    }
   ],
   "source": [
    "nums = [-23,2,6,4,7]\n",
    "k = 16\n",
    "checkSubarraySum(nums, k)"
   ]
  },
  {
   "cell_type": "markdown",
   "id": "85f52aa3",
   "metadata": {},
   "source": [
    "## 54. Min Stack"
   ]
  },
  {
   "cell_type": "code",
   "execution_count": 18,
   "id": "ac10ed9e",
   "metadata": {},
   "outputs": [],
   "source": [
    "# time --> O(1) for all\n",
    "# space --> O(n) (Worst case is that all the operations are push)\n",
    "class MinStack:\n",
    "    def __init__(self):\n",
    "        self.min_stack = []\n",
    "        self.stack = []\n",
    "        \n",
    "    def push(self, val):\n",
    "        self.stack.append(val)\n",
    "        \n",
    "        if not self.min_stack or val <= self.min_stack[-1]:\n",
    "            self.min_stack.append(val)\n",
    "            \n",
    "    def pop(self):\n",
    "        if self.min_stack[-1] == self.stack[-1]:\n",
    "            self.min_stack.pop()\n",
    "        self.stack.pop()\n",
    "        \n",
    "    def top(self):\n",
    "        return self.stack[-1]\n",
    "    \n",
    "    def getMin(self):\n",
    "        return self.min_stack[-1]"
   ]
  },
  {
   "cell_type": "code",
   "execution_count": 21,
   "id": "0c76d966",
   "metadata": {},
   "outputs": [
    {
     "name": "stdout",
     "output_type": "stream",
     "text": [
      "-3\n",
      "0\n",
      "-2\n"
     ]
    }
   ],
   "source": [
    "minStack = MinStack()\n",
    "minStack.push(-2)\n",
    "minStack.push(0)\n",
    "minStack.push(-3)\n",
    "print(minStack.getMin())\n",
    "minStack.pop()\n",
    "print(minStack.top())\n",
    "print(minStack.getMin())"
   ]
  },
  {
   "cell_type": "markdown",
   "id": "10224eb2",
   "metadata": {},
   "source": [
    "## 55. Unique Length-3 Palindromic Subsequences\n",
    "\n",
    "There is only one possible form a palindrome with length 3 can take. The first and last character must be the same, and the character in the middle can be anything (including the same character as the first/last character)."
   ]
  },
  {
   "cell_type": "code",
   "execution_count": 40,
   "id": "8315f30c",
   "metadata": {},
   "outputs": [],
   "source": [
    "# time --> O(n)\n",
    "# space --> O(1)\n",
    "def countPalindromicSubsequence(s):\n",
    "    answer = 0\n",
    "    letters = set(s)\n",
    "    \n",
    "    for letter in letters:\n",
    "        i, j = s.index(letter), s.rindex(letter)\n",
    "        print(i, j)\n",
    "        between = set()\n",
    "        \n",
    "        for k in range(i + 1, j):\n",
    "            between.add(s[k])\n",
    "        print(between)\n",
    "        answer += len(between)\n",
    "        \n",
    "    return answer"
   ]
  },
  {
   "cell_type": "code",
   "execution_count": 41,
   "id": "2963e135",
   "metadata": {},
   "outputs": [
    {
     "name": "stdout",
     "output_type": "stream",
     "text": [
      "2 2\n",
      "set()\n",
      "0 5\n",
      "{'c', 'b', 'a'}\n",
      "4 6\n",
      "{'b'}\n"
     ]
    },
    {
     "data": {
      "text/plain": [
       "4"
      ]
     },
     "execution_count": 41,
     "metadata": {},
     "output_type": "execute_result"
    }
   ],
   "source": [
    "s = \"bbcbaba\"\n",
    "countPalindromicSubsequence(s)"
   ]
  },
  {
   "cell_type": "code",
   "execution_count": 42,
   "id": "299cd4ca",
   "metadata": {},
   "outputs": [
    {
     "name": "stdout",
     "output_type": "stream",
     "text": [
      "3 3\n",
      "set()\n",
      "2 2\n",
      "set()\n",
      "0 4\n",
      "{'c', 'b', 'a'}\n"
     ]
    },
    {
     "data": {
      "text/plain": [
       "3"
      ]
     },
     "execution_count": 42,
     "metadata": {},
     "output_type": "execute_result"
    }
   ],
   "source": [
    "s = \"aabca\"\n",
    "countPalindromicSubsequence(s)"
   ]
  },
  {
   "cell_type": "markdown",
   "id": "32681fc2",
   "metadata": {},
   "source": [
    "## 56. Maximum score after splitting a string\n",
    "\n",
    "Given a string s of zeros and ones, return the maximum score after splitting the string into two non-empty substrings (i.e. left substring and right substring).\n",
    "\n",
    "The score after splitting a string is the number of zeros in the left substring plus the number of ones in the right substring.\n",
    "\n",
    " \n",
    "\n",
    "Example 1:\n",
    "\n",
    "Input: s = \"011101\"\n",
    "\n",
    "Output: 5 \n",
    "\n",
    "Explanation: \n",
    "\n",
    "All possible ways of splitting s into two non-empty substrings are:\n",
    "\n",
    "left = \"0\" and right = \"11101\", score = 1 + 4 = 5 \n",
    "\n",
    "left = \"01\" and right = \"1101\", score = 1 + 3 = 4 \n",
    "\n",
    "left = \"011\" and right = \"101\", score = 1 + 2 = 3 \n",
    "\n",
    "left = \"0111\" and right = \"01\", score = 1 + 1 = 2 \n",
    "\n",
    "left = \"01110\" and right = \"1\", score = 2 + 1 = 3\n",
    "\n",
    "### Brute force\n",
    "\n",
    "For a given i, we iterate on the indices of s from 0 to i and count how many times 0 occurs. We then iterate on the indices from i + 1 until the last index and count how many times 1 occurs. The sum of these counts represents the score for the current split, and we take the maximum of all scores.\n",
    "\n",
    "\n"
   ]
  },
  {
   "cell_type": "code",
   "execution_count": 45,
   "id": "4491c30f",
   "metadata": {},
   "outputs": [],
   "source": [
    "# time --> O(n) (but two passes, one for s.count and one for loop)\n",
    "# space --> O(1)\n",
    "def maxScore(s):\n",
    "    ones = s.count(\"1\")\n",
    "    ans = 0\n",
    "    zeros = 0\n",
    "    \n",
    "    for i in range(len(s) - 1):\n",
    "        if s[i] == '1':\n",
    "            ones -= 1\n",
    "        else:\n",
    "            zeros += 1\n",
    "        \n",
    "        ans = max(ans, zeros + ones)\n",
    "    \n",
    "    return ans"
   ]
  },
  {
   "cell_type": "code",
   "execution_count": 46,
   "id": "b1f25410",
   "metadata": {},
   "outputs": [
    {
     "data": {
      "text/plain": [
       "5"
      ]
     },
     "execution_count": 46,
     "metadata": {},
     "output_type": "execute_result"
    }
   ],
   "source": [
    "s = \"011101\"\n",
    "maxScore(s)"
   ]
  },
  {
   "cell_type": "code",
   "execution_count": null,
   "id": "e66e60f7",
   "metadata": {},
   "outputs": [],
   "source": []
  },
  {
   "cell_type": "code",
   "execution_count": 49,
   "id": "d32afc4a",
   "metadata": {},
   "outputs": [],
   "source": [
    "# one pass\n",
    "# time --> O(n) (one pass)\n",
    "# space --> O(1)\n",
    "def maxScore(s):\n",
    "    ones = 0\n",
    "    zeros = 0\n",
    "    best = float('-inf')\n",
    "    \n",
    "    for i in range(len(s) - 1):\n",
    "        if s[i] == '1':\n",
    "            ones += 1\n",
    "        else:\n",
    "            zeros += 1\n",
    "            \n",
    "        best = max(best, zeros - ones)\n",
    "        \n",
    "    if s[-1] == \"1\":\n",
    "        ones += 1\n",
    "    \n",
    "    return best + ones"
   ]
  },
  {
   "cell_type": "code",
   "execution_count": 50,
   "id": "04f33356",
   "metadata": {},
   "outputs": [
    {
     "data": {
      "text/plain": [
       "5"
      ]
     },
     "execution_count": 50,
     "metadata": {},
     "output_type": "execute_result"
    }
   ],
   "source": [
    "s = \"011101\"\n",
    "maxScore(s)"
   ]
  },
  {
   "cell_type": "markdown",
   "id": "9ef63394",
   "metadata": {},
   "source": [
    "## 57. Search in rotated sorted array II\n",
    "\n",
    "There is an integer array nums sorted in non-decreasing order (not necessarily with distinct values).\n",
    "\n",
    "Before being passed to your function, nums is rotated at an unknown pivot index k (0 <= k < nums.length) such that the resulting array is [nums[k], nums[k+1], ..., nums[n-1], nums[0], nums[1], ..., nums[k-1]] (0-indexed). For example, [0,1,2,4,4,4,5,6,6,7] might be rotated at pivot index 5 and become [4,5,6,6,7,0,1,2,4,4].\n",
    "\n",
    "Given the array nums after the rotation and an integer target, return true if target is in nums, or false if it is not in nums.\n",
    "\n",
    "You must decrease the overall operation steps as much as possible.\n",
    "\n",
    " \n",
    "\n",
    "Example 1:\n",
    "\n",
    "Input: nums = [2,5,6,0,0,1,2], target = 0\n",
    "Output: true\n",
    "Example 2:\n",
    "\n",
    "Input: nums = [2,5,6,0,0,1,2], target = 3\n",
    "Output: false\n",
    " "
   ]
  },
  {
   "cell_type": "code",
   "execution_count": 51,
   "id": "9ec68fb8",
   "metadata": {},
   "outputs": [],
   "source": [
    "# Time --> O(logn) (worst case O(N))\n",
    "# space --> O(1)\n",
    "\n",
    "def search(nums, target):\n",
    "    left, right = 0, len(nums) - 1\n",
    "\n",
    "    while left <= right:\n",
    "        mid = (left + right) // 2\n",
    "\n",
    "        # If target is found\n",
    "        if nums[mid] == target:\n",
    "            return True\n",
    "\n",
    "        # Handle duplicates\n",
    "        if nums[left] == nums[mid] == nums[right]:\n",
    "            left += 1\n",
    "            right -= 1\n",
    "        # Left side is sorted\n",
    "        elif nums[left] <= nums[mid]:\n",
    "            if nums[left] <= target < nums[mid]:  # Target is in the sorted left side\n",
    "                right = mid - 1\n",
    "            else:  # Target is in the rotated right side\n",
    "                left = mid + 1\n",
    "        # Right side is sorted\n",
    "        else:\n",
    "            if nums[mid] < target <= nums[right]:  # Target is in the sorted right side\n",
    "                left = mid + 1\n",
    "            else:  # Target is in the rotated left side\n",
    "                right = mid - 1\n",
    "\n",
    "    return False\n"
   ]
  },
  {
   "cell_type": "code",
   "execution_count": 56,
   "id": "e570cbba",
   "metadata": {},
   "outputs": [
    {
     "data": {
      "text/plain": [
       "True"
      ]
     },
     "execution_count": 56,
     "metadata": {},
     "output_type": "execute_result"
    }
   ],
   "source": [
    "nums = [2,5,6,0,1,2]\n",
    "target = 0\n",
    "search(nums, target)"
   ]
  },
  {
   "cell_type": "code",
   "execution_count": 53,
   "id": "702a04f5",
   "metadata": {},
   "outputs": [
    {
     "data": {
      "text/plain": [
       "False"
      ]
     },
     "execution_count": 53,
     "metadata": {},
     "output_type": "execute_result"
    }
   ],
   "source": [
    "nums = [2,5,6,0,0,1,2]\n",
    "target = 3\n",
    "search(nums, target)"
   ]
  },
  {
   "cell_type": "markdown",
   "id": "10bf21a5",
   "metadata": {},
   "source": [
    "## 58. 3 Sum\n",
    "\n",
    "Given an integer array nums, return all the triplets [nums[i], nums[j], nums[k]] such that i != j, i != k, and j != k, and nums[i] + nums[j] + nums[k] == 0.\n",
    "\n",
    "Notice that the solution set must not contain duplicate triplets.\n",
    "\n",
    " "
   ]
  },
  {
   "cell_type": "code",
   "execution_count": null,
   "id": "6a4ebf42",
   "metadata": {},
   "outputs": [],
   "source": []
  }
 ],
 "metadata": {
  "kernelspec": {
   "display_name": "Python 3 (ipykernel)",
   "language": "python",
   "name": "python3"
  },
  "language_info": {
   "codemirror_mode": {
    "name": "ipython",
    "version": 3
   },
   "file_extension": ".py",
   "mimetype": "text/x-python",
   "name": "python",
   "nbconvert_exporter": "python",
   "pygments_lexer": "ipython3",
   "version": "3.11.4"
  }
 },
 "nbformat": 4,
 "nbformat_minor": 5
}
