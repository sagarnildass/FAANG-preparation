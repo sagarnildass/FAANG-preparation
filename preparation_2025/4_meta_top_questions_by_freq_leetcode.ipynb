{
 "cells": [
  {
   "cell_type": "markdown",
   "id": "7ba6437e",
   "metadata": {},
   "source": [
    "## 1. Almost Valid Palindrome"
   ]
  },
  {
   "cell_type": "markdown",
   "id": "e728e29e",
   "metadata": {},
   "source": [
    "### Step-by-Step Approach for Valid Palindrome with At Most One Deletion\n",
    "\n",
    "#### 1. Clarify the Problem\n",
    "- The goal is to determine whether a given string `s` can be a palindrome by removing at most one character.\n",
    "- A **palindrome** reads the same forwards and backwards.\n",
    "- Ask clarifying questions:\n",
    "  - What is the expected return type? (Boolean: True or False)\n",
    "  - Is the input string guaranteed to contain only lowercase letters?\n",
    "  - What should we return for an empty string or a single-character string?\n",
    "\n",
    "---\n",
    "\n",
    "#### 2. Plan the Approach\n",
    "We use a two-pointer technique to check for palindrome validity with at most one deletion:\n",
    "\n",
    "1. **Initial Check**:\n",
    "   - If the length of `s` is less than or equal to 2, the result is always `True` because such strings can be palindromes with no or one deletion.\n",
    "\n",
    "2. **Two-Pointer Approach**:\n",
    "   - Use two pointers, `left` and `right`, starting at the beginning and end of the string, respectively.\n",
    "   - While `left` is less than `right`:\n",
    "     - If `s[left]` equals `s[right]`, move the pointers inward.\n",
    "     - If `s[left]` does not equal `s[right]`, check if removing either `s[left]` or `s[right]` results in a valid palindrome.\n",
    "\n",
    "3. **Helper Function**:\n",
    "   - Implement a `checkPalindrome` helper function that verifies if a substring is a palindrome, using a similar two-pointer approach.\n",
    "\n",
    "4. **Return Result**:\n",
    "   - If all checks pass, return `True`. Otherwise, return `False`.\n",
    "\n",
    "---\n",
    "\n",
    "#### 3. Complexity Analysis\n",
    "- **Time Complexity**:\n",
    "  - The main loop runs at most O(n), where `n` is the length of the string.\n",
    "  - The `checkPalindrome` helper function also runs at most O(n) in the worst case.\n",
    "  - Total time complexity: O(n).\n",
    "- **Space Complexity**:\n",
    "  - No additional data structures are used, so the space complexity is O(1).\n",
    "\n",
    "---\n",
    "\n",
    "#### 4. Example Walkthrough\n",
    "**Example 1**:\n",
    "- Input: `s = \"abca\"`\n",
    "- Steps:\n",
    "  1. Initial pointers: `left = 0`, `right = 3`.\n",
    "     - `s[left] = 'a'` matches `s[right] = 'a'`.\n",
    "     - Move pointers inward: `left = 1`, `right = 2`.\n",
    "  2. `s[left] = 'b'` does not match `s[right] = 'c'`.\n",
    "     - Check removing one character:\n",
    "       - Check substring `\"bca\"` by removing `s[right]` (`checkPalindrome(s, left + 1, right)`). Result: `False`.\n",
    "       - Check substring `\"abc\"` by removing `s[left]` (`checkPalindrome(s, left, right - 1)`). Result: `True`.\n",
    "  3. Return `True`.\n",
    "\n",
    "**Output**: `True`\n",
    "\n",
    "---\n",
    "\n",
    "**Example 2**:\n",
    "- Input: `s = \"racecar\"`\n",
    "- Steps:\n",
    "  1. Initial pointers: `left = 0`, `right = 6`.\n",
    "     - All characters match as the pointers move inward.\n",
    "  2. The string is already a palindrome.\n",
    "\n",
    "**Output**: `True`\n",
    "\n",
    "---\n",
    "\n",
    "#### 5. Edge Cases\n",
    "1. **Empty String**:\n",
    "   - Input: `s = \"\"`\n",
    "   - Output: `True` (An empty string is trivially a palindrome).\n",
    "2. **Single Character**:\n",
    "   - Input: `s = \"a\"`\n",
    "   - Output: `True` (Single-character strings are always palindromes).\n",
    "3. **Two Characters**:\n",
    "   - Input: `s = \"ab\"`\n",
    "   - Output: `True` (By removing one character, it becomes a palindrome).\n",
    "\n",
    "---\n",
    "\n",
    "#### 6. Wrap-Up\n",
    "- Restate the approach:\n",
    "  - Use a two-pointer technique to verify palindrome validity, with the option to skip one character when encountering a mismatch.\n",
    "- Complexity Recap:\n",
    "  - Time complexity is O(n), and space complexity is O(1).\n",
    "- Ask for feedback or edge cases:\n",
    "  - \"Does this solution handle the requirements? Are there additional scenarios you'd like me to test?\"\n"
   ]
  },
  {
   "cell_type": "code",
   "execution_count": 1,
   "id": "c428bfe3",
   "metadata": {},
   "outputs": [],
   "source": [
    "def almostValid(s):\n",
    "    if len(s) <= 2:\n",
    "        return True\n",
    "    \n",
    "    def checkPalindrome(s, left, right):\n",
    "        while left < right:\n",
    "            if s[left] != s[right]:\n",
    "                return False\n",
    "            left += 1\n",
    "            right -= 1\n",
    "        return True\n",
    "    \n",
    "    left = 0\n",
    "    right = len(s) - 1\n",
    "    \n",
    "    while left < right:\n",
    "        if s[left] != s[right]:\n",
    "            return checkPalindrome(s, left + 1, right) or checkPalindrome(s, left, right - 1)\n",
    "        left += 1\n",
    "        right -= 1\n",
    "    return True"
   ]
  },
  {
   "cell_type": "code",
   "execution_count": 2,
   "id": "556a63c1",
   "metadata": {},
   "outputs": [
    {
     "data": {
      "text/plain": [
       "True"
      ]
     },
     "execution_count": 2,
     "metadata": {},
     "output_type": "execute_result"
    }
   ],
   "source": [
    "almostValid(\"abac\")"
   ]
  },
  {
   "cell_type": "markdown",
   "id": "72889441",
   "metadata": {},
   "source": [
    "## 2. Kth Largest Element"
   ]
  },
  {
   "cell_type": "code",
   "execution_count": 3,
   "id": "02ada7ff",
   "metadata": {},
   "outputs": [],
   "source": [
    "def findKthLargestQuickSort(nums, k):\n",
    "    quickSort(nums, 0, len(nums) - 1)\n",
    "    return nums[-k]\n",
    "\n",
    "def quickSort(nums, left, right):\n",
    "    if left < right:\n",
    "        partitionIndex = partition(nums, left, right)\n",
    "        quickSort(nums, left, partitionIndex - 1)\n",
    "        quickSort(nums, partitionIndex + 1, right)\n",
    "        \n",
    "def partition(nums, left, right):\n",
    "    partitionIndex = left\n",
    "    pivotElement = nums[right]\n",
    "    \n",
    "    for j in range(left, right):\n",
    "        if nums[j] <= pivotElement:\n",
    "            nums[j], nums[partitionIndex] = nums[partitionIndex], nums[j]\n",
    "            partitionIndex += 1\n",
    "    nums[right], nums[partitionIndex] = nums[partitionIndex], nums[right]\n",
    "    return partitionIndex"
   ]
  },
  {
   "cell_type": "code",
   "execution_count": 4,
   "id": "50eb9588",
   "metadata": {},
   "outputs": [
    {
     "data": {
      "text/plain": [
       "6"
      ]
     },
     "execution_count": 4,
     "metadata": {},
     "output_type": "execute_result"
    }
   ],
   "source": [
    "findKthLargestQuickSort([5,6,1,4,8,3],2)"
   ]
  },
  {
   "cell_type": "markdown",
   "id": "cce2e03b",
   "metadata": {},
   "source": [
    "### Step-by-Step Approach for Finding the K-th Largest Element Using QuickSelect\n",
    "\n",
    "#### 1. Clarify the Problem\n",
    "- The goal is to find the K-th largest element in an unsorted array.\n",
    "- Ask clarifying questions:\n",
    "  - Does the input contain only integers?\n",
    "  - How should we handle duplicate values?\n",
    "  - Should the function return the K-th largest element or its index?\n",
    "\n",
    "---\n",
    "\n",
    "#### 2. Plan the Approach\n",
    "We will use the **QuickSelect** algorithm, which is a variation of the QuickSort algorithm, to solve this problem efficiently. \n",
    "\n",
    "1. **Key Idea**:\n",
    "   - QuickSelect works by partitioning the array around a pivot element and then determining whether the desired index lies in the left or right partition.\n",
    "   - This avoids fully sorting the array, making the algorithm faster for this specific task.\n",
    "\n",
    "2. **Steps**:\n",
    "   - **Convert K to a Zero-Based Index**:\n",
    "     - The K-th largest element corresponds to the `(len(nums) - k)`-th smallest element in zero-based indexing.\n",
    "   - **QuickSelect**:\n",
    "     - Use a recursive function to partition the array.\n",
    "     - If the pivot’s position matches the target index, return the pivot.\n",
    "     - Otherwise, recurse into the left or right partition depending on the target index.\n",
    "   - **Partition Function**:\n",
    "     - Rearrange the elements such that all elements smaller than the pivot are on the left and larger ones are on the right.\n",
    "     - Return the pivot's final position.\n",
    "\n",
    "3. **Complexity**:\n",
    "   - **Time Complexity**:\n",
    "     - Best/Average Case: O(n), because each partition reduces the problem size by approximately half.\n",
    "     - Worst Case: O(n^2), when the array is already sorted or all elements are equal.\n",
    "   - **Space Complexity**:\n",
    "     - O(1), as QuickSelect operates in-place.\n",
    "\n",
    "---\n"
   ]
  },
  {
   "cell_type": "code",
   "execution_count": 5,
   "id": "2a3765ab",
   "metadata": {},
   "outputs": [],
   "source": [
    "# T --> O(n), worst case O(n^2) in case of [8, 6, 5, 4, 3, 1]\n",
    "# S --> O(1), because of quickselect\n",
    "\n",
    "def findKthLargestQuickSelect(nums, k):\n",
    "    indexToFind = len(nums) - k\n",
    "    return quickSelect(nums, 0, len(nums) - 1, indexToFind)\n",
    "\n",
    "def quickSelect(nums, left, right, indexToFind):\n",
    "    if left == right:\n",
    "        return nums[left]\n",
    "    \n",
    "    if left < right:\n",
    "        partitionIndex = partition(nums, left, right)\n",
    "        if partitionIndex == indexToFind:\n",
    "            return nums[partitionIndex]\n",
    "        elif partitionIndex < indexToFind:\n",
    "            return quickSelect(nums, partitionIndex + 1, right, indexToFind)\n",
    "        else:\n",
    "            return quickSelect(nums, left, partitionIndex - 1, indexToFind)\n",
    "\n",
    "def partition(nums, left, right):\n",
    "    partitionIndex = left\n",
    "    pivotElement = nums[right]\n",
    "    \n",
    "    for j in range(left, right):\n",
    "        if nums[j] <= pivotElement:\n",
    "            nums[j], nums[partitionIndex] = nums[partitionIndex], nums[j]\n",
    "            partitionIndex += 1\n",
    "    nums[right], nums[partitionIndex] = nums[partitionIndex], nums[right]\n",
    "    return partitionIndex"
   ]
  },
  {
   "cell_type": "code",
   "execution_count": 6,
   "id": "8f9fcec4",
   "metadata": {},
   "outputs": [
    {
     "data": {
      "text/plain": [
       "5"
      ]
     },
     "execution_count": 6,
     "metadata": {},
     "output_type": "execute_result"
    }
   ],
   "source": [
    "findKthLargestQuickSelect([5,6,1,4,8,3],3)"
   ]
  },
  {
   "cell_type": "markdown",
   "id": "641fe0b9",
   "metadata": {},
   "source": [
    "**First Round**\n",
    "\n",
    "[5, 6, 1, 4, 8, 3]\n",
    "\n",
    "[1, 6, 5, 4, 8, 3]\n",
    "\n",
    "[1, 3, 5, 4, 8, 6]\n",
    "\n",
    "indexToFind = 3, partitionIndex = 1, left = 0, right = 5\n",
    "\n",
    "**Second Round**\n",
    "indexToFind = 3, partitionIndex = 2, left = 2, right = 5\n",
    "\n",
    "[1, 3, 5, 4, 8, 6]\n",
    "\n",
    "[1, 3, 5, 4, 6, 8]\n",
    "\n",
    "indexToFind = 3, partitionIndex = 4\n",
    "\n",
    "**Third Round**\n",
    "\n",
    "indexToFind = 3, partitionIndex = 3, left = 2, right = 3\n",
    "\n",
    "[1, 3, 5, 4, 6, 8]\n",
    "\n",
    "\n",
    "[1, 3, 4, 5, 6, 8]"
   ]
  },
  {
   "cell_type": "markdown",
   "id": "04b7346a",
   "metadata": {},
   "source": [
    "## 3. Valid Word Abbreviation\n",
    "\n",
    "### Step-by-Step Approach for Valid Word Abbreviation\n",
    "\n",
    "#### 1. Clarify the Problem\n",
    "- The goal is to determine whether a given word matches its abbreviation.\n",
    "- Rules for valid abbreviations:\n",
    "  - Numbers in the abbreviation indicate how many characters in the word are skipped.\n",
    "  - Numbers must not have leading zeros.\n",
    "  - Characters in the abbreviation must match the corresponding characters in the word.\n",
    "- Ask clarifying questions:\n",
    "  - What should we return for empty strings for either `word` or `abbr`? (Typically, an empty abbreviation is invalid unless the word is also empty.)\n",
    "  - Are all inputs guaranteed to be lowercase and valid?\n",
    "\n",
    "---\n",
    "\n",
    "#### 2. Plan the Approach\n",
    "We use two pointers to traverse the `word` and the `abbr` simultaneously:\n",
    "1. **Handle Numbers in the Abbreviation**:\n",
    "   - If the current character in `abbr` is a digit, calculate the number it represents (taking care to handle multiple digits).\n",
    "   - Move the `word` pointer forward by the calculated number of characters.\n",
    "   - Return `False` if the digit is `0` (invalid leading zero) or if the pointer goes out of bounds.\n",
    "\n",
    "2. **Match Non-Digit Characters**:\n",
    "   - If the current character in `abbr` is not a digit, ensure it matches the current character in `word`.\n",
    "   - If it doesn't match, return `False`.\n",
    "\n",
    "3. **End Check**:\n",
    "   - At the end of both strings, the pointers must align perfectly; otherwise, return `False`.\n",
    "\n",
    "---\n",
    "\n",
    "#### 3. Complexity Analysis\n",
    "- **Time Complexity**:\n",
    "  - Each character in `word` and `abbr` is processed exactly once, resulting in \\(O(n)\\) time.\n",
    "- **Space Complexity**:\n",
    "  - No additional data structures are used, so the space complexity is \\(O(1)\\).\n",
    "\n",
    "---\n",
    "\n",
    "#### 4. Example Walkthrough\n",
    "\n",
    "**Example 1**:\n",
    "- Input: `word = \"internationalization\"`, `abbr = \"i12iz4n\"`\n",
    "- Steps:\n",
    "  1. `abbr_ptr = 0`, `word_ptr = 0`: `abbr[abbr_ptr] = 'i'` matches `word[word_ptr] = 'i'`. Move both pointers.\n",
    "  2. `abbr_ptr = 1`: `abbr[abbr_ptr] = '1'` (start of number). Parse `12`.\n",
    "     - Move `word_ptr` forward by `12`.\n",
    "  3. `abbr_ptr = 3`, `word_ptr = 13`: `abbr[abbr_ptr] = 'i'` matches `word[word_ptr] = 'i'`. Move both pointers.\n",
    "  4. `abbr_ptr = 4`: `abbr[abbr_ptr] = 'z'` matches `word[word_ptr] = 'z'`. Move both pointers.\n",
    "  5. `abbr_ptr = 5`: Parse `4` and move `word_ptr` forward by `4`.\n",
    "  6. `abbr_ptr = 7`, `word_ptr = 18`: `abbr[abbr_ptr] = 'n'` matches `word[word_ptr] = 'n'`.\n",
    "  7. Both pointers reach the end. Return `True`.\n",
    "\n",
    "**Output**: `True`\n",
    "\n",
    "---\n",
    "\n",
    "**Example 2**:\n",
    "- Input: `word = \"apple\"`, `abbr = \"a2e\"`\n",
    "- Steps:\n",
    "  1. `abbr_ptr = 0`, `word_ptr = 0`: `abbr[abbr_ptr] = 'a'` matches `word[word_ptr] = 'a'`. Move both pointers.\n",
    "  2. `abbr_ptr = 1`: Parse `2` and move `word_ptr` forward by `2`.\n",
    "  3. `abbr_ptr = 2`, `word_ptr = 3`: `abbr[abbr_ptr] = 'e'` matches `word[word_ptr] = 'e'`.\n",
    "  4. Both pointers reach the end. Return `True`.\n",
    "\n",
    "**Output**: `True`\n",
    "\n",
    "---\n",
    "\n",
    "**Example 3**:\n",
    "- Input: `word = \"word\"`, `abbr = \"w02d\"`\n",
    "- Steps:\n",
    "  1. `abbr_ptr = 0`, `word_ptr = 0`: `abbr[abbr_ptr] = 'w'` matches `word[word_ptr] = 'w'`. Move both pointers.\n",
    "  2. `abbr_ptr = 1`: `abbr[abbr_ptr] = '0'`. Invalid leading zero. Return `False`.\n",
    "\n",
    "**Output**: `False`\n",
    "\n",
    "---\n",
    "\n",
    "#### 5. Edge Cases\n",
    "1. **Empty Strings**:\n",
    "   - Input: `word = \"\"`, `abbr = \"\"`\n",
    "   - Output: `True`\n",
    "2. **Leading Zero in Abbreviation**:\n",
    "   - Input: `word = \"hello\"`, `abbr = \"h0llo\"`\n",
    "   - Output: `False`\n",
    "3. **Mismatch in Length**:\n",
    "   - Input: `word = \"cat\"`, `abbr = \"c4\"`\n",
    "   - Output: `False`\n",
    "\n",
    "---\n",
    "\n",
    "#### 6. Wrap-Up\n",
    "- Restate the approach:\n",
    "  - Use two pointers to traverse `word` and `abbr`, handling numbers and character matches appropriately.\n",
    "- Complexity Recap:\n",
    "  - Time complexity is \\(O(n)\\), and space complexity is \\(O(1)\\).\n",
    "- Ask for feedback or edge cases:\n",
    "  - \"Does this handle all requirements? Are there additional edge cases you'd like me to test?\"\n"
   ]
  },
  {
   "cell_type": "code",
   "execution_count": 7,
   "id": "fe76061b",
   "metadata": {},
   "outputs": [],
   "source": [
    "# Time --> O(n)\n",
    "# Space --> O(1)\n",
    "\n",
    "def validWordAbbreviation(word, abbr):\n",
    "    word_ptr = 0\n",
    "    abbr_ptr = 0\n",
    "    \n",
    "    while word_ptr < len(word) and abbr_ptr < len(abbr):\n",
    "        if abbr[abbr_ptr].isdigit():\n",
    "            if abbr[abbr_ptr] == '0':\n",
    "                return False\n",
    "            \n",
    "            num = 0\n",
    "            \n",
    "            while abbr_ptr < len(abbr) and abbr[abbr_ptr].isdigit():\n",
    "                num = num * 10 + int(abbr[abbr_ptr])\n",
    "                abbr_ptr += 1\n",
    "            \n",
    "            word_ptr += num\n",
    "        \n",
    "        else:\n",
    "            if word_ptr >= len(word) or word[word_ptr] != abbr[abbr_ptr]:\n",
    "                return False\n",
    "            \n",
    "            word_ptr += 1\n",
    "            abbr_ptr += 1\n",
    "        \n",
    "    return word_ptr == len(word) and abbr_ptr == len(abbr)\n",
    "            "
   ]
  },
  {
   "cell_type": "code",
   "execution_count": 8,
   "id": "424c4572",
   "metadata": {},
   "outputs": [
    {
     "data": {
      "text/plain": [
       "True"
      ]
     },
     "execution_count": 8,
     "metadata": {},
     "output_type": "execute_result"
    }
   ],
   "source": [
    "validWordAbbreviation(\"substitution\", \"s10n\")"
   ]
  },
  {
   "cell_type": "code",
   "execution_count": 9,
   "id": "9fd61cde",
   "metadata": {},
   "outputs": [
    {
     "data": {
      "text/plain": [
       "True"
      ]
     },
     "execution_count": 9,
     "metadata": {},
     "output_type": "execute_result"
    }
   ],
   "source": [
    "validWordAbbreviation(\"substitution\", \"sub4u4\")"
   ]
  },
  {
   "cell_type": "code",
   "execution_count": 10,
   "id": "f967e651",
   "metadata": {},
   "outputs": [
    {
     "data": {
      "text/plain": [
       "False"
      ]
     },
     "execution_count": 10,
     "metadata": {},
     "output_type": "execute_result"
    }
   ],
   "source": [
    "validWordAbbreviation(\"substitution\", \"s010n\")"
   ]
  },
  {
   "cell_type": "markdown",
   "id": "17c2307a",
   "metadata": {},
   "source": [
    "## 4. Minimum remove to make valid parenthesis\n",
    "\n",
    "### Step-by-Step Approach for Removing Minimum Parentheses to Make a String Valid\n",
    "\n",
    "#### 1. Clarify the Problem\n",
    "- The goal is to remove the **minimum number of parentheses** from the string `s` to make it valid.\n",
    "- A string is valid if:\n",
    "  - Every opening parenthesis `'('` has a corresponding closing parenthesis `')'`.\n",
    "  - Parentheses are properly nested.\n",
    "- Ask clarifying questions:\n",
    "  - Can the string contain characters other than parentheses? (Yes, they should remain unchanged.)\n",
    "  - Are empty strings valid? (Yes.)\n",
    "\n",
    "---\n",
    "\n",
    "#### 2. Plan the Approach\n",
    "We solve the problem in two phases:\n",
    "1. **Identify Indices to Remove**:\n",
    "   - Use a **stack** to keep track of unmatched opening parentheses `'('`.\n",
    "   - Use a **set** to track indices of unmatched closing parentheses `')'` and any leftover `'('` indices in the stack.\n",
    "\n",
    "2. **Reconstruct the Valid String**:\n",
    "   - Iterate through the original string, appending only characters whose indices are **not in the set of invalid indices**.\n",
    "\n",
    "---\n",
    "\n",
    "#### 3. Complexity Analysis\n",
    "- **Time Complexity**:\n",
    "  - \\(O(n)\\) for a single pass through the string to determine indices to remove.\n",
    "  - \\(O(n)\\) for reconstructing the valid string.\n",
    "  - Total: \\(O(n)\\).\n",
    "- **Space Complexity**:\n",
    "  - \\(O(n)\\) for the stack and set to track invalid indices.\n",
    "\n",
    "---\n",
    "\n",
    "#### 4. Example Walkthrough\n",
    "\n",
    "**Example 1**:\n",
    "- Input: `s = \"lee(t(c)o)de)\"`\n",
    "- Steps:\n",
    "  1. **Phase 1: Identify Indices to Remove**:\n",
    "     - Traverse the string:\n",
    "       - `'l', 'e', 'e'`: Ignore non-parentheses.\n",
    "       - `'('`: Add index `3` to the stack → `stack = [3]`.\n",
    "       - `'t'`: Ignore.\n",
    "       - `'('`: Add index `5` to the stack → `stack = [3, 5]`.\n",
    "       - `')'`: Match with `5` → Pop `5` from stack → `stack = [3]`.\n",
    "       - `'c', 'o'`: Ignore.\n",
    "       - `')'`: Match with `3` → Pop `3` from stack → `stack = []`.\n",
    "       - `'d'`: Ignore.\n",
    "       - `')'`: Unmatched closing parenthesis → Add index `10` to `indicesToRemove = {10}`.\n",
    "     - Any remaining indices in the stack are unmatched `'('`: `indicesToRemove = {10}`.\n",
    "  2. **Phase 2: Reconstruct Valid String**:\n",
    "     - Iterate through the string, skipping indices in `indicesToRemove = {10}`.\n",
    "     - Result: `\"lee(t(c)o)de\"`.\n",
    "\n",
    "**Output**: `\"lee(t(c)o)de\"`\n",
    "\n",
    "---\n",
    "\n",
    "**Example 2**:\n",
    "- Input: `s = \"a)b(c)d\"`\n",
    "- Steps:\n",
    "  1. **Phase 1**:\n",
    "     - `'a'`: Ignore.\n",
    "     - `')'`: Unmatched closing parenthesis → `indicesToRemove = {1}`.\n",
    "     - `'b'`: Ignore.\n",
    "     - `'('`: Add index `3` to stack → `stack = [3]`.\n",
    "     - `'c'`: Ignore.\n",
    "     - `')'`: Match with `3` → Pop `3` from stack → `stack = []`.\n",
    "     - `'d'`: Ignore.\n",
    "     - `indicesToRemove = {1}`.\n",
    "  2. **Phase 2**:\n",
    "     - Skip index `1`, reconstruct `\"ab(c)d\"`.\n",
    "\n",
    "**Output**: `\"ab(c)d\"`\n",
    "\n",
    "---\n",
    "\n",
    "#### 5. Edge Cases\n",
    "1. **Empty String**:\n",
    "   - Input: `s = \"\"`\n",
    "   - Output: `\"\"`\n",
    "2. **No Parentheses**:\n",
    "   - Input: `s = \"abc\"`\n",
    "   - Output: `\"abc\"`\n",
    "3. **All Parentheses Invalid**:\n",
    "   - Input: `s = \"((((\"`\n",
    "   - Output: `\"\"`\n",
    "   - Input: `s = \"))))\"`\n",
    "   - Output: `\"\"`\n",
    "4. **Already Valid**:\n",
    "   - Input: `s = \"(abc)\"`\n",
    "   - Output: `\"(abc)\"`\n",
    "\n",
    "---\n",
    "\n",
    "#### 6. Wrap-Up\n",
    "- Restate the approach:\n",
    "  - Use a stack to match opening and closing parentheses.\n",
    "  - Track unmatched parentheses and remove them during reconstruction.\n",
    "- Complexity Recap:\n",
    "  - Time complexity is \\(O(n)\\), and space complexity is \\(O(n)\\).\n",
    "- Ask for feedback or edge cases:\n",
    "  - \"Does this handle all the requirements? Are there additional scenarios you'd like me to test?\"\n"
   ]
  },
  {
   "cell_type": "code",
   "execution_count": 36,
   "id": "e657c637",
   "metadata": {},
   "outputs": [],
   "source": [
    "# time --> O(n)\n",
    "# space --> O(n)\n",
    "\n",
    "def minRemoveToMakeValid(s):\n",
    "    indicesToRemove = set()\n",
    "    stack = []\n",
    "    \n",
    "    for idx, char in enumerate(s):\n",
    "        if char not in '()':\n",
    "            continue\n",
    "        elif char == '(':\n",
    "            stack.append(idx)\n",
    "        elif not stack:\n",
    "            indicesToRemove.add(idx)\n",
    "        else:\n",
    "            stack.pop()\n",
    "            \n",
    "    indicesToRemove = indicesToRemove.union(set(stack))\n",
    "    stringBuilder = []\n",
    "    \n",
    "    for i in range(len(s)):\n",
    "        if i not in indicesToRemove:\n",
    "            stringBuilder.append(s[i])\n",
    "    return \"\".join(stringBuilder)"
   ]
  },
  {
   "cell_type": "code",
   "execution_count": 38,
   "id": "a2b1f6ce",
   "metadata": {},
   "outputs": [
    {
     "data": {
      "text/plain": [
       "'ab(c)d'"
      ]
     },
     "execution_count": 38,
     "metadata": {},
     "output_type": "execute_result"
    }
   ],
   "source": [
    "minRemoveToMakeValid('(ab(c)d')"
   ]
  },
  {
   "cell_type": "markdown",
   "id": "8fe6fbc6",
   "metadata": {},
   "source": [
    "## 5. Merge Sorted array"
   ]
  },
  {
   "cell_type": "code",
   "execution_count": 13,
   "id": "67ff2a35",
   "metadata": {},
   "outputs": [],
   "source": [
    "nums1 = [1,2,3,0,0,0]\n",
    "m = 3\n",
    "nums2 = [2,5,6]\n",
    "n = 3\n",
    "\n",
    "# time --> O((m + n)log(m + n))\n",
    "# space --> O(n) (for sorting)\n",
    "\n",
    "def mergeSortedArrayBrute(nums1, m, nums2, n):\n",
    "    \n",
    "    for i in range(n):\n",
    "        nums1[i + m] = nums2[i]\n",
    "    \n",
    "    nums1.sort()"
   ]
  },
  {
   "cell_type": "code",
   "execution_count": 14,
   "id": "a9f7198d",
   "metadata": {},
   "outputs": [
    {
     "data": {
      "text/plain": [
       "[1, 2, 2, 3, 5, 6]"
      ]
     },
     "execution_count": 14,
     "metadata": {},
     "output_type": "execute_result"
    }
   ],
   "source": [
    "mergeSortedArrayBrute(nums1, m, nums2, n)\n",
    "nums1"
   ]
  },
  {
   "cell_type": "code",
   "execution_count": 15,
   "id": "bffee86f",
   "metadata": {},
   "outputs": [],
   "source": [
    "# time --> O(m + n)\n",
    "# space --> O(m) (for copy)\n",
    "\n",
    "def mergeSortedArrayBetter(nums1, m, nums2, n):\n",
    "    nums1_copy = nums1[:m]\n",
    "    \n",
    "    p1 = 0\n",
    "    p2 = 0\n",
    "    \n",
    "    for p in range(m + n):\n",
    "        if p2 >= n or (p1 < m and nums1_copy[p1] <= nums2[p2]):\n",
    "            nums1[p] = nums1_copy[p1]\n",
    "            p1 += 1\n",
    "        else:\n",
    "            nums1[p] = nums2[p2]\n",
    "            p2 += 1"
   ]
  },
  {
   "cell_type": "code",
   "execution_count": 16,
   "id": "6d749b82",
   "metadata": {},
   "outputs": [
    {
     "data": {
      "text/plain": [
       "[1, 2, 2, 3, 5, 6]"
      ]
     },
     "execution_count": 16,
     "metadata": {},
     "output_type": "execute_result"
    }
   ],
   "source": [
    "nums1 = [1,2,3,0,0,0]\n",
    "m = 3\n",
    "nums2 = [2,5,6]\n",
    "n = 3\n",
    "\n",
    "mergeSortedArrayBetter(nums1, m, nums2, n)\n",
    "nums1"
   ]
  },
  {
   "cell_type": "code",
   "execution_count": 17,
   "id": "e2a7db59",
   "metadata": {},
   "outputs": [],
   "source": [
    "# time --> O(m + n)\n",
    "# space --> O(1)\n",
    "def mergeSortedArrayBest(nums1, m, nums2, n):\n",
    "    p1 = m - 1\n",
    "    p2 = n - 1\n",
    "    \n",
    "    for p in range(m + n - 1, -1, -1):\n",
    "        if p2 < 0:\n",
    "            break\n",
    "        if p1 >= 0 and nums1[p1] >= nums2[p2]:\n",
    "            nums1[p] = nums1[p1]\n",
    "            p1 -= 1\n",
    "        else:\n",
    "            nums1[p] = nums2[p2]\n",
    "            p2 -= 1\n",
    "            "
   ]
  },
  {
   "cell_type": "code",
   "execution_count": 18,
   "id": "9d748d60",
   "metadata": {},
   "outputs": [
    {
     "data": {
      "text/plain": [
       "[1, 2, 2, 3, 5, 6]"
      ]
     },
     "execution_count": 18,
     "metadata": {},
     "output_type": "execute_result"
    }
   ],
   "source": [
    "nums1 = [1,2,3,0,0,0]\n",
    "m = 3\n",
    "nums2 = [2,5,6]\n",
    "n = 3\n",
    "\n",
    "mergeSortedArrayBest(nums1, m, nums2, n)\n",
    "nums1"
   ]
  },
  {
   "cell_type": "markdown",
   "id": "61fe1579",
   "metadata": {},
   "source": [
    "## 6. Binary tree vertical order traversal"
   ]
  },
  {
   "cell_type": "code",
   "execution_count": 4,
   "id": "ca142e6e",
   "metadata": {},
   "outputs": [],
   "source": [
    "class Node:\n",
    "    def __init__(self, val: int):\n",
    "        self.left = None\n",
    "        self.right = None\n",
    "        self.val = val\n",
    "\n",
    "    def __repr__(self):\n",
    "        return str(self.val)\n",
    "\n",
    "    def insert_node(self, val):\n",
    "        if self.val is not None:\n",
    "            if val < self.val:\n",
    "                if self.left is None:\n",
    "                    self.left = Node(val)\n",
    "                else:\n",
    "                    self.left.insert_node(val)\n",
    "            elif val > self.val:\n",
    "                if self.right is None:\n",
    "                    self.right = Node(val)\n",
    "                else:\n",
    "                    self.right.insert_node(val)\n",
    "\n",
    "    @staticmethod\n",
    "    def insert_nodes(vals: list, root):\n",
    "        for i in vals:\n",
    "            root.insert_node(i)\n",
    "\n",
    "    def bfs(self, root=None):\n",
    "        if root is None:\n",
    "            return\n",
    "        result = []\n",
    "        queue = [root]\n",
    "\n",
    "        while len(queue) > 0:\n",
    "            cur_node = queue.pop(0)\n",
    "            result.append(cur_node.val)\n",
    "            if cur_node.left is not None:\n",
    "                queue.append(cur_node.left)\n",
    "\n",
    "            if cur_node.right is not None:\n",
    "                queue.append(cur_node.right)\n",
    "\n",
    "            #print(queue)\n",
    "        return result\n",
    "    \n",
    "    def DFSInorder(self, root=None):\n",
    "        return self.traverseInOrder(root, [])\n",
    "    \n",
    "    def DFSPostOrder(self, root=None):\n",
    "        return self.traversePostOrder(root, [])\n",
    "    \n",
    "    def DFSPreOrder(self, root=None):\n",
    "        return self.traversePreOrder(root, [])\n",
    "    \n",
    "    def traverseInOrder(self, node, data):\n",
    "        if node.left is not None:\n",
    "            node.traverseInOrder(node.left, data)\n",
    "        data.append(node.val)\n",
    "        \n",
    "        if node.right is not None:\n",
    "            node.traverseInOrder(node.right, data)\n",
    "        #print(data)\n",
    "        return data\n",
    "    \n",
    "    def traversePostOrder(self, node, data):\n",
    "        \n",
    "        if node.left is not None:\n",
    "            node.traversePostOrder(node.left, data)\n",
    "              \n",
    "        if node.right is not None:\n",
    "            node.traversePostOrder(node.right, data)\n",
    "        #print(data)\n",
    "        data.append(node.val)\n",
    "        return data\n",
    "    \n",
    "    def traversePreOrder(self, node, data):\n",
    "        data.append(node.val)\n",
    "        if node.left is not None:\n",
    "            node.traversePreOrder(node.left, data)\n",
    "        \n",
    "        \n",
    "        if node.right is not None:\n",
    "            node.traversePreOrder(node.right, data)\n",
    "        #print(data)\n",
    "        return data\n",
    "    "
   ]
  },
  {
   "cell_type": "code",
   "execution_count": 5,
   "id": "95f7106a",
   "metadata": {},
   "outputs": [],
   "source": [
    "#       9\n",
    "#    4     20\n",
    "#  1  6  15   170\n",
    "\n",
    "def run():\n",
    "    root = Node(9)\n",
    "    root.insert_nodes([4,6,20,170,15,1], root)\n",
    "    bfs_result = root.bfs(root=root)\n",
    "    dfs_inorder = root.DFSInorder(root)\n",
    "    dfs_preorder = root.DFSPreOrder(root)\n",
    "    dfs_postorder = root.DFSPostOrder(root)\n",
    "    return root, bfs_result, dfs_inorder, dfs_preorder, dfs_postorder"
   ]
  },
  {
   "cell_type": "code",
   "execution_count": 6,
   "id": "0a8db05b",
   "metadata": {},
   "outputs": [],
   "source": [
    "root, bfs_result, dfs_inorder, dfs_preorder, dfs_postorder = run()"
   ]
  },
  {
   "cell_type": "code",
   "execution_count": 22,
   "id": "acab15aa",
   "metadata": {},
   "outputs": [],
   "source": [
    "from collections import defaultdict, deque\n",
    "\n",
    "# time --> O(nlogn) (because of sorting)\n",
    "# space --> O(n)\n",
    "def verticalOrder(root):\n",
    "    if not root:\n",
    "        return []\n",
    "    \n",
    "    columnTable = defaultdict(list)\n",
    "    queue = [[root, 0]]\n",
    "    \n",
    "    while queue:\n",
    "        currNode, currCol = queue.pop(0)\n",
    "        \n",
    "        if currNode:\n",
    "            columnTable[currCol].append(currNode.val)\n",
    "            queue.append([currNode.left, currCol - 1])\n",
    "            queue.append([currNode.right, currCol + 1])\n",
    "    \n",
    "    return [columnTable[x] for x in sorted(columnTable.keys())]\n",
    "    "
   ]
  },
  {
   "cell_type": "code",
   "execution_count": 23,
   "id": "42d78724",
   "metadata": {},
   "outputs": [
    {
     "data": {
      "text/plain": [
       "[[1], [4], [9, 6, 15], [20], [170]]"
      ]
     },
     "execution_count": 23,
     "metadata": {},
     "output_type": "execute_result"
    }
   ],
   "source": [
    "verticalOrder(root)"
   ]
  },
  {
   "cell_type": "code",
   "execution_count": 24,
   "id": "f3c0549f",
   "metadata": {},
   "outputs": [],
   "source": [
    "# time --> O(n) (sorting removed)\n",
    "# space --> O(n)\n",
    "def verticalOrderBetter(root):\n",
    "    if not root:\n",
    "        return []\n",
    "    \n",
    "    columnTable = defaultdict(list)\n",
    "    queue = [[root, 0]]\n",
    "    minCol = 0\n",
    "    maxCol = 0\n",
    "    \n",
    "    while queue:\n",
    "        currNode, currCol = queue.pop(0)\n",
    "        \n",
    "        if currNode:\n",
    "            columnTable[currCol].append(currNode.val)\n",
    "            minCol = min(minCol, currCol)\n",
    "            maxCol = max(maxCol, currCol)\n",
    "            queue.append([currNode.left, currCol - 1])\n",
    "            queue.append([currNode.right, currCol + 1])\n",
    "    \n",
    "    return [columnTable[x] for x in range(minCol, maxCol + 1)]"
   ]
  },
  {
   "cell_type": "code",
   "execution_count": 25,
   "id": "11241b9a",
   "metadata": {},
   "outputs": [
    {
     "data": {
      "text/plain": [
       "[[1], [4], [9, 6, 15], [20], [170]]"
      ]
     },
     "execution_count": 25,
     "metadata": {},
     "output_type": "execute_result"
    }
   ],
   "source": [
    "verticalOrderBetter(root)"
   ]
  },
  {
   "cell_type": "markdown",
   "id": "e68e971b",
   "metadata": {},
   "source": [
    "## 7. Random Pick with weight"
   ]
  },
  {
   "cell_type": "code",
   "execution_count": 26,
   "id": "d30be098",
   "metadata": {},
   "outputs": [],
   "source": [
    "import random\n",
    "from typing import List\n",
    "\n",
    "class Solution:\n",
    "    # T --> O(n)\n",
    "    # S --> O(n)\n",
    "    def __init__(self, w: List[int]):\n",
    "        self.prefix_sums = []\n",
    "        prefix_sum = 0\n",
    "        \n",
    "        for weight in w:\n",
    "            prefix_sum += weight\n",
    "            self.prefix_sums.append(prefix_sum)\n",
    "        self.total_sum = prefix_sum\n",
    "        print(self.prefix_sums)\n",
    "    \n",
    "    # T --> O(n)\n",
    "    # S --> O(1)\n",
    "    def pickIndex(self):\n",
    "        target = self.total_sum * random.random()\n",
    "        \n",
    "        for idx, prefix_sum in enumerate(self.prefix_sums):\n",
    "            if target < prefix_sum:\n",
    "                return idx"
   ]
  },
  {
   "cell_type": "code",
   "execution_count": 27,
   "id": "6c6dc50b",
   "metadata": {},
   "outputs": [
    {
     "name": "stdout",
     "output_type": "stream",
     "text": [
      "[1, 4, 9, 15, 22, 30]\n",
      "4\n",
      "4\n",
      "3\n",
      "3\n",
      "1\n",
      "2\n"
     ]
    }
   ],
   "source": [
    "# \n",
    "solution = Solution([1, 3, 5, 6, 7, 8]);\n",
    "print(solution.pickIndex())\n",
    "print(solution.pickIndex())\n",
    "print(solution.pickIndex())\n",
    "print(solution.pickIndex())\n",
    "print(solution.pickIndex())\n",
    "print(solution.pickIndex())\n"
   ]
  },
  {
   "cell_type": "markdown",
   "id": "f660668d",
   "metadata": {},
   "source": [
    "### With Binary search"
   ]
  },
  {
   "cell_type": "code",
   "execution_count": 28,
   "id": "028a4361",
   "metadata": {},
   "outputs": [],
   "source": [
    "class Solution:\n",
    "    def __init__(self, w):\n",
    "        # T --> O(n)\n",
    "        # S --> O(n)\n",
    "        # Precompute the prefix sums\n",
    "        self.prefix_sums = []\n",
    "        self.total_sum = 0\n",
    "\n",
    "        for weight in w:\n",
    "            self.total_sum += weight\n",
    "            self.prefix_sums.append(self.total_sum)\n",
    "    \n",
    "    # T --> O(logn)\n",
    "    # S --> O(1)\n",
    "    def pickIndex(self):\n",
    "        # Generate a random number in the range [0, total_sum)\n",
    "        target = self.total_sum * random.random()\n",
    "        left = 0\n",
    "        right = len(self.prefix_sums) - 1\n",
    "\n",
    "        # Perform binary search\n",
    "        while left < right:\n",
    "            mid = (left + right) // 2\n",
    "            if target > self.prefix_sums[mid]:\n",
    "                left = mid + 1\n",
    "            else:\n",
    "                right = mid\n",
    "\n",
    "        return left"
   ]
  },
  {
   "cell_type": "code",
   "execution_count": 29,
   "id": "848f6a34",
   "metadata": {},
   "outputs": [
    {
     "name": "stdout",
     "output_type": "stream",
     "text": [
      "3\n",
      "2\n",
      "5\n",
      "4\n",
      "4\n",
      "1\n"
     ]
    }
   ],
   "source": [
    "# \n",
    "solution = Solution([1, 3, 5, 6, 7, 8]);\n",
    "print(solution.pickIndex())\n",
    "print(solution.pickIndex())\n",
    "print(solution.pickIndex())\n",
    "print(solution.pickIndex())\n",
    "print(solution.pickIndex())\n",
    "print(solution.pickIndex())\n"
   ]
  },
  {
   "attachments": {
    "image.png": {
     "image/png": "[encoded data removed]"
    }
   },
   "cell_type": "markdown",
   "id": "a6d7d888",
   "metadata": {},
   "source": [
    "## 8. Lowest Common Ancestor\n",
    "\n",
    "### Step-by-Step Approach for Lowest Common Ancestor (LCA)\n",
    "\n",
    "#### 1. Clarify the Problem\n",
    "- Restate the problem to ensure understanding:\n",
    "  - We need to find the lowest common ancestor (LCA) of two nodes, `p` and `q`, in a binary tree.\n",
    "  - The LCA is the lowest node in the tree that has both `p` and `q` as descendants.\n",
    "- Ask clarifying questions:\n",
    "  - Can `p` or `q` be the same as the root node?\n",
    "  - Are both `p` and `q` guaranteed to be present in the tree?\n",
    "  - Is the tree a binary search tree (BST), or is it a general binary tree?\n",
    "\n",
    "#### 2. Plan the Approach\n",
    "- We will use a recursive function to traverse the tree and determine the LCA based on the following logic:\n",
    "  1. **Base Case**:\n",
    "     - If the current node is `None`, return `None` because we have reached the end of a branch.\n",
    "     - If the current node matches `p` or `q`, return the current node since it is a potential LCA.\n",
    "  2. **Recursive Case**:\n",
    "     - Recursively search the left and right subtrees for `p` and `q`.\n",
    "  3. **Combine Results**:\n",
    "     - If both left and right subtrees return non-`None` values, it means `p` and `q` are in different subtrees, and the current node is their LCA.\n",
    "     - If only one subtree returns a non-`None` value, propagate that result upward as the LCA.\n",
    "\n",
    "#### 3. Complexity Analysis\n",
    "- Time complexity: O(n), where n is the number of nodes in the tree, because each node is visited once.\n",
    "- Space complexity: O(h), where h is the height of the tree, due to the recursive call stack.\n",
    "\n",
    "\n",
    "**Tree**:\n",
    "\n",
    "![image.png](attachment:image.png)\n",
    "\n",
    "\n",
    "**Input**:\n",
    "- Nodes `p = 7` and `q = 4`\n",
    "\n",
    "**Steps**:\n",
    "1. Start at the root node (3). Recurse into the left subtree (5) and right subtree (1).\n",
    "2. At node 5:\n",
    "   - Recurse into the left subtree (6). Return `None`.\n",
    "   - Recurse into the right subtree (2). \n",
    "     - Recurse into the left subtree (7). Return 7.\n",
    "     - Recurse into the right subtree (4). Return 4.\n",
    "     - Since both left and right subtrees return non-`None`, return 2 as the LCA.\n",
    "   - Return 2 to the root.\n",
    "3. At node 1:\n",
    "   - Recurse into both subtrees (0 and 8). Both return `None`.\n",
    "   - Return `None` to the root.\n",
    "4. Back at node 3:\n",
    "   - Since the left subtree returns 2 and the right subtree returns `None`, propagate 2 upward as the LCA.\n",
    "\n",
    "**Output**:\n",
    "- The LCA is node 2.\n",
    "\n",
    "#### 6. Wrap-Up\n",
    "- Restate the approach:\n",
    "  - By traversing the tree recursively and combining results from subtrees, we efficiently find the lowest common ancestor.\n",
    "- Complexity Recap:\n",
    "  - Time complexity is O(n), and space complexity is O(h).\n",
    "- Ask for feedback or edge cases:\n",
    "  - Does this implementation handle the requirements, or are there additional scenarios to consider?\n",
    "\n"
   ]
  },
  {
   "cell_type": "code",
   "execution_count": 30,
   "id": "2ceed341",
   "metadata": {},
   "outputs": [],
   "source": [
    "def lowestCommonAncestor(root, p, q):\n",
    "    if not root:\n",
    "        return None\n",
    "    \n",
    "    left_res = lowestCommonAncestor(root.left, p, q)\n",
    "    right_res = lowestCommonAncestor(root.right, p, q)\n",
    "    \n",
    "    if (left_res and right_res) or (root in [p, q]):\n",
    "        return root\n",
    "    else:\n",
    "        return left_res or right_res"
   ]
  },
  {
   "cell_type": "code",
   "execution_count": 31,
   "id": "67b6b53e",
   "metadata": {},
   "outputs": [
    {
     "data": {
      "text/plain": [
       "9"
      ]
     },
     "execution_count": 31,
     "metadata": {},
     "output_type": "execute_result"
    }
   ],
   "source": [
    "#       9\n",
    "#    4     20\n",
    "#  1  6  15   170\n",
    "\n",
    "p = root.left.right  # Node with value 6\n",
    "q = root.right.left  # Node with value 15\n",
    "\n",
    "lowestCommonAncestor(root, p, q)"
   ]
  },
  {
   "cell_type": "markdown",
   "id": "2f36edbe",
   "metadata": {},
   "source": [
    "## 9. Basic Calculator"
   ]
  },
  {
   "cell_type": "code",
   "execution_count": 32,
   "id": "6e0bb578",
   "metadata": {},
   "outputs": [],
   "source": [
    "# Time --> O(n)\n",
    "# Space --> O(1)\n",
    "# Note --> Sign is changing in one lag, hence the correct calculation gets done. So when we encounter *, \n",
    "# the sign is still +\n",
    "def calculator(s):\n",
    "    if len(s) == 0:\n",
    "        return 0\n",
    "    \n",
    "    current_number = 0\n",
    "    last_number = 0\n",
    "    result = 0\n",
    "    sign = '+'\n",
    "    \n",
    "    for i in range(len(s)):\n",
    "        current_char = s[i]\n",
    "        \n",
    "        if current_char.isdigit():\n",
    "            current_number = current_number * 10 + int(current_char)\n",
    "            \n",
    "        if (not current_char.isdigit() and not current_char.isspace()) or i == len(s) - 1:\n",
    "            if sign == '+' or sign == '-':\n",
    "                result += last_number\n",
    "                last_number = current_number if sign == '+' else -current_number\n",
    "            elif sign == '*':\n",
    "                last_number *= current_number\n",
    "            elif sign == '/':\n",
    "                last_number = int(last_number/current_number)\n",
    "            \n",
    "            sign = current_char\n",
    "            current_number = 0\n",
    "    result += last_number\n",
    "    return result"
   ]
  },
  {
   "cell_type": "code",
   "execution_count": 33,
   "id": "e0c81693",
   "metadata": {},
   "outputs": [
    {
     "data": {
      "text/plain": [
       "7"
      ]
     },
     "execution_count": 33,
     "metadata": {},
     "output_type": "execute_result"
    }
   ],
   "source": [
    "s = \"3+2*2\"\n",
    "calculator(s)"
   ]
  },
  {
   "cell_type": "markdown",
   "id": "a99516fd",
   "metadata": {},
   "source": [
    "## 10. Simplify path"
   ]
  },
  {
   "cell_type": "code",
   "execution_count": 34,
   "id": "269532f5",
   "metadata": {},
   "outputs": [],
   "source": [
    "# time --> O(n)\n",
    "# space --> O(n)\n",
    "def simplifyPath(path):\n",
    "    stack = []\n",
    "    \n",
    "    for portion in path.split(\"/\"):\n",
    "        if portion == \"..\":\n",
    "            if stack:\n",
    "                stack.pop()\n",
    "        elif portion == \".\" or not portion:\n",
    "            continue\n",
    "        else:\n",
    "            stack.append(portion)\n",
    "    print(stack)\n",
    "    final_str = \"/\" + \"/\".join(stack)\n",
    "    return final_str"
   ]
  },
  {
   "cell_type": "code",
   "execution_count": 35,
   "id": "3146adaf",
   "metadata": {},
   "outputs": [
    {
     "name": "stdout",
     "output_type": "stream",
     "text": [
      "['home', 'foo']\n"
     ]
    },
    {
     "data": {
      "text/plain": [
       "'/home/foo'"
      ]
     },
     "execution_count": 35,
     "metadata": {},
     "output_type": "execute_result"
    }
   ],
   "source": [
    "path = \"/home//foo/\"\n",
    "\n",
    "simplifyPath(path)"
   ]
  },
  {
   "cell_type": "code",
   "execution_count": 36,
   "id": "cc612bb2",
   "metadata": {},
   "outputs": [
    {
     "data": {
      "text/plain": [
       "['', 'home', '', 'foo', '']"
      ]
     },
     "execution_count": 36,
     "metadata": {},
     "output_type": "execute_result"
    }
   ],
   "source": [
    "path.split(\"/\")"
   ]
  },
  {
   "cell_type": "code",
   "execution_count": 37,
   "id": "8b5c4867",
   "metadata": {},
   "outputs": [
    {
     "name": "stdout",
     "output_type": "stream",
     "text": [
      "['home', 'user', 'Pictures']\n"
     ]
    },
    {
     "data": {
      "text/plain": [
       "'/home/user/Pictures'"
      ]
     },
     "execution_count": 37,
     "metadata": {},
     "output_type": "execute_result"
    }
   ],
   "source": [
    "path = \"/home/user/Documents/../Pictures\"\n",
    "\n",
    "simplifyPath(path)"
   ]
  },
  {
   "cell_type": "code",
   "execution_count": 38,
   "id": "cb06d7fb",
   "metadata": {},
   "outputs": [
    {
     "data": {
      "text/plain": [
       "['', 'home', 'user', 'Documents', '..', 'Pictures']"
      ]
     },
     "execution_count": 38,
     "metadata": {},
     "output_type": "execute_result"
    }
   ],
   "source": [
    "path.split(\"/\")"
   ]
  },
  {
   "cell_type": "markdown",
   "id": "caf25551",
   "metadata": {},
   "source": [
    "## 11. Shortest path binary matrix"
   ]
  },
  {
   "cell_type": "code",
   "execution_count": 39,
   "id": "7bd76cc5",
   "metadata": {},
   "outputs": [],
   "source": [
    "from collections import deque\n",
    "\n",
    "directions = [[-1, 0], [-1, 1], [0, 1], [1, 1], [1, 0], [1, -1], [0, -1], [-1, -1]]\n",
    "\n",
    "# time --> O(N)\n",
    "# space --> O(N) where N is the number of cells in the grid.\n",
    "def shortestPathBinaryMatrix(grid):\n",
    "    if len(grid) == 0 or grid[0][0] != 0 or grid[-1][-1] != 0:\n",
    "        return -1\n",
    "    \n",
    "    \n",
    "    \n",
    "    queue = [[0, 0, 1]]\n",
    "    grid[0][0] = 1\n",
    "    \n",
    "    while queue:\n",
    "        curr_row, curr_col, path_length = queue.pop(0)\n",
    "        if curr_row == len(grid) - 1 and curr_col == len(grid[0]) - 1:\n",
    "            return path_length\n",
    "        \n",
    "        for i in range(len(directions)):\n",
    "            direction = directions[i]\n",
    "            next_row = curr_row + direction[0]\n",
    "            next_col = curr_col + direction[1]\n",
    "            \n",
    "            if next_row < 0 or next_col < 0 or next_row >= len(grid) or next_col >= len(grid[0]):\n",
    "                continue\n",
    "            \n",
    "            if grid[next_row][next_col] == 0:\n",
    "                queue.append([next_row, next_col, path_length + 1])\n",
    "                grid[next_row][next_col] = 1\n",
    "    return -1"
   ]
  },
  {
   "cell_type": "code",
   "execution_count": 40,
   "id": "2443cf28",
   "metadata": {},
   "outputs": [
    {
     "data": {
      "text/plain": [
       "4"
      ]
     },
     "execution_count": 40,
     "metadata": {},
     "output_type": "execute_result"
    }
   ],
   "source": [
    "grid = [[0,0,0],[1,1,0],[1,1,0]]\n",
    "\n",
    "shortestPathBinaryMatrix(grid)"
   ]
  },
  {
   "cell_type": "code",
   "execution_count": 41,
   "id": "443f2d8a",
   "metadata": {},
   "outputs": [
    {
     "data": {
      "text/plain": [
       "2"
      ]
     },
     "execution_count": 41,
     "metadata": {},
     "output_type": "execute_result"
    }
   ],
   "source": [
    "grid = [[0,1],[1,0]]\n",
    "shortestPathBinaryMatrix(grid)"
   ]
  },
  {
   "cell_type": "code",
   "execution_count": 42,
   "id": "38d21104",
   "metadata": {},
   "outputs": [
    {
     "data": {
      "text/plain": [
       "-1"
      ]
     },
     "execution_count": 42,
     "metadata": {},
     "output_type": "execute_result"
    }
   ],
   "source": [
    "grid = [[1,1],[1,0]]\n",
    "shortestPathBinaryMatrix(grid)"
   ]
  },
  {
   "cell_type": "markdown",
   "id": "910558b4",
   "metadata": {},
   "source": [
    "## 12. Nested List Weighted Sum"
   ]
  },
  {
   "cell_type": "code",
   "execution_count": 43,
   "id": "6728a34e",
   "metadata": {},
   "outputs": [],
   "source": [
    "# t --> O(n)\n",
    "# s --> O(n)\n",
    "def depthSum(nestedList):\n",
    "    queue = nestedList\n",
    "    \n",
    "    depth = 1\n",
    "    total = 0\n",
    "    \n",
    "    while queue:\n",
    "        for i in range(len(queue)):\n",
    "            nested = queue.pop(0)\n",
    "            if nested.isInteger():\n",
    "                total += nested.getInteger() * depth\n",
    "            else:\n",
    "                queue.extend(nested.getList())\n",
    "        depth += 1\n",
    "    return total"
   ]
  },
  {
   "cell_type": "markdown",
   "id": "cb7b333c",
   "metadata": {},
   "source": [
    "## 14. Dot product of sparse vectors"
   ]
  },
  {
   "cell_type": "code",
   "execution_count": 44,
   "id": "1c03053e",
   "metadata": {},
   "outputs": [],
   "source": [
    "# List method\n",
    "# Time --> O(n) for both\n",
    "# space --> O(1) for both\n",
    "class SparseVector:\n",
    "    def __init__(self, nums):\n",
    "        self.array = nums\n",
    "    \n",
    "    def dotProduct(self, vec):\n",
    "        result = 0\n",
    "        \n",
    "        for num1, num2 in zip(self.array, vec.array):\n",
    "            result += num1 * num2\n",
    "        return result"
   ]
  },
  {
   "cell_type": "code",
   "execution_count": 45,
   "id": "f9ddcc4b",
   "metadata": {},
   "outputs": [
    {
     "data": {
      "text/plain": [
       "8"
      ]
     },
     "execution_count": 45,
     "metadata": {},
     "output_type": "execute_result"
    }
   ],
   "source": [
    "nums1 = [1,0,0,2,3]\n",
    "nums2 = [0,3,0,4,0]\n",
    "\n",
    "v1 = SparseVector(nums1)\n",
    "v2 = SparseVector(nums2)\n",
    "v1.dotProduct(v2)"
   ]
  },
  {
   "cell_type": "code",
   "execution_count": 46,
   "id": "17eec6ac",
   "metadata": {},
   "outputs": [],
   "source": [
    "# Hash method\n",
    "# Time --> O(n) for creating hashmap and O(L) for the dot product\n",
    "# Space --> O(L) for hashmap, O(1) for dot product (n: len of array, L: no of non zero elements)\n",
    "# IMPORTANT - META does not accept it\n",
    "# Hashing/lookups, while on surface look efficient, for large sparse vectors, \n",
    "# hashing function takes up bulk of the computation\n",
    "class SparseVector:\n",
    "    def __init__(self, nums):\n",
    "        self.nonzeros = {}\n",
    "        for idx, num in enumerate(nums):\n",
    "            if num != 0:\n",
    "                self.nonzeros[idx] = num\n",
    "    \n",
    "    def dotProduct(self, vec):\n",
    "        result = 0\n",
    "        for idx, num in self.nonzeros.items():\n",
    "            if idx in vec.nonzeros:\n",
    "                result += num * vec.nonzeros[idx]\n",
    "        return result"
   ]
  },
  {
   "cell_type": "code",
   "execution_count": 47,
   "id": "bbbce94b",
   "metadata": {},
   "outputs": [
    {
     "data": {
      "text/plain": [
       "8"
      ]
     },
     "execution_count": 47,
     "metadata": {},
     "output_type": "execute_result"
    }
   ],
   "source": [
    "nums1 = [1,0,0,2,3]\n",
    "nums2 = [0,3,0,4,0]\n",
    "\n",
    "v1 = SparseVector(nums1)\n",
    "v2 = SparseVector(nums2)\n",
    "v1.dotProduct(v2)"
   ]
  },
  {
   "cell_type": "code",
   "execution_count": 48,
   "id": "a6abb9ad",
   "metadata": {},
   "outputs": [],
   "source": [
    "# Two pointer method\n",
    "\n",
    "class SparseVector:\n",
    "    def __init__(self, nums):\n",
    "        self.pairs = []\n",
    "        \n",
    "        for idx, num in enumerate(nums):\n",
    "            if num != 0:\n",
    "                self.pairs.append([idx, num])\n",
    "    \n",
    "    def dotProduct(self, vec):\n",
    "        result = 0\n",
    "        first = 0\n",
    "        second = 0\n",
    "        \n",
    "        while first < len(self.pairs) and second < len(vec.pairs):\n",
    "            if self.pairs[first][0] == vec.pairs[second][0]:\n",
    "                result += self.pairs[first][1] * vec.pairs[second][1]\n",
    "                first += 1\n",
    "                second += 1\n",
    "            elif self.pairs[first][0] < vec.pairs[second][0]:\n",
    "                first += 1\n",
    "            else:\n",
    "                second += 1\n",
    "        return result"
   ]
  },
  {
   "cell_type": "code",
   "execution_count": 49,
   "id": "3e8793c5",
   "metadata": {},
   "outputs": [
    {
     "data": {
      "text/plain": [
       "8"
      ]
     },
     "execution_count": 49,
     "metadata": {},
     "output_type": "execute_result"
    }
   ],
   "source": [
    "nums1 = [1,0,0,2,3]\n",
    "nums2 = [0,3,0,4,0]\n",
    "\n",
    "v1 = SparseVector(nums1)\n",
    "v2 = SparseVector(nums2)\n",
    "v1.dotProduct(v2)"
   ]
  },
  {
   "cell_type": "markdown",
   "id": "187fb450",
   "metadata": {},
   "source": [
    "## 15. Minimum add to make parenthesis valid"
   ]
  },
  {
   "cell_type": "code",
   "execution_count": 50,
   "id": "3524a8df",
   "metadata": {},
   "outputs": [],
   "source": [
    "# time --> O(n)\n",
    "# space --> O(1)\n",
    "\n",
    "def minAddToMakeValid(s):\n",
    "    open_brackets = 0\n",
    "    min_adds_required = 0\n",
    "    \n",
    "    for c in s:\n",
    "        if c == '(':\n",
    "            open_brackets += 1\n",
    "        else:\n",
    "            if open_brackets > 0:\n",
    "                open_brackets -= 1\n",
    "            else:\n",
    "                min_adds_required += 1\n",
    "    return min_adds_required + open_brackets"
   ]
  },
  {
   "cell_type": "code",
   "execution_count": 51,
   "id": "ccdd69fd",
   "metadata": {},
   "outputs": [
    {
     "data": {
      "text/plain": [
       "3"
      ]
     },
     "execution_count": 51,
     "metadata": {},
     "output_type": "execute_result"
    }
   ],
   "source": [
    "s = \"(((\"\n",
    "minAddToMakeValid(s)"
   ]
  },
  {
   "cell_type": "code",
   "execution_count": 52,
   "id": "48b3cbc9",
   "metadata": {},
   "outputs": [
    {
     "data": {
      "text/plain": [
       "1"
      ]
     },
     "execution_count": 52,
     "metadata": {},
     "output_type": "execute_result"
    }
   ],
   "source": [
    "s = \"())\"\n",
    "minAddToMakeValid(s)"
   ]
  },
  {
   "cell_type": "code",
   "execution_count": 53,
   "id": "e4e50681",
   "metadata": {},
   "outputs": [
    {
     "data": {
      "text/plain": [
       "0"
      ]
     },
     "execution_count": 53,
     "metadata": {},
     "output_type": "execute_result"
    }
   ],
   "source": [
    "s = \"()\"\n",
    "minAddToMakeValid(s)"
   ]
  },
  {
   "cell_type": "markdown",
   "id": "c5b5357b",
   "metadata": {},
   "source": [
    "## 16. Pow (x, n)"
   ]
  },
  {
   "cell_type": "code",
   "execution_count": 54,
   "id": "9e01f976",
   "metadata": {},
   "outputs": [],
   "source": [
    "# Time --> O(logN) (at each recursive call, we reduce n by half)\n",
    "# space --> O(logN)\n",
    "\n",
    "def myPow(x, n):\n",
    "    if n == 0:\n",
    "        return 1\n",
    "    \n",
    "    if n < 0:\n",
    "        return 1/myPow(x, -n)\n",
    "    \n",
    "    half = myPow(x, n // 2)\n",
    "    \n",
    "    if n % 2 == 0:\n",
    "        return half * half\n",
    "    else:\n",
    "        return half * half * x"
   ]
  },
  {
   "cell_type": "code",
   "execution_count": 55,
   "id": "3daad0eb",
   "metadata": {},
   "outputs": [
    {
     "data": {
      "text/plain": [
       "1024.0"
      ]
     },
     "execution_count": 55,
     "metadata": {},
     "output_type": "execute_result"
    }
   ],
   "source": [
    "x = 2.0000\n",
    "n = 10\n",
    "myPow(x, n)"
   ]
  },
  {
   "cell_type": "code",
   "execution_count": 56,
   "id": "5a56bdad",
   "metadata": {},
   "outputs": [
    {
     "data": {
      "text/plain": [
       "0.25"
      ]
     },
     "execution_count": 56,
     "metadata": {},
     "output_type": "execute_result"
    }
   ],
   "source": [
    "x = 2.00000\n",
    "n = -2\n",
    "\n",
    "myPow(x, n)"
   ]
  },
  {
   "cell_type": "markdown",
   "id": "56bb8309",
   "metadata": {},
   "source": [
    "## 17. Valid Palindrome"
   ]
  },
  {
   "cell_type": "code",
   "execution_count": 57,
   "id": "676caeb1",
   "metadata": {},
   "outputs": [],
   "source": [
    "def isPalindrome(s):\n",
    "    if len(s) <= 1:\n",
    "        return True\n",
    "    \n",
    "    left = 0\n",
    "    right = len(s) - 1\n",
    "    \n",
    "    while left < right:\n",
    "        while left < right and not s[left].isalnum():\n",
    "            left += 1\n",
    "        while left < right and not s[right].isalnum():\n",
    "            right -= 1\n",
    "        \n",
    "        if s[left].lower() != s[right].lower():\n",
    "            return False\n",
    "        \n",
    "        left += 1\n",
    "        right -= 1\n",
    "        \n",
    "    return True"
   ]
  },
  {
   "cell_type": "code",
   "execution_count": 58,
   "id": "6655c948",
   "metadata": {},
   "outputs": [
    {
     "data": {
      "text/plain": [
       "True"
      ]
     },
     "execution_count": 58,
     "metadata": {},
     "output_type": "execute_result"
    }
   ],
   "source": [
    "s = \"A man, a plan, a canal: Panama\"\n",
    "isPalindrome(s)"
   ]
  },
  {
   "cell_type": "code",
   "execution_count": 59,
   "id": "dd15a2d6",
   "metadata": {},
   "outputs": [
    {
     "data": {
      "text/plain": [
       "[(1, 4), (2, 3), (3, 5), (4, 1)]"
      ]
     },
     "execution_count": 59,
     "metadata": {},
     "output_type": "execute_result"
    }
   ],
   "source": [
    "x = {1:4, 2:3, 3:5, 4:1}\n",
    "\n",
    "sorted(x.items())"
   ]
  },
  {
   "cell_type": "markdown",
   "id": "09fe0391",
   "metadata": {},
   "source": [
    "## 18. Top K frequent elements"
   ]
  },
  {
   "cell_type": "code",
   "execution_count": 60,
   "id": "a14f4974",
   "metadata": {},
   "outputs": [],
   "source": [
    "# brute force with heap\n",
    "# time --> O(Nlogk)\n",
    "# space --> O(N + k) (N for hashmap, k for heap)\n",
    "from collections import Counter\n",
    "import heapq\n",
    "\n",
    "def topKFrequent(nums, k):\n",
    "    if k == len(nums):\n",
    "        return nums\n",
    "    \n",
    "    counter = Counter(nums)\n",
    "    \n",
    "    return heapq.nlargest(k, counter.keys(), key=counter.get)"
   ]
  },
  {
   "cell_type": "code",
   "execution_count": 61,
   "id": "2cd0639a",
   "metadata": {},
   "outputs": [
    {
     "data": {
      "text/plain": [
       "[1, 2]"
      ]
     },
     "execution_count": 61,
     "metadata": {},
     "output_type": "execute_result"
    }
   ],
   "source": [
    "nums = [1,1,1,2,2,3]\n",
    "k = 2    \n",
    "\n",
    "topKFrequent(nums, k)"
   ]
  },
  {
   "cell_type": "code",
   "execution_count": 29,
   "id": "2a10a544",
   "metadata": {},
   "outputs": [
    {
     "name": "stdout",
     "output_type": "stream",
     "text": [
      "[(2, 2), (1, 3), (3, 4)]\n",
      "[1, 3]\n"
     ]
    }
   ],
   "source": [
    "from collections import Counter\n",
    "# time --> O(n)\n",
    "# space --> O(n)\n",
    "def topKFrequent(nums, k):\n",
    "    # Step 1: Build the frequency map\n",
    "    freq_map = Counter(nums)  # O(n)\n",
    "    \n",
    "    # Step 2: Convert the frequency map into a list of (element, frequency) tuples\n",
    "    freq_list = list(freq_map.items())  # [(num, freq), ...]\n",
    "\n",
    "    # Step 3: Define QuickSelect\n",
    "    def quickSelect(left, right, k_smallest):\n",
    "        if left == right:\n",
    "            return\n",
    "        \n",
    "        if left < right:\n",
    "            # Partition the array\n",
    "            partitionIndex = partition(left, right)\n",
    "\n",
    "            # Check if the pivot is at the correct position\n",
    "            if partitionIndex == k_smallest:\n",
    "                return\n",
    "            elif partitionIndex < k_smallest:\n",
    "                quickSelect(partitionIndex + 1, right, k_smallest)\n",
    "            else:\n",
    "                quickSelect(left, partitionIndex - 1, k_smallest)\n",
    "    \n",
    "    def partition(left, right):\n",
    "        pivot_frequency = freq_list[right][1]\n",
    "        partition_index = left\n",
    "        for j in range(left, right):\n",
    "            if freq_list[j][1] < pivot_frequency:  # Ascending order for frequencies\n",
    "                freq_list[j], freq_list[partition_index] = freq_list[partition_index], freq_list[j]\n",
    "                partition_index += 1\n",
    "        freq_list[right], freq_list[partition_index] = freq_list[partition_index], freq_list[right]\n",
    "        return partition_index\n",
    "    \n",
    "    # Step 4: Perform QuickSelect to partition the array\n",
    "    n = len(freq_list)\n",
    "    quickSelect(0, n - 1, n - k)\n",
    "    \n",
    "    print(freq_list)\n",
    "    \n",
    "    # Step 5: Return the top k elements\n",
    "    return [freq_list[i][0] for i in range(n - k, n)]\n",
    "\n",
    "# Example usage\n",
    "nums = [1, 1, 1, 2, 2, 3, 3, 3, 3]\n",
    "k = 2\n",
    "print(topKFrequent(nums, k))  # Output: [1, 2]\n"
   ]
  },
  {
   "cell_type": "markdown",
   "id": "6835fd7b",
   "metadata": {},
   "source": [
    "## 19. Diameter of binary tree"
   ]
  },
  {
   "cell_type": "code",
   "execution_count": 9,
   "id": "9297d7e1",
   "metadata": {},
   "outputs": [],
   "source": [
    "#       9\n",
    "#    4     20\n",
    "#  1  6  15   170\n",
    "\n",
    "# time --> O(n)\n",
    "# space --> O(n)\n",
    "def diameterOfBinaryTree(root):\n",
    "    \n",
    "    diameter = 0\n",
    "    \n",
    "    def longest_path(node):\n",
    "        if not node:\n",
    "            return 0\n",
    "        nonlocal diameter\n",
    "        left_path = longest_path(node.left)\n",
    "        right_path = longest_path(node.right)\n",
    "        diameter = max(diameter, left_path + right_path)\n",
    "        return max(left_path, right_path) + 1\n",
    "    \n",
    "    longest_path(root)\n",
    "    return diameter"
   ]
  },
  {
   "cell_type": "code",
   "execution_count": 10,
   "id": "4dcf1c24",
   "metadata": {},
   "outputs": [
    {
     "data": {
      "text/plain": [
       "4"
      ]
     },
     "execution_count": 10,
     "metadata": {},
     "output_type": "execute_result"
    }
   ],
   "source": [
    "diameterOfBinaryTree(root)"
   ]
  },
  {
   "cell_type": "markdown",
   "id": "71f40c6f",
   "metadata": {},
   "source": [
    "## 20. Lowest Common Ancestor of a binary tree - III\n",
    "\n",
    "### Step-by-Step Approach for Finding the Lowest Common Ancestor (LCA) in a Binary Tree with Parent Pointers\n",
    "\n",
    "#### 1. Clarify the Problem\n",
    "- The goal is to find the **lowest common ancestor (LCA)** of two nodes \\(p\\) and \\(q\\) in a binary tree.\n",
    "- The tree nodes have a pointer to their parent, so we can traverse upward from each node.\n",
    "- Clarify edge cases:\n",
    "  - Can \\(p\\) and \\(q\\) be the same node?\n",
    "  - Is it guaranteed that both \\(p\\) and \\(q\\) exist in the tree?\n",
    "  - What should the function return if either \\(p\\) or \\(q\\) is `None`?\n",
    "\n",
    "---\n",
    "\n",
    "#### 2. Plan the Approach\n",
    "We use a two-pointer technique to find the LCA efficiently:\n",
    "\n",
    "1. **Key Idea**:\n",
    "   - Start with two pointers, `p1` and `p2`, at nodes \\(p\\) and \\(q\\), respectively.\n",
    "   - Move each pointer upward to its parent until the pointers meet. The node where they meet is the LCA.\n",
    "\n",
    "2. **Handle Different Heights**:\n",
    "   - If the tree is unbalanced and the paths to \\(p\\) and \\(q\\) differ in length, this approach ensures both pointers traverse the same number of steps:\n",
    "     - When a pointer reaches the root, it is redirected to the other node (\\(q\\) or \\(p\\)).\n",
    "\n",
    "3. **Why This Works**:\n",
    "   - By switching paths, the two pointers eventually align on the same node, which is the LCA.\n",
    "   - If \\(p\\) and \\(q\\) are on the same path, the first common node is the LCA.\n",
    "\n",
    "---\n",
    "\n",
    "#### 3. Complexity Analysis\n",
    "- **Time Complexity**:\n",
    "  - \\(O(h)\\), where \\(h\\) is the height of the tree, because each pointer traverses at most \\(2h\\) steps (one traversal to the root and one traversal back down).\n",
    "- **Space Complexity**:\n",
    "  - \\(O(1)\\), as no additional data structures are used.\n",
    "\n",
    "---\n",
    "\n",
    "#### 4. Example Walkthrough\n",
    "**Example 1**:\n",
    "- Input: \n",
    "  - \\(p = 5\\), \\(q = 1\\)\n",
    "  - Tree:\n",
    "    ```\n",
    "           3\n",
    "          / \\\n",
    "         5   1\n",
    "        / \\\n",
    "       6   2\n",
    "    ```\n",
    "- Steps:\n",
    "  1. Start with `p1 = 5` and `p2 = 1`.\n",
    "  2. Move `p1` and `p2` upward:\n",
    "     - `p1` → `3` (parent of \\(5\\)).\n",
    "     - `p2` → `3` (parent of \\(1\\)).\n",
    "  3. `p1` and `p2` meet at `3`.\n",
    "- **Output**: `3`\n",
    "\n",
    "---\n",
    "\n",
    "**Example 2**:\n",
    "- Input: \n",
    "  - \\(p = 6\\), \\(q = 2\\)\n",
    "  - Tree:\n",
    "    ```\n",
    "           3\n",
    "          / \\\n",
    "         5   1\n",
    "        / \\\n",
    "       6   2\n",
    "    ```\n",
    "- Steps:\n",
    "  1. Start with `p1 = 6` and `p2 = 2`.\n",
    "  2. Move `p1` and `p2` upward:\n",
    "     - `p1` → `5` (parent of \\(6\\)).\n",
    "     - `p2` → `5` (parent of \\(2\\)).\n",
    "  3. `p1` and `p2` meet at `5`.\n",
    "- **Output**: `5`\n",
    "\n",
    "---\n",
    "\n",
    "#### 5. Edge Cases\n",
    "1. **Nodes Are the Same**:\n",
    "   - Input: \\(p = q = 5\\).\n",
    "   - Output: \\(5\\) (A node is its own ancestor).\n",
    "\n",
    "2. **Root as LCA**:\n",
    "   - Input: \\(p = 6\\), \\(q = 1\\).\n",
    "   - Output: \\(3\\) (The root is the LCA for nodes on different subtrees).\n",
    "\n",
    "3. **One Node is the Ancestor of the Other**:\n",
    "   - Input: \\(p = 5\\), \\(q = 6\\).\n",
    "   - Output: \\(5\\) (A node is the LCA of itself and its descendant).\n",
    "\n",
    "---\n",
    "\n",
    "#### 6. Wrap-Up\n",
    "- Restate the approach:\n",
    "  - Use two pointers that traverse upward to the root, switching paths when reaching the end of their respective paths.\n",
    "- Complexity Recap:\n",
    "  - Time complexity is \\(O(h)\\), and space complexity is \\(O(1)\\).\n",
    "- Ask for feedback or additional edge cases:\n",
    "  - \"Does this implementation handle all edge cases? Are there additional scenarios to consider?\"\n"
   ]
  },
  {
   "cell_type": "code",
   "execution_count": 65,
   "id": "6fb9444d",
   "metadata": {},
   "outputs": [],
   "source": [
    "# time --> O(h)\n",
    "# space --> O(1)\n",
    "def lowestCommonAncestor(p, q):\n",
    "    p1 = p\n",
    "    p2 = q\n",
    "    \n",
    "    while p1 != p2:\n",
    "        p1 = p1.parent if p1.parent else q\n",
    "        p2 = p2.parent if p2.parent else p\n",
    "    return p1 # can return p2 too"
   ]
  },
  {
   "cell_type": "markdown",
   "id": "5f1554c4",
   "metadata": {},
   "source": [
    "## 21. Building with an ocean view\n",
    "\n",
    "There are n buildings in a line. You are given an integer array heights of size n that represents the heights of the buildings in the line.\n",
    "\n",
    "The ocean is to the right of the buildings. A building has an ocean view if the building can see the ocean without obstructions. Formally, a building has an ocean view if all the buildings to its right have a smaller height.\n",
    "\n",
    "Return a list of indices (0-indexed) of buildings that have an ocean view, sorted in increasing order."
   ]
  },
  {
   "cell_type": "code",
   "execution_count": 66,
   "id": "8f3a2e41",
   "metadata": {},
   "outputs": [],
   "source": [
    "## Brute force\n",
    "# Take every building and compare every building on its right. O(n^2)\n",
    "\n",
    "## Linear Iteration\n",
    "# time --> O(n)\n",
    "# space --> O(n)\n",
    "def findBuildings(heights):\n",
    "    answer = []\n",
    "    \n",
    "    for i in range(len(heights)):\n",
    "        print(f\"i:{i}\")\n",
    "        print(f\"Before: {answer}\")\n",
    "        # If the current building is taller, \n",
    "        # it will block the shorter building's ocean view to its left.\n",
    "        # So we pop all the shorter buildings that have been added before.\n",
    "        while answer and heights[answer[-1]] <= heights[i]:\n",
    "            answer.pop()\n",
    "        answer.append(i)\n",
    "        print(f\"After: {answer}\")\n",
    "    return answer"
   ]
  },
  {
   "cell_type": "code",
   "execution_count": 67,
   "id": "31ad5203",
   "metadata": {},
   "outputs": [
    {
     "name": "stdout",
     "output_type": "stream",
     "text": [
      "i:0\n",
      "Before: []\n",
      "After: [0]\n",
      "i:1\n",
      "Before: [0]\n",
      "After: [0, 1]\n",
      "i:2\n",
      "Before: [0, 1]\n",
      "After: [0, 2]\n",
      "i:3\n",
      "Before: [0, 2]\n",
      "After: [0, 2, 3]\n"
     ]
    },
    {
     "data": {
      "text/plain": [
       "[0, 2, 3]"
      ]
     },
     "execution_count": 67,
     "metadata": {},
     "output_type": "execute_result"
    }
   ],
   "source": [
    "heights = [4,2,3,1]\n",
    "findBuildings(heights)"
   ]
  },
  {
   "cell_type": "code",
   "execution_count": 68,
   "id": "cd399c60",
   "metadata": {},
   "outputs": [],
   "source": [
    "## Answer with space optimization\n",
    "# time --> O(n)\n",
    "# space --> O(1)\n",
    "def findBuildings(heights):\n",
    "    answer = []\n",
    "    max_height = -1\n",
    "    \n",
    "    for current in reversed(range(len(heights))):\n",
    "        if max_height < heights[current]:\n",
    "            answer.append(current)\n",
    "            max_height = heights[current]\n",
    "    answer.reverse()\n",
    "    return answer"
   ]
  },
  {
   "cell_type": "code",
   "execution_count": 69,
   "id": "8b11a833",
   "metadata": {},
   "outputs": [
    {
     "data": {
      "text/plain": [
       "[0, 2, 3]"
      ]
     },
     "execution_count": 69,
     "metadata": {},
     "output_type": "execute_result"
    }
   ],
   "source": [
    "heights = [4,2,3,1]\n",
    "findBuildings(heights)"
   ]
  },
  {
   "cell_type": "markdown",
   "id": "31f56ada",
   "metadata": {},
   "source": [
    "## 22. LRU Cache\n",
    "\n",
    "Design a data structure that follows the constraints of a Least Recently Used (LRU) cache.\n",
    "\n",
    "Implement the LRUCache class:\n",
    "\n",
    "* LRUCache(int capacity) Initialize the LRU cache with positive size capacity.\n",
    "* int get(int key) Return the value of the key if the key exists, otherwise return -1.\n",
    "* void put(int key, int value) Update the value of the key if the key exists. Otherwise, add the key-value pair to the cache. If the number of keys exceeds the capacity from this operation, evict the least recently used key.\n",
    "\n",
    "The functions get and put must each run in O(1) average time complexity.\n",
    "\n",
    "### Note\n",
    "\n",
    "Python 3.7+ dictionary is ordered dictionary already, but without move to end or other extra methods.\n",
    "\n",
    "Keys are in the order in which they are added.\n",
    "So least recently used element should be forced to be added \"now\" so its at the bottom.\n",
    "i.e delete and then add if already exists or just add. Latest at bottom\n",
    "\n",
    "To pop the oldest, i.e at the top, just use the first key. Do not use list(dict.keys())[0] as it becomes O(n), instead use next(iter(dict)) so you only get the first key!"
   ]
  },
  {
   "cell_type": "code",
   "execution_count": 70,
   "id": "cae4eeb6",
   "metadata": {},
   "outputs": [],
   "source": [
    "class LRUCache:\n",
    "    def __init__(self, capacity):\n",
    "        self.odict = {}\n",
    "        self.capacity = capacity\n",
    "        \n",
    "    def get(self, key):\n",
    "        if key not in self.odict:\n",
    "            return - 1\n",
    "        \n",
    "        self.odict[key] = self.odict.pop(key)\n",
    "        return self.odict[key]\n",
    "    \n",
    "    def put(self, key, value):\n",
    "        self.odict.pop(key, None)\n",
    "        self.odict[key] = value\n",
    "        \n",
    "        if len(self.odict) > self.capacity:\n",
    "            self.odict.pop(next(iter(self.odict)))"
   ]
  },
  {
   "cell_type": "code",
   "execution_count": 71,
   "id": "fcbcb1c2",
   "metadata": {},
   "outputs": [
    {
     "name": "stdout",
     "output_type": "stream",
     "text": [
      "1\n",
      "-1\n",
      "-1\n",
      "3\n",
      "4\n"
     ]
    }
   ],
   "source": [
    "# Your LRUCache object will be instantiated and called as such:\n",
    "capacity = 2\n",
    "lRUCache = LRUCache(capacity)\n",
    "lRUCache.put(1, 1)\n",
    "lRUCache.put(2, 2)\n",
    "print(lRUCache.get(1))\n",
    "\n",
    "lRUCache.put(3, 3)\n",
    "print(lRUCache.get(2))\n",
    "\n",
    "lRUCache.put(4, 4)\n",
    "print(lRUCache.get(1))\n",
    "\n",
    "print(lRUCache.get(3))\n",
    "print(lRUCache.get(4))"
   ]
  },
  {
   "cell_type": "markdown",
   "id": "29e6b3d1",
   "metadata": {},
   "source": [
    "## 23. Find Peak Element"
   ]
  },
  {
   "cell_type": "code",
   "execution_count": 13,
   "id": "33b601cb",
   "metadata": {},
   "outputs": [],
   "source": [
    "# time --> O(logn)\n",
    "# space --> O(1)\n",
    "def findPeakElement(nums):\n",
    "    left = 0\n",
    "    right = len(nums) - 1\n",
    "    \n",
    "    while left < right:\n",
    "        mid = (left + right) // 2\n",
    "        \n",
    "        if nums[mid] > nums[mid + 1]:\n",
    "            right = mid\n",
    "        else:\n",
    "            left = mid + 1\n",
    "    return left"
   ]
  },
  {
   "cell_type": "code",
   "execution_count": 14,
   "id": "8036fa21",
   "metadata": {},
   "outputs": [
    {
     "data": {
      "text/plain": [
       "5"
      ]
     },
     "execution_count": 14,
     "metadata": {},
     "output_type": "execute_result"
    }
   ],
   "source": [
    "nums = [1,2,1,3,5,6,4]\n",
    "findPeakElement(nums)"
   ]
  },
  {
   "cell_type": "code",
   "execution_count": 74,
   "id": "b7e891bf",
   "metadata": {},
   "outputs": [],
   "source": [
    "# left = 0, right = 6\n",
    "# left = 4, right = 6\n",
    "# left = 4, right = 4"
   ]
  },
  {
   "cell_type": "markdown",
   "id": "4f69b5ab",
   "metadata": {},
   "source": [
    "## 24. Range Sum of BST"
   ]
  },
  {
   "cell_type": "code",
   "execution_count": 75,
   "id": "cef23788",
   "metadata": {},
   "outputs": [],
   "source": [
    "def rangeSumBST(root, low, high):\n",
    "    if not root:\n",
    "        return 0\n",
    "    \n",
    "    result = 0\n",
    "    \n",
    "    queue = [root]\n",
    "    \n",
    "    while queue:\n",
    "        currNode = queue.pop(0)\n",
    "        if currNode:\n",
    "            if low <= currNode.val <= high:\n",
    "                result += currNode.val\n",
    "            if low < currNode.val:\n",
    "                queue.append(currNode.left)\n",
    "            if currNode.val < high:\n",
    "                queue.append(currNode.right)\n",
    "    return result\n",
    "                "
   ]
  },
  {
   "cell_type": "code",
   "execution_count": 76,
   "id": "62a3b08e",
   "metadata": {},
   "outputs": [
    {
     "data": {
      "text/plain": [
       "35"
      ]
     },
     "execution_count": 76,
     "metadata": {},
     "output_type": "execute_result"
    }
   ],
   "source": [
    "#       9\n",
    "#    4     20\n",
    "#  1  6  15   170\n",
    "\n",
    "rangeSumBST(root, 10, 30)"
   ]
  },
  {
   "cell_type": "markdown",
   "id": "d60cf1b0",
   "metadata": {},
   "source": [
    "## 25. Interval List Intersections"
   ]
  },
  {
   "cell_type": "code",
   "execution_count": 83,
   "id": "88257bd6",
   "metadata": {},
   "outputs": [],
   "source": [
    "# Time --> O(M + N)\n",
    "# Space --> O(M + N)\n",
    "def intervalIntersection(firstList, secondList):\n",
    "    answer = []\n",
    "    first = 0\n",
    "    second = 0\n",
    "    \n",
    "    while first < len(firstList) and second < len(secondList):\n",
    "        low = max(firstList[first][0], secondList[second][0])\n",
    "        hi = min(firstList[first][1], secondList[second][1])\n",
    "        \n",
    "        if low <= hi:\n",
    "            answer.append([low, hi])\n",
    "            \n",
    "        if firstList[first][1] < secondList[second][1]:\n",
    "            first += 1\n",
    "        else:\n",
    "            second += 1\n",
    "    return answer"
   ]
  },
  {
   "cell_type": "code",
   "execution_count": 84,
   "id": "74f18612",
   "metadata": {},
   "outputs": [
    {
     "data": {
      "text/plain": [
       "[[1, 2], [5, 5], [8, 10], [15, 23], [24, 24], [25, 25]]"
      ]
     },
     "execution_count": 84,
     "metadata": {},
     "output_type": "execute_result"
    }
   ],
   "source": [
    "firstList = [[0,2],[5,10],[13,23],[24,25]]\n",
    "secondList = [[1,5],[8,12],[15,24],[25,26]]\n",
    "\n",
    "intervalIntersection(firstList, secondList)"
   ]
  },
  {
   "cell_type": "markdown",
   "id": "92c29738",
   "metadata": {},
   "source": [
    "## 26. Find first and last position of element in a sorted array"
   ]
  },
  {
   "cell_type": "code",
   "execution_count": 85,
   "id": "dd58dac9",
   "metadata": {},
   "outputs": [],
   "source": [
    "# time --> O(logN)\n",
    "# space --> O(1) (because of tail recursion)\n",
    "def binarySearch(nums, left, right, target):\n",
    "    mid = (left + right) // 2\n",
    "    \n",
    "    if left <= right:\n",
    "        if nums[mid] == target:\n",
    "            return mid\n",
    "        elif nums[mid] < target:\n",
    "            left = mid + 1\n",
    "            return binarySearch(nums, left, right, target)\n",
    "        else:\n",
    "            right = mid - 1\n",
    "            return binarySearch(nums, left, right, target)\n",
    "        \n",
    "    return -1\n",
    "\n",
    "def searchRange(nums, target):\n",
    "    if len(nums) == 0:\n",
    "        return [-1, -1]\n",
    "    \n",
    "    firstPosition = binarySearch(nums, 0, len(nums) - 1, target)\n",
    "    \n",
    "    if firstPosition == -1:\n",
    "        return [-1, -1]\n",
    "    \n",
    "    startPosition = firstPosition\n",
    "    endPosition = firstPosition\n",
    "    tempL = 0\n",
    "    tempR = 0\n",
    "    \n",
    "    while startPosition != -1:\n",
    "        tempL = startPosition\n",
    "        startPosition = binarySearch(nums, 0, startPosition - 1, target)\n",
    "    startPosition = tempL\n",
    "    \n",
    "    while endPosition != -1:\n",
    "        tempR = endPosition\n",
    "        endPosition = binarySearch(nums, endPosition + 1, len(nums) - 1, target)\n",
    "    endPosition = tempR\n",
    "    \n",
    "    return [startPosition, endPosition]"
   ]
  },
  {
   "cell_type": "code",
   "execution_count": 86,
   "id": "ebbf4e0b",
   "metadata": {},
   "outputs": [
    {
     "data": {
      "text/plain": [
       "[3, 4]"
      ]
     },
     "execution_count": 86,
     "metadata": {},
     "output_type": "execute_result"
    }
   ],
   "source": [
    "nums = [5,7,7,8,8,10]\n",
    "target = 8\n",
    "\n",
    "searchRange(nums, target)"
   ]
  },
  {
   "cell_type": "markdown",
   "id": "0b6d139b",
   "metadata": {},
   "source": [
    "## 27. Merge Intervals"
   ]
  },
  {
   "cell_type": "code",
   "execution_count": 95,
   "id": "4c2b97c3",
   "metadata": {},
   "outputs": [],
   "source": [
    "# When we change last, we are modifying merged_intervals in place\n",
    "# time --> O(nlogn)\n",
    "# space -> O(logn)\n",
    "# Different form: \"Assume an array of video watch times, where each segment represents the times a user \n",
    "# started and stopped a video, calculate the total number of unique minutes watched\"\n",
    "def merge(intervals):\n",
    "    if not intervals:\n",
    "        return []\n",
    "    \n",
    "    intervals.sort(key=lambda x:x[0])\n",
    "    \n",
    "    merged_intervals = [intervals[0]]\n",
    "    \n",
    "    for current in intervals[1:]:\n",
    "        last = merged_intervals[-1]\n",
    "        \n",
    "        if current[0] <= last[1]:\n",
    "            last[1] = max(last[1], current[1])\n",
    "        else:\n",
    "            merged_intervals.append(current)\n",
    "    return merged_intervals"
   ]
  },
  {
   "cell_type": "code",
   "execution_count": 96,
   "id": "5e495413",
   "metadata": {},
   "outputs": [
    {
     "data": {
      "text/plain": [
       "[[1, 6], [8, 10], [15, 18]]"
      ]
     },
     "execution_count": 96,
     "metadata": {},
     "output_type": "execute_result"
    }
   ],
   "source": [
    "intervals = [[1,3],[2,6],[8,10],[15,18]]\n",
    "merge(intervals)"
   ]
  },
  {
   "cell_type": "markdown",
   "id": "e6861f8e",
   "metadata": {},
   "source": [
    "## 28. Sum root to leaf numbers\n",
    "\n",
    "You are given the root of a binary tree containing digits from 0 to 9 only.\n",
    "\n",
    "Each root-to-leaf path in the tree represents a number.\n",
    "\n",
    "For example, the root-to-leaf path 1 -> 2 -> 3 represents the number 123.\n",
    "\n",
    "Return the total sum of all root-to-leaf numbers. Test cases are generated so that the answer will fit in a 32-bit integer."
   ]
  },
  {
   "cell_type": "code",
   "execution_count": 99,
   "id": "694308e1",
   "metadata": {},
   "outputs": [],
   "source": [
    "def run():\n",
    "    root = Node(5)\n",
    "    root.insert_nodes([3, 7, 2, 4, 6, 8], root)\n",
    "    bfs_result = root.bfs(root=root)\n",
    "    dfs_inorder = root.DFSInorder(root)\n",
    "    dfs_preorder = root.DFSPreOrder(root)\n",
    "    dfs_postorder = root.DFSPostOrder(root)\n",
    "    return root, bfs_result, dfs_inorder, dfs_preorder, dfs_postorder\n",
    "\n",
    "root_2, bfs_result, dfs_inorder, dfs_preorder, dfs_postorder = run()"
   ]
  },
  {
   "cell_type": "code",
   "execution_count": 100,
   "id": "7b198a4b",
   "metadata": {},
   "outputs": [],
   "source": [
    "#       5\n",
    "#    3     7\n",
    "#  2  4  6   8\n",
    "\n",
    "# time --> O(N)\n",
    "# space --> O(H)\n",
    "\n",
    "def sumNumbers(root):\n",
    "    if not root:\n",
    "        return 0\n",
    "    \n",
    "    queue = [[root, root.val]]\n",
    "    \n",
    "    total = 0\n",
    "    \n",
    "    while queue:\n",
    "        curr_node, path_sum = queue.pop(0)\n",
    "        \n",
    "        if not curr_node.left and not curr_node.right:\n",
    "            total += path_sum\n",
    "            \n",
    "        if curr_node.left:\n",
    "            queue.append([curr_node.left, path_sum * 10 + curr_node.left.val])\n",
    "            \n",
    "        if curr_node.right:\n",
    "            queue.append([curr_node.right, path_sum * 10 + curr_node.right.val])\n",
    "            \n",
    "    return total"
   ]
  },
  {
   "cell_type": "code",
   "execution_count": 102,
   "id": "e5369efe",
   "metadata": {},
   "outputs": [
    {
     "data": {
      "text/plain": [
       "2220"
      ]
     },
     "execution_count": 102,
     "metadata": {},
     "output_type": "execute_result"
    }
   ],
   "source": [
    "sumNumbers(root_2)"
   ]
  },
  {
   "cell_type": "code",
   "execution_count": 103,
   "id": "55de4413",
   "metadata": {},
   "outputs": [
    {
     "data": {
      "text/plain": [
       "2220"
      ]
     },
     "execution_count": 103,
     "metadata": {},
     "output_type": "execute_result"
    }
   ],
   "source": [
    "532 + 534 + 576 + 578"
   ]
  },
  {
   "cell_type": "code",
   "execution_count": 105,
   "id": "e13fddaa",
   "metadata": {},
   "outputs": [],
   "source": [
    "# Morris algorithm \n",
    "\n",
    "# time --> O(N)\n",
    "# space --> O(1)\n",
    "\n",
    "def sumNumbers(root) -> int:\n",
    "    root_to_leaf = curr_number = 0\n",
    "\n",
    "    while root:\n",
    "        # If there is a left child,\n",
    "        # then compute the predecessor.\n",
    "        # If there is no link predecessor.right = root --> set it.\n",
    "        # If there is a link predecessor.right = root --> break it.\n",
    "        if root.left:\n",
    "            # Predecessor node is one step to the left\n",
    "            # and then to the right till you can.\n",
    "            predecessor = root.left\n",
    "            steps = 1\n",
    "            while predecessor.right and predecessor.right is not root:\n",
    "                predecessor = predecessor.right\n",
    "                steps += 1\n",
    "\n",
    "            # Set link predecessor.right = root\n",
    "            # and go to explore the left subtree\n",
    "            if predecessor.right is None:\n",
    "                curr_number = curr_number * 10 + root.val\n",
    "                predecessor.right = root\n",
    "                root = root.left\n",
    "            # Break the link predecessor.right = root\n",
    "            # Once the link is broken,\n",
    "            # it's time to change subtree and go to the right\n",
    "            else:\n",
    "                # If you're on the leaf, update the sum\n",
    "                if predecessor.left is None:\n",
    "                    root_to_leaf += curr_number\n",
    "                # This part of tree is explored, backtrack\n",
    "                for _ in range(steps):\n",
    "                    curr_number //= 10\n",
    "                predecessor.right = None\n",
    "                root = root.right\n",
    "\n",
    "        # If there is no left child\n",
    "        # then just go right.\n",
    "        else:\n",
    "            curr_number = curr_number * 10 + root.val\n",
    "            # if you're on the leaf, update the sum\n",
    "            if root.right is None:\n",
    "                root_to_leaf += curr_number\n",
    "            root = root.right\n",
    "\n",
    "    return root_to_leaf"
   ]
  },
  {
   "cell_type": "code",
   "execution_count": 106,
   "id": "ae5f6238",
   "metadata": {},
   "outputs": [
    {
     "data": {
      "text/plain": [
       "2220"
      ]
     },
     "execution_count": 106,
     "metadata": {},
     "output_type": "execute_result"
    }
   ],
   "source": [
    "sumNumbers(root_2)"
   ]
  },
  {
   "cell_type": "code",
   "execution_count": 8,
   "id": "14b8f282",
   "metadata": {},
   "outputs": [
    {
     "name": "stdout",
     "output_type": "stream",
     "text": [
      "List 1:\n",
      "1 -> 4 -> 5 -> None\n",
      "\n",
      "List 2:\n",
      "1 -> 3 -> 4 -> None\n",
      "\n",
      "List 3:\n",
      "2 -> 6 -> None\n"
     ]
    }
   ],
   "source": [
    "from functools import reduce\n",
    "\n",
    "# Template to create node list\n",
    "class ListNode:\n",
    "    def __init__(self, val, next=None):\n",
    "        self.val = val\n",
    "        self.next = next\n",
    "\n",
    "# Function to print the linked list\n",
    "def printList(head):\n",
    "    if not head:\n",
    "        return\n",
    "    while head:\n",
    "        print(head.val, end=\" -> \")\n",
    "        head = head.next\n",
    "    print(\"None\")\n",
    "\n",
    "# Function to create a linked list from a list of values\n",
    "def createLinkedList(values):\n",
    "    return reduce(lambda acc, val: ListNode(val, acc), reversed(values), None)\n",
    "\n",
    "# Create multiple linked lists\n",
    "list1 = createLinkedList([1, 4, 5])\n",
    "list2 = createLinkedList([1, 3, 4])\n",
    "list3 = createLinkedList([2, 6])\n",
    "\n",
    "# Print the linked lists\n",
    "print(\"List 1:\")\n",
    "printList(list1)\n",
    "\n",
    "print(\"\\nList 2:\")\n",
    "printList(list2)\n",
    "\n",
    "print(\"\\nList 3:\")\n",
    "printList(list3)"
   ]
  },
  {
   "cell_type": "markdown",
   "id": "5c2935cc",
   "metadata": {},
   "source": [
    "## 29. Merge K-sorted Lists (Hard)\n",
    "\n",
    "You are given an array of k linked-lists lists, each linked-list is sorted in ascending order.\n",
    "\n",
    "Merge all the linked-lists into one sorted linked-list and return it."
   ]
  },
  {
   "cell_type": "code",
   "execution_count": 4,
   "id": "6d51ef27",
   "metadata": {},
   "outputs": [],
   "source": [
    "# Brute force\n",
    "# Time --> O(nLogn)\n",
    "# Space --> O(n)\n",
    "def mergeKLists(lists):\n",
    "    nodes = []\n",
    "    dummy = ListNode(0)\n",
    "    current = dummy\n",
    "    \n",
    "    for l in lists:\n",
    "        while l:\n",
    "            nodes.append(l.val)\n",
    "            l = l.next\n",
    "    print(nodes)\n",
    "            \n",
    "    for x in sorted(nodes):\n",
    "        current.next = ListNode(x)\n",
    "        current = current.next\n",
    "    return dummy.next"
   ]
  },
  {
   "cell_type": "code",
   "execution_count": 5,
   "id": "23c70caa",
   "metadata": {},
   "outputs": [
    {
     "name": "stdout",
     "output_type": "stream",
     "text": [
      "[1, 4, 5, 1, 3, 4, 2, 6]\n",
      "\n",
      "Merged List:\n",
      "1 -> 1 -> 2 -> 3 -> 4 -> 4 -> 5 -> 6 -> None\n"
     ]
    }
   ],
   "source": [
    "mergedList = mergeKLists([list1, list2, list3])\n",
    "print(\"\\nMerged List:\")\n",
    "printList(mergedList)"
   ]
  },
  {
   "cell_type": "code",
   "execution_count": 9,
   "id": "4f812117",
   "metadata": {},
   "outputs": [],
   "source": [
    "# Min heap / Priority queue\n",
    "# Time --> O(NLogK) (N is the total number of elements across all lists and K is the number of lists.)\n",
    "# space --> O(K) (heap)\n",
    "import heapq\n",
    "\n",
    "def mergeKLists(lists):\n",
    "    if not lists or len(lists) == 0:\n",
    "        return None\n",
    "\n",
    "    min_heap = []\n",
    "    \n",
    "    # Step 1: Push the head of each list into the heap\n",
    "    for i, l in enumerate(lists):\n",
    "        if l:  # Only push non-null nodes\n",
    "            heapq.heappush(min_heap, (l.val, i, l))  # (value, list_index, node)\n",
    "    \n",
    "    # Step 2: Merge the lists\n",
    "    dummy = ListNode(0)\n",
    "    current = dummy\n",
    "    \n",
    "    while min_heap:\n",
    "        # Pop the smallest element from the heap\n",
    "        val, i, node = heapq.heappop(min_heap)\n",
    "        \n",
    "        # Add the smallest node to the merged list\n",
    "        current.next = node\n",
    "        current = current.next\n",
    "        \n",
    "        # If there's a next node in the same list, push it into the heap\n",
    "        if node.next:\n",
    "            heapq.heappush(min_heap, (node.next.val, i, node.next))\n",
    "    \n",
    "    return dummy.next"
   ]
  },
  {
   "cell_type": "code",
   "execution_count": 10,
   "id": "e8f3b6dc",
   "metadata": {},
   "outputs": [
    {
     "name": "stdout",
     "output_type": "stream",
     "text": [
      "\n",
      "Merged List:\n",
      "1 -> 1 -> 2 -> 3 -> 4 -> 4 -> 5 -> 6 -> None\n"
     ]
    }
   ],
   "source": [
    "mergedList = mergeKLists([list1, list2, list3])\n",
    "print(\"\\nMerged List:\")\n",
    "printList(mergedList)"
   ]
  },
  {
   "cell_type": "markdown",
   "id": "4bdea61c",
   "metadata": {},
   "source": [
    "## 30. Custom Sort String\n",
    "\n",
    "You are given two strings order and s. All the characters of order are unique and were sorted in some custom order previously.\n",
    "\n",
    "Permute the characters of s so that they match the order that order was sorted. More specifically, if a character x occurs before a character y in order, then x should occur before y in the permuted string.\n",
    "\n",
    "Return any permutation of s that satisfies this property."
   ]
  },
  {
   "cell_type": "code",
   "execution_count": 16,
   "id": "9c4ecaf0",
   "metadata": {},
   "outputs": [],
   "source": [
    "from collections import Counter\n",
    "\n",
    "# time --> O(N)\n",
    "# space --> O(N)\n",
    "\n",
    "def customSortString(order, s):\n",
    "    freq = Counter(s)\n",
    "    \n",
    "    result = []\n",
    "    \n",
    "    for letter in order:\n",
    "        if letter in freq:\n",
    "            result.append(letter * freq[letter])\n",
    "            del freq[letter]\n",
    "            \n",
    "    for letter, count in freq.items():\n",
    "        result.append(letter * count)\n",
    "        \n",
    "    return \"\".join(result)"
   ]
  },
  {
   "cell_type": "code",
   "execution_count": 17,
   "id": "898850fb",
   "metadata": {},
   "outputs": [
    {
     "data": {
      "text/plain": [
       "'bbcad'"
      ]
     },
     "execution_count": 17,
     "metadata": {},
     "output_type": "execute_result"
    }
   ],
   "source": [
    "order = \"bcafg\"\n",
    "s = \"abbcd\"\n",
    "\n",
    "customSortString(order, s)"
   ]
  },
  {
   "cell_type": "markdown",
   "id": "e00825ba",
   "metadata": {},
   "source": [
    "## 31. Moving average from data stream"
   ]
  },
  {
   "cell_type": "code",
   "execution_count": 136,
   "id": "f33bd096",
   "metadata": {},
   "outputs": [],
   "source": [
    "from collections import deque\n",
    "\n",
    "# Time --> O(1)\n",
    "# Space --> O(N) (N is size of the window)\n",
    "\n",
    "class MovingAverage:\n",
    "    def __init__(self, size):\n",
    "        self.size = size\n",
    "        self.count = 0\n",
    "        self.queue = deque()\n",
    "        self.window_sum = 0\n",
    "        \n",
    "    def next(self, val):\n",
    "        self.count += 1\n",
    "        \n",
    "        self.queue.append(val)\n",
    "        \n",
    "        tail = self.queue.popleft() if self.count > self.size else 0\n",
    "        \n",
    "        self.window_sum = self.window_sum - tail + val\n",
    "        \n",
    "        return (self.window_sum)/(min(self.count, self.size))"
   ]
  },
  {
   "cell_type": "code",
   "execution_count": 137,
   "id": "597890a0",
   "metadata": {},
   "outputs": [
    {
     "name": "stdout",
     "output_type": "stream",
     "text": [
      "1.0\n",
      "5.5\n",
      "4.666666666666667\n",
      "6.0\n"
     ]
    }
   ],
   "source": [
    "movingAverage = MovingAverage(3)\n",
    "print(movingAverage.next(1))\n",
    "print(movingAverage.next(10))\n",
    "print(movingAverage.next(3))\n",
    "print(movingAverage.next(5))"
   ]
  },
  {
   "cell_type": "markdown",
   "id": "bd5b3d8c",
   "metadata": {},
   "source": [
    "## 32. K Closest points to origin"
   ]
  },
  {
   "cell_type": "code",
   "execution_count": 138,
   "id": "641815a1",
   "metadata": {},
   "outputs": [],
   "source": [
    "## Brute force \n",
    "\n",
    "# Time --> O(nLogn)\n",
    "# Space --> O(logn)\n",
    "\n",
    "def kClosest(points, k):\n",
    "    def squared_distance(point):\n",
    "        return point[0]**2 + point[1]**2\n",
    "    \n",
    "    points.sort(key=squared_distance)\n",
    "    return points[:k]"
   ]
  },
  {
   "cell_type": "code",
   "execution_count": 139,
   "id": "2cadfa13",
   "metadata": {},
   "outputs": [
    {
     "data": {
      "text/plain": [
       "[[3, 3], [-2, 4]]"
      ]
     },
     "execution_count": 139,
     "metadata": {},
     "output_type": "execute_result"
    }
   ],
   "source": [
    "points = [[3,3],[5,-1],[-2,4]]\n",
    "k = 2\n",
    "kClosest(points, k)"
   ]
  },
  {
   "cell_type": "code",
   "execution_count": 150,
   "id": "b2f286d5",
   "metadata": {},
   "outputs": [],
   "source": [
    "# quickselect\n",
    "# Time --> O(n), worst case O(n^2)\n",
    "# space --> O(1)\n",
    "def kClosest(points, k):\n",
    "    distances = [x**2 + y**2 for x, y in points]\n",
    "    quickSelect(points, distances, 0, len(points) - 1, k - 1)\n",
    "    return points[:k]\n",
    "\n",
    "def quickSelect(nums, distances, left, right, k_smallest):\n",
    "    if left == right:\n",
    "        return\n",
    "    \n",
    "    partitionIndex = partition(nums, distances, left, right)\n",
    "    \n",
    "    if partitionIndex == k_smallest:\n",
    "        return\n",
    "    elif partitionIndex < k_smallest:\n",
    "        return quickSelect(nums, distances, partitionIndex + 1, right, k_smallest)\n",
    "    else:\n",
    "        return quickSelect(nums, distances, left, partitionIndex - 1, k_smallest)\n",
    "    \n",
    "def partition(nums, distances, left, right):\n",
    "    partitionIndex = left\n",
    "    pivotElement = distances[right]\n",
    "    \n",
    "    for j in range(left, right):\n",
    "        if distances[j] <= pivotElement:\n",
    "            distances[j], distances[partitionIndex] = distances[partitionIndex], distances[j]\n",
    "            nums[j], nums[partitionIndex] = nums[partitionIndex], nums[j]\n",
    "            partitionIndex += 1\n",
    "    distances[right], distances[partitionIndex] = distances[partitionIndex], distances[right]\n",
    "    nums[right], nums[partitionIndex] = nums[partitionIndex], nums[right]\n",
    "    return partitionIndex"
   ]
  },
  {
   "cell_type": "code",
   "execution_count": 151,
   "id": "1662c470",
   "metadata": {},
   "outputs": [
    {
     "name": "stdout",
     "output_type": "stream",
     "text": [
      "[[3, 3], [-2, 4]]\n"
     ]
    }
   ],
   "source": [
    "points = [[3, 3], [5, -1], [-2, 4]]\n",
    "k = 2\n",
    "print(kClosest(points, k))  # Output: [[3, 3], [-2, 4]]"
   ]
  },
  {
   "cell_type": "markdown",
   "id": "59d9781b",
   "metadata": {},
   "source": [
    "## 33. Next Permutation\n",
    "\n",
    "A permutation of an array of integers is an arrangement of its members into a sequence or linear order.\n",
    "\n",
    "For example, for arr = [1,2,3], the following are all the permutations of arr: [1,2,3], [1,3,2], [2, 1, 3], [2, 3, 1], [3,1,2], [3,2,1].\n",
    "The next permutation of an array of integers is the next lexicographically greater permutation of its integer. More formally, if all the permutations of the array are sorted in one container according to their lexicographical order, then the next permutation of that array is the permutation that follows it in the sorted container. If such arrangement is not possible, the array must be rearranged as the lowest possible order (i.e., sorted in ascending order).\n",
    "\n",
    "* For example, the next permutation of arr = [1,2,3] is [1,3,2].\n",
    "* Similarly, the next permutation of arr = [2,3,1] is [3,1,2].\n",
    "* While the next permutation of arr = [3,2,1] is [1,2,3] because [3,2,1] does not have a lexicographical larger rearrangement."
   ]
  },
  {
   "cell_type": "code",
   "execution_count": 154,
   "id": "b6da56c4",
   "metadata": {},
   "outputs": [],
   "source": [
    "# time --> O(n)\n",
    "# space --> O(1)\n",
    "\n",
    "def nextPermutation(nums):\n",
    "    n = len(nums)\n",
    "    if n <= 1:\n",
    "        return\n",
    "    \n",
    "    # Step 1: Find the first decreasing element\n",
    "    i = n - 2\n",
    "    while i >= 0 and nums[i] >= nums[i + 1]:\n",
    "        i -= 1\n",
    "\n",
    "    if i >= 0:  # Step 2: Find the smallest element greater than nums[i]\n",
    "        j = n - 1\n",
    "        while nums[j] <= nums[i]:\n",
    "            j -= 1\n",
    "        # Step 3: Swap nums[i] and nums[j]\n",
    "        nums[i], nums[j] = nums[j], nums[i]\n",
    "    \n",
    "    # Step 4: Reverse the subarray nums[i+1:]\n",
    "    left, right = i + 1, n - 1\n",
    "    while left < right:\n",
    "        nums[left], nums[right] = nums[right], nums[left]\n",
    "        left += 1\n",
    "        right -= 1"
   ]
  },
  {
   "cell_type": "code",
   "execution_count": 155,
   "id": "ec1d75dc",
   "metadata": {},
   "outputs": [
    {
     "data": {
      "text/plain": [
       "[2, 4, 1, 3, 5, 6]"
      ]
     },
     "execution_count": 155,
     "metadata": {},
     "output_type": "execute_result"
    }
   ],
   "source": [
    "nums = [2, 3, 6, 5, 4, 1]\n",
    "nextPermutation(nums)\n",
    "nums"
   ]
  },
  {
   "cell_type": "markdown",
   "id": "835f069c",
   "metadata": {},
   "source": [
    "## 34. Trapping rain water (Hard)"
   ]
  },
  {
   "cell_type": "code",
   "execution_count": 156,
   "id": "e7ff1990",
   "metadata": {},
   "outputs": [],
   "source": [
    "# Brute force\n",
    "# time --> O(n^2)\n",
    "# space --> O(1)\n",
    "def rain_water_brute_force(heights):\n",
    "    total_water = 0\n",
    "    \n",
    "    for p in range(len(heights)):\n",
    "        leftP = p\n",
    "        rightP = p\n",
    "        maxLeft = 0\n",
    "        maxRight = 0\n",
    "        \n",
    "        while leftP >= 0:\n",
    "            maxLeft = max(maxLeft, heights[leftP])\n",
    "            leftP -= 1\n",
    "        \n",
    "        while rightP < len(heights):\n",
    "            maxRight = max(maxRight, heights[rightP])\n",
    "            rightP += 1\n",
    "            \n",
    "        currentWater = min(maxLeft, maxRight) - heights[p]\n",
    "        \n",
    "        if currentWater > 0:\n",
    "            total_water += currentWater\n",
    "    return total_water"
   ]
  },
  {
   "cell_type": "code",
   "execution_count": 157,
   "id": "b6c62cdf",
   "metadata": {},
   "outputs": [
    {
     "data": {
      "text/plain": [
       "8"
      ]
     },
     "execution_count": 157,
     "metadata": {},
     "output_type": "execute_result"
    }
   ],
   "source": [
    "elevationArray = [0,1,0,2,1,0,3,1,0,1,2]\n",
    "rain_water_brute_force(elevationArray)"
   ]
  },
  {
   "cell_type": "code",
   "execution_count": 164,
   "id": "e44d1786",
   "metadata": {},
   "outputs": [],
   "source": [
    "# time --> O(n)\n",
    "# space --> O(1)\n",
    "def rain_water_better(heights):\n",
    "    leftP = 0\n",
    "    rightP = len(heights) - 1\n",
    "    maxLeft = 0\n",
    "    maxRight = 0\n",
    "    totalWater = 0\n",
    "    \n",
    "    while leftP < rightP:\n",
    "        if heights[leftP] < heights[rightP]:\n",
    "            if heights[leftP] < maxLeft:\n",
    "                totalWater += maxLeft - heights[leftP]\n",
    "            else:\n",
    "                maxLeft = heights[leftP]\n",
    "            leftP += 1\n",
    "        else:\n",
    "            if heights[rightP] < maxRight:\n",
    "                totalWater += maxRight - heights[rightP]\n",
    "            else:\n",
    "                maxRight = heights[rightP]\n",
    "            rightP -= 1\n",
    "    return totalWater"
   ]
  },
  {
   "cell_type": "code",
   "execution_count": 165,
   "id": "0ae0aed5",
   "metadata": {},
   "outputs": [
    {
     "data": {
      "text/plain": [
       "8"
      ]
     },
     "execution_count": 165,
     "metadata": {},
     "output_type": "execute_result"
    }
   ],
   "source": [
    "elevationArray = [0,1,0,2,1,0,3,1,0,1,2]\n",
    "rain_water_better(elevationArray)"
   ]
  },
  {
   "cell_type": "markdown",
   "id": "6ffd7e1a",
   "metadata": {},
   "source": [
    "## 35. Clone Graph\n",
    "\n",
    "Given a reference of a node in a connected undirected graph.\n",
    "\n",
    "Return a deep copy (clone) of the graph.\n",
    "\n",
    "Each node in the graph contains a value (int) and a list (List[Node]) of its neighbors.\n",
    "\n",
    "\n",
    "Test case format:\n",
    "\n",
    "For simplicity, each node's value is the same as the node's index (1-indexed). For example, the first node with val == 1, the second node with val == 2, and so on. The graph is represented in the test case using an adjacency list.\n",
    "\n",
    "An adjacency list is a collection of unordered lists used to represent a finite graph. Each list describes the set of neighbors of a node in the graph.\n",
    "\n",
    "The given node will always be the first node with val = 1. You must return the copy of the given node as a reference to the cloned graph."
   ]
  },
  {
   "cell_type": "code",
   "execution_count": 166,
   "id": "30d7a3b0",
   "metadata": {},
   "outputs": [],
   "source": [
    "# time --> O(V+E) (V: number of nodes, E: number of edges)\n",
    "# space --> O(N)\n",
    "\n",
    "def cloneGraph(node):\n",
    "    if not node:\n",
    "        return None\n",
    "\n",
    "    visited = {}\n",
    "\n",
    "    def dfs(currNode):\n",
    "        if currNode in visited:\n",
    "            return visited[currNode]\n",
    "\n",
    "        clone = Node(currNode.val)\n",
    "        visited[currNode] = clone\n",
    "\n",
    "        for neighbor in currNode.neighbors:\n",
    "            clone.neighbors.append(dfs(neighbor))\n",
    "\n",
    "        return clone\n",
    "\n",
    "    return dfs(node)"
   ]
  },
  {
   "cell_type": "markdown",
   "id": "19ae543c",
   "metadata": {},
   "source": [
    "## 36. Two Sum\n",
    "\n"
   ]
  },
  {
   "cell_type": "code",
   "execution_count": 170,
   "id": "1d4c5e39",
   "metadata": {},
   "outputs": [],
   "source": [
    "def twoSum(nums, target):\n",
    "    if len(nums) <= 1:\n",
    "        return None\n",
    "    \n",
    "    hashMap = {}\n",
    "    \n",
    "    for i in range(len(nums)):\n",
    "        if nums[i] not in hashMap.keys():\n",
    "            ntf = target - nums[i]\n",
    "            hashMap[ntf] = i\n",
    "        else:\n",
    "            return [hashMap[nums[i]], i]\n",
    "    return -1   "
   ]
  },
  {
   "cell_type": "code",
   "execution_count": 182,
   "id": "ca9e331c",
   "metadata": {},
   "outputs": [
    {
     "data": {
      "text/plain": [
       "[0, 1]"
      ]
     },
     "execution_count": 182,
     "metadata": {},
     "output_type": "execute_result"
    }
   ],
   "source": [
    "nums = [2,7,11,15]\n",
    "target = 9\n",
    "twoSum(nums, target)"
   ]
  },
  {
   "cell_type": "markdown",
   "id": "630a4644",
   "metadata": {},
   "source": [
    "## 37. Palindrome number"
   ]
  },
  {
   "cell_type": "code",
   "execution_count": 18,
   "id": "5d0a63dc",
   "metadata": {},
   "outputs": [],
   "source": [
    "# time --> O(d) (d: number of digits)\n",
    "# space --> O(d) (str representation holds a space of d)\n",
    "def isPalindrome(x):\n",
    "    return str(x) == str(x)[::-1]"
   ]
  },
  {
   "cell_type": "code",
   "execution_count": 19,
   "id": "f6f38e2c",
   "metadata": {},
   "outputs": [
    {
     "data": {
      "text/plain": [
       "True"
      ]
     },
     "execution_count": 19,
     "metadata": {},
     "output_type": "execute_result"
    }
   ],
   "source": [
    "isPalindrome(121)"
   ]
  },
  {
   "cell_type": "code",
   "execution_count": 183,
   "id": "97b75b64",
   "metadata": {},
   "outputs": [],
   "source": [
    "# time --> O(logn)\n",
    "# space --> O(1)\n",
    "\n",
    "def isPalindrome(x: int) -> bool:\n",
    "    # Negative numbers and numbers ending in 0 (except 0 itself) are not palindromes\n",
    "    if x < 0 or (x % 10 == 0 and x != 0):\n",
    "        return False\n",
    "\n",
    "    reversed_half = 0\n",
    "    while x > reversed_half:\n",
    "        # Extract the last digit and append it to reversed_half\n",
    "        reversed_half = reversed_half * 10 + x % 10\n",
    "        # Remove the last digit from x\n",
    "        x //= 10\n",
    "\n",
    "    # Check if the number is a palindrome\n",
    "    # For odd-length numbers, discard the middle digit using reversed_half // 10\n",
    "    return x == reversed_half or x == reversed_half // 10"
   ]
  },
  {
   "cell_type": "code",
   "execution_count": 184,
   "id": "0a339fbe",
   "metadata": {},
   "outputs": [
    {
     "data": {
      "text/plain": [
       "True"
      ]
     },
     "execution_count": 184,
     "metadata": {},
     "output_type": "execute_result"
    }
   ],
   "source": [
    "isPalindrome(121)"
   ]
  },
  {
   "cell_type": "markdown",
   "id": "76b31dae",
   "metadata": {},
   "source": [
    "## 38. Generate Parenthesis"
   ]
  },
  {
   "cell_type": "code",
   "execution_count": 194,
   "id": "748bbf8a",
   "metadata": {},
   "outputs": [],
   "source": [
    "# time --> O(2^n)\n",
    "# space --> O(n)\n",
    "\n",
    "def generateParenthesis(n):\n",
    "    def dfs(left, right, s):\n",
    "        if len(s) == 2 * n:\n",
    "            res.append(s)\n",
    "            return\n",
    "    \n",
    "        if left < n:\n",
    "            dfs(left + 1, right, s + '(')\n",
    "            \n",
    "        if right < left:\n",
    "            dfs(left, right + 1, s + ')')\n",
    "            \n",
    "    res = []\n",
    "    dfs(0, 0, '')\n",
    "    return res"
   ]
  },
  {
   "cell_type": "code",
   "execution_count": 195,
   "id": "d3c3ef32",
   "metadata": {},
   "outputs": [
    {
     "data": {
      "text/plain": [
       "['((()))', '(()())', '(())()', '()(())', '()()()']"
      ]
     },
     "execution_count": 195,
     "metadata": {},
     "output_type": "execute_result"
    }
   ],
   "source": [
    "n = 3\n",
    "generateParenthesis(n)"
   ]
  },
  {
   "cell_type": "markdown",
   "id": "84d2c5cd",
   "metadata": {},
   "source": [
    "## 39. Subarray sum equals K"
   ]
  },
  {
   "cell_type": "code",
   "execution_count": 200,
   "id": "957f6e0e",
   "metadata": {},
   "outputs": [],
   "source": [
    "# time --> O(n)\n",
    "# space --> O(n)\n",
    "def subarraySum(nums, k):\n",
    "    count = 0\n",
    "    cumulative_sum = 0\n",
    "    prefix_sums = defaultdict(int)\n",
    "    prefix_sums[0] = 1  # Initialize with sum 0 having one occurrence\n",
    "\n",
    "    for num in nums:\n",
    "        cumulative_sum += num\n",
    "\n",
    "        # Check if (cumulative_sum - k) exists in prefix_sums\n",
    "        if cumulative_sum - k in prefix_sums:\n",
    "            count += prefix_sums[cumulative_sum - k]\n",
    "\n",
    "        # Update the prefix_sums dictionary\n",
    "        prefix_sums[cumulative_sum] += 1\n",
    "\n",
    "    return count"
   ]
  },
  {
   "cell_type": "code",
   "execution_count": 201,
   "id": "9dce0a63",
   "metadata": {},
   "outputs": [
    {
     "data": {
      "text/plain": [
       "2"
      ]
     },
     "execution_count": 201,
     "metadata": {},
     "output_type": "execute_result"
    }
   ],
   "source": [
    "nums = [1,2,3]\n",
    "k = 3\n",
    "\n",
    "subarraySum(nums, k)"
   ]
  },
  {
   "cell_type": "markdown",
   "id": "9708cf3a",
   "metadata": {},
   "source": [
    "## 40. Kth missing positive number\n",
    "\n",
    "Given an array arr of positive integers sorted in a strictly increasing order, and an integer k.\n",
    "\n",
    "Return the kth positive integer that is missing from this array."
   ]
  },
  {
   "cell_type": "code",
   "execution_count": 210,
   "id": "878e0362",
   "metadata": {},
   "outputs": [],
   "source": [
    "# Brute force\n",
    "# time --> O(n)\n",
    "# space --> O(1)\n",
    "def findKthPositive(arr, k):\n",
    "    for num in arr:\n",
    "        #print(num)\n",
    "        if num <= k:\n",
    "            k += 1\n",
    "        elif num > k:\n",
    "            break\n",
    "    return k"
   ]
  },
  {
   "cell_type": "code",
   "execution_count": 211,
   "id": "90860b9d",
   "metadata": {},
   "outputs": [
    {
     "data": {
      "text/plain": [
       "9"
      ]
     },
     "execution_count": 211,
     "metadata": {},
     "output_type": "execute_result"
    }
   ],
   "source": [
    "arr = [2,3,4,7,11]\n",
    "k = 5\n",
    "findKthPositive(arr, k)"
   ]
  },
  {
   "cell_type": "markdown",
   "id": "a7e7b128",
   "metadata": {},
   "source": [
    "We need a way to check on how many positive integers are missing before the given array element to use binary search. \n",
    "\n",
    "To do that, let's compare the input array\n",
    "[2, 3, 4, 7, 11] with an array with no missing integers: [1, 2, 3, 4, 5]. \n",
    "\n",
    "The number of missing integers is a simple difference between the corresponding elements of these two arrays:\n",
    "\n",
    "* Before 2, there is 2 - 1 = 1 missing integer.\n",
    "\n",
    "* Before 3, there is 3 - 2 = 1 missing integer.\n",
    "\n",
    "* Before 4, there is 4 - 3 = 1 missing integer.\n",
    "\n",
    "* Before 7, there are 7 - 4 = 3 missing integers.\n",
    "\n",
    "* Before 11, there are 11 - 5 = 6 missing integers.\n",
    "\n",
    "The number of positive integers which are missing before the arr[idx] is equal to **arr[idx] - idx - 1**.\n",
    "\n"
   ]
  },
  {
   "cell_type": "code",
   "execution_count": 212,
   "id": "46c8fc76",
   "metadata": {},
   "outputs": [],
   "source": [
    "# time --> O(logn)\n",
    "# space \n",
    "def findKthPositive(arr, k):\n",
    "    left = 0\n",
    "    right = len(arr) - 1\n",
    "    \n",
    "    while left <= right:\n",
    "        mid = (left + right) // 2\n",
    "        # If number of positive integers\n",
    "        # which are missing before arr[pivot]\n",
    "        # is less than k -->\n",
    "        # continue to search on the right.\n",
    "        if arr[mid] - mid - 1 < k:\n",
    "            left = mid + 1\n",
    "        else:\n",
    "            right = mid - 1\n",
    "    # At the end of the loop, left = right + 1,\n",
    "    # and the kth missing is in-between arr[right] and arr[left].\n",
    "    # The number of integers missing before arr[right] is\n",
    "    # arr[right] - right - 1 -->\n",
    "    # the number to return is\n",
    "    # arr[right] + k - (arr[right] - right - 1) = k + left\n",
    "    return left + k"
   ]
  },
  {
   "cell_type": "code",
   "execution_count": 213,
   "id": "7a6e301a",
   "metadata": {},
   "outputs": [
    {
     "data": {
      "text/plain": [
       "9"
      ]
     },
     "execution_count": 213,
     "metadata": {},
     "output_type": "execute_result"
    }
   ],
   "source": [
    "arr = [2,3,4,7,11]\n",
    "k = 5\n",
    "findKthPositive(arr, k)"
   ]
  },
  {
   "cell_type": "markdown",
   "id": "417e7d58",
   "metadata": {},
   "source": [
    "## 41. Binary tree right side view"
   ]
  },
  {
   "cell_type": "code",
   "execution_count": 214,
   "id": "701996ac",
   "metadata": {},
   "outputs": [],
   "source": [
    "# time --> O(n)\n",
    "# space --> O(h)\n",
    "\n",
    "# For BFS, a full and complete tree gives the worst Big O. For DFS, a highly left skewed tree gives the worst\n",
    "# Big O. So if it is skewed, it's better to use BFS and if it is a full and complete tree, it's better to use DFS.\n",
    "# In BFS, the worst O space is O(w), where w is the fattest width of the tree and for DFS, the worst O space is \n",
    "# O(H) where H is the height of the tree\n",
    "\n",
    "\n",
    "def rightSideView(root):\n",
    "    if not root:\n",
    "        return []\n",
    "    \n",
    "    result = []\n",
    "    queue = [root]\n",
    "    \n",
    "    while queue:\n",
    "        queueLength = len(queue)\n",
    "        counter = 0\n",
    "        \n",
    "        while counter < queueLength:\n",
    "            currNode = queue.pop(0)\n",
    "            \n",
    "            if currNode.left:\n",
    "                queue.append(currNode.left)\n",
    "            \n",
    "            if currNode.right:\n",
    "                queue.append(currNode.right)\n",
    "                \n",
    "            counter += 1\n",
    "        \n",
    "        result.append(currNode.val)\n",
    "    return result"
   ]
  },
  {
   "cell_type": "code",
   "execution_count": 215,
   "id": "dee63cba",
   "metadata": {},
   "outputs": [
    {
     "data": {
      "text/plain": [
       "[9, 20, 170]"
      ]
     },
     "execution_count": 215,
     "metadata": {},
     "output_type": "execute_result"
    }
   ],
   "source": [
    "rightSideView(root)"
   ]
  },
  {
   "cell_type": "markdown",
   "id": "223acd13",
   "metadata": {},
   "source": [
    "## 42. Closest Binary search tree value\n",
    "\n",
    "Given the root of a binary search tree and a target value, return the value in the BST that is closest to the target. If there are multiple answers, print the smallest.\n",
    "\n"
   ]
  },
  {
   "cell_type": "code",
   "execution_count": 221,
   "id": "e7093b64",
   "metadata": {},
   "outputs": [],
   "source": [
    "#       9\n",
    "#    4     20\n",
    "#  1  6  15   170\n",
    "\n",
    "# time --> O(N)\n",
    "# space --> O(N)\n",
    "def closestValue(root, target):\n",
    "    if not root:\n",
    "        return None\n",
    "    \n",
    "    result = float('inf')\n",
    "    \n",
    "    queue = [root]\n",
    "    \n",
    "    while queue:\n",
    "        currNode = queue.pop(0)\n",
    "                \n",
    "        if (\n",
    "            abs(currNode.val - target) < abs(result - target) or\n",
    "            (abs(currNode.val - target) == abs(result - target) and currNode.val < result)\n",
    "            ):\n",
    "            result = currNode.val\n",
    "            \n",
    "        if currNode.left:\n",
    "            queue.append(currNode.left)\n",
    "            \n",
    "        if currNode.right:\n",
    "            queue.append(currNode.right)\n",
    "            \n",
    "    return result"
   ]
  },
  {
   "cell_type": "code",
   "execution_count": 222,
   "id": "ad3e8c07",
   "metadata": {},
   "outputs": [
    {
     "data": {
      "text/plain": [
       "20"
      ]
     },
     "execution_count": 222,
     "metadata": {},
     "output_type": "execute_result"
    }
   ],
   "source": [
    "closestValue(root, 18)"
   ]
  },
  {
   "cell_type": "code",
   "execution_count": 223,
   "id": "39e910ee",
   "metadata": {},
   "outputs": [],
   "source": [
    "# Binary search\n",
    "# time --> O(H)\n",
    "# space --> O(1)\n",
    "def closestValue(root, target):\n",
    "    closest = root.val\n",
    "    \n",
    "    while root:\n",
    "        closest = min(closest, root.val, key = lambda x: (abs(target - x), x))\n",
    "        root = root.left if target < root.val else root.right\n",
    "    return closest"
   ]
  },
  {
   "cell_type": "code",
   "execution_count": 224,
   "id": "f259ebc6",
   "metadata": {},
   "outputs": [
    {
     "data": {
      "text/plain": [
       "20"
      ]
     },
     "execution_count": 224,
     "metadata": {},
     "output_type": "execute_result"
    }
   ],
   "source": [
    "closestValue(root, 18)"
   ]
  },
  {
   "cell_type": "markdown",
   "id": "460e6a4d",
   "metadata": {},
   "source": [
    "## 43. Longest common prefix"
   ]
  },
  {
   "cell_type": "code",
   "execution_count": 229,
   "id": "8382667b",
   "metadata": {},
   "outputs": [],
   "source": [
    "# time --> O(S) (S = m.n where m is the number of strings and n is the length of the shortest string)\n",
    "# space --> O(m + n) (prefix stores n and set stores m. zip is o(1) as it does lazily)\n",
    "\n",
    "def longestCommonPrefix(strs):\n",
    "    prefix = []\n",
    "    \n",
    "    for x in zip(*strs):\n",
    "        if len(set(x)) == 1:\n",
    "            prefix.append(x[0])\n",
    "        else:\n",
    "            break\n",
    "    return \"\".join(prefix)"
   ]
  },
  {
   "cell_type": "code",
   "execution_count": 230,
   "id": "c8b92705",
   "metadata": {},
   "outputs": [
    {
     "data": {
      "text/plain": [
       "'fl'"
      ]
     },
     "execution_count": 230,
     "metadata": {},
     "output_type": "execute_result"
    }
   ],
   "source": [
    "strs = [\"flower\",\"flow\",\"flight\"]\n",
    "\n",
    "longestCommonPrefix(strs)"
   ]
  },
  {
   "cell_type": "markdown",
   "id": "4d467c38",
   "metadata": {},
   "source": [
    "## 44. Valid Number"
   ]
  },
  {
   "cell_type": "code",
   "execution_count": 234,
   "id": "9ea02b78",
   "metadata": {},
   "outputs": [],
   "source": [
    "# DFA method\n",
    "# time --> O(n)\n",
    "# space --> O(1)\n",
    "def isNumber(s: str) -> bool:\n",
    "        # Define the states and valid transitions\n",
    "        dfa = {\n",
    "            0: {\"sign\": 1, \"digit\": 2, \"dot\": 3},      # Start\n",
    "            1: {\"digit\": 2, \"dot\": 3},                 # Sign\n",
    "            2: {\"digit\": 2, \"dot\": 4, \"exp\": 5},       # Integer\n",
    "            3: {\"digit\": 4},                           # Decimal without leading digits\n",
    "            4: {\"digit\": 4, \"exp\": 5},                 # Decimal with digits\n",
    "            5: {\"sign\": 6, \"digit\": 7},                # Exponent\n",
    "            6: {\"digit\": 7},                           # Exponent Sign\n",
    "            7: {\"digit\": 7},                           # Exponent Digits\n",
    "        }\n",
    "        \n",
    "        # Initial state\n",
    "        state = 0\n",
    "\n",
    "        # Character type mapping\n",
    "        def char_type(ch):\n",
    "            if ch in \"+-\":\n",
    "                return \"sign\"\n",
    "            if ch.isdigit():\n",
    "                return \"digit\"\n",
    "            if ch == \".\":\n",
    "                return \"dot\"\n",
    "            if ch in \"eE\":\n",
    "                return \"exp\"\n",
    "            return None\n",
    "\n",
    "        # Process the input string\n",
    "        for char in s.strip():\n",
    "            char_class = char_type(char)\n",
    "            if char_class not in dfa[state]:\n",
    "                return False\n",
    "            state = dfa[state][char_class]\n",
    "\n",
    "        # Valid end states\n",
    "        return state in {2, 4, 7}\n",
    "        "
   ]
  },
  {
   "cell_type": "code",
   "execution_count": 239,
   "id": "a4fb9a8b",
   "metadata": {},
   "outputs": [
    {
     "data": {
      "text/plain": [
       "True"
      ]
     },
     "execution_count": 239,
     "metadata": {},
     "output_type": "execute_result"
    }
   ],
   "source": [
    "isNumber(\"3.14e+10\")"
   ]
  },
  {
   "cell_type": "code",
   "execution_count": 237,
   "id": "6ae8a7f0",
   "metadata": {},
   "outputs": [],
   "source": [
    "# regex\n",
    "# time --> O(n)\n",
    "# space --> O(1)\n",
    "\n",
    "import re\n",
    "\n",
    "def isNumber(s: str) -> bool:\n",
    "    # Regular expression to validate the number\n",
    "    pattern = re.compile(r\"\"\"\n",
    "        ^                   # Start of string\n",
    "        [+-]?               # Optional sign\n",
    "        (                   # Start of main number\n",
    "            (\\d+\\.\\d*) |    # Case 1: Digits followed by a dot and optional digits\n",
    "            (\\.\\d+) |       # Case 2: Dot followed by digits\n",
    "            (\\d+)           # Case 3: Only digits\n",
    "        )                   # End of main number\n",
    "        (                   # Optional exponent\n",
    "            [eE][+-]?\\d+    # Exponent with optional sign and digits\n",
    "        )?                  # Exponent is optional\n",
    "        $                   # End of string\n",
    "    \"\"\", re.VERBOSE)\n",
    "\n",
    "    return bool(pattern.match(s))\n"
   ]
  },
  {
   "cell_type": "code",
   "execution_count": 241,
   "id": "a6e2b14f",
   "metadata": {},
   "outputs": [
    {
     "data": {
      "text/plain": [
       "True"
      ]
     },
     "execution_count": 241,
     "metadata": {},
     "output_type": "execute_result"
    }
   ],
   "source": [
    "isNumber(\"3.14e+10\")"
   ]
  },
  {
   "cell_type": "markdown",
   "id": "b44f9220",
   "metadata": {},
   "source": [
    "## 45. Best time to buy and sell stocks"
   ]
  },
  {
   "cell_type": "code",
   "execution_count": 242,
   "id": "04d3e6d0",
   "metadata": {},
   "outputs": [],
   "source": [
    "## Brute force\n",
    "# time --> O(n^2)\n",
    "# space --> O(n)\n",
    "def maxProfit(prices):\n",
    "    max_profit = 0\n",
    "    \n",
    "    for i in range(len(prices) - 1):\n",
    "        for j in range(i, len(prices)):\n",
    "            profit = prices[j] - prices[i]\n",
    "            max_profit = max(profit, max_profit)\n",
    "    return max_profit\n"
   ]
  },
  {
   "cell_type": "code",
   "execution_count": 243,
   "id": "11e3957d",
   "metadata": {},
   "outputs": [
    {
     "data": {
      "text/plain": [
       "5"
      ]
     },
     "execution_count": 243,
     "metadata": {},
     "output_type": "execute_result"
    }
   ],
   "source": [
    "prices = [7,1,5,3,6,4]\n",
    "maxProfit(prices)"
   ]
  },
  {
   "cell_type": "code",
   "execution_count": 244,
   "id": "5b9be571",
   "metadata": {},
   "outputs": [
    {
     "data": {
      "text/plain": [
       "0"
      ]
     },
     "execution_count": 244,
     "metadata": {},
     "output_type": "execute_result"
    }
   ],
   "source": [
    "prices = [7,6,4,3,1]\n",
    "maxProfit(prices)"
   ]
  },
  {
   "cell_type": "code",
   "execution_count": 245,
   "id": "7c51976e",
   "metadata": {},
   "outputs": [],
   "source": [
    "# time --> O(n)\n",
    "# space --> O(1)\n",
    "def maxProfit(prices):\n",
    "    minPrice = float(\"inf\")\n",
    "    maxProfit = 0\n",
    "    \n",
    "    for i in range(len(prices)):\n",
    "        if prices[i] < minPrice:\n",
    "            minPrice = prices[i]\n",
    "        \n",
    "        if prices[i] - minPrice > maxProfit:\n",
    "            maxProfit = prices[i] - minPrice\n",
    "    return maxProfit"
   ]
  },
  {
   "cell_type": "code",
   "execution_count": 246,
   "id": "55320801",
   "metadata": {},
   "outputs": [
    {
     "data": {
      "text/plain": [
       "5"
      ]
     },
     "execution_count": 246,
     "metadata": {},
     "output_type": "execute_result"
    }
   ],
   "source": [
    "prices = [7,1,5,3,6,4]\n",
    "maxProfit(prices)"
   ]
  },
  {
   "cell_type": "markdown",
   "id": "ec7e967f",
   "metadata": {},
   "source": [
    "## 46. Copy list with random pointers"
   ]
  },
  {
   "cell_type": "code",
   "execution_count": 247,
   "id": "5ba6bf08",
   "metadata": {},
   "outputs": [],
   "source": [
    "# time --> O(n)\n",
    "# space --> O(n)\n",
    "\n",
    "class Solution:\n",
    "    def __init__(self):\n",
    "        self.visitedHash = {}\n",
    "    def copyRandomList(self, head):\n",
    "        if not head:\n",
    "            return None\n",
    "        \n",
    "        if head in self.visitedHash:\n",
    "            return self.visitedHash[head]\n",
    "        \n",
    "        node = Node(head.val, 0, 0)\n",
    "        \n",
    "        self.visitedHash[head] = node\n",
    "        \n",
    "        node.next = self.copyRandomList(head.next)\n",
    "        node.random = self.copyRandomList(head.random)\n",
    "        \n",
    "        return node"
   ]
  },
  {
   "cell_type": "markdown",
   "id": "485d2a52",
   "metadata": {},
   "source": [
    "## 47. Maximum Swap\n",
    "\n",
    "You are given an integer num. You can swap two digits at most once to get the maximum valued number.\n",
    "\n",
    "Return the maximum valued number you can get.\n",
    "\n",
    " \n",
    "\n",
    "Example 1:\n",
    "\n",
    "Input: num = 2736\n",
    "Output: 7236\n",
    "Explanation: Swap the number 2 and the number 7.\n"
   ]
  },
  {
   "cell_type": "code",
   "execution_count": 258,
   "id": "bd5d391b",
   "metadata": {},
   "outputs": [],
   "source": [
    "# Time --> O(n)\n",
    "# space --> O(n)\n",
    "\n",
    "def maximumSwap(num:int):\n",
    "    digits = list(str(num))\n",
    "    \n",
    "    rightmost = {int(d): i for i, d in enumerate(digits)}\n",
    "    \n",
    "    for i, d in enumerate(digits):\n",
    "        for larger_digit in range(9, int(d), -1):\n",
    "            if rightmost.get(larger_digit, -1) > i:\n",
    "                digits[i], digits[rightmost[larger_digit]] = digits[rightmost[larger_digit]], digits[i]\n",
    "                return int(\"\".join(digits))\n",
    "    \n",
    "    # if no digit could be swapped\n",
    "    return num"
   ]
  },
  {
   "cell_type": "code",
   "execution_count": 260,
   "id": "4b3c8505",
   "metadata": {},
   "outputs": [
    {
     "data": {
      "text/plain": [
       "9732"
      ]
     },
     "execution_count": 260,
     "metadata": {},
     "output_type": "execute_result"
    }
   ],
   "source": [
    "num = 2739\n",
    "maximumSwap(num)"
   ]
  },
  {
   "cell_type": "markdown",
   "id": "edc1e215",
   "metadata": {},
   "source": [
    "## 48. Accounts merge"
   ]
  },
  {
   "cell_type": "code",
   "execution_count": 5,
   "id": "c5a287be",
   "metadata": {},
   "outputs": [],
   "source": [
    "from collections import defaultdict\n",
    "# time --> O(NKlogNK) (N: Number of accounts, K: maximum length of an account)\n",
    "# space --> O(NK)\n",
    "def accountsMerge(accounts):\n",
    "    visited = [False] * len(accounts)\n",
    "    email_accounts_map = defaultdict(list)\n",
    "    result = []\n",
    "    \n",
    "    for i, account in enumerate(accounts):\n",
    "        for j in range(1, len(account)):\n",
    "            email = account[j]\n",
    "            email_accounts_map[email].append(i)\n",
    "        \n",
    "    print(email_accounts_map)\n",
    "            \n",
    "    def dfs(i, emails):\n",
    "        if visited[i]:\n",
    "            return\n",
    "        \n",
    "        visited[i] = True\n",
    "        \n",
    "        for j in range(1, len(accounts[i])):\n",
    "            email = accounts[i][j]\n",
    "            emails.add(email)\n",
    "            for neighbors in email_accounts_map[email]:\n",
    "                dfs(neighbors, emails)\n",
    "    \n",
    "    for i, account in enumerate(accounts):\n",
    "        if visited[i]:\n",
    "            continue\n",
    "        name, emails = account[0], set()\n",
    "        dfs(i, emails)\n",
    "        result.append([name] + sorted(emails))\n",
    "    return result"
   ]
  },
  {
   "cell_type": "code",
   "execution_count": 6,
   "id": "829ccfea",
   "metadata": {},
   "outputs": [
    {
     "name": "stdout",
     "output_type": "stream",
     "text": [
      "defaultdict(<class 'list'>, {'johnsmith@mail.com': [0, 1], 'john_newyork@mail.com': [0], 'john00@mail.com': [1], 'mary@mail.com': [2], 'johnnybravo@mail.com': [3]})\n"
     ]
    },
    {
     "data": {
      "text/plain": [
       "[['John', 'john00@mail.com', 'john_newyork@mail.com', 'johnsmith@mail.com'],\n",
       " ['Mary', 'mary@mail.com'],\n",
       " ['John', 'johnnybravo@mail.com']]"
      ]
     },
     "execution_count": 6,
     "metadata": {},
     "output_type": "execute_result"
    }
   ],
   "source": [
    "accounts = [[\"John\",\"johnsmith@mail.com\",\"john_newyork@mail.com\"],[\"John\",\"johnsmith@mail.com\",\"john00@mail.com\"],\n",
    "            [\"Mary\",\"mary@mail.com\"],[\"John\",\"johnnybravo@mail.com\"]]\n",
    "\n",
    "accountsMerge(accounts)"
   ]
  },
  {
   "cell_type": "markdown",
   "id": "eae2b7cf",
   "metadata": {},
   "source": [
    "## 49. Insert into a sorted circular Linked List\n",
    "\n",
    "Now, the tricky part of this problem is to sort out different cases that our algorithm should deal with within the loop, and then design a concise logic to handle them sound and properly. Here we break it down into three general cases.\n",
    "\n",
    "* Case 1). The value of new node sits between the minimal and maximal values of the current list. As a result, it should be inserted within the list.\n",
    "\n",
    "* Case 2). The value of new node goes beyond the minimal and maximal values of the current list, either less than the minimal value or greater than the maximal value. In either case, the new node should be added right after the tail node (i.e. the node with the maximal value of the list).\n",
    "\n",
    "* Case 3). Finally, there is one case that does not fall into any of the above two cases. This is the case where the list contains uniform values."
   ]
  },
  {
   "cell_type": "code",
   "execution_count": 27,
   "id": "d7770e8c",
   "metadata": {},
   "outputs": [],
   "source": [
    "# time --> O(n)\n",
    "# space --> O(1)\n",
    "\n",
    "def insert(head, insertVal):\n",
    "\n",
    "    if head == None:\n",
    "        newNode = Node(insertVal, None)\n",
    "        newNode.next = newNode\n",
    "        return newNode\n",
    "\n",
    "    prev, curr = head, head.next\n",
    "    toInsert = False\n",
    "\n",
    "    while True:\n",
    "\n",
    "        if prev.val <= insertVal <= curr.val:\n",
    "            # Case #1.\n",
    "            toInsert = True\n",
    "        elif prev.val > curr.val:\n",
    "            # Case #2. where we locate the tail element\n",
    "            # 'prev' points to the tail, i.e. the largest element!\n",
    "            if insertVal >= prev.val or insertVal <= curr.val:\n",
    "                toInsert = True\n",
    "\n",
    "        if toInsert:\n",
    "            prev.next = Node(insertVal, curr)\n",
    "            # mission accomplished\n",
    "            return head\n",
    "\n",
    "        prev, curr = curr, curr.next\n",
    "        # loop condition\n",
    "        if prev == head:\n",
    "            break\n",
    "    # Case #3.\n",
    "    # did not insert the node in the loop\n",
    "    prev.next = Node(insertVal, curr)\n",
    "    return head"
   ]
  },
  {
   "cell_type": "markdown",
   "id": "ef0abb52",
   "metadata": {},
   "source": [
    "## 50. Minimum Number of Operations to Move All Balls to Each Box"
   ]
  },
  {
   "cell_type": "code",
   "execution_count": 34,
   "id": "97b57420",
   "metadata": {},
   "outputs": [],
   "source": [
    "# time --> O(n)\n",
    "# space --> O(n)\n",
    "def minOperations(boxes):\n",
    "    n = len(boxes)\n",
    "    answer = [0]*n\n",
    "    \n",
    "    operations = 0\n",
    "    balls = 0\n",
    "    \n",
    "    for i in range(n):\n",
    "        answer[i] += operations\n",
    "        balls += int(boxes[i])\n",
    "        operations += balls\n",
    "    \n",
    "    operations = 0\n",
    "    balls = 0\n",
    "    for i in range(n-1, -1, -1):\n",
    "        answer[i] += operations\n",
    "        balls += int(boxes[i])\n",
    "        operations += balls\n",
    "        \n",
    "    return answer"
   ]
  },
  {
   "cell_type": "code",
   "execution_count": 35,
   "id": "e1aee0aa",
   "metadata": {},
   "outputs": [
    {
     "data": {
      "text/plain": [
       "[11, 8, 5, 4, 3, 4]"
      ]
     },
     "execution_count": 35,
     "metadata": {},
     "output_type": "execute_result"
    }
   ],
   "source": [
    "boxes = \"001011\"\n",
    "minOperations(boxes)"
   ]
  },
  {
   "cell_type": "markdown",
   "id": "c7083ba0",
   "metadata": {},
   "source": [
    "## 51. Add Strings\n",
    "\n",
    "Facebook interviewers like this question and propose it in four main variations. The choice of algorithm should be based on the input format:\n",
    "\n",
    "1. Strings (the current problem).\n",
    "\n",
    "Use schoolbook digit-by-digit addition. Note, that to fit into constant space is not possible for languages with immutable strings, for example, for Java and Python. Here are two examples:\n",
    "\n",
    "  * Add Binary: sum two binary strings. (https://leetcode.com/articles/add-binary/)\n",
    "\n",
    "  * Add Strings: sum two non-negative numbers in a string representation without converting them to integers directly. (https://leetcode.com/problems/add-strings/)\n",
    "\n",
    "2. Integers.\n",
    "\n",
    "Usually, the interviewer would ask you to implement a sum without using + and - operators. Use the bit manipulation approach. Here is an example:\n",
    "\n",
    "  * Sum of Two Integers: Sum two integers without using + and - operators. (https://leetcode.com/articles/sum-of-two-integers/)\n",
    "  \n",
    "3. Arrays.\n",
    "The same textbook addition. Here is an example:\n",
    "\n",
    "  * Add to Array Form of Integer. (https://leetcode.com/articles/add-to-array-form-of-integer/)\n",
    "\n",
    "4. Linked Lists.\n",
    "Sentinel Head + Textbook Addition. Here are some examples:\n",
    "\n",
    "  * Plus One. (https://leetcode.com/articles/plus-one/)\n",
    "\n",
    "  * Add Two Numbers. (https://leetcode.com/articles/add-two-numbers/)\n",
    "\n",
    "  * Add Two Numbers II. (https://leetcode.com/problems/add-two-numbers-ii/)"
   ]
  },
  {
   "cell_type": "code",
   "execution_count": 43,
   "id": "3a6be415",
   "metadata": {},
   "outputs": [],
   "source": [
    "def addStrings(num1, num2):\n",
    "    result = []\n",
    "    carry = 0\n",
    "    \n",
    "    p1 = len(num1) - 1\n",
    "    p2 = len(num2) - 1\n",
    "    \n",
    "    while p1 >= 0 or p2 >= 0:\n",
    "        x1 = ord(num1[p1]) - ord('0') if p1 >= 0 else 0\n",
    "        x2 = ord(num2[p2]) - ord('0') if p2 >= 0 else 0\n",
    "        \n",
    "        value = (x1 + x2 + carry) % 10\n",
    "        carry = (x1 + x2 + carry) // 10\n",
    "        \n",
    "        result.append(value)\n",
    "        \n",
    "        p1 -= 1\n",
    "        p2 -= 1\n",
    "        \n",
    "    if carry:\n",
    "        result.append(carry)\n",
    "        \n",
    "    return ''.join(str(x) for x in result[::-1])"
   ]
  },
  {
   "cell_type": "code",
   "execution_count": 44,
   "id": "9917073b",
   "metadata": {},
   "outputs": [
    {
     "data": {
      "text/plain": [
       "'134'"
      ]
     },
     "execution_count": 44,
     "metadata": {},
     "output_type": "execute_result"
    }
   ],
   "source": [
    "num1 = \"11\"\n",
    "num2 = \"123\"\n",
    "\n",
    "addStrings(num1, num2)"
   ]
  },
  {
   "cell_type": "markdown",
   "id": "48f94087",
   "metadata": {},
   "source": [
    "## 52. Vertical Order traversal of a binary tree\n",
    "\n",
    "The difference between this and Question 6 is that in question 6, we could have unsorted arrays in the sub arrays themselves. But here, those also needs to be sorted"
   ]
  },
  {
   "cell_type": "code",
   "execution_count": 45,
   "id": "4abc0ff1",
   "metadata": {},
   "outputs": [],
   "source": [
    "from collections import defaultdict\n",
    "\n",
    "# time --> O(n + mklogk) (n: number of nodes in the tree, k: number of nodes in the column, m is the number of columns)\n",
    "# space --> O(n)\n",
    "def verticalTraversal(root):\n",
    "    if not root:\n",
    "        return []\n",
    "    \n",
    "    columnTable = defaultdict(list)\n",
    "    queue = [[root, 0, 0]]\n",
    "    minCol = 0\n",
    "    maxCol = 0\n",
    "    \n",
    "    while queue:\n",
    "        currNode, currCol, currRow = queue.pop(0)\n",
    "        \n",
    "        if currNode:\n",
    "            columnTable[currCol].append((currRow, currNode.val))\n",
    "            minCol = min(minCol, currCol)\n",
    "            maxCol = max(maxCol, currCol)\n",
    "            \n",
    "            queue.append((currNode.left, currCol - 1, currRow + 1))\n",
    "            queue.append((currNode.right, currCol + 1, currRow + 1))\n",
    "            \n",
    "    \n",
    "    sortedResult = []\n",
    "    \n",
    "    for col in range(minCol, maxCol + 1):\n",
    "        sortedColumn = sorted(columnTable[col], key=lambda x: (x[0], x[1]))\n",
    "        sortedResult.append([val for _, val in sortedColumn])\n",
    "        \n",
    "    return sortedResult"
   ]
  },
  {
   "cell_type": "code",
   "execution_count": 46,
   "id": "c81385e5",
   "metadata": {},
   "outputs": [
    {
     "data": {
      "text/plain": [
       "[[1], [4], [9, 6, 15], [20], [170]]"
      ]
     },
     "execution_count": 46,
     "metadata": {},
     "output_type": "execute_result"
    }
   ],
   "source": [
    "verticalTraversal(root)"
   ]
  },
  {
   "cell_type": "markdown",
   "id": "22dcc6d7",
   "metadata": {},
   "source": [
    "## 53. Continuous Subarray sum\n",
    "\n",
    "Given an integer array nums and an integer k, return true if nums has a good subarray or false otherwise.\n",
    "\n",
    "A good subarray is a subarray where:\n",
    "\n",
    "* its length is at least two, and\n",
    "* the sum of the elements of the subarray is a multiple of k.\n",
    "\n",
    "Note that:\n",
    "\n",
    "* A subarray is a contiguous part of the array.\n",
    "* An integer x is a multiple of k if there exists an integer n such that x = n * k. 0 is always a multiple of k.\n",
    "\n",
    "Example 1:\n",
    "\n",
    "Input: nums = [23,2,4,6,7], k = 6\n",
    "Output: true\n",
    "Explanation: [2, 4] is a continuous subarray of size 2 whose elements sum up to 6.\n",
    "\n",
    "\n",
    "Example 2:\n",
    "\n",
    "Input: nums = [23,2,6,4,7], k = 6\n",
    "Output: true\n",
    "Explanation: [23, 2, 6, 4, 7] is an continuous subarray of size 5 whose elements sum up to 42.\n",
    "42 is a multiple of 6 because 42 = 7 * 6 and 7 is an integer.\n",
    "\n",
    "### Explanations\n",
    "\n",
    "### Step-by-Step Approach for Checking Subarray Sum Divisible by \\(k\\)\n",
    "\n",
    "#### 1. Clarify the Problem\n",
    "- The goal is to determine whether the input array `nums` contains a **contiguous subarray** of length at least 2 whose sum is divisible by \\(k\\).\n",
    "- Key points:\n",
    "  - The subarray sum is divisible by \\(k\\) if:\n",
    "    \\[\n",
    "    \\text{(prefix sum)} \\% k = 0\n",
    "    \\]\n",
    "  - A remainder seen earlier indicates that a subarray with the required property exists between the previous occurrence and the current index.\n",
    "- Ask clarifying questions:\n",
    "  - What should be returned if \\(k = 0\\)? (Usually undefined, but it can be clarified.)\n",
    "  - Can the array contain negative numbers? (Yes, modulo works for negatives in Python.)\n",
    "\n",
    "---\n",
    "\n",
    "#### 2. Plan the Approach\n",
    "\n",
    "We solve this using a **prefix sum modulo** approach:\n",
    "1. **Prefix Sum with Modulo**:\n",
    "   - Compute the cumulative sum (`prefix_mod`) modulo \\(k\\) at each index. If the same modulo is seen twice, it indicates a subarray sum divisible by \\(k\\) exists between those indices.\n",
    "\n",
    "2. **Hash Map for Efficient Lookup**:\n",
    "   - Use a dictionary `mod_seen` to store the first index where each remainder (modulo \\(k\\)) was seen.\n",
    "   - Initialize `mod_seen` with `{0: -1}` to handle cases where a valid subarray starts at index 0.\n",
    "\n",
    "3. **Check Subarray Length**:\n",
    "   - When the current remainder is found in `mod_seen`, ensure that the subarray length is at least 2.\n",
    "\n",
    "---\n",
    "\n",
    "#### 3. Complexity Analysis\n",
    "\n",
    "- **Time Complexity**:\n",
    "  - \\(O(n)\\): Each element is processed once, and dictionary operations are \\(O(1)\\) on average.\n",
    "- **Space Complexity**:\n",
    "  - \\(O(n)\\): Space is required to store the `mod_seen` dictionary.\n",
    "\n",
    "---\n",
    "\n"
   ]
  },
  {
   "cell_type": "code",
   "execution_count": 15,
   "id": "c58efd22",
   "metadata": {},
   "outputs": [],
   "source": [
    "# time --> O(n)\n",
    "# space --> O(n)\n",
    "\n",
    "def checkSubarraySum(nums, k):\n",
    "    prefix_mod = 0\n",
    "    mod_seen = {0:-1}\n",
    "    \n",
    "    for i in range(len(nums)):\n",
    "        prefix_mod = (prefix_mod + nums[i]) % k\n",
    "        #print(prefix_mod, mod_seen)\n",
    "        if prefix_mod in mod_seen:\n",
    "            if (i - mod_seen[prefix_mod]) > 1:\n",
    "                return True\n",
    "        else:\n",
    "            mod_seen[prefix_mod] = i\n",
    "    return False"
   ]
  },
  {
   "cell_type": "code",
   "execution_count": 16,
   "id": "5771eca9",
   "metadata": {},
   "outputs": [
    {
     "data": {
      "text/plain": [
       "True"
      ]
     },
     "execution_count": 16,
     "metadata": {},
     "output_type": "execute_result"
    }
   ],
   "source": [
    "#prefix_mod = 0, mod_seen = {0:-1}\n",
    "#prefix_mod = 5, mod_seen = {0:-1, 5:0, }\n",
    "#prefix_mod = 1, mod_seen = {0:-1, 5:0, 1:1}\n",
    "#prefix_mod = 5, it is in mod_seen. i = 2 and mod_seen[prefix_mod] = 0. So i - mod_seen[prefix_mod] = 2 (>1)\n",
    "#So, True\n",
    "nums = [23,2,4,6,7]\n",
    "k = 6\n",
    "\n",
    "checkSubarraySum(nums, k)"
   ]
  },
  {
   "cell_type": "code",
   "execution_count": 17,
   "id": "bcf7d098",
   "metadata": {},
   "outputs": [
    {
     "data": {
      "text/plain": [
       "False"
      ]
     },
     "execution_count": 17,
     "metadata": {},
     "output_type": "execute_result"
    }
   ],
   "source": [
    "nums = [-23,2,6,4,7]\n",
    "k = 16\n",
    "checkSubarraySum(nums, k)"
   ]
  },
  {
   "cell_type": "markdown",
   "id": "72d35658",
   "metadata": {},
   "source": [
    "## 54. Min Stack"
   ]
  },
  {
   "cell_type": "code",
   "execution_count": 18,
   "id": "834a191f",
   "metadata": {},
   "outputs": [],
   "source": [
    "# time --> O(1) for all\n",
    "# space --> O(n) (Worst case is that all the operations are push)\n",
    "class MinStack:\n",
    "    def __init__(self):\n",
    "        self.min_stack = []\n",
    "        self.stack = []\n",
    "        \n",
    "    def push(self, val):\n",
    "        self.stack.append(val)\n",
    "        \n",
    "        if not self.min_stack or val <= self.min_stack[-1]:\n",
    "            self.min_stack.append(val)\n",
    "            \n",
    "    def pop(self):\n",
    "        if self.min_stack[-1] == self.stack[-1]:\n",
    "            self.min_stack.pop()\n",
    "        self.stack.pop()\n",
    "        \n",
    "    def top(self):\n",
    "        return self.stack[-1]\n",
    "    \n",
    "    def getMin(self):\n",
    "        return self.min_stack[-1]"
   ]
  },
  {
   "cell_type": "code",
   "execution_count": 21,
   "id": "328db44d",
   "metadata": {},
   "outputs": [
    {
     "name": "stdout",
     "output_type": "stream",
     "text": [
      "-3\n",
      "0\n",
      "-2\n"
     ]
    }
   ],
   "source": [
    "minStack = MinStack()\n",
    "minStack.push(-2)\n",
    "minStack.push(0)\n",
    "minStack.push(-3)\n",
    "print(minStack.getMin())\n",
    "minStack.pop()\n",
    "print(minStack.top())\n",
    "print(minStack.getMin())"
   ]
  },
  {
   "cell_type": "markdown",
   "id": "2a7f2693",
   "metadata": {},
   "source": [
    "## 55. Unique Length-3 Palindromic Subsequences\n",
    "\n",
    "There is only one possible form a palindrome with length 3 can take. The first and last character must be the same, and the character in the middle can be anything (including the same character as the first/last character)."
   ]
  },
  {
   "cell_type": "code",
   "execution_count": 40,
   "id": "f39be9f2",
   "metadata": {},
   "outputs": [],
   "source": [
    "# time --> O(n)\n",
    "# space --> O(1)\n",
    "def countPalindromicSubsequence(s):\n",
    "    answer = 0\n",
    "    letters = set(s)\n",
    "    \n",
    "    for letter in letters:\n",
    "        i, j = s.index(letter), s.rindex(letter)\n",
    "        print(i, j)\n",
    "        between = set()\n",
    "        \n",
    "        for k in range(i + 1, j):\n",
    "            between.add(s[k])\n",
    "        print(between)\n",
    "        answer += len(between)\n",
    "        \n",
    "    return answer"
   ]
  },
  {
   "cell_type": "code",
   "execution_count": 41,
   "id": "c2ad8188",
   "metadata": {},
   "outputs": [
    {
     "name": "stdout",
     "output_type": "stream",
     "text": [
      "2 2\n",
      "set()\n",
      "0 5\n",
      "{'c', 'b', 'a'}\n",
      "4 6\n",
      "{'b'}\n"
     ]
    },
    {
     "data": {
      "text/plain": [
       "4"
      ]
     },
     "execution_count": 41,
     "metadata": {},
     "output_type": "execute_result"
    }
   ],
   "source": [
    "s = \"bbcbaba\"\n",
    "countPalindromicSubsequence(s)"
   ]
  },
  {
   "cell_type": "code",
   "execution_count": 42,
   "id": "a9c9673c",
   "metadata": {},
   "outputs": [
    {
     "name": "stdout",
     "output_type": "stream",
     "text": [
      "3 3\n",
      "set()\n",
      "2 2\n",
      "set()\n",
      "0 4\n",
      "{'c', 'b', 'a'}\n"
     ]
    },
    {
     "data": {
      "text/plain": [
       "3"
      ]
     },
     "execution_count": 42,
     "metadata": {},
     "output_type": "execute_result"
    }
   ],
   "source": [
    "s = \"aabca\"\n",
    "countPalindromicSubsequence(s)"
   ]
  },
  {
   "cell_type": "markdown",
   "id": "dc038016",
   "metadata": {},
   "source": [
    "## 56. Maximum score after splitting a string\n",
    "\n",
    "Given a string s of zeros and ones, return the maximum score after splitting the string into two non-empty substrings (i.e. left substring and right substring).\n",
    "\n",
    "The score after splitting a string is the number of zeros in the left substring plus the number of ones in the right substring.\n",
    "\n",
    " \n",
    "\n",
    "Example 1:\n",
    "\n",
    "Input: s = \"011101\"\n",
    "\n",
    "Output: 5 \n",
    "\n",
    "Explanation: \n",
    "\n",
    "All possible ways of splitting s into two non-empty substrings are:\n",
    "\n",
    "left = \"0\" and right = \"11101\", score = 1 + 4 = 5 \n",
    "\n",
    "left = \"01\" and right = \"1101\", score = 1 + 3 = 4 \n",
    "\n",
    "left = \"011\" and right = \"101\", score = 1 + 2 = 3 \n",
    "\n",
    "left = \"0111\" and right = \"01\", score = 1 + 1 = 2 \n",
    "\n",
    "left = \"01110\" and right = \"1\", score = 2 + 1 = 3\n",
    "\n",
    "### Brute force\n",
    "\n",
    "For a given i, we iterate on the indices of s from 0 to i and count how many times 0 occurs. We then iterate on the indices from i + 1 until the last index and count how many times 1 occurs. The sum of these counts represents the score for the current split, and we take the maximum of all scores.\n",
    "\n",
    "\n"
   ]
  },
  {
   "cell_type": "code",
   "execution_count": 45,
   "id": "a6650651",
   "metadata": {},
   "outputs": [],
   "source": [
    "# time --> O(n) (but two passes, one for s.count and one for loop)\n",
    "# space --> O(1)\n",
    "def maxScore(s):\n",
    "    ones = s.count(\"1\")\n",
    "    ans = 0\n",
    "    zeros = 0\n",
    "    \n",
    "    for i in range(len(s) - 1):\n",
    "        if s[i] == '1':\n",
    "            ones -= 1\n",
    "        else:\n",
    "            zeros += 1\n",
    "        \n",
    "        ans = max(ans, zeros + ones)\n",
    "    \n",
    "    return ans"
   ]
  },
  {
   "cell_type": "code",
   "execution_count": 46,
   "id": "aac0c2c1",
   "metadata": {},
   "outputs": [
    {
     "data": {
      "text/plain": [
       "5"
      ]
     },
     "execution_count": 46,
     "metadata": {},
     "output_type": "execute_result"
    }
   ],
   "source": [
    "s = \"011101\"\n",
    "maxScore(s)"
   ]
  },
  {
   "cell_type": "code",
   "execution_count": null,
   "id": "38e016fd",
   "metadata": {},
   "outputs": [],
   "source": []
  },
  {
   "cell_type": "code",
   "execution_count": 49,
   "id": "677ba316",
   "metadata": {},
   "outputs": [],
   "source": [
    "# one pass\n",
    "# time --> O(n) (one pass)\n",
    "# space --> O(1)\n",
    "def maxScore(s):\n",
    "    ones = 0\n",
    "    zeros = 0\n",
    "    best = float('-inf')\n",
    "    \n",
    "    for i in range(len(s) - 1):\n",
    "        if s[i] == '1':\n",
    "            ones += 1\n",
    "        else:\n",
    "            zeros += 1\n",
    "            \n",
    "        best = max(best, zeros - ones)\n",
    "        \n",
    "    if s[-1] == \"1\":\n",
    "        ones += 1\n",
    "    \n",
    "    return best + ones"
   ]
  },
  {
   "cell_type": "code",
   "execution_count": 50,
   "id": "252457d3",
   "metadata": {},
   "outputs": [
    {
     "data": {
      "text/plain": [
       "5"
      ]
     },
     "execution_count": 50,
     "metadata": {},
     "output_type": "execute_result"
    }
   ],
   "source": [
    "s = \"011101\"\n",
    "maxScore(s)"
   ]
  },
  {
   "cell_type": "markdown",
   "id": "9c7adf92",
   "metadata": {},
   "source": [
    "## 57. Search in rotated sorted array II\n",
    "\n",
    "There is an integer array nums sorted in non-decreasing order (not necessarily with distinct values).\n",
    "\n",
    "Before being passed to your function, nums is rotated at an unknown pivot index k (0 <= k < nums.length) such that the resulting array is [nums[k], nums[k+1], ..., nums[n-1], nums[0], nums[1], ..., nums[k-1]] (0-indexed). For example, [0,1,2,4,4,4,5,6,6,7] might be rotated at pivot index 5 and become [4,5,6,6,7,0,1,2,4,4].\n",
    "\n",
    "Given the array nums after the rotation and an integer target, return true if target is in nums, or false if it is not in nums.\n",
    "\n",
    "You must decrease the overall operation steps as much as possible.\n",
    "\n",
    " \n",
    "\n",
    "Example 1:\n",
    "\n",
    "Input: nums = [2,5,6,0,0,1,2], target = 0\n",
    "Output: true\n",
    "Example 2:\n",
    "\n",
    "Input: nums = [2,5,6,0,0,1,2], target = 3\n",
    "Output: false\n",
    " "
   ]
  },
  {
   "cell_type": "code",
   "execution_count": 51,
   "id": "57dde5cb",
   "metadata": {},
   "outputs": [],
   "source": [
    "# Time --> O(logn) (worst case O(N))\n",
    "# space --> O(1)\n",
    "\n",
    "def search(nums, target):\n",
    "    left, right = 0, len(nums) - 1\n",
    "\n",
    "    while left <= right:\n",
    "        mid = (left + right) // 2\n",
    "\n",
    "        # If target is found\n",
    "        if nums[mid] == target:\n",
    "            return True\n",
    "\n",
    "        # Handle duplicates\n",
    "        if nums[left] == nums[mid] == nums[right]:\n",
    "            left += 1\n",
    "            right -= 1\n",
    "        # Left side is sorted\n",
    "        elif nums[left] <= nums[mid]:\n",
    "            if nums[left] <= target < nums[mid]:  # Target is in the sorted left side\n",
    "                right = mid - 1\n",
    "            else:  # Target is in the rotated right side\n",
    "                left = mid + 1\n",
    "        # Right side is sorted\n",
    "        else:\n",
    "            if nums[mid] < target <= nums[right]:  # Target is in the sorted right side\n",
    "                left = mid + 1\n",
    "            else:  # Target is in the rotated left side\n",
    "                right = mid - 1\n",
    "\n",
    "    return False\n"
   ]
  },
  {
   "cell_type": "code",
   "execution_count": 56,
   "id": "68312af3",
   "metadata": {},
   "outputs": [
    {
     "data": {
      "text/plain": [
       "True"
      ]
     },
     "execution_count": 56,
     "metadata": {},
     "output_type": "execute_result"
    }
   ],
   "source": [
    "nums = [2,5,6,0,1,2]\n",
    "target = 0\n",
    "search(nums, target)"
   ]
  },
  {
   "cell_type": "code",
   "execution_count": 53,
   "id": "a5519057",
   "metadata": {},
   "outputs": [
    {
     "data": {
      "text/plain": [
       "False"
      ]
     },
     "execution_count": 53,
     "metadata": {},
     "output_type": "execute_result"
    }
   ],
   "source": [
    "nums = [2,5,6,0,0,1,2]\n",
    "target = 3\n",
    "search(nums, target)"
   ]
  },
  {
   "cell_type": "markdown",
   "id": "2a4bcc3e",
   "metadata": {},
   "source": [
    "## 58.Two Sum II\n",
    "\n",
    "**Difference between Two Sum**: Here the array is sorted\n",
    "\n",
    "Given a 1-indexed array of integers numbers that is already sorted in non-decreasing order, find two numbers such that they add up to a specific target number. Let these two numbers be numbers[index1] and numbers[index2] where 1 <= index1 < index2 <= numbers.length.\n",
    "\n",
    "Return the indices of the two numbers, index1 and index2, **added by one** as an integer array [index1, index2] of length 2.\n",
    "\n",
    "The tests are generated such that there is exactly one solution. You may not use the same element twice.\n",
    "\n",
    "Your solution must use only constant extra space.\n",
    "\n",
    " \n",
    "\n",
    "Example 1:\n",
    "\n",
    "Input: numbers = [2,7,11,15], target = 9\n",
    "Output: [1,2]\n",
    "Explanation: The sum of 2 and 7 is 9. Therefore, index1 = 1, index2 = 2. We return [1, 2].\n",
    " "
   ]
  },
  {
   "cell_type": "code",
   "execution_count": 59,
   "id": "a0d89cd8",
   "metadata": {},
   "outputs": [],
   "source": [
    "# time --> O(n)\n",
    "# space --> O(1)\n",
    "\n",
    "def twoSum(numbers, target):\n",
    "    left = 0\n",
    "    right = len(numbers) - 1\n",
    "    \n",
    "    while left < right:\n",
    "        total = numbers[left] + numbers[right]\n",
    "        \n",
    "        if total == target:\n",
    "            return [left + 1, right + 1]\n",
    "        elif total < target:\n",
    "            left += 1\n",
    "        else:\n",
    "            right -= 1\n",
    "    return [-1, -1]"
   ]
  },
  {
   "cell_type": "code",
   "execution_count": 58,
   "id": "cdb9a2c9",
   "metadata": {},
   "outputs": [
    {
     "data": {
      "text/plain": [
       "[1, 2]"
      ]
     },
     "execution_count": 58,
     "metadata": {},
     "output_type": "execute_result"
    }
   ],
   "source": [
    "numbers = [2,7,11,15]\n",
    "target = 9\n",
    "twoSum(numbers, target)"
   ]
  },
  {
   "cell_type": "markdown",
   "id": "b1af14cc",
   "metadata": {},
   "source": [
    "## 59. Three Sum\n",
    "\n",
    "Given an integer array nums, return all the triplets [nums[i], nums[j], nums[k]] such that i != j, i != k, and j != k, and nums[i] + nums[j] + nums[k] == 0.\n",
    "\n",
    "Notice that the solution set must not contain duplicate triplets.\n",
    "\n",
    " \n",
    "\n",
    "Example 1:\n",
    "\n",
    "Input: nums = [-1,0,1,2,-1,-4]\n",
    "\n",
    "Output: [[-1,-1,2],[-1,0,1]]\n",
    "\n",
    "Explanation: \n",
    "\n",
    "nums[0] + nums[1] + nums[2] = (-1) + 0 + 1 = 0.\n",
    "\n",
    "nums[1] + nums[2] + nums[4] = 0 + 1 + (-1) = 0.\n",
    "\n",
    "nums[0] + nums[3] + nums[4] = (-1) + 2 + (-1) = 0.\n",
    "\n",
    "The distinct triplets are [-1,0,1] and [-1,-1,2].\n",
    "\n",
    "Notice that the order of the output and the order of the triplets does not matter."
   ]
  },
  {
   "cell_type": "code",
   "execution_count": 62,
   "id": "7782bbe9",
   "metadata": {},
   "outputs": [],
   "source": [
    "# time --> O(n^2)\n",
    "# space --> O(n)\n",
    "\n",
    "def threeSum(nums):\n",
    "    res = []\n",
    "    nums.sort()\n",
    "    \n",
    "    for i in range(len(nums)):\n",
    "        if nums[i] > 0:\n",
    "            break\n",
    "        if i == 0 or nums[i - 1] != nums[i]:\n",
    "            twoSum(nums, i, res)\n",
    "    \n",
    "    return res\n",
    "\n",
    "def twoSum(nums, i, res):\n",
    "    left = i + 1\n",
    "    right = len(nums) - 1\n",
    "    \n",
    "    while left < right:\n",
    "        total = nums[left] + nums[i] + nums[right]\n",
    "        \n",
    "        if total < 0:\n",
    "            left += 1\n",
    "        elif total > 0:\n",
    "            right -= 1\n",
    "        else:\n",
    "            res.append([nums[left], nums[i], nums[right]])\n",
    "            left += 1\n",
    "            right -= 1\n",
    "            \n",
    "            while left < right and nums[left] == nums[left - 1]:\n",
    "                left += 1"
   ]
  },
  {
   "cell_type": "code",
   "execution_count": 63,
   "id": "c74f0723",
   "metadata": {},
   "outputs": [
    {
     "data": {
      "text/plain": [
       "[[-1, -1, 2], [0, -1, 1]]"
      ]
     },
     "execution_count": 63,
     "metadata": {},
     "output_type": "execute_result"
    }
   ],
   "source": [
    "nums = [-1,0,1,2,-1,-4]\n",
    "threeSum(nums)"
   ]
  },
  {
   "cell_type": "markdown",
   "id": "5925beae",
   "metadata": {},
   "source": [
    "## 60. Max Consecutive Ones III\n",
    "\n",
    "We will use sliding window technique."
   ]
  },
  {
   "cell_type": "code",
   "execution_count": 13,
   "id": "25d853f6",
   "metadata": {},
   "outputs": [],
   "source": [
    "def longestOnes(nums, k):\n",
    "    left = 0\n",
    "    for right in range(len(nums)):\n",
    "        # If we included a zero in the window we reduce the value of k.\n",
    "        # Since k is the maximum zeros allowed in a window.\n",
    "        if nums[right] == 0:\n",
    "            k -= 1\n",
    "        # A negative k denotes we have consumed all allowed flips and window has\n",
    "        # more than allowed zeros, thus increment left pointer by 1 to keep the window size same.\n",
    "        if k < 0:\n",
    "            # If the left element to be thrown out is zero we increase k.\n",
    "            if nums[left] == 0:\n",
    "                k += 1\n",
    "            left += 1\n",
    "    return right - left + 1"
   ]
  },
  {
   "cell_type": "code",
   "execution_count": 12,
   "id": "81a82ca3",
   "metadata": {},
   "outputs": [
    {
     "data": {
      "text/plain": [
       "6"
      ]
     },
     "execution_count": 12,
     "metadata": {},
     "output_type": "execute_result"
    }
   ],
   "source": [
    "nums = [1,1,1,0,0,0,1,1,1,1,0]\n",
    "k = 2\n",
    "\n",
    "longestOnes(nums, k)"
   ]
  },
  {
   "cell_type": "markdown",
   "id": "c73ebb08",
   "metadata": {},
   "source": [
    "## 61. Remove duplicates from sorted array"
   ]
  },
  {
   "cell_type": "code",
   "execution_count": 79,
   "id": "d0896c8f",
   "metadata": {},
   "outputs": [],
   "source": [
    "# time --> O(n)\n",
    "# space --> O(1)\n",
    "def removeDuplicates(nums):\n",
    "    insert_index = 1\n",
    "\n",
    "    for i in range(1, len(nums)):\n",
    "        if nums[i] != nums[i - 1]:\n",
    "            nums[insert_index] = nums[i]\n",
    "\n",
    "            insert_index += 1\n",
    "    # print(nums)\n",
    "    return insert_index"
   ]
  },
  {
   "cell_type": "code",
   "execution_count": 80,
   "id": "d10d8681",
   "metadata": {},
   "outputs": [
    {
     "data": {
      "text/plain": [
       "5"
      ]
     },
     "execution_count": 80,
     "metadata": {},
     "output_type": "execute_result"
    }
   ],
   "source": [
    "nums = [0,0,1,1,1,2,2,3,3,4]\n",
    "removeDuplicates(nums)"
   ]
  },
  {
   "cell_type": "markdown",
   "id": "0f5002b1",
   "metadata": {},
   "source": [
    "## 62. Maximum Subarray\n",
    "\n",
    "Given an integer array nums, find the subarray with the largest sum, and return its sum.\n",
    "\n",
    " \n",
    "\n",
    "Example 1:\n",
    "\n",
    "Input: nums = [-2,1,-3,4,-1,2,1,-5,4]\n",
    "\n",
    "Output: 6\n",
    "\n",
    "Explanation: The subarray [4,-1,2,1] has the largest sum 6.\n"
   ]
  },
  {
   "cell_type": "code",
   "execution_count": 77,
   "id": "6ebfb749",
   "metadata": {},
   "outputs": [],
   "source": [
    "def maxSubArray(nums):\n",
    "    current_subarray = nums[0]\n",
    "    max_subarray = nums[0]\n",
    "    \n",
    "    for i in range(1, len(nums)):\n",
    "        current_subarray = max(nums[i], current_subarray + nums[i])\n",
    "        max_subarray = max(max_subarray, current_subarray)\n",
    "    return max_subarray"
   ]
  },
  {
   "cell_type": "code",
   "execution_count": 78,
   "id": "6bad0b63",
   "metadata": {},
   "outputs": [
    {
     "data": {
      "text/plain": [
       "6"
      ]
     },
     "execution_count": 78,
     "metadata": {},
     "output_type": "execute_result"
    }
   ],
   "source": [
    "nums = [-2,1,-3,4,-1,2,1,-5,4]\n",
    "maxSubArray(nums)"
   ]
  },
  {
   "cell_type": "markdown",
   "id": "117efe94",
   "metadata": {},
   "source": [
    "## 63. Add Binary\n",
    "\n",
    "Here XOR is a key as well because it's a sum of two binaries without taking carry into account.\n",
    "\n",
    "\n",
    "To find the current carry is quite easy as well, it's AND of two input numbers, shifted one bit to the left.\n",
    "\n",
    "\n",
    "Now the problem is reduced: one has to find the sum of answers without carry and carry. It's the same problem - to sum two numbers, and hence one could solve it in a loop with the condition statement \"while carry is not equal to zero\".\n",
    "\n",
    "Algorithm\n",
    "\n",
    "* Convert a and b into integers x and y, x will be used to keep an answer, and y for the carry.\n",
    "\n",
    "* While carry is nonzero: y != 0:\n",
    "\n",
    "  * Current answer without carry is XOR of x and y: answer = x^y.\n",
    "\n",
    "  * Current carry is left-shifted AND of x and y: carry = (x & y) << 1.\n",
    "\n",
    "  * Job is done, prepare the next loop: x = answer, y = carry.\n",
    "\n",
    "* Return x in the binary form."
   ]
  },
  {
   "cell_type": "code",
   "execution_count": 95,
   "id": "868830d3",
   "metadata": {},
   "outputs": [],
   "source": [
    "# time --> O(n + m) (n and m are lengths of a and b)\n",
    "# space --> O(max(n, m)) to keep the answer\n",
    "\n",
    "def addBinary(a, b):\n",
    "    x, y = int(a, 2), int(b, 2)\n",
    "    while y:\n",
    "        answer = x^y\n",
    "        carry = (x & y) << 1\n",
    "        x, y = answer, carry\n",
    "    return bin(x)[2:] # to get rid of \"0b\" prefix to return the final binary result."
   ]
  },
  {
   "cell_type": "code",
   "execution_count": 96,
   "id": "724e786b",
   "metadata": {},
   "outputs": [
    {
     "data": {
      "text/plain": [
       "'100'"
      ]
     },
     "execution_count": 96,
     "metadata": {},
     "output_type": "execute_result"
    }
   ],
   "source": [
    "a = \"11\"\n",
    "b = \"1\"\n",
    "\n",
    "addBinary(a, b)"
   ]
  },
  {
   "cell_type": "markdown",
   "id": "682c8f0f",
   "metadata": {},
   "source": [
    "## 64. Sort colors\n",
    "\n",
    "Given an array nums with n objects colored red, white, or blue, sort them in-place so that objects of the same color are adjacent, with the colors in the order red, white, and blue.\n",
    "\n",
    "We will use the integers 0, 1, and 2 to represent the color red, white, and blue, respectively.\n",
    "\n",
    "You must solve this problem without using the library's sort function.\n",
    "\n",
    " \n",
    "\n",
    "Example 1:\n",
    "\n",
    "Input: nums = [2,0,2,1,1,0]\n",
    "\n",
    "Output: [0,0,1,1,2,2]\n",
    "\n",
    "Example 2:\n",
    "\n",
    "Input: nums = [2,0,1]\n",
    "\n",
    "Output: [0,1,2]\n",
    " "
   ]
  },
  {
   "cell_type": "code",
   "execution_count": 97,
   "id": "186e8729",
   "metadata": {},
   "outputs": [],
   "source": [
    "# time --> O(n)\n",
    "# space --> O(1)\n",
    "\n",
    "def sortColors(nums):\n",
    "    left = 0\n",
    "    right = len(nums) - 1\n",
    "    curr = 0\n",
    "    \n",
    "    while curr <= right:\n",
    "        if nums[curr] == 0:\n",
    "            nums[left], nums[curr] = nums[curr], nums[left]\n",
    "            left += 1\n",
    "            curr += 1\n",
    "        elif nums[curr] == 2:\n",
    "            nums[right], nums[curr] = nums[curr], nums[right]\n",
    "            right -= 1\n",
    "        else:\n",
    "            curr += 1"
   ]
  },
  {
   "cell_type": "code",
   "execution_count": 99,
   "id": "0ff32183",
   "metadata": {},
   "outputs": [
    {
     "data": {
      "text/plain": [
       "[0, 0, 1, 1, 2, 2]"
      ]
     },
     "execution_count": 99,
     "metadata": {},
     "output_type": "execute_result"
    }
   ],
   "source": [
    "nums = [2,0,2,1,1,0]\n",
    "sortColors(nums)\n",
    "nums"
   ]
  },
  {
   "cell_type": "markdown",
   "id": "12f6802e",
   "metadata": {},
   "source": [
    "## 65. Maximum Average Subarray\n",
    "\n",
    "You are given an integer array nums consisting of n elements, and an integer k.\n",
    "\n",
    "Find a contiguous subarray whose length is equal to k that has the maximum average value and return this value. Any answer with a calculation error less than 10-5 will be accepted.\n",
    "\n",
    " \n",
    "\n",
    "Example 1:\n",
    "\n",
    "Input: nums = [1,12,-5,-6,50,3], k = 4\n",
    "\n",
    "Output: 12.75000\n",
    "\n",
    "Explanation: Maximum average is (12 - 5 - 6 + 50) / 4 = 51 / 4 = 12.75\n"
   ]
  },
  {
   "cell_type": "code",
   "execution_count": 102,
   "id": "277417d0",
   "metadata": {},
   "outputs": [],
   "source": [
    "# time --> O(n)\n",
    "# space --> O(1)\n",
    "\n",
    "def findMaxAverage(nums, k):\n",
    "    current_sum = sum(nums[:k])\n",
    "    max_sum = current_sum\n",
    "    \n",
    "    for i in range(k, len(nums)):\n",
    "        current_sum += nums[i] - nums[i - k]\n",
    "        max_sum = max(max_sum, current_sum)\n",
    "    return max_sum / k"
   ]
  },
  {
   "cell_type": "code",
   "execution_count": 103,
   "id": "be7b398c",
   "metadata": {},
   "outputs": [
    {
     "data": {
      "text/plain": [
       "12.75"
      ]
     },
     "execution_count": 103,
     "metadata": {},
     "output_type": "execute_result"
    }
   ],
   "source": [
    "nums = [1,12,-5,-6,50,3]\n",
    "k = 4\n",
    "\n",
    "findMaxAverage(nums, k)"
   ]
  },
  {
   "cell_type": "markdown",
   "id": "8b257c38",
   "metadata": {},
   "source": [
    "## 66. Palindromic Substrings\n",
    "\n",
    "Given a string s, return the number of palindromic substrings in it.\n",
    "\n",
    "A string is a palindrome when it reads the same backward as forward.\n",
    "\n",
    "A substring is a contiguous sequence of characters within the string.\n",
    "\n",
    " \n",
    "\n",
    "Example 1:\n",
    "\n",
    "Input: s = \"abc\"\n",
    "\n",
    "Output: 3\n",
    "\n",
    "Explanation: Three palindromic strings: \"a\", \"b\", \"c\".\n",
    "\n"
   ]
  },
  {
   "cell_type": "code",
   "execution_count": 104,
   "id": "ffdeb400",
   "metadata": {},
   "outputs": [],
   "source": [
    "# time --> O(n^2)\n",
    "# space --> O(1)\n",
    "\n",
    "def countSubstrings(s):\n",
    "    def countPalindromesAroundCenter(ss, low, high):\n",
    "        count = 0\n",
    "        \n",
    "        while low >= 0 and high < len(ss):\n",
    "            if ss[low] != ss[high]:\n",
    "                break\n",
    "            \n",
    "            low -= 1\n",
    "            high += 1\n",
    "            count += 1\n",
    "        return count\n",
    "    \n",
    "    ans = 0\n",
    "    \n",
    "    for i in range(len(s)):\n",
    "        ans += countPalindromesAroundCenter(s, i, i)\n",
    "        ans += countPalindromesAroundCenter(s, i, i + 1)\n",
    "    return ans"
   ]
  },
  {
   "cell_type": "code",
   "execution_count": 105,
   "id": "35f693cc",
   "metadata": {},
   "outputs": [
    {
     "data": {
      "text/plain": [
       "3"
      ]
     },
     "execution_count": 105,
     "metadata": {},
     "output_type": "execute_result"
    }
   ],
   "source": [
    "s = \"abc\"\n",
    "countSubstrings(s)"
   ]
  },
  {
   "cell_type": "code",
   "execution_count": 106,
   "id": "5db7ca02",
   "metadata": {},
   "outputs": [
    {
     "data": {
      "text/plain": [
       "6"
      ]
     },
     "execution_count": 106,
     "metadata": {},
     "output_type": "execute_result"
    }
   ],
   "source": [
    "s = \"aaa\"\n",
    "countSubstrings(s)"
   ]
  },
  {
   "cell_type": "markdown",
   "id": "81333026",
   "metadata": {},
   "source": [
    "## 67. Majority Element\n",
    "\n",
    "Given an array nums of size n, return the majority element.\n",
    "\n",
    "The majority element is the element that appears more than ⌊n / 2⌋ times. You may assume that the majority element always exists in the array.\n",
    "\n",
    " \n",
    "Example 1:\n",
    "\n",
    "Input: nums = [3,2,3]\n",
    "\n",
    "Output: 3"
   ]
  },
  {
   "cell_type": "code",
   "execution_count": 109,
   "id": "2563a0af",
   "metadata": {},
   "outputs": [],
   "source": [
    "# hashmap\n",
    "# time --> O(n)\n",
    "# space --> O(n)\n",
    "from collections import Counter\n",
    "\n",
    "def majorityElement(nums):\n",
    "    counts = Counter(nums)\n",
    "    \n",
    "    return max(counts.keys(), key=counts.get)"
   ]
  },
  {
   "cell_type": "code",
   "execution_count": 110,
   "id": "b0d07acf",
   "metadata": {},
   "outputs": [
    {
     "data": {
      "text/plain": [
       "3"
      ]
     },
     "execution_count": 110,
     "metadata": {},
     "output_type": "execute_result"
    }
   ],
   "source": [
    "nums = [3,2,3]\n",
    "majorityElement(nums)"
   ]
  },
  {
   "cell_type": "code",
   "execution_count": 112,
   "id": "0986b4e2",
   "metadata": {},
   "outputs": [],
   "source": [
    "# sorting\n",
    "# time --> O(nlogn)\n",
    "# space --> O(1)\n",
    "def majorityElement( nums):\n",
    "    nums.sort()\n",
    "    return nums[len(nums) // 2]"
   ]
  },
  {
   "cell_type": "code",
   "execution_count": 113,
   "id": "e9a3a958",
   "metadata": {},
   "outputs": [],
   "source": [
    "# Boyer Moore Voting algorithm\n",
    "# Time --> O(n)\n",
    "# space --> O(1)\n",
    "\n",
    "def majorityElement(nums):\n",
    "    count = 0\n",
    "    candidate = None\n",
    "    \n",
    "    for num in nums:\n",
    "        if count == 0:\n",
    "            candidate = num\n",
    "        count += 1 if num == candidate else -1\n",
    "    return candidate"
   ]
  },
  {
   "cell_type": "code",
   "execution_count": 114,
   "id": "885a10c6",
   "metadata": {},
   "outputs": [
    {
     "data": {
      "text/plain": [
       "3"
      ]
     },
     "execution_count": 114,
     "metadata": {},
     "output_type": "execute_result"
    }
   ],
   "source": [
    "# Initial State:\n",
    "# count = 0, candidate = None\n",
    "\n",
    "# Iteration 1:\n",
    "# Current number: 3\n",
    "# count == 0: Set candidate = 3\n",
    "# Increment count: count = 1\n",
    "\n",
    "# Iteration 2:\n",
    "# Current number: 2\n",
    "# 2 != candidate (3): Decrement count: count = 0\n",
    "\n",
    "# Iteration 3:\n",
    "# Current number: 2\n",
    "# count == 0: Set candidate = 2\n",
    "# Increment count: count = 1\n",
    "\n",
    "# Iteration 4:\n",
    "# Current number: 3\n",
    "# 3 != candidate (2): Decrement count: count = 0\n",
    "\n",
    "# Iteration 5:\n",
    "# Current number: 3\n",
    "# count == 0: Set candidate = 3\n",
    "# Increment count: count = 1\n",
    "\n",
    "# Iteration 6:\n",
    "# Current number: 3\n",
    "# 3 == candidate (3): Increment count: count = 2\n",
    "\n",
    "# Final State:\n",
    "# candidate = 3\n",
    "# Return 3 as the majority element.\n",
    "\n",
    "nums = [3, 2, 2, 3, 3, 3]\n",
    "majorityElement(nums)"
   ]
  },
  {
   "cell_type": "markdown",
   "id": "80c0c53d",
   "metadata": {},
   "source": [
    "## 68. Counting words with a given prefix\n",
    "\n",
    "You are given an array of strings words and a string pref.\n",
    "\n",
    "Return the number of strings in words that contain pref as a prefix.\n",
    "\n",
    "A prefix of a string s is any leading contiguous substring of s.\n",
    "\n",
    " \n",
    "\n",
    "Example 1:\n",
    "\n",
    "Input: words = [\"pay\",\"attention\",\"practice\",\"attend\"], pref = \"at\"\n",
    "\n",
    "Output: 2\n",
    "\n",
    "Explanation: The 2 strings that contain \"at\" as a prefix are: \"attention\" and \"attend\".\n"
   ]
  },
  {
   "cell_type": "code",
   "execution_count": 115,
   "id": "7bb748e9",
   "metadata": {},
   "outputs": [],
   "source": [
    "# time --> O(mn) (n be the length of the input array words and m be the length of the prefix string pref.)\n",
    "# space --> O(1)\n",
    "def prefixCount(words, pref):\n",
    "    return sum(word.startswith(pref) for word in words)"
   ]
  },
  {
   "cell_type": "code",
   "execution_count": 116,
   "id": "21d65d2b",
   "metadata": {},
   "outputs": [
    {
     "data": {
      "text/plain": [
       "2"
      ]
     },
     "execution_count": 116,
     "metadata": {},
     "output_type": "execute_result"
    }
   ],
   "source": [
    "words = [\"pay\",\"attention\",\"practice\",\"attend\"]\n",
    "pref = \"at\"\n",
    "prefixCount(words, pref)"
   ]
  },
  {
   "cell_type": "markdown",
   "id": "c6b7a01e",
   "metadata": {},
   "source": [
    "## 69. Group Strings\n",
    "\n",
    "Perform the following shift operations on a string:\n",
    "\n",
    "**Right shift:** Replace every letter with the successive letter of the English alphabet, where 'z' is replaced by 'a'. For example, \"abc\" can be right-shifted to \"bcd\" or \"xyz\" can be right-shifted to \"yza\".\n",
    "\n",
    "**Left shift:** Replace every letter with the preceding letter of the English alphabet, where 'a' is replaced by 'z'. For example, \"bcd\" can be left-shifted to \"abc\" or \"yza\" can be left-shifted to \"xyz\".\n",
    "We can keep shifting the string in both directions to form an endless shifting sequence.\n",
    "\n",
    "For example, shift \"abc\" to form the sequence: ... <-> \"abc\" <-> \"bcd\" <-> ... <-> \"xyz\" <-> \"yza\" <-> .... <-> \"zab\" <-> \"abc\" <-> ...\n",
    "You are given an array of strings strings, group together all strings[i] that belong to the same shifting sequence. You may return the answer in any order.\n",
    "\n",
    " \n",
    "\n",
    "Example 1:\n",
    "\n",
    "Input: strings = [\"abc\",\"bcd\",\"acef\",\"xyz\",\"az\",\"ba\",\"a\",\"z\"]\n",
    "\n",
    "Output: [[\"acef\"],[\"a\",\"z\"],[\"abc\",\"bcd\",\"xyz\"],[\"az\",\"ba\"]]"
   ]
  },
  {
   "cell_type": "code",
   "execution_count": 121,
   "id": "b17bce02",
   "metadata": {},
   "outputs": [],
   "source": [
    "from collections import defaultdict\n",
    "\n",
    "# time --> O(nm) where n is the number of strings and m is the average length of a string.\n",
    "# space --> O(nm) to store groups and patterns\n",
    "\n",
    "def groupStrings(strings):\n",
    "    def calculatePattern(s: str) -> tuple:\n",
    "        # Calculate the shifting pattern of the string\n",
    "        return tuple((ord(s[i]) - ord(s[i - 1])) % 26 for i in range(1, len(s)))\n",
    "\n",
    "    # Dictionary to group strings by their pattern\n",
    "    groups = defaultdict(list)\n",
    "\n",
    "    for string in strings:\n",
    "        pattern = calculatePattern(string)\n",
    "        groups[pattern].append(string)\n",
    "\n",
    "    return list(groups.values())"
   ]
  },
  {
   "cell_type": "code",
   "execution_count": 122,
   "id": "ece86802",
   "metadata": {},
   "outputs": [
    {
     "data": {
      "text/plain": [
       "[['abc', 'bcd', 'xyz'], ['acef'], ['az', 'ba'], ['a', 'z']]"
      ]
     },
     "execution_count": 122,
     "metadata": {},
     "output_type": "execute_result"
    }
   ],
   "source": [
    "strings = [\"abc\", \"bcd\", \"acef\", \"xyz\", \"az\", \"ba\", \"a\", \"z\"]\n",
    "groupStrings(strings)"
   ]
  },
  {
   "cell_type": "markdown",
   "id": "38b4acb8",
   "metadata": {},
   "source": [
    "## 70. All nodes distances in a binary tree\n",
    "\n",
    "Given the root of a binary tree, the value of a target node target, and an integer k, return an array of the values of all nodes that have a distance k from the target node.\n",
    "\n",
    "You can return the answer in any order.\n",
    "\n",
    "\n",
    "Input: root = [3,5,1,6,2,0,8,null,null,7,4], target = 5, k = 2\n",
    "\n",
    "Output: [7,4,1]\n",
    "\n",
    "Explanation: The nodes that are a distance 2 from the target node (with value 5) have values 7, 4, and 1."
   ]
  },
  {
   "cell_type": "code",
   "execution_count": 123,
   "id": "f64ec92e",
   "metadata": {},
   "outputs": [],
   "source": [
    "# time --> O(n)\n",
    "# space --> O(n)\n",
    "\n",
    "def distanceK(root, target, k):\n",
    "    def add_parent(curr, parent):\n",
    "        if curr:\n",
    "            curr.parent = parent\n",
    "            add_parent(curr.left, curr)\n",
    "            add_parent(curr.right, curr)\n",
    "            \n",
    "    add_parent(root, None)\n",
    "    \n",
    "    answer = []\n",
    "    visited = set()\n",
    "    \n",
    "    def dfs(curr, distance):\n",
    "        if not curr or curr in visited:\n",
    "            return\n",
    "        \n",
    "        visited.add(curr)\n",
    "        \n",
    "        if distance == 0:\n",
    "            answer.append(curr.val)\n",
    "            return\n",
    "        \n",
    "        dfs(curr.parent, distance - 1)\n",
    "        dfs(curr.left, distance - 1)\n",
    "        dfs(curr.right, distance - 1)\n",
    "    \n",
    "    dfs(target, k)\n",
    "    \n",
    "    return answer"
   ]
  },
  {
   "cell_type": "markdown",
   "id": "96cb845c",
   "metadata": {},
   "source": [
    "## 71. Diagonal Traverse\n",
    "\n",
    "Given an m x n matrix mat, return an array of all the elements of the array in a diagonal order.\n",
    "\n",
    "Input: mat = [[1,2,3],[4,5,6],[7,8,9]]\n",
    "\n",
    "Output: [1,2,4,7,5,3,6,8,9]"
   ]
  },
  {
   "cell_type": "code",
   "execution_count": 126,
   "id": "0534d592",
   "metadata": {},
   "outputs": [],
   "source": [
    "# time --> O(m x n)\n",
    "# space --> O(m x n)\n",
    "# trick: to understand that for all elements on a diagonal the value of i + j is same.\n",
    "def findDiagonalOrder(mat):\n",
    "    hashMap = {}\n",
    "    \n",
    "    for i in range(len(mat)):\n",
    "        for j in range(len(mat[0])):\n",
    "            if i + j not in hashMap:\n",
    "                hashMap[i + j] = [mat[i][j]]\n",
    "            else:\n",
    "                hashMap[i + j].append(mat[i][j])\n",
    "    \n",
    "    ans = []\n",
    "    \n",
    "    for item in hashMap.items():\n",
    "        if item[0] % 2 == 0:\n",
    "            [ans.append(x) for x in item[1][::-1]]\n",
    "        else:\n",
    "            [ans.append(x) for x in item[1]]\n",
    "    return ans"
   ]
  },
  {
   "cell_type": "code",
   "execution_count": 127,
   "id": "204670ac",
   "metadata": {},
   "outputs": [
    {
     "data": {
      "text/plain": [
       "[1, 2, 4, 7, 5, 3, 6, 8, 9]"
      ]
     },
     "execution_count": 127,
     "metadata": {},
     "output_type": "execute_result"
    }
   ],
   "source": [
    "mat = [[1,2,3],[4,5,6],[7,8,9]]\n",
    "findDiagonalOrder(mat)"
   ]
  },
  {
   "cell_type": "markdown",
   "id": "1b94e7c4",
   "metadata": {},
   "source": [
    "## 72. Add two Linked List"
   ]
  },
  {
   "cell_type": "code",
   "execution_count": 128,
   "id": "90a60169",
   "metadata": {},
   "outputs": [],
   "source": [
    "# time --> O(max(m, n))\n",
    "# space --> O(1)\n",
    "def addTwoNumbers(l1, l2):\n",
    "    dummy_head = ListNode(0)\n",
    "    curr = dummy_head\n",
    "    carry = 0\n",
    "    \n",
    "    while l1 != None or l2 != None or carry != 0:\n",
    "        l1_val = l1.val if l1 else 0\n",
    "        l2_val = l2.val if l2 else 0\n",
    "        \n",
    "        column_sum = l1_val + l2_val + carry\n",
    "        \n",
    "        carry = column_sum // 10\n",
    "        \n",
    "        new_node = ListNode(column_sum % 10)\n",
    "        \n",
    "        curr.next = new_node\n",
    "        \n",
    "        curr = new_node\n",
    "        \n",
    "        l1 = l1.next if l1 else None\n",
    "        l2 = l2.next if l2 else None\n",
    "    \n",
    "    return dummy_head.next"
   ]
  },
  {
   "cell_type": "markdown",
   "id": "4de0e618",
   "metadata": {},
   "source": [
    "## 73. Roman to Integer\n",
    "\n",
    "Trick - If left value is lesser than the next right value, we subtract them"
   ]
  },
  {
   "cell_type": "code",
   "execution_count": 129,
   "id": "be76d0d8",
   "metadata": {},
   "outputs": [],
   "source": [
    "def romanToInt(s):\n",
    "    values = {\n",
    "        \"I\": 1,\n",
    "        \"V\": 5,\n",
    "        \"X\": 10,\n",
    "        \"L\": 50,\n",
    "        \"C\": 100,\n",
    "        \"D\": 500,\n",
    "        \"M\": 1000,\n",
    "    }\n",
    "    \n",
    "    i = 0\n",
    "    total = 0\n",
    "    \n",
    "    while i < len(s):\n",
    "        if i + 1 < len(s) and values[s[i]] < values[s[i + 1]]:\n",
    "            total += values[s[i + 1]] - values[s[i]]\n",
    "            i += 2\n",
    "        else:\n",
    "            total += values[s[i]]\n",
    "            i += 1\n",
    "    return total"
   ]
  },
  {
   "cell_type": "code",
   "execution_count": 130,
   "id": "840dde31",
   "metadata": {},
   "outputs": [
    {
     "data": {
      "text/plain": [
       "58"
      ]
     },
     "execution_count": 130,
     "metadata": {},
     "output_type": "execute_result"
    }
   ],
   "source": [
    "s = \"LVIII\"\n",
    "romanToInt(s)"
   ]
  },
  {
   "cell_type": "markdown",
   "id": "b1172103",
   "metadata": {},
   "source": [
    "## 74. Median of two sorted arrays (HARD)\n",
    "\n",
    "### Step-by-Step Approach for Finding the Median of Two Sorted Arrays\n",
    "\n",
    "#### 1. Clarify the Problem\n",
    "- The goal is to find the median of two sorted arrays `nums1` and `nums2`.\n",
    "- The arrays may have different sizes, and the solution should work in `O(log(m + n))` time complexity.\n",
    "- Ask clarifying questions:\n",
    "  - Are the arrays guaranteed to be non-empty? (Typically, yes, but it can vary.)\n",
    "  - Can the arrays have duplicate elements? (Yes.)\n",
    "  - Should the median be a floating-point number? (Yes.)\n",
    "\n",
    "---\n",
    "\n",
    "#### 2. Plan the Approach\n",
    "\n",
    "The problem is solved using a **binary search** on the smaller of the two arrays. The key idea is to find a **correct partition** of the combined sorted array:\n",
    "\n",
    "1. **Key Definitions**:\n",
    "   - The \"left partition\" consists of all elements before the partition in both arrays.\n",
    "   - The \"right partition\" consists of all elements after the partition.\n",
    "   - For a correct partition:\n",
    "     ```\n",
    "     max(left) <= min(right)\n",
    "     ```\n",
    "\n",
    "2. **Binary Search**:\n",
    "   - Perform binary search on the smaller array `nums1` to find the correct partition:\n",
    "     - Partition the first array:\n",
    "       ```\n",
    "       partitionX = (low + high) // 2\n",
    "       ```\n",
    "     - Partition the second array:\n",
    "       ```\n",
    "       partitionY = (len(nums1) + len(nums2) + 1) // 2 - partitionX\n",
    "       ```\n",
    "\n",
    "3. **Handle Edge Cases**:\n",
    "   - If a partition index is out of bounds, treat the missing side as `-inf` or `+inf`.\n",
    "\n",
    "4. **Median Calculation**:\n",
    "   - If the total number of elements is odd:\n",
    "     ```\n",
    "     median = max(maxX, maxY)\n",
    "     ```\n",
    "   - If the total number of elements is even:\n",
    "     ```\n",
    "     median = (max(maxX, maxY) + min(minX, minY)) / 2\n",
    "     ```\n",
    "\n",
    "---\n",
    "\n",
    "#### 3. Complexity Analysis\n",
    "- **Time Complexity**:\n",
    "  - Binary search is performed on the smaller array, so the time complexity is `O(log(min(m, n)))`.\n",
    "- **Space Complexity**:\n",
    "  - `O(1)`, as no additional space is used.\n",
    "\n",
    "---\n",
    "\n",
    "#### 4. Example Walkthrough\n",
    "\n",
    "**Example 1**:\n",
    "- **Input**: `nums1 = [1, 3]`, `nums2 = [2]`\n",
    "\n",
    "1. **Initialization**:\n",
    "   - Identify the smaller array: Swap arrays → `nums1 = [2]`, `nums2 = [1, 3]`.\n",
    "   - Binary search bounds: `low = 0`, `high = 1`.\n",
    "\n",
    "2. **First Iteration**:\n",
    "   - `partitionX = 0`, `partitionY = 2`.\n",
    "   - `maxX = -inf`, `minX = 2`.\n",
    "   - `maxY = 3`, `minY = inf`.\n",
    "   - Condition not satisfied, adjust `low = 1`.\n",
    "\n",
    "3. **Second Iteration**:\n",
    "   - `partitionX = 1`, `partitionY = 1`.\n",
    "   - `maxX = 2`, `minX = inf`.\n",
    "   - `maxY = 1`, `minY = 3`.\n",
    "   - Condition satisfied.\n",
    "\n",
    "4. **Median Calculation**:\n",
    "   - Total elements: `3` (odd).\n",
    "   - `median = max(2, 1) = 2`.\n",
    "\n",
    "**Output**: `2.0`\n",
    "\n",
    "---\n",
    "\n",
    "**Example 2**:\n",
    "- **Input**: `nums1 = [1, 2]`, `nums2 = [3, 4]`\n",
    "\n",
    "1. **Initialization**:\n",
    "   - Identify the smaller array: No swap needed.\n",
    "   - Binary search bounds: `low = 0`, `high = 2`.\n",
    "\n",
    "2. **First Iteration**:\n",
    "   - `partitionX = 1`, `partitionY = 1`.\n",
    "   - `maxX = 1`, `minX = 2`.\n",
    "   - `maxY = 3`, `minY = 4`.\n",
    "   - Condition not satisfied, adjust `low = 2`.\n",
    "\n",
    "3. **Second Iteration**:\n",
    "   - `partitionX = 2`, `partitionY = 0`.\n",
    "   - `maxX = 2`, `minX = inf`.\n",
    "   - `maxY = -inf`, `minY = 3`.\n",
    "   - Condition satisfied.\n",
    "\n",
    "4. **Median Calculation**:\n",
    "   - Total elements: `4` (even).\n",
    "   - `median = (max(2, -inf) + min(inf, 3)) / 2 = (2 + 3) / 2 = 2.5`.\n",
    "\n",
    "**Output**: `2.5`\n",
    "\n",
    "---\n",
    "\n",
    "#### 5. Edge Cases\n",
    "1. **One Empty Array**:\n",
    "   - Input: `nums1 = []`, `nums2 = [1]`\n",
    "   - Output: `1.0`\n",
    "2. **Single Element Arrays**:\n",
    "   - Input: `nums1 = [1]`, `nums2 = [2]`\n",
    "   - Output: `1.5`\n",
    "3. **All Elements in One Array**:\n",
    "   - Input: `nums1 = [1, 2, 3]`, `nums2 = [4, 5, 6]`\n",
    "   - Output: `3.5`\n",
    "\n",
    "---\n",
    "\n",
    "#### 6. Wrap-Up\n",
    "- Restate the approach:\n",
    "  - Use binary search to partition the smaller array, ensuring `O(log(min(m, n)))` time complexity.\n",
    "- Complexity Recap:\n",
    "  - Time complexity is `O(log(min(m, n)))`, and space complexity is `O(1)`.\n",
    "- Ask for feedback or edge cases:\n",
    "  - \"Does this solution handle the requirements? Are there additional scenarios you'd like me to test?\"\n"
   ]
  },
  {
   "cell_type": "code",
   "execution_count": 133,
   "id": "aa02cb3e",
   "metadata": {},
   "outputs": [],
   "source": [
    "# time --> O(log(min(m, n)))\n",
    "# space --> O(1)\n",
    "\n",
    "def findMedianSortedArrays(nums1, nums2):\n",
    "    if len(nums1) > len(nums2):\n",
    "        nums1, nums2 = nums2, nums1\n",
    "        \n",
    "    x, y = len(nums1), len(nums2)\n",
    "    low, high = 0, x\n",
    "    \n",
    "    while low <= high:\n",
    "        partitionX = (low + high) // 2\n",
    "        partitionY = (x + y + 1) // 2 - partitionX\n",
    "        \n",
    "        maxX = float('-inf') if partitionX == 0 else nums1[partitionX - 1]\n",
    "        minX = float('inf') if partitionX == x else nums1[partitionX]\n",
    "        \n",
    "        maxY = float('-inf') if partitionY == 0 else nums2[partitionY - 1]\n",
    "        minY = float('inf') if partitionY == y else nums2[partitionY]\n",
    "        \n",
    "        if maxX <= minY and maxY <= minX:\n",
    "            if (x + y) % 2 == 0:\n",
    "                return (max(maxX, maxY) + min(minX, minY)) / 2\n",
    "            else:\n",
    "                return max(maxX, maxY)\n",
    "        elif maxX > minY:\n",
    "            high = partitionX - 1\n",
    "        else:\n",
    "            low = partitionX + 1"
   ]
  },
  {
   "cell_type": "code",
   "execution_count": 134,
   "id": "41ffdb0b",
   "metadata": {},
   "outputs": [
    {
     "data": {
      "text/plain": [
       "2"
      ]
     },
     "execution_count": 134,
     "metadata": {},
     "output_type": "execute_result"
    }
   ],
   "source": [
    "nums1 = [1,3]\n",
    "nums2 = [2]\n",
    "findMedianSortedArrays(nums1, nums2)"
   ]
  },
  {
   "cell_type": "code",
   "execution_count": 135,
   "id": "c988e594",
   "metadata": {},
   "outputs": [
    {
     "data": {
      "text/plain": [
       "2.5"
      ]
     },
     "execution_count": 135,
     "metadata": {},
     "output_type": "execute_result"
    }
   ],
   "source": [
    "nums1 = [1,2]\n",
    "nums2 = [3,4]\n",
    "findMedianSortedArrays(nums1, nums2)"
   ]
  },
  {
   "cell_type": "markdown",
   "id": "5acfcb0c",
   "metadata": {},
   "source": [
    "## 75. Count and Say\n",
    "\n",
    "For those not understanding what the question is asking: Here is a better explanation:\n",
    "\n",
    "* 1 - Start with \"1\" as the base case;\n",
    "* 2 - input \"n\" is how many times you need to make a conversion minus 1 - So if n is 5, convert 4 times.\n",
    "* 3 - A conversion is like this -\n",
    "---\n",
    "\n",
    "* Conversion 1 - Starting with \"1\" - I see \"one 1\", so the new String becomes \"11\".\n",
    "* Conversion 2 - Now I see \"11\", so I see \"two 1s\", so the next String is \"21\".\n",
    "* Conversion 3 - I have \"21\" - so I see \"one 2 and one 1\", so we have \"1211\"\n",
    "* Conversion 4 - I have \"1211\", so I see \" one 1 and one 2 and two 1\", therefore the final answer is \"111221\"."
   ]
  },
  {
   "cell_type": "code",
   "execution_count": 138,
   "id": "6714b812",
   "metadata": {},
   "outputs": [],
   "source": [
    "import re\n",
    "# time --> O(4**(n/3))\n",
    "# space --> O(4**(n/3))\n",
    "def countAndSay(n: int) -> str:\n",
    "    s = \"1\"\n",
    "    for _ in range(n - 1):\n",
    "        # m.group(0) is the entire match, m.group(1) is its first digit\n",
    "        s = re.sub(\n",
    "            r\"(.)\\1*\", lambda m: str(len(m.group(0))) + m.group(1), s\n",
    "        )\n",
    "    return s"
   ]
  },
  {
   "cell_type": "code",
   "execution_count": 139,
   "id": "93f0b29d",
   "metadata": {},
   "outputs": [
    {
     "data": {
      "text/plain": [
       "'1211'"
      ]
     },
     "execution_count": 139,
     "metadata": {},
     "output_type": "execute_result"
    }
   ],
   "source": [
    "countAndSay(4)"
   ]
  },
  {
   "cell_type": "markdown",
   "id": "b8ef85a4",
   "metadata": {},
   "source": [
    "## 76. Remove nth node from the end of a Linked List\n",
    "\n",
    "Instead of one pointer, we could use two pointers. The first pointer advances the list by n+1 steps from the beginning, while the second pointer starts from the beginning of the list. \n",
    "\n",
    "Now, both pointers are exactly separated by n nodes apart. We maintain this constant gap by advancing both pointers together until the first pointer arrives past the last node. The second pointer will be pointing at the nth node counting from the last.\n",
    "\n",
    "We relink the next pointer of the node referenced by the second pointer to point to the node's next next node."
   ]
  },
  {
   "cell_type": "code",
   "execution_count": 2,
   "id": "2589cb9c",
   "metadata": {},
   "outputs": [],
   "source": [
    "# time --> O(L)\n",
    "# space --> O(1)\n",
    "\n",
    "def removeNthFromEnd(head, n):\n",
    "    dummy = ListNode(0)\n",
    "    dummy.next = head\n",
    "    first = dummy\n",
    "    second = dummy\n",
    "\n",
    "    # first pointer moves n + 1 steps while second pointer remains the same\n",
    "    # so gap between first and second is n nodes apart\n",
    "    for i in range(n + 1):\n",
    "        first = first.next\n",
    "\n",
    "    # move first to end, maintaining the gap\n",
    "    while first != None:\n",
    "        first = first.next\n",
    "        second = second.next\n",
    "\n",
    "    second.next = second.next.next\n",
    "    return dummy.next\n"
   ]
  },
  {
   "cell_type": "code",
   "execution_count": 3,
   "id": "56055a9d",
   "metadata": {},
   "outputs": [
    {
     "data": {
      "text/plain": [
       "['reverse', 'this', 'string']"
      ]
     },
     "execution_count": 3,
     "metadata": {},
     "output_type": "execute_result"
    }
   ],
   "source": [
    "s = \"reverse this string\"\n",
    "\n",
    "s.strip().split()"
   ]
  },
  {
   "cell_type": "markdown",
   "id": "0a449b14-9f3e-46d4-a053-91c67157e46f",
   "metadata": {},
   "source": [
    "## 77. Unique paths\n",
    "\n",
    "There is a robot on an m x n grid. The robot is initially located at the top-left corner (i.e., grid[0][0]). The robot tries to move to the bottom-right corner (i.e., grid[m - 1][n - 1]). The robot can only move either down or right at any point in time.\n",
    "\n",
    "Given the two integers m and n, return the number of possible unique paths that the robot can take to reach the bottom-right corner.\n",
    "\n",
    "### Thought process\n",
    "\n",
    "The problem is a classical combinatorial problem: there are h+v moves to do from start to finish, h=m−1 horizontal moves, and v=n−1 vertical ones.\n",
    "\n",
    "In other words, we're asked to compute in how many ways one could choose p elements from p+k elements. In mathematics, that's called binomial coefficients.\n",
    "\n",
    "The formula is = (h + v)! / h! * v!\n",
    "\n",
    "h = m - 1\n",
    "v = n - 1\n",
    "\n",
    "So the formula becomes = ((m + n - 2)!)/ ((m - 1)! * (n - 1)!)\n",
    "\n",
    "\n",
    "\n"
   ]
  },
  {
   "cell_type": "code",
   "execution_count": 3,
   "id": "ad71472c-a3ed-4e0a-99a8-880ea653064b",
   "metadata": {},
   "outputs": [],
   "source": [
    "import math\n",
    "\n",
    "# time --> O((M+N)(log(M+N)loglog(M+N))**2)\n",
    "# space --> O(1)\n",
    "def uniquePaths(m: int, n: int) -> int:\n",
    "    return math.factorial(m + n - 2) // math.factorial(m - 1) // math.factorial(n - 1)"
   ]
  },
  {
   "cell_type": "code",
   "execution_count": 4,
   "id": "3cd267db-8ed5-4d78-8234-119c46784388",
   "metadata": {},
   "outputs": [
    {
     "data": {
      "text/plain": [
       "28"
      ]
     },
     "execution_count": 4,
     "metadata": {},
     "output_type": "execute_result"
    }
   ],
   "source": [
    "m = 3\n",
    "n = 7\n",
    "\n",
    "uniquePaths(m, n)"
   ]
  },
  {
   "cell_type": "markdown",
   "id": "1e3857c8-b16d-450a-b881-7697b8bcf96f",
   "metadata": {},
   "source": [
    "## 78. Remove all adjacent duplicates from a string\n",
    "\n",
    "You are given a string s consisting of lowercase English letters. A duplicate removal consists of choosing two adjacent and equal letters and removing them.\n",
    "\n",
    "We repeatedly make duplicate removals on s until we no longer can.\n",
    "\n",
    "Return the final string after all such duplicate removals have been made. It can be proven that the answer is unique.\n",
    "\n",
    " \n",
    "\n",
    "Example 1:\n",
    "\n",
    "Input: s = \"abbaca\"\n",
    "\n",
    "Output: \"ca\"\n",
    "\n",
    "Explanation: \n",
    "\n",
    "For example, in \"abbaca\" we could remove \"bb\" since the letters are adjacent and equal, and this is the only possible move.  The result of this move is that the string is \"aaca\", of which only \"aa\" is possible, so the final string is \"ca\".\n",
    "\n",
    "Example 2:\n",
    "\n",
    "Input: s = \"azxxzy\"\n",
    "\n",
    "Output: \"ay\"\n",
    " \n",
    "\n"
   ]
  },
  {
   "cell_type": "code",
   "execution_count": 7,
   "id": "270dcf7d-3221-4be1-afc7-ffb94fa5dc19",
   "metadata": {},
   "outputs": [],
   "source": [
    "# brute force\n",
    "\n",
    "from string import ascii_lowercase\n",
    "# time --> O(n**2)\n",
    "# space --> O(n)\n",
    "def removeDuplicates(s):\n",
    "    duplicates = {2 * ch for ch in ascii_lowercase}\n",
    "\n",
    "    prev_length = -1\n",
    "\n",
    "    while prev_length != len(s):\n",
    "        prev_length = len(s)\n",
    "        for d in duplicates:\n",
    "            s = s.replace(d, '')\n",
    "    return s"
   ]
  },
  {
   "cell_type": "code",
   "execution_count": 8,
   "id": "688ad05e-8fd8-40fb-85f4-9a7bb1460873",
   "metadata": {},
   "outputs": [
    {
     "data": {
      "text/plain": [
       "'ca'"
      ]
     },
     "execution_count": 8,
     "metadata": {},
     "output_type": "execute_result"
    }
   ],
   "source": [
    "s = \"abbaca\"\n",
    "removeDuplicates(s)"
   ]
  },
  {
   "cell_type": "code",
   "execution_count": 10,
   "id": "46f9f7eb-1e90-4c09-b2f3-426f50513552",
   "metadata": {},
   "outputs": [],
   "source": [
    "# optimized\n",
    "# time --> O(n)\n",
    "# space --> O(n - d) where d is the length of all duplicates\n",
    "def removeDuplicates(s):\n",
    "    stack = []\n",
    "\n",
    "    for ch in s:\n",
    "        if stack and ch == stack[-1]:\n",
    "            stack.pop()\n",
    "        else:\n",
    "            stack.append(ch)\n",
    "    return \"\".join(stack)\n",
    "        "
   ]
  },
  {
   "cell_type": "code",
   "execution_count": 11,
   "id": "363246e7-91d9-467b-a948-689b64d48f7b",
   "metadata": {},
   "outputs": [
    {
     "data": {
      "text/plain": [
       "'ca'"
      ]
     },
     "execution_count": 11,
     "metadata": {},
     "output_type": "execute_result"
    }
   ],
   "source": [
    "s = \"abbaca\"\n",
    "removeDuplicates(s)"
   ]
  },
  {
   "cell_type": "markdown",
   "id": "6699dd03-3d13-4a1c-bd47-762fc89cb35f",
   "metadata": {},
   "source": [
    "## 79. Longest Consecutive sequence\n",
    "\n",
    "Given an unsorted array of integers nums, return the length of the longest consecutive elements sequence.\n",
    "\n",
    "You must write an algorithm that runs in O(n) time.\n",
    "\n",
    " \n",
    "\n",
    "Example 1:\n",
    "\n",
    "Input: nums = [100,4,200,1,3,2]\n",
    "\n",
    "Output: 4\n",
    "\n",
    "Explanation: The longest consecutive elements sequence is [1, 2, 3, 4]. Therefore its length is 4.\n",
    "\n",
    "Example 2:\n",
    "\n",
    "Input: nums = [0,3,7,2,5,8,4,6,0,1]\n",
    "\n",
    "Output: 9"
   ]
  },
  {
   "cell_type": "code",
   "execution_count": 15,
   "id": "8c7342ea-4f0d-48cf-afc2-05285c743700",
   "metadata": {},
   "outputs": [],
   "source": [
    "# brute force by sorting\n",
    "# time --> O(nlogn)\n",
    "# space --> O(n) or O(logn) (depending on programming language for sort) (for python it's O(n) as it's Tim Sort)\n",
    "def longestConsecutive(nums):\n",
    "    if not nums:\n",
    "        return 0\n",
    "\n",
    "    nums.sort()\n",
    "\n",
    "    longest_streak = 1\n",
    "    current_streak = 1\n",
    "\n",
    "    for i in range(1, len(nums)):\n",
    "        if nums[i] != nums[i - 1]:\n",
    "            if nums[i] == nums[i - 1] + 1:\n",
    "                current_streak += 1\n",
    "            else:\n",
    "                longest_streak = max(longest_streak, current_streak)\n",
    "                current_streak = 1\n",
    "    return max(longest_streak, current_streak)"
   ]
  },
  {
   "cell_type": "code",
   "execution_count": 16,
   "id": "fb98cd31-749a-475b-98d7-6683af795868",
   "metadata": {},
   "outputs": [
    {
     "data": {
      "text/plain": [
       "9"
      ]
     },
     "execution_count": 16,
     "metadata": {},
     "output_type": "execute_result"
    }
   ],
   "source": [
    "nums = [0,3,7,2,5,8,4,6,0,1]\n",
    "longestConsecutive(nums)"
   ]
  },
  {
   "cell_type": "code",
   "execution_count": 22,
   "id": "61f16885-a18e-45fc-a328-3de93cd10a33",
   "metadata": {},
   "outputs": [],
   "source": [
    "# time --> O(n)\n",
    "# space --> O(n)\n",
    "\n",
    "def longestConsecutive(nums):\n",
    "    longest_streak = 0\n",
    "    nums_set = set(nums)\n",
    "\n",
    "    for num in nums_set:\n",
    "        if num - 1 not in nums_set:\n",
    "            current_num = num\n",
    "            current_streak = 1\n",
    "\n",
    "            while current_num + 1 in nums_set:\n",
    "                current_num += 1\n",
    "                current_streak += 1\n",
    "            longest_streak = max(longest_streak, current_streak)\n",
    "    return longest_streak"
   ]
  },
  {
   "cell_type": "code",
   "execution_count": 23,
   "id": "22db92d2-a3d8-4e33-824b-e2f1b37880f8",
   "metadata": {},
   "outputs": [
    {
     "data": {
      "text/plain": [
       "9"
      ]
     },
     "execution_count": 23,
     "metadata": {},
     "output_type": "execute_result"
    }
   ],
   "source": [
    "nums = [0,3,7,2,5,8,4,6,0,1]\n",
    "longestConsecutive(nums)"
   ]
  },
  {
   "cell_type": "code",
   "execution_count": 24,
   "id": "4bdd5480-3b6c-40bc-b043-184c91a4c7b5",
   "metadata": {},
   "outputs": [
    {
     "data": {
      "text/plain": [
       "{0, 1, 2, 3, 4, 5, 6, 7, 8}"
      ]
     },
     "execution_count": 24,
     "metadata": {},
     "output_type": "execute_result"
    }
   ],
   "source": [
    "set(nums)"
   ]
  },
  {
   "cell_type": "markdown",
   "id": "99d1aeeb-d3dc-40fb-bb3e-e7e78311d280",
   "metadata": {},
   "source": [
    "## 80. Valid Palindrome III\n",
    "\n",
    "This is a DP question and not asked in facebook. But it was asked as a followup in one interview"
   ]
  },
  {
   "cell_type": "code",
   "execution_count": 4,
   "id": "d13e2b70",
   "metadata": {},
   "outputs": [],
   "source": [
    "# time --> O(n^2)\n",
    "# space --> O(n^2)\n",
    "def isKPalindrome(s: str, k: int) -> bool:\n",
    "    n = len(s)\n",
    "    \n",
    "    # DP table\n",
    "    dp = [[0] * n for _ in range(n)]\n",
    "    \n",
    "    # Base case: single-character substrings\n",
    "    for i in range(n):\n",
    "        dp[i][i] = 1\n",
    "    \n",
    "    # Fill the DP table for substrings of length 2 and more\n",
    "    for length in range(2, n + 1):  # length of the substring\n",
    "        for i in range(n - length + 1):\n",
    "            j = i + length - 1  # Ending index\n",
    "            if s[i] == s[j]:\n",
    "                dp[i][j] = dp[i + 1][j - 1] + 2\n",
    "            else:\n",
    "                dp[i][j] = max(dp[i + 1][j], dp[i][j - 1])\n",
    "    \n",
    "    # Length of the longest palindromic subsequence\n",
    "    lps = dp[0][n - 1]\n",
    "    \n",
    "    # Check if the string is a k-palindrome\n",
    "    return (n - lps) <= k\n"
   ]
  },
  {
   "cell_type": "markdown",
   "id": "6b597eb9-e9d5-4453-ba90-99986767069b",
   "metadata": {},
   "source": [
    "## 81. Two Sum II - input array is sorted"
   ]
  },
  {
   "cell_type": "code",
   "execution_count": 2,
   "id": "86531701",
   "metadata": {},
   "outputs": [],
   "source": [
    "def twoSum(numbers, target):\n",
    "    left = 0\n",
    "    right = len(numbers) - 1\n",
    "    \n",
    "    while left < right:\n",
    "        total = numbers[left] + numbers[right]\n",
    "        \n",
    "        if total == target:\n",
    "            return [left + 1, right + 1]\n",
    "        elif total < target:\n",
    "            left += 1\n",
    "        else:\n",
    "            right -= 1\n",
    "    return [-1, -1]"
   ]
  },
  {
   "cell_type": "code",
   "execution_count": 3,
   "id": "6a27aad2",
   "metadata": {},
   "outputs": [
    {
     "data": {
      "text/plain": [
       "[1, 2]"
      ]
     },
     "execution_count": 3,
     "metadata": {},
     "output_type": "execute_result"
    }
   ],
   "source": [
    "numbers = [2,7,11,15]\n",
    "target = 9\n",
    "\n",
    "twoSum(numbers, target)"
   ]
  },
  {
   "cell_type": "markdown",
   "id": "0f3f8603",
   "metadata": {},
   "source": [
    "## 82. Max area of island\n",
    "\n",
    "You are given an m x n binary matrix grid. An island is a group of 1's (representing land) connected 4-directionally (horizontal or vertical.) You may assume all four edges of the grid are surrounded by water.\n",
    "\n",
    "The area of an island is the number of cells with a value 1 in the island.\n",
    "\n",
    "Return the maximum area of an island in grid. If there is no island, return 0."
   ]
  },
  {
   "cell_type": "code",
   "execution_count": 8,
   "id": "e070225a",
   "metadata": {},
   "outputs": [],
   "source": [
    "# time --> O(m x n)\n",
    "# space --> O(min(m, n))\n",
    "\n",
    "def maxAreaOfIsland(grid):\n",
    "    if not grid or len(grid) == 0:\n",
    "        return 0\n",
    "    \n",
    "    max_area = 0\n",
    "    \n",
    "    directions = [[-1, 0], [0, 1], [1, 0], [0, -1]]\n",
    "    \n",
    "    for row in range(len(grid)):\n",
    "        for col in range(len(grid[0])):\n",
    "            if grid[row][col] == 1:\n",
    "                grid[row][col] = 0\n",
    "                current_area = 0\n",
    "            \n",
    "                queue = [[row, col]]\n",
    "\n",
    "                while queue:\n",
    "                    current_row, current_col = queue.pop(0)\n",
    "                    current_area += 1\n",
    "                    \n",
    "                    for i in range(len(directions)):\n",
    "                        direction = directions[i]\n",
    "                        next_row, next_col = current_row + direction[0], current_col + direction[1]\n",
    "                        \n",
    "                        if next_row < 0 or next_row >= len(grid) or next_col < 0 or next_col >= len(grid[0]):\n",
    "                            continue\n",
    "                        \n",
    "                        if grid[next_row][next_col] == 1:\n",
    "                            grid[next_row][next_col] = 0\n",
    "                            queue.append([next_row, next_col])\n",
    "                max_area = max(max_area, current_area)\n",
    "    return max_area\n",
    "                \n",
    "                "
   ]
  },
  {
   "cell_type": "code",
   "execution_count": 9,
   "id": "33972597",
   "metadata": {},
   "outputs": [
    {
     "data": {
      "text/plain": [
       "6"
      ]
     },
     "execution_count": 9,
     "metadata": {},
     "output_type": "execute_result"
    }
   ],
   "source": [
    "grid = [[0,0,1,0,0,0,0,1,0,0,0,0,0],[0,0,0,0,0,0,0,1,1,1,0,0,0],[0,1,1,0,1,0,0,0,0,0,0,0,0],[0,1,0,0,1,1,0,0,1,0,1,0,0],[0,1,0,0,1,1,0,0,1,1,1,0,0],[0,0,0,0,0,0,0,0,0,0,1,0,0],[0,0,0,0,0,0,0,1,1,1,0,0,0],[0,0,0,0,0,0,0,1,1,0,0,0,0]]\n",
    "maxAreaOfIsland(grid)"
   ]
  },
  {
   "cell_type": "markdown",
   "id": "562a95d0",
   "metadata": {},
   "source": [
    "## 83. Contains Duplicate II\n",
    "\n",
    "Given an integer array nums and an integer k, return true if there are two distinct indices i and j in the array such that nums[i] == nums[j] and abs(i - j) <= k.\n",
    "\n",
    " \n",
    "\n",
    "Example 1:\n",
    "\n",
    "Input: nums = [1,2,3,1], k = 3\n",
    "\n",
    "Output: true\n",
    "\n",
    "Example 2:\n",
    "\n",
    "Input: nums = [1,0,1,1], k = 1\n",
    "\n",
    "Output: true\n",
    "\n",
    "Example 3:\n",
    "\n",
    "Input: nums = [1,2,3,1,2,3], k = 2\n",
    "\n",
    "Output: false"
   ]
  },
  {
   "cell_type": "code",
   "execution_count": 11,
   "id": "f9aeccea",
   "metadata": {},
   "outputs": [],
   "source": [
    "# time --> O(n)\n",
    "# space --> O(min(n, k))\n",
    "def containsNearbyDuplicate(nums, k):\n",
    "    hash_map = {}\n",
    "    \n",
    "    for idx, val in enumerate(nums):\n",
    "        if val in hash_map and idx - hash_map[val] <= k:\n",
    "            return True\n",
    "        hash_map[val] = idx\n",
    "    return False"
   ]
  },
  {
   "cell_type": "code",
   "execution_count": 12,
   "id": "47cefcf1",
   "metadata": {},
   "outputs": [
    {
     "data": {
      "text/plain": [
       "True"
      ]
     },
     "execution_count": 12,
     "metadata": {},
     "output_type": "execute_result"
    }
   ],
   "source": [
    "nums = [1,2,3,1]\n",
    "k = 3\n",
    "\n",
    "containsNearbyDuplicate(nums, k)"
   ]
  },
  {
   "cell_type": "code",
   "execution_count": 13,
   "id": "d3afcba3",
   "metadata": {},
   "outputs": [
    {
     "data": {
      "text/plain": [
       "False"
      ]
     },
     "execution_count": 13,
     "metadata": {},
     "output_type": "execute_result"
    }
   ],
   "source": [
    "nums = [1,2,3,1,2,3]\n",
    "k = 2\n",
    "\n",
    "containsNearbyDuplicate(nums, k)"
   ]
  },
  {
   "cell_type": "markdown",
   "id": "41e7f3b1",
   "metadata": {},
   "source": [
    "## 84. Convert Binary search tree to sorted doubly Linked List\n",
    "\n",
    "### Trick\n",
    "\n",
    "Do in order traversal"
   ]
  },
  {
   "cell_type": "code",
   "execution_count": 14,
   "id": "2deb4b96",
   "metadata": {},
   "outputs": [],
   "source": [
    "def treeToDoublyList(root):\n",
    "    def helper(node):\n",
    "        \"\"\"\n",
    "        Performs standard inorder traversal:\n",
    "        left -> node -> right\n",
    "        and links all nodes into DLL\n",
    "        \"\"\"\n",
    "        nonlocal last, first\n",
    "        if node:\n",
    "            # left\n",
    "            helper(node.left)\n",
    "\n",
    "            # node \n",
    "            if last:\n",
    "                # link the previous node (last)\n",
    "                # with the current one (node)\n",
    "                last.right = node\n",
    "                node.left = last\n",
    "            else:\n",
    "                # keep the smallest node\n",
    "                # to close DLL later on\n",
    "                first = node        \n",
    "            last = node\n",
    "\n",
    "            # right\n",
    "            helper(node.right)\n",
    "\n",
    "    if not root:\n",
    "        return None\n",
    "\n",
    "    # the smallest (first) and the largest (last) nodes\n",
    "    first, last = None, None\n",
    "    helper(root)\n",
    "\n",
    "    # close DLL\n",
    "    last.right = first\n",
    "    first.left = last\n",
    "    return first"
   ]
  },
  {
   "cell_type": "markdown",
   "id": "dcc1582d",
   "metadata": {},
   "source": [
    "## 85. Goat Latin\n",
    "\n",
    "You are given a string sentence that consist of words separated by spaces. Each word consists of lowercase and uppercase letters only.\n",
    "\n",
    "We would like to convert the sentence to \"Goat Latin\" (a made-up language similar to Pig Latin.) The rules of Goat Latin are as follows:\n",
    "\n",
    "* If a word begins with a vowel ('a', 'e', 'i', 'o', or 'u'), append \"ma\" to the end of the word.\n",
    "  * For example, the word \"apple\" becomes \"applema\".\n",
    "* If a word begins with a consonant (i.e., not a vowel), remove the first letter and append it to the end, then add \"ma\".\n",
    "  * For example, the word \"goat\" becomes \"oatgma\".\n",
    "* Add one letter 'a' to the end of each word per its word index in the sentence, starting with 1.\n",
    "  * For example, the first word gets \"a\" added to the end, the second word gets \"aa\" added to the end, and so on.\n",
    "Return the final sentence representing the conversion from sentence to Goat Latin.\n",
    "\n",
    " \n",
    "\n",
    "Example 1:\n",
    "\n",
    "Input: sentence = \"I speak Goat Latin\"\n",
    "\n",
    "Output: \"Imaa peaksmaaa oatGmaaaa atinLmaaaaa\""
   ]
  },
  {
   "cell_type": "code",
   "execution_count": 16,
   "id": "2e16233f",
   "metadata": {},
   "outputs": [],
   "source": [
    "# time --> O(n)\n",
    "# space --> O(n)\n",
    "\n",
    "def toGoatLatin(sentence):\n",
    "    goat_latin_words = []\n",
    "    vowels = set('aeiouAEIOU')\n",
    "    words = sentence.split()\n",
    "    \n",
    "    for idx, word in enumerate(words):\n",
    "        if word[0] in vowels:\n",
    "            goat_word = word + 'ma'\n",
    "        else:\n",
    "            goat_word = word[1:] + word[0] + 'ma'\n",
    "        \n",
    "        goat_word += 'a' * (idx + 1)\n",
    "        \n",
    "        goat_latin_words.append(goat_word)\n",
    "    \n",
    "    return \" \".join(goat_latin_words)"
   ]
  },
  {
   "cell_type": "code",
   "execution_count": 17,
   "id": "c4f7c8aa",
   "metadata": {},
   "outputs": [
    {
     "data": {
      "text/plain": [
       "'Imaa peaksmaaa oatGmaaaa atinLmaaaaa'"
      ]
     },
     "execution_count": 17,
     "metadata": {},
     "output_type": "execute_result"
    }
   ],
   "source": [
    "sentence = \"I speak Goat Latin\"\n",
    "toGoatLatin(sentence)"
   ]
  },
  {
   "cell_type": "markdown",
   "id": "b0dc084d",
   "metadata": {},
   "source": [
    "## 86. Tic tac toe"
   ]
  },
  {
   "cell_type": "code",
   "execution_count": 20,
   "id": "b8a88479",
   "metadata": {},
   "outputs": [],
   "source": [
    "# time --> O(1)\n",
    "# space --> O(n)\n",
    "class TicTacToe:\n",
    "    def __init__(self, n: int):\n",
    "        self.rows = [0] * n\n",
    "        self.cols = [0] * n\n",
    "        self.diagonal = 0\n",
    "        self.antidiagonal = 0\n",
    "        self.n = n\n",
    "        \n",
    "    def move(self, row, col, player):\n",
    "        current_player = 1 if player == 1 else -1\n",
    "        \n",
    "        self.rows[row] += current_player\n",
    "        self.cols[col] += current_player\n",
    "        \n",
    "        if row == col:\n",
    "            self.diagonal += current_player\n",
    "        \n",
    "        if col == (self.n - row - 1):\n",
    "            self.antidiagonal += current_player\n",
    "            \n",
    "        if (abs(self.rows[row]) == self.n or\n",
    "            abs(self.cols[col]) == self.n or\n",
    "            abs(self.diagonal) == self.n or\n",
    "            abs(self.antidiagonal) == self.n):\n",
    "            return player\n",
    "        return 0\n",
    "            "
   ]
  },
  {
   "cell_type": "code",
   "execution_count": 21,
   "id": "60fc805f",
   "metadata": {},
   "outputs": [
    {
     "name": "stdout",
     "output_type": "stream",
     "text": [
      "0\n",
      "0\n",
      "0\n",
      "0\n",
      "0\n",
      "0\n",
      "1\n"
     ]
    }
   ],
   "source": [
    "ticTacToe = TicTacToe(3);\n",
    "print(ticTacToe.move(0, 0, 1))\n",
    "print(ticTacToe.move(0, 2, 2))\n",
    "print(ticTacToe.move(2, 2, 1))\n",
    "print(ticTacToe.move(1, 1, 2))\n",
    "print(ticTacToe.move(2, 0, 1))\n",
    "print(ticTacToe.move(1, 0, 2))\n",
    "print(ticTacToe.move(2, 1, 1))"
   ]
  },
  {
   "cell_type": "markdown",
   "id": "cbdd5593",
   "metadata": {},
   "source": [
    "## 87. Merge strings alternatively"
   ]
  },
  {
   "cell_type": "code",
   "execution_count": 22,
   "id": "53f8414d",
   "metadata": {},
   "outputs": [],
   "source": [
    "# time --> O(m + n)\n",
    "# space --> O(m + n)\n",
    "def mergeAlternately(word1: str, word2: str) -> str:\n",
    "    result = []\n",
    "\n",
    "    first = 0\n",
    "    second = 0\n",
    "\n",
    "    while first < len(word1) or second < len(word2):\n",
    "        if first < len(word1):\n",
    "            result.append(word1[first])\n",
    "            first += 1\n",
    "        if second < len(word2):\n",
    "            result.append(word2[second])\n",
    "            second +=1 \n",
    "\n",
    "    return \"\".join(result)"
   ]
  },
  {
   "cell_type": "code",
   "execution_count": 23,
   "id": "e942a110",
   "metadata": {},
   "outputs": [
    {
     "data": {
      "text/plain": [
       "'apbqcr'"
      ]
     },
     "execution_count": 23,
     "metadata": {},
     "output_type": "execute_result"
    }
   ],
   "source": [
    "word1 = \"abc\"\n",
    "word2 = \"pqr\"\n",
    "mergeAlternately(word1, word2)"
   ]
  },
  {
   "cell_type": "markdown",
   "id": "7e92fb53",
   "metadata": {},
   "source": [
    "## 88. Check completeness of a binary tree\n",
    "\n"
   ]
  },
  {
   "cell_type": "code",
   "execution_count": 26,
   "id": "d25ca4ca",
   "metadata": {},
   "outputs": [],
   "source": [
    "# time --> O(n)\n",
    "# space --> O(n)\n",
    "def isCompleteTree(root):\n",
    "    if not root:\n",
    "        return True\n",
    "    \n",
    "    queue = [root]\n",
    "    null_node_found = False\n",
    "    \n",
    "    while queue:\n",
    "        curr_node = queue.pop(0)\n",
    "        \n",
    "        if not curr_node:\n",
    "            null_node_found = True\n",
    "        else:\n",
    "            if null_node_found:\n",
    "                return False\n",
    "            queue.append(curr_node.left)\n",
    "            queue.append(curr_node.right)\n",
    "    return True"
   ]
  },
  {
   "cell_type": "markdown",
   "id": "6efc7f00",
   "metadata": {},
   "source": [
    "## 89. Reverse Integer"
   ]
  },
  {
   "cell_type": "code",
   "execution_count": 35,
   "id": "af498e98",
   "metadata": {},
   "outputs": [],
   "source": [
    "# time --> O(logx)\n",
    "# space --> O(1)\n",
    "def reverse(x):\n",
    "    sign = 1 if x >= 0 else -1\n",
    "    \n",
    "    rev, x = 0, abs(x)\n",
    "    \n",
    "    while x > 0:\n",
    "        last_digit = x % 10\n",
    "        rev = rev * 10 + last_digit\n",
    "        x = x // 10\n",
    "        \n",
    "        if rev > 2**31 - 1:\n",
    "            return 0\n",
    "    \n",
    "    return sign * rev        "
   ]
  },
  {
   "cell_type": "code",
   "execution_count": 36,
   "id": "e2c465be",
   "metadata": {},
   "outputs": [
    {
     "data": {
      "text/plain": [
       "-321"
      ]
     },
     "execution_count": 36,
     "metadata": {},
     "output_type": "execute_result"
    }
   ],
   "source": [
    "x = -123\n",
    "reverse(x)"
   ]
  },
  {
   "cell_type": "markdown",
   "id": "f21c2ef9",
   "metadata": {},
   "source": [
    "## 90. Find Largest value in each tree row"
   ]
  },
  {
   "cell_type": "code",
   "execution_count": 38,
   "id": "26a3ca55",
   "metadata": {},
   "outputs": [],
   "source": [
    "# time --> O(n)\n",
    "# space --> O(n)\n",
    "def largestValues(root):\n",
    "    if not root:\n",
    "        return []\n",
    "    \n",
    "    queue = [root]\n",
    "    result = []\n",
    "    \n",
    "    while queue:\n",
    "        queue_length = len(queue)\n",
    "        counter = 0\n",
    "        maximum = float('-inf')\n",
    "        \n",
    "        while counter < queue_length:\n",
    "            currNode = queue.pop(0)\n",
    "            maximum = max(maximum, currNode.val)\n",
    "            counter += 1\n",
    "            \n",
    "            if currNode.left:\n",
    "                queue.append(currNode.left)\n",
    "            \n",
    "            if currNode.right:\n",
    "                queue.append(currNode.right)\n",
    "            \n",
    "        result.append(maximum)\n",
    "    return result"
   ]
  },
  {
   "cell_type": "markdown",
   "id": "1d6baefe",
   "metadata": {},
   "source": [
    "## 91. String to integer (atoi)"
   ]
  },
  {
   "cell_type": "code",
   "execution_count": 39,
   "id": "34aea7ac",
   "metadata": {},
   "outputs": [],
   "source": [
    "def myAtoi(s):\n",
    "    result = 0\n",
    "    n = len(s)\n",
    "    index = 0\n",
    "    sign = 1\n",
    "    \n",
    "    INT_MAX = 2**31 - 1\n",
    "    INT_MIN = -2**31\n",
    "    \n",
    "    while index < n and s[index] == \" \":\n",
    "        index += 1\n",
    "    \n",
    "    if index < n and s[index] == \"+\":\n",
    "        sign = 1\n",
    "        index += 1\n",
    "    elif index < n and s[index] == \"-\":\n",
    "        sign = -1\n",
    "        index += 1\n",
    "    \n",
    "    while index < n and s[index].isdigit():\n",
    "        digit = int(s[index])\n",
    "        \n",
    "        if (result > INT_MAX // 10) or (result == INT_MAX // 10 and digit > INT_MAX % 10):\n",
    "            return INT_MAX if sign == 1 else INT_MIN\n",
    "        \n",
    "        result = result * 10 + digit\n",
    "        index += 1\n",
    "    \n",
    "    return sign * result"
   ]
  },
  {
   "cell_type": "code",
   "execution_count": 40,
   "id": "fc3f29c8",
   "metadata": {},
   "outputs": [
    {
     "data": {
      "text/plain": [
       "-42"
      ]
     },
     "execution_count": 40,
     "metadata": {},
     "output_type": "execute_result"
    }
   ],
   "source": [
    "s = \" -042\"\n",
    "myAtoi(s)"
   ]
  },
  {
   "cell_type": "markdown",
   "id": "7f951293",
   "metadata": {},
   "source": [
    "## 92. Letter combinations of phone number"
   ]
  },
  {
   "cell_type": "code",
   "execution_count": 43,
   "id": "5360947d",
   "metadata": {},
   "outputs": [],
   "source": [
    "# time --> O(4^N * N)\n",
    "# space --> O(4^N * N)\n",
    "from collections import deque\n",
    "def letterCombinations(digits: str):\n",
    "    if digits == \"\":\n",
    "        return []\n",
    "\n",
    "    d = {1: '', 2: 'abc',3: 'def',4: 'ghi',5: 'jkl',6: 'mno',7: 'pqrs',8: 'tuv',9: 'wxyz'}\n",
    "\n",
    "    queue = deque(d[int(digits[0])])\n",
    "\n",
    "    for i in range(1, len(digits)):\n",
    "        s = len(queue)\n",
    "        while s:\n",
    "            curr_value = queue.popleft()\n",
    "            for j in d[int(digits[i])]:\n",
    "                queue.append(curr_value + j)\n",
    "            s -= 1\n",
    "\n",
    "    return list(queue)"
   ]
  },
  {
   "cell_type": "code",
   "execution_count": 44,
   "id": "85502e2b",
   "metadata": {},
   "outputs": [
    {
     "data": {
      "text/plain": [
       "['ad', 'ae', 'af', 'bd', 'be', 'bf', 'cd', 'ce', 'cf']"
      ]
     },
     "execution_count": 44,
     "metadata": {},
     "output_type": "execute_result"
    }
   ],
   "source": [
    "digits = \"23\"\n",
    "letterCombinations(digits)"
   ]
  },
  {
   "cell_type": "markdown",
   "id": "4838d0cb",
   "metadata": {},
   "source": [
    "## 93. Minimum absolute difference in BST\n",
    "\n",
    "Given the root of a Binary Search Tree (BST), return the minimum absolute difference between the values of any two different nodes in the tree.\n",
    "\n",
    "**TRICK**: In order sorts the nodes in a BST"
   ]
  },
  {
   "cell_type": "code",
   "execution_count": 45,
   "id": "40f2c331",
   "metadata": {},
   "outputs": [],
   "source": [
    "# time --> O(n)\n",
    "# space --> O(n)\n",
    "def getMinimumDifference(root) -> int:\n",
    "    inorder_nodes = []\n",
    "\n",
    "    def in_order(node):\n",
    "        if not node:\n",
    "            return \n",
    "\n",
    "        in_order(node.left)\n",
    "        inorder_nodes.append(node.val)\n",
    "        in_order(node.right)\n",
    "\n",
    "    in_order(root)\n",
    "\n",
    "    minimum = float('inf')\n",
    "\n",
    "    for i in range(1, len(inorder_nodes)):\n",
    "        minimum = min(minimum, inorder_nodes[i] - inorder_nodes[i - 1])\n",
    "\n",
    "    return minimum"
   ]
  },
  {
   "cell_type": "markdown",
   "id": "3bd2a6fc",
   "metadata": {},
   "source": [
    "## 94. Merge two sorted Linked List"
   ]
  },
  {
   "cell_type": "code",
   "execution_count": 47,
   "id": "29af390b",
   "metadata": {},
   "outputs": [],
   "source": [
    "# time --> O(n + m)\n",
    "# space --> O(1)\n",
    "def mergeTwoLists(list1, list2):\n",
    "    dummy = ListNode(0)\n",
    "    prev = dummy\n",
    "\n",
    "    while list1 and list2:\n",
    "        if list1.val <= list2.val:\n",
    "            prev.next = list1\n",
    "            list1 = list1.next\n",
    "        else:\n",
    "            prev.next = list2\n",
    "            list2 = list2.next\n",
    "        prev = prev.next\n",
    "    prev.next = list1 if list1 is not None else list2\n",
    "    return dummy.next"
   ]
  },
  {
   "cell_type": "markdown",
   "id": "dd974e64",
   "metadata": {},
   "source": [
    "## 95. Find the index of the first occurrence in a string"
   ]
  },
  {
   "cell_type": "code",
   "execution_count": 48,
   "id": "9ec0b0d0",
   "metadata": {},
   "outputs": [],
   "source": [
    "# time --> O(m * n)\n",
    "# space --> O(1)\n",
    "def strStr(haystack, needle):\n",
    "    for i in range(len(haystack) - len(needle) + 1):\n",
    "        if haystack[i:i+len(needle)] == needle:\n",
    "            return i\n",
    "    return -1"
   ]
  },
  {
   "cell_type": "code",
   "execution_count": 49,
   "id": "28fec231",
   "metadata": {},
   "outputs": [
    {
     "data": {
      "text/plain": [
       "0"
      ]
     },
     "execution_count": 49,
     "metadata": {},
     "output_type": "execute_result"
    }
   ],
   "source": [
    "haystack = \"sadbutsad\"\n",
    "needle = \"sad\"\n",
    "\n",
    "strStr(haystack, needle)"
   ]
  },
  {
   "cell_type": "markdown",
   "id": "c5ab9133",
   "metadata": {},
   "source": [
    "## 96. Boundary of a binary tree\n",
    "\n",
    "Do preorder, inorder and post order"
   ]
  },
  {
   "cell_type": "code",
   "execution_count": 50,
   "id": "77184c2f",
   "metadata": {},
   "outputs": [],
   "source": [
    "# time --> O(n)\n",
    "# space --> O(n)\n",
    "def boundaryOfBinaryTree(root):\n",
    "    if not root:\n",
    "        return []\n",
    "    def dfs_leftmost(node):\n",
    "        if not node or not node.left and not node.right:\n",
    "            return\n",
    "        boundary.append(node.val)\n",
    "\n",
    "        if node.left:\n",
    "            dfs_leftmost(node.left)\n",
    "        else:\n",
    "            dfs_leftmost(node.right)\n",
    "\n",
    "    def dfs_leaves(node):\n",
    "        if not node:\n",
    "            return\n",
    "        dfs_leaves(node.left)\n",
    "        \n",
    "        if node != root and not node.left and not node.right:\n",
    "            boundary.append(node.val)\n",
    "\n",
    "        dfs_leaves(node.right)\n",
    "\n",
    "    def dfs_rightmost(node):\n",
    "        if not node or not node.left and not node.right:\n",
    "            return\n",
    "\n",
    "        if node.right:\n",
    "            dfs_rightmost(node.right)\n",
    "        else:\n",
    "            dfs_rightmost(node.left)\n",
    "        boundary.append(node.val)\n",
    "\n",
    "    boundary = [root.val]\n",
    "    dfs_leftmost(root.left)\n",
    "    dfs_leaves(root)\n",
    "    dfs_rightmost(root.right)\n",
    "    return boundary"
   ]
  },
  {
   "cell_type": "markdown",
   "id": "11d2ad56-decf-4f45-8209-ab4e8dc9557f",
   "metadata": {},
   "source": [
    "## 97. Search in a rotated sorted array\n",
    "\n",
    "There is an integer array nums sorted in ascending order (with distinct values).\n",
    "\n",
    "Prior to being passed to your function, nums is possibly rotated at an unknown pivot index k (1 <= k < nums.length) such that the resulting array is [nums[k], nums[k+1], ..., nums[n-1], nums[0], nums[1], ..., nums[k-1]] (0-indexed). For example, [0,1,2,4,5,6,7] might be rotated at pivot index 3 and become [4,5,6,7,0,1,2].\n",
    "\n",
    "Given the array nums after the possible rotation and an integer target, return the index of target if it is in nums, or -1 if it is not in nums.\n",
    "\n",
    "You must write an algorithm with O(log n) runtime complexity.\n",
    "\n",
    " \n",
    "\n",
    "Example 1:\n",
    "\n",
    "Input: nums = [4,5,6,7,0,1,2], target = 0\n",
    "\n",
    "Output: 4"
   ]
  },
  {
   "cell_type": "code",
   "execution_count": 1,
   "id": "71b6b0c5-714e-4082-afd3-84148a2219d4",
   "metadata": {},
   "outputs": [],
   "source": [
    "# time --> O(logn)\n",
    "# space --> O(1)\n",
    "def search(nums, target):\n",
    "    left = 0\n",
    "    right = len(nums) - 1\n",
    "\n",
    "    while left <= right:\n",
    "        mid = (left + right) // 2\n",
    "\n",
    "        if nums[mid] > nums[-1]:\n",
    "            left = mid + 1\n",
    "        else:\n",
    "            right = mid - 1\n",
    "\n",
    "    def binary_search(left, right, target):\n",
    "        while left <= right:\n",
    "            mid = (left + right) // 2\n",
    "            if nums[mid] == target:\n",
    "                return mid\n",
    "            elif nums[mid] > target:\n",
    "                right = mid - 1\n",
    "            else:\n",
    "                left = mid + 1\n",
    "        return -1\n",
    "\n",
    "    answer = binary_search(0, left - 1, target)\n",
    "    if answer != -1:\n",
    "        return answer\n",
    "\n",
    "    return binary_search(left, len(nums) - 1, target)"
   ]
  },
  {
   "cell_type": "code",
   "execution_count": 2,
   "id": "59cf9c45-ae5a-4b90-96e9-fe5c6a45dbba",
   "metadata": {},
   "outputs": [
    {
     "data": {
      "text/plain": [
       "4"
      ]
     },
     "execution_count": 2,
     "metadata": {},
     "output_type": "execute_result"
    }
   ],
   "source": [
    "nums = [4,5,6,7,0,1,2]\n",
    "target = 0\n",
    "search(nums, target)"
   ]
  },
  {
   "cell_type": "markdown",
   "id": "50731719-3ed2-4ea0-a2a5-71a4ba846501",
   "metadata": {},
   "source": [
    "## 98. Capacity to ship packages within D days\n",
    "\n",
    "A conveyor belt has packages that must be shipped from one port to another within days days.\n",
    "\n",
    "The ith package on the conveyor belt has a weight of weights[i]. Each day, we load the ship with packages on the conveyor belt (in the order given by weights). We may not load more weight than the maximum weight capacity of the ship.\n",
    "\n",
    "Return the least weight capacity of the ship that will result in all the packages on the conveyor belt being shipped within days days.\n",
    "\n",
    " \n",
    "\n",
    "Example 1:\n",
    "\n",
    "\n",
    "Input: weights = [1,2,3,4,5,6,7,8,9,10], days = 5\n",
    "\n",
    "Output: 15\n",
    "\n",
    "Explanation: A ship capacity of 15 is the minimum to ship all the packages in 5 days like this:\n",
    "\n",
    "* 1st day: 1, 2, 3, 4, 5\n",
    "* 2nd day: 6, 7\n",
    "* 3rd day: 8\n",
    "* 4th day: 9\n",
    "* 5th day: 10\n",
    "\n",
    "Note that the cargo must be shipped in the order given, so using a ship of capacity 14 and splitting the packages into parts like (2, 3, 4, 5), (1, 6, 7), (8), (9), (10) is not allowed."
   ]
  },
  {
   "cell_type": "code",
   "execution_count": 3,
   "id": "f88013af-8f8d-4bb4-bf1f-1d40d08c27fa",
   "metadata": {},
   "outputs": [],
   "source": [
    "# Time --> O(nlogn) (binary search + finding maxload and sum loads + finding if we can ship)\n",
    "# space --> O(1)\n",
    "def shipWithinDays(weights, days):\n",
    "    def can_ship(capacity):\n",
    "        current_load = 0\n",
    "        day_count = 1\n",
    "\n",
    "        for weight in weights:\n",
    "            if current_load + weight > capacity:\n",
    "                day_count += 1\n",
    "                current_load = 0\n",
    "            current_load += weight\n",
    "\n",
    "        return day_count <= days\n",
    "\n",
    "    left = max(weights)\n",
    "    right = sum(weights)\n",
    "\n",
    "    while left < right:\n",
    "        mid = (left + right) // 2\n",
    "\n",
    "        if can_ship(mid):\n",
    "            right = mid\n",
    "        else:\n",
    "            left = mid + 1\n",
    "    return left"
   ]
  },
  {
   "cell_type": "code",
   "execution_count": 4,
   "id": "54ce83ba-093b-44c3-ad1b-e594dfe43ca9",
   "metadata": {},
   "outputs": [
    {
     "data": {
      "text/plain": [
       "15"
      ]
     },
     "execution_count": 4,
     "metadata": {},
     "output_type": "execute_result"
    }
   ],
   "source": [
    "weights = [1,2,3,4,5,6,7,8,9,10]\n",
    "days = 5\n",
    "\n",
    "shipWithinDays(weights, days)"
   ]
  },
  {
   "cell_type": "markdown",
   "id": "57bfbcdf-8928-4a12-92ad-06699754c666",
   "metadata": {},
   "source": [
    "## 99. Rotate Image\n",
    "\n",
    "You are given an n x n 2D matrix representing an image, rotate the image by 90 degrees (clockwise).\n",
    "\n",
    "You have to rotate the image in-place, which means you have to modify the input 2D matrix directly. DO NOT allocate another 2D matrix and do the rotation.\n",
    "\n",
    " \n",
    "\n",
    "Example 1:\n",
    "\n",
    "\n",
    "Input: matrix = [[1,2,3],[4,5,6],[7,8,9]]\n",
    "\n",
    "Output: [[7,4,1],[8,5,2],[9,6,3]]\n"
   ]
  },
  {
   "cell_type": "code",
   "execution_count": 5,
   "id": "6656609f-bdea-4ea9-a464-0c43e13b03a1",
   "metadata": {},
   "outputs": [],
   "source": [
    "def rotate(matrix):\n",
    "    transpose(matrix)\n",
    "    reflect(matrix)\n",
    "\n",
    "def transpose(matrix):\n",
    "    for i in range(len(matrix)):\n",
    "        for j in range(i + 1, len(matrix)):\n",
    "            matrix[i][j], matrix[j][i] = matrix[j][i], matrix[i][j]\n",
    "\n",
    "def reflect(matrix):\n",
    "    for i in range(len(matrix)):\n",
    "        for j in range(len(matrix) // 2):\n",
    "            matrix[i][j], matrix[i][-j-1] = matrix[i][-j-1], matrix[i][j]"
   ]
  },
  {
   "cell_type": "code",
   "execution_count": 6,
   "id": "ab7aeea6-ac8a-4e4c-b161-61d77bbf9243",
   "metadata": {},
   "outputs": [
    {
     "name": "stdout",
     "output_type": "stream",
     "text": [
      "[[7, 4, 1], [8, 5, 2], [9, 6, 3]]\n"
     ]
    }
   ],
   "source": [
    "matrix = [[1,2,3],[4,5,6],[7,8,9]]\n",
    "rotate(matrix)\n",
    "print(matrix)"
   ]
  },
  {
   "cell_type": "markdown",
   "id": "eb45f261-b161-4b02-a7e4-d588b47fa3ee",
   "metadata": {},
   "source": [
    "## 100. Group Anagrams"
   ]
  },
  {
   "cell_type": "code",
   "execution_count": 9,
   "id": "1ea0b7a8-8c92-4925-bfff-f0e1ec784958",
   "metadata": {},
   "outputs": [
    {
     "data": {
      "text/plain": [
       "('ate', 'bat', 'eat', 'nat', 'tan', 'tea')"
      ]
     },
     "execution_count": 9,
     "metadata": {},
     "output_type": "execute_result"
    }
   ],
   "source": [
    "strs = [\"eat\",\"tea\",\"tan\",\"ate\",\"nat\",\"bat\"]\n",
    "\n",
    "tuple(sorted(strs))"
   ]
  },
  {
   "cell_type": "code",
   "execution_count": 10,
   "id": "c3bf9c0d-7bb7-4a1d-95da-93262c825389",
   "metadata": {},
   "outputs": [
    {
     "name": "stdout",
     "output_type": "stream",
     "text": [
      "defaultdict(<class 'list'>, {('a', 'e', 't'): ['eat', 'tea', 'ate'], ('a', 'n', 't'): ['tan', 'nat'], ('a', 'b', 't'): ['bat']})\n"
     ]
    }
   ],
   "source": [
    "from collections import defaultdict\n",
    "\n",
    "ans = defaultdict(list)\n",
    "\n",
    "for s in strs:\n",
    "    ans[tuple(sorted(s))].append(s)\n",
    "\n",
    "print(ans)"
   ]
  },
  {
   "cell_type": "code",
   "execution_count": 11,
   "id": "6b033703-0fee-46f9-8910-260d86387c02",
   "metadata": {},
   "outputs": [
    {
     "data": {
      "text/plain": [
       "[['eat', 'tea', 'ate'], ['tan', 'nat'], ['bat']]"
      ]
     },
     "execution_count": 11,
     "metadata": {},
     "output_type": "execute_result"
    }
   ],
   "source": [
    "list(ans.values())"
   ]
  },
  {
   "cell_type": "code",
   "execution_count": 12,
   "id": "e91883b2-cbd9-49c7-a40d-4c34c1016fe6",
   "metadata": {},
   "outputs": [],
   "source": [
    "# Two strings are anagrams if and only if their sorted strings are equal.\n",
    "\n",
    "# time --> O(nklogk) (n: len of strs and k is the max length of a string in strs)\n",
    "# space --> O(nk)\n",
    "def groupAnagrams(strs):\n",
    "    ans = defaultdict(list)\n",
    "\n",
    "    for s in strs:\n",
    "        ans[tuple(sorted(s))].append(s)\n",
    "\n",
    "    return ans.values()"
   ]
  },
  {
   "cell_type": "code",
   "execution_count": 13,
   "id": "82f1ae7a-31bb-4b08-9cf0-f68b84b9c772",
   "metadata": {},
   "outputs": [
    {
     "data": {
      "text/plain": [
       "dict_values([['eat', 'tea', 'ate'], ['tan', 'nat'], ['bat']])"
      ]
     },
     "execution_count": 13,
     "metadata": {},
     "output_type": "execute_result"
    }
   ],
   "source": [
    "strs = [\"eat\",\"tea\",\"tan\",\"ate\",\"nat\",\"bat\"]\n",
    "groupAnagrams(strs)"
   ]
  },
  {
   "cell_type": "code",
   "execution_count": 17,
   "id": "c9d05e27-59e3-47ba-b662-c62a5bf452f6",
   "metadata": {},
   "outputs": [],
   "source": [
    "# Two strings are anagrams if and only if their character counts (respective number of occurrences of each character) are the same.\n",
    "# time --> O(nk)\n",
    "# space --> O(nk))\n",
    "def groupAnagrams(strs):\n",
    "    ans = defaultdict(list)\n",
    "\n",
    "    for s in strs:\n",
    "        count = [0] * 26\n",
    "        for c in s:\n",
    "            count[ord(c) - ord('a')] += 1\n",
    "        ans[tuple(count)].append(s)\n",
    "    print(ans)\n",
    "    return list(ans.values())"
   ]
  },
  {
   "cell_type": "code",
   "execution_count": 18,
   "id": "1c9f5db4-49c0-40f7-867b-a05d43609a95",
   "metadata": {},
   "outputs": [
    {
     "name": "stdout",
     "output_type": "stream",
     "text": [
      "defaultdict(<class 'list'>, {(1, 0, 0, 0, 1, 0, 0, 0, 0, 0, 0, 0, 0, 0, 0, 0, 0, 0, 0, 1, 0, 0, 0, 0, 0, 0): ['eat', 'tea', 'ate'], (1, 0, 0, 0, 0, 0, 0, 0, 0, 0, 0, 0, 0, 1, 0, 0, 0, 0, 0, 1, 0, 0, 0, 0, 0, 0): ['tan', 'nat'], (1, 1, 0, 0, 0, 0, 0, 0, 0, 0, 0, 0, 0, 0, 0, 0, 0, 0, 0, 1, 0, 0, 0, 0, 0, 0): ['bat']})\n"
     ]
    },
    {
     "data": {
      "text/plain": [
       "[['eat', 'tea', 'ate'], ['tan', 'nat'], ['bat']]"
      ]
     },
     "execution_count": 18,
     "metadata": {},
     "output_type": "execute_result"
    }
   ],
   "source": [
    "strs = [\"eat\",\"tea\",\"tan\",\"ate\",\"nat\",\"bat\"]\n",
    "groupAnagrams(strs)"
   ]
  },
  {
   "cell_type": "markdown",
   "id": "ffffbbe5-2ec6-4232-a60c-131d807b939e",
   "metadata": {},
   "source": [
    "## 101. Longest Subarray of 1's after deleting one element\n",
    "\n",
    "Given a binary array nums, you should delete one element from it.\n",
    "\n",
    "Return the size of the longest non-empty subarray containing only 1's in the resulting array. Return 0 if there is no such subarray.\n",
    "\n",
    " \n",
    "\n",
    "Example 1:\n",
    "\n",
    "Input: nums = [1,1,0,1]\n",
    "\n",
    "Output: 3\n",
    "\n",
    "Explanation: After deleting the number in position 2, [1,1,1] contains 3 numbers with value of 1's."
   ]
  },
  {
   "cell_type": "code",
   "execution_count": 21,
   "id": "f4924abf-d46a-4e68-a74b-6a3d3cc5cefa",
   "metadata": {},
   "outputs": [],
   "source": [
    "# time --> O(n)\n",
    "# space --> O(1)\n",
    "def longestSubarray(nums):\n",
    "    left = 0\n",
    "    longest = 0\n",
    "    zero_count = 0\n",
    "\n",
    "    for right in range(len(nums)):\n",
    "        if nums[right] == 0:\n",
    "            zero_count += 1\n",
    "\n",
    "        while zero_count > 1:\n",
    "            if nums[left] == 0:\n",
    "                zero_count -= 1\n",
    "            left += 1\n",
    "        longest = max(longest, right - left)\n",
    "\n",
    "    return longest"
   ]
  },
  {
   "cell_type": "code",
   "execution_count": 22,
   "id": "cad9f7ba-1204-4fb9-9bf1-08208e855bf6",
   "metadata": {},
   "outputs": [
    {
     "data": {
      "text/plain": [
       "3"
      ]
     },
     "execution_count": 22,
     "metadata": {},
     "output_type": "execute_result"
    }
   ],
   "source": [
    "nums = [1,1,0,1]\n",
    "longestSubarray(nums)"
   ]
  },
  {
   "cell_type": "code",
   "execution_count": 23,
   "id": "2865a15a-0925-42ce-b351-7f09829e1633",
   "metadata": {},
   "outputs": [
    {
     "data": {
      "text/plain": [
       "5"
      ]
     },
     "execution_count": 23,
     "metadata": {},
     "output_type": "execute_result"
    }
   ],
   "source": [
    "nums = [0,1,1,1,0,1,1,0,1]\n",
    "longestSubarray(nums)"
   ]
  },
  {
   "cell_type": "markdown",
   "id": "8767307e-10f2-48a5-bb10-a3cfaf5bc3e7",
   "metadata": {},
   "source": [
    "## 102. Climbing Stairs"
   ]
  },
  {
   "cell_type": "code",
   "execution_count": 24,
   "id": "b737cf06-7398-498e-8fea-79475523d7f7",
   "metadata": {},
   "outputs": [],
   "source": [
    "# time --> O(n)\n",
    "# space --> O(n)\n",
    "def climbStairs(n: int) -> int:\n",
    "        memo = [0] * (n + 1)\n",
    "        return climb_Stairs(0, n, memo)\n",
    "\n",
    "def climb_Stairs(i: int, n: int, memo) -> int:\n",
    "    if i > n:\n",
    "        return 0\n",
    "    if i == n:\n",
    "        return 1\n",
    "    if memo[i] > 0:\n",
    "        return memo[i]\n",
    "    memo[i] = climb_Stairs(i + 1, n, memo) + climb_Stairs(\n",
    "        i + 2, n, memo\n",
    "    )\n",
    "    return memo[i]"
   ]
  },
  {
   "cell_type": "code",
   "execution_count": 25,
   "id": "edf16bf6-4a5d-43e1-b3c0-d5ae081afc71",
   "metadata": {},
   "outputs": [
    {
     "data": {
      "text/plain": [
       "2"
      ]
     },
     "execution_count": 25,
     "metadata": {},
     "output_type": "execute_result"
    }
   ],
   "source": [
    "climbStairs(2)"
   ]
  },
  {
   "cell_type": "markdown",
   "id": "e9689f72-ad9e-4b16-808f-22e3c258fd47",
   "metadata": {},
   "source": [
    "## 103. Best time to buy and sell stocks II \n",
    "\n",
    "**Note**: The diff between I and II is that in I, we made single purchase and one single sell. But in II, we can make multiple purchases and multiple sells"
   ]
  },
  {
   "cell_type": "code",
   "execution_count": 26,
   "id": "6556b338-71dc-4ec0-9fb6-25893ce9f930",
   "metadata": {},
   "outputs": [],
   "source": [
    "# time --> O(n)\n",
    "# space --> O(1)\n",
    "def maxProfit(prices):\n",
    "    max_profit = 0\n",
    "\n",
    "    for i in range(1, len(prices)):\n",
    "        if prices[i] > prices[i-1]:\n",
    "            max_profit += prices[i] - prices[i-1]\n",
    "\n",
    "    return max_profit"
   ]
  },
  {
   "cell_type": "code",
   "execution_count": 27,
   "id": "17093574-c208-4383-a9fe-b31880a3ba2e",
   "metadata": {},
   "outputs": [
    {
     "data": {
      "text/plain": [
       "7"
      ]
     },
     "execution_count": 27,
     "metadata": {},
     "output_type": "execute_result"
    }
   ],
   "source": [
    "prices = [7,1,5,3,6,4]\n",
    "maxProfit(prices)"
   ]
  },
  {
   "cell_type": "markdown",
   "id": "9b72a5c7-4e35-4533-9e9d-2742849131c4",
   "metadata": {},
   "source": [
    "## 104. Intersection of Two Linked Lists"
   ]
  },
  {
   "cell_type": "code",
   "execution_count": 29,
   "id": "368cf814-44fc-488b-b013-327b838452e4",
   "metadata": {},
   "outputs": [],
   "source": [
    "## Good solution\n",
    "# time --> O(N + M)\n",
    "# space --> O(M)\n",
    "def getIntersectionNode(headA, headB):\n",
    "    nodes_in_B = set()\n",
    "\n",
    "    while headB:\n",
    "        nodes_in_B.add(headB)\n",
    "        headB = headB.next\n",
    "\n",
    "    while headA:\n",
    "        if headA in nodes_in_B:\n",
    "            return headA\n",
    "        headA = headA.next\n",
    "\n",
    "    return None"
   ]
  },
  {
   "cell_type": "code",
   "execution_count": 30,
   "id": "213b7848-bddb-4027-aa83-f66480ea5504",
   "metadata": {},
   "outputs": [],
   "source": [
    "## Better solution: Two pointers\n",
    "# Observe that while list A and list B could be different lengths, that the shared \"tail\" following the intersection has to be the same \n",
    "\n",
    "# length.\n",
    "\n",
    "# Imagine that we have two linked lists, A and B, and we know that their lengths are N and M respectively \n",
    "\n",
    "# (these can be calculated with O(1) space and in time proportional to the length of the list). We'll imagine that N=5 and M=8.\n",
    "\n",
    "# Two linked lists with question marks on their nodes. The first is 5 nodes long, and the second is 8 nodes long.\n",
    "\n",
    "# Because the \"tails\" must be the same length, we can conclude that if there is an intersection, then the intersection node will \n",
    "\n",
    "# be one of these 5 possibilities.\n",
    "\n",
    "# The two linked lists from above with arrows showing how the last 5 nodes of each list could be a match.\n",
    "\n",
    "# So, to check for each of these pairs, we would start by setting a pointer at the start of the shorter list, \n",
    "\n",
    "# and a pointer at the first possible matching node of the longer list. \n",
    "\n",
    "#The position of this node is simply the difference between the two lengths, that is, ∣M−N∣.\n",
    "\n",
    "# time --> O(m + n)\n",
    "# space --> O(1)\n",
    "def getIntersectionNode(headA, headB):\n",
    "    lenA = 0\n",
    "    lenB = 0\n",
    "\n",
    "    dummyA = headA\n",
    "    dummyB = headB\n",
    "\n",
    "    while dummyA:\n",
    "        lenA += 1\n",
    "        dummyA = dummyA.next\n",
    "\n",
    "    while dummyB:\n",
    "        lenB += 1\n",
    "        dummyB = dummyB.next\n",
    "\n",
    "    len_diff = abs(lenA - lenB)\n",
    "\n",
    "    if lenA > lenB:\n",
    "        startA = headA\n",
    "        while len_diff != 0:\n",
    "            startA = startA.next\n",
    "            len_diff -= 1\n",
    "        startB = headB\n",
    "    else:\n",
    "        startB = headB\n",
    "        while len_diff != 0:\n",
    "            startB = startB.next\n",
    "            len_diff -= 1\n",
    "        startA = headA\n",
    "\n",
    "    while startA and startB:\n",
    "        if startA == startB:\n",
    "            return startA\n",
    "        startA = startA.next\n",
    "        startB = startB.next\n",
    "    return None"
   ]
  },
  {
   "cell_type": "code",
   "execution_count": 33,
   "id": "c0d491ee-dd59-474a-9be8-90abdd719fdf",
   "metadata": {},
   "outputs": [],
   "source": [
    "## Best\n",
    "\n",
    "# This is the above algorithm in disguise - one pointer is essentially measuring the length of the longer list, \n",
    "# and the other is measuring the length of the shorter list, and then placing the start pointer for the longer list. \n",
    "# Then both are stepping through the list together. By seeing the solution in this way though, we can now implement it as a single loop.\n",
    "# time --> O(m + n)\n",
    "# space --> O(1)\n",
    "\n",
    "def getIntersectionNode(headA, headB):\n",
    "    pA = headA\n",
    "    pB = headB\n",
    "\n",
    "    while pA != pB:\n",
    "        pA = headB if not pA else pA.next\n",
    "        pB = headA if not pB else pB.next\n",
    "\n",
    "    return pA\n",
    "\n",
    "# Note: In the case lists do not intersect, the pointers for A and B\n",
    "# will still line up in the 2nd iteration, just that here won't be\n",
    "# a common node down the list and both will reach their respective ends\n",
    "# at the same time. So pA will be NULL in that case."
   ]
  },
  {
   "cell_type": "markdown",
   "id": "6edac5e8-a414-4c19-ae61-93b34973f623",
   "metadata": {},
   "source": [
    "## 105. Missing Ranges"
   ]
  },
  {
   "cell_type": "code",
   "execution_count": 39,
   "id": "6be6a4d3-5afe-4d8d-9987-fd71a47467f5",
   "metadata": {},
   "outputs": [],
   "source": [
    "# time --> O(n)\n",
    "# space --> O(1)\n",
    "def findMissingRanges(nums, lower: int, upper: int):\n",
    "    prev = lower - 1\n",
    "    nums.append(upper + 1)\n",
    "\n",
    "    missing = []\n",
    "\n",
    "    for num in nums:\n",
    "        if num - prev > 1:\n",
    "            missing.append([prev + 1, num - 1])\n",
    "        prev = num\n",
    "    \n",
    "    return missing"
   ]
  },
  {
   "cell_type": "code",
   "execution_count": 40,
   "id": "02066083-8ab9-4704-9b83-7d483c4710fb",
   "metadata": {},
   "outputs": [
    {
     "data": {
      "text/plain": [
       "[[2, 2], [4, 49], [51, 74], [76, 99]]"
      ]
     },
     "execution_count": 40,
     "metadata": {},
     "output_type": "execute_result"
    }
   ],
   "source": [
    "nums = [0,1,3,50,75]\n",
    "lower = 0\n",
    "upper = 99\n",
    "findMissingRanges(nums, lower, upper)"
   ]
  },
  {
   "cell_type": "markdown",
   "id": "a0a582cc-ddde-473c-8830-d1847e9c769c",
   "metadata": {},
   "source": [
    "## 106. Number of islands"
   ]
  },
  {
   "cell_type": "code",
   "execution_count": 64,
   "id": "19de337d-48c6-4906-858f-6f141f9011a8",
   "metadata": {},
   "outputs": [],
   "source": [
    "# T --> O(MxN) --> M and N are no of rows and cols\n",
    "# S --> O(min(M, N)) --> because in worst case where the grid is filled with lands, \n",
    "# the size of queue can grow up to min(M,N).\n",
    "\n",
    "def numIslands(grid):\n",
    "    if len(grid) == 0:\n",
    "        return 0\n",
    "\n",
    "    num_islands = 0\n",
    "    directions = [[-1, 0], [0, 1], [1, 0], [0, -1]]\n",
    "\n",
    "    for row in range(len(grid)):\n",
    "        for col in range(len(grid[0])):\n",
    "            if grid[row][col] == '1':\n",
    "                num_islands += 1\n",
    "                grid[row][col] = '0'\n",
    "\n",
    "                queue = [[row, col]]\n",
    "\n",
    "                while len(queue) > 0:\n",
    "                    currRow, currCol = queue.pop(0)\n",
    "                    for i in range(len(directions)):\n",
    "                        direction = directions[i]\n",
    "                        nextRow = currRow + direction[0]\n",
    "                        nextCol = currCol + direction[1]\n",
    "\n",
    "                        if nextRow < 0 or nextCol < 0 or nextRow >= len(grid) or nextCol >= len(grid[0]):\n",
    "                            continue\n",
    "\n",
    "                        if grid[nextRow][nextCol] == '1':\n",
    "                            queue.append([nextRow, nextCol])\n",
    "                            grid[nextRow][nextCol] = '0'\n",
    "    return num_islands"
   ]
  },
  {
   "cell_type": "code",
   "execution_count": 65,
   "id": "0048962a-4ba6-4fc5-961f-a67760dbedf1",
   "metadata": {},
   "outputs": [
    {
     "data": {
      "text/plain": [
       "3"
      ]
     },
     "execution_count": 65,
     "metadata": {},
     "output_type": "execute_result"
    }
   ],
   "source": [
    "grid = [\n",
    "    [\"1\",\"1\",\"0\",\"0\",\"0\"],\n",
    "    [\"1\",\"1\",\"0\",\"0\",\"0\"],\n",
    "    [\"0\",\"0\",\"1\",\"0\",\"0\"],\n",
    "    [\"0\",\"0\",\"0\",\"1\",\"1\"]]\n",
    "\n",
    "numIslands(grid)"
   ]
  },
  {
   "cell_type": "markdown",
   "id": "60497123-e5e9-4149-b4ec-e3790028253c",
   "metadata": {},
   "source": [
    "## 107. Contains duplicates"
   ]
  },
  {
   "cell_type": "code",
   "execution_count": 67,
   "id": "9ab8e19b-88d5-450d-82c2-fa0fa7b7964e",
   "metadata": {},
   "outputs": [],
   "source": [
    "# time --> O(n)\n",
    "# space --> O(n)\n",
    "def containsDuplicate(nums):\n",
    "    return len(set(nums)) < len(nums) "
   ]
  },
  {
   "cell_type": "code",
   "execution_count": 70,
   "id": "804bb9a4-f7cf-46a1-ac83-3f81243eea90",
   "metadata": {},
   "outputs": [
    {
     "data": {
      "text/plain": [
       "True"
      ]
     },
     "execution_count": 70,
     "metadata": {},
     "output_type": "execute_result"
    }
   ],
   "source": [
    "nums = [1,2,3,1]\n",
    "containsDuplicate(nums)"
   ]
  },
  {
   "attachments": {
    "61e2d917-cbea-45ac-a45f-b365dc3c405f.png": {
     "image/png": "[encoded data removed]"
    }
   },
   "cell_type": "markdown",
   "id": "61f6a861-022e-4eca-8556-be7aac0c97f2",
   "metadata": {},
   "source": [
    "## 108. Lowest Common Ancestor of a binary search Tree\n",
    "\n",
    "**Note**: Previously, we did Binary Tree, not BST\n",
    "\n",
    "![image.png](attachment:61e2d917-cbea-45ac-a45f-b365dc3c405f.png)"
   ]
  },
  {
   "cell_type": "code",
   "execution_count": 71,
   "id": "467e79d0-319c-47e2-8bbc-cadab529d6a4",
   "metadata": {},
   "outputs": [],
   "source": [
    "# time --> O(h)\n",
    "# space --> O(1)\n",
    "def lowestCommonAncestor(root, p, q):\n",
    "    small = min(p.val, q.val)\n",
    "    large = max(p.val, q.val)\n",
    "\n",
    "    while root:\n",
    "        if root.val > large:\n",
    "            root = root.left\n",
    "        elif root.val < small:\n",
    "            root = root.right\n",
    "        else:\n",
    "            return root\n",
    "    return None"
   ]
  },
  {
   "cell_type": "markdown",
   "id": "0e059866-fede-4fe3-a35b-1919e2443cf9",
   "metadata": {},
   "source": [
    "## 109. Product of array except self"
   ]
  },
  {
   "cell_type": "code",
   "execution_count": 72,
   "id": "bb17d454-e6f1-4795-b4fc-2fc0b6c46831",
   "metadata": {},
   "outputs": [],
   "source": [
    "# time --> O(n)\n",
    "# space --> O(n)\n",
    "\n",
    "def productExceptSelf(nums):\n",
    "    \n",
    "    \n",
    "    n = len(nums)\n",
    "    L, R, ans = [0] * n, [0] * n, [0] * n\n",
    "    \n",
    "    L[0] = 1\n",
    "    \n",
    "    for i in range(1, n):\n",
    "        L[i] = L[i-1] * nums[i-1]\n",
    "    \n",
    "    R[n-1] = 1\n",
    "    \n",
    "    for i in reversed(range(n-1)):\n",
    "        R[i] = R[i+1] * nums[i+1]\n",
    "    \n",
    "    for i in range(len(nums)):\n",
    "        ans[i] = L[i] * R[i]\n",
    "    \n",
    "    return ans"
   ]
  },
  {
   "cell_type": "code",
   "execution_count": 73,
   "id": "25f2a327-0e8e-417b-8b11-705d536aae00",
   "metadata": {},
   "outputs": [],
   "source": [
    "# time --> O(n)\n",
    "# space --> O(1)\n",
    "\n",
    "def productExceptSelf(nums):\n",
    "\n",
    "    # The length of the input array\n",
    "    length = len(nums)\n",
    "\n",
    "    # The answer array to be returned\n",
    "    answer = [0] * length\n",
    "\n",
    "    # answer[i] contains the product of all the elements to the left\n",
    "    # Note: for the element at index '0', there are no elements to the left,\n",
    "    # so the answer[0] would be 1\n",
    "    answer[0] = 1\n",
    "    for i in range(1, length):\n",
    "\n",
    "        # answer[i - 1] already contains the product of elements to the left of 'i - 1'\n",
    "        # Simply multiplying it with nums[i - 1] would give the product of all\n",
    "        # elements to the left of index 'i'\n",
    "        answer[i] = nums[i - 1] * answer[i - 1]\n",
    "\n",
    "    # R contains the product of all the elements to the right\n",
    "    # Note: for the element at index 'length - 1', there are no elements to the right,\n",
    "    # so the R would be 1\n",
    "    R = 1\n",
    "    for i in reversed(range(length)):\n",
    "\n",
    "        # For the index 'i', R would contain the\n",
    "        # product of all elements to the right. We update R accordingly\n",
    "        answer[i] = answer[i] * R\n",
    "        R *= nums[i]\n",
    "\n",
    "    return answer"
   ]
  },
  {
   "cell_type": "code",
   "execution_count": 74,
   "id": "7250d3c8-f0a7-4d77-8577-164b468c7d08",
   "metadata": {},
   "outputs": [
    {
     "data": {
      "text/plain": [
       "[24, 12, 8, 6]"
      ]
     },
     "execution_count": 74,
     "metadata": {},
     "output_type": "execute_result"
    }
   ],
   "source": [
    "nums = [1, 2, 3, 4]\n",
    "productExceptSelf(nums)"
   ]
  },
  {
   "cell_type": "markdown",
   "id": "25e3b716-afd2-4c1c-95a3-07b272108ab0",
   "metadata": {},
   "source": [
    "## 110. Valid Anagram"
   ]
  },
  {
   "cell_type": "code",
   "execution_count": 75,
   "id": "b5c30f3b-06a2-4526-a5a0-c7f1b6a035d0",
   "metadata": {},
   "outputs": [],
   "source": [
    "from collections import Counter\n",
    "\n",
    "# time --> O(n)\n",
    "# space --> O(1) (as english alphabets are constant)\n",
    "def isAnagram(s, t):\n",
    "    return len(s) == len(t) and Counter(s) == Counter(t)"
   ]
  },
  {
   "cell_type": "markdown",
   "id": "8424b39d-1f40-4d74-87d5-171f69049974",
   "metadata": {},
   "source": [
    "## 111. Meeting Rooms II\n",
    "\n",
    "Given an array of meeting time intervals intervals where intervals[i] = [starti, endi], return the minimum number of conference rooms required.\n",
    "\n",
    " \n",
    "\n",
    "Example 1:\n",
    "\n",
    "Input: intervals = [[0,30],[5,10],[15,20]]\n",
    "\n",
    "Output: 2\n",
    "\n",
    "Example 2:\n",
    "\n",
    "Input: intervals = [[7,10],[2,4]]\n",
    "\n",
    "Output: 1\n"
   ]
  },
  {
   "cell_type": "code",
   "execution_count": 80,
   "id": "9b3fe38b-2234-426b-be8b-5fa015d01dfb",
   "metadata": {},
   "outputs": [],
   "source": [
    "intervals = [[0,30],[5,10],[15,20]]\n",
    "\n",
    "import heapq\n",
    "\n",
    "# min heap\n",
    "# time --> O(nlogn)\n",
    "# space --> O(n)\n",
    "\n",
    "def minMeetingRooms(intervals):\n",
    "    # If there is no meeting to schedule then no room needs to be allocated.\n",
    "    if not intervals:\n",
    "        return 0\n",
    "\n",
    "    # The heap initialization\n",
    "    free_rooms = []\n",
    "\n",
    "    # Sort the meetings in increasing order of their start time.\n",
    "    intervals.sort(key= lambda x: x[0])\n",
    "\n",
    "    # Add the first meeting. We have to give a new room to the first meeting.\n",
    "    heapq.heappush(free_rooms, intervals[0][1])\n",
    "\n",
    "    # For all the remaining meeting rooms\n",
    "    for i in intervals[1:]:\n",
    "\n",
    "        # If the room due to free up the earliest is free, assign that room to this meeting.\n",
    "        if free_rooms[0] <= i[0]:\n",
    "            heapq.heappop(free_rooms)\n",
    "\n",
    "        # If a new room is to be assigned, then also we add to the heap,\n",
    "        # If an old room is allocated, then also we have to add to the heap with updated end time.\n",
    "        heapq.heappush(free_rooms, i[1])\n",
    "\n",
    "    # The size of the heap tells us the minimum rooms required for all the meetings.\n",
    "    return len(free_rooms)"
   ]
  },
  {
   "cell_type": "code",
   "execution_count": 81,
   "id": "04823349-967f-416a-85ec-38ceb89d30e1",
   "metadata": {},
   "outputs": [
    {
     "data": {
      "text/plain": [
       "2"
      ]
     },
     "execution_count": 81,
     "metadata": {},
     "output_type": "execute_result"
    }
   ],
   "source": [
    "minMeetingRooms(intervals)"
   ]
  },
  {
   "cell_type": "markdown",
   "id": "e451bbfc-e595-4a76-b8f6-88f924388746",
   "metadata": {},
   "source": [
    "## 112. Toeplitz Matrix\n",
    "\n",
    "Given an m x n matrix, return true if the matrix is Toeplitz. Otherwise, return false.\n",
    "\n",
    "A matrix is Toeplitz if every diagonal from top-left to bottom-right has the same elements.\n",
    "\n",
    "Input: matrix = [[1,2,3,4],[5,1,2,3],[9,5,1,2]]\n",
    "\n",
    "Output: true\n",
    "\n",
    "Explanation:\n",
    "\n",
    "In the above grid, the diagonals are: \"[9]\", \"[5, 5]\", \"[1, 1, 1]\", \"[2, 2, 2]\", \"[3, 3]\", \"[4]\".\n",
    "\n",
    "In each diagonal all elements are the same, so the answer is True."
   ]
  },
  {
   "cell_type": "code",
   "execution_count": 83,
   "id": "fcd51358-8f80-43ea-a0a4-153160838894",
   "metadata": {},
   "outputs": [],
   "source": [
    "# time --> O(M x N)\n",
    "# space --> O(1)\n",
    "def isToeplitzMatrix(self, matrix):\n",
    "    return all(r == 0 or c == 0 or matrix[r-1][c-1] == val\n",
    "               for r, row in enumerate(matrix)\n",
    "               for c, val in enumerate(row))"
   ]
  },
  {
   "cell_type": "code",
   "execution_count": 5,
   "id": "f1da1210-9170-4d8b-9538-86ea4a792fb3",
   "metadata": {},
   "outputs": [],
   "source": [
    "# time --> O(M x N)\n",
    "# space --> O(M + N)\n",
    "from collections import defaultdict\n",
    "def isToeplitzMatrix(matrix) -> bool:\n",
    "        \n",
    "    hash_map = defaultdict(set)\n",
    "    \n",
    "    rows, cols = len(matrix), len(matrix[0])\n",
    "    \n",
    "    for row in range(rows):\n",
    "        for col in range(cols):\n",
    "            hash_map[row - col].add(matrix[row][col])\n",
    "    \n",
    "    \n",
    "    for key in hash_map.keys():\n",
    "        if len(hash_map[key]) > 1:\n",
    "            return False\n",
    "    \n",
    "    return True\n"
   ]
  },
  {
   "cell_type": "code",
   "execution_count": 6,
   "id": "2d9d7d33-69d3-4e47-85bd-0da5f8dffc12",
   "metadata": {},
   "outputs": [
    {
     "data": {
      "text/plain": [
       "True"
      ]
     },
     "execution_count": 6,
     "metadata": {},
     "output_type": "execute_result"
    }
   ],
   "source": [
    "matrix = [[1,2,3,4],[5,1,2,3],[9,5,1,2]]\n",
    "isToeplitzMatrix(matrix)"
   ]
  },
  {
   "cell_type": "markdown",
   "id": "f45eb451",
   "metadata": {},
   "source": [
    "## 114. Jewels and Stones\n",
    "\n",
    "You're given strings jewels representing the types of stones that are jewels, and stones representing the stones you have. Each character in stones is a type of stone you have. You want to know how many of the stones you have are also jewels.\n",
    "\n",
    "Letters are case sensitive, so \"a\" is considered a different type of stone from \"A\".\n",
    "\n",
    " \n",
    "\n",
    "Example 1:\n",
    "\n",
    "Input: jewels = \"aA\", stones = \"aAAbbbb\"\n",
    "\n",
    "Output: 3"
   ]
  },
  {
   "cell_type": "code",
   "execution_count": 1,
   "id": "0b236240",
   "metadata": {},
   "outputs": [],
   "source": [
    "# time --> O(J + S)\n",
    "# space --> O(J)\n",
    "def numJewelsInStones(jewels, stones):\n",
    "    jewel_set = set(jewels)\n",
    "    \n",
    "    total = 0\n",
    "    \n",
    "    for s in stones:\n",
    "        if s in jewel_set:\n",
    "            total+= 1\n",
    "    \n",
    "    return total"
   ]
  },
  {
   "cell_type": "code",
   "execution_count": 2,
   "id": "e015a1ee",
   "metadata": {},
   "outputs": [
    {
     "data": {
      "text/plain": [
       "3"
      ]
     },
     "execution_count": 2,
     "metadata": {},
     "output_type": "execute_result"
    }
   ],
   "source": [
    "jewels = \"aA\"\n",
    "stones = \"aAAbbbb\"\n",
    "\n",
    "numJewelsInStones(jewels, stones)"
   ]
  },
  {
   "cell_type": "markdown",
   "id": "fa5ad20d",
   "metadata": {},
   "source": [
    "## 115. Find Duplicate\n",
    "\n",
    "Given an array of integers nums containing n + 1 integers where each integer is in the range [1, n] inclusive.\n",
    "\n",
    "There is only one repeated number in nums, return this repeated number.\n",
    "\n",
    "You must solve the problem without modifying the array nums and using only constant extra space."
   ]
  },
  {
   "cell_type": "code",
   "execution_count": 3,
   "id": "22dda5b2",
   "metadata": {},
   "outputs": [],
   "source": [
    "# time --> O(n)\n",
    "# space --> O(n)\n",
    "def findDuplicate(nums) -> int:\n",
    "    seen = set()\n",
    "\n",
    "    for num in nums:\n",
    "        if num in seen:\n",
    "            return num\n",
    "        seen.add(num)\n"
   ]
  },
  {
   "cell_type": "code",
   "execution_count": 4,
   "id": "f0d48652",
   "metadata": {},
   "outputs": [
    {
     "data": {
      "text/plain": [
       "2"
      ]
     },
     "execution_count": 4,
     "metadata": {},
     "output_type": "execute_result"
    }
   ],
   "source": [
    "nums = [1,3,4,2,2]\n",
    "findDuplicate(nums)"
   ]
  },
  {
   "cell_type": "code",
   "execution_count": 8,
   "id": "67c4c7fd",
   "metadata": {},
   "outputs": [],
   "source": [
    "# time --> O(n)\n",
    "# space --> O(1)\n",
    "\n",
    "# For example, if the input array is [1,3,3,2], then for 1, flip the number at index 1, \n",
    "# making the array [1,−3,3,2]. Next, for −3 flip the number at index 3, making the array [1,−3,3,−2]. \n",
    "# Finally, when we reach the second 3, we'll notice that nums[3] is already negative,\n",
    "# indicating that 3 has been seen before and hence is the duplicate number.\n",
    "\n",
    "\n",
    "\n",
    "def findDuplicate(nums):\n",
    "    for num in nums:\n",
    "        curr = abs(num)\n",
    "        if nums[curr] < 0:\n",
    "            duplicate = curr\n",
    "            break\n",
    "        nums[curr] = -nums[curr]\n",
    "        \n",
    "    for i in range(len(nums)):\n",
    "        nums[i] = -nums[i]\n",
    "    \n",
    "    return duplicate"
   ]
  },
  {
   "cell_type": "code",
   "execution_count": 10,
   "id": "31795f4e",
   "metadata": {},
   "outputs": [
    {
     "data": {
      "text/plain": [
       "2"
      ]
     },
     "execution_count": 10,
     "metadata": {},
     "output_type": "execute_result"
    }
   ],
   "source": [
    "nums = [1,3,4,2,2]\n",
    "findDuplicate(nums)"
   ]
  },
  {
   "cell_type": "markdown",
   "id": "60e4e765",
   "metadata": {},
   "source": [
    "## 116. Sum of unique elements"
   ]
  },
  {
   "cell_type": "code",
   "execution_count": 14,
   "id": "64e775cb",
   "metadata": {},
   "outputs": [],
   "source": [
    "from collections import Counter\n",
    "def sumOfUnique(nums):\n",
    "    hashMap = Counter(nums)\n",
    "    result = 0\n",
    "    for num in nums:\n",
    "        if hashMap[num] == 1:\n",
    "            result += num\n",
    "    return result"
   ]
  },
  {
   "cell_type": "code",
   "execution_count": 15,
   "id": "821584fc",
   "metadata": {},
   "outputs": [
    {
     "data": {
      "text/plain": [
       "4"
      ]
     },
     "execution_count": 15,
     "metadata": {},
     "output_type": "execute_result"
    }
   ],
   "source": [
    "nums = [1,2,3,2]\n",
    "sumOfUnique(nums)"
   ]
  },
  {
   "cell_type": "markdown",
   "id": "0d2753cd",
   "metadata": {},
   "source": [
    "## 117. Koko eating bananas\n",
    "\n",
    "Koko loves to eat bananas. There are n piles of bananas, the ith pile has piles[i] bananas. The guards have gone and will come back in h hours.\n",
    "\n",
    "Koko can decide her bananas-per-hour eating speed of k. Each hour, she chooses some pile of bananas and eats k bananas from that pile. If the pile has less than k bananas, she eats all of them instead and will not eat any more bananas during this hour.\n",
    "\n",
    "Koko likes to eat slowly but still wants to finish eating all the bananas before the guards return.\n",
    "\n",
    "Return the minimum integer k such that she can eat all the bananas within h hours.\n",
    "\n",
    " \n",
    "\n",
    "Example 1:\n",
    "\n",
    "Input: piles = [3,6,7,11], h = 8\n",
    "\n",
    "Output: 4"
   ]
  },
  {
   "cell_type": "code",
   "execution_count": 18,
   "id": "3884c311",
   "metadata": {},
   "outputs": [],
   "source": [
    "# time --> O(nlogm) (n be the length of the input array piles and \n",
    "# m be the maximum number of bananas in a single pile from piles.)\n",
    "\n",
    "# space --> O(1)\n",
    "\n",
    "import math\n",
    "def minEatingSpeed(piles, h):\n",
    "    left = 1\n",
    "    right = max(piles)\n",
    "    \n",
    "    while left < right:\n",
    "        mid = (left + right) // 2\n",
    "        \n",
    "        hour_spent = 0\n",
    "        \n",
    "        for pile in piles:\n",
    "            hour_spent += math.ceil(pile / mid)\n",
    "            \n",
    "            if hour_spent <= h:\n",
    "                right = mid\n",
    "            else:\n",
    "                left = mid + 1\n",
    "    return left"
   ]
  },
  {
   "cell_type": "code",
   "execution_count": 19,
   "id": "81ea6d1b",
   "metadata": {},
   "outputs": [
    {
     "data": {
      "text/plain": [
       "4"
      ]
     },
     "execution_count": 19,
     "metadata": {},
     "output_type": "execute_result"
    }
   ],
   "source": [
    "piles = [3,6,7,11]\n",
    "h = 8\n",
    "minEatingSpeed(piles, h)"
   ]
  },
  {
   "cell_type": "markdown",
   "id": "39959ec7",
   "metadata": {},
   "source": [
    "## 118. Walls and Gates"
   ]
  },
  {
   "cell_type": "code",
   "execution_count": 20,
   "id": "36fc2558",
   "metadata": {},
   "outputs": [],
   "source": [
    "directions = [[-1, 0], [0, 1], [1, 0], [0, -1]]\n",
    "# time --> O(m x n)\n",
    "# space --> O(m x n)\n",
    "\n",
    "def wallsAndGates(rooms):\n",
    "   \n",
    "    WALL=-1\n",
    "    GATE=0\n",
    "    EMPTY=2147483647\n",
    "    \n",
    "    for row in range(len(rooms)):\n",
    "        for col in range(len(rooms[0])):\n",
    "            if rooms[row][col] == 0:\n",
    "                dfs(rooms, row, col, 0)\n",
    "\n",
    "\n",
    "def dfs(rooms, row, col, current_step):\n",
    "    if row < 0 or row >= len(rooms) or col < 0 or col >= len(rooms[0]) or current_step > rooms[row][col]:\n",
    "        return\n",
    "    \n",
    "    if rooms[row][col] == -1:\n",
    "        return\n",
    "    \n",
    "    rooms[row][col] = current_step\n",
    "    \n",
    "    for i in range(len(directions)):\n",
    "        direction = directions[i]\n",
    "        \n",
    "        dfs(rooms, row + direction[0], col + direction[1], current_step + 1)"
   ]
  },
  {
   "cell_type": "code",
   "execution_count": 22,
   "id": "36960771",
   "metadata": {},
   "outputs": [
    {
     "name": "stdout",
     "output_type": "stream",
     "text": [
      "[[3, -1, 0, 1], [2, 2, 1, -1], [1, -1, 2, -1], [0, -1, 3, 4]]\n"
     ]
    }
   ],
   "source": [
    "rooms = [[2147483647,-1,0,2147483647],[2147483647,2147483647,2147483647,-1],[2147483647,-1,2147483647,-1],[0,-1,2147483647,2147483647]]\n",
    "\n",
    "wallsAndGates(rooms)\n",
    "print(rooms)"
   ]
  },
  {
   "cell_type": "markdown",
   "id": "b5d279c7",
   "metadata": {},
   "source": [
    "## 119. Number of ways to split array\n",
    "\n",
    "You are given a 0-indexed integer array nums of length n.\n",
    "\n",
    "nums contains a valid split at index i if the following are true:\n",
    "\n",
    "The sum of the first i + 1 elements is greater than or equal to the sum of the last n - i - 1 elements.\n",
    "There is at least one element to the right of i. That is, 0 <= i < n - 1.\n",
    "Return the number of valid splits in nums.\n",
    "\n",
    " \n",
    "\n",
    "Example 1:\n",
    "\n",
    "Input: nums = [10,4,-8,7]\n",
    "\n",
    "Output: 2\n",
    "\n",
    "Explanation: \n",
    "\n",
    "There are three ways of splitting nums into two non-empty parts:\n",
    "\n",
    "- Split nums at index 0. Then, the first part is [10], and its sum is 10. The second part is [4,-8,7], and its sum is 3. Since 10 >= 3, i = 0 is a valid split.\n",
    "- Split nums at index 1. Then, the first part is [10,4], and its sum is 14. The second part is [-8,7], and its sum is -1. Since 14 >= -1, i = 1 is a valid split.\n",
    "- Split nums at index 2. Then, the first part is [10,4,-8], and its sum is 6. The second part is [7], and its sum is 7. Since 6 < 7, i = 2 is not a valid split.\n",
    "\n",
    "Thus, the number of valid splits in nums is 2.\n"
   ]
  },
  {
   "cell_type": "code",
   "execution_count": 23,
   "id": "56ca63bf",
   "metadata": {},
   "outputs": [],
   "source": [
    "# time --> O(n)\n",
    "# space --> O(1)\n",
    "def waysToSplitArray(nums):\n",
    "    left_sum = 0\n",
    "    right_sum = sum(nums)\n",
    "    \n",
    "    count = 0\n",
    "    \n",
    "    for i in range(len(nums) - 1):\n",
    "        left_sum += nums[i]\n",
    "        right_sum -= nums[i]\n",
    "        \n",
    "        if left_sum >= right_sum:\n",
    "            count += 1\n",
    "    return count"
   ]
  },
  {
   "cell_type": "markdown",
   "id": "7e372c7d",
   "metadata": {},
   "source": [
    "## 120. Longest Substring without repeating characters"
   ]
  },
  {
   "cell_type": "code",
   "execution_count": 24,
   "id": "91be87ed",
   "metadata": {},
   "outputs": [],
   "source": [
    "def lengthOfLongestSubstring(s):\n",
    "    if len(s) <= 1:\n",
    "        return len(s)\n",
    "    \n",
    "    seen_chars = {}\n",
    "    longest = 0\n",
    "    left = 0\n",
    "    \n",
    "    for right in range(len(s)):\n",
    "        current_char = s[right]\n",
    "        prev_seen_char = -1\n",
    "        \n",
    "        if current_char in seen_chars:\n",
    "            prev_seen_char = seen_chars[current_char]\n",
    "        \n",
    "        if prev_seen_char >= left:\n",
    "            left = prev_seen_char + 1\n",
    "            \n",
    "        seen_chars[current_char] = right\n",
    "        longest = max(longest, right - left + 1)\n",
    "        \n",
    "    return longest"
   ]
  },
  {
   "cell_type": "code",
   "execution_count": 25,
   "id": "9f4191bb",
   "metadata": {},
   "outputs": [
    {
     "data": {
      "text/plain": [
       "3"
      ]
     },
     "execution_count": 25,
     "metadata": {},
     "output_type": "execute_result"
    }
   ],
   "source": [
    "s = \"abcabcbb\"\n",
    "lengthOfLongestSubstring(s)"
   ]
  },
  {
   "cell_type": "code",
   "execution_count": null,
   "id": "19e6f979",
   "metadata": {},
   "outputs": [],
   "source": []
  }
 ],
 "metadata": {
  "kernelspec": {
   "display_name": "Python 3 (ipykernel)",
   "language": "python",
   "name": "python3"
  },
  "language_info": {
   "codemirror_mode": {
    "name": "ipython",
    "version": 3
   },
   "file_extension": ".py",
   "mimetype": "text/x-python",
   "name": "python",
   "nbconvert_exporter": "python",
   "pygments_lexer": "ipython3",
   "version": "3.11.4"
  }
 },
 "nbformat": 4,
 "nbformat_minor": 5
}
