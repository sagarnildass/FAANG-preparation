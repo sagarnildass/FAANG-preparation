{
 "cells": [
  {
   "cell_type": "markdown",
   "id": "8e14744a",
   "metadata": {},
   "source": [
    "## 1. Two Sum"
   ]
  },
  {
   "cell_type": "code",
   "execution_count": 17,
   "id": "10470cc8",
   "metadata": {},
   "outputs": [],
   "source": [
    "# Time --> O(n)\n",
    "# Space --> O(n)\n",
    "\n",
    "def twoSum(nums, target):\n",
    "    hashMap = {}\n",
    "    \n",
    "    for i in range(len(nums)):\n",
    "        ntf = target - nums[i]\n",
    "        if nums[i] not in hashMap.keys():\n",
    "            hashMap[ntf] = i\n",
    "        else:\n",
    "            return [hashMap[nums[i]], i]\n",
    "            "
   ]
  },
  {
   "cell_type": "code",
   "execution_count": 18,
   "id": "1c4a79a8",
   "metadata": {},
   "outputs": [
    {
     "data": {
      "text/plain": [
       "[1, 4]"
      ]
     },
     "execution_count": 18,
     "metadata": {},
     "output_type": "execute_result"
    }
   ],
   "source": [
    "arr = [1,9,3,7,2]\n",
    "\n",
    "twoSum(arr, 11)"
   ]
  },
  {
   "cell_type": "markdown",
   "id": "26e4c27d",
   "metadata": {},
   "source": [
    "## 2. Two sum actual numbers"
   ]
  },
  {
   "cell_type": "code",
   "execution_count": 15,
   "id": "b67f5a43",
   "metadata": {},
   "outputs": [],
   "source": [
    "# Time --> O(n)\n",
    "# Space --> O(n)\n",
    "\n",
    "def twoSumNumbers(nums, target):\n",
    "    if len(nums) <= 1:\n",
    "        return []\n",
    "    \n",
    "    hashMap = {}\n",
    "    \n",
    "    for num in nums:\n",
    "        ntf = target - num\n",
    "        if ntf in hashMap:\n",
    "            return [ntf, num]\n",
    "        else:\n",
    "            hashMap[num] = True\n",
    "    return []"
   ]
  },
  {
   "cell_type": "code",
   "execution_count": 16,
   "id": "78364670",
   "metadata": {},
   "outputs": [
    {
     "data": {
      "text/plain": [
       "[9, 2]"
      ]
     },
     "execution_count": 16,
     "metadata": {},
     "output_type": "execute_result"
    }
   ],
   "source": [
    "arr = [1,9,3,7,2]\n",
    "\n",
    "twoSumNumbers(arr, 11)"
   ]
  },
  {
   "cell_type": "markdown",
   "id": "2c8be0e1",
   "metadata": {},
   "source": [
    "## 2. Container with most water"
   ]
  },
  {
   "cell_type": "code",
   "execution_count": 19,
   "id": "bd45df67",
   "metadata": {},
   "outputs": [],
   "source": [
    "# Time --> O(n)\n",
    "# Space --> O(1)\n",
    "\n",
    "def maxArea(nums):\n",
    "    if len(nums) <= 1:\n",
    "        return 0\n",
    "    \n",
    "    maxArea = 0\n",
    "    left = 0\n",
    "    right = len(nums) - 1\n",
    "    \n",
    "    while left < right:\n",
    "        height = min(nums[left], nums[right])\n",
    "        width = right - left\n",
    "        area = height * width\n",
    "        maxArea = max(area, maxArea)\n",
    "        \n",
    "        if nums[left] <= nums[right]:\n",
    "            left += 1\n",
    "        else:\n",
    "            right -= 1\n",
    "    return maxArea"
   ]
  },
  {
   "cell_type": "code",
   "execution_count": 20,
   "id": "832547d9",
   "metadata": {},
   "outputs": [
    {
     "data": {
      "text/plain": [
       "28"
      ]
     },
     "execution_count": 20,
     "metadata": {},
     "output_type": "execute_result"
    }
   ],
   "source": [
    "maxArea([7,1,2,3,9])"
   ]
  },
  {
   "cell_type": "code",
   "execution_count": 21,
   "id": "29659124",
   "metadata": {},
   "outputs": [
    {
     "data": {
      "text/plain": [
       "4"
      ]
     },
     "execution_count": 21,
     "metadata": {},
     "output_type": "execute_result"
    }
   ],
   "source": [
    "maxArea([7, 4])"
   ]
  },
  {
   "cell_type": "markdown",
   "id": "7df41489",
   "metadata": {},
   "source": [
    "## 3. Trapping rain water"
   ]
  },
  {
   "cell_type": "code",
   "execution_count": 24,
   "id": "b6108d1e",
   "metadata": {},
   "outputs": [],
   "source": [
    "# Time --> O(n^2)\n",
    "# Space = O(1)\n",
    "\n",
    "def rain_water_brute_force(heights):\n",
    "    totalWater = 0\n",
    "    \n",
    "    for p in range(len(heights)):\n",
    "        leftP = p\n",
    "        rightP = p\n",
    "        maxLeft = 0\n",
    "        maxRight = 0\n",
    "        \n",
    "        while leftP >= 0:\n",
    "            maxLeft = max(maxLeft, heights[leftP])\n",
    "            leftP -= 1\n",
    "            \n",
    "        while rightP < len(heights):\n",
    "            maxRight = max(maxRight, heights[rightP])\n",
    "            rightP += 1\n",
    "            \n",
    "        currentWater = min(maxLeft, maxRight) - heights[p]\n",
    "        \n",
    "        if currentWater >= 0:\n",
    "            totalWater += currentWater\n",
    "    return totalWater"
   ]
  },
  {
   "cell_type": "code",
   "execution_count": 25,
   "id": "4b5e1dc7",
   "metadata": {},
   "outputs": [
    {
     "data": {
      "text/plain": [
       "8"
      ]
     },
     "execution_count": 25,
     "metadata": {},
     "output_type": "execute_result"
    }
   ],
   "source": [
    "elevationArray = [0,1,0,2,1,0,3,1,0,1,2]\n",
    "rain_water_brute_force(elevationArray)"
   ]
  },
  {
   "cell_type": "code",
   "execution_count": 32,
   "id": "be6dc9e9",
   "metadata": {},
   "outputs": [],
   "source": [
    "# Time --> O(n)\n",
    "# Space --> O(1)\n",
    "\n",
    "def rain_water_better(heights):\n",
    "    leftP = 0\n",
    "    rightP = len(heights) - 1\n",
    "    maxLeft = 0\n",
    "    maxRight = 0\n",
    "    totalWater = 0\n",
    "    \n",
    "    while leftP < rightP:\n",
    "        if heights[leftP] < heights[rightP]:\n",
    "            if heights[leftP] < maxLeft:\n",
    "                totalWater += maxLeft - heights[leftP]\n",
    "            else:\n",
    "                maxLeft = heights[leftP]\n",
    "            leftP += 1\n",
    "        \n",
    "        else:\n",
    "            if heights[rightP] < maxRight:\n",
    "                totalWater += maxRight - heights[rightP]\n",
    "            else:\n",
    "                maxRight = heights[rightP]\n",
    "            rightP -= 1\n",
    "    return totalWater"
   ]
  },
  {
   "cell_type": "code",
   "execution_count": 33,
   "id": "fe4eaf6a",
   "metadata": {},
   "outputs": [
    {
     "data": {
      "text/plain": [
       "8"
      ]
     },
     "execution_count": 33,
     "metadata": {},
     "output_type": "execute_result"
    }
   ],
   "source": [
    "elevationArray = [0,1,0,2,1,0,3,1,0,1,2]\n",
    "rain_water_better(elevationArray)"
   ]
  },
  {
   "cell_type": "markdown",
   "id": "29a54f56",
   "metadata": {},
   "source": [
    "## 4. Typed out strings"
   ]
  },
  {
   "cell_type": "code",
   "execution_count": 34,
   "id": "2a19fc45",
   "metadata": {},
   "outputs": [],
   "source": [
    "# Time --> O(s + t)\n",
    "# Space --> O(s + t)\n",
    "\n",
    "def typed_out_bruteforce(s, t):\n",
    "    finalS = []\n",
    "    finalT = []\n",
    "    \n",
    "    for i in range(len(s)):\n",
    "        if s[i] != \"#\":\n",
    "            finalS.append(s[i])\n",
    "        else:\n",
    "            if len(finalS) > 0:\n",
    "                finalS.pop()\n",
    "    \n",
    "    for i in range(len(t)):\n",
    "        if t[i] != \"#\":\n",
    "            finalT.append(t[i])\n",
    "        else:\n",
    "            if len(finalT) > 0:\n",
    "                finalT.pop()\n",
    "    \n",
    "    return finalS == finalT"
   ]
  },
  {
   "cell_type": "code",
   "execution_count": 38,
   "id": "761f16f3",
   "metadata": {},
   "outputs": [
    {
     "data": {
      "text/plain": [
       "True"
      ]
     },
     "execution_count": 38,
     "metadata": {},
     "output_type": "execute_result"
    }
   ],
   "source": [
    "# s = \"ab##\"\n",
    "# t = \"c#d#\"\n",
    "\n",
    "s = 'ab#c'\n",
    "t = 'ad#c'\n",
    "\n",
    "# s = 'a###b'\n",
    "# t = 'b'\n",
    "\n",
    "# s = \"a#c\"\n",
    "# t = \"b\"\n",
    "\n",
    "# s = 'Ab#c'\n",
    "# t = 'ab#c'\n",
    "\n",
    "typed_out_bruteforce(s, t)"
   ]
  },
  {
   "cell_type": "code",
   "execution_count": 45,
   "id": "1812969d",
   "metadata": {},
   "outputs": [
    {
     "name": "stdout",
     "output_type": "stream",
     "text": [
      "True\n"
     ]
    }
   ],
   "source": [
    "# time --> O(s + t)\n",
    "# space --> O(1)\n",
    "\n",
    "def typed_out_better(s, t):\n",
    "    def process_backspace(string, pointer):\n",
    "        backCount = 0\n",
    "        \n",
    "        while pointer >= 0:\n",
    "            if string[pointer] == \"#\":\n",
    "                backCount += 1\n",
    "            elif backCount > 0:\n",
    "                backCount -= 1\n",
    "            else:\n",
    "                break\n",
    "            pointer -= 1\n",
    "        return pointer\n",
    "    \n",
    "    firstP = len(s) - 1\n",
    "    secondP = len(t) - 1\n",
    "    \n",
    "    while firstP >= 0 or secondP >= 0:\n",
    "        firstP = process_backspace(s, firstP)\n",
    "        secondP = process_backspace(t, secondP)\n",
    "        \n",
    "        if firstP >= 0 and secondP >= 0:\n",
    "            if s[firstP] != s[secondP]:\n",
    "                return False\n",
    "        elif firstP >= 0 or secondP >= 0:\n",
    "            return False\n",
    "        \n",
    "        firstP -= 1\n",
    "        secondP -= 1\n",
    "        \n",
    "    return True\n",
    "\n",
    "# def typed_out_better(s, t):\n",
    "#     def process_backspace(string, pointer):\n",
    "#         backCount = 0\n",
    "#         print(f\"\\nProcessing backspaces in: '{string}', starting pointer: {pointer}\")\n",
    "        \n",
    "#         while pointer >= 0:\n",
    "#             if string[pointer] == \"#\":\n",
    "#                 backCount += 1\n",
    "#                 print(f\"Found '#', increasing backCount to {backCount}. Moving pointer to {pointer - 1}\")\n",
    "#             elif backCount > 0:\n",
    "#                 backCount -= 1\n",
    "#                 print(f\"Skipping character '{string[pointer]}' due to backCount. Decreasing backCount to {backCount}. Moving pointer to {pointer - 1}\")\n",
    "#             else:\n",
    "#                 print(f\"Stopping at character '{string[pointer]}' at pointer {pointer}. BackCount: {backCount}\")\n",
    "#                 break\n",
    "#             pointer -= 1\n",
    "        \n",
    "#         print(f\"Final pointer after processing backspaces: {pointer}\\n\")\n",
    "#         return pointer\n",
    "    \n",
    "#     firstP = len(s) - 1\n",
    "#     secondP = len(t) - 1\n",
    "    \n",
    "#     while firstP >= 0 or secondP >= 0:\n",
    "#         print(f\"Current pointers -> firstP: {firstP}, secondP: {secondP}\")\n",
    "#         firstP = process_backspace(s, firstP)\n",
    "#         secondP = process_backspace(t, secondP)\n",
    "        \n",
    "#         if firstP >= 0 and secondP >= 0:\n",
    "#             print(f\"Comparing characters -> s[firstP]: '{s[firstP]}', t[secondP]: '{t[secondP]}'\")\n",
    "#             if s[firstP] != t[secondP]:\n",
    "#                 print(\"Characters do not match. Returning False.\")\n",
    "#                 return False\n",
    "#         elif firstP >= 0 or secondP >= 0:\n",
    "#             print(\"One string has characters left while the other does not. Returning False.\")\n",
    "#             return False\n",
    "        \n",
    "#         firstP -= 1\n",
    "#         secondP -= 1\n",
    "#         print(f\"Moving to next characters -> firstP: {firstP}, secondP: {secondP}\")\n",
    "        \n",
    "#     print(\"All characters match after processing. Returning True.\")\n",
    "#     return True\n",
    "\n",
    "# Example usage\n",
    "s = \"ab#c\"\n",
    "t = \"ad#c\"\n",
    "print(typed_out_better(s, t))\n"
   ]
  },
  {
   "cell_type": "code",
   "execution_count": 41,
   "id": "3229dbc6",
   "metadata": {},
   "outputs": [
    {
     "data": {
      "text/plain": [
       "True"
      ]
     },
     "execution_count": 41,
     "metadata": {},
     "output_type": "execute_result"
    }
   ],
   "source": [
    "# s = \"ab##\"\n",
    "# t = \"c#d#\"\n",
    "\n",
    "s = 'ab#c'\n",
    "t = 'ad#c'\n",
    "\n",
    "# s = 'a###b'\n",
    "# t = 'b'\n",
    "\n",
    "# s = \"a#c\"\n",
    "# t = \"b\"\n",
    "\n",
    "# s = 'Ab#c'\n",
    "# t = 'ab#c'\n",
    "\n",
    "typed_out_better(s, t)"
   ]
  },
  {
   "cell_type": "markdown",
   "id": "6db9c765",
   "metadata": {},
   "source": [
    "## 5. Longest Substrings without repeating characters"
   ]
  },
  {
   "cell_type": "code",
   "execution_count": 46,
   "id": "9fb578d6",
   "metadata": {},
   "outputs": [],
   "source": [
    "# time --> O(n^2)\n",
    "# space --> O(n)\n",
    "\n",
    "def longest_substring_bruteforce(s):\n",
    "    if len(s) <= 1:\n",
    "        return len(s)\n",
    "    \n",
    "    longest = 0\n",
    "    \n",
    "    for left in range(len(s)):\n",
    "        currentLength = 0\n",
    "        seenChars = {}\n",
    "        for right in range(left, len(s)):\n",
    "            currentChar = s[right]\n",
    "            if not seenChars.get(currentChar):\n",
    "                seenChars[currentChar] = True\n",
    "                currentLength += 1\n",
    "                longest = max(longest, currentLength)\n",
    "            else:\n",
    "                break\n",
    "    return longest"
   ]
  },
  {
   "cell_type": "code",
   "execution_count": 47,
   "id": "b793f3fb",
   "metadata": {},
   "outputs": [
    {
     "data": {
      "text/plain": [
       "3"
      ]
     },
     "execution_count": 47,
     "metadata": {},
     "output_type": "execute_result"
    }
   ],
   "source": [
    "s = \"abcbdc\"\n",
    "longest_substring_bruteforce(s)"
   ]
  },
  {
   "cell_type": "code",
   "execution_count": 152,
   "id": "48702e70",
   "metadata": {},
   "outputs": [],
   "source": [
    "# time --> O(n)\n",
    "# Space --> O(n)\n",
    "\n",
    "from collections import defaultdict\n",
    "\n",
    "def longest_substring_better(s):\n",
    "    if len(s) <= 1:\n",
    "        return len(s)\n",
    "    \n",
    "    seenChars = {}\n",
    "    left = 0\n",
    "    longest = 0\n",
    "    \n",
    "    for right in range(len(s)):\n",
    "        currentChar = s[right]\n",
    "        prevSeenChar = -1\n",
    "        \n",
    "        if currentChar in seenChars.keys():\n",
    "            prevSeenChar = seenChars[currentChar]\n",
    "            \n",
    "        if prevSeenChar >= left:\n",
    "            left = prevSeenChar + 1\n",
    "        \n",
    "        seenChars[currentChar] = right\n",
    "        longest = max(longest, right - left + 1)\n",
    "    return longest\n",
    "\n",
    "def lengthOfLongestSubstring(s: str) -> int:\n",
    "    if len(s) <= 1:\n",
    "        return len(s)\n",
    "\n",
    "    seenChars = {}\n",
    "    longest = 0\n",
    "    left = 0\n",
    "\n",
    "    for right in range(len(s)):\n",
    "        currentChar = s[right]\n",
    "        prevSeenChar = -1\n",
    "\n",
    "        if currentChar is seenChars.keys():\n",
    "            prevSeenChar = seenChars[currentChar]\n",
    "\n",
    "        if prevSeenChar >= left:\n",
    "            left = prevSeenChars + 1\n",
    "\n",
    "        seenChars[currentChar] = right\n",
    "        longest = max(longest, right - left + 1)\n",
    "    return longest"
   ]
  },
  {
   "cell_type": "code",
   "execution_count": 153,
   "id": "f6d5d69c",
   "metadata": {},
   "outputs": [
    {
     "data": {
      "text/plain": [
       "3"
      ]
     },
     "execution_count": 153,
     "metadata": {},
     "output_type": "execute_result"
    }
   ],
   "source": [
    "s = \"abcb\"\n",
    "longest_substring_better(s)"
   ]
  },
  {
   "cell_type": "code",
   "execution_count": 58,
   "id": "2f80abc7",
   "metadata": {},
   "outputs": [],
   "source": [
    "# a --> currentChar = a, prevSeenChar = -1, seenChars = {a:0}, left = 0, right = 0, longest = 1\n",
    "# b --> currentChar = b, prevSeenChar = -1, seenChars = {a: 0, b: 1}, left = 0, right = 1, longest = 2\n",
    "# c --> currentChar = c, prevSeenChar = -1, seenChars = {a: 0, b: 1, c: 2}, left = 0, right = 2, longest = 3\n",
    "# b --> currentChar = b, prevSeenChar = 1, seenChars = {a:0, b:3, c:2}, left = 2, right = 3, longest = 2"
   ]
  },
  {
   "cell_type": "code",
   "execution_count": 61,
   "id": "cc33f10a",
   "metadata": {},
   "outputs": [
    {
     "data": {
      "text/plain": [
       "4"
      ]
     },
     "execution_count": 61,
     "metadata": {},
     "output_type": "execute_result"
    }
   ],
   "source": [
    "s = 'abcbdaac'\n",
    "longest_substring_better(s)"
   ]
  },
  {
   "cell_type": "markdown",
   "id": "f4351c16",
   "metadata": {},
   "source": [
    "## 6. Valid Palindrome"
   ]
  },
  {
   "cell_type": "code",
   "execution_count": 62,
   "id": "b024470b",
   "metadata": {},
   "outputs": [],
   "source": [
    "# Time --> O(n)\n",
    "# Space --> O(1)\n",
    "\n",
    "def isPalindrome(s):\n",
    "    if len(s) <= 1:\n",
    "        return True\n",
    "    \n",
    "    left = 0\n",
    "    right = len(s) - 1\n",
    "    \n",
    "    while left < right:\n",
    "        while left < right and not s[left].isalnum():\n",
    "            left += 1\n",
    "        while left < right and not s[right].isalnum():\n",
    "            right -= 1\n",
    "        \n",
    "        if s[left].lower() != s[right].lower():\n",
    "            return False\n",
    "        left += 1\n",
    "        right -= 1\n",
    "    \n",
    "    return True"
   ]
  },
  {
   "cell_type": "code",
   "execution_count": 63,
   "id": "2d83d512",
   "metadata": {},
   "outputs": [
    {
     "data": {
      "text/plain": [
       "True"
      ]
     },
     "execution_count": 63,
     "metadata": {},
     "output_type": "execute_result"
    }
   ],
   "source": [
    "isPalindrome(\"race car\")"
   ]
  },
  {
   "cell_type": "code",
   "execution_count": 64,
   "id": "66853c74",
   "metadata": {},
   "outputs": [
    {
     "data": {
      "text/plain": [
       "True"
      ]
     },
     "execution_count": 64,
     "metadata": {},
     "output_type": "execute_result"
    }
   ],
   "source": [
    "isPalindrome(\"A man, a plan, a canal: Panama\")"
   ]
  },
  {
   "cell_type": "code",
   "execution_count": 65,
   "id": "3e51f573",
   "metadata": {},
   "outputs": [
    {
     "data": {
      "text/plain": [
       "False"
      ]
     },
     "execution_count": 65,
     "metadata": {},
     "output_type": "execute_result"
    }
   ],
   "source": [
    "isPalindrome(\"A man, a plan, a canal: Pana\")"
   ]
  },
  {
   "cell_type": "markdown",
   "id": "9beccf80",
   "metadata": {},
   "source": [
    "## 7. Almost palindrome"
   ]
  },
  {
   "cell_type": "code",
   "execution_count": 66,
   "id": "4e6b6979",
   "metadata": {},
   "outputs": [],
   "source": [
    "def almostPalindrome(s):\n",
    "    if len(s) <= 2:\n",
    "        return True\n",
    "    \n",
    "    def checkPalindrome(s, left, right):\n",
    "        while left < right:\n",
    "            if s[left] != s[right]:\n",
    "                return False\n",
    "            left += 1\n",
    "            right -= 1\n",
    "        return True\n",
    "    \n",
    "    left = 0\n",
    "    right = len(s) - 1\n",
    "    \n",
    "    while left < right:\n",
    "        if s[left] != s[right]:\n",
    "            return checkPalindrome(s, left + 1, right) or checkPalindrome(s, left, right - 1)\n",
    "        \n",
    "        left += 1\n",
    "        right -= 1\n",
    "    return True"
   ]
  },
  {
   "cell_type": "code",
   "execution_count": 67,
   "id": "79d766e2",
   "metadata": {},
   "outputs": [
    {
     "data": {
      "text/plain": [
       "True"
      ]
     },
     "execution_count": 67,
     "metadata": {},
     "output_type": "execute_result"
    }
   ],
   "source": [
    "almostPalindrome('abcbvbba')"
   ]
  },
  {
   "cell_type": "code",
   "execution_count": 68,
   "id": "d3bb908c",
   "metadata": {},
   "outputs": [
    {
     "data": {
      "text/plain": [
       "True"
      ]
     },
     "execution_count": 68,
     "metadata": {},
     "output_type": "execute_result"
    }
   ],
   "source": [
    "almostPalindrome('racecar')"
   ]
  },
  {
   "cell_type": "code",
   "execution_count": 69,
   "id": "316da107",
   "metadata": {},
   "outputs": [
    {
     "data": {
      "text/plain": [
       "True"
      ]
     },
     "execution_count": 69,
     "metadata": {},
     "output_type": "execute_result"
    }
   ],
   "source": [
    "almostPalindrome('raceacar')"
   ]
  },
  {
   "cell_type": "code",
   "execution_count": 71,
   "id": "75fc2309",
   "metadata": {},
   "outputs": [
    {
     "data": {
      "text/plain": [
       "False"
      ]
     },
     "execution_count": 71,
     "metadata": {},
     "output_type": "execute_result"
    }
   ],
   "source": [
    "almostPalindrome('raceacars')"
   ]
  },
  {
   "cell_type": "markdown",
   "id": "9ddc983d",
   "metadata": {},
   "source": [
    "## 8. Reverse a Linked List"
   ]
  },
  {
   "cell_type": "code",
   "execution_count": 76,
   "id": "cb8019e1",
   "metadata": {},
   "outputs": [
    {
     "name": "stdout",
     "output_type": "stream",
     "text": [
      "1\n",
      "2\n",
      "3\n",
      "4\n",
      "5\n"
     ]
    }
   ],
   "source": [
    "from functools import reduce\n",
    " \n",
    "# template to create node list\n",
    "class ListNode:\n",
    "    def __init__(self, val, next = None):\n",
    "            self.val = val\n",
    "            self.next = next\n",
    " \n",
    "# ---- Generate our linked list ----\n",
    "linkedList = reduce(lambda acc, val: ListNode(val, acc), [5,4,3,2,1], None) \n",
    "\n",
    "# ---- Print our linked list ----\n",
    " \n",
    "def printList(head):\n",
    "    if(not head):\n",
    "        return\n",
    " \n",
    "    print(head.val)\n",
    "    printList(head.next)\n",
    "\n",
    "printList(linkedList)\n"
   ]
  },
  {
   "cell_type": "code",
   "execution_count": 77,
   "id": "1d11427d",
   "metadata": {},
   "outputs": [],
   "source": [
    "# time --> O(n)\n",
    "# space --> O(1)\n",
    "\n",
    "def reverseList(head):\n",
    "    current = head\n",
    "    listSoFar = None\n",
    "    \n",
    "    while current:\n",
    "        nextTemp = current.next\n",
    "        current.next = listSoFar\n",
    "        listSoFar = current\n",
    "        current = nextTemp\n",
    "    return listSoFar"
   ]
  },
  {
   "cell_type": "code",
   "execution_count": 78,
   "id": "b6a1daf1",
   "metadata": {},
   "outputs": [
    {
     "name": "stdout",
     "output_type": "stream",
     "text": [
      "5\n",
      "4\n",
      "3\n",
      "2\n",
      "1\n"
     ]
    }
   ],
   "source": [
    "printList(reverseList(linkedList))"
   ]
  },
  {
   "cell_type": "markdown",
   "id": "8d1591b7",
   "metadata": {},
   "source": [
    "## 9. Reverse M, N linked list"
   ]
  },
  {
   "cell_type": "code",
   "execution_count": 81,
   "id": "2eee4e48",
   "metadata": {},
   "outputs": [],
   "source": [
    "# time --> O(n)\n",
    "# space --> O(1)\n",
    "\n",
    "def reverseList2(head, left, right):\n",
    "    currentPos = 1\n",
    "    start = head\n",
    "    currentNode = head\n",
    "    \n",
    "    while currentPos < left:\n",
    "        start = currentNode\n",
    "        currentNode = currentNode.next\n",
    "        currentPos += 1\n",
    "        \n",
    "    listSoFar = None\n",
    "    tail = currentNode\n",
    "    \n",
    "    while currentPos >= left and currentPos <= right:\n",
    "        nextTemp = currentNode.next\n",
    "        currentNode.next = listSoFar\n",
    "        listSoFar = currentNode\n",
    "        currentNode = nextTemp\n",
    "        currentPos += 1\n",
    "    \n",
    "    start.next = listSoFar\n",
    "    tail.next = currentNode\n",
    "    \n",
    "    if left > 1:\n",
    "        return head\n",
    "    return listSoFar"
   ]
  },
  {
   "cell_type": "code",
   "execution_count": 82,
   "id": "7148ea4a",
   "metadata": {},
   "outputs": [
    {
     "name": "stdout",
     "output_type": "stream",
     "text": [
      "1\n",
      "2\n",
      "3\n",
      "4\n",
      "5\n",
      "after reverse\n",
      "1\n",
      "4\n",
      "3\n",
      "2\n",
      "5\n"
     ]
    }
   ],
   "source": [
    "linkedList = reduce(lambda acc, val: ListNode(val, acc), [5,4,3,2,1], None) \n",
    "\n",
    "printList(linkedList)\n",
    "print('after reverse')\n",
    "printList(reverseList2(linkedList, 2, 4))\n"
   ]
  },
  {
   "cell_type": "markdown",
   "id": "575e3f21",
   "metadata": {},
   "source": [
    "## 10. Flatten list"
   ]
  },
  {
   "cell_type": "code",
   "execution_count": 83,
   "id": "42c91072",
   "metadata": {},
   "outputs": [
    {
     "name": "stdout",
     "output_type": "stream",
     "text": [
      "1---2---3---4---5---6\n",
      "        |\n",
      "        7---8---9---10\n",
      "            |\n",
      "            11---12\n",
      "True\n"
     ]
    }
   ],
   "source": [
    "# helper functions\n",
    "\n",
    "class Node:\n",
    "  def __init__(self, val=None, prev=None, \n",
    "                next=None, child=None):\n",
    "    self.val = val\n",
    "    self.next = next\n",
    "    self.prev = prev\n",
    "    self.child = child\n",
    "\n",
    "null = None\n",
    "\n",
    "def makeLists(array):\n",
    "  '''\n",
    "  Recursively generates the complete graph from given serialization\n",
    "  Parameter:\n",
    "    array - serialization of the list as Python list\n",
    "  Returns:\n",
    "    head to the top most list (first node of the\n",
    "    graph)\n",
    "  '''\n",
    "  head = None\n",
    "  prev = None\n",
    "  i = 0\n",
    "  while i < len(array):\n",
    "    if array[i] != null:\n",
    "      node = Node(val=array[i], prev=prev)\n",
    "      if prev is None:\n",
    "        head = prev = node\n",
    "      else:\n",
    "        prev.next = node\n",
    "        prev = node\n",
    "      i += 1\n",
    "    else:\n",
    "      node = head\n",
    "      end = False\n",
    "      while array[i] == null:\n",
    "        if node.next is None:\n",
    "          end = True\n",
    "        else:\n",
    "          node = node.next\n",
    "        i += 1\n",
    "      if end:\n",
    "        node.child = makeLists(array[i:])\n",
    "      else:\n",
    "        node.prev.child = makeLists(array[i:])\n",
    "      break\n",
    "  return head\n",
    "\n",
    "def strLists(head, lists):\n",
    "  '''\n",
    "  Helper function to recursively serialize the graph prior to visualization. It's an interim step and\n",
    "  only meant to be called by the printLists function.\n",
    "\n",
    "  Parameters:\n",
    "    head - head of the present list \n",
    "    lists - the serialization being built recursively (passed by reference)\n",
    "\n",
    "  Returns:\n",
    "    None (lists is updated in place). \n",
    "  '''\n",
    "  if head is None:\n",
    "    return\n",
    "  nodes = []\n",
    "  while head:\n",
    "    nodes.append(str(head.val))\n",
    "    if head.child is not None:\n",
    "      nodes.append('|')\n",
    "      strLists(head.child, lists)\n",
    "    head = head.next\n",
    "  lists.append(nodes)\n",
    "\n",
    "def printLists(head):\n",
    "  '''\n",
    "  Visualizes the entire graph\n",
    "  Parameter:\n",
    "    head - the top most Node\n",
    "  '''\n",
    "  lists = []\n",
    "  strLists(head, lists)\n",
    "  if lists == []:\n",
    "    print(None)\n",
    "    return\n",
    "  previndent = 0\n",
    "  for j, l in enumerate(lists[::-1]):\n",
    "    count = -1\n",
    "    indent = 0\n",
    "    s = []\n",
    "    for i in range(len(l)):\n",
    "      if l[i] != '|':\n",
    "        s.append(l[i])\n",
    "        count += 1\n",
    "      else:\n",
    "        indent = count * 4\n",
    "        child = count\n",
    "    print('---'.join(s)) \n",
    "    if  len(lists) > 1 and j < len(lists) - 1:\n",
    "      previndent += indent\n",
    "      indentation = ''.join([' '] * previndent)\n",
    "      if len(l[0]) > 1:\n",
    "        indentation += ''.join([' '] * child)\n",
    "      print(indentation + '|')\n",
    "      print(indentation, end='')\n",
    "\n",
    "def checkLinks(head, lists=None):\n",
    "  '''\n",
    "  Verifies that all lists can be traversed in both directions.\n",
    "\n",
    "  Parameter:\n",
    "    head - top most Node\n",
    "\n",
    "  Returns:\n",
    "    Boolean, True if all lists traversable, False if not.\n",
    "  '''\n",
    "  if head is None:\n",
    "    return True\n",
    "  if lists is None:\n",
    "    lists = []\n",
    "  stack = []\n",
    "  result = True\n",
    "  node = head\n",
    "  while node is not None:\n",
    "    if node.child is not None:\n",
    "      checkLinks(node.child, lists)\n",
    "    stack.append(node)\n",
    "    prev = node\n",
    "    node = node.next\n",
    "  while prev is not None:\n",
    "    if len(stack) == 0 or stack.pop() != prev:\n",
    "      result = False\n",
    "    prev = prev.prev\n",
    "  lists.append(result)\n",
    "  return all(lists)\n",
    "\n",
    "\n",
    "# Example to show usage\n",
    "array = [1,2,3,4,5,6,null,null,null,7,8,9,10,null,null,11,12]\n",
    "head = makeLists(array)\n",
    "printLists(head)\n",
    "print(checkLinks(head))\n"
   ]
  },
  {
   "cell_type": "code",
   "execution_count": 84,
   "id": "ead7f95a",
   "metadata": {},
   "outputs": [],
   "source": [
    "def flattenList(head):\n",
    "    if not head:\n",
    "        return head\n",
    "    \n",
    "    currentNode = head\n",
    "    \n",
    "    while currentNode:\n",
    "        if not currentNode.child:\n",
    "            currentNode = currentNode.next\n",
    "        else:\n",
    "            tail = currentNode.child\n",
    "            while tail.next:\n",
    "                tail = tail.next\n",
    "            tail.next = currentNode.next\n",
    "            if tail.next:\n",
    "                tail.next.prev = tail\n",
    "            currentNode.next = currentNode.child\n",
    "            currentNode.next.prev = currentNode\n",
    "            currentNode.child = None\n",
    "    return head"
   ]
  },
  {
   "cell_type": "code",
   "execution_count": 85,
   "id": "c193f7b7",
   "metadata": {},
   "outputs": [
    {
     "name": "stdout",
     "output_type": "stream",
     "text": [
      "1---2---3---7---8---11---12---9---10---4---5---6\n"
     ]
    }
   ],
   "source": [
    "printLists(flattenList(head))"
   ]
  },
  {
   "cell_type": "markdown",
   "id": "d924e1c1",
   "metadata": {},
   "source": [
    "## 11. Cycle Detection"
   ]
  },
  {
   "cell_type": "code",
   "execution_count": 87,
   "id": "359b98c9",
   "metadata": {},
   "outputs": [],
   "source": [
    "# Time --> O(n)\n",
    "# Space --> O(n)\n",
    "\n",
    "\n",
    "def detectCycleNaive(head):\n",
    "    currentNode = head\n",
    "    seenNodes = set()\n",
    "    \n",
    "    if not head:\n",
    "        return None\n",
    "    \n",
    "    while not currentNode in seenNodes:\n",
    "        if not currentNode.next:\n",
    "            return None\n",
    "        \n",
    "        seenNodes.add(currentNode)\n",
    "        \n",
    "        currentNode = currentNode.next\n",
    "    \n",
    "    return currentNode"
   ]
  },
  {
   "cell_type": "code",
   "execution_count": 88,
   "id": "f324ed13",
   "metadata": {},
   "outputs": [],
   "source": [
    "def getIntersect(head):\n",
    "    turtle = head\n",
    "    hare = head\n",
    "    \n",
    "    while hare and hare.next:\n",
    "        hare = hare.next.next\n",
    "        turtle = turtle.next\n",
    "        \n",
    "        if turtle == hare:\n",
    "            return turtle\n",
    "    return None\n",
    "\n",
    "def detectCycle(head):\n",
    "        \n",
    "    intersect = getIntersect(head)\n",
    "    \n",
    "    if not intersect:\n",
    "        return None\n",
    "    \n",
    "    while head != intersect:\n",
    "        head = head.next\n",
    "        intersect = intersect.next\n",
    "        \n",
    "    return head\n",
    "    \n",
    "    "
   ]
  },
  {
   "cell_type": "markdown",
   "id": "2b9341d0",
   "metadata": {},
   "source": [
    "## 12. Valid brackets"
   ]
  },
  {
   "cell_type": "code",
   "execution_count": 96,
   "id": "8f2b2ef2",
   "metadata": {},
   "outputs": [],
   "source": [
    "def validBrackets(s):\n",
    "    parens = {\n",
    "        '(':')',\n",
    "        '{':'}',\n",
    "        '[':']'\n",
    "    }\n",
    "    \n",
    "    stack = []\n",
    "    \n",
    "    for i in range(len(s)):\n",
    "        if s[i] in parens.keys():\n",
    "            stack.append(s[i])\n",
    "        else:\n",
    "            if len(stack) > 0:\n",
    "                leftBracket = stack.pop()\n",
    "            else:\n",
    "                return False\n",
    "            correctBracket = parens[leftBracket]\n",
    "            if s[i] != correctBracket:\n",
    "                return False\n",
    "    return len(stack) == 0"
   ]
  },
  {
   "cell_type": "code",
   "execution_count": 97,
   "id": "96340f43",
   "metadata": {},
   "outputs": [
    {
     "data": {
      "text/plain": [
       "True"
      ]
     },
     "execution_count": 97,
     "metadata": {},
     "output_type": "execute_result"
    }
   ],
   "source": [
    "s = '[{()}]'\n",
    "validBrackets(s)"
   ]
  },
  {
   "cell_type": "code",
   "execution_count": 98,
   "id": "ef1cabaa",
   "metadata": {},
   "outputs": [
    {
     "data": {
      "text/plain": [
       "True"
      ]
     },
     "execution_count": 98,
     "metadata": {},
     "output_type": "execute_result"
    }
   ],
   "source": [
    "s = '[]{}()'\n",
    "validBrackets(s)"
   ]
  },
  {
   "cell_type": "code",
   "execution_count": 99,
   "id": "911b4c26",
   "metadata": {},
   "outputs": [
    {
     "data": {
      "text/plain": [
       "False"
      ]
     },
     "execution_count": 99,
     "metadata": {},
     "output_type": "execute_result"
    }
   ],
   "source": [
    "s = '[({)}]'\n",
    "validBrackets(s)"
   ]
  },
  {
   "cell_type": "markdown",
   "id": "3af0356e",
   "metadata": {},
   "source": [
    "## 14. Minimum brackets to remove"
   ]
  },
  {
   "cell_type": "code",
   "execution_count": 102,
   "id": "5bc9a986",
   "metadata": {},
   "outputs": [],
   "source": [
    "def minRemoveToMakeValid(s):\n",
    "    stack = []\n",
    "    indicesToRemove = set()\n",
    "    \n",
    "    for idx, char in enumerate(s):\n",
    "        if char not in '()':\n",
    "            continue\n",
    "        elif char == '(':\n",
    "            stack.append(idx)\n",
    "        elif len(stack) > 0:\n",
    "            stack.pop()\n",
    "        else:\n",
    "            indicesToRemove.add(idx)\n",
    "    indicesToRemove = indicesToRemove.union(stack)\n",
    "    \n",
    "    stringBuilder = []\n",
    "    \n",
    "    for idx, char in enumerate(s):\n",
    "        if idx not in indicesToRemove:\n",
    "            stringBuilder.append(char)\n",
    "    \n",
    "    return \"\".join(stringBuilder)"
   ]
  },
  {
   "cell_type": "code",
   "execution_count": 107,
   "id": "94ac4161",
   "metadata": {},
   "outputs": [
    {
     "data": {
      "text/plain": [
       "'(a)b(c)d'"
      ]
     },
     "execution_count": 107,
     "metadata": {},
     "output_type": "execute_result"
    }
   ],
   "source": [
    "minRemoveToMakeValid('((a)b(c)d')"
   ]
  },
  {
   "cell_type": "markdown",
   "id": "8d459643",
   "metadata": {},
   "source": [
    "## 15. Queue using stacks"
   ]
  },
  {
   "cell_type": "code",
   "execution_count": 109,
   "id": "e2e15ce2",
   "metadata": {},
   "outputs": [],
   "source": [
    "# Time --> Amortized time complexity --> O(1)\n",
    "# Space --> O(n)\n",
    "\n",
    "\n",
    "class MyQueue:\n",
    "    def __init__(self):\n",
    "        self.stack_in = []\n",
    "        self.stack_out = []\n",
    "        \n",
    "    def push(self, x):\n",
    "        self.stack_in.append(x)\n",
    "    \n",
    "    def pop(self):\n",
    "        if not self.stack_out:\n",
    "            while self.stack_in:\n",
    "                self.stack_out.append(self.stack_in.pop())\n",
    "        return self.stack_out.pop()\n",
    "    \n",
    "    def peek(self):\n",
    "        if not self.stack_out:\n",
    "            while self.stack_in:\n",
    "                self.stack_out.append(self.stack_in.pop())\n",
    "        return self.stack_out[-1]\n",
    "    \n",
    "    def empty(self):\n",
    "        return not self.stack_in and not self.stack_out"
   ]
  },
  {
   "cell_type": "markdown",
   "id": "89fc5450",
   "metadata": {},
   "source": [
    "## 16. Sorting and Hoare's quickselect"
   ]
  },
  {
   "cell_type": "code",
   "execution_count": 110,
   "id": "79ad508d",
   "metadata": {},
   "outputs": [],
   "source": [
    "# Sorting\n",
    "# Time --> O(nLogn); Worst case O(n^2) (unbalanced partitioning)\n",
    "# Space --> O(logn); Worst case O(n)\n",
    "\n",
    "def find_kth_largest(nums, k):\n",
    "    quickSort(nums, 0, len(nums) - 1)\n",
    "    return nums[-k]\n",
    "\n",
    "def quickSort(nums, left, right):\n",
    "    if left < right:\n",
    "        partitionIndex = partition(nums, left, right)\n",
    "        quickSort(nums, left, partitionIndex - 1)\n",
    "        quickSort(nums, partitionIndex + 1, right)\n",
    "        \n",
    "def partition(nums, left, right):\n",
    "    partitionIndex = left\n",
    "    pivotElement = nums[right]\n",
    "    \n",
    "    for j in range(left, right):\n",
    "        if nums[j] <= pivotElement:\n",
    "            nums[j], nums[partitionIndex] = nums[partitionIndex], nums[j]\n",
    "            partitionIndex += 1\n",
    "    nums[right], nums[partitionIndex] = nums[partitionIndex], nums[right]\n",
    "    return partitionIndex"
   ]
  },
  {
   "cell_type": "code",
   "execution_count": 111,
   "id": "bfb5c110",
   "metadata": {},
   "outputs": [
    {
     "data": {
      "text/plain": [
       "5"
      ]
     },
     "execution_count": 111,
     "metadata": {},
     "output_type": "execute_result"
    }
   ],
   "source": [
    "find_kth_largest([5,3,1,6,4,2],2)"
   ]
  },
  {
   "cell_type": "code",
   "execution_count": 112,
   "id": "ac1cc6a7",
   "metadata": {},
   "outputs": [],
   "source": [
    "# Quickselect\n",
    "\n",
    "def findKthLargest(nums, k):\n",
    "    indexToFind = len(nums) - k\n",
    "    return quickSelect(nums, 0, len(nums) - 1, indexToFind)\n",
    "\n",
    "def partition(nums, left, right):\n",
    "    partitionIndex = left\n",
    "    pivotElement = nums[right]\n",
    "    \n",
    "    for j in range(left, right):\n",
    "        if nums[j] <= pivotElement:\n",
    "            nums[j], nums[partitionIndex] = nums[partitionIndex], nums[j]\n",
    "            partitionIndex += 1\n",
    "    nums[right], nums[partitionIndex] = nums[partitionIndex], nums[right]\n",
    "    return partitionIndex\n",
    "\n",
    "def quickSelect(nums, left, right, indexToFind):\n",
    "    if left == right:\n",
    "        return nums[left]\n",
    "    \n",
    "    if left < right:\n",
    "        partitionIndex = partition(nums, left, right)\n",
    "        \n",
    "        if indexToFind == partitionIndex:\n",
    "            return nums[partitionIndex]\n",
    "        elif indexToFind < partitionIndex:\n",
    "            return quickselect(nums, partitionIndex + 1, right, indexToFind)\n",
    "        else:\n",
    "            return quickSelect(nums, left, partitionIndex - 1, indexToFind)"
   ]
  },
  {
   "cell_type": "code",
   "execution_count": 115,
   "id": "397c8a82",
   "metadata": {},
   "outputs": [
    {
     "data": {
      "text/plain": [
       "6"
      ]
     },
     "execution_count": 115,
     "metadata": {},
     "output_type": "execute_result"
    }
   ],
   "source": [
    "find_kth_largest([5,6,1,4,8,3],2)\n"
   ]
  },
  {
   "cell_type": "markdown",
   "id": "efc4d4ea",
   "metadata": {},
   "source": [
    "## 17. Binary search (Start and End of a target)"
   ]
  },
  {
   "cell_type": "code",
   "execution_count": 120,
   "id": "4ede1936",
   "metadata": {},
   "outputs": [],
   "source": [
    "def binarySearch(nums, noToFind, left, right):\n",
    "    while left <= right:\n",
    "        mid = ((left + right) // 2)\n",
    "        if nums[mid] == noToFind:\n",
    "            return mid\n",
    "        elif nums[mid] < noToFind:\n",
    "            left = mid + 1\n",
    "        else:\n",
    "            right = mid - 1\n",
    "    return -1"
   ]
  },
  {
   "cell_type": "code",
   "execution_count": 121,
   "id": "3dbd3d59",
   "metadata": {},
   "outputs": [
    {
     "data": {
      "text/plain": [
       "3"
      ]
     },
     "execution_count": 121,
     "metadata": {},
     "output_type": "execute_result"
    }
   ],
   "source": [
    "nums = [5, 7, 8, 12, 15]\n",
    "\n",
    "binarySearch(nums, 12, 0, len(nums) - 1)\n"
   ]
  },
  {
   "cell_type": "code",
   "execution_count": 126,
   "id": "4069aa7a",
   "metadata": {},
   "outputs": [],
   "source": [
    "# time --> O(logN)\n",
    "# space --> O(1)\n",
    "\n",
    "\n",
    "def startAndEnd(nums, target):\n",
    "    if len(nums) == 0:\n",
    "        return [-1, -1]\n",
    "    \n",
    "    firstPosition = binarySearch(nums, target, 0, len(nums) - 1)\n",
    "    \n",
    "    if firstPosition == -1:\n",
    "        return [-1, -1]\n",
    "    \n",
    "    startPosition = firstPosition\n",
    "    endPosition = firstPosition\n",
    "    tempL = 0\n",
    "    tempR = 0\n",
    "    \n",
    "    while startPosition != -1:\n",
    "        tempL = startPosition\n",
    "        startPosition = binarySearch(nums, target, 0, startPosition - 1)\n",
    "    startPosition = tempL\n",
    "    \n",
    "    while endPosition != -1:\n",
    "        tempR = endPosition\n",
    "        endPosition = binarySearch(nums, target, endPosition + 1, len(nums) - 1)\n",
    "    endPosition = tempR\n",
    "    return [startPosition, endPosition]"
   ]
  },
  {
   "cell_type": "code",
   "execution_count": 130,
   "id": "e9f6414a",
   "metadata": {},
   "outputs": [
    {
     "data": {
      "text/plain": [
       "[3, 6]"
      ]
     },
     "execution_count": 130,
     "metadata": {},
     "output_type": "execute_result"
    }
   ],
   "source": [
    "nums = [5,7,7,8,8,8,8,10,12]\n",
    "\n",
    "startAndEnd(nums, 8)"
   ]
  },
  {
   "cell_type": "markdown",
   "id": "3a4143ae",
   "metadata": {},
   "source": [
    "## Binary Trees"
   ]
  },
  {
   "cell_type": "code",
   "execution_count": 132,
   "id": "24165609",
   "metadata": {},
   "outputs": [],
   "source": [
    "class Node:\n",
    "    def __init__(self, val: int):\n",
    "        self.left = None\n",
    "        self.right = None\n",
    "        self.val = val\n",
    "\n",
    "    def __repr__(self):\n",
    "        return str(self.val)\n",
    "\n",
    "    def insert_node(self, val):\n",
    "        if self.val is not None:\n",
    "            if val < self.val:\n",
    "                if self.left is None:\n",
    "                    self.left = Node(val)\n",
    "                else:\n",
    "                    self.left.insert_node(val)\n",
    "            elif val > self.val:\n",
    "                if self.right is None:\n",
    "                    self.right = Node(val)\n",
    "                else:\n",
    "                    self.right.insert_node(val)\n",
    "\n",
    "    @staticmethod\n",
    "    def insert_nodes(vals: list, root):\n",
    "        for i in vals:\n",
    "            root.insert_node(i)\n",
    "\n",
    "    def bfs(self, root=None):\n",
    "        if not root:\n",
    "            return None\n",
    "        \n",
    "        queue = [root]\n",
    "        result = []\n",
    "        \n",
    "        while queue:\n",
    "            currNode = queue.pop(0)\n",
    "            result.append(currNode.val)\n",
    "            \n",
    "            if currNode.left:\n",
    "                queue.append(currNode.left)\n",
    "            \n",
    "            if currNode.right:\n",
    "                queue.append(currNode.right)\n",
    "        \n",
    "        return result\n",
    "    \n",
    "    def DFSInorder(self, root=None):\n",
    "        return self.traverseInOrder(root, [])\n",
    "    \n",
    "    def DFSPostOrder(self, root=None):\n",
    "        return self.traversePostOrder(root, [])\n",
    "    \n",
    "    def DFSPreOrder(self, root=None):\n",
    "        return self.traversePreOrder(root, [])\n",
    "    \n",
    "    def traverseInOrder(self, node, data):\n",
    "        if node.left is not None:\n",
    "            node.traverseInOrder(node.left, data)\n",
    "        data.append(node.val)\n",
    "        \n",
    "        if node.right is not None:\n",
    "            node.traverseInOrder(node.right, data)\n",
    "        #print(data)\n",
    "        return data\n",
    "    \n",
    "    def traversePostOrder(self, node, data):\n",
    "        \n",
    "        if node.left is not None:\n",
    "            node.traversePostOrder(node.left, data)\n",
    "              \n",
    "        if node.right is not None:\n",
    "            node.traversePostOrder(node.right, data)\n",
    "        #print(data)\n",
    "        data.append(node.val)\n",
    "        return data\n",
    "    \n",
    "    def traversePreOrder(self, node, data):\n",
    "        data.append(node.val)\n",
    "        if node.left is not None:\n",
    "            node.traversePreOrder(node.left, data)\n",
    "        \n",
    "        \n",
    "        if node.right is not None:\n",
    "            node.traversePreOrder(node.right, data)\n",
    "        #print(data)\n",
    "        return data\n",
    "    "
   ]
  },
  {
   "cell_type": "code",
   "execution_count": 133,
   "id": "c0579599",
   "metadata": {},
   "outputs": [],
   "source": [
    "#       9\n",
    "#    4     20\n",
    "#  1  6  15   170\n",
    "\n",
    "def run():\n",
    "    root = Node(9)\n",
    "    root.insert_nodes([4,6,20,170,15,1], root)\n",
    "    bfs_result = root.bfs(root=root)\n",
    "    dfs_inorder = root.DFSInorder(root)\n",
    "    dfs_preorder = root.DFSPreOrder(root)\n",
    "    dfs_postorder = root.DFSPostOrder(root)\n",
    "    return root, bfs_result, dfs_inorder, dfs_preorder, dfs_postorder"
   ]
  },
  {
   "cell_type": "code",
   "execution_count": 134,
   "id": "f5f1484e",
   "metadata": {},
   "outputs": [],
   "source": [
    "root, bfs_result, dfs_inorder, dfs_preorder, dfs_postorder = run()"
   ]
  },
  {
   "cell_type": "markdown",
   "id": "5828eb91",
   "metadata": {},
   "source": [
    "## 18. Maximum depth of a binary tree"
   ]
  },
  {
   "cell_type": "code",
   "execution_count": 135,
   "id": "3c80e023",
   "metadata": {},
   "outputs": [],
   "source": [
    "# T --> O(N)\n",
    "# S --> O(N), best case --> O(logN) (if tree is balanced)\n",
    "\n",
    "def maxDepth(root):\n",
    "    if not root:\n",
    "        return 0\n",
    "    elif not root.left and not root.right:\n",
    "        return 1\n",
    "    else:\n",
    "        leftHeight = maxDepth(root.left)\n",
    "        rightHeight = maxDepth(root.right)\n",
    "        return max(leftHeight, rightHeight) + 1"
   ]
  },
  {
   "cell_type": "code",
   "execution_count": 136,
   "id": "33ffbaca",
   "metadata": {},
   "outputs": [
    {
     "data": {
      "text/plain": [
       "3"
      ]
     },
     "execution_count": 136,
     "metadata": {},
     "output_type": "execute_result"
    }
   ],
   "source": [
    "maxDepth(root)"
   ]
  },
  {
   "cell_type": "code",
   "execution_count": 139,
   "id": "9c6a87c8",
   "metadata": {},
   "outputs": [],
   "source": [
    "def maxDepth(root):\n",
    "    if not root:\n",
    "        return 0\n",
    "    \n",
    "    if not root.left and not root.right:\n",
    "        return 1\n",
    "    \n",
    "    leftHeight = 0\n",
    "    rightHeight = 0\n",
    "    queue = [root]\n",
    "    \n",
    "    while queue:\n",
    "        currNode = queue.pop(0)\n",
    "        if currNode.left:\n",
    "            queue.append(currNode.left)\n",
    "            leftHeight += 1\n",
    "        \n",
    "        if currNode.right:\n",
    "            queue.append(currNode.right)\n",
    "            rightHeight += 1\n",
    "        \n",
    "    return max(leftHeight, rightHeight)"
   ]
  },
  {
   "cell_type": "code",
   "execution_count": 140,
   "id": "cb9947e0",
   "metadata": {},
   "outputs": [
    {
     "data": {
      "text/plain": [
       "3"
      ]
     },
     "execution_count": 140,
     "metadata": {},
     "output_type": "execute_result"
    }
   ],
   "source": [
    "maxDepth(root)"
   ]
  },
  {
   "cell_type": "markdown",
   "id": "dbccd710",
   "metadata": {},
   "source": [
    "## 19. Level Order of Binary tree"
   ]
  },
  {
   "cell_type": "code",
   "execution_count": 141,
   "id": "5d805680",
   "metadata": {},
   "outputs": [],
   "source": [
    "# 1. Identify level of tree\n",
    "# 2. Inititalize our array\n",
    "# 3. Push array into result\n",
    "\n",
    "# T --> O(n)\n",
    "# S --> O(n)\n",
    "\n",
    "def levelOrderTree(root):\n",
    "    if not root:\n",
    "        return []\n",
    "    \n",
    "    result = []\n",
    "    queue = [root]\n",
    "    \n",
    "    while queue:\n",
    "        queueLength = len(queue)\n",
    "        currentLevelValues = []\n",
    "        counter = 0\n",
    "        \n",
    "        while counter < queueLength:\n",
    "            currNode = queue.pop(0)\n",
    "            currentLevelValues.append(currNode.val)\n",
    "            \n",
    "            if currNode.left:\n",
    "                queue.append(currNode.left)\n",
    "                \n",
    "            if currNode.right:\n",
    "                queue.append(currNode.right)\n",
    "            \n",
    "            counter += 1\n",
    "        \n",
    "        result.append(currentLevelValues)\n",
    "    return result"
   ]
  },
  {
   "cell_type": "code",
   "execution_count": 143,
   "id": "ccdef6a2",
   "metadata": {},
   "outputs": [
    {
     "data": {
      "text/plain": [
       "[[9], [4, 20], [1, 6, 15, 170]]"
      ]
     },
     "execution_count": 143,
     "metadata": {},
     "output_type": "execute_result"
    }
   ],
   "source": [
    "#       9\n",
    "#    4     20\n",
    "#  1  6  15   170\n",
    "\n",
    "levelOrderTree(root)"
   ]
  },
  {
   "cell_type": "markdown",
   "id": "0f927c9a",
   "metadata": {},
   "source": [
    "## 20. Right side view of a binary tree"
   ]
  },
  {
   "cell_type": "code",
   "execution_count": 147,
   "id": "a51e9b43",
   "metadata": {},
   "outputs": [],
   "source": [
    "from collections import deque\n",
    "\n",
    "# We want the last value (right most value) at each level\n",
    "# We need to identify the level as well as the end of the level\n",
    "#       9\n",
    "#    4     20\n",
    "#  1  6  15   170\n",
    "\n",
    "# time --> O(n)\n",
    "# space --> O(n)\n",
    "\n",
    "def rightViewBFS(root):\n",
    "    if not root:\n",
    "        return None\n",
    "    \n",
    "    result = []\n",
    "    queue = deque([root])\n",
    "    \n",
    "    while queue:\n",
    "        queueLength = len(queue)\n",
    "        counter = 0\n",
    "        \n",
    "        while counter < queueLength:\n",
    "            currNode = queue.popleft()\n",
    "            \n",
    "            if currNode.left:\n",
    "                queue.append(currNode.left)\n",
    "                \n",
    "            if currNode.right:\n",
    "                queue.append(currNode.right)\n",
    "                \n",
    "            counter += 1\n",
    "            \n",
    "        result.append(currNode.val)\n",
    "    return result\n",
    "        "
   ]
  },
  {
   "cell_type": "code",
   "execution_count": 148,
   "id": "360fea87",
   "metadata": {},
   "outputs": [
    {
     "data": {
      "text/plain": [
       "[9, 20, 170]"
      ]
     },
     "execution_count": 148,
     "metadata": {},
     "output_type": "execute_result"
    }
   ],
   "source": [
    "rightViewBFS(root)"
   ]
  },
  {
   "cell_type": "code",
   "execution_count": 150,
   "id": "85b57179",
   "metadata": {},
   "outputs": [],
   "source": [
    "# DFS\n",
    "\n",
    "# 1. Prioritize right side first\n",
    "# 2. Keep track of the level\n",
    "# Pre-order - Instead of Node, Left, Right, we will go, NRL\n",
    "# In-order - Instead of LNR, we will go RNL\n",
    "# Post-Order - Instead of LRN, we will go RLN\n",
    "\n",
    "#       9\n",
    "#    4     20\n",
    "#  1  6  15   170\n",
    "\n",
    "# Pre-Order (New) --> [9, 20, 170, 15, 4, 6, 1]\n",
    "# In-order (New) --> [170, 20, 15, 9, 6, 4, 1]\n",
    "# Post-Order (New) --> [170, 15, 20, 6, 1, 4, 9]\n",
    "\n",
    "# Our actual solution --> [9, 20, 170]\n",
    "\n",
    "# So we see that pre-order matches our solution the most\n",
    "\n",
    "# time --> O(n)\n",
    "# space --> O(n)\n",
    "\n",
    "# For BFS, a full and complete tree gives the worst Big O. For DFS, a highly left skewed tree gives the worst\n",
    "# Big O. So if it is skewed, it's better to use BFS and if it is a full and complete tree, it's better to use DFS.\n",
    "# In BFS, the worst O space is O(w), where w is the fattest width of the tree and for DFS, the worst O space is \n",
    "# O(H) where H is the height of the tree\n",
    "\n",
    "def rightViewDFS(root):\n",
    "    result = []\n",
    "    level = 0\n",
    "    return preOrderTravel(root, result, level)\n",
    "    \n",
    "def preOrderTravel(node, result, level):\n",
    "    if not node:\n",
    "        return None\n",
    "    \n",
    "    if level >= len(result):\n",
    "        result.append(node.val)\n",
    "        \n",
    "    if node.right:\n",
    "        return preOrderTravel(node.right, result, level + 1)\n",
    "    \n",
    "    if node.left:\n",
    "        return preOrderTravel(node.left, result, level + 1)\n",
    "    \n",
    "    return result\n",
    "    "
   ]
  },
  {
   "cell_type": "code",
   "execution_count": 151,
   "id": "99ebfe15",
   "metadata": {},
   "outputs": [
    {
     "data": {
      "text/plain": [
       "[9, 20, 170]"
      ]
     },
     "execution_count": 151,
     "metadata": {},
     "output_type": "execute_result"
    }
   ],
   "source": [
    "rightViewDFS(root)"
   ]
  },
  {
   "cell_type": "markdown",
   "id": "8937566d",
   "metadata": {},
   "source": [
    "## 21. Number of nodes in a complete tree"
   ]
  },
  {
   "cell_type": "code",
   "execution_count": 154,
   "id": "2ad3ce37",
   "metadata": {},
   "outputs": [],
   "source": [
    "## Naive solution (Doesn't take advantage of the fact that the tree is a complete one.)\n",
    "## In a complete binary tree every level, except possibly the last, is completely filled,\n",
    "## and all nodes in the last level are as far left as possible.\n",
    "\n",
    "# T --> O(N)\n",
    "# S --> O(logN) worst case --> O(N)\n",
    "def countNodes(root):\n",
    "    if not root:\n",
    "        return 0\n",
    "    else:\n",
    "        return 1 + countNodes(root.left) + countNodes(root.right)"
   ]
  },
  {
   "cell_type": "code",
   "execution_count": 155,
   "id": "2ac3f785",
   "metadata": {},
   "outputs": [
    {
     "data": {
      "text/plain": [
       "7"
      ]
     },
     "execution_count": 155,
     "metadata": {},
     "output_type": "execute_result"
    }
   ],
   "source": [
    "countNodes(root)"
   ]
  },
  {
   "cell_type": "code",
   "execution_count": 178,
   "id": "cfdafcca",
   "metadata": {},
   "outputs": [],
   "source": [
    "# Time --> O(logN)\n",
    "# Space --> O(1)\n",
    "\n",
    "import math\n",
    "\n",
    "def getTreeHeight(node):\n",
    "    height = 0\n",
    "    \n",
    "    while node.left:\n",
    "        height += 1\n",
    "        node = node.left\n",
    "    return height\n",
    "\n",
    "def nodeExists(indexToFind, height, node):\n",
    "    left = 0\n",
    "    right = 2**height - 1\n",
    "    count = 0\n",
    "    \n",
    "    while count < height:\n",
    "        mid = math.ceil((left + right) / 2)\n",
    "        if indexToFind >= mid:\n",
    "            left = mid\n",
    "            node = node.right\n",
    "        else:\n",
    "            right = mid - 1\n",
    "            node = node.left\n",
    "        count += 1\n",
    "    return node is not None\n",
    "\n",
    "def countNodes(root):\n",
    "    if not root:\n",
    "        return 0\n",
    "    \n",
    "    height = getTreeHeight(root)\n",
    "    \n",
    "    if height == 0:\n",
    "        return 1\n",
    "    \n",
    "    upperCount = 2**height - 1\n",
    "    \n",
    "    left = 0\n",
    "    right = upperCount\n",
    "    \n",
    "    while left < right:\n",
    "        indexToFind = math.ceil((left + right) / 2)\n",
    "        if nodeExists(indexToFind, height, root):\n",
    "            left = indexToFind\n",
    "        else:\n",
    "            right = indexToFind - 1\n",
    "    return left + upperCount + 1\n",
    "    \n"
   ]
  },
  {
   "cell_type": "code",
   "execution_count": 179,
   "id": "647fa413",
   "metadata": {},
   "outputs": [
    {
     "data": {
      "text/plain": [
       "7"
      ]
     },
     "execution_count": 179,
     "metadata": {},
     "output_type": "execute_result"
    }
   ],
   "source": [
    "countNodes(root)"
   ]
  },
  {
   "cell_type": "markdown",
   "id": "24cd12e2",
   "metadata": {},
   "source": [
    "## 22. Binary Search Tree"
   ]
  },
  {
   "cell_type": "code",
   "execution_count": 180,
   "id": "87ec63eb",
   "metadata": {},
   "outputs": [],
   "source": [
    "# More easy to understand way\n",
    "\n",
    "# Time --> O(n)\n",
    "# Space --> O(n)\n",
    "\n",
    "def dfs(node, low, high):\n",
    "    if node.val <= low or node.val >= high:\n",
    "        return False\n",
    "    \n",
    "    if node.left:\n",
    "        if not dfs(node.left, low, node.val):\n",
    "            return False\n",
    "        \n",
    "    if node.right:\n",
    "        if not dfs(node.right, node.val, high):\n",
    "            return False\n",
    "        \n",
    "    return True\n",
    "\n",
    "def isValidBST(root):\n",
    "    if not root:\n",
    "        return True\n",
    "    return dfs(root, low=-math.inf, high=math.inf)\n",
    "\n"
   ]
  },
  {
   "cell_type": "code",
   "execution_count": 181,
   "id": "dd982022",
   "metadata": {},
   "outputs": [
    {
     "data": {
      "text/plain": [
       "True"
      ]
     },
     "execution_count": 181,
     "metadata": {},
     "output_type": "execute_result"
    }
   ],
   "source": [
    "isValidBST(root)"
   ]
  },
  {
   "cell_type": "markdown",
   "id": "b48a0407",
   "metadata": {},
   "source": [
    "## 23. Number of Islands"
   ]
  },
  {
   "cell_type": "code",
   "execution_count": 182,
   "id": "b5391534",
   "metadata": {},
   "outputs": [],
   "source": [
    "directions = [[-1, 0], [0, 1], [1, 0], [0, -1]]\n",
    "\n",
    "from collections import deque\n",
    "\n",
    "# T --> O(MxN) --> M and N are no of rows and cols\n",
    "# S --> O(min(M, N)) --> because in worst case where the grid is filled with lands, \n",
    "# the size of queue can grow up to min(M,N).\n",
    "\n",
    "def numIslands(grid):\n",
    "    if len(grid) == 0:\n",
    "        return 0\n",
    "    \n",
    "    islandCount = 0\n",
    "    \n",
    "    for row in range(len(grid)):\n",
    "        for col in range(len(grid[0])):\n",
    "            if grid[row][col] == \"1\":\n",
    "                islandCount += 1\n",
    "                grid[row][col] = \"0\"\n",
    "                \n",
    "                queue = deque([[row, col]])\n",
    "                \n",
    "                while len(queue) > 0:\n",
    "                    currentPos = queue.popleft()\n",
    "                    currentRow = currentPos[0]\n",
    "                    currentCol = currentPos[1]\n",
    "                    \n",
    "                    for i in range(len(directions)):\n",
    "                        direction = directions[i]\n",
    "                        nextRow = currentRow + direction[0]\n",
    "                        nextCol = currentCol + direction[1]\n",
    "                        \n",
    "                        if nextRow < 0 or nextCol < 0 or nextRow >= len(grid) or nextCol >= len(grid[0]):\n",
    "                            continue\n",
    "                        \n",
    "                        if grid[nextRow][nextCol] == \"1\":\n",
    "                            queue.append([nextRow, nextCol])\n",
    "                            grid[nextRow][nextCol] = \"0\"\n",
    "    return islandCount"
   ]
  },
  {
   "cell_type": "code",
   "execution_count": 183,
   "id": "2eed7ac6",
   "metadata": {},
   "outputs": [
    {
     "data": {
      "text/plain": [
       "1"
      ]
     },
     "execution_count": 183,
     "metadata": {},
     "output_type": "execute_result"
    }
   ],
   "source": [
    "grid = [\n",
    "  [\"1\",\"1\",\"1\",\"1\",\"0\"],\n",
    "  [\"1\",\"1\",\"0\",\"1\",\"0\"],\n",
    "  [\"1\",\"1\",\"0\",\"0\",\"0\"],\n",
    "  [\"0\",\"0\",\"0\",\"0\",\"0\"]\n",
    "]\n",
    "\n",
    "numIslands(grid)"
   ]
  },
  {
   "cell_type": "code",
   "execution_count": 188,
   "id": "2524a9de",
   "metadata": {},
   "outputs": [
    {
     "data": {
      "text/plain": [
       "4"
      ]
     },
     "execution_count": 188,
     "metadata": {},
     "output_type": "execute_result"
    }
   ],
   "source": [
    "grid = [\n",
    "    [\"1\",\"1\",\"0\",\"1\",\"1\"],\n",
    "    [\"1\",\"1\",\"0\",\"0\",\"1\"],\n",
    "    [\"0\",\"0\",\"1\",\"0\",\"0\"],\n",
    "    [\"0\",\"0\",\"0\",\"1\",\"1\"]]\n",
    "\n",
    "numIslands(grid)"
   ]
  },
  {
   "cell_type": "markdown",
   "id": "73f6c7c4",
   "metadata": {},
   "source": [
    "## 24. Rotting Oranges"
   ]
  },
  {
   "cell_type": "code",
   "execution_count": 193,
   "id": "e631764e",
   "metadata": {},
   "outputs": [],
   "source": [
    "# T --> O(N x M)\n",
    "# S --> O(N x M)\n",
    "\n",
    "def orangesRotting(grid):\n",
    "    \n",
    "    queue = []\n",
    "    freshOranges = 0\n",
    "    \n",
    "    for row in range(len(grid)):\n",
    "        for col in range(len(grid[0])):\n",
    "            if grid[row][col] == 1:\n",
    "                freshOranges += 1\n",
    "            elif grid[row][col] == 2:\n",
    "                queue.append([row, col])\n",
    "    \n",
    "    queue.append([-1, -1])\n",
    "    minutesElapsed = -1\n",
    "    \n",
    "    directions = [[-1, 0], [0, 1], [1, 0], [0, -1]]\n",
    "    \n",
    "    while queue:\n",
    "        currPos = queue.pop(0)\n",
    "        currRow = currPos[0]\n",
    "        currCol = currPos[1]\n",
    "        \n",
    "        if currRow == -1:\n",
    "            minutesElapsed += 1\n",
    "            if queue:\n",
    "                queue.append([-1, -1])\n",
    "        else:\n",
    "            for i in range(len(directions)):\n",
    "                direction = directions[i]\n",
    "                nextRow = currRow + direction[0]\n",
    "                nextCol = currCol + direction[1]\n",
    "                \n",
    "                if nextRow < 0 or nextCol < 0 or nextRow >= len(grid) or nextCol >= len(grid[0]):\n",
    "                    continue\n",
    "                \n",
    "                if grid[nextRow][nextCol] == 1:\n",
    "                    grid[nextRow][nextCol] = 2\n",
    "                    freshOranges -= 1\n",
    "                    queue.append([nextRow, nextCol])\n",
    "    \n",
    "    if freshOranges == 0:\n",
    "        return minutesElapsed\n",
    "    return -1"
   ]
  },
  {
   "cell_type": "code",
   "execution_count": 194,
   "id": "d3043512",
   "metadata": {},
   "outputs": [
    {
     "data": {
      "text/plain": [
       "4"
      ]
     },
     "execution_count": 194,
     "metadata": {},
     "output_type": "execute_result"
    }
   ],
   "source": [
    "grid = [[2,1,1],[1,1,0],[0,1,1]]\n",
    "\n",
    "orangesRotting(grid)"
   ]
  },
  {
   "cell_type": "code",
   "execution_count": 195,
   "id": "8a570765",
   "metadata": {},
   "outputs": [
    {
     "data": {
      "text/plain": [
       "-1"
      ]
     },
     "execution_count": 195,
     "metadata": {},
     "output_type": "execute_result"
    }
   ],
   "source": [
    "grid = [[2,1,1],[0,1,1],[1,0,1]]\n",
    "\n",
    "orangesRotting(grid)"
   ]
  },
  {
   "cell_type": "markdown",
   "id": "01cdee40",
   "metadata": {},
   "source": [
    "## 25. Walls and Gates"
   ]
  },
  {
   "cell_type": "code",
   "execution_count": 196,
   "id": "a54ec432",
   "metadata": {},
   "outputs": [],
   "source": [
    "# time --> O(m x n)\n",
    "# space --> O(m x n)\n",
    "\n",
    "directions = [[-1, 0], [0, 1], [1, 0], [0, -1]]\n",
    "\n",
    "def wallsAndGates(matrix):\n",
    "    WALL = -1\n",
    "    GATE = 0\n",
    "    EMPTY = 2147483647\n",
    "    \n",
    "    for row in range(len(matrix)):\n",
    "        for col in range(len(matrix[0])):\n",
    "            if matrix[row][col] == GATE:\n",
    "                dfs(matrix, row, col, 0)\n",
    "                \n",
    "def dfs(matrix, row, col, currentStep):\n",
    "    if row < 0 or col < 0 or row >= len(matrix) or col >= len(matrix[0]) or currentStep > matrix[row][col]:\n",
    "        return\n",
    "    \n",
    "    if matrix[row][col] == -1:\n",
    "        return \n",
    "    \n",
    "    matrix[row][col] = currentStep\n",
    "    \n",
    "    for i in range(len(directions)):\n",
    "        currentDir = directions[i]\n",
    "        dfs(matrix, row + currentDir[0], col + currentDir[1], currentStep + 1)\n",
    "                "
   ]
  },
  {
   "cell_type": "code",
   "execution_count": 197,
   "id": "d421b5e6",
   "metadata": {},
   "outputs": [
    {
     "data": {
      "text/plain": [
       "[[3, -1, 0, 1], [2, 2, 1, -1], [1, -1, 2, -1], [0, -1, 3, 4]]"
      ]
     },
     "execution_count": 197,
     "metadata": {},
     "output_type": "execute_result"
    }
   ],
   "source": [
    "rooms = [[2147483647,-1,0,2147483647],\n",
    "         [2147483647,2147483647,2147483647,-1],\n",
    "         [2147483647,-1,2147483647,-1],\n",
    "         [0,-1,2147483647,2147483647]]\n",
    "\n",
    "wallsAndGates(rooms)\n",
    "rooms"
   ]
  },
  {
   "cell_type": "markdown",
   "id": "86cfaeae",
   "metadata": {},
   "source": [
    "## 26. Time needed to inform all employees"
   ]
  },
  {
   "cell_type": "code",
   "execution_count": 202,
   "id": "3b38c5eb",
   "metadata": {},
   "outputs": [],
   "source": [
    "n = 8\n",
    "headID = 4\n",
    "manager = [2,2,4,6,-1,4,4,5]\n",
    "informTime = [0,0,4,0,7,3,5,0]\n",
    "\n",
    "#      4\n",
    "#    / | \\\n",
    "#   2  5 6\n",
    "#  /\\  |  \\\n",
    "# 0 1  7  3\n",
    "\n",
    "# So adj_list will be\n",
    "# adj_list = [[], [], [0,1], [], [2,5,6], [7], [3], []]\n",
    "\n",
    "# time --> O(n)\n",
    "# space --> O(n)\n",
    "\n",
    "\n",
    "def numMinutes(n, headID, manager, informTime):\n",
    "    adjList = defaultdict(list)\n",
    "    \n",
    "    for i in range(len(manager)):\n",
    "        if manager[i] == -1:\n",
    "            continue\n",
    "        adjList[manager[i]].append(i)\n",
    "    return dfs(headID, adjList, informTime)\n",
    "\n",
    "def dfs(currId, adjList, informTime):\n",
    "    if len(adjList[currId]) == 0:\n",
    "        return 0\n",
    "    \n",
    "    time = 0\n",
    "    \n",
    "    subordinates = adjList[currId]\n",
    "    \n",
    "    for i in range(len(subordinates)):\n",
    "        subordinate = subordinates[i]\n",
    "        time = max(time, dfs(subordinate, adjList, informTime))\n",
    "        \n",
    "    return time + informTime[currId]"
   ]
  },
  {
   "cell_type": "code",
   "execution_count": 203,
   "id": "29191d51",
   "metadata": {},
   "outputs": [
    {
     "data": {
      "text/plain": [
       "12"
      ]
     },
     "execution_count": 203,
     "metadata": {},
     "output_type": "execute_result"
    }
   ],
   "source": [
    "numMinutes(n, headID, manager, informTime)"
   ]
  },
  {
   "cell_type": "markdown",
   "id": "6e01e7a3",
   "metadata": {},
   "source": [
    "## 27. Course Scheduler"
   ]
  },
  {
   "cell_type": "code",
   "execution_count": 204,
   "id": "d7147156",
   "metadata": {},
   "outputs": [],
   "source": [
    "def canFinishTopological(numCourses, prerequisites):\n",
    "    adjList = [[] for _ in range(numCourses)]\n",
    "    \n",
    "    inDegrees = [0] * numCourses\n",
    "    \n",
    "    for i in range(len(prerequisites)):\n",
    "        pair = prerequisites[i]\n",
    "        adjList[pair[1]].append(pair[0])\n",
    "        inDegrees[pair[0]] += 1\n",
    "        \n",
    "    stack = []\n",
    "    count = 0\n",
    "    \n",
    "    for i in range(len(inDegrees)):\n",
    "        if inDegrees[i] == 0:\n",
    "            stack.append(i)\n",
    "            \n",
    "    while stack:\n",
    "        currNode = stack.pop()\n",
    "        count += 1\n",
    "        \n",
    "        adjacent = adjList[currNode]\n",
    "        \n",
    "        for i in range(len(adjacent)):\n",
    "            nextNode = adjacent[i]\n",
    "            inDegrees[nextNode] -= 1\n",
    "            if inDegrees[nextNode] == 0:\n",
    "                stack.append(nextNode)\n",
    "    return count == numCourses"
   ]
  },
  {
   "cell_type": "code",
   "execution_count": 205,
   "id": "e7e99eb0",
   "metadata": {},
   "outputs": [
    {
     "data": {
      "text/plain": [
       "True"
      ]
     },
     "execution_count": 205,
     "metadata": {},
     "output_type": "execute_result"
    }
   ],
   "source": [
    "numCourses = 6\n",
    "prerequisites = [[1,0], [2,1], [2,5], [0,3], [4,3], [3,5], [4,5]]\n",
    "canFinishTopological(numCourses, prerequisites)"
   ]
  },
  {
   "cell_type": "code",
   "execution_count": 206,
   "id": "6726c662",
   "metadata": {},
   "outputs": [
    {
     "data": {
      "text/plain": [
       "False"
      ]
     },
     "execution_count": 206,
     "metadata": {},
     "output_type": "execute_result"
    }
   ],
   "source": [
    "numCourses = 2\n",
    "prerequisites = [[1,0],[0,1]]\n",
    "canFinishTopological(numCourses, prerequisites)"
   ]
  },
  {
   "cell_type": "markdown",
   "id": "d600afbe",
   "metadata": {},
   "source": [
    "## 28. Network Time Delay"
   ]
  },
  {
   "cell_type": "code",
   "execution_count": 207,
   "id": "5420fcf7",
   "metadata": {},
   "outputs": [],
   "source": [
    "import heapq\n",
    "\n",
    "# There are E different updates that can happen.\n",
    "# Every time we update, we are just reshuffling the heap.\n",
    "# The heap is going to be of size N. \n",
    "# Whenever we shuffle, it runs in logN.\n",
    "# So ElogN\n",
    "# Also there are N removals that can happen.\n",
    "# So for removal --> NlogN\n",
    "# So T --> O(ElogN + NlogN)\n",
    "# But E is always larger than N.\n",
    "# So we can say T --> ELogN\n",
    "\n",
    "# Size\n",
    "# Adj List --> O(E)\n",
    "# Priority queue --> O(N)\n",
    "# So Space --> O(E+N)\n",
    "\n",
    "def networkDelayTime(times, n, k):\n",
    "    elapsedTime = [0] + [float(\"inf\")] * n\n",
    "    graph = defaultdict(list)\n",
    "    heap = [(0, k)]\n",
    "    \n",
    "    for i in range(len(times)):\n",
    "        source = times[i][0]\n",
    "        target = times[i][1]\n",
    "        weight = times[i][2]\n",
    "        graph[source].append((target, weight))\n",
    "        \n",
    "    while heap:\n",
    "        currTime, currNode = heapq.heappop(heap)\n",
    "        if currTime < elapsedTime[currNode]:\n",
    "            elapsedTime[currNode] = currTime\n",
    "            for target, time in graph[currNode]:\n",
    "                heapq.heappush(heap, (currTime + time, target))\n",
    "    mx = max(elapsedTime)\n",
    "    return mx if mx < float(\"inf\") else -1\n",
    "    "
   ]
  },
  {
   "cell_type": "code",
   "execution_count": 208,
   "id": "543c9832",
   "metadata": {},
   "outputs": [
    {
     "data": {
      "text/plain": [
       "2"
      ]
     },
     "execution_count": 208,
     "metadata": {},
     "output_type": "execute_result"
    }
   ],
   "source": [
    "times = [[2,1,1],[2,3,1],[3,4,1]]\n",
    "n = 4\n",
    "k = 2\n",
    "\n",
    "networkDelayTime(times, n, k)"
   ]
  },
  {
   "cell_type": "code",
   "execution_count": 209,
   "id": "0d925083",
   "metadata": {},
   "outputs": [
    {
     "data": {
      "text/plain": [
       "14"
      ]
     },
     "execution_count": 209,
     "metadata": {},
     "output_type": "execute_result"
    }
   ],
   "source": [
    "times = [[1,2,9],[1,4,2],[2,5,1],[4,2,4],[4,5,6],[3,2,3],[5,3,7],[3,1,5]]\n",
    "n = 5\n",
    "k = 1\n",
    "\n",
    "networkDelayTime(times, n, k)"
   ]
  },
  {
   "cell_type": "code",
   "execution_count": 210,
   "id": "f5f36715",
   "metadata": {},
   "outputs": [
    {
     "data": {
      "text/plain": [
       "-1"
      ]
     },
     "execution_count": 210,
     "metadata": {},
     "output_type": "execute_result"
    }
   ],
   "source": [
    "times = [[1,2,1]]\n",
    "n = 2\n",
    "k = 2\n",
    "\n",
    "networkDelayTime(times, n, k)"
   ]
  },
  {
   "cell_type": "code",
   "execution_count": null,
   "id": "22f78273",
   "metadata": {},
   "outputs": [],
   "source": []
  }
 ],
 "metadata": {
  "kernelspec": {
   "display_name": "Python 3 (ipykernel)",
   "language": "python",
   "name": "python3"
  },
  "language_info": {
   "codemirror_mode": {
    "name": "ipython",
    "version": 3
   },
   "file_extension": ".py",
   "mimetype": "text/x-python",
   "name": "python",
   "nbconvert_exporter": "python",
   "pygments_lexer": "ipython3",
   "version": "3.11.4"
  }
 },
 "nbformat": 4,
 "nbformat_minor": 5
}
