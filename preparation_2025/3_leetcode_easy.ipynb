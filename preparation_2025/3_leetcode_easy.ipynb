{
 "cells": [
  {
   "cell_type": "markdown",
   "id": "3e8995ce",
   "metadata": {},
   "source": [
    "## 1. Sqrt x"
   ]
  },
  {
   "cell_type": "code",
   "execution_count": 27,
   "id": "31d87f93",
   "metadata": {},
   "outputs": [],
   "source": [
    "import math\n",
    "\n",
    "def mySqrt(x: int) -> int:\n",
    "    if x < 2:\n",
    "        return 1\n",
    "    \n",
    "    left = 0\n",
    "    right = x // 2\n",
    "    \n",
    "    return binarySearch(x, left, right)\n",
    "\n",
    "def binarySearch(target, left , right):\n",
    "    while left <= right:\n",
    "        mid = math.floor((left + right) / 2)\n",
    "        print(left, right, mid)\n",
    "        if mid * mid == target:\n",
    "            return mid\n",
    "        elif mid * mid < target:\n",
    "            left = mid + 1\n",
    "        else:\n",
    "            right = mid - 1\n",
    "    return right\n",
    "\n",
    "# We are returning right, because in the last loop, the left will become from 3 to 4. But right will stay at 3. "
   ]
  },
  {
   "cell_type": "code",
   "execution_count": 32,
   "id": "4cd429a0",
   "metadata": {},
   "outputs": [
    {
     "name": "stdout",
     "output_type": "stream",
     "text": [
      "0 12 6\n",
      "0 5 2\n",
      "3 5 4\n",
      "5 5 5\n"
     ]
    },
    {
     "data": {
      "text/plain": [
       "5"
      ]
     },
     "execution_count": 32,
     "metadata": {},
     "output_type": "execute_result"
    }
   ],
   "source": [
    "mySqrt(25)"
   ]
  },
  {
   "cell_type": "code",
   "execution_count": 33,
   "id": "299165ad",
   "metadata": {},
   "outputs": [
    {
     "name": "stdout",
     "output_type": "stream",
     "text": [
      "0 5 2\n",
      "3 5 4\n",
      "3 3 3\n"
     ]
    },
    {
     "data": {
      "text/plain": [
       "3"
      ]
     },
     "execution_count": 33,
     "metadata": {},
     "output_type": "execute_result"
    }
   ],
   "source": [
    "mySqrt(11)"
   ]
  },
  {
   "cell_type": "markdown",
   "id": "1de18320",
   "metadata": {},
   "source": [
    "## 2. Search Insert Position\n",
    "\n"
   ]
  },
  {
   "cell_type": "code",
   "execution_count": 46,
   "id": "0e9c3634",
   "metadata": {},
   "outputs": [],
   "source": [
    "import math\n",
    "def searchInsert(nums, target):\n",
    "    return binarySearch(nums, 0, len(nums) - 1, target)\n",
    "\n",
    "def binarySearch(nums, left, right, target):\n",
    "    while left <= right:\n",
    "        mid = math.floor((left + right) / 2)\n",
    "        print(left, right, mid)\n",
    "        if nums[mid] == target:\n",
    "            return mid\n",
    "        elif nums[mid] < target:\n",
    "            left = mid + 1\n",
    "        else:\n",
    "            right = mid - 1\n",
    "    return left"
   ]
  },
  {
   "cell_type": "code",
   "execution_count": 49,
   "id": "115e7025",
   "metadata": {},
   "outputs": [
    {
     "name": "stdout",
     "output_type": "stream",
     "text": [
      "0 3 1\n",
      "2 3 2\n"
     ]
    },
    {
     "data": {
      "text/plain": [
       "2"
      ]
     },
     "execution_count": 49,
     "metadata": {},
     "output_type": "execute_result"
    }
   ],
   "source": [
    "nums = [1,3,5,6]\n",
    "target = 4\n",
    "\n",
    "searchInsert(nums, target)"
   ]
  },
  {
   "cell_type": "code",
   "execution_count": 43,
   "id": "16231ef6",
   "metadata": {},
   "outputs": [
    {
     "data": {
      "text/plain": [
       "0"
      ]
     },
     "execution_count": 43,
     "metadata": {},
     "output_type": "execute_result"
    }
   ],
   "source": [
    "nums = []\n",
    "target = 4\n",
    "\n",
    "searchInsert(nums, target)"
   ]
  },
  {
   "cell_type": "code",
   "execution_count": null,
   "id": "d87a90a7",
   "metadata": {},
   "outputs": [],
   "source": []
  }
 ],
 "metadata": {
  "kernelspec": {
   "display_name": "Python 3 (ipykernel)",
   "language": "python",
   "name": "python3"
  },
  "language_info": {
   "codemirror_mode": {
    "name": "ipython",
    "version": 3
   },
   "file_extension": ".py",
   "mimetype": "text/x-python",
   "name": "python",
   "nbconvert_exporter": "python",
   "pygments_lexer": "ipython3",
   "version": "3.11.4"
  }
 },
 "nbformat": 4,
 "nbformat_minor": 5
}
