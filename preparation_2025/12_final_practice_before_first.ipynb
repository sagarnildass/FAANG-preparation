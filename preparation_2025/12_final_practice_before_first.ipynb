{
 "cells": [
  {
   "cell_type": "markdown",
   "id": "49212849",
   "metadata": {},
   "source": [
    "## 1. Min Remove to make valid parenthesis"
   ]
  },
  {
   "cell_type": "code",
   "execution_count": 1,
   "id": "7bfef664",
   "metadata": {},
   "outputs": [],
   "source": [
    "def minRemove(s):\n",
    "    stack = []\n",
    "    indices_to_remove = set()\n",
    "    \n",
    "    for i in range(len(s)):\n",
    "        if s[i] not in '()':\n",
    "            continue\n",
    "        elif s[i] == '(':\n",
    "            stack.append(i)\n",
    "        elif not stack:\n",
    "            indices_to_remove.add(i)\n",
    "        else:\n",
    "            stack.pop()\n",
    "            \n",
    "    indices_to_remove = indices_to_remove.union(set(stack))\n",
    "    string_builder = []\n",
    "    \n",
    "    for i in range(len(s)):\n",
    "        if i not in indices_to_remove:\n",
    "            string_builder.append(s[i])\n",
    "    \n",
    "    return \"\".join(string_builder)"
   ]
  },
  {
   "cell_type": "code",
   "execution_count": 3,
   "id": "4d4218db",
   "metadata": {},
   "outputs": [
    {
     "data": {
      "text/plain": [
       "'lee(t(c)o)de'"
      ]
     },
     "execution_count": 3,
     "metadata": {},
     "output_type": "execute_result"
    }
   ],
   "source": [
    "s = \"lee(t(c)o)de)\"\n",
    "minRemove(s)"
   ]
  },
  {
   "cell_type": "markdown",
   "id": "9b43555f",
   "metadata": {},
   "source": [
    "## 2. Valid word abbreviation"
   ]
  },
  {
   "cell_type": "code",
   "execution_count": 4,
   "id": "c5fcce31",
   "metadata": {},
   "outputs": [],
   "source": [
    "def validWordAbbr(word, abbr):\n",
    "    word_ptr = 0\n",
    "    abbr_ptr = 0\n",
    "    \n",
    "    while word_ptr < len(word) and abbr_ptr < len(abbr):\n",
    "        if abbr[abbr_ptr].isdigit():\n",
    "            if abbr[abbr_ptr] == '0':\n",
    "                return False\n",
    "            \n",
    "            num = 0\n",
    "            \n",
    "            while abbr[abbr_ptr].isdigit() and abbr_ptr < len(abbr):\n",
    "                num = num * 10 + int(abbr[abbr_ptr])\n",
    "                abbr_ptr += 1\n",
    "            \n",
    "            word_ptr += num\n",
    "            \n",
    "        else:\n",
    "            if word_ptr >= len(word) or word[word_ptr] != abbr[abbr_ptr]:\n",
    "                return False\n",
    "            \n",
    "            word_ptr += 1\n",
    "            abbr_ptr += 1\n",
    "    return word_ptr == len(word) and abbr_ptr == len(abbr)"
   ]
  },
  {
   "cell_type": "code",
   "execution_count": 9,
   "id": "27450112",
   "metadata": {},
   "outputs": [
    {
     "data": {
      "text/plain": [
       "True"
      ]
     },
     "execution_count": 9,
     "metadata": {},
     "output_type": "execute_result"
    }
   ],
   "source": [
    "word = \"internationalization\"\n",
    "abbr = \"i12iz4n\"\n",
    "validWordAbbr(word, abbr)"
   ]
  },
  {
   "cell_type": "markdown",
   "id": "509db936",
   "metadata": {},
   "source": [
    "## 3. Valid Palindrome II"
   ]
  },
  {
   "cell_type": "code",
   "execution_count": 10,
   "id": "1d43426b",
   "metadata": {},
   "outputs": [],
   "source": [
    "def almostPalindrome(s):\n",
    "    if len(s) <= 2:\n",
    "        return True\n",
    "    \n",
    "    def checkPalindrome(s, left, right):\n",
    "        while left < right:\n",
    "            if s[left] != s[right]:\n",
    "                return False\n",
    "            left += 1\n",
    "            right -= 1\n",
    "        return True\n",
    "    \n",
    "    left = 0\n",
    "    right = len(s) - 1\n",
    "    \n",
    "    while left < right:\n",
    "        if s[left] != s[right]:\n",
    "            return checkPalindrome(s, left + 1, right) or checkPalindrome(s, left, right - 1)\n",
    "        \n",
    "        left += 1\n",
    "        right -= 1\n",
    "    return True"
   ]
  },
  {
   "cell_type": "code",
   "execution_count": 14,
   "id": "bb6ce77e",
   "metadata": {},
   "outputs": [
    {
     "data": {
      "text/plain": [
       "True"
      ]
     },
     "execution_count": 14,
     "metadata": {},
     "output_type": "execute_result"
    }
   ],
   "source": [
    "s = \"abac\"\n",
    "almostPalindrome(s)"
   ]
  },
  {
   "cell_type": "code",
   "execution_count": 15,
   "id": "0f24e0b4",
   "metadata": {},
   "outputs": [],
   "source": [
    "class Node:\n",
    "    def __init__(self, val: int):\n",
    "        self.left = None\n",
    "        self.right = None\n",
    "        self.val = val\n",
    "\n",
    "    def __repr__(self):\n",
    "        return str(self.val)\n",
    "\n",
    "    def insert_node(self, val):\n",
    "        if self.val is not None:\n",
    "            if val < self.val:\n",
    "                if self.left is None:\n",
    "                    self.left = Node(val)\n",
    "                else:\n",
    "                    self.left.insert_node(val)\n",
    "            elif val > self.val:\n",
    "                if self.right is None:\n",
    "                    self.right = Node(val)\n",
    "                else:\n",
    "                    self.right.insert_node(val)\n",
    "\n",
    "    @staticmethod\n",
    "    def insert_nodes(vals: list, root):\n",
    "        for i in vals:\n",
    "            root.insert_node(i)\n",
    "\n",
    "    def bfs(self, root=None):\n",
    "        if root is None:\n",
    "            return\n",
    "        result = []\n",
    "        queue = [root]\n",
    "\n",
    "        while len(queue) > 0:\n",
    "            cur_node = queue.pop(0)\n",
    "            result.append(cur_node.val)\n",
    "            if cur_node.left is not None:\n",
    "                queue.append(cur_node.left)\n",
    "\n",
    "            if cur_node.right is not None:\n",
    "                queue.append(cur_node.right)\n",
    "\n",
    "            #print(queue)\n",
    "        return result\n",
    "    \n",
    "    def DFSInorder(self, root=None):\n",
    "        return self.traverseInOrder(root, [])\n",
    "    \n",
    "    def DFSPostOrder(self, root=None):\n",
    "        return self.traversePostOrder(root, [])\n",
    "    \n",
    "    def DFSPreOrder(self, root=None):\n",
    "        return self.traversePreOrder(root, [])\n",
    "    \n",
    "    def traverseInOrder(self, node, data):\n",
    "        if node.left is not None:\n",
    "            node.traverseInOrder(node.left, data)\n",
    "        data.append(node.val)\n",
    "        \n",
    "        if node.right is not None:\n",
    "            node.traverseInOrder(node.right, data)\n",
    "        #print(data)\n",
    "        return data\n",
    "    \n",
    "    def traversePostOrder(self, node, data):\n",
    "        \n",
    "        if node.left is not None:\n",
    "            node.traversePostOrder(node.left, data)\n",
    "              \n",
    "        if node.right is not None:\n",
    "            node.traversePostOrder(node.right, data)\n",
    "        #print(data)\n",
    "        data.append(node.val)\n",
    "        return data\n",
    "    \n",
    "    def traversePreOrder(self, node, data):\n",
    "        data.append(node.val)\n",
    "        if node.left is not None:\n",
    "            node.traversePreOrder(node.left, data)\n",
    "        \n",
    "        \n",
    "        if node.right is not None:\n",
    "            node.traversePreOrder(node.right, data)\n",
    "        #print(data)\n",
    "        return data\n",
    "    \n",
    "    \n",
    "#       9\n",
    "#    4     20\n",
    "#  1  6  15   170\n",
    "\n",
    "def run():\n",
    "    root = Node(9)\n",
    "    root.insert_nodes([4,6,20,170,15,1], root)\n",
    "    bfs_result = root.bfs(root=root)\n",
    "    dfs_inorder = root.DFSInorder(root)\n",
    "    dfs_preorder = root.DFSPreOrder(root)\n",
    "    dfs_postorder = root.DFSPostOrder(root)\n",
    "    return root, bfs_result, dfs_inorder, dfs_preorder, dfs_postorder\n",
    "\n",
    "root, bfs_result, dfs_inorder, dfs_preorder, dfs_postorder = run()"
   ]
  },
  {
   "cell_type": "markdown",
   "id": "82ddf70f",
   "metadata": {},
   "source": [
    "## 4. Binary Tree Vertical order traversal"
   ]
  },
  {
   "cell_type": "code",
   "execution_count": 16,
   "id": "95ccb92b",
   "metadata": {},
   "outputs": [],
   "source": [
    "from collections import defaultdict\n",
    "def verticalOrder(root):\n",
    "    if not root:\n",
    "        return []\n",
    "    \n",
    "    column_table = defaultdict(list)\n",
    "    min_col = 0\n",
    "    max_col = 0\n",
    "    \n",
    "    queue = [[root, 0]]\n",
    "    \n",
    "    while queue:\n",
    "        curr_node, curr_col = queue.pop(0)\n",
    "        \n",
    "        if curr_node:\n",
    "            column_table[curr_col].append(curr_node.val)\n",
    "            min_col = min(min_col, curr_col)\n",
    "            max_col = max(max_col, curr_col)\n",
    "            \n",
    "            queue.append([curr_node.left, curr_col - 1])\n",
    "            queue.append([curr_node.right, curr_col + 1])\n",
    "            \n",
    "    return [column_table[x] for x in range(min_col, max_col + 1)]"
   ]
  },
  {
   "cell_type": "code",
   "execution_count": 18,
   "id": "d5b89c15",
   "metadata": {},
   "outputs": [
    {
     "data": {
      "text/plain": [
       "[[1], [4], [9, 6, 15], [20], [170]]"
      ]
     },
     "execution_count": 18,
     "metadata": {},
     "output_type": "execute_result"
    }
   ],
   "source": [
    "verticalOrder(root)"
   ]
  },
  {
   "cell_type": "markdown",
   "id": "73bcc680",
   "metadata": {},
   "source": [
    "## 5. Kth Largest Element in an array"
   ]
  },
  {
   "cell_type": "code",
   "execution_count": 19,
   "id": "6fd4e8e7",
   "metadata": {},
   "outputs": [],
   "source": [
    "def kthLargest(nums, k):\n",
    "    index_to_find = len(nums) - k\n",
    "    left = 0\n",
    "    right = len(nums) - 1\n",
    "    return quick_select(nums, left, right, index_to_find)\n",
    "\n",
    "def quick_select(nums, left, right, index_to_find):\n",
    "    if left == right:\n",
    "        return nums[left]\n",
    "    \n",
    "    if left < right:\n",
    "        partition_index = partition(nums, left, right)\n",
    "        \n",
    "        if partition_index == index_to_find:\n",
    "            return nums[partition_index]\n",
    "        elif partition_index < index_to_find:\n",
    "            return quick_select(nums, partition_index + 1, right, index_to_find)\n",
    "        else:\n",
    "            return quick_select(nums, left, partition_index - 1, index_to_find)\n",
    "\n",
    "def partition(nums, left, right):\n",
    "    partition_index = left\n",
    "    pivot_element = nums[right]\n",
    "    \n",
    "    for j in range(left, right):\n",
    "        if nums[j] <= pivot_element:\n",
    "            nums[j], nums[partition_index] = nums[partition_index], nums[j]\n",
    "            partition_index += 1\n",
    "    nums[right], nums[partition_index] = nums[partition_index], nums[right]\n",
    "    return partition_index"
   ]
  },
  {
   "cell_type": "code",
   "execution_count": 20,
   "id": "24c19b97",
   "metadata": {},
   "outputs": [
    {
     "data": {
      "text/plain": [
       "5"
      ]
     },
     "execution_count": 20,
     "metadata": {},
     "output_type": "execute_result"
    }
   ],
   "source": [
    "kthLargest([5,6,1,4,8,3],3)"
   ]
  },
  {
   "cell_type": "markdown",
   "id": "a9fe3024",
   "metadata": {},
   "source": [
    "## 6. Basic Calculator"
   ]
  },
  {
   "cell_type": "code",
   "execution_count": 21,
   "id": "ec657def",
   "metadata": {},
   "outputs": [],
   "source": [
    "def calculator(s):\n",
    "    if len(s) == 0:\n",
    "        return 0\n",
    "    \n",
    "    current_number = 0\n",
    "    last_number = 0\n",
    "    result = 0\n",
    "    sign = '+'\n",
    "    \n",
    "    for i in range(len(s)):\n",
    "        current_char = s[i]\n",
    "        \n",
    "        if current_char.isdigit():\n",
    "            current_number = current_number * 10 + int(current_char)\n",
    "        \n",
    "        if (not current_char.isdigit() and not current_char.isspace()) or i == len(s) - 1:\n",
    "            if sign == '+' or sign == '-':\n",
    "                result += last_number\n",
    "                last_number = current_number if sign == '+' else -current_number\n",
    "            elif sign == '*':\n",
    "                last_number *= current_number\n",
    "            elif sign == '/':\n",
    "                last_number = int(last_number / current_number)\n",
    "            \n",
    "            sign = current_char\n",
    "            current_number = 0\n",
    "    result += last_number\n",
    "    return result"
   ]
  },
  {
   "cell_type": "code",
   "execution_count": 22,
   "id": "edd86a07",
   "metadata": {},
   "outputs": [
    {
     "data": {
      "text/plain": [
       "7"
      ]
     },
     "execution_count": 22,
     "metadata": {},
     "output_type": "execute_result"
    }
   ],
   "source": [
    "s = \"3+2*2\"\n",
    "calculator(s)"
   ]
  },
  {
   "cell_type": "markdown",
   "id": "a725725b",
   "metadata": {},
   "source": [
    "## 7. Lowest Common Ancestor of a binary tree"
   ]
  },
  {
   "cell_type": "code",
   "execution_count": 24,
   "id": "756befb8",
   "metadata": {},
   "outputs": [],
   "source": [
    "def lowestCommonAncestor(p, q):\n",
    "    p1 = p\n",
    "    p2 = q\n",
    "    \n",
    "    while p1 != p2:\n",
    "        p1 = p1.parent if p1 else q\n",
    "        p2 = p2.parent if p2 else p\n",
    "    \n",
    "    return p1"
   ]
  },
  {
   "cell_type": "markdown",
   "id": "feb5120e",
   "metadata": {},
   "source": [
    "## 8. Lowest Common Ancestor of binary tree"
   ]
  },
  {
   "cell_type": "code",
   "execution_count": 25,
   "id": "34441229",
   "metadata": {},
   "outputs": [],
   "source": [
    "def lowestCommonAncestor(root, p, q):\n",
    "    if not root:\n",
    "        return None\n",
    "    \n",
    "    left_res = lowestCommonAncestor(root.left, p, q)\n",
    "    right_res = lowestCommonAncestor(root.right, p, q)\n",
    "    \n",
    "    if (left_res and right_res) or (root in [p, q]):\n",
    "        return root\n",
    "    return left_res or right_res"
   ]
  },
  {
   "cell_type": "markdown",
   "id": "02947c63",
   "metadata": {},
   "source": [
    "## 9. Pow(x, n)"
   ]
  },
  {
   "cell_type": "code",
   "execution_count": 26,
   "id": "acacbd56",
   "metadata": {},
   "outputs": [],
   "source": [
    "def myPow(x, n):\n",
    "    if n == 0:\n",
    "        return 1\n",
    "    \n",
    "    if n < 0:\n",
    "        return 1/myPow(x, -n)\n",
    "    \n",
    "    half = myPow(x, n // 2)\n",
    "    \n",
    "    if n % 2 == 0:\n",
    "        return half * half\n",
    "    else:\n",
    "        return half * half * x"
   ]
  },
  {
   "cell_type": "code",
   "execution_count": 29,
   "id": "dc48d099",
   "metadata": {},
   "outputs": [
    {
     "data": {
      "text/plain": [
       "512.0"
      ]
     },
     "execution_count": 29,
     "metadata": {},
     "output_type": "execute_result"
    }
   ],
   "source": [
    "x = 2.00000\n",
    "n = 9\n",
    "\n",
    "myPow(x, n)"
   ]
  },
  {
   "cell_type": "markdown",
   "id": "a1587f16",
   "metadata": {},
   "source": [
    "## 10. Simplify path"
   ]
  },
  {
   "cell_type": "code",
   "execution_count": 30,
   "id": "b5729b58",
   "metadata": {},
   "outputs": [],
   "source": [
    "def simplifyPath(path):\n",
    "    stack = []\n",
    "    \n",
    "    for portion in path.split('/'):\n",
    "        if portion == '.' or not portion:\n",
    "            continue\n",
    "        elif portion == '..':\n",
    "            if len(stack) > 0:\n",
    "                stack.pop()\n",
    "        else:\n",
    "            stack.append(portion)\n",
    "    \n",
    "    return \"/\" + \"/\".join(stack)"
   ]
  },
  {
   "cell_type": "code",
   "execution_count": 31,
   "id": "a438c771",
   "metadata": {},
   "outputs": [
    {
     "data": {
      "text/plain": [
       "'/home/user/Pictures'"
      ]
     },
     "execution_count": 31,
     "metadata": {},
     "output_type": "execute_result"
    }
   ],
   "source": [
    "path = \"/home/user/Documents/../Pictures\"\n",
    "simplifyPath(path)"
   ]
  },
  {
   "cell_type": "markdown",
   "id": "1ac6a8a7",
   "metadata": {},
   "source": [
    "## 11. Shortest Path in binary matrix"
   ]
  },
  {
   "cell_type": "code",
   "execution_count": 34,
   "id": "8264ad57",
   "metadata": {},
   "outputs": [],
   "source": [
    "def shortestPath(mat):\n",
    "    if len(mat) == 0 or mat[0][0] != 0 or mat[-1][-1] != 0:\n",
    "        return -1\n",
    "    \n",
    "    \n",
    "    queue = [[0, 0, 1]]\n",
    "    mat[0][0] = 1\n",
    "    \n",
    "    directions = [[-1, 0], [-1, 1], [0, 1], [1, 1], [1, 0], [1, -1], [0, -1], [-1, -1]]\n",
    "    \n",
    "    while queue:\n",
    "        curr_row, curr_col, path_sum = queue.pop(0)\n",
    "        \n",
    "        if curr_row == len(mat) - 1 and curr_col == len(mat[0]) - 1:\n",
    "            return path_sum\n",
    "        \n",
    "        for i in range(len(directions)):\n",
    "            direction = directions[i]\n",
    "            \n",
    "            next_row, next_col = curr_row + direction[0], curr_col + direction[1]\n",
    "            \n",
    "            if next_row < 0 or next_col < 0 or next_row >= len(mat) or next_col >= len(mat[0]) or mat[next_row][next_col] == 1:\n",
    "                continue\n",
    "            \n",
    "            if mat[next_row][next_col] == 0:\n",
    "                mat[next_row][next_col] = 1\n",
    "                queue.append([next_row, next_col, path_sum + 1])\n",
    "    return -1"
   ]
  },
  {
   "cell_type": "code",
   "execution_count": 35,
   "id": "978174f8",
   "metadata": {},
   "outputs": [
    {
     "data": {
      "text/plain": [
       "4"
      ]
     },
     "execution_count": 35,
     "metadata": {},
     "output_type": "execute_result"
    }
   ],
   "source": [
    "grid = [[0,0,0],[1,1,0],[1,1,0]]\n",
    "shortestPath(grid)"
   ]
  },
  {
   "cell_type": "markdown",
   "id": "5ddbd8fc",
   "metadata": {},
   "source": [
    "## 12. Dot product of two sparse vectors"
   ]
  },
  {
   "cell_type": "code",
   "execution_count": 36,
   "id": "708576c1",
   "metadata": {},
   "outputs": [],
   "source": [
    "class SparseVector:\n",
    "    def __init__(self, nums):\n",
    "        self.array = nums\n",
    "    def dotProduct(self, vec):\n",
    "        result = 0\n",
    "        \n",
    "        for num1, num2 in zip(self.array, vec.array):\n",
    "            result += num1 * num2\n",
    "        \n",
    "        return result"
   ]
  },
  {
   "cell_type": "code",
   "execution_count": 37,
   "id": "d67bd721",
   "metadata": {},
   "outputs": [
    {
     "data": {
      "text/plain": [
       "8"
      ]
     },
     "execution_count": 37,
     "metadata": {},
     "output_type": "execute_result"
    }
   ],
   "source": [
    "nums1 = [1,0,0,2,3]\n",
    "nums2 = [0,3,0,4,0]\n",
    "\n",
    "v1 = SparseVector(nums1)\n",
    "v2 = SparseVector(nums2)\n",
    "\n",
    "v1.dotProduct(v2)"
   ]
  },
  {
   "cell_type": "code",
   "execution_count": 40,
   "id": "a5cd7c4d",
   "metadata": {},
   "outputs": [],
   "source": [
    "class SparseVector:\n",
    "    def __init__(self, nums):\n",
    "        self.pairs = []\n",
    "        \n",
    "        for idx, val in enumerate(nums):\n",
    "            self.pairs.append([idx, val])\n",
    "            \n",
    "    def dotProduct(self, vec):\n",
    "        result = 0\n",
    "        \n",
    "        p1 = 0\n",
    "        p2 = 0\n",
    "        \n",
    "        while p1 < len(self.pairs) and p2 < len(vec.pairs):\n",
    "            if self.pairs[p1][0] == vec.pairs[p2][0]:\n",
    "                result += self.pairs[p1][1] * vec.pairs[p2][1]\n",
    "                p1 += 1\n",
    "                p2 += 1\n",
    "            elif self.pairs[p1][0] < vec.pairs[p2][0]:\n",
    "                p1 += 1\n",
    "            else:\n",
    "                p2 += 1\n",
    "        return result"
   ]
  },
  {
   "cell_type": "code",
   "execution_count": 41,
   "id": "a333ab51",
   "metadata": {},
   "outputs": [
    {
     "data": {
      "text/plain": [
       "8"
      ]
     },
     "execution_count": 41,
     "metadata": {},
     "output_type": "execute_result"
    }
   ],
   "source": [
    "nums1 = [1,0,0,2,3]\n",
    "nums2 = [0,3,0,4,0]\n",
    "\n",
    "v1 = SparseVector(nums1)\n",
    "v2 = SparseVector(nums2)\n",
    "\n",
    "v1.dotProduct(v2)"
   ]
  },
  {
   "cell_type": "markdown",
   "id": "4d112de8",
   "metadata": {},
   "source": [
    "## 14. Range Sum of BST"
   ]
  },
  {
   "cell_type": "code",
   "execution_count": 42,
   "id": "6b0d9050",
   "metadata": {},
   "outputs": [],
   "source": [
    "def rangeSum(root, low, high):\n",
    "    if not root:\n",
    "        return 0\n",
    "    \n",
    "    queue = [root]\n",
    "    result = 0\n",
    "    \n",
    "    while queue:\n",
    "        curr_node = queue.pop(0)\n",
    "        \n",
    "        if curr_node:\n",
    "            if low <= curr_node.val <= high:\n",
    "                result += curr_node.val\n",
    "            if low < curr_node.val:\n",
    "                queue.append(curr_node.left)\n",
    "            \n",
    "            if curr_node.val < high:\n",
    "                queue.append(curr_node.right)\n",
    "    return result"
   ]
  },
  {
   "cell_type": "code",
   "execution_count": 44,
   "id": "03e7ce0f",
   "metadata": {},
   "outputs": [
    {
     "data": {
      "text/plain": [
       "35"
      ]
     },
     "execution_count": 44,
     "metadata": {},
     "output_type": "execute_result"
    }
   ],
   "source": [
    "#       9\n",
    "#    4     20\n",
    "#  1  6  15   170\n",
    "\n",
    "rangeSum(root, 10, 30)"
   ]
  },
  {
   "cell_type": "markdown",
   "id": "b9c95491",
   "metadata": {},
   "source": [
    "## 15. Valid Palindrome"
   ]
  },
  {
   "cell_type": "code",
   "execution_count": 47,
   "id": "2e635448",
   "metadata": {},
   "outputs": [],
   "source": [
    "def validPalindrome(s):\n",
    "    if len(s) <= 1:\n",
    "        return True\n",
    "    \n",
    "    left = 0\n",
    "    right = len(s) - 1\n",
    "    \n",
    "    while left < right:\n",
    "        while left < right and not s[left].isalnum():\n",
    "            left += 1\n",
    "        while left < right and not s[right].isalnum():\n",
    "            right -= 1\n",
    "        \n",
    "        if s[left].lower() != s[right].lower():\n",
    "            return False\n",
    "        left += 1\n",
    "        right -= 1\n",
    "    return True"
   ]
  },
  {
   "cell_type": "code",
   "execution_count": 48,
   "id": "e01b31be",
   "metadata": {},
   "outputs": [
    {
     "data": {
      "text/plain": [
       "True"
      ]
     },
     "execution_count": 48,
     "metadata": {},
     "output_type": "execute_result"
    }
   ],
   "source": [
    "s = \"A man, a plan, a canal: Panama\"\n",
    "validPalindrome(s)"
   ]
  },
  {
   "cell_type": "markdown",
   "id": "3ded64ea",
   "metadata": {},
   "source": [
    "## 16. Diameter of a binary tree"
   ]
  },
  {
   "cell_type": "code",
   "execution_count": 49,
   "id": "ef1cc242",
   "metadata": {},
   "outputs": [],
   "source": [
    "def diameterOfBinaryTree(root):\n",
    "    \n",
    "    diameter = 0\n",
    "    \n",
    "    def get_longest_path(node):\n",
    "        if not node:\n",
    "            return 0\n",
    "        \n",
    "        nonlocal diameter\n",
    "        \n",
    "        left_path = get_longest_path(node.left)\n",
    "        right_path = get_longest_path(node.right)\n",
    "        \n",
    "        diameter = max(diameter, left_path + right_path)\n",
    "        return max(left_path, right_path) + 1\n",
    "    \n",
    "    get_longest_path(root)\n",
    "    return diameter"
   ]
  },
  {
   "cell_type": "code",
   "execution_count": 50,
   "id": "b17d4fb3",
   "metadata": {},
   "outputs": [
    {
     "data": {
      "text/plain": [
       "4"
      ]
     },
     "execution_count": 50,
     "metadata": {},
     "output_type": "execute_result"
    }
   ],
   "source": [
    "diameterOfBinaryTree(root)"
   ]
  },
  {
   "cell_type": "markdown",
   "id": "66ff4c62",
   "metadata": {},
   "source": [
    "## 17. Subarray sum equals K"
   ]
  },
  {
   "cell_type": "code",
   "execution_count": 51,
   "id": "0c0a4fe7",
   "metadata": {},
   "outputs": [],
   "source": [
    "from collections import defaultdict\n",
    "def subArraySum(nums, k):\n",
    "    count = 0\n",
    "    cumulative_sum = 0\n",
    "    prefix_sums = defaultdict(int)\n",
    "    prefix_sums[0] = 1\n",
    "    \n",
    "    for num in nums:\n",
    "        cumulative_sum += num\n",
    "        \n",
    "        if cumulative_sum - k in prefix_sums:\n",
    "            count += prefix_sums[cumulative_sum - k]\n",
    "        prefix_sums[cumulative_sum] += 1\n",
    "    return count"
   ]
  },
  {
   "cell_type": "code",
   "execution_count": 53,
   "id": "72cb5689",
   "metadata": {},
   "outputs": [
    {
     "data": {
      "text/plain": [
       "2"
      ]
     },
     "execution_count": 53,
     "metadata": {},
     "output_type": "execute_result"
    }
   ],
   "source": [
    "nums = [1, 1, -1, 1, 2, 5]\n",
    "subArraySum(nums, 7)"
   ]
  },
  {
   "cell_type": "markdown",
   "id": "409e5e2e",
   "metadata": {},
   "source": [
    "## 18. Binary Tree Right side view"
   ]
  },
  {
   "cell_type": "code",
   "execution_count": 54,
   "id": "c90eb469",
   "metadata": {},
   "outputs": [],
   "source": [
    "def rightSideView(root):\n",
    "    if not root:\n",
    "        return None\n",
    "    \n",
    "    result = []\n",
    "    \n",
    "    queue = [root]\n",
    "    \n",
    "    while queue:\n",
    "        queue_length = len(queue)\n",
    "        counter = 0\n",
    "        \n",
    "        while counter < queue_length:\n",
    "            curr_node = queue.pop(0)\n",
    "            \n",
    "            if curr_node.left:\n",
    "                queue.append(curr_node.left)\n",
    "            \n",
    "            if curr_node.right:\n",
    "                queue.append(curr_node.right)\n",
    "            \n",
    "            counter += 1\n",
    "        result.append(curr_node.val)\n",
    "    return result"
   ]
  },
  {
   "cell_type": "code",
   "execution_count": 55,
   "id": "e3faaffb",
   "metadata": {},
   "outputs": [
    {
     "data": {
      "text/plain": [
       "[9, 20, 170]"
      ]
     },
     "execution_count": 55,
     "metadata": {},
     "output_type": "execute_result"
    }
   ],
   "source": [
    "rightSideView(root)"
   ]
  },
  {
   "cell_type": "markdown",
   "id": "10ea148e",
   "metadata": {},
   "source": [
    "## 19. Merged Intervals"
   ]
  },
  {
   "cell_type": "code",
   "execution_count": 61,
   "id": "9be2fc21",
   "metadata": {},
   "outputs": [],
   "source": [
    "def mergedIntervals(intervals):\n",
    "    if not intervals:\n",
    "        return []\n",
    "    \n",
    "    merged_intervals = [intervals[0]]\n",
    "        \n",
    "    for current in intervals[1:]:\n",
    "        last = merged_intervals[-1]\n",
    "        if current[0] <= last[1]:\n",
    "            last[1] = max(last[1], current[1])\n",
    "        else:\n",
    "            merged_intervals.append(current)\n",
    "    return merged_intervals"
   ]
  },
  {
   "cell_type": "code",
   "execution_count": 62,
   "id": "f219c382",
   "metadata": {},
   "outputs": [
    {
     "data": {
      "text/plain": [
       "[[1, 5], [6, 8], [9, 10]]"
      ]
     },
     "execution_count": 62,
     "metadata": {},
     "output_type": "execute_result"
    }
   ],
   "source": [
    "intervals = [[1, 3], [2, 5], [6, 8], [9, 10]]\n",
    "mergedIntervals(intervals)"
   ]
  },
  {
   "cell_type": "markdown",
   "id": "7e115283",
   "metadata": {},
   "source": [
    "## 20. Two Sum"
   ]
  },
  {
   "cell_type": "code",
   "execution_count": 64,
   "id": "96226799",
   "metadata": {},
   "outputs": [],
   "source": [
    "def twoSum(nums, target):\n",
    "    hash_map = {}\n",
    "    \n",
    "    for i in range(len(nums)):\n",
    "        if nums[i] not in hash_map:\n",
    "            ntf = target - nums[i]\n",
    "            hash_map[ntf] = i\n",
    "        else:\n",
    "            return [hash_map[nums[i]], i]\n",
    "    return -1"
   ]
  },
  {
   "cell_type": "code",
   "execution_count": 66,
   "id": "83074482",
   "metadata": {},
   "outputs": [
    {
     "data": {
      "text/plain": [
       "[1, 3]"
      ]
     },
     "execution_count": 66,
     "metadata": {},
     "output_type": "execute_result"
    }
   ],
   "source": [
    "nums = [2,7,11,15]\n",
    "target = 22\n",
    "twoSum(nums, target)"
   ]
  },
  {
   "cell_type": "markdown",
   "id": "74770341",
   "metadata": {},
   "source": [
    "## 21. LRU Cache"
   ]
  },
  {
   "cell_type": "code",
   "execution_count": 69,
   "id": "1f3b3688",
   "metadata": {},
   "outputs": [],
   "source": [
    "class LRUCache:\n",
    "    def __init__(self, capacity):\n",
    "        self.capacity = capacity\n",
    "        self.odict = {}\n",
    "        \n",
    "    def get(self, key):\n",
    "        if not self.odict.get(key, None):\n",
    "            return -1\n",
    "        \n",
    "        self.odict[key] = self.odict.pop(key)\n",
    "        return self.odict[key]\n",
    "    \n",
    "    def put(self, key, val):\n",
    "        self.odict.pop(key, None)\n",
    "        self.odict[key] = val\n",
    "        \n",
    "        if len(self.odict) > self.capacity:\n",
    "            self.odict.pop(next(iter(self.odict)))"
   ]
  },
  {
   "cell_type": "code",
   "execution_count": 70,
   "id": "f2bc79e4",
   "metadata": {},
   "outputs": [
    {
     "name": "stdout",
     "output_type": "stream",
     "text": [
      "1\n",
      "-1\n",
      "-1\n",
      "3\n",
      "4\n"
     ]
    }
   ],
   "source": [
    "capacity = 2\n",
    "lRUCache = LRUCache(capacity)\n",
    "lRUCache.put(1, 1)\n",
    "lRUCache.put(2, 2)\n",
    "print(lRUCache.get(1))\n",
    "\n",
    "lRUCache.put(3, 3)\n",
    "print(lRUCache.get(2))\n",
    "\n",
    "lRUCache.put(4, 4)\n",
    "print(lRUCache.get(1))\n",
    "\n",
    "print(lRUCache.get(3))\n",
    "print(lRUCache.get(4))"
   ]
  },
  {
   "cell_type": "markdown",
   "id": "5ae3bd6d",
   "metadata": {},
   "source": [
    "## 22. Top K frequent elements"
   ]
  },
  {
   "cell_type": "code",
   "execution_count": 73,
   "id": "f63f675c",
   "metadata": {},
   "outputs": [],
   "source": [
    "from collections import Counter\n",
    "def topKFrequent(nums, k):\n",
    "    if k == len(nums):\n",
    "        return nums\n",
    "    \n",
    "    freq_map = Counter(nums)\n",
    "    freq_list = list(freq_map.items())\n",
    "    \n",
    "    n = len(freq_list)\n",
    "    left = 0\n",
    "    right = n - 1\n",
    "    k_largest_position = n - k\n",
    "    \n",
    "    quick_select(freq_list, left, right, k_largest_position)\n",
    "    \n",
    "    return [freq_list[i][0] for i in range(n - k, n)]\n",
    "\n",
    "def quick_select(freq_list, left, right, k_largest_position):\n",
    "    if left == right:\n",
    "        return\n",
    "    \n",
    "    if left < right:\n",
    "        partition_index = partition(freq_list, left, right)\n",
    "        \n",
    "        if partition_index == k_largest_position:\n",
    "            return\n",
    "        elif partition_index < k_largest_position:\n",
    "            return quick_select(freq_list, partition_index + 1, right, k_largest_position)\n",
    "        else:\n",
    "            return quick_select(freq_list, left, partition_index - 1, k_largest_position)\n",
    "\n",
    "def partition(freq_list, left, right):\n",
    "    partition_index = left\n",
    "    pivot_element = freq_list[right][1]\n",
    "    \n",
    "    for j in range(left, right):\n",
    "        if freq_list[j][1] <= pivot_element:\n",
    "            freq_list[j], freq_list[partition_index] = freq_list[partition_index], freq_list[j]\n",
    "            partition_index += 1\n",
    "    freq_list[right], freq_list[partition_index] = freq_list[partition_index], freq_list[right]\n",
    "    return partition_index"
   ]
  },
  {
   "cell_type": "code",
   "execution_count": 74,
   "id": "5a150bfa",
   "metadata": {},
   "outputs": [
    {
     "data": {
      "text/plain": [
       "[2, 1]"
      ]
     },
     "execution_count": 74,
     "metadata": {},
     "output_type": "execute_result"
    }
   ],
   "source": [
    "nums = [1,1,1,2,2,3]\n",
    "k = 2\n",
    "topKFrequent(nums, k)"
   ]
  },
  {
   "cell_type": "markdown",
   "id": "b73c723e",
   "metadata": {},
   "source": [
    "## 23. K Closest Point to the origin"
   ]
  },
  {
   "cell_type": "code",
   "execution_count": 75,
   "id": "9f940d33",
   "metadata": {},
   "outputs": [],
   "source": [
    "def kClosest(points, k):\n",
    "    distances = [x**2 + y**2 for x, y in points]\n",
    "    quick_select(points, distances, 0, len(distances) - 1, k - 1)\n",
    "    return points[:k]\n",
    "\n",
    "def quick_select(points, distances, left, right, k):\n",
    "    if left == right:\n",
    "        return\n",
    "    \n",
    "    if left < right:\n",
    "        partition_index = partition(points, distances, left, right)\n",
    "        \n",
    "        if partition_index == k:\n",
    "            return\n",
    "        elif partition_index < k:\n",
    "            return quick_select(points, distances, partition_index + 1, right, k)\n",
    "        else:\n",
    "            return quick_select(points, distances, left, partition_index - 1, k)\n",
    "\n",
    "def partition(points, distances, left, right):\n",
    "    partition_index = left\n",
    "    pivot_element = distances[right]\n",
    "    \n",
    "    for j in range(left, right):\n",
    "        if distances[j] <= pivot_element:\n",
    "            distances[j], distances[partition_index] = distances[partition_index], distances[j]\n",
    "            points[j], points[partition_index] = points[partition_index], points[j]\n",
    "            partition_index += 1\n",
    "    distances[right], distances[partition_index] = distances[partition_index], distances[right]\n",
    "    points[right], points[partition_index] = points[partition_index], points[right]\n",
    "    return partition_index"
   ]
  },
  {
   "cell_type": "code",
   "execution_count": 76,
   "id": "50e87b0f",
   "metadata": {},
   "outputs": [
    {
     "name": "stdout",
     "output_type": "stream",
     "text": [
      "[[3, 3], [-2, 4]]\n"
     ]
    }
   ],
   "source": [
    "points = [[3, 3], [5, -1], [-2, 4]]\n",
    "k = 2\n",
    "print(kClosest(points, k))  # Output: [[3, 3], [-2, 4]]"
   ]
  },
  {
   "cell_type": "markdown",
   "id": "92f27235",
   "metadata": {},
   "source": [
    "## 24. Building with an ocean view"
   ]
  },
  {
   "cell_type": "code",
   "execution_count": 78,
   "id": "495be841",
   "metadata": {},
   "outputs": [],
   "source": [
    "def canSee(heights):\n",
    "    max_height = -1\n",
    "    result = []\n",
    "    \n",
    "    for i in reversed(range(len(heights))):\n",
    "        if heights[i] > max_height:\n",
    "            result.append(i)\n",
    "            max_height = heights[i]\n",
    "    result.reverse()\n",
    "    return result"
   ]
  },
  {
   "cell_type": "code",
   "execution_count": 79,
   "id": "326669c3",
   "metadata": {},
   "outputs": [
    {
     "data": {
      "text/plain": [
       "[0, 2, 3]"
      ]
     },
     "execution_count": 79,
     "metadata": {},
     "output_type": "execute_result"
    }
   ],
   "source": [
    "heights = [4,2,3,1]\n",
    "canSee(heights)"
   ]
  },
  {
   "cell_type": "code",
   "execution_count": null,
   "id": "a53343d2",
   "metadata": {},
   "outputs": [],
   "source": []
  }
 ],
 "metadata": {
  "kernelspec": {
   "display_name": "Python 3 (ipykernel)",
   "language": "python",
   "name": "python3"
  },
  "language_info": {
   "codemirror_mode": {
    "name": "ipython",
    "version": 3
   },
   "file_extension": ".py",
   "mimetype": "text/x-python",
   "name": "python",
   "nbconvert_exporter": "python",
   "pygments_lexer": "ipython3",
   "version": "3.11.4"
  }
 },
 "nbformat": 4,
 "nbformat_minor": 5
}
