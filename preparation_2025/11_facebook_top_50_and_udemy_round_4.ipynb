{
 "cells": [
  {
   "cell_type": "markdown",
   "id": "9897d97f",
   "metadata": {},
   "source": [
    "## 1. Minimum Remove to make valid parenthesis"
   ]
  },
  {
   "cell_type": "code",
   "execution_count": 1,
   "id": "e98fef67",
   "metadata": {},
   "outputs": [],
   "source": [
    "def minRemoveToMakeValid(s):\n",
    "    stack = []\n",
    "    indices_to_remove = set()\n",
    "    \n",
    "    for i in range(len(s)):\n",
    "        if s[i] not in '()':\n",
    "            continue\n",
    "        elif s[i] == '(':\n",
    "            stack.append(i)\n",
    "        elif not stack:\n",
    "            indices_to_remove.add(i)\n",
    "        else:\n",
    "            stack.pop()\n",
    "    \n",
    "    indices_to_remove = indices_to_remove.union(set(stack))\n",
    "    \n",
    "    string_builder = []\n",
    "    \n",
    "    for i in range(len(s)):\n",
    "        if i not in indices_to_remove:\n",
    "            string_builder.append(s[i])\n",
    "    \n",
    "    return \"\".join(string_builder)"
   ]
  },
  {
   "cell_type": "code",
   "execution_count": 2,
   "id": "4cb38479",
   "metadata": {},
   "outputs": [
    {
     "data": {
      "text/plain": [
       "'lee(t(c)o)de'"
      ]
     },
     "execution_count": 2,
     "metadata": {},
     "output_type": "execute_result"
    }
   ],
   "source": [
    "s = \"lee(t(c)o)de)\"\n",
    "minRemoveToMakeValid(s)"
   ]
  },
  {
   "cell_type": "markdown",
   "id": "c1cd6e5d",
   "metadata": {},
   "source": [
    "## 2. Valid Word abbreviation"
   ]
  },
  {
   "cell_type": "code",
   "execution_count": 20,
   "id": "551c8c79",
   "metadata": {},
   "outputs": [],
   "source": [
    "def validWordAbbreviation(word, abbr):\n",
    "    word_ptr = 0\n",
    "    abbr_ptr = 0\n",
    "    \n",
    "    while word_ptr < len(word) and abbr_ptr < len(abbr):\n",
    "        if abbr[abbr_ptr].isdigit():\n",
    "            if abbr[abbr_ptr] == '0':\n",
    "                return False\n",
    "            \n",
    "            num = 0\n",
    "            \n",
    "            while abbr[abbr_ptr].isdigit() and abbr_ptr < len(abbr):\n",
    "                num = num * 10 + int(abbr[abbr_ptr])\n",
    "                abbr_ptr += 1\n",
    "                \n",
    "            word_ptr += num\n",
    "            \n",
    "        else:\n",
    "            if word_ptr >= len(word) or word[word_ptr] != abbr[abbr_ptr]:\n",
    "                return False\n",
    "            \n",
    "            word_ptr += 1\n",
    "            abbr_ptr += 1\n",
    "    return word_ptr == len(word) and abbr_ptr == len(abbr)"
   ]
  },
  {
   "cell_type": "code",
   "execution_count": 21,
   "id": "11d18982",
   "metadata": {},
   "outputs": [
    {
     "data": {
      "text/plain": [
       "True"
      ]
     },
     "execution_count": 21,
     "metadata": {},
     "output_type": "execute_result"
    }
   ],
   "source": [
    "word = \"internationalization\"\n",
    "abbr = \"i12iz4n\"\n",
    "validWordAbbreviation(word, abbr)"
   ]
  },
  {
   "cell_type": "markdown",
   "id": "d9d991b0",
   "metadata": {},
   "source": [
    "## 3. Valid Palindrome II"
   ]
  },
  {
   "cell_type": "code",
   "execution_count": 5,
   "id": "a74e5680",
   "metadata": {},
   "outputs": [],
   "source": [
    "def almostValid(s):\n",
    "    if len(s) <= 2:\n",
    "        return True\n",
    "    \n",
    "    def check_palindrome(s, left, right):\n",
    "        while left < right:\n",
    "            if s[left] != s[right]:\n",
    "                return False\n",
    "            left += 1\n",
    "            right -= 1\n",
    "        return True\n",
    "    \n",
    "    left = 0\n",
    "    right = len(s) - 1\n",
    "    \n",
    "    while left < right:\n",
    "        if s[left] != s[right]:\n",
    "            return check_palindrome(s, left + 1, right) or check_palindrome(s, left, right - 1)\n",
    "        left += 1\n",
    "        right -= 1\n",
    "    return True"
   ]
  },
  {
   "cell_type": "code",
   "execution_count": 8,
   "id": "3c9f5fbf",
   "metadata": {},
   "outputs": [
    {
     "data": {
      "text/plain": [
       "True"
      ]
     },
     "execution_count": 8,
     "metadata": {},
     "output_type": "execute_result"
    }
   ],
   "source": [
    "s = \"abac\"\n",
    "almostValid(s)"
   ]
  },
  {
   "cell_type": "code",
   "execution_count": 20,
   "id": "bf3b6943",
   "metadata": {},
   "outputs": [],
   "source": [
    "class Node:\n",
    "    def __init__(self, val: int):\n",
    "        self.left = None\n",
    "        self.right = None\n",
    "        self.val = val\n",
    "\n",
    "    def __repr__(self):\n",
    "        return str(self.val)\n",
    "\n",
    "    def insert_node(self, val):\n",
    "        if self.val is not None:\n",
    "            if val < self.val:\n",
    "                if self.left is None:\n",
    "                    self.left = Node(val)\n",
    "                else:\n",
    "                    self.left.insert_node(val)\n",
    "            elif val > self.val:\n",
    "                if self.right is None:\n",
    "                    self.right = Node(val)\n",
    "                else:\n",
    "                    self.right.insert_node(val)\n",
    "\n",
    "    @staticmethod\n",
    "    def insert_nodes(vals: list, root):\n",
    "        for i in vals:\n",
    "            root.insert_node(i)\n",
    "\n",
    "    def bfs(self, root=None):\n",
    "        if root is None:\n",
    "            return\n",
    "        result = []\n",
    "        queue = [root]\n",
    "\n",
    "        while len(queue) > 0:\n",
    "            cur_node = queue.pop(0)\n",
    "            result.append(cur_node.val)\n",
    "            if cur_node.left is not None:\n",
    "                queue.append(cur_node.left)\n",
    "\n",
    "            if cur_node.right is not None:\n",
    "                queue.append(cur_node.right)\n",
    "\n",
    "            #print(queue)\n",
    "        return result\n",
    "    \n",
    "    def DFSInorder(self, root=None):\n",
    "        return self.traverseInOrder(root, [])\n",
    "    \n",
    "    def DFSPostOrder(self, root=None):\n",
    "        return self.traversePostOrder(root, [])\n",
    "    \n",
    "    def DFSPreOrder(self, root=None):\n",
    "        return self.traversePreOrder(root, [])\n",
    "    \n",
    "    def traverseInOrder(self, node, data):\n",
    "        if node.left is not None:\n",
    "            node.traverseInOrder(node.left, data)\n",
    "        data.append(node.val)\n",
    "        \n",
    "        if node.right is not None:\n",
    "            node.traverseInOrder(node.right, data)\n",
    "        #print(data)\n",
    "        return data\n",
    "    \n",
    "    def traversePostOrder(self, node, data):\n",
    "        \n",
    "        if node.left is not None:\n",
    "            node.traversePostOrder(node.left, data)\n",
    "              \n",
    "        if node.right is not None:\n",
    "            node.traversePostOrder(node.right, data)\n",
    "        #print(data)\n",
    "        data.append(node.val)\n",
    "        return data\n",
    "    \n",
    "    def traversePreOrder(self, node, data):\n",
    "        data.append(node.val)\n",
    "        if node.left is not None:\n",
    "            node.traversePreOrder(node.left, data)\n",
    "        \n",
    "        \n",
    "        if node.right is not None:\n",
    "            node.traversePreOrder(node.right, data)\n",
    "        #print(data)\n",
    "        return data\n",
    "    \n",
    "    \n",
    "#       9\n",
    "#    4     20\n",
    "#  1  6  15   170\n",
    "\n",
    "def run():\n",
    "    root = Node(9)\n",
    "    root.insert_nodes([4,6,20,170,15,1], root)\n",
    "    bfs_result = root.bfs(root=root)\n",
    "    dfs_inorder = root.DFSInorder(root)\n",
    "    dfs_preorder = root.DFSPreOrder(root)\n",
    "    dfs_postorder = root.DFSPostOrder(root)\n",
    "    return root, bfs_result, dfs_inorder, dfs_preorder, dfs_postorder\n",
    "\n",
    "root, bfs_result, dfs_inorder, dfs_preorder, dfs_postorder = run()"
   ]
  },
  {
   "cell_type": "markdown",
   "id": "afb36c6f",
   "metadata": {},
   "source": [
    "## 4. Binary Tree Vertical order Traversal"
   ]
  },
  {
   "cell_type": "code",
   "execution_count": 12,
   "id": "1ec41e6c",
   "metadata": {},
   "outputs": [],
   "source": [
    "from collections import defaultdict\n",
    "def verticalOrderTraversal(root):\n",
    "    if not root:\n",
    "        return []\n",
    "    \n",
    "    column_table = defaultdict(list)\n",
    "    min_col = 0\n",
    "    max_col = 0\n",
    "    \n",
    "    queue = [[root, 0]]\n",
    "    \n",
    "    while queue:\n",
    "        curr_node, curr_col = queue.pop(0)\n",
    "        \n",
    "        if curr_node:\n",
    "            column_table[curr_col].append(curr_node.val)\n",
    "            min_col = min(min_col, curr_col)\n",
    "            max_col = max(max_col, curr_col)\n",
    "            \n",
    "            queue.append([curr_node.left, curr_col - 1])\n",
    "            queue.append([curr_node.right, curr_col + 1])\n",
    "    \n",
    "    return [column_table[x] for x in range(min_col, max_col + 1)]"
   ]
  },
  {
   "cell_type": "code",
   "execution_count": 13,
   "id": "8d6d3303",
   "metadata": {},
   "outputs": [
    {
     "data": {
      "text/plain": [
       "[[1], [4], [9, 6, 15], [20], [170]]"
      ]
     },
     "execution_count": 13,
     "metadata": {},
     "output_type": "execute_result"
    }
   ],
   "source": [
    "verticalOrderTraversal(root)"
   ]
  },
  {
   "cell_type": "markdown",
   "id": "6d364d8c",
   "metadata": {},
   "source": [
    "## 5. Kth largest element in an array"
   ]
  },
  {
   "cell_type": "code",
   "execution_count": 14,
   "id": "415f0fb2",
   "metadata": {},
   "outputs": [],
   "source": [
    "def kthLargest(nums, k):\n",
    "    index_to_find = len(nums) - k\n",
    "    left = 0\n",
    "    right = len(nums) - 1\n",
    "    return quick_select(nums, left, right, index_to_find)\n",
    "\n",
    "def quick_select(nums, left, right, index_to_find):\n",
    "    if left == right:\n",
    "        return nums[left]\n",
    "    \n",
    "    if left < right:\n",
    "        partition_index = partition(nums, left, right)\n",
    "        \n",
    "        if partition_index == index_to_find:\n",
    "            return nums[partition_index]\n",
    "        elif partition_index < index_to_find:\n",
    "            return quick_select(nums, partition_index + 1, right, index_to_find)\n",
    "        else:\n",
    "            return quick_select(nums, left, partition_index - 1, index_to_find)\n",
    "\n",
    "def partition(nums, left, right):\n",
    "    partition_index = left\n",
    "    pivot_element = nums[right]\n",
    "    \n",
    "    for j in range(left, right):\n",
    "        if nums[j] <= pivot_element:\n",
    "            nums[j], nums[partition_index] = nums[partition_index], nums[j]\n",
    "            partition_index += 1\n",
    "    nums[right], nums[partition_index] = nums[partition_index], nums[right]\n",
    "    return partition_index"
   ]
  },
  {
   "cell_type": "code",
   "execution_count": 16,
   "id": "75f1210a",
   "metadata": {},
   "outputs": [
    {
     "data": {
      "text/plain": [
       "5"
      ]
     },
     "execution_count": 16,
     "metadata": {},
     "output_type": "execute_result"
    }
   ],
   "source": [
    "kthLargest([5,6,1,4,8,3],3)"
   ]
  },
  {
   "cell_type": "markdown",
   "id": "1661cf2b",
   "metadata": {},
   "source": [
    "## 6. Basic calculator"
   ]
  },
  {
   "cell_type": "code",
   "execution_count": 17,
   "id": "2db4f819",
   "metadata": {},
   "outputs": [],
   "source": [
    "def calculator(s):\n",
    "    if len(s) == 0:\n",
    "        return 0\n",
    "    \n",
    "    current_number = 0\n",
    "    last_number = 0\n",
    "    sign = '+'\n",
    "    result = 0\n",
    "    \n",
    "    for i in range(len(s)):\n",
    "        current_char = s[i]\n",
    "        \n",
    "        if current_char.isdigit():\n",
    "            current_number = current_number * 10 + int(current_char)\n",
    "            \n",
    "        if (not current_char.isdigit() and not current_char.isspace()) or i == len(s) - 1:\n",
    "            if sign == '+' or sign == '-':\n",
    "                result += last_number\n",
    "                last_number = current_number if sign == '+' else -current_number\n",
    "            elif sign == '*':\n",
    "                last_number *= current_number\n",
    "            elif sign == '/':\n",
    "                last_number = int(last_number / current_number)\n",
    "            \n",
    "            sign = current_char\n",
    "            current_number = 0\n",
    "    result += last_number\n",
    "    return result"
   ]
  },
  {
   "cell_type": "code",
   "execution_count": 18,
   "id": "f3c056d6",
   "metadata": {},
   "outputs": [
    {
     "data": {
      "text/plain": [
       "7"
      ]
     },
     "execution_count": 18,
     "metadata": {},
     "output_type": "execute_result"
    }
   ],
   "source": [
    "s = \"3+2*2\"\n",
    "calculator(s)"
   ]
  },
  {
   "cell_type": "markdown",
   "id": "a3a2a695",
   "metadata": {},
   "source": [
    "## 7. Lowest common ancestor of Binary tree III"
   ]
  },
  {
   "cell_type": "code",
   "execution_count": 19,
   "id": "d8326508",
   "metadata": {},
   "outputs": [],
   "source": [
    "def lowestCommonAncestor(p, q):\n",
    "    p1 = p\n",
    "    p2 = q\n",
    "    \n",
    "    while p1 != p2:\n",
    "        p1 = p1.parent if p1 else q\n",
    "        p2 = p2.parent if p2 else p\n",
    "    return p1"
   ]
  },
  {
   "cell_type": "markdown",
   "id": "0bab2074",
   "metadata": {},
   "source": [
    "## 8. Lowest Common ancestor of binary tree"
   ]
  },
  {
   "cell_type": "code",
   "execution_count": 20,
   "id": "e4ebbd5a",
   "metadata": {},
   "outputs": [],
   "source": [
    "def lowestCommonAncestor(root, p, q):\n",
    "    if not root:\n",
    "        return None\n",
    "    \n",
    "    left_res = lowestCommonAncestor(root.left, p, q)\n",
    "    right_res = lowestCommonAncestor(root.right, p, q)\n",
    "    \n",
    "    if (left_res and right_res) or (root in [p, q]):\n",
    "        return root\n",
    "    \n",
    "    return left_res or right_res"
   ]
  },
  {
   "cell_type": "markdown",
   "id": "ca69a496",
   "metadata": {},
   "source": [
    "## 9. Pow (x, n)"
   ]
  },
  {
   "cell_type": "code",
   "execution_count": 21,
   "id": "d7fcb113",
   "metadata": {},
   "outputs": [],
   "source": [
    "def myPow(x, n):\n",
    "    if n == 0:\n",
    "        return 1\n",
    "    \n",
    "    if n < 0:\n",
    "        return 1/myPow(x, -n)\n",
    "    \n",
    "    half = myPow(x, n // 2)\n",
    "    \n",
    "    if n % 2 == 0:\n",
    "        return half * half\n",
    "    else:\n",
    "        return half * half * x"
   ]
  },
  {
   "cell_type": "code",
   "execution_count": 22,
   "id": "51019569",
   "metadata": {},
   "outputs": [
    {
     "data": {
      "text/plain": [
       "1024.0"
      ]
     },
     "execution_count": 22,
     "metadata": {},
     "output_type": "execute_result"
    }
   ],
   "source": [
    "x = 2.00000\n",
    "n = 10\n",
    "\n",
    "myPow(x, n)"
   ]
  },
  {
   "cell_type": "markdown",
   "id": "2dcd2781",
   "metadata": {},
   "source": [
    "## 10. Simplify path"
   ]
  },
  {
   "cell_type": "code",
   "execution_count": 23,
   "id": "26334633",
   "metadata": {},
   "outputs": [],
   "source": [
    "def simplifyPath(path):\n",
    "    stack = []\n",
    "    \n",
    "    for portion in path.split('/'):\n",
    "        if portion == '.' or not portion:\n",
    "            continue\n",
    "        elif portion == '..':\n",
    "            if len(stack) > 0:\n",
    "                stack.pop()\n",
    "        else:\n",
    "            stack.append(portion)\n",
    "            \n",
    "    return \"/\" + \"/\".join(stack)"
   ]
  },
  {
   "cell_type": "code",
   "execution_count": 24,
   "id": "3e9fb0c9",
   "metadata": {},
   "outputs": [
    {
     "data": {
      "text/plain": [
       "'/home/user/Pictures'"
      ]
     },
     "execution_count": 24,
     "metadata": {},
     "output_type": "execute_result"
    }
   ],
   "source": [
    "path = \"/home/user/Documents/../Pictures\"\n",
    "simplifyPath(path)"
   ]
  },
  {
   "cell_type": "code",
   "execution_count": 25,
   "id": "0624b2db",
   "metadata": {},
   "outputs": [
    {
     "data": {
      "text/plain": [
       "'/home'"
      ]
     },
     "execution_count": 25,
     "metadata": {},
     "output_type": "execute_result"
    }
   ],
   "source": [
    "path = \"/home/\"\n",
    "simplifyPath(path)"
   ]
  },
  {
   "cell_type": "markdown",
   "id": "4c92cff7",
   "metadata": {},
   "source": [
    "## 11. Shortest path in binary matrix"
   ]
  },
  {
   "cell_type": "code",
   "execution_count": 33,
   "id": "45d65a1d",
   "metadata": {},
   "outputs": [],
   "source": [
    "def shortestPath(mat):\n",
    "    if len(mat) == 0 or mat[0][0] != 0 or mat[-1][-1] != 0:\n",
    "        return -1\n",
    "    \n",
    "    \n",
    "    queue = [[0, 0, 1]]\n",
    "    mat[0][0] = 1\n",
    "    \n",
    "    directions = [[-1, 0], [-1, 1], [0, 1], [1, 1], [1, 0], [1, -1], [0, -1], [-1, -1]]\n",
    "    \n",
    "    while queue:\n",
    "        curr_row, curr_col, path_sum = queue.pop(0)\n",
    "        \n",
    "        if curr_row == len(mat) - 1 and curr_col == len(mat[0]) - 1:\n",
    "            return path_sum\n",
    "        \n",
    "        for i in range(len(directions)):\n",
    "            direction = directions[i]\n",
    "            \n",
    "            next_row, next_col = curr_row + direction[0], curr_col + direction[1]\n",
    "            \n",
    "            if next_row < 0 or next_col < 0 or next_row >= len(mat) or next_col >= len(mat[0]) or mat[next_row][next_col] == 1:\n",
    "                continue\n",
    "             \n",
    "            if mat[next_row][next_col] == 0:\n",
    "                queue.append([next_row, next_col, path_sum + 1])\n",
    "                mat[next_row][next_col] = 1\n",
    "                \n",
    "    return -1"
   ]
  },
  {
   "cell_type": "code",
   "execution_count": 34,
   "id": "179b174d",
   "metadata": {},
   "outputs": [
    {
     "data": {
      "text/plain": [
       "4"
      ]
     },
     "execution_count": 34,
     "metadata": {},
     "output_type": "execute_result"
    }
   ],
   "source": [
    "grid = [[0,0,0],[1,1,0],[1,1,0]]\n",
    "shortestPath(grid)"
   ]
  },
  {
   "cell_type": "markdown",
   "id": "4d7b2f59",
   "metadata": {},
   "source": [
    "## 12. Dot product of two sparse vectors"
   ]
  },
  {
   "cell_type": "code",
   "execution_count": 35,
   "id": "fb1d37a1",
   "metadata": {},
   "outputs": [],
   "source": [
    "class SparseVector:\n",
    "    def __init__(self, nums):\n",
    "        self.array = nums\n",
    "    def dotProduct(self, vec):\n",
    "        result = 0\n",
    "        for num1, num2 in zip(self.array, vec.array):\n",
    "            result += num1 * num2\n",
    "        \n",
    "        return result"
   ]
  },
  {
   "cell_type": "code",
   "execution_count": 36,
   "id": "3ca0b024",
   "metadata": {},
   "outputs": [
    {
     "data": {
      "text/plain": [
       "8"
      ]
     },
     "execution_count": 36,
     "metadata": {},
     "output_type": "execute_result"
    }
   ],
   "source": [
    "nums1 = [1,0,0,2,3]\n",
    "nums2 = [0,3,0,4,0]\n",
    "\n",
    "v1 = SparseVector(nums1)\n",
    "v2 = SparseVector(nums2)\n",
    "\n",
    "v1.dotProduct(v2)"
   ]
  },
  {
   "cell_type": "code",
   "execution_count": 37,
   "id": "a8d4e712",
   "metadata": {},
   "outputs": [],
   "source": [
    "class SparseVector:\n",
    "    def __init__(self, nums):\n",
    "        self.pairs = []\n",
    "        for idx, val in enumerate(nums):\n",
    "            self.pairs.append([idx, val])\n",
    "    \n",
    "    def dotProduct(self, vec):\n",
    "        result = 0\n",
    "        \n",
    "        p1 = 0\n",
    "        p2 = 0\n",
    "        \n",
    "        while p1 < len(self.pairs) and p2 < len(vec.pairs):\n",
    "            if self.pairs[p1][0] == vec.pairs[p2][0]:\n",
    "                result += self.pairs[p1][1] * vec.pairs[p2][1]\n",
    "                p1 += 1\n",
    "                p2 += 1\n",
    "            elif self.pairs[p1][0] < vec.pairs[p2][0]:\n",
    "                p1 += 1\n",
    "            else:\n",
    "                p2 += 1\n",
    "        return result"
   ]
  },
  {
   "cell_type": "code",
   "execution_count": 38,
   "id": "d6e3e0b7",
   "metadata": {},
   "outputs": [
    {
     "data": {
      "text/plain": [
       "8"
      ]
     },
     "execution_count": 38,
     "metadata": {},
     "output_type": "execute_result"
    }
   ],
   "source": [
    "nums1 = [1,0,0,2,3]\n",
    "nums2 = [0,3,0,4,0]\n",
    "\n",
    "v1 = SparseVector(nums1)\n",
    "v2 = SparseVector(nums2)\n",
    "\n",
    "v1.dotProduct(v2)"
   ]
  },
  {
   "cell_type": "markdown",
   "id": "1f5ac023",
   "metadata": {},
   "source": [
    "## 14. Range Sum of BST"
   ]
  },
  {
   "cell_type": "code",
   "execution_count": 39,
   "id": "4a898eba",
   "metadata": {},
   "outputs": [],
   "source": [
    "def rangeSumBST(root, low, high):\n",
    "    if not root:\n",
    "        return 0\n",
    "    \n",
    "    queue = [root]\n",
    "    result = 0\n",
    "    \n",
    "    while queue:\n",
    "        curr_node = queue.pop(0)\n",
    "        \n",
    "        if curr_node:\n",
    "            if low <= curr_node.val <= high:\n",
    "                result += curr_node.val\n",
    "            \n",
    "            if low < curr_node.val:\n",
    "                queue.append(curr_node.left)\n",
    "            \n",
    "            if curr_node.val < high:\n",
    "                queue.append(curr_node.right)\n",
    "    return result"
   ]
  },
  {
   "cell_type": "code",
   "execution_count": 40,
   "id": "6a66a424",
   "metadata": {},
   "outputs": [
    {
     "data": {
      "text/plain": [
       "35"
      ]
     },
     "execution_count": 40,
     "metadata": {},
     "output_type": "execute_result"
    }
   ],
   "source": [
    "#       9\n",
    "#    4     20\n",
    "#  1  6  15   170\n",
    "\n",
    "rangeSumBST(root, 10, 30)"
   ]
  },
  {
   "cell_type": "markdown",
   "id": "750b81ff",
   "metadata": {},
   "source": [
    "## 15. Valid Palindrome"
   ]
  },
  {
   "cell_type": "code",
   "execution_count": 46,
   "id": "d018dd1c",
   "metadata": {},
   "outputs": [],
   "source": [
    "def validPalindrome(s):\n",
    "    \n",
    "    if len(s) <= 1:\n",
    "        return True\n",
    "    \n",
    "    left = 0\n",
    "    right = len(s) - 1\n",
    "    \n",
    "    while left < right:\n",
    "        while left < right and not s[left].isalnum():\n",
    "            left += 1\n",
    "        while left < right and not s[right].isalnum():\n",
    "            right -= 1\n",
    "        \n",
    "        if s[left].lower() != s[right].lower():\n",
    "            return False\n",
    "        \n",
    "        left += 1\n",
    "        right -= 1\n",
    "    return True"
   ]
  },
  {
   "cell_type": "code",
   "execution_count": 47,
   "id": "9f9ed8fd",
   "metadata": {},
   "outputs": [
    {
     "data": {
      "text/plain": [
       "True"
      ]
     },
     "execution_count": 47,
     "metadata": {},
     "output_type": "execute_result"
    }
   ],
   "source": [
    "s = \"A man, a plan, a canal: Panama\"\n",
    "validPalindrome(s)"
   ]
  },
  {
   "cell_type": "markdown",
   "id": "c51ffb62",
   "metadata": {},
   "source": [
    "## 16. Diameter of a binary tree"
   ]
  },
  {
   "cell_type": "code",
   "execution_count": 48,
   "id": "8509f88e",
   "metadata": {},
   "outputs": [],
   "source": [
    "def diameterOfBinaryTree(root):\n",
    "    \n",
    "    diameter = 0\n",
    "    \n",
    "    def get_longest_path(node):\n",
    "        if not node:\n",
    "            return 0\n",
    "        \n",
    "        nonlocal diameter\n",
    "        \n",
    "        left_path = get_longest_path(node.left)\n",
    "        right_path = get_longest_path(node.right)\n",
    "        \n",
    "        diameter = max(diameter, left_path + right_path)\n",
    "        return max(left_path, right_path) + 1\n",
    "    \n",
    "    get_longest_path(root)\n",
    "    return diameter"
   ]
  },
  {
   "cell_type": "code",
   "execution_count": 49,
   "id": "19c75d0e",
   "metadata": {},
   "outputs": [
    {
     "data": {
      "text/plain": [
       "4"
      ]
     },
     "execution_count": 49,
     "metadata": {},
     "output_type": "execute_result"
    }
   ],
   "source": [
    "diameterOfBinaryTree(root)"
   ]
  },
  {
   "cell_type": "markdown",
   "id": "afe5b2c5",
   "metadata": {},
   "source": [
    "## 17. Subarray sum equals K"
   ]
  },
  {
   "cell_type": "code",
   "execution_count": 50,
   "id": "72ed8625",
   "metadata": {},
   "outputs": [],
   "source": [
    "from collections import defaultdict\n",
    "def subarraySum(nums, k):\n",
    "    count = 0\n",
    "    cumulative_sum = 0\n",
    "    prefix_sums = defaultdict(int)\n",
    "    prefix_sums[0] = 1\n",
    "    \n",
    "    for num in nums:\n",
    "        cumulative_sum += num\n",
    "        \n",
    "        if cumulative_sum - k in prefix_sums:\n",
    "            count += prefix_sums[cumulative_sum - k]\n",
    "        prefix_sums[cumulative_sum] += 1\n",
    "    return count            "
   ]
  },
  {
   "cell_type": "code",
   "execution_count": 51,
   "id": "4aab8066",
   "metadata": {},
   "outputs": [
    {
     "data": {
      "text/plain": [
       "2"
      ]
     },
     "execution_count": 51,
     "metadata": {},
     "output_type": "execute_result"
    }
   ],
   "source": [
    "nums = [1, 1, -1, 1, 2, 5]\n",
    "subarraySum(nums, 7)"
   ]
  },
  {
   "cell_type": "markdown",
   "id": "a7d1c364",
   "metadata": {},
   "source": [
    "## 18. Binary Tree right side view"
   ]
  },
  {
   "cell_type": "code",
   "execution_count": 52,
   "id": "935fd0fc",
   "metadata": {},
   "outputs": [],
   "source": [
    "def rightSideView(root):\n",
    "    if not root:\n",
    "        return None\n",
    "    \n",
    "    result = []\n",
    "    queue = [root]\n",
    "    \n",
    "    while queue:\n",
    "        queue_length = len(queue)\n",
    "        counter = 0\n",
    "        \n",
    "        while counter < queue_length:\n",
    "            curr_node = queue.pop(0)\n",
    "            \n",
    "            if curr_node.left:\n",
    "                queue.append(curr_node.left)\n",
    "                \n",
    "            if curr_node.right:\n",
    "                queue.append(curr_node.right)\n",
    "            \n",
    "            counter += 1\n",
    "            \n",
    "        result.append(curr_node.val)\n",
    "    return result"
   ]
  },
  {
   "cell_type": "code",
   "execution_count": 53,
   "id": "50de49c8",
   "metadata": {},
   "outputs": [
    {
     "data": {
      "text/plain": [
       "[9, 20, 170]"
      ]
     },
     "execution_count": 53,
     "metadata": {},
     "output_type": "execute_result"
    }
   ],
   "source": [
    "rightSideView(root)"
   ]
  },
  {
   "cell_type": "markdown",
   "id": "5a3cb33e",
   "metadata": {},
   "source": [
    "## 19. Merged Intervals"
   ]
  },
  {
   "cell_type": "code",
   "execution_count": 54,
   "id": "3eda9b9b",
   "metadata": {},
   "outputs": [],
   "source": [
    "def mergedIntervals(intervals):\n",
    "    if not intervals:\n",
    "        return []\n",
    "    \n",
    "    merged_intervals = [intervals[0]]\n",
    "    \n",
    "    for current in intervals[1:]:\n",
    "        last = merged_intervals[-1]\n",
    "        \n",
    "        if last[1] >= current[0]:\n",
    "            last[1] = max(last[1], current[1])\n",
    "        else:\n",
    "            merged_intervals.append(current)\n",
    "    return merged_intervals"
   ]
  },
  {
   "cell_type": "code",
   "execution_count": 55,
   "id": "d0b978b2",
   "metadata": {},
   "outputs": [
    {
     "data": {
      "text/plain": [
       "[[1, 5], [6, 8], [9, 10]]"
      ]
     },
     "execution_count": 55,
     "metadata": {},
     "output_type": "execute_result"
    }
   ],
   "source": [
    "intervals = [[1, 3], [2, 5], [6, 8], [9, 10]]\n",
    "mergedIntervals(intervals)"
   ]
  },
  {
   "cell_type": "markdown",
   "id": "36ea7ee8",
   "metadata": {},
   "source": [
    "## 20. Two Sum"
   ]
  },
  {
   "cell_type": "code",
   "execution_count": 56,
   "id": "1f1b0597",
   "metadata": {},
   "outputs": [],
   "source": [
    "def twoSum(nums, target):\n",
    "    hash_map = {}\n",
    "    \n",
    "    for i in range(len(nums)):\n",
    "        if nums[i] not in hash_map:\n",
    "            ntf = target - nums[i]\n",
    "            hash_map[ntf] = i\n",
    "        else:\n",
    "            return [hash_map[nums[i]], i]"
   ]
  },
  {
   "cell_type": "code",
   "execution_count": 57,
   "id": "d8e40c64",
   "metadata": {},
   "outputs": [
    {
     "data": {
      "text/plain": [
       "[0, 1]"
      ]
     },
     "execution_count": 57,
     "metadata": {},
     "output_type": "execute_result"
    }
   ],
   "source": [
    "nums = [2,7,11,15]\n",
    "target = 9\n",
    "twoSum(nums, target)"
   ]
  },
  {
   "cell_type": "markdown",
   "id": "30ef3c86",
   "metadata": {},
   "source": [
    "## 21. LRU Cache"
   ]
  },
  {
   "cell_type": "code",
   "execution_count": 58,
   "id": "95e16d07",
   "metadata": {},
   "outputs": [],
   "source": [
    "class LRUCache:\n",
    "    def __init__(self, capacity):\n",
    "        self.capacity = capacity\n",
    "        self.odict = {}\n",
    "        \n",
    "    def get(self, key):\n",
    "        if not self.odict.get(key, None):\n",
    "            return -1\n",
    "        \n",
    "        self.odict[key] = self.odict.pop(key)\n",
    "        return self.odict[key]\n",
    "    \n",
    "    def put(self, key, val):\n",
    "        self.odict.pop(key, None)\n",
    "        self.odict[key] = val\n",
    "        \n",
    "        if len(self.odict) > self.capacity:\n",
    "            self.odict.pop(next(iter(self.odict)))"
   ]
  },
  {
   "cell_type": "code",
   "execution_count": 59,
   "id": "698867a0",
   "metadata": {},
   "outputs": [
    {
     "name": "stdout",
     "output_type": "stream",
     "text": [
      "1\n",
      "-1\n",
      "-1\n",
      "3\n",
      "4\n"
     ]
    }
   ],
   "source": [
    "capacity = 2\n",
    "lRUCache = LRUCache(capacity)\n",
    "lRUCache.put(1, 1)\n",
    "lRUCache.put(2, 2)\n",
    "print(lRUCache.get(1))\n",
    "\n",
    "lRUCache.put(3, 3)\n",
    "print(lRUCache.get(2))\n",
    "\n",
    "lRUCache.put(4, 4)\n",
    "print(lRUCache.get(1))\n",
    "\n",
    "print(lRUCache.get(3))\n",
    "print(lRUCache.get(4))"
   ]
  },
  {
   "cell_type": "markdown",
   "id": "73401d09",
   "metadata": {},
   "source": [
    "## 22. Top K Frequent elements"
   ]
  },
  {
   "cell_type": "code",
   "execution_count": 62,
   "id": "a5e68ee0",
   "metadata": {},
   "outputs": [],
   "source": [
    "from collections import Counter\n",
    "def topKFrequent(nums, k):\n",
    "    if k == len(nums):\n",
    "        return nums\n",
    "    \n",
    "    freq_map = Counter(nums)\n",
    "    freq_list = list(freq_map.items())\n",
    "    \n",
    "    n = len(freq_list)\n",
    "    left = 0\n",
    "    right = n - 1\n",
    "    k_largest_position = n - k\n",
    "    \n",
    "    quick_select(freq_list, left, right, k_largest_position)\n",
    "    \n",
    "    return [freq_list[i][0] for i in range(n - k, n)]\n",
    "\n",
    "def quick_select(freq_list, left, right, k_largest_position):\n",
    "    if left == right:\n",
    "        return\n",
    "    \n",
    "    if left < right:\n",
    "        partition_index = partition(freq_list, left, right)\n",
    "        \n",
    "        if partition_index == k_largest_position:\n",
    "            return\n",
    "        elif partition_index < k_largest_position:\n",
    "            return quick_select(freq_list, partition_index + 1, right, k_largest_position)\n",
    "        else:\n",
    "            return quick_select(freq_list, left, partition_index - 1, k_largest_position)\n",
    "\n",
    "def partition(freq_list, left, right):\n",
    "    partition_index = left\n",
    "    pivot_element = freq_list[right][1]\n",
    "    \n",
    "    for j in range(left, right):\n",
    "        if freq_list[j][1] <= pivot_element:\n",
    "            freq_list[j], freq_list[partition_index] = freq_list[partition_index], freq_list[j]\n",
    "            partition_index += 1\n",
    "    freq_list[right], freq_list[partition_index] = freq_list[partition_index], freq_list[right]\n",
    "    return partition_index"
   ]
  },
  {
   "cell_type": "code",
   "execution_count": 65,
   "id": "5efab46f",
   "metadata": {},
   "outputs": [
    {
     "data": {
      "text/plain": [
       "[2, 1]"
      ]
     },
     "execution_count": 65,
     "metadata": {},
     "output_type": "execute_result"
    }
   ],
   "source": [
    "nums = [1,1,1,2,2,3]\n",
    "k = 2\n",
    "topKFrequent(nums, k)"
   ]
  },
  {
   "cell_type": "markdown",
   "id": "31c13b89",
   "metadata": {},
   "source": [
    "## 23. K Closest point to the origin"
   ]
  },
  {
   "cell_type": "code",
   "execution_count": 66,
   "id": "bf5d4c2b",
   "metadata": {},
   "outputs": [],
   "source": [
    "def kClosest(points, k):\n",
    "    distances = [x**2 + y**2 for x, y in points]\n",
    "    quick_select(points, distances, 0, len(distances) - 1, k - 1)\n",
    "    return points[:k]\n",
    "\n",
    "def quick_select(points, distances, left, right, k):\n",
    "    if left == right:\n",
    "        return\n",
    "    \n",
    "    if left < right:\n",
    "        partition_index = partition(points, distances, left, right)\n",
    "        \n",
    "        if partition_index == k:\n",
    "            return\n",
    "        elif partition_index < k:\n",
    "            return quick_select(points, distances, partition_index + 1, right, k)\n",
    "        else:\n",
    "            return quick_select(points, distances, left, partition_index - 1, k)\n",
    "\n",
    "def partition(points, distances, left, right):\n",
    "    partition_index = left\n",
    "    pivot_element = distances[right]\n",
    "    \n",
    "    for j in range(left, right):\n",
    "        if distances[j] <= pivot_element:\n",
    "            distances[j], distances[partition_index] = distances[partition_index], distances[j]\n",
    "            points[j], points[partition_index] = points[partition_index], points[j]\n",
    "            partition_index += 1\n",
    "    distances[right], distances[partition_index] = distances[partition_index], distances[right]\n",
    "    points[right], points[partition_index] = points[partition_index], points[right]\n",
    "    return partition_index"
   ]
  },
  {
   "cell_type": "code",
   "execution_count": 67,
   "id": "aa359888",
   "metadata": {},
   "outputs": [
    {
     "name": "stdout",
     "output_type": "stream",
     "text": [
      "[[3, 3], [-2, 4]]\n"
     ]
    }
   ],
   "source": [
    "points = [[3, 3], [5, -1], [-2, 4]]\n",
    "k = 2\n",
    "print(kClosest(points, k))  # Output: [[3, 3], [-2, 4]]"
   ]
  },
  {
   "cell_type": "code",
   "execution_count": 68,
   "id": "e64d5c55",
   "metadata": {},
   "outputs": [],
   "source": [
    "def kClosest(points, k):\n",
    "    points.sort(key=lambda x:(x[0]**2 + x[1]**2))\n",
    "    return points[:k]"
   ]
  },
  {
   "cell_type": "code",
   "execution_count": 69,
   "id": "2685a2a7",
   "metadata": {},
   "outputs": [
    {
     "name": "stdout",
     "output_type": "stream",
     "text": [
      "[[3, 3], [-2, 4]]\n"
     ]
    }
   ],
   "source": [
    "points = [[3, 3], [5, -1], [-2, 4]]\n",
    "k = 2\n",
    "print(kClosest(points, k))  # Output: [[3, 3], [-2, 4]]"
   ]
  },
  {
   "cell_type": "markdown",
   "id": "9eba939b",
   "metadata": {},
   "source": [
    "## 24. Building with an ocean view"
   ]
  },
  {
   "cell_type": "code",
   "execution_count": 70,
   "id": "0b5c1e59",
   "metadata": {},
   "outputs": [],
   "source": [
    "def canSee(heights):\n",
    "    max_height = -1\n",
    "    answer = []\n",
    "    \n",
    "    for i in reversed(range(len(heights))):\n",
    "        if heights[i] > max_height:\n",
    "            max_height = heights[i]\n",
    "            answer.append(i)\n",
    "    answer.reverse()\n",
    "    return answer        "
   ]
  },
  {
   "cell_type": "code",
   "execution_count": 72,
   "id": "2dc43826",
   "metadata": {},
   "outputs": [
    {
     "data": {
      "text/plain": [
       "[0, 2, 3]"
      ]
     },
     "execution_count": 72,
     "metadata": {},
     "output_type": "execute_result"
    }
   ],
   "source": [
    "heights = [4,2,3,1]\n",
    "canSee(heights)"
   ]
  },
  {
   "cell_type": "markdown",
   "id": "0f1dadcb",
   "metadata": {},
   "source": [
    "## 25. Interval List intersections"
   ]
  },
  {
   "cell_type": "code",
   "execution_count": 73,
   "id": "12796668",
   "metadata": {},
   "outputs": [],
   "source": [
    "def intervalListIntersections(firstList, secondList):\n",
    "    p1 = 0\n",
    "    p2 = 0\n",
    "    ans = []\n",
    "    \n",
    "    while p1 < len(firstList) and p2 < len(secondList):\n",
    "        low = max(firstList[p1][0], secondList[p2][0])\n",
    "        high = min(firstList[p1][1], secondList[p2][1])\n",
    "        \n",
    "        if low <= high:\n",
    "            ans.append([low, high])\n",
    "            \n",
    "        if firstList[p1][1] <= secondList[p2][1]:\n",
    "            p1 += 1\n",
    "        else:\n",
    "            p2 += 1\n",
    "    return ans"
   ]
  },
  {
   "cell_type": "code",
   "execution_count": 75,
   "id": "4f5ff8b8",
   "metadata": {},
   "outputs": [
    {
     "data": {
      "text/plain": [
       "[[1, 2], [5, 5], [8, 10], [15, 23], [24, 24], [25, 25]]"
      ]
     },
     "execution_count": 75,
     "metadata": {},
     "output_type": "execute_result"
    }
   ],
   "source": [
    "firstList = [[0,2],[5,10],[13,23],[24,25]]\n",
    "secondList = [[1,5],[8,12],[15,24],[25,26]]\n",
    "\n",
    "intervalListIntersections(firstList, secondList)"
   ]
  },
  {
   "cell_type": "markdown",
   "id": "dac5bc02",
   "metadata": {},
   "source": [
    "## 26. Copy list with random pointer"
   ]
  },
  {
   "cell_type": "code",
   "execution_count": 77,
   "id": "7783b882",
   "metadata": {},
   "outputs": [],
   "source": [
    "class Solution:\n",
    "    def __init__(self):\n",
    "        # Dictionary which holds old nodes as keys and new nodes as its values.\n",
    "        self.visitedHash = {}\n",
    "    \n",
    "    def copyRandomList(self, head):\n",
    "        if not head:\n",
    "            return None\n",
    "        \n",
    "        if head in self.visitedHash:\n",
    "            return self.visitedHash[head]\n",
    "        \n",
    "        node = Node(head.val, None, None)\n",
    "        \n",
    "        self.visitedHash[head] = node\n",
    "        \n",
    "        node.next = self.copyRandomList(head.next)\n",
    "        node.random = self.copyRandomList(head.random)\n",
    "        \n",
    "        return node"
   ]
  },
  {
   "cell_type": "code",
   "execution_count": 82,
   "id": "c0fc0bc7",
   "metadata": {},
   "outputs": [
    {
     "name": "stdout",
     "output_type": "stream",
     "text": [
      "List 1:\n",
      "1 -> 4 -> 5 -> None\n",
      "\n",
      "List 2:\n",
      "1 -> 3 -> 4 -> None\n",
      "\n",
      "List 3:\n",
      "2 -> 6 -> None\n"
     ]
    }
   ],
   "source": [
    "from functools import reduce\n",
    "\n",
    "# Template to create node list\n",
    "class ListNode:\n",
    "    def __init__(self, val, next=None):\n",
    "        self.val = val\n",
    "        self.next = next\n",
    "\n",
    "# Function to print the linked list\n",
    "def printList(head):\n",
    "    if not head:\n",
    "        return\n",
    "    while head:\n",
    "        print(head.val, end=\" -> \")\n",
    "        head = head.next\n",
    "    print(\"None\")\n",
    "\n",
    "# Function to create a linked list from a list of values\n",
    "def createLinkedList(values):\n",
    "    return reduce(lambda acc, val: ListNode(val, acc), reversed(values), None)\n",
    "\n",
    "# Create multiple linked lists\n",
    "list1 = createLinkedList([1, 4, 5])\n",
    "list2 = createLinkedList([1, 3, 4])\n",
    "list3 = createLinkedList([2, 6])\n",
    "\n",
    "# Print the linked lists\n",
    "print(\"List 1:\")\n",
    "printList(list1)\n",
    "\n",
    "print(\"\\nList 2:\")\n",
    "printList(list2)\n",
    "\n",
    "print(\"\\nList 3:\")\n",
    "printList(list3)"
   ]
  },
  {
   "cell_type": "markdown",
   "id": "3755e407",
   "metadata": {},
   "source": [
    "## 27. Merge K sorted lists"
   ]
  },
  {
   "cell_type": "code",
   "execution_count": 79,
   "id": "54dc6701",
   "metadata": {},
   "outputs": [],
   "source": [
    "def mergeKSorted(lists):\n",
    "    nodes = []\n",
    "    \n",
    "    dummy = ListNode(0)\n",
    "    curr = dummy\n",
    "    \n",
    "    for l in lists:\n",
    "        while l:\n",
    "            nodes.append(l.val)\n",
    "            l = l.next\n",
    "    \n",
    "    for x in sorted(nodes):\n",
    "        curr.next = ListNode(x)\n",
    "        curr = curr.next\n",
    "    \n",
    "    return dummy.next"
   ]
  },
  {
   "cell_type": "code",
   "execution_count": 80,
   "id": "8cb856c7",
   "metadata": {},
   "outputs": [
    {
     "name": "stdout",
     "output_type": "stream",
     "text": [
      "\n",
      "Merged List:\n",
      "1 -> 1 -> 2 -> 3 -> 4 -> 4 -> 5 -> 6 -> None\n"
     ]
    }
   ],
   "source": [
    "mergedList = mergeKSorted([list1, list2, list3])\n",
    "print(\"\\nMerged List:\")\n",
    "printList(mergedList)"
   ]
  },
  {
   "cell_type": "code",
   "execution_count": 81,
   "id": "7d9d74ea",
   "metadata": {},
   "outputs": [],
   "source": [
    "import heapq\n",
    "def mergeKSorted(lists):\n",
    "    \n",
    "    if not lists or len(lists) == 0:\n",
    "        return None\n",
    "    \n",
    "    dummy = ListNode(0)\n",
    "    curr = dummy\n",
    "    \n",
    "    min_heap = []\n",
    "    \n",
    "    for i, l in enumerate(lists):\n",
    "        if l:\n",
    "            heapq.heappush(min_heap, (l.val, i, l))\n",
    "    \n",
    "    while min_heap:\n",
    "        val, i, node = heapq.heappop(min_heap)\n",
    "        \n",
    "        curr.next = node\n",
    "        curr = curr.next\n",
    "        \n",
    "        if node.next:\n",
    "            heapq.heappush(min_heap, (node.next.val, i, node.next))\n",
    "    return dummy.next"
   ]
  },
  {
   "cell_type": "code",
   "execution_count": 83,
   "id": "1aabc39b",
   "metadata": {},
   "outputs": [
    {
     "name": "stdout",
     "output_type": "stream",
     "text": [
      "\n",
      "Merged List:\n",
      "1 -> 1 -> 2 -> 3 -> 4 -> 4 -> 5 -> 6 -> None\n"
     ]
    }
   ],
   "source": [
    "mergedList = mergeKSorted([list1, list2, list3])\n",
    "print(\"\\nMerged List:\")\n",
    "printList(mergedList)"
   ]
  },
  {
   "cell_type": "markdown",
   "id": "ca001e5f",
   "metadata": {},
   "source": [
    "## 28. Min adds to make parenthesis valid"
   ]
  },
  {
   "cell_type": "code",
   "execution_count": 84,
   "id": "f1a1e78a",
   "metadata": {},
   "outputs": [],
   "source": [
    "def minAddToMakeValid(s):\n",
    "    open_brackets = 0\n",
    "    min_adds_required = 0\n",
    "    \n",
    "    for c in s:\n",
    "        if c == '(':\n",
    "            open_brackets += 1\n",
    "        else:\n",
    "            if open_brackets > 0:\n",
    "                open_brackets -= 1\n",
    "            else:\n",
    "                min_adds_required += 1\n",
    "    return open_brackets + min_adds_required"
   ]
  },
  {
   "cell_type": "code",
   "execution_count": 87,
   "id": "368c1672",
   "metadata": {},
   "outputs": [
    {
     "data": {
      "text/plain": [
       "3"
      ]
     },
     "execution_count": 87,
     "metadata": {},
     "output_type": "execute_result"
    }
   ],
   "source": [
    "s = \"(((\"\n",
    "minAddToMakeValid(s)"
   ]
  },
  {
   "cell_type": "markdown",
   "id": "c8681374",
   "metadata": {},
   "source": [
    "## 29. Next Permutation"
   ]
  },
  {
   "cell_type": "code",
   "execution_count": 88,
   "id": "5a8220d0",
   "metadata": {},
   "outputs": [],
   "source": [
    "def nextPermutation(nums):\n",
    "    n = len(nums)\n",
    "    \n",
    "    i = n - 2\n",
    "    \n",
    "    while i >= 0 and nums[i] >= nums[i + 1]:\n",
    "        i -= 1\n",
    "        \n",
    "    if i >= 0:\n",
    "        j = n - 1\n",
    "        \n",
    "        while nums[j] <= nums[i]:\n",
    "            j -= 1\n",
    "        \n",
    "        nums[i], nums[j] = nums[j], nums[i]\n",
    "    \n",
    "    left = i + 1\n",
    "    right = n - 1\n",
    "    \n",
    "    while left < right:\n",
    "        nums[left], nums[right] = nums[right], nums[left]\n",
    "        left += 1\n",
    "        right -= 1"
   ]
  },
  {
   "cell_type": "code",
   "execution_count": 89,
   "id": "a5c02035",
   "metadata": {},
   "outputs": [
    {
     "name": "stdout",
     "output_type": "stream",
     "text": [
      "[1, 4, 1, 3, 5, 6]\n"
     ]
    }
   ],
   "source": [
    "nums = [1, 3, 6, 5, 4, 1]\n",
    "nextPermutation(nums)\n",
    "print(nums)"
   ]
  },
  {
   "cell_type": "markdown",
   "id": "c96a6765",
   "metadata": {},
   "source": [
    "## 30. Sum root to leaf numbers"
   ]
  },
  {
   "cell_type": "code",
   "execution_count": 90,
   "id": "afc83dbf",
   "metadata": {},
   "outputs": [],
   "source": [
    "def run():\n",
    "    root = Node(5)\n",
    "    root.insert_nodes([3, 7, 2, 4, 6, 8], root)\n",
    "    bfs_result = root.bfs(root=root)\n",
    "    dfs_inorder = root.DFSInorder(root)\n",
    "    dfs_preorder = root.DFSPreOrder(root)\n",
    "    dfs_postorder = root.DFSPostOrder(root)\n",
    "    return root, bfs_result, dfs_inorder, dfs_preorder, dfs_postorder\n",
    "\n",
    "root_2, bfs_result, dfs_inorder, dfs_preorder, dfs_postorder = run()"
   ]
  },
  {
   "cell_type": "code",
   "execution_count": 91,
   "id": "27263355",
   "metadata": {},
   "outputs": [],
   "source": [
    "def sumNumbers(root):\n",
    "    if not root:\n",
    "        return 0\n",
    "    \n",
    "    queue = [[root, root.val]]\n",
    "    result = 0\n",
    "    \n",
    "    while queue:\n",
    "        curr_node, path_sum = queue.pop(0)\n",
    "        \n",
    "        if not curr_node.left and not curr_node.right:\n",
    "            result += path_sum\n",
    "        \n",
    "        if curr_node.left:\n",
    "            queue.append([curr_node.left, path_sum * 10 + curr_node.val])\n",
    "        \n",
    "        if curr_node.right:\n",
    "            queue.append([curr_node.right, path_sum * 10 + curr_node.val])\n",
    "    return result"
   ]
  },
  {
   "cell_type": "code",
   "execution_count": 92,
   "id": "0d275754",
   "metadata": {},
   "outputs": [
    {
     "data": {
      "text/plain": [
       "2220"
      ]
     },
     "execution_count": 92,
     "metadata": {},
     "output_type": "execute_result"
    }
   ],
   "source": [
    "sumNumbers(root_2)"
   ]
  },
  {
   "cell_type": "markdown",
   "id": "c4e49f02",
   "metadata": {},
   "source": [
    "## 31. Moving averages from a data stream"
   ]
  },
  {
   "cell_type": "code",
   "execution_count": 3,
   "id": "7cad3f7e",
   "metadata": {},
   "outputs": [],
   "source": [
    "from collections import deque\n",
    "\n",
    "class MovingAverage:\n",
    "    def __init__(self, size):\n",
    "        self.count = 0\n",
    "        self.window_sum = 0\n",
    "        self.size = size\n",
    "        self.queue = deque()\n",
    "        \n",
    "    def next(self, val):\n",
    "        self.count += 1\n",
    "        \n",
    "        self.queue.append(val)\n",
    "        \n",
    "        tail = self.queue.popleft() if self.count > self.size else 0\n",
    "        \n",
    "        self.window_sum = self.window_sum - tail + val\n",
    "        \n",
    "        return self.window_sum / min(self.count, self.size)"
   ]
  },
  {
   "cell_type": "code",
   "execution_count": 4,
   "id": "1fd16156",
   "metadata": {},
   "outputs": [
    {
     "name": "stdout",
     "output_type": "stream",
     "text": [
      "1.0\n",
      "5.5\n",
      "4.666666666666667\n",
      "6.0\n"
     ]
    }
   ],
   "source": [
    "movingAverage = MovingAverage(3)\n",
    "print(movingAverage.next(1))\n",
    "print(movingAverage.next(10))\n",
    "print(movingAverage.next(3))\n",
    "print(movingAverage.next(5))"
   ]
  },
  {
   "cell_type": "markdown",
   "id": "9ea36b5f",
   "metadata": {},
   "source": [
    "## 32. Custom sort string"
   ]
  },
  {
   "cell_type": "code",
   "execution_count": 5,
   "id": "05fa98d1",
   "metadata": {},
   "outputs": [],
   "source": [
    "from collections import Counter\n",
    "def customSortString(order, s):\n",
    "    counts = Counter(s)\n",
    "    result = []\n",
    "    \n",
    "    for char in order:\n",
    "        if char in counts:\n",
    "            result.append(counts[char] * char)\n",
    "            del counts[char]\n",
    "    \n",
    "    for char, count in counts.items():\n",
    "        result.append(char * count)\n",
    "    \n",
    "    return \"\".join(result)"
   ]
  },
  {
   "cell_type": "code",
   "execution_count": 6,
   "id": "0c693246",
   "metadata": {},
   "outputs": [
    {
     "data": {
      "text/plain": [
       "'cbaeed'"
      ]
     },
     "execution_count": 6,
     "metadata": {},
     "output_type": "execute_result"
    }
   ],
   "source": [
    "order = \"cba\"\n",
    "s = \"abceed\"\n",
    "\n",
    "customSortString(order, s)"
   ]
  },
  {
   "cell_type": "markdown",
   "id": "351f012b",
   "metadata": {},
   "source": [
    "## 33. Convert Binary tree into sorted doubly linked list"
   ]
  },
  {
   "cell_type": "code",
   "execution_count": 7,
   "id": "d04a703d",
   "metadata": {},
   "outputs": [],
   "source": [
    "def treeToDoublyList(root):\n",
    "    def inorder(node):\n",
    "        nonlocal first, last\n",
    "        \n",
    "        if node:\n",
    "            inorder(node.left)\n",
    "            \n",
    "            if last:\n",
    "                last.right = node\n",
    "                node.left = last\n",
    "            else:\n",
    "                first = node\n",
    "            \n",
    "            last = node\n",
    "            \n",
    "            inorder(node.right)\n",
    "    \n",
    "    if not root:\n",
    "        return None\n",
    "    \n",
    "    first, last = None, None\n",
    "    \n",
    "    inorder(root)\n",
    "    \n",
    "    last.right = first\n",
    "    first.left = last\n",
    "    return first"
   ]
  },
  {
   "cell_type": "markdown",
   "id": "2c2dc162",
   "metadata": {},
   "source": [
    "## 34. Maximum consecutive ones"
   ]
  },
  {
   "cell_type": "code",
   "execution_count": 13,
   "id": "3d7cd100",
   "metadata": {},
   "outputs": [],
   "source": [
    "def longestOnes(nums, k):\n",
    "    \n",
    "    left = 0\n",
    "    \n",
    "    for right in range(len(nums)):\n",
    "        if nums[right] == 0:\n",
    "            k -= 1\n",
    "        \n",
    "        if k < 0:\n",
    "            if nums[left] == 0:\n",
    "                k += 1\n",
    "            left += 1\n",
    "    return right - left + 1"
   ]
  },
  {
   "cell_type": "code",
   "execution_count": 14,
   "id": "12c27b57",
   "metadata": {},
   "outputs": [
    {
     "data": {
      "text/plain": [
       "6"
      ]
     },
     "execution_count": 14,
     "metadata": {},
     "output_type": "execute_result"
    }
   ],
   "source": [
    "nums = [1,1,1,0,0,0,1,1,1,1,0]\n",
    "k = 2\n",
    "\n",
    "longestOnes(nums, k)"
   ]
  },
  {
   "cell_type": "code",
   "execution_count": 15,
   "id": "a7aa1850",
   "metadata": {},
   "outputs": [
    {
     "data": {
      "text/plain": [
       "10"
      ]
     },
     "execution_count": 15,
     "metadata": {},
     "output_type": "execute_result"
    }
   ],
   "source": [
    "nums = [0,0,1,1,0,0,1,1,1,0,1,1,0,0,0,1,1,1,1]\n",
    "k = 3\n",
    "longestOnes(nums, k)"
   ]
  },
  {
   "cell_type": "markdown",
   "id": "cc4bb54a",
   "metadata": {},
   "source": [
    "## 35. Maximum Swap"
   ]
  },
  {
   "cell_type": "code",
   "execution_count": 16,
   "id": "88b5b363",
   "metadata": {},
   "outputs": [],
   "source": [
    "def maxSwap(num):\n",
    "    digits = list(str(num))\n",
    "    \n",
    "    right_most = {int(d):i for i, d in enumerate(digits)}\n",
    "    \n",
    "    for i, d in enumerate(digits):\n",
    "        for larger in range(9, int(d), -1):\n",
    "            if right_most.get(larger, -1) > i:\n",
    "                digits[i], digits[right_most[larger]] = digits[right_most[larger]], digits[i]\n",
    "                return int(\"\".join(digits))"
   ]
  },
  {
   "cell_type": "code",
   "execution_count": 17,
   "id": "d76abd3d",
   "metadata": {},
   "outputs": [
    {
     "data": {
      "text/plain": [
       "7726"
      ]
     },
     "execution_count": 17,
     "metadata": {},
     "output_type": "execute_result"
    }
   ],
   "source": [
    "num = 2776\n",
    "\n",
    "maxSwap(num)"
   ]
  },
  {
   "cell_type": "markdown",
   "id": "0c898e2a",
   "metadata": {},
   "source": [
    "## 36. Vertical order traversal of binary tree"
   ]
  },
  {
   "cell_type": "code",
   "execution_count": 18,
   "id": "1bdfdf44",
   "metadata": {},
   "outputs": [],
   "source": [
    "from collections import defaultdict\n",
    "\n",
    "def verticalTraversal(root):\n",
    "    if not root:\n",
    "        return []\n",
    "    \n",
    "    queue = [[root, 0, 0]]\n",
    "    \n",
    "    column_table = defaultdict(list)\n",
    "    \n",
    "    min_col = 0\n",
    "    \n",
    "    max_col = 0\n",
    "    \n",
    "    while queue:\n",
    "        curr_node, curr_row, curr_col = queue.pop(0)\n",
    "        \n",
    "        if curr_node:\n",
    "            column_table[curr_col].append([curr_row, curr_node.val])\n",
    "            \n",
    "            min_col = min(min_col, curr_col)\n",
    "            max_col = max(max_col, curr_col)\n",
    "            \n",
    "            queue.append([curr_node.left, curr_row + 1, curr_col - 1])\n",
    "            queue.append([curr_node.right, curr_row + 1, curr_col + 1])\n",
    "    \n",
    "    sorted_result = []\n",
    "            \n",
    "    for col in range(min_col, max_col + 1):\n",
    "        sorted_column = sorted(column_table[col], key=lambda x:(x[0], x[1]))\n",
    "        sorted_result.append([val for _, val in sorted_column])\n",
    "    \n",
    "    return sorted_result"
   ]
  },
  {
   "cell_type": "code",
   "execution_count": 21,
   "id": "e5706c22",
   "metadata": {},
   "outputs": [
    {
     "data": {
      "text/plain": [
       "[[1], [4], [9, 6, 15], [20], [170]]"
      ]
     },
     "execution_count": 21,
     "metadata": {},
     "output_type": "execute_result"
    }
   ],
   "source": [
    "verticalTraversal(root)"
   ]
  },
  {
   "cell_type": "markdown",
   "id": "624a4061",
   "metadata": {},
   "source": [
    "## 37. Kth missing positive number"
   ]
  },
  {
   "cell_type": "code",
   "execution_count": 23,
   "id": "4bb53715",
   "metadata": {},
   "outputs": [],
   "source": [
    "def kthMissing(nums, k):\n",
    "    for num in nums:\n",
    "        if num <= k:\n",
    "            k += 1\n",
    "        else:\n",
    "            break\n",
    "    return k"
   ]
  },
  {
   "cell_type": "code",
   "execution_count": 24,
   "id": "bd5fa2cb",
   "metadata": {},
   "outputs": [
    {
     "data": {
      "text/plain": [
       "9"
      ]
     },
     "execution_count": 24,
     "metadata": {},
     "output_type": "execute_result"
    }
   ],
   "source": [
    "arr = [2,3,4,7,11]\n",
    "k = 5\n",
    "kthMissing(arr, k)"
   ]
  },
  {
   "cell_type": "code",
   "execution_count": 25,
   "id": "993fc261",
   "metadata": {},
   "outputs": [],
   "source": [
    "def kthMissing(nums, k):\n",
    "    left = 0\n",
    "    right = len(nums) - 1\n",
    "    \n",
    "    while left <= right:\n",
    "        mid = (left + right) // 2\n",
    "        \n",
    "        if arr[mid] - mid - 1 < k:\n",
    "            left = mid + 1\n",
    "        else:\n",
    "            right = mid - 1\n",
    "    return k + left     "
   ]
  },
  {
   "cell_type": "code",
   "execution_count": 26,
   "id": "39aae31d",
   "metadata": {},
   "outputs": [
    {
     "data": {
      "text/plain": [
       "9"
      ]
     },
     "execution_count": 26,
     "metadata": {},
     "output_type": "execute_result"
    }
   ],
   "source": [
    "# arr[right] + k - (arr[right] - right - 1) = k + right + 1 = k + left\n",
    "arr = [2,3,4,7,11]\n",
    "k = 5\n",
    "kthMissing(arr, k)"
   ]
  },
  {
   "cell_type": "markdown",
   "id": "09e76cb8",
   "metadata": {},
   "source": [
    "## 38. Clone graph"
   ]
  },
  {
   "cell_type": "code",
   "execution_count": 29,
   "id": "a8339a7b",
   "metadata": {},
   "outputs": [],
   "source": [
    "def cloneGraph(node):\n",
    "    if not node:\n",
    "        return None\n",
    "    \n",
    "    visited = {}\n",
    "    \n",
    "    def dfs(curr_node):\n",
    "        if curr_node in visited:\n",
    "            return visited[curr_node]\n",
    "        \n",
    "        clone = Node(curr_node.val)\n",
    "        \n",
    "        visited[curr_node] = clone\n",
    "        \n",
    "        for neighbor in curr_node.neighbors:\n",
    "            clone.neighbors.append(dfs(neighbor))\n",
    "        \n",
    "        return clone\n",
    "    \n",
    "    return dfs(node)"
   ]
  },
  {
   "cell_type": "markdown",
   "id": "c79103cf",
   "metadata": {},
   "source": [
    "## 39. First and last position of an element in a sorted array"
   ]
  },
  {
   "cell_type": "code",
   "execution_count": 32,
   "id": "8798ef6a",
   "metadata": {},
   "outputs": [],
   "source": [
    "def searchRange(nums, target):\n",
    "    if len(nums) == 0:\n",
    "        return [-1, -1]\n",
    "    \n",
    "    left = 0\n",
    "    right = len(nums) - 1\n",
    "    \n",
    "    first_position = binary_search(nums, left, right, target)\n",
    "    \n",
    "    if first_position == -1:\n",
    "        return [-1, -1]\n",
    "    \n",
    "    start_position = first_position\n",
    "    end_position = first_position\n",
    "    tempL = 0\n",
    "    tempR = 0\n",
    "    \n",
    "    while start_position != -1:\n",
    "        tempL = start_position\n",
    "        start_position = binary_search(nums, left, start_position - 1, target)\n",
    "    start_position = tempL\n",
    "    \n",
    "    while end_position != -1:\n",
    "        tempR = end_position\n",
    "        end_position = binary_search(nums, end_position + 1, right, target)\n",
    "    end_position = tempR\n",
    "    \n",
    "    return [start_position, end_position]\n",
    "\n",
    "def binary_search(nums, left, right, target):\n",
    "    while left <= right:\n",
    "        mid = (left + right) // 2\n",
    "        \n",
    "        if nums[mid] == target:\n",
    "            return mid\n",
    "        elif nums[mid] < target:\n",
    "            left = mid + 1\n",
    "        else:\n",
    "            right = mid - 1\n",
    "    return -1"
   ]
  },
  {
   "cell_type": "code",
   "execution_count": 33,
   "id": "a2626afa",
   "metadata": {},
   "outputs": [
    {
     "data": {
      "text/plain": [
       "[3, 4]"
      ]
     },
     "execution_count": 33,
     "metadata": {},
     "output_type": "execute_result"
    }
   ],
   "source": [
    "nums = [5,7,7,8,8,10]\n",
    "target = 8\n",
    "\n",
    "searchRange(nums, target)"
   ]
  },
  {
   "cell_type": "markdown",
   "id": "9e4a62fc",
   "metadata": {},
   "source": [
    "## 40. Best time to buy and sell stock"
   ]
  },
  {
   "cell_type": "code",
   "execution_count": 34,
   "id": "a8610bb5",
   "metadata": {},
   "outputs": [],
   "source": [
    "def maxProfit(prices):\n",
    "    min_price = float('inf')\n",
    "    max_profit = 0\n",
    "    \n",
    "    for i in range(len(prices)):\n",
    "        if prices[i] < min_price:\n",
    "            min_price = prices[i]\n",
    "        \n",
    "        if prices[i] - min_price > max_profit:\n",
    "            max_profit = prices[i] - min_price\n",
    "    return max_profit"
   ]
  },
  {
   "cell_type": "code",
   "execution_count": 35,
   "id": "89186506",
   "metadata": {},
   "outputs": [
    {
     "data": {
      "text/plain": [
       "5"
      ]
     },
     "execution_count": 35,
     "metadata": {},
     "output_type": "execute_result"
    }
   ],
   "source": [
    "prices = [7,1,5,3,6,4]\n",
    "maxProfit(prices)"
   ]
  },
  {
   "cell_type": "markdown",
   "id": "e3ad7101",
   "metadata": {},
   "source": [
    "## 41. Three Sum"
   ]
  },
  {
   "cell_type": "code",
   "execution_count": 36,
   "id": "59a2e942",
   "metadata": {},
   "outputs": [],
   "source": [
    "def threeSum(nums):\n",
    "    res = []\n",
    "    nums.sort()\n",
    "    \n",
    "    for i in range(len(nums)):\n",
    "        if nums[i] > 0:\n",
    "            break\n",
    "        if i == 0 or nums[i] != nums[i - 1]:\n",
    "            twoSum(nums, i, res)\n",
    "    \n",
    "    return res\n",
    "\n",
    "def twoSum(nums, i, res):\n",
    "    left = i + 1\n",
    "    right = len(nums) - 1\n",
    "    \n",
    "    while left < right:\n",
    "        total = nums[i] + nums[left] + nums[right]\n",
    "        \n",
    "        if total < 0:\n",
    "            left += 1\n",
    "        elif total > 0:\n",
    "            right -= 1\n",
    "        else:\n",
    "            res.append([nums[i], nums[left], nums[right]])\n",
    "            left += 1\n",
    "            right -= 1\n",
    "            \n",
    "            while left < right and nums[left] == nums[left - 1]:\n",
    "                left += 1\n",
    "                "
   ]
  },
  {
   "cell_type": "code",
   "execution_count": 37,
   "id": "8d0db010",
   "metadata": {},
   "outputs": [
    {
     "data": {
      "text/plain": [
       "[[-1, -1, 2], [-1, 0, 1]]"
      ]
     },
     "execution_count": 37,
     "metadata": {},
     "output_type": "execute_result"
    }
   ],
   "source": [
    "nums = [-1,0,1,2,-1,-4]\n",
    "threeSum(nums)"
   ]
  },
  {
   "cell_type": "markdown",
   "id": "5b207561",
   "metadata": {},
   "source": [
    "## 42. Move Zeros"
   ]
  },
  {
   "cell_type": "code",
   "execution_count": 40,
   "id": "af315037",
   "metadata": {},
   "outputs": [],
   "source": [
    "def moveZeroes(nums):\n",
    "    pos = 0\n",
    "    \n",
    "    for i in range(len(nums)):\n",
    "        if nums[i] != 0:\n",
    "            if pos != i:\n",
    "                nums[pos], nums[i] = nums[i], nums[pos]\n",
    "            pos += 1\n",
    "    return"
   ]
  },
  {
   "cell_type": "code",
   "execution_count": 41,
   "id": "2fe0fc37",
   "metadata": {},
   "outputs": [
    {
     "name": "stdout",
     "output_type": "stream",
     "text": [
      "[1, 3, 12, 0, 0]\n"
     ]
    }
   ],
   "source": [
    "nums = [0,1,0,3,12]\n",
    "moveZeroes(nums)\n",
    "print(nums)"
   ]
  },
  {
   "cell_type": "markdown",
   "id": "3812a192",
   "metadata": {},
   "source": [
    "## 43. Add two linked lists"
   ]
  },
  {
   "cell_type": "code",
   "execution_count": 42,
   "id": "06613333",
   "metadata": {},
   "outputs": [],
   "source": [
    "def addNumbers(l1, l2):\n",
    "    dummy = ListNode(0)\n",
    "    curr = dummy\n",
    "    carry = 0\n",
    "    \n",
    "    while l1 or l2 or carry != 0:\n",
    "        l1val = l1.val if l1 else 0\n",
    "        l2val = l2.val if l2 else 0\n",
    "        \n",
    "        column_sum = (l1val + l2val + carry) % 10\n",
    "        carry = (l1val + l2val + carry) // 10\n",
    "        \n",
    "        curr.next = ListNode(column_sum)\n",
    "        curr = curr.next\n",
    "        \n",
    "        l1 = l1.next if l1 else None\n",
    "        l2 = l2.next if l2 else None\n",
    "    return dummy.next"
   ]
  },
  {
   "cell_type": "markdown",
   "id": "a83f6b9a",
   "metadata": {},
   "source": [
    "## 44. Longest Common prefix"
   ]
  },
  {
   "cell_type": "code",
   "execution_count": 43,
   "id": "baa6930e",
   "metadata": {},
   "outputs": [],
   "source": [
    "def longestCommonPrefix(strs):\n",
    "    result = []\n",
    "    \n",
    "    for x in zip(*strs):\n",
    "        if len(set(x)) == 1:\n",
    "            result.append(x[0])\n",
    "        else:\n",
    "            break\n",
    "    return \"\".join(result)"
   ]
  },
  {
   "cell_type": "code",
   "execution_count": 44,
   "id": "2fd8e234",
   "metadata": {},
   "outputs": [
    {
     "data": {
      "text/plain": [
       "'fl'"
      ]
     },
     "execution_count": 44,
     "metadata": {},
     "output_type": "execute_result"
    }
   ],
   "source": [
    "strs = [\"flower\",\"flow\",\"flight\"]\n",
    "longestCommonPrefix(strs)"
   ]
  },
  {
   "cell_type": "markdown",
   "id": "b524cdec",
   "metadata": {},
   "source": [
    "## 45. Insert into a sorted circular linked list"
   ]
  },
  {
   "cell_type": "code",
   "execution_count": 46,
   "id": "88e2c12e",
   "metadata": {},
   "outputs": [],
   "source": [
    "def insert(head, insertVal):\n",
    "    if not head:\n",
    "        new_node = Node(insertVal, None)\n",
    "        new_node.next = new_node\n",
    "        return new_node\n",
    "    \n",
    "    prev = head\n",
    "    curr = head.next\n",
    "    \n",
    "    to_insert = False\n",
    "    \n",
    "    while True:\n",
    "        if prev.val <= insertVal <= curr.val:\n",
    "            to_insert = True\n",
    "        elif prev.val > curr.val:\n",
    "            if insertVal >= prev.val or insertVal <= curr.val:\n",
    "                to_insert = True\n",
    "        \n",
    "        if to_insert:\n",
    "            prev.next = Node(insertVal, curr)\n",
    "            \n",
    "            return head\n",
    "        \n",
    "        prev, curr = curr, curr.next\n",
    "        \n",
    "        if prev == head:\n",
    "            break\n",
    "    \n",
    "    prev.next = Node(insertVal, curr)\n",
    "    return head"
   ]
  },
  {
   "cell_type": "markdown",
   "id": "d4378fc9",
   "metadata": {},
   "source": [
    "## 46. Number of Islands"
   ]
  },
  {
   "cell_type": "code",
   "execution_count": 47,
   "id": "36fed44b",
   "metadata": {},
   "outputs": [],
   "source": [
    "def numIslands(grid):\n",
    "    if len(grid) == 0:\n",
    "        return 0\n",
    "    \n",
    "    island_count = 0\n",
    "    directions = [[-1, 0], [0, 1], [1, 0], [0, -1]]\n",
    "    \n",
    "    for row in range(len(grid)):\n",
    "        for col in range(len(grid[0])):\n",
    "            if grid[row][col] == '1':\n",
    "                grid[row][col] = '0'\n",
    "                \n",
    "                island_count += 1\n",
    "                \n",
    "                queue = [[row, col]]\n",
    "                \n",
    "                while queue:\n",
    "                    curr_row, curr_col = queue.pop(0)\n",
    "                    \n",
    "                    for i in range(len(directions)):\n",
    "                        direction = directions[i]\n",
    "                        \n",
    "                        next_row, next_col = curr_row + direction[0], curr_col + direction[1]\n",
    "                        \n",
    "                        if next_row < 0 or next_col < 0 or next_row >= len(grid) or next_col >= len(grid[0]):\n",
    "                            continue\n",
    "                            \n",
    "                        if grid[next_row][next_col] == '1':\n",
    "                            grid[next_row][next_col] = 0\n",
    "                            queue.append([next_row, next_col])\n",
    "    return island_count"
   ]
  },
  {
   "cell_type": "code",
   "execution_count": 48,
   "id": "71b071b4",
   "metadata": {},
   "outputs": [
    {
     "data": {
      "text/plain": [
       "3"
      ]
     },
     "execution_count": 48,
     "metadata": {},
     "output_type": "execute_result"
    }
   ],
   "source": [
    "grid = [\n",
    "  [\"1\",\"1\",\"0\",\"0\",\"0\"],\n",
    "  [\"1\",\"1\",\"0\",\"0\",\"0\"],\n",
    "  [\"0\",\"0\",\"1\",\"0\",\"0\"],\n",
    "  [\"0\",\"0\",\"0\",\"1\",\"1\"]\n",
    "]\n",
    "\n",
    "numIslands(grid)"
   ]
  },
  {
   "cell_type": "markdown",
   "id": "e1bc5f31",
   "metadata": {},
   "source": [
    "## 47. Add strings"
   ]
  },
  {
   "cell_type": "code",
   "execution_count": 51,
   "id": "b00ef873",
   "metadata": {},
   "outputs": [],
   "source": [
    "def addStrings(num1, num2):\n",
    "    result = []\n",
    "    carry = 0\n",
    "    \n",
    "    p1 = len(num1) - 1\n",
    "    p2 = len(num2) - 1\n",
    "    \n",
    "    while p1 >= 0 or p2 >= 0:\n",
    "        x1 = ord(num1[p1]) - ord('0') if p1 >= 0 else 0\n",
    "        x2 = ord(num2[p2]) - ord('0') if p2 >= 0 else 0\n",
    "        \n",
    "        column_sum = (x1 + x2 + carry) % 10\n",
    "        carry = (x1 + x2 + carry) // 10\n",
    "        \n",
    "        result.append(column_sum)\n",
    "        \n",
    "        p1 -= 1\n",
    "        p2 -= 1\n",
    "    if carry:\n",
    "        result.append(carry)\n",
    "    \n",
    "    return \"\".join(str(x) for x in result[::-1])"
   ]
  },
  {
   "cell_type": "code",
   "execution_count": 52,
   "id": "cdf17d1f",
   "metadata": {},
   "outputs": [
    {
     "data": {
      "text/plain": [
       "'533'"
      ]
     },
     "execution_count": 52,
     "metadata": {},
     "output_type": "execute_result"
    }
   ],
   "source": [
    "num1 = \"456\"\n",
    "num2 = \"77\"\n",
    "\n",
    "addStrings(num1, num2)"
   ]
  },
  {
   "cell_type": "markdown",
   "id": "e61ceb69",
   "metadata": {},
   "source": [
    "## 48. Accounts merge"
   ]
  },
  {
   "cell_type": "code",
   "execution_count": 57,
   "id": "99e018c4",
   "metadata": {},
   "outputs": [],
   "source": [
    "def accountsMerge(accounts):\n",
    "    visited = [False] * len(accounts)\n",
    "    email_accounts_map = defaultdict(list)\n",
    "    result = []\n",
    "    \n",
    "    for idx, account in enumerate(accounts):\n",
    "        for j in range(1, len(account)):\n",
    "            email_accounts_map[account[j]].append(idx)\n",
    "            \n",
    "    def dfs(i, emails):\n",
    "        if visited[i]:\n",
    "            return\n",
    "        \n",
    "        visited[i] = True\n",
    "        \n",
    "        for j in range(1, len(accounts[i])):\n",
    "            email = accounts[i][j]\n",
    "            emails.add(email)\n",
    "            for neighbors in email_accounts_map[email]:\n",
    "                dfs(neighbors, emails)\n",
    "            \n",
    "    for idx, account in enumerate(accounts):\n",
    "        if visited[idx]:\n",
    "            continue\n",
    "        name, emails = account[0], set()\n",
    "        dfs(idx, emails)\n",
    "        result.append([name] + sorted(emails))\n",
    "    return result"
   ]
  },
  {
   "cell_type": "code",
   "execution_count": 58,
   "id": "a4cc5794",
   "metadata": {},
   "outputs": [
    {
     "data": {
      "text/plain": [
       "[['John', 'john00@mail.com', 'john_newyork@mail.com', 'johnsmith@mail.com'],\n",
       " ['Mary', 'mary@mail.com'],\n",
       " ['John', 'johnnybravo@mail.com']]"
      ]
     },
     "execution_count": 58,
     "metadata": {},
     "output_type": "execute_result"
    }
   ],
   "source": [
    "accounts = [[\"John\",\"johnsmith@mail.com\",\"john_newyork@mail.com\"],[\"John\",\"johnsmith@mail.com\",\"john00@mail.com\"],\n",
    "            [\"Mary\",\"mary@mail.com\"],[\"John\",\"johnnybravo@mail.com\"]]\n",
    "\n",
    "accountsMerge(accounts)"
   ]
  },
  {
   "cell_type": "markdown",
   "id": "926bdf6a",
   "metadata": {},
   "source": [
    "## 49. Diagonal Traverse"
   ]
  },
  {
   "cell_type": "code",
   "execution_count": 61,
   "id": "70c10a93",
   "metadata": {},
   "outputs": [],
   "source": [
    "def findDiagonalOrder(mat):\n",
    "    hash_map = defaultdict(list)\n",
    "    results = []\n",
    "    \n",
    "    for i in range(len(mat)):\n",
    "        for j in range(len(mat[0])):\n",
    "            hash_map[i + j].append(mat[i][j])\n",
    "    \n",
    "    for item in hash_map.items():\n",
    "        if item[0] % 2 == 0:\n",
    "            [results.append(x) for x in item[1][::-1]]\n",
    "        else:\n",
    "            [results.append(x) for x in item[1]]\n",
    "    return results"
   ]
  },
  {
   "cell_type": "code",
   "execution_count": 62,
   "id": "53887176",
   "metadata": {},
   "outputs": [
    {
     "data": {
      "text/plain": [
       "[1, 2, 4, 7, 5, 3, 6, 8, 9]"
      ]
     },
     "execution_count": 62,
     "metadata": {},
     "output_type": "execute_result"
    }
   ],
   "source": [
    "mat = [[1,2,3],[4,5,6],[7,8,9]]\n",
    "findDiagonalOrder(mat)"
   ]
  },
  {
   "cell_type": "markdown",
   "id": "99bb9ae9",
   "metadata": {},
   "source": [
    "## 50. All Nodes distance K in a binary tree"
   ]
  },
  {
   "cell_type": "code",
   "execution_count": 64,
   "id": "a8c71024",
   "metadata": {},
   "outputs": [],
   "source": [
    "def distanceK(root, target, k):\n",
    "    def add_parent(node, parent):\n",
    "        if node:\n",
    "            node.parent = parent\n",
    "            add_parent(node.left, node)\n",
    "            add_parent(node.right, node)\n",
    "    \n",
    "    add_parent(root, None)\n",
    "    \n",
    "    ans = []\n",
    "    visited = set()\n",
    "    \n",
    "    def dfs(curr, distance):\n",
    "        if not curr or curr in visited:\n",
    "            return\n",
    "        \n",
    "        visited.add(curr)\n",
    "        \n",
    "        if distance == 0:\n",
    "            ans.append(curr.val)\n",
    "            \n",
    "        dfs(curr.parent, distance - 1)\n",
    "        dfs(curr.left, distance - 1)\n",
    "        dfs(curr.right, distance - 1)\n",
    "    \n",
    "    dfs(target, k)\n",
    "    return ans"
   ]
  },
  {
   "cell_type": "markdown",
   "id": "27d407b2",
   "metadata": {},
   "source": [
    "## 51. Remove nth node from the end of the Linked List"
   ]
  },
  {
   "cell_type": "code",
   "execution_count": 65,
   "id": "7e4d67db",
   "metadata": {},
   "outputs": [],
   "source": [
    "def removeNthFromEnd(head, n):\n",
    "    dummy = ListNode(0)\n",
    "    dummy.next = head\n",
    "    first = dummy\n",
    "    second = dummy\n",
    "    \n",
    "    for i in range(n + 1):\n",
    "        first = first.next\n",
    "        \n",
    "    while first:\n",
    "        first = first.next\n",
    "        second = second.next\n",
    "        \n",
    "    second.next = second.next.next\n",
    "    return dummy.next"
   ]
  },
  {
   "cell_type": "markdown",
   "id": "5580a9e0",
   "metadata": {},
   "source": [
    "## Udemy"
   ]
  },
  {
   "cell_type": "markdown",
   "id": "e24d53ff",
   "metadata": {},
   "source": [
    "## 52. Container with most water"
   ]
  },
  {
   "cell_type": "code",
   "execution_count": 67,
   "id": "328a5ffb",
   "metadata": {},
   "outputs": [],
   "source": [
    "def max_area_better(nums):\n",
    "    if len(nums) <= 1:\n",
    "        return 0\n",
    "    \n",
    "    max_area = 0\n",
    "    left = 0\n",
    "    right = len(nums) - 1\n",
    "    \n",
    "    while left < right:\n",
    "        height = min(nums[left], nums[right])\n",
    "        width = right - left\n",
    "        area = height * width\n",
    "        max_area = max(max_area, area)\n",
    "        \n",
    "        if nums[left] <= nums[right]:\n",
    "            left += 1\n",
    "        else:\n",
    "            right -= 1\n",
    "    return max_area"
   ]
  },
  {
   "cell_type": "code",
   "execution_count": 68,
   "id": "b8ebc2b2",
   "metadata": {},
   "outputs": [
    {
     "data": {
      "text/plain": [
       "28"
      ]
     },
     "execution_count": 68,
     "metadata": {},
     "output_type": "execute_result"
    }
   ],
   "source": [
    "max_area_better([7,1,2,3,9])"
   ]
  },
  {
   "cell_type": "markdown",
   "id": "2415755e",
   "metadata": {},
   "source": [
    "## 53. Typed out strings"
   ]
  },
  {
   "cell_type": "code",
   "execution_count": 69,
   "id": "2da57bc1",
   "metadata": {},
   "outputs": [],
   "source": [
    "def typed_out_strings(s, t):\n",
    "    final_s = []\n",
    "    final_t = []\n",
    "    \n",
    "    for i in range(len(s)):\n",
    "        if s[i] != '#':\n",
    "            final_s.append(s[i])\n",
    "        else:\n",
    "            if len(final_s) > 0:\n",
    "                final_s.pop()\n",
    "    \n",
    "    for i in range(len(t)):\n",
    "        if t[i] != \"#\":\n",
    "            final_t.append(t[i])\n",
    "        else:\n",
    "            if len(final_t) > 0:\n",
    "                final_t.pop()\n",
    "    \n",
    "    return final_s == final_t"
   ]
  },
  {
   "cell_type": "code",
   "execution_count": 71,
   "id": "8c24930a",
   "metadata": {},
   "outputs": [
    {
     "data": {
      "text/plain": [
       "True"
      ]
     },
     "execution_count": 71,
     "metadata": {},
     "output_type": "execute_result"
    }
   ],
   "source": [
    "s = \"ab##\"\n",
    "t = \"c#d#\"\n",
    "\n",
    "# s = 'ab#c'\n",
    "# t = 'ad#c'\n",
    "\n",
    "# s = 'a###b'\n",
    "# t = 'b'\n",
    "\n",
    "# s = \"a#c\"\n",
    "# t = \"b\"\n",
    "\n",
    "# s = 'Ab#c'\n",
    "# t = 'ab#c'\n",
    "\n",
    "typed_out_strings(s, t)"
   ]
  },
  {
   "cell_type": "markdown",
   "id": "b10e7d00",
   "metadata": {},
   "source": [
    "## 54. Longest substring without repeating characters"
   ]
  },
  {
   "cell_type": "code",
   "execution_count": 73,
   "id": "051e7665",
   "metadata": {},
   "outputs": [],
   "source": [
    "def longestSubstring(s):\n",
    "    if len(s) <= 1:\n",
    "        return len(s)\n",
    "    \n",
    "    seen_chars = {}\n",
    "    left = 0\n",
    "    longest = 0\n",
    "    \n",
    "    for right in range(len(s)):\n",
    "        current_char = s[right]\n",
    "        \n",
    "        prev_seen_char = -1\n",
    "        \n",
    "        if current_char in seen_chars:\n",
    "            prev_seen_char = seen_chars[current_char]\n",
    "        \n",
    "        if prev_seen_char >= left:\n",
    "            left = prev_seen_char + 1\n",
    "        \n",
    "        seen_chars[current_char] = right\n",
    "        longest = max(longest, right - left + 1)\n",
    "    return longest"
   ]
  },
  {
   "cell_type": "code",
   "execution_count": 75,
   "id": "b22af7d9",
   "metadata": {},
   "outputs": [
    {
     "data": {
      "text/plain": [
       "4"
      ]
     },
     "execution_count": 75,
     "metadata": {},
     "output_type": "execute_result"
    }
   ],
   "source": [
    "s = 'abcbdaac'\n",
    "longestSubstring(s)"
   ]
  },
  {
   "cell_type": "markdown",
   "id": "8f515f47",
   "metadata": {},
   "source": [
    "## 55. Reverse a linked list"
   ]
  },
  {
   "cell_type": "code",
   "execution_count": 77,
   "id": "64e26d1c",
   "metadata": {},
   "outputs": [],
   "source": [
    "def reverseList(head):\n",
    "    if not head:\n",
    "        return None\n",
    "    \n",
    "    current = head\n",
    "    list_so_far = None\n",
    "    \n",
    "    while current:\n",
    "        next_temp = current.next\n",
    "        current.next = list_so_far\n",
    "        list_so_far = current\n",
    "        current = next_temp\n",
    "    return list_so_far"
   ]
  },
  {
   "cell_type": "markdown",
   "id": "654b9fea",
   "metadata": {},
   "source": [
    "## 56. Linked List cycle detection"
   ]
  },
  {
   "cell_type": "code",
   "execution_count": 78,
   "id": "fa11f498",
   "metadata": {},
   "outputs": [],
   "source": [
    "def getIntersect(head):\n",
    "    hare = head\n",
    "    tortoise = head\n",
    "    \n",
    "    while hare and hare.next:\n",
    "        tortoise = tortoise.next\n",
    "        hare = hare.next.next\n",
    "        if tortoise == hare:\n",
    "            return tortoise\n",
    "    return None\n",
    "\n",
    "def detectCycle(head):\n",
    "    intersect = getIntersect(head)\n",
    "    \n",
    "    if not intersect:\n",
    "        return None\n",
    "    \n",
    "    while head != intersect:\n",
    "        head = head.next\n",
    "        intersect = intersect.next\n",
    "    return head"
   ]
  },
  {
   "cell_type": "markdown",
   "id": "bd5fc534",
   "metadata": {},
   "source": [
    "## 57. Valid parenthesis"
   ]
  },
  {
   "cell_type": "code",
   "execution_count": 79,
   "id": "bce50612",
   "metadata": {},
   "outputs": [],
   "source": [
    "def valid_brackets(s):\n",
    "\n",
    "    parens = {\n",
    "        \"(\": \")\",\n",
    "        \"{\": \"}\",\n",
    "        \"[\": \"]\"\n",
    "    }\n",
    "    \n",
    "    stack = []\n",
    "    \n",
    "    for i in range(len(s)):\n",
    "        if s[i] in parens:\n",
    "            stack.append(s[i])\n",
    "        else:\n",
    "            if len(stack) > 0:\n",
    "                left_bracket = stack.pop()\n",
    "            else:\n",
    "                return False\n",
    "            \n",
    "            correct_bracket = parens[left_bracket]\n",
    "            \n",
    "            if s[i] != correct_bracket:\n",
    "                return False\n",
    "    return len(stack) == 0"
   ]
  },
  {
   "cell_type": "code",
   "execution_count": 80,
   "id": "69da8c1e",
   "metadata": {},
   "outputs": [
    {
     "data": {
      "text/plain": [
       "True"
      ]
     },
     "execution_count": 80,
     "metadata": {},
     "output_type": "execute_result"
    }
   ],
   "source": [
    "s = '[{()}]'\n",
    "valid_brackets(s)"
   ]
  },
  {
   "cell_type": "code",
   "execution_count": 81,
   "id": "908caeb9",
   "metadata": {},
   "outputs": [
    {
     "data": {
      "text/plain": [
       "False"
      ]
     },
     "execution_count": 81,
     "metadata": {},
     "output_type": "execute_result"
    }
   ],
   "source": [
    "s = '[({)}]'\n",
    "valid_brackets(s)"
   ]
  },
  {
   "cell_type": "markdown",
   "id": "7176e032",
   "metadata": {},
   "source": [
    "## 58. Maximum depth of a binary tree"
   ]
  },
  {
   "cell_type": "code",
   "execution_count": 82,
   "id": "0b3ae210",
   "metadata": {},
   "outputs": [],
   "source": [
    "def maxDepth(root):\n",
    "    if not root:\n",
    "        return 0\n",
    "    elif not root.left and not root.right:\n",
    "        return 1\n",
    "    else:\n",
    "        left_height = maxDepth(root.left)\n",
    "        right_height = maxDepth(root.right)\n",
    "        return max(left_height, right_height) + 1"
   ]
  },
  {
   "cell_type": "code",
   "execution_count": 83,
   "id": "5307ac44",
   "metadata": {},
   "outputs": [
    {
     "data": {
      "text/plain": [
       "3"
      ]
     },
     "execution_count": 83,
     "metadata": {},
     "output_type": "execute_result"
    }
   ],
   "source": [
    "maxDepth(root)"
   ]
  },
  {
   "cell_type": "markdown",
   "id": "1a467223",
   "metadata": {},
   "source": [
    "## 59. Level order of a binary tree"
   ]
  },
  {
   "cell_type": "code",
   "execution_count": 84,
   "id": "33f4b148",
   "metadata": {},
   "outputs": [],
   "source": [
    "def levelOrder(root):\n",
    "    if not root:\n",
    "        return []\n",
    "    \n",
    "    queue = [root]\n",
    "    result = []\n",
    "    \n",
    "    while queue:\n",
    "        queue_length = len(queue)\n",
    "        counter = 0\n",
    "        current_level_values = []\n",
    "        \n",
    "        while counter < queue_length:\n",
    "            curr_node = queue.pop(0)\n",
    "            \n",
    "            current_level_values.append(curr_node.val)\n",
    "            \n",
    "            if curr_node.left:\n",
    "                queue.append(curr_node.left)\n",
    "                \n",
    "            if curr_node.right:\n",
    "                queue.append(curr_node.right)\n",
    "                \n",
    "            counter += 1\n",
    "        result.append(current_level_values)\n",
    "    return result"
   ]
  },
  {
   "cell_type": "code",
   "execution_count": 85,
   "id": "6f5fcad6",
   "metadata": {},
   "outputs": [
    {
     "data": {
      "text/plain": [
       "[[9], [4, 20], [1, 6, 15, 170]]"
      ]
     },
     "execution_count": 85,
     "metadata": {},
     "output_type": "execute_result"
    }
   ],
   "source": [
    "#       9\n",
    "#    4     20\n",
    "#  1  6  15   170\n",
    "levelOrder(root)"
   ]
  },
  {
   "cell_type": "markdown",
   "id": "1128fa88",
   "metadata": {},
   "source": [
    "## 60. Is Valid Binary Search tree"
   ]
  },
  {
   "cell_type": "code",
   "execution_count": 87,
   "id": "ffad5334",
   "metadata": {},
   "outputs": [],
   "source": [
    "import math\n",
    "def isValidBST(root):\n",
    "    def validate(node, low=-math.inf, high=math.inf):\n",
    "        if not node:\n",
    "            return True\n",
    "        if node.val <= low or node.val >= high:\n",
    "            return False\n",
    "        return (validate(node.left, low, node.val)) and (validate(node.right, node.val, high))\n",
    "    return validate(root)"
   ]
  },
  {
   "cell_type": "code",
   "execution_count": 88,
   "id": "4122f4e2",
   "metadata": {},
   "outputs": [
    {
     "data": {
      "text/plain": [
       "True"
      ]
     },
     "execution_count": 88,
     "metadata": {},
     "output_type": "execute_result"
    }
   ],
   "source": [
    "isValidBST(root)"
   ]
  },
  {
   "cell_type": "markdown",
   "id": "19fe3cf1",
   "metadata": {},
   "source": [
    "## 61. Walls and Gates"
   ]
  },
  {
   "cell_type": "code",
   "execution_count": 89,
   "id": "bc8b73eb",
   "metadata": {},
   "outputs": [],
   "source": [
    "directions = [[-1, 0], [0, 1], [1, 0], [0, -1]]\n",
    "\n",
    "def wallsAndGates(matrix):\n",
    "    WALL = -1\n",
    "    GATE = 0\n",
    "    EMPTY = 2147483647\n",
    "    \n",
    "    for row in range(len(matrix)):\n",
    "        for col in range(len(matrix[0])):\n",
    "            if matrix[row][col] == GATE:\n",
    "                dfs(matrix, row, col, 0) # 0 is the number of steps\n",
    "                \n",
    "def dfs(matrix, row, col, currentStep):\n",
    "    # currentStep > matrix[row][col]: We are doing this check because we want the least number for \n",
    "    # each empty cell. \n",
    "    if row < 0 or row >= len(matrix) or col < 0 or col >= len(matrix[0]) or currentStep > matrix[row][col]:\n",
    "        return\n",
    "    \n",
    "    if matrix[row][col] == -1:\n",
    "        return\n",
    "    \n",
    "    matrix[row][col] = currentStep\n",
    "    \n",
    "    for i in range(len(directions)):\n",
    "        currentDir = directions[i]\n",
    "        dfs(matrix, row + currentDir[0], col + currentDir[1], currentStep + 1)"
   ]
  },
  {
   "cell_type": "code",
   "execution_count": 90,
   "id": "03bd8e7c",
   "metadata": {},
   "outputs": [
    {
     "data": {
      "text/plain": [
       "[[3, -1, 0, 1], [2, 2, 1, -1], [1, -1, 2, -1], [0, -1, 3, 4]]"
      ]
     },
     "execution_count": 90,
     "metadata": {},
     "output_type": "execute_result"
    }
   ],
   "source": [
    "rooms = [[2147483647,-1,0,2147483647],\n",
    "         [2147483647,2147483647,2147483647,-1],\n",
    "         [2147483647,-1,2147483647,-1],\n",
    "         [0,-1,2147483647,2147483647]]\n",
    "\n",
    "wallsAndGates(rooms)\n",
    "rooms"
   ]
  },
  {
   "cell_type": "markdown",
   "id": "a3970574",
   "metadata": {},
   "source": [
    "## 62. Course Scheduler"
   ]
  },
  {
   "cell_type": "code",
   "execution_count": 91,
   "id": "6836f834",
   "metadata": {},
   "outputs": [],
   "source": [
    "def canFinish(numCourses, prerequisites):\n",
    "    adj_list = [[] for _ in range(numCourses)]\n",
    "    inDegrees = [0] * numCourses\n",
    "    \n",
    "    for i in range(len(prerequisites)):\n",
    "        pair = prerequisites[i]\n",
    "        adj_list[pair[1]].append(pair[0])\n",
    "        inDegrees[pair[0]] += 1\n",
    "        \n",
    "    queue = []\n",
    "    \n",
    "    count = 0\n",
    "    \n",
    "    for i in range(len(inDegrees)):\n",
    "        if inDegrees[i] == 0:\n",
    "            queue.append(i)\n",
    "            \n",
    "    while queue:\n",
    "        curr_node = queue.pop(0)\n",
    "        \n",
    "        count += 1\n",
    "        \n",
    "        adjacent = adj_list[curr_node]\n",
    "        \n",
    "        for i in range(len(adjacent)):\n",
    "            next_node = adjacent[i]\n",
    "            inDegrees[next_node] -= 1\n",
    "            if inDegrees[next_node] == 0:\n",
    "                queue.append(next_node)\n",
    "    return count == numCourses"
   ]
  },
  {
   "cell_type": "code",
   "execution_count": 93,
   "id": "e3fb77fb",
   "metadata": {},
   "outputs": [
    {
     "data": {
      "text/plain": [
       "True"
      ]
     },
     "execution_count": 93,
     "metadata": {},
     "output_type": "execute_result"
    }
   ],
   "source": [
    "numCourses = 6\n",
    "prerequisites = [[1,0], [2,1], [2,5], [0,3], [4,3], [3,5], [4,5]]\n",
    "canFinish(numCourses, prerequisites)"
   ]
  },
  {
   "cell_type": "code",
   "execution_count": 94,
   "id": "65673288",
   "metadata": {},
   "outputs": [
    {
     "data": {
      "text/plain": [
       "False"
      ]
     },
     "execution_count": 94,
     "metadata": {},
     "output_type": "execute_result"
    }
   ],
   "source": [
    "numCourses = 2\n",
    "prerequisites = [[1,0],[0,1]]\n",
    "canFinish(numCourses, prerequisites)"
   ]
  },
  {
   "cell_type": "markdown",
   "id": "d333a847",
   "metadata": {},
   "source": [
    "## 63. Closest binary tree search value"
   ]
  },
  {
   "cell_type": "code",
   "execution_count": 95,
   "id": "dc8021b6",
   "metadata": {},
   "outputs": [],
   "source": [
    "def closestValue(root, target):\n",
    "    closest = root.val\n",
    "    \n",
    "    while root:\n",
    "        closest = min(closest, root.val, key=lambda x: (abs(target - x), x))\n",
    "        root = root.left if target < root.val else root.right\n",
    "    return closest"
   ]
  },
  {
   "cell_type": "code",
   "execution_count": 96,
   "id": "04d17dde",
   "metadata": {},
   "outputs": [
    {
     "data": {
      "text/plain": [
       "4"
      ]
     },
     "execution_count": 96,
     "metadata": {},
     "output_type": "execute_result"
    }
   ],
   "source": [
    "closestValue(root, 5)"
   ]
  },
  {
   "cell_type": "markdown",
   "id": "46108520",
   "metadata": {},
   "source": [
    "## 64. Random pick index"
   ]
  },
  {
   "cell_type": "code",
   "execution_count": 99,
   "id": "c35a49c8",
   "metadata": {},
   "outputs": [],
   "source": [
    "import random\n",
    "class Solution:\n",
    "    def __init__(self, nums):\n",
    "        self.nums = nums\n",
    "    def pick(self, target):\n",
    "        count = 0\n",
    "        result = -1\n",
    "        \n",
    "        for i in range(len(self.nums)):\n",
    "            if self.nums[i] == target:\n",
    "                count += 1\n",
    "                \n",
    "                if random.randint(1, count) == 1:\n",
    "                    result = i\n",
    "        return result"
   ]
  },
  {
   "cell_type": "code",
   "execution_count": 100,
   "id": "b917d4e4",
   "metadata": {},
   "outputs": [
    {
     "name": "stdout",
     "output_type": "stream",
     "text": [
      "3\n",
      "0\n",
      "2\n",
      "1\n"
     ]
    }
   ],
   "source": [
    "solution = Solution([1, 2, 3, 3, 3])\n",
    "print(solution.pick(3))\n",
    "print(solution.pick(1))\n",
    "print(solution.pick(3))\n",
    "print(solution.pick(2))\n"
   ]
  },
  {
   "cell_type": "markdown",
   "id": "88315595",
   "metadata": {},
   "source": [
    "## 65. Merge Strings alternatively"
   ]
  },
  {
   "cell_type": "code",
   "execution_count": 101,
   "id": "9297efe0",
   "metadata": {},
   "outputs": [],
   "source": [
    "def mergeStrings(word1, word2):\n",
    "    p1 = 0\n",
    "    p2 = 0\n",
    "    \n",
    "    result = []\n",
    "    \n",
    "    while p1 < len(word1) or p2 < len(word2):\n",
    "        if p1 < len(word1):\n",
    "            result.append(word1[p1])\n",
    "            p1 += 1\n",
    "        if p2 < len(word2):\n",
    "            result.append(word2[p2])\n",
    "            p2 += 1\n",
    "    return \"\".join(result)"
   ]
  },
  {
   "cell_type": "code",
   "execution_count": 102,
   "id": "78d501d1",
   "metadata": {},
   "outputs": [
    {
     "data": {
      "text/plain": [
       "'apbqcd'"
      ]
     },
     "execution_count": 102,
     "metadata": {},
     "output_type": "execute_result"
    }
   ],
   "source": [
    "word1 = \"abcd\"\n",
    "word2 = \"pq\"\n",
    "mergeStrings(word1, word2)"
   ]
  },
  {
   "cell_type": "markdown",
   "id": "e22fb855",
   "metadata": {},
   "source": [
    "## 66. Valid Parenthesis"
   ]
  },
  {
   "cell_type": "code",
   "execution_count": 1,
   "id": "bc81677c",
   "metadata": {},
   "outputs": [],
   "source": [
    "def isValid(s):\n",
    "    parens = {\n",
    "        '(':')',\n",
    "        '{':'}',\n",
    "        '[':']'\n",
    "    }\n",
    "    \n",
    "    stack = []\n",
    "    \n",
    "    for i in range(len(s)):\n",
    "        if s[i] in parens:\n",
    "            stack.append(s[i])\n",
    "        else:\n",
    "            if len(stack) > 0:\n",
    "                left_bracket = stack.pop()\n",
    "            else:\n",
    "                return False\n",
    "            \n",
    "            correct_bracket = parens[left_bracket]\n",
    "            \n",
    "            if s[i] != correct_bracket:\n",
    "                return False\n",
    "    return len(stack) == 0"
   ]
  },
  {
   "cell_type": "code",
   "execution_count": 2,
   "id": "b1aba8fe",
   "metadata": {},
   "outputs": [
    {
     "data": {
      "text/plain": [
       "True"
      ]
     },
     "execution_count": 2,
     "metadata": {},
     "output_type": "execute_result"
    }
   ],
   "source": [
    "s = \"()[]{}\"\n",
    "isValid(s)"
   ]
  },
  {
   "cell_type": "code",
   "execution_count": 3,
   "id": "38b38fad",
   "metadata": {},
   "outputs": [
    {
     "data": {
      "text/plain": [
       "False"
      ]
     },
     "execution_count": 3,
     "metadata": {},
     "output_type": "execute_result"
    }
   ],
   "source": [
    "s = \"(]\"\n",
    "isValid(s)"
   ]
  },
  {
   "cell_type": "markdown",
   "id": "33da27c3",
   "metadata": {},
   "source": [
    "## 67. Missing Ranges"
   ]
  },
  {
   "cell_type": "code",
   "execution_count": 4,
   "id": "f9dca4c0",
   "metadata": {},
   "outputs": [],
   "source": [
    "def findMissingRanges(nums, lower, upper):\n",
    "    prev = lower - 1\n",
    "    nums.append(upper + 1)\n",
    "    \n",
    "    result = []\n",
    "    \n",
    "    for num in nums:\n",
    "        if num - prev > 1:\n",
    "            result.append([prev + 1, num - 1])\n",
    "        prev = num\n",
    "    return result"
   ]
  },
  {
   "cell_type": "code",
   "execution_count": 5,
   "id": "3a7a83c5",
   "metadata": {},
   "outputs": [
    {
     "data": {
      "text/plain": [
       "[[2, 2], [4, 49], [51, 74], [76, 99]]"
      ]
     },
     "execution_count": 5,
     "metadata": {},
     "output_type": "execute_result"
    }
   ],
   "source": [
    "nums = [0,1,3,50,75] \n",
    "lower = 0 \n",
    "upper = 99\n",
    "\n",
    "findMissingRanges(nums, lower, upper)"
   ]
  },
  {
   "cell_type": "markdown",
   "id": "e61f936d",
   "metadata": {},
   "source": [
    "## 68. Toeplitz matrix"
   ]
  },
  {
   "cell_type": "code",
   "execution_count": 6,
   "id": "33275795",
   "metadata": {},
   "outputs": [],
   "source": [
    "from collections import defaultdict\n",
    "\n",
    "def isToeplitzMatrix(matrix):\n",
    "    hash_map = defaultdict(set)\n",
    "    for row in range(len(matrix)):\n",
    "        for col in range(len(matrix[0])):\n",
    "            hash_map[row - col].add(matrix[row][col])\n",
    "            \n",
    "    for key in hash_map.keys():\n",
    "        if len(hash_map[key]) > 1:\n",
    "            return False\n",
    "    return True"
   ]
  },
  {
   "cell_type": "code",
   "execution_count": 7,
   "id": "58301cd4",
   "metadata": {},
   "outputs": [
    {
     "data": {
      "text/plain": [
       "True"
      ]
     },
     "execution_count": 7,
     "metadata": {},
     "output_type": "execute_result"
    }
   ],
   "source": [
    "matrix = [[1,2,3,4],[5,1,2,3],[9,5,1,2]]\n",
    "isToeplitzMatrix(matrix)"
   ]
  },
  {
   "cell_type": "markdown",
   "id": "e4397704",
   "metadata": {},
   "source": [
    "## 69. Continuous subarray sum"
   ]
  },
  {
   "cell_type": "code",
   "execution_count": 8,
   "id": "e101f61c",
   "metadata": {},
   "outputs": [],
   "source": [
    "def checkSubarraySum(nums, k):\n",
    "    mod_map = {0: -1}\n",
    "    prefix_sum = 0\n",
    "    \n",
    "    for i in range(len(nums)):\n",
    "        prefix_sum += nums[i]\n",
    "        \n",
    "        remainder = prefix_sum % k if k != 0 else prefix_sum\n",
    "        \n",
    "        if remainder in mod_map:\n",
    "            if i - mod_map[remainder] >= 2:\n",
    "                return True\n",
    "        else:\n",
    "            mod_map[remainder] = i\n",
    "    return False\n",
    "                "
   ]
  },
  {
   "cell_type": "code",
   "execution_count": 9,
   "id": "2e86fd65",
   "metadata": {},
   "outputs": [
    {
     "data": {
      "text/plain": [
       "True"
      ]
     },
     "execution_count": 9,
     "metadata": {},
     "output_type": "execute_result"
    }
   ],
   "source": [
    "# {0: -1, 5: 0, 1: 1, 5: 2}\n",
    "nums = [23, 2, 4, 6, 7]\n",
    "k = 6\n",
    "checkSubarraySum(nums, k)"
   ]
  },
  {
   "cell_type": "markdown",
   "id": "2cfd7f62",
   "metadata": {},
   "source": [
    "## 70. Group shifted strings"
   ]
  },
  {
   "cell_type": "code",
   "execution_count": 16,
   "id": "cb6ae406",
   "metadata": {},
   "outputs": [],
   "source": [
    "def groupStrings(strings):\n",
    "    def get_patterns(s):\n",
    "        return tuple((ord(s[i]) - ord(s[i - 1])) % 26 for i in range(1, len(s)))\n",
    "    \n",
    "    group = defaultdict(list)\n",
    "    \n",
    "    for string in strings:\n",
    "        pattern = get_patterns(string)\n",
    "        group[pattern].append(string)\n",
    "    return list(group.values())"
   ]
  },
  {
   "cell_type": "code",
   "execution_count": 17,
   "id": "a01b420f",
   "metadata": {},
   "outputs": [
    {
     "data": {
      "text/plain": [
       "[['abc', 'bcd', 'xyz'], ['acef'], ['az', 'ba'], ['a', 'z']]"
      ]
     },
     "execution_count": 17,
     "metadata": {},
     "output_type": "execute_result"
    }
   ],
   "source": [
    "strings = [\"abc\",\"bcd\",\"acef\",\"xyz\",\"az\",\"ba\",\"a\",\"z\"]\n",
    "\n",
    "groupStrings(strings)"
   ]
  },
  {
   "cell_type": "code",
   "execution_count": null,
   "id": "373c7017",
   "metadata": {},
   "outputs": [],
   "source": []
  }
 ],
 "metadata": {
  "kernelspec": {
   "display_name": "Python 3 (ipykernel)",
   "language": "python",
   "name": "python3"
  },
  "language_info": {
   "codemirror_mode": {
    "name": "ipython",
    "version": 3
   },
   "file_extension": ".py",
   "mimetype": "text/x-python",
   "name": "python",
   "nbconvert_exporter": "python",
   "pygments_lexer": "ipython3",
   "version": "3.11.4"
  }
 },
 "nbformat": 4,
 "nbformat_minor": 5
}
