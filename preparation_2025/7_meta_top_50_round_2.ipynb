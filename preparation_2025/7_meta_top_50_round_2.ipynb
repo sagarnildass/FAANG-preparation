{
 "cells": [
  {
   "cell_type": "markdown",
   "id": "ceba07ca",
   "metadata": {},
   "source": [
    "## 1. Minimum remove to make valid parenthesis"
   ]
  },
  {
   "cell_type": "code",
   "execution_count": 3,
   "id": "c5bfdf04",
   "metadata": {},
   "outputs": [],
   "source": [
    "def minRemoveToMakeValid(s):\n",
    "    stack = []\n",
    "    indices_to_remove = set()\n",
    "    \n",
    "    for idx, char in enumerate(s):\n",
    "        if char not in '()':\n",
    "            continue\n",
    "        elif char == '(':\n",
    "            stack.append(idx)\n",
    "        else:\n",
    "            if len(stack) > 0:\n",
    "                stack.pop()\n",
    "            else:\n",
    "                indices_to_remove.add(idx)\n",
    "    \n",
    "    indices_to_remove = indices_to_remove.union(set(stack))\n",
    "    \n",
    "    string_builder = []\n",
    "    \n",
    "    for i in range(len(s)):\n",
    "        if i not in indices_to_remove:\n",
    "            string_builder.append(s[i])\n",
    "    \n",
    "    return \"\".join(string_builder)"
   ]
  },
  {
   "cell_type": "code",
   "execution_count": 4,
   "id": "ad337592",
   "metadata": {},
   "outputs": [
    {
     "data": {
      "text/plain": [
       "'lee(t(c)o)de'"
      ]
     },
     "execution_count": 4,
     "metadata": {},
     "output_type": "execute_result"
    }
   ],
   "source": [
    "s = \"lee(t(c)o)de)\"\n",
    "minRemoveToMakeValid(s)"
   ]
  },
  {
   "cell_type": "markdown",
   "id": "c5404c80",
   "metadata": {},
   "source": [
    "## 2. Valid Word abbreviation"
   ]
  },
  {
   "cell_type": "code",
   "execution_count": 5,
   "id": "fba61eef",
   "metadata": {},
   "outputs": [],
   "source": [
    "def validWordAbbreviation(word, abbr):\n",
    "    word_ptr = 0\n",
    "    abbr_ptr = 0\n",
    "    \n",
    "    while word_ptr < len(word) and abbr_ptr < len(abbr):\n",
    "        if abbr[abbr_ptr].isdigit():\n",
    "            if abbr[abbr_ptr] == '0':\n",
    "                return False\n",
    "            \n",
    "            num = 0\n",
    "            \n",
    "            while abbr_ptr < len(abbr) and abbr[abbr_ptr].isdigit():\n",
    "                num = num * 10 + int(abbr[abbr_ptr])\n",
    "                abbr_ptr += 1\n",
    "            \n",
    "            word_ptr += num\n",
    "        \n",
    "        else:\n",
    "            if word_ptr >= len(word) and word[word_ptr] != abbr[abbr_ptr]:\n",
    "                return False\n",
    "            \n",
    "            word_ptr += 1\n",
    "            abbr_ptr += 1\n",
    "    \n",
    "    return word_ptr == len(word) and abbr_ptr == len(abbr)"
   ]
  },
  {
   "cell_type": "code",
   "execution_count": 9,
   "id": "f2dfcb19",
   "metadata": {},
   "outputs": [
    {
     "data": {
      "text/plain": [
       "True"
      ]
     },
     "execution_count": 9,
     "metadata": {},
     "output_type": "execute_result"
    }
   ],
   "source": [
    "word = \"internationalization\"\n",
    "abbr = \"i12iz4n\"\n",
    "validWordAbbreviation(word, abbr)"
   ]
  },
  {
   "cell_type": "markdown",
   "id": "63103354",
   "metadata": {},
   "source": [
    "## 3. Valid Palindrome II"
   ]
  },
  {
   "cell_type": "code",
   "execution_count": 10,
   "id": "0da7a084",
   "metadata": {},
   "outputs": [],
   "source": [
    "def validPalindrome(s):\n",
    "    if len(s) <= 2:\n",
    "        return True\n",
    "    \n",
    "    def check_palindrome(s, left, right):\n",
    "        while left < right:\n",
    "            if s[left] != s[right]:\n",
    "                return False\n",
    "            left += 1\n",
    "            right -= 1\n",
    "        return True\n",
    "    \n",
    "    left = 0\n",
    "    right = len(s) - 1\n",
    "    \n",
    "    while left < right:\n",
    "        if s[left] != s[right]:\n",
    "            return check_palindrome(s, left, right - 1) or check_palindrome(s, left + 1, right)\n",
    "        left += 1\n",
    "        right -= 1\n",
    "        \n",
    "    return True"
   ]
  },
  {
   "cell_type": "code",
   "execution_count": 13,
   "id": "064342ab",
   "metadata": {},
   "outputs": [
    {
     "data": {
      "text/plain": [
       "True"
      ]
     },
     "execution_count": 13,
     "metadata": {},
     "output_type": "execute_result"
    }
   ],
   "source": [
    "s = \"abac\"\n",
    "validPalindrome(s)"
   ]
  },
  {
   "cell_type": "code",
   "execution_count": 14,
   "id": "a54f7be7",
   "metadata": {},
   "outputs": [],
   "source": [
    "class Node:\n",
    "    def __init__(self, val: int):\n",
    "        self.left = None\n",
    "        self.right = None\n",
    "        self.val = val\n",
    "\n",
    "    def __repr__(self):\n",
    "        return str(self.val)\n",
    "\n",
    "    def insert_node(self, val):\n",
    "        if self.val is not None:\n",
    "            if val < self.val:\n",
    "                if self.left is None:\n",
    "                    self.left = Node(val)\n",
    "                else:\n",
    "                    self.left.insert_node(val)\n",
    "            elif val > self.val:\n",
    "                if self.right is None:\n",
    "                    self.right = Node(val)\n",
    "                else:\n",
    "                    self.right.insert_node(val)\n",
    "\n",
    "    @staticmethod\n",
    "    def insert_nodes(vals: list, root):\n",
    "        for i in vals:\n",
    "            root.insert_node(i)\n",
    "\n",
    "    def bfs(self, root=None):\n",
    "        if root is None:\n",
    "            return\n",
    "        result = []\n",
    "        queue = [root]\n",
    "\n",
    "        while len(queue) > 0:\n",
    "            cur_node = queue.pop(0)\n",
    "            result.append(cur_node.val)\n",
    "            if cur_node.left is not None:\n",
    "                queue.append(cur_node.left)\n",
    "\n",
    "            if cur_node.right is not None:\n",
    "                queue.append(cur_node.right)\n",
    "\n",
    "            #print(queue)\n",
    "        return result\n",
    "    \n",
    "    def DFSInorder(self, root=None):\n",
    "        return self.traverseInOrder(root, [])\n",
    "    \n",
    "    def DFSPostOrder(self, root=None):\n",
    "        return self.traversePostOrder(root, [])\n",
    "    \n",
    "    def DFSPreOrder(self, root=None):\n",
    "        return self.traversePreOrder(root, [])\n",
    "    \n",
    "    def traverseInOrder(self, node, data):\n",
    "        if node.left is not None:\n",
    "            node.traverseInOrder(node.left, data)\n",
    "        data.append(node.val)\n",
    "        \n",
    "        if node.right is not None:\n",
    "            node.traverseInOrder(node.right, data)\n",
    "        #print(data)\n",
    "        return data\n",
    "    \n",
    "    def traversePostOrder(self, node, data):\n",
    "        \n",
    "        if node.left is not None:\n",
    "            node.traversePostOrder(node.left, data)\n",
    "              \n",
    "        if node.right is not None:\n",
    "            node.traversePostOrder(node.right, data)\n",
    "        #print(data)\n",
    "        data.append(node.val)\n",
    "        return data\n",
    "    \n",
    "    def traversePreOrder(self, node, data):\n",
    "        data.append(node.val)\n",
    "        if node.left is not None:\n",
    "            node.traversePreOrder(node.left, data)\n",
    "        \n",
    "        \n",
    "        if node.right is not None:\n",
    "            node.traversePreOrder(node.right, data)\n",
    "        #print(data)\n",
    "        return data\n",
    "    \n",
    "    \n",
    "#       9\n",
    "#    4     20\n",
    "#  1  6  15   170\n",
    "\n",
    "def run():\n",
    "    root = Node(9)\n",
    "    root.insert_nodes([4,6,20,170,15,1], root)\n",
    "    bfs_result = root.bfs(root=root)\n",
    "    dfs_inorder = root.DFSInorder(root)\n",
    "    dfs_preorder = root.DFSPreOrder(root)\n",
    "    dfs_postorder = root.DFSPostOrder(root)\n",
    "    return root, bfs_result, dfs_inorder, dfs_preorder, dfs_postorder\n",
    "\n",
    "root, bfs_result, dfs_inorder, dfs_preorder, dfs_postorder = run()"
   ]
  },
  {
   "cell_type": "markdown",
   "id": "cf7b9da0",
   "metadata": {},
   "source": [
    "## 4. Binary Tree Vertical Order Traversal"
   ]
  },
  {
   "cell_type": "code",
   "execution_count": 19,
   "id": "ae6ab365",
   "metadata": {},
   "outputs": [],
   "source": [
    "from collections import defaultdict\n",
    "def verticalOrder(root):\n",
    "    if not root:\n",
    "        return []\n",
    "    \n",
    "    column_table = defaultdict(list)\n",
    "    queue = [[root, 0]]\n",
    "    min_col = 0\n",
    "    max_col = 0\n",
    "    \n",
    "    \n",
    "    while queue:\n",
    "        curr_node, curr_col = queue.pop(0)\n",
    "        \n",
    "        column_table[curr_col].append(curr_node)\n",
    "        min_col = min(min_col, curr_col)\n",
    "        max_col = max(max_col, curr_col)\n",
    "        \n",
    "        if curr_node.left:\n",
    "            queue.append([curr_node.left, curr_col - 1])\n",
    "        \n",
    "        if curr_node.right:\n",
    "            queue.append([curr_node.right, curr_col + 1])\n",
    "        \n",
    "    return [column_table[x] for x in range(min_col, max_col + 1)]"
   ]
  },
  {
   "cell_type": "code",
   "execution_count": 20,
   "id": "43057790",
   "metadata": {},
   "outputs": [
    {
     "data": {
      "text/plain": [
       "[[1], [4], [9, 6, 15], [20], [170]]"
      ]
     },
     "execution_count": 20,
     "metadata": {},
     "output_type": "execute_result"
    }
   ],
   "source": [
    "verticalOrder(root)"
   ]
  },
  {
   "cell_type": "markdown",
   "id": "36b6df9b",
   "metadata": {},
   "source": [
    "## 5. Kth Largest Element in an array"
   ]
  },
  {
   "cell_type": "code",
   "execution_count": 23,
   "id": "19c837b6",
   "metadata": {},
   "outputs": [],
   "source": [
    "def findKthLargest(nums, k):\n",
    "    index_to_find = len(nums) - k\n",
    "    return quick_select(nums, 0, len(nums) - 1, index_to_find)\n",
    "\n",
    "def quick_select(nums, left, right, index_to_find):\n",
    "    if left == right:\n",
    "        return nums[left]\n",
    "    \n",
    "    if left < right:\n",
    "        partition_index = partition(nums, left, right)\n",
    "        \n",
    "        if partition_index == index_to_find:\n",
    "            return nums[partition_index]\n",
    "        elif partition_index < index_to_find:\n",
    "            return quick_select(nums, partition_index + 1, right, index_to_find)\n",
    "        else:\n",
    "            return quick_select(nums, left, partition_index - 1, index_to_find)\n",
    "        \n",
    "def partition(nums, left, right):\n",
    "    partition_index = left\n",
    "    pivot_element = nums[right]\n",
    "    \n",
    "    for j in range(left, right):\n",
    "        if nums[j] <= pivot_element:\n",
    "            nums[partition_index], nums[j] = nums[j], nums[partition_index]\n",
    "            partition_index += 1\n",
    "    nums[partition_index], nums[right] = nums[right], nums[partition_index]\n",
    "    return partition_index\n",
    "\n"
   ]
  },
  {
   "cell_type": "code",
   "execution_count": 25,
   "id": "a6cbafe5",
   "metadata": {},
   "outputs": [
    {
     "data": {
      "text/plain": [
       "6"
      ]
     },
     "execution_count": 25,
     "metadata": {},
     "output_type": "execute_result"
    }
   ],
   "source": [
    "findKthLargest([5,6,1,4,8,3],2)"
   ]
  },
  {
   "cell_type": "markdown",
   "id": "95440890",
   "metadata": {},
   "source": [
    "## 6. Basic Calculator"
   ]
  },
  {
   "cell_type": "code",
   "execution_count": 28,
   "id": "fca4ad31",
   "metadata": {},
   "outputs": [],
   "source": [
    "def calculate(s):\n",
    "    if len(s) == 0:\n",
    "        return 0\n",
    "    \n",
    "    current_number = 0\n",
    "    last_number = 0\n",
    "    sign = '+'\n",
    "    result = 0\n",
    "    \n",
    "    for i in range(len(s)):\n",
    "        current_char = s[i]\n",
    "        \n",
    "        if current_char.isdigit():\n",
    "            current_number = current_number * 10 + int(current_char)\n",
    "            \n",
    "        if (not current_char.isdigit() and not current_char.isspace()) or i == len(s) - 1:\n",
    "            if sign == '+' or sign == '-':\n",
    "                result += last_number\n",
    "                last_number = current_number if sign == '+' else -current_number\n",
    "            elif sign == '*':\n",
    "                last_number *= current_number\n",
    "            elif sign == '/':\n",
    "                last_number = int(last_number / current_number)\n",
    "        \n",
    "            sign = current_char\n",
    "            current_number = 0\n",
    "    result += last_number\n",
    "    return result"
   ]
  },
  {
   "cell_type": "code",
   "execution_count": 29,
   "id": "8a3a1141",
   "metadata": {},
   "outputs": [
    {
     "data": {
      "text/plain": [
       "7"
      ]
     },
     "execution_count": 29,
     "metadata": {},
     "output_type": "execute_result"
    }
   ],
   "source": [
    "# current_number = 3, last_number = 0, sign = '+', result = 0\n",
    "# current_number = 0, last_number = 3, sign = '+', result = 0\n",
    "# current_number = 2, last_number = 3, sign = '+', result = 0\n",
    "# current_number = 2, last_number = 2, sign = '*', result = 3\n",
    "# current_number = 2, last_number = 4, sign = '*', result = 3\n",
    "# result += last_number = 7\n",
    "s = \"3+2*2\"\n",
    "calculate(s)"
   ]
  },
  {
   "cell_type": "code",
   "execution_count": 30,
   "id": "6121ca83",
   "metadata": {},
   "outputs": [
    {
     "data": {
      "text/plain": [
       "5"
      ]
     },
     "execution_count": 30,
     "metadata": {},
     "output_type": "execute_result"
    }
   ],
   "source": [
    "s = \" 3+5 / 2 \"\n",
    "calculate(s)"
   ]
  },
  {
   "cell_type": "markdown",
   "id": "f8b894a2",
   "metadata": {},
   "source": [
    "## 7. Lowest Common Ancestor of a binary tree III\n",
    "\n",
    "The idea is fairly simple (and the same as finding the convergence point of 2 linked lists). We keep two pointers, p1 and p2. Originally, these pointers point to q and p, respectively. Then we follow their parent pointers until they point to the same node. When either of the pointers points to root, we set it to the other original starting node. For example, when p1 points to root (i.e p1.parent is None), assign q to p1."
   ]
  },
  {
   "cell_type": "code",
   "execution_count": 31,
   "id": "e770da14",
   "metadata": {},
   "outputs": [],
   "source": [
    "def lowestCommonAncestor(p, q):\n",
    "    p1 = p\n",
    "    p2 = q\n",
    "    \n",
    "    while p1 != p2:\n",
    "        p1 = p1.parent if p1.parent else q\n",
    "        p2 = p2.parent if p2.parent else p\n",
    "    \n",
    "    return p1    "
   ]
  },
  {
   "cell_type": "markdown",
   "id": "6849adb7",
   "metadata": {},
   "source": [
    "## 8. Pow(x, n)"
   ]
  },
  {
   "cell_type": "code",
   "execution_count": 32,
   "id": "b98017c2",
   "metadata": {},
   "outputs": [],
   "source": [
    "def myPow(x, n):\n",
    "    if n == 0:\n",
    "        return 1\n",
    "    \n",
    "    if n < 0:\n",
    "        return myPow(x, -n)\n",
    "    \n",
    "    half = myPow(x, n // 2)\n",
    "    \n",
    "    if n % 2 == 0:\n",
    "        return half * half\n",
    "    else:\n",
    "        return half * half * x"
   ]
  },
  {
   "cell_type": "code",
   "execution_count": 34,
   "id": "f7e23606",
   "metadata": {},
   "outputs": [
    {
     "data": {
      "text/plain": [
       "512.0"
      ]
     },
     "execution_count": 34,
     "metadata": {},
     "output_type": "execute_result"
    }
   ],
   "source": [
    "x = 2.00000\n",
    "n = 9\n",
    "\n",
    "myPow(x, n)"
   ]
  },
  {
   "cell_type": "markdown",
   "id": "5427ee54",
   "metadata": {},
   "source": [
    "## 10. Simpify Path"
   ]
  },
  {
   "cell_type": "code",
   "execution_count": 35,
   "id": "efde7a99",
   "metadata": {},
   "outputs": [],
   "source": [
    "def simplifyPath(path):\n",
    "    stack = []\n",
    "    \n",
    "    for portion in path.split('/'):\n",
    "        if portion == '.' or not portion:\n",
    "            continue\n",
    "        elif portion == \"..\":\n",
    "            if stack:\n",
    "                stack.pop()\n",
    "        else:\n",
    "            stack.append(portion)\n",
    "    \n",
    "    return \"/\" + \"/\".join(stack)"
   ]
  },
  {
   "cell_type": "code",
   "execution_count": 36,
   "id": "8c385441",
   "metadata": {},
   "outputs": [
    {
     "data": {
      "text/plain": [
       "'/home/user/Pictures'"
      ]
     },
     "execution_count": 36,
     "metadata": {},
     "output_type": "execute_result"
    }
   ],
   "source": [
    "path = \"/home/user/Documents/../Pictures\"\n",
    "simplifyPath(path)"
   ]
  },
  {
   "cell_type": "markdown",
   "id": "4092742d",
   "metadata": {},
   "source": [
    "## 11. Shortest Path in Binary Matrix"
   ]
  },
  {
   "cell_type": "code",
   "execution_count": 38,
   "id": "d48d8bb5",
   "metadata": {},
   "outputs": [],
   "source": [
    "def shortestPathBinaryMatrix(grid):\n",
    "    if len(grid) == 0 or grid[0][0] != 0 or grid[-1][-1] != 0:\n",
    "        return -1\n",
    "    \n",
    "    grid[0][0] = 1\n",
    "    directions = [[-1, 0], [-1, 1], [0, 1], [1, 1], [1, 0], [1, -1], [0, -1], [-1, -1]]\n",
    "    queue = [[0, 0, 1]]\n",
    "    \n",
    "    while queue:\n",
    "        curr_row, curr_col, path_length = queue.pop(0)\n",
    "        \n",
    "        if curr_row == len(grid) - 1 and curr_col == len(grid[0]) - 1:\n",
    "            return path_length\n",
    "        \n",
    "        for i in range(len(directions)):\n",
    "            direction = directions[i]\n",
    "            \n",
    "            next_row, next_col = curr_row + direction[0], curr_col + direction[1]\n",
    "            \n",
    "            if next_row < 0 or next_col < 0 \\\n",
    "            or next_row >= len(grid) or next_col >= len(grid[0]) \\\n",
    "            or grid[next_row][next_col] == 1:\n",
    "                continue\n",
    "                \n",
    "            if grid[next_row][next_col] == 0:\n",
    "                grid[next_row][next_col] = 1\n",
    "                queue.append([next_row, next_col, path_length + 1])\n",
    "    \n",
    "    return -1"
   ]
  },
  {
   "cell_type": "code",
   "execution_count": 39,
   "id": "4a81bf31",
   "metadata": {},
   "outputs": [
    {
     "data": {
      "text/plain": [
       "4"
      ]
     },
     "execution_count": 39,
     "metadata": {},
     "output_type": "execute_result"
    }
   ],
   "source": [
    "grid = [[0,0,0],[1,1,0],[1,1,0]]\n",
    "shortestPathBinaryMatrix(grid)"
   ]
  },
  {
   "cell_type": "markdown",
   "id": "3507081a",
   "metadata": {},
   "source": [
    "## 12. Dot Product of two Sparse vectors"
   ]
  },
  {
   "cell_type": "code",
   "execution_count": 40,
   "id": "4b30d0c6",
   "metadata": {},
   "outputs": [],
   "source": [
    "class SparseVector:\n",
    "    def __init__(self, nums):\n",
    "        self.array = nums\n",
    "    def dotProduct(self, vec):\n",
    "        result = 0\n",
    "        for num1, num2 in zip(self.array, vec.array):\n",
    "            result += num1 * num2\n",
    "        return result"
   ]
  },
  {
   "cell_type": "code",
   "execution_count": 41,
   "id": "e38c2155",
   "metadata": {},
   "outputs": [
    {
     "data": {
      "text/plain": [
       "8"
      ]
     },
     "execution_count": 41,
     "metadata": {},
     "output_type": "execute_result"
    }
   ],
   "source": [
    "nums1 = [1,0,0,2,3]\n",
    "nums2 = [0,3,0,4,0]\n",
    "\n",
    "v1 = SparseVector(nums1)\n",
    "v2 = SparseVector(nums2)\n",
    "\n",
    "v1.dotProduct(v2)"
   ]
  },
  {
   "cell_type": "code",
   "execution_count": 42,
   "id": "e2e5a248",
   "metadata": {},
   "outputs": [],
   "source": [
    "class SparseVector:\n",
    "    def __init__(self, nums):\n",
    "        self.pairs = []\n",
    "        \n",
    "        for idx, val in enumerate(nums):\n",
    "            self.pairs.append([idx, val])\n",
    "    \n",
    "    def dotProduct(self, vec):\n",
    "        p1 = 0\n",
    "        p2 = 0\n",
    "        result = 0\n",
    "        \n",
    "        while p1 < len(self.pairs) and p2 < len(vec.pairs):\n",
    "            if self.pairs[p1][0] == vec.pairs[p2][0]:\n",
    "                result += self.pairs[p1][1] * vec.pairs[p2][1]\n",
    "                p1 += 1\n",
    "                p2 += 1\n",
    "            elif self.pairs[p1][0] < vec.pairs[p2][0]:\n",
    "                p1 += 1\n",
    "            else:\n",
    "                p2 += 1\n",
    "        return result"
   ]
  },
  {
   "cell_type": "code",
   "execution_count": 43,
   "id": "33a2435b",
   "metadata": {},
   "outputs": [
    {
     "data": {
      "text/plain": [
       "8"
      ]
     },
     "execution_count": 43,
     "metadata": {},
     "output_type": "execute_result"
    }
   ],
   "source": [
    "nums1 = [1,0,0,2,3]\n",
    "nums2 = [0,3,0,4,0]\n",
    "\n",
    "v1 = SparseVector(nums1)\n",
    "v2 = SparseVector(nums2)\n",
    "\n",
    "v1.dotProduct(v2)"
   ]
  },
  {
   "cell_type": "markdown",
   "id": "3bc37014",
   "metadata": {},
   "source": [
    "## 14. Range Sum of BST"
   ]
  },
  {
   "cell_type": "code",
   "execution_count": 46,
   "id": "6e3ec991",
   "metadata": {},
   "outputs": [],
   "source": [
    "def rangeSumBST(root, low, high):\n",
    "    if not root:\n",
    "        return 0\n",
    "    \n",
    "    result = 0\n",
    "    \n",
    "    queue = [root]\n",
    "    \n",
    "    while queue:\n",
    "        curr_node = queue.pop(0)\n",
    "        if curr_node:\n",
    "            if low <= curr_node.val <= high:\n",
    "                result += curr_node.val\n",
    "            if low < curr_node.val:\n",
    "                queue.append(curr_node.left)\n",
    "            if curr_node.val < high:\n",
    "                queue.append(curr_node.right)\n",
    "    return result"
   ]
  },
  {
   "cell_type": "code",
   "execution_count": 47,
   "id": "c5dd503f",
   "metadata": {},
   "outputs": [
    {
     "data": {
      "text/plain": [
       "35"
      ]
     },
     "execution_count": 47,
     "metadata": {},
     "output_type": "execute_result"
    }
   ],
   "source": [
    "#       9\n",
    "#    4     20\n",
    "#  1  6  15   170\n",
    "\n",
    "rangeSumBST(root, 10, 30)"
   ]
  },
  {
   "cell_type": "markdown",
   "id": "5e276e9c",
   "metadata": {},
   "source": [
    "## 15. Valid Palindrome"
   ]
  },
  {
   "cell_type": "code",
   "execution_count": 49,
   "id": "048b8f77",
   "metadata": {},
   "outputs": [],
   "source": [
    "def isPalindrome(s):\n",
    "    if len(s) <= 1:\n",
    "        return True\n",
    "    \n",
    "    left = 0\n",
    "    right = len(s) - 1\n",
    "    \n",
    "    while left < right:\n",
    "        while left < right and not s[left].isalnum():\n",
    "            left += 1\n",
    "        while left < right and not s[right].isalnum():\n",
    "            right -= 1\n",
    "        \n",
    "        if s[left].lower() != s[right].lower():\n",
    "            return False\n",
    "        \n",
    "        left += 1\n",
    "        right -= 1\n",
    "    return True"
   ]
  },
  {
   "cell_type": "code",
   "execution_count": 52,
   "id": "cee1c420",
   "metadata": {},
   "outputs": [
    {
     "data": {
      "text/plain": [
       "True"
      ]
     },
     "execution_count": 52,
     "metadata": {},
     "output_type": "execute_result"
    }
   ],
   "source": [
    "s = \"A man, a plan, a canal: Panama\"\n",
    "isPalindrome(s)"
   ]
  },
  {
   "cell_type": "markdown",
   "id": "127d9e0d",
   "metadata": {},
   "source": [
    "## 16. Diameter of binary tree"
   ]
  },
  {
   "cell_type": "code",
   "execution_count": 53,
   "id": "7d89bcfb",
   "metadata": {},
   "outputs": [],
   "source": [
    "def diameterOfBinaryTree(root):\n",
    "    \n",
    "    diameter = 0\n",
    "    \n",
    "    def get_longest_path(node):\n",
    "        if not node:\n",
    "            return 0\n",
    "        \n",
    "        nonlocal diameter\n",
    "        \n",
    "        left_path = get_longest_path(node.left)\n",
    "        right_path = get_longest_path(node.right)\n",
    "        \n",
    "        diameter = max(diameter, left_path + right_path)\n",
    "        return max(left_path, right_path) + 1\n",
    "    \n",
    "    get_longest_path(root)\n",
    "    return diameter"
   ]
  },
  {
   "cell_type": "code",
   "execution_count": 54,
   "id": "9ace4421",
   "metadata": {},
   "outputs": [
    {
     "data": {
      "text/plain": [
       "4"
      ]
     },
     "execution_count": 54,
     "metadata": {},
     "output_type": "execute_result"
    }
   ],
   "source": [
    "diameterOfBinaryTree(root)"
   ]
  },
  {
   "cell_type": "markdown",
   "id": "59272c51",
   "metadata": {},
   "source": [
    "## 17. Subarray sum equals K\n",
    "\n",
    "Here we can have two situations.\n",
    "\n",
    "1. Where subarray starts from index 0: [1, 1, 1]; k=2\n",
    "2. Where subarray starts from somewhere in the middle: [1, 1, 2, 5]; k=7\n",
    "\n",
    "Since we can’t change the positions of the numbers in the subarray, let’s go through all the subarrays we can form by iterating from index 0.\n",
    "\n",
    "total\n",
    "↓\n",
    "1:[1]\n",
    "2:[1,1]\n",
    "4:[1,1,2]\n",
    "9:[1,1,2,5]\n",
    "Let's foucs on [1,1,2,5].\n",
    "\n",
    "The reason [2,5] is the answer is because 2 + 5 = 7. So, to create the target k (=7) from the current total (=9), we need to subtract 2. In other words, the number of subarrays with a total equal to total - k corresponds to the number of subarrays that sum up to k (=7).\n",
    "\n",
    "For example,\n",
    "\n",
    "\n",
    "[1,1,2,5]\n",
    "\n",
    "\n",
    "* array is total 9\n",
    "* subarray (first two elements) is total 2\n",
    "* subarray (last two elements) is total 7\n",
    "\n",
    "Look at all subarray above. We have [1,1] which is total 2. That's why if we subtract [1,1] from [1,1,2,5], we can create [2,5]. That means number of total 1 subarray should be answer in this case.\n",
    "\n",
    "return 1\n",
    "\n",
    "Let's see another example.\n",
    "\n",
    "To understand the algorithm deeply, let's change the array like this.\n",
    "\n",
    "[1,1,-1,1,2,5] k = 7\n",
    "In this case, all subarrays should be\n",
    "\n",
    "1:[1],[1,1,-1]\n",
    "\n",
    "2:[1,1],[1,1,-1,1]\n",
    "\n",
    "4:[1,1,-1,1,2]\n",
    "\n",
    "9:[1,1,-1,1,2,5]\n",
    "\n",
    "When we create [1,1,-1,1,2,5], we have two subarrays with total 2(total - k), so if we subtract [1,1] and [1,1,-1,1] from [1,1,-1,1,2,5], we can create subarrays with total 7.\n",
    "\n",
    "[1,1,-1,1,2,5] - [1,1] = [-1,1,2,5]\n",
    "\n",
    "[1,1,-1,1,2,5] - [1,1,-1,1] = [2,5]\n",
    "\n",
    "One important is that we initialize the HashMap with {0:1}. Look at the first example.\n",
    "\n",
    "Input: nums = [1,1], k = 2\n",
    "\n",
    "In this case, HashMap works like this.\n",
    "\n",
    "For [1], h = {0:1, 1,1}\n",
    "\n",
    "For [1,1], h = {0:1, 1:1, 2:1}\n",
    "\n",
    "Every time we calculate total - k and search for the HashMap. When current subarray is [1,1], that is one of target subarray. In this case,\n",
    "\n",
    "total - k\n",
    "\n",
    "= 2 - 2\n",
    "\n",
    "= 0\n",
    "\n",
    "If we don't have {0:1} in HashMap, we can't add 1 to return value. Or we need to deal with the situation(extra code)."
   ]
  },
  {
   "cell_type": "code",
   "execution_count": 59,
   "id": "18e690d6",
   "metadata": {},
   "outputs": [],
   "source": [
    "# [1 , 1, -1, 1, 2, 5]\n",
    "\n",
    "from collections import defaultdict\n",
    "\n",
    "def subarraySum(nums, k):\n",
    "    count = 0\n",
    "    cumulative_sum = 0\n",
    "    prefix_sums = defaultdict(int)\n",
    "    prefix_sums[0] = 1\n",
    "    \n",
    "    for num in nums:\n",
    "        cumulative_sum += num\n",
    "        \n",
    "        if cumulative_sum - k in prefix_sums:\n",
    "            count += prefix_sums[cumulative_sum - k]\n",
    "        prefix_sums[cumulative_sum] += 1\n",
    "    return count"
   ]
  },
  {
   "cell_type": "code",
   "execution_count": 60,
   "id": "01b16f62",
   "metadata": {},
   "outputs": [
    {
     "data": {
      "text/plain": [
       "2"
      ]
     },
     "execution_count": 60,
     "metadata": {},
     "output_type": "execute_result"
    }
   ],
   "source": [
    "nums = [1 , 1, -1, 1, 2, 5]\n",
    "k = 7\n",
    "subarraySum(nums, k)"
   ]
  },
  {
   "cell_type": "markdown",
   "id": "1d5ca645",
   "metadata": {},
   "source": [
    "## 18. Binary Tree right side view"
   ]
  },
  {
   "cell_type": "code",
   "execution_count": 61,
   "id": "d9fb33e3",
   "metadata": {},
   "outputs": [],
   "source": [
    "def rightSideView(root):\n",
    "    if not root:\n",
    "        return []\n",
    "    \n",
    "    queue = [root]\n",
    "    result = []\n",
    "    \n",
    "    while queue:\n",
    "        \n",
    "        queue_length = len(queue)\n",
    "        counter = 0\n",
    "        \n",
    "        while counter < queue_length:\n",
    "            curr_node = queue.pop(0)\n",
    "            \n",
    "            if curr_node.left:\n",
    "                queue.append(curr_node.left)\n",
    "                \n",
    "            if curr_node.right:\n",
    "                queue.append(curr_node.right)\n",
    "                \n",
    "            counter += 1\n",
    "        result.append(curr_node.val)\n",
    "    return result"
   ]
  },
  {
   "cell_type": "code",
   "execution_count": 62,
   "id": "b961022e",
   "metadata": {},
   "outputs": [
    {
     "data": {
      "text/plain": [
       "[9, 20, 170]"
      ]
     },
     "execution_count": 62,
     "metadata": {},
     "output_type": "execute_result"
    }
   ],
   "source": [
    "rightSideView(root)"
   ]
  },
  {
   "cell_type": "markdown",
   "id": "63c1af1e",
   "metadata": {},
   "source": [
    "## 19. Binary Tree Level Order traversal"
   ]
  },
  {
   "cell_type": "code",
   "execution_count": 65,
   "id": "8a87c802",
   "metadata": {},
   "outputs": [],
   "source": [
    "#       9\n",
    "#    4     20\n",
    "#  1  6  15   170\n",
    "\n",
    "def levelOrder(root):\n",
    "    if not root:\n",
    "        return []\n",
    "    \n",
    "    result = []\n",
    "    queue = [root]\n",
    "    \n",
    "    while queue:\n",
    "        queue_length = len(queue)\n",
    "        counter = 0 \n",
    "        current_level_values = []\n",
    "        \n",
    "        while counter < queue_length:\n",
    "            curr_node = queue.pop(0)\n",
    "            \n",
    "            current_level_values.append(curr_node.val)\n",
    "            \n",
    "            if curr_node.left:\n",
    "                queue.append(curr_node.left)\n",
    "            \n",
    "            if curr_node.right:\n",
    "                queue.append(curr_node.right)\n",
    "            \n",
    "            counter += 1\n",
    "        result.append(current_level_values)\n",
    "    return result"
   ]
  },
  {
   "cell_type": "code",
   "execution_count": 64,
   "id": "e9013309",
   "metadata": {},
   "outputs": [
    {
     "data": {
      "text/plain": [
       "[[9], [4, 20], [1, 6, 15, 170]]"
      ]
     },
     "execution_count": 64,
     "metadata": {},
     "output_type": "execute_result"
    }
   ],
   "source": [
    "levelOrder(root)"
   ]
  },
  {
   "cell_type": "markdown",
   "id": "8d24eb87",
   "metadata": {},
   "source": [
    "## 20. Merged Intervals"
   ]
  },
  {
   "cell_type": "code",
   "execution_count": 66,
   "id": "a444ef01",
   "metadata": {},
   "outputs": [],
   "source": [
    "def merge(intervals):\n",
    "    if not intervals:\n",
    "        return []\n",
    "    \n",
    "    intervals.sort(key=lambda x:x[0])\n",
    "    merged_intervals = [intervals[0]]\n",
    "    \n",
    "    for current in intervals[1:]:\n",
    "        last = merged_intervals[-1]\n",
    "        \n",
    "        if current[0] <= last[1]:\n",
    "            last[1] = max(last[1], current[1])\n",
    "        else:\n",
    "            merged_intervals.append(current)\n",
    "    return merged_intervals"
   ]
  },
  {
   "cell_type": "code",
   "execution_count": 67,
   "id": "4ac740e0",
   "metadata": {},
   "outputs": [
    {
     "data": {
      "text/plain": [
       "[[1, 6], [8, 10], [15, 18]]"
      ]
     },
     "execution_count": 67,
     "metadata": {},
     "output_type": "execute_result"
    }
   ],
   "source": [
    "intervals = [[1,3],[2,6],[8,10],[15,18]]\n",
    "merge(intervals)"
   ]
  },
  {
   "cell_type": "markdown",
   "id": "f3fc92d2",
   "metadata": {},
   "source": [
    "## 21. Two Sum"
   ]
  },
  {
   "cell_type": "code",
   "execution_count": 68,
   "id": "595ce329",
   "metadata": {},
   "outputs": [],
   "source": [
    "def twoSum(nums, target):\n",
    "    if len(nums) <= 1:\n",
    "        return None\n",
    "    \n",
    "    hash_map = {}\n",
    "    \n",
    "    for i in range(len(nums)):\n",
    "        if nums[i] not in hash_map:\n",
    "            ntf = target - nums[i]\n",
    "            hash_map[ntf] = i\n",
    "        else:\n",
    "            return [hash_map[nums[i]], i]"
   ]
  },
  {
   "cell_type": "code",
   "execution_count": 69,
   "id": "b4b418be",
   "metadata": {},
   "outputs": [
    {
     "data": {
      "text/plain": [
       "[0, 1]"
      ]
     },
     "execution_count": 69,
     "metadata": {},
     "output_type": "execute_result"
    }
   ],
   "source": [
    "nums = [2,7,11,15]\n",
    "target = 9\n",
    "twoSum(nums, target)"
   ]
  },
  {
   "cell_type": "markdown",
   "id": "7f095e07",
   "metadata": {},
   "source": [
    "## 22. LRU Cache"
   ]
  },
  {
   "cell_type": "code",
   "execution_count": 70,
   "id": "08fbb1ba",
   "metadata": {},
   "outputs": [],
   "source": [
    "class LRUCache:\n",
    "    def __init__(self, capacity):\n",
    "        self.odict = {}\n",
    "        self.capacity = capacity\n",
    "    def get(self, key):\n",
    "        if not self.odict.get(key, None):\n",
    "            return -1\n",
    "        \n",
    "        self.odict[key] = self.odict.pop(key)\n",
    "        return self.odict[key]\n",
    "    def put(self, key, val):\n",
    "        self.odict.pop(key, None)\n",
    "        self.odict[key] = val\n",
    "        \n",
    "        if len(self.odict) > capacity:\n",
    "            self.odict.pop(next(iter(self.odict)))"
   ]
  },
  {
   "cell_type": "code",
   "execution_count": 71,
   "id": "d73f8938",
   "metadata": {},
   "outputs": [
    {
     "name": "stdout",
     "output_type": "stream",
     "text": [
      "1\n",
      "-1\n",
      "-1\n",
      "3\n",
      "4\n"
     ]
    }
   ],
   "source": [
    "capacity = 2\n",
    "lRUCache = LRUCache(capacity)\n",
    "lRUCache.put(1, 1)\n",
    "lRUCache.put(2, 2)\n",
    "print(lRUCache.get(1))\n",
    "\n",
    "lRUCache.put(3, 3)\n",
    "print(lRUCache.get(2))\n",
    "\n",
    "lRUCache.put(4, 4)\n",
    "print(lRUCache.get(1))\n",
    "\n",
    "print(lRUCache.get(3))\n",
    "print(lRUCache.get(4))"
   ]
  },
  {
   "cell_type": "markdown",
   "id": "08efafac",
   "metadata": {},
   "source": [
    "## 23. Top K Frequent Elements"
   ]
  },
  {
   "cell_type": "code",
   "execution_count": 72,
   "id": "aff7e8e3",
   "metadata": {},
   "outputs": [],
   "source": [
    "from collections import Counter\n",
    "import heapq\n",
    "def topKFrequent(nums, k):\n",
    "    if k == len(nums):\n",
    "        return nums\n",
    "    \n",
    "    counts = Counter(nums)\n",
    "    \n",
    "    return heapq.nlargest(k, counts.keys(), key=counts.get)"
   ]
  },
  {
   "cell_type": "code",
   "execution_count": 73,
   "id": "647911ec",
   "metadata": {},
   "outputs": [
    {
     "data": {
      "text/plain": [
       "[1, 2]"
      ]
     },
     "execution_count": 73,
     "metadata": {},
     "output_type": "execute_result"
    }
   ],
   "source": [
    "nums = [1,1,1,2,2,3]\n",
    "k = 2\n",
    "topKFrequent(nums, k)"
   ]
  },
  {
   "cell_type": "code",
   "execution_count": 76,
   "id": "961a1bf8",
   "metadata": {},
   "outputs": [],
   "source": [
    "def topKFrequent(nums, k):\n",
    "    if len(nums) == k:\n",
    "        return nums\n",
    "    \n",
    "    freq_map = Counter(nums)\n",
    "    freq_list = list(freq_map.items())\n",
    "    \n",
    "    n = len(freq_list)\n",
    "    left = 0\n",
    "    right = n - 1\n",
    "    k_largest_position = n - k\n",
    "    \n",
    "    quick_select(freq_list, left, right, k_largest_position)\n",
    "    return [freq_list[i][0] for i in range(n - k, n)]\n",
    "\n",
    "def quick_select(freq_list, left, right, k_largest_position):\n",
    "    if left == right:\n",
    "        return\n",
    "    \n",
    "    if left < right:\n",
    "        partition_index = partition(freq_list, left, right)\n",
    "        \n",
    "        if partition_index == k_largest_position:\n",
    "            return\n",
    "        elif partition_index < k_largest_position:\n",
    "            return quick_select(freq_list, partition_index + 1, right, k_largest_position)\n",
    "        else:\n",
    "            return quick_select(freq_list, left, partition_index - 1, k_largest_position)\n",
    "\n",
    "def partition(freq_list, left, right):\n",
    "    partition_index = left\n",
    "    pivot_element = freq_list[right][1]\n",
    "    \n",
    "    for j in range(left, right):\n",
    "        if freq_list[j][1] <= pivot_element:\n",
    "            freq_list[j], freq_list[partition_index] = freq_list[partition_index], freq_list[j]\n",
    "            partition_index += 1\n",
    "    freq_list[right], freq_list[partition_index] = freq_list[partition_index], freq_list[right]\n",
    "    return partition_index"
   ]
  },
  {
   "cell_type": "code",
   "execution_count": 77,
   "id": "3b2ad5ba",
   "metadata": {},
   "outputs": [
    {
     "data": {
      "text/plain": [
       "[2, 1]"
      ]
     },
     "execution_count": 77,
     "metadata": {},
     "output_type": "execute_result"
    }
   ],
   "source": [
    "nums = [1,1,1,2,2,3]\n",
    "k = 2\n",
    "topKFrequent(nums, k)"
   ]
  },
  {
   "cell_type": "markdown",
   "id": "b2605542",
   "metadata": {},
   "source": [
    "## 24. K Closest point to the origin"
   ]
  },
  {
   "cell_type": "code",
   "execution_count": 82,
   "id": "0c3d43d6",
   "metadata": {},
   "outputs": [],
   "source": [
    "def kClosest(points, k):\n",
    "    points.sort(key=lambda x:x[0]**2 + x[1]**2)\n",
    "    return points[:k]"
   ]
  },
  {
   "cell_type": "code",
   "execution_count": 83,
   "id": "9b02ed58",
   "metadata": {},
   "outputs": [
    {
     "name": "stdout",
     "output_type": "stream",
     "text": [
      "[[3, 3], [-2, 4]]\n"
     ]
    }
   ],
   "source": [
    "points = [[3, 3], [5, -1], [-2, 4]]\n",
    "k = 2\n",
    "print(kClosest(points, k))  # Output: [[3, 3], [-2, 4]]"
   ]
  },
  {
   "cell_type": "code",
   "execution_count": 84,
   "id": "4aaa40c9",
   "metadata": {},
   "outputs": [],
   "source": [
    "def kClosest(points, k):\n",
    "    distances = [x**2 + y**2 for x, y in points]\n",
    "    quick_select(points, distances, 0, len(distances) - 1, k -1)\n",
    "    return points[:k]\n",
    "\n",
    "def quick_select(points, distances, left, right, k):\n",
    "    if left == right:\n",
    "        return\n",
    "    \n",
    "    if left < right:\n",
    "        partition_index = partition(points, distances, left, right)\n",
    "        \n",
    "        if partition_index == k:\n",
    "            return\n",
    "        elif partition_index < k:\n",
    "            return quick_select(points, distances, partition_index + 1, right, k)\n",
    "        else:\n",
    "            return quick_select(points, distances, left, partition_index - 1, k)\n",
    "        \n",
    "def partition(points, distances, left, right):\n",
    "    partition_index = left\n",
    "    pivot_element = distances[right]\n",
    "    \n",
    "    for j in range(left, right):\n",
    "        if distances[j] <= pivot_element:\n",
    "            distances[j], distances[partition_index] = distances[partition_index], distances[j]\n",
    "            points[j], points[partition_index] = points[partition_index], points[j]\n",
    "            partition_index += 1\n",
    "    distances[right], distances[partition_index] = distances[partition_index], distances[right]\n",
    "    points[right], points[partition_index] = points[partition_index], points[right]\n",
    "    return partition_index"
   ]
  },
  {
   "cell_type": "code",
   "execution_count": 85,
   "id": "be759184",
   "metadata": {},
   "outputs": [
    {
     "name": "stdout",
     "output_type": "stream",
     "text": [
      "[[3, 3], [-2, 4]]\n"
     ]
    }
   ],
   "source": [
    "points = [[3, 3], [5, -1], [-2, 4]]\n",
    "k = 2\n",
    "print(kClosest(points, k))  # Output: [[3, 3], [-2, 4]]"
   ]
  },
  {
   "cell_type": "markdown",
   "id": "e271f6a3",
   "metadata": {},
   "source": [
    "## 25. Building with an ocean view"
   ]
  },
  {
   "cell_type": "code",
   "execution_count": 90,
   "id": "e5dfa250",
   "metadata": {},
   "outputs": [],
   "source": [
    "def findBuildings(heights):\n",
    "    max_height = -1\n",
    "    \n",
    "    result = []\n",
    "    \n",
    "    for i in reversed(range(len(heights))):\n",
    "        if heights[i] > max_height:\n",
    "            max_height = heights[i]\n",
    "            result.append(i)\n",
    "    result = result[::-1]\n",
    "    return result"
   ]
  },
  {
   "cell_type": "code",
   "execution_count": 91,
   "id": "fa221abb",
   "metadata": {},
   "outputs": [
    {
     "data": {
      "text/plain": [
       "[0, 2, 3]"
      ]
     },
     "execution_count": 91,
     "metadata": {},
     "output_type": "execute_result"
    }
   ],
   "source": [
    "heights = [4,2,3,1]\n",
    "findBuildings(heights)"
   ]
  },
  {
   "cell_type": "markdown",
   "id": "7021a7fc",
   "metadata": {},
   "source": [
    "## 26. Interval List Intersections"
   ]
  },
  {
   "cell_type": "code",
   "execution_count": 92,
   "id": "534ea70a",
   "metadata": {},
   "outputs": [],
   "source": [
    "def intervalIntersection(firstList, secondList):\n",
    "    answer = []\n",
    "    p1 = 0\n",
    "    p2 = 0\n",
    "    \n",
    "    while p1 < len(firstList) and p2 < len(secondList):\n",
    "        low = max(firstList[p1][0], secondList[p2][0])\n",
    "        high = min(firstList[p1][1], secondList[p2][1])\n",
    "        \n",
    "        if low <= high:\n",
    "            answer.append([low, high])\n",
    "            \n",
    "        if firstList[p1][1] <= secondList[p2][1]:\n",
    "            p1 += 1\n",
    "        else:\n",
    "            p2 += 1\n",
    "    return answer"
   ]
  },
  {
   "cell_type": "code",
   "execution_count": 93,
   "id": "adb600f4",
   "metadata": {},
   "outputs": [
    {
     "data": {
      "text/plain": [
       "[[1, 2], [5, 5], [8, 10], [15, 23], [24, 24], [25, 25]]"
      ]
     },
     "execution_count": 93,
     "metadata": {},
     "output_type": "execute_result"
    }
   ],
   "source": [
    "firstList = [[0,2],[5,10],[13,23],[24,25]]\n",
    "secondList = [[1,5],[8,12],[15,24],[25,26]]\n",
    "\n",
    "intervalIntersection(firstList, secondList)"
   ]
  },
  {
   "cell_type": "markdown",
   "id": "69b92102",
   "metadata": {},
   "source": [
    "## 27. Copy List with random pointer"
   ]
  },
  {
   "cell_type": "code",
   "execution_count": 97,
   "id": "a7091402",
   "metadata": {},
   "outputs": [],
   "source": [
    "class Solution:\n",
    "    def __init__(self):\n",
    "        # Dictionary which holds old nodes as keys and new nodes as its values.\n",
    "        self.visitedHash = {}\n",
    "\n",
    "    def copyRandomList(self, head):\n",
    "\n",
    "        if head == None:\n",
    "            return None\n",
    "\n",
    "        # If we have already processed the current node, then we simply return the cloned version of it.\n",
    "        if head in self.visitedHash:\n",
    "            return self.visitedHash[head]\n",
    "\n",
    "        # create a new node\n",
    "        # with the value same as old node.\n",
    "        node = Node(head.val, None, None)\n",
    "\n",
    "        # Save this value in the hash map. This is needed since there might be\n",
    "        # loops during traversal due to randomness of random pointers and this would help us avoid them.\n",
    "        self.visitedHash[head] = node\n",
    "\n",
    "        # Recursively copy the remaining linked list starting once from the next pointer and then from the \n",
    "        # random pointer.\n",
    "        # Thus we have two independent recursive calls.\n",
    "        # Finally we update the next and random pointers for the new node created.\n",
    "        node.next = self.copyRandomList(head.next)\n",
    "        node.random = self.copyRandomList(head.random)\n",
    "\n",
    "        return node"
   ]
  },
  {
   "cell_type": "code",
   "execution_count": 98,
   "id": "d23ca984",
   "metadata": {},
   "outputs": [
    {
     "name": "stdout",
     "output_type": "stream",
     "text": [
      "List 1:\n",
      "1 -> 4 -> 5 -> None\n",
      "\n",
      "List 2:\n",
      "1 -> 3 -> 4 -> None\n",
      "\n",
      "List 3:\n",
      "2 -> 6 -> None\n"
     ]
    }
   ],
   "source": [
    "from functools import reduce\n",
    "\n",
    "# Template to create node list\n",
    "class ListNode:\n",
    "    def __init__(self, val, next=None):\n",
    "        self.val = val\n",
    "        self.next = next\n",
    "\n",
    "# Function to print the linked list\n",
    "def printList(head):\n",
    "    if not head:\n",
    "        return\n",
    "    while head:\n",
    "        print(head.val, end=\" -> \")\n",
    "        head = head.next\n",
    "    print(\"None\")\n",
    "\n",
    "# Function to create a linked list from a list of values\n",
    "def createLinkedList(values):\n",
    "    return reduce(lambda acc, val: ListNode(val, acc), reversed(values), None)\n",
    "\n",
    "# Create multiple linked lists\n",
    "list1 = createLinkedList([1, 4, 5])\n",
    "list2 = createLinkedList([1, 3, 4])\n",
    "list3 = createLinkedList([2, 6])\n",
    "\n",
    "# Print the linked lists\n",
    "print(\"List 1:\")\n",
    "printList(list1)\n",
    "\n",
    "print(\"\\nList 2:\")\n",
    "printList(list2)\n",
    "\n",
    "print(\"\\nList 3:\")\n",
    "printList(list3)"
   ]
  },
  {
   "cell_type": "markdown",
   "id": "f44ae2b1",
   "metadata": {},
   "source": [
    "## 28. Merge K-sorted Lists"
   ]
  },
  {
   "cell_type": "code",
   "execution_count": 99,
   "id": "9147c8e2",
   "metadata": {},
   "outputs": [],
   "source": [
    "def mergeKLists(lists):\n",
    "    nodes = []\n",
    "    \n",
    "    dummy = ListNode(0)\n",
    "    current = dummy\n",
    "    \n",
    "    for l in lists:\n",
    "        while l:\n",
    "            nodes.append(l.val)\n",
    "            l = l.next\n",
    "    \n",
    "    for x in sorted(nodes):\n",
    "        current.next = ListNode(x)\n",
    "        current = current.next\n",
    "    \n",
    "    return dummy.next"
   ]
  },
  {
   "cell_type": "code",
   "execution_count": 100,
   "id": "88d20563",
   "metadata": {},
   "outputs": [
    {
     "name": "stdout",
     "output_type": "stream",
     "text": [
      "\n",
      "Merged List:\n",
      "1 -> 1 -> 2 -> 3 -> 4 -> 4 -> 5 -> 6 -> None\n"
     ]
    }
   ],
   "source": [
    "mergedList = mergeKLists([list1, list2, list3])\n",
    "print(\"\\nMerged List:\")\n",
    "printList(mergedList)"
   ]
  },
  {
   "cell_type": "markdown",
   "id": "16bd5d04",
   "metadata": {},
   "source": [
    "## 29. Min adds to make parenthsis valid"
   ]
  },
  {
   "cell_type": "code",
   "execution_count": 101,
   "id": "dbbc8bee",
   "metadata": {},
   "outputs": [],
   "source": [
    "def minAddToMakeValid(s):\n",
    "    open_brackets = 0\n",
    "    min_adds_required = 0\n",
    "    \n",
    "    for c in s:\n",
    "        if c == '(':\n",
    "            open_brackets += 1\n",
    "        else:\n",
    "            if open_brackets > 0:\n",
    "                open_brackets -= 1\n",
    "            else:\n",
    "                min_adds_required += 1\n",
    "    return open_brackets + min_adds_required"
   ]
  },
  {
   "cell_type": "code",
   "execution_count": 104,
   "id": "5748480d",
   "metadata": {},
   "outputs": [
    {
     "data": {
      "text/plain": [
       "3"
      ]
     },
     "execution_count": 104,
     "metadata": {},
     "output_type": "execute_result"
    }
   ],
   "source": [
    "s = \"(((\"\n",
    "minAddToMakeValid(s)"
   ]
  },
  {
   "cell_type": "markdown",
   "id": "48c1cd35",
   "metadata": {},
   "source": [
    "## 30. Next Permutation"
   ]
  },
  {
   "cell_type": "code",
   "execution_count": 105,
   "id": "6d57aebc",
   "metadata": {},
   "outputs": [],
   "source": [
    "def nextPermutation(nums):\n",
    "    n = len(nums)\n",
    "    i = n - 2\n",
    "    \n",
    "    while i >= 0 and nums[i] >= nums[i + 1]:\n",
    "        i -= 1\n",
    "        \n",
    "    j = n - 1\n",
    "    \n",
    "    while nums[j] <= nums[i]:\n",
    "        j -= 1\n",
    "    \n",
    "    nums[i], nums[j] = nums[j], nums[i]\n",
    "    \n",
    "    left = i + 1\n",
    "    right = n - 1\n",
    "    \n",
    "    while left < right:\n",
    "        nums[left], nums[right] = nums[right], nums[left]\n",
    "    \n",
    "        left += 1\n",
    "        right -= 1\n",
    "        "
   ]
  },
  {
   "cell_type": "code",
   "execution_count": 106,
   "id": "730d1e19",
   "metadata": {},
   "outputs": [
    {
     "name": "stdout",
     "output_type": "stream",
     "text": [
      "[1, 4, 1, 3, 5, 6]\n"
     ]
    }
   ],
   "source": [
    "nums = [1, 3, 6, 5, 4, 1]\n",
    "nextPermutation(nums)\n",
    "print(nums)"
   ]
  },
  {
   "cell_type": "markdown",
   "id": "cc75d8db",
   "metadata": {},
   "source": [
    "## 31. Sum root to leaf numbers"
   ]
  },
  {
   "cell_type": "code",
   "execution_count": 107,
   "id": "2ac11f18",
   "metadata": {},
   "outputs": [],
   "source": [
    "def run():\n",
    "    root = Node(5)\n",
    "    root.insert_nodes([3, 7, 2, 4, 6, 8], root)\n",
    "    bfs_result = root.bfs(root=root)\n",
    "    dfs_inorder = root.DFSInorder(root)\n",
    "    dfs_preorder = root.DFSPreOrder(root)\n",
    "    dfs_postorder = root.DFSPostOrder(root)\n",
    "    return root, bfs_result, dfs_inorder, dfs_preorder, dfs_postorder\n",
    "\n",
    "root_2, bfs_result, dfs_inorder, dfs_preorder, dfs_postorder = run()"
   ]
  },
  {
   "cell_type": "code",
   "execution_count": 108,
   "id": "d7a915a3",
   "metadata": {},
   "outputs": [],
   "source": [
    "def sumNumbers(root):\n",
    "    if not root:\n",
    "        return 0\n",
    "    \n",
    "    queue = [[root, root.val]]\n",
    "    \n",
    "    total = 0\n",
    "    \n",
    "    while queue:\n",
    "        curr_node, curr_val = queue.pop(0)\n",
    "        \n",
    "        if not curr_node.left and not curr_node.right:\n",
    "            total += curr_val\n",
    "        \n",
    "        if curr_node.left:\n",
    "            queue.append([curr_node.left, curr_val * 10 + curr_node.left.val])\n",
    "        \n",
    "        if curr_node.right:\n",
    "            queue.append([curr_node.right, curr_val * 10 + curr_node.right.val])\n",
    "    \n",
    "    return total"
   ]
  },
  {
   "cell_type": "code",
   "execution_count": 109,
   "id": "36647a96",
   "metadata": {},
   "outputs": [
    {
     "data": {
      "text/plain": [
       "2220"
      ]
     },
     "execution_count": 109,
     "metadata": {},
     "output_type": "execute_result"
    }
   ],
   "source": [
    "sumNumbers(root_2)"
   ]
  },
  {
   "cell_type": "markdown",
   "id": "47e7c664",
   "metadata": {},
   "source": [
    "## 32. Moving averages from data stream"
   ]
  },
  {
   "cell_type": "code",
   "execution_count": 111,
   "id": "a1ce449a",
   "metadata": {},
   "outputs": [],
   "source": [
    "from collections import deque\n",
    "class MovingAverage:\n",
    "    def __init__(self, size):\n",
    "        self.size = size\n",
    "        self.count = 0\n",
    "        self.window_sum = 0\n",
    "        self.queue = deque()\n",
    "    \n",
    "    def next(self, val):\n",
    "        self.count += 1\n",
    "        \n",
    "        self.queue.append(val)\n",
    "        \n",
    "        last = self.queue.popleft() if self.count > self.size else 0\n",
    "        \n",
    "        self.window_sum = self.window_sum - last + val\n",
    "        \n",
    "        return self.window_sum / min(self.count, self.size)"
   ]
  },
  {
   "cell_type": "code",
   "execution_count": 112,
   "id": "7488abaa",
   "metadata": {},
   "outputs": [
    {
     "name": "stdout",
     "output_type": "stream",
     "text": [
      "1.0\n",
      "5.5\n",
      "4.666666666666667\n",
      "6.0\n"
     ]
    }
   ],
   "source": [
    "movingAverage = MovingAverage(3)\n",
    "print(movingAverage.next(1))\n",
    "print(movingAverage.next(10))\n",
    "print(movingAverage.next(3))\n",
    "print(movingAverage.next(5))"
   ]
  },
  {
   "cell_type": "markdown",
   "id": "735ebda5",
   "metadata": {},
   "source": [
    "## 33. Custom sort string"
   ]
  },
  {
   "cell_type": "code",
   "execution_count": 113,
   "id": "b3ab577e",
   "metadata": {},
   "outputs": [],
   "source": [
    "def customSortString(order, s):\n",
    "    freq = Counter(s)\n",
    "    \n",
    "    result = []\n",
    "    \n",
    "    for char in order:\n",
    "        if char in freq:\n",
    "            result.append(char * freq[char])\n",
    "            del freq[char]\n",
    "    \n",
    "    for char, count in freq.items():\n",
    "        result.append(char * count)\n",
    "    \n",
    "    return \"\".join(result)"
   ]
  },
  {
   "cell_type": "code",
   "execution_count": 116,
   "id": "98ffbdd3",
   "metadata": {},
   "outputs": [
    {
     "data": {
      "text/plain": [
       "'cbaaed'"
      ]
     },
     "execution_count": 116,
     "metadata": {},
     "output_type": "execute_result"
    }
   ],
   "source": [
    "order = \"cba\"\n",
    "s = \"aabced\"\n",
    "\n",
    "customSortString(order, s)"
   ]
  },
  {
   "cell_type": "code",
   "execution_count": 117,
   "id": "865a4f0b",
   "metadata": {},
   "outputs": [
    {
     "data": {
      "text/plain": [
       "Counter({'a': 2, 'b': 1, 'c': 1, 'e': 1, 'd': 1})"
      ]
     },
     "execution_count": 117,
     "metadata": {},
     "output_type": "execute_result"
    }
   ],
   "source": [
    "Counter(s)"
   ]
  },
  {
   "cell_type": "markdown",
   "id": "e99965fd",
   "metadata": {},
   "source": [
    "## 34. Convert Binary Tree into sorted doubly Linked List"
   ]
  },
  {
   "cell_type": "code",
   "execution_count": 118,
   "id": "c6472627",
   "metadata": {},
   "outputs": [],
   "source": [
    "def treeToDoublyList(root):\n",
    "    \n",
    "    def helper(node):\n",
    "        nonlocal first, last\n",
    "        \n",
    "        if node:\n",
    "            helper(node.left)\n",
    "            \n",
    "            if last:\n",
    "                last.right = node\n",
    "                node.left = last\n",
    "            else:\n",
    "                first = node\n",
    "            \n",
    "            last = node\n",
    "            \n",
    "            helper(node.right)\n",
    "    \n",
    "    if not root:\n",
    "        return None\n",
    "    \n",
    "    first, last = None, None\n",
    "    \n",
    "    helper(root)\n",
    "    \n",
    "    last.right = first\n",
    "    first.left = last\n",
    "    return first"
   ]
  },
  {
   "cell_type": "markdown",
   "id": "8c142f9b",
   "metadata": {},
   "source": [
    "## 35. Maximum Consecutive Ones"
   ]
  },
  {
   "cell_type": "code",
   "execution_count": 119,
   "id": "7c6bad45",
   "metadata": {},
   "outputs": [],
   "source": [
    "def longestOnes(nums, k):\n",
    "    left = 0\n",
    "    \n",
    "    for right in range(len(nums)):\n",
    "        if nums[right] == 0:\n",
    "            k -= 1\n",
    "        \n",
    "        if k < 0:\n",
    "            if nums[left] == 0:\n",
    "                k += 1\n",
    "            left += 1\n",
    "    return right - left + 1"
   ]
  },
  {
   "cell_type": "code",
   "execution_count": 120,
   "id": "71f1e2e8",
   "metadata": {},
   "outputs": [
    {
     "data": {
      "text/plain": [
       "6"
      ]
     },
     "execution_count": 120,
     "metadata": {},
     "output_type": "execute_result"
    }
   ],
   "source": [
    "nums = [1,1,1,0,0,0,1,1,1,1,0]\n",
    "k = 2\n",
    "\n",
    "longestOnes(nums, k)"
   ]
  },
  {
   "cell_type": "markdown",
   "id": "de4a89d3",
   "metadata": {},
   "source": [
    "## 36. Maximum Swap"
   ]
  },
  {
   "cell_type": "code",
   "execution_count": 121,
   "id": "5714a923",
   "metadata": {},
   "outputs": [],
   "source": [
    "def maximumSwap(num):\n",
    "    digits = list(str(num))\n",
    "    right_most = {int(d):i for i, d in enumerate(digits)}\n",
    "    \n",
    "    for i, d in enumerate(digits):\n",
    "        for larger in range(9, int(d), -1):\n",
    "            if right_most.get(larger, -1) >= i:\n",
    "                digits[i], digits[right_most[larger]] = digits[right_most[larger]], digits[i]\n",
    "                return int(\"\".join(digits))"
   ]
  },
  {
   "cell_type": "code",
   "execution_count": 122,
   "id": "5a07ea07",
   "metadata": {},
   "outputs": [
    {
     "data": {
      "text/plain": [
       "7726"
      ]
     },
     "execution_count": 122,
     "metadata": {},
     "output_type": "execute_result"
    }
   ],
   "source": [
    "num = 2776\n",
    "maximumSwap(num)    "
   ]
  },
  {
   "cell_type": "markdown",
   "id": "288d95c0",
   "metadata": {},
   "source": [
    "## 37. Vertical Order Traversal of a binary tree"
   ]
  },
  {
   "cell_type": "code",
   "execution_count": 123,
   "id": "4a16a003",
   "metadata": {},
   "outputs": [],
   "source": [
    "from collections import defaultdict\n",
    "\n",
    "#       9\n",
    "#    4     20\n",
    "#  1  6  15   170\n",
    "def verticalTraversal(root):\n",
    "    if not root:\n",
    "        return []\n",
    "    \n",
    "    queue = [[root, 0, 0]]\n",
    "    column_table = defaultdict(list)\n",
    "    min_col = 0\n",
    "    max_col = 0\n",
    "    \n",
    "    while queue:\n",
    "        curr_node, curr_row, curr_col = queue.pop(0)\n",
    "        \n",
    "        if curr_node:\n",
    "            column_table[curr_col].append((curr_row, curr_node.val))\n",
    "            min_col = min(min_col, curr_col)\n",
    "            max_col = max(max_col, curr_col)\n",
    "            queue.append([curr_node.left, curr_row + 1, curr_col - 1])\n",
    "            queue.append([curr_node.right, curr_row + 1, curr_col + 1])\n",
    "            \n",
    "    sorted_result = []\n",
    "    \n",
    "    for col in range(min_col, max_col + 1):\n",
    "        sorted_column = sorted(column_table[col], key=lambda x: (x[0], x[1]))\n",
    "        sorted_result.append([val for _, val in sorted_column])\n",
    "    \n",
    "    return sorted_result"
   ]
  },
  {
   "cell_type": "markdown",
   "id": "4df3443f",
   "metadata": {},
   "source": [
    "## 38. Kth missing positive number"
   ]
  },
  {
   "cell_type": "code",
   "execution_count": 126,
   "id": "b0e9dcec",
   "metadata": {},
   "outputs": [],
   "source": [
    "def kthMissing(nums, k):\n",
    "    for num in nums:\n",
    "        if num <= k:\n",
    "            k += 1\n",
    "        else:\n",
    "            break\n",
    "    return k"
   ]
  },
  {
   "cell_type": "code",
   "execution_count": 127,
   "id": "8812698c",
   "metadata": {},
   "outputs": [
    {
     "data": {
      "text/plain": [
       "7"
      ]
     },
     "execution_count": 127,
     "metadata": {},
     "output_type": "execute_result"
    }
   ],
   "source": [
    "nums = [2, 3, 5, 8]\n",
    "k = 4\n",
    "kthMissing(nums, k)"
   ]
  },
  {
   "cell_type": "code",
   "execution_count": 128,
   "id": "be9920d4",
   "metadata": {},
   "outputs": [],
   "source": [
    "## Binary search\n",
    "\n",
    "def kthMissing(nums, k):\n",
    "    left = 0\n",
    "    right = len(nums) - 1\n",
    "    \n",
    "    while left <= right:\n",
    "        mid = (left + right) // 2\n",
    "        \n",
    "        if nums[mid] - mid - 1 < k:\n",
    "            left = mid + 1\n",
    "        else:\n",
    "            right = mid - 1\n",
    "    return left + k"
   ]
  },
  {
   "cell_type": "code",
   "execution_count": 130,
   "id": "c38004ef",
   "metadata": {},
   "outputs": [
    {
     "data": {
      "text/plain": [
       "9"
      ]
     },
     "execution_count": 130,
     "metadata": {},
     "output_type": "execute_result"
    }
   ],
   "source": [
    "arr = [2,3,4,7,11]\n",
    "k = 5\n",
    "kthMissing(arr, k)"
   ]
  },
  {
   "cell_type": "markdown",
   "id": "cd9c7f55",
   "metadata": {},
   "source": [
    "## 39. Clone Graph"
   ]
  },
  {
   "cell_type": "code",
   "execution_count": 131,
   "id": "356c5329",
   "metadata": {},
   "outputs": [],
   "source": [
    "def cloneGraph(node):\n",
    "    if not node:\n",
    "        return None\n",
    "    \n",
    "    visited = {}\n",
    "    \n",
    "    def dfs(curr_node):\n",
    "        if curr_node in visited:\n",
    "            return visited[curr_node]\n",
    "        \n",
    "        clone = Node(curr_node.val)\n",
    "        \n",
    "        visited[curr_node] = clone\n",
    "        \n",
    "        for neighbor in curr_node.neighbors:\n",
    "            clone.neighbors.append(dfs(neighbor))\n",
    "        \n",
    "        return clone\n",
    "    \n",
    "    return dfs(node)\n",
    "    "
   ]
  },
  {
   "cell_type": "markdown",
   "id": "bc1efde5",
   "metadata": {},
   "source": [
    "## 40. First and Last position of an element in a sorted array"
   ]
  },
  {
   "cell_type": "code",
   "execution_count": 132,
   "id": "55e50886",
   "metadata": {},
   "outputs": [],
   "source": [
    "def searchRange(nums, target):\n",
    "    if len(nums) == 0:\n",
    "        return [-1, -1]\n",
    "    \n",
    "    first_position = binary_search(nums, 0, len(nums) - 1, target)\n",
    "    \n",
    "    if first_position == -1:\n",
    "        return [-1, -1]\n",
    "    \n",
    "    start_position = first_position\n",
    "    end_position = first_position\n",
    "    tempL = 0\n",
    "    tempR = 0\n",
    "    \n",
    "    while start_position != -1:\n",
    "        tempL = start_position\n",
    "        start_position = binary_search(nums, 0, start_position - 1, target)\n",
    "    start_position = tempL\n",
    "    \n",
    "    while end_position != -1:\n",
    "        tempR = end_position\n",
    "        end_position = binary_search(nums, end_position + 1, len(nums) - 1, target)\n",
    "    end_position = tempR\n",
    "    \n",
    "    return [start_position, end_position]\n",
    "\n",
    "def binary_search(nums, left, right, target):\n",
    "    while left <= right:\n",
    "        mid = (left + right) // 2\n",
    "        \n",
    "        if nums[mid] == target:\n",
    "            return mid\n",
    "        elif nums[mid] < target:\n",
    "            left = mid + 1\n",
    "        else:\n",
    "            right = mid - 1\n",
    "    return -1"
   ]
  },
  {
   "cell_type": "code",
   "execution_count": 133,
   "id": "a6516b61",
   "metadata": {},
   "outputs": [
    {
     "data": {
      "text/plain": [
       "[3, 4]"
      ]
     },
     "execution_count": 133,
     "metadata": {},
     "output_type": "execute_result"
    }
   ],
   "source": [
    "nums = [5,7,7,8,8,10]\n",
    "target = 8\n",
    "\n",
    "searchRange(nums, target)"
   ]
  },
  {
   "cell_type": "markdown",
   "id": "ca2ba77a",
   "metadata": {},
   "source": [
    "## 41. Best Time to buy and sell stocks"
   ]
  },
  {
   "cell_type": "code",
   "execution_count": 134,
   "id": "3281829e",
   "metadata": {},
   "outputs": [],
   "source": [
    "def maxProfit(prices):\n",
    "    min_price = float('inf')\n",
    "    max_profit = 0\n",
    "    \n",
    "    for price in prices:\n",
    "        if price < min_price:\n",
    "            min_price = price\n",
    "        \n",
    "        if price - min_price > max_profit:\n",
    "            max_profit = price - min_price\n",
    "    \n",
    "    return max_profit"
   ]
  },
  {
   "cell_type": "code",
   "execution_count": 135,
   "id": "117afa6a",
   "metadata": {},
   "outputs": [
    {
     "data": {
      "text/plain": [
       "5"
      ]
     },
     "execution_count": 135,
     "metadata": {},
     "output_type": "execute_result"
    }
   ],
   "source": [
    "prices = [7,1,5,3,6,4]\n",
    "maxProfit(prices)"
   ]
  },
  {
   "cell_type": "markdown",
   "id": "047cfc18",
   "metadata": {},
   "source": [
    "## 42. Three Sum"
   ]
  },
  {
   "cell_type": "code",
   "execution_count": 137,
   "id": "88419137",
   "metadata": {},
   "outputs": [],
   "source": [
    "def threeSum(nums):\n",
    "    res = []\n",
    "    nums.sort()\n",
    "    \n",
    "    for i in range(len(nums)):\n",
    "        if nums[i] > 0:\n",
    "            break\n",
    "        if i == 0 or nums[i] != nums[i - 1]:\n",
    "            twoSum(nums, i, res)\n",
    "    return res\n",
    "\n",
    "def twoSum(nums, i, res):\n",
    "    left = i + 1\n",
    "    right = len(nums) - 1\n",
    "    \n",
    "    while left < right:\n",
    "        total = nums[i] + nums[left] + nums[right]\n",
    "        \n",
    "        if total < 0:\n",
    "            left += 1\n",
    "        elif total > 0:\n",
    "            right -= 1\n",
    "        else:\n",
    "            res.append([nums[i], nums[left], nums[right]])\n",
    "            left += 1\n",
    "            right -= 1\n",
    "            \n",
    "            while left < right and nums[left] == nums[left - 1]:\n",
    "                left += 1\n"
   ]
  },
  {
   "cell_type": "code",
   "execution_count": 138,
   "id": "c9e62ba5",
   "metadata": {},
   "outputs": [
    {
     "data": {
      "text/plain": [
       "[[-1, -1, 2], [-1, 0, 1]]"
      ]
     },
     "execution_count": 138,
     "metadata": {},
     "output_type": "execute_result"
    }
   ],
   "source": [
    "nums = [-1,0,1,2,-1,-4]\n",
    "threeSum(nums)"
   ]
  },
  {
   "cell_type": "markdown",
   "id": "dd1200df",
   "metadata": {},
   "source": [
    "## 43. Move Zeros"
   ]
  },
  {
   "cell_type": "code",
   "execution_count": 139,
   "id": "5fa86601",
   "metadata": {},
   "outputs": [],
   "source": [
    "def moveZeros(nums):\n",
    "    pos = 0\n",
    "    \n",
    "    for i in range(len(nums)):\n",
    "        if nums[i] != 0:\n",
    "            if pos != i:\n",
    "                nums[i], nums[pos] = nums[pos], nums[i]\n",
    "            pos += 1\n",
    "    return"
   ]
  },
  {
   "cell_type": "code",
   "execution_count": 141,
   "id": "9e80438a",
   "metadata": {},
   "outputs": [
    {
     "name": "stdout",
     "output_type": "stream",
     "text": [
      "[1, 3, 12, 0, 0]\n"
     ]
    }
   ],
   "source": [
    "nums = [0,1,0,3,12]\n",
    "moveZeros(nums)\n",
    "print(nums)"
   ]
  },
  {
   "cell_type": "markdown",
   "id": "7761321d",
   "metadata": {},
   "source": [
    "## 44. Add Two Linked Lists"
   ]
  },
  {
   "cell_type": "code",
   "execution_count": 142,
   "id": "fbbc0f35",
   "metadata": {},
   "outputs": [],
   "source": [
    "def addTwoNumbers(l1, l2):\n",
    "    dummy = ListNode(0)\n",
    "    curr = dummy\n",
    "    \n",
    "    carry = 0\n",
    "    \n",
    "    while l1 or l2 or carry != 0:\n",
    "        l1val = l1.val if l1 else 0\n",
    "        l2val = l2.val if l2 else 0\n",
    "        \n",
    "        column_sum = (l1val + l2val + carry) % 10\n",
    "        carry = (l1val + l2val + carry) // 10\n",
    "        \n",
    "        new_node = ListNode(column_sum)\n",
    "        \n",
    "        curr.next = new_node\n",
    "        curr = new_node\n",
    "        \n",
    "        l1 = l1.next if l1 else None\n",
    "        l2 = l2.next if l2 else None\n",
    "    \n",
    "    return dummy.next"
   ]
  },
  {
   "cell_type": "markdown",
   "id": "73836e0f",
   "metadata": {},
   "source": [
    "## 45. Longest Common Prefix"
   ]
  },
  {
   "cell_type": "code",
   "execution_count": 143,
   "id": "3e991310",
   "metadata": {},
   "outputs": [],
   "source": [
    "def longestPrefix(strs):\n",
    "    result = []\n",
    "    \n",
    "    for x in zip(*strs):\n",
    "        if len(set(x)) == 1:\n",
    "            result.append(x[0])\n",
    "        else:\n",
    "            break\n",
    "    return \"\".join(result)"
   ]
  },
  {
   "cell_type": "code",
   "execution_count": 145,
   "id": "5dada747",
   "metadata": {},
   "outputs": [
    {
     "data": {
      "text/plain": [
       "'fl'"
      ]
     },
     "execution_count": 145,
     "metadata": {},
     "output_type": "execute_result"
    }
   ],
   "source": [
    "strs = [\"flower\",\"flow\",\"flight\"]\n",
    "longestPrefix(strs)"
   ]
  },
  {
   "cell_type": "markdown",
   "id": "9ca883c5",
   "metadata": {},
   "source": [
    "## 46. Insert into a sorted circular Linked List"
   ]
  },
  {
   "cell_type": "code",
   "execution_count": 146,
   "id": "377a64b4",
   "metadata": {},
   "outputs": [],
   "source": [
    "def insert(head, insertVal):\n",
    "    if not head:\n",
    "        new_node = ListNode(insertVal, None)\n",
    "        new_node.next = new_node\n",
    "        return new_node\n",
    "    \n",
    "    prev = head\n",
    "    curr = head.next\n",
    "    \n",
    "    to_insert = False\n",
    "    \n",
    "    while True:\n",
    "        if prev.val <= insertVal <= curr.val:\n",
    "            to_insert = True\n",
    "        \n",
    "        elif prev.val > curr.val:\n",
    "            if insertVal >= prev.val or insertVal <= curr.val:\n",
    "                to_insert = True\n",
    "        \n",
    "        if to_insert:\n",
    "            prev.next = ListNode(insertVal, curr)\n",
    "            return head\n",
    "        \n",
    "        prev, curr = curr, curr.next\n",
    "        \n",
    "        if prev == head:\n",
    "            break\n",
    "    \n",
    "    prev.next = ListNode(insertVal, curr)\n",
    "    return head"
   ]
  },
  {
   "cell_type": "markdown",
   "id": "1eb27899",
   "metadata": {},
   "source": [
    "## 47. Number of Islands"
   ]
  },
  {
   "cell_type": "code",
   "execution_count": 147,
   "id": "e82edcc0",
   "metadata": {},
   "outputs": [],
   "source": [
    "def numIslands(grid):\n",
    "    if not grid:\n",
    "        return 0\n",
    "    \n",
    "    island_count = 0\n",
    "    directions = [[-1, 0], [0, 1], [1, 0], [0, -1]]\n",
    "    \n",
    "    for row in range(len(grid)):\n",
    "        for col in range(len(grid[0])):\n",
    "            if grid[row][col] == '1':\n",
    "                island_count += 1\n",
    "                grid[row][col] = '0'\n",
    "                \n",
    "                queue = [[row, col]]\n",
    "                \n",
    "                while queue:\n",
    "                    curr_row, curr_col = queue.pop(0)\n",
    "                    \n",
    "                    for i in range(len(directions)):\n",
    "                        curr_dir = directions[i]\n",
    "                        \n",
    "                        next_row, next_col = curr_row + curr_dir[0], curr_col + curr_dir[1]\n",
    "                        \n",
    "                        if next_row < 0 or next_col < 0 or next_row >= len(grid) or next_col >= len(grid[0]):\n",
    "                            continue\n",
    "                            \n",
    "                        if grid[next_row][next_col] == '1':\n",
    "                            grid[next_row][next_col] = '0'\n",
    "                            queue.append([next_row, next_col])\n",
    "    \n",
    "    return island_count"
   ]
  },
  {
   "cell_type": "code",
   "execution_count": 148,
   "id": "ad3f2fb6",
   "metadata": {},
   "outputs": [
    {
     "data": {
      "text/plain": [
       "3"
      ]
     },
     "execution_count": 148,
     "metadata": {},
     "output_type": "execute_result"
    }
   ],
   "source": [
    "grid = [\n",
    "  [\"1\",\"1\",\"0\",\"0\",\"0\"],\n",
    "  [\"1\",\"1\",\"0\",\"0\",\"0\"],\n",
    "  [\"0\",\"0\",\"1\",\"0\",\"0\"],\n",
    "  [\"0\",\"0\",\"0\",\"1\",\"1\"]\n",
    "]\n",
    "\n",
    "numIslands(grid)"
   ]
  },
  {
   "cell_type": "markdown",
   "id": "d16d5c32",
   "metadata": {},
   "source": [
    "## 48. Add Strings"
   ]
  },
  {
   "cell_type": "code",
   "execution_count": 153,
   "id": "cc674ef4",
   "metadata": {},
   "outputs": [],
   "source": [
    "def addStrings(num1, num2):\n",
    "    result = []\n",
    "    carry = 0\n",
    "    \n",
    "    p1 = len(num1) - 1\n",
    "    p2 = len(num2) - 1\n",
    "    \n",
    "    while p1 >= 0 or p2 >= 0:\n",
    "        x1 = ord(num1[p1]) - ord('0') if p1 >= 0 else 0\n",
    "        x2 = ord(num2[p2]) - ord('0') if p2 >= 0 else 0\n",
    "        \n",
    "        column_sum = (x1 + x2 + carry) % 10\n",
    "        carry = (x1 + x2 + carry) // 10\n",
    "        \n",
    "        result.append(column_sum)\n",
    "        \n",
    "        p1 -= 1\n",
    "        p2 -= 1\n",
    "    \n",
    "    if carry:\n",
    "        result.append(carry)\n",
    "        \n",
    "    # result.reverse()\n",
    "        \n",
    "    return \"\".join(str(x) for x in result[::-1])\n",
    "    "
   ]
  },
  {
   "cell_type": "code",
   "execution_count": 154,
   "id": "50d9d570",
   "metadata": {},
   "outputs": [
    {
     "data": {
      "text/plain": [
       "'533'"
      ]
     },
     "execution_count": 154,
     "metadata": {},
     "output_type": "execute_result"
    }
   ],
   "source": [
    "num1 = \"456\"\n",
    "num2 = \"77\"\n",
    "\n",
    "addStrings(num1, num2)"
   ]
  },
  {
   "cell_type": "markdown",
   "id": "b1f7fccd",
   "metadata": {},
   "source": [
    "## 49. Accounts Merge"
   ]
  },
  {
   "cell_type": "code",
   "execution_count": 157,
   "id": "5c4aaa47",
   "metadata": {},
   "outputs": [],
   "source": [
    "from collections import defaultdict\n",
    "def accountsMerge(accounts):\n",
    "    visited = [False] * len(accounts)\n",
    "    email_accounts_map = defaultdict(list)\n",
    "    result = []\n",
    "    \n",
    "    for idx, account in enumerate(accounts):\n",
    "        for j in range(1, len(account)):\n",
    "            email_accounts_map[account[j]].append(idx)\n",
    "            \n",
    "    def dfs(i, emails):\n",
    "        if visited[i]:\n",
    "            return\n",
    "        \n",
    "        visited[i] = True\n",
    "        \n",
    "        for j in range(1, len(accounts[i])):\n",
    "            email = accounts[i][j]\n",
    "            emails.add(email)\n",
    "            for neighbors in email_accounts_map[email]:\n",
    "                dfs(neighbors, emails)\n",
    "            \n",
    "    for idx, account in enumerate(accounts):\n",
    "        if visited[idx]:\n",
    "            continue\n",
    "        name, emails = account[0], set()\n",
    "        dfs(idx, emails)\n",
    "        result.append([name] + sorted(emails))\n",
    "    \n",
    "    return result"
   ]
  },
  {
   "cell_type": "code",
   "execution_count": 158,
   "id": "e869abf5",
   "metadata": {},
   "outputs": [
    {
     "data": {
      "text/plain": [
       "[['John', 'john00@mail.com', 'john_newyork@mail.com', 'johnsmith@mail.com'],\n",
       " ['Mary', 'mary@mail.com'],\n",
       " ['John', 'johnnybravo@mail.com']]"
      ]
     },
     "execution_count": 158,
     "metadata": {},
     "output_type": "execute_result"
    }
   ],
   "source": [
    "accounts = [[\"John\",\"johnsmith@mail.com\",\"john_newyork@mail.com\"],[\"John\",\"johnsmith@mail.com\",\"john00@mail.com\"],\n",
    "            [\"Mary\",\"mary@mail.com\"],[\"John\",\"johnnybravo@mail.com\"]]\n",
    "\n",
    "accountsMerge(accounts)"
   ]
  },
  {
   "cell_type": "markdown",
   "id": "df6f574f",
   "metadata": {},
   "source": [
    "## 50. Diagonal Traverse"
   ]
  },
  {
   "cell_type": "code",
   "execution_count": 161,
   "id": "87cc0550",
   "metadata": {},
   "outputs": [],
   "source": [
    "def findDiagonalOrder(mat):\n",
    "    hash_map = {}\n",
    "    \n",
    "    for row in range(len(mat)):\n",
    "        for col in range(len(mat[0])):\n",
    "            if row + col not in hash_map:\n",
    "                hash_map[row + col] = [mat[row][col]]\n",
    "            else:\n",
    "                hash_map[row + col].append(mat[row][col])\n",
    "                \n",
    "    result = []\n",
    "    \n",
    "    for item in hash_map.items():\n",
    "        if item[0] % 2 == 0:\n",
    "            [result.append(x) for x in item[1][::-1]]\n",
    "        else:\n",
    "            [result.append(x) for x in item[1]]\n",
    "    return result"
   ]
  },
  {
   "cell_type": "code",
   "execution_count": 162,
   "id": "d0dbdbc0",
   "metadata": {},
   "outputs": [
    {
     "data": {
      "text/plain": [
       "[1, 2, 4, 7, 5, 3, 6, 8, 9]"
      ]
     },
     "execution_count": 162,
     "metadata": {},
     "output_type": "execute_result"
    }
   ],
   "source": [
    "mat = [[1,2,3],[4,5,6],[7,8,9]]\n",
    "findDiagonalOrder(mat)"
   ]
  },
  {
   "cell_type": "markdown",
   "id": "50aa3d33",
   "metadata": {},
   "source": [
    "## 51. All Nodes distance K in a binary tree"
   ]
  },
  {
   "cell_type": "code",
   "execution_count": 163,
   "id": "4d714db3",
   "metadata": {},
   "outputs": [],
   "source": [
    "def distanceK(root, target, k):\n",
    "    def add_parent(node, parent):\n",
    "        if node:\n",
    "            node.parent = parent\n",
    "            add_parent(node.left, node)\n",
    "            add_parent(node.right, node)\n",
    "    \n",
    "    add_parent(root, None)\n",
    "    \n",
    "    ans = []\n",
    "    \n",
    "    visited = set()\n",
    "    \n",
    "    def dfs(curr, distance):\n",
    "        if not curr or curr in visited:\n",
    "            return\n",
    "        visited.add(curr)\n",
    "        \n",
    "        if distance == 0:\n",
    "            ans.append(curr.val)\n",
    "            return\n",
    "        \n",
    "        dfs(curr.parent, distance - 1)\n",
    "        dfs(curr.left, distance - 1)\n",
    "        dfs(curr.right, distance - 1)\n",
    "        \n",
    "    dfs(target, k)\n",
    "    \n",
    "    return ans\n",
    "        \n",
    "        "
   ]
  },
  {
   "cell_type": "markdown",
   "id": "9c1c33b0",
   "metadata": {},
   "source": [
    "## 52. Remove nth node from the end of a Linked List"
   ]
  },
  {
   "cell_type": "code",
   "execution_count": 164,
   "id": "a54b9bef",
   "metadata": {},
   "outputs": [],
   "source": [
    "def removeNthFromEnd(head, n):\n",
    "    dummy = ListNode(0)\n",
    "    dummy.next = head\n",
    "    \n",
    "    first = dummy\n",
    "    second = dummy\n",
    "    \n",
    "    for i in range(n + 1):\n",
    "        first = first.next\n",
    "    \n",
    "    while first:\n",
    "        first = first.next\n",
    "        second = second.next\n",
    "    \n",
    "    second.next = second.next.next\n",
    "    return dummy.next"
   ]
  },
  {
   "cell_type": "code",
   "execution_count": null,
   "id": "d16ff836",
   "metadata": {},
   "outputs": [],
   "source": []
  }
 ],
 "metadata": {
  "kernelspec": {
   "display_name": "Python 3 (ipykernel)",
   "language": "python",
   "name": "python3"
  },
  "language_info": {
   "codemirror_mode": {
    "name": "ipython",
    "version": 3
   },
   "file_extension": ".py",
   "mimetype": "text/x-python",
   "name": "python",
   "nbconvert_exporter": "python",
   "pygments_lexer": "ipython3",
   "version": "3.11.4"
  }
 },
 "nbformat": 4,
 "nbformat_minor": 5
}
