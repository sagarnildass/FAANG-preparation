{
 "cells": [
  {
   "cell_type": "markdown",
   "id": "f09ad8d4",
   "metadata": {},
   "source": [
    "## 1. Almost Valid Palindrome"
   ]
  },
  {
   "cell_type": "code",
   "execution_count": 1,
   "id": "e66875e0",
   "metadata": {},
   "outputs": [],
   "source": [
    "# time --> O(n)\n",
    "# space --> O(1)\n",
    "def almostValid(s):\n",
    "    if len(s) <= 2:\n",
    "        return True\n",
    "    \n",
    "    def checkPalindrome(s, left, right):\n",
    "        while left < right:\n",
    "            if s[left] != s[right]:\n",
    "                return False\n",
    "            left += 1\n",
    "            right -= 1\n",
    "        return True\n",
    "    \n",
    "    left = 0\n",
    "    right = len(s) - 1\n",
    "    \n",
    "    while left < right:\n",
    "        if s[left] != s[right]:\n",
    "            return checkPalindrome(s, left + 1, right) or checkPalindrome(s, left, right - 1)\n",
    "        \n",
    "        left += 1\n",
    "        right -= 1\n",
    "    return True"
   ]
  },
  {
   "cell_type": "code",
   "execution_count": 4,
   "id": "4690fc87",
   "metadata": {},
   "outputs": [
    {
     "data": {
      "text/plain": [
       "True"
      ]
     },
     "execution_count": 4,
     "metadata": {},
     "output_type": "execute_result"
    }
   ],
   "source": [
    "almostValid(\"abac\")"
   ]
  },
  {
   "cell_type": "markdown",
   "id": "16bbf8ea",
   "metadata": {},
   "source": [
    "## 2. Kth Largest Element"
   ]
  },
  {
   "cell_type": "code",
   "execution_count": 5,
   "id": "e6175ffa",
   "metadata": {},
   "outputs": [],
   "source": [
    "# time --> O(n)\n",
    "# space --> O(1)\n",
    "def kthLargest(nums, k):\n",
    "    indexToFind = len(nums) - k\n",
    "    return quickSelect(nums, 0, len(nums) - 1, indexToFind)\n",
    "\n",
    "def quickSelect(nums, left, right, indexToFind):\n",
    "    if left == right:\n",
    "        return nums[left]\n",
    "    \n",
    "    if left < right:\n",
    "        partitionIndex = partition(nums, left, right)\n",
    "        \n",
    "        if partitionIndex == indexToFind:\n",
    "            return nums[partitionIndex]\n",
    "        elif partitionIndex < indexToFind:\n",
    "            return quickSelect(nums, partitionIndex + 1, right, indexToFind)\n",
    "        else:\n",
    "            return quickSelect(nums, left, partitionIndex - 1, indexToFind)\n",
    "\n",
    "def partition(nums, left, right):\n",
    "    partitionIndex = left\n",
    "    pivotElement = nums[right]\n",
    "    \n",
    "    for j in range(left, right):\n",
    "        if nums[j] <= pivotElement:\n",
    "            nums[j], nums[partitionIndex]= nums[partitionIndex], nums[j]\n",
    "            partitionIndex += 1\n",
    "    nums[right], nums[partitionIndex] = nums[partitionIndex], nums[right]\n",
    "    return partitionIndex\n",
    "    "
   ]
  },
  {
   "cell_type": "code",
   "execution_count": 7,
   "id": "82d18ec5",
   "metadata": {},
   "outputs": [
    {
     "data": {
      "text/plain": [
       "5"
      ]
     },
     "execution_count": 7,
     "metadata": {},
     "output_type": "execute_result"
    }
   ],
   "source": [
    "kthLargest([5,6,1,4,8,3],3)"
   ]
  },
  {
   "cell_type": "markdown",
   "id": "c67b221d",
   "metadata": {},
   "source": [
    "## 3. Valid Word abbreviation"
   ]
  },
  {
   "cell_type": "code",
   "execution_count": 13,
   "id": "9198fad7",
   "metadata": {},
   "outputs": [],
   "source": [
    "# Time --> O(n)\n",
    "# Space --> O(1)\n",
    "def validAbbr(word, abbr):\n",
    "    word_ptr = 0\n",
    "    abbr_ptr = 0\n",
    "    \n",
    "    while word_ptr < len(word) and abbr_ptr < len(abbr):\n",
    "        if abbr[abbr_ptr].isdigit():\n",
    "            if abbr[abbr_ptr] == '0':\n",
    "                return False\n",
    "            \n",
    "            num = 0\n",
    "            \n",
    "            while abbr[abbr_ptr].isdigit() and abbr_ptr < len(abbr):\n",
    "                num = num * 10 + int(abbr[abbr_ptr])\n",
    "                abbr_ptr += 1\n",
    "            \n",
    "            word_ptr += num\n",
    "            \n",
    "        else:\n",
    "            if word_ptr >= len(word) or word[word_ptr] != abbr[abbr_ptr]:\n",
    "                return False\n",
    "            \n",
    "            word_ptr += 1\n",
    "            abbr_ptr += 1\n",
    "            \n",
    "    return word_ptr == len(word) and abbr_ptr == len(abbr)"
   ]
  },
  {
   "cell_type": "code",
   "execution_count": 14,
   "id": "8238acc9",
   "metadata": {},
   "outputs": [
    {
     "data": {
      "text/plain": [
       "True"
      ]
     },
     "execution_count": 14,
     "metadata": {},
     "output_type": "execute_result"
    }
   ],
   "source": [
    "validAbbr(\"substitution\", \"s10n\")"
   ]
  },
  {
   "cell_type": "code",
   "execution_count": 15,
   "id": "3c639770",
   "metadata": {},
   "outputs": [
    {
     "data": {
      "text/plain": [
       "False"
      ]
     },
     "execution_count": 15,
     "metadata": {},
     "output_type": "execute_result"
    }
   ],
   "source": [
    "validAbbr(\"substitution\", \"s010n\")"
   ]
  },
  {
   "cell_type": "markdown",
   "id": "233441d9",
   "metadata": {},
   "source": [
    "## 4. Minimum remove to make valid parenthesis"
   ]
  },
  {
   "cell_type": "code",
   "execution_count": 18,
   "id": "0ca37f06",
   "metadata": {},
   "outputs": [],
   "source": [
    "# time --> O(n)\n",
    "# space --> O(n)\n",
    "def minRemoveToMakeValid(s):\n",
    "    indices_to_remove = set()\n",
    "    stack = []\n",
    "    \n",
    "    for idx, char in enumerate(s):\n",
    "        if char not in '()':\n",
    "            continue\n",
    "        elif char == '(':\n",
    "            stack.append(idx)\n",
    "        elif not stack:\n",
    "            indices_to_remove.add(idx)\n",
    "        else:\n",
    "            stack.pop()\n",
    "            \n",
    "    indices_to_remove = indices_to_remove.union(set(stack))\n",
    "    \n",
    "    string_builder = []\n",
    "    \n",
    "    for i in range(len(s)):\n",
    "        if i not in indices_to_remove:\n",
    "            string_builder.append(s[i])\n",
    "    \n",
    "    return \"\".join(string_builder)"
   ]
  },
  {
   "cell_type": "code",
   "execution_count": 19,
   "id": "f8cb431e",
   "metadata": {},
   "outputs": [
    {
     "data": {
      "text/plain": [
       "'ab(c)d'"
      ]
     },
     "execution_count": 19,
     "metadata": {},
     "output_type": "execute_result"
    }
   ],
   "source": [
    "minRemoveToMakeValid('(ab(c)d')"
   ]
  },
  {
   "cell_type": "markdown",
   "id": "50849979",
   "metadata": {},
   "source": [
    "## 5. Merge sorted array"
   ]
  },
  {
   "cell_type": "code",
   "execution_count": 29,
   "id": "c5b087a9",
   "metadata": {},
   "outputs": [],
   "source": [
    "# time --> O((m + n)log(m + n))\n",
    "# space --> O(n) (for sorting)\n",
    "def mergeSortedArrayBrute(nums1, m, nums2, n):\n",
    "    \n",
    "    for i in range(n):\n",
    "        nums1[i + m] = nums2[i]\n",
    "    \n",
    "    nums1.sort()"
   ]
  },
  {
   "cell_type": "code",
   "execution_count": 24,
   "id": "245576fd",
   "metadata": {},
   "outputs": [],
   "source": [
    "# time --> O(m + n)\n",
    "# space --> O(m)\n",
    "def mergeSortedArray(nums1, m, nums2, n):\n",
    "    nums1_copy = nums1[:m]\n",
    "    \n",
    "    p1 = 0\n",
    "    p2 = 0\n",
    "    \n",
    "    for p in range(m + n):\n",
    "        if p2 >= n or (p1 < m and nums1_copy[p1] <= nums2[p2]):\n",
    "            nums1[p] = nums1_copy[p1]\n",
    "            p1 += 1\n",
    "        else:\n",
    "            nums1[p] = nums2[p2]\n",
    "            p2 += 1"
   ]
  },
  {
   "cell_type": "code",
   "execution_count": 25,
   "id": "9b34fba7",
   "metadata": {},
   "outputs": [
    {
     "data": {
      "text/plain": [
       "[1, 2, 2, 3, 5, 6]"
      ]
     },
     "execution_count": 25,
     "metadata": {},
     "output_type": "execute_result"
    }
   ],
   "source": [
    "nums1 = [1,2,3,0,0,0]\n",
    "m = 3\n",
    "nums2 = [2,5,6]\n",
    "n = 3\n",
    "\n",
    "mergeSortedArray(nums1, m, nums2, n)\n",
    "nums1"
   ]
  },
  {
   "cell_type": "code",
   "execution_count": 26,
   "id": "564ea134",
   "metadata": {},
   "outputs": [],
   "source": [
    "# time --> O(m + n)\n",
    "# space --> O(1)\n",
    "def mergeSortedArray(nums1, m, nums2, n):\n",
    "    p1 = m - 1\n",
    "    p2 = n - 1\n",
    "    \n",
    "    for p in range(m + n - 1, -1, -1):\n",
    "        if p2 < 0:\n",
    "            break\n",
    "        if p1 >= 0 and nums1[p1] >= nums2[p2]:\n",
    "            nums1[p] = nums1[p1]\n",
    "            p1 -= 1\n",
    "        else:\n",
    "            nums1[p] = nums2[p2]\n",
    "            p2 -= 1\n",
    "    "
   ]
  },
  {
   "cell_type": "code",
   "execution_count": 28,
   "id": "1329f0fd",
   "metadata": {},
   "outputs": [
    {
     "data": {
      "text/plain": [
       "[1, 2, 2, 3, 5, 6]"
      ]
     },
     "execution_count": 28,
     "metadata": {},
     "output_type": "execute_result"
    }
   ],
   "source": [
    "nums1 = [1,2,3,0,0,0]\n",
    "m = 3\n",
    "nums2 = [2,5,6]\n",
    "n = 3\n",
    "\n",
    "mergeSortedArray(nums1, m, nums2, n)\n",
    "nums1"
   ]
  },
  {
   "cell_type": "code",
   "execution_count": 30,
   "id": "2847cc6d",
   "metadata": {},
   "outputs": [],
   "source": [
    "class Node:\n",
    "    def __init__(self, val: int):\n",
    "        self.left = None\n",
    "        self.right = None\n",
    "        self.val = val\n",
    "\n",
    "    def __repr__(self):\n",
    "        return str(self.val)\n",
    "\n",
    "    def insert_node(self, val):\n",
    "        if self.val is not None:\n",
    "            if val < self.val:\n",
    "                if self.left is None:\n",
    "                    self.left = Node(val)\n",
    "                else:\n",
    "                    self.left.insert_node(val)\n",
    "            elif val > self.val:\n",
    "                if self.right is None:\n",
    "                    self.right = Node(val)\n",
    "                else:\n",
    "                    self.right.insert_node(val)\n",
    "\n",
    "    @staticmethod\n",
    "    def insert_nodes(vals: list, root):\n",
    "        for i in vals:\n",
    "            root.insert_node(i)\n",
    "\n",
    "    def bfs(self, root=None):\n",
    "        if root is None:\n",
    "            return\n",
    "        result = []\n",
    "        queue = [root]\n",
    "\n",
    "        while len(queue) > 0:\n",
    "            cur_node = queue.pop(0)\n",
    "            result.append(cur_node.val)\n",
    "            if cur_node.left is not None:\n",
    "                queue.append(cur_node.left)\n",
    "\n",
    "            if cur_node.right is not None:\n",
    "                queue.append(cur_node.right)\n",
    "\n",
    "            #print(queue)\n",
    "        return result\n",
    "    \n",
    "    def DFSInorder(self, root=None):\n",
    "        return self.traverseInOrder(root, [])\n",
    "    \n",
    "    def DFSPostOrder(self, root=None):\n",
    "        return self.traversePostOrder(root, [])\n",
    "    \n",
    "    def DFSPreOrder(self, root=None):\n",
    "        return self.traversePreOrder(root, [])\n",
    "    \n",
    "    def traverseInOrder(self, node, data):\n",
    "        if node.left is not None:\n",
    "            node.traverseInOrder(node.left, data)\n",
    "        data.append(node.val)\n",
    "        \n",
    "        if node.right is not None:\n",
    "            node.traverseInOrder(node.right, data)\n",
    "        #print(data)\n",
    "        return data\n",
    "    \n",
    "    def traversePostOrder(self, node, data):\n",
    "        \n",
    "        if node.left is not None:\n",
    "            node.traversePostOrder(node.left, data)\n",
    "              \n",
    "        if node.right is not None:\n",
    "            node.traversePostOrder(node.right, data)\n",
    "        #print(data)\n",
    "        data.append(node.val)\n",
    "        return data\n",
    "    \n",
    "    def traversePreOrder(self, node, data):\n",
    "        data.append(node.val)\n",
    "        if node.left is not None:\n",
    "            node.traversePreOrder(node.left, data)\n",
    "        \n",
    "        \n",
    "        if node.right is not None:\n",
    "            node.traversePreOrder(node.right, data)\n",
    "        #print(data)\n",
    "        return data\n",
    "    \n",
    "    \n",
    "#       9\n",
    "#    4     20\n",
    "#  1  6  15   170\n",
    "\n",
    "def run():\n",
    "    root = Node(9)\n",
    "    root.insert_nodes([4,6,20,170,15,1], root)\n",
    "    bfs_result = root.bfs(root=root)\n",
    "    dfs_inorder = root.DFSInorder(root)\n",
    "    dfs_preorder = root.DFSPreOrder(root)\n",
    "    dfs_postorder = root.DFSPostOrder(root)\n",
    "    return root, bfs_result, dfs_inorder, dfs_preorder, dfs_postorder\n",
    "\n",
    "root, bfs_result, dfs_inorder, dfs_preorder, dfs_postorder = run()"
   ]
  },
  {
   "cell_type": "markdown",
   "id": "787ee218",
   "metadata": {},
   "source": [
    "## 6. Binary tree vertical order traversal"
   ]
  },
  {
   "cell_type": "code",
   "execution_count": 40,
   "id": "f00dfe8d",
   "metadata": {},
   "outputs": [],
   "source": [
    "# time --> O(n)\n",
    "# space --> O(n)\n",
    "\n",
    "from collections import defaultdict\n",
    "def verticalOrder(root):\n",
    "    if not root:\n",
    "        return []\n",
    "    \n",
    "    column_table = defaultdict(list)\n",
    "    \n",
    "    queue = [[root, 0]]\n",
    "    \n",
    "    min_col = 0\n",
    "    max_col = 0\n",
    "    \n",
    "    while queue:\n",
    "        curr_node, curr_col = queue.pop(0)\n",
    "        \n",
    "        \n",
    "        column_table[curr_col].append(curr_node.val)\n",
    "        min_col = min(min_col, curr_col)\n",
    "        max_col = max(max_col, curr_col)\n",
    "        \n",
    "        if curr_node.left:\n",
    "            queue.append([curr_node.left, curr_col - 1])\n",
    "        if curr_node.right:\n",
    "            queue.append([curr_node.right, curr_col + 1])\n",
    "    \n",
    "    return [column_table[x] for x in range(min_col, max_col + 1)]"
   ]
  },
  {
   "cell_type": "code",
   "execution_count": 41,
   "id": "1a4ae806",
   "metadata": {},
   "outputs": [
    {
     "data": {
      "text/plain": [
       "[[1], [4], [9, 6, 15], [20], [170]]"
      ]
     },
     "execution_count": 41,
     "metadata": {},
     "output_type": "execute_result"
    }
   ],
   "source": [
    "verticalOrder(root)"
   ]
  },
  {
   "cell_type": "markdown",
   "id": "9047bd4f",
   "metadata": {},
   "source": [
    "## 7. Random Pick with weight\n",
    "\n",
    "* Raw array\n",
    "[1, 3, 5, 6]\n",
    "\n",
    "* Index array with repetition\n",
    "[0, 1, 1, 1, 2, 2, 2, 2, 2, 3, 3, 3, 3, 3, 3]\n",
    "\n",
    "If we see the array:\n",
    "\n",
    "* Index 0: Range is {0, 0} < 1\n",
    "* Index 1: Range is {1, 3} < 4\n",
    "* Index 2: Range is {4, 8} < 9\n",
    "* Index 3: Range is {9, 14} < 15\n",
    "\n",
    "So we observe that [1, 4, 9, 15] is also the prefix sums."
   ]
  },
  {
   "cell_type": "code",
   "execution_count": 42,
   "id": "53d8b080",
   "metadata": {},
   "outputs": [],
   "source": [
    "import random\n",
    "\n",
    "class Solution:\n",
    "    # T --> O(n)\n",
    "    # S --> O(n)\n",
    "    def __init__(self, w):\n",
    "        self.prefix_sums = []\n",
    "        self.total_sum = 0\n",
    "        \n",
    "        for weight in w:\n",
    "            self.total_sum += weight\n",
    "            self.prefix_sums.append(self.total_sum)\n",
    "    # T --> O(n)\n",
    "    # S --> O(1)      \n",
    "    def pickIndex(self):\n",
    "        target = self.total_sum * random.random()\n",
    "        for idx, prefix_sum in enumerate(prefix_sums):\n",
    "            if target < prefix_sum:\n",
    "                return idx"
   ]
  },
  {
   "cell_type": "code",
   "execution_count": 43,
   "id": "7c1f21ba",
   "metadata": {},
   "outputs": [],
   "source": [
    "class Solution:\n",
    "    # T --> O(n)\n",
    "    # S --> O(n)\n",
    "    def __init__(self, w):\n",
    "        self.prefix_sums = []\n",
    "        self.total_sum = 0\n",
    "        \n",
    "        for weight in w:\n",
    "            self.total_sum += weight\n",
    "            self.prefix_sums.append(self.total_sum)\n",
    "    # T --> O(logn)\n",
    "    # S --> O(1)    \n",
    "    def pickIndex(self):\n",
    "        target = self.total_sum * random.random()\n",
    "        left = 0\n",
    "        right = len(self.prefix_sums) - 1\n",
    "        \n",
    "        while left < right:\n",
    "            mid = (left + right) // 2\n",
    "            if self.prefix_sums[mid] < target:\n",
    "                left = mid + 1\n",
    "            else:\n",
    "                right = mid\n",
    "        return left"
   ]
  },
  {
   "cell_type": "code",
   "execution_count": 44,
   "id": "9eed75ce",
   "metadata": {},
   "outputs": [
    {
     "name": "stdout",
     "output_type": "stream",
     "text": [
      "1\n",
      "4\n",
      "4\n",
      "4\n",
      "5\n",
      "1\n"
     ]
    }
   ],
   "source": [
    "# \n",
    "solution = Solution([1, 3, 5, 6, 7, 8]);\n",
    "print(solution.pickIndex())\n",
    "print(solution.pickIndex())\n",
    "print(solution.pickIndex())\n",
    "print(solution.pickIndex())\n",
    "print(solution.pickIndex())\n",
    "print(solution.pickIndex())\n"
   ]
  },
  {
   "cell_type": "markdown",
   "id": "dc5f36c9",
   "metadata": {},
   "source": [
    "## 8. Lowest Common Ancestor"
   ]
  },
  {
   "cell_type": "code",
   "execution_count": 45,
   "id": "48dd6f36",
   "metadata": {},
   "outputs": [],
   "source": [
    "# time --> O(n)\n",
    "# space --> O(h)\n",
    "def lowestCommonAncestor(root, p, q):\n",
    "    if not root:\n",
    "        return None\n",
    "    \n",
    "    left_res = lowestCommonAncestor(root.left, p, q)\n",
    "    right_res = lowestCommonAncestor(root.right, p, q)\n",
    "    \n",
    "    if (left_res and right_res) or (root in [p, q]):\n",
    "        return root\n",
    "    else:\n",
    "        return left_res or right_res"
   ]
  },
  {
   "cell_type": "markdown",
   "id": "6a509ebe",
   "metadata": {},
   "source": [
    "## 9. Lowest Common Ancestor III"
   ]
  },
  {
   "cell_type": "code",
   "execution_count": 46,
   "id": "6e933b08",
   "metadata": {},
   "outputs": [],
   "source": [
    "# time --> O(h)\n",
    "# space --> O(1)\n",
    "def lowestCommonAncestor(p, q):\n",
    "    p1 = p\n",
    "    p2 = q\n",
    "    \n",
    "    while p1 != p2:\n",
    "        p1 = p1.parent if p1.parent else q\n",
    "        p2 = p2.parent if p2.parent else p\n",
    "        \n",
    "    return p1"
   ]
  },
  {
   "cell_type": "markdown",
   "id": "602944eb",
   "metadata": {},
   "source": [
    "## 10. Lowest Common Ancestor of a BST"
   ]
  },
  {
   "cell_type": "code",
   "execution_count": 47,
   "id": "6294c0fc",
   "metadata": {},
   "outputs": [],
   "source": [
    "# time --> O(h)\n",
    "# space --> O(1)\n",
    "def lowestCommonAncestor(root, p, q):\n",
    "    small = min(p.val, q.val)\n",
    "    large = max(p.val, q.val)\n",
    "    \n",
    "    while root:\n",
    "        if root.val < small:\n",
    "            root = root.right\n",
    "        elif root.val > large:\n",
    "            root = root.left\n",
    "        else:\n",
    "            return root\n",
    "    \n",
    "    return -1"
   ]
  },
  {
   "cell_type": "markdown",
   "id": "0b69ca92",
   "metadata": {},
   "source": [
    "## 11. Basic Calculator\n",
    "\n",
    "We use a variable lastNumber to track the value of the last evaluated expression.\n",
    "If the operation is Addition (+) or Subtraction (-), add the lastNumber to the result instead of pushing it to the stack. The currentNumber would be updated to lastNumber for the next iteration.\n",
    "\n",
    "If the operation is Multiplication (*) or Division (/), we must evaluate the expression lastNumber * currentNumber and update the lastNumber with the result of the expression. This would be added to the result after the entire string is scanned.\n"
   ]
  },
  {
   "cell_type": "code",
   "execution_count": 51,
   "id": "29ae0834",
   "metadata": {},
   "outputs": [],
   "source": [
    "# Time --> O(n)\n",
    "# Space --> O(1)\n",
    "# Note --> Sign is changing in one lag, hence the correct calculation gets done. So when we encounter *, \n",
    "# the sign is still +\n",
    "def calculator(s):\n",
    "    if not s:\n",
    "        return 0\n",
    "    \n",
    "    current_number = 0\n",
    "    last_number = 0\n",
    "    result = 0\n",
    "    sign = '+'\n",
    "    \n",
    "    for i in range(len(s)):\n",
    "        current_char = s[i]\n",
    "        \n",
    "        if current_char.isdigit():\n",
    "            current_number = current_number * 10 + int(current_char)\n",
    "            \n",
    "        if (not current_char.isdigit() and not current_char.isspace()) or i == len(s) - 1:\n",
    "            if sign == '+' or sign == '-':\n",
    "                result += last_number\n",
    "                last_number = current_number if sign == '+' else -current_number\n",
    "            elif sign == '*':\n",
    "                last_number *= current_number\n",
    "            elif sign == '/':\n",
    "                last_number = int(last_number/current_number)\n",
    "            \n",
    "            sign = current_char\n",
    "            current_number = 0\n",
    "    result += last_number\n",
    "    return result"
   ]
  },
  {
   "cell_type": "code",
   "execution_count": 52,
   "id": "a55a3d93",
   "metadata": {},
   "outputs": [
    {
     "data": {
      "text/plain": [
       "7"
      ]
     },
     "execution_count": 52,
     "metadata": {},
     "output_type": "execute_result"
    }
   ],
   "source": [
    "s = \"3+2*2\"\n",
    "calculator(s)"
   ]
  },
  {
   "cell_type": "code",
   "execution_count": 53,
   "id": "e416ff19",
   "metadata": {},
   "outputs": [
    {
     "data": {
      "text/plain": [
       "7"
      ]
     },
     "execution_count": 53,
     "metadata": {},
     "output_type": "execute_result"
    }
   ],
   "source": [
    "s = \"22-3*5\"\n",
    "calculator(s)"
   ]
  },
  {
   "cell_type": "markdown",
   "id": "eea59dd3",
   "metadata": {},
   "source": [
    "## 12. Simplify path"
   ]
  },
  {
   "cell_type": "code",
   "execution_count": 56,
   "id": "c615e20b",
   "metadata": {},
   "outputs": [],
   "source": [
    "# time --> O(n)\n",
    "# space --> O(n)\n",
    "def simplifyPath(path):\n",
    "    stack = []\n",
    "    \n",
    "    for portion in path.split(\"/\"):\n",
    "        if portion == \"..\":\n",
    "            if stack:\n",
    "                stack.pop()\n",
    "        elif portion == \".\" or not portion:\n",
    "            continue\n",
    "        else:\n",
    "            stack.append(portion)\n",
    "    \n",
    "    return \"/\" + \"/\".join(stack)"
   ]
  },
  {
   "cell_type": "code",
   "execution_count": 57,
   "id": "f8397d62",
   "metadata": {},
   "outputs": [
    {
     "data": {
      "text/plain": [
       "'/home/foo'"
      ]
     },
     "execution_count": 57,
     "metadata": {},
     "output_type": "execute_result"
    }
   ],
   "source": [
    "path = \"/home//foo/\"\n",
    "\n",
    "simplifyPath(path)"
   ]
  },
  {
   "cell_type": "markdown",
   "id": "6e6b233d",
   "metadata": {},
   "source": [
    "## 14. Shortest Path Binary matrix"
   ]
  },
  {
   "cell_type": "code",
   "execution_count": 64,
   "id": "eba5918f",
   "metadata": {},
   "outputs": [],
   "source": [
    "directions = [[-1, 0], [-1, 1], [0, 1], [1, 1], [1, 0], [1, -1], [0, -1], [-1, -1]]\n",
    "\n",
    "# time --> O(N)\n",
    "# space --> O(N) where N is the number of cells in the grid.\n",
    "def shortestPathBinaryMatrix(grid):\n",
    "    if len(grid) == 0 or grid[0][0] != 0 or grid[-1][-1] != 0:\n",
    "        return -1\n",
    "    \n",
    "    queue = [[0, 0, 1]]\n",
    "    grid[0][0] = 1\n",
    "    \n",
    "    while queue:\n",
    "        curr_row, curr_col, path_length = queue.pop(0)\n",
    "        \n",
    "        if curr_row == len(grid) - 1 and curr_col == len(grid[0]) - 1:\n",
    "            return path_length\n",
    "        \n",
    "        for i in range(len(directions)):\n",
    "            direction = directions[i]\n",
    "            next_row = curr_row + direction[0]\n",
    "            next_col = curr_col + direction[1]\n",
    "            \n",
    "            if next_row < 0 or next_col < 0 or next_row >= len(grid) or next_col >= len(grid[0]) or grid[next_row][next_col] == 1:\n",
    "                continue\n",
    "            \n",
    "            if grid[next_row][next_col] == 0:\n",
    "                queue.append([next_row, next_col, path_length + 1])\n",
    "                grid[next_row][next_col] = 1\n",
    "    \n",
    "    return -1"
   ]
  },
  {
   "cell_type": "code",
   "execution_count": 65,
   "id": "3b1557ea",
   "metadata": {},
   "outputs": [
    {
     "data": {
      "text/plain": [
       "4"
      ]
     },
     "execution_count": 65,
     "metadata": {},
     "output_type": "execute_result"
    }
   ],
   "source": [
    "grid = [[0,0,0],[1,1,0],[1,1,0]]\n",
    "\n",
    "shortestPathBinaryMatrix(grid)"
   ]
  },
  {
   "cell_type": "code",
   "execution_count": 66,
   "id": "79635216",
   "metadata": {},
   "outputs": [
    {
     "data": {
      "text/plain": [
       "2"
      ]
     },
     "execution_count": 66,
     "metadata": {},
     "output_type": "execute_result"
    }
   ],
   "source": [
    "grid = [[0,1],[1,0]]\n",
    "shortestPathBinaryMatrix(grid)"
   ]
  },
  {
   "cell_type": "code",
   "execution_count": 67,
   "id": "6adeadb6",
   "metadata": {},
   "outputs": [
    {
     "data": {
      "text/plain": [
       "-1"
      ]
     },
     "execution_count": 67,
     "metadata": {},
     "output_type": "execute_result"
    }
   ],
   "source": [
    "grid = [[1,1],[1,0]]\n",
    "shortestPathBinaryMatrix(grid)"
   ]
  },
  {
   "cell_type": "markdown",
   "id": "0bc82bcb",
   "metadata": {},
   "source": [
    "## 15. Nested List Weighted sum"
   ]
  },
  {
   "cell_type": "code",
   "execution_count": 68,
   "id": "6ef7a66c",
   "metadata": {},
   "outputs": [],
   "source": [
    "# t --> O(n)\n",
    "# s --> O(n)\n",
    "def depthSum(nestedList):\n",
    "    queue = nestedList\n",
    "    total = 0\n",
    "    depth = 1\n",
    "    \n",
    "    while queue:\n",
    "        for i in range(len(queue)):\n",
    "            nested = queue.pop(0)\n",
    "            if nested.isInteger():\n",
    "                total += nested.getInteger() * depth\n",
    "            else:\n",
    "                queue.extend(nested.getList())\n",
    "        depth += 1\n",
    "    return total"
   ]
  },
  {
   "cell_type": "markdown",
   "id": "d100de48",
   "metadata": {},
   "source": [
    "## 16. Dot products of sparse vectors"
   ]
  },
  {
   "cell_type": "code",
   "execution_count": 69,
   "id": "c4d3545c",
   "metadata": {},
   "outputs": [],
   "source": [
    "# t --> O(n)\n",
    "# s --> O(1)\n",
    "class SparseVector:\n",
    "    def __init__(self, nums):\n",
    "        self.array = nums\n",
    "    \n",
    "    def dotProduct(self, vec):\n",
    "        result = 0\n",
    "        for v1, v2 in zip(self.array, vec.array):\n",
    "            result += v1 * v2\n",
    "        return result"
   ]
  },
  {
   "cell_type": "code",
   "execution_count": 72,
   "id": "662d6ca1",
   "metadata": {},
   "outputs": [
    {
     "data": {
      "text/plain": [
       "8"
      ]
     },
     "execution_count": 72,
     "metadata": {},
     "output_type": "execute_result"
    }
   ],
   "source": [
    "nums1 = [1,0,0,2,3]\n",
    "nums2 = [0,3,0,4,0]\n",
    "\n",
    "v1 = SparseVector(nums1)\n",
    "v2 = SparseVector(nums2)\n",
    "v1.dotProduct(v2)"
   ]
  },
  {
   "cell_type": "code",
   "execution_count": 73,
   "id": "4794aef9",
   "metadata": {},
   "outputs": [],
   "source": [
    "# Let n be the length of the input array and L and L2 be the number of non-zero elements for the two vectors.\n",
    "class SparseVector:\n",
    "    # time --> O(n)\n",
    "    # space --> O(L)\n",
    "    def __init__(self, nums):\n",
    "        self.pairs = []\n",
    "        \n",
    "        for idx, val in enumerate(nums):\n",
    "            if val != 0:\n",
    "                self.pairs.append([idx, val])\n",
    "    # time --> O(L + L2)\n",
    "    # space --> O(1)\n",
    "    def dotProduct(self, vec):\n",
    "        result = 0\n",
    "        first = 0\n",
    "        second = 0\n",
    "        \n",
    "        while first < len(self.pairs) and second < len(vec.pairs):\n",
    "            if self.pairs[first][0] == vec.pairs[second][0]:\n",
    "                result += self.pairs[first][1] * vec.pairs[second][1]\n",
    "                first += 1\n",
    "                second += 1\n",
    "            elif self.pairs[first][0] < vec.pairs[second][0]:\n",
    "                first += 1\n",
    "            else:\n",
    "                second += 1\n",
    "        return result"
   ]
  },
  {
   "cell_type": "code",
   "execution_count": 74,
   "id": "a67557cc",
   "metadata": {},
   "outputs": [
    {
     "data": {
      "text/plain": [
       "8"
      ]
     },
     "execution_count": 74,
     "metadata": {},
     "output_type": "execute_result"
    }
   ],
   "source": [
    "nums1 = [1,0,0,2,3]\n",
    "nums2 = [0,3,0,4,0]\n",
    "\n",
    "v1 = SparseVector(nums1)\n",
    "v2 = SparseVector(nums2)\n",
    "v1.dotProduct(v2)"
   ]
  },
  {
   "cell_type": "markdown",
   "id": "db3ca36b",
   "metadata": {},
   "source": [
    "## 17. Minimum add to make parenthesis valid"
   ]
  },
  {
   "cell_type": "code",
   "execution_count": 75,
   "id": "20650184",
   "metadata": {},
   "outputs": [],
   "source": [
    "# time --> O(n)\n",
    "# space --> O(1)\n",
    "def minAddToMakeValid(s):\n",
    "    open_brackets = 0\n",
    "    min_add_required = 0\n",
    "    \n",
    "    for c in s:\n",
    "        if c == '(':\n",
    "            open_brackets += 1\n",
    "        else:\n",
    "            if open_brackets > 0:\n",
    "                open_brackets -= 1\n",
    "            else:\n",
    "                min_add_required += 1\n",
    "    return min_add_required + open_brackets"
   ]
  },
  {
   "cell_type": "code",
   "execution_count": 76,
   "id": "abf7c2a2",
   "metadata": {},
   "outputs": [
    {
     "data": {
      "text/plain": [
       "3"
      ]
     },
     "execution_count": 76,
     "metadata": {},
     "output_type": "execute_result"
    }
   ],
   "source": [
    "s = \"(((\"\n",
    "minAddToMakeValid(s)"
   ]
  },
  {
   "cell_type": "markdown",
   "id": "f463ba94",
   "metadata": {},
   "source": [
    "## 18. Pow (x, n)"
   ]
  },
  {
   "cell_type": "code",
   "execution_count": 78,
   "id": "81e1f72d",
   "metadata": {},
   "outputs": [],
   "source": [
    "# Time --> O(logN) (at each recursive call, we reduce n by half)\n",
    "# space --> O(logN)\n",
    "\n",
    "def myPow(x, n):\n",
    "    if n == 0:\n",
    "        return 1\n",
    "    \n",
    "    if n < 0:\n",
    "        return 1/myPow(x, -n)\n",
    "    \n",
    "    half = myPow(x, n // 2)\n",
    "    \n",
    "    if n % 2 == 0:\n",
    "        return half * half\n",
    "    else:\n",
    "        return x * half * half"
   ]
  },
  {
   "cell_type": "code",
   "execution_count": 79,
   "id": "fa2f4693",
   "metadata": {},
   "outputs": [
    {
     "data": {
      "text/plain": [
       "1024.0"
      ]
     },
     "execution_count": 79,
     "metadata": {},
     "output_type": "execute_result"
    }
   ],
   "source": [
    "x = 2.0000\n",
    "n = 10\n",
    "myPow(x, n)"
   ]
  },
  {
   "cell_type": "markdown",
   "id": "b2482342",
   "metadata": {},
   "source": [
    "## 19. Valid Palindrome"
   ]
  },
  {
   "cell_type": "code",
   "execution_count": 82,
   "id": "35e7bdf4",
   "metadata": {},
   "outputs": [],
   "source": [
    "# time --> O(n)\n",
    "# space --> O(1)\n",
    "def isPalindrome(s):\n",
    "    if len(s) <= 1:\n",
    "        return True\n",
    "    \n",
    "    left = 0\n",
    "    right = len(s) - 1\n",
    "    \n",
    "    while left < right:\n",
    "        while left < right and not s[left].isalnum():\n",
    "            left += 1\n",
    "        while left < right and not s[right].isalnum():\n",
    "            right -= 1\n",
    "        \n",
    "        if s[left].lower() != s[right].lower():\n",
    "            return False\n",
    "        left += 1\n",
    "        right -=1 \n",
    "    return True"
   ]
  },
  {
   "cell_type": "code",
   "execution_count": 83,
   "id": "4b950a38",
   "metadata": {},
   "outputs": [
    {
     "data": {
      "text/plain": [
       "True"
      ]
     },
     "execution_count": 83,
     "metadata": {},
     "output_type": "execute_result"
    }
   ],
   "source": [
    "s = \"A man, a plan, a canal: Panama\"\n",
    "isPalindrome(s)"
   ]
  },
  {
   "cell_type": "markdown",
   "id": "3e4a7519",
   "metadata": {},
   "source": [
    "## 20. Top K Frequent elements"
   ]
  },
  {
   "cell_type": "code",
   "execution_count": 86,
   "id": "6a93f75c",
   "metadata": {},
   "outputs": [],
   "source": [
    "# brute force with heap\n",
    "\n",
    "from collections import Counter\n",
    "import heapq\n",
    "\n",
    "def topKFrequent(nums, k):\n",
    "    if k == len(nums):\n",
    "        return nums\n",
    "    \n",
    "    counts = Counter(nums)\n",
    "    \n",
    "    return heapq.nlargest(k, counts.keys(), key=counts.get)"
   ]
  },
  {
   "cell_type": "code",
   "execution_count": 87,
   "id": "17955c10",
   "metadata": {},
   "outputs": [
    {
     "data": {
      "text/plain": [
       "[1, 2]"
      ]
     },
     "execution_count": 87,
     "metadata": {},
     "output_type": "execute_result"
    }
   ],
   "source": [
    "nums = [1,1,1,2,2,3]\n",
    "k = 2    \n",
    "\n",
    "topKFrequent(nums, k)"
   ]
  },
  {
   "cell_type": "code",
   "execution_count": 96,
   "id": "ae581967",
   "metadata": {},
   "outputs": [],
   "source": [
    "# time --> O(n)\n",
    "# space --> O(n)\n",
    "def topKFrequent(nums, k):\n",
    "    if k == len(nums):\n",
    "        return nums\n",
    "    \n",
    "    freq_map = Counter(nums)\n",
    "    freq_list = list(freq_map.items())\n",
    "    \n",
    "    n = len(freq_list)\n",
    "    left = 0\n",
    "    right = n - 1\n",
    "    k_largest_position = n - k\n",
    "    \n",
    "    print(f'Before: {freq_list}')\n",
    "    quickSelect(freq_list, left, right, k_largest_position)\n",
    "    print(f'After: {freq_list}')\n",
    "    return [freq_list[i][0] for i in range(n - k, n)]\n",
    "\n",
    "def quickSelect(freq_list, left, right, k_largest_position):\n",
    "    if left == right:\n",
    "        return\n",
    "    \n",
    "    if left < right:\n",
    "        partition_index = partition(freq_list, left, right)\n",
    "        \n",
    "        if partition_index == k_largest_position:\n",
    "            return\n",
    "        elif partition_index < k_largest_position:\n",
    "            return quickSelect(freq_list, partition_index + 1, right, k_largest_position)\n",
    "        else:\n",
    "            return quickSelect(freq_list, left, partition_index - 1, k_largest_position)\n",
    "        \n",
    "def partition(freq_list, left, right):\n",
    "    partition_index = left\n",
    "    pivot_element = freq_list[right][1]\n",
    "    \n",
    "    for j in range(left, right):\n",
    "        if freq_list[j][1] <= pivot_element:\n",
    "            freq_list[j], freq_list[partition_index] = freq_list[partition_index], freq_list[j]\n",
    "            partition_index += 1\n",
    "    freq_list[right], freq_list[partition_index] = freq_list[partition_index], freq_list[right]\n",
    "    return partition_index"
   ]
  },
  {
   "cell_type": "code",
   "execution_count": 97,
   "id": "ce40784b",
   "metadata": {},
   "outputs": [
    {
     "name": "stdout",
     "output_type": "stream",
     "text": [
      "Before: [(1, 3), (2, 2), (3, 4)]\n",
      "After: [(2, 2), (1, 3), (3, 4)]\n",
      "[1, 3]\n"
     ]
    }
   ],
   "source": [
    "# Example usage\n",
    "nums = [1, 1, 1, 2, 2, 3, 3, 3, 3]\n",
    "k = 2\n",
    "print(topKFrequent(nums, k))  # Output: [1, 2]\n"
   ]
  },
  {
   "cell_type": "markdown",
   "id": "ba0a967d",
   "metadata": {},
   "source": [
    "## 21. Diameter of binary tree"
   ]
  },
  {
   "cell_type": "code",
   "execution_count": 98,
   "id": "f7a709d0",
   "metadata": {},
   "outputs": [],
   "source": [
    "# time --> O(n)\n",
    "# space --> O(n)\n",
    "\n",
    "def diameterOfBinaryTree(root):\n",
    "    diameter = 0\n",
    "    \n",
    "    def longest_path(node):\n",
    "        if not node:\n",
    "            return 0\n",
    "        nonlocal diameter\n",
    "        left_path = longest_path(node.left)\n",
    "        right_path = longest_path(node.right)\n",
    "        diameter = max(diameter, left_path + right_path)\n",
    "        return max(left_path, right_path) + 1\n",
    "    \n",
    "    longest_path(root)\n",
    "    return diameter"
   ]
  },
  {
   "cell_type": "code",
   "execution_count": 99,
   "id": "a0845984",
   "metadata": {},
   "outputs": [
    {
     "data": {
      "text/plain": [
       "4"
      ]
     },
     "execution_count": 99,
     "metadata": {},
     "output_type": "execute_result"
    }
   ],
   "source": [
    "diameterOfBinaryTree(root)"
   ]
  },
  {
   "cell_type": "markdown",
   "id": "4884edd6",
   "metadata": {},
   "source": [
    "## 22. Building with ocean view"
   ]
  },
  {
   "cell_type": "code",
   "execution_count": 106,
   "id": "5daa687a",
   "metadata": {},
   "outputs": [],
   "source": [
    "# time --> O(n)\n",
    "# space --> O(1)\n",
    "\n",
    "def findBuildings(heights):\n",
    "    answer = []\n",
    "    max_height = -1\n",
    "    \n",
    "    for current in reversed(range(len(heights))):\n",
    "        if max_height < heights[current]:\n",
    "            answer.append(current)\n",
    "            max_height = heights[current]\n",
    "    answer.reverse()\n",
    "    return answer"
   ]
  },
  {
   "cell_type": "code",
   "execution_count": 107,
   "id": "e1cc7cad",
   "metadata": {},
   "outputs": [
    {
     "data": {
      "text/plain": [
       "[0, 2, 3]"
      ]
     },
     "execution_count": 107,
     "metadata": {},
     "output_type": "execute_result"
    }
   ],
   "source": [
    "heights = [4,2,3,1]\n",
    "findBuildings(heights)"
   ]
  },
  {
   "cell_type": "markdown",
   "id": "3b69efe6",
   "metadata": {},
   "source": [
    "## 23. LRU Cache"
   ]
  },
  {
   "cell_type": "code",
   "execution_count": 111,
   "id": "05925591",
   "metadata": {},
   "outputs": [],
   "source": [
    "class LRUCache:\n",
    "    def __init__(self, capacity):\n",
    "        self.odict = {}\n",
    "        self.capacity = capacity\n",
    "    \n",
    "    def get(self, key):\n",
    "        if key not in self.odict:\n",
    "            return -1\n",
    "        \n",
    "        self.odict[key] = self.odict.pop(key)\n",
    "        return self.odict[key]\n",
    "    \n",
    "    def put(self, key, val):\n",
    "        self.odict.pop(key, None)\n",
    "        self.odict[key] = val\n",
    "        \n",
    "        if len(self.odict) > self.capacity:\n",
    "            self.odict.pop(next(iter(self.odict)))"
   ]
  },
  {
   "cell_type": "code",
   "execution_count": 112,
   "id": "612f4518",
   "metadata": {},
   "outputs": [
    {
     "name": "stdout",
     "output_type": "stream",
     "text": [
      "1\n",
      "-1\n",
      "-1\n",
      "3\n",
      "4\n"
     ]
    }
   ],
   "source": [
    "# Your LRUCache object will be instantiated and called as such:\n",
    "capacity = 2\n",
    "lRUCache = LRUCache(capacity)\n",
    "lRUCache.put(1, 1)\n",
    "lRUCache.put(2, 2)\n",
    "print(lRUCache.get(1))\n",
    "\n",
    "lRUCache.put(3, 3)\n",
    "print(lRUCache.get(2))\n",
    "\n",
    "lRUCache.put(4, 4)\n",
    "print(lRUCache.get(1))\n",
    "\n",
    "print(lRUCache.get(3))\n",
    "print(lRUCache.get(4))"
   ]
  },
  {
   "cell_type": "markdown",
   "id": "e6902124",
   "metadata": {},
   "source": [
    "## 24. Find Peak element"
   ]
  },
  {
   "cell_type": "code",
   "execution_count": 113,
   "id": "fe190ece",
   "metadata": {},
   "outputs": [],
   "source": [
    "# time --> O(logn)\n",
    "# space --> O(1)\n",
    "def findPeakElement(nums):\n",
    "    left = 0\n",
    "    right = len(nums) - 1\n",
    "    \n",
    "    while left < right:\n",
    "        mid = (left + right) // 2\n",
    "        \n",
    "        if nums[mid] > nums[mid + 1]:\n",
    "            right = mid\n",
    "        else:\n",
    "            left = mid + 1\n",
    "    return left"
   ]
  },
  {
   "cell_type": "code",
   "execution_count": 114,
   "id": "b7f20c66",
   "metadata": {},
   "outputs": [
    {
     "data": {
      "text/plain": [
       "5"
      ]
     },
     "execution_count": 114,
     "metadata": {},
     "output_type": "execute_result"
    }
   ],
   "source": [
    "nums = [1,2,1,3,5,6,4]\n",
    "findPeakElement(nums)"
   ]
  },
  {
   "cell_type": "markdown",
   "id": "0dde6b8b",
   "metadata": {},
   "source": [
    "## 25. Range Sum of BST"
   ]
  },
  {
   "cell_type": "code",
   "execution_count": 121,
   "id": "62c69bd1",
   "metadata": {},
   "outputs": [],
   "source": [
    "# time --> O(n)\n",
    "# space --> O(n)\n",
    "def rangeSumBST(root, low, high):\n",
    "    if not root:\n",
    "        return 0\n",
    "    \n",
    "    result = 0\n",
    "    \n",
    "    queue = [root]\n",
    "    \n",
    "    while queue:\n",
    "        curr_node = queue.pop(0)\n",
    "        if curr_node:\n",
    "            if low <= curr_node.val <= high:\n",
    "                result += curr_node.val\n",
    "            if curr_node.left:\n",
    "                queue.append(curr_node.left)\n",
    "            if curr_node.right:\n",
    "                queue.append(curr_node.right)\n",
    "    return result"
   ]
  },
  {
   "cell_type": "code",
   "execution_count": 122,
   "id": "c9c0bdb3",
   "metadata": {},
   "outputs": [
    {
     "data": {
      "text/plain": [
       "35"
      ]
     },
     "execution_count": 122,
     "metadata": {},
     "output_type": "execute_result"
    }
   ],
   "source": [
    "#       9\n",
    "#    4     20\n",
    "#  1  6  15   170\n",
    "\n",
    "rangeSumBST(root, 10, 30)"
   ]
  },
  {
   "cell_type": "markdown",
   "id": "60407207",
   "metadata": {},
   "source": [
    "## 26. Interval List Intersections"
   ]
  },
  {
   "cell_type": "code",
   "execution_count": 125,
   "id": "4c58d5ec",
   "metadata": {},
   "outputs": [],
   "source": [
    "# Time --> O(M + N)\n",
    "# Space --> O(M + N)\n",
    "def intervalIntersection(firstList, secondList):\n",
    "    first = 0\n",
    "    second = 0\n",
    "    answer = []\n",
    "    \n",
    "    while first < len(firstList) and second < len(secondList):\n",
    "        low = max(firstList[first][0], secondList[second][0])\n",
    "        hi = min(firstList[first][1], secondList[second][1])\n",
    "        \n",
    "        if low <= hi:\n",
    "            answer.append([low, hi])\n",
    "            \n",
    "        if firstList[first][1] < secondList[second][1]:\n",
    "            first += 1\n",
    "        else:\n",
    "            second += 1\n",
    "        \n",
    "    return answer"
   ]
  },
  {
   "cell_type": "code",
   "execution_count": 126,
   "id": "4edb41fa",
   "metadata": {},
   "outputs": [
    {
     "data": {
      "text/plain": [
       "[[1, 2], [5, 5], [8, 10], [15, 23], [24, 24], [25, 25]]"
      ]
     },
     "execution_count": 126,
     "metadata": {},
     "output_type": "execute_result"
    }
   ],
   "source": [
    "firstList = [[0,2],[5,10],[13,23],[24,25]]\n",
    "secondList = [[1,5],[8,12],[15,24],[25,26]]\n",
    "\n",
    "intervalIntersection(firstList, secondList)"
   ]
  },
  {
   "cell_type": "markdown",
   "id": "7f2929de",
   "metadata": {},
   "source": [
    "## 27. Find first and last position of element in a sorted array "
   ]
  },
  {
   "cell_type": "code",
   "execution_count": 137,
   "id": "75cc1c5f",
   "metadata": {},
   "outputs": [],
   "source": [
    "# time --> O(logN)\n",
    "# space --> O(1) \n",
    "def searchRange(nums, target):\n",
    "    if len(nums) == 0:\n",
    "        return [-1, -1]\n",
    "    \n",
    "    firstPosition = binarySearch(nums, 0, len(nums) - 1, target)\n",
    "    if firstPosition == -1:\n",
    "        return [-1, -1]\n",
    "    \n",
    "    startPosition = firstPosition\n",
    "    endPosition = firstPosition\n",
    "    tempL = 0\n",
    "    tempR = 0\n",
    "    \n",
    "    while startPosition != -1:\n",
    "        tempL = startPosition\n",
    "        startPosition = binarySearch(nums, 0, startPosition - 1, target)\n",
    "    startPosition = tempL\n",
    "    \n",
    "    while endPosition != -1:\n",
    "        tempR = endPosition\n",
    "        endPosition = binarySearch(nums, endPosition + 1, len(nums) - 1, target)\n",
    "    endPosition = tempR\n",
    "    \n",
    "    return [startPosition, endPosition]\n",
    "\n",
    "def binarySearch(nums, left, right, target):\n",
    "    while left <= right:\n",
    "        mid = (left + right) // 2\n",
    "        if nums[mid] == target:\n",
    "            return mid\n",
    "        elif nums[mid] < target:\n",
    "            left = mid + 1\n",
    "        else:\n",
    "            right = mid - 1\n",
    "    return -1"
   ]
  },
  {
   "cell_type": "code",
   "execution_count": 138,
   "id": "d77e2ba2",
   "metadata": {},
   "outputs": [
    {
     "data": {
      "text/plain": [
       "[3, 4]"
      ]
     },
     "execution_count": 138,
     "metadata": {},
     "output_type": "execute_result"
    }
   ],
   "source": [
    "nums = [5,7,7,8,8,10]\n",
    "target = 8\n",
    "\n",
    "searchRange(nums, target)"
   ]
  },
  {
   "cell_type": "markdown",
   "id": "548afdc5",
   "metadata": {},
   "source": [
    "## 28. Merge Intervals"
   ]
  },
  {
   "cell_type": "code",
   "execution_count": 139,
   "id": "526524f3",
   "metadata": {},
   "outputs": [],
   "source": [
    "# time --> O(nlogn)\n",
    "# space -> O(logn)\n",
    "def merge(intervals):\n",
    "    if not intervals:\n",
    "        return []\n",
    "    \n",
    "    intervals.sort(key=lambda x:x[0])\n",
    "    \n",
    "    answer = [intervals[0]]\n",
    "    \n",
    "    for current in intervals[1:]:\n",
    "        last = answer[-1]\n",
    "        \n",
    "        if current[0] <= last[1]:\n",
    "            last[1] = max(last[1], current[1])\n",
    "        else:\n",
    "            answer.append(current)\n",
    "    return answer"
   ]
  },
  {
   "cell_type": "code",
   "execution_count": 140,
   "id": "4bf89fa2",
   "metadata": {},
   "outputs": [
    {
     "data": {
      "text/plain": [
       "[[1, 6], [8, 10], [15, 18]]"
      ]
     },
     "execution_count": 140,
     "metadata": {},
     "output_type": "execute_result"
    }
   ],
   "source": [
    "intervals = [[1,3],[2,6],[8,10],[15,18]]\n",
    "merge(intervals)"
   ]
  },
  {
   "cell_type": "markdown",
   "id": "64773f17",
   "metadata": {},
   "source": [
    "## 29. Sum root to leaf numbers\n",
    "\n"
   ]
  },
  {
   "cell_type": "code",
   "execution_count": 141,
   "id": "c3fbfc28",
   "metadata": {},
   "outputs": [],
   "source": [
    "def run():\n",
    "    root = Node(5)\n",
    "    root.insert_nodes([3, 7, 2, 4, 6, 8], root)\n",
    "    bfs_result = root.bfs(root=root)\n",
    "    dfs_inorder = root.DFSInorder(root)\n",
    "    dfs_preorder = root.DFSPreOrder(root)\n",
    "    dfs_postorder = root.DFSPostOrder(root)\n",
    "    return root, bfs_result, dfs_inorder, dfs_preorder, dfs_postorder\n",
    "\n",
    "root_2, bfs_result, dfs_inorder, dfs_preorder, dfs_postorder = run()"
   ]
  },
  {
   "cell_type": "code",
   "execution_count": 143,
   "id": "d0ef7f79",
   "metadata": {},
   "outputs": [],
   "source": [
    "#       5\n",
    "#    3     7\n",
    "#  2  4  6   8\n",
    "\n",
    "# time --> O(N)\n",
    "# space --> O(H)\n",
    "def sumNumbers(root):\n",
    "    if not root:\n",
    "        return 0\n",
    "    \n",
    "    answer = 0\n",
    "    \n",
    "    queue = [[root, root.val]]\n",
    "    \n",
    "    while queue:\n",
    "        currNode, pathSum = queue.pop(0)\n",
    "        \n",
    "        if not currNode.left and not currNode.right:\n",
    "            answer += pathSum\n",
    "            \n",
    "        if currNode.left:\n",
    "            queue.append([currNode.left, pathSum * 10 + currNode.left.val])\n",
    "            \n",
    "        if currNode.right:\n",
    "            queue.append([currNode.right, pathSum * 10 + currNode.right.val])\n",
    "    return answer"
   ]
  },
  {
   "cell_type": "code",
   "execution_count": 144,
   "id": "f29b6ca3",
   "metadata": {},
   "outputs": [
    {
     "data": {
      "text/plain": [
       "2220"
      ]
     },
     "execution_count": 144,
     "metadata": {},
     "output_type": "execute_result"
    }
   ],
   "source": [
    "sumNumbers(root_2)"
   ]
  },
  {
   "cell_type": "code",
   "execution_count": 145,
   "id": "4ae76e40",
   "metadata": {},
   "outputs": [
    {
     "name": "stdout",
     "output_type": "stream",
     "text": [
      "List 1:\n",
      "1 -> 4 -> 5 -> None\n",
      "\n",
      "List 2:\n",
      "1 -> 3 -> 4 -> None\n",
      "\n",
      "List 3:\n",
      "2 -> 6 -> None\n"
     ]
    }
   ],
   "source": [
    "from functools import reduce\n",
    "\n",
    "# Template to create node list\n",
    "class ListNode:\n",
    "    def __init__(self, val, next=None):\n",
    "        self.val = val\n",
    "        self.next = next\n",
    "\n",
    "# Function to print the linked list\n",
    "def printList(head):\n",
    "    if not head:\n",
    "        return\n",
    "    while head:\n",
    "        print(head.val, end=\" -> \")\n",
    "        head = head.next\n",
    "    print(\"None\")\n",
    "\n",
    "# Function to create a linked list from a list of values\n",
    "def createLinkedList(values):\n",
    "    return reduce(lambda acc, val: ListNode(val, acc), reversed(values), None)\n",
    "\n",
    "# Create multiple linked lists\n",
    "list1 = createLinkedList([1, 4, 5])\n",
    "list2 = createLinkedList([1, 3, 4])\n",
    "list3 = createLinkedList([2, 6])\n",
    "\n",
    "# Print the linked lists\n",
    "print(\"List 1:\")\n",
    "printList(list1)\n",
    "\n",
    "print(\"\\nList 2:\")\n",
    "printList(list2)\n",
    "\n",
    "print(\"\\nList 3:\")\n",
    "printList(list3)"
   ]
  },
  {
   "cell_type": "markdown",
   "id": "31c3c766",
   "metadata": {},
   "source": [
    "## 30. Merge K sorted List"
   ]
  },
  {
   "cell_type": "code",
   "execution_count": 146,
   "id": "cbcf636d",
   "metadata": {},
   "outputs": [],
   "source": [
    "def mergeKLists(lists):\n",
    "    nodes = []\n",
    "    head = point = ListNode(0)\n",
    "    \n",
    "    for l in lists:\n",
    "        while l:\n",
    "            nodes.append(l.val)\n",
    "            l = l.next\n",
    "    \n",
    "    for x in sorted(nodes):\n",
    "        point.next = ListNode(x)\n",
    "        point = point.next\n",
    "    return head.next"
   ]
  },
  {
   "cell_type": "code",
   "execution_count": 147,
   "id": "f899a57d",
   "metadata": {},
   "outputs": [
    {
     "name": "stdout",
     "output_type": "stream",
     "text": [
      "\n",
      "Merged List:\n",
      "1 -> 1 -> 2 -> 3 -> 4 -> 4 -> 5 -> 6 -> None\n"
     ]
    }
   ],
   "source": [
    "mergedList = mergeKLists([list1, list2, list3])\n",
    "print(\"\\nMerged List:\")\n",
    "printList(mergedList)"
   ]
  },
  {
   "cell_type": "markdown",
   "id": "f2b9a878",
   "metadata": {},
   "source": []
  }
 ],
 "metadata": {
  "kernelspec": {
   "display_name": "Python 3 (ipykernel)",
   "language": "python",
   "name": "python3"
  },
  "language_info": {
   "codemirror_mode": {
    "name": "ipython",
    "version": 3
   },
   "file_extension": ".py",
   "mimetype": "text/x-python",
   "name": "python",
   "nbconvert_exporter": "python",
   "pygments_lexer": "ipython3",
   "version": "3.11.4"
  }
 },
 "nbformat": 4,
 "nbformat_minor": 5
}
