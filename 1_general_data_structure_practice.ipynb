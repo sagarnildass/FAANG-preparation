{
 "cells": [
  {
   "cell_type": "code",
   "execution_count": 1,
   "id": "623c005f",
   "metadata": {},
   "outputs": [],
   "source": [
    "# 1. Given a sorted array, return the index of a given value, or -1 if the element cannot be found.\n",
    "import numpy as np\n",
    "\n",
    "arr = [2, 3, 5, 7, 9]\n",
    "\n",
    "def arr_index(arr, value):\n",
    "    try:\n",
    "        return arr.index(value)\n",
    "    except:\n",
    "        return -1"
   ]
  },
  {
   "cell_type": "code",
   "execution_count": 2,
   "id": "e6a7bb92",
   "metadata": {},
   "outputs": [
    {
     "data": {
      "text/plain": [
       "2"
      ]
     },
     "execution_count": 2,
     "metadata": {},
     "output_type": "execute_result"
    }
   ],
   "source": [
    "arr_index(arr, 5)"
   ]
  },
  {
   "cell_type": "code",
   "execution_count": 3,
   "id": "7ae98ebc",
   "metadata": {},
   "outputs": [],
   "source": [
    "# 2. What is the time complexity required to find if an array of sorted integers contains a given integer?\n",
    "\n",
    "# O(log n) "
   ]
  },
  {
   "cell_type": "code",
   "execution_count": 20,
   "id": "3e0c5314",
   "metadata": {},
   "outputs": [],
   "source": [
    "# 3. Given an array with all integers between 1 and 100 except for one, find the missing number.\n",
    "import random\n",
    "# arr missing 32\n",
    "arr = [i for i in range(1, 101) if i != 32]\n",
    "\n",
    "random.shuffle(arr)\n"
   ]
  },
  {
   "cell_type": "code",
   "execution_count": 21,
   "id": "abb911cd",
   "metadata": {},
   "outputs": [
    {
     "data": {
      "text/plain": [
       "99"
      ]
     },
     "execution_count": 21,
     "metadata": {},
     "output_type": "execute_result"
    }
   ],
   "source": [
    "len(arr)"
   ]
  },
  {
   "cell_type": "code",
   "execution_count": 16,
   "id": "94ea0fa6",
   "metadata": {},
   "outputs": [
    {
     "name": "stdout",
     "output_type": "stream",
     "text": [
      "32\n"
     ]
    }
   ],
   "source": [
    "# bad solution\n",
    "for i in range(1,101):\n",
    "    if i not in arr:\n",
    "        print(i)"
   ]
  },
  {
   "cell_type": "code",
   "execution_count": 22,
   "id": "329fe58b",
   "metadata": {},
   "outputs": [
    {
     "data": {
      "text/plain": [
       "5018"
      ]
     },
     "execution_count": 22,
     "metadata": {},
     "output_type": "execute_result"
    }
   ],
   "source": [
    "sum(arr)"
   ]
  },
  {
   "cell_type": "code",
   "execution_count": 23,
   "id": "a0128cca",
   "metadata": {},
   "outputs": [],
   "source": [
    "# good solution\n",
    "\n",
    "def missing_no_finder(arr, N):\n",
    "    sum_of_natural_numbers = N*(N+1)/2\n",
    "    sum_of_numbers_in_array = sum(arr)\n",
    "    missing_no = sum_of_natural_numbers - sum_of_numbers_in_array\n",
    "    return missing_no\n"
   ]
  },
  {
   "cell_type": "code",
   "execution_count": 26,
   "id": "bb8c716b",
   "metadata": {},
   "outputs": [
    {
     "data": {
      "text/plain": [
       "32.0"
      ]
     },
     "execution_count": 26,
     "metadata": {},
     "output_type": "execute_result"
    }
   ],
   "source": [
    "missing_no_finder(arr, len(arr) + 1)"
   ]
  },
  {
   "cell_type": "code",
   "execution_count": 27,
   "id": "4b89ed5a",
   "metadata": {},
   "outputs": [
    {
     "data": {
      "text/plain": [
       "array([[1, 2, 3],\n",
       "       [4, 5, 6],\n",
       "       [7, 8, 9]])"
      ]
     },
     "execution_count": 27,
     "metadata": {},
     "output_type": "execute_result"
    }
   ],
   "source": [
    "# Given a 2D array of integers, rotate clockwise without using additional memory.\n",
    "\n",
    "# shortcut method\n",
    "arr = np.array([[1,2,3],\n",
    "               [4,5,6],\n",
    "               [7,8,9]])\n",
    "arr"
   ]
  },
  {
   "cell_type": "code",
   "execution_count": 28,
   "id": "4b0d7c57",
   "metadata": {},
   "outputs": [
    {
     "data": {
      "text/plain": [
       "array([[1, 4, 7],\n",
       "       [2, 5, 8],\n",
       "       [3, 6, 9]])"
      ]
     },
     "execution_count": 28,
     "metadata": {},
     "output_type": "execute_result"
    }
   ],
   "source": [
    "arr.T"
   ]
  },
  {
   "cell_type": "code",
   "execution_count": 10,
   "id": "2716120d",
   "metadata": {},
   "outputs": [],
   "source": [
    "# 4. If you have two sorted arrays, how can you merge them and keep the resulting array sorted?\n",
    "\n",
    "arr1 = [1, 3, 5, 7]\n",
    "arr2 = [2, 4, 6, 8]\n",
    "\n",
    "def merge_arrays(arr1, arr2, n1, n2):\n",
    "    arr3 = [None]*(n1+n2)\n",
    "    i = 0\n",
    "    j = 0\n",
    "    k = 0\n",
    "    \n",
    "    while i < n1 and j < n2:\n",
    "        if arr1[i] < arr2[j]:\n",
    "            arr3[k] = arr1[i]\n",
    "            i += 1\n",
    "            k += 1\n",
    "        else:\n",
    "            arr3[k] = arr2[j]\n",
    "            j += 1\n",
    "            k += 1\n",
    "    \n",
    "    while i < n1:\n",
    "        arr3[k] = arr1[i]\n",
    "        i += 1\n",
    "        k += 1\n",
    "    \n",
    "    while j < n2:\n",
    "        arr3[k] = arr2[j]\n",
    "        j += 1\n",
    "        k += 1\n",
    "        \n",
    "    return arr3\n",
    "            "
   ]
  },
  {
   "cell_type": "code",
   "execution_count": 11,
   "id": "2a3916f9",
   "metadata": {},
   "outputs": [
    {
     "data": {
      "text/plain": [
       "[1, 2, 3, 4, 5, 6, 7, 8]"
      ]
     },
     "execution_count": 11,
     "metadata": {},
     "output_type": "execute_result"
    }
   ],
   "source": [
    "merge_arrays(arr1, arr2, len(arr1), len(arr2))"
   ]
  },
  {
   "cell_type": "code",
   "execution_count": 12,
   "id": "d940eaa5",
   "metadata": {},
   "outputs": [],
   "source": [
    "# 5. Remove duplicates from an array"
   ]
  },
  {
   "cell_type": "code",
   "execution_count": 13,
   "id": "02ec2242",
   "metadata": {},
   "outputs": [
    {
     "data": {
      "text/plain": [
       "[1, 2, 3, 4, 5]"
      ]
     },
     "execution_count": 13,
     "metadata": {},
     "output_type": "execute_result"
    }
   ],
   "source": [
    "arr = [1,2,3,3,4,4,5]\n",
    "\n",
    "list(set(arr))"
   ]
  },
  {
   "cell_type": "code",
   "execution_count": 30,
   "id": "82436524",
   "metadata": {},
   "outputs": [],
   "source": [
    "# 6. Count the frequency of an element in an array\n",
    "\n",
    "arr = [1,1,1,2,3,3,4,5,5,5]\n",
    "\n",
    "def freq_counter(arr, element):\n",
    "    counter = 0\n",
    "    \n",
    "    for i in arr:\n",
    "        if i == element:\n",
    "            counter += 1\n",
    "    return counter"
   ]
  },
  {
   "cell_type": "code",
   "execution_count": 31,
   "id": "ee216b5b",
   "metadata": {},
   "outputs": [
    {
     "data": {
      "text/plain": [
       "2"
      ]
     },
     "execution_count": 31,
     "metadata": {},
     "output_type": "execute_result"
    }
   ],
   "source": [
    "freq_counter(arr, 3)"
   ]
  },
  {
   "cell_type": "code",
   "execution_count": 32,
   "id": "3f4d056e",
   "metadata": {},
   "outputs": [
    {
     "data": {
      "text/plain": [
       "0"
      ]
     },
     "execution_count": 32,
     "metadata": {},
     "output_type": "execute_result"
    }
   ],
   "source": [
    "arr.index(1)"
   ]
  },
  {
   "cell_type": "code",
   "execution_count": 33,
   "id": "a96bd6f7",
   "metadata": {},
   "outputs": [],
   "source": [
    "# 7. Count the frequency of an element in an array\n",
    "\n",
    "arr = [1,1,1,2,3,3,4,5,5,5]\n",
    "\n",
    "def freq_counter_2(arr, n):\n",
    "    \n",
    "    d = dict()\n",
    "    \n",
    "    for i in range(n):\n",
    "        if arr[i] in d.keys():\n",
    "            d[arr[i]] += 1\n",
    "        else:\n",
    "            d[arr[i]] = 1\n",
    "    return d"
   ]
  },
  {
   "cell_type": "code",
   "execution_count": 34,
   "id": "cb6e8148",
   "metadata": {},
   "outputs": [
    {
     "data": {
      "text/plain": [
       "{1: 3, 2: 1, 3: 2, 4: 1, 5: 3}"
      ]
     },
     "execution_count": 34,
     "metadata": {},
     "output_type": "execute_result"
    }
   ],
   "source": [
    "freq_counter_2(arr, len(arr))"
   ]
  },
  {
   "cell_type": "code",
   "execution_count": 37,
   "id": "0529699d",
   "metadata": {},
   "outputs": [],
   "source": [
    "# 8. Given an array of integers, return indices of the two numbers such that they add up to a specific target.\n",
    "\n",
    "arr = [1,4,10,-3]\n",
    "\n",
    "def two_sum(arr, target):\n",
    "    \n",
    "    hash_map = {}\n",
    "    for i in range(len(arr)):\n",
    "        if arr[i] in hash_map:\n",
    "            return [i, hash_map[arr[i]]]\n",
    "        else:\n",
    "            hash_map[target - arr[i]] = i\n",
    "    return hash_map"
   ]
  },
  {
   "cell_type": "code",
   "execution_count": 38,
   "id": "7976133f",
   "metadata": {},
   "outputs": [
    {
     "data": {
      "text/plain": [
       "[2, 1]"
      ]
     },
     "execution_count": 38,
     "metadata": {},
     "output_type": "execute_result"
    }
   ],
   "source": [
    "two_sum(arr, 14)"
   ]
  },
  {
   "cell_type": "code",
   "execution_count": 85,
   "id": "91dcad61",
   "metadata": {},
   "outputs": [],
   "source": [
    "hash_map = {}\n",
    "hash_map[14-1] = 0\n",
    "hash_map[14-4] = 1\n",
    "\n",
    "[2, 1]\n"
   ]
  },
  {
   "cell_type": "code",
   "execution_count": 39,
   "id": "439cf63b",
   "metadata": {},
   "outputs": [],
   "source": [
    "# 9. Min and Max element of an array\n",
    "\n",
    "arr = [2,1,4,6,5]\n",
    "\n",
    "def find_max(arr):\n",
    "    \n",
    "    max_n = arr[0]\n",
    "    \n",
    "    for i in arr:\n",
    "        if i > max_n:\n",
    "            max_n = i\n",
    "    \n",
    "    \n",
    "    return max_n\n",
    "\n",
    "def find_min(arr):\n",
    "    \n",
    "    min_n = arr[0]\n",
    "    \n",
    "    for i in arr:\n",
    "        if i < min_n:\n",
    "            min_n = i\n",
    "    \n",
    "    \n",
    "    return min_n"
   ]
  },
  {
   "cell_type": "code",
   "execution_count": 40,
   "id": "5b57b8d1",
   "metadata": {},
   "outputs": [
    {
     "data": {
      "text/plain": [
       "6"
      ]
     },
     "execution_count": 40,
     "metadata": {},
     "output_type": "execute_result"
    }
   ],
   "source": [
    "find_max(arr)"
   ]
  },
  {
   "cell_type": "code",
   "execution_count": 41,
   "id": "34e4ca57",
   "metadata": {},
   "outputs": [
    {
     "data": {
      "text/plain": [
       "1"
      ]
     },
     "execution_count": 41,
     "metadata": {},
     "output_type": "execute_result"
    }
   ],
   "source": [
    "find_min(arr)"
   ]
  },
  {
   "cell_type": "code",
   "execution_count": 104,
   "id": "799cfebf",
   "metadata": {},
   "outputs": [],
   "source": [
    "# 10. Remove duplicates from sorted array\n",
    "\n",
    "arr = [-1, -1, 2, 2, 3, 3, 3, 4, 5]\n",
    "\n",
    "def remove_duplicates(arr, n):\n",
    "    temp = [None]*n\n",
    "    j = 0\n",
    "    \n",
    "    for i in range(n-1):\n",
    "        if arr[i] != arr[i+1]:\n",
    "            temp[j] = arr[i]\n",
    "            j += 1\n",
    "    \n",
    "    temp[j] = arr[n-1]\n",
    "    j += 1\n",
    "    \n",
    "    while temp[-1] == None:\n",
    "        temp.pop()\n",
    "        \n",
    "    return temp"
   ]
  },
  {
   "cell_type": "code",
   "execution_count": 105,
   "id": "e942ac7a",
   "metadata": {},
   "outputs": [
    {
     "data": {
      "text/plain": [
       "[-1, 2, 3, 4, 5]"
      ]
     },
     "execution_count": 105,
     "metadata": {},
     "output_type": "execute_result"
    }
   ],
   "source": [
    "temp"
   ]
  },
  {
   "cell_type": "code",
   "execution_count": 131,
   "id": "d9d02e29",
   "metadata": {},
   "outputs": [],
   "source": [
    "# 11. Given an array nums and a value val, remove all instances of that value in-place and return the new length. \n",
    "# Do not allocate extra space for another array\n",
    "\n",
    "def val_remover(arr, val):\n",
    "    \n",
    "    for i in range(len(arr) - 1):      \n",
    "        try:\n",
    "            if arr[i] == val:\n",
    "                arr.pop(i)\n",
    "        except:\n",
    "            pass\n",
    "    return arr"
   ]
  },
  {
   "cell_type": "code",
   "execution_count": 134,
   "id": "add972db",
   "metadata": {},
   "outputs": [],
   "source": [
    "arr = [3,2,2,3,4,3,5,1,3,5,6,3]\n"
   ]
  },
  {
   "cell_type": "code",
   "execution_count": 135,
   "id": "8ac79ca5",
   "metadata": {},
   "outputs": [
    {
     "data": {
      "text/plain": [
       "[2, 2, 4, 5, 1, 5, 6]"
      ]
     },
     "execution_count": 135,
     "metadata": {},
     "output_type": "execute_result"
    }
   ],
   "source": [
    "val_remover(arr, 3)"
   ]
  },
  {
   "cell_type": "code",
   "execution_count": null,
   "id": "6fb38a36",
   "metadata": {},
   "outputs": [],
   "source": []
  },
  {
   "cell_type": "code",
   "execution_count": 148,
   "id": "f0bd03b5",
   "metadata": {},
   "outputs": [],
   "source": [
    "# 12. Given a sorted array arr[] consisting of N distinct integers and an integer K, \n",
    "# the task is to find the index of K, if it’s present in the array arr[]. \n",
    "# Otherwise, find the index where K must be inserted to keep the array sorted.\n",
    "\n",
    "def search_insert_position(arr, val):\n",
    "    i = 0\n",
    "    try:\n",
    "        return arr.index(val)\n",
    "    except:\n",
    "        for i in range(len(arr) - 1):\n",
    "            if arr[i] > val:\n",
    "                return i\n"
   ]
  },
  {
   "cell_type": "code",
   "execution_count": 151,
   "id": "582a8a93",
   "metadata": {},
   "outputs": [
    {
     "data": {
      "text/plain": [
       "2"
      ]
     },
     "execution_count": 151,
     "metadata": {},
     "output_type": "execute_result"
    }
   ],
   "source": [
    "arr = [1,2,4,5,6]\n",
    "\n",
    "search_insert_position(arr, 3)"
   ]
  },
  {
   "cell_type": "code",
   "execution_count": 157,
   "id": "24a30e30",
   "metadata": {},
   "outputs": [
    {
     "name": "stdout",
     "output_type": "stream",
     "text": [
      "max_ending_here: 0, max_so_far: 0\n",
      "max_ending_here: 1, max_so_far: 1\n",
      "max_ending_here: 0, max_so_far: 1\n",
      "max_ending_here: 4, max_so_far: 4\n",
      "max_ending_here: 3, max_so_far: 4\n",
      "max_ending_here: 5, max_so_far: 5\n",
      "max_ending_here: 6, max_so_far: 6\n",
      "max_ending_here: 1, max_so_far: 6\n",
      "max_ending_here: 5, max_so_far: 6\n"
     ]
    },
    {
     "data": {
      "text/plain": [
       "6"
      ]
     },
     "execution_count": 157,
     "metadata": {},
     "output_type": "execute_result"
    }
   ],
   "source": [
    "# 13. Maximum subarray\n",
    "# Given an integer array, find a contiguous subarray within it that has the largest sum.\n",
    "\n",
    "def maximum_subarray(arr):\n",
    " \n",
    "    # stores the maximum sum sublist found so far\n",
    "    max_so_far = 0\n",
    " \n",
    "    # stores the maximum sum of sublist ending at the current position\n",
    "    max_ending_here = 0\n",
    " \n",
    "    # traverse the given list\n",
    "    for i in arr:\n",
    "        # update the maximum sum of sublist \"ending\" at index `i` (by adding the\n",
    "        # current element to maximum sum ending at previous index `i-1`)\n",
    "        max_ending_here = max_ending_here + i\n",
    " \n",
    "        # if the maximum sum is negative, set it to 0 (which represents\n",
    "        # an empty sublist)\n",
    "        max_ending_here = max(max_ending_here, 0)\n",
    " \n",
    "        # update the result if the current sublist sum is found to be greater\n",
    "        max_so_far = max(max_so_far, max_ending_here)\n",
    "        print('max_ending_here: {}, max_so_far: {}'.format(max_ending_here, max_so_far))\n",
    " \n",
    "    return max_so_far\n",
    " \n",
    " \n",
    "\n",
    "arr = [-2, 1, -3, 4, -1, 2, 1, -5, 4]\n",
    "\n",
    "maximum_subarray(arr)"
   ]
  },
  {
   "cell_type": "code",
   "execution_count": null,
   "id": "f2b38367",
   "metadata": {},
   "outputs": [],
   "source": []
  },
  {
   "cell_type": "code",
   "execution_count": null,
   "id": "b4961c78",
   "metadata": {},
   "outputs": [],
   "source": []
  }
 ],
 "metadata": {
  "kernelspec": {
   "display_name": "Python 3 (ipykernel)",
   "language": "python",
   "name": "python3"
  },
  "language_info": {
   "codemirror_mode": {
    "name": "ipython",
    "version": 3
   },
   "file_extension": ".py",
   "mimetype": "text/x-python",
   "name": "python",
   "nbconvert_exporter": "python",
   "pygments_lexer": "ipython3",
   "version": "3.8.3"
  }
 },
 "nbformat": 4,
 "nbformat_minor": 5
}
