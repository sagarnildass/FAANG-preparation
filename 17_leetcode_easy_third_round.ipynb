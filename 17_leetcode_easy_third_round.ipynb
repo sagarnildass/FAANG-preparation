{
 "cells": [
  {
   "cell_type": "markdown",
   "id": "ea0123cc",
   "metadata": {},
   "source": [
    "# 1. Two Sum"
   ]
  },
  {
   "cell_type": "code",
   "execution_count": 47,
   "id": "d24e7718",
   "metadata": {},
   "outputs": [],
   "source": [
    "def twoSum(nums, target):\n",
    "    index_map = {}\n",
    "    \n",
    "    for i in range(len(nums)):\n",
    "        ntf = target - nums[i]\n",
    "        if nums[i] not in index_map:\n",
    "            index_map[ntf] = i\n",
    "        else:\n",
    "            return [index_map[nums[i]], i]\n",
    "    return -1"
   ]
  },
  {
   "cell_type": "code",
   "execution_count": 48,
   "id": "dffff3de",
   "metadata": {},
   "outputs": [
    {
     "data": {
      "text/plain": [
       "[1, 2]"
      ]
     },
     "execution_count": 48,
     "metadata": {},
     "output_type": "execute_result"
    }
   ],
   "source": [
    "nums = [2,4,3,7]\n",
    "target = 7\n",
    "\n",
    "twoSum(nums, target)"
   ]
  },
  {
   "cell_type": "markdown",
   "id": "b3e036b9",
   "metadata": {},
   "source": [
    "# 2. Two Sum II"
   ]
  },
  {
   "cell_type": "code",
   "execution_count": 49,
   "id": "c35576c4",
   "metadata": {},
   "outputs": [],
   "source": [
    "def twoSum(numbers, target):\n",
    "    index_map = {}\n",
    "\n",
    "    for i in range(len(numbers)):\n",
    "        ntf = target - numbers[i]\n",
    "        if numbers[i] not in index_map:\n",
    "            index_map[ntf] = i + 1\n",
    "        else:\n",
    "            return [index_map[numbers[i]], i + 1]"
   ]
  },
  {
   "cell_type": "code",
   "execution_count": 50,
   "id": "2239ed71",
   "metadata": {},
   "outputs": [
    {
     "data": {
      "text/plain": [
       "[2, 3]"
      ]
     },
     "execution_count": 50,
     "metadata": {},
     "output_type": "execute_result"
    }
   ],
   "source": [
    "nums = [2,4,3,7]\n",
    "target = 7\n",
    "\n",
    "twoSum(nums, target)"
   ]
  },
  {
   "cell_type": "markdown",
   "id": "433d924d",
   "metadata": {},
   "source": [
    "# 2. Palindrome number"
   ]
  },
  {
   "cell_type": "code",
   "execution_count": 4,
   "id": "fac38af0",
   "metadata": {},
   "outputs": [],
   "source": [
    "def isPalindrome(x):\n",
    "    \n",
    "    x = str(x)\n",
    "    \n",
    "    if '-' in x:\n",
    "        return False\n",
    "    \n",
    "    return x == x[::-1]"
   ]
  },
  {
   "cell_type": "code",
   "execution_count": 8,
   "id": "9041081f",
   "metadata": {},
   "outputs": [
    {
     "data": {
      "text/plain": [
       "True"
      ]
     },
     "execution_count": 8,
     "metadata": {},
     "output_type": "execute_result"
    }
   ],
   "source": [
    "isPalindrome(121)"
   ]
  },
  {
   "cell_type": "markdown",
   "id": "efa6e979",
   "metadata": {},
   "source": [
    "# 3. Roman to integer\n"
   ]
  },
  {
   "cell_type": "code",
   "execution_count": 9,
   "id": "96f69617",
   "metadata": {},
   "outputs": [],
   "source": [
    "def romanToInt(s: str) -> int:\n",
    "    values = {\n",
    "    \"I\": 1,\n",
    "    \"V\": 5,\n",
    "    \"X\": 10,\n",
    "    \"L\": 50,\n",
    "    \"C\": 100,\n",
    "    \"D\": 500,\n",
    "    \"M\": 1000,\n",
    "}\n",
    "    \n",
    "    total = 0\n",
    "    left = 0\n",
    "    \n",
    "    while left < len(s):\n",
    "        if left + 1 < len(s) and values[s[left + 1]] > values[s[left]]:\n",
    "            total += values[s[left + 1]] - values[s[left]]\n",
    "            left += 2\n",
    "        else:\n",
    "            total += values[s[left]]\n",
    "            left += 1\n",
    "    \n",
    "    return total\n",
    "    "
   ]
  },
  {
   "cell_type": "code",
   "execution_count": 10,
   "id": "8dec0732",
   "metadata": {},
   "outputs": [
    {
     "data": {
      "text/plain": [
       "58"
      ]
     },
     "execution_count": 10,
     "metadata": {},
     "output_type": "execute_result"
    }
   ],
   "source": [
    "s = \"LVIII\"\n",
    "\n",
    "romanToInt(s)"
   ]
  },
  {
   "cell_type": "markdown",
   "id": "532ca09b",
   "metadata": {},
   "source": [
    "# 4. Longest Common Prefix"
   ]
  },
  {
   "cell_type": "code",
   "execution_count": 11,
   "id": "36489ad6",
   "metadata": {},
   "outputs": [],
   "source": [
    "def longestCommonPrefix(strs):\n",
    "    \n",
    "    result = []\n",
    "    \n",
    "    for i in zip(*strs):\n",
    "        if len(set(i)) == 1:\n",
    "            result.append(i[0])\n",
    "        else:\n",
    "            break\n",
    "    return result"
   ]
  },
  {
   "cell_type": "code",
   "execution_count": 12,
   "id": "bc695cea",
   "metadata": {},
   "outputs": [
    {
     "data": {
      "text/plain": [
       "['f', 'l']"
      ]
     },
     "execution_count": 12,
     "metadata": {},
     "output_type": "execute_result"
    }
   ],
   "source": [
    "strs = [\"flower\",\"flow\",\"flight\"]\n",
    "\n",
    "longestCommonPrefix(strs)"
   ]
  },
  {
   "cell_type": "markdown",
   "id": "dc75d04e",
   "metadata": {},
   "source": [
    "# 5. Valid parenthesis"
   ]
  },
  {
   "cell_type": "code",
   "execution_count": 18,
   "id": "cadfaa5d",
   "metadata": {},
   "outputs": [],
   "source": [
    "def isValid(s):\n",
    "    parens = {\n",
    "        '(':')',\n",
    "        '{':'}',\n",
    "        '[':']'\n",
    "    }\n",
    "    \n",
    "    stack = []\n",
    "    \n",
    "    for char in s:\n",
    "        if char in parens.keys():\n",
    "            stack.append(char)\n",
    "        else:\n",
    "            if len(stack) > 0:\n",
    "                leftBracket = stack.pop()\n",
    "            else:\n",
    "                return False\n",
    "            correctBracket = parens[leftBracket]\n",
    "            if correctBracket != char:\n",
    "                return False\n",
    "    return len(stack) == 0"
   ]
  },
  {
   "cell_type": "code",
   "execution_count": 21,
   "id": "333bc9cd",
   "metadata": {},
   "outputs": [
    {
     "data": {
      "text/plain": [
       "True"
      ]
     },
     "execution_count": 21,
     "metadata": {},
     "output_type": "execute_result"
    }
   ],
   "source": [
    "s = \"()[]{}\"\n",
    "\n",
    "isValid(s)"
   ]
  },
  {
   "cell_type": "markdown",
   "id": "4b670df0",
   "metadata": {},
   "source": [
    "# 6. Merge two sorted lists"
   ]
  },
  {
   "cell_type": "code",
   "execution_count": 22,
   "id": "1059207a",
   "metadata": {},
   "outputs": [],
   "source": [
    "def mergeTwoLists(list1, list2):\n",
    "    if list1 is None:\n",
    "        return list2\n",
    "    elif list2 is None:\n",
    "        return list1\n",
    "    elif list1.val < list2.val:\n",
    "        list1.next = mergeTwoLists(list1.next, list2)\n",
    "        return list1\n",
    "    else:\n",
    "        list2.next = mergeTwoLists(list1, list2.next)\n",
    "        return list2"
   ]
  },
  {
   "cell_type": "markdown",
   "id": "e99678e8",
   "metadata": {},
   "source": [
    "# 7. Remove duplicates from sorted array"
   ]
  },
  {
   "cell_type": "code",
   "execution_count": 23,
   "id": "b013a426",
   "metadata": {},
   "outputs": [],
   "source": [
    "def removeDuplicates(nums):\n",
    "    i = 0\n",
    "    \n",
    "    for j in range(len(nums)):\n",
    "        if nums[j] != nums[i]:\n",
    "            i += 1\n",
    "            nums[i] = nums[j]\n",
    "    return i + 1"
   ]
  },
  {
   "cell_type": "code",
   "execution_count": 24,
   "id": "55899d00",
   "metadata": {},
   "outputs": [
    {
     "data": {
      "text/plain": [
       "2"
      ]
     },
     "execution_count": 24,
     "metadata": {},
     "output_type": "execute_result"
    }
   ],
   "source": [
    "nums = [1,1,2]\n",
    "\n",
    "removeDuplicates(nums)"
   ]
  },
  {
   "cell_type": "markdown",
   "id": "61bf11b2",
   "metadata": {},
   "source": [
    "# 8. Remove element"
   ]
  },
  {
   "cell_type": "code",
   "execution_count": 11,
   "id": "fbe5e028",
   "metadata": {},
   "outputs": [],
   "source": [
    "def removeElement(nums, val):\n",
    "    \n",
    "    i = 0\n",
    "    \n",
    "    for j in range(len(nums)):\n",
    "        if nums[j] != val:\n",
    "            nums[i] = nums[j]\n",
    "            i += 1\n",
    "    return i"
   ]
  },
  {
   "cell_type": "code",
   "execution_count": 14,
   "id": "fa638b8c",
   "metadata": {},
   "outputs": [
    {
     "data": {
      "text/plain": [
       "3"
      ]
     },
     "execution_count": 14,
     "metadata": {},
     "output_type": "execute_result"
    }
   ],
   "source": [
    "nums = [3,2,2,4,3]\n",
    "val = 3\n",
    "\n",
    "removeElement(nums, val)"
   ]
  },
  {
   "cell_type": "markdown",
   "id": "d6a211b8",
   "metadata": {},
   "source": [
    "# 9. Search Insert position"
   ]
  },
  {
   "cell_type": "code",
   "execution_count": 32,
   "id": "ddaefece",
   "metadata": {},
   "outputs": [],
   "source": [
    "import math\n",
    "\n",
    "def searchInsert(nums, target):\n",
    "    \n",
    "    left = 0\n",
    "    right = len(nums) - 1\n",
    "    \n",
    "    while left <= right:\n",
    "        mid = math.floor((left + right)/2)\n",
    "        if nums[mid] == target:\n",
    "            return mid\n",
    "        elif nums[mid] < target:\n",
    "            left = mid + 1\n",
    "        else:\n",
    "            right = mid - 1\n",
    "    return left"
   ]
  },
  {
   "cell_type": "code",
   "execution_count": 37,
   "id": "ce88d318",
   "metadata": {},
   "outputs": [
    {
     "data": {
      "text/plain": [
       "1"
      ]
     },
     "execution_count": 37,
     "metadata": {},
     "output_type": "execute_result"
    }
   ],
   "source": [
    "nums = [1,3,5,6]\n",
    "target = 2\n",
    "\n",
    "searchInsert(nums, target)"
   ]
  },
  {
   "cell_type": "markdown",
   "id": "571c3339",
   "metadata": {},
   "source": [
    "# 10. Length of last word"
   ]
  },
  {
   "cell_type": "code",
   "execution_count": 38,
   "id": "4e7606d4",
   "metadata": {},
   "outputs": [],
   "source": [
    "def lengthOfLastWord(s):\n",
    "    \n",
    "    right = len(s) - 1\n",
    "    \n",
    "    while right >= 0 and s[right] == ' ':\n",
    "        right -= 1\n",
    "    \n",
    "    length = 0\n",
    "    \n",
    "    while right >= 0 and s[right] != ' ':\n",
    "        right -= 1\n",
    "        length += 1\n",
    "    \n",
    "    return length"
   ]
  },
  {
   "cell_type": "code",
   "execution_count": 39,
   "id": "45c370f2",
   "metadata": {},
   "outputs": [
    {
     "data": {
      "text/plain": [
       "4"
      ]
     },
     "execution_count": 39,
     "metadata": {},
     "output_type": "execute_result"
    }
   ],
   "source": [
    "s = \"   fly me   to   the moon  \"\n",
    "lengthOfLastWord(s)"
   ]
  },
  {
   "cell_type": "code",
   "execution_count": 40,
   "id": "88ecfb9f",
   "metadata": {},
   "outputs": [
    {
     "data": {
      "text/plain": [
       "5"
      ]
     },
     "execution_count": 40,
     "metadata": {},
     "output_type": "execute_result"
    }
   ],
   "source": [
    "s = 'sagar rocks'\n",
    "lengthOfLastWord(s)"
   ]
  },
  {
   "cell_type": "markdown",
   "id": "e880b33b",
   "metadata": {},
   "source": [
    "# 11. Plus One"
   ]
  },
  {
   "cell_type": "code",
   "execution_count": 41,
   "id": "42714783",
   "metadata": {},
   "outputs": [],
   "source": [
    "def plusOne(digits):\n",
    "    str_digits = [str(i) for i in digits]\n",
    "    str_number = \"\".join(str_digits)\n",
    "    int_number = int(str_number)\n",
    "    result = int_number + 1\n",
    "    str_result = str(result)\n",
    "    return [int(i) for i in str_result]"
   ]
  },
  {
   "cell_type": "code",
   "execution_count": 42,
   "id": "e0522051",
   "metadata": {},
   "outputs": [
    {
     "data": {
      "text/plain": [
       "[1, 2, 4]"
      ]
     },
     "execution_count": 42,
     "metadata": {},
     "output_type": "execute_result"
    }
   ],
   "source": [
    "digits = [1,2,3]\n",
    "\n",
    "plusOne(digits)"
   ]
  },
  {
   "cell_type": "markdown",
   "id": "092e751b",
   "metadata": {},
   "source": [
    "# 12. Add binary"
   ]
  },
  {
   "cell_type": "code",
   "execution_count": 43,
   "id": "5a28654f",
   "metadata": {},
   "outputs": [],
   "source": [
    "def addBinary(a, b):\n",
    "    return bin(int(a,2) + int(b,2)).replace('0b', '')"
   ]
  },
  {
   "cell_type": "code",
   "execution_count": 44,
   "id": "bc1a685e",
   "metadata": {},
   "outputs": [
    {
     "data": {
      "text/plain": [
       "'100'"
      ]
     },
     "execution_count": 44,
     "metadata": {},
     "output_type": "execute_result"
    }
   ],
   "source": [
    "a = \"11\"\n",
    "b = \"1\"\n",
    "\n",
    "addBinary(a, b)"
   ]
  },
  {
   "cell_type": "markdown",
   "id": "383ac400",
   "metadata": {},
   "source": [
    "# 14. Sqrt x"
   ]
  },
  {
   "cell_type": "code",
   "execution_count": 45,
   "id": "b074e220",
   "metadata": {},
   "outputs": [],
   "source": [
    "def sqrt(x):\n",
    "    \n",
    "    if x < 2:\n",
    "        return x\n",
    "    \n",
    "    left = 0\n",
    "    right = x // 2\n",
    "    \n",
    "    while left <= right:\n",
    "        mid = math.floor((left + right)/2)\n",
    "        if mid * mid == x:\n",
    "            return mid\n",
    "        elif mid * mid < x:\n",
    "            left = mid + 1\n",
    "        else:\n",
    "            right = mid - 1\n",
    "    return right"
   ]
  },
  {
   "cell_type": "code",
   "execution_count": 49,
   "id": "1df4b805",
   "metadata": {},
   "outputs": [
    {
     "data": {
      "text/plain": [
       "3"
      ]
     },
     "execution_count": 49,
     "metadata": {},
     "output_type": "execute_result"
    }
   ],
   "source": [
    "sqrt(10)"
   ]
  },
  {
   "cell_type": "markdown",
   "id": "667a892c",
   "metadata": {},
   "source": [
    "# 15. Climbing stairs"
   ]
  },
  {
   "cell_type": "code",
   "execution_count": 50,
   "id": "98e366cb",
   "metadata": {},
   "outputs": [],
   "source": [
    "def climbStairs(n):\n",
    "    \n",
    "    if n == 1:\n",
    "        return 1\n",
    "    \n",
    "    first = 1\n",
    "    second = 2\n",
    "    \n",
    "    third = 0\n",
    "    \n",
    "    for i in range(3, n+1):\n",
    "        third = first + second\n",
    "        first = second\n",
    "        second = third\n",
    "    return second"
   ]
  },
  {
   "cell_type": "code",
   "execution_count": 51,
   "id": "a54b5f23",
   "metadata": {},
   "outputs": [
    {
     "data": {
      "text/plain": [
       "5"
      ]
     },
     "execution_count": 51,
     "metadata": {},
     "output_type": "execute_result"
    }
   ],
   "source": [
    "climbStairs(4)"
   ]
  },
  {
   "cell_type": "markdown",
   "id": "5fd7efe3",
   "metadata": {},
   "source": [
    "# 16. Remove Duplicates from sorted linked list"
   ]
  },
  {
   "cell_type": "code",
   "execution_count": 53,
   "id": "1b1354da",
   "metadata": {},
   "outputs": [],
   "source": [
    "def deleteDuplicates(head):\n",
    "    \n",
    "    curr = head\n",
    "    \n",
    "    while curr is not None and curr.next is not None:\n",
    "        if curr.val == curr.next.val:\n",
    "            curr.next = curr.next.next\n",
    "        else:\n",
    "            curr = curr.next\n",
    "    return head"
   ]
  },
  {
   "cell_type": "markdown",
   "id": "17c94331",
   "metadata": {},
   "source": [
    "# 17. Merge Sorted Array"
   ]
  },
  {
   "cell_type": "code",
   "execution_count": 58,
   "id": "9e3f091c",
   "metadata": {},
   "outputs": [],
   "source": [
    "def merge(nums1, m, nums2, n):\n",
    "    \n",
    "    nums1_copy = nums1[:m]\n",
    "    \n",
    "    p1 = 0\n",
    "    p2 = 0\n",
    "    \n",
    "    for i in range(m+n):\n",
    "        if p2 >= n or (p1 < m and nums1_copy[p1] <= nums2[p2]):\n",
    "            nums1[i] = nums1_copy[p1]\n",
    "            p1 += 1\n",
    "        else:\n",
    "            nums1[i] = nums2[p2]\n",
    "            p2 += 1\n",
    "    \n",
    "    return nums1"
   ]
  },
  {
   "cell_type": "code",
   "execution_count": 59,
   "id": "5e390f15",
   "metadata": {},
   "outputs": [
    {
     "data": {
      "text/plain": [
       "[1, 2, 2, 3, 5, 6]"
      ]
     },
     "execution_count": 59,
     "metadata": {},
     "output_type": "execute_result"
    }
   ],
   "source": [
    "nums1 = [1,2,3,0,0,0]\n",
    "m = 3\n",
    "nums2 = [2,5,6]\n",
    "n = 3\n",
    "\n",
    "merge(nums1, m, nums2, n)"
   ]
  },
  {
   "cell_type": "markdown",
   "id": "59985ccb",
   "metadata": {},
   "source": [
    "# 18. Binary tree In order traversal"
   ]
  },
  {
   "cell_type": "code",
   "execution_count": 61,
   "id": "d10dbc6e",
   "metadata": {},
   "outputs": [],
   "source": [
    "def inorderTraversal(root):\n",
    "    \n",
    "    if root is None:\n",
    "        return None\n",
    "    \n",
    "    result = []\n",
    "    \n",
    "    def dfsInOrder(node, result):\n",
    "        if node.left is not None:\n",
    "            dfsInOrder(node.left, result)\n",
    "        \n",
    "        result.append(node.val)\n",
    "        \n",
    "        if node.right is not None:\n",
    "            dfsInOrder(node.right, result)\n",
    "    \n",
    "    dfsInOrder(root, result)\n",
    "    return result"
   ]
  },
  {
   "cell_type": "markdown",
   "id": "90ca1aa0",
   "metadata": {},
   "source": [
    "# 19. Same tree"
   ]
  },
  {
   "cell_type": "code",
   "execution_count": 62,
   "id": "d799ed28",
   "metadata": {},
   "outputs": [],
   "source": [
    "def isSameTree(p,q):\n",
    "    if not p and not q:\n",
    "        return True\n",
    "    if not p or not q:\n",
    "        return False\n",
    "    if p.val != q.val:\n",
    "        return False\n",
    "    return isSameTree(p.left, q.left) and isSameTree(p.right, q.right)"
   ]
  },
  {
   "cell_type": "markdown",
   "id": "f7edcc2d",
   "metadata": {},
   "source": [
    "# 20. Symmetric tree"
   ]
  },
  {
   "cell_type": "code",
   "execution_count": 63,
   "id": "5433c903",
   "metadata": {},
   "outputs": [],
   "source": [
    "def isSymmetricTree(p, q):\n",
    "    if not p and not q:\n",
    "        return True\n",
    "    if not p or not q:\n",
    "        return False\n",
    "    if p.val != q.val:\n",
    "        return False\n",
    "    return isSymmetricTree(p.left, q.right) and isSymmetricTree(p.right, q.left)"
   ]
  },
  {
   "cell_type": "markdown",
   "id": "8385a8ea",
   "metadata": {},
   "source": [
    "# 21. Max depth"
   ]
  },
  {
   "cell_type": "code",
   "execution_count": 64,
   "id": "cf1dc044",
   "metadata": {},
   "outputs": [],
   "source": [
    "def maxDepth(root):\n",
    "    if not root:\n",
    "        return 0\n",
    "    else:\n",
    "        leftHeight = maxDepth(root.left)\n",
    "        rightHeight = maxDepth(root.right)\n",
    "        return max(leftHeight, rightHeight) + 1"
   ]
  },
  {
   "cell_type": "markdown",
   "id": "be391d08",
   "metadata": {},
   "source": [
    "# 22. Sorted array to binary search tree"
   ]
  },
  {
   "cell_type": "code",
   "execution_count": 65,
   "id": "c49cf0a6",
   "metadata": {},
   "outputs": [],
   "source": [
    "def sortedArrayToBST(nums):\n",
    "    \n",
    "    def helper(left, right):\n",
    "        if left > right:\n",
    "            return None\n",
    "        \n",
    "        mid = math.floor((left + right)/2)\n",
    "        \n",
    "        root = TreeNode(nums[mid])\n",
    "        \n",
    "        root.left = helper(left, mid - 1)\n",
    "        root.right = helper(mid + 1, right)\n",
    "        return root\n",
    "    \n",
    "    return helper(0, len(nums) - 1)"
   ]
  },
  {
   "cell_type": "markdown",
   "id": "034567fd",
   "metadata": {},
   "source": [
    "# 23. Balanced Binary tree"
   ]
  },
  {
   "cell_type": "code",
   "execution_count": 66,
   "id": "cedf95f7",
   "metadata": {},
   "outputs": [],
   "source": [
    "def isBalanced(root):\n",
    "    \n",
    "    def getHeight(node):\n",
    "        if node is None:\n",
    "            return 0\n",
    "        else:\n",
    "            leftHeight = getHeight(node.left)\n",
    "            rightHeight = getHeight(node.right)\n",
    "            return max(leftHeight, rightHeight) + 1\n",
    "    \n",
    "    return abs(getHeight(root.left) - getHeight(root.right)) < 2 and isBalanced(root.left) and isBalanced(root.right)"
   ]
  },
  {
   "cell_type": "markdown",
   "id": "69e720b6",
   "metadata": {},
   "source": [
    "# 24. Minimum Depth of binary tree"
   ]
  },
  {
   "cell_type": "code",
   "execution_count": 3,
   "id": "3fe8d360",
   "metadata": {},
   "outputs": [],
   "source": [
    "def minDepth(root):\n",
    "    if not root:\n",
    "        return 0\n",
    "    \n",
    "    children = [root.left, root.right]\n",
    "    \n",
    "    if not any(children):\n",
    "        return 1\n",
    "    \n",
    "    min_depth = float('inf')\n",
    "    \n",
    "    for c in children:\n",
    "        if c is not None:\n",
    "            min_depth = min(min_depth, minDepth(c))\n",
    "    \n",
    "    return min_depth + 1"
   ]
  },
  {
   "cell_type": "markdown",
   "id": "2370dd6a",
   "metadata": {},
   "source": [
    "# 25. Path sum"
   ]
  },
  {
   "cell_type": "code",
   "execution_count": 70,
   "id": "10621f5b",
   "metadata": {},
   "outputs": [],
   "source": [
    "def hasPathSum(root, targetSum):\n",
    "    if root is None:\n",
    "        return False\n",
    "    \n",
    "    queue = [(root, targetSum - root.val)]\n",
    "    \n",
    "    while len(queue) > 0:\n",
    "        currNode, currVal = queue.pop(0)\n",
    "        \n",
    "        if currVal == 0 and currNode.left is None and currNode.right is None:\n",
    "            return True\n",
    "        \n",
    "        if currNode.left is not None:\n",
    "            queue.append((currNode.left, currVal - currNode.left.val))\n",
    "        \n",
    "        if currNode.right is not None:\n",
    "            queue.append((currNode.right, currVal - currNode.right.val))\n",
    "    \n",
    "    return False\n",
    "    "
   ]
  },
  {
   "cell_type": "markdown",
   "id": "b1c6e416",
   "metadata": {},
   "source": [
    "# 26. Best time to buy and sell stock"
   ]
  },
  {
   "cell_type": "code",
   "execution_count": 71,
   "id": "efaa8bfc",
   "metadata": {},
   "outputs": [],
   "source": [
    "def maxProfit(prices):\n",
    "    min_price = float('inf')\n",
    "    max_profit = 0\n",
    "    \n",
    "    for price in prices:\n",
    "        if price < min_price:\n",
    "            min_price = price\n",
    "        elif price - min_price > max_profit:\n",
    "            max_profit = price - min_price\n",
    "    \n",
    "    return max_profit"
   ]
  },
  {
   "cell_type": "markdown",
   "id": "f00819a1",
   "metadata": {},
   "source": [
    "# 27. Valid Palindrome"
   ]
  },
  {
   "cell_type": "code",
   "execution_count": 74,
   "id": "bc9ea96b",
   "metadata": {},
   "outputs": [],
   "source": [
    "def isPalindrome(s):\n",
    "    \n",
    "    left = 0\n",
    "    right = len(s) - 1\n",
    "    \n",
    "    while left < right:\n",
    "        while left < right and not s[left].isalnum():\n",
    "            left += 1\n",
    "        while left < right and not s[right].isalnum():\n",
    "            right -= 1\n",
    "        \n",
    "        if s[left].lower() != s[right].lower():\n",
    "            return False\n",
    "        left += 1\n",
    "        right -= 1\n",
    "    return True"
   ]
  },
  {
   "cell_type": "code",
   "execution_count": 75,
   "id": "000a0f52",
   "metadata": {},
   "outputs": [
    {
     "data": {
      "text/plain": [
       "True"
      ]
     },
     "execution_count": 75,
     "metadata": {},
     "output_type": "execute_result"
    }
   ],
   "source": [
    "s = \"A man, a plan, a canal: Panama\"\n",
    "\n",
    "isPalindrome(s)"
   ]
  },
  {
   "cell_type": "markdown",
   "id": "21ec4f8d",
   "metadata": {},
   "source": [
    "# 28. Almost Palindrome"
   ]
  },
  {
   "cell_type": "code",
   "execution_count": 76,
   "id": "55e85406",
   "metadata": {},
   "outputs": [],
   "source": [
    "def almostPalindrome(s):\n",
    "    \n",
    "    def checkPalindrome(s, i, j):\n",
    "        while i < j:\n",
    "            if s[i] != s[j]:\n",
    "                return False\n",
    "            i += 1\n",
    "            j -= 1\n",
    "        return True\n",
    "    \n",
    "    left = 0\n",
    "    right = len(s) - 1\n",
    "    \n",
    "    while left < right:\n",
    "        if s[left] != s[right]:\n",
    "            return checkPalindrome(s, left, right - 1) or checkPalindrome(s, left + 1, right)\n",
    "        left += 1\n",
    "        right -= 1\n",
    "    \n",
    "    return True"
   ]
  },
  {
   "cell_type": "code",
   "execution_count": 80,
   "id": "66092070",
   "metadata": {},
   "outputs": [
    {
     "data": {
      "text/plain": [
       "True"
      ]
     },
     "execution_count": 80,
     "metadata": {},
     "output_type": "execute_result"
    }
   ],
   "source": [
    "s = \"abca\"\n",
    "almostPalindrome(s)"
   ]
  },
  {
   "cell_type": "markdown",
   "id": "805e8692",
   "metadata": {},
   "source": [
    "# 29. Typed out strings"
   ]
  },
  {
   "cell_type": "code",
   "execution_count": 81,
   "id": "5ea2d93b",
   "metadata": {},
   "outputs": [],
   "source": [
    "def backspaceCompare(s, t):\n",
    "    \n",
    "    stack_s = []\n",
    "    stack_t = []\n",
    "    \n",
    "    for i in range(len(s)):\n",
    "        if s[i] != '#':\n",
    "            stack_s.append(s[i])\n",
    "        else:\n",
    "            if len(stack_s) > 0:\n",
    "                stack_s.pop()\n",
    "    \n",
    "    for i in range(len(t)):\n",
    "        if t[i] != '#':\n",
    "            stack_t.append(t[i])\n",
    "        else:\n",
    "            if len(stack_t) > 0:\n",
    "                stack_t.pop()\n",
    "    \n",
    "    return stack_s == stack_t"
   ]
  },
  {
   "cell_type": "code",
   "execution_count": 82,
   "id": "589c0717",
   "metadata": {},
   "outputs": [
    {
     "data": {
      "text/plain": [
       "True"
      ]
     },
     "execution_count": 82,
     "metadata": {},
     "output_type": "execute_result"
    }
   ],
   "source": [
    "s = 'ad##'\n",
    "t = 'bc##'\n",
    "\n",
    "backspaceCompare(s,t)"
   ]
  },
  {
   "cell_type": "markdown",
   "id": "7eee7cfc",
   "metadata": {},
   "source": [
    "# 30. Longest substring without repeating characters"
   ]
  },
  {
   "cell_type": "code",
   "execution_count": 83,
   "id": "a76a8393",
   "metadata": {},
   "outputs": [],
   "source": [
    "def lengthOfLongestSubstring(s):\n",
    "    longest = 0\n",
    "    left = 0\n",
    "    seenChars = {}\n",
    "    \n",
    "    for right in range(len(s)):\n",
    "        currChar = s[right]\n",
    "        prevSeenChar = -1\n",
    "        if currChar in seenChars.keys():\n",
    "            prevSeenChar = seenChars[currChar]\n",
    "        if prevSeenChar >= left:\n",
    "            left = prevSeenChar + 1\n",
    "        seenChars[currChar] = right\n",
    "        longest = max(longest, right - left + 1)\n",
    "    return longest"
   ]
  },
  {
   "cell_type": "code",
   "execution_count": 85,
   "id": "923f9fed",
   "metadata": {},
   "outputs": [
    {
     "data": {
      "text/plain": [
       "4"
      ]
     },
     "execution_count": 85,
     "metadata": {},
     "output_type": "execute_result"
    }
   ],
   "source": [
    "s = \"abcdabcbb\"\n",
    "lengthOfLongestSubstring(s)"
   ]
  },
  {
   "cell_type": "markdown",
   "id": "b07b9017",
   "metadata": {},
   "source": [
    "# 31. Reverse a linked list"
   ]
  },
  {
   "cell_type": "code",
   "execution_count": 86,
   "id": "3b4900b9",
   "metadata": {},
   "outputs": [],
   "source": [
    "def reverseList(head):\n",
    "    curr = head\n",
    "    prev = None\n",
    "    \n",
    "    while curr is not None:\n",
    "        nextTmp = curr.next\n",
    "        curr.next = prev\n",
    "        prev = curr\n",
    "        curr = nextTmp\n",
    "    \n",
    "    return head"
   ]
  },
  {
   "cell_type": "markdown",
   "id": "afdb037a",
   "metadata": {},
   "source": [
    "# 32. Min remove to make valid parenthesis"
   ]
  },
  {
   "cell_type": "code",
   "execution_count": 87,
   "id": "4b26a036",
   "metadata": {},
   "outputs": [],
   "source": [
    "def minRemoveToMakeValid(s):\n",
    "    indexes_to_remove = set()\n",
    "    stack = []\n",
    "    \n",
    "    for i, char in enumerate(s):\n",
    "        if char not in '()':\n",
    "            continue\n",
    "        elif char == '(':\n",
    "            stack.append(i)\n",
    "        elif not stack:\n",
    "            indexes_to_remove.add(i)\n",
    "        else:\n",
    "            stack.pop()\n",
    "            \n",
    "    indexes_to_remove = indexes_to_remove.union(set(stack))\n",
    "    \n",
    "    stringBuilder = []\n",
    "    \n",
    "    for i,c in enumerate(s):\n",
    "        if i not in indexes_to_remove:\n",
    "            stringBuilder.append(c)\n",
    "    \n",
    "    return \"\".join(stringBuilder)"
   ]
  },
  {
   "cell_type": "code",
   "execution_count": 88,
   "id": "fc1e6784",
   "metadata": {},
   "outputs": [
    {
     "data": {
      "text/plain": [
       "''"
      ]
     },
     "execution_count": 88,
     "metadata": {},
     "output_type": "execute_result"
    }
   ],
   "source": [
    "minRemoveToMakeValid('))((')"
   ]
  },
  {
   "cell_type": "code",
   "execution_count": 89,
   "id": "61f24752",
   "metadata": {},
   "outputs": [
    {
     "data": {
      "text/plain": [
       "'lee(t(c)o)de'"
      ]
     },
     "execution_count": 89,
     "metadata": {},
     "output_type": "execute_result"
    }
   ],
   "source": [
    "minRemoveToMakeValid('lee(t(c)o)de)')"
   ]
  },
  {
   "cell_type": "markdown",
   "id": "67f9d66b",
   "metadata": {},
   "source": [
    "# 33. Find kth Largest element"
   ]
  },
  {
   "cell_type": "code",
   "execution_count": 90,
   "id": "cf8ff79c",
   "metadata": {},
   "outputs": [],
   "source": [
    "def findKthLargest(nums, k):\n",
    "    index_to_find = len(nums) - k\n",
    "    quickselect(nums, 0, len(nums) - 1, index_to_find)\n",
    "    return nums[-k]\n",
    "\n",
    "def quickselect(nums, left, right, targetIndex):\n",
    "    partitionIndex = partition(nums, left, right)\n",
    "    \n",
    "    if partitionIndex == targetIndex:\n",
    "        return nums[targetIndex]\n",
    "    elif partitionIndex > targetIndex:\n",
    "        return quickselect(nums, left, partitionIndex - 1, targetIndex)\n",
    "    else:\n",
    "        return quickselect(nums, partitionIndex + 1, right, targetIndex)\n",
    "    \n",
    "\n",
    "def partition(nums, left, right):\n",
    "    pivotElement = nums[right]\n",
    "    partitionIndex = left\n",
    "    \n",
    "    for j in range(left, right):\n",
    "        if nums[j] <= pivotElement:\n",
    "            nums[partitionIndex], nums[j] = nums[j], nums[partitionIndex]\n",
    "            partitionIndex += 1\n",
    "    nums[partitionIndex], nums[right] = nums[right], nums[partitionIndex]\n",
    "    return partitionIndex"
   ]
  },
  {
   "cell_type": "code",
   "execution_count": 91,
   "id": "f113ae4e",
   "metadata": {},
   "outputs": [
    {
     "data": {
      "text/plain": [
       "3"
      ]
     },
     "execution_count": 91,
     "metadata": {},
     "output_type": "execute_result"
    }
   ],
   "source": [
    "nums = [3,2,1,5,6,4]\n",
    "k = 4\n",
    "findKthLargest(nums, k)"
   ]
  },
  {
   "cell_type": "markdown",
   "id": "61bb8c35",
   "metadata": {},
   "source": [
    "# 34. Start and End of a target"
   ]
  },
  {
   "cell_type": "code",
   "execution_count": 92,
   "id": "0417f51b",
   "metadata": {},
   "outputs": [],
   "source": [
    "def binary_search(nums, number_to_find, left, right):\n",
    "    \n",
    "    while left <= right:\n",
    "        mid = math.floor((left + right)/2)\n",
    "        if nums[mid] == number_to_find:\n",
    "            return mid\n",
    "        elif nums[mid] < number_to_find:\n",
    "            left = mid + 1\n",
    "        else:\n",
    "            right = mid - 1\n",
    "    return -1\n",
    "\n",
    "def start_and_end(nums, target):\n",
    "    if len(nums) == 0:\n",
    "        return [-1, -1]\n",
    "    \n",
    "    firstPosition = binary_search(nums, target, 0, len(nums) - 1)\n",
    "    \n",
    "    if firstPosition == -1:\n",
    "        return [-1, -1]\n",
    "    \n",
    "    startPosition = firstPosition\n",
    "    endPosition = firstPosition\n",
    "    temp1 = 0\n",
    "    temp2 = 0\n",
    "    \n",
    "    while startPosition != -1:\n",
    "        temp1 = startPosition\n",
    "        startPosition = binary_search(nums, target, 0, startPosition - 1)\n",
    "    startPosition = temp1\n",
    "    \n",
    "    while endPosition != -1:\n",
    "        temp2 = endPosition\n",
    "        endPosition = binary_search(nums, target, endPosition + 1, len(nums) - 1)\n",
    "    endPosition = temp2\n",
    "    \n",
    "    return [startPosition, endPosition]"
   ]
  },
  {
   "cell_type": "code",
   "execution_count": 93,
   "id": "c0a29c99",
   "metadata": {},
   "outputs": [
    {
     "data": {
      "text/plain": [
       "[3, 4]"
      ]
     },
     "execution_count": 93,
     "metadata": {},
     "output_type": "execute_result"
    }
   ],
   "source": [
    "nums = [5,7,7,8,8,10]\n",
    "\n",
    "start_and_end(nums, 8)"
   ]
  },
  {
   "cell_type": "markdown",
   "id": "752039bc",
   "metadata": {},
   "source": [
    "# 35. Level order of binary tree"
   ]
  },
  {
   "cell_type": "code",
   "execution_count": 94,
   "id": "73fa558b",
   "metadata": {},
   "outputs": [],
   "source": [
    "def levelOrder(root):\n",
    "    if root is None:\n",
    "        return None\n",
    "    \n",
    "    result = []\n",
    "    queue = [root]\n",
    "    \n",
    "    while len(queue) > 0:\n",
    "        queue_length = len(queue)\n",
    "        currentLevelValues = []\n",
    "        counter = 0\n",
    "        \n",
    "        while counter < queue_length:\n",
    "            currNode = queue.pop(0)\n",
    "            currentLevelValues.append(currNode.val)\n",
    "            \n",
    "            if currNode.left is not None:\n",
    "                queue.append(currNode.left)\n",
    "                \n",
    "            if currNode.right is not None:\n",
    "                queue.append(currNode.right)\n",
    "                \n",
    "            counter += 1\n",
    "        result.append(currentLevelValues)\n",
    "    return result"
   ]
  },
  {
   "cell_type": "markdown",
   "id": "9e0e12a3",
   "metadata": {},
   "source": [
    "# 36. Number of islands"
   ]
  },
  {
   "cell_type": "code",
   "execution_count": 95,
   "id": "0223e3c3",
   "metadata": {},
   "outputs": [],
   "source": [
    "directions = [[-1, 0], [0, 1], [1, 0], [0, -1]]\n",
    "\n",
    "def numIslands(grid):\n",
    "    if len(grid) == 0:\n",
    "        return 0\n",
    "    \n",
    "    rows = len(grid)\n",
    "    cols = len(grid[0])\n",
    "    \n",
    "    islandCount = 0\n",
    "    \n",
    "    for row in range(rows):\n",
    "        for col in range(cols):\n",
    "            if grid[row][col] == '1':\n",
    "                islandCount += 1\n",
    "                grid[row][col] = '0'\n",
    "                queue = []\n",
    "                queue.append([row, col])\n",
    "                while len(queue) > 0:\n",
    "                    currNode = queue.pop(0)\n",
    "                    currRow = currNode[0]\n",
    "                    currCol = currNode[1]\n",
    "                    \n",
    "                    for i in range(len(directions)):\n",
    "                        direction = directions[i]\n",
    "                        nextRow = currRow + direction[0]\n",
    "                        nextCol = currCol + direction[1]\n",
    "                        \n",
    "                        if nextRow < 0 or nextRow >= len(grid) or nextCol < 0 or nextCol >= len(grid[0]):\n",
    "                            continue\n",
    "                        \n",
    "                        if grid[nextRow][nextCol] == '1':\n",
    "                            queue.append([nextRow, nextCol])\n",
    "                            grid[nextRow][nextCol] = '0'\n",
    "    return islandCount"
   ]
  },
  {
   "cell_type": "code",
   "execution_count": 96,
   "id": "f89531f1",
   "metadata": {},
   "outputs": [
    {
     "data": {
      "text/plain": [
       "1"
      ]
     },
     "execution_count": 96,
     "metadata": {},
     "output_type": "execute_result"
    }
   ],
   "source": [
    "grid = [\n",
    "  [\"1\",\"1\",\"1\",\"1\",\"0\"],\n",
    "  [\"1\",\"1\",\"0\",\"1\",\"0\"],\n",
    "  [\"1\",\"1\",\"0\",\"0\",\"0\"],\n",
    "  [\"0\",\"0\",\"0\",\"0\",\"0\"]\n",
    "]\n",
    "\n",
    "numIslands(grid)"
   ]
  },
  {
   "cell_type": "markdown",
   "id": "56a297e2",
   "metadata": {},
   "source": [
    "# 37. Rotting oranges"
   ]
  },
  {
   "cell_type": "code",
   "execution_count": 17,
   "id": "23ba63c3",
   "metadata": {},
   "outputs": [],
   "source": [
    "def orangesRotting(grid):\n",
    "    rows, cols = len(grid), len(grid[0])\n",
    "    freshOranges = 0\n",
    "    queue = []\n",
    "    \n",
    "    for row in range(rows):\n",
    "        for col in range(cols):\n",
    "            if grid[row][col] == 2:\n",
    "                queue.append([row, col])\n",
    "            elif grid[row][col] == 1:\n",
    "                freshOranges += 1\n",
    "    \n",
    "    queue.append([-1, -1])\n",
    "    \n",
    "    minutes_elapsed = -1\n",
    "    \n",
    "    directions = [[-1, 0], [0, 1], [1, 0], [0, -1]]\n",
    "    \n",
    "    while len(queue) > 0:\n",
    "        currNode = queue.pop(0)\n",
    "        currRow, currCol = currNode[0], currNode[1]\n",
    "        \n",
    "        if currRow == -1:\n",
    "            minutes_elapsed += 1\n",
    "            if len(queue) > 0:\n",
    "                queue.append([-1, -1])\n",
    "        else:\n",
    "            for i in range(len(directions)):\n",
    "                direction = directions[i]\n",
    "                nextRow = currRow + direction[0]\n",
    "                nextCol = currCol + direction[1]\n",
    "                \n",
    "                if nextRow < 0 or nextRow >= len(grid) or nextCol < 0 or nextCol >= len(grid[0]):\n",
    "                    continue\n",
    "                    \n",
    "                if grid[nextRow][nextCol] == 1:\n",
    "                    grid[nextRow][nextCol] = 2\n",
    "                    freshOranges -= 1\n",
    "                    queue.append([nextRow, nextCol])\n",
    "    \n",
    "    return minutes_elapsed if freshOranges == 0 else -1\n",
    "    "
   ]
  },
  {
   "cell_type": "code",
   "execution_count": 18,
   "id": "49fdc8b9",
   "metadata": {},
   "outputs": [
    {
     "data": {
      "text/plain": [
       "4"
      ]
     },
     "execution_count": 18,
     "metadata": {},
     "output_type": "execute_result"
    }
   ],
   "source": [
    "grid = [[2,1,1],[1,1,0],[0,1,1]]\n",
    "\n",
    "orangesRotting(grid)"
   ]
  },
  {
   "cell_type": "markdown",
   "id": "e037ee0e",
   "metadata": {},
   "source": [
    "# 38. Walls and gates"
   ]
  },
  {
   "cell_type": "code",
   "execution_count": 99,
   "id": "665a2c4f",
   "metadata": {},
   "outputs": [],
   "source": [
    "directions = [[-1, 0], [0, 1], [1, 0], [0, -1]]\n",
    "\n",
    "def wallsAndGates(matrix):\n",
    "    WALL = -1\n",
    "    GATE = 0\n",
    "    EMPTY = 2147483647\n",
    "    \n",
    "    rows, cols = len(matrix), len(matrix[0])\n",
    "    \n",
    "    for row in range(rows):\n",
    "        for col in range(cols):\n",
    "            if matrix[row][col] == GATE:\n",
    "                dfs(matrix, row, col, 0)\n",
    "\n",
    "def dfs(matrix, row, col, current_step):\n",
    "    if row < 0 or row >= len(matrix) or col < 0 or col >= len(matrix[0]) or matrix[row][col] < current_step:\n",
    "        return\n",
    "    \n",
    "    if matrix[row][col] == -1:\n",
    "        return\n",
    "    \n",
    "    matrix[row][col] = current_step\n",
    "    \n",
    "    for i in range(len(directions)):\n",
    "        direction = directions[i]\n",
    "        nextRow = row + direction[0]\n",
    "        nextCol = col + direction[1]\n",
    "        dfs(matrix, nextRow, nextCol, current_step + 1)\n",
    "        \n",
    "        "
   ]
  },
  {
   "cell_type": "code",
   "execution_count": 100,
   "id": "eb892093",
   "metadata": {},
   "outputs": [],
   "source": [
    "rooms = [[2147483647,-1,0,2147483647],\n",
    "         [2147483647,2147483647,2147483647,-1],\n",
    "         [2147483647,-1,2147483647,-1],\n",
    "         [0,-1,2147483647,2147483647]]\n",
    "\n",
    "wallsAndGates(rooms)"
   ]
  },
  {
   "cell_type": "code",
   "execution_count": 101,
   "id": "66c654e2",
   "metadata": {},
   "outputs": [
    {
     "data": {
      "text/plain": [
       "[[3, -1, 0, 1], [2, 2, 1, -1], [1, -1, 2, -1], [0, -1, 3, 4]]"
      ]
     },
     "execution_count": 101,
     "metadata": {},
     "output_type": "execute_result"
    }
   ],
   "source": [
    "rooms"
   ]
  },
  {
   "cell_type": "markdown",
   "id": "e69ed946",
   "metadata": {},
   "source": [
    "# 39. Single Number"
   ]
  },
  {
   "cell_type": "code",
   "execution_count": 102,
   "id": "29206a4b",
   "metadata": {},
   "outputs": [],
   "source": [
    "from collections import Counter\n",
    "\n",
    "def singleNumber(nums):\n",
    "    \n",
    "    num_counts = Counter(nums)\n",
    "    \n",
    "    for i in range(len(nums)):\n",
    "        if num_counts[nums[i]] == 1:\n",
    "            return nums[i]\n",
    "    "
   ]
  },
  {
   "cell_type": "code",
   "execution_count": 103,
   "id": "d6b5f81e",
   "metadata": {},
   "outputs": [
    {
     "data": {
      "text/plain": [
       "1"
      ]
     },
     "execution_count": 103,
     "metadata": {},
     "output_type": "execute_result"
    }
   ],
   "source": [
    "nums = [2,2,1]\n",
    "\n",
    "singleNumber(nums)"
   ]
  },
  {
   "cell_type": "markdown",
   "id": "c3834a3a",
   "metadata": {},
   "source": [
    "# 40. Linked List cycle"
   ]
  },
  {
   "cell_type": "code",
   "execution_count": 104,
   "id": "8a37878e",
   "metadata": {},
   "outputs": [],
   "source": [
    "def hasCycle(head):\n",
    "    if head is None:\n",
    "        return False\n",
    "    \n",
    "    fast_runner = head\n",
    "    slow_runner = head\n",
    "    \n",
    "    while fast_runner is not None and fast_runner.next is not None:\n",
    "        fast_runner = fast_runner.next.next\n",
    "        slow_runner = slow_runner.next\n",
    "        \n",
    "        if fast_runner == slow_runner:\n",
    "            return True\n",
    "    return False"
   ]
  },
  {
   "cell_type": "markdown",
   "id": "8b4efb66",
   "metadata": {},
   "source": [
    "# 41. Binary tree post order traversal"
   ]
  },
  {
   "cell_type": "code",
   "execution_count": 106,
   "id": "1ea75ebb",
   "metadata": {},
   "outputs": [],
   "source": [
    "def postOrder(root):\n",
    "    if root is None:\n",
    "        return\n",
    "    \n",
    "    result = []\n",
    "    \n",
    "    def dfsPostOrder(node, result):\n",
    "        if node.left is not None:\n",
    "            dfsPostOrder(node.left, result)\n",
    "        \n",
    "        if node.right is not None:\n",
    "            dfsPostOrder(node.right, result)\n",
    "        \n",
    "        result.append(node.val)\n",
    "    \n",
    "    dfsPostOrder(root)\n",
    "    return result"
   ]
  },
  {
   "cell_type": "markdown",
   "id": "0c4da25b",
   "metadata": {},
   "source": [
    "# 42. Read4"
   ]
  },
  {
   "cell_type": "code",
   "execution_count": 107,
   "id": "5a6c754b",
   "metadata": {},
   "outputs": [],
   "source": [
    "def read(buf, n):\n",
    "    \n",
    "    read_chars = 4\n",
    "    copied_chars = 0\n",
    "    buf4 = [' '] * 4\n",
    "    \n",
    "    while copied_chars < n and read_chars == 4:\n",
    "        read_chars = read4(buf4)\n",
    "        \n",
    "        for i in range(read_chars):\n",
    "            if copied_chars == n:\n",
    "                return copied_chars\n",
    "            buf[copied_chars] = buf4[i]\n",
    "            copied_chars += 1\n",
    "    return copied_chars"
   ]
  },
  {
   "cell_type": "markdown",
   "id": "5389b82e",
   "metadata": {},
   "source": [
    "# 43. Intersection of two linked lists"
   ]
  },
  {
   "cell_type": "code",
   "execution_count": 108,
   "id": "1e5204ac",
   "metadata": {},
   "outputs": [],
   "source": [
    "def getIntersectionNode(headA, headB):\n",
    "    nodes_in_b = set()\n",
    "    \n",
    "    while headB is not None:\n",
    "        nodes_in_b.add(headB)\n",
    "        headB = headB.next\n",
    "    \n",
    "    while headA is not None:\n",
    "        if headA in nodes_in_b:\n",
    "            return headA\n",
    "        headA = headA.next\n",
    "    \n",
    "    return None"
   ]
  },
  {
   "cell_type": "markdown",
   "id": "8c71b1ec",
   "metadata": {},
   "source": [
    "# 44. Missing Ranges"
   ]
  },
  {
   "cell_type": "code",
   "execution_count": 113,
   "id": "053ebbf8",
   "metadata": {},
   "outputs": [],
   "source": [
    "def findMissingRanges(nums, upper, lower):\n",
    "    \n",
    "    nums = [lower - 1] + nums + [upper + 1]\n",
    "    \n",
    "    result = []\n",
    "    \n",
    "    for i in range(1, len(nums)):\n",
    "        curr, prev = nums[i], nums[i-1]\n",
    "        if curr - prev > 1:\n",
    "            #addRange(result, prev, curr)\n",
    "            if prev + 2 == curr:\n",
    "                result.append(str(prev + 1))\n",
    "            else:\n",
    "                result.append(str(prev + 1) + '->' + str(curr - 1))\n",
    "    return result\n",
    "\n"
   ]
  },
  {
   "cell_type": "code",
   "execution_count": 114,
   "id": "75c0df44",
   "metadata": {},
   "outputs": [
    {
     "data": {
      "text/plain": [
       "['2', '4->49', '51->74']"
      ]
     },
     "execution_count": 114,
     "metadata": {},
     "output_type": "execute_result"
    }
   ],
   "source": [
    "nums = [0,1,3,50,75]\n",
    "lower = 0\n",
    "upper = 99\n",
    "\n",
    "findMissingRanges(nums, lower, upper)"
   ]
  },
  {
   "cell_type": "markdown",
   "id": "af938704",
   "metadata": {},
   "source": [
    "# 45. Excel sheet column title"
   ]
  },
  {
   "cell_type": "code",
   "execution_count": 123,
   "id": "62637d4d",
   "metadata": {},
   "outputs": [],
   "source": [
    "def convertToTitle(columnNumber):\n",
    "    \n",
    "    capitals = [chr(x) for x in range(ord('A'), ord('Z') + 1)]\n",
    "    \n",
    "    result = []\n",
    "    \n",
    "    while columnNumber > 0:\n",
    "        result.append(capitals[(columnNumber - 1) % 26])\n",
    "        columnNumber = (columnNumber - 1) // 26\n",
    "    \n",
    "    result.reverse()\n",
    "    return \"\".join(result)"
   ]
  },
  {
   "cell_type": "code",
   "execution_count": 127,
   "id": "fc6717bd",
   "metadata": {},
   "outputs": [
    {
     "data": {
      "text/plain": [
       "'AA'"
      ]
     },
     "execution_count": 127,
     "metadata": {},
     "output_type": "execute_result"
    }
   ],
   "source": [
    "convertToTitle(27)"
   ]
  },
  {
   "cell_type": "markdown",
   "id": "42b88e0f",
   "metadata": {},
   "source": [
    "# 46. Majority Element"
   ]
  },
  {
   "cell_type": "code",
   "execution_count": 128,
   "id": "e1d227cd",
   "metadata": {},
   "outputs": [],
   "source": [
    "from collections import Counter\n",
    "\n",
    "def majorityElement(nums):\n",
    "    \n",
    "    nums_map = Counter(nums)\n",
    "    \n",
    "    for i in nums:\n",
    "        if nums_map[i] > len(nums) / 2:\n",
    "            return i"
   ]
  },
  {
   "cell_type": "code",
   "execution_count": 129,
   "id": "e7ee325a",
   "metadata": {},
   "outputs": [
    {
     "data": {
      "text/plain": [
       "2"
      ]
     },
     "execution_count": 129,
     "metadata": {},
     "output_type": "execute_result"
    }
   ],
   "source": [
    "nums = [2,2,1,1,1,2,2]\n",
    "\n",
    "majorityElement(nums)"
   ]
  },
  {
   "cell_type": "code",
   "execution_count": 131,
   "id": "96ee7eab",
   "metadata": {},
   "outputs": [
    {
     "data": {
      "text/plain": [
       "'A'"
      ]
     },
     "execution_count": 131,
     "metadata": {},
     "output_type": "execute_result"
    }
   ],
   "source": [
    "chr(65)"
   ]
  },
  {
   "cell_type": "markdown",
   "id": "58bbe4ae",
   "metadata": {},
   "source": [
    "# 47. Excel sheet column number"
   ]
  },
  {
   "cell_type": "code",
   "execution_count": 132,
   "id": "5166ce56",
   "metadata": {},
   "outputs": [],
   "source": [
    "def titleToNumber(columnTitle):\n",
    "    alpha_map = {chr(i + 65): i + 1 for i in range(26)}\n",
    "    \n",
    "    result = 0\n",
    "    \n",
    "    n = len(columnTitle)\n",
    "    \n",
    "    for i in range(n):\n",
    "        current_char = columnTitle[n-1-i]\n",
    "        result += (alpha_map[current_char] * (26 ** i))\n",
    "    return result"
   ]
  },
  {
   "cell_type": "code",
   "execution_count": 133,
   "id": "081f2077",
   "metadata": {},
   "outputs": [
    {
     "data": {
      "text/plain": [
       "28"
      ]
     },
     "execution_count": 133,
     "metadata": {},
     "output_type": "execute_result"
    }
   ],
   "source": [
    "columnTitle = \"AB\"\n",
    "\n",
    "titleToNumber(columnTitle)"
   ]
  },
  {
   "cell_type": "markdown",
   "id": "352b96f8",
   "metadata": {},
   "source": [
    "# 48. Happy Number"
   ]
  },
  {
   "cell_type": "code",
   "execution_count": 134,
   "id": "626bcc0b",
   "metadata": {},
   "outputs": [],
   "source": [
    "def isHappy(n):\n",
    "    \n",
    "    def getNext(number):\n",
    "        total_sum = 0\n",
    "        \n",
    "        while number > 0:\n",
    "            number, digit = divmod(number, 10)\n",
    "            total_sum += digit ** 2\n",
    "        return total_sum\n",
    "    \n",
    "    slow_runner = n\n",
    "    fast_runner = getNext(n)\n",
    "    \n",
    "    while fast_runner != slow_runner and fast_runner != 1:\n",
    "        fast_runner = getNext(getNext(fast_runner))\n",
    "        slow_runner = getNext(slow_runner)\n",
    "    \n",
    "    return fast_runner == 1"
   ]
  },
  {
   "cell_type": "code",
   "execution_count": 135,
   "id": "35fa174b",
   "metadata": {},
   "outputs": [
    {
     "data": {
      "text/plain": [
       "True"
      ]
     },
     "execution_count": 135,
     "metadata": {},
     "output_type": "execute_result"
    }
   ],
   "source": [
    "n = 19\n",
    "\n",
    "isHappy(n)"
   ]
  },
  {
   "cell_type": "markdown",
   "id": "dc711be6",
   "metadata": {},
   "source": [
    "# 49. Remove Linked List element"
   ]
  },
  {
   "cell_type": "code",
   "execution_count": 137,
   "id": "a560f5ad",
   "metadata": {},
   "outputs": [],
   "source": [
    "def removeElements(head, val):\n",
    "    sentinel = ListNode(0)\n",
    "    sentinel.next = head\n",
    "    \n",
    "    prev = sentinel\n",
    "    curr = head\n",
    "    \n",
    "    while curr is not None:\n",
    "        if curr.val == val:\n",
    "            prev.next = curr.next\n",
    "        else:\n",
    "            prev = curr\n",
    "        curr = curr.next\n",
    "    return sentinel.next"
   ]
  },
  {
   "cell_type": "markdown",
   "id": "476038ea",
   "metadata": {},
   "source": [
    "# 50. Isomorphic Strings"
   ]
  },
  {
   "cell_type": "code",
   "execution_count": 144,
   "id": "2ccbb7e4",
   "metadata": {},
   "outputs": [],
   "source": [
    "def isIsomorphic(s,t):\n",
    "    return transformString(s) == transformString(t)\n",
    "\n",
    "def transformString(s):\n",
    "    index_mapping = {}\n",
    "    result = []\n",
    "    \n",
    "    for i, c in enumerate(s):\n",
    "        if c not in index_mapping:\n",
    "            index_mapping[c] = i\n",
    "        result.append(str(index_mapping[c]))\n",
    "    return \"\".join(result)"
   ]
  },
  {
   "cell_type": "code",
   "execution_count": 145,
   "id": "940d0d49",
   "metadata": {},
   "outputs": [
    {
     "data": {
      "text/plain": [
       "True"
      ]
     },
     "execution_count": 145,
     "metadata": {},
     "output_type": "execute_result"
    }
   ],
   "source": [
    "s = \"egg\" \n",
    "t = \"add\"\n",
    "\n",
    "isIsomorphic(s, t)\n"
   ]
  },
  {
   "cell_type": "code",
   "execution_count": 147,
   "id": "1e9d43f4",
   "metadata": {},
   "outputs": [
    {
     "data": {
      "text/plain": [
       "False"
      ]
     },
     "execution_count": 147,
     "metadata": {},
     "output_type": "execute_result"
    }
   ],
   "source": [
    "s = 'egg'\n",
    "t = 'ddd'\n",
    "\n",
    "isIsomorphic(s, t)\n"
   ]
  },
  {
   "cell_type": "markdown",
   "id": "2028f77c",
   "metadata": {},
   "source": [
    "# 51. Contains Duplicate II\n"
   ]
  },
  {
   "cell_type": "code",
   "execution_count": 148,
   "id": "26543fb8",
   "metadata": {},
   "outputs": [],
   "source": [
    "def containsNearbyDuplicate(nums, k):\n",
    "    index_map = {}\n",
    "    \n",
    "    for i, c in enumerate(nums):\n",
    "        if c in index_map and i - index_map[c] <= k:\n",
    "            return True\n",
    "        index_map[c] = i\n",
    "    return False"
   ]
  },
  {
   "cell_type": "code",
   "execution_count": 149,
   "id": "d281b5c0",
   "metadata": {},
   "outputs": [
    {
     "data": {
      "text/plain": [
       "True"
      ]
     },
     "execution_count": 149,
     "metadata": {},
     "output_type": "execute_result"
    }
   ],
   "source": [
    "nums = [1,2,3,1]\n",
    "k = 3\n",
    "\n",
    "containsNearbyDuplicate(nums, k)"
   ]
  },
  {
   "cell_type": "markdown",
   "id": "d017486d",
   "metadata": {},
   "source": [
    "# 52. Invert Binary tree"
   ]
  },
  {
   "cell_type": "code",
   "execution_count": 150,
   "id": "f831a89f",
   "metadata": {},
   "outputs": [],
   "source": [
    "def invertTree(root):\n",
    "    if root is None:\n",
    "        return None\n",
    "    \n",
    "    left = invertTree(root.left)\n",
    "    right = invertTree(root.right)\n",
    "    \n",
    "    root.left = right\n",
    "    root.right = left\n",
    "    \n",
    "    return root"
   ]
  },
  {
   "cell_type": "markdown",
   "id": "70ec4b46",
   "metadata": {},
   "source": [
    "# 53. Summary ranges"
   ]
  },
  {
   "cell_type": "code",
   "execution_count": 153,
   "id": "09c2b26d",
   "metadata": {},
   "outputs": [],
   "source": [
    "def summaryRanges(nums):\n",
    "    ans = []\n",
    "    pointer = 0\n",
    "    \n",
    "    for i, c in enumerate(nums):\n",
    "        if i == len(nums) - 1 or nums[i + 1] - nums[i] > 1:\n",
    "            \n",
    "            ans.append(str(nums[pointer]) + '->' + str(c) if nums[pointer] != c else str(c))\n",
    "            pointer = i + 1\n",
    "    \n",
    "    return ans"
   ]
  },
  {
   "cell_type": "code",
   "execution_count": 154,
   "id": "3d6943d9",
   "metadata": {},
   "outputs": [
    {
     "data": {
      "text/plain": [
       "['0->2', '4->5', '7']"
      ]
     },
     "execution_count": 154,
     "metadata": {},
     "output_type": "execute_result"
    }
   ],
   "source": [
    "nums = [0,1,2,4,5,7]\n",
    "\n",
    "summaryRanges(nums)"
   ]
  },
  {
   "cell_type": "markdown",
   "id": "c9533b7f",
   "metadata": {},
   "source": [
    "# 54. Palindrome Linked List"
   ]
  },
  {
   "cell_type": "code",
   "execution_count": 155,
   "id": "e9db7773",
   "metadata": {},
   "outputs": [],
   "source": [
    "def isPalindrome(head):\n",
    "    \n",
    "    vals = []\n",
    "    \n",
    "    curr = head\n",
    "    \n",
    "    while curr is not None:\n",
    "        vals.append(curr.val)\n",
    "        curr = curr.next\n",
    "    \n",
    "    return vals == vals[::-1]"
   ]
  },
  {
   "cell_type": "markdown",
   "id": "4b65b8d6",
   "metadata": {},
   "source": [
    "# 55. Shortest word distance"
   ]
  },
  {
   "cell_type": "code",
   "execution_count": 156,
   "id": "d5a2e4c8",
   "metadata": {},
   "outputs": [],
   "source": [
    "def shortestDistance(wordsDict, word1, word2):\n",
    "    \n",
    "    shortest = len(wordsDict)\n",
    "    index = None\n",
    "    found = None\n",
    "    \n",
    "    for i, word in enumerate(wordsDict):\n",
    "        if word == word1 or word == word2:\n",
    "            if found is not None:\n",
    "                if word != found:\n",
    "                    shortest = min(shortest, i - index)\n",
    "            found = word\n",
    "            index = i\n",
    "    return shortest\n",
    "                "
   ]
  },
  {
   "cell_type": "code",
   "execution_count": 158,
   "id": "e7f64448",
   "metadata": {},
   "outputs": [
    {
     "data": {
      "text/plain": [
       "1"
      ]
     },
     "execution_count": 158,
     "metadata": {},
     "output_type": "execute_result"
    }
   ],
   "source": [
    "wordsDict = [\"practice\", \"makes\", \"perfect\", \"coding\", \"makes\"]\n",
    "word1 = \"coding\"\n",
    "word2 = \"makes\"\n",
    "\n",
    "shortestDistance(wordsDict, word1, word2)"
   ]
  },
  {
   "cell_type": "markdown",
   "id": "8fd3cb36",
   "metadata": {},
   "source": [
    "# 56. Custom sort string"
   ]
  },
  {
   "cell_type": "code",
   "execution_count": 161,
   "id": "3175b9a5",
   "metadata": {},
   "outputs": [],
   "source": [
    "from collections import Counter\n",
    "    \n",
    "def customSortString(order, s):\n",
    "    count_s = Counter(s)\n",
    "    \n",
    "    ans = []\n",
    "    \n",
    "    for c in order:\n",
    "        ans.append(c * count_s[c])\n",
    "        count_s[c] = 0\n",
    "    \n",
    "    for c in count_s:\n",
    "        ans.append(c * count_s[c])\n",
    "    \n",
    "    return \"\".join(ans)"
   ]
  },
  {
   "cell_type": "code",
   "execution_count": 162,
   "id": "f515ced8",
   "metadata": {},
   "outputs": [
    {
     "data": {
      "text/plain": [
       "'cbad'"
      ]
     },
     "execution_count": 162,
     "metadata": {},
     "output_type": "execute_result"
    }
   ],
   "source": [
    "order = \"cbafg\"\n",
    "s = \"abcd\"\n",
    "\n",
    "customSortString(order, s)"
   ]
  },
  {
   "cell_type": "markdown",
   "id": "84782215",
   "metadata": {},
   "source": [
    "# 57. Next greater element"
   ]
  },
  {
   "cell_type": "code",
   "execution_count": 163,
   "id": "43f27c55",
   "metadata": {},
   "outputs": [],
   "source": [
    "def nextGreaterElement(nums1, nums2):\n",
    "    next_num = {}\n",
    "    stack = []\n",
    "    \n",
    "    for num2 in nums2:\n",
    "        while len(stack) > 0 and num2 > stack[-1]:\n",
    "            num1 = stack.pop()\n",
    "            next_num[num1] = num2\n",
    "        stack.append(num2)\n",
    "    \n",
    "    while len(stack) > 0:\n",
    "        num1 = stack.pop()\n",
    "        next_num[num1] = -1\n",
    "    \n",
    "    return [next_num[num1] for num1 in nums1]"
   ]
  },
  {
   "cell_type": "code",
   "execution_count": 164,
   "id": "446baadd",
   "metadata": {},
   "outputs": [
    {
     "data": {
      "text/plain": [
       "[-1, 3, -1]"
      ]
     },
     "execution_count": 164,
     "metadata": {},
     "output_type": "execute_result"
    }
   ],
   "source": [
    "nums1 = [4,1,2]\n",
    "nums2 = [1,3,4,2]\n",
    "\n",
    "nextGreaterElement(nums1, nums2)\n"
   ]
  },
  {
   "cell_type": "markdown",
   "id": "2cc0637d",
   "metadata": {},
   "source": [
    "# 58. Longest Continuous Increasing Subsequence"
   ]
  },
  {
   "cell_type": "code",
   "execution_count": 165,
   "id": "822e6143",
   "metadata": {},
   "outputs": [],
   "source": [
    "def findLengthOfLCIS(nums):\n",
    "    if len(nums) == 1:\n",
    "        return 1\n",
    "    \n",
    "    ans = 0\n",
    "    left = 0\n",
    "    \n",
    "    for right in range(1, len(nums)):\n",
    "        if nums[right - 1] >= nums[right]:\n",
    "            left = right\n",
    "        ans = max(ans, right - left + 1)\n",
    "    \n",
    "    return ans"
   ]
  },
  {
   "cell_type": "code",
   "execution_count": 166,
   "id": "9433e3d9",
   "metadata": {},
   "outputs": [
    {
     "data": {
      "text/plain": [
       "3"
      ]
     },
     "execution_count": 166,
     "metadata": {},
     "output_type": "execute_result"
    }
   ],
   "source": [
    "nums = [1,3,5,4,7]\n",
    "\n",
    "findLengthOfLCIS(nums)"
   ]
  },
  {
   "cell_type": "markdown",
   "id": "30e1db35",
   "metadata": {},
   "source": [
    "# 59. Split a String in Balanced Strings"
   ]
  },
  {
   "cell_type": "code",
   "execution_count": 167,
   "id": "e5bf4490",
   "metadata": {},
   "outputs": [],
   "source": [
    "def balancedStringSplit(s):\n",
    "    cnt = 0\n",
    "    ans = 0\n",
    "    \n",
    "    for i in s:\n",
    "        if i == 'L':\n",
    "            cnt += 1\n",
    "        elif i == 'R':\n",
    "            cnt -= 1\n",
    "        if cnt == 0:\n",
    "            ans += 1\n",
    "    \n",
    "    return ans"
   ]
  },
  {
   "cell_type": "code",
   "execution_count": 168,
   "id": "a68921b0",
   "metadata": {},
   "outputs": [
    {
     "data": {
      "text/plain": [
       "4"
      ]
     },
     "execution_count": 168,
     "metadata": {},
     "output_type": "execute_result"
    }
   ],
   "source": [
    "s = \"RLRRLLRLRL\"\n",
    "\n",
    "balancedStringSplit(s)"
   ]
  },
  {
   "cell_type": "markdown",
   "id": "7e95b40b",
   "metadata": {},
   "source": [
    "# 60. Find common characters"
   ]
  },
  {
   "cell_type": "code",
   "execution_count": 170,
   "id": "854d38b5",
   "metadata": {},
   "outputs": [],
   "source": [
    "def findCommonChars(words):\n",
    "    \n",
    "    res = Counter(words[0])\n",
    "    \n",
    "    for i in words:\n",
    "        res &= Counter(i)\n",
    "    \n",
    "    return list(res.elements())"
   ]
  },
  {
   "cell_type": "code",
   "execution_count": 171,
   "id": "757f81e7",
   "metadata": {},
   "outputs": [
    {
     "data": {
      "text/plain": [
       "['a', 'e', 'l', 'l']"
      ]
     },
     "execution_count": 171,
     "metadata": {},
     "output_type": "execute_result"
    }
   ],
   "source": [
    "words = ['abella', 'aballe', 'citadell']\n",
    "\n",
    "findCommonChars(words)"
   ]
  },
  {
   "cell_type": "markdown",
   "id": "d63918cc",
   "metadata": {},
   "source": [
    "# 61. Nestedlist sum"
   ]
  },
  {
   "cell_type": "code",
   "execution_count": 172,
   "id": "4464da0e",
   "metadata": {},
   "outputs": [],
   "source": [
    "def depthSumInverse(nestedList):\n",
    "    total_sum = 0\n",
    "    level_sum = 0\n",
    "    \n",
    "    while len(nestedList) > 0:\n",
    "        next_level_list = []\n",
    "        \n",
    "        for x in nestedList:\n",
    "            if x.isInteger():\n",
    "                level_sum += x.getInteger()\n",
    "            else:\n",
    "                for y in x.getList():\n",
    "                    next_level_list.append(y)\n",
    "        total_sum += level_sum\n",
    "        nestedList = next_level_list\n",
    "    return total_sum"
   ]
  },
  {
   "cell_type": "markdown",
   "id": "fad15e59",
   "metadata": {},
   "source": [
    "# 62. Sorted squares"
   ]
  },
  {
   "cell_type": "code",
   "execution_count": 173,
   "id": "949db6ab",
   "metadata": {},
   "outputs": [],
   "source": [
    "def sortedSquares(nums):\n",
    "    n = len(nums)\n",
    "    result = [0] * n\n",
    "    left = 0\n",
    "    right = n - 1\n",
    "    \n",
    "    for i in range(n-1, -1, -1):\n",
    "        if abs(nums[left]) < abs(nums[right]):\n",
    "            square = nums[right]\n",
    "            right -= 1\n",
    "        else:\n",
    "            square = nums[left]\n",
    "            left += 1\n",
    "        \n",
    "        result[i] = square * square\n",
    "    \n",
    "    return result\n",
    "    \n",
    "    "
   ]
  },
  {
   "cell_type": "code",
   "execution_count": 174,
   "id": "43870fb8",
   "metadata": {},
   "outputs": [
    {
     "data": {
      "text/plain": [
       "[0, 1, 9, 16, 100]"
      ]
     },
     "execution_count": 174,
     "metadata": {},
     "output_type": "execute_result"
    }
   ],
   "source": [
    "nums = [-4,-1,0,3,10]\n",
    "\n",
    "sortedSquares(nums)"
   ]
  },
  {
   "cell_type": "markdown",
   "id": "a351e299",
   "metadata": {},
   "source": [
    "# 63. Maximum Size Subarray Sum Equals k\n",
    "\n",
    "## IMP"
   ]
  },
  {
   "cell_type": "code",
   "execution_count": 177,
   "id": "b612aa2b",
   "metadata": {},
   "outputs": [],
   "source": [
    "def maxSubArrayLen(nums, k):\n",
    "    prefix_sum = 0\n",
    "    longest = 0\n",
    "    indices = {}\n",
    "    \n",
    "    for i, num in enumerate(nums):\n",
    "        prefix_sum += num\n",
    "        \n",
    "        if prefix_sum == k:\n",
    "            longest = i + 1\n",
    "        \n",
    "        if prefix_sum - k in indices:\n",
    "            longest = max(longest, i - indices[prefix_sum - k])\n",
    "        \n",
    "        if prefix_sum not in indices:\n",
    "            indices[prefix_sum] = i\n",
    "    \n",
    "    return longest"
   ]
  },
  {
   "cell_type": "code",
   "execution_count": 178,
   "id": "c9d32768",
   "metadata": {},
   "outputs": [
    {
     "data": {
      "text/plain": [
       "4"
      ]
     },
     "execution_count": 178,
     "metadata": {},
     "output_type": "execute_result"
    }
   ],
   "source": [
    "nums = [1,-1,5,-2,3]\n",
    "k = 3\n",
    "\n",
    "maxSubArrayLen(nums, k)"
   ]
  },
  {
   "cell_type": "markdown",
   "id": "d8c808f3",
   "metadata": {},
   "source": [
    "# 64. Subarray Sum Equals K\n",
    "\n",
    "## IMP"
   ]
  },
  {
   "cell_type": "code",
   "execution_count": 1,
   "id": "92cf4fe8",
   "metadata": {},
   "outputs": [],
   "source": [
    "from collections import defaultdict\n",
    "\n",
    "def subarraySum(nums, k):\n",
    "    count = 0\n",
    "    n = len(nums)\n",
    "    curr_sum = 0\n",
    "    dict_cumsum = defaultdict(int)\n",
    "    \n",
    "    for i in range(n):\n",
    "        curr_sum += nums[i]\n",
    "        \n",
    "        if curr_sum == k:\n",
    "            count += 1\n",
    "        \n",
    "        if curr_sum - k in dict_cumsum:\n",
    "            count += dict_cumsum[curr_sum - k]\n",
    "        \n",
    "        dict_cumsum[curr_sum] += 1\n",
    "    \n",
    "    return count"
   ]
  },
  {
   "cell_type": "code",
   "execution_count": 2,
   "id": "59a2094c",
   "metadata": {},
   "outputs": [
    {
     "data": {
      "text/plain": [
       "2"
      ]
     },
     "execution_count": 2,
     "metadata": {},
     "output_type": "execute_result"
    }
   ],
   "source": [
    "nums = [1,1,1]\n",
    "k = 2\n",
    "\n",
    "subarraySum(nums, k)"
   ]
  },
  {
   "cell_type": "markdown",
   "id": "7524e933",
   "metadata": {},
   "source": [
    "# 65. Linked List Sum"
   ]
  },
  {
   "cell_type": "code",
   "execution_count": 10,
   "id": "cc5cd0f1",
   "metadata": {},
   "outputs": [],
   "source": [
    "def addTwoNumbers(l1, l2):\n",
    "    dummyHead = ListNode(0)\n",
    "    curr = dummyHead\n",
    "    carry = 0\n",
    "    \n",
    "    while l1 != None or l2 != None or carry != 0:\n",
    "        l1val = l1.val if l1 else None\n",
    "        l2val = l2.val if l2 else None\n",
    "        columnSum = (l1val + l2val + carry) % 10\n",
    "        carry = (l1val + l2val + carry) // 10\n",
    "        newNode = ListNode(columnSum)\n",
    "        curr.next = newNode\n",
    "        curr = newNode\n",
    "        l1 = l1.next if l1 else None\n",
    "        l2 = l2.next if l2 else None\n",
    "    return dummyHead.next"
   ]
  },
  {
   "cell_type": "markdown",
   "id": "55e5f90e",
   "metadata": {},
   "source": [
    "# 66. Leftmost Column with at Least a One"
   ]
  },
  {
   "cell_type": "code",
   "execution_count": 11,
   "id": "1f0a056d",
   "metadata": {},
   "outputs": [],
   "source": [
    "import math\n",
    "\n",
    "def leftMostColumnWithOne(binaryMatrix):\n",
    "    rows, cols = binaryMatrix.dimensions()\n",
    "    smallest_index = cols\n",
    "    \n",
    "    for row in range(rows):\n",
    "        low = 0\n",
    "        high = cols - 1\n",
    "        \n",
    "        while low < high:\n",
    "            mid = math.floor((low + high)/2)\n",
    "            \n",
    "            if binaryMatrix.get(row, mid) == 0:\n",
    "                low = mid + 1\n",
    "            else:\n",
    "                high = mid\n",
    "        \n",
    "        if binaryMatrix.get(row, low) == 1:\n",
    "            smallest_index = min(smallest_index, low)\n",
    "    \n",
    "    return smallest_index if smallest_index != cols else -1"
   ]
  },
  {
   "cell_type": "markdown",
   "id": "84da4127",
   "metadata": {},
   "source": [
    "# 67. Reverse vowels"
   ]
  },
  {
   "cell_type": "code",
   "execution_count": 12,
   "id": "125dd1d5",
   "metadata": {},
   "outputs": [],
   "source": [
    "def reverseVowels(s: str) -> str:\n",
    "    vowels = ['a', 'e', 'i', 'o', 'u', 'A', 'E', 'I', 'O', 'U']\n",
    "\n",
    "    s = [i for i in s]\n",
    "\n",
    "    left = 0\n",
    "    right = len(s) - 1\n",
    "\n",
    "    while left < right:\n",
    "        left_val, right_val = s[left], s[right]\n",
    "\n",
    "        if left_val in vowels and right_val in vowels:\n",
    "            s[left], s[right] = s[right], s[left]\n",
    "            left += 1\n",
    "            right -= 1\n",
    "        elif left_val not in vowels and right_val not in vowels:\n",
    "            left += 1\n",
    "            right -= 1\n",
    "        elif left_val in vowels and right_val not in vowels:\n",
    "            right -= 1\n",
    "        else:\n",
    "            left += 1\n",
    "\n",
    "    return \"\".join(s)"
   ]
  },
  {
   "cell_type": "code",
   "execution_count": 13,
   "id": "6e4906ae",
   "metadata": {},
   "outputs": [
    {
     "data": {
      "text/plain": [
       "'leotcede'"
      ]
     },
     "execution_count": 13,
     "metadata": {},
     "output_type": "execute_result"
    }
   ],
   "source": [
    "s = \"leetcode\"\n",
    "reverseVowels(s)"
   ]
  },
  {
   "cell_type": "markdown",
   "id": "d2f47d47",
   "metadata": {},
   "source": [
    "# 68. Find Largest Value in Each Tree Row"
   ]
  },
  {
   "cell_type": "code",
   "execution_count": 14,
   "id": "9ea1a8e7",
   "metadata": {},
   "outputs": [],
   "source": [
    "def largestValues(root):\n",
    "    result = []\n",
    "    \n",
    "    if root is None:\n",
    "        return result\n",
    "    \n",
    "    queue = [root]\n",
    "    \n",
    "    while queue:\n",
    "        result.append(max(x.val for x in queue))\n",
    "        for _ in range(len(queue)):\n",
    "            currNode = queue.pop(0)\n",
    "            if currNode.left is not None:\n",
    "                queue.append(currNode.left)\n",
    "            if currNode.right is not None:\n",
    "                queue.append(currNode.right)\n",
    "    return result"
   ]
  },
  {
   "cell_type": "markdown",
   "id": "f323777e",
   "metadata": {},
   "source": [
    "# 69. Merge two linked lists"
   ]
  },
  {
   "cell_type": "code",
   "execution_count": 15,
   "id": "40bc1eb2",
   "metadata": {},
   "outputs": [],
   "source": [
    "def mergeTwoLists(list1, list2):\n",
    "    if list1 is None:\n",
    "        return list2\n",
    "    elif list2 is None:\n",
    "        return list1\n",
    "    elif list1.val < list2.val:\n",
    "        list1.next = self.mergeTwoLists(list1.next, list2)\n",
    "        return list1\n",
    "    else:\n",
    "        list2.next = self.mergeTwoLists(list1, list2.next)\n",
    "        return list2\n"
   ]
  },
  {
   "cell_type": "markdown",
   "id": "29626168",
   "metadata": {},
   "source": [
    "# 70. Minimum Time Visiting All Points"
   ]
  },
  {
   "cell_type": "code",
   "execution_count": 16,
   "id": "8be7be3e",
   "metadata": {},
   "outputs": [],
   "source": [
    "def minTimeToVisitAllPoints(points):\n",
    "    x1, y1 = points.pop()\n",
    "    result = 0\n",
    "    \n",
    "    while points:\n",
    "        x2, y2 = points.pop()\n",
    "        result += max(abs(y2 - y1), abs(x2 - x1))\n",
    "        x1, y1 = x2, y2\n",
    "    return result"
   ]
  },
  {
   "cell_type": "code",
   "execution_count": 17,
   "id": "b45252bf",
   "metadata": {},
   "outputs": [
    {
     "data": {
      "text/plain": [
       "7"
      ]
     },
     "execution_count": 17,
     "metadata": {},
     "output_type": "execute_result"
    }
   ],
   "source": [
    "points = [[1,1],[3,4],[-1,0]]\n",
    "\n",
    "minTimeToVisitAllPoints(points)"
   ]
  },
  {
   "cell_type": "markdown",
   "id": "7dbb4302",
   "metadata": {},
   "source": [
    "# 71. Buddy strings"
   ]
  },
  {
   "cell_type": "code",
   "execution_count": 20,
   "id": "fc8ba874",
   "metadata": {},
   "outputs": [],
   "source": [
    "def buddyStrings(s, goal):\n",
    "    if len(s) != len(goal):\n",
    "        return False\n",
    "    \n",
    "    if s == goal:\n",
    "        seen = set()\n",
    "        for c in s:\n",
    "            if c in seen:\n",
    "                return True\n",
    "            seen.add(c)\n",
    "        return False\n",
    "    \n",
    "    pairs = []\n",
    "    \n",
    "    for a,b in zip(s, goal):\n",
    "        if a != b:\n",
    "            pairs.append((a,b))\n",
    "        \n",
    "        if len(pairs) >= 3:\n",
    "            return False\n",
    "    print(pairs)\n",
    "    \n",
    "    return len(pairs) == 2 and pairs[0] == pairs[1][::-1]"
   ]
  },
  {
   "cell_type": "code",
   "execution_count": 21,
   "id": "feae15d6",
   "metadata": {},
   "outputs": [
    {
     "name": "stdout",
     "output_type": "stream",
     "text": [
      "[('a', 'c'), ('c', 'a')]\n"
     ]
    },
    {
     "data": {
      "text/plain": [
       "True"
      ]
     },
     "execution_count": 21,
     "metadata": {},
     "output_type": "execute_result"
    }
   ],
   "source": [
    "s = 'abcd'\n",
    "goal = 'cbad'\n",
    "\n",
    "buddyStrings(s, goal)"
   ]
  },
  {
   "cell_type": "markdown",
   "id": "7f992ad8",
   "metadata": {},
   "source": [
    "# 72. Diagonal Sort\n",
    "\n",
    "T --> O(rows * cols * log(min(rows, cols))\n",
    "\n",
    "S --> O(rows * cols)"
   ]
  },
  {
   "cell_type": "code",
   "execution_count": 25,
   "id": "db8234a9",
   "metadata": {},
   "outputs": [],
   "source": [
    "import heapq\n",
    "\n",
    "def diagonalSort(mat):\n",
    "    rows, cols = len(mat), len(mat[0])\n",
    "    diagonals = defaultdict(list)\n",
    "    \n",
    "    for row in range(rows):\n",
    "        for col in range(cols):\n",
    "            diagonals[row - col].append(mat[row][col])\n",
    "    \n",
    "    for diagonal in diagonals.values():\n",
    "        heapq.heapify(diagonal)\n",
    "    \n",
    "    for row in range(rows):\n",
    "        for col in range(cols):\n",
    "            value = heapq.heappop(diagonals[row - col])\n",
    "            mat[row][col] = value\n",
    "    \n",
    "    return mat"
   ]
  },
  {
   "cell_type": "code",
   "execution_count": 26,
   "id": "1d7abc92",
   "metadata": {},
   "outputs": [
    {
     "data": {
      "text/plain": [
       "[[1, 1, 1, 1], [1, 2, 2, 2], [1, 2, 3, 3]]"
      ]
     },
     "execution_count": 26,
     "metadata": {},
     "output_type": "execute_result"
    }
   ],
   "source": [
    "mat = [[3,3,1,1],[2,2,1,2],[1,1,1,2]]\n",
    "\n",
    "diagonalSort(mat)"
   ]
  },
  {
   "cell_type": "markdown",
   "id": "6e37ef5b",
   "metadata": {},
   "source": [
    "# 73. Binary tree vertical order traversal\n",
    "\n",
    "## IMP"
   ]
  },
  {
   "cell_type": "code",
   "execution_count": 1,
   "id": "e8e83dae",
   "metadata": {},
   "outputs": [],
   "source": [
    "def verticalOrder(root):\n",
    "    result = defaultdict(list)\n",
    "    queue = []\n",
    "    queue.append([root, 0])\n",
    "    \n",
    "    while len(queue) > 0:\n",
    "        currNode = queue.pop(0)\n",
    "        node = currNode[0]\n",
    "        column = currNode[1]\n",
    "        \n",
    "        if node is not None:\n",
    "            result[column].append(node.val)\n",
    "            queue.append([node.left, column - 1])\n",
    "            queue.append([node.right, column + 1])\n",
    "    \n",
    "    return [result[x] for x in sorted(result.keys())]"
   ]
  },
  {
   "cell_type": "markdown",
   "id": "1f7fa754",
   "metadata": {},
   "source": [
    "# 74. Lowest common ancestor"
   ]
  },
  {
   "cell_type": "code",
   "execution_count": 2,
   "id": "8b7f4618",
   "metadata": {},
   "outputs": [],
   "source": [
    "def lowestCommonAncestor(p,q):\n",
    "    p1, p2 = p, q\n",
    "    \n",
    "    while p1 != p2:\n",
    "        if p1.parent is not None:\n",
    "            p1 = p1.parent\n",
    "        else:\n",
    "            p1 = q\n",
    "        \n",
    "        if p2.parent is not None:\n",
    "            p2 = p2.parent\n",
    "        else:\n",
    "            p2 = p\n",
    "    return p1"
   ]
  },
  {
   "cell_type": "markdown",
   "id": "c058214c",
   "metadata": {},
   "source": [
    "# 75. Min depth of a binary tree"
   ]
  },
  {
   "cell_type": "code",
   "execution_count": 4,
   "id": "41413911",
   "metadata": {},
   "outputs": [],
   "source": [
    "def minDepth(root):\n",
    "    if not root:\n",
    "        return 0\n",
    "    \n",
    "    children = [root.left, root.right]\n",
    "    \n",
    "    if not any(children):\n",
    "        return 1\n",
    "    \n",
    "    min_depth = float('inf')\n",
    "    \n",
    "    for c in children:\n",
    "        if c is not None:\n",
    "            min_depth = min(min_depth, minDepth(c))\n",
    "    \n",
    "    return min_depth"
   ]
  },
  {
   "cell_type": "markdown",
   "id": "718b4eee",
   "metadata": {},
   "source": [
    "# 76. Goat latin"
   ]
  },
  {
   "cell_type": "code",
   "execution_count": 9,
   "id": "026439ae",
   "metadata": {},
   "outputs": [],
   "source": [
    "def toGoatLatin(sentence: str) -> str:\n",
    "    vowels = ['a', 'e', 'i', 'o', 'u', 'A', 'E', 'I', 'O', 'U']\n",
    "\n",
    "    sentence = sentence.split(' ')\n",
    "\n",
    "\n",
    "    for i, word in enumerate(sentence):\n",
    "        if word[0] in vowels:\n",
    "            word = word + 'ma'\n",
    "        if word[0] not in vowels:\n",
    "            word = word[1:] + word[0] + 'ma'\n",
    "        word = word + 'a' * (i + 1)\n",
    "        sentence[i] = word\n",
    "\n",
    "    return \" \".join(sentence)\n"
   ]
  },
  {
   "cell_type": "code",
   "execution_count": 10,
   "id": "3c5f25a9",
   "metadata": {},
   "outputs": [
    {
     "data": {
      "text/plain": [
       "'Imaa peaksmaaa oatGmaaaa atinLmaaaaa'"
      ]
     },
     "execution_count": 10,
     "metadata": {},
     "output_type": "execute_result"
    }
   ],
   "source": [
    "sentence = \"I speak Goat Latin\"\n",
    "\n",
    "toGoatLatin(sentence)"
   ]
  },
  {
   "cell_type": "markdown",
   "id": "320c0457",
   "metadata": {},
   "source": [
    "# 77. Tribonacci"
   ]
  },
  {
   "cell_type": "code",
   "execution_count": 10,
   "id": "a38977ca",
   "metadata": {},
   "outputs": [],
   "source": [
    "def tribonacci(n):\n",
    "    if n < 3:\n",
    "        return 1 if n else 0\n",
    "    \n",
    "    first = 0\n",
    "    second = 1\n",
    "    third = 1\n",
    "    \n",
    "    for _ in range(n-2):\n",
    "        first, second, third = second, third, first + second + third\n",
    "    \n",
    "    return third"
   ]
  },
  {
   "cell_type": "code",
   "execution_count": 11,
   "id": "2c2fcdc7",
   "metadata": {},
   "outputs": [
    {
     "data": {
      "text/plain": [
       "4"
      ]
     },
     "execution_count": 11,
     "metadata": {},
     "output_type": "execute_result"
    }
   ],
   "source": [
    "tribonacci(4)"
   ]
  },
  {
   "cell_type": "code",
   "execution_count": 12,
   "id": "469d2316",
   "metadata": {},
   "outputs": [
    {
     "data": {
      "text/plain": [
       "1389537"
      ]
     },
     "execution_count": 12,
     "metadata": {},
     "output_type": "execute_result"
    }
   ],
   "source": [
    "tribonacci(25)"
   ]
  },
  {
   "cell_type": "markdown",
   "id": "4d185919",
   "metadata": {},
   "source": [
    "# 78. Array strings are equal\n",
    "\n",
    "T --> O(N*K) (N is number of words, K is max length of the string in it)\n",
    "\n",
    "S --> O(N*K)"
   ]
  },
  {
   "cell_type": "code",
   "execution_count": 13,
   "id": "ef52aac5",
   "metadata": {},
   "outputs": [],
   "source": [
    "def arrayStringsAreEqual(word1, word2) -> bool:\n",
    "    return \"\".join(word1) == \"\".join(word2)"
   ]
  },
  {
   "cell_type": "markdown",
   "id": "98349257",
   "metadata": {},
   "source": [
    "# 79. Randomly output the index of a given target number"
   ]
  },
  {
   "cell_type": "code",
   "execution_count": 15,
   "id": "f2d13647",
   "metadata": {},
   "outputs": [],
   "source": [
    "class Solution:\n",
    "\n",
    "    def __init__(self, nums):\n",
    "        self.hashmap = defaultdict(list)\n",
    "        \n",
    "        for i, num in enumerate(nums):\n",
    "            self.hashmap[num].append(i)\n",
    "\n",
    "    def pick(self, target: int) -> int:\n",
    "        return self.hashmap[target][random.randint(0, len(self.hashmap[target]) - 1)]\n"
   ]
  },
  {
   "cell_type": "markdown",
   "id": "c1d262af",
   "metadata": {},
   "source": [
    "# 80. Strobogrammatic number"
   ]
  },
  {
   "cell_type": "code",
   "execution_count": 16,
   "id": "51185b85",
   "metadata": {},
   "outputs": [],
   "source": [
    "def isStrobogrammatic(num):\n",
    "    strob_map = {\n",
    "            '1':'1',\n",
    "            '2': '',\n",
    "            '3': '',\n",
    "            '4': '',\n",
    "            '5': '',\n",
    "            '7': '',\n",
    "            '0':'0',\n",
    "            '6':'9',\n",
    "            '8':'8',\n",
    "            '9':'6'\n",
    "        }\n",
    "    \n",
    "    stringBuilder = []\n",
    "    \n",
    "    for c in num:\n",
    "        stringBuilder.append(strob_map[c])\n",
    "    \n",
    "    rotated_string = \"\".join(stringBuilder)[::-1]\n",
    "    return rotated_string == num"
   ]
  },
  {
   "cell_type": "code",
   "execution_count": 17,
   "id": "620feb32",
   "metadata": {},
   "outputs": [
    {
     "data": {
      "text/plain": [
       "True"
      ]
     },
     "execution_count": 17,
     "metadata": {},
     "output_type": "execute_result"
    }
   ],
   "source": [
    "num = \"69\"\n",
    "isStrobogrammatic(num)"
   ]
  },
  {
   "cell_type": "markdown",
   "id": "20fdc1db",
   "metadata": {},
   "source": [
    "# 81. Facebook stickers"
   ]
  },
  {
   "cell_type": "code",
   "execution_count": 43,
   "id": "b8bdf4fb",
   "metadata": {},
   "outputs": [],
   "source": [
    "def facebook_stickers(s):\n",
    "    \n",
    "    sticker = 'facebook'\n",
    "    \n",
    "    res = 1\n",
    "    \n",
    "    char_count = Counter(sticker)\n",
    "    \n",
    "    s = s.lower()\n",
    "    \n",
    "    s_count = Counter(s)\n",
    "    \n",
    "    for c in s:\n",
    "        if c.isalpha():\n",
    "            if c not in char_count:\n",
    "                return 0\n",
    "            \n",
    "            if s_count[c] > res * char_count[c]:\n",
    "                res += 1\n",
    "    return res"
   ]
  },
  {
   "cell_type": "code",
   "execution_count": 44,
   "id": "cd45f8d7",
   "metadata": {},
   "outputs": [
    {
     "data": {
      "text/plain": [
       "2"
      ]
     },
     "execution_count": 44,
     "metadata": {},
     "output_type": "execute_result"
    }
   ],
   "source": [
    "facebook_stickers('book FACE cook')"
   ]
  },
  {
   "cell_type": "markdown",
   "id": "78bd8f1c",
   "metadata": {},
   "source": [
    "# 82. Three Sum"
   ]
  },
  {
   "cell_type": "code",
   "execution_count": 53,
   "id": "fdadc1e5",
   "metadata": {},
   "outputs": [],
   "source": [
    "def threeSum(nums):\n",
    "    res = []\n",
    "    nums.sort()\n",
    "    \n",
    "    for i in range(len(nums)):\n",
    "        if nums[i] > 0:\n",
    "            break\n",
    "        \n",
    "        if i == 0 or nums[i - 1] != nums[i]:\n",
    "            twoSum(nums, i, res)\n",
    "    \n",
    "    return res\n",
    "\n",
    "def twoSum(nums, i, res):\n",
    "    low = i + 1\n",
    "    high = len(nums) - 1\n",
    "    \n",
    "    while low < high:\n",
    "        sums = nums[i] + nums[low] + nums[high]\n",
    "        \n",
    "        if sums < 0:\n",
    "            low += 1\n",
    "        elif sums > 0:\n",
    "            high -= 1\n",
    "        else:\n",
    "            res.append([nums[i], nums[low], nums[high]])\n",
    "            low += 1\n",
    "            high -= 1\n",
    "            \n",
    "            while low < high and nums[low] == nums[low - 1]:\n",
    "                low += 1\n",
    "                \n",
    "            "
   ]
  },
  {
   "cell_type": "code",
   "execution_count": 56,
   "id": "ce3d9057",
   "metadata": {},
   "outputs": [
    {
     "data": {
      "text/plain": [
       "[[-1, -1, 2], [-1, 0, 1]]"
      ]
     },
     "execution_count": 56,
     "metadata": {},
     "output_type": "execute_result"
    }
   ],
   "source": [
    "nums = [-1,0,1,2,-1,-4]\n",
    "\n",
    "threeSum(nums)"
   ]
  },
  {
   "cell_type": "markdown",
   "id": "62d866f5",
   "metadata": {},
   "source": [
    "# 83. Phone digits"
   ]
  },
  {
   "cell_type": "code",
   "execution_count": 2,
   "id": "cf7fcdc6",
   "metadata": {},
   "outputs": [],
   "source": [
    "def letterCombinations(digits):\n",
    "    letter_map = {2: ['a', 'b', 'c'],\n",
    "                  3: ['d', 'e', 'f'],\n",
    "                  4: ['g', 'h', 'i'],\n",
    "                  5: ['j', 'k', 'l'],\n",
    "                  6: ['m', 'n', 'o'],\n",
    "                  7: ['p', 'q', 'r', 's'],\n",
    "                  8: ['t', 'u', 'v'],\n",
    "                  9: ['w', 'x', 'y', 'z']}\n",
    "    \n",
    "    if digits == \"\":\n",
    "        return []\n",
    "    \n",
    "    queue = letter_map[int(digits[0])]\n",
    "    \n",
    "    for i in range(1, len(digits)):\n",
    "        s = len(queue)\n",
    "        while s:\n",
    "            currLetter = queue.pop(0)\n",
    "            \n",
    "            for j in letter_map[int(digits[i])]:\n",
    "                queue.append(currLetter + j)\n",
    "            s -= 1\n",
    "    return queue"
   ]
  },
  {
   "cell_type": "code",
   "execution_count": 4,
   "id": "b3122323",
   "metadata": {},
   "outputs": [
    {
     "data": {
      "text/plain": [
       "['ad', 'ae', 'af', 'bd', 'be', 'bf', 'cd', 'ce', 'cf']"
      ]
     },
     "execution_count": 4,
     "metadata": {},
     "output_type": "execute_result"
    }
   ],
   "source": [
    "digits = \"23\"\n",
    "\n",
    "letterCombinations(digits)"
   ]
  },
  {
   "cell_type": "code",
   "execution_count": null,
   "id": "f69a8175",
   "metadata": {},
   "outputs": [],
   "source": []
  }
 ],
 "metadata": {
  "kernelspec": {
   "display_name": "Python 3 (ipykernel)",
   "language": "python",
   "name": "python3"
  },
  "language_info": {
   "codemirror_mode": {
    "name": "ipython",
    "version": 3
   },
   "file_extension": ".py",
   "mimetype": "text/x-python",
   "name": "python",
   "nbconvert_exporter": "python",
   "pygments_lexer": "ipython3",
   "version": "3.8.3"
  }
 },
 "nbformat": 4,
 "nbformat_minor": 5
}
