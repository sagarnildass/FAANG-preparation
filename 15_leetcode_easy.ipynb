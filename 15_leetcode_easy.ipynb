{
 "cells": [
  {
   "cell_type": "markdown",
   "id": "6ff9c9f6",
   "metadata": {},
   "source": [
    "# 1. Sqrt x"
   ]
  },
  {
   "cell_type": "code",
   "execution_count": 9,
   "id": "fd69e4d3",
   "metadata": {},
   "outputs": [],
   "source": [
    "\n",
    "import math\n",
    "def mySqrt(x: int) -> int:\n",
    "        \n",
    "    if x < 2:\n",
    "        return x   \n",
    "\n",
    "    left = 0\n",
    "    right = x // 2\n",
    "\n",
    "    return binary_search(left, right, x)\n",
    "\n",
    "def binary_search(left, right, target):\n",
    "\n",
    "    while left <= right:\n",
    "        mid = math.floor((left + right)/2)\n",
    "\n",
    "        if mid * mid == target:\n",
    "            return mid\n",
    "        elif mid * mid < target:\n",
    "            left = mid + 1\n",
    "        else:\n",
    "            right = mid - 1\n",
    "    return right\n"
   ]
  },
  {
   "cell_type": "code",
   "execution_count": 10,
   "id": "971f2a4b",
   "metadata": {},
   "outputs": [
    {
     "data": {
      "text/plain": [
       "2"
      ]
     },
     "execution_count": 10,
     "metadata": {},
     "output_type": "execute_result"
    }
   ],
   "source": [
    "mySqrt(8)\n"
   ]
  },
  {
   "cell_type": "markdown",
   "id": "b8f39fa6",
   "metadata": {},
   "source": [
    "# 2. Search insert position"
   ]
  },
  {
   "cell_type": "code",
   "execution_count": 36,
   "id": "85c7e7d9",
   "metadata": {},
   "outputs": [],
   "source": [
    "import math\n",
    "def searchInsert(nums, target):\n",
    "    return binary_search(nums, 0, len(nums) - 1, target)\n",
    "\n",
    "def binary_search(nums, left, right, target):\n",
    "\n",
    "    while left <= right:\n",
    "        mid = math.floor((left + right)/2)\n",
    "        if nums[mid] == target:\n",
    "            return mid\n",
    "        elif nums[mid] < target:\n",
    "            left = mid + 1\n",
    "        else:\n",
    "            right = mid - 1\n",
    "    return left\n"
   ]
  },
  {
   "cell_type": "code",
   "execution_count": 38,
   "id": "e8a5cebb",
   "metadata": {},
   "outputs": [
    {
     "data": {
      "text/plain": [
       "2"
      ]
     },
     "execution_count": 38,
     "metadata": {},
     "output_type": "execute_result"
    }
   ],
   "source": [
    "nums = [1,3,5,6]\n",
    "target = 4\n",
    "\n",
    "searchInsert(nums, target)"
   ]
  },
  {
   "cell_type": "markdown",
   "id": "b62dc83c",
   "metadata": {},
   "source": [
    "# 3. Longest Common Prefix"
   ]
  },
  {
   "cell_type": "code",
   "execution_count": 13,
   "id": "5c9ca53f",
   "metadata": {},
   "outputs": [],
   "source": [
    "def longestCommonPrefix(strs):\n",
    "    \n",
    "    result = []\n",
    "    \n",
    "    for x in zip(*strs):\n",
    "        if len(set(x)) == 1:\n",
    "            result.append(x[0])\n",
    "        else:\n",
    "            break\n",
    "    return result"
   ]
  },
  {
   "cell_type": "code",
   "execution_count": 14,
   "id": "54a06720",
   "metadata": {},
   "outputs": [
    {
     "data": {
      "text/plain": [
       "['f', 'l']"
      ]
     },
     "execution_count": 14,
     "metadata": {},
     "output_type": "execute_result"
    }
   ],
   "source": [
    "strs = [\"flower\",\"flow\",\"flight\"]\n",
    "\n",
    "longestCommonPrefix(strs)"
   ]
  },
  {
   "cell_type": "markdown",
   "id": "2b3196b5",
   "metadata": {},
   "source": [
    "# 4. Remove Duplicates from Sorted Array"
   ]
  },
  {
   "cell_type": "code",
   "execution_count": 39,
   "id": "ed28781b",
   "metadata": {},
   "outputs": [],
   "source": [
    "def removeDuplicates(nums):\n",
    "    i = 0\n",
    "    \n",
    "    for j in range(len(nums)):\n",
    "        if nums[j] != nums[i]:\n",
    "            i += 1\n",
    "            nums[i] = nums[j]\n",
    "    return i + 1\n",
    "        "
   ]
  },
  {
   "cell_type": "code",
   "execution_count": 40,
   "id": "8c1510d4",
   "metadata": {},
   "outputs": [
    {
     "data": {
      "text/plain": [
       "5"
      ]
     },
     "execution_count": 40,
     "metadata": {},
     "output_type": "execute_result"
    }
   ],
   "source": [
    "nums = [0,0,1,1,1,2,2,3,3,4]\n",
    "\n",
    "removeDuplicates(nums)"
   ]
  },
  {
   "cell_type": "code",
   "execution_count": 41,
   "id": "8d17a9e9",
   "metadata": {},
   "outputs": [
    {
     "data": {
      "text/plain": [
       "3"
      ]
     },
     "execution_count": 41,
     "metadata": {},
     "output_type": "execute_result"
    }
   ],
   "source": [
    "nums = [1,1,2,3]\n",
    "\n",
    "removeDuplicates(nums)"
   ]
  },
  {
   "cell_type": "markdown",
   "id": "6169cca4",
   "metadata": {},
   "source": [
    "# 5. Remove elements"
   ]
  },
  {
   "cell_type": "code",
   "execution_count": 19,
   "id": "6a404f47",
   "metadata": {},
   "outputs": [],
   "source": [
    "def removeElement(nums, val):\n",
    "    \n",
    "    i = 0\n",
    "    \n",
    "    for j in range(len(nums)):\n",
    "        if nums[j] != val:\n",
    "            nums[i] = nums[j]\n",
    "            i += 1\n",
    "    return i"
   ]
  },
  {
   "cell_type": "code",
   "execution_count": 20,
   "id": "25e0c12a",
   "metadata": {},
   "outputs": [
    {
     "data": {
      "text/plain": [
       "2"
      ]
     },
     "execution_count": 20,
     "metadata": {},
     "output_type": "execute_result"
    }
   ],
   "source": [
    "nums = [3,2,2,3]\n",
    "val = 3\n",
    "\n",
    "removeElement(nums, val)"
   ]
  },
  {
   "cell_type": "markdown",
   "id": "0dd350bf",
   "metadata": {},
   "source": [
    "# 6. Climbing stairs\n",
    "\n",
    "https://leetcode.com/problems/climbing-stairs/\n",
    "\n",
    "This is a fibonacci problem"
   ]
  },
  {
   "cell_type": "code",
   "execution_count": 23,
   "id": "1a020e33",
   "metadata": {},
   "outputs": [],
   "source": [
    "def climbStairs(n: int) -> int:\n",
    "    if n == 1:\n",
    "        return 1\n",
    "\n",
    "    first = 1\n",
    "    second = 2\n",
    "\n",
    "    third = 0\n",
    "\n",
    "    for i in range(3, n+1):\n",
    "        third = first + second\n",
    "        first = second\n",
    "        second = third\n",
    "\n",
    "    return second"
   ]
  },
  {
   "cell_type": "code",
   "execution_count": 24,
   "id": "7243b54f",
   "metadata": {},
   "outputs": [
    {
     "data": {
      "text/plain": [
       "8"
      ]
     },
     "execution_count": 24,
     "metadata": {},
     "output_type": "execute_result"
    }
   ],
   "source": [
    "climbStairs(5)"
   ]
  },
  {
   "cell_type": "markdown",
   "id": "a9223d13",
   "metadata": {},
   "source": [
    "# 7. Remove Duplicates from Sorted List\n",
    "\n",
    "https://leetcode.com/problems/remove-duplicates-from-sorted-list/"
   ]
  },
  {
   "cell_type": "code",
   "execution_count": 25,
   "id": "343df3e1",
   "metadata": {},
   "outputs": [],
   "source": [
    "def deleteDuplicates(head):\n",
    "    \n",
    "    curr = head\n",
    "    \n",
    "    while curr is not None and curr.next is not None:\n",
    "        if curr.val == curr.next.val:\n",
    "            curr.next = curr.next.next\n",
    "        else:\n",
    "            curr = curr.next\n",
    "    return head"
   ]
  },
  {
   "cell_type": "markdown",
   "id": "aa71b44b",
   "metadata": {},
   "source": [
    "# 8. Merge Sorted Array\n",
    "\n",
    "https://leetcode.com/problems/merge-sorted-array/"
   ]
  },
  {
   "cell_type": "code",
   "execution_count": 26,
   "id": "23b59e90",
   "metadata": {},
   "outputs": [],
   "source": [
    "def merge(nums1, m, nums2, n):\n",
    "    \n",
    "    nums1_copy = nums1[:m]\n",
    "    \n",
    "    p1 = 0\n",
    "    p2 = 0\n",
    "    \n",
    "    for i in range(n+m):\n",
    "        if p2 >= n or (p1 < m and nums1_copy[p1] <= nums2[p2]):\n",
    "            nums1[i] = nums1_copy[p1]\n",
    "            p1 += 1\n",
    "        else:\n",
    "            nums1[i] = nums2[p2]\n",
    "            p2 += 1\n",
    "    "
   ]
  },
  {
   "cell_type": "code",
   "execution_count": 27,
   "id": "65df9e4e",
   "metadata": {},
   "outputs": [],
   "source": [
    "nums1 = [1,2,3,0,0,0]\n",
    "m = 3\n",
    "nums2 = [2,5,6]\n",
    "n = 3\n",
    "\n",
    "merge(nums1, m, nums2, n)"
   ]
  },
  {
   "cell_type": "code",
   "execution_count": 28,
   "id": "1fc6f18d",
   "metadata": {},
   "outputs": [
    {
     "data": {
      "text/plain": [
       "[1, 2, 2, 3, 5, 6]"
      ]
     },
     "execution_count": 28,
     "metadata": {},
     "output_type": "execute_result"
    }
   ],
   "source": [
    "nums1"
   ]
  },
  {
   "cell_type": "markdown",
   "id": "6c3977e3",
   "metadata": {},
   "source": [
    "# 9. Binary tree InOrder traversal\n",
    "\n",
    "https://leetcode.com/problems/binary-tree-inorder-traversal/"
   ]
  },
  {
   "cell_type": "code",
   "execution_count": 30,
   "id": "31d12287",
   "metadata": {},
   "outputs": [],
   "source": [
    "def inorderTraversal(root):\n",
    "        \n",
    "    if not root:\n",
    "        return None\n",
    "\n",
    "    result = []\n",
    "\n",
    "    def traverseInOrder(node, result):\n",
    "        if node.left is not None:\n",
    "            traverseInOrder(node.left, result)\n",
    "\n",
    "        result.append(node.val)\n",
    "\n",
    "        if node.right is not None:\n",
    "            traverseInOrder(node.right, result)\n",
    "\n",
    "    traverseInOrder(root, result)   \n",
    "    return result"
   ]
  },
  {
   "cell_type": "markdown",
   "id": "48bd4fc1",
   "metadata": {},
   "source": [
    "# 10. Same tree\n",
    "\n",
    "https://leetcode.com/problems/same-tree/"
   ]
  },
  {
   "cell_type": "code",
   "execution_count": 32,
   "id": "19adb480",
   "metadata": {},
   "outputs": [],
   "source": [
    "def isSameTree(p, q) -> bool:\n",
    "    if not p and not q:\n",
    "        return True\n",
    "    if not p or not q:\n",
    "        return False\n",
    "    if p.val != q.val:\n",
    "        return False\n",
    "    return isSameTree(p.left, q.left) and isSameTree(p.right, q.right)"
   ]
  },
  {
   "cell_type": "markdown",
   "id": "18b6533c",
   "metadata": {},
   "source": [
    "# 11. Symmetric Tree\n",
    "\n",
    "https://leetcode.com/problems/symmetric-tree/"
   ]
  },
  {
   "cell_type": "code",
   "execution_count": 33,
   "id": "330f5ead",
   "metadata": {},
   "outputs": [],
   "source": [
    "class Solution:\n",
    "    def isSymmetric(self, root):\n",
    "        return self.isMirror(root, root)\n",
    "    \n",
    "    def isMirror(self, t1, t2):\n",
    "        if not t1 and not t2:\n",
    "            return True\n",
    "        if not t1 or not t2:\n",
    "            return False\n",
    "        return t1.val == t2.val and self.isMirror(t1.left, t2.right) and self.isMirror(t1.right, t2.left)"
   ]
  },
  {
   "cell_type": "markdown",
   "id": "6b9b64bd",
   "metadata": {},
   "source": [
    "# 12. Maximum Depth of Binary Tree\n",
    "\n",
    "https://leetcode.com/problems/maximum-depth-of-binary-tree/"
   ]
  },
  {
   "cell_type": "code",
   "execution_count": 34,
   "id": "11358c36",
   "metadata": {},
   "outputs": [],
   "source": [
    "def maxDepth(root):\n",
    "    if root is None:\n",
    "        return 0\n",
    "    \n",
    "    else:\n",
    "        leftHeight = maxDepth(root.left)\n",
    "        rightHeight = maxDepth(root.right)\n",
    "        \n",
    "        return max(leftHeight, rightHeight) + 1"
   ]
  },
  {
   "cell_type": "markdown",
   "id": "e56d4528",
   "metadata": {},
   "source": [
    "# 14. Convert Sorted Array to Binary Search Tree\n",
    "\n",
    "https://leetcode.com/problems/convert-sorted-array-to-binary-search-tree/"
   ]
  },
  {
   "cell_type": "code",
   "execution_count": 36,
   "id": "d86fb090",
   "metadata": {},
   "outputs": [],
   "source": [
    "class TreeNode:\n",
    "    def __init__(self, val=0, left=None, right=None):\n",
    "        self.val = val\n",
    "        self.left = left\n",
    "        self.right = right\n",
    "\n",
    "def sortedArrayToBST(nums):\n",
    "    \n",
    "    def helper(left, right):\n",
    "        \n",
    "        if left > right:\n",
    "            return None\n",
    "        \n",
    "        mid = math.floor((left + right)/2)\n",
    "        \n",
    "        root = TreeNode(nums[mid])\n",
    "        \n",
    "        root.left = helper(left, mid - 1)\n",
    "        root.right = helper(mid + 1, right)\n",
    "        return root\n",
    "    \n",
    "    return helper(0, len(nums) - 1)"
   ]
  },
  {
   "cell_type": "code",
   "execution_count": 38,
   "id": "05a9110e",
   "metadata": {},
   "outputs": [],
   "source": [
    "nums = [-10,-3,0,5,9]\n",
    "\n",
    "tree = sortedArrayToBST(nums)"
   ]
  },
  {
   "cell_type": "code",
   "execution_count": 44,
   "id": "9b3ffaaf",
   "metadata": {},
   "outputs": [
    {
     "data": {
      "text/plain": [
       "9"
      ]
     },
     "execution_count": 44,
     "metadata": {},
     "output_type": "execute_result"
    }
   ],
   "source": [
    "tree.right.right.val"
   ]
  },
  {
   "cell_type": "markdown",
   "id": "6ea57860",
   "metadata": {},
   "source": [
    "# 15. Balanced Binary tree\n",
    "\n",
    "https://leetcode.com/problems/balanced-binary-tree/"
   ]
  },
  {
   "cell_type": "code",
   "execution_count": 46,
   "id": "c909c93e",
   "metadata": {},
   "outputs": [],
   "source": [
    "def isBalanced(root) -> bool:\n",
    "        \n",
    "    def height(root):\n",
    "        if not root:\n",
    "            return -1\n",
    "        return max(height(root.left), height(root.right)) + 1\n",
    "\n",
    "    if not root:\n",
    "        return True\n",
    "\n",
    "    return abs(height(root.left) - height(root.right)) < 2 \\\n",
    "           and self.isBalanced(root.left) \\\n",
    "           and self.isBalanced(root.right)"
   ]
  },
  {
   "cell_type": "markdown",
   "id": "b4c2570b",
   "metadata": {},
   "source": [
    "# 16. Min Depth of binary tree\n",
    "\n",
    "https://leetcode.com/problems/minimum-depth-of-binary-tree/"
   ]
  },
  {
   "cell_type": "code",
   "execution_count": 48,
   "id": "c6d3afce",
   "metadata": {},
   "outputs": [],
   "source": [
    "def minDepth(root) -> int:\n",
    "    if not root:\n",
    "        return 0\n",
    "\n",
    "    children = [root.left, root.right]\n",
    "\n",
    "    if not any(children):\n",
    "        return 1\n",
    "\n",
    "    min_depth = float('inf')\n",
    "\n",
    "    for c in children:\n",
    "        if c:\n",
    "            min_depth = min(min_depth, self.minDepth(c))\n",
    "\n",
    "    return min_depth + 1"
   ]
  },
  {
   "cell_type": "markdown",
   "id": "8842ffd5",
   "metadata": {},
   "source": [
    "# 17. Path Sum\n",
    "\n",
    "https://leetcode.com/problems/path-sum/"
   ]
  },
  {
   "cell_type": "code",
   "execution_count": 49,
   "id": "34fb25e5",
   "metadata": {},
   "outputs": [],
   "source": [
    "def hasPathSum(root, targetSum):\n",
    "    if root is None:\n",
    "        return False\n",
    "\n",
    "    queue = [(root, targetSum - root.val), ]\n",
    "\n",
    "\n",
    "    while len(queue) > 0:\n",
    "        currNode, currSum = queue.pop(0)\n",
    "\n",
    "        if currSum == 0 and not currNode.left and not currNode.right:\n",
    "            return True\n",
    "\n",
    "        if currNode.left is not None:\n",
    "            queue.append((currNode.left, currSum - currNode.left.val))\n",
    "\n",
    "        if currNode.right is not None:\n",
    "            queue.append((currNode.right, currSum - currNode.right.val))\n",
    "\n",
    "    return False"
   ]
  },
  {
   "cell_type": "markdown",
   "id": "61ab8166",
   "metadata": {},
   "source": [
    "# 18. Pascal's triangle\n",
    "\n",
    "https://leetcode.com/problems/pascals-triangle/"
   ]
  },
  {
   "cell_type": "code",
   "execution_count": 50,
   "id": "a3d2804b",
   "metadata": {},
   "outputs": [],
   "source": [
    "def generate(numRows: int):\n",
    "        \n",
    "    result = []\n",
    "\n",
    "    for i in range(numRows):\n",
    "        row = [None for _ in range(i + 1)]\n",
    "        row[0], row[-1] = 1, 1\n",
    "\n",
    "        for j in range(1, len(row) - 1):\n",
    "            row[j] = result[i - 1][j - 1] + result[i - 1][j]\n",
    "\n",
    "        result.append(row)\n",
    "\n",
    "    return result"
   ]
  },
  {
   "cell_type": "code",
   "execution_count": 51,
   "id": "cecae2a1",
   "metadata": {},
   "outputs": [
    {
     "data": {
      "text/plain": [
       "[[1], [1, 1], [1, 2, 1], [1, 3, 3, 1], [1, 4, 6, 4, 1]]"
      ]
     },
     "execution_count": 51,
     "metadata": {},
     "output_type": "execute_result"
    }
   ],
   "source": [
    "generate(5)"
   ]
  },
  {
   "cell_type": "markdown",
   "id": "1bb9c2dd",
   "metadata": {},
   "source": [
    "# 19. Best time to buy and sell stocks\n",
    "\n",
    "https://leetcode.com/problems/best-time-to-buy-and-sell-stock/"
   ]
  },
  {
   "cell_type": "code",
   "execution_count": 52,
   "id": "767893a3",
   "metadata": {},
   "outputs": [],
   "source": [
    "def maxProfit(prices):\n",
    "    min_price = float('inf')\n",
    "    max_profit = 0\n",
    "    \n",
    "    for price in prices:\n",
    "        if price < min_price:\n",
    "            min_price = price\n",
    "        elif price - min_price > max_profit:\n",
    "            max_profit = price - min_price\n",
    "    \n",
    "    return max_profit"
   ]
  },
  {
   "cell_type": "code",
   "execution_count": 53,
   "id": "4cf794f2",
   "metadata": {},
   "outputs": [
    {
     "data": {
      "text/plain": [
       "5"
      ]
     },
     "execution_count": 53,
     "metadata": {},
     "output_type": "execute_result"
    }
   ],
   "source": [
    "prices = [7,1,5,3,6,4]\n",
    "\n",
    "maxProfit(prices)"
   ]
  },
  {
   "cell_type": "code",
   "execution_count": 54,
   "id": "c09dc084",
   "metadata": {},
   "outputs": [
    {
     "data": {
      "text/plain": [
       "0"
      ]
     },
     "execution_count": 54,
     "metadata": {},
     "output_type": "execute_result"
    }
   ],
   "source": [
    "prices = [7,6,4,3,1]\n",
    "\n",
    "maxProfit(prices)"
   ]
  },
  {
   "cell_type": "markdown",
   "id": "6a4bf45c",
   "metadata": {},
   "source": [
    "# 20. Valid Palindrome\n",
    "\n",
    "https://leetcode.com/problems/valid-palindrome/"
   ]
  },
  {
   "cell_type": "code",
   "execution_count": 55,
   "id": "62e4bc0d",
   "metadata": {},
   "outputs": [],
   "source": [
    "def isPalindrome(s):\n",
    "    \n",
    "    left = 0\n",
    "    right = len(s) - 1\n",
    "    \n",
    "    while left < right:\n",
    "        while left < right and not s[left].isalnum():\n",
    "            left += 1\n",
    "        while left < right and not s[right].isalnum():\n",
    "            right -= 1\n",
    "        \n",
    "        if s[left].lower() != s[right].lower():\n",
    "            return False\n",
    "        \n",
    "        left += 1\n",
    "        right -= 1\n",
    "    \n",
    "    return True"
   ]
  },
  {
   "cell_type": "code",
   "execution_count": 59,
   "id": "e39f08a3",
   "metadata": {},
   "outputs": [
    {
     "data": {
      "text/plain": [
       "True"
      ]
     },
     "execution_count": 59,
     "metadata": {},
     "output_type": "execute_result"
    }
   ],
   "source": [
    "s = \"A man, a plan, a canal: Panama\"\n",
    "\n",
    "isPalindrome(s)"
   ]
  },
  {
   "cell_type": "code",
   "execution_count": 57,
   "id": "0e43a287",
   "metadata": {},
   "outputs": [
    {
     "data": {
      "text/plain": [
       "True"
      ]
     },
     "execution_count": 57,
     "metadata": {},
     "output_type": "execute_result"
    }
   ],
   "source": [
    "s = \" \"\n",
    "\n",
    "isPalindrome(s)"
   ]
  },
  {
   "cell_type": "markdown",
   "id": "779c3f97",
   "metadata": {},
   "source": [
    "# 21. Single Number\n",
    "\n",
    "https://leetcode.com/problems/single-number/"
   ]
  },
  {
   "cell_type": "code",
   "execution_count": 62,
   "id": "066b3a4a",
   "metadata": {},
   "outputs": [],
   "source": [
    "from collections import Counter\n",
    "\n",
    "def singleNumber(nums):\n",
    "    char_counts = Counter(nums)\n",
    "    \n",
    "    for i in char_counts.keys():\n",
    "        if char_counts[i] == 1:\n",
    "            return i"
   ]
  },
  {
   "cell_type": "code",
   "execution_count": 63,
   "id": "6724a5c7",
   "metadata": {},
   "outputs": [
    {
     "data": {
      "text/plain": [
       "4"
      ]
     },
     "execution_count": 63,
     "metadata": {},
     "output_type": "execute_result"
    }
   ],
   "source": [
    "nums = [4,1,2,1,2]\n",
    "\n",
    "singleNumber(nums)"
   ]
  },
  {
   "cell_type": "markdown",
   "id": "815473aa",
   "metadata": {},
   "source": [
    "# 22. Linked List Cycle\n",
    "\n",
    "https://leetcode.com/problems/linked-list-cycle/"
   ]
  },
  {
   "cell_type": "code",
   "execution_count": 64,
   "id": "46a696e9",
   "metadata": {},
   "outputs": [],
   "source": [
    "def hasCycle(head) -> bool:\n",
    "        \n",
    "    if not head:\n",
    "        return False\n",
    "\n",
    "    rabbit = head\n",
    "    tortoise = head\n",
    "\n",
    "    while rabbit is not None and rabbit.next is not None:\n",
    "        rabbit = rabbit.next.next\n",
    "        tortoise = tortoise.next\n",
    "\n",
    "        if rabbit == tortoise:\n",
    "            return True\n",
    "    return False"
   ]
  },
  {
   "cell_type": "markdown",
   "id": "0648d0d2",
   "metadata": {},
   "source": [
    "# 23. Binary tree Post order traversal\n",
    "\n",
    "https://leetcode.com/problems/binary-tree-postorder-traversal/"
   ]
  },
  {
   "cell_type": "code",
   "execution_count": 66,
   "id": "3478b4f8",
   "metadata": {},
   "outputs": [],
   "source": [
    "def postorderTraversal(root):\n",
    "    if not root:\n",
    "        return None\n",
    "\n",
    "    result = []\n",
    "\n",
    "    def traverse(node):\n",
    "        if node.left is not None:\n",
    "            traverse(node.left)\n",
    "\n",
    "        if node.right is not None:\n",
    "            traverse(node.right)\n",
    "\n",
    "        result.append(node.val)\n",
    "\n",
    "    traverse(root)\n",
    "    return result"
   ]
  },
  {
   "cell_type": "markdown",
   "id": "0c891794",
   "metadata": {},
   "source": [
    "# 24. Intersection of Two Linked Lists\n",
    "\n",
    "https://leetcode.com/problems/intersection-of-two-linked-lists/"
   ]
  },
  {
   "cell_type": "code",
   "execution_count": 67,
   "id": "329e0ab4",
   "metadata": {},
   "outputs": [],
   "source": [
    "def getIntersectionNode(headA, headB):\n",
    "    nodes_in_B = set()\n",
    "\n",
    "    while headB is not None:\n",
    "        nodes_in_B.add(headB)\n",
    "        headB = headB.next\n",
    "\n",
    "    while headA is not None:\n",
    "        if headA in nodes_in_B:\n",
    "            return headA\n",
    "        headA = headA.next\n",
    "\n",
    "    return None"
   ]
  },
  {
   "cell_type": "markdown",
   "id": "43c62bdd",
   "metadata": {},
   "source": [
    "# 25. Missing Ranges\n",
    "\n",
    "https://leetcode.com/problems/missing-ranges/"
   ]
  },
  {
   "cell_type": "code",
   "execution_count": 68,
   "id": "5dd86ffe",
   "metadata": {},
   "outputs": [],
   "source": [
    "def findMissingRanges(nums, lower, upper):\n",
    "    def formatRange(lower, upper):\n",
    "        if lower == upper:\n",
    "            return str(lower)\n",
    "        return str(lower) + '->' + str(upper)\n",
    "    \n",
    "    result = []\n",
    "    \n",
    "    prev = lower - 1\n",
    "    \n",
    "    for i in range(len(nums) + 1):\n",
    "        if i < len(nums):\n",
    "            curr = nums[i]\n",
    "        else:\n",
    "            curr = upper + 1\n",
    "\n",
    "        if prev + 1 <= curr - 1:\n",
    "            result.append(formatRange(prev + 1, curr - 1))\n",
    "        prev = curr\n",
    "    return result\n",
    "\n"
   ]
  },
  {
   "cell_type": "code",
   "execution_count": 70,
   "id": "115acb5c",
   "metadata": {},
   "outputs": [
    {
     "data": {
      "text/plain": [
       "['2', '4->49', '51->74', '76->99']"
      ]
     },
     "execution_count": 70,
     "metadata": {},
     "output_type": "execute_result"
    }
   ],
   "source": [
    "nums = [0,1,3,50,75]\n",
    "lower = 0\n",
    "upper = 99\n",
    "\n",
    "findMissingRanges(nums, lower, upper)"
   ]
  },
  {
   "cell_type": "markdown",
   "id": "98ce796a",
   "metadata": {},
   "source": [
    "# 26. Excel Sheet Column Title\n",
    "\n",
    "https://leetcode.com/problems/excel-sheet-column-title/"
   ]
  },
  {
   "cell_type": "code",
   "execution_count": 86,
   "id": "5ccfc677",
   "metadata": {},
   "outputs": [],
   "source": [
    "def convertToTitle(num):\n",
    "    \n",
    "    capitals = [chr(x) for x in range(ord('A'), ord('Z') + 1)]\n",
    "    \n",
    "    result = []\n",
    "    \n",
    "    while num > 0:\n",
    "        result.append(capitals[(num -  1) % 26])\n",
    "        num = (num - 1) // 26\n",
    "    result.reverse()\n",
    "    return \"\".join(result)"
   ]
  },
  {
   "cell_type": "code",
   "execution_count": 89,
   "id": "c0f49d97",
   "metadata": {},
   "outputs": [
    {
     "data": {
      "text/plain": [
       "'AB'"
      ]
     },
     "execution_count": 89,
     "metadata": {},
     "output_type": "execute_result"
    }
   ],
   "source": [
    "convertToTitle(28)"
   ]
  },
  {
   "cell_type": "markdown",
   "id": "895421e7",
   "metadata": {},
   "source": [
    "# 27. Majority element\n",
    "\n",
    "https://leetcode.com/problems/majority-element/"
   ]
  },
  {
   "cell_type": "code",
   "execution_count": 91,
   "id": "8fa89fe8",
   "metadata": {},
   "outputs": [],
   "source": [
    "def majorityElement(nums):\n",
    "        \n",
    "    count_nums = Counter(nums)\n",
    "\n",
    "    for i in count_nums.keys():\n",
    "        if count_nums[i] > len(nums) / 2:\n",
    "            return i"
   ]
  },
  {
   "cell_type": "code",
   "execution_count": 92,
   "id": "968e27c3",
   "metadata": {},
   "outputs": [
    {
     "data": {
      "text/plain": [
       "3"
      ]
     },
     "execution_count": 92,
     "metadata": {},
     "output_type": "execute_result"
    }
   ],
   "source": [
    "nums = [3,2,3]\n",
    "\n",
    "majorityElement(nums)"
   ]
  },
  {
   "cell_type": "markdown",
   "id": "1fd36131",
   "metadata": {},
   "source": [
    "# 28. Title to number\n",
    "\n",
    "https://leetcode.com/problems/excel-sheet-column-number/solution/\n",
    "\n",
    "Read the logic"
   ]
  },
  {
   "cell_type": "code",
   "execution_count": 110,
   "id": "5f13fdc2",
   "metadata": {},
   "outputs": [],
   "source": [
    "def titleToNumber(columnTitle: str) -> int:\n",
    "    alpha_map = {chr(i + 65): i + 1 for i in range(26)}\n",
    "\n",
    "    result = 0\n",
    "    n = len(columnTitle)\n",
    "    for i in range(n):\n",
    "        current_char = columnTitle[n-1-i]\n",
    "        result += (alpha_map[current_char] * (26 ** i))\n",
    "    return result"
   ]
  },
  {
   "cell_type": "code",
   "execution_count": 111,
   "id": "1825914c",
   "metadata": {},
   "outputs": [
    {
     "data": {
      "text/plain": [
       "28"
      ]
     },
     "execution_count": 111,
     "metadata": {},
     "output_type": "execute_result"
    }
   ],
   "source": [
    "titleToNumber('AB')"
   ]
  },
  {
   "cell_type": "markdown",
   "id": "b0f447ef",
   "metadata": {},
   "source": [
    "# 29. Happy number\n",
    "\n",
    "https://leetcode.com/problems/happy-number/\n",
    "\n",
    "T --> O(logN)\n",
    "\n",
    "S --> O(1)\n",
    "\n",
    "Read the logic"
   ]
  },
  {
   "cell_type": "code",
   "execution_count": 113,
   "id": "b4baa0b3",
   "metadata": {},
   "outputs": [],
   "source": [
    "def isHappy(n: int) -> bool:\n",
    "        \n",
    "    def get_next(number):\n",
    "        total_sum = 0\n",
    "\n",
    "        while number > 0:\n",
    "            number, digit = divmod(number, 10)\n",
    "            total_sum += digit ** 2\n",
    "        return total_sum\n",
    "\n",
    "    slow_runner = n\n",
    "    fast_runner = get_next(n)\n",
    "\n",
    "    while fast_runner != 1 and slow_runner != fast_runner:\n",
    "        slow_runner = get_next(slow_runner)\n",
    "        fast_runner = get_next(get_next(fast_runner))\n",
    "\n",
    "    return fast_runner == 1"
   ]
  },
  {
   "cell_type": "code",
   "execution_count": 116,
   "id": "bed874a6",
   "metadata": {},
   "outputs": [
    {
     "data": {
      "text/plain": [
       "True"
      ]
     },
     "execution_count": 116,
     "metadata": {},
     "output_type": "execute_result"
    }
   ],
   "source": [
    "isHappy(19)"
   ]
  },
  {
   "cell_type": "markdown",
   "id": "ee3f9eb3",
   "metadata": {},
   "source": [
    "# 30. Remove Linked List Elements\n",
    "\n",
    "https://leetcode.com/problems/remove-linked-list-elements/\n",
    "\n",
    "Read the logic"
   ]
  },
  {
   "cell_type": "code",
   "execution_count": 117,
   "id": "568f36f4",
   "metadata": {},
   "outputs": [],
   "source": [
    "def removeElements(head, val):\n",
    "        \n",
    "    sentinel = ListNode(0)\n",
    "    sentinel.next = head\n",
    "\n",
    "    prev = sentinel\n",
    "    curr = head\n",
    "\n",
    "    while curr is not None:\n",
    "        if curr.val == val:\n",
    "            prev.next = curr.next\n",
    "        else:\n",
    "            prev = curr\n",
    "\n",
    "        curr = curr.next\n",
    "\n",
    "    return sentinel.next"
   ]
  },
  {
   "cell_type": "markdown",
   "id": "fb3d55a2",
   "metadata": {},
   "source": [
    "# 31. Isomorphic String\n",
    "\n",
    "https://leetcode.com/problems/isomorphic-strings/solution/"
   ]
  },
  {
   "cell_type": "code",
   "execution_count": 118,
   "id": "cec0dc2f",
   "metadata": {},
   "outputs": [],
   "source": [
    "class Solution:\n",
    "    def transformString(self, s: str) -> str:\n",
    "        index_mapping = {}\n",
    "        new_str = []\n",
    "        \n",
    "        for i, c in enumerate(s):\n",
    "            if c not in index_mapping:\n",
    "                index_mapping[c] = i\n",
    "            new_str.append(str(index_mapping[c]))\n",
    "        \n",
    "        return \" \".join(new_str)\n",
    "    \n",
    "    def isIsomorphic(self, s: str, t: str) -> bool:\n",
    "        return self.transformString(s) == self.transformString(t)\n"
   ]
  },
  {
   "cell_type": "markdown",
   "id": "62cfc14f",
   "metadata": {},
   "source": [
    "# 32. Reverse linked list\n",
    "\n",
    "https://leetcode.com/problems/reverse-linked-list/solution/"
   ]
  },
  {
   "cell_type": "code",
   "execution_count": 119,
   "id": "5c8e5d65",
   "metadata": {},
   "outputs": [],
   "source": [
    "def reverseList(head):\n",
    "    if head is None:\n",
    "        return None\n",
    "    \n",
    "    prev = None\n",
    "    curr = head\n",
    "    \n",
    "    while curr is not None:\n",
    "        nextTmp = curr.next\n",
    "        curr.next = prev\n",
    "        prev = curr\n",
    "        curr = nextTmp\n",
    "    \n",
    "    return prev"
   ]
  },
  {
   "cell_type": "markdown",
   "id": "4fe6e45d",
   "metadata": {},
   "source": [
    "# 33. Contains duplicate\n",
    "\n",
    "https://leetcode.com/problems/contains-duplicate/"
   ]
  },
  {
   "cell_type": "code",
   "execution_count": 122,
   "id": "ef675925",
   "metadata": {},
   "outputs": [],
   "source": [
    "from collections import defaultdict\n",
    "def containsDuplicate(nums):\n",
    "    d = defaultdict(int)\n",
    "\n",
    "    for i in nums:\n",
    "        d[i] += 1\n",
    "\n",
    "    for i in d:\n",
    "        if d[i] > 1:\n",
    "            return True\n",
    "    return False"
   ]
  },
  {
   "cell_type": "code",
   "execution_count": 123,
   "id": "761c1244",
   "metadata": {},
   "outputs": [
    {
     "data": {
      "text/plain": [
       "True"
      ]
     },
     "execution_count": 123,
     "metadata": {},
     "output_type": "execute_result"
    }
   ],
   "source": [
    "nums = [1,2,3,1]\n",
    "containsDuplicate(nums)"
   ]
  },
  {
   "cell_type": "markdown",
   "id": "29dbfbb5",
   "metadata": {},
   "source": [
    "# 34. Contains Duplicate II\n",
    "\n",
    "https://leetcode.com/problems/contains-duplicate-ii/solution/"
   ]
  },
  {
   "cell_type": "code",
   "execution_count": 124,
   "id": "3b7d9249",
   "metadata": {},
   "outputs": [],
   "source": [
    "def containsNearbyDuplicate(nums, k) -> bool:\n",
    "        \n",
    "    index_map = {}\n",
    "\n",
    "    for i, c in enumerate(nums):\n",
    "        if c in index_map and i - index_map[c] <= k:\n",
    "            return True\n",
    "        index_map[c] = i\n",
    "    return False"
   ]
  },
  {
   "cell_type": "code",
   "execution_count": 125,
   "id": "4201503c",
   "metadata": {},
   "outputs": [
    {
     "data": {
      "text/plain": [
       "True"
      ]
     },
     "execution_count": 125,
     "metadata": {},
     "output_type": "execute_result"
    }
   ],
   "source": [
    "nums = [1,2,3,1]\n",
    "k = 3\n",
    "\n",
    "containsNearbyDuplicate(nums, k)"
   ]
  },
  {
   "cell_type": "markdown",
   "id": "507eab61",
   "metadata": {},
   "source": [
    "# 35. Invert binary tree\n",
    "\n",
    "https://leetcode.com/problems/invert-binary-tree/"
   ]
  },
  {
   "cell_type": "code",
   "execution_count": 127,
   "id": "223a61e9",
   "metadata": {},
   "outputs": [],
   "source": [
    "def invertTree(root):\n",
    "        \n",
    "    if not root:\n",
    "        return None\n",
    "\n",
    "    left = invertTree(root.left)\n",
    "    right = invertTree(root.right)\n",
    "\n",
    "    root.left = right\n",
    "    root.right = left\n",
    "\n",
    "    return root"
   ]
  },
  {
   "cell_type": "markdown",
   "id": "9204d532",
   "metadata": {},
   "source": [
    "# 36. Summary ranges\n",
    "\n",
    "https://leetcode.com/problems/summary-ranges/"
   ]
  },
  {
   "cell_type": "code",
   "execution_count": 128,
   "id": "88dade6d",
   "metadata": {},
   "outputs": [],
   "source": [
    "def summaryRanges(nums):\n",
    "\n",
    "    ans = []\n",
    "    pointer = 0\n",
    "\n",
    "    for i, c in enumerate(nums):\n",
    "        if i == len(nums) - 1 or nums[i+1] - nums[i] > 1:\n",
    "            ans.append(str(nums[pointer]) + '->' + str(c) if nums[pointer] != c else str(c)) \n",
    "            pointer = i + 1\n",
    "    return ans\n"
   ]
  },
  {
   "cell_type": "code",
   "execution_count": 129,
   "id": "ec99f397",
   "metadata": {},
   "outputs": [
    {
     "data": {
      "text/plain": [
       "['0->2', '4->5', '7']"
      ]
     },
     "execution_count": 129,
     "metadata": {},
     "output_type": "execute_result"
    }
   ],
   "source": [
    "nums = [0,1,2,4,5,7]\n",
    "\n",
    "summaryRanges(nums)"
   ]
  },
  {
   "cell_type": "markdown",
   "id": "d4ebc851",
   "metadata": {},
   "source": [
    "# 37. Palindrome Linked List\n",
    "\n",
    "https://leetcode.com/problems/palindrome-linked-list/"
   ]
  },
  {
   "cell_type": "code",
   "execution_count": 130,
   "id": "e13c8415",
   "metadata": {},
   "outputs": [],
   "source": [
    "def isPalindrome(head) -> bool:\n",
    "        \n",
    "    vals = []\n",
    "\n",
    "    current_node = head\n",
    "\n",
    "    while current_node is not None:\n",
    "        vals.append(current_node.val)\n",
    "        current_node = current_node.next\n",
    "\n",
    "    return vals == vals[::-1]"
   ]
  },
  {
   "cell_type": "markdown",
   "id": "521aba0e",
   "metadata": {},
   "source": [
    "# 38. Valid anagram\n",
    "\n",
    "https://leetcode.com/problems/valid-anagram/"
   ]
  },
  {
   "cell_type": "code",
   "execution_count": 131,
   "id": "529cb3cf",
   "metadata": {},
   "outputs": [],
   "source": [
    "def isAnagram(self, s: str, t: str) -> bool:\n",
    "    #return sorted(s) == sorted(t)\n",
    "\n",
    "    if len(s) != len(t):\n",
    "        return False\n",
    "\n",
    "    return sorted(s) == sorted(t)\n"
   ]
  },
  {
   "cell_type": "markdown",
   "id": "8354266f",
   "metadata": {},
   "source": [
    "# 39. Shortest Word Distance\n",
    "\n",
    "https://leetcode.com/problems/shortest-word-distance/"
   ]
  },
  {
   "cell_type": "code",
   "execution_count": 132,
   "id": "b04125a7",
   "metadata": {},
   "outputs": [],
   "source": [
    "def shortestDistance(wordsDict, word1, word2):\n",
    "    shortest = len(wordsDict)\n",
    "    \n",
    "    index = None\n",
    "    found = None\n",
    "    \n",
    "    for i, word in enumerate(wordsDict):\n",
    "        if word == word1 or word == word2:\n",
    "            if found is not None:\n",
    "                if word != found:\n",
    "                    shortest = min(shortest, i - index)\n",
    "            found = word\n",
    "            index = i\n",
    "    return shortest"
   ]
  },
  {
   "cell_type": "code",
   "execution_count": 134,
   "id": "cc73b9b3",
   "metadata": {},
   "outputs": [
    {
     "data": {
      "text/plain": [
       "3"
      ]
     },
     "execution_count": 134,
     "metadata": {},
     "output_type": "execute_result"
    }
   ],
   "source": [
    "wordsDict = [\"practice\", \"makes\", \"perfect\", \"coding\", \"makes\"]\n",
    "word1 = \"coding\"\n",
    "word2 = \"practice\"\n",
    "\n",
    "shortestDistance(wordsDict, word1, word2)"
   ]
  },
  {
   "cell_type": "code",
   "execution_count": 135,
   "id": "b4d3a4d0",
   "metadata": {},
   "outputs": [
    {
     "data": {
      "text/plain": [
       "1"
      ]
     },
     "execution_count": 135,
     "metadata": {},
     "output_type": "execute_result"
    }
   ],
   "source": [
    "wordsDict = [\"a\", \"a\", \"b\", \"b\"]\n",
    "word1 = \"a\"\n",
    "word2 = \"b\"\n",
    "\n",
    "shortestDistance(wordsDict, word1, word2)"
   ]
  },
  {
   "cell_type": "markdown",
   "id": "9b03ad17",
   "metadata": {},
   "source": [
    "# 40. Strobogrammatic Number\n",
    "\n",
    "https://leetcode.com/problems/strobogrammatic-number/"
   ]
  },
  {
   "cell_type": "code",
   "execution_count": 138,
   "id": "15e0b0ef",
   "metadata": {},
   "outputs": [],
   "source": [
    "def isStrobogrammatic(num: str) -> bool:\n",
    "        \n",
    "    strob_map = {\n",
    "        '1':'1',\n",
    "        '2': '',\n",
    "        '3': '',\n",
    "        '4': '',\n",
    "        '5': '',\n",
    "        '7': '',\n",
    "        '0':'0',\n",
    "        '6':'9',\n",
    "        '8':'8',\n",
    "        '9':'6'\n",
    "    }\n",
    "\n",
    "    string_builder = []\n",
    "\n",
    "    for c in num:\n",
    "        string_builder.append(strob_map[c])\n",
    "\n",
    "    rotated_string = \"\".join(string_builder[::-1])\n",
    "\n",
    "    return rotated_string == num"
   ]
  },
  {
   "cell_type": "code",
   "execution_count": 139,
   "id": "7c05efe1",
   "metadata": {},
   "outputs": [
    {
     "data": {
      "text/plain": [
       "True"
      ]
     },
     "execution_count": 139,
     "metadata": {},
     "output_type": "execute_result"
    }
   ],
   "source": [
    "isStrobogrammatic('69')"
   ]
  },
  {
   "cell_type": "markdown",
   "id": "4d8b7c58",
   "metadata": {},
   "source": [
    "# 41. Meeting rooms\n",
    "\n",
    "https://leetcode.com/problems/meeting-rooms/"
   ]
  },
  {
   "cell_type": "code",
   "execution_count": 146,
   "id": "f6b1b98b",
   "metadata": {},
   "outputs": [],
   "source": [
    "def canAttendMeetings(intervals) -> bool:    \n",
    "        \n",
    "    intervals.sort(key=lambda x:x[0])\n",
    "\n",
    "    for i in range(len(intervals) - 1):\n",
    "        if intervals[i][1] > intervals[i + 1][0]:\n",
    "            return False\n",
    "    return True"
   ]
  },
  {
   "cell_type": "code",
   "execution_count": 147,
   "id": "f203fa50",
   "metadata": {},
   "outputs": [
    {
     "data": {
      "text/plain": [
       "True"
      ]
     },
     "execution_count": 147,
     "metadata": {},
     "output_type": "execute_result"
    }
   ],
   "source": [
    "intervals = [[7,10],[2,4], [5,6]]\n",
    "\n",
    "canAttendMeetings(intervals)"
   ]
  },
  {
   "cell_type": "markdown",
   "id": "8f75344d",
   "metadata": {},
   "source": [
    "# 42. Binary Tree Paths\n",
    "\n",
    "https://leetcode.com/problems/binary-tree-paths/"
   ]
  },
  {
   "cell_type": "code",
   "execution_count": 148,
   "id": "b390c566",
   "metadata": {},
   "outputs": [],
   "source": [
    "def binaryTreePaths(root):\n",
    "    if not root:\n",
    "        return []\n",
    "\n",
    "    paths = []\n",
    "    stack = [(root, str(root.val))]\n",
    "\n",
    "    while len(stack) > 0:\n",
    "        currNode, currPath = stack.pop()\n",
    "\n",
    "        if not currNode.left and not currNode.right:\n",
    "            paths.append(currPath)\n",
    "\n",
    "        if currNode.left:\n",
    "            stack.append((currNode.left, currPath + '->' + str(currNode.left.val)))\n",
    "\n",
    "\n",
    "        if currNode.right:\n",
    "            stack.append((currNode.right, currPath + '->' + str(currNode.right.val)))\n",
    "\n",
    "    return paths"
   ]
  },
  {
   "cell_type": "markdown",
   "id": "21965930",
   "metadata": {},
   "source": [
    "# 43. Ugly number\n",
    "\n",
    "https://leetcode.com/problems/ugly-number/"
   ]
  },
  {
   "cell_type": "code",
   "execution_count": 149,
   "id": "d5fa5d4a",
   "metadata": {},
   "outputs": [],
   "source": [
    "def isUgly(n: int):\n",
    "    \n",
    "    if n <= 0:\n",
    "        return False\n",
    "    \n",
    "    for x in [2,3,5]:\n",
    "        while n % x == 0:\n",
    "            n = n / x\n",
    "    \n",
    "    return n == 1"
   ]
  },
  {
   "cell_type": "code",
   "execution_count": 151,
   "id": "1ab678e0",
   "metadata": {},
   "outputs": [
    {
     "data": {
      "text/plain": [
       "True"
      ]
     },
     "execution_count": 151,
     "metadata": {},
     "output_type": "execute_result"
    }
   ],
   "source": [
    "isUgly(15)"
   ]
  },
  {
   "cell_type": "markdown",
   "id": "cf5067d6",
   "metadata": {},
   "source": [
    "# 44. Palindrome Permutation\n",
    "\n",
    "https://leetcode.com/problems/palindrome-permutation/"
   ]
  },
  {
   "cell_type": "code",
   "execution_count": 152,
   "id": "27d88ac3",
   "metadata": {},
   "outputs": [],
   "source": [
    "def canPermutePalindrome(s: str) -> bool:\n",
    "        \n",
    "    unpaired_chars = set()\n",
    "\n",
    "    for char in s:\n",
    "        if char not in unpaired_chars:\n",
    "            unpaired_chars.add(char)\n",
    "        else:\n",
    "            unpaired_chars.remove(char)\n",
    "\n",
    "    return len(unpaired_chars) <= 1"
   ]
  },
  {
   "cell_type": "code",
   "execution_count": 153,
   "id": "15ec11d7",
   "metadata": {},
   "outputs": [
    {
     "data": {
      "text/plain": [
       "False"
      ]
     },
     "execution_count": 153,
     "metadata": {},
     "output_type": "execute_result"
    }
   ],
   "source": [
    "s = \"code\"\n",
    "canPermutePalindrome(s)"
   ]
  },
  {
   "cell_type": "code",
   "execution_count": 154,
   "id": "8ec10f82",
   "metadata": {},
   "outputs": [
    {
     "data": {
      "text/plain": [
       "True"
      ]
     },
     "execution_count": 154,
     "metadata": {},
     "output_type": "execute_result"
    }
   ],
   "source": [
    "s = 'abab'\n",
    "canPermutePalindrome(s)"
   ]
  },
  {
   "cell_type": "markdown",
   "id": "82cb794a",
   "metadata": {},
   "source": [
    "# 45. Missing Number\n",
    "\n",
    "https://leetcode.com/problems/missing-number/"
   ]
  },
  {
   "cell_type": "code",
   "execution_count": 157,
   "id": "82069543",
   "metadata": {},
   "outputs": [],
   "source": [
    "# t --> O(nlogn)\n",
    "# s --> O(1)\n",
    "def missingNumber(nums):\n",
    "    \n",
    "    nums.sort()\n",
    "    \n",
    "    if nums[-1] != len(nums):\n",
    "        return len(nums)\n",
    "    \n",
    "    if nums[0] != 0:\n",
    "        return 0\n",
    "    \n",
    "    for i in range(1, len(nums)):\n",
    "        expected_number = nums[i - 1] + 1\n",
    "        if nums[i] != expected_number:\n",
    "            return expected_number\n",
    "        "
   ]
  },
  {
   "cell_type": "code",
   "execution_count": 162,
   "id": "1cb56837",
   "metadata": {},
   "outputs": [
    {
     "data": {
      "text/plain": [
       "2"
      ]
     },
     "execution_count": 162,
     "metadata": {},
     "output_type": "execute_result"
    }
   ],
   "source": [
    "nums = [3,0,1]\n",
    "\n",
    "missingNumber(nums)"
   ]
  },
  {
   "cell_type": "code",
   "execution_count": 161,
   "id": "9302486b",
   "metadata": {},
   "outputs": [],
   "source": [
    "# sum of first n numbers\n",
    "\n",
    "# t --> O(n)\n",
    "# s --> O(1)\n",
    "def missingNumber(nums):\n",
    "    \n",
    "    expected_sum = (len(nums) * (len(nums) + 1)) // 2\n",
    "    actual_sum = sum(nums)\n",
    "    \n",
    "    if expected_sum != actual_sum:\n",
    "        return expected_sum - actual_sum"
   ]
  },
  {
   "cell_type": "markdown",
   "id": "545b01e1",
   "metadata": {},
   "source": [
    "# 46. Closest Binary Search Tree Value\n",
    "\n",
    "https://leetcode.com/problems/closest-binary-search-tree-value/"
   ]
  },
  {
   "cell_type": "code",
   "execution_count": 164,
   "id": "0c485e94",
   "metadata": {},
   "outputs": [],
   "source": [
    "def closestValue(root, target):\n",
    "        \n",
    "    queue = [root]\n",
    "    minVal = float('inf')\n",
    "\n",
    "    while len(queue) > 0:\n",
    "        currNode = queue.pop(0)\n",
    "        currValue = currNode.val\n",
    "        difference = abs(target - currValue)\n",
    "        tmp = minVal\n",
    "        minVal = min(minVal, difference)\n",
    "\n",
    "        if minVal < tmp:\n",
    "            answer = currNode.val\n",
    "\n",
    "        if currNode.left is not None:\n",
    "            queue.append(currNode.left)\n",
    "\n",
    "        if currNode.right is not None:\n",
    "            queue.append(currNode.right)\n",
    "\n",
    "    return answer"
   ]
  },
  {
   "cell_type": "code",
   "execution_count": 165,
   "id": "3eda3e17",
   "metadata": {},
   "outputs": [
    {
     "data": {
      "text/plain": [
       "[1, 2, 3, 4, 5, 6, 7]"
      ]
     },
     "execution_count": 165,
     "metadata": {},
     "output_type": "execute_result"
    }
   ],
   "source": [
    "[i + 1 for i in range(6+1)]"
   ]
  },
  {
   "cell_type": "markdown",
   "id": "481a695d",
   "metadata": {},
   "source": [
    "# 47. First Bad Version\n",
    "\n",
    "https://leetcode.com/problems/first-bad-version/"
   ]
  },
  {
   "cell_type": "code",
   "execution_count": 166,
   "id": "f88dfe19",
   "metadata": {},
   "outputs": [],
   "source": [
    "import math\n",
    "class Solution:\n",
    "    def firstBadVersion(self, n: int) -> int:        \n",
    "        \n",
    "        left = 1 \n",
    "        right = n\n",
    "        \n",
    "        while left < right:\n",
    "            mid = math.floor((left + right)/2)\n",
    "            if isBadVersion(mid) == False:\n",
    "                left = mid + 1\n",
    "            else:\n",
    "                right = mid\n",
    "\n",
    "        return left\n"
   ]
  },
  {
   "cell_type": "markdown",
   "id": "4bb181fe",
   "metadata": {},
   "source": [
    "# 48. Move Zeroes\n",
    "\n",
    "https://leetcode.com/problems/move-zeroes/"
   ]
  },
  {
   "cell_type": "code",
   "execution_count": 171,
   "id": "be2ef04b",
   "metadata": {},
   "outputs": [],
   "source": [
    "def moveZeroes(nums):\n",
    "    \n",
    "    left = 0\n",
    "    count_zeroes = 0\n",
    "    count_non_zeroes = 0\n",
    "    \n",
    "    while left <= len(nums) - 1:\n",
    "        if nums[left] == 0:\n",
    "            nums.pop(left)\n",
    "            count_zeroes += 1\n",
    "        else:\n",
    "            left += 1\n",
    "            count_non_zeroes += 1\n",
    "    \n",
    "    for i in range(count_zeroes):\n",
    "        nums.append(0)\n",
    "        \n",
    "    print(count_non_zeroes)\n",
    "    \n",
    "    return nums"
   ]
  },
  {
   "cell_type": "code",
   "execution_count": 172,
   "id": "2db3310c",
   "metadata": {},
   "outputs": [
    {
     "name": "stdout",
     "output_type": "stream",
     "text": [
      "3\n"
     ]
    },
    {
     "data": {
      "text/plain": [
       "[1, 3, 12, 0, 0]"
      ]
     },
     "execution_count": 172,
     "metadata": {},
     "output_type": "execute_result"
    }
   ],
   "source": [
    "nums = [0,1,0,3,12]\n",
    "\n",
    "moveZeroes(nums)"
   ]
  },
  {
   "cell_type": "markdown",
   "id": "370ca9da",
   "metadata": {},
   "source": [
    "# 49. Range Sum Query - Immutable\n",
    "\n",
    "https://leetcode.com/problems/range-sum-query-immutable/"
   ]
  },
  {
   "cell_type": "code",
   "execution_count": 173,
   "id": "e29b8a76",
   "metadata": {},
   "outputs": [],
   "source": [
    "class NumArray(object):\n",
    "    def __init__(self, nums):\n",
    "        \"\"\"\n",
    "        initialize your data structure here.\n",
    "        :type nums: List[int]\n",
    "        \"\"\"\n",
    "        self.accu = [0]\n",
    "        for num in nums: \n",
    "            self.accu += self.accu[-1] + num,\n",
    "\n",
    "    def sumRange(self, i, j):\n",
    "        \"\"\"\n",
    "        sum of elements nums[i..j], inclusive.\n",
    "        :type i: int \n",
    "        :type j: int\n",
    "        :rtype: int \n",
    "        \"\"\"\n",
    "        return self.accu[j + 1] - self.accu[i]\n",
    "        "
   ]
  },
  {
   "cell_type": "code",
   "execution_count": 174,
   "id": "8e532c4b",
   "metadata": {},
   "outputs": [
    {
     "data": {
      "text/plain": [
       "['o', 'l', 'l', 'e', 'h']"
      ]
     },
     "execution_count": 174,
     "metadata": {},
     "output_type": "execute_result"
    }
   ],
   "source": [
    "s = [\"h\",\"e\",\"l\",\"l\",\"o\"]\n",
    "\n",
    "s[::-1]"
   ]
  },
  {
   "cell_type": "markdown",
   "id": "ed5623e1",
   "metadata": {},
   "source": [
    "# 50. Reverse vowels of a string\n",
    "\n",
    "https://leetcode.com/problems/reverse-vowels-of-a-string/"
   ]
  },
  {
   "cell_type": "code",
   "execution_count": 175,
   "id": "1657a7d7",
   "metadata": {},
   "outputs": [],
   "source": [
    "def reverseVowels(s: str) -> str:\n",
    "    vowels = ['a', 'e', 'i', 'o', 'u', 'A', 'E', 'I', 'O', 'U']\n",
    "    s = [i for i in s]\n",
    "\n",
    "    left = 0\n",
    "    right = len(s) - 1\n",
    "\n",
    "    while left < right:\n",
    "        left_val, right_val = s[left], s[right]\n",
    "\n",
    "        if left_val in vowels and right_val in vowels:\n",
    "            s[left], s[right] = s[right], s[left]\n",
    "            left += 1\n",
    "            right -= 1\n",
    "        elif left_val not in vowels and right_val in vowels:\n",
    "            left += 1\n",
    "        elif left_val in vowels and right_val not in vowels:\n",
    "            right -= 1\n",
    "        else:\n",
    "            left += 1\n",
    "            right -= 1\n",
    "\n",
    "    return \"\".join(s)\n"
   ]
  },
  {
   "cell_type": "code",
   "execution_count": 176,
   "id": "2993033d",
   "metadata": {},
   "outputs": [
    {
     "data": {
      "text/plain": [
       "'leotcede'"
      ]
     },
     "execution_count": 176,
     "metadata": {},
     "output_type": "execute_result"
    }
   ],
   "source": [
    "s = \"leetcode\"\n",
    "\n",
    "reverseVowels(s)"
   ]
  },
  {
   "cell_type": "markdown",
   "id": "063a622e",
   "metadata": {},
   "source": [
    "# 51. Moving average\n",
    "\n",
    "https://leetcode.com/problems/moving-average-from-data-stream/"
   ]
  },
  {
   "cell_type": "code",
   "execution_count": 1,
   "id": "cd101c74",
   "metadata": {},
   "outputs": [],
   "source": [
    "class MovingAverage:\n",
    "\n",
    "    def __init__(self, size: int):\n",
    "        self.size = size\n",
    "        self.stack = []\n",
    "\n",
    "    def next(self, val: int) -> float:\n",
    "        if len(self.stack) < self.size:\n",
    "            self.stack.append(val)\n",
    "        else:\n",
    "            self.stack.pop(0)\n",
    "            self.stack.append(val)\n",
    "        \n",
    "        return sum(self.stack) / len(self.stack)\n",
    "            "
   ]
  },
  {
   "cell_type": "markdown",
   "id": "85a2f57b",
   "metadata": {},
   "source": [
    "# 52. Intersection of two arrays\n",
    "\n",
    "https://leetcode.com/problems/intersection-of-two-arrays/"
   ]
  },
  {
   "cell_type": "code",
   "execution_count": 3,
   "id": "619b5e74",
   "metadata": {},
   "outputs": [],
   "source": [
    "def intersection(nums1, nums2):\n",
    "    result = []\n",
    "\n",
    "\n",
    "    for i in range(len(nums1)):\n",
    "        if nums1[i] in nums2 and nums1[i] not in result:\n",
    "            result.append(nums1[i])\n",
    "\n",
    "    return result"
   ]
  },
  {
   "cell_type": "code",
   "execution_count": 4,
   "id": "fd00cda6",
   "metadata": {},
   "outputs": [
    {
     "data": {
      "text/plain": [
       "[2]"
      ]
     },
     "execution_count": 4,
     "metadata": {},
     "output_type": "execute_result"
    }
   ],
   "source": [
    "nums1 = [1,2,2,1]\n",
    "nums2 = [2,2]\n",
    "\n",
    "intersection(nums1, nums2)"
   ]
  },
  {
   "cell_type": "markdown",
   "id": "f33f37e9",
   "metadata": {},
   "source": [
    "# 53. Intersection of Two Arrays II\n",
    "\n",
    "https://leetcode.com/problems/intersection-of-two-arrays-ii/"
   ]
  },
  {
   "cell_type": "code",
   "execution_count": 13,
   "id": "aa38bc03",
   "metadata": {},
   "outputs": [],
   "source": [
    "from collections import Counter\n",
    "\n",
    "def intersect(nums1, nums2):\n",
    "        \n",
    "    c = Counter(nums1) & Counter(nums2)\n",
    "\n",
    "    return list(c.elements())"
   ]
  },
  {
   "cell_type": "code",
   "execution_count": 14,
   "id": "624c7cec",
   "metadata": {},
   "outputs": [
    {
     "data": {
      "text/plain": [
       "[4, 9]"
      ]
     },
     "execution_count": 14,
     "metadata": {},
     "output_type": "execute_result"
    }
   ],
   "source": [
    "nums1 = [4,9,5] \n",
    "nums2 = [9,4,9,8,4]\n",
    "intersect(nums1, nums2)\n"
   ]
  },
  {
   "cell_type": "markdown",
   "id": "7955f667",
   "metadata": {},
   "source": [
    "# 54. Longest Continuous Increasing Subsequence\n",
    "\n",
    "https://leetcode.com/problems/longest-continuous-increasing-subsequence/"
   ]
  },
  {
   "cell_type": "code",
   "execution_count": 15,
   "id": "b09ae77b",
   "metadata": {},
   "outputs": [],
   "source": [
    "def findLengthOfLCIS(nums):\n",
    "    if len(nums) == 1:\n",
    "        return 1\n",
    "    \n",
    "    ans = 0\n",
    "    left = 0\n",
    "    \n",
    "    \n",
    "    for i in range(1, len(nums)):\n",
    "        if nums[i - 1] >= nums[i]:\n",
    "            left = i\n",
    "        ans = max(ans, i - left + 1)\n",
    "    return ans\n",
    "        "
   ]
  },
  {
   "cell_type": "code",
   "execution_count": 16,
   "id": "3479366b",
   "metadata": {},
   "outputs": [
    {
     "data": {
      "text/plain": [
       "3"
      ]
     },
     "execution_count": 16,
     "metadata": {},
     "output_type": "execute_result"
    }
   ],
   "source": [
    "nums = [1,3,5,4,7]\n",
    "\n",
    "findLengthOfLCIS(nums)"
   ]
  },
  {
   "cell_type": "markdown",
   "id": "c24e13a3",
   "metadata": {},
   "source": [
    "# 55. Remove All Adjacent Duplicates In String\n",
    "\n",
    "https://leetcode.com/problems/remove-all-adjacent-duplicates-in-string/"
   ]
  },
  {
   "cell_type": "code",
   "execution_count": 17,
   "id": "73895477",
   "metadata": {},
   "outputs": [],
   "source": [
    "def removeDuplicates(s):\n",
    "    stack = []\n",
    "    \n",
    "    for i in s:\n",
    "        if len(stack) > 0 and stack[-1] == i:\n",
    "            stack.pop()\n",
    "        else:\n",
    "            stack.append(i)\n",
    "    \n",
    "    return \"\".join(stack)"
   ]
  },
  {
   "cell_type": "code",
   "execution_count": 18,
   "id": "09b73c00",
   "metadata": {},
   "outputs": [
    {
     "data": {
      "text/plain": [
       "'ca'"
      ]
     },
     "execution_count": 18,
     "metadata": {},
     "output_type": "execute_result"
    }
   ],
   "source": [
    "s = \"abbaca\"\n",
    "\n",
    "removeDuplicates(s)"
   ]
  },
  {
   "cell_type": "code",
   "execution_count": null,
   "id": "52d47203",
   "metadata": {},
   "outputs": [],
   "source": []
  }
 ],
 "metadata": {
  "kernelspec": {
   "display_name": "Python 3 (ipykernel)",
   "language": "python",
   "name": "python3"
  },
  "language_info": {
   "codemirror_mode": {
    "name": "ipython",
    "version": 3
   },
   "file_extension": ".py",
   "mimetype": "text/x-python",
   "name": "python",
   "nbconvert_exporter": "python",
   "pygments_lexer": "ipython3",
   "version": "3.11.4"
  }
 },
 "nbformat": 4,
 "nbformat_minor": 5
}
