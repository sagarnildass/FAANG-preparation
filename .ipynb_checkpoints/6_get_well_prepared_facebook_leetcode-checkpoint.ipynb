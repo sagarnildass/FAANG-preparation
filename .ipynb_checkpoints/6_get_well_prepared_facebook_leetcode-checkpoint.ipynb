{
 "cells": [
  {
   "cell_type": "markdown",
   "id": "311c3611",
   "metadata": {},
   "source": [
    "# 1. Longest Substring without repeating characters\n",
    "\n",
    "https://leetcode.com/explore/interview/card/facebook/5/array-and-strings/3008/"
   ]
  },
  {
   "cell_type": "code",
   "execution_count": 157,
   "id": "b65f7360",
   "metadata": {},
   "outputs": [],
   "source": [
    "from collections import Counter\n",
    "import collections\n"
   ]
  },
  {
   "cell_type": "code",
   "execution_count": 5,
   "id": "27138974",
   "metadata": {},
   "outputs": [],
   "source": [
    "def lengthOfLongestSubstring(s):\n",
    "    if len(s) <= 1:\n",
    "        return 1\n",
    "    \n",
    "    longest = 0\n",
    "    left = 0\n",
    "    seenChars = {}\n",
    "    \n",
    "    for right in range(len(s)):\n",
    "        currentChar = s[right]\n",
    "        prevseenChar = -1\n",
    "        if currentChar in seenChars.keys():\n",
    "            prevseenChar = seenChars[currentChar]\n",
    "        \n",
    "        if left <= prevseenChar:\n",
    "            left = prevseenChar + 1\n",
    "        \n",
    "        seenChars[currentChar] = right\n",
    "        longest = max(longest, right - left + 1)\n",
    "    return longest"
   ]
  },
  {
   "cell_type": "code",
   "execution_count": 8,
   "id": "b8e1784c",
   "metadata": {},
   "outputs": [
    {
     "data": {
      "text/plain": [
       "4"
      ]
     },
     "execution_count": 8,
     "metadata": {},
     "output_type": "execute_result"
    }
   ],
   "source": [
    "s = \"pwwkew\"\n",
    "lengthOfLongestSubstring(s)"
   ]
  },
  {
   "cell_type": "code",
   "execution_count": 14,
   "id": "4cff0cc2",
   "metadata": {},
   "outputs": [
    {
     "data": {
      "text/plain": [
       "-12"
      ]
     },
     "execution_count": 14,
     "metadata": {},
     "output_type": "execute_result"
    }
   ],
   "source": [
    "a = ['-', '12']\n",
    "\n",
    "int(\"\".join(a))"
   ]
  },
  {
   "cell_type": "markdown",
   "id": "83d06775",
   "metadata": {},
   "source": [
    "# 2. String to Integer\n",
    "\n",
    "https://leetcode.com/explore/interview/card/facebook/5/array-and-strings/3009/"
   ]
  },
  {
   "cell_type": "code",
   "execution_count": 22,
   "id": "b92d6a64",
   "metadata": {},
   "outputs": [],
   "source": [
    "def myAtoi(s):\n",
    "    \n",
    "    sign = 1 \n",
    "    result = 0\n",
    "    index = 0\n",
    "    n = len(s)\n",
    "\n",
    "    INT_MAX = pow(2,31) - 1 \n",
    "    INT_MIN = -pow(2,31)\n",
    "\n",
    "    # Discard all spaces from the beginning of the input string.\n",
    "    while index < n and s[index] == ' ':\n",
    "        index += 1\n",
    "\n",
    "    # sign = +1, if it's positive number, otherwise sign = -1. \n",
    "    if index < n and s[index] == '+':\n",
    "        sign = 1\n",
    "        index += 1\n",
    "    elif index < n and s[index] == '-':\n",
    "        sign = -1\n",
    "        index += 1\n",
    "\n",
    "    # Traverse next digits of input and stop if it is not a digit. \n",
    "    # End of string is also non-digit character.\n",
    "    while index < n and s[index].isdigit():\n",
    "        digit = int(s[index])\n",
    "\n",
    "        # Check overflow and underflow conditions. \n",
    "        if ((result > INT_MAX // 10) or (result == INT_MAX // 10 and digit > INT_MAX % 10)):\n",
    "            # If integer overflowed return 2^31-1, otherwise if underflowed return -2^31.    \n",
    "            return INT_MAX if sign == 1 else INT_MIN\n",
    "\n",
    "        # Append current digit to the result.\n",
    "        result = 10 * result + digit\n",
    "        index += 1\n",
    "\n",
    "    # We have formed a valid number without any overflow/underflow.\n",
    "    # Return it after multiplying it with its sign.\n",
    "    return sign * result"
   ]
  },
  {
   "cell_type": "code",
   "execution_count": 23,
   "id": "2c0eb623",
   "metadata": {},
   "outputs": [
    {
     "data": {
      "text/plain": [
       "42"
      ]
     },
     "execution_count": 23,
     "metadata": {},
     "output_type": "execute_result"
    }
   ],
   "source": [
    "s = \"42\"\n",
    "myAtoi(s)"
   ]
  },
  {
   "cell_type": "code",
   "execution_count": 24,
   "id": "a1277296",
   "metadata": {},
   "outputs": [
    {
     "data": {
      "text/plain": [
       "4193"
      ]
     },
     "execution_count": 24,
     "metadata": {},
     "output_type": "execute_result"
    }
   ],
   "source": [
    "s = \"4193 with words\"\n",
    "myAtoi(s)"
   ]
  },
  {
   "cell_type": "code",
   "execution_count": 25,
   "id": "222f59e0",
   "metadata": {},
   "outputs": [
    {
     "data": {
      "text/plain": [
       "0"
      ]
     },
     "execution_count": 25,
     "metadata": {},
     "output_type": "execute_result"
    }
   ],
   "source": [
    "s = \"words and 987\"\n",
    "myAtoi(s)"
   ]
  },
  {
   "cell_type": "markdown",
   "id": "19360ca5",
   "metadata": {},
   "source": [
    "# 3. Roman to Integer\n",
    "\n",
    "https://leetcode.com/explore/interview/card/facebook/5/array-and-strings/3010/"
   ]
  },
  {
   "cell_type": "code",
   "execution_count": 30,
   "id": "615812d3",
   "metadata": {},
   "outputs": [],
   "source": [
    "def romanToInt(s):\n",
    "    values = {\n",
    "    \"I\": 1,\n",
    "    \"V\": 5,\n",
    "    \"X\": 10,\n",
    "    \"L\": 50,\n",
    "    \"C\": 100,\n",
    "    \"D\": 500,\n",
    "    \"M\": 1000,\n",
    "}\n",
    "\n",
    "    total = 0\n",
    "    i = 0\n",
    "    \n",
    "    while i < len(s):\n",
    "        if i + 1 < len(s) and values[s[i]] < values[s[i+1]]:\n",
    "            total += values[s[i+1]] - values[s[i]]\n",
    "            i += 2\n",
    "        else:\n",
    "            total += values[s[i]]\n",
    "            i += 1\n",
    "    return total"
   ]
  },
  {
   "cell_type": "code",
   "execution_count": 31,
   "id": "e6f9675d",
   "metadata": {},
   "outputs": [
    {
     "data": {
      "text/plain": [
       "58"
      ]
     },
     "execution_count": 31,
     "metadata": {},
     "output_type": "execute_result"
    }
   ],
   "source": [
    "s = \"LVIII\"\n",
    "romanToInt(s)"
   ]
  },
  {
   "cell_type": "code",
   "execution_count": 32,
   "id": "e63423ee",
   "metadata": {},
   "outputs": [
    {
     "data": {
      "text/plain": [
       "1994"
      ]
     },
     "execution_count": 32,
     "metadata": {},
     "output_type": "execute_result"
    }
   ],
   "source": [
    "s = \"MCMXCIV\"\n",
    "romanToInt(s)"
   ]
  },
  {
   "cell_type": "markdown",
   "id": "8ae4d19e",
   "metadata": {},
   "source": [
    "# 4. Remove Duplicates from Sorted Array\n",
    "\n",
    "https://leetcode.com/explore/interview/card/facebook/5/array-and-strings/3011/"
   ]
  },
  {
   "cell_type": "code",
   "execution_count": 70,
   "id": "00a3fd8b",
   "metadata": {},
   "outputs": [],
   "source": [
    "def removeDuplicates(nums):\n",
    "    if len(nums) == 0:\n",
    "        return 0\n",
    "    \n",
    "    i = 0\n",
    "    \n",
    "    for j in range(1, len(nums)):\n",
    "        if nums[j] != nums[i]:\n",
    "            i += 1\n",
    "            nums[i] = nums[j]\n",
    "    \n",
    "    return i + 1"
   ]
  },
  {
   "cell_type": "code",
   "execution_count": 71,
   "id": "9912fb4f",
   "metadata": {},
   "outputs": [
    {
     "data": {
      "text/plain": [
       "5"
      ]
     },
     "execution_count": 71,
     "metadata": {},
     "output_type": "execute_result"
    }
   ],
   "source": [
    "nums = [0,0,1,1,1,2,2,3,3,4]\n",
    "removeDuplicates(nums)"
   ]
  },
  {
   "cell_type": "markdown",
   "id": "f8728cde",
   "metadata": {},
   "source": [
    "# 5. Group Anagrams\n",
    "\n",
    "https://leetcode.com/explore/interview/card/facebook/5/array-and-strings/3014/"
   ]
  },
  {
   "cell_type": "code",
   "execution_count": 135,
   "id": "5b0b405c",
   "metadata": {},
   "outputs": [],
   "source": [
    "import collections\n",
    "# O(NK)\n",
    "def groupAnagrams(strs):\n",
    "    ans = collections.defaultdict(list)\n",
    "    \n",
    "    for s in strs:\n",
    "        count = [0] * 26\n",
    "        for c in s:\n",
    "            count[ord(c) - ord('a')] += 1\n",
    "        ans[tuple(count)].append(s)\n",
    "    return ans.values()"
   ]
  },
  {
   "cell_type": "code",
   "execution_count": 136,
   "id": "ab14281c",
   "metadata": {},
   "outputs": [
    {
     "data": {
      "text/plain": [
       "dict_values([[['a', 'e', 't'], ['a', 'e', 't'], ['a', 'e', 't']], [['a', 'n', 't'], ['a', 'n', 't']], [['a', 'b', 't']]])"
      ]
     },
     "execution_count": 136,
     "metadata": {},
     "output_type": "execute_result"
    }
   ],
   "source": [
    "[\"eat\",\"tea\",\"tan\",\"ate\",\"nat\",\"bat\"]\n",
    "groupAnagrams(strs)"
   ]
  },
  {
   "cell_type": "markdown",
   "id": "4cc0b193",
   "metadata": {},
   "source": [
    "# 6. Add Binary\n",
    "\n",
    "https://leetcode.com/explore/interview/card/facebook/5/array-and-strings/263/"
   ]
  },
  {
   "cell_type": "code",
   "execution_count": 143,
   "id": "0f4673e2",
   "metadata": {},
   "outputs": [],
   "source": [
    "def addBinary(a, b):\n",
    "    return '{0:b}'.format(int(a, 2) + int(b, 2))"
   ]
  },
  {
   "cell_type": "code",
   "execution_count": 145,
   "id": "5ce99065",
   "metadata": {},
   "outputs": [
    {
     "data": {
      "text/plain": [
       "'100'"
      ]
     },
     "execution_count": 145,
     "metadata": {},
     "output_type": "execute_result"
    }
   ],
   "source": [
    "addBinary('11', '1')"
   ]
  },
  {
   "cell_type": "markdown",
   "id": "280bc515",
   "metadata": {},
   "source": [
    "# 7. Valid Palindrome\n",
    "\n",
    "https://leetcode.com/explore/interview/card/facebook/5/array-and-strings/288/"
   ]
  },
  {
   "cell_type": "code",
   "execution_count": 146,
   "id": "2bbc5112",
   "metadata": {},
   "outputs": [],
   "source": [
    "def isPalindrome(s):\n",
    "    left = 0\n",
    "    right = len(s) - 1\n",
    "    \n",
    "    while left < right:\n",
    "        while left < right and not s[left].isalnum():\n",
    "            left += 1\n",
    "        while left < right and not s[right].isalnum():\n",
    "            right -= 1\n",
    "        if s[left].lower() != s[right].lower():\n",
    "            return False\n",
    "        left += 1\n",
    "        right -= 1\n",
    "    return True"
   ]
  },
  {
   "cell_type": "code",
   "execution_count": 149,
   "id": "e58b428d",
   "metadata": {},
   "outputs": [
    {
     "data": {
      "text/plain": [
       "True"
      ]
     },
     "execution_count": 149,
     "metadata": {},
     "output_type": "execute_result"
    }
   ],
   "source": [
    "s = \"A man, a plan, a canal: Panama\"\n",
    "isPalindrome(s)"
   ]
  },
  {
   "cell_type": "markdown",
   "id": "8a61112f",
   "metadata": {},
   "source": [
    "# 8. Valid Palindrome II\n",
    "\n",
    "https://leetcode.com/explore/interview/card/facebook/5/array-and-strings/289/"
   ]
  },
  {
   "cell_type": "code",
   "execution_count": 150,
   "id": "30a8c4ad",
   "metadata": {},
   "outputs": [],
   "source": [
    "def validPalindrome(s):\n",
    "    def checkPalindrome(s, i, j):\n",
    "        while i < j:\n",
    "            if s[i] != s[j]:\n",
    "                return False\n",
    "            i += 1\n",
    "            j -= 1\n",
    "        return True\n",
    "    \n",
    "    i = 0\n",
    "    j = len(s) - 1\n",
    "    \n",
    "    while i < j:\n",
    "        if s[i] != s[j]:\n",
    "            return checkPalindrome(s, i+1, j) or checkPalindrome(s, i, j-1)\n",
    "        i += 1\n",
    "        j -= 1\n",
    "    \n",
    "    return True"
   ]
  },
  {
   "cell_type": "code",
   "execution_count": 153,
   "id": "c95ca40e",
   "metadata": {},
   "outputs": [
    {
     "data": {
      "text/plain": [
       "True"
      ]
     },
     "execution_count": 153,
     "metadata": {},
     "output_type": "execute_result"
    }
   ],
   "source": [
    "s = \"abca\"\n",
    "validPalindrome(s)"
   ]
  },
  {
   "cell_type": "markdown",
   "id": "5cd0b281",
   "metadata": {},
   "source": [
    "# 9. Minimum Window Substring\n",
    "\n",
    "https://leetcode.com/explore/interview/card/facebook/5/array-and-strings/285/"
   ]
  },
  {
   "cell_type": "code",
   "execution_count": 159,
   "id": "6de990fa",
   "metadata": {},
   "outputs": [],
   "source": [
    "\n",
    "def minWindow(s, t):\n",
    "    if not t or not s:\n",
    "        return \"\"\n",
    "    \n",
    "    dict_t = Counter (t)\n",
    "    \n",
    "    \n",
    "    "
   ]
  },
  {
   "cell_type": "code",
   "execution_count": 154,
   "id": "d4a18f09",
   "metadata": {},
   "outputs": [],
   "source": [
    "s = \"ADOBECODEBANC\"\n",
    "t = \"ABC\"\n",
    "\n",
    "length = 0\n",
    "left = 0\n",
    "substrings = {}\n",
    "\n",
    "for right in range(len(s)):\n",
    "    if t in s[left:right]:\n",
    "        substrings[right - left + 1] = s[left:right]\n",
    "        left = right + 1"
   ]
  },
  {
   "cell_type": "code",
   "execution_count": 155,
   "id": "3942a9ae",
   "metadata": {},
   "outputs": [
    {
     "data": {
      "text/plain": [
       "{}"
      ]
     },
     "execution_count": 155,
     "metadata": {},
     "output_type": "execute_result"
    }
   ],
   "source": [
    "substrings"
   ]
  },
  {
   "cell_type": "code",
   "execution_count": 156,
   "id": "ed43d4d5",
   "metadata": {},
   "outputs": [
    {
     "data": {
      "text/plain": [
       "False"
      ]
     },
     "execution_count": 156,
     "metadata": {},
     "output_type": "execute_result"
    }
   ],
   "source": [
    "set(t)"
   ]
  },
  {
   "cell_type": "code",
   "execution_count": 158,
   "id": "11b425bb",
   "metadata": {},
   "outputs": [
    {
     "data": {
      "text/plain": [
       "Counter({'A': 1, 'B': 1, 'C': 1})"
      ]
     },
     "execution_count": 158,
     "metadata": {},
     "output_type": "execute_result"
    }
   ],
   "source": [
    "Counter(t)"
   ]
  },
  {
   "cell_type": "code",
   "execution_count": null,
   "id": "68acfb14",
   "metadata": {},
   "outputs": [],
   "source": []
  }
 ],
 "metadata": {
  "kernelspec": {
   "display_name": "Python 3 (ipykernel)",
   "language": "python",
   "name": "python3"
  },
  "language_info": {
   "codemirror_mode": {
    "name": "ipython",
    "version": 3
   },
   "file_extension": ".py",
   "mimetype": "text/x-python",
   "name": "python",
   "nbconvert_exporter": "python",
   "pygments_lexer": "ipython3",
   "version": "3.8.3"
  }
 },
 "nbformat": 4,
 "nbformat_minor": 5
}
