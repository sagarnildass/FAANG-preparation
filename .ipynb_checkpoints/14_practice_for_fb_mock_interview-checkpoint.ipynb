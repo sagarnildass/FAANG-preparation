{
 "cells": [
  {
   "cell_type": "markdown",
   "id": "12326d04",
   "metadata": {},
   "source": [
    "# A) LeetCode List\n",
    "\n",
    "https://leetcode.com/discuss/interview-question/790428/Facebook-Phone-Interview-Questions\n",
    "\n",
    "# 1. Product of array except self"
   ]
  },
  {
   "cell_type": "code",
   "execution_count": 8,
   "id": "a5a64486",
   "metadata": {},
   "outputs": [],
   "source": [
    "def productExceptSelf(nums):\n",
    "    \n",
    "    n = len(nums)\n",
    "    \n",
    "    L, R, ans = [0]*n, [0]*n, [0]*n\n",
    "    \n",
    "    L[0] = 1\n",
    "    \n",
    "    for i in range(1, n):\n",
    "        L[i] = L[i-1] * nums[i-1]\n",
    "    \n",
    "    R[n-1] = 1\n",
    "    \n",
    "    for i in reversed(range(n-1)):\n",
    "        R[i] = R[i+1] * nums[i+1]\n",
    "    \n",
    "    for i in range(len(nums)):\n",
    "        ans[i] = L[i] * R[i]\n",
    "    \n",
    "    return ans"
   ]
  },
  {
   "cell_type": "code",
   "execution_count": 9,
   "id": "72900b3b",
   "metadata": {},
   "outputs": [
    {
     "data": {
      "text/plain": [
       "[24, 12, 8, 6]"
      ]
     },
     "execution_count": 9,
     "metadata": {},
     "output_type": "execute_result"
    }
   ],
   "source": [
    "nums = [1,2,3,4]\n",
    "productExceptSelf(nums)"
   ]
  },
  {
   "cell_type": "markdown",
   "id": "ed2ad729",
   "metadata": {},
   "source": [
    "# 2. Left most column with at least a one"
   ]
  },
  {
   "cell_type": "code",
   "execution_count": 10,
   "id": "7251ed4e",
   "metadata": {},
   "outputs": [],
   "source": [
    "import math\n",
    "\n",
    "def leftMostColumnWithOne(binaryMatrix):\n",
    "    rows, cols = binaryMatrix.dimensions()\n",
    "    smallest_index = cols\n",
    "    \n",
    "    for row in range(rows):\n",
    "        low = 0\n",
    "        high = cols - 1\n",
    "        \n",
    "        while low < high:\n",
    "            mid = math.floor((low + high)/2)\n",
    "            if binaryMatrix.get(row, mid) == 0:\n",
    "                low = mid + 1\n",
    "            else:\n",
    "                high = mid\n",
    "        \n",
    "        if binaryMatrix.get(row, low) == 1:\n",
    "            smallest_index = min(smallest_index, low)\n",
    "    \n",
    "    if smallest_index == cols:\n",
    "        return -1\n",
    "    else:\n",
    "        return smallest_index"
   ]
  },
  {
   "cell_type": "markdown",
   "id": "ba0e8b62",
   "metadata": {},
   "source": [
    "# 3. Employee free time"
   ]
  },
  {
   "cell_type": "code",
   "execution_count": 17,
   "id": "3c4bcd78",
   "metadata": {},
   "outputs": [],
   "source": [
    "def employeeFreeTime(schedule):\n",
    "    ints = sorted([i for s in schedule for i in s], key=lambda x:x.start)\n",
    "    res, pre = [], ints[0]\n",
    "    \n",
    "    for i in ints[1:]:\n",
    "        if i.start <= pre.end and i.end > pre.end:\n",
    "            pre.end = i.end\n",
    "        elif i.start > pre.end:\n",
    "            res.append(Interval(pre.end, i.start))\n",
    "            pre = i\n",
    "    return res"
   ]
  },
  {
   "cell_type": "markdown",
   "id": "963eb5be",
   "metadata": {},
   "source": [
    "# 4. Subarray sum equals k"
   ]
  },
  {
   "cell_type": "code",
   "execution_count": 18,
   "id": "6d9e6b5c",
   "metadata": {},
   "outputs": [],
   "source": [
    "# Brute force --> O(n^2)\n",
    "def subarraySum(nums, k):\n",
    "    count = 0\n",
    "    \n",
    "    for start in range(len(nums)):\n",
    "        sums = 0\n",
    "        for end in range(start, len(nums)):\n",
    "            sums += nums[end]\n",
    "            if sums == k:\n",
    "                count += 1\n",
    "    return count"
   ]
  },
  {
   "cell_type": "code",
   "execution_count": 24,
   "id": "168f5d22",
   "metadata": {},
   "outputs": [],
   "source": [
    "# Hashmap: O(n)\n",
    "from collections import defaultdict\n",
    "def subarraySum(nums, k):\n",
    "    count = 0\n",
    "    dict_cumsum = defaultdict(int)\n",
    "    curr_sum = 0\n",
    "    \n",
    "    for i in range(len(nums)):\n",
    "        curr_sum += nums[i]\n",
    "        \n",
    "        if curr_sum == k:\n",
    "            count += 1\n",
    "        \n",
    "        if curr_sum - k in dict_cumsum:\n",
    "            count += dict_cumsum[curr_sum - k]\n",
    "        \n",
    "        dict_cumsum[curr_sum] += 1\n",
    "    \n",
    "    return count"
   ]
  },
  {
   "cell_type": "code",
   "execution_count": 25,
   "id": "e57ed704",
   "metadata": {},
   "outputs": [
    {
     "data": {
      "text/plain": [
       "2"
      ]
     },
     "execution_count": 25,
     "metadata": {},
     "output_type": "execute_result"
    }
   ],
   "source": [
    "nums = [1,1,1]\n",
    "k = 2\n",
    "subarraySum(nums,k)"
   ]
  },
  {
   "cell_type": "code",
   "execution_count": 26,
   "id": "e30c170e",
   "metadata": {},
   "outputs": [
    {
     "data": {
      "text/plain": [
       "2"
      ]
     },
     "execution_count": 26,
     "metadata": {},
     "output_type": "execute_result"
    }
   ],
   "source": [
    "nums = [1,2,3]\n",
    "k = 3\n",
    "subarraySum(nums,k)"
   ]
  },
  {
   "cell_type": "markdown",
   "id": "ef8a818d",
   "metadata": {},
   "source": [
    "# 5. Copy list with a random pointer"
   ]
  },
  {
   "cell_type": "code",
   "execution_count": 27,
   "id": "63ded615",
   "metadata": {},
   "outputs": [],
   "source": [
    "class Solution:\n",
    "    def __init__(self):\n",
    "        self.visitedHash = {}\n",
    "    \n",
    "    def copyRandomList(self, head):\n",
    "        if head is None:\n",
    "            return None\n",
    "        \n",
    "        if head in self.visitedHash:\n",
    "            return self.visitedHash[head]\n",
    "        \n",
    "        node = Node(head.val, 0, 0)\n",
    "        \n",
    "        self.visitedHash[head] = node\n",
    "        \n",
    "        node.next = self.copyRandomList(head.next)\n",
    "        node.random = self.copyRandomList(head.random)\n",
    "        \n",
    "        return node\n",
    "    "
   ]
  },
  {
   "cell_type": "markdown",
   "id": "e87a4fd0",
   "metadata": {},
   "source": [
    "# 6. Serialize and Deserialize binary tree"
   ]
  },
  {
   "cell_type": "code",
   "execution_count": 29,
   "id": "19e6c693",
   "metadata": {},
   "outputs": [],
   "source": [
    "def serialize(self, root):\n",
    "    \n",
    "    if not root:\n",
    "        return ''\n",
    "    \n",
    "    queue = [root]\n",
    "    \n",
    "    result = ''\n",
    "    \n",
    "    while len(queue) > 0:\n",
    "        currNode = queue.pop(0)\n",
    "        \n",
    "        if currNode is None:\n",
    "            result += 'None,'\n",
    "            continue\n",
    "        \n",
    "        result += str(currNode.val) + ','\n",
    "        \n",
    "        queue.append(currNode.left)\n",
    "        queue.append(currNode.right)\n",
    "    \n",
    "    return result\n",
    "\n",
    "def deserialize(data):\n",
    "    \n",
    "    if not data:\n",
    "        return None\n",
    "    \n",
    "    list_string = data.split(',')\n",
    "    \n",
    "    root = TreeNode(int(list_string[0]))\n",
    "    \n",
    "    queue = [root]\n",
    "    \n",
    "    counter = 1\n",
    "    \n",
    "    while len(queue) > 0 and counter < len(list_string):\n",
    "        currNode = queue.pop(0)\n",
    "        \n",
    "        if list_string[counter] is not None:\n",
    "            left = TreeNode(int(list_string[counter]))\n",
    "            currNode.left = left\n",
    "            queue.append(left)\n",
    "        counter += 1\n",
    "        \n",
    "        if list_string[counter] is not None:\n",
    "            right = TreeNode(int(list_string[counter]))\n",
    "            currNode.right = right\n",
    "            queue.append(right)\n",
    "        counter += 1\n",
    "    return root\n",
    "        "
   ]
  },
  {
   "attachments": {
    "image.png": {
     "image/png": "[encoded data removed]"
    }
   },
   "cell_type": "markdown",
   "id": "82027051",
   "metadata": {},
   "source": [
    "# 7. Word break\n",
    "\n",
    "![image.png](attachment:image.png)"
   ]
  },
  {
   "cell_type": "code",
   "execution_count": 32,
   "id": "9a26feac",
   "metadata": {},
   "outputs": [],
   "source": [
    "def wordBreak(s, wordDict):\n",
    "    wordSet = set(wordDict)\n",
    "    memo = defaultdict(list)\n",
    "    \n",
    "    def wordbreak_topdown(s):\n",
    "        if not s:\n",
    "            return [[]]\n",
    "        \n",
    "        if s in memo:\n",
    "            return memo[s]\n",
    "        \n",
    "        for endIndex in range(1, len(s) + 1):\n",
    "            word = s[:endIndex]\n",
    "            \n",
    "            if word in wordSet:\n",
    "                for subSentence in wordbreak_topdown(s[endIndex:]):\n",
    "                    memo[s].append([word] + subSentence)\n",
    "        return memo[s]\n",
    "    \n",
    "    wordbreak_topdown(s)\n",
    "    \n",
    "    return [\" \".join(words) for words in memo[s]]"
   ]
  },
  {
   "cell_type": "code",
   "execution_count": 33,
   "id": "a9d3132d",
   "metadata": {},
   "outputs": [
    {
     "data": {
      "text/plain": [
       "['cat sand dog', 'cats and dog']"
      ]
     },
     "execution_count": 33,
     "metadata": {},
     "output_type": "execute_result"
    }
   ],
   "source": [
    "s = \"catsanddog\"\n",
    "wordDict = [\"cat\",\"cats\",\"and\",\"sand\",\"dog\"]\n",
    "\n",
    "wordBreak(s, wordDict)"
   ]
  },
  {
   "cell_type": "markdown",
   "id": "576f14ad",
   "metadata": {},
   "source": [
    "# 8. Generate parenthesis"
   ]
  },
  {
   "cell_type": "code",
   "execution_count": 34,
   "id": "fa02d955",
   "metadata": {},
   "outputs": [],
   "source": [
    "def generateParenthesis(n):\n",
    "    \n",
    "    result = []\n",
    "    stack = []\n",
    "    \n",
    "    left_bracket_count = 0\n",
    "    right_bracket_count = 0\n",
    "    \n",
    "    def backtrack(stack, left_bracket_count, right_bracket_count):\n",
    "        if len(stack) == 2 * n:\n",
    "            result.append(\"\".join(stack))\n",
    "            return\n",
    "        \n",
    "        if left_bracket_count < n:\n",
    "            stack.append(\"(\")\n",
    "            backtrack(stack, left_bracket_count + 1, right_bracket_count)\n",
    "            stack.pop()\n",
    "        \n",
    "        if right_bracket_count < left_bracket_count:\n",
    "            stack.append(')')\n",
    "            backtrack(stack, left_bracket_count, right_bracket_count + 1)\n",
    "            stack.pop()\n",
    "    \n",
    "    backtrack(stack, left_bracket_count, right_bracket_count)\n",
    "    return result\n",
    "        "
   ]
  },
  {
   "cell_type": "code",
   "execution_count": 35,
   "id": "47eda79c",
   "metadata": {},
   "outputs": [
    {
     "data": {
      "text/plain": [
       "['((()))', '(()())', '(())()', '()(())', '()()()']"
      ]
     },
     "execution_count": 35,
     "metadata": {},
     "output_type": "execute_result"
    }
   ],
   "source": [
    "generateParenthesis(3)"
   ]
  },
  {
   "cell_type": "markdown",
   "id": "e1f43b2c",
   "metadata": {},
   "source": [
    "# 9. nth digit"
   ]
  },
  {
   "cell_type": "code",
   "execution_count": 36,
   "id": "1ba5d390",
   "metadata": {},
   "outputs": [],
   "source": [
    "def findNthDigit(n):\n",
    "    \n",
    "    digit = base = 1\n",
    "    \n",
    "    while n > 9 * base * digit:\n",
    "        n -= 9 * base * digit\n",
    "        digit += 1\n",
    "        base *= 10\n",
    "    \n",
    "    q = (n - 1)//digit\n",
    "    r = (n - 1)% digit\n",
    "    \n",
    "    return int(str(base + q)[r])"
   ]
  },
  {
   "cell_type": "code",
   "execution_count": 39,
   "id": "a7f73ced",
   "metadata": {},
   "outputs": [
    {
     "data": {
      "text/plain": [
       "1"
      ]
     },
     "execution_count": 39,
     "metadata": {},
     "output_type": "execute_result"
    }
   ],
   "source": [
    "findNthDigit(10)"
   ]
  },
  {
   "cell_type": "markdown",
   "id": "b03542de",
   "metadata": {},
   "source": [
    "# 10. Accounts merge"
   ]
  },
  {
   "cell_type": "code",
   "execution_count": 55,
   "id": "652f21c0",
   "metadata": {},
   "outputs": [],
   "source": [
    "def accountsMerge(accounts):\n",
    "    visited = [False] * len(accounts)\n",
    "    result = []\n",
    "    email_accounts_map = defaultdict(list)\n",
    "    \n",
    "    for i, account in enumerate(accounts):\n",
    "        for j in range(1, len(account)):\n",
    "            email = account[j]\n",
    "            email_accounts_map[email].append(i)\n",
    "    \n",
    "    def dfs(i, emails):\n",
    "        if visited[i]:\n",
    "            return \n",
    "        \n",
    "        visited[i] = True\n",
    "        \n",
    "        for j in range(1, len(accounts[i])):\n",
    "            email = accounts[i][j]\n",
    "            emails.add(email)\n",
    "            for neighbor in email_accounts_map[email]:\n",
    "                dfs(neighbor, emails)\n",
    "    \n",
    "    for i, account in enumerate(accounts):\n",
    "        if visited[i]:\n",
    "            continue\n",
    "        name, emails = account[0], set()\n",
    "        dfs(i, emails)\n",
    "        result.append([name] + sorted(emails))\n",
    "    \n",
    "    return result"
   ]
  },
  {
   "cell_type": "code",
   "execution_count": 54,
   "id": "bb3fc1af",
   "metadata": {},
   "outputs": [
    {
     "data": {
      "text/plain": [
       "[['John', 'john00@mail.com', 'john_newyork@mail.com', 'johnsmith@mail.com'],\n",
       " ['Mary', 'mary@mail.com'],\n",
       " ['John', 'johnnybravo@mail.com']]"
      ]
     },
     "execution_count": 54,
     "metadata": {},
     "output_type": "execute_result"
    }
   ],
   "source": [
    "accounts = [[\"John\",\"johnsmith@mail.com\",\"john_newyork@mail.com\"],\n",
    "            [\"John\",\"johnsmith@mail.com\",\"john00@mail.com\"],\n",
    "            [\"Mary\",\"mary@mail.com\"],\n",
    "            [\"John\",\"johnnybravo@mail.com\"]]\n",
    "\n",
    "accountsMerge(accounts)"
   ]
  },
  {
   "cell_type": "markdown",
   "id": "041f58c9",
   "metadata": {},
   "source": [
    "# 11. Valid Word abbreviation"
   ]
  },
  {
   "cell_type": "code",
   "execution_count": 58,
   "id": "4e1d5e6c",
   "metadata": {},
   "outputs": [],
   "source": [
    "def validWordAbbreviation(word, abbr):\n",
    "    i = j = 0\n",
    "    \n",
    "    while i < len(word) and j < len(abbr):\n",
    "        if abbr[j].isalpha():\n",
    "            if word[i] != abbr[j]:\n",
    "                return False\n",
    "            i += 1\n",
    "            j += 1\n",
    "        else:\n",
    "            if abbr[j] == '0':\n",
    "                return False\n",
    "            \n",
    "            temp = 0\n",
    "            \n",
    "            while j < len(abbr) and abbr[j].isdigit():\n",
    "                temp = 10 * temp + int(abbr[j])\n",
    "                j += 1\n",
    "            i += temp\n",
    "    return j == len(abbr) and i == len(word)\n",
    "                "
   ]
  },
  {
   "cell_type": "code",
   "execution_count": 59,
   "id": "3360bd42",
   "metadata": {},
   "outputs": [
    {
     "data": {
      "text/plain": [
       "True"
      ]
     },
     "execution_count": 59,
     "metadata": {},
     "output_type": "execute_result"
    }
   ],
   "source": [
    "word = \"internationalization\"\n",
    "abbr = \"i12iz4n\"\n",
    "\n",
    "validWordAbbreviation(word, abbr)"
   ]
  },
  {
   "cell_type": "markdown",
   "id": "b6827a75",
   "metadata": {},
   "source": [
    "# 12. Koko eating bananas"
   ]
  },
  {
   "cell_type": "code",
   "execution_count": 62,
   "id": "4865d619",
   "metadata": {},
   "outputs": [],
   "source": [
    "def minEatingSpeed(piles, h):\n",
    "    \n",
    "    left = 1\n",
    "    right = max(piles)\n",
    "    \n",
    "    while left < right:\n",
    "        mid = math.floor((left + right)/2)\n",
    "        hours_spent = 0\n",
    "        \n",
    "        for pile in piles:\n",
    "            hours_spent += math.ceil(pile/mid)\n",
    "        \n",
    "        if hours_spent <= h:\n",
    "            right = mid\n",
    "        else:\n",
    "            left = mid + 1\n",
    "    \n",
    "    return right"
   ]
  },
  {
   "cell_type": "code",
   "execution_count": 63,
   "id": "adab0805",
   "metadata": {},
   "outputs": [
    {
     "data": {
      "text/plain": [
       "4"
      ]
     },
     "execution_count": 63,
     "metadata": {},
     "output_type": "execute_result"
    }
   ],
   "source": [
    "piles = [3,6,7,11]\n",
    "h = 8\n",
    "\n",
    "minEatingSpeed(piles, h)"
   ]
  },
  {
   "cell_type": "markdown",
   "id": "329e4957",
   "metadata": {},
   "source": [
    "# 13. Binary tree right side view"
   ]
  },
  {
   "cell_type": "code",
   "execution_count": 64,
   "id": "2123c373",
   "metadata": {},
   "outputs": [],
   "source": [
    "def rightSideView(root):\n",
    "    if not root:\n",
    "        return\n",
    "    \n",
    "    result = []\n",
    "    level = 0\n",
    "    \n",
    "    return traversePreOrder(root, result, level)\n",
    "\n",
    "def traversePreOrder(node, result, level):\n",
    "    if not node:\n",
    "        return\n",
    "    \n",
    "    if level >= len(result):\n",
    "        result.append(node.val)\n",
    "        \n",
    "    if node.right is not None:\n",
    "        traversePreOrder(node.right, result, level + 1)\n",
    "    \n",
    "    if node.left is not None:\n",
    "        traversePreOrder(node.left, result, level + 1)\n",
    "    \n",
    "    return result"
   ]
  },
  {
   "cell_type": "markdown",
   "id": "10795484",
   "metadata": {},
   "source": [
    "# 14. Restore IP addresses"
   ]
  },
  {
   "cell_type": "code",
   "execution_count": 65,
   "id": "986b22b7",
   "metadata": {},
   "outputs": [],
   "source": [
    "def restoreIpAddresses(s):\n",
    "    \n",
    "    def valid(segment):\n",
    "        return int(segment) <= 255 if segment[0] != '0' else len(segment) == 1\n",
    "    \n",
    "    def update_output(curr_pos):\n",
    "        segment = s[curr_pos + 1:n]\n",
    "        if valid(segment):\n",
    "            segments.append(segment)\n",
    "            output.append('.'.join(segments))\n",
    "            segments.pop()\n",
    "    \n",
    "    def backtrack(prev_pos=-1, dots=3):\n",
    "        for curr_pos in range(prev_pos + 1, min(n-1, prev_pos + 4)):\n",
    "            segment = s[prev_pos + 1: curr_pos + 1]\n",
    "            if valid(segment):\n",
    "                segments.append(segment)\n",
    "                if dots - 1 == 0:\n",
    "                    update_output(curr_pos)\n",
    "                else:\n",
    "                    backtrack(curr_pos, dots - 1)\n",
    "                segments.pop()\n",
    "    n = len(s)\n",
    "    segments, output = [], []\n",
    "    backtrack()\n",
    "    return output"
   ]
  },
  {
   "cell_type": "code",
   "execution_count": 70,
   "id": "e3a167be",
   "metadata": {},
   "outputs": [
    {
     "data": {
      "text/plain": [
       "['255.255.11.135', '255.255.111.35']"
      ]
     },
     "execution_count": 70,
     "metadata": {},
     "output_type": "execute_result"
    }
   ],
   "source": [
    "s = \"25525511135\"\n",
    "restoreIpAddresses(s)"
   ]
  },
  {
   "cell_type": "markdown",
   "id": "0cd37490",
   "metadata": {},
   "source": [
    "# 15. Pow (x, n)\n"
   ]
  },
  {
   "cell_type": "code",
   "execution_count": 71,
   "id": "e07cde99",
   "metadata": {},
   "outputs": [],
   "source": [
    "def myPow(x, n):\n",
    "    if n == 0:\n",
    "        return 1\n",
    "    \n",
    "    if n < 0:\n",
    "        return myPow(1/x, -n)\n",
    "    \n",
    "    lower = myPow(x, n//2)\n",
    "    \n",
    "    if n % 2 == 0:\n",
    "        return lower * lower\n",
    "    else:\n",
    "        return lower * lower * x"
   ]
  },
  {
   "cell_type": "code",
   "execution_count": 72,
   "id": "561c0816",
   "metadata": {},
   "outputs": [
    {
     "data": {
      "text/plain": [
       "81"
      ]
     },
     "execution_count": 72,
     "metadata": {},
     "output_type": "execute_result"
    }
   ],
   "source": [
    "myPow(3,4)"
   ]
  },
  {
   "cell_type": "markdown",
   "id": "fc78d44f",
   "metadata": {},
   "source": [
    "# 16. Walls and Gates"
   ]
  },
  {
   "cell_type": "code",
   "execution_count": 81,
   "id": "73132b8b",
   "metadata": {},
   "outputs": [],
   "source": [
    "def wallsAndGates(rooms):\n",
    "    \n",
    "    WALL = -1\n",
    "    GATE = 0\n",
    "    EMPTY = 2147483647\n",
    "    \n",
    "    rows, cols = len(rooms), len(rooms[0])\n",
    "    \n",
    "    for row in range(rows):\n",
    "        for col in range(cols):\n",
    "            if rooms[row][col] == GATE:\n",
    "                dfs(rooms, row, col, 0)\n",
    "\n",
    "def dfs(matrix, row, col, current_step):\n",
    "    directions = [[-1, 0], [0, 1], [1, 0], [0, -1]]\n",
    "    \n",
    "    if row < 0 or row >= len(matrix) or col < 0 or col >= len(matrix[0]) or current_step > matrix[row][col]:\n",
    "        return\n",
    "    \n",
    "    if matrix[row][col] == -1:\n",
    "        return\n",
    "    \n",
    "    matrix[row][col] = current_step\n",
    "    \n",
    "    for i in range(len(directions)):\n",
    "        currentDir = directions[i]\n",
    "        nextRow = row + currentDir[0]\n",
    "        nextCol = col + currentDir[1]\n",
    "        dfs(matrix, nextRow, nextCol, current_step + 1)\n",
    "    \n",
    "    \n",
    "        "
   ]
  },
  {
   "cell_type": "code",
   "execution_count": 82,
   "id": "2db432a7",
   "metadata": {},
   "outputs": [],
   "source": [
    "rooms = [[2147483647,-1,0,2147483647],[2147483647,2147483647,2147483647,-1],[2147483647,-1,2147483647,-1],[0,-1,2147483647,2147483647]]\n",
    "wallsAndGates(rooms)"
   ]
  },
  {
   "cell_type": "code",
   "execution_count": 83,
   "id": "b3f555d5",
   "metadata": {},
   "outputs": [
    {
     "data": {
      "text/plain": [
       "[[3, -1, 0, 1], [2, 2, 1, -1], [1, -1, 2, -1], [0, -1, 3, 4]]"
      ]
     },
     "execution_count": 83,
     "metadata": {},
     "output_type": "execute_result"
    }
   ],
   "source": [
    "rooms"
   ]
  },
  {
   "cell_type": "markdown",
   "id": "31488358",
   "metadata": {},
   "source": [
    "# 17. Best time to buy and sell stocks"
   ]
  },
  {
   "cell_type": "code",
   "execution_count": 84,
   "id": "c8247ef2",
   "metadata": {},
   "outputs": [],
   "source": [
    "def maxProfit(prices):\n",
    "    min_price = float('inf')\n",
    "    max_profit = 0\n",
    "    \n",
    "    for i in range(len(prices)):\n",
    "        if prices[i] < min_price:\n",
    "            min_price = prices[i]\n",
    "        elif prices[i] - min_price > max_profit:\n",
    "            max_profit = prices[i] - min_price\n",
    "    return max_profit"
   ]
  },
  {
   "cell_type": "code",
   "execution_count": 85,
   "id": "9caa5985",
   "metadata": {},
   "outputs": [
    {
     "data": {
      "text/plain": [
       "5"
      ]
     },
     "execution_count": 85,
     "metadata": {},
     "output_type": "execute_result"
    }
   ],
   "source": [
    "prices = [7,1,5,3,6,4]\n",
    "\n",
    "maxProfit(prices)"
   ]
  },
  {
   "cell_type": "markdown",
   "id": "d701d562",
   "metadata": {},
   "source": [
    "# 18. Find largest value in each tree row"
   ]
  },
  {
   "cell_type": "code",
   "execution_count": 86,
   "id": "2b867479",
   "metadata": {},
   "outputs": [],
   "source": [
    "def largestValues(root):\n",
    "    result = []\n",
    "    \n",
    "    if root is None:\n",
    "        return result\n",
    "    \n",
    "    queue = [root]\n",
    "    \n",
    "    while len(queue) > 0:\n",
    "        result.append(max(x.val for x in queue))\n",
    "        \n",
    "        for i in range(len(queue)):\n",
    "            currNode = queue.pop(0)\n",
    "            if currNode.left is not None:\n",
    "                queue.append(currNode.left)\n",
    "            if currNode.right is not None:\n",
    "                queue.append(currNode.right)\n",
    "    return result"
   ]
  },
  {
   "cell_type": "markdown",
   "id": "d311d318",
   "metadata": {},
   "source": [
    "# 19. Add Strings"
   ]
  },
  {
   "cell_type": "code",
   "execution_count": 87,
   "id": "d23d7516",
   "metadata": {},
   "outputs": [],
   "source": [
    "def addStrings(num1, num2):\n",
    "    result = []\n",
    "    carry = 0\n",
    "    \n",
    "    p1 = len(num1) - 1\n",
    "    p2 = len(num2) - 1\n",
    "    \n",
    "    while p1 >= 0 or p2 >= 0:\n",
    "        x1 = int(num1[p1]) if p1 >= 0 else 0\n",
    "        x2 = int(num2[p2]) if p2 >= 0 else 0\n",
    "        \n",
    "        value = (x1 + x2 + carry) % 10\n",
    "        carry = (x1 + x2 + carry) // 10\n",
    "        result.append(value)\n",
    "        \n",
    "        p1 -= 1\n",
    "        p2 -=1\n",
    "    \n",
    "    if carry != 0:\n",
    "        result.append(carry)\n",
    "        \n",
    "    return \"\".join(str(x) for x in result[::-1])"
   ]
  },
  {
   "cell_type": "code",
   "execution_count": 88,
   "id": "58699e77",
   "metadata": {},
   "outputs": [
    {
     "data": {
      "text/plain": [
       "'134'"
      ]
     },
     "execution_count": 88,
     "metadata": {},
     "output_type": "execute_result"
    }
   ],
   "source": [
    "num1 = \"11\"\n",
    "num2 = \"123\"\n",
    "\n",
    "addStrings(num1, num2)"
   ]
  },
  {
   "cell_type": "markdown",
   "id": "478f1338",
   "metadata": {},
   "source": [
    "# 20. Add binary"
   ]
  },
  {
   "cell_type": "code",
   "execution_count": 93,
   "id": "4cd8b977",
   "metadata": {},
   "outputs": [],
   "source": [
    "def addBinary(a,b):\n",
    "    return bin(int(a,2) + int(b,2)).replace('0b', \"\")"
   ]
  },
  {
   "cell_type": "code",
   "execution_count": 94,
   "id": "58fa5f9f",
   "metadata": {},
   "outputs": [
    {
     "data": {
      "text/plain": [
       "'100'"
      ]
     },
     "execution_count": 94,
     "metadata": {},
     "output_type": "execute_result"
    }
   ],
   "source": [
    "a = \"11\"\n",
    "b = \"1\"\n",
    "\n",
    "addBinary(a,b)"
   ]
  },
  {
   "cell_type": "markdown",
   "id": "e237c0f7",
   "metadata": {},
   "source": [
    "# 21. Sum of two Integers"
   ]
  },
  {
   "cell_type": "code",
   "execution_count": 99,
   "id": "e9ed98e5",
   "metadata": {},
   "outputs": [],
   "source": [
    "def getSum(a,b):\n",
    "    \n",
    "    p1 = len(str(a)) - 1\n",
    "    p2 = len(str(b)) - 1\n",
    "    \n",
    "    result = []\n",
    "    carry = 0\n",
    "    \n",
    "    while p1 >= 0 or p2 >= 0:\n",
    "        x1 = int(str(a)[p1]) if p1 >= 0 else 0\n",
    "        x2 = int(str(b)[p2]) if p2 >= 0 else 0\n",
    "        value = (x1 + x2 + carry) % 10\n",
    "        carry = (x1 + x2 + carry) // 10\n",
    "        result.append(value)\n",
    "        \n",
    "        p1 -= 1\n",
    "        p2 -= 1\n",
    "    \n",
    "    if carry != 0:\n",
    "        result.append(carry)\n",
    "    \n",
    "    return int(\"\".join(str(x) for x in result[::-1]))"
   ]
  },
  {
   "cell_type": "code",
   "execution_count": 101,
   "id": "e3b70232",
   "metadata": {},
   "outputs": [
    {
     "data": {
      "text/plain": [
       "15"
      ]
     },
     "execution_count": 101,
     "metadata": {},
     "output_type": "execute_result"
    }
   ],
   "source": [
    "getSum(3,12)"
   ]
  },
  {
   "cell_type": "markdown",
   "id": "26db95c1",
   "metadata": {},
   "source": [
    "# 22. Add to Array-Form of Integer"
   ]
  },
  {
   "cell_type": "code",
   "execution_count": 102,
   "id": "2264988b",
   "metadata": {},
   "outputs": [],
   "source": [
    "def addToArrayForm(num, k):\n",
    "        \n",
    "    num1 = \"\".join(str(i) for i in num)\n",
    "    num2 = str(k)\n",
    "\n",
    "    result = []\n",
    "    carry = 0\n",
    "\n",
    "    p1 = len(num1) - 1\n",
    "    p2 = len(num2) - 1\n",
    "\n",
    "    while p1 >= 0 or p2 >= 0:\n",
    "        x1 = int(num1[p1]) if p1 >= 0 else 0\n",
    "        x2 = int(num2[p2]) if p2 >= 0 else 0\n",
    "\n",
    "        value = (x1 + x2 + carry) % 10\n",
    "        carry = (x1 + x2 + carry) // 10\n",
    "        result.append(value)\n",
    "\n",
    "        p1 -= 1\n",
    "        p2 -=1\n",
    "\n",
    "    if carry != 0:\n",
    "        result.append(carry)\n",
    "\n",
    "    return result[::-1]"
   ]
  },
  {
   "cell_type": "code",
   "execution_count": 103,
   "id": "834aec74",
   "metadata": {},
   "outputs": [
    {
     "data": {
      "text/plain": [
       "[1, 2, 3, 4]"
      ]
     },
     "execution_count": 103,
     "metadata": {},
     "output_type": "execute_result"
    }
   ],
   "source": [
    "num = [1,2,0,0]\n",
    "k = 34\n",
    "\n",
    "addToArrayForm(num, k)"
   ]
  },
  {
   "cell_type": "markdown",
   "id": "beb4245d",
   "metadata": {},
   "source": [
    "# 23. Plus One"
   ]
  },
  {
   "cell_type": "code",
   "execution_count": 110,
   "id": "09a5dabb",
   "metadata": {},
   "outputs": [],
   "source": [
    "def plusOne(digits):\n",
    "    str_number = \"\".join(str(i) for i in digits)\n",
    "    int_number = int(str_number)\n",
    "    add_one = int_number + 1\n",
    "    result = []\n",
    "    \n",
    "    for i in str(add_one):\n",
    "        result.append(int(i))\n",
    "    return result"
   ]
  },
  {
   "cell_type": "code",
   "execution_count": 111,
   "id": "138a8a99",
   "metadata": {},
   "outputs": [
    {
     "data": {
      "text/plain": [
       "[1, 2, 4]"
      ]
     },
     "execution_count": 111,
     "metadata": {},
     "output_type": "execute_result"
    }
   ],
   "source": [
    "plusOne([1,2,3])"
   ]
  },
  {
   "cell_type": "markdown",
   "id": "690fe94c",
   "metadata": {},
   "source": [
    "# 24. Add two numbers LinkedList"
   ]
  },
  {
   "cell_type": "code",
   "execution_count": 112,
   "id": "3588e917",
   "metadata": {},
   "outputs": [],
   "source": [
    "def addTwoNumbers(l1, l2):\n",
    "    dummyHead = ListNode(0)\n",
    "    curr = dummyHead\n",
    "    carry = 0\n",
    "    \n",
    "    while l1 != None or l2 != None or carry != 0:\n",
    "        l1val = l1.val if l1 else 0\n",
    "        l2val = l2.val if l2 else 0\n",
    "        columnSum = (l1val + l2val + carry) % 10\n",
    "        carry = (l1val + l2val + carry) // 10\n",
    "        newNode = ListNode(columnSum)\n",
    "        curr.next = newNode\n",
    "        curr = newNode\n",
    "        l1 = l1.next if l1 else None\n",
    "        l2 = l2.next if l2 else None\n",
    "    return dummyHead.next"
   ]
  },
  {
   "cell_type": "markdown",
   "id": "b8382d49",
   "metadata": {},
   "source": [
    "# 25. Add two numbers LinkedList II"
   ]
  },
  {
   "cell_type": "code",
   "execution_count": 114,
   "id": "14324c1d",
   "metadata": {},
   "outputs": [],
   "source": [
    "class ListNode:\n",
    "    def __init__(self, val=0, next=None):\n",
    "        self.val = val\n",
    "        self.next = next\n",
    "\n",
    "def reverseList(head) -> ListNode:\n",
    "    last = None\n",
    "    while head:\n",
    "        # keep the next node\n",
    "        tmp = head.next\n",
    "        # reverse the link\n",
    "        head.next = last\n",
    "        # update the last node and the current node\n",
    "        last = head\n",
    "        head = tmp\n",
    "\n",
    "    return last\n",
    "\n",
    "def addTwoNumbers(l1, l2):\n",
    "    l1 = self.reverseList(l1)\n",
    "    l2 = self.reverseList(l2)\n",
    "\n",
    "    head = None\n",
    "    carry = 0\n",
    "    while l1 or l2:\n",
    "        # get the current values \n",
    "        x1 = l1.val if l1 else 0\n",
    "        x2 = l2.val if l2 else 0\n",
    "\n",
    "        # current sum and carry\n",
    "        val = (carry + x1 + x2) % 10\n",
    "        carry = (carry + x1 + x2) // 10\n",
    "\n",
    "        # update the result: add to front\n",
    "        curr = ListNode(val)\n",
    "        curr.next = head\n",
    "        head = curr\n",
    "\n",
    "        # move to the next elements in the lists\n",
    "        l1 = l1.next if l1 else None\n",
    "        l2 = l2.next if l2 else None\n",
    "\n",
    "    if carry:\n",
    "        curr = ListNode(carry)\n",
    "        curr.next = head\n",
    "        head = curr\n",
    "\n",
    "    return head"
   ]
  },
  {
   "cell_type": "markdown",
   "id": "447661ce",
   "metadata": {},
   "source": [
    "# 26. Combination sum"
   ]
  },
  {
   "cell_type": "code",
   "execution_count": 120,
   "id": "d7a783f9",
   "metadata": {},
   "outputs": [],
   "source": [
    "def combinationSum(candidates, target):\n",
    "    \n",
    "    result = []\n",
    "    comb = []\n",
    "    \n",
    "    def backtrack(remain, comb, start):\n",
    "        if remain == 0:\n",
    "            result.append(list(comb))\n",
    "            return\n",
    "        \n",
    "        if remain < 0:\n",
    "            return \n",
    "        \n",
    "        for i in range(start, len(candidates)):\n",
    "            comb.append(candidates[i])\n",
    "            backtrack(remain - candidates[i], comb, i)\n",
    "            comb.pop()\n",
    "        \n",
    "    backtrack(target, comb, 0)\n",
    "    return result"
   ]
  },
  {
   "cell_type": "code",
   "execution_count": 121,
   "id": "7f0bf38c",
   "metadata": {},
   "outputs": [
    {
     "data": {
      "text/plain": [
       "[[2, 2, 3], [7]]"
      ]
     },
     "execution_count": 121,
     "metadata": {},
     "output_type": "execute_result"
    }
   ],
   "source": [
    "candidates = [2,3,6,7]\n",
    "target = 7\n",
    "\n",
    "combinationSum(candidates, target)"
   ]
  },
  {
   "cell_type": "code",
   "execution_count": 123,
   "id": "7ed81ed3",
   "metadata": {},
   "outputs": [],
   "source": [
    "num = [str(d) for d in str(1542)]"
   ]
  },
  {
   "cell_type": "code",
   "execution_count": 126,
   "id": "caae049e",
   "metadata": {},
   "outputs": [
    {
     "data": {
      "text/plain": [
       "1"
      ]
     },
     "execution_count": 126,
     "metadata": {},
     "output_type": "execute_result"
    }
   ],
   "source": [
    "num\n",
    "\n",
    "num.index(max(num))"
   ]
  },
  {
   "cell_type": "markdown",
   "id": "7249d698",
   "metadata": {},
   "source": [
    "# 27. Maximum swap"
   ]
  },
  {
   "cell_type": "code",
   "execution_count": 129,
   "id": "388abd3c",
   "metadata": {},
   "outputs": [],
   "source": [
    "def maximumSwap(num):\n",
    "    num = [str(d) for d in str(num)]\n",
    "    \n",
    "    for i in range(len(num)):\n",
    "        max_ind = len(num) - 1\n",
    "        for j in range(i+1, len(num)):\n",
    "            if num[j] >= num[max_ind]:\n",
    "                max_ind = j\n",
    "\n",
    "        if num[max_ind] > num[i]:\n",
    "            num[i], num[max_ind] = num[max_ind], num[i]\n",
    "            break\n",
    "    return int(\"\".join(num))"
   ]
  },
  {
   "cell_type": "code",
   "execution_count": 131,
   "id": "cd715e16",
   "metadata": {},
   "outputs": [
    {
     "data": {
      "text/plain": [
       "7726"
      ]
     },
     "execution_count": 131,
     "metadata": {},
     "output_type": "execute_result"
    }
   ],
   "source": [
    "num = 2776\n",
    "maximumSwap(num)"
   ]
  },
  {
   "cell_type": "markdown",
   "id": "4a150a95",
   "metadata": {},
   "source": [
    "# 28. Random pick with weight"
   ]
  },
  {
   "cell_type": "code",
   "execution_count": 139,
   "id": "cec3974e",
   "metadata": {},
   "outputs": [],
   "source": [
    "import random\n",
    "import math\n",
    "\n",
    "class Solution:\n",
    "\n",
    "    def __init__(self, w):\n",
    "        self.prefix_sums = []\n",
    "        prefix_sum = 0\n",
    "        \n",
    "        for weight in w:\n",
    "            prefix_sum += weight\n",
    "            self.prefix_sums.append(prefix_sum)\n",
    "            \n",
    "        self.total_sum = prefix_sum\n",
    "    \n",
    "    def pickIndex(self):\n",
    "        target = self.total_sum * random.random()\n",
    "        \n",
    "        low = 0\n",
    "        high = len(self.prefix_sums)\n",
    "\n",
    "        while low < high:\n",
    "            mid = math.floor((low + high)/2)\n",
    "            if target > self.prefix_sums[mid]:\n",
    "                low = mid + 1\n",
    "            else:\n",
    "                high = mid\n",
    "        return low"
   ]
  },
  {
   "cell_type": "code",
   "execution_count": 140,
   "id": "e64fb036",
   "metadata": {},
   "outputs": [],
   "source": [
    "solution = Solution([1, 3])"
   ]
  },
  {
   "cell_type": "code",
   "execution_count": 145,
   "id": "1fbf1f69",
   "metadata": {},
   "outputs": [
    {
     "data": {
      "text/plain": [
       "1"
      ]
     },
     "execution_count": 145,
     "metadata": {},
     "output_type": "execute_result"
    }
   ],
   "source": [
    "solution.pickIndex()"
   ]
  },
  {
   "cell_type": "code",
   "execution_count": 146,
   "id": "c86503ef",
   "metadata": {},
   "outputs": [
    {
     "data": {
      "text/plain": [
       "1"
      ]
     },
     "execution_count": 146,
     "metadata": {},
     "output_type": "execute_result"
    }
   ],
   "source": [
    "solution.pickIndex()"
   ]
  },
  {
   "cell_type": "code",
   "execution_count": 147,
   "id": "9bb014e5",
   "metadata": {},
   "outputs": [
    {
     "data": {
      "text/plain": [
       "0"
      ]
     },
     "execution_count": 147,
     "metadata": {},
     "output_type": "execute_result"
    }
   ],
   "source": [
    "solution.pickIndex()"
   ]
  },
  {
   "cell_type": "markdown",
   "id": "e56ce5b2",
   "metadata": {},
   "source": [
    "# B) Leetcode list 2\n",
    "\n",
    "https://leetcode.com/list/5jahjufm/\n",
    "\n",
    "# 1. Add two linked list reversed"
   ]
  },
  {
   "cell_type": "code",
   "execution_count": 1,
   "id": "b457a417",
   "metadata": {},
   "outputs": [],
   "source": [
    "def addTwoNumbers(l1, l2):\n",
    "    dummyHead = ListNode(0)\n",
    "    curr = dummyHead\n",
    "    carry = 0\n",
    "    \n",
    "    while l1 is not None or l2 is not None or carry != 0:\n",
    "        l1val = l1.val if l1 is not None else 0\n",
    "        l2val = l2.val if l2 is not None else 0\n",
    "        \n",
    "        columnSum = (l1val + l2val + carry) % 10\n",
    "        carry = (l1val + l2val + carry) // 10\n",
    "        \n",
    "        newNode = ListNode(columnSum)\n",
    "        \n",
    "        curr.next = newNode\n",
    "        curr = newNode\n",
    "        \n",
    "        l1 = l1.next if l1 else None\n",
    "        l2 = l2.next if l2 else None\n",
    "    return dummyHead.next"
   ]
  },
  {
   "cell_type": "markdown",
   "id": "08b0ce83",
   "metadata": {},
   "source": [
    "# 2. Longest Substring Without Repeating Characters"
   ]
  },
  {
   "cell_type": "code",
   "execution_count": 2,
   "id": "fd00d2f8",
   "metadata": {},
   "outputs": [],
   "source": [
    "def lengthOfLongestSubstring(s):\n",
    "    \n",
    "    if len(s) <= 1:\n",
    "        return len(s)\n",
    "    \n",
    "    longest = 0\n",
    "    left = 0\n",
    "    seen_chars = {}\n",
    "    \n",
    "    for right in range(len(s)):\n",
    "        currentChar = s[right]\n",
    "        prevSeenChar = -1\n",
    "        \n",
    "        if currentChar in seen_chars.keys():\n",
    "            prevSeenChar = seen_chars[currentChar]\n",
    "        \n",
    "        if prevSeenChar >= left:\n",
    "            left = prevSeenChar + 1\n",
    "        \n",
    "        seen_chars[currentChar] = right\n",
    "    \n",
    "        longest = max(longest, right - left + 1)\n",
    "    \n",
    "    return longest"
   ]
  },
  {
   "cell_type": "code",
   "execution_count": 3,
   "id": "d04937ed",
   "metadata": {},
   "outputs": [
    {
     "data": {
      "text/plain": [
       "3"
      ]
     },
     "execution_count": 3,
     "metadata": {},
     "output_type": "execute_result"
    }
   ],
   "source": [
    "s = \"pwwkew\"\n",
    "\n",
    "lengthOfLongestSubstring(s)"
   ]
  },
  {
   "cell_type": "markdown",
   "id": "630de779",
   "metadata": {},
   "source": [
    "# 3. Letter Combinations of a Phone Number"
   ]
  },
  {
   "cell_type": "code",
   "execution_count": 7,
   "id": "e399fa76",
   "metadata": {},
   "outputs": [],
   "source": [
    "def letterCombinations(digits):\n",
    "    letter_map = {2: ['a', 'b', 'c'],\n",
    "                  3: ['d', 'e', 'f'],\n",
    "                  4: ['g', 'h', 'i'],\n",
    "                  5: ['j', 'k', 'l'],\n",
    "                  6: ['m', 'n', 'o'],\n",
    "                  7: ['p', 'q', 'r', 's'],\n",
    "                  8: ['t', 'u', 'v'],\n",
    "                  9: ['w', 'x', 'y', 'z']}\n",
    "\n",
    "    if digits == \"\":\n",
    "        return []\n",
    "    \n",
    "    queue = letter_map[int(digits[0])]\n",
    "    \n",
    "    for i in range(1, len(digits)):\n",
    "        s = len(queue)\n",
    "        while s > 0:\n",
    "            currLetter = queue.pop(0)\n",
    "            for j in letter_map[int(digits[i])]:\n",
    "                queue.append(currLetter + j)\n",
    "            s -= 1\n",
    "    return queue\n"
   ]
  },
  {
   "cell_type": "code",
   "execution_count": 8,
   "id": "000db2ab",
   "metadata": {},
   "outputs": [
    {
     "data": {
      "text/plain": [
       "['ad', 'ae', 'af', 'bd', 'be', 'bf', 'cd', 'ce', 'cf']"
      ]
     },
     "execution_count": 8,
     "metadata": {},
     "output_type": "execute_result"
    }
   ],
   "source": [
    "digits = \"23\"\n",
    "letterCombinations(digits)"
   ]
  },
  {
   "cell_type": "markdown",
   "id": "b6e193cd",
   "metadata": {},
   "source": [
    "# 4. Remove Nth Node From End of List\n",
    "\n",
    "https://leetcode.com/problems/remove-nth-node-from-end-of-list/solution/\n",
    "\n",
    "We notice that the problem could be simply reduced to another one : Remove the (L - n + 1)th node from the beginning in the list , where L is the list length. This problem is easy to solve once we found list length L."
   ]
  },
  {
   "cell_type": "code",
   "execution_count": 9,
   "id": "be37fbe9",
   "metadata": {},
   "outputs": [],
   "source": [
    "def removeNthFromEnd(head):\n",
    "    dummy = ListNode(0)\n",
    "    dummy.next = head\n",
    "    length = 0\n",
    "    \n",
    "    #setting the first pointer\n",
    "    first = dummy\n",
    "    \n",
    "    while first != None:\n",
    "        length += 1\n",
    "        first = first.next\n",
    "    \n",
    "    length -= n\n",
    "    \n",
    "    while length > 0:\n",
    "        length -= 1\n",
    "        first = first.next\n",
    "    \n",
    "    first.next = first.next.next\n",
    "    \n",
    "    return dummy.next"
   ]
  },
  {
   "cell_type": "markdown",
   "id": "ba844f31",
   "metadata": {},
   "source": [
    "# 5. Merge two sorted lists"
   ]
  },
  {
   "cell_type": "code",
   "execution_count": 11,
   "id": "5a54872a",
   "metadata": {},
   "outputs": [],
   "source": [
    "def mergeTwoLists(l1, l2):\n",
    "    if l1 is None:\n",
    "        return l2\n",
    "    elif l2 is None:\n",
    "        return l1\n",
    "    elif l1.val < l2.val:\n",
    "        l1.next = mergeTwoLists(l1.next, l2)\n",
    "        return l1        \n",
    "    else:\n",
    "        l2.next = mergeTwoLists(l1, l2.next)\n",
    "        return l2\n",
    "    "
   ]
  },
  {
   "cell_type": "markdown",
   "id": "a83a64b3",
   "metadata": {},
   "source": [
    "# 6. Divide Two Integers"
   ]
  },
  {
   "cell_type": "code",
   "execution_count": 13,
   "id": "dd26959e",
   "metadata": {},
   "outputs": [],
   "source": [
    "def divide(dividend: int, divisor: int) -> int:\n",
    "    negatives = 0\n",
    "    MAX_INT = 2147483647        # 2**31 - 1\n",
    "    MIN_INT = -2147483648       # -2**31\n",
    "\n",
    "    if dividend == MIN_INT and divisor == -1:\n",
    "        return MAX_INT\n",
    "\n",
    "    if dividend == MAX_INT and divisor == -1:\n",
    "        return MIN_INT\n",
    "\n",
    "    if dividend == MIN_INT and divisor == 1:\n",
    "        return MIN_INT\n",
    "\n",
    "    if dividend == MAX_INT and divisor == 1:\n",
    "        return MAX_INT\n",
    "\n",
    "    if dividend < 0:\n",
    "        negatives += 1\n",
    "        dividend = -dividend\n",
    "\n",
    "    if divisor < 0:\n",
    "        negatives += 1\n",
    "        divisor = -divisor\n",
    "\n",
    "    subtractions = 0\n",
    "\n",
    "    while dividend - divisor >= 0:\n",
    "        subtractions += 1\n",
    "        dividend -= divisor\n",
    "\n",
    "    if negatives == 1:\n",
    "        subtractions = -subtractions\n",
    "\n",
    "    return subtractions"
   ]
  },
  {
   "cell_type": "code",
   "execution_count": 15,
   "id": "3780e760",
   "metadata": {},
   "outputs": [
    {
     "data": {
      "text/plain": [
       "62"
      ]
     },
     "execution_count": 15,
     "metadata": {},
     "output_type": "execute_result"
    }
   ],
   "source": [
    "divide(125,2)"
   ]
  },
  {
   "cell_type": "markdown",
   "id": "2804d397",
   "metadata": {},
   "source": [
    "# 7. Find First and Last Position of Element in Sorted Array"
   ]
  },
  {
   "cell_type": "code",
   "execution_count": 18,
   "id": "e0debccd",
   "metadata": {},
   "outputs": [],
   "source": [
    "import math\n",
    "\n",
    "def searchRange(nums, target):\n",
    "    if len(nums) == 0:\n",
    "        return [-1, -1]\n",
    "    \n",
    "    firstPosition = binary_search(nums, target, 0, len(nums) - 1)\n",
    "    \n",
    "    if firstPosition == -1:\n",
    "        return [-1, -1]\n",
    "    \n",
    "    startPosition = firstPosition\n",
    "    endPosition = firstPosition\n",
    "    temp1 = 0\n",
    "    temp2 = 0\n",
    "    \n",
    "    while startPosition != -1:\n",
    "        temp1 = startPosition\n",
    "        startPosition = binary_search(nums, target, 0, startPosition - 1)\n",
    "    startPosition = temp1\n",
    "    \n",
    "    while endPosition != -1:\n",
    "        temp2 = endPosition\n",
    "        endPosition = binary_search(nums, target, endPosition + 1, len(nums) - 1)\n",
    "    endPosition = temp2\n",
    "    \n",
    "    return [startPosition, endPosition]\n",
    "\n",
    "def binary_search(nums, target, left, right):\n",
    "    while left <= right:\n",
    "        mid = math.floor((left + right)/2)\n",
    "        if nums[mid] == target:\n",
    "            return mid\n",
    "        elif nums[mid] < target:\n",
    "            left = mid + 1\n",
    "        else:\n",
    "            right = mid - 1\n",
    "    return -1"
   ]
  },
  {
   "cell_type": "code",
   "execution_count": 19,
   "id": "c0e2dd6a",
   "metadata": {},
   "outputs": [
    {
     "data": {
      "text/plain": [
       "[3, 4]"
      ]
     },
     "execution_count": 19,
     "metadata": {},
     "output_type": "execute_result"
    }
   ],
   "source": [
    "nums = [5,7,7,8,8,10]\n",
    "target = 8\n",
    "\n",
    "searchRange(nums, target)"
   ]
  },
  {
   "cell_type": "markdown",
   "id": "7a708578",
   "metadata": {},
   "source": [
    "# 8. Combination Sum"
   ]
  },
  {
   "cell_type": "code",
   "execution_count": 20,
   "id": "4c0c26df",
   "metadata": {},
   "outputs": [],
   "source": [
    "def combinationSum(candidates, target):\n",
    "    result = []\n",
    "    \n",
    "    def backtrack(remain, comb, start):\n",
    "        if remain == 0:\n",
    "            result.append(list(comb))\n",
    "            return\n",
    "        elif remain < 0:\n",
    "            return\n",
    "        \n",
    "        for i in range(start, len(candidates)):\n",
    "            comb.append(candidates[i])\n",
    "            backtrack(remain - candidates[i], comb, i)\n",
    "            comb.pop()\n",
    "    \n",
    "    backtrack(target, [], 0)\n",
    "    return result\n",
    "            "
   ]
  },
  {
   "cell_type": "code",
   "execution_count": 21,
   "id": "9c25e2c3",
   "metadata": {},
   "outputs": [
    {
     "data": {
      "text/plain": [
       "[[2, 2, 3], [7]]"
      ]
     },
     "execution_count": 21,
     "metadata": {},
     "output_type": "execute_result"
    }
   ],
   "source": [
    "candidates = [2,3,6,7]\n",
    "target = 7\n",
    "\n",
    "combinationSum(candidates, target)"
   ]
  },
  {
   "cell_type": "markdown",
   "id": "82d5c6ac",
   "metadata": {},
   "source": [
    "# 9. Permutations"
   ]
  },
  {
   "cell_type": "code",
   "execution_count": 22,
   "id": "ea8e3c43",
   "metadata": {},
   "outputs": [],
   "source": [
    "def permute(nums):\n",
    "    result = []\n",
    "    path = []\n",
    "    dfs(nums, path, result)\n",
    "    return result\n",
    "\n",
    "def dfs(nums, path, result):\n",
    "    if not nums:\n",
    "        result.append(path)\n",
    "    \n",
    "    for i in range(len(nums)):\n",
    "        dfs(nums[:i] + nums[i+1:], path + [nums[i]], result)\n",
    "        "
   ]
  },
  {
   "cell_type": "code",
   "execution_count": 23,
   "id": "fa97ed1a",
   "metadata": {},
   "outputs": [
    {
     "data": {
      "text/plain": [
       "[[1, 2, 3], [1, 3, 2], [2, 1, 3], [2, 3, 1], [3, 1, 2], [3, 2, 1]]"
      ]
     },
     "execution_count": 23,
     "metadata": {},
     "output_type": "execute_result"
    }
   ],
   "source": [
    "nums = [1,2,3]\n",
    "\n",
    "permute(nums)"
   ]
  },
  {
   "cell_type": "markdown",
   "id": "cea56de8",
   "metadata": {},
   "source": [
    "# 10. Merge Intervals"
   ]
  },
  {
   "cell_type": "code",
   "execution_count": 26,
   "id": "77675461",
   "metadata": {},
   "outputs": [],
   "source": [
    "def merge(intervals):\n",
    "    intervals.sort(key = lambda x: x[0])\n",
    "    \n",
    "    merged = []\n",
    "    \n",
    "    for interval in intervals:\n",
    "        if not merged or merged[-1][1] < interval[0]:\n",
    "            merged.append(interval)\n",
    "        else:\n",
    "            merged[-1][1] = max(merged[-1][1], interval[1])\n",
    "    \n",
    "    return merged"
   ]
  },
  {
   "cell_type": "code",
   "execution_count": 27,
   "id": "00660fb6",
   "metadata": {},
   "outputs": [
    {
     "data": {
      "text/plain": [
       "[[1, 6], [8, 10], [15, 18]]"
      ]
     },
     "execution_count": 27,
     "metadata": {},
     "output_type": "execute_result"
    }
   ],
   "source": [
    "intervals = [[1,3],[2,6],[8,10],[15,18]]\n",
    "\n",
    "merge(intervals)"
   ]
  },
  {
   "cell_type": "markdown",
   "id": "6a3b5599",
   "metadata": {},
   "source": [
    "# 11. Simplify paths"
   ]
  },
  {
   "cell_type": "code",
   "execution_count": 28,
   "id": "b566340d",
   "metadata": {},
   "outputs": [],
   "source": [
    "def simplifyPath(path):\n",
    "    \n",
    "    stack = []\n",
    "    \n",
    "    for portion in path.split('/'):\n",
    "        if portion == '..':\n",
    "            if len(stack) > 0:\n",
    "                stack.pop()\n",
    "        elif portion == '.' or len(portion) == 0:\n",
    "            continue\n",
    "        else:\n",
    "            stack.append(portion)\n",
    "            \n",
    "    return '/' + '/'.join(stack)"
   ]
  },
  {
   "cell_type": "code",
   "execution_count": 29,
   "id": "f46a4864",
   "metadata": {},
   "outputs": [
    {
     "data": {
      "text/plain": [
       "'/home/foo'"
      ]
     },
     "execution_count": 29,
     "metadata": {},
     "output_type": "execute_result"
    }
   ],
   "source": [
    "path = \"/home//foo/\"\n",
    "simplifyPath(path)"
   ]
  },
  {
   "cell_type": "markdown",
   "id": "d45a4f45",
   "metadata": {},
   "source": [
    "# 12. Merge sorted array"
   ]
  },
  {
   "cell_type": "code",
   "execution_count": 3,
   "id": "a2288fd4",
   "metadata": {},
   "outputs": [],
   "source": [
    "def merge(nums1, m, nums2, n):\n",
    "    nums1_copy = nums1[:m]\n",
    "    \n",
    "    p1 = 0\n",
    "    p2 = 0\n",
    "    \n",
    "    for i in range(n+m):\n",
    "        if p2 >= n or (p1 < m and nums1_copy[p1] <= nums2[p2]):\n",
    "            nums1[i] = nums1_copy[p1]\n",
    "            p1 += 1\n",
    "        else:\n",
    "            nums1[i] = nums2[p2]\n",
    "            p2 += 1\n",
    "            \n",
    "    return nums1"
   ]
  },
  {
   "cell_type": "code",
   "execution_count": 4,
   "id": "8bd627e7",
   "metadata": {},
   "outputs": [
    {
     "data": {
      "text/plain": [
       "[1, 2, 2, 3, 5, 6]"
      ]
     },
     "execution_count": 4,
     "metadata": {},
     "output_type": "execute_result"
    }
   ],
   "source": [
    "nums1 = [1,2,3,0,0,0]\n",
    "m = 3\n",
    "nums2 = [2,5,6]\n",
    "n = 3\n",
    "\n",
    "merge(nums1, m, nums2, n)"
   ]
  },
  {
   "cell_type": "markdown",
   "id": "a9287f23",
   "metadata": {},
   "source": [
    "# 14. Validate binary search tree"
   ]
  },
  {
   "cell_type": "code",
   "execution_count": 5,
   "id": "1ff1a8da",
   "metadata": {},
   "outputs": [],
   "source": [
    "import math\n",
    "\n",
    "def isValidBST(root):\n",
    "    def validate(node, low=-math.inf, high=math.inf):\n",
    "        if not node:\n",
    "            return True\n",
    "        if node.val <= low or node.val >= high:\n",
    "            return False\n",
    "        return validate(node.right, node.val, high) or validate(node.left, low, node.val)\n",
    "    return validate(root)"
   ]
  },
  {
   "cell_type": "markdown",
   "id": "6e0e20a1",
   "metadata": {},
   "source": [
    "# 15. Binary tree level order traversal"
   ]
  },
  {
   "cell_type": "code",
   "execution_count": 6,
   "id": "fdb831b8",
   "metadata": {},
   "outputs": [],
   "source": [
    "def levelOrder(root):\n",
    "    if root is None:\n",
    "        return None\n",
    "    \n",
    "    result = []\n",
    "    \n",
    "    queue = []\n",
    "    \n",
    "    while len(queue) > 0:\n",
    "        queue_length = len(queue)\n",
    "        currentLevelValues = []\n",
    "        counter = 0\n",
    "        \n",
    "        while counter < queue_length:\n",
    "            currNode = queue.pop(0)\n",
    "            currentLevelValues.append(currNode.val)\n",
    "            \n",
    "            if currNode.left is not None:\n",
    "                queue.append(currNode.left)\n",
    "            \n",
    "            if currNode.right is not None:\n",
    "                queue.append(currNode.right)\n",
    "            \n",
    "            counter += 1\n",
    "        \n",
    "        result.append(currentLevelValues)\n",
    "    \n",
    "    return result"
   ]
  },
  {
   "cell_type": "markdown",
   "id": "15673a28",
   "metadata": {},
   "source": [
    "# 16. Median Stream"
   ]
  },
  {
   "cell_type": "code",
   "execution_count": 7,
   "id": "c645932c",
   "metadata": {},
   "outputs": [],
   "source": [
    "# brute force --> O(N^2logN)\n",
    "\n",
    "def findMedian(arr):\n",
    "    \n",
    "    result = []\n",
    "    \n",
    "    for i in range(len(arr)):\n",
    "        if i == 0:\n",
    "            result.append(arr[i])\n",
    "        elif i % 2 == 1:\n",
    "            tmp = sorted(arr[:i+1])\n",
    "            mid = math.floor(len(tmp)/2)\n",
    "            median = int((tmp[mid] + tmp[mid-1])/2)\n",
    "            result.append(median)\n",
    "        else:\n",
    "            tmp = sorted(arr[:i+1])\n",
    "            mid = math.floor(len(tmp)/2)\n",
    "            median = int(tmp[mid]/2)\n",
    "            result.append(median)\n",
    "    \n",
    "    return result"
   ]
  },
  {
   "cell_type": "code",
   "execution_count": 8,
   "id": "47aa2b22",
   "metadata": {},
   "outputs": [
    {
     "data": {
      "text/plain": [
       "[5, 10, 2, 4]"
      ]
     },
     "execution_count": 8,
     "metadata": {},
     "output_type": "execute_result"
    }
   ],
   "source": [
    "arr = [5, 15, 1, 3]\n",
    "findMedian(arr)"
   ]
  },
  {
   "cell_type": "code",
   "execution_count": null,
   "id": "e02a0351",
   "metadata": {},
   "outputs": [],
   "source": []
  }
 ],
 "metadata": {
  "kernelspec": {
   "display_name": "Python 3 (ipykernel)",
   "language": "python",
   "name": "python3"
  },
  "language_info": {
   "codemirror_mode": {
    "name": "ipython",
    "version": 3
   },
   "file_extension": ".py",
   "mimetype": "text/x-python",
   "name": "python",
   "nbconvert_exporter": "python",
   "pygments_lexer": "ipython3",
   "version": "3.8.3"
  }
 },
 "nbformat": 4,
 "nbformat_minor": 5
}
