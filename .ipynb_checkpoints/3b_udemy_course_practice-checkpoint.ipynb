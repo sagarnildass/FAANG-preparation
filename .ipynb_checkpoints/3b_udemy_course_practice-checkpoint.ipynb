{
 "cells": [
  {
   "cell_type": "markdown",
   "id": "edb37a2d",
   "metadata": {},
   "source": [
    "# A) Arrays\n",
    "\n",
    "## 1. Two Sum\n",
    "\n",
    "https://leetcode.com/problems/two-sum/\n",
    "\n",
    "T --> O(n)\n",
    "\n",
    "S --> O(n)\n",
    "\n",
    "Brute Force --> Iterate through array in two for loops and check every two item"
   ]
  },
  {
   "cell_type": "code",
   "execution_count": 3,
   "id": "f4ab9d88",
   "metadata": {},
   "outputs": [],
   "source": [
    "def twoSum(nums, target):\n",
    "    if len(nums) <= 1:\n",
    "        return -1\n",
    "    \n",
    "    hash_map = {}\n",
    "    \n",
    "    for i in range(len(nums)):\n",
    "        ntf = target - nums[i]\n",
    "        if nums[i] not in hash_map.keys():\n",
    "            hash_map[ntf] = i\n",
    "        else:\n",
    "            return [hash_map[nums[i]], i]\n",
    "        "
   ]
  },
  {
   "cell_type": "code",
   "execution_count": 4,
   "id": "85379575",
   "metadata": {},
   "outputs": [
    {
     "data": {
      "text/plain": [
       "[0, 1]"
      ]
     },
     "execution_count": 4,
     "metadata": {},
     "output_type": "execute_result"
    }
   ],
   "source": [
    "nums = [2,7,11,15]\n",
    "target = 9\n",
    "\n",
    "twoSum(nums, target)"
   ]
  },
  {
   "cell_type": "markdown",
   "id": "b65710f4",
   "metadata": {},
   "source": [
    "# 2. Container with most water\n",
    "\n",
    "https://leetcode.com/problems/container-with-most-water/\n",
    "\n",
    "T --> O(n)\n",
    "\n",
    "S --> O(1)\n",
    "\n",
    "Brute Force --> Iterate in two for loops and check area for every two element pairs."
   ]
  },
  {
   "cell_type": "code",
   "execution_count": 5,
   "id": "446bd3c7",
   "metadata": {},
   "outputs": [],
   "source": [
    "def maxArea(height):\n",
    "    maxArea = 0\n",
    "    \n",
    "    left = 0\n",
    "    right = len(height) - 1\n",
    "    \n",
    "    while left < right:\n",
    "        length = min(height[left], height[right])\n",
    "        width = right - left\n",
    "        area = length*width\n",
    "        maxArea = max(area, maxArea)\n",
    "        if height[left] <= height[right]:\n",
    "            left += 1\n",
    "        else:\n",
    "            right -= 1\n",
    "    return maxArea"
   ]
  },
  {
   "cell_type": "code",
   "execution_count": 6,
   "id": "cc50dc4a",
   "metadata": {},
   "outputs": [
    {
     "data": {
      "text/plain": [
       "49"
      ]
     },
     "execution_count": 6,
     "metadata": {},
     "output_type": "execute_result"
    }
   ],
   "source": [
    "height = [1,8,6,2,5,4,8,3,7]\n",
    "maxArea(height)"
   ]
  },
  {
   "cell_type": "markdown",
   "id": "67bb6b22",
   "metadata": {},
   "source": [
    "# 3. Trapping rainwater\n",
    "\n",
    "For each element in the array, we find the maximum level of water it can trap after the rain, which is equal to the minimum of maximum height of bars on both the sides minus its own height.\n",
    "\n",
    "\n",
    "https://leetcode.com/problems/trapping-rain-water/solution/\n",
    "\n",
    "T --> O(n)\n",
    "\n",
    "S --> O(1)"
   ]
  },
  {
   "cell_type": "code",
   "execution_count": 7,
   "id": "858d326b",
   "metadata": {},
   "outputs": [],
   "source": [
    "def trap(height):\n",
    "    total = 0\n",
    "    left = 0\n",
    "    right = len(height) - 1\n",
    "    max_left = 0\n",
    "    max_right = 0\n",
    "    \n",
    "    while left < right:\n",
    "        if height[left] < height[right]:\n",
    "            if height[left] < max_left:\n",
    "                total += max_left - height[left]\n",
    "            else:\n",
    "                max_left = height[left]\n",
    "            left += 1\n",
    "        else:\n",
    "            if height[right] < max_right:\n",
    "                total += max_right - height[right]\n",
    "            else:\n",
    "                max_right = height[right]\n",
    "            right -= 1\n",
    "    return total\n",
    "        \n",
    "    "
   ]
  },
  {
   "cell_type": "code",
   "execution_count": 9,
   "id": "247410fb",
   "metadata": {},
   "outputs": [
    {
     "data": {
      "text/plain": [
       "6"
      ]
     },
     "execution_count": 9,
     "metadata": {},
     "output_type": "execute_result"
    }
   ],
   "source": [
    "elevationArray = [0,1,0,2,1,0,1,3,2,1,2,1]\n",
    "\n",
    "trap(elevationArray)"
   ]
  },
  {
   "cell_type": "markdown",
   "id": "87b7dd98",
   "metadata": {},
   "source": [
    "# 4. Typed out strings\n",
    "\n",
    "https://leetcode.com/problems/backspace-string-compare/\n",
    "\n",
    "T --> O(M+N)\n",
    "\n",
    "S --> O(M+N)"
   ]
  },
  {
   "cell_type": "code",
   "execution_count": 10,
   "id": "9d2f1d35",
   "metadata": {},
   "outputs": [],
   "source": [
    "def backspaceCompare(s, t):\n",
    "    stack_s = []\n",
    "    stack_t = []\n",
    "    \n",
    "    for i in range(len(s)):\n",
    "        if s[i] != '#':\n",
    "            stack_s.append(s[i])\n",
    "        else:\n",
    "            if len(stack_s) > 0:\n",
    "                stack_s.pop()\n",
    "    \n",
    "    for i in range(len(t)):\n",
    "        if t[i] != '#':\n",
    "            stack_t.append(t[i])\n",
    "        else:\n",
    "            if len(stack_t) > 0:\n",
    "                stack_t.pop()\n",
    "    \n",
    "    return stack_s == stack_t"
   ]
  },
  {
   "cell_type": "code",
   "execution_count": 12,
   "id": "5f792a1e",
   "metadata": {},
   "outputs": [
    {
     "data": {
      "text/plain": [
       "False"
      ]
     },
     "execution_count": 12,
     "metadata": {},
     "output_type": "execute_result"
    }
   ],
   "source": [
    "s = \"ab#c\"\n",
    "t = \"ad#c\"\n",
    "backspaceCompare(s,t)"
   ]
  },
  {
   "cell_type": "code",
   "execution_count": 14,
   "id": "7c487771",
   "metadata": {},
   "outputs": [
    {
     "data": {
      "text/plain": [
       "True"
      ]
     },
     "execution_count": 14,
     "metadata": {},
     "output_type": "execute_result"
    }
   ],
   "source": [
    "s = \"a#\"\n",
    "t = \"\"\n",
    "backspaceCompare(s,t)"
   ]
  },
  {
   "cell_type": "markdown",
   "id": "9b3c7e56",
   "metadata": {},
   "source": [
    "# 5. Longest Substring without repeating characters\n",
    "\n",
    "https://leetcode.com/problems/longest-substring-without-repeating-characters/solution/\n",
    "\n",
    "Sliding window\n",
    "\n",
    "T --> O(n)\n",
    "\n",
    "S --> O(min(m,n))\n",
    "\n",
    "Brute Force --> Check all the substring one by one to see if it has no duplicate character.\n",
    "\n"
   ]
  },
  {
   "cell_type": "code",
   "execution_count": 17,
   "id": "ffe327da",
   "metadata": {},
   "outputs": [],
   "source": [
    "def lengthOfLongestSubstring(s):\n",
    "    longest = 0\n",
    "    left = 0\n",
    "    seen_chars = {}\n",
    "    \n",
    "    for right in range(len(s)):\n",
    "        currChar = s[right]\n",
    "        prevSeenChar = -1\n",
    "        if currChar in seen_chars.keys():\n",
    "            prevSeenChar = seen_chars[currChar]\n",
    "        if prevSeenChar >= left:\n",
    "            left = prevSeenChar + 1\n",
    "        seen_chars[currChar] = right\n",
    "        longest = max(longest, right - left + 1)\n",
    "    return longest"
   ]
  },
  {
   "cell_type": "code",
   "execution_count": 18,
   "id": "b4d97fd8",
   "metadata": {},
   "outputs": [
    {
     "data": {
      "text/plain": [
       "3"
      ]
     },
     "execution_count": 18,
     "metadata": {},
     "output_type": "execute_result"
    }
   ],
   "source": [
    "s = \"abcabcbb\"\n",
    "lengthOfLongestSubstring(s)"
   ]
  },
  {
   "cell_type": "markdown",
   "id": "dc4f412c",
   "metadata": {},
   "source": [
    "# 6. Valid Palindrome\n",
    "\n",
    "https://leetcode.com/problems/valid-palindrome/\n",
    "\n",
    "T --> O(n)\n",
    "\n",
    "S --> O(1)"
   ]
  },
  {
   "cell_type": "code",
   "execution_count": 21,
   "id": "4007d7d5",
   "metadata": {},
   "outputs": [],
   "source": [
    "def isPalindrome(s):\n",
    "    left = 0\n",
    "    right = len(s) - 1\n",
    "    \n",
    "    while left < right:\n",
    "        while left < right and not s[left].isalnum():\n",
    "            left += 1\n",
    "        while left < right and not s[right].isalnum():\n",
    "            right -= 1\n",
    "        \n",
    "        if s[left].lower() != s[right].lower():\n",
    "            return False\n",
    "        left += 1\n",
    "        right -= 1\n",
    "    return True"
   ]
  },
  {
   "cell_type": "code",
   "execution_count": 24,
   "id": "8e88852c",
   "metadata": {},
   "outputs": [
    {
     "data": {
      "text/plain": [
       "True"
      ]
     },
     "execution_count": 24,
     "metadata": {},
     "output_type": "execute_result"
    }
   ],
   "source": [
    "s = \"A man, a plan, a canal: Panama\"\n",
    "isPalindrome(s)"
   ]
  },
  {
   "cell_type": "code",
   "execution_count": 25,
   "id": "1c691cea",
   "metadata": {},
   "outputs": [
    {
     "data": {
      "text/plain": [
       "False"
      ]
     },
     "execution_count": 25,
     "metadata": {},
     "output_type": "execute_result"
    }
   ],
   "source": [
    "s = \"race a car\"\n",
    "isPalindrome(s)"
   ]
  },
  {
   "cell_type": "markdown",
   "id": "2e1b462e",
   "metadata": {},
   "source": [
    "# 7. Almost Palindrome\n",
    "\n",
    "https://leetcode.com/problems/valid-palindrome-ii/\n",
    "\n",
    "T --> O(N)\n",
    "\n",
    "The main while loop we use can iterate up to N / 2 times, since each iteration represents a pair of characters. On any given iteration, we may find a mismatch and call checkPalindrome twice. checkPalindrome can also iterate up to N / 2 times, in the worst case where the first and last character of s do not match.\n",
    "\n",
    "S --> O(1)"
   ]
  },
  {
   "cell_type": "code",
   "execution_count": 29,
   "id": "87ad0bf6",
   "metadata": {},
   "outputs": [],
   "source": [
    "def almost_palindrome(s):\n",
    "    \n",
    "    def check_palindrome(s, i, j):\n",
    "        while i < j:\n",
    "            if s[i] != s[j]:\n",
    "                return False\n",
    "        return True\n",
    "    \n",
    "    left = 0\n",
    "    right = len(s) - 1\n",
    "    \n",
    "    while left < right:\n",
    "        if s[left] != s[right]:\n",
    "            return check_palindrome(s, left, right-1) or check_palindrome(s, left+1, right)\n",
    "        left += 1\n",
    "        right -= 1\n",
    "    return True"
   ]
  },
  {
   "cell_type": "code",
   "execution_count": 32,
   "id": "090c4062",
   "metadata": {},
   "outputs": [
    {
     "data": {
      "text/plain": [
       "True"
      ]
     },
     "execution_count": 32,
     "metadata": {},
     "output_type": "execute_result"
    }
   ],
   "source": [
    "s = \"abca\"\n",
    "almost_palindrome(s)"
   ]
  },
  {
   "cell_type": "markdown",
   "id": "af345833",
   "metadata": {},
   "source": [
    "# 8. Reverse a LinkedList\n",
    "\n",
    "https://leetcode.com/problems/reverse-linked-list/solution/\n",
    "\n",
    "T --> O(n)\n",
    "\n",
    "S --> O(1)"
   ]
  },
  {
   "cell_type": "code",
   "execution_count": 49,
   "id": "a901a86a",
   "metadata": {},
   "outputs": [],
   "source": [
    "from functools import reduce\n",
    " \n",
    "# template to create node list\n",
    "class ListNode:\n",
    "    def __init__(self, val, next = None):\n",
    "            self.val = val\n",
    "            self.next = next\n",
    " \n",
    "# ---- Generate our linked list ----\n",
    "linkedList = reduce(lambda acc, val: ListNode(val, acc), [5,4,3,2,1], None) \n",
    " \n",
    "# ---- Print our linked list ----\n",
    " \n",
    "def printList(head):\n",
    "    if(not head):\n",
    "        return\n",
    " \n",
    "    print(head.val)\n",
    "    printList(head.next)\n",
    " "
   ]
  },
  {
   "cell_type": "code",
   "execution_count": 34,
   "id": "74368a7b",
   "metadata": {},
   "outputs": [],
   "source": [
    "def reverseList(head):\n",
    "    \n",
    "    prev = None\n",
    "    current = head\n",
    "    \n",
    "    while current is not None:\n",
    "        nextTemp = current.next\n",
    "        current.next = prev\n",
    "        prev = current\n",
    "        current = nextTemp\n",
    "    \n",
    "    return prev"
   ]
  },
  {
   "cell_type": "code",
   "execution_count": 36,
   "id": "8d56b4b8",
   "metadata": {},
   "outputs": [
    {
     "name": "stdout",
     "output_type": "stream",
     "text": [
      "5\n",
      "4\n",
      "3\n",
      "2\n",
      "1\n"
     ]
    }
   ],
   "source": [
    "printList(reverseList(linkedList))"
   ]
  },
  {
   "cell_type": "markdown",
   "id": "9fc9cad1",
   "metadata": {},
   "source": [
    "# 9. Reverse linkedlist II\n",
    "\n",
    "https://leetcode.com/problems/reverse-linked-list-ii/\n",
    "\n",
    "[1,2,3,4,5] (2,4) --> [1,4,3,2,5]\n",
    "\n",
    "T --> O(n)\n",
    "S --> O(1)"
   ]
  },
  {
   "cell_type": "code",
   "execution_count": 47,
   "id": "282576df",
   "metadata": {},
   "outputs": [],
   "source": [
    "def reverseList2(head, left, right):\n",
    "    \n",
    "    currentPos = 1\n",
    "    currentNode = head\n",
    "    start = head\n",
    "    \n",
    "    while currentPos < left:\n",
    "        start = currentNode\n",
    "        currentNode= currentNode.next\n",
    "        currentPos += 1\n",
    "    \n",
    "    list_so_far = None\n",
    "    tail = currentNode\n",
    "    \n",
    "    while currentPos >= left and currentPos <= right:\n",
    "        nextTemp = currentNode.next\n",
    "        currentNode.next = list_so_far\n",
    "        list_so_far = currentNode\n",
    "        currentNode = nextTemp\n",
    "        currentPos += 1\n",
    "    \n",
    "    start.next = list_so_far\n",
    "    tail.next = currentNode\n",
    "    \n",
    "    if left > 1:\n",
    "        return head\n",
    "    else:\n",
    "        return list_so_far"
   ]
  },
  {
   "cell_type": "code",
   "execution_count": 60,
   "id": "fcd7943c",
   "metadata": {},
   "outputs": [],
   "source": [
    "linkedList = reduce(lambda acc, val: ListNode(val, acc), [5,4,3,2,1], None) "
   ]
  },
  {
   "cell_type": "code",
   "execution_count": 58,
   "id": "ac1e5572",
   "metadata": {},
   "outputs": [
    {
     "name": "stdout",
     "output_type": "stream",
     "text": [
      "1\n",
      "2\n",
      "3\n",
      "4\n",
      "5\n",
      "After reverse\n",
      "1\n",
      "4\n",
      "3\n",
      "2\n",
      "5\n"
     ]
    }
   ],
   "source": [
    "printList(linkedList)\n",
    "print('After reverse')\n",
    "printList(reverseBetween(linkedList, 2, 4))"
   ]
  },
  {
   "cell_type": "code",
   "execution_count": 61,
   "id": "cea27ae6",
   "metadata": {},
   "outputs": [
    {
     "name": "stdout",
     "output_type": "stream",
     "text": [
      "1---2---3---4---5---6\n",
      "        |\n",
      "        7---8---9---10\n",
      "            |\n",
      "            11---12\n",
      "True\n"
     ]
    }
   ],
   "source": [
    "# helper functions\n",
    "\n",
    "class Node:\n",
    "  def __init__(self, val=None, prev=None, \n",
    "                next=None, child=None):\n",
    "    self.val = val\n",
    "    self.next = next\n",
    "    self.prev = prev\n",
    "    self.child = child\n",
    "\n",
    "null = None\n",
    "\n",
    "def makeLists(array):\n",
    "  '''\n",
    "  Recursively generates the complete graph from given serialization\n",
    "  Parameter:\n",
    "    array - serialization of the list as Python list\n",
    "  Returns:\n",
    "    head to the top most list (first node of the\n",
    "    graph)\n",
    "  '''\n",
    "  head = None\n",
    "  prev = None\n",
    "  i = 0\n",
    "  while i < len(array):\n",
    "    if array[i] != null:\n",
    "      node = Node(val=array[i], prev=prev)\n",
    "      if prev is None:\n",
    "        head = prev = node\n",
    "      else:\n",
    "        prev.next = node\n",
    "        prev = node\n",
    "      i += 1\n",
    "    else:\n",
    "      node = head\n",
    "      end = False\n",
    "      while array[i] == null:\n",
    "        if node.next is None:\n",
    "          end = True\n",
    "        else:\n",
    "          node = node.next\n",
    "        i += 1\n",
    "      if end:\n",
    "        node.child = makeLists(array[i:])\n",
    "      else:\n",
    "        node.prev.child = makeLists(array[i:])\n",
    "      break\n",
    "  return head\n",
    "\n",
    "def strLists(head, lists):\n",
    "  '''\n",
    "  Helper function to recursively serialize the graph prior to visualization. It's an interim step and\n",
    "  only meant to be called by the printLists function.\n",
    "\n",
    "  Parameters:\n",
    "    head - head of the present list \n",
    "    lists - the serialization being built recursively (passed by reference)\n",
    "\n",
    "  Returns:\n",
    "    None (lists is updated in place). \n",
    "  '''\n",
    "  if head is None:\n",
    "    return\n",
    "  nodes = []\n",
    "  while head:\n",
    "    nodes.append(str(head.val))\n",
    "    if head.child is not None:\n",
    "      nodes.append('|')\n",
    "      strLists(head.child, lists)\n",
    "    head = head.next\n",
    "  lists.append(nodes)\n",
    "\n",
    "def printLists(head):\n",
    "  '''\n",
    "  Visualizes the entire graph\n",
    "  Parameter:\n",
    "    head - the top most Node\n",
    "  '''\n",
    "  lists = []\n",
    "  strLists(head, lists)\n",
    "  if lists == []:\n",
    "    print(None)\n",
    "    return\n",
    "  previndent = 0\n",
    "  for j, l in enumerate(lists[::-1]):\n",
    "    count = -1\n",
    "    indent = 0\n",
    "    s = []\n",
    "    for i in range(len(l)):\n",
    "      if l[i] != '|':\n",
    "        s.append(l[i])\n",
    "        count += 1\n",
    "      else:\n",
    "        indent = count * 4\n",
    "        child = count\n",
    "    print('---'.join(s)) \n",
    "    if  len(lists) > 1 and j < len(lists) - 1:\n",
    "      previndent += indent\n",
    "      indentation = ''.join([' '] * previndent)\n",
    "      if len(l[0]) > 1:\n",
    "        indentation += ''.join([' '] * child)\n",
    "      print(indentation + '|')\n",
    "      print(indentation, end='')\n",
    "\n",
    "def checkLinks(head, lists=None):\n",
    "  '''\n",
    "  Verifies that all lists can be traversed in both directions.\n",
    "\n",
    "  Parameter:\n",
    "    head - top most Node\n",
    "\n",
    "  Returns:\n",
    "    Boolean, True if all lists traversable, False if not.\n",
    "  '''\n",
    "  if head is None:\n",
    "    return True\n",
    "  if lists is None:\n",
    "    lists = []\n",
    "  stack = []\n",
    "  result = True\n",
    "  node = head\n",
    "  while node is not None:\n",
    "    if node.child is not None:\n",
    "      checkLinks(node.child, lists)\n",
    "    stack.append(node)\n",
    "    prev = node\n",
    "    node = node.next\n",
    "  while prev is not None:\n",
    "    if len(stack) == 0 or stack.pop() != prev:\n",
    "      result = False\n",
    "    prev = prev.prev\n",
    "  lists.append(result)\n",
    "  return all(lists)\n",
    "\n",
    "\n",
    "# Example to show usage\n",
    "array = [1,2,3,4,5,6,null,null,null,7,8,9,10,null,null,11,12]\n",
    "head = makeLists(array)\n",
    "printLists(head)\n",
    "print(checkLinks(head))\n"
   ]
  },
  {
   "cell_type": "markdown",
   "id": "436cbd55",
   "metadata": {},
   "source": [
    "# 10. Flatten multilevel doubly linkedlist\n",
    "\n",
    "https://leetcode.com/problems/flatten-a-multilevel-doubly-linked-list/\n",
    "\n",
    "T --> O(n)\n",
    "\n",
    "S --> O(n)"
   ]
  },
  {
   "cell_type": "code",
   "execution_count": 59,
   "id": "3e57f8b1",
   "metadata": {},
   "outputs": [],
   "source": [
    "def flatten(head):\n",
    "    if head is None:\n",
    "        return head\n",
    "    \n",
    "    currentNode = head\n",
    "    \n",
    "    while currentNode is not None:\n",
    "        if currentNode.child is None:\n",
    "            currentNode = currentNode.next\n",
    "        else:\n",
    "            tail = currentNode.child\n",
    "            while tail.next is not None:\n",
    "                tail = tail.next\n",
    "            tail.next = currentNode.next\n",
    "            if tail.next is not None:\n",
    "                tail.next.prev = tail\n",
    "            currentNode.next = currentNode.child\n",
    "            currentNode.next.prev = currentNode\n",
    "            currentNode.child = None\n",
    "    return head\n",
    "            "
   ]
  },
  {
   "cell_type": "code",
   "execution_count": 62,
   "id": "0166c1b2",
   "metadata": {},
   "outputs": [
    {
     "name": "stdout",
     "output_type": "stream",
     "text": [
      "1---2---3---7---8---11---12---9---10---4---5---6\n"
     ]
    }
   ],
   "source": [
    "printLists(flatten(head))"
   ]
  },
  {
   "cell_type": "markdown",
   "id": "fbb7691e",
   "metadata": {},
   "source": [
    "# 11. LinkedList Cycle - I\n",
    "\n",
    "https://leetcode.com/problems/linked-list-cycle/\n",
    "\n",
    "T --> O(n)\n",
    "\n",
    "S --> O(1)"
   ]
  },
  {
   "cell_type": "code",
   "execution_count": 64,
   "id": "2a87bfb3",
   "metadata": {},
   "outputs": [],
   "source": [
    "from functools import reduce\n",
    " \n",
    "class ListNode:\n",
    "    def __init__(self, val, next=None):\n",
    "        self.val = val\n",
    "        self.next = next\n",
    "        \n",
    "# ---- Generate our linked list ----\n",
    "lis = [8,7,6,5,4,3,2,1]\n",
    "linkedList = reduce(lambda acc, val: ListNode(val, acc), lis, None)\n",
    " \n",
    "curr = linkedList\n",
    "cycleNode = None\n",
    " \n",
    " \n",
    "while(curr.next != None):\n",
    "    if(curr.val == 3):\n",
    " \n",
    "        cycleNode = curr\n",
    "  \n",
    "    curr = curr.next\n",
    " \n",
    " \n",
    "curr.next = cycleNode"
   ]
  },
  {
   "cell_type": "code",
   "execution_count": 63,
   "id": "320acd25",
   "metadata": {},
   "outputs": [],
   "source": [
    "def hasCycle(head):\n",
    "    tortoise = head\n",
    "    hare = head\n",
    "    \n",
    "    while hare is not None and hare.next is not None:\n",
    "        tortoise = tortoise.next\n",
    "        hare = hare.next.next\n",
    "        \n",
    "        if tortoise == hare:\n",
    "            return True\n",
    "    return False"
   ]
  },
  {
   "cell_type": "code",
   "execution_count": 67,
   "id": "e723dabc",
   "metadata": {},
   "outputs": [
    {
     "data": {
      "text/plain": [
       "True"
      ]
     },
     "execution_count": 67,
     "metadata": {},
     "output_type": "execute_result"
    }
   ],
   "source": [
    "hasCycle(curr)"
   ]
  },
  {
   "cell_type": "markdown",
   "id": "a60419f9",
   "metadata": {},
   "source": [
    "# 12. LinkedList Cycle - II\n",
    "\n",
    "https://leetcode.com/problems/linked-list-cycle-ii/solution/\n",
    "\n",
    "T --> O(n)\n",
    "\n",
    "S --> O(1)"
   ]
  },
  {
   "cell_type": "code",
   "execution_count": 68,
   "id": "c95dcd1d",
   "metadata": {},
   "outputs": [],
   "source": [
    "def getIntersect(head):\n",
    "    tortoise = head\n",
    "    hare = head\n",
    "    \n",
    "    while hare is not None and hare.next is not None:\n",
    "        tortoise = tortoise.next \n",
    "        hare = hare.next.next\n",
    "        if tortoise == hare:\n",
    "            return hare\n",
    "    return None\n",
    "\n",
    "def detectCycle(head):\n",
    "    if head is None:\n",
    "        return None\n",
    "    \n",
    "    intersect = getIntersect(head)\n",
    "    \n",
    "    if intersect is None:\n",
    "        return None\n",
    "    \n",
    "    ptr1 = head\n",
    "    ptr2 = intersect\n",
    "    \n",
    "    while ptr1 != ptr2:\n",
    "        ptr1 = ptr1.next\n",
    "        ptr2 = ptr2.next\n",
    "    \n",
    "    return ptr1"
   ]
  },
  {
   "cell_type": "code",
   "execution_count": 70,
   "id": "4898fb27",
   "metadata": {},
   "outputs": [
    {
     "data": {
      "text/plain": [
       "8"
      ]
     },
     "execution_count": 70,
     "metadata": {},
     "output_type": "execute_result"
    }
   ],
   "source": [
    "detectCycle(curr)"
   ]
  },
  {
   "cell_type": "markdown",
   "id": "f1db0499",
   "metadata": {},
   "source": [
    "# 13. Valid Parenthesis\n",
    "\n",
    "https://leetcode.com/problems/valid-parentheses/\n",
    "\n",
    "T --> O(n)\n",
    "\n",
    "S --> O(n)"
   ]
  },
  {
   "cell_type": "code",
   "execution_count": 72,
   "id": "0ff45a0c",
   "metadata": {},
   "outputs": [],
   "source": [
    "def isValid(s):\n",
    "    \n",
    "    parens = {\n",
    "        '(':')',\n",
    "        '{':'}',\n",
    "        '[':']'\n",
    "    }\n",
    "    \n",
    "    stack = []\n",
    "    \n",
    "    for i in range(len(s)):\n",
    "        if s[i] in parens.keys():\n",
    "            stack.append(s[i])\n",
    "        else:\n",
    "            if len(stack) > 0:\n",
    "                leftBracket = stack.pop()\n",
    "            else:\n",
    "                return False\n",
    "            correctBracket = parens[leftBracket]\n",
    "            \n",
    "            if s[i] != correctBracket:\n",
    "                return False\n",
    "    return len(stack) == 0"
   ]
  },
  {
   "cell_type": "code",
   "execution_count": 73,
   "id": "a34c6899",
   "metadata": {},
   "outputs": [
    {
     "data": {
      "text/plain": [
       "True"
      ]
     },
     "execution_count": 73,
     "metadata": {},
     "output_type": "execute_result"
    }
   ],
   "source": [
    "s = \"()[]{}\"\n",
    "isValid(s)"
   ]
  },
  {
   "cell_type": "code",
   "execution_count": 74,
   "id": "1de5a743",
   "metadata": {},
   "outputs": [
    {
     "data": {
      "text/plain": [
       "False"
      ]
     },
     "execution_count": 74,
     "metadata": {},
     "output_type": "execute_result"
    }
   ],
   "source": [
    "s = ']('\n",
    "isValid(s)"
   ]
  },
  {
   "cell_type": "markdown",
   "id": "1c0fd6a8",
   "metadata": {},
   "source": [
    "# 14. Minimum remove to make valid parenthesis\n",
    "\n",
    "https://leetcode.com/problems/minimum-remove-to-make-valid-parentheses/\n",
    "\n",
    "T --> O(n)\n",
    "\n",
    "S --> O(n)\n",
    "\n",
    "As explained above, we should use a stack. If we put the indexes of the \"(\" on the stack, then we'll know that all the indexes on the stack at the end are the indexes of the unmatched \"(\". We should also use a set to keep track of the unmatched \")\" we come across. Then, we can remove the character at each of those indexes and then return the edited string."
   ]
  },
  {
   "cell_type": "code",
   "execution_count": 80,
   "id": "50b44bb2",
   "metadata": {},
   "outputs": [],
   "source": [
    "def minRemoveToMakeValid(s):\n",
    "    indexes_to_remove = set()\n",
    "    stack = []\n",
    "    \n",
    "    for i, c in enumerate(s):\n",
    "        if c not in '()':\n",
    "            continue\n",
    "        if c == '(':\n",
    "            stack.append(i)\n",
    "        elif not stack:\n",
    "            indexes_to_remove.add(i)\n",
    "        else:\n",
    "            stack.pop()\n",
    "    \n",
    "    \n",
    "    indexes_to_remove = indexes_to_remove.union(set(stack))\n",
    "    string_builder = []\n",
    "    \n",
    "    for i, c in enumerate(s):\n",
    "        if i not in indexes_to_remove:\n",
    "            string_builder.append(c)\n",
    "    \n",
    "    return \"\".join(string_builder)"
   ]
  },
  {
   "cell_type": "code",
   "execution_count": 81,
   "id": "9960eee3",
   "metadata": {},
   "outputs": [
    {
     "data": {
      "text/plain": [
       "''"
      ]
     },
     "execution_count": 81,
     "metadata": {},
     "output_type": "execute_result"
    }
   ],
   "source": [
    "minRemoveToMakeValid('))((')"
   ]
  },
  {
   "cell_type": "code",
   "execution_count": 82,
   "id": "ce4f24e8",
   "metadata": {},
   "outputs": [
    {
     "data": {
      "text/plain": [
       "'lee(t(c)o)de'"
      ]
     },
     "execution_count": 82,
     "metadata": {},
     "output_type": "execute_result"
    }
   ],
   "source": [
    "minRemoveToMakeValid('lee(t(c)o)de)')"
   ]
  },
  {
   "cell_type": "markdown",
   "id": "60d4305b",
   "metadata": {},
   "source": [
    "# 15. Find kth Largest element\n",
    "\n",
    "## Divide and Conquer"
   ]
  },
  {
   "cell_type": "code",
   "execution_count": 107,
   "id": "6d2e361c",
   "metadata": {},
   "outputs": [],
   "source": [
    "def quicksort(nums, left, right):\n",
    "    if left < right:\n",
    "        partitionIndex = partition(nums, left, right)\n",
    "        quicksort(nums, left, partitionIndex - 1)\n",
    "        quicksort(nums, partitionIndex + 1, right)\n",
    "\n",
    "def swap(nums, i, j):\n",
    "    temp = nums[i]\n",
    "    nums[i] = nums[j]\n",
    "    nums[j] = temp\n",
    "    \n",
    "\n",
    "\n",
    "def partition(nums, left, right):\n",
    "    pivotElement = nums[right]\n",
    "    partitionIndex = left\n",
    "    \n",
    "    for j in range(left, right):\n",
    "        \n",
    "        if nums[j] <= pivotElement:\n",
    "            swap(nums, partitionIndex, j)\n",
    "            partitionIndex += 1\n",
    "    swap(nums, partitionIndex, right)\n",
    "    return partitionIndex\n",
    "\n",
    "def findKthLargest(nums, k):\n",
    "    quicksort(nums, 0, len(nums) - 1)\n",
    "    return nums[-k]"
   ]
  },
  {
   "cell_type": "code",
   "execution_count": 108,
   "id": "a46e7da9",
   "metadata": {},
   "outputs": [
    {
     "data": {
      "text/plain": [
       "4"
      ]
     },
     "execution_count": 108,
     "metadata": {},
     "output_type": "execute_result"
    }
   ],
   "source": [
    "nums = [3,2,1,5,6,4]\n",
    "k = 3\n",
    "findKthLargest(nums, k)"
   ]
  },
  {
   "cell_type": "code",
   "execution_count": 109,
   "id": "76805863",
   "metadata": {},
   "outputs": [
    {
     "data": {
      "text/plain": [
       "6"
      ]
     },
     "execution_count": 109,
     "metadata": {},
     "output_type": "execute_result"
    }
   ],
   "source": [
    "findKthLargest([5,6,1,4,8,3],2)\n"
   ]
  },
  {
   "cell_type": "markdown",
   "id": "0ef142aa",
   "metadata": {},
   "source": [
    "## Quickselect"
   ]
  },
  {
   "cell_type": "code",
   "execution_count": null,
   "id": "15b6aa2d",
   "metadata": {},
   "outputs": [],
   "source": [
    "def findKthLargest(nums, k):\n",
    "    index_to_find = len(nums) - k\n",
    "    quickselect(nums, 0, len(nums) - 1, index_to_find)\n",
    "    return nums[-k]\n",
    "\n"
   ]
  }
 ],
 "metadata": {
  "kernelspec": {
   "display_name": "Python 3 (ipykernel)",
   "language": "python",
   "name": "python3"
  },
  "language_info": {
   "codemirror_mode": {
    "name": "ipython",
    "version": 3
   },
   "file_extension": ".py",
   "mimetype": "text/x-python",
   "name": "python",
   "nbconvert_exporter": "python",
   "pygments_lexer": "ipython3",
   "version": "3.8.3"
  }
 },
 "nbformat": 4,
 "nbformat_minor": 5
}
