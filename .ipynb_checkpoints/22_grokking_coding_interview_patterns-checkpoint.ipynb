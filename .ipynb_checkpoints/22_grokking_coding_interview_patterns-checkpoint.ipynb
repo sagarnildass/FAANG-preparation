{
 "cells": [
  {
   "cell_type": "markdown",
   "id": "99fc9e18",
   "metadata": {},
   "source": [
    "# A) Sliding Window\n",
    "\n",
    "# 1. Find Maximum in Sliding Window\n",
    "\n",
    "T --> O(n)\n",
    "\n",
    "S --> O(1)"
   ]
  },
  {
   "cell_type": "code",
   "execution_count": 3,
   "id": "fb2215b8",
   "metadata": {},
   "outputs": [],
   "source": [
    "def find_max_sliding_window(nums, window_size):\n",
    "    \n",
    "    if len(nums) == 0:\n",
    "        return []\n",
    "    \n",
    "    if window_size > len(nums):\n",
    "        window_size = len(nums)\n",
    "\n",
    "    result = []\n",
    "    left = 0\n",
    "\n",
    "    for right in range(window_size - 1, len(nums)):\n",
    "        result.append(max(nums[left:right + 1]))\n",
    "        left += 1\n",
    "    return result"
   ]
  },
  {
   "cell_type": "code",
   "execution_count": 7,
   "id": "d0c14316",
   "metadata": {},
   "outputs": [
    {
     "data": {
      "text/plain": [
       "[9, 5, 6, 6]"
      ]
     },
     "execution_count": 7,
     "metadata": {},
     "output_type": "execute_result"
    }
   ],
   "source": [
    "nums = [9,5,3,1,6,3] \n",
    "window_size = 3\n",
    "\n",
    "find_max_sliding_window(nums, window_size)"
   ]
  },
  {
   "cell_type": "markdown",
   "id": "c6459cba",
   "metadata": {},
   "source": [
    "# 2. Minimum Window Subsequence\n",
    "\n",
    "T -- > O(n)\n",
    "\n",
    "S --> O(1)\n",
    "\n",
    "https://www.educative.io/courses/grokking-coding-interview-patterns-python/Bn0ZmAANA1Y"
   ]
  },
  {
   "cell_type": "code",
   "execution_count": 18,
   "id": "d32c6d3d",
   "metadata": {},
   "outputs": [],
   "source": [
    "def min_window(str1, str2):\n",
    "    # Save the size of str1 and str2\n",
    "    size_str1, size_str2 = len(str1), len(str2)\n",
    "    # Initialize length to a very large number (infinity)\n",
    "    length = float('inf')\n",
    "    # Initialize pointers to zero and the min_subsequence to an empty string\n",
    "    index_s1, index_s2 = 0, 0\n",
    "    min_subsequence = \"\"\n",
    "\n",
    "    # Process every character of str1\n",
    "    while index_s1 < size_str1:\n",
    "        # Check if the character pointed by index_s1 in str1\n",
    "        # is the same as the character pointed by index_s2 in str2\n",
    "        if str1[index_s1] == str2[index_s2]:\n",
    "            # If the pointed character is the same\n",
    "            # in both strings increment index_s2\n",
    "            index_s2 += 1\n",
    "            # Check if index_s2 has reached the end of str2\n",
    "            if index_s2 == size_str2:\n",
    "                # At this point the str1 contains all characters of str2\n",
    "                start, end = index_s1, index_s1+1\n",
    "                # Initialize start to the index where all characters of\n",
    "                # str2 were present in str1\n",
    "                index_s2 -= 1\n",
    "                # Decrement pointer index_s2 and start a reverse loop\n",
    "                while index_s2 >= 0:\n",
    "                    # Decrement pointer index_s2 until all characters of\n",
    "                    #  str2 are found in str1\n",
    "                    if str1[start] == str2[index_s2]:\n",
    "                        index_s2 -= 1\n",
    "                    # Decrement start pointer everytime to find the\n",
    "                    # starting point of the required subsequence\n",
    "                    start -= 1\n",
    "                start += 1\n",
    "                # Check if length of sub sequence pointed\n",
    "                # by start and end pointers is less than current min length\n",
    "                if end - start < length:\n",
    "                    # Update length if current sub sequence is shorter\n",
    "                    length = end - start\n",
    "                    # Update minimum subsequence string\n",
    "                    # to this new shorter string\n",
    "                    min_subsequence = str1[start:end]\n",
    "\n",
    "                # Set index_s1 to start to continue checking in str1\n",
    "                # after this discovered subsequence\n",
    "                index_s1 = start\n",
    "                index_s2 = 0\n",
    "\n",
    "        # Increment pointer index_s1 to check next character in str1\n",
    "        index_s1 += 1\n",
    "\n",
    "    return min_subsequence\n"
   ]
  },
  {
   "cell_type": "code",
   "execution_count": 2,
   "id": "4d4eabf7",
   "metadata": {},
   "outputs": [
    {
     "data": {
      "text/plain": [
       "'kzxwqegknd'"
      ]
     },
     "execution_count": 2,
     "metadata": {},
     "output_type": "execute_result"
    }
   ],
   "source": [
    "str1 = 'fgrqsqsnodwmxzkzxwqegkndaa'\n",
    "str2 = 'kzed'\n",
    "\n",
    "min_window(str1, str2)"
   ]
  },
  {
   "cell_type": "code",
   "execution_count": 1,
   "id": "62be9824",
   "metadata": {},
   "outputs": [],
   "source": [
    "def min_window(str1, str2):\n",
    "    size_str1, size_str2 = len(str1), len(str2)\n",
    "    length = float('inf')\n",
    "    index_s1, index_s2 = 0, 0\n",
    "    min_subsequence = \"\"\n",
    "    \n",
    "    while index_s1 < size_str1:\n",
    "        if str1[index_s1] == str2[index_s2]:\n",
    "            index_s2 += 1\n",
    "            if index_s2 == size_str2:\n",
    "                start, end = index_s1, index_s1 + 1\n",
    "                index_s2 -= 1\n",
    "                while index_s2 >= 0:\n",
    "                    if str1[start] == str2[index_s2]:\n",
    "                        index_s2 -= 1\n",
    "                    start -= 1\n",
    "                start += 1\n",
    "                if end - start < length:\n",
    "                    length = end - start\n",
    "                    min_subsequence = str1[start:end]\n",
    "                index_s1 = start\n",
    "                index_s2 = 0\n",
    "        index_s1 += 1\n",
    "    return min_subsequence"
   ]
  },
  {
   "cell_type": "markdown",
   "id": "bb138b9e",
   "metadata": {},
   "source": [
    "# 3. Minimum window substring\n",
    "\n",
    "T --> O(n+m)\n",
    "\n",
    "S --> O(n+m)"
   ]
  },
  {
   "cell_type": "code",
   "execution_count": 8,
   "id": "65f1a18a",
   "metadata": {},
   "outputs": [],
   "source": [
    "from collections import Counter\n",
    "\n",
    "def min_window(s, t):\n",
    "    # Empty string scenario\n",
    "    if t == \"\":\n",
    "        return \"\"\n",
    "    # Creating the two hash maps\n",
    "    r_count = Counter(t)\n",
    "    window = {}\n",
    "\n",
    "    \n",
    "\n",
    "    # Setting up the conditional variables\n",
    "    current, required = 0, len(r_count)\n",
    "    # Setting up a variable containing the result's starting and ending point\n",
    "    # with default values and a length variable\n",
    "    res, res_len = [-1, -1], float(\"inf\")\n",
    "    # Setting up the sliding window pointers\n",
    "    left = 0\n",
    "    for right in range(len(s)):\n",
    "        c = s[right]\n",
    "        window[c] = 1 + window.get(c, 0)  # Populating the window hash map\n",
    "\n",
    "        # Updating the current variable\n",
    "        if c in r_count and window[c] == r_count[c]:\n",
    "            current += 1\n",
    "\n",
    "        while current == required:  # Adjusting the sliding window\n",
    "            # update our result\n",
    "            if (right - left + 1) < res_len:\n",
    "                res = [left, right]\n",
    "                res_len = (right - left + 1)\n",
    "            # pop from the left of our window\n",
    "            window[s[left]] -= 1\n",
    "            if s[left] in r_count and window[s[left]] < r_count[s[left]]:\n",
    "                current -= 1  # if the popped character was among the required characters and removing it has reduced its frequency below its frequency in t, decrement current\n",
    "            left += 1\n",
    "    left, right = res\n",
    "    return s[left:right+1] if res_len != float(\"infinity\") else \"\""
   ]
  },
  {
   "cell_type": "code",
   "execution_count": 11,
   "id": "d62fd093",
   "metadata": {},
   "outputs": [
    {
     "data": {
      "text/plain": [
       "'BANC'"
      ]
     },
     "execution_count": 11,
     "metadata": {},
     "output_type": "execute_result"
    }
   ],
   "source": [
    "s = \"ADOBECODEBANC\"\n",
    "t = \"ABC\"\n",
    "\n",
    "min_window(s, t)"
   ]
  },
  {
   "cell_type": "code",
   "execution_count": 10,
   "id": "23fb7a0e",
   "metadata": {},
   "outputs": [],
   "source": [
    "def min_window(s, t):\n",
    "    if t == \"\":\n",
    "        return \"\"\n",
    "    \n",
    "    r_count = Counter(t)\n",
    "    window = {}\n",
    "    current, required = 0, len(r_count)\n",
    "    res, res_len = [-1, -1], float(\"inf\")\n",
    "    left = 0\n",
    "    \n",
    "    for right in range(len(s)):\n",
    "        c = s[right]\n",
    "        \n",
    "        window[c] = 1 + window.get(c, 0)\n",
    "        \n",
    "        if c in r_count and window[c] == r_count[c]:\n",
    "            current += 1\n",
    "        \n",
    "        while current == required:\n",
    "            if right - left + 1 < res_len:\n",
    "                res = [left, right]\n",
    "                res_len = right - left + 1\n",
    "            window[s[left]] -= 1\n",
    "            \n",
    "            if s[left] in r_count and window[s[left]] < r_count[s[left]]:\n",
    "                current -= 1\n",
    "            left += 1\n",
    "    left, right = res\n",
    "    return s[left:right + 1] if res_len != float('inf') else \"\""
   ]
  },
  {
   "cell_type": "markdown",
   "id": "3bb18811",
   "metadata": {},
   "source": [
    "# 4. Longest Substring without repeating character\n",
    "\n",
    "T --> O(n)\n",
    "\n",
    "S --> O(n)"
   ]
  },
  {
   "cell_type": "code",
   "execution_count": 18,
   "id": "00e0fac0",
   "metadata": {},
   "outputs": [],
   "source": [
    "def find_longest_substring(s):\n",
    "    \n",
    "    if len(s) == 0:\n",
    "        return 0\n",
    "    \n",
    "    index_map = {}\n",
    "    longest = 0\n",
    "    left = 0\n",
    "    \n",
    "    for right in range(len(s)):\n",
    "        currentChar = s[right]\n",
    "        prevSeenChar = -1\n",
    "        \n",
    "        if currentChar in index_map:\n",
    "            prevSeenChar = index_map[currentChar]\n",
    "        \n",
    "        if prevSeenChar >= left:\n",
    "            left = prevSeenChar + 1\n",
    "        \n",
    "        index_map[currentChar] = right\n",
    "        longest = max(longest, right - left + 1)\n",
    "    return longest"
   ]
  },
  {
   "cell_type": "code",
   "execution_count": 20,
   "id": "4df65732",
   "metadata": {},
   "outputs": [
    {
     "data": {
      "text/plain": [
       "5"
      ]
     },
     "execution_count": 20,
     "metadata": {},
     "output_type": "execute_result"
    }
   ],
   "source": [
    "s = \"abcdeabcbb\"\n",
    "\n",
    "find_longest_substring(s)"
   ]
  },
  {
   "cell_type": "markdown",
   "id": "4567fe75",
   "metadata": {},
   "source": [
    "# 5. Minimum Size subarray sum\n",
    "\n",
    "T --> O(n)\n",
    "\n",
    "S --> O(1)"
   ]
  },
  {
   "cell_type": "code",
   "execution_count": 27,
   "id": "a500f927",
   "metadata": {},
   "outputs": [],
   "source": [
    "def min_sub_array_len(nums, target):\n",
    "    prefix_sum = 0\n",
    "    shortest = float('inf')\n",
    "    left = 0\n",
    "    \n",
    "    for right in range(len(nums)):\n",
    "        prefix_sum += nums[right]\n",
    "        \n",
    "        while prefix_sum >= target:\n",
    "            shortest = min(shortest, right - left + 1)\n",
    "            prefix_sum -= nums[left]\n",
    "            left += 1\n",
    "    return shortest if shortest != float('inf') else 0"
   ]
  },
  {
   "cell_type": "code",
   "execution_count": 28,
   "id": "fe2e53cf",
   "metadata": {},
   "outputs": [
    {
     "data": {
      "text/plain": [
       "2"
      ]
     },
     "execution_count": 28,
     "metadata": {},
     "output_type": "execute_result"
    }
   ],
   "source": [
    "nums = [2,3,1,2,4,3]\n",
    "target = 7\n",
    "\n",
    "min_sub_array_len(nums, target)"
   ]
  },
  {
   "cell_type": "markdown",
   "id": "ac372bc8",
   "metadata": {},
   "source": [
    "# 6. Max size subarray sum\n",
    "\n",
    "T --> O(n)\n",
    "\n",
    "S --> O(n)"
   ]
  },
  {
   "cell_type": "code",
   "execution_count": 31,
   "id": "68a123bd",
   "metadata": {},
   "outputs": [],
   "source": [
    "from collections import defaultdict\n",
    "\n",
    "def maxSubArrayLen(nums, k):\n",
    "    prefix_sum = 0\n",
    "    dict_cumsum = defaultdict(int)\n",
    "    longest = 0\n",
    "    \n",
    "    for i in range(len(nums)):\n",
    "        prefix_sum += nums[i]\n",
    "        \n",
    "        if prefix_sum == k:\n",
    "            longest = i + 1\n",
    "        \n",
    "        if prefix_sum - k in dict_cumsum:\n",
    "            longest = max(longest, i - dict_cumsum[prefix_sum - k])\n",
    "        \n",
    "        if prefix_sum not in dict_cumsum:\n",
    "            dict_cumsum[prefix_sum] = i\n",
    "    return longest"
   ]
  },
  {
   "cell_type": "code",
   "execution_count": 32,
   "id": "0fb8f506",
   "metadata": {},
   "outputs": [
    {
     "data": {
      "text/plain": [
       "4"
      ]
     },
     "execution_count": 32,
     "metadata": {},
     "output_type": "execute_result"
    }
   ],
   "source": [
    "nums = [1,-1,5,-2,3]\n",
    "k = 3\n",
    "\n",
    "maxSubArrayLen(nums, k)"
   ]
  },
  {
   "cell_type": "markdown",
   "id": "4adc805d",
   "metadata": {},
   "source": [
    "# 7. Best time to buy and sell stocks\n",
    "\n",
    "T --> O(n)\n",
    "\n",
    "S --> O(1)"
   ]
  },
  {
   "cell_type": "code",
   "execution_count": 33,
   "id": "b8a975d3",
   "metadata": {},
   "outputs": [],
   "source": [
    "def max_profit(stock_prices):\n",
    "    # your code will replace this placeholder return statement\n",
    "    min_price = float('inf')\n",
    "    max_profit = 0\n",
    "\n",
    "    for price in stock_prices:\n",
    "        if price < min_price:\n",
    "            min_price = price\n",
    "        elif price - min_price > max_profit:\n",
    "            max_profit = price - min_price\n",
    "    return max_profit"
   ]
  },
  {
   "cell_type": "markdown",
   "id": "212248d6",
   "metadata": {},
   "source": [
    "# B) Two Pointers\n",
    "\n",
    "# 1. Valid palindrome\n",
    "\n",
    "T --> O(n)\n",
    "\n",
    "S --> O(1)"
   ]
  },
  {
   "cell_type": "code",
   "execution_count": 34,
   "id": "d7e05954",
   "metadata": {},
   "outputs": [],
   "source": [
    "def is_palindrome(s):\n",
    "    left = 0\n",
    "    right = len(s) - 1\n",
    "    \n",
    "    while left < right:\n",
    "        while left < right and not s[left].isalnum():\n",
    "            left += 1\n",
    "        while left < right and not s[right].isalnum():\n",
    "            right -= 1\n",
    "        \n",
    "        if s[left].lower() != s[right].lower():\n",
    "            return False\n",
    "        \n",
    "        left += 1\n",
    "        right -= 1\n",
    "    return True"
   ]
  },
  {
   "cell_type": "code",
   "execution_count": 35,
   "id": "e6622107",
   "metadata": {},
   "outputs": [
    {
     "data": {
      "text/plain": [
       "True"
      ]
     },
     "execution_count": 35,
     "metadata": {},
     "output_type": "execute_result"
    }
   ],
   "source": [
    "s = \"kayak\"\n",
    "\n",
    "is_palindrome(s)"
   ]
  },
  {
   "cell_type": "markdown",
   "id": "81e71503",
   "metadata": {},
   "source": [
    "# 2. Sum of three values\n",
    "\n",
    "T --> O(n^2)\n",
    "\n",
    "S --> O(1)"
   ]
  },
  {
   "cell_type": "code",
   "execution_count": 42,
   "id": "003cbeb1",
   "metadata": {},
   "outputs": [],
   "source": [
    "def find_sum_of_three(nums, target):\n",
    "    nums.sort()\n",
    "    \n",
    "    for i in range(len(nums) - 2):\n",
    "        left = i + 1\n",
    "        right = len(nums) - 1\n",
    "        \n",
    "        \n",
    "        while left < right:\n",
    "                current_sum = nums[i] + nums[left] + nums[right]\n",
    "                if current_sum == target:\n",
    "                    return True\n",
    "                elif current_sum > target:\n",
    "                    right -= 1\n",
    "                elif current_sum < target:\n",
    "                    left += 1\n",
    "    return False\n",
    "        "
   ]
  },
  {
   "cell_type": "code",
   "execution_count": 43,
   "id": "836cba26",
   "metadata": {},
   "outputs": [
    {
     "data": {
      "text/plain": [
       "True"
      ]
     },
     "execution_count": 43,
     "metadata": {},
     "output_type": "execute_result"
    }
   ],
   "source": [
    "nums = [3,7,1,2,8,4,5] \n",
    "target = 10\n",
    "\n",
    "find_sum_of_three(nums, target)"
   ]
  },
  {
   "cell_type": "markdown",
   "id": "92f42f1a",
   "metadata": {},
   "source": [
    "# 3. Three Sum to zero\n",
    "\n",
    "T --> O(n^2)\n",
    "\n",
    "S --> O(n)"
   ]
  },
  {
   "cell_type": "code",
   "execution_count": 56,
   "id": "5e510552",
   "metadata": {},
   "outputs": [],
   "source": [
    "def threeSum(nums):\n",
    "    nums.sort()\n",
    "    ans = []\n",
    "    \n",
    "    for i in range(len(nums) - 2):\n",
    "        \n",
    "        if nums[i] > 0:\n",
    "            break\n",
    "        \n",
    "        if i == 0 or nums[i] != nums[i - 1]:\n",
    "            left = i + 1\n",
    "            right = len(nums) - 1\n",
    "\n",
    "            while left < right:\n",
    "                current_sum = nums[i] + nums[left] + nums[right]\n",
    "\n",
    "                if current_sum == 0:\n",
    "                    ans.append([nums[i], nums[left], nums[right]])\n",
    "                    left += 1\n",
    "                    right -= 1\n",
    "\n",
    "                    while left < right and nums[left] == nums[left - 1]:\n",
    "                        left += 1\n",
    "                elif current_sum > 0:\n",
    "                    right -= 1\n",
    "                else:\n",
    "                    left += 1\n",
    "                \n",
    "            \n",
    "                \n",
    "    return ans if len(ans) > 0 else []"
   ]
  },
  {
   "cell_type": "code",
   "execution_count": 57,
   "id": "47e8853a",
   "metadata": {},
   "outputs": [
    {
     "data": {
      "text/plain": [
       "[[-1, -1, 2], [-1, 0, 1]]"
      ]
     },
     "execution_count": 57,
     "metadata": {},
     "output_type": "execute_result"
    }
   ],
   "source": [
    "nums = [-1,0,1,2,-1,-4]\n",
    "\n",
    "threeSum(nums)"
   ]
  },
  {
   "cell_type": "markdown",
   "id": "8e10e336",
   "metadata": {},
   "source": [
    "# 4. Valid Palindrome 2\n",
    "\n",
    "T --> O(n)\n",
    "\n",
    "S --> O(1)"
   ]
  },
  {
   "cell_type": "code",
   "execution_count": 58,
   "id": "6334b162",
   "metadata": {},
   "outputs": [],
   "source": [
    "def is_palindrome(s):\n",
    "    \n",
    "    def checkPalindrome(s, left, right):\n",
    "        while left < right:\n",
    "            if s[left] != s[right]:\n",
    "                return False\n",
    "            left += 1\n",
    "            right -= 1\n",
    "        return True\n",
    "    \n",
    "    left = 0\n",
    "    right = len(s) - 1\n",
    "    \n",
    "    while left < right:\n",
    "        if s[left] != s[right]:\n",
    "            return checkPalindrome(s, left + 1, right) or checkPalindrome(s, left, right - 1)\n",
    "        left += 1\n",
    "        right -= 1\n",
    "    return False"
   ]
  },
  {
   "cell_type": "code",
   "execution_count": 61,
   "id": "76e6a8ce",
   "metadata": {},
   "outputs": [
    {
     "data": {
      "text/plain": [
       "True"
      ]
     },
     "execution_count": 61,
     "metadata": {},
     "output_type": "execute_result"
    }
   ],
   "source": [
    "s = \"madame\"\n",
    "\n",
    "is_palindrome(s)"
   ]
  },
  {
   "cell_type": "markdown",
   "id": "8fa106ee",
   "metadata": {},
   "source": [
    "# 5. Reverse words in a string\n",
    "\n",
    "T --> O(n)\n",
    "\n",
    "S --> O(1)"
   ]
  },
  {
   "cell_type": "code",
   "execution_count": 63,
   "id": "768eac66",
   "metadata": {},
   "outputs": [],
   "source": [
    "def reverse_words(sentence):\n",
    "    sentence = list(sentence)\n",
    "    len_s = len(sentence)\n",
    "    str_rev(sentence, 0, len_s - 1)\n",
    "    \n",
    "    start = 0\n",
    "    end = 0\n",
    "    \n",
    "    while True:\n",
    "        while start < len_s and sentence[start] == \" \":\n",
    "            start += 1\n",
    "        \n",
    "        if start == len_s:\n",
    "            break\n",
    "        \n",
    "        end = start + 1\n",
    "        \n",
    "        while end < len_s and sentence[end] != \" \":\n",
    "            end += 1\n",
    "        \n",
    "        str_rev(sentence, start, end - 1)\n",
    "        start = end\n",
    "    return \"\".join(sentence)\n",
    "\n",
    "def str_rev(sentence, start_rev, end_rev):\n",
    "    while start_rev < end_rev:\n",
    "        sentence[start_rev], sentence[end_rev] = sentence[end_rev], sentence[start_rev]\n",
    "        start_rev += 1\n",
    "        end_rev -= 1"
   ]
  },
  {
   "cell_type": "code",
   "execution_count": 64,
   "id": "2d446c16",
   "metadata": {},
   "outputs": [
    {
     "data": {
      "text/plain": [
       "'World Hello'"
      ]
     },
     "execution_count": 64,
     "metadata": {},
     "output_type": "execute_result"
    }
   ],
   "source": [
    "s = \"Hello World\"\n",
    "\n",
    "reverse_words(s)"
   ]
  },
  {
   "cell_type": "markdown",
   "id": "e2e7c566",
   "metadata": {},
   "source": [
    "# C) Fast and Slow Pointers\n",
    "\n",
    "# 1. Happy Number\n",
    "\n",
    "T --> O(logn)\n",
    "\n",
    "S --> O(1)"
   ]
  },
  {
   "cell_type": "code",
   "execution_count": 68,
   "id": "9a9e45f4",
   "metadata": {},
   "outputs": [],
   "source": [
    "def is_happy_number(n):\n",
    "    \n",
    "    def getNext(number):\n",
    "        total_sum = 0\n",
    "        \n",
    "        while number > 0:\n",
    "            digit = number % 10\n",
    "            number = number // 10\n",
    "            total_sum += digit ** 2\n",
    "        return total_sum\n",
    "    \n",
    "    slow = n\n",
    "    fast = getNext(n)\n",
    "    \n",
    "    while fast != slow and fast != 1:\n",
    "        slow = getNext(slow)\n",
    "        fast = getNext(getNext(fast))\n",
    "    \n",
    "    return fast == 1\n"
   ]
  },
  {
   "cell_type": "code",
   "execution_count": 69,
   "id": "a9361ff5",
   "metadata": {},
   "outputs": [
    {
     "data": {
      "text/plain": [
       "True"
      ]
     },
     "execution_count": 69,
     "metadata": {},
     "output_type": "execute_result"
    }
   ],
   "source": [
    "n = 19\n",
    "\n",
    "is_happy_number(n)"
   ]
  },
  {
   "cell_type": "markdown",
   "id": "aea264d1",
   "metadata": {},
   "source": [
    "# 2. Linked List cycle\n",
    "\n",
    "T --> O(n)\n",
    "\n",
    "S --> O(1)"
   ]
  },
  {
   "cell_type": "code",
   "execution_count": 71,
   "id": "1f48d9f0",
   "metadata": {},
   "outputs": [],
   "source": [
    "def detect_cycle(head):\n",
    "    if head is None:\n",
    "        return False\n",
    "    \n",
    "    slow = head\n",
    "    fast = head\n",
    "    \n",
    "    while fast is not None and fast.next is not None:\n",
    "        slow = slow.next\n",
    "        fast = fast.next.next\n",
    "        if slow == fast:\n",
    "            return True\n",
    "    return False"
   ]
  },
  {
   "cell_type": "markdown",
   "id": "f0f29cad",
   "metadata": {},
   "source": [
    "# 3. Middle of linked list\n",
    "\n",
    "T --> O(n)\n",
    "\n",
    "S --> O(1)"
   ]
  },
  {
   "cell_type": "code",
   "execution_count": 12,
   "id": "7fe39d21",
   "metadata": {},
   "outputs": [],
   "source": [
    "def get_middle_node(head):\n",
    "    fast = head\n",
    "    slow = head\n",
    "\n",
    "    while fast is not None and fast.next is not None:\n",
    "        slow = slow.next\n",
    "        fast = fast.next.next\n",
    "    return slow\n",
    "   "
   ]
  },
  {
   "cell_type": "markdown",
   "id": "5887537c",
   "metadata": {},
   "source": [
    "# 4. Palindrome Linked List\n",
    "\n",
    "T --> O(N)\n",
    "\n",
    "S --> O(1)"
   ]
  },
  {
   "cell_type": "code",
   "execution_count": 16,
   "id": "2f31eab2",
   "metadata": {},
   "outputs": [],
   "source": [
    "def palindrome(head):\n",
    "    if head is None:\n",
    "        return True\n",
    "    \n",
    "    def end_of_first_half(head):\n",
    "        slow = head\n",
    "        fast = head\n",
    "        \n",
    "        while fast.next and fast.next.next:\n",
    "            slow = slow.next\n",
    "            fast = fast.next.next\n",
    "        return slow\n",
    "    \n",
    "    def reverse_list(head):\n",
    "        prev = None\n",
    "        curr = head\n",
    "        \n",
    "        while curr:\n",
    "            nextTmp = curr.next\n",
    "            curr.next = prev\n",
    "            prev = curr\n",
    "            curr = nextTmp\n",
    "        return prev\n",
    "    \n",
    "    first_half_end = end_of_first_half(head)\n",
    "    second_half_start = reverse_list(first_half_end.next)\n",
    "    \n",
    "    result = True\n",
    "    first_position = head\n",
    "    second_position = second_half_start\n",
    "    \n",
    "    while result and second_position is not None:\n",
    "        if first_position.data != second_position.data:\n",
    "            result = False\n",
    "        first_position = first_position.next\n",
    "        second_position = second_position.next\n",
    "    \n",
    "    first_half_end.next = reverse_list(second_half_start)\n",
    "    return result"
   ]
  },
  {
   "cell_type": "markdown",
   "id": "ac6e430d",
   "metadata": {},
   "source": [
    "## Alternate\n",
    "\n",
    "T --> O(n)\n",
    "\n",
    "S --> O(n)"
   ]
  },
  {
   "cell_type": "code",
   "execution_count": 15,
   "id": "167b71d6",
   "metadata": {},
   "outputs": [],
   "source": [
    "def palindrome(head):\n",
    "    vals = []\n",
    "        \n",
    "    current_node = head\n",
    "\n",
    "    while current_node is not None:\n",
    "        vals.append(current_node.val)\n",
    "        current_node = current_node.next\n",
    "\n",
    "    return vals == vals[::-1]"
   ]
  },
  {
   "cell_type": "markdown",
   "id": "fa02d9f7",
   "metadata": {},
   "source": [
    "# D) Merge Intervals\n",
    "\n",
    "# 1. Merge Overlapping intervals\n",
    "\n",
    "T --> O(nlogn) (for the sorting. after that it's O(n))\n",
    "\n",
    "S --> O(n). Apart from output array, computation needs O(1)"
   ]
  },
  {
   "cell_type": "code",
   "execution_count": 17,
   "id": "89991319",
   "metadata": {},
   "outputs": [],
   "source": [
    "def merge(intervals):\n",
    "    intervals.sort(key=lambda x:x[0])\n",
    "    \n",
    "    result = []\n",
    "    \n",
    "    result.append([intervals[0][0], intervals[0][1]])\n",
    "    \n",
    "    for i in range(1, len(intervals)):\n",
    "        last_added_interval = result[(len(result) - 1)]\n",
    "        curr_start = intervals[i][0]\n",
    "        curr_end = intervals[i][1]\n",
    "        prev_end = last_added_interval[1]\n",
    "        \n",
    "        if prev_end >= curr_start:\n",
    "            last_added_interval[1] = max(curr_end, prev_end)\n",
    "        else:\n",
    "            result.append([curr_start, curr_end])\n",
    "    return result"
   ]
  },
  {
   "cell_type": "code",
   "execution_count": 18,
   "id": "ca3c5385",
   "metadata": {},
   "outputs": [
    {
     "data": {
      "text/plain": [
       "[[1, 6], [8, 10], [15, 18]]"
      ]
     },
     "execution_count": 18,
     "metadata": {},
     "output_type": "execute_result"
    }
   ],
   "source": [
    "intervals = [[1,3],[2,6],[8,10],[15,18]]\n",
    "\n",
    "merge(intervals)"
   ]
  },
  {
   "cell_type": "markdown",
   "id": "9cc55464",
   "metadata": {},
   "source": [
    "# 2. Insert interval\n",
    "\n",
    "T --> O(nlogn)\n",
    "\n",
    "S --> O(n)"
   ]
  },
  {
   "cell_type": "code",
   "execution_count": 19,
   "id": "e3b42b50",
   "metadata": {},
   "outputs": [],
   "source": [
    "def insert(intervals, newInterval):\n",
    "    intervals.append(newInterval)\n",
    "    intervals.sort(key=lambda x:x[0])\n",
    "    \n",
    "    result = []\n",
    "    result.append([intervals[0][0], intervals[0][1]])\n",
    "    \n",
    "    for i in range(1, len(intervals)):\n",
    "        last_added_interval = result[(len(result) - 1)]\n",
    "        curr_start = intervals[i][0]\n",
    "        curr_end = intervals[i][1]\n",
    "        prev_end = last_added_interval[1]\n",
    "        \n",
    "        if prev_end >= curr_start:\n",
    "            last_added_interval[1] = max(curr_end, prev_end)\n",
    "        else:\n",
    "            result.append([curr_start, curr_end])\n",
    "    return result"
   ]
  },
  {
   "cell_type": "code",
   "execution_count": 20,
   "id": "bc403e1b",
   "metadata": {},
   "outputs": [
    {
     "data": {
      "text/plain": [
       "[[1, 5], [6, 9]]"
      ]
     },
     "execution_count": 20,
     "metadata": {},
     "output_type": "execute_result"
    }
   ],
   "source": [
    "intervals = [[1,3],[6,9]]\n",
    "newInterval = [2,5]\n",
    "\n",
    "insert(intervals, newInterval)"
   ]
  },
  {
   "cell_type": "markdown",
   "id": "8bdf52c5",
   "metadata": {},
   "source": [
    "# 3. Interval Intersection\n",
    "\n",
    "T --> O(n+m)\n",
    "\n",
    "S --> O(n+m)"
   ]
  },
  {
   "cell_type": "code",
   "execution_count": 21,
   "id": "6ba3bab5",
   "metadata": {},
   "outputs": [],
   "source": [
    "def intervalIntersection(firstList, secondList):\n",
    "    ans = []\n",
    "    i = j = 0\n",
    "    \n",
    "    while i < len(firstList) and j < len(secondList):\n",
    "        start = max(firstList[i][0], secondList[j][0])\n",
    "        end = min(firstList[i][1], secondList[j][1])\n",
    "        \n",
    "        if start <= end:\n",
    "            ans.append([start, end])\n",
    "        \n",
    "        if firstList[i][1] < secondList[j][1]:\n",
    "            i += 1\n",
    "        else:\n",
    "            j += 1\n",
    "    return ans"
   ]
  },
  {
   "cell_type": "code",
   "execution_count": 22,
   "id": "bfd97b12",
   "metadata": {},
   "outputs": [
    {
     "data": {
      "text/plain": [
       "[[1, 2], [5, 5], [8, 10], [15, 23], [24, 24], [25, 25]]"
      ]
     },
     "execution_count": 22,
     "metadata": {},
     "output_type": "execute_result"
    }
   ],
   "source": [
    "firstList = [[0,2],[5,10],[13,23],[24,25]]\n",
    "secondList = [[1,5],[8,12],[15,24],[25,26]]\n",
    "\n",
    "intervalIntersection(firstList, secondList)"
   ]
  },
  {
   "cell_type": "markdown",
   "id": "b2264bf0",
   "metadata": {},
   "source": [
    "# 4. Employee free time\n",
    "\n",
    "T --> O(nlogn)\n",
    "\n",
    "S --> O(n)"
   ]
  },
  {
   "cell_type": "code",
   "execution_count": 2,
   "id": "a1c9ac3b",
   "metadata": {},
   "outputs": [],
   "source": [
    "def employee_free_time(schedule):\n",
    "    ans = []\n",
    "    intervals = []\n",
    "    \n",
    "    for s in schedule:\n",
    "        intervals.extend(s)\n",
    "    \n",
    "    intervals.sort(key=lambda x:x.start)\n",
    "    prev_end = intervals[0].end\n",
    "    \n",
    "    for interval in intervals:\n",
    "        if interval.start > prev_end:\n",
    "            ans.append(Interval(prev_end, interval.start))\n",
    "        prev_end = max(prev_end, interval.end)\n",
    "    return ans"
   ]
  },
  {
   "cell_type": "code",
   "execution_count": 4,
   "id": "ba13fd2f",
   "metadata": {},
   "outputs": [
    {
     "name": "stdout",
     "output_type": "stream",
     "text": [
      "1.\tEmployee Schedules:\n",
      "\t\t[[1, 2], [5, 6]]\n",
      "\t\t[[1, 3]]\n",
      "\t\t[[4, 10]]\n",
      "\tEmployees' free time [[3, 4]]\n",
      "----------------------------------------------------------------------------------------------------\n"
     ]
    }
   ],
   "source": [
    "class Interval:\n",
    "    def __init__(self, start, end):\n",
    "        self.start = start\n",
    "        self.end = end\n",
    "        self.closed = True  # by default, the interval is closed\n",
    "    # set the flag for closed/open\n",
    "\n",
    "    def set_closed(self, closed):\n",
    "        self.closed = closed\n",
    "\n",
    "    def __str__(self):\n",
    "        return \"[\" + str(self.start) + \", \" + str(self.end) + \"]\" \\\n",
    "            if self.closed else \\\n",
    "                \"(\" + str(self.start) + \", \" + str(self.end) + \")\"\n",
    "    \n",
    "def display(vec):\n",
    "    string = \"[\"\n",
    "    if vec:\n",
    "        for i in range(len(vec)):\n",
    "            string += str(vec[i])\n",
    "            if i + 1 < len(vec):\n",
    "                string += \", \"\n",
    "    string += \"]\"\n",
    "    return string\n",
    "\n",
    "# Driver code\n",
    "def main():\n",
    "    inputs = [\n",
    "        [[Interval(1, 2), Interval(5, 6)], [Interval(1, 3)], [Interval(4, 10)]]\n",
    "    ]\n",
    "    i = 1\n",
    "    for schedule in inputs:\n",
    "        print(i, '.\\tEmployee Schedules:', sep=\"\")\n",
    "        for s in schedule:\n",
    "            print(\"\\t\\t\", display(s), sep=\"\")\n",
    "        print(\"\\tEmployees' free time\", display(employee_free_time(schedule)))\n",
    "        print('-'*100)\n",
    "        i += 1\n",
    "\n",
    "\n",
    "if __name__ == \"__main__\":\n",
    "    main()\n"
   ]
  },
  {
   "cell_type": "markdown",
   "id": "8e20d27f",
   "metadata": {},
   "source": [
    "# 5. Meeting rooms I\n",
    "\n",
    "T --> O(nlogn)\n",
    "\n",
    "S --> O(1)"
   ]
  },
  {
   "cell_type": "code",
   "execution_count": 5,
   "id": "b8f9c219",
   "metadata": {},
   "outputs": [],
   "source": [
    "def canAttendMeetings(intervals):\n",
    "    intervals.sort(key=lambda x:x[0])\n",
    "    \n",
    "    for i in range(len(intervals) - 1):\n",
    "        if intervals[i][1] > intervals[i+1][0]:\n",
    "            return False\n",
    "    return True"
   ]
  },
  {
   "cell_type": "code",
   "execution_count": 6,
   "id": "5c3ee2a1",
   "metadata": {},
   "outputs": [
    {
     "data": {
      "text/plain": [
       "False"
      ]
     },
     "execution_count": 6,
     "metadata": {},
     "output_type": "execute_result"
    }
   ],
   "source": [
    "intervals = [[0,30],[5,10],[15,20]]\n",
    "\n",
    "canAttendMeetings(intervals)"
   ]
  },
  {
   "cell_type": "markdown",
   "id": "8c8032fb",
   "metadata": {},
   "source": [
    "# 6. Can attend meetings II\n",
    "\n",
    "T --> O(nlogn)\n",
    "\n",
    "S --> O(n)\n",
    "\n",
    "https://leetcode.com/problems/meeting-rooms-ii/submissions/"
   ]
  },
  {
   "cell_type": "code",
   "execution_count": 8,
   "id": "f7dd8340",
   "metadata": {},
   "outputs": [],
   "source": [
    "import heapq\n",
    "\n",
    "def minMeetingRooms(intervals):\n",
    "    if not intervals:\n",
    "        return 0\n",
    "    \n",
    "    intervals.sort(key=lambda x:x[0])\n",
    "    \n",
    "    free_rooms = []\n",
    "    \n",
    "    heapq.heappush(free_rooms, intervals[0][1])\n",
    "    \n",
    "    for i in intervals[1:]:\n",
    "        if free_rooms[0] <= i[0]:\n",
    "            heapq.heappop(free_rooms)\n",
    "            \n",
    "        heapq.heappush(free_rooms, i[1])\n",
    "    \n",
    "    return len(free_rooms)"
   ]
  },
  {
   "cell_type": "code",
   "execution_count": 9,
   "id": "14a46c73",
   "metadata": {},
   "outputs": [
    {
     "data": {
      "text/plain": [
       "2"
      ]
     },
     "execution_count": 9,
     "metadata": {},
     "output_type": "execute_result"
    }
   ],
   "source": [
    "intervals = [[0,30],[5,10],[15,20]]\n",
    "\n",
    "minMeetingRooms(intervals)"
   ]
  },
  {
   "cell_type": "markdown",
   "id": "fbab8f9e",
   "metadata": {},
   "source": [
    "# E) In place reversal of Linked List\n",
    "\n",
    "# 1. Reverse Linked List\n",
    "\n",
    "T --> O(n)\n",
    "\n",
    "S --> O(1)"
   ]
  },
  {
   "cell_type": "code",
   "execution_count": 11,
   "id": "f3951dc9",
   "metadata": {},
   "outputs": [],
   "source": [
    "def reverse(head):\n",
    "    if head is None:\n",
    "        return None\n",
    "    \n",
    "    prev = None\n",
    "    curr = head\n",
    "    \n",
    "    while curr:\n",
    "        nextTmp = curr.next\n",
    "        curr.next = prev\n",
    "        prev = curr\n",
    "        curr = nextTmp\n",
    "    return prev"
   ]
  },
  {
   "cell_type": "markdown",
   "id": "2399445b",
   "metadata": {},
   "source": [
    "# 2. Reverse nodes in k groups\n",
    "\n",
    "### HARD\n",
    "\n",
    "T --> O(n)\n",
    "\n",
    "S --> O(1)"
   ]
  },
  {
   "cell_type": "code",
   "execution_count": 1,
   "id": "539bdc02",
   "metadata": {},
   "outputs": [],
   "source": [
    "def reverseKGroup(head, k):\n",
    "    \n",
    "    def reverseLinkedList(head, k):\n",
    "        curr = head\n",
    "        prev = None\n",
    "        \n",
    "        while k:\n",
    "            nextTmp = curr.next\n",
    "            curr.next = prev\n",
    "            prev = curr\n",
    "            curr = nextTmp\n",
    "            k -= 1\n",
    "        return prev\n",
    "    \n",
    "    ptr = head\n",
    "    ktail = None\n",
    "    new_head = None\n",
    "    \n",
    "    while ptr:\n",
    "        count = 0\n",
    "        ptr = head\n",
    "        \n",
    "        while count < k and ptr:\n",
    "            ptr = ptr.next\n",
    "            count += 1\n",
    "        \n",
    "        if count == k:\n",
    "            revHead = reverseLinkedList(head, k)\n",
    "            \n",
    "            if not new_head:\n",
    "                new_head = revHead\n",
    "            \n",
    "            if ktail:\n",
    "                ktail.next = revHead\n",
    "            \n",
    "            ktail = head\n",
    "            head = ptr\n",
    "    \n",
    "    if ktail:\n",
    "        ktail.next = head\n",
    "        \n",
    "    return new_head if new_head is not None else head"
   ]
  },
  {
   "cell_type": "markdown",
   "id": "c1b7d751",
   "metadata": {},
   "source": [
    "# 3. Reverse Linked List II\n",
    "\n",
    "T --> O(n)\n",
    "\n",
    "S --> O(1)"
   ]
  },
  {
   "cell_type": "code",
   "execution_count": 2,
   "id": "c84afdbd",
   "metadata": {},
   "outputs": [],
   "source": [
    "def reverseBetween(head, left, right):\n",
    "    currentPos = 1\n",
    "    currentNode = head\n",
    "    start = head\n",
    "    \n",
    "    while currentPos < left:\n",
    "        start = currentNode\n",
    "        currentNode = currentNode.next\n",
    "        currentPos += 1\n",
    "    \n",
    "    prev = None\n",
    "    tail = currentNode\n",
    "    \n",
    "    while currentPos >= left and currentPos <= right:\n",
    "        nextTmp = currentNode.next\n",
    "        currentNode.next = prev\n",
    "        prev = currentNode\n",
    "        currentNode = nextTmp\n",
    "        currentPos += 1\n",
    "    \n",
    "    start.next = prev\n",
    "    tail.next = currentNode\n",
    "    \n",
    "    if left > 1:\n",
    "        return head\n",
    "    else:\n",
    "        return prev\n",
    "    "
   ]
  },
  {
   "cell_type": "markdown",
   "id": "d4d2389c",
   "metadata": {},
   "source": [
    "# 4. Reorder list\n",
    "\n",
    "T --> O(n)\n",
    "\n",
    "S --> O(1)"
   ]
  },
  {
   "cell_type": "code",
   "execution_count": 4,
   "id": "ca9deb97",
   "metadata": {},
   "outputs": [],
   "source": [
    "def reorderList(head):\n",
    "    # Find middle\n",
    "    fast = head\n",
    "    slow = head\n",
    "    \n",
    "    while fast and fast.next:\n",
    "        slow = slow.next\n",
    "        fast = fast.next.next\n",
    "    \n",
    "    # Reverse second part\n",
    "    prev = None\n",
    "    curr = slow\n",
    "    \n",
    "    while curr:\n",
    "        nextTmp = curr.next\n",
    "        curr.next = prev\n",
    "        prev = curr\n",
    "        curr = nextTmp\n",
    "    \n",
    "    # Merge sorted lists\n",
    "    first = head\n",
    "    second = prev\n",
    "    \n",
    "    while second.next:\n",
    "        nextTmp = first.next\n",
    "        first.next = second\n",
    "        first = nextTmp\n",
    "        \n",
    "        nextTmp = second.next\n",
    "        second.next = first\n",
    "        second = nextTmp\n",
    "    return head"
   ]
  },
  {
   "cell_type": "markdown",
   "id": "12e8c984",
   "metadata": {},
   "source": [
    "# 5. Swap nodes\n",
    "\n",
    "## a) Two Pass \n",
    "\n",
    "T --> O(n)\n",
    "\n",
    "S --> O(1)"
   ]
  },
  {
   "cell_type": "code",
   "execution_count": 5,
   "id": "18266ae7",
   "metadata": {},
   "outputs": [],
   "source": [
    "def swapNodes(head, k):\n",
    "    length = 1\n",
    "    front = 0\n",
    "    curr = head\n",
    "    \n",
    "    while curr:\n",
    "        if length == k:\n",
    "            front = curr\n",
    "        curr = curr.next\n",
    "        length += 1\n",
    "    \n",
    "    nodeToFind = length - k\n",
    "    curr = head\n",
    "    length = 1\n",
    "    end = 0\n",
    "    \n",
    "    while length <= nodeToFind and curr:\n",
    "        if length == nodeToFind:\n",
    "            end = curr\n",
    "        curr = curr.next\n",
    "        length += 1\n",
    "    \n",
    "    tmp = front.data\n",
    "    front.data = end.data\n",
    "    end.data = tmp\n",
    "    \n",
    "    return head"
   ]
  },
  {
   "cell_type": "markdown",
   "id": "26274460",
   "metadata": {},
   "source": [
    "## b) One Pass\n",
    "\n",
    "T --> O(n)\n",
    "\n",
    "S --> O(1)"
   ]
  },
  {
   "cell_type": "code",
   "execution_count": 7,
   "id": "77b826a1",
   "metadata": {},
   "outputs": [],
   "source": [
    "def swapNodes(head, k):\n",
    "    curr = head\n",
    "    front = None\n",
    "    end = None\n",
    "    length = 1\n",
    "    \n",
    "    while curr:\n",
    "        \n",
    "        if end is not None:\n",
    "            end = end.next\n",
    "            \n",
    "        if length == k:\n",
    "            front = curr\n",
    "            end = head\n",
    "        \n",
    "\n",
    "        curr = curr.next\n",
    "        length += 1\n",
    "    \n",
    "    tmp = front.data\n",
    "    front.data = end.data\n",
    "    end.data = tmp\n",
    "    return head"
   ]
  },
  {
   "cell_type": "markdown",
   "id": "c5c7f215",
   "metadata": {},
   "source": [
    "# 6. Swap nodes in pairs\n",
    "\n",
    "T --> O(n)\n",
    "\n",
    "S --> O(1)"
   ]
  },
  {
   "cell_type": "code",
   "execution_count": 8,
   "id": "7d08e606",
   "metadata": {},
   "outputs": [],
   "source": [
    "def swapPairs(head):\n",
    "    dummy = ListNode(-1)\n",
    "    dummy.next = head\n",
    "    \n",
    "    prev_node = dummy\n",
    "    \n",
    "    while head and head.next:\n",
    "        first_node = head\n",
    "        second_node = head.next\n",
    "        \n",
    "        prev_node.next = second_node\n",
    "        first_node.next = second_node.next\n",
    "        second_node.next = first_node\n",
    "        \n",
    "        prev_node = first_node\n",
    "        head = first_node.next\n",
    "    return dummy.next"
   ]
  },
  {
   "cell_type": "markdown",
   "id": "58093ab1",
   "metadata": {},
   "source": [
    "# F) Two Heaps\n",
    "\n",
    "# 1. Maximize Capital\n",
    "\n",
    "T --> O(nlogn + klogn)\n",
    "\n",
    "S --> O(n)"
   ]
  },
  {
   "cell_type": "code",
   "execution_count": 12,
   "id": "6918004b",
   "metadata": {},
   "outputs": [],
   "source": [
    "import heapq\n",
    "\n",
    "def findMaximizedCapital(c, k, profits, capitals):\n",
    "    current_capital = c\n",
    "    capitals_min_heap = []\n",
    "    profits_max_heap = []\n",
    "    \n",
    "    for i in range(len(capitals)):\n",
    "        heapq.heappush(capitals_min_heap, (capitals[i], i))\n",
    "    \n",
    "    for _ in range(k):\n",
    "        while capitals_min_heap and current_capital >= capitals_min_heap[0][0]:\n",
    "            c, i = heapq.heappop(capitals_min_heap)\n",
    "            heapq.heappush(profits_max_heap, (-profits[i], i))\n",
    "    \n",
    "        j = -heapq.heappop(profits_max_heap)[0]\n",
    "        current_capital += j\n",
    "    return current_capital"
   ]
  },
  {
   "cell_type": "code",
   "execution_count": 13,
   "id": "86ed6607",
   "metadata": {},
   "outputs": [
    {
     "data": {
      "text/plain": [
       "4"
      ]
     },
     "execution_count": 13,
     "metadata": {},
     "output_type": "execute_result"
    }
   ],
   "source": [
    "k = 2\n",
    "c = 0\n",
    "profits = [1,2,3]\n",
    "capitals = [0,1,1]\n",
    "\n",
    "findMaximizedCapital(c, k, profits, capitals)"
   ]
  },
  {
   "cell_type": "markdown",
   "id": "bdb3c440",
   "metadata": {},
   "source": [
    "# 2. Median of a data stream\n",
    "\n",
    "T --> O(logn)\n",
    "\n",
    "S --> O(n)"
   ]
  },
  {
   "cell_type": "code",
   "execution_count": 10,
   "id": "296ccf60",
   "metadata": {},
   "outputs": [],
   "source": [
    "import heapq\n",
    "\n",
    "class MedianFinder:\n",
    "    \n",
    "    def __init__(self):\n",
    "        self.min_heap_for_large_num = []\n",
    "        self.max_heap_for_small_num = []\n",
    "        \n",
    "    def insert_num(self, num):\n",
    "        if not self.max_heap_for_small_num or num <= -self.max_heap_for_small_num[0]:\n",
    "            heapq.heappush(self.max_heap_for_small_num, -num)\n",
    "        else:\n",
    "            heapq.heappush(self.min_heap_for_large_num, num)\n",
    "        \n",
    "        if len(self.max_heap_for_small_num) > len(self.min_heap_for_large_num) + 1:\n",
    "            heapq.heappush(self.min_heap_for_large_num, -heapq.heappop(self.max_heap_for_small_num))\n",
    "        elif len(self.max_heap_for_small_num) < len(self.min_heap_for_large_num):\n",
    "            heapq.heappush(self.max_heap_for_small_num, -heapq.heappop(self.min_heap_for_large_num))\n",
    "    \n",
    "    def find_median(self):\n",
    "        if len(self.max_heap_for_small_num) == len(self.min_heap_for_large_num):\n",
    "            return -self.max_heap_for_small_num[0]/2.0 + self.min_heap_for_large_num[0]/2.0\n",
    "        return -self.max_heap_for_small_num[0]/1.0\n",
    "            "
   ]
  },
  {
   "cell_type": "code",
   "execution_count": 11,
   "id": "dd9a4698",
   "metadata": {},
   "outputs": [
    {
     "name": "stdout",
     "output_type": "stream",
     "text": [
      "1.\tData stream: [35]\n",
      "\tThe median for the given numbers is: 35.0\n",
      "----------------------------------------------------------------------------------------------------\n",
      "\n",
      "2.\tData stream: [35, 22]\n",
      "\tThe median for the given numbers is: 28.5\n",
      "----------------------------------------------------------------------------------------------------\n",
      "\n",
      "3.\tData stream: [35, 22, 30]\n",
      "\tThe median for the given numbers is: 30.0\n",
      "----------------------------------------------------------------------------------------------------\n",
      "\n",
      "4.\tData stream: [35, 22, 30, 25]\n",
      "\tThe median for the given numbers is: 27.5\n",
      "----------------------------------------------------------------------------------------------------\n",
      "\n",
      "5.\tData stream: [35, 22, 30, 25, 1]\n",
      "\tThe median for the given numbers is: 25.0\n",
      "----------------------------------------------------------------------------------------------------\n",
      "\n"
     ]
    }
   ],
   "source": [
    "median_num = MedianFinder()\n",
    "nums = [35, 22, 30, 25, 1]\n",
    "numlist = []\n",
    "x = 1\n",
    "for i in nums:\n",
    "    numlist.append(i)\n",
    "    print(x, \".\\tData stream: \", numlist, sep=\"\")\n",
    "    median_num.insert_num(i)\n",
    "    print(\"\\tThe median for the given numbers is: \" +\n",
    "          str(median_num.find_median()), sep=\"\")\n",
    "    print(100*\"-\"+\"\\n\")\n",
    "    x += 1"
   ]
  },
  {
   "cell_type": "markdown",
   "id": "77fa61f7",
   "metadata": {},
   "source": [
    "# 3. Schedule tasks on minimum machines\n",
    "\n",
    "T --> O(nlogn)\n",
    "\n",
    "S --> O(n)"
   ]
  },
  {
   "cell_type": "code",
   "execution_count": 16,
   "id": "c760d5a9",
   "metadata": {},
   "outputs": [],
   "source": [
    "def tasks(tasks_list):\n",
    "    optimal_machines = 0\n",
    "    machines_available = []\n",
    "    heapq.heapify(tasks_list)\n",
    "    \n",
    "    while tasks_list:\n",
    "        task = heapq.heappop(tasks_list)\n",
    "        \n",
    "        if machines_available and task[0] >= machines_available[0][0]:\n",
    "            machine_in_use = heapq.heappop(machines_available)\n",
    "            machine_in_use = (task[1], machine_in_use[1])\n",
    "        else:\n",
    "            optimal_machines += 1\n",
    "            machine_in_use = (task[1], optimal_machines)\n",
    "        \n",
    "        heapq.heappush(machines_available, machine_in_use)\n",
    "    return optimal_machines"
   ]
  },
  {
   "cell_type": "code",
   "execution_count": 17,
   "id": "81e87aa7",
   "metadata": {},
   "outputs": [
    {
     "data": {
      "text/plain": [
       "1"
      ]
     },
     "execution_count": 17,
     "metadata": {},
     "output_type": "execute_result"
    }
   ],
   "source": [
    "tasks_list = [(1, 3), (3, 5), (5, 9), (9, 12), (12, 13), (13, 16), (16, 17)]\n",
    "\n",
    "tasks(tasks_list)"
   ]
  },
  {
   "cell_type": "markdown",
   "id": "43bb8a3b",
   "metadata": {},
   "source": [
    "# G) K way merge\n",
    "\n",
    "# 1. Merge sorted array\n",
    "\n",
    "T --> O(n+m)\n",
    "\n",
    "S --> O(m)"
   ]
  },
  {
   "cell_type": "code",
   "execution_count": 1,
   "id": "67bbc7ce",
   "metadata": {},
   "outputs": [],
   "source": [
    "def merge_sorted(nums1, m, nums2, n):\n",
    "    nums1_copy = nums1[:m]\n",
    "    \n",
    "    p1 = 0\n",
    "    p2 = 0\n",
    "    \n",
    "    for i in range(m+n):\n",
    "        if p2 >= n or (p1 < m and nums1_copy[p1] <= nums2[p2]):\n",
    "            nums1[i] = nums1_copy[p1]\n",
    "            p1 += 1\n",
    "        else:\n",
    "            nums1[i] = nums2[p2]\n",
    "            p2 += 1\n",
    "    return nums1"
   ]
  },
  {
   "cell_type": "code",
   "execution_count": 2,
   "id": "6156a55d",
   "metadata": {},
   "outputs": [
    {
     "data": {
      "text/plain": [
       "[1, 2, 2, 3, 5, 6]"
      ]
     },
     "execution_count": 2,
     "metadata": {},
     "output_type": "execute_result"
    }
   ],
   "source": [
    "nums1 = [1,2,3,0,0,0]\n",
    "m = 3\n",
    "nums2 = [2,5,6]\n",
    "n = 3\n",
    "\n",
    "merge_sorted(nums1, m, nums2, n)"
   ]
  },
  {
   "cell_type": "markdown",
   "id": "7d916c51",
   "metadata": {},
   "source": [
    "# 2. Kth smallest number in m sorted lists\n",
    "\n",
    "T --> O(klogm)\n",
    "\n",
    "S --> O(n)"
   ]
  },
  {
   "cell_type": "code",
   "execution_count": 1,
   "id": "99afed92",
   "metadata": {},
   "outputs": [],
   "source": [
    "import heapq\n",
    "\n",
    "def k_smallest_number(lists, k):\n",
    "    list_length = len(lists)\n",
    "    kth_smallest = []\n",
    "    \n",
    "    for i in range(list_length):\n",
    "        if not lists[i]:\n",
    "            return []\n",
    "        else:\n",
    "            heapq.heappush(kth_smallest, (lists[i][0], 0, lists[i]))\n",
    "            \n",
    "    numbers_checked = 0\n",
    "    \n",
    "    while kth_smallest:\n",
    "        smallest_number, index, top_num_list = heapq.heappop(kth_smallest)\n",
    "        numbers_checked += 1\n",
    "        \n",
    "        if numbers_checked == k:\n",
    "            break\n",
    "        \n",
    "        if index + 1 < len(top_num_list):\n",
    "            heapq.heappush(kth_smallest, (top_num_list[index + 1], index + 1, top_num_list))\n",
    "    return smallest_number"
   ]
  },
  {
   "cell_type": "code",
   "execution_count": 9,
   "id": "751a82bd",
   "metadata": {},
   "outputs": [
    {
     "data": {
      "text/plain": [
       "7"
      ]
     },
     "execution_count": 9,
     "metadata": {},
     "output_type": "execute_result"
    }
   ],
   "source": [
    "lists = [[2, 6, 8], [3, 7, 10], [5, 8, 11]]\n",
    "k = 5\n",
    "\n",
    "k_smallest_number(lists, k)"
   ]
  },
  {
   "cell_type": "markdown",
   "id": "64e56c38",
   "metadata": {},
   "source": [
    "# 3. Kth smallest number in sorted matrix\n",
    "\n",
    "T --> O(nlogn + klogn)\n",
    "\n",
    "S --> O(n x n)"
   ]
  },
  {
   "cell_type": "code",
   "execution_count": 4,
   "id": "57dd8d47",
   "metadata": {},
   "outputs": [],
   "source": [
    "def kth_smallest_element(matrix, k):\n",
    "    row_count = len(matrix)\n",
    "    min_numbers = []\n",
    "    \n",
    "    for i in range(row_count):\n",
    "        if not matrix[i]:\n",
    "            return []\n",
    "        else:\n",
    "            heapq.heappush(min_numbers, (matrix[i][0], 0, matrix[i]))\n",
    "    \n",
    "    numbers_checked = 0\n",
    "    \n",
    "    while min_numbers:\n",
    "        smallest_number, index, row = heapq.heappop(min_numbers)\n",
    "        numbers_checked += 1\n",
    "        \n",
    "        if numbers_checked == k:\n",
    "            break\n",
    "        \n",
    "        if index + 1 < len(row):\n",
    "            heapq.heappush(min_numbers, (row[index + 1], index + 1, row))\n",
    "    return smallest_number"
   ]
  },
  {
   "cell_type": "code",
   "execution_count": 6,
   "id": "c6741549",
   "metadata": {},
   "outputs": [
    {
     "data": {
      "text/plain": [
       "5"
      ]
     },
     "execution_count": 6,
     "metadata": {},
     "output_type": "execute_result"
    }
   ],
   "source": [
    "matrix = [[2, 6, 8],\n",
    "          [3, 7, 10],\n",
    "          [5, 8, 11]]\n",
    "\n",
    "k = 3\n",
    "\n",
    "kth_smallest_element(matrix, k)"
   ]
  },
  {
   "cell_type": "markdown",
   "id": "fb111ece",
   "metadata": {},
   "source": [
    "# 4. K pairs with smallest sums\n",
    "\n",
    "If m = min(k, len(list1))\n",
    "\n",
    "T --> O(mlogm + klogm)\n",
    "\n",
    "S --> O(k)"
   ]
  },
  {
   "cell_type": "code",
   "execution_count": 14,
   "id": "36e8de2e",
   "metadata": {},
   "outputs": [],
   "source": [
    "def k_smallest_pairs(list1, list2, k):\n",
    "    pairs = []\n",
    "    min_heap = []\n",
    "    \n",
    "    for i in range(min(k, len(list1))):\n",
    "        heapq.heappush(min_heap, (list1[i] + list2[0], i, 0))\n",
    "    \n",
    "    counter = 1\n",
    "    \n",
    "    while min_heap and counter <= k:\n",
    "        sum_of_pairs, i, j = heapq.heappop(min_heap)\n",
    "        \n",
    "        pairs.append([list1[i], list2[j]])\n",
    "        \n",
    "        next_element = j + 1\n",
    "        \n",
    "        if len(list2) > next_element:\n",
    "            heapq.heappush(min_heap, (list1[i] + list2[next_element], i, next_element))\n",
    "        \n",
    "        counter += 1\n",
    "    \n",
    "    return pairs"
   ]
  },
  {
   "cell_type": "code",
   "execution_count": 15,
   "id": "9dc2cce8",
   "metadata": {},
   "outputs": [
    {
     "data": {
      "text/plain": [
       "[[1, 2], [1, 4], [1, 6]]"
      ]
     },
     "execution_count": 15,
     "metadata": {},
     "output_type": "execute_result"
    }
   ],
   "source": [
    "nums1 = [1,7,11]\n",
    "nums2 = [2,4,6]\n",
    "k = 3\n",
    "\n",
    "k_smallest_pairs(nums1, nums2, k)"
   ]
  },
  {
   "cell_type": "markdown",
   "id": "9e8a6bc1",
   "metadata": {},
   "source": [
    "# 5. Merge K sorted lists\n",
    "\n",
    "T --> O(Nlogk) (k is the number of lists and n is the len of longest lists)\n",
    "\n",
    "S --> O(1)"
   ]
  },
  {
   "cell_type": "code",
   "execution_count": 18,
   "id": "29f121ab",
   "metadata": {},
   "outputs": [],
   "source": [
    "def merge_2_lists(head1, head2):\n",
    "    dummy = ListNode(-1)\n",
    "    prev = dummy\n",
    "    \n",
    "    while head1 and head2:\n",
    "        if head1.data <= head2.data:\n",
    "            prev.next = head1\n",
    "            head1 = head1.next\n",
    "        else:\n",
    "            prev.next = head2\n",
    "            head2 = head2.next\n",
    "        prev = prev.next\n",
    "        \n",
    "    if head1 is not None:\n",
    "        prev.next = head1\n",
    "    else:\n",
    "        prev.next = head2\n",
    "\n",
    "    \n",
    "    return dummy.next\n",
    "\n",
    "def merge_k_lists(lists):\n",
    "    if len(lists) > 0:\n",
    "        step = 1\n",
    "        \n",
    "        while step < len(lists):\n",
    "            for i in range(0, len(lists) - step, step * 2):\n",
    "                lists[i].head = merge_2_lists(lists[i].head, lists[i + step].head)\n",
    "            step *= 2\n",
    "        return lists[0].head\n",
    "    return"
   ]
  },
  {
   "cell_type": "markdown",
   "id": "0999ab88",
   "metadata": {},
   "source": [
    "# H) Top K elements\n",
    "\n",
    "# 1. Kth largest element in a stream\n",
    "\n",
    "T --> O(nlogn + mlogk) (k is the size of heap, n is the length of input stream and m is the number of functions call to add)\n",
    "\n",
    "S --> O(k)"
   ]
  },
  {
   "cell_type": "code",
   "execution_count": 1,
   "id": "9f1b7682",
   "metadata": {},
   "outputs": [],
   "source": [
    "import heapq\n",
    "\n",
    "class KthLargest:\n",
    "    \n",
    "    def __init__(self, k, nums):\n",
    "        self.k = k\n",
    "        self.heap = nums\n",
    "        heapq.heapify(self.heap)\n",
    "        \n",
    "        while len(self.heap) > k:\n",
    "            heapq.heappop(self.heap)\n",
    "    \n",
    "    # adds element in the heap\n",
    "    def add(self, val):\n",
    "        heapq.heappush(self.heap, val)\n",
    "\n",
    "        if len(self.heap) > self.k:\n",
    "            heapq.heappop(self.heap)\n",
    "        return self.return_Kth_largest()\n",
    "        \n",
    "    # returns kth largest element from heap\n",
    "    def return_Kth_largest(self):\n",
    "        return self.heap[0]"
   ]
  },
  {
   "cell_type": "markdown",
   "id": "5126082b",
   "metadata": {},
   "source": [
    "# 2. Reorganize String\n",
    "\n",
    "T --> O(nlogc) where c is no of distinct chars in the string\n",
    "\n",
    "S --> O(c)\n",
    "\n"
   ]
  },
  {
   "cell_type": "code",
   "execution_count": 8,
   "id": "33f10255",
   "metadata": {},
   "outputs": [],
   "source": [
    "from collections import Counter\n",
    "\n",
    "def reorganize_string(input_string):\n",
    "    \n",
    "    char_count = Counter(input_string)\n",
    "    max_heap = []\n",
    "    \n",
    "    for char in char_count:\n",
    "        heapq.heappush(max_heap, [-char_count[char], char])\n",
    "    \n",
    "    result = \"\"\n",
    "    previous = None\n",
    "    \n",
    "    while max_heap or previous:\n",
    "        \n",
    "        if previous and len(max_heap) == 0:\n",
    "            return \"\"\n",
    "        \n",
    "        count, char = heapq.heappop(max_heap)\n",
    "        \n",
    "        result = result + char\n",
    "        count += 1\n",
    "        \n",
    "        if previous:\n",
    "            heapq.heappush(max_heap, previous)\n",
    "            previous = None\n",
    "            \n",
    "        if count != 0:\n",
    "            previous = [count, char]\n",
    "    return result + \"\""
   ]
  },
  {
   "cell_type": "code",
   "execution_count": 11,
   "id": "8af14e9b",
   "metadata": {},
   "outputs": [
    {
     "data": {
      "text/plain": [
       "'abdabcde'"
      ]
     },
     "execution_count": 11,
     "metadata": {},
     "output_type": "execute_result"
    }
   ],
   "source": [
    "reorganize_string('abbacdde')"
   ]
  },
  {
   "cell_type": "code",
   "execution_count": 12,
   "id": "21252282",
   "metadata": {},
   "outputs": [
    {
     "data": {
      "text/plain": [
       "''"
      ]
     },
     "execution_count": 12,
     "metadata": {},
     "output_type": "execute_result"
    }
   ],
   "source": [
    "reorganize_string('aaab')"
   ]
  },
  {
   "cell_type": "markdown",
   "id": "9e7308d4",
   "metadata": {},
   "source": [
    "# 3. K closest point from the origin\n",
    "\n",
    "T --> O(nlogk)\n",
    "\n",
    "S --> O(k)"
   ]
  },
  {
   "cell_type": "code",
   "execution_count": 22,
   "id": "9b39b459",
   "metadata": {},
   "outputs": [],
   "source": [
    "def k_closest(points, k):\n",
    "    points_max_heap = []\n",
    "    \n",
    "    for i in range(k):\n",
    "        heapq.heappush(points_max_heap, points[i])\n",
    "    \n",
    "    def distance_from_origin(x, y):\n",
    "        return -(x*x + y*y)\n",
    "    \n",
    "    for i in range(k, len(points)):\n",
    "        if distance_from_origin(points[i][0], points[i][1]) \\\n",
    "        < distance_from_origin(points_max_heap[0][0], points_max_heap[0][1]):\n",
    "            heapq.heappop(points_max_heap)\n",
    "            heapq.heappush(points_max_heap, points[i])\n",
    "    \n",
    "    return list(points_max_heap)"
   ]
  },
  {
   "cell_type": "code",
   "execution_count": 24,
   "id": "7cb7110e",
   "metadata": {},
   "outputs": [
    {
     "data": {
      "text/plain": [
       "[(1, 3), (3, 4)]"
      ]
     },
     "execution_count": 24,
     "metadata": {},
     "output_type": "execute_result"
    }
   ],
   "source": [
    "points = [(3,4), (2,-1), (1,3)]\n",
    "\n",
    "k_closest(points, 2)"
   ]
  },
  {
   "cell_type": "markdown",
   "id": "06fa3127",
   "metadata": {},
   "source": [
    "# 4. Top k frequent elements\n",
    "\n",
    "T --> O(nlogk)\n",
    "\n",
    "S --> O(n + k)"
   ]
  },
  {
   "cell_type": "code",
   "execution_count": 25,
   "id": "24dddcad",
   "metadata": {},
   "outputs": [],
   "source": [
    "def top_k_frequent(arr, k):\n",
    "    \n",
    "    num_counter = Counter(arr)\n",
    "    \n",
    "    top_k_elements = []\n",
    "    \n",
    "    for num in num_counter:\n",
    "        heapq.heappush(top_k_elements, (num_counter[num], num))\n",
    "        \n",
    "        if len(top_k_elements) > k:\n",
    "            heapq.heappop(top_k_elements)\n",
    "    \n",
    "    top_numbers = []\n",
    "    \n",
    "    while top_k_elements:\n",
    "        top_numbers.append(heapq.heappop(top_k_elements)[1])\n",
    "    return top_numbers"
   ]
  },
  {
   "cell_type": "code",
   "execution_count": 26,
   "id": "345e2123",
   "metadata": {},
   "outputs": [
    {
     "data": {
      "text/plain": [
       "[2, 1]"
      ]
     },
     "execution_count": 26,
     "metadata": {},
     "output_type": "execute_result"
    }
   ],
   "source": [
    "nums = [1,1,1,2,2,3]\n",
    "k = 2\n",
    "\n",
    "top_k_frequent(nums, k)"
   ]
  },
  {
   "cell_type": "markdown",
   "id": "d518a3bb",
   "metadata": {},
   "source": [
    "# 5. Kth largest element \n",
    "\n",
    "T --> O((n-k)logk)\n",
    "\n",
    "S --> O(k)"
   ]
  },
  {
   "cell_type": "code",
   "execution_count": 27,
   "id": "f193cba8",
   "metadata": {},
   "outputs": [],
   "source": [
    "def find_kth_largest(arr, k):\n",
    "    min_heap = []\n",
    "    \n",
    "    for i in range(k):\n",
    "        heapq.heappush(min_heap, arr[i])\n",
    "    \n",
    "    \n",
    "    for i in range(k, len(arr)):\n",
    "        if arr[i] > min_heap[0]:\n",
    "            heapq.heappop(min_heap)\n",
    "            heapq.heappush(min_heap, arr[i])\n",
    "    return min_heap[0]"
   ]
  },
  {
   "cell_type": "code",
   "execution_count": 29,
   "id": "b441eb9e",
   "metadata": {},
   "outputs": [
    {
     "data": {
      "text/plain": [
       "20"
      ]
     },
     "execution_count": 29,
     "metadata": {},
     "output_type": "execute_result"
    }
   ],
   "source": [
    "nums = [1, 5, 12, 2, 11, 9, 7, 30, 20]\n",
    "k = 2\n",
    "\n",
    "find_kth_largest(nums, k)"
   ]
  },
  {
   "cell_type": "markdown",
   "id": "4cdfe23b",
   "metadata": {},
   "source": [
    "# 6. Kth smallest element in a binary tree"
   ]
  },
  {
   "cell_type": "code",
   "execution_count": 30,
   "id": "9f8ddc52",
   "metadata": {},
   "outputs": [],
   "source": [
    "def kth_smallest_element(root, k):\n",
    "    # Write your code here\n",
    "\n",
    "    result = []\n",
    "\n",
    "    def inOrder(node, result):\n",
    "        if node.left is not None:\n",
    "            inOrder(node.left, result)\n",
    "        \n",
    "        result.append(node.data)\n",
    "\n",
    "        if node.right is not None:\n",
    "            inOrder(node.right, result)\n",
    "    \n",
    "    inOrder(root, result)\n",
    "\n",
    "    return result[k - 1]"
   ]
  },
  {
   "cell_type": "markdown",
   "id": "480cc150",
   "metadata": {},
   "source": [
    "# I) Modified Binary search\n",
    "\n",
    "# 1. Search in rotated sorted array\n",
    "\n",
    "T --> O(logn)\n",
    "\n",
    "S --> O(1)"
   ]
  },
  {
   "cell_type": "code",
   "execution_count": 3,
   "id": "cb518469",
   "metadata": {},
   "outputs": [],
   "source": [
    "import math\n",
    "\n",
    "def binary_search_rotated(nums, target):\n",
    "    low = 0\n",
    "    high = len(nums) - 1\n",
    "    \n",
    "    if low > high:\n",
    "        return -1\n",
    "    \n",
    "    while low <= high:\n",
    "        mid = math.floor((low + high)/2)\n",
    "        \n",
    "        if nums[mid] == target:\n",
    "            return mid\n",
    "        \n",
    "        if nums[low] <= nums[mid]:\n",
    "            if nums[low] <= target and target < nums[mid]:\n",
    "                high = mid - 1\n",
    "            else:\n",
    "                low = mid + 1\n",
    "        else:\n",
    "            if nums[mid] < target and target <= nums[high]:\n",
    "                low = mid + 1\n",
    "            else:\n",
    "                high = mid - 1\n",
    "    return -1"
   ]
  },
  {
   "cell_type": "code",
   "execution_count": 4,
   "id": "4d1a6aa4",
   "metadata": {},
   "outputs": [
    {
     "data": {
      "text/plain": [
       "4"
      ]
     },
     "execution_count": 4,
     "metadata": {},
     "output_type": "execute_result"
    }
   ],
   "source": [
    "nums = [4,5,6,7,0,1,2]\n",
    "target = 0\n",
    "\n",
    "binary_search_rotated(nums, target)"
   ]
  },
  {
   "cell_type": "markdown",
   "id": "6e00eecd",
   "metadata": {},
   "source": [
    "# 2. First Bad version\n",
    "\n",
    "T --> O(logn)\n",
    "\n",
    "S --> O(1)"
   ]
  },
  {
   "cell_type": "code",
   "execution_count": 5,
   "id": "f863115d",
   "metadata": {},
   "outputs": [],
   "source": [
    "def first_bad_version(n):\n",
    "# -- DO NOT CHANGE THIS SECTION\n",
    "    version_api.n = n\n",
    "# -- \n",
    "\n",
    "    left = 1\n",
    "    right = n\n",
    "    counter = 0\n",
    "\n",
    "    while left < right:\n",
    "        mid = math.floor((left + right)/2)\n",
    "\n",
    "        if is_bad_version(mid) == False:\n",
    "            left = mid + 1\n",
    "        else:\n",
    "            right = mid\n",
    "        counter += 1\n",
    "    return (left, counter)\n"
   ]
  },
  {
   "cell_type": "markdown",
   "id": "184ae7c1",
   "metadata": {},
   "source": [
    "# 3. Random pick with weight\n",
    "\n",
    "T --> O(n)\n",
    "\n",
    "S --> O(n)"
   ]
  },
  {
   "cell_type": "code",
   "execution_count": 6,
   "id": "fdf0a9f4",
   "metadata": {},
   "outputs": [],
   "source": [
    "import random\n",
    "import math\n",
    "\n",
    "class RandomPickWithWeight:\n",
    "\n",
    "    def __init__(self, w):\n",
    "        # Write your code here\n",
    "        # The integer's weight array is passed to the constructor\n",
    "        self.prefix_sums = []\n",
    "        prefix_sum = 0\n",
    "\n",
    "        for weight in w:\n",
    "            prefix_sum += weight\n",
    "            self.prefix_sums.append(prefix_sum)\n",
    "\n",
    "        self.total_sum = prefix_sum \n",
    "\n",
    "    def pick_index(self):\n",
    "        # Write your code here\n",
    "        # Currently returning the first index\n",
    "        # Your function should implement the required solution to this problem\n",
    "        target = self.total_sum * random.random()\n",
    "\n",
    "        low = 0\n",
    "        high = len(self.prefix_sums) - 1\n",
    "\n",
    "        while low < high:\n",
    "            mid = math.floor((low + high)/2)\n",
    "            if target > self.prefix_sums[mid]:\n",
    "                low = mid + 1\n",
    "            else:\n",
    "                high = mid\n",
    "        return low\n"
   ]
  },
  {
   "cell_type": "markdown",
   "id": "a728ed59",
   "metadata": {},
   "source": [
    "# 4. Kth closest element\n",
    "\n",
    "T --> O(logn + k)\n",
    "\n",
    "S --> O(1)"
   ]
  },
  {
   "cell_type": "code",
   "execution_count": 3,
   "id": "3114fbaf",
   "metadata": {},
   "outputs": [],
   "source": [
    "import math\n",
    "\n",
    "def find_closest_elements(nums, k, num):\n",
    "    \n",
    "    if len(nums) == k:\n",
    "        return nums\n",
    "    \n",
    "    left = binary_search(nums, num) - 1\n",
    "    right = left + 1\n",
    "    \n",
    "    while right - left - 1 < k:\n",
    "        \n",
    "        if left == -1:\n",
    "            right += 1\n",
    "            continue\n",
    "        \n",
    "        if right == len(nums) or abs(nums[left] - num) <= abs(nums[right] - num):\n",
    "            left -= 1\n",
    "        else:\n",
    "            right += 1\n",
    "    \n",
    "    return nums[left + 1: right]\n",
    "\n",
    "def binary_search(nums, target):\n",
    "    left = 0\n",
    "    right = len(nums) - 1\n",
    "    \n",
    "    while left <= right:\n",
    "        mid = math.floor((left + right)/2)\n",
    "        if nums[mid] == target:\n",
    "            return mid\n",
    "        elif nums[mid] < target:\n",
    "            left = mid + 1\n",
    "        else:\n",
    "            right = mid - 1\n",
    "    return left"
   ]
  },
  {
   "cell_type": "code",
   "execution_count": 4,
   "id": "a82b89fa",
   "metadata": {},
   "outputs": [
    {
     "data": {
      "text/plain": [
       "[2, 3, 4, 5]"
      ]
     },
     "execution_count": 4,
     "metadata": {},
     "output_type": "execute_result"
    }
   ],
   "source": [
    "nums = [1, 2, 3, 4, 5, 6, 7]\n",
    "k = 4\n",
    "num = 4\n",
    "\n",
    "find_closest_elements(nums, k, num)"
   ]
  },
  {
   "cell_type": "markdown",
   "id": "dd2844cd",
   "metadata": {},
   "source": [
    "# 5. Single element in a sorted array\n",
    "\n",
    "T --> O(logn)\n",
    "\n",
    "S --> O(1)"
   ]
  },
  {
   "cell_type": "code",
   "execution_count": 9,
   "id": "93fdc738",
   "metadata": {},
   "outputs": [],
   "source": [
    "def single_non_duplicate(nums):\n",
    "    left = 0\n",
    "    right = len(nums) - 1\n",
    "\n",
    "    while left < right:\n",
    "        mid = math.floor((left + right)/2)\n",
    "        \n",
    "        if mid % 2 != 0:\n",
    "            mid = mid - 1\n",
    "        \n",
    "        if nums[mid] != nums[mid + 1]:\n",
    "            right = mid\n",
    "            continue\n",
    "        else:\n",
    "            left = mid + 2\n",
    "    return nums[left]\n",
    "            "
   ]
  },
  {
   "cell_type": "code",
   "execution_count": 10,
   "id": "ccb233ef",
   "metadata": {},
   "outputs": [
    {
     "data": {
      "text/plain": [
       "5"
      ]
     },
     "execution_count": 10,
     "metadata": {},
     "output_type": "execute_result"
    }
   ],
   "source": [
    "nums = [1,1,2,2,3,3,4,4,5,8,8]\n",
    "\n",
    "single_non_duplicate(nums)"
   ]
  },
  {
   "cell_type": "markdown",
   "id": "82d9708c",
   "metadata": {},
   "source": [
    "# J) Greedy Techniques\n",
    "\n",
    "# 1. Jump Game\n",
    "\n",
    "T --> O(n)\n",
    "\n",
    "S --> O(1)"
   ]
  },
  {
   "cell_type": "code",
   "execution_count": 1,
   "id": "2eaab44c",
   "metadata": {},
   "outputs": [],
   "source": [
    "def jump_game(nums):\n",
    "    target = len(nums) - 1\n",
    "\n",
    "    for i in range(len(nums) - 2, -1, -1):\n",
    "        if nums[i] + i >= target:\n",
    "            target = i\n",
    "    return target == 0\n"
   ]
  },
  {
   "cell_type": "code",
   "execution_count": 2,
   "id": "dd4e8125",
   "metadata": {},
   "outputs": [
    {
     "data": {
      "text/plain": [
       "True"
      ]
     },
     "execution_count": 2,
     "metadata": {},
     "output_type": "execute_result"
    }
   ],
   "source": [
    "nums = [2,3,1,1,4]\n",
    "\n",
    "jump_game(nums)"
   ]
  },
  {
   "cell_type": "markdown",
   "id": "5cb19ec7",
   "metadata": {},
   "source": [
    "# 2. Rescue boats\n",
    "\n",
    "T --> O(nlogn)\n",
    "\n",
    "S --> O(n) (Because in python, sorting takes O(n) additional space)"
   ]
  },
  {
   "cell_type": "code",
   "execution_count": 6,
   "id": "15b1fe24",
   "metadata": {},
   "outputs": [],
   "source": [
    "def rescue_boats(people, limit):\n",
    "    \n",
    "    people.sort()\n",
    "    \n",
    "    left = 0\n",
    "    right = len(people) - 1\n",
    "    total_boats = 0\n",
    "    \n",
    "    while left <= right:\n",
    "        if people[left] + people[right] <= limit:\n",
    "            left += 1\n",
    "            right -= 1\n",
    "            total_boats += 1\n",
    "        else:\n",
    "            right -= 1\n",
    "            total_boats += 1\n",
    "    return total_boats"
   ]
  },
  {
   "cell_type": "code",
   "execution_count": 7,
   "id": "bb9d13e5",
   "metadata": {},
   "outputs": [
    {
     "data": {
      "text/plain": [
       "3"
      ]
     },
     "execution_count": 7,
     "metadata": {},
     "output_type": "execute_result"
    }
   ],
   "source": [
    "people = [3,1,4,2,4] \n",
    "limit = 5\n",
    "\n",
    "rescue_boats(people, limit)"
   ]
  },
  {
   "cell_type": "code",
   "execution_count": null,
   "id": "958b38af",
   "metadata": {},
   "outputs": [],
   "source": []
  }
 ],
 "metadata": {
  "kernelspec": {
   "display_name": "Python 3 (ipykernel)",
   "language": "python",
   "name": "python3"
  },
  "language_info": {
   "codemirror_mode": {
    "name": "ipython",
    "version": 3
   },
   "file_extension": ".py",
   "mimetype": "text/x-python",
   "name": "python",
   "nbconvert_exporter": "python",
   "pygments_lexer": "ipython3",
   "version": "3.8.3"
  }
 },
 "nbformat": 4,
 "nbformat_minor": 5
}
