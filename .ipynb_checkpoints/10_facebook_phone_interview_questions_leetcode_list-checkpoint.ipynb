{
 "cells": [
  {
   "cell_type": "markdown",
   "id": "aea4f38f",
   "metadata": {},
   "source": [
    "# 1. Product of array except self\n",
    "\n",
    "https://leetcode.com/problems/product-of-array-except-self/\n",
    "\n",
    "[1,2,3,4]\n",
    "\n",
    "[1,1,2,6]\n",
    "\n",
    "[24,12,4,1]"
   ]
  },
  {
   "cell_type": "code",
   "execution_count": 16,
   "id": "8662e362",
   "metadata": {},
   "outputs": [],
   "source": [
    "def productExceptSelf(nums):\n",
    "    \n",
    "    n = len(nums)\n",
    "    \n",
    "    L, R, answer = [0]*n, [0]*n, [0]*n\n",
    "    \n",
    "    L[0] = 1\n",
    "    \n",
    "    for i in range(1, n):\n",
    "        L[i] = L[i - 1] * nums[i - 1]\n",
    "    \n",
    "    R[n - 1] = 1\n",
    "    \n",
    "    for i in reversed(range(n-1)):\n",
    "        R[i] = R[i + 1] * nums[i + 1]\n",
    "    \n",
    "    for i in range(n):\n",
    "        answer[i] = L[i] * R[i]\n",
    "    \n",
    "    return answer"
   ]
  },
  {
   "cell_type": "code",
   "execution_count": 12,
   "id": "e941c7ed",
   "metadata": {},
   "outputs": [],
   "source": [
    "def productExceptSelf(nums):\n",
    "    n = len(nums)\n",
    "\n",
    "    L, R, ans = [0]*n, [0]*n, [0]*n\n",
    "\n",
    "    L[0] = 1\n",
    "\n",
    "    for i in range(1, n):\n",
    "        L[i] = L[i - 1] * nums[i - 1]\n",
    "\n",
    "\n",
    "    R[n - 1] = 1\n",
    "\n",
    "    for i in reversed(range(n-1)):\n",
    "        R[i] = R[i + i] * nums[i + 1]\n",
    "\n",
    "    for i in range(n):\n",
    "        ans[i] = L[i] * R[i]\n",
    "\n",
    "    return ans"
   ]
  },
  {
   "cell_type": "code",
   "execution_count": 17,
   "id": "e41aca40",
   "metadata": {},
   "outputs": [
    {
     "data": {
      "text/plain": [
       "[24, 12, 8, 6]"
      ]
     },
     "execution_count": 17,
     "metadata": {},
     "output_type": "execute_result"
    }
   ],
   "source": [
    "nums = [1,2,3,4]\n",
    "productExceptSelf(nums)"
   ]
  },
  {
   "cell_type": "markdown",
   "id": "84ea34bd",
   "metadata": {},
   "source": [
    "# 2.  Leftmost Column with at Least a One\n",
    "\n",
    "https://leetcode.com/problems/leftmost-column-with-at-least-a-one/"
   ]
  },
  {
   "cell_type": "code",
   "execution_count": 5,
   "id": "a251d5d1",
   "metadata": {},
   "outputs": [],
   "source": [
    "def leftMostColumnWithOne(binaryMatrix):\n",
    "    rows, cols = binaryMatrix.dimensions()\n",
    "    smallest_index = cols\n",
    "    \n",
    "    for row in range(rows):\n",
    "        \n",
    "        low = 0\n",
    "        high = cols - 1\n",
    "        \n",
    "        while low < high:\n",
    "            mid = math.floor((low + high)/2)\n",
    "            \n",
    "            if binaryMatrix.get(row, mid) == 0:\n",
    "                low = mid + 1\n",
    "            else:\n",
    "                high = mid\n",
    "                \n",
    "        if binaryMatrix.get(row, low) == 1:\n",
    "            smallest_index = min(smallest_index, low)\n",
    "        \n",
    "        return -1 if smallest_index == cols else smallest_index\n",
    "        "
   ]
  },
  {
   "cell_type": "markdown",
   "id": "64c177e3",
   "metadata": {},
   "source": [
    "# 3. Subarray sum equals k\n",
    "\n",
    "https://leetcode.com/problems/subarray-sum-equals-k/"
   ]
  },
  {
   "cell_type": "code",
   "execution_count": 28,
   "id": "fe09ba5c",
   "metadata": {},
   "outputs": [],
   "source": [
    "from collections import defaultdict\n",
    "\n",
    "def subarraySum(nums, k):\n",
    "    n = len(nums)\n",
    "    \n",
    "    count = 0\n",
    "    dict_cumsum = defaultdict(int)\n",
    "    curr_sum = 0\n",
    "    \n",
    "    for i in range(len(nums)):\n",
    "        curr_sum += nums[i]\n",
    "        \n",
    "        if curr_sum == k:\n",
    "            count += 1\n",
    "        \n",
    "        if curr_sum - k in dict_cumsum.keys():\n",
    "            count += dict_cumsum[curr_sum - k]\n",
    "        \n",
    "        dict_cumsum[curr_sum] += 1\n",
    "    \n",
    "    return count"
   ]
  },
  {
   "cell_type": "code",
   "execution_count": 29,
   "id": "ee5d0199",
   "metadata": {},
   "outputs": [
    {
     "data": {
      "text/plain": [
       "2"
      ]
     },
     "execution_count": 29,
     "metadata": {},
     "output_type": "execute_result"
    }
   ],
   "source": [
    "nums = [1,1,1]\n",
    "k = 2\n",
    "\n",
    "subarraySum(nums, k)"
   ]
  },
  {
   "cell_type": "markdown",
   "id": "01b4f6ef",
   "metadata": {},
   "source": [
    "# 4. Copy List with a random pointer\n",
    "\n",
    "https://leetcode.com/problems/copy-list-with-random-pointer/"
   ]
  },
  {
   "cell_type": "code",
   "execution_count": 30,
   "id": "b15cbeae",
   "metadata": {},
   "outputs": [],
   "source": [
    "class Solution:\n",
    "    def __init__(self):\n",
    "        self.visitedHash = {}\n",
    "    def copyRandomList(self, head: 'Optional[Node]') -> 'Optional[Node]':\n",
    "        \n",
    "        \n",
    "        if head is None:\n",
    "            return None\n",
    "        \n",
    "        if head in self.visitedHash:\n",
    "            return self.visitedHash[head]\n",
    "        \n",
    "        node = Node(head.val, None, None)\n",
    "        \n",
    "        self.visitedHash[head] = node\n",
    "        \n",
    "        node.next = self.copyRandomList(head.next)\n",
    "        node.random = self.copyRandomList(head.random)\n",
    "        \n",
    "        return node"
   ]
  },
  {
   "cell_type": "markdown",
   "id": "688bf76d",
   "metadata": {},
   "source": [
    "# 5. Serialize and Deserialize Binary Tree\n",
    "\n",
    "https://leetcode.com/problems/serialize-and-deserialize-binary-tree/"
   ]
  },
  {
   "cell_type": "code",
   "execution_count": 31,
   "id": "fdab7f59",
   "metadata": {},
   "outputs": [],
   "source": [
    "class Codec:\n",
    "\n",
    "    def serialize(self, root):\n",
    "        \"\"\"Encodes a tree to a single string.\n",
    "        \n",
    "        :type root: TreeNode\n",
    "        :rtype: str\n",
    "        \"\"\"\n",
    "        if not root:\n",
    "            return ''\n",
    "        \n",
    "        queue = [root]\n",
    "        \n",
    "        result = ''\n",
    "        \n",
    "        while len(queue) > 0:\n",
    "            currNode = queue.pop(0)\n",
    "            \n",
    "            if not currNode:\n",
    "                result += 'None,'\n",
    "                continue\n",
    "            \n",
    "            result += str(currNode.val) + ','\n",
    "            queue.append(currNode.left)\n",
    "            queue.append(currNode.right)\n",
    "        \n",
    "        return result\n",
    "\n",
    "    def deserialize(self, data):\n",
    "        \"\"\"Decodes your encoded data to tree.\n",
    "        \n",
    "        :type data: str\n",
    "        :rtype: TreeNode\n",
    "        \"\"\"\n",
    "        if not data:\n",
    "            return None\n",
    "        \n",
    "        list_string = data.split(',')\n",
    "        \n",
    "        root = TreeNode(int(list_string[0]))\n",
    "        \n",
    "        queue = [root]\n",
    "        \n",
    "        counter = 1\n",
    "        while len(queue) > 0 and counter < len(list_string):\n",
    "            currNode = queue.pop(0)\n",
    "            if list_string[counter] != 'None':\n",
    "                left = TreeNode(int(list_string[counter]))\n",
    "                currNode.left = left\n",
    "                queue.append(left)\n",
    "            counter += 1\n",
    "            \n",
    "            if list_string[counter] != 'None':\n",
    "                right = TreeNode(int(list_string[counter]))\n",
    "                currNode.right = right\n",
    "                queue.append(right)\n",
    "            counter += 1\n",
    "        return root\n",
    "            "
   ]
  },
  {
   "cell_type": "code",
   "execution_count": 1,
   "id": "cd8239eb",
   "metadata": {},
   "outputs": [
    {
     "data": {
      "text/plain": [
       "True"
      ]
     },
     "execution_count": 1,
     "metadata": {},
     "output_type": "execute_result"
    }
   ],
   "source": [
    "[2,3] in [[2,3], [3,4]]"
   ]
  },
  {
   "cell_type": "markdown",
   "id": "091ccd61",
   "metadata": {},
   "source": [
    "# 6. Merge Interval\n",
    "\n",
    "https://leetcode.com/problems/merge-intervals/"
   ]
  },
  {
   "cell_type": "code",
   "execution_count": 2,
   "id": "78517106",
   "metadata": {},
   "outputs": [],
   "source": [
    "def merge(intervals):\n",
    "        \n",
    "    intervals.sort(key = lambda x:x[0])\n",
    "\n",
    "    merged = []\n",
    "\n",
    "    for interval in intervals:\n",
    "        if not merged or merged[-1][1] < interval[0]:\n",
    "            merged.append(interval)\n",
    "        else:\n",
    "            merged[-1][1] = max(merged[-1][1], interval[1])\n",
    "\n",
    "    return merged"
   ]
  },
  {
   "cell_type": "code",
   "execution_count": 3,
   "id": "1eddcba9",
   "metadata": {},
   "outputs": [
    {
     "data": {
      "text/plain": [
       "[[1, 6], [8, 10], [15, 18]]"
      ]
     },
     "execution_count": 3,
     "metadata": {},
     "output_type": "execute_result"
    }
   ],
   "source": [
    "intervals = [[1,3],[2,6],[8,10],[15,18]]\n",
    "merge(intervals)"
   ]
  },
  {
   "cell_type": "markdown",
   "id": "f9e5f166",
   "metadata": {},
   "source": [
    "# 7. Best Time to Buy and Sell Stock\n",
    "\n",
    "https://leetcode.com/problems/best-time-to-buy-and-sell-stock/"
   ]
  },
  {
   "cell_type": "code",
   "execution_count": 27,
   "id": "cf4e1784",
   "metadata": {},
   "outputs": [],
   "source": [
    "def maxProfit(prices) -> int:\n",
    "        \n",
    "    min_price = float(\"inf\")\n",
    "    max_profit = 0\n",
    "\n",
    "    for i in range(len(prices)):\n",
    "        if prices[i] < min_price:\n",
    "            min_price = prices[i]\n",
    "        elif prices[i] - min_price > max_profit:\n",
    "            max_profit = prices[i] - min_price\n",
    "\n",
    "    return max_profit\n"
   ]
  },
  {
   "cell_type": "code",
   "execution_count": 28,
   "id": "7b45d629",
   "metadata": {},
   "outputs": [
    {
     "data": {
      "text/plain": [
       "1"
      ]
     },
     "execution_count": 28,
     "metadata": {},
     "output_type": "execute_result"
    }
   ],
   "source": [
    "prices = [1,2]\n",
    "\n",
    "maxProfit(prices)"
   ]
  },
  {
   "cell_type": "code",
   "execution_count": 30,
   "id": "5d75e71f",
   "metadata": {},
   "outputs": [
    {
     "data": {
      "text/plain": [
       "2"
      ]
     },
     "execution_count": 30,
     "metadata": {},
     "output_type": "execute_result"
    }
   ],
   "source": [
    "prices = [2,4,1]\n",
    "\n",
    "maxProfit(prices)"
   ]
  },
  {
   "cell_type": "markdown",
   "id": "bbf02793",
   "metadata": {},
   "source": [
    "# 8. Verifying alien dictionary\n",
    "\n",
    "https://leetcode.com/problems/verifying-an-alien-dictionary/"
   ]
  },
  {
   "cell_type": "code",
   "execution_count": 31,
   "id": "7a672817",
   "metadata": {},
   "outputs": [],
   "source": [
    "def isAlienSorted(words, order):\n",
    "    order_hash = {}\n",
    "\n",
    "    for i, c in enumerate(order):\n",
    "        order_hash[c] = i\n",
    "\n",
    "\n",
    "    for i in range(len(words) - 1):\n",
    "        for j in range(len(words[i])):\n",
    "            if j >= len(words[i + 1]):\n",
    "                return False\n",
    "\n",
    "            if words[i][j] != words[i+1][j]:\n",
    "                if order_hash[words[i][j]] > order_hash[words[i+1][j]]:\n",
    "                    return False\n",
    "                break\n",
    "    return True"
   ]
  },
  {
   "cell_type": "code",
   "execution_count": 32,
   "id": "d40e7eb6",
   "metadata": {},
   "outputs": [
    {
     "data": {
      "text/plain": [
       "True"
      ]
     },
     "execution_count": 32,
     "metadata": {},
     "output_type": "execute_result"
    }
   ],
   "source": [
    "words = [\"hello\",\"leetcode\"]\n",
    "order = \"hlabcdefgijkmnopqrstuvwxyz\"\n",
    "isAlienSorted(words, order)"
   ]
  },
  {
   "cell_type": "markdown",
   "id": "e021ea98",
   "metadata": {},
   "source": [
    "# 9. Right side view of Binary tree\n",
    "\n",
    "https://leetcode.com/problems/binary-tree-right-side-view/"
   ]
  },
  {
   "cell_type": "code",
   "execution_count": 34,
   "id": "259cbf7c",
   "metadata": {},
   "outputs": [],
   "source": [
    "def rightSideView(root):\n",
    "    data = []\n",
    "    level = 0\n",
    "    return self.traversePreOrder(root, level, data)\n",
    "\n",
    "        \n",
    "def traversePreOrder(node, level, data):\n",
    "    if not node:\n",
    "        return \n",
    "\n",
    "    if len(data) <= level:\n",
    "        data.append(node.val)\n",
    "\n",
    "    if node.right is not None:\n",
    "        traversePreOrder(node.right, level+1, data)\n",
    "\n",
    "    if node.left is not None:\n",
    "        traversePreOrder(node.left, level+1, data)\n",
    "\n",
    "    return data"
   ]
  },
  {
   "cell_type": "code",
   "execution_count": 45,
   "id": "6e1431d4",
   "metadata": {},
   "outputs": [
    {
     "name": "stdout",
     "output_type": "stream",
     "text": [
      "-39\n"
     ]
    }
   ],
   "source": [
    "from datetime import date\n",
    "\n",
    "d0 = date(2008, 8, 18)\n",
    "d1 = date(2008, 9, 26)\n",
    "delta = d0 - d1\n",
    "print(delta.days)"
   ]
  },
  {
   "cell_type": "code",
   "execution_count": null,
   "id": "b47c5cba",
   "metadata": {},
   "outputs": [],
   "source": []
  }
 ],
 "metadata": {
  "kernelspec": {
   "display_name": "Python 3 (ipykernel)",
   "language": "python",
   "name": "python3"
  },
  "language_info": {
   "codemirror_mode": {
    "name": "ipython",
    "version": 3
   },
   "file_extension": ".py",
   "mimetype": "text/x-python",
   "name": "python",
   "nbconvert_exporter": "python",
   "pygments_lexer": "ipython3",
   "version": "3.8.3"
  }
 },
 "nbformat": 4,
 "nbformat_minor": 5
}
