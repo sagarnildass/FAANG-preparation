{
 "cells": [
  {
   "cell_type": "markdown",
   "id": "78199c44",
   "metadata": {},
   "source": [
    "https://igotanoffer.com/blogs/tech/facebook-machine-learning-engineer-interview\n",
    "\n",
    "# 1. Two Sum"
   ]
  },
  {
   "cell_type": "code",
   "execution_count": 26,
   "id": "f692b411",
   "metadata": {},
   "outputs": [],
   "source": [
    "import math\n",
    "from collections import Counter, defaultdict"
   ]
  },
  {
   "cell_type": "code",
   "execution_count": 10,
   "id": "ea57a922",
   "metadata": {},
   "outputs": [],
   "source": [
    "def twoSum(nums, target):\n",
    "    if len(nums) <= 1:\n",
    "        return -1\n",
    "    \n",
    "    hash_map = {}\n",
    "    \n",
    "    for i in range(len(nums)):\n",
    "        ntf = target - nums[i]\n",
    "        if nums[i] not in hash_map.keys():\n",
    "            hash_map[ntf] = i\n",
    "            print(hash_map)\n",
    "        else:\n",
    "            print('else')\n",
    "            print(i)\n",
    "            return [hash_map[nums[i]], i]\n",
    "    \n",
    "            "
   ]
  },
  {
   "cell_type": "code",
   "execution_count": 13,
   "id": "5b2a44f7",
   "metadata": {},
   "outputs": [
    {
     "name": "stdout",
     "output_type": "stream",
     "text": [
      "{20: 0}\n",
      "{20: 0, 15: 1}\n",
      "{20: 0, 15: 1, 11: 2}\n",
      "else\n",
      "3\n"
     ]
    },
    {
     "data": {
      "text/plain": [
       "[1, 3]"
      ]
     },
     "execution_count": 13,
     "metadata": {},
     "output_type": "execute_result"
    }
   ],
   "source": [
    "nums = [2,7,11,15]\n",
    "target = 22\n",
    "twoSum(nums, target)"
   ]
  },
  {
   "cell_type": "markdown",
   "id": "bed30c09",
   "metadata": {},
   "source": [
    "# 2. Product of array except self"
   ]
  },
  {
   "cell_type": "code",
   "execution_count": 21,
   "id": "e8e5c840",
   "metadata": {},
   "outputs": [],
   "source": [
    "def productExceptSelf(nums):\n",
    "    length = len(nums)\n",
    "    \n",
    "    L, R, answer = [0]*length, [0]*length, [0]*length\n",
    "    \n",
    "    L[0] = 1\n",
    "    \n",
    "    for i in range(1, len(nums)):\n",
    "        L[i] = nums[i-1] * L[i-1]\n",
    "        \n",
    "    R[length - 1] = 1\n",
    "    \n",
    "    for i in reversed(range(length - 1)):\n",
    "        R[i] = nums[i+1] * R[i+1]\n",
    "    \n",
    "    for i in range(length):\n",
    "        answer[i] = L[i] * R[i]\n",
    "    \n",
    "    return answer"
   ]
  },
  {
   "cell_type": "code",
   "execution_count": 22,
   "id": "40bf2aef",
   "metadata": {},
   "outputs": [
    {
     "data": {
      "text/plain": [
       "[40, 20, 10, 8]"
      ]
     },
     "execution_count": 22,
     "metadata": {},
     "output_type": "execute_result"
    }
   ],
   "source": [
    "nums = [1,2,4,5]\n",
    "productExceptSelf(nums)"
   ]
  },
  {
   "cell_type": "markdown",
   "id": "08edecd3",
   "metadata": {},
   "source": [
    "# 3. Valid Palindrome II"
   ]
  },
  {
   "cell_type": "code",
   "execution_count": 23,
   "id": "f2298720",
   "metadata": {},
   "outputs": [],
   "source": [
    "def validPalindrome(s):\n",
    "    def check_palindrome(s, i, j):\n",
    "        while i < j:\n",
    "            if s[i] != s[j]:\n",
    "                return False\n",
    "            i += 1\n",
    "            j -= 1\n",
    "        return True\n",
    "    \n",
    "    left = 0\n",
    "    right = len(s) - 1\n",
    "    \n",
    "    while left < right:\n",
    "        if s[left] != s[right]:\n",
    "            return check_palindrome(s, left+1, right) or check_palindrome(s, left, right - 1)\n",
    "        left += 1\n",
    "        right -= 1\n",
    "    return True"
   ]
  },
  {
   "cell_type": "code",
   "execution_count": 25,
   "id": "2d052e96",
   "metadata": {},
   "outputs": [
    {
     "data": {
      "text/plain": [
       "False"
      ]
     },
     "execution_count": 25,
     "metadata": {},
     "output_type": "execute_result"
    }
   ],
   "source": [
    "s = 'abca'\n",
    "validPalindrome(s)"
   ]
  },
  {
   "cell_type": "markdown",
   "id": "839c86fb",
   "metadata": {},
   "source": [
    "# 4. Group Anagrams"
   ]
  },
  {
   "cell_type": "code",
   "execution_count": 35,
   "id": "3472b882",
   "metadata": {},
   "outputs": [],
   "source": [
    "# Time Complexity: O(NKlogK), where N is the length of strs, and K is the maximum length of a string in strs. \n",
    "# The outer loop has complexity O(N) as we iterate through each string. \n",
    "# Then, we sort each string in O(KlogK) time.\n",
    "\n",
    "# Space Complexity: O(NK), the total information content stored in ans.\n",
    "\n",
    "def groupAnagrams(strs):\n",
    "    ans = defaultdict(list)\n",
    "    \n",
    "    for s in strs:\n",
    "        ans[tuple(sorted(s))].append(s)\n",
    "        #print(ans)\n",
    "    return ans.values()"
   ]
  },
  {
   "cell_type": "code",
   "execution_count": 36,
   "id": "15e34737",
   "metadata": {},
   "outputs": [
    {
     "data": {
      "text/plain": [
       "dict_values([['eat', 'tea', 'ate'], ['tan', 'nat'], ['bat']])"
      ]
     },
     "execution_count": 36,
     "metadata": {},
     "output_type": "execute_result"
    }
   ],
   "source": [
    "strs = [\"eat\",\"tea\",\"tan\",\"ate\",\"nat\",\"bat\"]\n",
    "groupAnagrams(strs)"
   ]
  },
  {
   "cell_type": "markdown",
   "id": "4ed8a138",
   "metadata": {},
   "source": [
    "# 5. Valid Parenthesis"
   ]
  },
  {
   "cell_type": "code",
   "execution_count": 37,
   "id": "c1c45e86",
   "metadata": {},
   "outputs": [],
   "source": [
    "def isValid(s):\n",
    "    parens = {\n",
    "            '(':')',\n",
    "            '{':'}',\n",
    "            '[':']'\n",
    "        }\n",
    "    \n",
    "    stack = []\n",
    "    \n",
    "    for i in range(len(s)):\n",
    "        if s[i] in parens.keys():\n",
    "            stack.append(s[i])\n",
    "        else:\n",
    "            if len(stack) > 0:\n",
    "                leftBracket = stack.pop()\n",
    "            else:\n",
    "                return False\n",
    "            correctBracket = parens[leftBracket]\n",
    "            if s[i] != correctBracket:\n",
    "                return False\n",
    "    return len(stack) == 0\n",
    "                "
   ]
  },
  {
   "cell_type": "code",
   "execution_count": 38,
   "id": "d3302b4e",
   "metadata": {},
   "outputs": [
    {
     "data": {
      "text/plain": [
       "True"
      ]
     },
     "execution_count": 38,
     "metadata": {},
     "output_type": "execute_result"
    }
   ],
   "source": [
    "s = \"()[]{}\"\n",
    "isValid(s)"
   ]
  },
  {
   "cell_type": "code",
   "execution_count": 40,
   "id": "54418c73",
   "metadata": {},
   "outputs": [
    {
     "data": {
      "text/plain": [
       "True"
      ]
     },
     "execution_count": 40,
     "metadata": {},
     "output_type": "execute_result"
    }
   ],
   "source": [
    "s = '[{()}]'\n",
    "isValid(s)"
   ]
  },
  {
   "cell_type": "code",
   "execution_count": 41,
   "id": "f09b6475",
   "metadata": {},
   "outputs": [
    {
     "data": {
      "text/plain": [
       "False"
      ]
     },
     "execution_count": 41,
     "metadata": {},
     "output_type": "execute_result"
    }
   ],
   "source": [
    "s = '[{()}'\n",
    "isValid(s)"
   ]
  },
  {
   "cell_type": "markdown",
   "id": "00a08b96",
   "metadata": {},
   "source": [
    "# 6. 3Sum\n",
    "\n",
    "Read the theory: https://leetcode.com/problems/3sum/solution/"
   ]
  },
  {
   "cell_type": "code",
   "execution_count": 46,
   "id": "f0298f1a",
   "metadata": {},
   "outputs": [],
   "source": [
    "# T --> O(n^2). TwoSumII is O(N) and we call it N times. Sorting takes O(NlogN)\n",
    "# So O(NlogN + N^2) --> O(N^2)\n",
    "# S --> from O(logN) to O(N) --> Depends on the sorting algo\n",
    "def threeSum(nums):\n",
    "    result = []\n",
    "    nums.sort()\n",
    "    \n",
    "    for i in range(len(nums)):\n",
    "        if nums[i] > 0:\n",
    "            break\n",
    "        if i == 0 or nums[i - 1] != nums[i]:\n",
    "            twoSumII(nums, i, result)\n",
    "    return result\n",
    "\n",
    "def twoSumII(nums, i, result):\n",
    "    lo = i + 1\n",
    "    hi = len(nums) - 1\n",
    "    \n",
    "    while lo < hi:\n",
    "        sums = nums[i] + nums[lo] + nums[hi]\n",
    "        if sums < 0:\n",
    "            lo += 1\n",
    "        elif sums > 0:\n",
    "            hi -= 1\n",
    "        else:\n",
    "            result.append([nums[i], nums[lo], nums[hi]])\n",
    "            lo += 1\n",
    "            hi -= 1\n",
    "            while lo < hi and nums[lo] == nums[lo - 1]:\n",
    "                lo += 1\n",
    "    "
   ]
  },
  {
   "cell_type": "code",
   "execution_count": 45,
   "id": "c6a4011d",
   "metadata": {},
   "outputs": [
    {
     "data": {
      "text/plain": [
       "[[-1, -1, 2], [-1, 0, 1]]"
      ]
     },
     "execution_count": 45,
     "metadata": {},
     "output_type": "execute_result"
    }
   ],
   "source": [
    "nums = [-1,0,1,2,-1,-4]\n",
    "threeSum(nums)"
   ]
  },
  {
   "cell_type": "markdown",
   "id": "5e0de2c8",
   "metadata": {},
   "source": [
    "# 7. Range Sum of BST"
   ]
  },
  {
   "cell_type": "code",
   "execution_count": 47,
   "id": "f38597b6",
   "metadata": {},
   "outputs": [],
   "source": [
    "def rangeSumBST(root, low, high):\n",
    "    result = 0\n",
    "    \n",
    "    queue = [root]\n",
    "    \n",
    "    while len(queue) > 0:\n",
    "        currNode = queue.pop(0)\n",
    "        if currNode.val >= low and currNode.val <= high:\n",
    "            result += currNode.val\n",
    "        if currNode.left is not None:\n",
    "            queue.append(currNode.left)\n",
    "        if currNode.right is not None:\n",
    "            queue.append(currNode.right)\n",
    "    \n",
    "    return result"
   ]
  },
  {
   "cell_type": "markdown",
   "id": "8cb446ca",
   "metadata": {},
   "source": [
    "# 8. Diameter of binary tree"
   ]
  },
  {
   "cell_type": "code",
   "execution_count": 48,
   "id": "97f3a487",
   "metadata": {},
   "outputs": [],
   "source": [
    "def diameterOfBinaryTree(root):\n",
    "    diameter = 0\n",
    "    \n",
    "    def longest_path(node):\n",
    "        if not node:\n",
    "            return 0\n",
    "        \n",
    "        nonlocal diameter\n",
    "        left_path = longest_path(node.left)\n",
    "        right_path = longest_path(node.right)\n",
    "        \n",
    "        diameter = max(diameter, left_path + right_path)\n",
    "        \n",
    "        return max(left_path, right_path) + 1\n",
    "    \n",
    "    longest_path(root)\n",
    "    return diameter\n",
    "        "
   ]
  },
  {
   "cell_type": "markdown",
   "id": "1d561869",
   "metadata": {},
   "source": [
    "# 9. K Closest Points to Origin"
   ]
  },
  {
   "cell_type": "code",
   "execution_count": 2,
   "id": "5dcc4140",
   "metadata": {},
   "outputs": [],
   "source": [
    "def kClosest(points, k):\n",
    "    points.sort(key = lambda P: P[0]**2 + P[1]**2)\n",
    "    return points[:k]"
   ]
  },
  {
   "cell_type": "code",
   "execution_count": 3,
   "id": "e01245d7",
   "metadata": {},
   "outputs": [
    {
     "data": {
      "text/plain": [
       "[[3, 3], [-2, 4]]"
      ]
     },
     "execution_count": 3,
     "metadata": {},
     "output_type": "execute_result"
    }
   ],
   "source": [
    "points = [[3,3],[5,-1],[-2,4]]\n",
    "k = 2\n",
    "kClosest(points, k)"
   ]
  },
  {
   "cell_type": "markdown",
   "id": "6be3d42e",
   "metadata": {},
   "source": [
    "# 10. Intersection of Two Arrays"
   ]
  },
  {
   "cell_type": "code",
   "execution_count": 6,
   "id": "ee63791a",
   "metadata": {},
   "outputs": [],
   "source": [
    "def intersection(nums1, nums2):\n",
    "    result = []\n",
    "    \n",
    "        \n",
    "    for i in range(len(nums1)):\n",
    "        if nums1[i] in nums2 and nums1[i] not in result:\n",
    "            result.append(nums1[i])\n",
    "    \n",
    "    return result"
   ]
  },
  {
   "cell_type": "code",
   "execution_count": 7,
   "id": "47ac8448",
   "metadata": {},
   "outputs": [
    {
     "data": {
      "text/plain": [
       "[2]"
      ]
     },
     "execution_count": 7,
     "metadata": {},
     "output_type": "execute_result"
    }
   ],
   "source": [
    "nums1 = [1,2,2,1]\n",
    "nums2 = [2,2]\n",
    "intersection(nums1, nums2)"
   ]
  },
  {
   "cell_type": "markdown",
   "id": "415aba10",
   "metadata": {},
   "source": [
    "# 11. Merge two sorted arrays"
   ]
  },
  {
   "cell_type": "code",
   "execution_count": 8,
   "id": "130dcad8",
   "metadata": {},
   "outputs": [],
   "source": [
    "def merge(nums1, m, nums2, n):\n",
    "    nums1_copy = nums1[:m]\n",
    "    \n",
    "    p1 = 0\n",
    "    p2 = 0\n",
    "    \n",
    "    for i in range(m+n):\n",
    "        if p2 >= n or (p1 < m and nums1_copy[p1] < nums2[p2]):\n",
    "            nums1[i] = nums1_copy[p1]\n",
    "            p1 += 1\n",
    "        else:\n",
    "            nums1[i] = nums2[p2]\n",
    "            p2 += 1\n",
    "            "
   ]
  },
  {
   "cell_type": "code",
   "execution_count": 9,
   "id": "296c97c1",
   "metadata": {},
   "outputs": [
    {
     "data": {
      "text/plain": [
       "[1, 2, 2, 3, 5, 6]"
      ]
     },
     "execution_count": 9,
     "metadata": {},
     "output_type": "execute_result"
    }
   ],
   "source": [
    "nums1 = [1,2,3,0,0,0]\n",
    "m = 3\n",
    "nums2 = [2,5,6]\n",
    "n = 3\n",
    "\n",
    "merge(nums1, m, nums2, n)\n",
    "nums1"
   ]
  },
  {
   "cell_type": "markdown",
   "id": "b0b53eea",
   "metadata": {},
   "source": [
    "# 12. Remove duplicates from an array"
   ]
  },
  {
   "cell_type": "code",
   "execution_count": 21,
   "id": "a26c10ef",
   "metadata": {},
   "outputs": [],
   "source": [
    "def removeDuplicates(nums):\n",
    "    if len(nums) == 0:\n",
    "        return 0\n",
    "    \n",
    "    i = 0\n",
    "    \n",
    "    for j in range(1, len(nums)):\n",
    "        if nums[j] != nums[i]:\n",
    "            i += 1\n",
    "            nums[i] = nums[j]\n",
    "    return i + 1"
   ]
  },
  {
   "cell_type": "code",
   "execution_count": 22,
   "id": "1cb4936c",
   "metadata": {},
   "outputs": [
    {
     "data": {
      "text/plain": [
       "2"
      ]
     },
     "execution_count": 22,
     "metadata": {},
     "output_type": "execute_result"
    }
   ],
   "source": [
    "nums = [1,1,2]\n",
    "removeDuplicates(nums)"
   ]
  },
  {
   "cell_type": "code",
   "execution_count": 23,
   "id": "297361ec",
   "metadata": {},
   "outputs": [
    {
     "data": {
      "text/plain": [
       "5"
      ]
     },
     "execution_count": 23,
     "metadata": {},
     "output_type": "execute_result"
    }
   ],
   "source": [
    "nums = [0,0,1,1,1,2,2,3,3,4]\n",
    "removeDuplicates(nums)"
   ]
  },
  {
   "cell_type": "markdown",
   "id": "ac6b247e",
   "metadata": {},
   "source": [
    "# 13. Count frequency of an element in an array"
   ]
  },
  {
   "cell_type": "code",
   "execution_count": 24,
   "id": "ee37911e",
   "metadata": {},
   "outputs": [],
   "source": [
    "def countFrequency(nums, target):\n",
    "    if target not in nums:\n",
    "        return 0\n",
    "    \n",
    "    counter = 0\n",
    "    \n",
    "    for i in range(len(nums)):\n",
    "        if nums[i] == target:\n",
    "            counter += 1\n",
    "    return counter"
   ]
  },
  {
   "cell_type": "code",
   "execution_count": 31,
   "id": "71b0f93c",
   "metadata": {},
   "outputs": [],
   "source": [
    "def binary_search(nums, no_to_find, left, right):\n",
    "    \n",
    "    while left <= right:\n",
    "        mid = int((left + right)/2)\n",
    "        if nums[mid] == no_to_find:\n",
    "            return mid\n",
    "        elif nums[mid] < no_to_find:\n",
    "            left = mid + 1\n",
    "        else:\n",
    "            right = mid - 1\n",
    "    return -1\n",
    "\n",
    "def countFrequencyBinary(nums, target):\n",
    "    if target not in nums:\n",
    "        return 0\n",
    "    \n",
    "    firstPosition = binary_search(nums, target, 0, len(nums) - 1)\n",
    "    \n",
    "    if firstPosition == -1:\n",
    "        return 0\n",
    "    \n",
    "    startPosition = firstPosition\n",
    "    endPosition = firstPosition\n",
    "    temp1 = 0\n",
    "    temp2 = 0\n",
    "    \n",
    "    while startPosition != -1:\n",
    "        temp1 = startPosition\n",
    "        startPosition = binary_search(nums, target, 0, startPosition - 1)\n",
    "    startPosition = temp1\n",
    "    \n",
    "    while endPosition != -1:\n",
    "        temp2 = endPosition\n",
    "        endPosition = binary_search(nums, target, endPosition + 1, len(nums) - 1)\n",
    "    \n",
    "    endPosition = temp2\n",
    "    \n",
    "    return endPosition - startPosition + 1"
   ]
  },
  {
   "cell_type": "code",
   "execution_count": 34,
   "id": "4b454817",
   "metadata": {},
   "outputs": [
    {
     "data": {
      "text/plain": [
       "3"
      ]
     },
     "execution_count": 34,
     "metadata": {},
     "output_type": "execute_result"
    }
   ],
   "source": [
    "nums = [1,1,3,4,5,5,5,7,7]\n",
    "\n",
    "countFrequency(nums, 5)"
   ]
  },
  {
   "cell_type": "code",
   "execution_count": 35,
   "id": "dd7f325f",
   "metadata": {},
   "outputs": [
    {
     "data": {
      "text/plain": [
       "3"
      ]
     },
     "execution_count": 35,
     "metadata": {},
     "output_type": "execute_result"
    }
   ],
   "source": [
    "nums = [1,1,3,4,5,5,5,7,7]\n",
    "\n",
    "countFrequencyBinary(nums, 5)"
   ]
  },
  {
   "cell_type": "markdown",
   "id": "1bc1df22",
   "metadata": {},
   "source": [
    "# 14. Find minimum element of an array"
   ]
  },
  {
   "cell_type": "code",
   "execution_count": 40,
   "id": "ebe404bb",
   "metadata": {},
   "outputs": [],
   "source": [
    "def findMinimum(nums):\n",
    "    minNumber = nums[0]\n",
    "    \n",
    "    for i in range(len(nums) - 1):\n",
    "        if nums[i] <= minNumber:\n",
    "            minNumber = nums[i]\n",
    "    return minNumber"
   ]
  },
  {
   "cell_type": "code",
   "execution_count": 43,
   "id": "1a1a7f87",
   "metadata": {},
   "outputs": [
    {
     "data": {
      "text/plain": [
       "2"
      ]
     },
     "execution_count": 43,
     "metadata": {},
     "output_type": "execute_result"
    }
   ],
   "source": [
    "nums = [5,3,6,2,3]\n",
    "findMinimum(nums)"
   ]
  },
  {
   "cell_type": "markdown",
   "id": "782f26c6",
   "metadata": {},
   "source": [
    "# 15. Remove element in place"
   ]
  },
  {
   "cell_type": "code",
   "execution_count": 76,
   "id": "64de704f",
   "metadata": {},
   "outputs": [],
   "source": [
    "def removeElement(nums, val):\n",
    "    i = 0\n",
    "    \n",
    "    for j in range(len(nums)):\n",
    "        if nums[j] != val:\n",
    "            nums[i] = nums[j]\n",
    "            i += 1\n",
    "    return i"
   ]
  },
  {
   "cell_type": "code",
   "execution_count": 78,
   "id": "03945fcd",
   "metadata": {},
   "outputs": [
    {
     "data": {
      "text/plain": [
       "2"
      ]
     },
     "execution_count": 78,
     "metadata": {},
     "output_type": "execute_result"
    }
   ],
   "source": [
    "nums = [3,2,2,3,3]\n",
    "val = 3\n",
    "removeElement(nums, val)"
   ]
  },
  {
   "cell_type": "markdown",
   "id": "c6c44458",
   "metadata": {},
   "source": [
    "# 16. Search Insert Position"
   ]
  },
  {
   "cell_type": "code",
   "execution_count": 79,
   "id": "d81f75a8",
   "metadata": {},
   "outputs": [],
   "source": [
    "def binary_search(nums, target, left, right):\n",
    "    while left <= right:\n",
    "        mid = int((left + right)/2)\n",
    "        if nums[mid] == target:\n",
    "            return mid\n",
    "        elif nums[mid] < target:\n",
    "            left = mid + 1\n",
    "        else:\n",
    "            right = mid - 1\n",
    "    return left\n",
    "\n",
    "def searchInsert(nums, target):\n",
    "    \n",
    "    return binary_search(nums, target, 0, len(nums) - 1)\n",
    "    \n",
    "    "
   ]
  },
  {
   "cell_type": "code",
   "execution_count": 80,
   "id": "120ea2f5",
   "metadata": {},
   "outputs": [
    {
     "data": {
      "text/plain": [
       "2"
      ]
     },
     "execution_count": 80,
     "metadata": {},
     "output_type": "execute_result"
    }
   ],
   "source": [
    "nums = [1,3,5,6] \n",
    "target = 5\n",
    "searchInsert(nums, target)"
   ]
  },
  {
   "cell_type": "code",
   "execution_count": 81,
   "id": "0df6498a",
   "metadata": {},
   "outputs": [
    {
     "data": {
      "text/plain": [
       "1"
      ]
     },
     "execution_count": 81,
     "metadata": {},
     "output_type": "execute_result"
    }
   ],
   "source": [
    "nums = [1,3,5,6]\n",
    "target = 2\n",
    "searchInsert(nums, target)"
   ]
  },
  {
   "cell_type": "markdown",
   "id": "4a167433",
   "metadata": {},
   "source": [
    "# 17. Find kth Largest element"
   ]
  },
  {
   "cell_type": "code",
   "execution_count": 84,
   "id": "440e9580",
   "metadata": {},
   "outputs": [],
   "source": [
    "def find_kth_largest(nums, k):\n",
    "    quicksort(nums, 0, len(nums) - 1)\n",
    "    return nums[-k]\n",
    "    \n",
    "def quicksort(nums, left, right):\n",
    "    if left < right:\n",
    "        partitionIndex = partition(nums, left, right)\n",
    "        \n",
    "        quicksort(nums, left, partitionIndex - 1)\n",
    "        quicksort(nums, partitionIndex + 1, right)\n",
    "\n",
    "def partition(nums, left, right):\n",
    "    pivotElement = nums[right]\n",
    "    partitionIndex = left\n",
    "    \n",
    "    for j in range(left, right):\n",
    "        if nums[j] <= pivotElement:\n",
    "            swap(nums, partitionIndex, j)\n",
    "            partitionIndex += 1\n",
    "        swap(nums, partitionIndex, right)\n",
    "    return partitionIndex\n",
    "\n",
    "def swap(nums, i, j):\n",
    "    temp = nums[i]\n",
    "    nums[i] = nums[j]\n",
    "    nums[j] = temp\n",
    "    "
   ]
  },
  {
   "cell_type": "code",
   "execution_count": 157,
   "id": "fd44c44f",
   "metadata": {},
   "outputs": [
    {
     "data": {
      "text/plain": [
       "6"
      ]
     },
     "execution_count": 157,
     "metadata": {},
     "output_type": "execute_result"
    }
   ],
   "source": [
    "find_kth_largest([5,6,6,1,4,8,3],3)"
   ]
  },
  {
   "cell_type": "code",
   "execution_count": 90,
   "id": "c6129ee5",
   "metadata": {},
   "outputs": [],
   "source": [
    "def quickselect(nums, left, right, index_to_find):\n",
    "    partitionIndex = partition(nums, left, right)\n",
    "    \n",
    "    if partitionIndex == index_to_find:\n",
    "        return nums[partitionIndex]\n",
    "    elif partitionIndex < index_to_find:\n",
    "        return quickselect(nums, partitionIndex + 1, right, index_to_find)\n",
    "    else:\n",
    "        return quickselect(nums, left, partitionIndex - 1, index_to_find)\n",
    "\n",
    "def partition(nums, left, right):\n",
    "    partitionIndex = left\n",
    "    for j in range(left, right+1):\n",
    "        if nums[j] <= nums[right]:\n",
    "            swap(nums, partitionIndex, j)\n",
    "            partitionIndex += 1\n",
    "    return partitionIndex - 1\n",
    "\n",
    "def find_kth_largest_quickselect(nums, k):\n",
    "    index_to_find = len(nums) - k\n",
    "    quickselect(nums, 0, len(nums) - 1, index_to_find)\n",
    "    return nums[-k]"
   ]
  },
  {
   "cell_type": "code",
   "execution_count": 156,
   "id": "bee64f55",
   "metadata": {},
   "outputs": [
    {
     "data": {
      "text/plain": [
       "5"
      ]
     },
     "execution_count": 156,
     "metadata": {},
     "output_type": "execute_result"
    }
   ],
   "source": [
    "find_kth_largest_quickselect([5,5,6,1,4,8,3],4)\n"
   ]
  },
  {
   "cell_type": "markdown",
   "id": "c8c21dfb",
   "metadata": {},
   "source": [
    "# 18. Maximum Subarray\n",
    "\n",
    "## Kadane's algorithm"
   ]
  },
  {
   "cell_type": "code",
   "execution_count": 92,
   "id": "0d0784a1",
   "metadata": {},
   "outputs": [],
   "source": [
    "def maxSubArray(nums):\n",
    "    current_subarray = nums[0]\n",
    "    maximum_subarray = nums[0]\n",
    "    \n",
    "    for num in nums[1:]:\n",
    "        current_subarray = max(num, current_subarray + num)\n",
    "        maximum_subarray = max(current_subarray, maximum_subarray)\n",
    "    return maximum_subarray"
   ]
  },
  {
   "cell_type": "code",
   "execution_count": 93,
   "id": "c2295d2f",
   "metadata": {},
   "outputs": [
    {
     "data": {
      "text/plain": [
       "6"
      ]
     },
     "execution_count": 93,
     "metadata": {},
     "output_type": "execute_result"
    }
   ],
   "source": [
    "nums = [-2,1,-3,4,-1,2,1,-5,4]\n",
    "maxSubArray(nums)"
   ]
  },
  {
   "cell_type": "markdown",
   "id": "189afdaf",
   "metadata": {},
   "source": [
    "# 19. Plus One"
   ]
  },
  {
   "cell_type": "code",
   "execution_count": 102,
   "id": "59f8f048",
   "metadata": {},
   "outputs": [],
   "source": [
    "def plusOne(digits):\n",
    "    str_number = \"\".join([str(i) for i in digits])\n",
    "    int_number = int(str_number)\n",
    "    add_one = int_number + 1\n",
    "    result = []\n",
    "    for i in str(add_one):\n",
    "        result.append(int(i))\n",
    "    return result"
   ]
  },
  {
   "cell_type": "code",
   "execution_count": 103,
   "id": "7d93fc58",
   "metadata": {},
   "outputs": [
    {
     "data": {
      "text/plain": [
       "[1, 2, 4]"
      ]
     },
     "execution_count": 103,
     "metadata": {},
     "output_type": "execute_result"
    }
   ],
   "source": [
    "digits = [1,2,3]\n",
    "plusOne(digits)"
   ]
  },
  {
   "cell_type": "markdown",
   "id": "3ef162c6",
   "metadata": {},
   "source": [
    "# 20. Convert sorted array to binary search tree"
   ]
  },
  {
   "cell_type": "code",
   "execution_count": 105,
   "id": "c8774a1f",
   "metadata": {},
   "outputs": [],
   "source": [
    "def sortedArrayToBST(nums):\n",
    "    def helper(left, right):\n",
    "        if left > right:\n",
    "            return None\n",
    "        mid = int((left+right)/2)\n",
    "\n",
    "        root = TreeNode(nums[mid])\n",
    "        root.left = helper(left, mid-1)\n",
    "        root.right = helper(mid+1, right)\n",
    "        return root\n",
    "    return helper(0, len(nums) - 1)"
   ]
  },
  {
   "cell_type": "markdown",
   "id": "0ffd015d",
   "metadata": {},
   "source": [
    "# 21. Single Number"
   ]
  },
  {
   "cell_type": "code",
   "execution_count": 127,
   "id": "80638ffe",
   "metadata": {},
   "outputs": [],
   "source": [
    "from collections import defaultdict\n",
    "def singleNumber(nums):\n",
    "    d = defaultdict(int)\n",
    "    \n",
    "    for i in range(len(nums)):\n",
    "        d[nums[i]] +=1 \n",
    "    \n",
    "    \n",
    "    for i in d:\n",
    "        if d[i] == 1:\n",
    "            return i\n"
   ]
  },
  {
   "cell_type": "code",
   "execution_count": 128,
   "id": "49583e8f",
   "metadata": {},
   "outputs": [
    {
     "data": {
      "text/plain": [
       "4"
      ]
     },
     "execution_count": 128,
     "metadata": {},
     "output_type": "execute_result"
    }
   ],
   "source": [
    "nums = [4,1,2,1,2]\n",
    "singleNumber(nums)"
   ]
  },
  {
   "cell_type": "code",
   "execution_count": 134,
   "id": "15f91690",
   "metadata": {},
   "outputs": [
    {
     "data": {
      "text/plain": [
       "1"
      ]
     },
     "execution_count": 134,
     "metadata": {},
     "output_type": "execute_result"
    }
   ],
   "source": [
    "11%2"
   ]
  },
  {
   "cell_type": "markdown",
   "id": "1d312796",
   "metadata": {},
   "source": [
    "# 22. Contains Duplicate"
   ]
  },
  {
   "cell_type": "code",
   "execution_count": 135,
   "id": "7c7c5ef6",
   "metadata": {},
   "outputs": [],
   "source": [
    "def containsDuplicate(nums):\n",
    "    d = defaultdict(int)\n",
    "    \n",
    "    for i in nums:\n",
    "        d[i] += 1\n",
    "    \n",
    "    for i in d:\n",
    "        if d[i] > 1:\n",
    "            return True\n",
    "    return False"
   ]
  },
  {
   "cell_type": "code",
   "execution_count": 137,
   "id": "ebde5597",
   "metadata": {},
   "outputs": [
    {
     "data": {
      "text/plain": [
       "False"
      ]
     },
     "execution_count": 137,
     "metadata": {},
     "output_type": "execute_result"
    }
   ],
   "source": [
    "nums = [1,2,3]\n",
    "containsDuplicate(nums)"
   ]
  },
  {
   "cell_type": "markdown",
   "id": "009e2e1b",
   "metadata": {},
   "source": [
    "# 23. Third maximum number"
   ]
  },
  {
   "cell_type": "code",
   "execution_count": 149,
   "id": "2996c44c",
   "metadata": {},
   "outputs": [],
   "source": [
    "def thirdMax(nums):\n",
    "    nums = set(nums)\n",
    "    \n",
    "    maximum = max(nums)\n",
    "    \n",
    "    if len(nums) < 3:\n",
    "        return maximum\n",
    "    \n",
    "    nums.remove(maximum)\n",
    "    second_maximum = max(nums)\n",
    "    nums.remove(second_maximum)\n",
    "    return max(nums)"
   ]
  },
  {
   "cell_type": "code",
   "execution_count": 152,
   "id": "905650e5",
   "metadata": {},
   "outputs": [
    {
     "data": {
      "text/plain": [
       "1"
      ]
     },
     "execution_count": 152,
     "metadata": {},
     "output_type": "execute_result"
    }
   ],
   "source": [
    "nums = [2,2,3,1]\n",
    "thirdMax(nums)"
   ]
  },
  {
   "cell_type": "code",
   "execution_count": 151,
   "id": "45bf6385",
   "metadata": {},
   "outputs": [
    {
     "data": {
      "text/plain": [
       "2"
      ]
     },
     "execution_count": 151,
     "metadata": {},
     "output_type": "execute_result"
    }
   ],
   "source": [
    "nums = [1,2]\n",
    "thirdMax(nums)"
   ]
  },
  {
   "cell_type": "code",
   "execution_count": 158,
   "id": "b43b641d",
   "metadata": {},
   "outputs": [],
   "source": [
    "# quickselect won't work as it cannot handle duplicates\n",
    "def quickselect(nums, left, right, index_to_find):\n",
    "    partitionIndex = partition(nums, left, right)\n",
    "\n",
    "    if index_to_find == partitionIndex:\n",
    "        return nums[partitionIndex]\n",
    "    elif index_to_find > partitionIndex:\n",
    "        return quickselect(nums, partitionIndex + 1, right, index_to_find)\n",
    "    else:\n",
    "        return quickselect(nums, left, partitionIndex - 1, index_to_find)\n",
    "\n",
    "def partition(nums, left, right):\n",
    "    partitionIndex = left\n",
    "\n",
    "    for j in range(left, right+1):\n",
    "        if nums[j] <= nums[right]:\n",
    "            swap(nums, partitionIndex, j)\n",
    "            partitionIndex += 1\n",
    "\n",
    "\n",
    "    return partitionIndex - 1\n",
    "\n",
    "def thirdMax_quickselect(nums):\n",
    "    index_to_find = len(nums) - 3\n",
    "    quickselect(nums, 0, len(nums) - 1, index_to_find)\n",
    "    return nums[-3]"
   ]
  },
  {
   "cell_type": "code",
   "execution_count": 154,
   "id": "67c809f2",
   "metadata": {},
   "outputs": [
    {
     "data": {
      "text/plain": [
       "2"
      ]
     },
     "execution_count": 154,
     "metadata": {},
     "output_type": "execute_result"
    }
   ],
   "source": [
    "nums = [2,2,3,1]\n",
    "thirdMax_quickselect(nums)"
   ]
  },
  {
   "cell_type": "markdown",
   "id": "4c7c63fe",
   "metadata": {},
   "source": [
    "# 24. Count odd even"
   ]
  },
  {
   "cell_type": "code",
   "execution_count": 161,
   "id": "581980d8",
   "metadata": {},
   "outputs": [],
   "source": [
    "def countOddEven(nums):\n",
    "    count_odd = 0\n",
    "    count_even = 0\n",
    "    \n",
    "    for i in nums:\n",
    "        if i%2 == 0:\n",
    "            count_even += 1\n",
    "        else:\n",
    "            count_odd += 1\n",
    "    return count_even, count_odd"
   ]
  },
  {
   "cell_type": "code",
   "execution_count": 162,
   "id": "9e3b7941",
   "metadata": {},
   "outputs": [
    {
     "data": {
      "text/plain": [
       "(2, 2)"
      ]
     },
     "execution_count": 162,
     "metadata": {},
     "output_type": "execute_result"
    }
   ],
   "source": [
    "nums = [2,2,3,1]\n",
    "countOddEven(nums)"
   ]
  },
  {
   "cell_type": "markdown",
   "id": "5f437914",
   "metadata": {},
   "source": [
    "# 25. Move Zeroes"
   ]
  },
  {
   "cell_type": "code",
   "execution_count": 176,
   "id": "05006d82",
   "metadata": {},
   "outputs": [],
   "source": [
    "def moveZeroes(nums):\n",
    "    countZeroes = 0\n",
    "    \n",
    "    left = 0\n",
    "    \n",
    "    while left < len(nums) - 1:\n",
    "        if nums[left] == 0:\n",
    "            nums.pop(left)\n",
    "            countZeroes += 1\n",
    "            \n",
    "        else:\n",
    "            left += 1\n",
    "    \n",
    "    for i in range(countZeroes):\n",
    "        nums.append(0)\n",
    "    \n",
    "    "
   ]
  },
  {
   "cell_type": "code",
   "execution_count": 177,
   "id": "cc485e31",
   "metadata": {},
   "outputs": [
    {
     "data": {
      "text/plain": [
       "[1, 3, 12, 0, 0]"
      ]
     },
     "execution_count": 177,
     "metadata": {},
     "output_type": "execute_result"
    }
   ],
   "source": [
    "nums = [0,1,0,3,12]\n",
    "moveZeroes(nums)\n",
    "nums"
   ]
  },
  {
   "cell_type": "markdown",
   "id": "13c35a9b",
   "metadata": {},
   "source": [
    "# 26. Binary Search"
   ]
  },
  {
   "cell_type": "code",
   "execution_count": 183,
   "id": "3965ad30",
   "metadata": {},
   "outputs": [],
   "source": [
    "import math\n",
    "def search(nums, target):\n",
    "    left = 0\n",
    "    right = len(nums) - 1\n",
    "    \n",
    "    \n",
    "    \n",
    "    while left <= right:\n",
    "        mid = math.floor((left+right)/2)\n",
    "        if nums[mid] == target:\n",
    "            return mid\n",
    "        elif nums[mid] < target:\n",
    "            left = mid + 1\n",
    "        else:\n",
    "            right = mid - 1\n",
    "    return -1"
   ]
  },
  {
   "cell_type": "code",
   "execution_count": 184,
   "id": "f569a72a",
   "metadata": {},
   "outputs": [
    {
     "data": {
      "text/plain": [
       "4"
      ]
     },
     "execution_count": 184,
     "metadata": {},
     "output_type": "execute_result"
    }
   ],
   "source": [
    "nums = [-1,0,3,5,9,12]\n",
    "target = 9\n",
    "search(nums, target)"
   ]
  },
  {
   "attachments": {
    "image.png": {
     "image/png": "[encoded data removed]"
    }
   },
   "cell_type": "markdown",
   "id": "ac6ec2b0",
   "metadata": {},
   "source": [
    "# 27. Rotate Array\n",
    "\n",
    "![image.png](attachment:image.png)"
   ]
  },
  {
   "cell_type": "code",
   "execution_count": 195,
   "id": "30f04fe5",
   "metadata": {},
   "outputs": [],
   "source": [
    "# T --> O(n)\n",
    "# S --> O(1)\n",
    "def reverse(nums, left, right):\n",
    "    while left < right:\n",
    "        nums[left], nums[right] = nums[right], nums[left]\n",
    "        left += 1\n",
    "        right -= 1\n",
    "\n",
    "def rotate(nums, k):\n",
    "    n = len(nums)\n",
    "    # we do this next line for single length arrays\n",
    "    k %= n\n",
    "    \n",
    "    reverse(nums, 0, n - 1)\n",
    "    reverse(nums, 0, k - 1)\n",
    "    reverse(nums, k, n - 1)"
   ]
  },
  {
   "cell_type": "code",
   "execution_count": 196,
   "id": "be8a0322",
   "metadata": {},
   "outputs": [],
   "source": [
    "nums = [1,2,3,4,5,6,7]\n",
    "k = 3\n",
    "rotate(nums, k)"
   ]
  },
  {
   "cell_type": "code",
   "execution_count": 194,
   "id": "afac39be",
   "metadata": {},
   "outputs": [
    {
     "data": {
      "text/plain": [
       "[5, 6, 7, 1, 2, 3, 4]"
      ]
     },
     "execution_count": 194,
     "metadata": {},
     "output_type": "execute_result"
    }
   ],
   "source": [
    "nums"
   ]
  },
  {
   "cell_type": "markdown",
   "id": "4bc49eed",
   "metadata": {},
   "source": [
    "# 28. Product of array except self"
   ]
  },
  {
   "cell_type": "code",
   "execution_count": 3,
   "id": "6a4b6f08",
   "metadata": {},
   "outputs": [],
   "source": [
    "def productExceptSelf(nums):\n",
    "    n = len(nums)\n",
    "    \n",
    "    L, R, answer = [0]*n, [0]*n, [0]*n\n",
    "    \n",
    "    L[0] = 1\n",
    "    \n",
    "    for i in range(1, n):\n",
    "        L[i] = L[i-1] * nums[i-1]\n",
    "    \n",
    "    R[n-1] = 1\n",
    "    \n",
    "    for i in reversed(range(n-1)):\n",
    "        R[i] = R[i+1] * nums[i+1]\n",
    "    \n",
    "    for i in range(n):\n",
    "        answer[i] = L[i] * R[i]\n",
    "    \n",
    "    return answer"
   ]
  },
  {
   "cell_type": "code",
   "execution_count": 4,
   "id": "abc41b32",
   "metadata": {},
   "outputs": [
    {
     "data": {
      "text/plain": [
       "[24, 12, 8, 6]"
      ]
     },
     "execution_count": 4,
     "metadata": {},
     "output_type": "execute_result"
    }
   ],
   "source": [
    "nums = [1,2,3,4]\n",
    "productExceptSelf(nums)"
   ]
  },
  {
   "cell_type": "markdown",
   "id": "18b4ef80",
   "metadata": {},
   "source": [
    "# 29. Remove vowels from String"
   ]
  },
  {
   "cell_type": "code",
   "execution_count": 11,
   "id": "0368e0fb",
   "metadata": {},
   "outputs": [],
   "source": [
    "def removeVowels(s):\n",
    "    for i in s:\n",
    "        if i in ['a', 'e', 'i', 'o', 'u']:\n",
    "            s = s.replace(i, \"\")\n",
    "    return s"
   ]
  },
  {
   "cell_type": "code",
   "execution_count": 12,
   "id": "e5a14118",
   "metadata": {},
   "outputs": [
    {
     "data": {
      "text/plain": [
       "'ltcdscmmntyfrcdrs'"
      ]
     },
     "execution_count": 12,
     "metadata": {},
     "output_type": "execute_result"
    }
   ],
   "source": [
    "s = \"leetcodeisacommunityforcoders\"\n",
    "removeVowels(s)"
   ]
  },
  {
   "cell_type": "code",
   "execution_count": 13,
   "id": "e9477f1c",
   "metadata": {},
   "outputs": [
    {
     "data": {
      "text/plain": [
       "''"
      ]
     },
     "execution_count": 13,
     "metadata": {},
     "output_type": "execute_result"
    }
   ],
   "source": [
    "s = \"aeiou\"\n",
    "removeVowels(s)"
   ]
  },
  {
   "cell_type": "markdown",
   "id": "65a3c6c0",
   "metadata": {},
   "source": [
    "# 30. Defanging an IP Address"
   ]
  },
  {
   "cell_type": "code",
   "execution_count": 18,
   "id": "48935ea1",
   "metadata": {},
   "outputs": [],
   "source": [
    "def defangIPaddr(address):\n",
    "    return address.replace('.', '[.]')"
   ]
  },
  {
   "cell_type": "code",
   "execution_count": 19,
   "id": "7ea96150",
   "metadata": {},
   "outputs": [
    {
     "data": {
      "text/plain": [
       "'1[.]1[.]1[.]1'"
      ]
     },
     "execution_count": 19,
     "metadata": {},
     "output_type": "execute_result"
    }
   ],
   "source": [
    "address = \"1.1.1.1\"\n",
    "defangIPaddr(address)"
   ]
  },
  {
   "cell_type": "markdown",
   "id": "555d624f",
   "metadata": {},
   "source": [
    "# 31. Jewels and Stones"
   ]
  },
  {
   "cell_type": "code",
   "execution_count": 24,
   "id": "36853479",
   "metadata": {},
   "outputs": [],
   "source": [
    "jewels = \"aA\"\n",
    "stones = \"aAAbbbb\"\n",
    "\n",
    "def numJewelsInStones(jewels, stones):\n",
    "    stones_in_jewels = [i for i in jewels]\n",
    "    \n",
    "    result = 0\n",
    "    \n",
    "    for i in stones:\n",
    "        if i in stones_in_jewels:\n",
    "            result += 1\n",
    "    return result\n"
   ]
  },
  {
   "cell_type": "code",
   "execution_count": 26,
   "id": "4fe2c582",
   "metadata": {},
   "outputs": [
    {
     "data": {
      "text/plain": [
       "3"
      ]
     },
     "execution_count": 26,
     "metadata": {},
     "output_type": "execute_result"
    }
   ],
   "source": [
    "jewels = \"aA\"\n",
    "stones = \"aAAbbbb\"\n",
    "numJewelsInStones(jewels, stones)"
   ]
  },
  {
   "cell_type": "code",
   "execution_count": 32,
   "id": "653f1377",
   "metadata": {},
   "outputs": [],
   "source": [
    "def restoreString(s, indices):\n",
    "    res = [''] * len(s)\n",
    "    for index, char in enumerate(s):\n",
    "        res[indices[index]] = char\n",
    "    return \"\".join(res)"
   ]
  },
  {
   "cell_type": "code",
   "execution_count": 33,
   "id": "125179ba",
   "metadata": {},
   "outputs": [
    {
     "data": {
      "text/plain": [
       "'leetcode'"
      ]
     },
     "execution_count": 33,
     "metadata": {},
     "output_type": "execute_result"
    }
   ],
   "source": [
    "s = \"codeleet\"\n",
    "indices = [4,5,6,7,0,2,1,3]\n",
    "restoreString(s, indices)"
   ]
  },
  {
   "cell_type": "markdown",
   "id": "a0c2b992",
   "metadata": {},
   "source": [
    "# 32. Split a string in balanced string"
   ]
  },
  {
   "cell_type": "code",
   "execution_count": 34,
   "id": "3f8c10f2",
   "metadata": {},
   "outputs": [],
   "source": [
    "def isValid(s):\n",
    "    parens = {\n",
    "            '(':')',\n",
    "            '{':'}',\n",
    "            '[':']'\n",
    "        }\n",
    "    \n",
    "    stack = []\n",
    "    \n",
    "    for i in range(len(s)):\n",
    "        if s[i] in parens.keys():\n",
    "            stack.append(s[i])\n",
    "        else:\n",
    "            if len(stack) > 0:\n",
    "                leftBracket = stack.pop()\n",
    "            else:\n",
    "                return False\n",
    "            correctBracket = parens[leftBracket]\n",
    "            if s[i] != correctBracket:\n",
    "                return False\n",
    "    return len(stack) == 0\n",
    "                "
   ]
  },
  {
   "cell_type": "code",
   "execution_count": 36,
   "id": "0c726899",
   "metadata": {},
   "outputs": [],
   "source": [
    "def balancedStringSplit(s):\n",
    "    \n",
    "    result = 0\n",
    "    count = 0\n",
    "    \n",
    "    for i in s:\n",
    "        if i == 'L':\n",
    "            count += 1\n",
    "        else:\n",
    "            count -= 1\n",
    "        if count == 0:\n",
    "            result += 1\n",
    "    return result"
   ]
  },
  {
   "cell_type": "code",
   "execution_count": 37,
   "id": "3414e539",
   "metadata": {},
   "outputs": [
    {
     "data": {
      "text/plain": [
       "4"
      ]
     },
     "execution_count": 37,
     "metadata": {},
     "output_type": "execute_result"
    }
   ],
   "source": [
    "s = \"RLRRLLRLRL\"\n",
    "balancedStringSplit(s)"
   ]
  },
  {
   "cell_type": "code",
   "execution_count": 40,
   "id": "9b69b010",
   "metadata": {},
   "outputs": [
    {
     "data": {
      "text/plain": [
       "-1"
      ]
     },
     "execution_count": 40,
     "metadata": {},
     "output_type": "execute_result"
    }
   ],
   "source": [
    "move_dict = {'U':[-1, 0],\n",
    "             'R':[0, 1],\n",
    "             'D':[1, 0],\n",
    "             'L':[0, -1]}\n",
    "\n",
    "start = [0,0]\n",
    "\n",
    "move_dict['U'][0] + start[0]"
   ]
  },
  {
   "cell_type": "markdown",
   "id": "d22be429",
   "metadata": {},
   "source": [
    "# 33. Robot Return to Origin"
   ]
  },
  {
   "cell_type": "code",
   "execution_count": 54,
   "id": "c1e5f4e9",
   "metadata": {},
   "outputs": [],
   "source": [
    "def judgeCircle(moves):\n",
    "    x = y = 0\n",
    "        \n",
    "    for move in moves:\n",
    "        if move == 'U':\n",
    "            y += 1\n",
    "        elif move == 'R':\n",
    "            x += 1\n",
    "        elif move == 'D':\n",
    "            y -= 1\n",
    "        else:\n",
    "            x -= 1\n",
    "\n",
    "    return x == y == 0"
   ]
  },
  {
   "cell_type": "code",
   "execution_count": 55,
   "id": "8010176e",
   "metadata": {},
   "outputs": [
    {
     "data": {
      "text/plain": [
       "True"
      ]
     },
     "execution_count": 55,
     "metadata": {},
     "output_type": "execute_result"
    }
   ],
   "source": [
    "moves = \"UD\"\n",
    "judgeCircle(moves)"
   ]
  },
  {
   "cell_type": "markdown",
   "id": "2e58f610",
   "metadata": {},
   "source": [
    "# 35. First Unique Character in a String"
   ]
  },
  {
   "cell_type": "code",
   "execution_count": 61,
   "id": "dea387d2",
   "metadata": {},
   "outputs": [],
   "source": [
    "from collections import defaultdict, Counter\n",
    "def firstUniqChar(s):\n",
    "    \n",
    "    count = Counter(s)\n",
    "    \n",
    "    for i, val in enumerate(s):\n",
    "        if count[val] == 1:\n",
    "            return i\n",
    "    return -1"
   ]
  },
  {
   "cell_type": "markdown",
   "id": "70610d6d",
   "metadata": {},
   "source": [
    "# 36. Reverse String"
   ]
  },
  {
   "cell_type": "code",
   "execution_count": 62,
   "id": "3cbe3adc",
   "metadata": {},
   "outputs": [],
   "source": [
    "def reverseString(s):\n",
    "    left = 0\n",
    "    right = len(s) - 1\n",
    "    \n",
    "    while left < right:\n",
    "        s[left], s[right] = s[right], s[left]\n",
    "        left += 1\n",
    "        right -= 1\n",
    "    \n",
    "    return s"
   ]
  },
  {
   "cell_type": "code",
   "execution_count": 63,
   "id": "69288bcf",
   "metadata": {},
   "outputs": [
    {
     "data": {
      "text/plain": [
       "['o', 'l', 'l', 'e', 'h']"
      ]
     },
     "execution_count": 63,
     "metadata": {},
     "output_type": "execute_result"
    }
   ],
   "source": [
    "s = [\"h\",\"e\",\"l\",\"l\",\"o\"]\n",
    "reverseString(s)"
   ]
  },
  {
   "cell_type": "markdown",
   "id": "e871ac0c",
   "metadata": {},
   "source": [
    "# 37. Palindrome"
   ]
  },
  {
   "cell_type": "code",
   "execution_count": 68,
   "id": "1d4e26ca",
   "metadata": {},
   "outputs": [],
   "source": [
    "def isPalindrome(s):\n",
    "    left = 0\n",
    "    right = len(s) - 1\n",
    "    \n",
    "    while left < right:\n",
    "        while left < right and not s[left].isalnum():\n",
    "            left += 1\n",
    "        while left < right and not s[right].isalnum():\n",
    "            right -= 1\n",
    "        if s[left].lower() != s[right].lower():\n",
    "            return False\n",
    "        left += 1\n",
    "        right -= 1\n",
    "    return True  "
   ]
  },
  {
   "cell_type": "code",
   "execution_count": 71,
   "id": "70725fc6",
   "metadata": {},
   "outputs": [
    {
     "data": {
      "text/plain": [
       "True"
      ]
     },
     "execution_count": 71,
     "metadata": {},
     "output_type": "execute_result"
    }
   ],
   "source": [
    "s = \"A man, a plan, a canal: Panama\"\n",
    "isPalindrome(s)"
   ]
  },
  {
   "cell_type": "code",
   "execution_count": 72,
   "id": "c49a3924",
   "metadata": {},
   "outputs": [
    {
     "data": {
      "text/plain": [
       "True"
      ]
     },
     "execution_count": 72,
     "metadata": {},
     "output_type": "execute_result"
    }
   ],
   "source": [
    "haystack = \"sadbutsad\"\n",
    "needle = \"sad\"\n",
    "\n",
    "needle in haystack"
   ]
  },
  {
   "cell_type": "markdown",
   "id": "e31fa06d",
   "metadata": {},
   "source": [
    "# 38. Valid parenthesis"
   ]
  },
  {
   "cell_type": "code",
   "execution_count": 1,
   "id": "853514bc",
   "metadata": {},
   "outputs": [],
   "source": [
    "def isValid(s):\n",
    "    \n",
    "    parens = {\n",
    "        '(': ')',\n",
    "        '{': '}',\n",
    "        '[': ']'\n",
    "    }\n",
    "    \n",
    "    stack = []\n",
    "    \n",
    "    for i in range(len(s)):\n",
    "        if s[i] in parens.keys():\n",
    "            stack.append(s[i])\n",
    "        else:\n",
    "            if len(stack) > 0:\n",
    "                leftBracket = stack.pop()\n",
    "            else:\n",
    "                return False\n",
    "            correctBracket = parens[leftBracket]\n",
    "            if s[i] != correctBracket:\n",
    "                return False\n",
    "    return len(stack) == 0"
   ]
  },
  {
   "cell_type": "code",
   "execution_count": 4,
   "id": "fa278dbb",
   "metadata": {},
   "outputs": [
    {
     "data": {
      "text/plain": [
       "True"
      ]
     },
     "execution_count": 4,
     "metadata": {},
     "output_type": "execute_result"
    }
   ],
   "source": [
    "s = \"()[]{}\"\n",
    "isValid(s)"
   ]
  },
  {
   "cell_type": "markdown",
   "id": "1bca0db3",
   "metadata": {},
   "source": [
    "# 39. Roman to Integer"
   ]
  },
  {
   "cell_type": "code",
   "execution_count": 5,
   "id": "12fc3928",
   "metadata": {},
   "outputs": [],
   "source": [
    "def romanToInt(s):\n",
    "    values = {\n",
    "        \"I\": 1,\n",
    "        \"V\": 5,\n",
    "        \"X\": 10,\n",
    "        \"L\": 50,\n",
    "        \"C\": 100,\n",
    "        \"D\": 500,\n",
    "        \"M\": 1000,\n",
    "    }\n",
    "\n",
    "    total = 0\n",
    "    i = 0\n",
    "    \n",
    "    while i < len(s):\n",
    "        if i + 1 < len(s) and (values[s[i+1]] > values[s[i]]):\n",
    "            total += values[s[i+1]] - values[s[i]]\n",
    "            i += 2\n",
    "        else:\n",
    "            total += values[s[i]]\n",
    "            i += 1\n",
    "    return total"
   ]
  },
  {
   "cell_type": "code",
   "execution_count": 6,
   "id": "106105bb",
   "metadata": {},
   "outputs": [
    {
     "data": {
      "text/plain": [
       "1994"
      ]
     },
     "execution_count": 6,
     "metadata": {},
     "output_type": "execute_result"
    }
   ],
   "source": [
    "s = \"MCMXCIV\"\n",
    "romanToInt(s)"
   ]
  },
  {
   "cell_type": "markdown",
   "id": "6ff25a44",
   "metadata": {},
   "source": [
    "# 40. Excel Sheet Column Number"
   ]
  },
  {
   "cell_type": "code",
   "execution_count": 29,
   "id": "909e2dfe",
   "metadata": {},
   "outputs": [],
   "source": [
    "def titleToNumber(columnTitle):\n",
    "    result = 0\n",
    "    \n",
    "    alpha_map = {chr(i + 65): i + 1 for i in range(26)}\n",
    "    \n",
    "    for i in range(len(columnTitle)):\n",
    "        curr_char = columnTitle[len(columnTitle) - 1 - i]\n",
    "        result += (alpha_map[curr_char] * (26**i))\n",
    "    return result"
   ]
  },
  {
   "cell_type": "code",
   "execution_count": 30,
   "id": "21e79267",
   "metadata": {},
   "outputs": [
    {
     "data": {
      "text/plain": [
       "701"
      ]
     },
     "execution_count": 30,
     "metadata": {},
     "output_type": "execute_result"
    }
   ],
   "source": [
    "columnTitle = \"ZY\"\n",
    "titleToNumber(columnTitle)"
   ]
  },
  {
   "cell_type": "code",
   "execution_count": 32,
   "id": "b4ae397e",
   "metadata": {},
   "outputs": [
    {
     "data": {
      "text/plain": [
       "3"
      ]
     },
     "execution_count": 32,
     "metadata": {},
     "output_type": "execute_result"
    }
   ],
   "source": [
    "columnTitle = \"C\"\n",
    "titleToNumber(columnTitle)"
   ]
  },
  {
   "cell_type": "markdown",
   "id": "acb9568d",
   "metadata": {},
   "source": [
    "# 41. Longest Substring Without Repeating Characters"
   ]
  },
  {
   "cell_type": "code",
   "execution_count": 34,
   "id": "17cf34d9",
   "metadata": {},
   "outputs": [],
   "source": [
    "def lengthOfLongestSubstring(s):\n",
    "    if len(s) <= 1:\n",
    "        return len(s)\n",
    "    \n",
    "    longest = 0\n",
    "    left = 0\n",
    "    seenChars = {}\n",
    "    \n",
    "    for right in range(len(s)):\n",
    "        currChar = s[right]\n",
    "        prevSeenChar = -1\n",
    "        if currChar in seenChars.keys():\n",
    "            prevSeenChar = seenChars[currChar]\n",
    "        if prevSeenChar >= left:\n",
    "            left = prevSeenChar + 1\n",
    "        seenChars[currChar] = right\n",
    "        longest = max(longest, right - left + 1)\n",
    "    return longest"
   ]
  },
  {
   "cell_type": "code",
   "execution_count": 35,
   "id": "c7377c91",
   "metadata": {},
   "outputs": [
    {
     "data": {
      "text/plain": [
       "3"
      ]
     },
     "execution_count": 35,
     "metadata": {},
     "output_type": "execute_result"
    }
   ],
   "source": [
    "s = \"pwwkew\"\n",
    "lengthOfLongestSubstring(s)"
   ]
  },
  {
   "cell_type": "code",
   "execution_count": 38,
   "id": "0d451990",
   "metadata": {},
   "outputs": [
    {
     "data": {
      "text/plain": [
       "2"
      ]
     },
     "execution_count": 38,
     "metadata": {},
     "output_type": "execute_result"
    }
   ],
   "source": [
    "s = 'abb'\n",
    "len(set(s))"
   ]
  },
  {
   "cell_type": "code",
   "execution_count": 3,
   "id": "ac513cfe",
   "metadata": {},
   "outputs": [
    {
     "ename": "ValueError",
     "evalue": "invalid literal for int() with base 10: 'abc'",
     "output_type": "error",
     "traceback": [
      "\u001b[0;31m---------------------------------------------------------------------------\u001b[0m",
      "\u001b[0;31mValueError\u001b[0m                                Traceback (most recent call last)",
      "Input \u001b[0;32mIn [3]\u001b[0m, in \u001b[0;36m<cell line: 2>\u001b[0;34m()\u001b[0m\n\u001b[1;32m      1\u001b[0m s \u001b[38;5;241m=\u001b[39m \u001b[38;5;124m'\u001b[39m\u001b[38;5;124mabc\u001b[39m\u001b[38;5;124m'\u001b[39m\n\u001b[0;32m----> 2\u001b[0m \u001b[38;5;28;43mint\u001b[39;49m\u001b[43m(\u001b[49m\u001b[43ms\u001b[49m\u001b[43m)\u001b[49m\n",
      "\u001b[0;31mValueError\u001b[0m: invalid literal for int() with base 10: 'abc'"
     ]
    }
   ],
   "source": [
    "s = 'abc'\n",
    "int(s)"
   ]
  },
  {
   "cell_type": "code",
   "execution_count": null,
   "id": "8c5428cd",
   "metadata": {},
   "outputs": [],
   "source": []
  }
 ],
 "metadata": {
  "kernelspec": {
   "display_name": "Python 3 (ipykernel)",
   "language": "python",
   "name": "python3"
  },
  "language_info": {
   "codemirror_mode": {
    "name": "ipython",
    "version": 3
   },
   "file_extension": ".py",
   "mimetype": "text/x-python",
   "name": "python",
   "nbconvert_exporter": "python",
   "pygments_lexer": "ipython3",
   "version": "3.8.3"
  }
 },
 "nbformat": 4,
 "nbformat_minor": 5
}
