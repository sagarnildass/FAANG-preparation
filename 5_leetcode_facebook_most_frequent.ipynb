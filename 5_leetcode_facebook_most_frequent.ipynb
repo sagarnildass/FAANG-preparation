{
 "cells": [
  {
   "cell_type": "markdown",
   "id": "8ceb99bc",
   "metadata": {},
   "source": [
    "# 1. Minimum Bracket to remove\n",
    "\n",
    "Link - https://leetcode.com/problems/minimum-remove-to-make-valid-parentheses/"
   ]
  },
  {
   "cell_type": "code",
   "execution_count": 19,
   "id": "6005dd8d",
   "metadata": {},
   "outputs": [],
   "source": [
    "import math\n",
    "import random"
   ]
  },
  {
   "cell_type": "code",
   "execution_count": 9,
   "id": "79643c46",
   "metadata": {},
   "outputs": [],
   "source": [
    "def minRemoveToMakeValid(s):\n",
    "    \n",
    "    indexes_to_remove = set()\n",
    "    stack = []\n",
    "    \n",
    "    for i, c in enumerate(s):\n",
    "        if c not in '()':\n",
    "            continue\n",
    "        elif c == '(':\n",
    "            stack.append(c)\n",
    "        elif len(stack) == 0:\n",
    "            indexes_to_remove.add(i)\n",
    "            \n",
    "        else:\n",
    "            stack.pop()\n",
    "            \n",
    "    indexes_to_remove = indexes_to_remove.union(set(stack))\n",
    "    \n",
    "    stringBuilder = []\n",
    "    \n",
    "    for i, c in enumerate(s):\n",
    "        if i not in indexes_to_remove:\n",
    "            stringBuilder.append(c)\n",
    "    \n",
    "    return \"\".join(stringBuilder)"
   ]
  },
  {
   "cell_type": "code",
   "execution_count": 10,
   "id": "fa482b70",
   "metadata": {},
   "outputs": [
    {
     "data": {
      "text/plain": [
       "'lee(t(c)o)de'"
      ]
     },
     "execution_count": 10,
     "metadata": {},
     "output_type": "execute_result"
    }
   ],
   "source": [
    "s = \"lee(t(c)o)de)\"\n",
    "\n",
    "minRemoveToMakeValid(s)"
   ]
  },
  {
   "cell_type": "markdown",
   "id": "29577d8f",
   "metadata": {},
   "source": [
    "# 2. Building with an ocean view\n",
    "\n",
    "Link - https://leetcode.com/problems/buildings-with-an-ocean-view/\n",
    "\n"
   ]
  },
  {
   "cell_type": "code",
   "execution_count": 5,
   "id": "1ef1e9d3",
   "metadata": {},
   "outputs": [],
   "source": [
    "def findBuildings(heights):\n",
    "    max_height = -1\n",
    "    answer = []\n",
    "    \n",
    "    for current in reversed(range(len(heights))):\n",
    "        if max_height < heights[current]:\n",
    "            answer.append(current)\n",
    "            max_height = heights[current]\n",
    "    answer.reverse()\n",
    "    return answer"
   ]
  },
  {
   "cell_type": "code",
   "execution_count": 6,
   "id": "8e409316",
   "metadata": {},
   "outputs": [
    {
     "data": {
      "text/plain": [
       "[0, 2, 3]"
      ]
     },
     "execution_count": 6,
     "metadata": {},
     "output_type": "execute_result"
    }
   ],
   "source": [
    "heights = [4,2,3,1]\n",
    "\n",
    "findBuildings(heights)"
   ]
  },
  {
   "cell_type": "markdown",
   "id": "83a1ab55",
   "metadata": {},
   "source": [
    "# 3. Valid Palindrome - II\n",
    "\n",
    "Link - https://leetcode.com/problems/valid-palindrome-ii/"
   ]
  },
  {
   "cell_type": "code",
   "execution_count": 7,
   "id": "bfdd7282",
   "metadata": {},
   "outputs": [],
   "source": [
    "def validPalindrome(s):\n",
    "    def checkPalindrome(s, i, j):\n",
    "        while i < j:\n",
    "            if s[i] != s[j]:\n",
    "                return False\n",
    "            i += 1\n",
    "            j -= 1\n",
    "        return True\n",
    "    \n",
    "    left = 0\n",
    "    right = len(s) - 1\n",
    "    \n",
    "    while left < right:\n",
    "        if s[left] != s[right]:\n",
    "            return checkPalindrome(s, left, right - 1) or checkPalindrome(s, left + 1, right)\n",
    "        left += 1\n",
    "        right -= 1\n",
    "    return True"
   ]
  },
  {
   "cell_type": "code",
   "execution_count": 11,
   "id": "d4be48a9",
   "metadata": {},
   "outputs": [
    {
     "data": {
      "text/plain": [
       "True"
      ]
     },
     "execution_count": 11,
     "metadata": {},
     "output_type": "execute_result"
    }
   ],
   "source": [
    "s = \"abca\"\n",
    "validPalindrome(s)"
   ]
  },
  {
   "cell_type": "markdown",
   "id": "d735246a",
   "metadata": {},
   "source": [
    "# 4. Dot Product of two Sparse vectors\n",
    "\n",
    "Link - https://leetcode.com/problems/dot-product-of-two-sparse-vectors/"
   ]
  },
  {
   "cell_type": "code",
   "execution_count": 14,
   "id": "e8b79532",
   "metadata": {},
   "outputs": [],
   "source": [
    "class SparseVector:\n",
    "    def __init__(self, nums):\n",
    "        self.nums = nums\n",
    "\n",
    "    # Return the dotProduct of two sparse vectors\n",
    "    def dotProduct(self, vec: 'SparseVector') -> int:\n",
    "        left = 0\n",
    "        right = len(vec.nums)\n",
    "        sum = 0\n",
    "        \n",
    "        while left < right:\n",
    "            if self.nums[left] == 0 or vec.nums[left] == 0:\n",
    "                left += 1\n",
    "            else:\n",
    "                sum += self.nums[left] * vec.nums[left]\n",
    "                left += 1\n",
    "        return sum\n",
    "            \n",
    "\n",
    "nums1 = [1,0,0,2,3]\n",
    "nums2 = [0,3,0,4,0]\n",
    "v1 = SparseVector(nums1)\n",
    "v2 = SparseVector(nums2)\n",
    "ans = v1.dotProduct(v2)"
   ]
  },
  {
   "cell_type": "code",
   "execution_count": 15,
   "id": "e1719a99",
   "metadata": {},
   "outputs": [
    {
     "data": {
      "text/plain": [
       "8"
      ]
     },
     "execution_count": 15,
     "metadata": {},
     "output_type": "execute_result"
    }
   ],
   "source": [
    "ans"
   ]
  },
  {
   "cell_type": "markdown",
   "id": "7abf2d64",
   "metadata": {},
   "source": [
    "# 5. Alien Dictionary\n",
    "\n",
    "Link - https://leetcode.com/problems/verifying-an-alien-dictionary/"
   ]
  },
  {
   "cell_type": "code",
   "execution_count": 16,
   "id": "5a8244b8",
   "metadata": {},
   "outputs": [],
   "source": [
    "def isAlienSorted(words, order):\n",
    "    order_hash = {}\n",
    "\n",
    "    for index, value in enumerate(order):\n",
    "        order_hash[value] = index\n",
    "\n",
    "\n",
    "    for i in range(len(words) - 1):\n",
    "        for j in range(len(words[i])):\n",
    "            if j >= len(words[i+1]):\n",
    "                return False\n",
    "\n",
    "            if words[i][j] != words[i+1][j]:\n",
    "                if order_hash[words[i][j]] > order_hash[words[i+1][j]]:\n",
    "                    return False\n",
    "                break\n",
    "    return True"
   ]
  },
  {
   "cell_type": "code",
   "execution_count": 17,
   "id": "d41d72d4",
   "metadata": {},
   "outputs": [
    {
     "data": {
      "text/plain": [
       "True"
      ]
     },
     "execution_count": 17,
     "metadata": {},
     "output_type": "execute_result"
    }
   ],
   "source": [
    "words = [\"hello\",\"leetcode\"]\n",
    "order = \"hlabcdefgijkmnopqrstuvwxyz\"\n",
    "isAlienSorted(words, order)"
   ]
  },
  {
   "cell_type": "code",
   "execution_count": 18,
   "id": "5a16e29b",
   "metadata": {},
   "outputs": [],
   "source": [
    "class Node:\n",
    "    def __init__(self, val: int):\n",
    "        self.left = None\n",
    "        self.right = None\n",
    "        self.val = val\n",
    "\n",
    "    def __repr__(self):\n",
    "        return str(self.val)\n",
    "\n",
    "    def insert_node(self, val):\n",
    "        if self.val is not None:\n",
    "            if val < self.val:\n",
    "                if self.left is None:\n",
    "                    self.left = Node(val)\n",
    "                else:\n",
    "                    self.left.insert_node(val)\n",
    "            elif val > self.val:\n",
    "                if self.right is None:\n",
    "                    self.right = Node(val)\n",
    "                else:\n",
    "                    self.right.insert_node(val)\n",
    "\n",
    "    @staticmethod\n",
    "    def insert_nodes(vals: list, root):\n",
    "        for i in vals:\n",
    "            root.insert_node(i)\n",
    "            \n",
    "    def bfs(self, root=None):\n",
    "        if root is None:\n",
    "            return \n",
    "        \n",
    "        result = []\n",
    "        queue = [root]\n",
    "        \n",
    "        while len(queue) > 0:\n",
    "            currNode = queue.pop(0)\n",
    "            result.append(currNode.val)\n",
    "            if currNode.left is not None:\n",
    "                queue.append(currNode.left)\n",
    "            if currNode.right is not None:\n",
    "                queue.append(currNode.right)\n",
    "        return result\n",
    "    \n",
    "    def DFSInorder(self, root=None):\n",
    "        return self.traverseInOrder(root, [])\n",
    "    \n",
    "    def DFSPostOrder(self, root=None):\n",
    "        return self.traversePostOrder(root, [])\n",
    "    \n",
    "    def DFSPreOrder(self, root=None):\n",
    "        return self.traversePreOrder(root, [])\n",
    "    \n",
    "    def traverseInOrder(self, node, data):\n",
    "        if node.left is not None:\n",
    "            node.traverseInOrder(node.left, data)\n",
    "        data.append(node.val)\n",
    "        \n",
    "        if node.right is not None:\n",
    "            node.traverseInOrder(node.right, data)\n",
    "    \n",
    "    def traversePostOrder(self, node, data):\n",
    "        \n",
    "        if node.left is not None:\n",
    "            node.traversePostOrder(node.left, data)\n",
    "              \n",
    "        if node.right is not None:\n",
    "            node.traversePostOrder(node.right, data)\n",
    "        #print(data)\n",
    "        data.append(node.val)\n",
    "        return data\n",
    "    \n",
    "    def traversePreOrder(self, node, data):\n",
    "        data.append(node.val)\n",
    "        if node.left is not None:\n",
    "            node.traversePreOrder(node.left, data)\n",
    "        \n",
    "        \n",
    "        if node.right is not None:\n",
    "            node.traversePreOrder(node.right, data)\n",
    "        #print(data)\n",
    "        return data"
   ]
  },
  {
   "cell_type": "code",
   "execution_count": 25,
   "id": "516a7692",
   "metadata": {},
   "outputs": [],
   "source": [
    "#       9\n",
    "#    4     20\n",
    "#  1  6  15   170\n",
    "\n",
    "def run():\n",
    "    root = Node(9)\n",
    "    root.insert_nodes([4,6,20,170,15,1], root)\n",
    "    bfs_result = root.bfs(root=root)\n",
    "    dfs_inorder = root.DFSInorder(root)\n",
    "    dfs_preorder = root.DFSPreOrder(root)\n",
    "    dfs_postorder = root.DFSPostOrder(root)\n",
    "    return root, bfs_result, dfs_inorder, dfs_preorder, dfs_postorder"
   ]
  },
  {
   "cell_type": "code",
   "execution_count": 26,
   "id": "a73a08df",
   "metadata": {},
   "outputs": [],
   "source": [
    "root, bfs_result, dfs_inorder, dfs_preorder, dfs_postorder = run()"
   ]
  },
  {
   "cell_type": "markdown",
   "id": "457c0351",
   "metadata": {},
   "source": [
    "# 6. Lowest Common Ancestor of a Binary Tree III\n",
    "\n",
    "Link - https://leetcode.com/problems/lowest-common-ancestor-of-a-binary-tree-iii/"
   ]
  },
  {
   "cell_type": "code",
   "execution_count": 21,
   "id": "36d02c1b",
   "metadata": {},
   "outputs": [],
   "source": [
    "def lowestCommonAncestor(p, q):\n",
    "    p1, p2 = p, q\n",
    "    \n",
    "    while p1 != p2:\n",
    "        if p1.parent is not None:\n",
    "            p1 = p1.parent\n",
    "        else:\n",
    "            p1 = q\n",
    "        \n",
    "        if p2.parent is not None:\n",
    "            p2 = p2.parent\n",
    "        else:\n",
    "            p2 = p\n",
    "    return p1"
   ]
  },
  {
   "cell_type": "markdown",
   "id": "577e9168",
   "metadata": {},
   "source": [
    "# 7. Range Sum of BST\n",
    "\n",
    "Link - https://leetcode.com/problems/range-sum-of-bst/"
   ]
  },
  {
   "cell_type": "code",
   "execution_count": 24,
   "id": "e5a80552",
   "metadata": {},
   "outputs": [],
   "source": [
    "def rangeSumBST(root, low, high):\n",
    "    \n",
    "    result = 0\n",
    "    queue = [root]\n",
    "    \n",
    "    while len(queue) > 0:\n",
    "        currNode = queue.pop(0)\n",
    "        if currNode.val >= low and currNode.val <= high:\n",
    "            result += currNode.val\n",
    "        if currNode.left is not None:\n",
    "            queue.append(currNode.left)\n",
    "        if currNode.right is not None:\n",
    "            queue.append(currNode.right)\n",
    "    return result"
   ]
  },
  {
   "cell_type": "code",
   "execution_count": 27,
   "id": "7c268b28",
   "metadata": {},
   "outputs": [
    {
     "data": {
      "text/plain": [
       "30"
      ]
     },
     "execution_count": 27,
     "metadata": {},
     "output_type": "execute_result"
    }
   ],
   "source": [
    "rangeSumBST(root, 5, 15)"
   ]
  },
  {
   "cell_type": "markdown",
   "id": "c7852e23",
   "metadata": {},
   "source": [
    "# 8. Valid Word Abbreviation\n",
    "\n",
    "Link - https://leetcode.com/problems/valid-word-abbreviation/"
   ]
  },
  {
   "cell_type": "code",
   "execution_count": 30,
   "id": "47e1e678",
   "metadata": {},
   "outputs": [],
   "source": [
    "import re\n",
    "def validWordAbbreviation(word, abbr):\n",
    "    return bool(re.match(re.sub('([1-9]\\d*)', r'.{\\1}', abbr) + '$', word))"
   ]
  },
  {
   "cell_type": "code",
   "execution_count": 31,
   "id": "ffaab568",
   "metadata": {},
   "outputs": [
    {
     "data": {
      "text/plain": [
       "True"
      ]
     },
     "execution_count": 31,
     "metadata": {},
     "output_type": "execute_result"
    }
   ],
   "source": [
    "word = \"internationalization\" \n",
    "abbr = \"i12iz4n\"\n",
    "\n",
    "validWordAbbreviation(word, abbr)"
   ]
  },
  {
   "cell_type": "markdown",
   "id": "58d94a14",
   "metadata": {},
   "source": [
    "# 9. Leftmost Column with at Least a One\n",
    "\n",
    "Link - https://leetcode.com/problems/leftmost-column-with-at-least-a-one/"
   ]
  },
  {
   "cell_type": "code",
   "execution_count": 32,
   "id": "f951cf0f",
   "metadata": {},
   "outputs": [],
   "source": [
    "def leftMostColumnWithOne(binaryMatrix: 'BinaryMatrix'):\n",
    "    rows, cols = binaryMatrix.dimensions()\n",
    "    smallest_index = cols\n",
    "\n",
    "    for row in range(rows):\n",
    "        lo = 0\n",
    "        hi = cols - 1\n",
    "\n",
    "        while lo < hi:\n",
    "            mid = math.floor((lo+hi)/2)\n",
    "            if binaryMatrix.get(row, mid) == 0:\n",
    "                lo = mid + 1\n",
    "            else:\n",
    "                hi = mid\n",
    "\n",
    "        if binaryMatrix.get(row, lo) == 1:\n",
    "            smallest_index = min(smallest_index, lo)\n",
    "\n",
    "\n",
    "    if smallest_index == cols:\n",
    "        return -1\n",
    "    else:\n",
    "        return smallest_index"
   ]
  },
  {
   "cell_type": "markdown",
   "id": "88e46d22",
   "metadata": {},
   "source": [
    "# 10. Nested List weighted Sum\n",
    "\n",
    "Link - https://leetcode.com/problems/nested-list-weight-sum/solution/"
   ]
  },
  {
   "cell_type": "code",
   "execution_count": 34,
   "id": "49043029",
   "metadata": {},
   "outputs": [],
   "source": [
    "def depthSum(nestedList):\n",
    "    queue = [nestedList]\n",
    "    \n",
    "    depth = 1\n",
    "    total = 0\n",
    "    \n",
    "    while len(queue) > 0:\n",
    "        for i in range(len(queue)):\n",
    "            currNode = queue.pop(0)\n",
    "            if currNode.isInteger():\n",
    "                total += currNode.getInteger()* depth\n",
    "            else:\n",
    "                for element in currNode.getList():\n",
    "                    queue.append(element)\n",
    "        depth += 1\n",
    "    return total\n",
    "            "
   ]
  },
  {
   "cell_type": "code",
   "execution_count": 11,
   "id": "ffe6eeb7",
   "metadata": {},
   "outputs": [
    {
     "data": {
      "text/plain": [
       "5"
      ]
     },
     "execution_count": 11,
     "metadata": {},
     "output_type": "execute_result"
    }
   ],
   "source": [
    "4 + (7 - 4) // 2"
   ]
  },
  {
   "cell_type": "code",
   "execution_count": 15,
   "id": "48c21b17",
   "metadata": {},
   "outputs": [
    {
     "data": {
      "text/plain": [
       "1"
      ]
     },
     "execution_count": 15,
     "metadata": {},
     "output_type": "execute_result"
    }
   ],
   "source": [
    "math.floor((7-4)/2)"
   ]
  },
  {
   "cell_type": "markdown",
   "id": "974cd721",
   "metadata": {},
   "source": [
    "# 11. Random pick with weight\n",
    "\n",
    "Link - https://leetcode.com/problems/random-pick-with-weight/"
   ]
  },
  {
   "cell_type": "code",
   "execution_count": 17,
   "id": "0d462c04",
   "metadata": {},
   "outputs": [],
   "source": [
    "class Solution:\n",
    "\n",
    "    def __init__(self, w):\n",
    "        self.prefix_sums = []\n",
    "        prefix_sum = 0\n",
    "        \n",
    "        for weight in w:\n",
    "            prefix_sum += weight\n",
    "            self.prefix_sums.append(prefix_sum)\n",
    "        \n",
    "        self.total_sum = prefix_sum\n",
    "            \n",
    "\n",
    "    def pickIndex(self) -> int:\n",
    "        target = self.total_sum * random.random()\n",
    "        \n",
    "        low = 0\n",
    "        high = len(self.prefix_sums)\n",
    "        \n",
    "        while low < high:\n",
    "            mid = math.floor((high+low)/2)\n",
    "            if target > self.prefix_sums[mid]:\n",
    "                low = mid + 1\n",
    "            else:\n",
    "                high = mid\n",
    "        return low"
   ]
  },
  {
   "cell_type": "code",
   "execution_count": 20,
   "id": "bdba5526",
   "metadata": {},
   "outputs": [
    {
     "data": {
      "text/plain": [
       "0"
      ]
     },
     "execution_count": 20,
     "metadata": {},
     "output_type": "execute_result"
    }
   ],
   "source": [
    "# Your Solution object will be instantiated and called as such:\n",
    "solution = Solution([1, 3])\n",
    "solution.pickIndex()"
   ]
  },
  {
   "cell_type": "code",
   "execution_count": 21,
   "id": "83258e7d",
   "metadata": {},
   "outputs": [
    {
     "data": {
      "text/plain": [
       "1"
      ]
     },
     "execution_count": 21,
     "metadata": {},
     "output_type": "execute_result"
    }
   ],
   "source": [
    "solution.pickIndex()"
   ]
  },
  {
   "cell_type": "code",
   "execution_count": 23,
   "id": "5dddb9f1",
   "metadata": {},
   "outputs": [
    {
     "data": {
      "text/plain": [
       "0"
      ]
     },
     "execution_count": 23,
     "metadata": {},
     "output_type": "execute_result"
    }
   ],
   "source": [
    "solution.pickIndex()"
   ]
  },
  {
   "cell_type": "code",
   "execution_count": 24,
   "id": "b7376372",
   "metadata": {},
   "outputs": [
    {
     "data": {
      "text/plain": [
       "1"
      ]
     },
     "execution_count": 24,
     "metadata": {},
     "output_type": "execute_result"
    }
   ],
   "source": [
    "solution.pickIndex()"
   ]
  },
  {
   "cell_type": "code",
   "execution_count": 25,
   "id": "36b210d7",
   "metadata": {},
   "outputs": [
    {
     "data": {
      "text/plain": [
       "1"
      ]
     },
     "execution_count": 25,
     "metadata": {},
     "output_type": "execute_result"
    }
   ],
   "source": [
    "solution.pickIndex()"
   ]
  },
  {
   "cell_type": "code",
   "execution_count": 26,
   "id": "6f7ff2c9",
   "metadata": {},
   "outputs": [
    {
     "data": {
      "text/plain": [
       "1"
      ]
     },
     "execution_count": 26,
     "metadata": {},
     "output_type": "execute_result"
    }
   ],
   "source": [
    "solution.pickIndex()"
   ]
  },
  {
   "cell_type": "markdown",
   "id": "bc7b667b",
   "metadata": {},
   "source": [
    "# 12. Minimum Add to Make Parentheses Valid\n",
    "\n",
    "Link - https://leetcode.com/problems/minimum-add-to-make-parentheses-valid/"
   ]
  },
  {
   "cell_type": "code",
   "execution_count": 35,
   "id": "5f1e1a17",
   "metadata": {},
   "outputs": [],
   "source": [
    "def minAddToMakeValid(s):\n",
    "    ans = balance = 0\n",
    "    for symbol in s:\n",
    "        if symbol == '(':\n",
    "            balance += 1\n",
    "        else:\n",
    "            balance -= 1\n",
    "        if balance == -1:\n",
    "            ans += 1\n",
    "            balance += 1\n",
    "    return ans + balance"
   ]
  },
  {
   "cell_type": "code",
   "execution_count": 36,
   "id": "95b76112",
   "metadata": {},
   "outputs": [
    {
     "data": {
      "text/plain": [
       "1"
      ]
     },
     "execution_count": 36,
     "metadata": {},
     "output_type": "execute_result"
    }
   ],
   "source": [
    "s = \"())\"\n",
    "minAddToMakeValid(s)"
   ]
  },
  {
   "cell_type": "code",
   "execution_count": 37,
   "id": "97a73f09",
   "metadata": {},
   "outputs": [
    {
     "data": {
      "text/plain": [
       "3"
      ]
     },
     "execution_count": 37,
     "metadata": {},
     "output_type": "execute_result"
    }
   ],
   "source": [
    "s = \"(((\"\n",
    "minAddToMakeValid(s)"
   ]
  },
  {
   "cell_type": "markdown",
   "id": "18b5539b",
   "metadata": {},
   "source": [
    "# 13. Simplify Path\n",
    "\n",
    "Link - https://leetcode.com/problems/simplify-path/"
   ]
  },
  {
   "cell_type": "code",
   "execution_count": 41,
   "id": "caad2662",
   "metadata": {},
   "outputs": [],
   "source": [
    "def simplifyPath(path):\n",
    "    stack = []\n",
    "    \n",
    "    for portion in path.split('/'):\n",
    "        if portion == '..':\n",
    "            if len(stack) > 0:\n",
    "                stack.pop()\n",
    "        elif portion == '.' or len(portion) == 0:\n",
    "            continue\n",
    "        else:\n",
    "            stack.append(portion)\n",
    "    \n",
    "    return \"/\" + \"/\".join(stack)"
   ]
  },
  {
   "cell_type": "code",
   "execution_count": 42,
   "id": "01ad6898",
   "metadata": {},
   "outputs": [
    {
     "data": {
      "text/plain": [
       "'/home'"
      ]
     },
     "execution_count": 42,
     "metadata": {},
     "output_type": "execute_result"
    }
   ],
   "source": [
    "path = \"/home/\"\n",
    "simplifyPath(path)"
   ]
  },
  {
   "cell_type": "code",
   "execution_count": 43,
   "id": "5a556f52",
   "metadata": {},
   "outputs": [
    {
     "data": {
      "text/plain": [
       "'/'"
      ]
     },
     "execution_count": 43,
     "metadata": {},
     "output_type": "execute_result"
    }
   ],
   "source": [
    "path = \"/../\"\n",
    "simplifyPath(path)"
   ]
  },
  {
   "cell_type": "code",
   "execution_count": 44,
   "id": "e805762f",
   "metadata": {},
   "outputs": [
    {
     "data": {
      "text/plain": [
       "'/home/foo'"
      ]
     },
     "execution_count": 44,
     "metadata": {},
     "output_type": "execute_result"
    }
   ],
   "source": [
    "path = \"/home//foo/\"\n",
    "simplifyPath(path)"
   ]
  },
  {
   "cell_type": "markdown",
   "id": "166dc2e2",
   "metadata": {},
   "source": [
    "# 14. Subarray Sum Equals K\n",
    "\n",
    "Link - https://leetcode.com/problems/subarray-sum-equals-k/\n",
    "\n",
    "First of all, the basic idea behind this code is that, whenever sums has increased by a value of k, we've found a subarray of sums=k.\n",
    "I'll also explain why we need to initialise 0 in the hashmap.\n",
    "Example: Let's say our elements are [1,2,1,3] and k = 3.\n",
    "and our corresponding running sums = [1,3,4,7]\n",
    "Now, if you notice the running sums array, from 1->4, there is increase of k and from 4->7, there is an increase of k. So, we've found 2 subarrays of sums=k.\n",
    "\n",
    "But, if you look at the original array, there are 3 subarrays of sums==k. Now, you'll understand why 0 comes in the picture.\n",
    "\n",
    "In the above example, 4-1=k and 7-4=k. Hence, we concluded that there are 2 subarrays.\n",
    "However, if sums==k, it should've been 3-0=k. But 0 is not present in the array. To account for this case, we include the 0.\n",
    "Now the modified sums array will look like [0,1,3,4,7]. Now, try to see for the increase of k.\n",
    "\n",
    "0->3\n",
    "\n",
    "1->4\n",
    "\n",
    "4->7\n",
    "\n",
    "Hence, 3 sub arrays of sums=k\n"
   ]
  },
  {
   "cell_type": "code",
   "execution_count": 68,
   "id": "9938e110",
   "metadata": {},
   "outputs": [],
   "source": [
    "def subarraySum(nums, k):\n",
    "    count = 0\n",
    "    sums = 0\n",
    "    d = dict()\n",
    "    d[0] = 1\n",
    "    \n",
    "    for i in range(len(nums)):\n",
    "        sums += nums[i]\n",
    "        count += d.get(sums - k, 0)\n",
    "        d[sums] = d.get(sums, 0) + 1\n",
    "    return count\n",
    "    "
   ]
  },
  {
   "cell_type": "code",
   "execution_count": 69,
   "id": "e2b6cafa",
   "metadata": {},
   "outputs": [
    {
     "data": {
      "text/plain": [
       "4"
      ]
     },
     "execution_count": 69,
     "metadata": {},
     "output_type": "execute_result"
    }
   ],
   "source": [
    "subarraySum([1,2,1,2,1], 3)"
   ]
  },
  {
   "cell_type": "markdown",
   "id": "adbed295",
   "metadata": {},
   "source": [
    "# 15. Lowest Common Ancestor of a Binary Tree\n",
    "\n",
    "Link - https://leetcode.com/problems/lowest-common-ancestor-of-a-binary-tree/"
   ]
  },
  {
   "cell_type": "code",
   "execution_count": null,
   "id": "68e6c190",
   "metadata": {},
   "outputs": [],
   "source": []
  }
 ],
 "metadata": {
  "kernelspec": {
   "display_name": "Python 3 (ipykernel)",
   "language": "python",
   "name": "python3"
  },
  "language_info": {
   "codemirror_mode": {
    "name": "ipython",
    "version": 3
   },
   "file_extension": ".py",
   "mimetype": "text/x-python",
   "name": "python",
   "nbconvert_exporter": "python",
   "pygments_lexer": "ipython3",
   "version": "3.8.3"
  }
 },
 "nbformat": 4,
 "nbformat_minor": 5
}
