{
 "cells": [
  {
   "cell_type": "markdown",
   "id": "970965a7",
   "metadata": {},
   "source": [
    "# A) Arrays\n",
    "\n",
    "# 1. String has unique characters.\n",
    "\n"
   ]
  },
  {
   "cell_type": "code",
   "execution_count": 2,
   "id": "665a9000",
   "metadata": {},
   "outputs": [],
   "source": [
    "from collections import Counter\n",
    "\n",
    "# With additional data structures \n",
    "# T --> O(n)\n",
    "# S --> O(n)\n",
    "\n",
    "def hasUnique(s):\n",
    "    \n",
    "    char_counter = Counter(s)\n",
    "    \n",
    "    for key in char_counter.keys():\n",
    "        if char_counter[key] > 1:\n",
    "            return False\n",
    "    return True\n",
    "    \n",
    "    "
   ]
  },
  {
   "cell_type": "code",
   "execution_count": 19,
   "id": "9bd284a7",
   "metadata": {},
   "outputs": [
    {
     "name": "stdout",
     "output_type": "stream",
     "text": [
      "d\n"
     ]
    },
    {
     "data": {
      "text/plain": [
       "False"
      ]
     },
     "execution_count": 19,
     "metadata": {},
     "output_type": "execute_result"
    }
   ],
   "source": [
    "s = 'abcdd'\n",
    "\n",
    "hasUnique(s)"
   ]
  },
  {
   "cell_type": "code",
   "execution_count": 17,
   "id": "40c5f326",
   "metadata": {},
   "outputs": [],
   "source": [
    "# No additional data structures \n",
    "# T --> O(n^2)\n",
    "# S --> O(1)\n",
    "\n",
    "def hasUnique(s):\n",
    "    for i in range(len(s)):\n",
    "        for j in range(1, len(s)):\n",
    "            if i != j:\n",
    "                if s[i] == s[j]:\n",
    "                    return False\n",
    "    return True"
   ]
  },
  {
   "cell_type": "markdown",
   "id": "8c54f9ce",
   "metadata": {},
   "source": [
    "# 2. Check permutations"
   ]
  },
  {
   "cell_type": "code",
   "execution_count": 20,
   "id": "494c95bc",
   "metadata": {},
   "outputs": [],
   "source": [
    "# T --> O(NlogN)\n",
    "# S --> O(1)\n",
    "def check_permutations(s, t):\n",
    "    return sorted(s) == sorted(t)"
   ]
  },
  {
   "cell_type": "code",
   "execution_count": 23,
   "id": "744cc003",
   "metadata": {},
   "outputs": [
    {
     "data": {
      "text/plain": [
       "True"
      ]
     },
     "execution_count": 23,
     "metadata": {},
     "output_type": "execute_result"
    }
   ],
   "source": [
    "s = 'abca'\n",
    "t = 'caba'\n",
    "\n",
    "check_permutations(s, t)"
   ]
  },
  {
   "cell_type": "markdown",
   "id": "5a19618f",
   "metadata": {},
   "source": [
    "# 3. URLify"
   ]
  },
  {
   "cell_type": "code",
   "execution_count": null,
   "id": "e516929f",
   "metadata": {},
   "outputs": [],
   "source": [
    "def urlify(s):\n",
    "    \n",
    "    "
   ]
  }
 ],
 "metadata": {
  "kernelspec": {
   "display_name": "Python 3 (ipykernel)",
   "language": "python",
   "name": "python3"
  },
  "language_info": {
   "codemirror_mode": {
    "name": "ipython",
    "version": 3
   },
   "file_extension": ".py",
   "mimetype": "text/x-python",
   "name": "python",
   "nbconvert_exporter": "python",
   "pygments_lexer": "ipython3",
   "version": "3.8.3"
  }
 },
 "nbformat": 4,
 "nbformat_minor": 5
}
