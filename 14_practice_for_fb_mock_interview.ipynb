{
 "cells": [
  {
   "cell_type": "markdown",
   "id": "4f3b1a0b",
   "metadata": {},
   "source": [
    "# A) FB Internal questions\n",
    "\n",
    "# 1. Reverse to make equal"
   ]
  },
  {
   "cell_type": "code",
   "execution_count": 6,
   "id": "61e7cae7",
   "metadata": {},
   "outputs": [],
   "source": [
    "def are_they_equal(array_a, array_b):\n",
    "    quicksort(array_a, 0, len(array_a) - 1)\n",
    "    quicksort(array_b, 0, len(array_b) - 1)\n",
    "    return array_a == array_b\n",
    "\n",
    "def partition(nums, left, right):\n",
    "    partitionIndex = left\n",
    "    pivotElement = nums[right]\n",
    "    \n",
    "    for j in range(left, right):\n",
    "        if nums[j] <= pivotElement:\n",
    "            nums[partitionIndex], nums[j] = nums[j], nums[partitionIndex]\n",
    "            partitionIndex += 1\n",
    "    nums[partitionIndex], nums[right] = nums[right], nums[partitionIndex]\n",
    "    return partitionIndex\n",
    "\n",
    "def quicksort(nums, left, right):\n",
    "    if left < right:\n",
    "        partitionIndex = partition(nums, left, right)\n",
    "        quicksort(nums, left, partitionIndex - 1)\n",
    "        quicksort(nums, partitionIndex + 1, right)"
   ]
  },
  {
   "cell_type": "code",
   "execution_count": 7,
   "id": "ae01b89b",
   "metadata": {},
   "outputs": [
    {
     "data": {
      "text/plain": [
       "True"
      ]
     },
     "execution_count": 7,
     "metadata": {},
     "output_type": "execute_result"
    }
   ],
   "source": [
    "A = [1, 2, 3, 4]\n",
    "B = [1, 4, 3, 2]\n",
    "\n",
    "are_they_equal(A, B)"
   ]
  },
  {
   "cell_type": "markdown",
   "id": "6edae81a",
   "metadata": {},
   "source": [
    "# 2. Passing yearbooks"
   ]
  },
  {
   "cell_type": "code",
   "execution_count": null,
   "id": "95138139",
   "metadata": {},
   "outputs": [],
   "source": []
  }
 ],
 "metadata": {
  "kernelspec": {
   "display_name": "Python 3 (ipykernel)",
   "language": "python",
   "name": "python3"
  },
  "language_info": {
   "codemirror_mode": {
    "name": "ipython",
    "version": 3
   },
   "file_extension": ".py",
   "mimetype": "text/x-python",
   "name": "python",
   "nbconvert_exporter": "python",
   "pygments_lexer": "ipython3",
   "version": "3.8.3"
  }
 },
 "nbformat": 4,
 "nbformat_minor": 5
}
