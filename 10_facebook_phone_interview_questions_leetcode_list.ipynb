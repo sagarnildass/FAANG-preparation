{
 "cells": [
  {
   "cell_type": "markdown",
   "id": "aea4f38f",
   "metadata": {},
   "source": [
    "# 1. Product of array except self\n",
    "\n",
    "https://leetcode.com/problems/product-of-array-except-self/\n",
    "\n",
    "[1,2,3,4]\n",
    "\n",
    "[1,1,2,6]\n",
    "\n",
    "[24,12,4,1]"
   ]
  },
  {
   "cell_type": "code",
   "execution_count": 16,
   "id": "8662e362",
   "metadata": {},
   "outputs": [],
   "source": [
    "def productExceptSelf(nums):\n",
    "    \n",
    "    n = len(nums)\n",
    "    \n",
    "    L, R, answer = [0]*n, [0]*n, [0]*n\n",
    "    \n",
    "    L[0] = 1\n",
    "    \n",
    "    for i in range(1, n):\n",
    "        L[i] = L[i - 1] * nums[i - 1]\n",
    "    \n",
    "    R[n - 1] = 1\n",
    "    \n",
    "    for i in reversed(range(n-1)):\n",
    "        R[i] = R[i + 1] * nums[i + 1]\n",
    "    \n",
    "    for i in range(n):\n",
    "        answer[i] = L[i] * R[i]\n",
    "    \n",
    "    return answer"
   ]
  },
  {
   "cell_type": "code",
   "execution_count": 12,
   "id": "e941c7ed",
   "metadata": {},
   "outputs": [],
   "source": [
    "def productExceptSelf(nums):\n",
    "    n = len(nums)\n",
    "\n",
    "    L, R, ans = [0]*n, [0]*n, [0]*n\n",
    "\n",
    "    L[0] = 1\n",
    "\n",
    "    for i in range(1, n):\n",
    "        L[i] = L[i - 1] * nums[i - 1]\n",
    "\n",
    "\n",
    "    R[n - 1] = 1\n",
    "\n",
    "    for i in reversed(range(n-1)):\n",
    "        R[i] = R[i + i] * nums[i + 1]\n",
    "\n",
    "    for i in range(n):\n",
    "        ans[i] = L[i] * R[i]\n",
    "\n",
    "    return ans"
   ]
  },
  {
   "cell_type": "code",
   "execution_count": 17,
   "id": "e41aca40",
   "metadata": {},
   "outputs": [
    {
     "data": {
      "text/plain": [
       "[24, 12, 8, 6]"
      ]
     },
     "execution_count": 17,
     "metadata": {},
     "output_type": "execute_result"
    }
   ],
   "source": [
    "nums = [1,2,3,4]\n",
    "productExceptSelf(nums)"
   ]
  },
  {
   "cell_type": "markdown",
   "id": "84ea34bd",
   "metadata": {},
   "source": [
    "# 2.  Leftmost Column with at Least a One\n",
    "\n",
    "https://leetcode.com/problems/leftmost-column-with-at-least-a-one/"
   ]
  },
  {
   "cell_type": "code",
   "execution_count": 5,
   "id": "a251d5d1",
   "metadata": {},
   "outputs": [],
   "source": [
    "def leftMostColumnWithOne(binaryMatrix):\n",
    "    rows, cols = binaryMatrix.dimensions()\n",
    "    smallest_index = cols\n",
    "    \n",
    "    for row in range(rows):\n",
    "        \n",
    "        low = 0\n",
    "        high = cols - 1\n",
    "        \n",
    "        while low < high:\n",
    "            mid = math.floor((low + high)/2)\n",
    "            \n",
    "            if binaryMatrix.get(row, mid) == 0:\n",
    "                low = mid + 1\n",
    "            else:\n",
    "                high = mid\n",
    "                \n",
    "        if binaryMatrix.get(row, low) == 1:\n",
    "            smallest_index = min(smallest_index, low)\n",
    "        \n",
    "        return -1 if smallest_index == cols else smallest_index\n",
    "        "
   ]
  },
  {
   "cell_type": "markdown",
   "id": "64c177e3",
   "metadata": {},
   "source": [
    "# 3. Subarray sum equals k\n",
    "\n",
    "https://leetcode.com/problems/subarray-sum-equals-k/"
   ]
  },
  {
   "cell_type": "code",
   "execution_count": 28,
   "id": "fe09ba5c",
   "metadata": {},
   "outputs": [],
   "source": [
    "from collections import defaultdict\n",
    "\n",
    "def subarraySum(nums, k):\n",
    "    n = len(nums)\n",
    "    \n",
    "    count = 0\n",
    "    dict_cumsum = defaultdict(int)\n",
    "    curr_sum = 0\n",
    "    \n",
    "    for i in range(len(nums)):\n",
    "        curr_sum += nums[i]\n",
    "        \n",
    "        if curr_sum == k:\n",
    "            count += 1\n",
    "        \n",
    "        if curr_sum - k in dict_cumsum.keys():\n",
    "            count += dict_cumsum[curr_sum - k]\n",
    "        \n",
    "        dict_cumsum[curr_sum] += 1\n",
    "    \n",
    "    return count"
   ]
  },
  {
   "cell_type": "code",
   "execution_count": 29,
   "id": "ee5d0199",
   "metadata": {},
   "outputs": [
    {
     "data": {
      "text/plain": [
       "2"
      ]
     },
     "execution_count": 29,
     "metadata": {},
     "output_type": "execute_result"
    }
   ],
   "source": [
    "nums = [1,1,1]\n",
    "k = 2\n",
    "\n",
    "subarraySum(nums, k)"
   ]
  },
  {
   "cell_type": "markdown",
   "id": "01b4f6ef",
   "metadata": {},
   "source": [
    "# 4. Copy List with a random pointer\n",
    "\n",
    "https://leetcode.com/problems/copy-list-with-random-pointer/"
   ]
  },
  {
   "cell_type": "code",
   "execution_count": 30,
   "id": "b15cbeae",
   "metadata": {},
   "outputs": [],
   "source": [
    "class Solution:\n",
    "    def __init__(self):\n",
    "        self.visitedHash = {}\n",
    "    def copyRandomList(self, head: 'Optional[Node]') -> 'Optional[Node]':\n",
    "        \n",
    "        \n",
    "        if head is None:\n",
    "            return None\n",
    "        \n",
    "        if head in self.visitedHash:\n",
    "            return self.visitedHash[head]\n",
    "        \n",
    "        node = Node(head.val, None, None)\n",
    "        \n",
    "        self.visitedHash[head] = node\n",
    "        \n",
    "        node.next = self.copyRandomList(head.next)\n",
    "        node.random = self.copyRandomList(head.random)\n",
    "        \n",
    "        return node"
   ]
  },
  {
   "cell_type": "markdown",
   "id": "688bf76d",
   "metadata": {},
   "source": [
    "# 5. Serialize and Deserialize Binary Tree\n",
    "\n",
    "https://leetcode.com/problems/serialize-and-deserialize-binary-tree/"
   ]
  },
  {
   "cell_type": "code",
   "execution_count": 31,
   "id": "fdab7f59",
   "metadata": {},
   "outputs": [],
   "source": [
    "class Codec:\n",
    "\n",
    "    def serialize(self, root):\n",
    "        \"\"\"Encodes a tree to a single string.\n",
    "        \n",
    "        :type root: TreeNode\n",
    "        :rtype: str\n",
    "        \"\"\"\n",
    "        if not root:\n",
    "            return ''\n",
    "        \n",
    "        queue = [root]\n",
    "        \n",
    "        result = ''\n",
    "        \n",
    "        while len(queue) > 0:\n",
    "            currNode = queue.pop(0)\n",
    "            \n",
    "            if not currNode:\n",
    "                result += 'None,'\n",
    "                continue\n",
    "            \n",
    "            result += str(currNode.val) + ','\n",
    "            queue.append(currNode.left)\n",
    "            queue.append(currNode.right)\n",
    "        \n",
    "        return result\n",
    "\n",
    "    def deserialize(self, data):\n",
    "        \"\"\"Decodes your encoded data to tree.\n",
    "        \n",
    "        :type data: str\n",
    "        :rtype: TreeNode\n",
    "        \"\"\"\n",
    "        if not data:\n",
    "            return None\n",
    "        \n",
    "        list_string = data.split(',')\n",
    "        \n",
    "        root = TreeNode(int(list_string[0]))\n",
    "        \n",
    "        queue = [root]\n",
    "        \n",
    "        counter = 1\n",
    "        while len(queue) > 0 and counter < len(list_string):\n",
    "            currNode = queue.pop(0)\n",
    "            if list_string[counter] != 'None':\n",
    "                left = TreeNode(int(list_string[counter]))\n",
    "                currNode.left = left\n",
    "                queue.append(left)\n",
    "            counter += 1\n",
    "            \n",
    "            if list_string[counter] != 'None':\n",
    "                right = TreeNode(int(list_string[counter]))\n",
    "                currNode.right = right\n",
    "                queue.append(right)\n",
    "            counter += 1\n",
    "        return root\n",
    "            "
   ]
  },
  {
   "cell_type": "code",
   "execution_count": 1,
   "id": "cd8239eb",
   "metadata": {},
   "outputs": [
    {
     "data": {
      "text/plain": [
       "True"
      ]
     },
     "execution_count": 1,
     "metadata": {},
     "output_type": "execute_result"
    }
   ],
   "source": [
    "[2,3] in [[2,3], [3,4]]"
   ]
  },
  {
   "cell_type": "markdown",
   "id": "091ccd61",
   "metadata": {},
   "source": [
    "# 6. Merge Interval\n",
    "\n",
    "https://leetcode.com/problems/merge-intervals/"
   ]
  },
  {
   "cell_type": "code",
   "execution_count": 2,
   "id": "78517106",
   "metadata": {},
   "outputs": [],
   "source": [
    "def merge(intervals):\n",
    "        \n",
    "    intervals.sort(key = lambda x:x[0])\n",
    "\n",
    "    merged = []\n",
    "\n",
    "    for interval in intervals:\n",
    "        if not merged or merged[-1][1] < interval[0]:\n",
    "            merged.append(interval)\n",
    "        else:\n",
    "            merged[-1][1] = max(merged[-1][1], interval[1])\n",
    "\n",
    "    return merged"
   ]
  },
  {
   "cell_type": "code",
   "execution_count": 3,
   "id": "1eddcba9",
   "metadata": {},
   "outputs": [
    {
     "data": {
      "text/plain": [
       "[[1, 6], [8, 10], [15, 18]]"
      ]
     },
     "execution_count": 3,
     "metadata": {},
     "output_type": "execute_result"
    }
   ],
   "source": [
    "intervals = [[1,3],[2,6],[8,10],[15,18]]\n",
    "merge(intervals)"
   ]
  },
  {
   "cell_type": "markdown",
   "id": "f9e5f166",
   "metadata": {},
   "source": [
    "# 7. Best Time to Buy and Sell Stock\n",
    "\n",
    "https://leetcode.com/problems/best-time-to-buy-and-sell-stock/"
   ]
  },
  {
   "cell_type": "code",
   "execution_count": 27,
   "id": "cf4e1784",
   "metadata": {},
   "outputs": [],
   "source": [
    "def maxProfit(prices) -> int:\n",
    "        \n",
    "    min_price = float(\"inf\")\n",
    "    max_profit = 0\n",
    "\n",
    "    for i in range(len(prices)):\n",
    "        if prices[i] < min_price:\n",
    "            min_price = prices[i]\n",
    "        elif prices[i] - min_price > max_profit:\n",
    "            max_profit = prices[i] - min_price\n",
    "\n",
    "    return max_profit\n"
   ]
  },
  {
   "cell_type": "code",
   "execution_count": 28,
   "id": "7b45d629",
   "metadata": {},
   "outputs": [
    {
     "data": {
      "text/plain": [
       "1"
      ]
     },
     "execution_count": 28,
     "metadata": {},
     "output_type": "execute_result"
    }
   ],
   "source": [
    "prices = [1,2]\n",
    "\n",
    "maxProfit(prices)"
   ]
  },
  {
   "cell_type": "code",
   "execution_count": 30,
   "id": "5d75e71f",
   "metadata": {},
   "outputs": [
    {
     "data": {
      "text/plain": [
       "2"
      ]
     },
     "execution_count": 30,
     "metadata": {},
     "output_type": "execute_result"
    }
   ],
   "source": [
    "prices = [2,4,1]\n",
    "\n",
    "maxProfit(prices)"
   ]
  },
  {
   "cell_type": "markdown",
   "id": "bbf02793",
   "metadata": {},
   "source": [
    "# 8. Verifying alien dictionary\n",
    "\n",
    "https://leetcode.com/problems/verifying-an-alien-dictionary/"
   ]
  },
  {
   "cell_type": "code",
   "execution_count": 31,
   "id": "7a672817",
   "metadata": {},
   "outputs": [],
   "source": [
    "def isAlienSorted(words, order):\n",
    "    order_hash = {}\n",
    "\n",
    "    for i, c in enumerate(order):\n",
    "        order_hash[c] = i\n",
    "\n",
    "\n",
    "    for i in range(len(words) - 1):\n",
    "        for j in range(len(words[i])):\n",
    "            if j >= len(words[i + 1]):\n",
    "                return False\n",
    "\n",
    "            if words[i][j] != words[i+1][j]:\n",
    "                if order_hash[words[i][j]] > order_hash[words[i+1][j]]:\n",
    "                    return False\n",
    "                break\n",
    "    return True"
   ]
  },
  {
   "cell_type": "code",
   "execution_count": 32,
   "id": "d40e7eb6",
   "metadata": {},
   "outputs": [
    {
     "data": {
      "text/plain": [
       "True"
      ]
     },
     "execution_count": 32,
     "metadata": {},
     "output_type": "execute_result"
    }
   ],
   "source": [
    "words = [\"hello\",\"leetcode\"]\n",
    "order = \"hlabcdefgijkmnopqrstuvwxyz\"\n",
    "isAlienSorted(words, order)"
   ]
  },
  {
   "cell_type": "markdown",
   "id": "e021ea98",
   "metadata": {},
   "source": [
    "# 9. Right side view of Binary tree\n",
    "\n",
    "https://leetcode.com/problems/binary-tree-right-side-view/"
   ]
  },
  {
   "cell_type": "code",
   "execution_count": 34,
   "id": "259cbf7c",
   "metadata": {},
   "outputs": [],
   "source": [
    "def rightSideView(root):\n",
    "    data = []\n",
    "    level = 0\n",
    "    return self.traversePreOrder(root, level, data)\n",
    "\n",
    "        \n",
    "def traversePreOrder(node, level, data):\n",
    "    if not node:\n",
    "        return \n",
    "\n",
    "    if len(data) <= level:\n",
    "        data.append(node.val)\n",
    "\n",
    "    if node.right is not None:\n",
    "        traversePreOrder(node.right, level+1, data)\n",
    "\n",
    "    if node.left is not None:\n",
    "        traversePreOrder(node.left, level+1, data)\n",
    "\n",
    "    return data"
   ]
  },
  {
   "cell_type": "markdown",
   "id": "52137234",
   "metadata": {},
   "source": [
    "# 10. Maximum Swap\n",
    "\n",
    "https://leetcode.com/problems/maximum-swap/"
   ]
  },
  {
   "cell_type": "code",
   "execution_count": 88,
   "id": "04788c7f",
   "metadata": {},
   "outputs": [],
   "source": [
    "# brute force\n",
    "def maximumSwap(num):\n",
    "    \n",
    "    num = [str(d) for d in str(num)]\n",
    "    \n",
    "    for i in range(len(num)):\n",
    "        max_ind = len(num) - 1\n",
    "        for j in range(i+1, len(num)):\n",
    "            if num[j] >= num[max_ind]:\n",
    "                max_ind = j\n",
    "        \n",
    "        if num[max_ind] > num[i]:\n",
    "            num[i], num[max_ind] = num[max_ind], num[i]\n",
    "            break\n",
    "    return int(\"\".join(num))"
   ]
  },
  {
   "cell_type": "code",
   "execution_count": 89,
   "id": "6cbab7df",
   "metadata": {},
   "outputs": [
    {
     "data": {
      "text/plain": [
       "7236"
      ]
     },
     "execution_count": 89,
     "metadata": {},
     "output_type": "execute_result"
    }
   ],
   "source": [
    "num = 2736\n",
    "maximumSwap(num)"
   ]
  },
  {
   "cell_type": "markdown",
   "id": "95cd2a79",
   "metadata": {},
   "source": [
    "# 11. Combination Sum (IMP)\n",
    "\n",
    "https://leetcode.com/problems/combination-sum/\n",
    "\n",
    "Let N be the number of candidates, T be the target value, and M be the minimal value among the candidates.\n",
    "\n",
    "T --> O(N^(T/M + 1))\n",
    "\n",
    "S --> O(T/M)"
   ]
  },
  {
   "cell_type": "code",
   "execution_count": 122,
   "id": "796d870d",
   "metadata": {},
   "outputs": [],
   "source": [
    "def combinationSum(candidates, target):\n",
    "\n",
    "    results = []\n",
    "\n",
    "    def backtrack(remain, comb, start):\n",
    "        if remain == 0:\n",
    "            # make a deep copy of the current combination\n",
    "            results.append(list(comb))\n",
    "            return\n",
    "        elif remain < 0:\n",
    "            # exceed the scope, stop exploration.\n",
    "            return\n",
    "\n",
    "        for i in range(start, len(candidates)):\n",
    "            # add the number into the combination\n",
    "            comb.append(candidates[i])\n",
    "            # give the current number another chance, rather than moving on\n",
    "            backtrack(remain - candidates[i], comb, i)\n",
    "            # backtrack, remove the number from the combination\n",
    "            comb.pop()\n",
    "\n",
    "    backtrack(target, [], 0)\n",
    "\n",
    "    return results"
   ]
  },
  {
   "cell_type": "code",
   "execution_count": 123,
   "id": "e246e160",
   "metadata": {},
   "outputs": [
    {
     "data": {
      "text/plain": [
       "[[2, 2, 3], [7]]"
      ]
     },
     "execution_count": 123,
     "metadata": {},
     "output_type": "execute_result"
    }
   ],
   "source": [
    "candidates = [2,3,6,7]\n",
    "target = 7\n",
    "combinationSum(candidates, target)"
   ]
  },
  {
   "cell_type": "markdown",
   "id": "5a337ff7",
   "metadata": {},
   "source": [
    "# 12. Subsets (Backtracking)\n",
    "\n",
    "https://leetcode.com/problems/subsets"
   ]
  },
  {
   "cell_type": "code",
   "execution_count": 135,
   "id": "2c5abdad",
   "metadata": {},
   "outputs": [],
   "source": [
    "def subsets(nums):\n",
    "    result = []\n",
    "\n",
    "\n",
    "    def backtrack(first = 0, curr = []):\n",
    "        if len(curr) == k:\n",
    "            result.append(curr[:])\n",
    "            return\n",
    "\n",
    "        for i in range(first, n):\n",
    "            curr.append(nums[i])\n",
    "\n",
    "            backtrack(i + 1, curr)\n",
    "\n",
    "            curr.pop()\n",
    "\n",
    "    n = len(nums)\n",
    "    for k in range(n + 1):\n",
    "        backtrack(0, [])\n",
    "\n",
    "    return result\n"
   ]
  },
  {
   "cell_type": "code",
   "execution_count": 136,
   "id": "1876362f",
   "metadata": {},
   "outputs": [
    {
     "data": {
      "text/plain": [
       "[[], [1], [2], [3], [1, 2], [1, 3], [2, 3], [1, 2, 3]]"
      ]
     },
     "execution_count": 136,
     "metadata": {},
     "output_type": "execute_result"
    }
   ],
   "source": [
    "nums = [1,2,3]\n",
    "subsets(nums)"
   ]
  },
  {
   "cell_type": "markdown",
   "id": "1a94d902",
   "metadata": {},
   "source": [
    "# 13. Add strings\n",
    "\n",
    "https://leetcode.com/problems/add-strings/"
   ]
  },
  {
   "cell_type": "code",
   "execution_count": 10,
   "id": "95b1daf9",
   "metadata": {},
   "outputs": [],
   "source": [
    "def addStrings(num1, num2):\n",
    "        \n",
    "    result = []\n",
    "    carry = 0\n",
    "\n",
    "    p1 = len(num1) - 1\n",
    "    p2 = len(num2) - 1\n",
    "\n",
    "    while p1 >= 0 or p2 >= 0:\n",
    "        x1 = ord(num1[p1]) - ord('0') if p1 >= 0 else 0\n",
    "        x2 = ord(num2[p2]) - ord('0') if p2 >= 0 else 0\n",
    "        value = (x1 + x2 + carry) % 10\n",
    "        carry = (x1 + x2 + carry) // 10\n",
    "        result.append(value)\n",
    "        p1 -= 1\n",
    "        p2 -= 1\n",
    "\n",
    "    if carry != 0:\n",
    "        result.append(carry)\n",
    "\n",
    "    return ''.join(str(x) for x in result[::-1])"
   ]
  },
  {
   "cell_type": "code",
   "execution_count": 11,
   "id": "f079d029",
   "metadata": {},
   "outputs": [
    {
     "data": {
      "text/plain": [
       "'134'"
      ]
     },
     "execution_count": 11,
     "metadata": {},
     "output_type": "execute_result"
    }
   ],
   "source": [
    "num1 = \"11\"\n",
    "num2 = \"123\"\n",
    "addStrings(num1, num2)"
   ]
  },
  {
   "cell_type": "markdown",
   "id": "aec522bd",
   "metadata": {},
   "source": [
    "# 14. Find Largest Value in Each Tree Row\n",
    "\n",
    "https://leetcode.com/problems/find-largest-value-in-each-tree-row/"
   ]
  },
  {
   "cell_type": "code",
   "execution_count": 13,
   "id": "c73d6de2",
   "metadata": {},
   "outputs": [],
   "source": [
    "def largestValues(root):\n",
    "    result = []\n",
    "    \n",
    "    if root is None:\n",
    "        return result\n",
    "    \n",
    "    queue = [root]\n",
    "    \n",
    "    while len(queue) > 0:\n",
    "        result.append(max(x.val for x in queue))\n",
    "        for i in range(len(queue)):\n",
    "            currNode = queue.pop(0)\n",
    "            if currNode.left is not None:\n",
    "                queue.append(currNode.left)\n",
    "            if currNode.right is not None:\n",
    "                queue.append(currNode.right)\n",
    "    \n",
    "    return result\n",
    "                "
   ]
  },
  {
   "cell_type": "markdown",
   "id": "031d6c0a",
   "metadata": {},
   "source": [
    "# 15. Walls and gates\n",
    "\n",
    "https://leetcode.com/problems/walls-and-gates/"
   ]
  },
  {
   "cell_type": "code",
   "execution_count": 16,
   "id": "3810e0c0",
   "metadata": {},
   "outputs": [],
   "source": [
    "def wallsAndGates(rooms):\n",
    "    WALL = -1\n",
    "    GATE = 0\n",
    "    ROOM = 2147483647\n",
    "    \n",
    "    for row in range(len(rooms)):\n",
    "        for col in range(len(rooms[0])):\n",
    "            if rooms[row][col] == GATE:\n",
    "                dfs(rooms, row, col, 0)\n",
    "    \n",
    "def dfs(matrix, row, col, current_step):\n",
    "    directions = [[-1, 0], [0, 1], [1, 0], [0, -1]]\n",
    "    \n",
    "    if row < 0 or row >= len(matrix) or col < 0 or col >= len(matrix[0]) or current_step > matrix[row][col]:\n",
    "        return \n",
    "    \n",
    "    if matrix[row][col] == -1:\n",
    "        return\n",
    "    \n",
    "    matrix[row][col] = current_step\n",
    "    \n",
    "    for i in range(len(directions)):\n",
    "        direction = directions[i]\n",
    "        nextRow = row + direction[0]\n",
    "        nextCol = col + direction[1]\n",
    "        dfs(matrix, nextRow, nextCol, current_step + 1)"
   ]
  },
  {
   "cell_type": "code",
   "execution_count": 17,
   "id": "f0e0f0c3",
   "metadata": {},
   "outputs": [],
   "source": [
    "rooms = [[2147483647,-1,0,2147483647],\n",
    "         [2147483647,2147483647,2147483647,-1],\n",
    "         [2147483647,-1,2147483647,-1],\n",
    "         [0,-1,2147483647,2147483647]]\n",
    "\n",
    "wallsAndGates(rooms)"
   ]
  },
  {
   "cell_type": "code",
   "execution_count": 18,
   "id": "2f39d6ba",
   "metadata": {},
   "outputs": [
    {
     "data": {
      "text/plain": [
       "[[3, -1, 0, 1], [2, 2, 1, -1], [1, -1, 2, -1], [0, -1, 3, 4]]"
      ]
     },
     "execution_count": 18,
     "metadata": {},
     "output_type": "execute_result"
    }
   ],
   "source": [
    "rooms"
   ]
  },
  {
   "cell_type": "markdown",
   "id": "5cd3416f",
   "metadata": {},
   "source": [
    "# 16. Power of x\n",
    "\n",
    "Read the logic here: https://leetcode.com/problems/powx-n/\n",
    "\n",
    "O(logN)"
   ]
  },
  {
   "cell_type": "code",
   "execution_count": 19,
   "id": "c42e95ed",
   "metadata": {},
   "outputs": [],
   "source": [
    "def myPow(x, n):\n",
    "    if n == 0:\n",
    "        return 1\n",
    "    if n < 0:\n",
    "        return myPow(1/x, -n)\n",
    "    \n",
    "    lower = myPow(x, n//2)\n",
    "    \n",
    "    if n % 2 == 0:\n",
    "        return lower * lower\n",
    "    else:\n",
    "        return lower * lower * x"
   ]
  },
  {
   "cell_type": "code",
   "execution_count": 20,
   "id": "fdb85213",
   "metadata": {},
   "outputs": [
    {
     "data": {
      "text/plain": [
       "8"
      ]
     },
     "execution_count": 20,
     "metadata": {},
     "output_type": "execute_result"
    }
   ],
   "source": [
    "myPow(2,3)"
   ]
  },
  {
   "cell_type": "code",
   "execution_count": 35,
   "id": "835856de",
   "metadata": {},
   "outputs": [],
   "source": [
    "\n",
    "segments = ['254', '245']\n",
    "output = []\n",
    "\n",
    "#segments.append(segment)\n",
    "\n"
   ]
  },
  {
   "cell_type": "code",
   "execution_count": 36,
   "id": "049a9c16",
   "metadata": {},
   "outputs": [
    {
     "data": {
      "text/plain": [
       "['254', '245']"
      ]
     },
     "execution_count": 36,
     "metadata": {},
     "output_type": "execute_result"
    }
   ],
   "source": [
    "segments"
   ]
  },
  {
   "cell_type": "code",
   "execution_count": 37,
   "id": "de7bf94c",
   "metadata": {},
   "outputs": [],
   "source": [
    "output.append('.'.join(segments))"
   ]
  },
  {
   "cell_type": "code",
   "execution_count": 38,
   "id": "a8e2d13b",
   "metadata": {},
   "outputs": [
    {
     "data": {
      "text/plain": [
       "['254.245']"
      ]
     },
     "execution_count": 38,
     "metadata": {},
     "output_type": "execute_result"
    }
   ],
   "source": [
    "output"
   ]
  },
  {
   "cell_type": "code",
   "execution_count": 39,
   "id": "dd2a368c",
   "metadata": {},
   "outputs": [
    {
     "data": {
      "text/plain": [
       "'254.245'"
      ]
     },
     "execution_count": 39,
     "metadata": {},
     "output_type": "execute_result"
    }
   ],
   "source": [
    "'.'.join(segments)"
   ]
  },
  {
   "cell_type": "markdown",
   "id": "f36acbb7",
   "metadata": {},
   "source": [
    "# 17. Restore IP address (Backtracking)\n",
    "\n",
    "https://leetcode.com/problems/restore-ip-addresses/"
   ]
  },
  {
   "cell_type": "code",
   "execution_count": 41,
   "id": "459cc6ee",
   "metadata": {},
   "outputs": [],
   "source": [
    "def restoreIpAddresses(s):\n",
    "    \"\"\"\n",
    "    :type s: str\n",
    "    :rtype: List[str]\n",
    "    \"\"\"\n",
    "    def valid(segment):\n",
    "        \"\"\"\n",
    "        Check if the current segment is valid :\n",
    "        1. less or equal to 255      \n",
    "        2. the first character could be '0' \n",
    "           only if the segment is equal to '0'\n",
    "        \"\"\"\n",
    "        return int(segment) <= 255 if segment[0] != '0' else len(segment) == 1\n",
    "\n",
    "    def update_output(curr_pos):\n",
    "        \"\"\"\n",
    "        Append the current list of segments \n",
    "        to the list of solutions\n",
    "        \"\"\"\n",
    "        segment = s[curr_pos + 1:n]\n",
    "        if valid(segment):\n",
    "            segments.append(segment)\n",
    "            output.append('.'.join(segments))\n",
    "            segments.pop()    \n",
    "\n",
    "    def backtrack(prev_pos = -1, dots = 3):\n",
    "        \"\"\"\n",
    "        prev_pos : the position of the previously placed dot\n",
    "        dots : number of dots to place\n",
    "        \"\"\"\n",
    "        # The current dot curr_pos could be placed \n",
    "        # in a range from prev_pos + 1 to prev_pos + 4.\n",
    "        # The dot couldn't be placed \n",
    "        # after the last character in the string.\n",
    "        for curr_pos in range(prev_pos + 1, min(n - 1, prev_pos + 4)):\n",
    "            segment = s[prev_pos + 1:curr_pos + 1]\n",
    "            if valid(segment):\n",
    "                segments.append(segment)  # place dot\n",
    "                if dots - 1 == 0:  # if all 3 dots are placed\n",
    "                    update_output(curr_pos)  # add the solution to output\n",
    "                else:\n",
    "                    backtrack(curr_pos, dots - 1)  # continue to place dots\n",
    "                segments.pop()  # remove the last placed dot\n",
    "\n",
    "    n = len(s)\n",
    "    output, segments = [], []\n",
    "    backtrack() \n",
    "    return output"
   ]
  },
  {
   "cell_type": "code",
   "execution_count": 42,
   "id": "1a7a6b61",
   "metadata": {},
   "outputs": [
    {
     "data": {
      "text/plain": [
       "['255.255.11.135', '255.255.111.35']"
      ]
     },
     "execution_count": 42,
     "metadata": {},
     "output_type": "execute_result"
    }
   ],
   "source": [
    "s = \"25525511135\"\n",
    "\n",
    "restoreIpAddresses(s)"
   ]
  },
  {
   "cell_type": "markdown",
   "id": "907160aa",
   "metadata": {},
   "source": [
    "# 18. Binary tree right side view\n",
    "\n",
    "https://leetcode.com/problems/binary-tree-right-side-view/"
   ]
  },
  {
   "cell_type": "code",
   "execution_count": 43,
   "id": "978689cd",
   "metadata": {},
   "outputs": [],
   "source": [
    "def rightSideView(root):\n",
    "    \n",
    "    result = []\n",
    "    level = 0\n",
    "    \n",
    "    return traversePreOrder(root, result, level)\n",
    "\n",
    "def traversePreOrder(node, result, level):\n",
    "    if not node:\n",
    "        return\n",
    "    \n",
    "    if level >= len(result):\n",
    "        result.append(node.val)\n",
    "        \n",
    "    if node.right is not None:\n",
    "        traversePreOrder(node.right, result, level + 1)\n",
    "    \n",
    "    if node.left is not None:\n",
    "        traversePreOrder(node.left, result, level + 1)\n",
    "    \n",
    "    return data"
   ]
  },
  {
   "cell_type": "markdown",
   "id": "b383fae3",
   "metadata": {},
   "source": [
    "# 19. Koko eating bananas\n",
    "\n",
    "https://leetcode.com/problems/koko-eating-bananas/"
   ]
  },
  {
   "cell_type": "code",
   "execution_count": 48,
   "id": "164ceb8b",
   "metadata": {},
   "outputs": [],
   "source": [
    "import math\n",
    "\n",
    "def minEatingSpeed(piles, h):\n",
    "    left = 1\n",
    "    right = max(piles)\n",
    "\n",
    "    while left < right:\n",
    "        mid = math.floor((left + right)/2)\n",
    "        hour_spent = 0\n",
    "\n",
    "        for pile in piles:\n",
    "            hour_spent += math.ceil(pile/mid)\n",
    "\n",
    "        if hour_spent <= h:\n",
    "            right = mid\n",
    "        else:\n",
    "            left = mid + 1\n",
    "\n",
    "    return right"
   ]
  },
  {
   "cell_type": "code",
   "execution_count": 51,
   "id": "7f3d7e16",
   "metadata": {},
   "outputs": [
    {
     "data": {
      "text/plain": [
       "30"
      ]
     },
     "execution_count": 51,
     "metadata": {},
     "output_type": "execute_result"
    }
   ],
   "source": [
    "piles = [30,11,23,4,20]\n",
    "h = 5\n",
    "\n",
    "minEatingSpeed(piles, h)"
   ]
  },
  {
   "cell_type": "markdown",
   "id": "3f17b8d6",
   "metadata": {},
   "source": [
    "# 20. Word abbreviation\n",
    "\n",
    "https://leetcode.com/problems/valid-word-abbreviation/"
   ]
  },
  {
   "cell_type": "code",
   "execution_count": 52,
   "id": "e4660737",
   "metadata": {},
   "outputs": [],
   "source": [
    "def validWordAbbreviation(word, abbr):\n",
    "    i = j = 0\n",
    "    \n",
    "    while j < len(abbr) and i < len(word):\n",
    "        if abbr[j].isalpha():\n",
    "            if abbr[j] != word[i]:\n",
    "                return False\n",
    "            i += 1\n",
    "            j += 1\n",
    "        else:\n",
    "            if abbr[j] == '0': # to handle edge cases like '01'\n",
    "                return False\n",
    "            temp = 0\n",
    "            \n",
    "            while j < len(abbr) and abbr[j].isdigit():\n",
    "                temp = 10 * temp + int(abbr[j])\n",
    "                j += 1\n",
    "            \n",
    "            i += temp\n",
    "    \n",
    "    return j == len(abbr) and i == len(word)"
   ]
  },
  {
   "cell_type": "code",
   "execution_count": 53,
   "id": "332047d1",
   "metadata": {},
   "outputs": [
    {
     "data": {
      "text/plain": [
       "True"
      ]
     },
     "execution_count": 53,
     "metadata": {},
     "output_type": "execute_result"
    }
   ],
   "source": [
    "word = \"internationalization\"\n",
    "abbr = \"i12iz4n\"\n",
    "\n",
    "validWordAbbreviation(word, abbr)"
   ]
  },
  {
   "cell_type": "code",
   "execution_count": 54,
   "id": "7b55b35d",
   "metadata": {},
   "outputs": [
    {
     "data": {
      "text/plain": [
       "False"
      ]
     },
     "execution_count": 54,
     "metadata": {},
     "output_type": "execute_result"
    }
   ],
   "source": [
    "word = \"apple\"\n",
    "abbr = \"a2e\"\n",
    "\n",
    "validWordAbbreviation(word, abbr)"
   ]
  },
  {
   "cell_type": "markdown",
   "id": "d12fb495",
   "metadata": {},
   "source": [
    "# 21. Accounts merge (graph question)\n",
    "\n",
    "https://leetcode.com/problems/accounts-merge/"
   ]
  },
  {
   "cell_type": "code",
   "execution_count": 56,
   "id": "ca6b71c8",
   "metadata": {},
   "outputs": [],
   "source": [
    "from collections import defaultdict\n",
    "\n",
    "def accountsMerge(accounts):\n",
    "    \n",
    "    visited = [False] * len(accounts)\n",
    "    email_accounts_map = defaultdict(list)\n",
    "    result = []\n",
    "    \n",
    "    for i, account in enumerate(accounts):\n",
    "        for j in range(1, len(account)):\n",
    "            email = account[j]\n",
    "            email_accounts_map[email].append(i)\n",
    "    \n",
    "    def dfs(i, emails):\n",
    "        if visited[i]:\n",
    "            return\n",
    "        \n",
    "        visited[i] = True\n",
    "        \n",
    "        for j in range(1, len(accounts[i])):\n",
    "            email = accounts[i][j]\n",
    "            emails.add(email)\n",
    "            for neighbor in email_accounts_map[email]:\n",
    "                dfs(neighbor, emails)\n",
    "    \n",
    "    for i, account in enumerate(accounts):\n",
    "        if visited[i]:\n",
    "            continue\n",
    "        name, emails = account[0], set()\n",
    "        dfs(i, emails)\n",
    "        result.append([name] + sorted(emails))\n",
    "    \n",
    "    return result"
   ]
  },
  {
   "cell_type": "code",
   "execution_count": 57,
   "id": "4c16da82",
   "metadata": {},
   "outputs": [
    {
     "data": {
      "text/plain": [
       "[['John', 'john00@mail.com', 'john_newyork@mail.com', 'johnsmith@mail.com'],\n",
       " ['Mary', 'mary@mail.com'],\n",
       " ['John', 'johnnybravo@mail.com']]"
      ]
     },
     "execution_count": 57,
     "metadata": {},
     "output_type": "execute_result"
    }
   ],
   "source": [
    "accounts = [[\"John\",\"johnsmith@mail.com\",\"john_newyork@mail.com\"],\n",
    "            [\"John\",\"johnsmith@mail.com\",\"john00@mail.com\"],\n",
    "            [\"Mary\",\"mary@mail.com\"],\n",
    "            [\"John\",\"johnnybravo@mail.com\"]]\n",
    "\n",
    "accountsMerge(accounts)"
   ]
  },
  {
   "cell_type": "markdown",
   "id": "40854b6c",
   "metadata": {},
   "source": [
    "# 22. Insert Delete GetRandom O(1) - Duplicates allowed\n",
    "\n",
    "https://leetcode.com/problems/insert-delete-getrandom-o1-duplicates-allowed/"
   ]
  },
  {
   "cell_type": "code",
   "execution_count": 58,
   "id": "7b671d72",
   "metadata": {},
   "outputs": [],
   "source": [
    "import random\n",
    "class RandomizedCollection:\n",
    "\n",
    "    def __init__(self):\n",
    "        self.nums = []\n",
    "\n",
    "    def insert(self, val: int) -> bool:\n",
    "        if val in self.nums:\n",
    "            self.nums.append(val)\n",
    "            return False\n",
    "        else:\n",
    "            self.nums.append(val)\n",
    "            return True\n",
    "\n",
    "    def remove(self, val: int) -> bool:\n",
    "        if val in self.nums:\n",
    "            self.nums.pop(self.nums.index(val))\n",
    "            return True\n",
    "        else:\n",
    "            # self.nums.pop(self.nums.index(val))\n",
    "            return False\n",
    "\n",
    "    def getRandom(self) -> int:\n",
    "        return random.choice(self.nums)\n",
    "\n",
    "\n",
    "# Your RandomizedCollection object will be instantiated and called as such:\n",
    "# obj = RandomizedCollection()\n",
    "# param_1 = obj.insert(val)\n",
    "# param_2 = obj.remove(val)\n",
    "# param_3 = obj.getRandom()"
   ]
  },
  {
   "cell_type": "markdown",
   "id": "5d31af6e",
   "metadata": {},
   "source": [
    "# 23. Find nth digit\n",
    "\n",
    "https://leetcode.com/problems/nth-digit/"
   ]
  },
  {
   "cell_type": "code",
   "execution_count": 66,
   "id": "c5ec1dcf",
   "metadata": {},
   "outputs": [],
   "source": [
    "def findNthDigit(n):\n",
    "    digit = base = 1\n",
    "    \n",
    "    while n > 9 * base * digit:\n",
    "        n -= 9 * base * digit\n",
    "        digit += 1\n",
    "        base *= 10\n",
    "        print(n, digit, base)\n",
    "    \n",
    "    q = (n - 1)//digit\n",
    "    r = (n - 1) % digit\n",
    "    print(q, r)\n",
    "    \n",
    "    return int(str(base + q)[r])"
   ]
  },
  {
   "cell_type": "code",
   "execution_count": 67,
   "id": "3be1488a",
   "metadata": {},
   "outputs": [
    {
     "name": "stdout",
     "output_type": "stream",
     "text": [
      "86 2 10\n",
      "42 1\n"
     ]
    },
    {
     "data": {
      "text/plain": [
       "2"
      ]
     },
     "execution_count": 67,
     "metadata": {},
     "output_type": "execute_result"
    }
   ],
   "source": [
    "findNthDigit(95)"
   ]
  },
  {
   "cell_type": "code",
   "execution_count": 72,
   "id": "a9ac7f95",
   "metadata": {},
   "outputs": [],
   "source": [
    "def isValid(s):\n",
    "    parens = {\n",
    "        '(':')',\n",
    "        '{':'}',\n",
    "        '[':']'\n",
    "    }\n",
    "\n",
    "    stack = []\n",
    "\n",
    "    for i in s:\n",
    "        if i in parens.keys():\n",
    "            stack.append(i)\n",
    "        else:\n",
    "            if len(stack) > 0:\n",
    "                leftBracket = stack.pop()\n",
    "                correctBracket = parens[leftBracket]\n",
    "                if correctBracket != i:\n",
    "                    return False\n",
    "            else:\n",
    "                return False\n",
    "\n",
    "    return len(stack) == 0\n"
   ]
  },
  {
   "cell_type": "code",
   "execution_count": 76,
   "id": "df58836c",
   "metadata": {},
   "outputs": [
    {
     "data": {
      "text/plain": [
       "False"
      ]
     },
     "execution_count": 76,
     "metadata": {},
     "output_type": "execute_result"
    }
   ],
   "source": [
    "s = '[{(}]'\n",
    "isValid(s)"
   ]
  },
  {
   "cell_type": "markdown",
   "id": "a7281404",
   "metadata": {},
   "source": [
    "# 24. Generate parenthesis (Backtracking problem)\n",
    "\n",
    "https://leetcode.com/problems/generate-parentheses/"
   ]
  },
  {
   "cell_type": "code",
   "execution_count": 78,
   "id": "94fe4618",
   "metadata": {},
   "outputs": [],
   "source": [
    "def generateParenthesis(n):\n",
    "        \n",
    "    result = []\n",
    "\n",
    "    stack = []\n",
    "    left_bracket_counts = 0\n",
    "    right_bracket_counts = 0\n",
    "\n",
    "    def backtrack(stack, left_bracket_counts, right_bracket_counts):\n",
    "\n",
    "        if len(stack) == 2 * n:\n",
    "            result.append(\"\".join(stack))\n",
    "            return\n",
    "\n",
    "        if left_bracket_counts < n:\n",
    "            stack.append(\"(\")\n",
    "            backtrack(stack, left_bracket_counts + 1, right_bracket_counts)\n",
    "            stack.pop()\n",
    "\n",
    "        if right_bracket_counts < left_bracket_counts:\n",
    "            stack.append(\")\")\n",
    "            backtrack(stack, left_bracket_counts, right_bracket_counts + 1)\n",
    "            stack.pop()\n",
    "\n",
    "    backtrack(stack, left_bracket_counts, right_bracket_counts)\n",
    "    return result"
   ]
  },
  {
   "cell_type": "code",
   "execution_count": 80,
   "id": "d5d9bfbd",
   "metadata": {},
   "outputs": [
    {
     "data": {
      "text/plain": [
       "['((()))', '(()())', '(())()', '()(())', '()()()']"
      ]
     },
     "execution_count": 80,
     "metadata": {},
     "output_type": "execute_result"
    }
   ],
   "source": [
    "generateParenthesis(3)"
   ]
  },
  {
   "cell_type": "code",
   "execution_count": null,
   "id": "6ac0fbdc",
   "metadata": {},
   "outputs": [],
   "source": []
  }
 ],
 "metadata": {
  "kernelspec": {
   "display_name": "Python 3 (ipykernel)",
   "language": "python",
   "name": "python3"
  },
  "language_info": {
   "codemirror_mode": {
    "name": "ipython",
    "version": 3
   },
   "file_extension": ".py",
   "mimetype": "text/x-python",
   "name": "python",
   "nbconvert_exporter": "python",
   "pygments_lexer": "ipython3",
   "version": "3.8.3"
  }
 },
 "nbformat": 4,
 "nbformat_minor": 5
}
