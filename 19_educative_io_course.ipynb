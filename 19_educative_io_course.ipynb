{
 "cells": [
  {
   "cell_type": "markdown",
   "id": "a744b16e",
   "metadata": {},
   "source": [
    "# A) Lists\n",
    "\n",
    "# 1. Remove all even elements from a list\n"
   ]
  },
  {
   "cell_type": "code",
   "execution_count": 3,
   "id": "14596d9c",
   "metadata": {},
   "outputs": [],
   "source": [
    "def remove_even(lst):\n",
    "    # Write your code here!\n",
    "    return [number for number in lst if number % 2 != 0]"
   ]
  },
  {
   "cell_type": "code",
   "execution_count": 4,
   "id": "9b8555a7",
   "metadata": {},
   "outputs": [
    {
     "data": {
      "text/plain": [
       "[1, 5, 3]"
      ]
     },
     "execution_count": 4,
     "metadata": {},
     "output_type": "execute_result"
    }
   ],
   "source": [
    "my_list = [1,2,4,5,10,6,3]\n",
    "\n",
    "remove_even(my_list)"
   ]
  },
  {
   "cell_type": "markdown",
   "id": "75116de8",
   "metadata": {},
   "source": [
    "# 2. Merge two sorted lists\n",
    "\n",
    "T --> O(m+n)\n",
    "\n",
    "S --> O(m)"
   ]
  },
  {
   "cell_type": "code",
   "execution_count": 7,
   "id": "b1ab30c7",
   "metadata": {},
   "outputs": [],
   "source": [
    "def merge_lists(nums1, nums2):\n",
    "    m = len(nums1)\n",
    "    n = len(nums2)\n",
    "    \n",
    "    for i in range(n):\n",
    "        nums1.append(0)\n",
    "    \n",
    "    p1 = 0\n",
    "    p2 = 0\n",
    "    \n",
    "    nums1_copy = nums1[:m]\n",
    "    \n",
    "    for i in range(m+n):\n",
    "        if p2 >= n or (p1 < m and nums1_copy[p1] <= nums2[p2]):\n",
    "            nums1[i] = nums1_copy[p1]\n",
    "            p1 += 1\n",
    "        else:\n",
    "            nums1[i] = nums2[p2]\n",
    "            p2 += 1\n",
    "    return nums1"
   ]
  },
  {
   "cell_type": "code",
   "execution_count": 8,
   "id": "b9c70664",
   "metadata": {},
   "outputs": [
    {
     "data": {
      "text/plain": [
       "[1, 2, 3, 4, 5, 6, 7, 8]"
      ]
     },
     "execution_count": 8,
     "metadata": {},
     "output_type": "execute_result"
    }
   ],
   "source": [
    "list1 = [1,3,4,5]  \n",
    "list2 = [2,6,7,8]\n",
    "\n",
    "merge_lists(list1, list2)"
   ]
  },
  {
   "cell_type": "markdown",
   "id": "e6e62d88",
   "metadata": {},
   "source": [
    "# 3. Find two numbers that add up to k"
   ]
  },
  {
   "cell_type": "code",
   "execution_count": 11,
   "id": "e1dc1e83",
   "metadata": {},
   "outputs": [],
   "source": [
    "def find_sum(nums, k):\n",
    "    \n",
    "    index_map = {}\n",
    "    \n",
    "    for i in range(len(nums)):\n",
    "        ntf = k - nums[i]\n",
    "        if nums[i] not in index_map:\n",
    "            index_map[ntf] = i\n",
    "        else:\n",
    "            return [nums[index_map[nums[i]]], nums[i]]"
   ]
  },
  {
   "cell_type": "code",
   "execution_count": 12,
   "id": "45d391f2",
   "metadata": {},
   "outputs": [
    {
     "data": {
      "text/plain": [
       "[5, 6]"
      ]
     },
     "execution_count": 12,
     "metadata": {},
     "output_type": "execute_result"
    }
   ],
   "source": [
    "nums = [3,2,5,6,4]\n",
    "target = 11\n",
    "\n",
    "find_sum(nums, target)"
   ]
  },
  {
   "cell_type": "markdown",
   "id": "2c40ef2b",
   "metadata": {},
   "source": [
    "# 4. List of Products of all Elements"
   ]
  },
  {
   "cell_type": "code",
   "execution_count": 13,
   "id": "628ca116",
   "metadata": {},
   "outputs": [],
   "source": [
    "def find_product(nums):\n",
    "    # Write your code here\n",
    "    n = len(nums)\n",
    "\n",
    "    L, R, ans = [0]*n, [0]*n, [0]*n\n",
    "\n",
    "    L[0] = 1\n",
    "\n",
    "    for i in range(1, n):\n",
    "        L[i] = L[i-1] * nums[i-1]\n",
    "    \n",
    "    R[n-1] = 1\n",
    "\n",
    "    for i in reversed(range(n-1)):\n",
    "        R[i] = R[i+1] * nums[i+1]\n",
    "    \n",
    "    for i in range(n):\n",
    "        ans[i] = L[i] * R[i]\n",
    "    \n",
    "    return ans"
   ]
  },
  {
   "cell_type": "code",
   "execution_count": 14,
   "id": "b3135a79",
   "metadata": {},
   "outputs": [
    {
     "data": {
      "text/plain": [
       "[24, 12, 8, 6]"
      ]
     },
     "execution_count": 14,
     "metadata": {},
     "output_type": "execute_result"
    }
   ],
   "source": [
    "nums = [1, 2, 3, 4]\n",
    "\n",
    "find_product(nums)"
   ]
  },
  {
   "cell_type": "markdown",
   "id": "d6712a96",
   "metadata": {},
   "source": [
    "# 5. Smallest number in a given list"
   ]
  },
  {
   "cell_type": "code",
   "execution_count": 15,
   "id": "d105ad7f",
   "metadata": {},
   "outputs": [],
   "source": [
    "def find_minimum(nums):\n",
    "    \n",
    "    if len(nums) == 0:\n",
    "        return None\n",
    "    \n",
    "    min_num = float('inf')\n",
    "    \n",
    "    for number in nums:\n",
    "        min_num = min(min_num, number)\n",
    "    \n",
    "    return min_num"
   ]
  },
  {
   "cell_type": "code",
   "execution_count": 16,
   "id": "b42031ca",
   "metadata": {},
   "outputs": [
    {
     "data": {
      "text/plain": [
       "12"
      ]
     },
     "execution_count": 16,
     "metadata": {},
     "output_type": "execute_result"
    }
   ],
   "source": [
    "nums = [100, 12, 34, 40]\n",
    "\n",
    "find_minimum(nums)"
   ]
  },
  {
   "cell_type": "markdown",
   "id": "2ee6da5f",
   "metadata": {},
   "source": [
    "# 6. First non repeating element"
   ]
  },
  {
   "cell_type": "code",
   "execution_count": 18,
   "id": "eb719161",
   "metadata": {},
   "outputs": [],
   "source": [
    "from collections import Counter\n",
    "\n",
    "def find_first_unique(nums):\n",
    "    # Write your code here\n",
    "    count_nums = Counter(nums)\n",
    "\n",
    "    for val in nums:\n",
    "        if count_nums[val] == 1:\n",
    "            return val\n",
    "    return -1"
   ]
  },
  {
   "cell_type": "code",
   "execution_count": 19,
   "id": "3653bb9a",
   "metadata": {},
   "outputs": [
    {
     "data": {
      "text/plain": [
       "5"
      ]
     },
     "execution_count": 19,
     "metadata": {},
     "output_type": "execute_result"
    }
   ],
   "source": [
    "nums = [4, 5, 1, 2, 0, 4]\n",
    "\n",
    "find_first_unique(nums)"
   ]
  },
  {
   "cell_type": "markdown",
   "id": "eff42e62",
   "metadata": {},
   "source": [
    "# 7. Find Second Maximum Value in a List"
   ]
  },
  {
   "cell_type": "code",
   "execution_count": 20,
   "id": "af2f04dd",
   "metadata": {},
   "outputs": [],
   "source": [
    "def find_second_maximum(nums):\n",
    "    index_to_find = len(nums) - 2\n",
    "    quickselect(nums, 0, len(nums) - 1, index_to_find)\n",
    "    return nums[-2]\n",
    "\n",
    "def quickselect(nums, left, right, targetIndex):\n",
    "    partitionIndex = partition(nums, left, right)\n",
    "    \n",
    "    if partitionIndex == targetIndex:\n",
    "        return nums[targetIndex]\n",
    "    elif partitionIndex < targetIndex:\n",
    "        return quickselect(nums, partitionIndex + 1, right, targetIndex)\n",
    "    else:\n",
    "        return quickselect(nums, left, partitionIndex - 1, targetIndex)\n",
    "\n",
    "def partition(nums, left, right):\n",
    "    pivotElement= nums[right]\n",
    "    partitionIndex = left\n",
    "    \n",
    "    for j in range(left, right):\n",
    "        if nums[j] <= pivotElement:\n",
    "            nums[j], nums[partitionIndex] = nums[partitionIndex], nums[j]\n",
    "            partitionIndex += 1\n",
    "    nums[partitionIndex], nums[right] = nums[right], nums[partitionIndex]\n",
    "    return partitionIndex"
   ]
  },
  {
   "cell_type": "code",
   "execution_count": 21,
   "id": "179321b3",
   "metadata": {},
   "outputs": [
    {
     "data": {
      "text/plain": [
       "6"
      ]
     },
     "execution_count": 21,
     "metadata": {},
     "output_type": "execute_result"
    }
   ],
   "source": [
    "nums = [9, 2, 3, 6]\n",
    "find_second_maximum(nums)"
   ]
  },
  {
   "cell_type": "markdown",
   "id": "0a0022b1",
   "metadata": {},
   "source": [
    "# 8. Right rotate list"
   ]
  },
  {
   "cell_type": "code",
   "execution_count": 22,
   "id": "a68619c7",
   "metadata": {},
   "outputs": [],
   "source": [
    "def right_rotate(nums, k):\n",
    "    # Write your code here\n",
    "    if len(nums) == 0:\n",
    "        return nums\n",
    "        \n",
    "    n = len(nums)\n",
    "    k %= n\n",
    "\n",
    "    reverse(nums, 0, n-1)\n",
    "    reverse(nums, 0, k-1)\n",
    "    reverse(nums, k, n-1)\n",
    "    return nums\n",
    "\n",
    "def reverse(nums, start, end):\n",
    "    while start < end:\n",
    "        nums[start], nums[end] = nums[end], nums[start]\n",
    "        start += 1\n",
    "        end -= 1\n"
   ]
  },
  {
   "cell_type": "code",
   "execution_count": 23,
   "id": "6e4e92bc",
   "metadata": {},
   "outputs": [
    {
     "data": {
      "text/plain": [
       "[30, 40, 50, 10, 20]"
      ]
     },
     "execution_count": 23,
     "metadata": {},
     "output_type": "execute_result"
    }
   ],
   "source": [
    "lst = [10,20,30,40,50]\n",
    "k = 3\n",
    "\n",
    "right_rotate(lst, k)"
   ]
  },
  {
   "cell_type": "markdown",
   "id": "ef5ebcb0",
   "metadata": {},
   "source": [
    "# 9. Rearrange Positive & Negative Values"
   ]
  },
  {
   "cell_type": "code",
   "execution_count": 1,
   "id": "b9601c2f",
   "metadata": {},
   "outputs": [],
   "source": [
    "def rearrange(nums):\n",
    "    # Write your code here\n",
    "    result = []\n",
    "\n",
    "    for val in nums:\n",
    "        if val < 0:\n",
    "            result.append(val)\n",
    "\n",
    "    for val in nums:\n",
    "        if val >= 0:\n",
    "            result.append(val)\n",
    "    \n",
    "    return result"
   ]
  },
  {
   "cell_type": "code",
   "execution_count": 2,
   "id": "c6147690",
   "metadata": {},
   "outputs": [
    {
     "data": {
      "text/plain": [
       "[-1, 300, 3, 0]"
      ]
     },
     "execution_count": 2,
     "metadata": {},
     "output_type": "execute_result"
    }
   ],
   "source": [
    "nums = [300, -1, 3, 0]\n",
    "rearrange(nums)"
   ]
  },
  {
   "cell_type": "markdown",
   "id": "c3d9cae7",
   "metadata": {},
   "source": [
    "# 10. Rearrange sorted list in Max/Min form"
   ]
  },
  {
   "cell_type": "code",
   "execution_count": 3,
   "id": "d6c48021",
   "metadata": {},
   "outputs": [],
   "source": [
    "def max_min(nums):\n",
    "    result = []\n",
    "    \n",
    "    for i in range(len(nums)//2):\n",
    "        result.append(nums[-(i+1)])\n",
    "        result.append(nums[i])\n",
    "    if len(nums) % 2 == 1:\n",
    "        result.append(nums[len(nums)//2])\n",
    "    return result"
   ]
  },
  {
   "cell_type": "code",
   "execution_count": 4,
   "id": "eee9fb0b",
   "metadata": {},
   "outputs": [
    {
     "data": {
      "text/plain": [
       "[6, 1, 5, 2, 4, 3]"
      ]
     },
     "execution_count": 4,
     "metadata": {},
     "output_type": "execute_result"
    }
   ],
   "source": [
    "nums = [1, 2, 3, 4, 5, 6]\n",
    "\n",
    "max_min(nums)"
   ]
  },
  {
   "cell_type": "markdown",
   "id": "34cb46e0",
   "metadata": {},
   "source": [
    "# 11. Maximum Sum Sub Array"
   ]
  },
  {
   "cell_type": "code",
   "execution_count": 5,
   "id": "ec1b23e9",
   "metadata": {},
   "outputs": [],
   "source": [
    "def find_max_sum_sublist(nums): \n",
    "    # Write your code here!\n",
    "    current_subarray = nums[0]\n",
    "    max_subarray = nums[0]\n",
    "\n",
    "    for num in nums[1:]:\n",
    "        current_subarray = max(num, current_subarray + num)\n",
    "        max_subarray = max(current_subarray, max_subarray)\n",
    "    \n",
    "    return max_subarray"
   ]
  },
  {
   "cell_type": "code",
   "execution_count": 6,
   "id": "9614d1a6",
   "metadata": {},
   "outputs": [
    {
     "data": {
      "text/plain": [
       "12"
      ]
     },
     "execution_count": 6,
     "metadata": {},
     "output_type": "execute_result"
    }
   ],
   "source": [
    "nums = [-4, 2, -5, 1, 2, 3, 6, -5, 1]\n",
    "find_max_sum_sublist(nums)"
   ]
  },
  {
   "cell_type": "markdown",
   "id": "e6534f67",
   "metadata": {},
   "source": [
    "# B) Linked List"
   ]
  },
  {
   "cell_type": "code",
   "execution_count": 15,
   "id": "9e4cc8c2",
   "metadata": {},
   "outputs": [],
   "source": [
    "class LinkedList:\n",
    "    def __init__(self):\n",
    "        self.head_node = None\n",
    "\n",
    "    def get_head(self):\n",
    "        return self.head_node\n",
    "\n",
    "    def is_empty(self):\n",
    "        if(self.head_node is None):  # Check whether the head is None\n",
    "            return True\n",
    "        else:\n",
    "            return False\n",
    "\n",
    "    def insert_at_head(self, dt):\n",
    "        temp_node = Node(dt)\n",
    "        temp_node.next_element = self.head_node\n",
    "        self.head_node = temp_node\n",
    "        return self.head_node\n",
    "\n",
    "    # Inserts a value at the end of the list\n",
    "    def insert_at_tail(self, value):\n",
    "        # Creating a new node\n",
    "        new_node = Node(value)\n",
    "\n",
    "        # Check if the list is empty, if it is simply point head to new node\n",
    "        if self.get_head() is None:\n",
    "            self.head_node = new_node\n",
    "            return\n",
    "\n",
    "        # if list not empty, traverse the list to the last node\n",
    "        temp = self.get_head()\n",
    "\n",
    "        while temp.next_element is not None:\n",
    "            temp = temp.next_element\n",
    "\n",
    "        # Set the nextElement of the previous node to new node\n",
    "        temp.next_element = new_node\n",
    "        return\n",
    "\n",
    "    def print_list(self):\n",
    "        if(self.is_empty()):\n",
    "            print(\"List is Empty\")\n",
    "            return False\n",
    "        temp = self.head_node\n",
    "        while temp.next_element is not None:\n",
    "            print(temp.data, end=\" -> \")\n",
    "            temp = temp.next_element\n",
    "        print(temp.data, \"-> None\")\n",
    "        return True\n",
    "\n",
    "    def delete_at_head(self):\n",
    "        # Get Head and firstElement of List\n",
    "        first_element = self.get_head()\n",
    "        # If List is not empty then link head to the\n",
    "        # nextElement of firstElement.\n",
    "        if (first_element is not None):\n",
    "            self.head_node = first_element.next_element\n",
    "            first_element.next_element = None\n",
    "        return\n",
    "\n",
    "    def length(self):\n",
    "        # start from the first element\n",
    "        curr = self.get_head()\n",
    "        length = 0\n",
    "\n",
    "        # Traverse the list and count the number of nodes\n",
    "        while curr is not None:\n",
    "            length += 1\n",
    "            curr = curr.next_element\n",
    "        return length\n",
    "\n",
    "\n",
    "class Node:\n",
    "    def __init__(self, data):\n",
    "        self.data = data\n",
    "        self.next_element = None\n"
   ]
  },
  {
   "cell_type": "markdown",
   "id": "ec271d41",
   "metadata": {},
   "source": [
    "# 1. Insert at tail"
   ]
  },
  {
   "cell_type": "code",
   "execution_count": 16,
   "id": "9d2aaf50",
   "metadata": {},
   "outputs": [],
   "source": [
    "def insert_at_tail(lst, value):\n",
    "    # Write - Your - Code\n",
    "    new_node = Node(value)\n",
    "\n",
    "    if lst.get_head() is None:\n",
    "        lst.head_node = new_node\n",
    "        return\n",
    "    \n",
    "    temp = lst.get_head()\n",
    "\n",
    "    while temp.next_element:\n",
    "        temp = temp.next_element\n",
    "    \n",
    "    temp.next_element = new_node\n",
    "\n",
    "    return"
   ]
  },
  {
   "cell_type": "code",
   "execution_count": 17,
   "id": "f912b8f8",
   "metadata": {},
   "outputs": [
    {
     "name": "stdout",
     "output_type": "stream",
     "text": [
      "List is Empty\n",
      "0 -> None\n",
      "0 -> 1 -> None\n",
      "0 -> 1 -> 2 -> None\n",
      "0 -> 1 -> 2 -> 3 -> None\n"
     ]
    },
    {
     "data": {
      "text/plain": [
       "True"
      ]
     },
     "execution_count": 17,
     "metadata": {},
     "output_type": "execute_result"
    }
   ],
   "source": [
    "lst = LinkedList()\n",
    "lst.print_list()\n",
    "insert_at_tail(lst, 0)\n",
    "lst.print_list()\n",
    "insert_at_tail(lst, 1)\n",
    "lst.print_list()\n",
    "insert_at_tail(lst, 2)\n",
    "lst.print_list()\n",
    "insert_at_tail(lst, 3)\n",
    "lst.print_list()\n"
   ]
  },
  {
   "cell_type": "markdown",
   "id": "aa8905a5",
   "metadata": {},
   "source": [
    "# 2. Search in linked list"
   ]
  },
  {
   "cell_type": "code",
   "execution_count": 20,
   "id": "6a57ef62",
   "metadata": {},
   "outputs": [],
   "source": [
    "def search(lst, value):\n",
    "    # Write your code here\n",
    "    temp = lst.get_head()\n",
    "\n",
    "    while temp:\n",
    "        if temp.data == value:\n",
    "            return True\n",
    "        temp = temp.next_element\n",
    "    \n",
    "    return False\n"
   ]
  },
  {
   "cell_type": "code",
   "execution_count": 21,
   "id": "866b2d86",
   "metadata": {},
   "outputs": [
    {
     "name": "stdout",
     "output_type": "stream",
     "text": [
      "5 -> 40 -> 10 -> 4 -> None\n",
      "True\n"
     ]
    }
   ],
   "source": [
    "\n",
    "lst = LinkedList()\n",
    "lst.insert_at_head(4)\n",
    "lst.insert_at_head(10)\n",
    "lst.insert_at_head(40)\n",
    "lst.insert_at_head(5)\n",
    "lst.print_list()\n",
    "print(search(lst, 4))"
   ]
  },
  {
   "cell_type": "markdown",
   "id": "65c27fef",
   "metadata": {},
   "source": [
    "# 3. Length of linked list"
   ]
  },
  {
   "cell_type": "code",
   "execution_count": 23,
   "id": "2627d68f",
   "metadata": {},
   "outputs": [],
   "source": [
    "def length(lst):\n",
    "    # Write - Your - Code\n",
    "    curr = lst.get_head()\n",
    "\n",
    "\n",
    "    length = 0\n",
    "\n",
    "    while curr:\n",
    "        length += 1\n",
    "        curr = curr.next_element\n",
    "    \n",
    "    return length"
   ]
  },
  {
   "cell_type": "code",
   "execution_count": 24,
   "id": "3524c4eb",
   "metadata": {},
   "outputs": [
    {
     "name": "stdout",
     "output_type": "stream",
     "text": [
      "5\n"
     ]
    }
   ],
   "source": [
    "lst = LinkedList()\n",
    "lst.insert_at_head(4)\n",
    "lst.insert_at_head(3)\n",
    "lst.insert_at_head(2)\n",
    "lst.insert_at_head(1)\n",
    "lst.insert_at_head(0)\n",
    "print(length(lst))\n"
   ]
  },
  {
   "cell_type": "markdown",
   "id": "89601500",
   "metadata": {},
   "source": [
    "# 4. Reverse a linked list"
   ]
  },
  {
   "cell_type": "code",
   "execution_count": 26,
   "id": "ae417c0a",
   "metadata": {},
   "outputs": [],
   "source": [
    "def reverse(lst):\n",
    "    # Write your code here\n",
    "    curr = lst.get_head()\n",
    "    prev = None\n",
    "\n",
    "    while curr:\n",
    "        nextTmp = curr.next_element\n",
    "        curr.next_element = prev\n",
    "        prev = curr\n",
    "        curr = nextTmp\n",
    "\n",
    "        lst.head_node = prev\n",
    "\n",
    "    return lst"
   ]
  },
  {
   "cell_type": "code",
   "execution_count": 27,
   "id": "76f6d56f",
   "metadata": {},
   "outputs": [
    {
     "name": "stdout",
     "output_type": "stream",
     "text": [
      "10 -> 9 -> 4 -> 6 -> None\n",
      "6 -> 4 -> 9 -> 10 -> None\n"
     ]
    },
    {
     "data": {
      "text/plain": [
       "True"
      ]
     },
     "execution_count": 27,
     "metadata": {},
     "output_type": "execute_result"
    }
   ],
   "source": [
    "lst = LinkedList()\n",
    "lst.insert_at_head(6)\n",
    "lst.insert_at_head(4)\n",
    "lst.insert_at_head(9)\n",
    "lst.insert_at_head(10)\n",
    "lst.print_list()\n",
    "\n",
    "reverse(lst)\n",
    "lst.print_list()"
   ]
  },
  {
   "cell_type": "markdown",
   "id": "2b98594d",
   "metadata": {},
   "source": [
    "# 5. Detect cycle in linked list"
   ]
  },
  {
   "cell_type": "code",
   "execution_count": 28,
   "id": "0350f130",
   "metadata": {},
   "outputs": [],
   "source": [
    "def detect_loop(lst):\n",
    "    # Write your code here\n",
    "    curr = lst.get_head()\n",
    "    tortoise = curr\n",
    "    hare = curr\n",
    "\n",
    "    while hare is not None and hare.next_element is not None:\n",
    "        tortoise = tortoise.next_element\n",
    "        hare = hare.next_element.next_element\n",
    "\n",
    "        if tortoise == hare:\n",
    "            return True\n",
    "    return False\n"
   ]
  },
  {
   "cell_type": "code",
   "execution_count": 29,
   "id": "d1224c1f",
   "metadata": {},
   "outputs": [
    {
     "name": "stdout",
     "output_type": "stream",
     "text": [
      "True\n"
     ]
    }
   ],
   "source": [
    "lst = LinkedList()\n",
    "\n",
    "lst.insert_at_head(21)\n",
    "lst.insert_at_head(14)\n",
    "lst.insert_at_head(7)\n",
    "\n",
    "# Adding a loop\n",
    "head = lst.get_head()\n",
    "node = lst.get_head()\n",
    "\n",
    "for i in range(4):\n",
    "    if node.next_element is None:\n",
    "        node.next_element = head.next_element\n",
    "        break\n",
    "    node = node.next_element\n",
    "\n",
    "print(detect_loop(lst))"
   ]
  },
  {
   "cell_type": "markdown",
   "id": "5a33858a",
   "metadata": {},
   "source": [
    "# 6. Find middle of linked list"
   ]
  },
  {
   "cell_type": "code",
   "execution_count": 30,
   "id": "a96d279c",
   "metadata": {},
   "outputs": [],
   "source": [
    "class Solution:\n",
    "    def middleNode(self, head):\n",
    "        slow = fast = head\n",
    "        while fast and fast.next:\n",
    "            slow = slow.next\n",
    "            fast = fast.next.next\n",
    "        return slow"
   ]
  },
  {
   "cell_type": "markdown",
   "id": "d22e3438",
   "metadata": {},
   "source": [
    "# 7. Delete duplicates"
   ]
  },
  {
   "cell_type": "code",
   "execution_count": 31,
   "id": "03879eee",
   "metadata": {},
   "outputs": [],
   "source": [
    "def deleteDuplicates(head):\n",
    "    if not head:\n",
    "        return None\n",
    "    \n",
    "    curr = head\n",
    "    \n",
    "    while curr is not None and curr.next is not None:\n",
    "        if curr.val == curr.next.val:\n",
    "            curr.next = curr.next.next\n",
    "        else:\n",
    "            curr = curr.next\n",
    "    return head"
   ]
  },
  {
   "cell_type": "markdown",
   "id": "87ca230a",
   "metadata": {},
   "source": [
    "# C) Stacks and Queue\n",
    "\n",
    "# 1. Evaluate Reverse Polish Notation\n",
    "\n",
    "https://leetcode.com/problems/evaluate-reverse-polish-notation/"
   ]
  },
  {
   "cell_type": "code",
   "execution_count": 32,
   "id": "4fb8e90b",
   "metadata": {},
   "outputs": [],
   "source": [
    "def evalRPN(tokens):\n",
    "    stack = []\n",
    "\n",
    "    for token in tokens:\n",
    "\n",
    "        if token not in '+-*/':\n",
    "            stack.append(int(token))\n",
    "            continue\n",
    "\n",
    "        number_2 = stack.pop()\n",
    "        number_1 = stack.pop()\n",
    "\n",
    "        result = 0\n",
    "\n",
    "        if token == '+':\n",
    "            result = number_1 + number_2\n",
    "        elif token == '-':\n",
    "            result = number_1 - number_2\n",
    "        elif token == '*':\n",
    "            result = number_1 * number_2\n",
    "        else:\n",
    "            result = int(number_1 / number_2)\n",
    "\n",
    "        stack.append(result)\n",
    "\n",
    "    return stack.pop()"
   ]
  },
  {
   "cell_type": "code",
   "execution_count": 33,
   "id": "ed385b1c",
   "metadata": {},
   "outputs": [
    {
     "data": {
      "text/plain": [
       "9"
      ]
     },
     "execution_count": 33,
     "metadata": {},
     "output_type": "execute_result"
    }
   ],
   "source": [
    "tokens = [\"2\",\"1\",\"+\",\"3\",\"*\"]\n",
    "\n",
    "evalRPN(tokens)"
   ]
  },
  {
   "cell_type": "markdown",
   "id": "8ddadb2d",
   "metadata": {},
   "source": [
    "# 2. Next Greater Element \n",
    "\n",
    "(Variation of previously done problem)\n",
    "\n",
    "https://leetcode.com/problems/next-greater-element-ii/"
   ]
  },
  {
   "cell_type": "code",
   "execution_count": 36,
   "id": "08804cbe",
   "metadata": {},
   "outputs": [],
   "source": [
    "# REMEMBER: this solution works for circular ones. Like for the last 3, circularly, the next greater element is \n",
    "# 4. If we want -1 for the last 3, see the below method\n",
    "def nextGreaterElements(nums):\n",
    "    n = len(nums)\n",
    "    result = [-1] * n\n",
    "    stack = nums[::-1]\n",
    "    \n",
    "    for i in range(n-1, -1, -1):\n",
    "        while len(stack) > 0 and stack[-1] <= nums[i]:\n",
    "            stack.pop()\n",
    "        \n",
    "        if stack:\n",
    "            result[i] = stack[-1]\n",
    "        \n",
    "        stack.append(nums[i])\n",
    "    \n",
    "    return result"
   ]
  },
  {
   "cell_type": "code",
   "execution_count": 35,
   "id": "37d4efa2",
   "metadata": {},
   "outputs": [
    {
     "data": {
      "text/plain": [
       "[2, 3, 4, -1, 4]"
      ]
     },
     "execution_count": 35,
     "metadata": {},
     "output_type": "execute_result"
    }
   ],
   "source": [
    "nums = [1,2,3,4,3]\n",
    "\n",
    "nextGreaterElements(nums)"
   ]
  },
  {
   "cell_type": "code",
   "execution_count": 37,
   "id": "d8802f70",
   "metadata": {},
   "outputs": [],
   "source": [
    "def nextGreaterElements(nums):\n",
    "    n = len(nums)\n",
    "    result = [-1] * n\n",
    "    stack = []\n",
    "    \n",
    "    for i in range(n-1, -1, -1):\n",
    "        while len(stack) > 0 and stack[-1] <= nums[i]:\n",
    "            stack.pop()\n",
    "        \n",
    "        if stack:\n",
    "            result[i] = stack[-1]\n",
    "        \n",
    "        stack.append(nums[i])\n",
    "    \n",
    "    return result"
   ]
  },
  {
   "cell_type": "code",
   "execution_count": 38,
   "id": "2e5650b4",
   "metadata": {},
   "outputs": [
    {
     "data": {
      "text/plain": [
       "[2, 3, 4, -1, -1]"
      ]
     },
     "execution_count": 38,
     "metadata": {},
     "output_type": "execute_result"
    }
   ],
   "source": [
    "nums = [1,2,3,4,3]\n",
    "\n",
    "nextGreaterElements(nums)"
   ]
  },
  {
   "cell_type": "markdown",
   "id": "261b84a6",
   "metadata": {},
   "source": [
    "# D) Trees\n",
    "\n",
    "# 1. Identical trees"
   ]
  },
  {
   "cell_type": "code",
   "execution_count": 39,
   "id": "8fa355b9",
   "metadata": {},
   "outputs": [],
   "source": [
    "def are_identical(root1, root2):\n",
    "    # TODO: Write - Your - Code\n",
    "    if not root1 and not root2:\n",
    "        return True\n",
    "    if not root1 or not root2:\n",
    "        return False\n",
    "    if root1.data != root2.data:\n",
    "        return False\n",
    "    return are_identical(root1.left, root2.left) \\\n",
    "        and are_identical(root1.right, root2.right) "
   ]
  },
  {
   "cell_type": "markdown",
   "id": "78b72e1a",
   "metadata": {},
   "source": [
    "# 2. In order"
   ]
  },
  {
   "cell_type": "code",
   "execution_count": 40,
   "id": "276f9d0b",
   "metadata": {},
   "outputs": [],
   "source": [
    "def inorderTraversal(root):\n",
    "    if root is None:\n",
    "        return\n",
    "    \n",
    "    result = []\n",
    "    \n",
    "    def dfsInOrder(node, result):\n",
    "        if node.left is not None:\n",
    "            dfsInOrder(node.left, result)\n",
    "        \n",
    "        result.append(node.val)\n",
    "        \n",
    "        if node.right is not None:\n",
    "            dfsInOrder(node.right, result)\n",
    "    \n",
    "    dfsInOrder(root)\n",
    "    return result"
   ]
  },
  {
   "cell_type": "markdown",
   "id": "6cbe8b0d",
   "metadata": {},
   "source": [
    "# 3. InOrder successor of a binary tree - IMP\n",
    "\n",
    "https://leetcode.com/problems/inorder-successor-in-bst/solution/\n",
    "\n"
   ]
  },
  {
   "cell_type": "code",
   "execution_count": 2,
   "id": "0e348f63",
   "metadata": {},
   "outputs": [],
   "source": [
    "def inorderSuccessor(root, p):\n",
    "    if root is None:\n",
    "        return \n",
    "\n",
    "    successor = None\n",
    "\n",
    "    while root:\n",
    "        if p.val >= root.val:\n",
    "            root = root.right\n",
    "        else:\n",
    "            successor = root\n",
    "            root = root.left\n",
    "\n",
    "    return successor"
   ]
  },
  {
   "cell_type": "markdown",
   "id": "e362b2c7",
   "metadata": {},
   "source": [
    "# 4. In order successor with parent pointers"
   ]
  },
  {
   "cell_type": "code",
   "execution_count": 3,
   "id": "9e40a801",
   "metadata": {},
   "outputs": [],
   "source": [
    "def inorderSuccessor(node):\n",
    "    if node.right:\n",
    "        node = node.right\n",
    "        while node.left:\n",
    "            node = node.left\n",
    "        return node\n",
    "\n",
    "    while node.parent and node == node.parent.right:\n",
    "        node = node.parent\n",
    "    return node.parent"
   ]
  },
  {
   "cell_type": "markdown",
   "id": "f9927ce2",
   "metadata": {},
   "source": [
    "# 5. Level order of a binary tree"
   ]
  },
  {
   "cell_type": "code",
   "execution_count": 4,
   "id": "b5907be4",
   "metadata": {},
   "outputs": [],
   "source": [
    "def levelOrder(root):\n",
    "    \n",
    "    if root is None:\n",
    "        return None\n",
    "    \n",
    "    result = []\n",
    "    \n",
    "    queue = [root]\n",
    "    \n",
    "    while len(queue) > 0:\n",
    "        queue_length = len(queue)\n",
    "        currentLevelValues = []\n",
    "        counter = 0\n",
    "        \n",
    "        while counter < queue_length:\n",
    "            currNode = queue.pop(0)\n",
    "            currentLevelValues.append(currNode.val)\n",
    "            \n",
    "            if currNode.left is not None:\n",
    "                queue.append(currNode.left)\n",
    "            \n",
    "            if currNode.right is not None:\n",
    "                queue.append(currNode.right)\n",
    "            \n",
    "            counter += 1\n",
    "        result.append(currentLevelValues)\n",
    "    return result"
   ]
  },
  {
   "cell_type": "markdown",
   "id": "777b5713",
   "metadata": {},
   "source": [
    "# 6. Level Averages in a Binary Tree"
   ]
  },
  {
   "cell_type": "code",
   "execution_count": 10,
   "id": "4dde6f10",
   "metadata": {},
   "outputs": [],
   "source": [
    "def levelAverages(root):\n",
    "    if root is None:\n",
    "        return None\n",
    "    \n",
    "    result = []\n",
    "    \n",
    "    queue = [root]\n",
    "    \n",
    "    while queue:\n",
    "        queue_length = len(queue)\n",
    "        currentLevelValues = []\n",
    "        counter = 0\n",
    "        \n",
    "        while counter < queue_length:\n",
    "            currNode = queue.pop(0)\n",
    "            currentLevelValues.append(currNode.val)\n",
    "            \n",
    "            if currNode.left is not None:\n",
    "                queue.append(currNode.left)\n",
    "            \n",
    "            if currNode.right is not None:\n",
    "                queue.append(currNode.right)\n",
    "            \n",
    "            counter += 1\n",
    "        result.append(currentLevelValues)\n",
    "    \n",
    "    averages = []\n",
    "    \n",
    "    for nums in result:\n",
    "        averages.append((sum(nums))/len(nums))\n",
    "    \n",
    "    return averages"
   ]
  },
  {
   "cell_type": "markdown",
   "id": "f2160d1a",
   "metadata": {},
   "source": [
    "# 7. Level order successor of a binary tree"
   ]
  },
  {
   "cell_type": "code",
   "execution_count": 13,
   "id": "be5b0c14",
   "metadata": {},
   "outputs": [],
   "source": [
    "def find_successor(root, key):\n",
    "    # TODO: Write your code here\n",
    "    if root is None:\n",
    "        return None\n",
    "\n",
    "    elif root == key:\n",
    "        if root.left:\n",
    "            return root.left\n",
    "        elif root.right:\n",
    "            return root.right\n",
    "        else:\n",
    "            return None\n",
    "\n",
    "    queue = [root]\n",
    "\n",
    "    while queue:\n",
    "        currNode = queue.pop(0)\n",
    "\n",
    "        if currNode.left is not None:\n",
    "            queue.append(currNode.left)\n",
    "\n",
    "        if currNode.right is not None:\n",
    "            queue.append(currNode.right)\n",
    "\n",
    "        if currNode == key:\n",
    "            break\n",
    "\n",
    "    return queue[0] if queue else None\n"
   ]
  },
  {
   "cell_type": "markdown",
   "id": "0ab27eef",
   "metadata": {},
   "source": [
    "# 8. Zigzag traversal"
   ]
  },
  {
   "cell_type": "code",
   "execution_count": 14,
   "id": "328f4945",
   "metadata": {},
   "outputs": [],
   "source": [
    "def traverse(root):\n",
    "    if root is None:\n",
    "        return None\n",
    "    \n",
    "    result = []\n",
    "    \n",
    "    queue = [root]\n",
    "    \n",
    "    while queue:\n",
    "        queue_length = len(queue)\n",
    "        currentLevelValues = []\n",
    "        counter = 0\n",
    "        \n",
    "        while counter < queue_length:\n",
    "            currNode = queue.pop(0)\n",
    "            currentLevelValues.append(currNode.val)\n",
    "            \n",
    "            if currNode.left is not None:\n",
    "                queue.append(currNode.left)\n",
    "            \n",
    "            if currNode.right is not None:\n",
    "                queue.append(currNode.right)\n",
    "            \n",
    "            counter += 1\n",
    "        result.append(currentLevelValues)\n",
    "    \n",
    "    for i, nums in enumerate(result):\n",
    "        if i % 2 != 0:\n",
    "            result[i] = result[i][::-1]\n",
    "    \n",
    "    return result"
   ]
  },
  {
   "cell_type": "markdown",
   "id": "f64f9132",
   "metadata": {},
   "source": [
    "# 9. Populating Next Right Pointers in Each Node\n",
    "\n",
    "https://leetcode.com/problems/populating-next-right-pointers-in-each-node/"
   ]
  },
  {
   "cell_type": "code",
   "execution_count": 15,
   "id": "e557cd01",
   "metadata": {},
   "outputs": [],
   "source": [
    "def connect(root):\n",
    "    if not root:\n",
    "        return None\n",
    "    \n",
    "    queue = [root]\n",
    "    \n",
    "    while queue:\n",
    "        queue_length = len(queue)\n",
    "        \n",
    "        for i in range(queue_length):\n",
    "            currNode = queue.pop(0)\n",
    "            \n",
    "            if i < queue_length - 1:\n",
    "                currNode.next = queue[0]\n",
    "            \n",
    "            if currNode.left is not None:\n",
    "                queue.append(currNode.left)\n",
    "            \n",
    "            if currNode.right is not None:\n",
    "                queue.append(currNode.right)\n",
    "            \n",
    "    return root"
   ]
  },
  {
   "cell_type": "markdown",
   "id": "1dd6b74c",
   "metadata": {},
   "source": [
    "# 10. Validate binary search tree"
   ]
  },
  {
   "cell_type": "code",
   "execution_count": 17,
   "id": "79e38491",
   "metadata": {},
   "outputs": [],
   "source": [
    "import math\n",
    "\n",
    "def isValidBST(root):\n",
    "    \n",
    "    def validate(node, low=-math.inf, high=math.inf):\n",
    "        if not node:\n",
    "            return True\n",
    "        if node.val <= low or node.val >= high:\n",
    "            return False\n",
    "        return validate(node.right, node.val, high) and validate(node.left, low, node.val)\n",
    "    \n",
    "    return validate(root)"
   ]
  },
  {
   "cell_type": "markdown",
   "id": "e1f3b965",
   "metadata": {},
   "source": [
    "# 11. Perimeter of binary tree"
   ]
  },
  {
   "cell_type": "code",
   "execution_count": 18,
   "id": "2a06e26e",
   "metadata": {},
   "outputs": [],
   "source": [
    "def boundaryOfBinaryTree(self, root):\n",
    "    def dfs_leftmost(node):\n",
    "        if not node or not node.left and not node.right:\n",
    "            return\n",
    "        boundary.append(node.val)\n",
    "        if node.left:\n",
    "            dfs_leftmost(node.left)\n",
    "        else:\n",
    "            dfs_leftmost(node.right)\n",
    "\n",
    "    def dfs_leaves(node):\n",
    "        if not node:\n",
    "            return\n",
    "        dfs_leaves(node.left)\n",
    "        if node != root and not node.left and not node.right:\n",
    "            boundary.append(node.val)\n",
    "        dfs_leaves(node.right)\n",
    "\n",
    "    def dfs_rightmost(node):\n",
    "        if not node or not node.left and not node.right:\n",
    "            return\n",
    "        if node.right:\n",
    "            dfs_rightmost(node.right)\n",
    "        else:\n",
    "            dfs_rightmost(node.left)\n",
    "        boundary.append(node.val)\n",
    "\n",
    "    if not root:\n",
    "        return []\n",
    "    boundary = [root.val]\n",
    "    dfs_leftmost(root.left)\n",
    "    dfs_leaves(root)\n",
    "    dfs_rightmost(root.right)\n",
    "    return boundary"
   ]
  },
  {
   "cell_type": "markdown",
   "id": "251352b5",
   "metadata": {},
   "source": [
    "# 12. Connect All Siblings of a Binary Tree"
   ]
  },
  {
   "cell_type": "code",
   "execution_count": 3,
   "id": "cb8a77b7",
   "metadata": {},
   "outputs": [],
   "source": [
    "def populate_next_node_pointers(node):\n",
    "    \n",
    "    if node:\n",
    "        current = node\n",
    "        last = node\n",
    "        \n",
    "    while current:\n",
    "        if current.left:\n",
    "            last.next = current.left\n",
    "            last = current.left\n",
    "        \n",
    "        if current.right:\n",
    "            last.next = current.right\n",
    "            last = current.right\n",
    "        \n",
    "        last.next = None\n",
    "        \n",
    "        current = current.next\n",
    "    "
   ]
  },
  {
   "cell_type": "markdown",
   "id": "96f54691",
   "metadata": {},
   "source": [
    "# 14. Serialize and deserialize a binary tree"
   ]
  },
  {
   "cell_type": "code",
   "execution_count": 5,
   "id": "659f04ec",
   "metadata": {},
   "outputs": [],
   "source": [
    "def serialize(root):\n",
    "    if not root:\n",
    "        return ''\n",
    "    \n",
    "    queue = [root]\n",
    "    \n",
    "    result = ''\n",
    "    \n",
    "    while queue:\n",
    "        currNode.pop(0)\n",
    "        \n",
    "        if not currNode:\n",
    "            result += 'None,'\n",
    "            continue\n",
    "        \n",
    "        result += str(currNode.val) + ','\n",
    "        queue.append(currNode.left)\n",
    "        queue.append(currNode.right)\n",
    "    return result\n",
    "\n",
    "def deserialize(stream):\n",
    "    if not stream:\n",
    "        return None\n",
    "    \n",
    "    list_string = stream.split(',')\n",
    "    \n",
    "    root = TreeNode(int(list_string[0]))\n",
    "    \n",
    "    queue = [root]\n",
    "    \n",
    "    counter = 1\n",
    "    \n",
    "    while queue and counter < len(list_string):\n",
    "        currNode = queue.pop(0)\n",
    "        if list_string[counter] != 'None':\n",
    "            left = TreeNode(int(list_string[counter]))\n",
    "            currNode.left = left\n",
    "            queue.append(left)\n",
    "        counter += 1\n",
    "        \n",
    "        if list_string[counter] != 'None':\n",
    "            right = TreeNode(int(list_string[counter]))\n",
    "            currNode.right = right\n",
    "            queue.append(right)\n",
    "        counter += 1\n",
    "    return root"
   ]
  },
  {
   "cell_type": "markdown",
   "id": "f39162a4",
   "metadata": {},
   "source": [
    "# 15. Nth Highest Number in Binary Search Tree"
   ]
  },
  {
   "cell_type": "code",
   "execution_count": 7,
   "id": "e5aa4dbb",
   "metadata": {},
   "outputs": [],
   "source": [
    "def find_nth_highest_in_bst(node, n):\n",
    "    \n",
    "    result = []\n",
    "    \n",
    "    def inOrder(node, result):\n",
    "        if node.right is not None:\n",
    "            inOrder(node.right, result)\n",
    "        \n",
    "        result.append(node.val)\n",
    "        \n",
    "        if node.left is not None:\n",
    "            inOrder(node.left, result)\n",
    "            \n",
    "    inOrder(node, result)\n",
    "    \n",
    "    return result[n]"
   ]
  },
  {
   "cell_type": "markdown",
   "id": "d90f85a5",
   "metadata": {},
   "source": [
    "# 16. Mirror binary tree\n",
    "\n",
    "## PostOrder"
   ]
  },
  {
   "cell_type": "code",
   "execution_count": 8,
   "id": "b682a149",
   "metadata": {},
   "outputs": [],
   "source": [
    "def mirror_binary_tree(root):\n",
    "    # TODO: Write - Your - Code\n",
    "    if not root:\n",
    "        return \n",
    "\n",
    "    if root.left:\n",
    "        mirror_binary_tree(root.left)\n",
    "    \n",
    "    if root.right:\n",
    "        mirror_binary_tree(root.right)\n",
    "    \n",
    "    root.left, root.right = root.right, root.left\n",
    "    \n"
   ]
  },
  {
   "cell_type": "markdown",
   "id": "80e8a90e",
   "metadata": {},
   "source": [
    "# 17. Delete zero sum subtree\n",
    "\n",
    "## Post Order"
   ]
  },
  {
   "cell_type": "code",
   "execution_count": 9,
   "id": "203dd701",
   "metadata": {},
   "outputs": [],
   "source": [
    "def delete_zero_sum_subtree(tree):\n",
    "    # TODO: Write - Your - Code\n",
    "    if not tree or not tree.root:\n",
    "        return None\n",
    "\n",
    "    tree_sum = delete_zero_sum_subtree_rec(tree.root)\n",
    "\n",
    "    if tree_sum == 0:\n",
    "        tree.root = None\n",
    "\n",
    "def delete_zero_sum_subtree_rec(root):\n",
    "    if not root:\n",
    "        return 0\n",
    "\n",
    "    left_sum = delete_zero_sum_subtree_rec(root.left)\n",
    "    right_sum = delete_zero_sum_subtree_rec(root.right)\n",
    "\n",
    "    if left_sum == 0:\n",
    "        root.left = None\n",
    "    \n",
    "    if right_sum == 0:\n",
    "        root.right = None\n",
    "    \n",
    "    return (root.data + left_sum + right_sum)"
   ]
  },
  {
   "cell_type": "markdown",
   "id": "12cda4dc",
   "metadata": {},
   "source": [
    "# 18. Minimum depth of a binary tree"
   ]
  },
  {
   "cell_type": "code",
   "execution_count": 2,
   "id": "377615bf",
   "metadata": {},
   "outputs": [],
   "source": [
    "def find_minimum_depth(root):\n",
    "    if not root:\n",
    "        return 0\n",
    "    \n",
    "    children = [root.left, root.right]\n",
    "    \n",
    "    if not any(children):\n",
    "        return 1\n",
    "    \n",
    "    min_depth = float('inf')\n",
    "    \n",
    "    for c in children:\n",
    "        if c:\n",
    "            min_depth = min(min_depth, find_minimum_depth(c))\n",
    "    return min_depth + 1"
   ]
  },
  {
   "cell_type": "markdown",
   "id": "a1613cca",
   "metadata": {},
   "source": [
    "# 19. Path Sum"
   ]
  },
  {
   "cell_type": "code",
   "execution_count": 3,
   "id": "b6e6184c",
   "metadata": {},
   "outputs": [],
   "source": [
    "def hasPathSum(root, targetSum):\n",
    "    if root is None:\n",
    "        return False\n",
    "    \n",
    "    queue = [(root, targetSum - root.val)]\n",
    "    \n",
    "    while queue:\n",
    "        currNode, currSum = queue.pop(0)\n",
    "        \n",
    "        if currSum == 0 and currNode.left is None and currNode.right is None:\n",
    "            return True\n",
    "        \n",
    "        if currNode.left is not None:\n",
    "            queue.append((currNode.left, currSum - currNode.left.val))\n",
    "        \n",
    "        if currNode.right is not None:\n",
    "            queue.append((currNode.right, currSum - currNode.right.val))\n",
    "        \n",
    "    return False"
   ]
  },
  {
   "cell_type": "markdown",
   "id": "2a4a96c6",
   "metadata": {},
   "source": [
    "# 20. Path Sum 2"
   ]
  },
  {
   "cell_type": "code",
   "execution_count": 5,
   "id": "b14d459b",
   "metadata": {},
   "outputs": [],
   "source": [
    "def pathSum(root, targetSum):\n",
    "    allPaths = []\n",
    "    currentPath = []\n",
    "    findPathRecursive(root, targetSum, currentPath, allPaths)\n",
    "    return allPaths\n",
    "\n",
    "def findPathRecursive(currentNode, targetSum, currentPath, allPaths):\n",
    "    if not currentNode:\n",
    "        return\n",
    "    \n",
    "    currentPath.append(currentNode.val)\n",
    "    \n",
    "    if currentNode.val == targetSum and currentNode.left is not None and currentNode.right is not None:\n",
    "        allPaths.append(list(currentPath))\n",
    "    else:\n",
    "        findPathRecursive(currentNode.left, targetSum - currentNode.val, currentPath, allPaths)\n",
    "        findPathRecursive(currentNode.right, targetSum - currentNode.val, currentPath, allPaths)\n",
    "    del currentPath[-1]"
   ]
  },
  {
   "cell_type": "code",
   "execution_count": null,
   "id": "58df5c19",
   "metadata": {},
   "outputs": [],
   "source": []
  }
 ],
 "metadata": {
  "kernelspec": {
   "display_name": "Python 3 (ipykernel)",
   "language": "python",
   "name": "python3"
  },
  "language_info": {
   "codemirror_mode": {
    "name": "ipython",
    "version": 3
   },
   "file_extension": ".py",
   "mimetype": "text/x-python",
   "name": "python",
   "nbconvert_exporter": "python",
   "pygments_lexer": "ipython3",
   "version": "3.8.3"
  }
 },
 "nbformat": 4,
 "nbformat_minor": 5
}
